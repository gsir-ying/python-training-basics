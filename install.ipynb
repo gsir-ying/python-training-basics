{
 "cells": [
  {
   "cell_type": "markdown",
   "metadata": {},
   "source": [
    "# 下载Anaconda、Git、Pycharm\n",
    "\n",
    "- Anaconda - <https://mirrors.tuna.tsinghua.edu.cn/anaconda/archive/>  \n",
    "到清华大学镜像站下载安装包，下载Python3安装程序(`Anaconda3-5.3.1-Windows-x86_64.exe`, 2018年11月期间)。\n",
    "\n",
    "- Git - <https://gitforwindows.org/>  \n",
    "在Windows系统上，需要从Git官网下载符合自身系统的Git安装程序，按照默认参数一路安装即可。\n",
    "\n",
    "- Pycharm <https://www.jetbrains.com/pycharm/>  \n",
    "浏览PyCharm官网找到下载按钮并单击，切换到[下载页面](https://www.jetbrains.com/pycharm/download/)。\n",
    "根据自身操作系统，下载社区版。"
   ]
  }
 ],
 "metadata": {
  "kernelspec": {
   "display_name": "Python 3",
   "language": "python",
   "name": "python3"
  },
  "language_info": {
   "codemirror_mode": {
    "name": "ipython",
    "version": 3
   },
   "file_extension": ".py",
   "mimetype": "text/x-python",
   "name": "python",
   "nbconvert_exporter": "python",
   "pygments_lexer": "ipython3",
   "version": "3.6.4"
  },
  "toc": {
   "base_numbering": 1,
   "nav_menu": {},
   "number_sections": true,
   "sideBar": true,
   "skip_h1_title": false,
   "title_cell": "Table of Contents",
   "title_sidebar": "Contents",
   "toc_cell": false,
   "toc_position": {},
   "toc_section_display": true,
   "toc_window_display": false
  }
 },
 "nbformat": 4,
 "nbformat_minor": 2
}
