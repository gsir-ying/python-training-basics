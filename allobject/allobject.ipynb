{
 "cells": [
  {
   "cell_type": "markdown",
   "metadata": {
    "slideshow": {
     "slide_type": "slide"
    }
   },
   "source": [
    "# 万物皆对象\n",
    "\n",
    "> 千头万绪，终归一理。  \n",
    "> 万理虽只是一理，学者且要去那万理中，千头万绪都理会，四面凑合来，自见得是一理。不去理会那万理，只管去理会那一理，只是空想像。  \n",
    "> 宋·朱熹"
   ]
  },
  {
   "cell_type": "markdown",
   "metadata": {
    "slideshow": {
     "slide_type": "slide"
    }
   },
   "source": [
    "## 函数和面向对象\n",
    "\n",
    "![东坡肉](assets/dongporou.jpg)"
   ]
  },
  {
   "cell_type": "markdown",
   "metadata": {
    "slideshow": {
     "slide_type": "slide"
    }
   },
   "source": [
    "> 黄州好猪肉，价贱如粪土。富者不肯吃，贫者不解煮。  \n",
    "> 慢著火，少著水，火候足时他自美。  \n",
    "> 每日起来打一碗，饱得自家君莫管。  \n",
    ">     苏轼-《食猪肉诗》"
   ]
  },
  {
   "cell_type": "markdown",
   "metadata": {
    "slideshow": {
     "slide_type": "slide"
    }
   },
   "source": [
    "吃红烧肉的两个方法：\n",
    "- 可以照着菜谱做\n",
    "- 请个厨师，由厨师来做。"
   ]
  },
  {
   "cell_type": "markdown",
   "metadata": {
    "slideshow": {
     "slide_type": "slide"
    }
   },
   "source": [
    "Python编程解决问题的两个方法：\n",
    "- 函数 --- 菜谱\n",
    "- 面向对象 --- 厨师"
   ]
  },
  {
   "cell_type": "markdown",
   "metadata": {
    "slideshow": {
     "slide_type": "slide"
    }
   },
   "source": [
    "## 面向对象"
   ]
  },
  {
   "cell_type": "markdown",
   "metadata": {
    "slideshow": {
     "slide_type": "-"
    }
   },
   "source": [
    "### 从羊年说起\n",
    "\n",
    "2015年是中国传统的羊年，全球华人都开开心心地过春节。随着中国影响日益增大，一些老外也想沾沾“洋节”，没成想羊年让英语媒体抓了狂。\n",
    "\n",
    "在英语中，有绵羊（sheep）、山羊（goat）、羔羊（lamb），有角大公羊（ram）等词，但却没有“羊”这个统称名字。\n",
    "\n",
    "于是乎，众说纷纭争论不休，更有人干脆直译为‘有角反刍动物’年(Year of 'any ruminant horned animal')。"
   ]
  },
  {
   "cell_type": "markdown",
   "metadata": {
    "slideshow": {
     "slide_type": "slide"
    }
   },
   "source": [
    "人类语言的进化，反映了对具体事物不断归纳总结，不断抽象的演化过程。\n",
    "\n",
    "> 什么是抽象？  \n",
    "> 抽象是从众多的事物中抽取出共同的、本质性的特征，而舍弃其非本质的特征。一言以蔽之，抽象就是提炼（参见《形象思维在文艺中的作用和思想性》）。   \n",
    "> [百度百科](http://baike.baidu.com/subview/5293/11100825.htm)"
   ]
  },
  {
   "cell_type": "markdown",
   "metadata": {
    "slideshow": {
     "slide_type": "slide"
    }
   },
   "source": [
    "### 对象和类\n",
    "\n",
    "面向对象是对复杂现实世界进行理解和抽象的一种方法，软件开发中的对象不是某个具体的现实世界事物，而是它们的映射或模型。"
   ]
  },
  {
   "cell_type": "markdown",
   "metadata": {
    "slideshow": {
     "slide_type": "slide"
    }
   },
   "source": [
    "面向对象设计中，首先从众多对象中，归纳出相同特性和行为，进而抽象出类。例如在《喜羊羊与灰太狼》中可以抽象并设计出三个类：\n",
    "\n",
    "- 羊类\n",
    "- 狼类\n",
    "- 草类"
   ]
  },
  {
   "cell_type": "markdown",
   "metadata": {
    "slideshow": {
     "slide_type": "slide"
    }
   },
   "source": [
    "下一步，把抽象得到的类再进行实例化，得到多个对象。同一类型的对象则具有相同特性和行为，仅仅值有所不同。\n",
    "\n",
    "* 羊类的对象    \n",
    "喜羊羊、美羊羊、懒羊羊、沸羊羊、暖羊羊、慢羊羊\n",
    "* 狼类的对象    \n",
    "灰太狼、红太狼、小灰灰。\n",
    "* 草原的对象  \n",
    "青青大草原。"
   ]
  },
  {
   "cell_type": "markdown",
   "metadata": {
    "slideshow": {
     "slide_type": "slide"
    }
   },
   "source": [
    "### 为什么要用面向对象？\n",
    "\n",
    "看看老祖宗的智慧就明白了。"
   ]
  },
  {
   "cell_type": "markdown",
   "metadata": {
    "slideshow": {
     "slide_type": "slide"
    }
   },
   "source": [
    "![花馍模子](assets/huamotype.jpg)"
   ]
  },
  {
   "cell_type": "markdown",
   "metadata": {
    "slideshow": {
     "slide_type": "slide"
    }
   },
   "source": [
    "- 模子   vs   类\n",
    "- 花馍   vs   对象"
   ]
  },
  {
   "cell_type": "markdown",
   "metadata": {
    "slideshow": {
     "slide_type": "-"
    }
   },
   "source": [
    "- 制模要花时间，编写类也要花时间\n",
    "- 用模子做花馍省时间，用类创建对象也省时间\n",
    "- 一个模子可以做很多花馍，一个类可以创建无数对象"
   ]
  },
  {
   "cell_type": "markdown",
   "metadata": {
    "slideshow": {
     "slide_type": "slide"
    }
   },
   "source": [
    "## Python中类与函数"
   ]
  },
  {
   "cell_type": "markdown",
   "metadata": {
    "slideshow": {
     "slide_type": "-"
    }
   },
   "source": [
    "### Python内置类型 \n",
    "\n",
    "在Python语言中，万物皆对象，已经内置许多常用基本类型."
   ]
  },
  {
   "cell_type": "markdown",
   "metadata": {
    "collapsed": true,
    "slideshow": {
     "slide_type": "slide"
    }
   },
   "source": [
    "- 数据类类型  \n",
    "整数（int）、布尔数（bool）、浮点数（float）、复数（complex）、空（NoneType）字符串（string）\n",
    "- 结构型类型   \n",
    "列表（list）、元祖（tuple）、集合（set）、字典（dict）    \n",
    "- 函数（function）\n",
    "- 类（class）\n",
    "- 模块（module）"
   ]
  },
  {
   "cell_type": "markdown",
   "metadata": {
    "slideshow": {
     "slide_type": "slide"
    }
   },
   "source": [
    "### 函数与内置函数\n",
    "\n",
    "Python是多范式编程，也包括大量的函数。函数同样是很重要的。"
   ]
  },
  {
   "cell_type": "markdown",
   "metadata": {
    "slideshow": {
     "slide_type": "slide"
    }
   },
   "source": [
    "Python的内置函数有很多，需要慢慢掌握：\n",
    "\n",
    "| 1  | 2 |  3 | 4 | 5  |\n",
    "|:------|:------|:------|:------|:------||\n",
    "| [`abs`](abs.ipynb) | [`all`](all.ipynb) | [`any`](any.ipynb) | [`ascii`](ascii.ipynb) | [`bin`](bin.ipynb) |\n",
    "| [`bool`](bool.ipynb) | [`bytearray`](bytearray.ipynb) | [`bytes`](bytes.ipynb) | [`callable`](callable.ipynb) | [`chr`](chr.ipynb) |\n",
    "| [`classmethod`](classmethod.ipynb) | [`compile`](compile.ipynb) | [`complex`](complex.ipynb) | [`delattr`](delattr.ipynb) | [`dict`](dict.ipynb) |\n",
    "| [`dir`](dir.ipynb) | [`divmod`](divmod.ipynb) | [`enumerate`](enumerate.ipynb) | [`eval`](eval.ipynb) | [`exec`](exec.ipynb) |\n",
    "| [`filter`](filter.ipynb) | [`float`](float.ipynb) | [`format`](format.ipynb) | [`frozenset`](frozenset.ipynb) | [`getattr`](getattr.ipynb) |\n",
    "| [`globals`](globals.ipynb) | [`hasattr`](hasattr.ipynb) | [`hash`](hash.ipynb) | [`help`](help.ipynb) | [`hex`](hex.ipynb) |\n",
    "| [`id`](id.ipynb) | [`input`](input.ipynb) | [`int`](int.ipynb) | [`isinstance`](isinstance.ipynb) | [`issubclass`](issubclass.ipynb) |\n",
    "| [`iter`](iter.ipynb) | [`len`](len.ipynb) | [`list`](list.ipynb) | [`locals`](locals.ipynb) | [`map`](map.ipynb) |\n",
    "| [`max`](max.ipynb) | [`memoryview`](memoryview.ipynb) | [`min`](min.ipynb) | [`next`](next.ipynb) | [`object`](object.ipynb) |\n",
    "| [`oct`](oct.ipynb) | [`open`](open.ipynb) | [`ord`](ord.ipynb) | [`pow`](pow.ipynb) | [`print`](print.ipynb) |\n",
    "| [`property`](property.ipynb) | [`range`](range.ipynb) | [`repr`](repr.ipynb) | [`reversed`](reversed.ipynb) | [`round`](round.ipynb) |\n",
    "| [`set`](set.ipynb) | [`setattr`](setattr.ipynb) | [`slice`](slice.ipynb) | [`sorted`](sorted.ipynb) | [`staticmethod`](staticmethod.ipynb) |\n",
    "| [`str`](str.ipynb) | [`sum`](sum.ipynb) | [`super`](super.ipynb) | [`tuple`](tuple.ipynb) | [`type`](type.ipynb) |\n",
    "| [`vars`](vars.ipynb) | [`zip`](zip.ipynb)|"
   ]
  },
  {
   "cell_type": "markdown",
   "metadata": {
    "slideshow": {
     "slide_type": "slide"
    }
   },
   "source": [
    "## Python对象"
   ]
  },
  {
   "cell_type": "markdown",
   "metadata": {
    "slideshow": {
     "slide_type": "-"
    }
   },
   "source": [
    "### 变量与对象\n",
    "\n",
    "类是对象的抽象、对象是类的实例。在Python世界中创建一个对象有两种方式：\n",
    "\n",
    "* 字面常数（literal constant）\n",
    "\n",
    "* 变量(variable)"
   ]
  },
  {
   "cell_type": "markdown",
   "metadata": {
    "slideshow": {
     "slide_type": "slide"
    }
   },
   "source": [
    "** 字面常数（literal constant）**：\n",
    "\n",
    "* `2`， `-4`， `1024`是整数(int)类型对象；\n",
    "* `5.0`, `-1.6`, `12.3E-4`是浮点数（float）类型对象；\n",
    "* `True`, `False`是布尔类型对象；\n",
    "* 'hello, python!'， 'This is a string'是字符串（str）类型对象。"
   ]
  },
  {
   "cell_type": "markdown",
   "metadata": {
    "slideshow": {
     "slide_type": "slide"
    }
   },
   "source": [
    "**变量**\n",
    "\n",
    "顾名思义，变量既可存储信息，又能进行操作以改变之。本质上，变量就是计算机中所开内存空间的标签（label）。在Python中，使用等号`=`来为一个变量赋值，或者说定义变量。"
   ]
  },
  {
   "cell_type": "markdown",
   "metadata": {
    "slideshow": {
     "slide_type": "slide"
    }
   },
   "source": [
    "可以使用字面常数来定义变量， 例如：\n",
    "\n",
    "```python\n",
    "a = 124\n",
    "```\n",
    "\n",
    "```python\n",
    "s = 'This is a string'\n",
    "```"
   ]
  },
  {
   "cell_type": "markdown",
   "metadata": {
    "slideshow": {
     "slide_type": "slide"
    }
   },
   "source": [
    "也可以使用类构造函数来实现。"
   ]
  },
  {
   "cell_type": "markdown",
   "metadata": {
    "slideshow": {
     "slide_type": "slide"
    }
   },
   "source": [
    "> Warning\n",
    ">\n",
    "> 人非圣贤，Python也会出错。什么是异常？就是Python遇到无法处理的语句，中断跳出。"
   ]
  },
  {
   "cell_type": "markdown",
   "metadata": {
    "slideshow": {
     "slide_type": "slide"
    }
   },
   "source": [
    "如果没有定义变量，那就无法使用该变量。好比是Python世界“黑户”，如果使用Python就会抛出异常(`NameError`)报错。\n",
    "\n",
    "例如打印一个未定义的变量："
   ]
  },
  {
   "cell_type": "code",
   "execution_count": 1,
   "metadata": {
    "slideshow": {
     "slide_type": "slide"
    }
   },
   "outputs": [
    {
     "ename": "NameError",
     "evalue": "name 'noDefinedVariable' is not defined",
     "output_type": "error",
     "traceback": [
      "\u001b[0;31m---------------------------------------------------------------------------\u001b[0m",
      "\u001b[0;31mNameError\u001b[0m                                 Traceback (most recent call last)",
      "\u001b[0;32m<ipython-input-1-6e9ed6d844c1>\u001b[0m in \u001b[0;36m<module>\u001b[0;34m()\u001b[0m\n\u001b[0;32m----> 1\u001b[0;31m \u001b[0mprint\u001b[0m\u001b[0;34m(\u001b[0m\u001b[0mnoDefinedVariable\u001b[0m\u001b[0;34m)\u001b[0m\u001b[0;34m\u001b[0m\u001b[0m\n\u001b[0m",
      "\u001b[0;31mNameError\u001b[0m: name 'noDefinedVariable' is not defined"
     ]
    }
   ],
   "source": [
    "print(noDefinedVariable)"
   ]
  },
  {
   "cell_type": "markdown",
   "metadata": {
    "slideshow": {
     "slide_type": "slide"
    }
   },
   "source": [
    "### 变量命名规则\n",
    "\n",
    "变量名属于标识符（token），其命名规则如下：\n",
    "\n",
    "* 变量名只能包含字母（大写与小写）、数字或下划线(`_`)组成；\n",
    "* 变量名首字符必须是字母或下划线(`_`)，不能以数字开头；\n",
    "* 变量名是大小写敏感；\n",
    "* 不能使用关键词（keywords）。"
   ]
  },
  {
   "cell_type": "markdown",
   "metadata": {
    "slideshow": {
     "slide_type": "slide"
    }
   },
   "source": [
    "关键词是Python语言的保留字。在Python交互模式下，输入如下：\n",
    "```python\n",
    "In [2]: help('keywords')\n",
    "```"
   ]
  },
  {
   "cell_type": "code",
   "execution_count": null,
   "metadata": {
    "slideshow": {
     "slide_type": "slide"
    }
   },
   "outputs": [],
   "source": [
    "help('keywords')"
   ]
  },
  {
   "cell_type": "markdown",
   "metadata": {
    "slideshow": {
     "slide_type": "slide"
    }
   },
   "source": [
    "命名规则不能违反，否则Python派出所不给上户口，Python解释器会抛出语法错误（SyntaxError: invalid syntax）异常报错。"
   ]
  },
  {
   "cell_type": "code",
   "execution_count": null,
   "metadata": {
    "slideshow": {
     "slide_type": "slide"
    }
   },
   "outputs": [],
   "source": [
    "21century = 2000"
   ]
  },
  {
   "cell_type": "code",
   "execution_count": null,
   "metadata": {
    "slideshow": {
     "slide_type": "slide"
    }
   },
   "outputs": [],
   "source": [
    "class = 'first'"
   ]
  },
  {
   "cell_type": "markdown",
   "metadata": {
    "slideshow": {
     "slide_type": "slide"
    }
   },
   "source": [
    "### 内存与对象\n",
    "\n",
    "创建一个对象就是在计算机中开创一块内存空间。"
   ]
  },
  {
   "cell_type": "markdown",
   "metadata": {
    "slideshow": {
     "slide_type": "slide"
    }
   },
   "source": [
    "**动态与强类型（dynamic and  strongly typed） **\n",
    "\n",
    "每个对象都有三个特性：\n",
    "* 类型\n",
    "* 身份标识\n",
    "* 值。"
   ]
  },
  {
   "cell_type": "markdown",
   "metadata": {
    "slideshow": {
     "slide_type": "slide"
    }
   },
   "source": [
    "在Python中对象一旦创建，在其生命周期，类型和身份标识不能改变。"
   ]
  },
  {
   "cell_type": "markdown",
   "metadata": {
    "slideshow": {
     "slide_type": "slide"
    }
   },
   "source": [
    "例如，下面分别创建整数、字符串、列表、字典、函数、模块等对象：\n",
    "```python\n",
    "googol = 10**100                       # an object of int\n",
    "s = 'Hello, IPython'                   # an object of str\n",
    "xlist = [1, 2, 4, 8, 16, 32, 64, 128]  # an object of list\n",
    "xdict = {'Java':99 , 'Python':100}     # an object of dict\n",
    "xfunc = abs                            # an object of built-in function\n",
    "import math                            # an object of module\n",
    "```"
   ]
  },
  {
   "cell_type": "code",
   "execution_count": null,
   "metadata": {
    "slideshow": {
     "slide_type": "slide"
    }
   },
   "outputs": [],
   "source": [
    "googol = 10**100                       # an object of int\n",
    "s = 'Hello, IPython'                   # an object of str\n",
    "xlist = [1, 2, 4, 8, 16, 32, 64, 128]  # an object of list\n",
    "xdict = {'Java':99 , 'Python':100}     # an object of dict\n",
    "xfunc = abs                             # an object of built-in function\n",
    "import math                            # an object of module"
   ]
  },
  {
   "cell_type": "markdown",
   "metadata": {
    "slideshow": {
     "slide_type": "slide"
    }
   },
   "source": [
    "**类型**\n",
    "\n",
    "使用内置函数`type()`查询对象的类型，例如：\n",
    "\n",
    "```python\n",
    "print(type(googol), type(10**100))\n",
    "print(type(s), type('Hello, IPython'))\n",
    "print(type(xlist), type([1, 2, 4, 8, 16, 32, 64, 128]))\n",
    "print(type(xdict), type({'Java':99 , 'Python':100}))\n",
    "print(type(xfunc), type(abs))\n",
    "print(type(math))\n",
    "```"
   ]
  },
  {
   "cell_type": "code",
   "execution_count": null,
   "metadata": {
    "slideshow": {
     "slide_type": "slide"
    }
   },
   "outputs": [],
   "source": [
    "print(type(googol), type(10**100))\n",
    "print(type(s), type('Hello, IPython'))\n",
    "print(type(xlist), type([1, 2, 4, 8, 16, 32, 64, 128]))\n",
    "print(type(xdict), type({'Java':99 , 'Python':100}))\n",
    "print(type(xfunc), type(abs))\n",
    "print(type(math))"
   ]
  },
  {
   "cell_type": "markdown",
   "metadata": {
    "slideshow": {
     "slide_type": "slide"
    }
   },
   "source": [
    "还可以使用内置函数`isinstance()`检查一个对象是否是指定类的实例，返回布尔值结果。"
   ]
  },
  {
   "cell_type": "code",
   "execution_count": null,
   "metadata": {
    "slideshow": {
     "slide_type": "slide"
    }
   },
   "outputs": [],
   "source": [
    "isinstance(googol, str)"
   ]
  },
  {
   "cell_type": "markdown",
   "metadata": {
    "slideshow": {
     "slide_type": "slide"
    }
   },
   "source": [
    "** 身份标示（ID）**\n",
    "\n",
    "对象的身份标识其实就是内存地址，使用`id()`函数返回其值："
   ]
  },
  {
   "cell_type": "code",
   "execution_count": null,
   "metadata": {
    "slideshow": {
     "slide_type": "slide"
    }
   },
   "outputs": [],
   "source": [
    "print(id(googol), id(10**100))\n",
    "print(id(s), id('Hello, IPython'))\n",
    "print(id(xlist), id([1, 2, 4, 8, 16, 32, 64, 128]))\n",
    "print(id(xdict), id({'Java':99 , 'Python':100}))\n",
    "print(id(xfunc), id(abs))\n",
    "print(id(math))"
   ]
  },
  {
   "cell_type": "markdown",
   "metadata": {
    "slideshow": {
     "slide_type": "slide"
    }
   },
   "source": [
    "可以使`is`运算符来比较两个变量两个对象的身份。"
   ]
  },
  {
   "cell_type": "code",
   "execution_count": null,
   "metadata": {
    "slideshow": {
     "slide_type": "slide"
    }
   },
   "outputs": [],
   "source": [
    "s2 = s\n",
    "s2 is s"
   ]
  },
  {
   "cell_type": "code",
   "execution_count": null,
   "metadata": {
    "slideshow": {
     "slide_type": "slide"
    }
   },
   "outputs": [],
   "source": [
    "g1 = 10**100\n",
    "g2 = 10**100\n",
    "g1 is g2"
   ]
  },
  {
   "cell_type": "markdown",
   "metadata": {
    "slideshow": {
     "slide_type": "slide"
    }
   },
   "source": [
    "注意：变量和字面常数的身份标识并不相同，即内存地址并不相同。\n",
    "\n",
    "定义变量时，会先创建一个对象（分配一块内存），然后变量名和该对象引用，引用存在则对象存在。\n",
    "\n",
    "* [Online Python Tutor](http://www.pythontutor.com)  "
   ]
  },
  {
   "cell_type": "markdown",
   "metadata": {
    "slideshow": {
     "slide_type": "slide"
    }
   },
   "source": [
    "** 可变和不可变对象 **\n",
    "\n",
    "对象还有一个值的特性。\n",
    "* 如果对象的值可以修改，则称为可变对象（mutable）；如果进行修改操作则异常报错；\n",
    "* 如果对象的值不可以修改，则称为不可变对象（immutable）。该对象可以通过操作进行改变。"
   ]
  },
  {
   "cell_type": "markdown",
   "metadata": {
    "slideshow": {
     "slide_type": "slide"
    }
   },
   "source": [
    "### 属性与方法\n",
    "\n",
    "类是对象的抽象，对象是类的实例化。创建了对象后，就可以访问和使用对象的属性(attribute)与方法(method)。\n",
    "\n",
    "对象的属性与方法现在有时分的不那么清楚，常常使用属性来混用，还有很多人用成员来混指二者。对象的属性与方法，或者对象的成员的访问使用`.`语法。"
   ]
  },
  {
   "cell_type": "markdown",
   "metadata": {
    "slideshow": {
     "slide_type": "slide"
    }
   },
   "source": [
    "语法`.`：\n",
    "- `.`\n",
    "- 的\n",
    "- の"
   ]
  },
  {
   "cell_type": "markdown",
   "metadata": {
    "slideshow": {
     "slide_type": "slide"
    }
   },
   "source": [
    "例如，假设有一个厨师类`Cooker`，可以用来创建一个张大厨的师傅，然后使用张大厨的制作东坡肉方法来烹制美食，那么其编程语句可写为。\n",
    "```\n",
    "chef_zhang = Cooker()\n",
    "chef_zhang.cook_dongpo_pork(pork)\n",
    "```"
   ]
  },
  {
   "cell_type": "markdown",
   "metadata": {
    "slideshow": {
     "slide_type": "slide"
    }
   },
   "source": [
    "使用内置函数`dir()`可以列出指定对象及所属类的所有特征，按照字母顺序进行排序，并以列表形式返回。"
   ]
  },
  {
   "cell_type": "markdown",
   "metadata": {
    "slideshow": {
     "slide_type": "-"
    }
   },
   "source": [
    "要获得一种类型的对象的特征，可以使用变量、字面常数或类。例如对于整数：\n",
    "例如：\n",
    "```python\n",
    "dir(googol)\n",
    "dir(10**100)\n",
    "dir(int)\n",
    "```\n"
   ]
  },
  {
   "cell_type": "markdown",
   "metadata": {
    "slideshow": {
     "slide_type": "slide"
    }
   },
   "source": [
    "`dir()`函数会列出所有特性，并不区分属性和方法。"
   ]
  },
  {
   "cell_type": "markdown",
   "metadata": {
    "slideshow": {
     "slide_type": "slide"
    }
   },
   "source": [
    "使用`help()`函数，会给出所有属性和特征的帮助说明。"
   ]
  },
  {
   "cell_type": "markdown",
   "metadata": {
    "slideshow": {
     "slide_type": "slide"
    }
   },
   "source": [
    "使用内置函数`hasattr()`来检查对象是否有给定属性，返回布尔值结果。"
   ]
  },
  {
   "cell_type": "markdown",
   "metadata": {
    "slideshow": {
     "slide_type": "slide"
    }
   },
   "source": [
    "### 自省\n",
    "\n",
    "> 吾每遇对象必自省，用变量而知其类乎？用其值而知属性乎？用其法而知方法乎？"
   ]
  },
  {
   "cell_type": "markdown",
   "metadata": {
    "slideshow": {
     "slide_type": "slide"
    }
   },
   "source": [
    "在后续学习过程中，遇到Python的每个对象，期望使用自省的方法来了解，该对象是什么？在内存中如何表示？在CPU中表现如何？都有哪些特征属性与功能方法？如何使用这些属性与方法？这些对象用来解决什么问题。"
   ]
  },
  {
   "cell_type": "markdown",
   "metadata": {
    "slideshow": {
     "slide_type": "slide"
    }
   },
   "source": [
    "## 条件与循环\n",
    "\n",
    "在运行Python代码程序时，Python遵循顺序执行的原则，从上到下逐行读取语句并解释执行。"
   ]
  },
  {
   "cell_type": "code",
   "execution_count": 2,
   "metadata": {
    "slideshow": {
     "slide_type": "-"
    }
   },
   "outputs": [
    {
     "name": "stdout",
     "output_type": "stream",
     "text": [
      "第1行\n",
      "第2行\n",
      "第3行\n"
     ]
    }
   ],
   "source": [
    "print('第1行')\n",
    "print('第2行')\n",
    "print('第3行')"
   ]
  },
  {
   "cell_type": "markdown",
   "metadata": {
    "slideshow": {
     "slide_type": "slide"
    }
   },
   "source": [
    "不过计算机语言提供了条件语句和循环语句，会让计算机变得聪明，实现判断分支、循环、跳转、中断等操作。"
   ]
  },
  {
   "cell_type": "markdown",
   "metadata": {
    "slideshow": {
     "slide_type": "slide"
    }
   },
   "source": [
    "### 条件语句\n",
    "\n",
    "**木兰花慢·可怜今夕月  (辛弃疾)**\n",
    "\n",
    "> 中秋饮酒将旦，客谓前人诗词有赋待月无送月者，因用《天问》体赋。\n",
    "\n",
    "> 可怜今夕月，向何处，去悠悠？是别有人间，那边才见，光影东头？是天外。空汗漫，但长风浩浩送中秋？飞镜无根谁系？姮娥不嫁谁留？\n",
    "\n",
    "> 谓经海底问无由，恍惚使人愁。怕万里长鲸，纵横触破，玉殿琼楼。虾蟆故堪浴水，问云何玉兔解沉浮？若道都齐无恙，云何渐渐如钩？"
   ]
  },
  {
   "cell_type": "markdown",
   "metadata": {
    "slideshow": {
     "slide_type": "slide"
    }
   },
   "source": [
    "使用`if`与`else`语句就可以实现流程的两个分支，语法为：\n",
    "```\n",
    "if condition:\n",
    "    statement(s) of if\n",
    "else:\n",
    "    statement(s) of else\n",
    "```"
   ]
  },
  {
   "cell_type": "markdown",
   "metadata": {
    "slideshow": {
     "slide_type": "slide"
    }
   },
   "source": [
    "### 循环语句\n",
    "\n",
    "有时候，需要循环多次来运行指定语句块，可以使用循环语句。"
   ]
  },
  {
   "cell_type": "markdown",
   "metadata": {
    "slideshow": {
     "slide_type": "slide"
    }
   },
   "source": [
    "`for`循环的语法为：\n",
    "```\n",
    "for <variable> in <sequence>:\n",
    "    <statement(s)>\n",
    "```"
   ]
  },
  {
   "cell_type": "code",
   "execution_count": 4,
   "metadata": {
    "slideshow": {
     "slide_type": "-"
    }
   },
   "outputs": [
    {
     "name": "stdout",
     "output_type": "stream",
     "text": [
      "0\n",
      "1\n",
      "2\n",
      "3\n",
      "4\n"
     ]
    }
   ],
   "source": [
    "for i in range(5):\n",
    "    print(i)"
   ]
  },
  {
   "cell_type": "markdown",
   "metadata": {
    "slideshow": {
     "slide_type": "slide"
    }
   },
   "source": [
    "## 从一行语句到千万行语句\n",
    "\n",
    "> 合抱之木，生于毫末；   \n",
    "> 九层之台，起于垒土；  \n",
    "> 千里之行，始于足下。"
   ]
  },
  {
   "cell_type": "markdown",
   "metadata": {
    "slideshow": {
     "slide_type": "slide"
    }
   },
   "source": [
    "## 函数与面向对象\n",
    "\n",
    "为了吃到东坡肉，可以使用菜谱和厨师两种办法。在Python中也是如此，有函数和面向对象两种方法。而要学好Python，就要同时掌握函数和面向对象两种方法。为此需要学习很多函数，同时也要学习很多类以及对象。"
   ]
  },
  {
   "cell_type": "markdown",
   "metadata": {
    "slideshow": {
     "slide_type": "-"
    }
   },
   "source": [
    "例如，如果用Python解放台湾，那么有两种方法：\n",
    "- 函数的方法\n",
    "- 面向对象的方法"
   ]
  },
  {
   "cell_type": "markdown",
   "metadata": {
    "slideshow": {
     "slide_type": "slide"
    }
   },
   "source": [
    "### 函数解决方法\n",
    "\n",
    "```\n",
    "cook_dongpo_pork(pork)\n",
    "```"
   ]
  },
  {
   "cell_type": "markdown",
   "metadata": {
    "slideshow": {
     "slide_type": "slide"
    }
   },
   "source": [
    "### 面向对象的方法\n",
    "\n",
    "例如，假设有一个厨师类`Cooker`，可以用来创建一个张大厨的师傅，然后使用张大厨的制作东坡肉方法来烹制美食，那么其编程语句可写为。\n",
    "```\n",
    "chef_zhang = Cooker('zhang')\n",
    "chef_zhang.cook_dongpo_pork(pork)\n",
    "```"
   ]
  },
  {
   "cell_type": "markdown",
   "metadata": {
    "slideshow": {
     "slide_type": "slide"
    }
   },
   "source": [
    "使用Python来解决任务的流程就是，首先去寻找能够解决问题的已有函数或类，然后解决问题；如果没有的话，自己要创建方法或类，然后来解决问题。"
   ]
  },
  {
   "cell_type": "markdown",
   "metadata": {
    "slideshow": {
     "slide_type": "slide"
    }
   },
   "source": [
    "## 小结\n",
    "\n",
    "要学好Python，需要认识很多菜谱以及很多类型的厨师；实在不行还得自己会写菜谱或制作厨师类。"
   ]
  }
 ],
 "metadata": {
  "celltoolbar": "Slideshow",
  "kernelspec": {
   "display_name": "Python 3",
   "language": "python",
   "name": "python3"
  },
  "language_info": {
   "codemirror_mode": {
    "name": "ipython",
    "version": 3
   },
   "file_extension": ".py",
   "mimetype": "text/x-python",
   "name": "python",
   "nbconvert_exporter": "python",
   "pygments_lexer": "ipython3",
   "version": "3.6.4"
  },
  "toc": {
   "base_numbering": 1,
   "nav_menu": {},
   "number_sections": true,
   "sideBar": true,
   "skip_h1_title": false,
   "title_cell": "Table of Contents",
   "title_sidebar": "Contents",
   "toc_cell": false,
   "toc_position": {
    "height": "calc(100% - 180px)",
    "left": "10px",
    "top": "150px",
    "width": "253px"
   },
   "toc_section_display": true,
   "toc_window_display": false
  }
 },
 "nbformat": 4,
 "nbformat_minor": 1
}
