{
 "cells": [
  {
   "cell_type": "markdown",
   "metadata": {
    "slideshow": {
     "slide_type": "slide"
    }
   },
   "source": [
    "# 推导式（comprehensions）\n",
    "\n",
    "推导式是Python的一种独有特性。简单地说是一种轻量级循环，可以从一个数据序列构建另一个新的数据序列。总共有三种推导式：\n",
    "- 列表推导式（list comprehension）\n",
    "- 字典推导式（dict comprehension）\n",
    "- 集合推导式（set comprehension）"
   ]
  },
  {
   "cell_type": "markdown",
   "metadata": {
    "slideshow": {
     "slide_type": "slide"
    }
   },
   "source": [
    "## 笨拙的`for`循环\n",
    "\n",
    "在工作中经常有这样的应用场景，已经存在一个序列，需要编列这个序列，对每个元素进行运算，并把运算结果组成一个新的序列。"
   ]
  },
  {
   "cell_type": "markdown",
   "metadata": {
    "slideshow": {
     "slide_type": "slide"
    }
   },
   "source": [
    "例如，已存在一个数字序列，希望对序列的每个数字求平方，并创建新的序列。"
   ]
  },
  {
   "cell_type": "code",
   "execution_count": 1,
   "metadata": {
    "slideshow": {
     "slide_type": "-"
    }
   },
   "outputs": [
    {
     "name": "stdout",
     "output_type": "stream",
     "text": [
      "[100, 225, 400, 625, 900, 1225, 1600, 2025, 2500, 3025, 3600, 4225, 4900, 5625, 6400, 9025, 8100, 9025]\n"
     ]
    }
   ],
   "source": [
    "result_list = []\n",
    "xs = (10, 15, 20, 25, 30, 35, 40, 45, 50, 55, 60, 65, 70, 75, 80, 95, 90, 95)\n",
    "for i in xs:\n",
    "    result_list.append(i * i)\n",
    "\n",
    "print(result_list)   "
   ]
  },
  {
   "cell_type": "markdown",
   "metadata": {
    "slideshow": {
     "slide_type": "slide"
    }
   },
   "source": [
    "有时候，还需要做个判断，仅对符合条件的元素进行处理。"
   ]
  },
  {
   "cell_type": "code",
   "execution_count": 2,
   "metadata": {
    "slideshow": {
     "slide_type": "-"
    }
   },
   "outputs": [
    {
     "name": "stdout",
     "output_type": "stream",
     "text": [
      "[225, 625, 1225, 2025, 3025, 4225, 5625, 9025, 9025]\n"
     ]
    }
   ],
   "source": [
    "result_list = []\n",
    "xs = (10, 15, 20, 25, 30, 35, 40, 45, 50, 55, 60, 65, 70, 75, 80, 95, 90, 95)\n",
    "for i in xs:\n",
    "    if i % 10 != 0:\n",
    "        result_list.append(i * i)\n",
    "\n",
    "print(result_list)   "
   ]
  },
  {
   "cell_type": "markdown",
   "metadata": {
    "slideshow": {
     "slide_type": "slide"
    }
   },
   "source": [
    "类似这类简单的循环，Python提供推导式特性予以处理，可以更简单优雅，而且速度更快。"
   ]
  },
  {
   "cell_type": "markdown",
   "metadata": {
    "slideshow": {
     "slide_type": "slide"
    }
   },
   "source": [
    "## 列表推导式\n",
    "\n",
    "列表推导式是Python内置方法，用来简明扼要第创建列表。"
   ]
  },
  {
   "cell_type": "markdown",
   "metadata": {
    "slideshow": {
     "slide_type": "slide"
    }
   },
   "source": [
    "列表推导式的语法是：\n",
    "```\n",
    "[expression for item in list if condition]\n",
    "```\n",
    "\n",
    "在中括号里包含一个表达式，然后是一个`for`语句，后面包含一个可选的`if`语句。表达式可以是任意的，也就是说可以再列表放入任意类型的对象。列表推导式最终返回一个新的列表。"
   ]
  },
  {
   "cell_type": "markdown",
   "metadata": {
    "slideshow": {
     "slide_type": "slide"
    }
   },
   "source": [
    "把上节示例用列表推导式重写一下。"
   ]
  },
  {
   "cell_type": "code",
   "execution_count": 3,
   "metadata": {
    "slideshow": {
     "slide_type": "-"
    }
   },
   "outputs": [
    {
     "name": "stdout",
     "output_type": "stream",
     "text": [
      "[100, 225, 400, 625, 900, 1225, 1600, 2025, 2500, 3025, 3600, 4225, 4900, 5625, 6400, 9025, 8100, 9025]\n"
     ]
    }
   ],
   "source": [
    "xs = (10, 15, 20, 25, 30, 35, 40, 45, 50, 55, 60, 65, 70, 75, 80, 95, 90, 95)\n",
    "result_list = [i * i for i in xs]\n",
    "\n",
    "print(result_list)   "
   ]
  },
  {
   "cell_type": "code",
   "execution_count": 4,
   "metadata": {
    "slideshow": {
     "slide_type": "-"
    }
   },
   "outputs": [
    {
     "name": "stdout",
     "output_type": "stream",
     "text": [
      "[225, 625, 1225, 2025, 3025, 4225, 5625, 9025, 9025]\n"
     ]
    }
   ],
   "source": [
    "xs = (10, 15, 20, 25, 30, 35, 40, 45, 50, 55, 60, 65, 70, 75, 80, 95, 90, 95)\n",
    "result_list = [i*i for i in xs if i%10 != 0]\n",
    "\n",
    "print(result_list)   "
   ]
  },
  {
   "cell_type": "markdown",
   "metadata": {
    "slideshow": {
     "slide_type": "slide"
    }
   },
   "source": [
    "列表推导式的结果是列表"
   ]
  },
  {
   "cell_type": "code",
   "execution_count": 5,
   "metadata": {
    "slideshow": {
     "slide_type": "-"
    }
   },
   "outputs": [
    {
     "name": "stdout",
     "output_type": "stream",
     "text": [
      "<class 'list'>\n"
     ]
    }
   ],
   "source": [
    "print(type(result_list))"
   ]
  },
  {
   "cell_type": "markdown",
   "metadata": {
    "slideshow": {
     "slide_type": "slide"
    }
   },
   "source": [
    "可以看出，用列表表达式更简洁。除此之外，我们可以比较一下二者的速度。"
   ]
  },
  {
   "cell_type": "code",
   "execution_count": 6,
   "metadata": {
    "slideshow": {
     "slide_type": "slide"
    }
   },
   "outputs": [
    {
     "name": "stdout",
     "output_type": "stream",
     "text": [
      "151 ms ± 5.63 ms per loop (mean ± std. dev. of 7 runs, 10 loops each)\n"
     ]
    }
   ],
   "source": [
    "%%timeit\n",
    "result_list = []\n",
    "for i in range(1024*1024):\n",
    "    result_list.append(i * i)"
   ]
  },
  {
   "cell_type": "code",
   "execution_count": 7,
   "metadata": {
    "slideshow": {
     "slide_type": "-"
    }
   },
   "outputs": [
    {
     "name": "stdout",
     "output_type": "stream",
     "text": [
      "84.1 ms ± 553 µs per loop (mean ± std. dev. of 7 runs, 10 loops each)\n"
     ]
    }
   ],
   "source": [
    "%%timeit\n",
    "result_list = [i*i for i in range(1024*1024)]"
   ]
  },
  {
   "cell_type": "code",
   "execution_count": 8,
   "metadata": {
    "slideshow": {
     "slide_type": "slide"
    }
   },
   "outputs": [
    {
     "name": "stdout",
     "output_type": "stream",
     "text": [
      "132 ms ± 2.06 ms per loop (mean ± std. dev. of 7 runs, 10 loops each)\n"
     ]
    }
   ],
   "source": [
    "%%timeit\n",
    "result_list = []\n",
    "for i in range(1024*1024):\n",
    "    if i % 2 != 0:\n",
    "        result_list.append(i * i)"
   ]
  },
  {
   "cell_type": "code",
   "execution_count": 9,
   "metadata": {
    "slideshow": {
     "slide_type": "-"
    }
   },
   "outputs": [
    {
     "name": "stdout",
     "output_type": "stream",
     "text": [
      "97.6 ms ± 600 µs per loop (mean ± std. dev. of 7 runs, 10 loops each)\n"
     ]
    }
   ],
   "source": [
    "%%timeit\n",
    "result_list = [i*i for i in range(1024*1024) if i%2 != 0]"
   ]
  },
  {
   "cell_type": "markdown",
   "metadata": {
    "slideshow": {
     "slide_type": "slide"
    }
   },
   "source": [
    "列表表达式中的表达式可以是任意的，可以使用`if...else`语句，例如大家小时候常玩的明7暗7游戏"
   ]
  },
  {
   "cell_type": "code",
   "execution_count": 10,
   "metadata": {
    "slideshow": {
     "slide_type": "-"
    }
   },
   "outputs": [
    {
     "name": "stdout",
     "output_type": "stream",
     "text": [
      "[1, 2, 3, 4, 5, 6, 'Pass', 8, 9, 10, 11, 12, 13, 'Pass', 15, 16, 'Pass', 18, 19, 20, 'Pass', 22, 23, 24, 25, 26, 'Pass', 'Pass', 29, 30, 31, 32, 33, 34, 'Pass', 36, 'Pass', 38, 39, 40, 41, 'Pass', 43, 44, 45, 46, 'Pass', 48, 'Pass', 50, 51, 52, 53, 54, 55, 'Pass', 'Pass', 58, 59, 60, 61, 62, 'Pass', 64, 65, 66, 'Pass', 68, 69, 'Pass', 71, 72, 73, 74, 75, 76, 'Pass', 78, 79, 80, 81, 82, 83, 'Pass', 85, 86, 'Pass', 88, 89, 90, 'Pass', 92, 93, 94, 95, 96, 'Pass', 'Pass', 99]\n"
     ]
    }
   ],
   "source": [
    "# 明7暗7游戏\n",
    "alist = ['Pass' if i%7==0 or i%10==7 else i for i in range(1,100)]\n",
    "print(alist)"
   ]
  },
  {
   "cell_type": "markdown",
   "metadata": {
    "slideshow": {
     "slide_type": "slide"
    }
   },
   "source": [
    "在列表推导式中，循环还可以嵌套。"
   ]
  },
  {
   "cell_type": "code",
   "execution_count": 11,
   "metadata": {
    "slideshow": {
     "slide_type": "-"
    }
   },
   "outputs": [
    {
     "name": "stdout",
     "output_type": "stream",
     "text": [
      "['十1', '十2', '十3', '百1', '百2', '百3', '千1', '千2', '千3']\n"
     ]
    }
   ],
   "source": [
    "blist = [m + n for m in '十百千' for n in '123']\n",
    "print(blist)"
   ]
  },
  {
   "cell_type": "markdown",
   "metadata": {
    "slideshow": {
     "slide_type": "slide"
    }
   },
   "source": [
    "> 可以写多层循环，然而并不推荐这么做。实际上，应该避免写太长的列表推导式。毕竟简单易懂才是王道。"
   ]
  },
  {
   "cell_type": "markdown",
   "metadata": {
    "slideshow": {
     "slide_type": "slide"
    }
   },
   "source": [
    "列表推导式从一个已知序列创建出一个列表，已知序列可以是列表、元组、集合，也可以是字典。"
   ]
  },
  {
   "cell_type": "markdown",
   "metadata": {
    "slideshow": {
     "slide_type": "-"
    }
   },
   "source": [
    "> 注意：列表推导式都可以用`for`循环重新实现；但并非所有`for`循环都能用列表推导式实现。"
   ]
  },
  {
   "cell_type": "markdown",
   "metadata": {
    "slideshow": {
     "slide_type": "slide"
    }
   },
   "source": [
    "## 字典推导式\n",
    "\n",
    "字典推导式和列表推导式的使用方法是类似的，可以简单快捷地创建字典。区别在于，使用大括号，表达式中用来指定键值对。"
   ]
  },
  {
   "cell_type": "markdown",
   "metadata": {
    "slideshow": {
     "slide_type": "slide"
    }
   },
   "source": [
    "例如，有时候需要把字典的键值对快随对换一下。"
   ]
  },
  {
   "cell_type": "code",
   "execution_count": 12,
   "metadata": {
    "slideshow": {
     "slide_type": "-"
    }
   },
   "outputs": [
    {
     "name": "stdout",
     "output_type": "stream",
     "text": [
      "{'Class 1': 'Python', 'Class 2': 'C'}\n"
     ]
    }
   ],
   "source": [
    "adict = {'Python': 'Class 1', 'C':  'Class 2'}\n",
    "bdict = {v: k for k, v in adict.items()}\n",
    "print(bdict)"
   ]
  },
  {
   "cell_type": "markdown",
   "metadata": {
    "slideshow": {
     "slide_type": "slide"
    }
   },
   "source": [
    "不过这里存在一个问题，如果字典不是一一对应的话，对换的结果就可能出乎你的意料。"
   ]
  },
  {
   "cell_type": "code",
   "execution_count": 13,
   "metadata": {
    "slideshow": {
     "slide_type": "-"
    }
   },
   "outputs": [
    {
     "name": "stdout",
     "output_type": "stream",
     "text": [
      "{'Class 1': 'Python', 'Class 2': 'C++'}\n"
     ]
    }
   ],
   "source": [
    "adict = {'Python': 'Class 1', 'C':  'Class 2', 'C++':  'Class 2'}\n",
    "bdict = {v: k for k, v in adict.items()}\n",
    "print(bdict)"
   ]
  },
  {
   "cell_type": "markdown",
   "metadata": {
    "slideshow": {
     "slide_type": "slide"
    }
   },
   "source": [
    "## 集合推导式\n",
    "\n",
    "与列表推导式的使用方法也是差不多的，可以简单快捷地创建集合。差别在于，集合推导式使用大括号`{}`。"
   ]
  },
  {
   "cell_type": "code",
   "execution_count": 14,
   "metadata": {
    "slideshow": {
     "slide_type": "slide"
    }
   },
   "outputs": [
    {
     "name": "stdout",
     "output_type": "stream",
     "text": [
      "{'python', 'wang weihua'}\n"
     ]
    }
   ],
   "source": [
    "alist = ['Wang Weihua', 'wang weihua', 'Python', 'pythoN', 'python']\n",
    "aset = {name.lower() for name in alist}\n",
    "print(aset)"
   ]
  },
  {
   "cell_type": "code",
   "execution_count": 15,
   "metadata": {
    "slideshow": {
     "slide_type": "-"
    }
   },
   "outputs": [
    {
     "name": "stdout",
     "output_type": "stream",
     "text": [
      "<class 'set'>\n"
     ]
    }
   ],
   "source": [
    "print(type(aset))"
   ]
  },
  {
   "cell_type": "markdown",
   "metadata": {
    "slideshow": {
     "slide_type": "slide"
    }
   },
   "source": [
    "## “元组推导式”\n",
    "\n",
    "推导式真的很方便！可以快速创建列表、字典、集合。元组是用圆括号括起来的，那就试一试元组推导式。说干就试。"
   ]
  },
  {
   "cell_type": "code",
   "execution_count": 16,
   "metadata": {
    "slideshow": {
     "slide_type": "-"
    }
   },
   "outputs": [],
   "source": [
    "xs = (10, 15, 20, 25, 30, 35, 40, 45, 50, 55, 60, 65, 70, 75, 80, 95, 90, 95)\n",
    "result = (i*i for i in xs if i%10 != 0)"
   ]
  },
  {
   "cell_type": "markdown",
   "metadata": {
    "slideshow": {
     "slide_type": "slide"
    }
   },
   "source": [
    "其它没有异常错误，看起来一切正常。与列表表达式的语法一样，唯一区别就是用圆括号。那么下面我们把结果显示出来，用自省的方式看看返回对象。"
   ]
  },
  {
   "cell_type": "code",
   "execution_count": 17,
   "metadata": {
    "slideshow": {
     "slide_type": "-"
    }
   },
   "outputs": [
    {
     "name": "stdout",
     "output_type": "stream",
     "text": [
      "<generator object <genexpr> at 0x7f3425580b48>\n",
      "<class 'generator'>\n"
     ]
    }
   ],
   "source": [
    "print(result)\n",
    "print(type(result))"
   ]
  },
  {
   "cell_type": "markdown",
   "metadata": {
    "slideshow": {
     "slide_type": "slide"
    }
   },
   "source": [
    "实际上，返回结果是生成器（`generator`），会在后续章节[函数](../chap08/index.ipynb)予以介绍。"
   ]
  },
  {
   "cell_type": "markdown",
   "metadata": {
    "slideshow": {
     "slide_type": "slide"
    }
   },
   "source": [
    "可以用元组转换函数`tuple()`看看生成器的结果："
   ]
  },
  {
   "cell_type": "code",
   "execution_count": 18,
   "metadata": {
    "slideshow": {
     "slide_type": "-"
    }
   },
   "outputs": [
    {
     "name": "stdout",
     "output_type": "stream",
     "text": [
      "(225, 625, 1225, 2025, 3025, 4225, 5625, 9025, 9025)\n"
     ]
    }
   ],
   "source": [
    "print(tuple(result))"
   ]
  },
  {
   "cell_type": "markdown",
   "metadata": {
    "slideshow": {
     "slide_type": "slide"
    }
   },
   "source": [
    "结果还是一样的。因此尽管并不存在元组推导式，但这里的表达式还是非常方便的。"
   ]
  }
 ],
 "metadata": {
  "celltoolbar": "Slideshow",
  "kernelspec": {
   "display_name": "Python 3",
   "language": "python",
   "name": "python3"
  },
  "language_info": {
   "codemirror_mode": {
    "name": "ipython",
    "version": 3
   },
   "file_extension": ".py",
   "mimetype": "text/x-python",
   "name": "python",
   "nbconvert_exporter": "python",
   "pygments_lexer": "ipython3",
   "version": "3.6.4"
  },
  "toc": {
   "base_numbering": 1,
   "nav_menu": {},
   "number_sections": true,
   "sideBar": true,
   "skip_h1_title": false,
   "title_cell": "Table of Contents",
   "title_sidebar": "Contents",
   "toc_cell": false,
   "toc_position": {},
   "toc_section_display": true,
   "toc_window_display": false
  }
 },
 "nbformat": 4,
 "nbformat_minor": 2
}
