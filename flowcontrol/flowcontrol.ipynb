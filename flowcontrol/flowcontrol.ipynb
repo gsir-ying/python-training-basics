{
 "cells": [
  {
   "cell_type": "markdown",
   "metadata": {
    "slideshow": {
     "slide_type": "slide"
    }
   },
   "source": [
    "# 流程控制\n",
    "\n",
    "本章主要介绍流程控制的主要内容：\n",
    "- 条件语句\n",
    "- `for`循环\n",
    "- `while`循环\n",
    "- `break`与`continue`语句\n",
    "- `pass`语句"
   ]
  },
  {
   "cell_type": "markdown",
   "metadata": {
    "slideshow": {
     "slide_type": "slide"
    }
   },
   "source": [
    "## 条件语句\n",
    "\n",
    "当要根据不同条件来执行不同的代码时，就需要条件语句来实现不同的分支。\n",
    "\n",
    "在Python中，可以使用`if…elif…else`语句实现条件分支。"
   ]
  },
  {
   "cell_type": "markdown",
   "metadata": {
    "slideshow": {
     "slide_type": "slide"
    }
   },
   "source": [
    "### `if`语句\n",
    "\n",
    "最简单的情况就是只是用`if`语句。语法为：\n",
    "```\n",
    "if condition:\n",
    "    statement(s)\n",
    "```"
   ]
  },
  {
   "cell_type": "markdown",
   "metadata": {
    "slideshow": {
     "slide_type": "-"
    }
   },
   "source": [
    "在语法中有两个重要事项：\n",
    "- 条件表达式后面要有冒号`:`\n",
    "- 分支的语句块要缩进"
   ]
  },
  {
   "cell_type": "markdown",
   "metadata": {
    "slideshow": {
     "slide_type": "slide"
    }
   },
   "source": [
    "当条件表达式为`False`时，缩进的语句块并不执行，因此语句块只要没有语法错误，Python不会抛出其它异常错误。"
   ]
  },
  {
   "cell_type": "code",
   "execution_count": 1,
   "metadata": {
    "slideshow": {
     "slide_type": "-"
    }
   },
   "outputs": [],
   "source": [
    "if False:\n",
    "    x = 1 / 0     # ZeroDivisionError\n",
    "    syntax        # NameError"
   ]
  },
  {
   "cell_type": "markdown",
   "metadata": {
    "slideshow": {
     "slide_type": "slide"
    }
   },
   "source": [
    "但一旦该条件表达式为`True`时，这些错误就会暴露出来，Python就抛出异常错误，导致软件工作终端。"
   ]
  },
  {
   "cell_type": "code",
   "execution_count": 3,
   "metadata": {
    "slideshow": {
     "slide_type": "-"
    }
   },
   "outputs": [
    {
     "ename": "NameError",
     "evalue": "name 'syntax' is not defined",
     "output_type": "error",
     "traceback": [
      "\u001b[0;31m---------------------------------------------------------------------------\u001b[0m",
      "\u001b[0;31mNameError\u001b[0m                                 Traceback (most recent call last)",
      "\u001b[0;32m<ipython-input-3-46d1b5ef71dc>\u001b[0m in \u001b[0;36m<module>\u001b[0;34m()\u001b[0m\n\u001b[1;32m      1\u001b[0m \u001b[0;32mif\u001b[0m \u001b[0;32mTrue\u001b[0m\u001b[0;34m:\u001b[0m\u001b[0;34m\u001b[0m\u001b[0m\n\u001b[1;32m      2\u001b[0m     \u001b[0mx\u001b[0m \u001b[0;34m=\u001b[0m \u001b[0;36m1\u001b[0m \u001b[0;34m/\u001b[0m \u001b[0;36m1\u001b[0m     \u001b[0;31m# ZeroDivisionError\u001b[0m\u001b[0;34m\u001b[0m\u001b[0m\n\u001b[0;32m----> 3\u001b[0;31m     \u001b[0msyntax\u001b[0m          \u001b[0;31m# NameError\u001b[0m\u001b[0;34m\u001b[0m\u001b[0m\n\u001b[0m",
      "\u001b[0;31mNameError\u001b[0m: name 'syntax' is not defined"
     ]
    }
   ],
   "source": [
    "if True:\n",
    "    x = 1 / 0     # ZeroDivisionError\n",
    "    syntax          # NameError"
   ]
  },
  {
   "cell_type": "markdown",
   "metadata": {
    "slideshow": {
     "slide_type": "slide"
    }
   },
   "source": [
    "这也是在软件测试中，人们希望代码覆盖率尽量高的原因。"
   ]
  },
  {
   "cell_type": "markdown",
   "metadata": {
    "slideshow": {
     "slide_type": "slide"
    }
   },
   "source": [
    "**木兰花慢·可怜今夕月  (辛弃疾)**\n",
    "\n",
    "> 中秋饮酒将旦，客谓前人诗词有赋待月无送月者，因用《天问》体赋。\n",
    "\n",
    "> 可怜今夕月，向何处，去悠悠？是别有人间，那边才见，光影东头？是天外。空汗漫，但长风浩浩送中秋？飞镜无根谁系？姮娥不嫁谁留？\n",
    "\n",
    "> 谓经海底问无由，恍惚使人愁。怕万里长鲸，纵横触破，玉殿琼楼。虾蟆故堪浴水，问云何玉兔解沉浮？若道都齐无恙，云何渐渐如钩？"
   ]
  },
  {
   "cell_type": "code",
   "execution_count": 5,
   "metadata": {
    "slideshow": {
     "slide_type": "slide"
    }
   },
   "outputs": [
    {
     "name": "stdout",
     "output_type": "stream",
     "text": [
      "This is always printed.\n"
     ]
    }
   ],
   "source": [
    "earth_is_flat = False\n",
    "if earth_is_flat:\n",
    "    print('Be careful not to fall off!')\n",
    "print(\"This is always printed.\")"
   ]
  },
  {
   "cell_type": "markdown",
   "metadata": {
    "slideshow": {
     "slide_type": "slide"
    }
   },
   "source": [
    "### `if...else`语句\n",
    "\n",
    "使用`if`与`else`语句就可以实现流程的两个分支，语法为：\n",
    "```\n",
    "if condition:\n",
    "    statement(s) of if\n",
    "else:\n",
    "    statement(s) of else\n",
    "```"
   ]
  },
  {
   "cell_type": "markdown",
   "metadata": {
    "slideshow": {
     "slide_type": "-"
    }
   },
   "source": [
    "如果条件为`True`，则执行`if`语句下的语句块；如果条件为`False`，则执行`else`语句下的语句块；"
   ]
  },
  {
   "cell_type": "code",
   "execution_count": 6,
   "metadata": {
    "slideshow": {
     "slide_type": "slide"
    }
   },
   "outputs": [
    {
     "name": "stdout",
     "output_type": "stream",
     "text": [
      "自然数\n"
     ]
    }
   ],
   "source": [
    "# Try different number\n",
    "num = 3   \n",
    "# num = -5\n",
    "# num = 0\n",
    "\n",
    "if num >= 0:\n",
    "    print(\"自然数\")\n",
    "else:\n",
    "    print(\"负整数\")"
   ]
  },
  {
   "cell_type": "markdown",
   "metadata": {
    "slideshow": {
     "slide_type": "slide"
    }
   },
   "source": [
    "### 多个分支\n",
    "\n",
    "使用if…elif…else语句可以实现多个条件分支。语法为：\n",
    "```\n",
    "if conditon_expression1:\n",
    "    suite1\n",
    "elif conditon_expression2:\n",
    "    suite2\n",
    "...\n",
    "elif conditon_expressionN:\n",
    "    suiteN\n",
    "else:\n",
    "    else_suite\n",
    "```"
   ]
  },
  {
   "cell_type": "markdown",
   "metadata": {
    "slideshow": {
     "slide_type": "slide"
    }
   },
   "source": [
    "举一个编写跨平台的示例，当前系统的名称存放在`sys.platform`变量中，不同操作系统会有不同的值，例如：\n",
    "- `win`，代表Windows系统\n",
    "- `linux`，代表Linux系统\n",
    "- `darwin`，代表苹果系统"
   ]
  },
  {
   "cell_type": "code",
   "execution_count": 7,
   "metadata": {
    "slideshow": {
     "slide_type": "slide"
    }
   },
   "outputs": [
    {
     "name": "stdout",
     "output_type": "stream",
     "text": [
      "Linux system\n"
     ]
    }
   ],
   "source": [
    "import sys\n",
    "\n",
    "if sys.platform.startswith('win'):\n",
    "    print('Windows system')\n",
    "elif sys.platform.startswith('linux'):\n",
    "    print('Linux system')\n",
    "elif sys.platform.startswith('darwin'):\n",
    "    print('Apple system')\n",
    "else:\n",
    "    print('Unknown system')"
   ]
  },
  {
   "cell_type": "markdown",
   "metadata": {
    "slideshow": {
     "slide_type": "slide"
    }
   },
   "source": [
    "### 三元运算符替代\n",
    "\n",
    "Python没有类似其它语言的三元预算符，例如C语言的：\n",
    "```\n",
    "X ? V1:V2\n",
    "```"
   ]
  },
  {
   "cell_type": "markdown",
   "metadata": {
    "slideshow": {
     "slide_type": "-"
    }
   },
   "source": [
    "但是通过把`if...else`语句缩减为单一的条件表达式，可以实现类似三元运算符的语句。具体语法为：\n",
    "```\n",
    "expression1 if boolean_expression else expression2\n",
    "```"
   ]
  },
  {
   "cell_type": "code",
   "execution_count": 8,
   "metadata": {
    "slideshow": {
     "slide_type": "slide"
    }
   },
   "outputs": [
    {
     "data": {
      "text/plain": [
       "'Hi, Gentleman'"
      ]
     },
     "execution_count": 8,
     "metadata": {},
     "output_type": "execute_result"
    }
   ],
   "source": [
    "sex = 'male'\n",
    "address = 'Gentleman' if sex == 'male' else 'Lady'\n",
    "'Hi, {0}'.format(address)"
   ]
  },
  {
   "cell_type": "markdown",
   "metadata": {
    "slideshow": {
     "slide_type": "slide"
    }
   },
   "source": [
    "### 嵌套条件语句\n",
    "\n",
    "在条件语句中还可以继续用条件语句，也就是嵌套条件语句。嵌套条件语句可以有很多层，然而这很容易让人误解，产生不必要的混乱。故嵌套条件语句最好不要层次太多。"
   ]
  },
  {
   "cell_type": "code",
   "execution_count": 9,
   "metadata": {
    "slideshow": {
     "slide_type": "slide"
    }
   },
   "outputs": [
    {
     "name": "stdout",
     "output_type": "stream",
     "text": [
      "正整数\n"
     ]
    }
   ],
   "source": [
    "# Try different number\n",
    "num = 3   \n",
    "# num = -5\n",
    "# num = 0\n",
    "\n",
    "if num >= 0:\n",
    "    if num == 0:\n",
    "        print(\"零\")\n",
    "    else:\n",
    "        print(\"正整数\")\n",
    "else:\n",
    "    print(\"负整数\")"
   ]
  },
  {
   "cell_type": "markdown",
   "metadata": {
    "slideshow": {
     "slide_type": "slide"
    }
   },
   "source": [
    "## `for`循环语句\n",
    "\n",
    "有时候，需要循环多次来运行指定语句块，可以使用`for`语句。`for`循环可以遍历序列对象的所有元素，例如列表或字符串等对象。"
   ]
  },
  {
   "cell_type": "markdown",
   "metadata": {
    "slideshow": {
     "slide_type": "slide"
    }
   },
   "source": [
    "`for`循环的语法为：\n",
    "```\n",
    "for <variable> in <sequence>:\n",
    "    <statement(s)>\n",
    "else:\n",
    "    <statement(s)>\n",
    "```\n",
    "其中`else`分支是可选的。"
   ]
  },
  {
   "cell_type": "code",
   "execution_count": 11,
   "metadata": {
    "slideshow": {
     "slide_type": "slide"
    }
   },
   "outputs": [
    {
     "name": "stdout",
     "output_type": "stream",
     "text": [
      "1\n",
      "2\n",
      "3\n",
      "No data\n",
      "This is always printed.\n"
     ]
    }
   ],
   "source": [
    "datatypes = [1, 2, 3]\n",
    "for datatype in datatypes:\n",
    "    print(datatype)\n",
    "else:\n",
    "    print(\"No data\")\n",
    "print(\"This is always printed.\")"
   ]
  },
  {
   "cell_type": "code",
   "execution_count": 12,
   "metadata": {
    "slideshow": {
     "slide_type": "slide"
    }
   },
   "outputs": [
    {
     "name": "stdout",
     "output_type": "stream",
     "text": [
      "H\n",
      "e\n",
      "l\n",
      "l\n",
      "o\n",
      "P\n",
      "y\n",
      "t\n",
      "h\n",
      "o\n",
      "n\n",
      "!\n"
     ]
    }
   ],
   "source": [
    "# a string\n",
    "for char in 'HelloPython!':\n",
    "    print(char)"
   ]
  },
  {
   "cell_type": "code",
   "execution_count": 13,
   "metadata": {
    "slideshow": {
     "slide_type": "slide"
    }
   },
   "outputs": [
    {
     "name": "stdout",
     "output_type": "stream",
     "text": [
      "Current color is  red\n",
      "Current color is  green\n",
      "Current color is  blue\n"
     ]
    }
   ],
   "source": [
    "# a tuple\n",
    "colors = ('red', 'green', 'blue')\n",
    "for color in colors:\n",
    "    print('Current color is ', color)"
   ]
  },
  {
   "cell_type": "code",
   "execution_count": 14,
   "metadata": {
    "slideshow": {
     "slide_type": "slide"
    }
   },
   "outputs": [
    {
     "name": "stdout",
     "output_type": "stream",
     "text": [
      "一线城市:  北\n",
      "一线城市:  上\n",
      "一线城市:  广\n",
      "一线城市:  深\n"
     ]
    }
   ],
   "source": [
    "# a list \n",
    "citylist = ['北', '上', '广', '深']\n",
    "for city in citylist:\n",
    "    print('一线城市: ', city)    "
   ]
  },
  {
   "cell_type": "code",
   "execution_count": 15,
   "metadata": {
    "slideshow": {
     "slide_type": "slide"
    }
   },
   "outputs": [
    {
     "name": "stdout",
     "output_type": "stream",
     "text": [
      "code=600519\n",
      "name=贵州茅台\n",
      "listing_date=20010827\n",
      "issue_price=34.51\n",
      "low_price=25.88\n"
     ]
    }
   ],
   "source": [
    "stock = {\n",
    "    'code': 600519 , \n",
    "    'name': '贵州茅台', \n",
    "    'listing_date': 20010827,\n",
    "    'issue_price': 34.51,\n",
    "    'low_price': 25.88,    \n",
    "}\n",
    "for key, value in stock.items():\n",
    "    print('{0}={1}'.format(key, value))"
   ]
  },
  {
   "cell_type": "markdown",
   "metadata": {
    "slideshow": {
     "slide_type": "slide"
    }
   },
   "source": [
    "### 内置函数`range()`\n",
    "\n",
    "如果需要遍历数字序列，可以使用内置函数`range()`函数，它会生成数列。"
   ]
  },
  {
   "cell_type": "code",
   "execution_count": 19,
   "metadata": {
    "slideshow": {
     "slide_type": "-"
    }
   },
   "outputs": [
    {
     "name": "stdout",
     "output_type": "stream",
     "text": [
      "90\n",
      "92\n",
      "94\n",
      "96\n",
      "98\n"
     ]
    }
   ],
   "source": [
    "for i in range(90, 100, 2):\n",
    "    print(i)"
   ]
  },
  {
   "cell_type": "markdown",
   "metadata": {
    "slideshow": {
     "slide_type": "slide"
    }
   },
   "source": [
    "### 内置函数`enumerate()`\n",
    "\n"
   ]
  },
  {
   "cell_type": "code",
   "execution_count": 20,
   "metadata": {
    "slideshow": {
     "slide_type": "slide"
    }
   },
   "outputs": [
    {
     "name": "stdout",
     "output_type": "stream",
     "text": [
      "city 0: 北\n",
      "city 1: 上\n",
      "city 2: 广\n",
      "city 3: 深\n"
     ]
    }
   ],
   "source": [
    "# a list \n",
    "citylist = ['北', '上', '广', '深']\n",
    "for index, city in enumerate(citylist):\n",
    "    print('city {0}: {1}'.format(index, city))"
   ]
  },
  {
   "cell_type": "markdown",
   "metadata": {
    "slideshow": {
     "slide_type": "slide"
    }
   },
   "source": [
    "## while循环\n",
    "\n",
    "还可以使用while循环语句实现Python流程的循环。通用语法为：\n",
    "```\n",
    "while condition_expression:\n",
    "    while_suite\n",
    "else:\n",
    "    else_suite\n",
    "```\n",
    "其中`else`分支是可选的。"
   ]
  },
  {
   "cell_type": "code",
   "execution_count": 21,
   "metadata": {
    "slideshow": {
     "slide_type": "slide"
    }
   },
   "outputs": [
    {
     "name": "stdout",
     "output_type": "stream",
     "text": [
      "while suite True\n",
      "while suite True\n",
      "while suite True\n",
      "while suite True\n",
      "while suite True\n",
      "else suite False\n",
      "This is always printed.\n"
     ]
    }
   ],
   "source": [
    "condition = True\n",
    "count = 0\n",
    "while condition:\n",
    "    count += 1\n",
    "    print('while suite', condition)\n",
    "    if count == 5:\n",
    "        condition = False\n",
    "else:\n",
    "    print('else suite', condition)\n",
    "    \n",
    "print(\"This is always printed.\")"
   ]
  },
  {
   "cell_type": "code",
   "execution_count": 22,
   "metadata": {
    "slideshow": {
     "slide_type": "slide"
    }
   },
   "outputs": [
    {
     "name": "stdout",
     "output_type": "stream",
     "text": [
      "The count is:  0\n",
      "The count is:  1\n",
      "The count is:  2\n",
      "The count is:  3\n",
      "The count is:  4\n",
      "The count is:  5\n",
      "The count is:  6\n",
      "The count is:  7\n",
      "The count is:  8\n"
     ]
    }
   ],
   "source": [
    "count = 0\n",
    "while count < 9:\n",
    "    print('The count is: ', count)\n",
    "    count = count + 1"
   ]
  },
  {
   "cell_type": "markdown",
   "metadata": {
    "slideshow": {
     "slide_type": "slide"
    }
   },
   "source": [
    "### 无限循环\n",
    "\n",
    "在一些软件中，程序需要一直运行，可以通过设置条件表达式永远为True来实现无限循环"
   ]
  },
  {
   "cell_type": "code",
   "execution_count": 23,
   "metadata": {
    "slideshow": {
     "slide_type": "-"
    }
   },
   "outputs": [
    {
     "name": "stdout",
     "output_type": "stream",
     "text": [
      "使用 CTRL+C 或来中断循环；在Jupyter Notebook中终端内核\n",
      "使用 CTRL+C 或来中断循环；在Jupyter Notebook中终端内核\n",
      "使用 CTRL+C 或来中断循环；在Jupyter Notebook中终端内核\n"
     ]
    },
    {
     "ename": "KeyboardInterrupt",
     "evalue": "",
     "output_type": "error",
     "traceback": [
      "\u001b[0;31m---------------------------------------------------------------------------\u001b[0m",
      "\u001b[0;31mKeyboardInterrupt\u001b[0m                         Traceback (most recent call last)",
      "\u001b[0;32m<ipython-input-23-085e05cc90b8>\u001b[0m in \u001b[0;36m<module>\u001b[0;34m()\u001b[0m\n\u001b[1;32m      3\u001b[0m \u001b[0;32mwhile\u001b[0m \u001b[0;32mTrue\u001b[0m\u001b[0;34m:\u001b[0m\u001b[0;34m\u001b[0m\u001b[0m\n\u001b[1;32m      4\u001b[0m     \u001b[0mprint\u001b[0m\u001b[0;34m(\u001b[0m\u001b[0;34m'使用 CTRL+C 或来中断循环；在Jupyter Notebook中终端内核'\u001b[0m\u001b[0;34m)\u001b[0m\u001b[0;34m\u001b[0m\u001b[0m\n\u001b[0;32m----> 5\u001b[0;31m     \u001b[0mtime\u001b[0m\u001b[0;34m.\u001b[0m\u001b[0msleep\u001b[0m\u001b[0;34m(\u001b[0m\u001b[0;36m5\u001b[0m\u001b[0;34m)\u001b[0m\u001b[0;34m\u001b[0m\u001b[0m\n\u001b[0m",
      "\u001b[0;31mKeyboardInterrupt\u001b[0m: "
     ]
    }
   ],
   "source": [
    "import time\n",
    "\n",
    "while True:\n",
    "    print('使用 CTRL+C 或来中断循环；在Jupyter Notebook中终端内核')\n",
    "    time.sleep(5)"
   ]
  },
  {
   "cell_type": "markdown",
   "metadata": {
    "slideshow": {
     "slide_type": "slide"
    }
   },
   "source": [
    "## break和continue语句\n",
    "\n",
    "使用`break`语句，可以中断跳出`for`或`while`循环体。从循环体中终止，对应的`else`语句不会执行。"
   ]
  },
  {
   "cell_type": "code",
   "execution_count": 24,
   "metadata": {
    "slideshow": {
     "slide_type": "-"
    }
   },
   "outputs": [
    {
     "name": "stdout",
     "output_type": "stream",
     "text": [
      "city 1: 上\n"
     ]
    }
   ],
   "source": [
    "citylist = ['北', '上', '广', '深']\n",
    "for index, city in enumerate(citylist):\n",
    "    if city == '上':\n",
    "        print('city {0}: {1}'.format(index, city))\n",
    "        break\n",
    "else:\n",
    "    print('else suite')"
   ]
  },
  {
   "cell_type": "markdown",
   "metadata": {
    "slideshow": {
     "slide_type": "slide"
    }
   },
   "source": [
    "使用continue语句，会跳过for或while循环体中余下语句，直接进入下一循环。"
   ]
  },
  {
   "cell_type": "code",
   "execution_count": 25,
   "metadata": {
    "slideshow": {
     "slide_type": "-"
    }
   },
   "outputs": [
    {
     "name": "stdout",
     "output_type": "stream",
     "text": [
      "I don't like 北\n",
      "I don't like 广\n",
      "I don't like 深\n",
      "else suite\n"
     ]
    }
   ],
   "source": [
    "citylist = ['北', '上', '广', '深']\n",
    "for city in citylist:\n",
    "    if city == '上':\n",
    "        continue\n",
    "        \n",
    "    print(\"I don't like {0}\".format(city))\n",
    "else:\n",
    "    print('else suite')"
   ]
  },
  {
   "cell_type": "markdown",
   "metadata": {
    "slideshow": {
     "slide_type": "slide"
    }
   },
   "source": [
    "## pass语句\n",
    "\n",
    "Python中的pass是空语句，顾名思义，啥也不做。一般用来做占位语句，目的是保持程序结构的完整性。"
   ]
  },
  {
   "cell_type": "code",
   "execution_count": 28,
   "metadata": {
    "slideshow": {
     "slide_type": "-"
    }
   },
   "outputs": [],
   "source": [
    "citylist = ['北', '上', '广', '深']\n",
    "for index, city in enumerate(citylist):\n",
    "    pass"
   ]
  },
  {
   "cell_type": "code",
   "execution_count": 29,
   "metadata": {
    "slideshow": {
     "slide_type": "slide"
    }
   },
   "outputs": [
    {
     "name": "stdout",
     "output_type": "stream",
     "text": [
      "city 0: 北\n",
      "city 2: 广\n",
      "city 3: 深\n",
      "else suite\n"
     ]
    }
   ],
   "source": [
    "citylist = ['北', '上', '广', '深']\n",
    "for index, city in enumerate(citylist):\n",
    "    if city == '上':\n",
    "        pass\n",
    "        # print('pass statement')    \n",
    "    else:\n",
    "        print('city {0}: {1}'.format(index, city))    \n",
    "else:\n",
    "    print('else suite')"
   ]
  },
  {
   "cell_type": "markdown",
   "metadata": {
    "slideshow": {
     "slide_type": "slide"
    }
   },
   "source": [
    "## 小结\n",
    "\n",
    "Python共有33个关键字，与流程控制的关键字就有8个：\n",
    "```\n",
    "if, else, elif, for, while, break, continue, pass\n",
    "```"
   ]
  },
  {
   "cell_type": "code",
   "execution_count": 30,
   "metadata": {
    "slideshow": {
     "slide_type": "slide"
    }
   },
   "outputs": [
    {
     "name": "stdout",
     "output_type": "stream",
     "text": [
      "关键字：33；流量控制的关键字：8\n"
     ]
    }
   ],
   "source": [
    "import keyword\n",
    "\n",
    "flows = ['if', 'else', 'elif', 'for', 'while', 'break', 'continue', 'pass']\n",
    "print('关键字：{0}；流量控制的关键字：{1}'.format(len(keyword.kwlist), len(flows)))"
   ]
  }
 ],
 "metadata": {
  "celltoolbar": "Slideshow",
  "kernelspec": {
   "display_name": "Python 3",
   "language": "python",
   "name": "python3"
  },
  "language_info": {
   "codemirror_mode": {
    "name": "ipython",
    "version": 3
   },
   "file_extension": ".py",
   "mimetype": "text/x-python",
   "name": "python",
   "nbconvert_exporter": "python",
   "pygments_lexer": "ipython3",
   "version": "3.6.4"
  },
  "toc": {
   "base_numbering": 1,
   "nav_menu": {},
   "number_sections": true,
   "sideBar": true,
   "skip_h1_title": false,
   "title_cell": "Table of Contents",
   "title_sidebar": "Contents",
   "toc_cell": false,
   "toc_position": {},
   "toc_section_display": true,
   "toc_window_display": false
  }
 },
 "nbformat": 4,
 "nbformat_minor": 1
}
