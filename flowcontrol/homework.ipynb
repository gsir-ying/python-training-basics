{
 "cells": [
  {
   "cell_type": "markdown",
   "metadata": {},
   "source": [
    "# 作业"
   ]
  },
  {
   "cell_type": "markdown",
   "metadata": {},
   "source": [
    "## 练习（exercise）\n",
    "\n",
    "课堂或自习时完成。"
   ]
  },
  {
   "cell_type": "markdown",
   "metadata": {},
   "source": [
    "### 练习（闰年判断）\n",
    "\n",
    "指定年份，判断是否是闰年。"
   ]
  },
  {
   "cell_type": "code",
   "execution_count": 1,
   "metadata": {},
   "outputs": [
    {
     "name": "stdout",
     "output_type": "stream",
     "text": [
      "2000是闰年\n"
     ]
    }
   ],
   "source": [
    "# 检查给定年份是否时闰年\n",
    "year = 2000\n",
    "\n",
    "if (year % 4) == 0:\n",
    "   if (year % 100) == 0:\n",
    "       if (year % 400) == 0:\n",
    "           print('{0}是闰年'.format(year))\n",
    "       else:\n",
    "           print('{0}不是闰年'.format(year))\n",
    "   else:\n",
    "       print('{0}是闰年'.format(year))\n",
    "else:\n",
    "   print('{0}不是闰年'.format(year))"
   ]
  },
  {
   "cell_type": "markdown",
   "metadata": {},
   "source": [
    "### 练习\n",
    "\n",
    "创建新的列表，把如下列表的字符串编程大写。\n",
    "```\n",
    "alist = ['hello', '老王', 'i love you']\n",
    "```"
   ]
  },
  {
   "cell_type": "code",
   "execution_count": 2,
   "metadata": {},
   "outputs": [
    {
     "name": "stdout",
     "output_type": "stream",
     "text": [
      "['Hello', '老王', 'I Love You']\n"
     ]
    }
   ],
   "source": [
    "alist = ['hello', '老王', 'i love you']\n",
    "blist = [word.title() for word in alist]\n",
    "print(blist)       "
   ]
  },
  {
   "cell_type": "markdown",
   "metadata": {},
   "source": [
    "### 练习\n",
    "\n",
    "把以下列表的元素都好事成双：\n",
    "```\n",
    "# \n",
    "alist = [9, 8, '喜', 'A', ['x']]\n",
    "# result\n",
    "blist = [99, 89, '喜喜', 'AA', ['x', 'x']]\n",
    "```"
   ]
  },
  {
   "cell_type": "code",
   "execution_count": 3,
   "metadata": {},
   "outputs": [
    {
     "name": "stdout",
     "output_type": "stream",
     "text": [
      "[99, 88, '喜喜', 'AA', ['x', 'x']]\n"
     ]
    }
   ],
   "source": [
    "alist = [9, 8, '喜', 'A', ['x']]\n",
    "blist = [11*item if isinstance(item, int) else item*2  for item in alist]\n",
    "print(blist)"
   ]
  },
  {
   "cell_type": "markdown",
   "metadata": {},
   "source": [
    "### 练习\n",
    "\n",
    "把没有通过Python考试的名单打印出来\n",
    "```\n",
    "adict = {'老王': 59, 'Guido': 100, 'Linus': 88, '王垠': 0}\n",
    "```"
   ]
  },
  {
   "cell_type": "code",
   "execution_count": 4,
   "metadata": {},
   "outputs": [
    {
     "name": "stdout",
     "output_type": "stream",
     "text": [
      "['老王', '王垠']\n"
     ]
    }
   ],
   "source": [
    "adict = {'老王': 59, 'Guido': 100, 'Linus': 88, '王垠': 0}\n",
    "blist = [k for k, v in adict.items() if v < 60]\n",
    "print(blist)"
   ]
  },
  {
   "cell_type": "markdown",
   "metadata": {},
   "source": [
    "### 练习\n",
    "\n",
    "已有列表如下：\n",
    "```\n",
    "alist = ['Hello Python', '你好 Python', 'Pass']\n",
    "```\n",
    "使用列表推导式，分解每个句子的单词，并用大写形式组成新的元素。\n",
    "```\n",
    "blist = ['HELLO', 'PYTHON', '你好', 'PYTHON', 'PASS']\n",
    "```"
   ]
  },
  {
   "cell_type": "code",
   "execution_count": 6,
   "metadata": {},
   "outputs": [
    {
     "data": {
      "text/plain": [
       "['HELLO', 'PYTHON', '你好', 'PYTHON', 'PASS']"
      ]
     },
     "execution_count": 6,
     "metadata": {},
     "output_type": "execute_result"
    }
   ],
   "source": [
    "alist = ['Hello Python', '你好 Python', 'Pass']\n",
    "blist = [word.upper() for line in alist for word in line.split()]\n",
    "blist"
   ]
  },
  {
   "cell_type": "markdown",
   "metadata": {},
   "source": [
    "## 作业"
   ]
  },
  {
   "cell_type": "markdown",
   "metadata": {},
   "source": [
    "### 列表推导式"
   ]
  },
  {
   "cell_type": "markdown",
   "metadata": {},
   "source": [
    "#### 矩阵变换\n",
    "\n",
    "使用列表推导式实现矩阵变换:\n",
    "```\n",
    "matrix = [[1, 2], [3, 4], [5, 6]]\n",
    "```\n",
    "变换结果是：\n",
    "```\n",
    "transpose = [[1, 3, 5], [2, 4, 6]]\n",
    "```"
   ]
  },
  {
   "cell_type": "markdown",
   "metadata": {},
   "source": [
    "### 思维导图\n",
    "\n",
    "使用思维导图画出流程控制内容"
   ]
  }
 ],
 "metadata": {
  "kernelspec": {
   "display_name": "Python 3",
   "language": "python",
   "name": "python3"
  },
  "language_info": {
   "codemirror_mode": {
    "name": "ipython",
    "version": 3
   },
   "file_extension": ".py",
   "mimetype": "text/x-python",
   "name": "python",
   "nbconvert_exporter": "python",
   "pygments_lexer": "ipython3",
   "version": "3.6.4"
  },
  "toc": {
   "base_numbering": 1,
   "nav_menu": {},
   "number_sections": true,
   "sideBar": true,
   "skip_h1_title": false,
   "title_cell": "Table of Contents",
   "title_sidebar": "Contents",
   "toc_cell": false,
   "toc_position": {},
   "toc_section_display": true,
   "toc_window_display": false
  }
 },
 "nbformat": 4,
 "nbformat_minor": 2
}
