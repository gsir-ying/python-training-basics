{
 "cells": [
  {
   "cell_type": "markdown",
   "metadata": {
    "slideshow": {
     "slide_type": "slide"
    }
   },
   "source": [
    "# 基本类型-列表(list)\n",
    "\n",
    "列表（list）是异质、可变、可重复，有序的，无索引的序列。"
   ]
  },
  {
   "cell_type": "markdown",
   "metadata": {
    "slideshow": {
     "slide_type": "slide"
    }
   },
   "source": [
    "## 现实生活中的列表\n",
    "\n",
    "在生活中，常常用一些归纳箱、展示柜或货架之类的物件，用来存放各种各样的东西。\n",
    "\n",
    "<img src=\"assets/list_in_life.jpg\" style=\"zoom:30%\" />"
   ]
  },
  {
   "cell_type": "markdown",
   "metadata": {
    "slideshow": {
     "slide_type": "slide"
    }
   },
   "source": [
    "与归纳箱或展示柜的相关操作有如下：\n",
    "- 创建一个物件（购买）\n",
    "- 可以放不同类型的东西\n",
    "- 数一数里面有多少东西\n",
    "- 查看指定位置的东西\n",
    "- 往里面添加东西\n",
    "- 拿走东西\n",
    "- ..."
   ]
  },
  {
   "cell_type": "markdown",
   "metadata": {
    "slideshow": {
     "slide_type": "slide"
    }
   },
   "source": [
    "## 创建列表对象\n",
    "\n",
    "列表是一个有序的序列，是Python最常用的数据类型，可以包含0个或多个对象。\n",
    "- 使用`[]`"
   ]
  },
  {
   "cell_type": "markdown",
   "metadata": {
    "slideshow": {
     "slide_type": "slide"
    }
   },
   "source": [
    "使用`[]`包含0个或多个元素，每个元素都是一个对象，用逗号分隔。\n",
    "\n",
    "列表的元素可以重复的。"
   ]
  },
  {
   "cell_type": "code",
   "execution_count": null,
   "metadata": {
    "slideshow": {
     "slide_type": "-"
    }
   },
   "outputs": [],
   "source": [
    "emptylist = []\n",
    "digits = [0, 1, 2, 3, 4, 5, 6, 7, 8, 9]\n",
    "stocks = ['贵州茅台', '格力电器', '格力电器']\n",
    "print(emptylist)\n",
    "print(digits)\n",
    "print(stocks)"
   ]
  },
  {
   "cell_type": "markdown",
   "metadata": {
    "slideshow": {
     "slide_type": "slide"
    }
   },
   "source": [
    "列表的元素并不要求是同一数据类型。"
   ]
  },
  {
   "cell_type": "code",
   "execution_count": null,
   "metadata": {
    "slideshow": {
     "slide_type": "-"
    }
   },
   "outputs": [],
   "source": [
    "datatypes = [True, 10**100, 3.1415926, 3+4j, 'Python']\n",
    "print(datatypes)"
   ]
  },
  {
   "cell_type": "markdown",
   "metadata": {
    "slideshow": {
     "slide_type": "slide"
    }
   },
   "source": [
    "列表的元素也可以是列表，也就是嵌套列表"
   ]
  },
  {
   "cell_type": "code",
   "execution_count": null,
   "metadata": {
    "slideshow": {
     "slide_type": "-"
    }
   },
   "outputs": [],
   "source": [
    "nesting_list = ['nesting list', digits, stocks]\n",
    "print(nesting_list)"
   ]
  },
  {
   "cell_type": "markdown",
   "metadata": {
    "slideshow": {
     "slide_type": "slide"
    }
   },
   "source": [
    "## 自省\n",
    "\n",
    "> 吾每遇对象必自省，用变量而知其类乎？用其值而知属性乎？用其法而知方法乎？"
   ]
  },
  {
   "cell_type": "markdown",
   "metadata": {
    "slideshow": {
     "slide_type": "slide"
    }
   },
   "source": [
    "使用内置函数`type()`查看对象的类型"
   ]
  },
  {
   "cell_type": "code",
   "execution_count": null,
   "metadata": {
    "slideshow": {
     "slide_type": "-"
    }
   },
   "outputs": [],
   "source": [
    "print(type([]), type(digits), type(datatypes), type(nesting_list))"
   ]
  },
  {
   "cell_type": "markdown",
   "metadata": {
    "slideshow": {
     "slide_type": "slide"
    }
   },
   "source": [
    "使用内置函数`id()`查看对象内存地址"
   ]
  },
  {
   "cell_type": "code",
   "execution_count": null,
   "metadata": {
    "slideshow": {
     "slide_type": "-"
    }
   },
   "outputs": [],
   "source": [
    "print(id(emptylist), id([]))\n",
    "print(id(digits), id([0, 1, 2, 3, 4, 5, 6, 7, 8, 9]))\n",
    "print(id(datatypes), id(nesting_list))    "
   ]
  },
  {
   "cell_type": "markdown",
   "metadata": {
    "slideshow": {
     "slide_type": "slide"
    }
   },
   "source": [
    "使用is操作符"
   ]
  },
  {
   "cell_type": "code",
   "execution_count": null,
   "metadata": {
    "slideshow": {
     "slide_type": "-"
    }
   },
   "outputs": [],
   "source": [
    "emptylist2 = []\n",
    "print(emptylist2 is emptylist)\n",
    "emptylist2 = emptylist\n",
    "print(emptylist2 is emptylist)"
   ]
  },
  {
   "cell_type": "markdown",
   "metadata": {
    "slideshow": {
     "slide_type": "slide"
    }
   },
   "source": [
    "> 每个对象都有三个特性：类型、身份标识、值\n",
    "\n",
    "> 在Python中对象一旦创建，在其生命周期，类型和身份标识不能改变。\n",
    "\n",
    "> 值不可以改变称为不可变对象（immutable），可以改变称为可变对象（mutable）"
   ]
  },
  {
   "cell_type": "markdown",
   "metadata": {
    "slideshow": {
     "slide_type": "-"
    }
   },
   "source": [
    "列表是可变对象，也就是说列表的值是可以改变的。"
   ]
  },
  {
   "cell_type": "markdown",
   "metadata": {
    "slideshow": {
     "slide_type": "slide"
    }
   },
   "source": [
    "### 帮助\n",
    "\n",
    "- 使用内置函数`help()`函数\n",
    "\n",
    "- 可以使用IPython自省功能?或??"
   ]
  },
  {
   "cell_type": "code",
   "execution_count": null,
   "metadata": {
    "slideshow": {
     "slide_type": "slide"
    }
   },
   "outputs": [],
   "source": [
    "# Try help(emptylist), help([])\n",
    "help(list)"
   ]
  },
  {
   "cell_type": "code",
   "execution_count": null,
   "metadata": {
    "slideshow": {
     "slide_type": "slide"
    }
   },
   "outputs": [],
   "source": [
    "emptylist?"
   ]
  },
  {
   "cell_type": "markdown",
   "metadata": {
    "slideshow": {
     "slide_type": "slide"
    }
   },
   "source": [
    "### 属性和方法\n",
    "\n",
    "- 使用`dir()`函数列出对象的属性和方法"
   ]
  },
  {
   "cell_type": "code",
   "execution_count": null,
   "metadata": {
    "slideshow": {
     "slide_type": "slide"
    }
   },
   "outputs": [],
   "source": [
    "dir(list)"
   ]
  },
  {
   "cell_type": "markdown",
   "metadata": {
    "slideshow": {
     "slide_type": "slide"
    }
   },
   "source": [
    "#### 算术操作\n",
    "\n",
    "|操作符 | 特殊方法    |  说明   |\n",
    "| :----:|:-------------| -------: |\n",
    "| `+`  | `__add__`    | 加法   |\n",
    "| `*`  | `__mul__`    | 乘法   |"
   ]
  },
  {
   "cell_type": "markdown",
   "metadata": {
    "slideshow": {
     "slide_type": "slide"
    }
   },
   "source": [
    "与字符串相似，列表的“加法”是列表的组合，“乘法” 号用于重复列表。"
   ]
  },
  {
   "cell_type": "code",
   "execution_count": null,
   "metadata": {
    "slideshow": {
     "slide_type": "-"
    }
   },
   "outputs": [],
   "source": [
    "print([1, 2, 3] + [4, 5, 6])"
   ]
  },
  {
   "cell_type": "code",
   "execution_count": null,
   "metadata": {
    "slideshow": {
     "slide_type": "-"
    }
   },
   "outputs": [],
   "source": [
    "print(digits * 3)"
   ]
  },
  {
   "cell_type": "markdown",
   "metadata": {
    "slideshow": {
     "slide_type": "slide"
    }
   },
   "source": [
    "#### 比较运算\n",
    "\n",
    "|操作符 | 特殊方法    |  说明   |\n",
    "| :----:|:-------------| -------: |\n",
    "| `<`  | `__lt__`    | 小于   |\n",
    "| `<=`  | `__le__`   | 小于等于   |\n",
    "| `>`  | `__gt__`    | 大于   |\n",
    "| `>=` | `__ge__`    | 大于等于   |\n",
    "| `==`  | `__eq__`   | 等于   |\n",
    "| `!=` | `__ne__`    | 不等于   |"
   ]
  },
  {
   "cell_type": "code",
   "execution_count": null,
   "metadata": {
    "slideshow": {
     "slide_type": "slide"
    }
   },
   "outputs": [],
   "source": [
    "[1, 2, 4, 3] == [1, 2, 3, 4]"
   ]
  },
  {
   "cell_type": "code",
   "execution_count": null,
   "metadata": {
    "slideshow": {
     "slide_type": "-"
    }
   },
   "outputs": [],
   "source": [
    "[1, 2, 3, 3] == [1, 2, 3, 4]"
   ]
  },
  {
   "cell_type": "markdown",
   "metadata": {
    "slideshow": {
     "slide_type": "slide"
    }
   },
   "source": [
    "#### 序列操作\n",
    "\n",
    "|操作符 | 特殊方法    |  说明   |\n",
    "| :----:|:-------------| -------: |\n",
    "|`len()` | `__len__`   | 返回序列长度  |\n",
    "|`s[k]`  | `__getitem__` | 返回元素  |\n",
    "|`s[k]=x`| `__setitem__` | 更改元素  |\n",
    "|`del s[k]`| `__delitem__` | 删除元素  |"
   ]
  },
  {
   "cell_type": "markdown",
   "metadata": {
    "slideshow": {
     "slide_type": "slide"
    }
   },
   "source": [
    "与字符串类似，列表也是序列，也有类似切片的操作。\n",
    "\n",
    "与字符串不同的是，列表的每个元素可以是不同数据类型，此外列表是可变对象，也就是说列表的元素可以更改，可以删除。"
   ]
  },
  {
   "cell_type": "markdown",
   "metadata": {
    "slideshow": {
     "slide_type": "slide"
    }
   },
   "source": [
    "例如，对于列表`datatypes = [True, 10**100, 3.1415926, 3+4j, 'Python']`，其元素如下图所示：\n",
    "![列表的序列](assets/listindex.png)"
   ]
  },
  {
   "cell_type": "markdown",
   "metadata": {
    "slideshow": {
     "slide_type": "slide"
    }
   },
   "source": [
    "使用`len`函数获得列表的长度"
   ]
  },
  {
   "cell_type": "code",
   "execution_count": null,
   "metadata": {
    "slideshow": {
     "slide_type": "-"
    }
   },
   "outputs": [],
   "source": [
    "print(len(emptylist), len(digits), len(datatypes), len(nesting_list))"
   ]
  },
  {
   "cell_type": "markdown",
   "metadata": {
    "slideshow": {
     "slide_type": "slide"
    }
   },
   "source": [
    "使用切片操作访问列表元素"
   ]
  },
  {
   "cell_type": "code",
   "execution_count": null,
   "metadata": {
    "slideshow": {
     "slide_type": "-"
    }
   },
   "outputs": [],
   "source": [
    "print(digits[0], digits[1], digits[9], digits[-1])"
   ]
  },
  {
   "cell_type": "markdown",
   "metadata": {
    "slideshow": {
     "slide_type": "slide"
    }
   },
   "source": [
    "对于列表来说，仍然存在索引溢出问题："
   ]
  },
  {
   "cell_type": "code",
   "execution_count": null,
   "metadata": {
    "slideshow": {
     "slide_type": "-"
    }
   },
   "outputs": [],
   "source": [
    "print(digits[10])"
   ]
  },
  {
   "cell_type": "code",
   "execution_count": null,
   "metadata": {
    "slideshow": {
     "slide_type": "slide"
    }
   },
   "outputs": [],
   "source": [
    "print(digits[2:5], digits[2:-1], digits[2:])"
   ]
  },
  {
   "cell_type": "code",
   "execution_count": null,
   "metadata": {
    "slideshow": {
     "slide_type": "-"
    }
   },
   "outputs": [],
   "source": [
    "print(digits[2:5:2], digits[2:-1:2], digits[2::2])\n",
    "print(digits[::-1])"
   ]
  },
  {
   "cell_type": "markdown",
   "metadata": {
    "slideshow": {
     "slide_type": "slide"
    }
   },
   "source": [
    "列表元素可以更改和删除"
   ]
  },
  {
   "cell_type": "code",
   "execution_count": null,
   "metadata": {
    "slideshow": {
     "slide_type": "-"
    }
   },
   "outputs": [],
   "source": [
    "digits = [0, 1, 2, 3, 4, 5, 6, 7, 8, 9]\n",
    "digits[5] = 'Changed'\n",
    "print(digits)"
   ]
  },
  {
   "cell_type": "code",
   "execution_count": null,
   "metadata": {
    "slideshow": {
     "slide_type": "-"
    }
   },
   "outputs": [],
   "source": [
    "del digits[5]\n",
    "print(digits)"
   ]
  },
  {
   "cell_type": "markdown",
   "metadata": {
    "slideshow": {
     "slide_type": "slide"
    }
   },
   "source": [
    "#### 成员运算符\n",
    "\n",
    "|操作符 | 特殊方法    |  说明   |\n",
    "| :----:|:-------------| -------: |\n",
    "|`in` | `__contains__`   | 成员 |"
   ]
  },
  {
   "cell_type": "code",
   "execution_count": null,
   "metadata": {
    "slideshow": {
     "slide_type": "-"
    }
   },
   "outputs": [],
   "source": [
    "print(True in datatypes)\n",
    "print(3+4j in datatypes)"
   ]
  },
  {
   "cell_type": "markdown",
   "metadata": {
    "slideshow": {
     "slide_type": "slide"
    }
   },
   "source": [
    "#### 常用方法\n"
   ]
  },
  {
   "cell_type": "markdown",
   "metadata": {
    "slideshow": {
     "slide_type": "-"
    }
   },
   "source": [
    "##### 列表处理\n",
    "\n",
    "|方法         |  说明      |\n",
    "|:--------------:|-------------: |\n",
    "|`L.append`     | 添加新的对象 |\n",
    "|`L.insert()`    | 添加新的对象 |\n",
    "|`L.extend()`   | 添加合并列表 |\n",
    "|`L.pop()`     | 移除列表一个元素 |\n",
    "|`L.remove()`    | 删除指定匹配的元素 |\n",
    "|`L.clear()`    | 清除列表元素 |\n",
    "|`L.copy()`     | 返回列表的一个浅拷贝|"
   ]
  },
  {
   "cell_type": "markdown",
   "metadata": {
    "slideshow": {
     "slide_type": "slide"
    }
   },
   "source": [
    "##### 搜索和排序\n",
    "\n",
    "\n",
    "|方法         |  说明      |\n",
    "|:--------------:|-------------: |\n",
    "|`L.index()`    | 查找指定匹配元素的索引值 |\n",
    "|`L.count()`    | 统计某个元素次数 |\n",
    "|`L.reverse()`   | 倒序 |\n",
    "|`L.sort()()`   | 排序 |"
   ]
  },
  {
   "cell_type": "markdown",
   "metadata": {
    "slideshow": {
     "slide_type": "slide"
    }
   },
   "source": [
    "## 操作和方法示例"
   ]
  },
  {
   "cell_type": "markdown",
   "metadata": {
    "slideshow": {
     "slide_type": "slide"
    }
   },
   "source": [
    "添加新元素\n",
    "```\n",
    "    L.append(object) -> None -- append object to end\n",
    "```    "
   ]
  },
  {
   "cell_type": "code",
   "execution_count": null,
   "metadata": {
    "slideshow": {
     "slide_type": "-"
    }
   },
   "outputs": [],
   "source": [
    "# list append method\n",
    "alist = []\n",
    "alist.append(0)\n",
    "print(alist)\n",
    "alist.append('Hello World')\n",
    "print(alist)"
   ]
  },
  {
   "cell_type": "markdown",
   "metadata": {
    "slideshow": {
     "slide_type": "skip"
    }
   },
   "source": [
    "在指定索引位置前插入插入新元素\n",
    "```\n",
    "    L.insert(index, object) -- insert object before index\n",
    "```"
   ]
  },
  {
   "cell_type": "code",
   "execution_count": null,
   "metadata": {
    "slideshow": {
     "slide_type": "skip"
    }
   },
   "outputs": [],
   "source": [
    "# list insert method\n",
    "alist = [0, 1, 2, 3, 4]\n",
    "alist.insert(3, 'value1 index 3')\n",
    "print(alist)\n",
    "alist.insert(3, 'value2 index 3')\n",
    "print(alist)"
   ]
  },
  {
   "cell_type": "markdown",
   "metadata": {
    "slideshow": {
     "slide_type": "slide"
    }
   },
   "source": [
    "在列表尾部增加多个元素\n",
    "```\n",
    "    L.extend(iterable) -> None -- extend list by appending elements from the iterable\n",
    "```    "
   ]
  },
  {
   "cell_type": "code",
   "execution_count": null,
   "metadata": {
    "slideshow": {
     "slide_type": "-"
    }
   },
   "outputs": [],
   "source": [
    "# list extend method\n",
    "alist = [0, 1, 2, 3, 4]\n",
    "blist = [5, 6, 7, 8, 9]\n",
    "alist.extend(blist)\n",
    "print(alist)"
   ]
  },
  {
   "cell_type": "markdown",
   "metadata": {
    "slideshow": {
     "slide_type": "slide"
    }
   },
   "source": [
    "移除列表中的一个元素，并且返回该元素的值，默认最后一个元素。\n",
    "```\n",
    "    L.pop([index]) -> item -- remove and return item at index (default last).\n",
    "    Raises IndexError if list is empty or index is out of range.\n",
    "```"
   ]
  },
  {
   "cell_type": "code",
   "execution_count": null,
   "metadata": {
    "slideshow": {
     "slide_type": "-"
    }
   },
   "outputs": [],
   "source": [
    "# list pop method\n",
    "alist = [0, 1, 2, 3, 4]\n",
    "var = alist.pop()\n",
    "print(var, alist)\n",
    "alist = [0, 1, 2, 3, 4]\n",
    "var = alist.pop(2)\n",
    "print(var, alist)"
   ]
  },
  {
   "cell_type": "markdown",
   "metadata": {
    "slideshow": {
     "slide_type": "slide"
    }
   },
   "source": [
    "注意：如果索引超出列表长度，会出现索引溢出异常。"
   ]
  },
  {
   "cell_type": "code",
   "execution_count": null,
   "metadata": {
    "slideshow": {
     "slide_type": "-"
    }
   },
   "outputs": [],
   "source": [
    "# list pop method\n",
    "alist = [0, 1, 2, 3, 4]\n",
    "var = alist.pop(5)\n",
    "print(var, alist)"
   ]
  },
  {
   "cell_type": "markdown",
   "metadata": {
    "slideshow": {
     "slide_type": "slide"
    }
   },
   "source": [
    "删除列表中某个指定值的第一个匹配项，如果该值不存在则会抛出异常\n",
    "```\n",
    "    L.remove(value) -> None -- remove first occurrence of value.\n",
    "    Raises ValueError if the value is not present.\n",
    "```"
   ]
  },
  {
   "cell_type": "code",
   "execution_count": null,
   "metadata": {
    "slideshow": {
     "slide_type": "-"
    }
   },
   "outputs": [],
   "source": [
    "# list remove method\n",
    "alist = [0, 1, 2, 3, 4, 2, 'Hello']\n",
    "alist.remove('Hello')\n",
    "print(alist)"
   ]
  },
  {
   "cell_type": "code",
   "execution_count": null,
   "metadata": {
    "slideshow": {
     "slide_type": "slide"
    }
   },
   "outputs": [],
   "source": [
    "# list remove method\n",
    "alist = [0, 1, 2, 3, 4, 2, 2]\n",
    "alist.remove(5)\n",
    "print(alist)"
   ]
  },
  {
   "cell_type": "markdown",
   "metadata": {
    "slideshow": {
     "slide_type": "slide"
    }
   },
   "source": [
    "清除列表所有元素\n",
    "```\n",
    "    L.clear() -> None -- remove all items from L\n",
    "```    "
   ]
  },
  {
   "cell_type": "code",
   "execution_count": null,
   "metadata": {
    "slideshow": {
     "slide_type": "-"
    }
   },
   "outputs": [],
   "source": [
    "# list clear method\n",
    "alist = [0, 1, 2, 3, 4, 2, 2]\n",
    "alist.clear()\n",
    "print(alist)"
   ]
  },
  {
   "cell_type": "markdown",
   "metadata": {
    "slideshow": {
     "slide_type": "slide"
    }
   },
   "source": [
    "\n",
    "```\n",
    "    L.copy() -> list -- a shallow copy of L\n",
    "```    "
   ]
  },
  {
   "cell_type": "code",
   "execution_count": null,
   "metadata": {
    "slideshow": {
     "slide_type": "-"
    }
   },
   "outputs": [],
   "source": [
    "# list copy method\n",
    "alist = [0, 1, 2, 3, 4, 2, 2]\n",
    "blist = alist.copy()\n",
    "print(id(alist), id(blist))\n",
    "print(alist, blist)\n",
    "\n",
    "alist[0] = 2 ** 16\n",
    "alist.pop()\n",
    "print(alist, blist)"
   ]
  },
  {
   "cell_type": "markdown",
   "metadata": {
    "slideshow": {
     "slide_type": "slide"
    }
   },
   "source": [
    "在列表中搜索指定值，如果失败抛出异常。\n",
    "```\n",
    "    L.index(value, [start, [stop]]) -> integer -- return first index of value.\n",
    "    Raises ValueError if the value is not present.\n",
    "```    "
   ]
  },
  {
   "cell_type": "code",
   "execution_count": null,
   "metadata": {
    "slideshow": {
     "slide_type": "-"
    }
   },
   "outputs": [],
   "source": [
    "# list index method\n",
    "alist = [0, 1, 2, 3, 4, 2, 2]\n",
    "xindex = alist.index(2)\n",
    "print(xindex, alist)\n",
    "xindex = alist.index(2, xindex+1)\n",
    "print(xindex, alist)"
   ]
  },
  {
   "cell_type": "code",
   "execution_count": null,
   "metadata": {
    "slideshow": {
     "slide_type": "slide"
    }
   },
   "outputs": [],
   "source": [
    "# list index method\n",
    "alist = [0, 1, 2, 3, 4, 2, 2]\n",
    "xindex = alist.index(5)\n",
    "print(xindex, alist)"
   ]
  },
  {
   "cell_type": "markdown",
   "metadata": {
    "slideshow": {
     "slide_type": "slide"
    }
   },
   "source": [
    "对列表中指定值统计次数\n",
    "```\n",
    "    L.count(value) -> integer -- return number of occurrences of value\n",
    "```"
   ]
  },
  {
   "cell_type": "code",
   "execution_count": null,
   "metadata": {
    "slideshow": {
     "slide_type": "-"
    }
   },
   "outputs": [],
   "source": [
    "# list count method\n",
    "alist = [0, 1, 2, 3, 4, 2, 2]\n",
    "num = alist.count(2)\n",
    "print(num, alist)"
   ]
  },
  {
   "cell_type": "markdown",
   "metadata": {
    "slideshow": {
     "slide_type": "slide"
    }
   },
   "source": [
    "列表排序\n",
    "```\n",
    "    L.sort(key=None, reverse=False) -> None -- stable sort *IN PLACE*\n",
    "```    "
   ]
  },
  {
   "cell_type": "code",
   "execution_count": null,
   "metadata": {
    "slideshow": {
     "slide_type": "-"
    }
   },
   "outputs": [],
   "source": [
    "# list sort method\n",
    "alist = [0, 1, 5, 3, 4]\n",
    "print(alist)\n",
    "alist.sort()\n",
    "print(alist)\n",
    "alist.sort(reverse=True)\n",
    "print(alist)"
   ]
  },
  {
   "cell_type": "markdown",
   "metadata": {
    "slideshow": {
     "slide_type": "slide"
    }
   },
   "source": [
    "对列表进行逆序操作\n",
    "```\n",
    "    L.reverse() -- reverse *IN PLACE*\n",
    "```    "
   ]
  },
  {
   "cell_type": "code",
   "execution_count": null,
   "metadata": {
    "slideshow": {
     "slide_type": "-"
    }
   },
   "outputs": [],
   "source": [
    "# list sort method\n",
    "alist = [0, 1, 5, 3, 4]\n",
    "print(alist)\n",
    "alist.reverse()\n",
    "print(alist)"
   ]
  },
  {
   "cell_type": "markdown",
   "metadata": {
    "slideshow": {
     "slide_type": "slide"
    }
   },
   "source": [
    "## 转换\n",
    "\n",
    "- 使用内置`list`类构造对象"
   ]
  },
  {
   "cell_type": "code",
   "execution_count": null,
   "metadata": {
    "slideshow": {
     "slide_type": "-"
    }
   },
   "outputs": [],
   "source": [
    "emptylist = list()\n",
    "print(emptylist)"
   ]
  },
  {
   "cell_type": "code",
   "execution_count": null,
   "metadata": {
    "slideshow": {
     "slide_type": "-"
    }
   },
   "outputs": [],
   "source": [
    "letters = list('abcdefghijklmnopqrstuvwxyz')\n",
    "print(letters)"
   ]
  },
  {
   "cell_type": "markdown",
   "metadata": {
    "slideshow": {
     "slide_type": "slide"
    }
   },
   "source": [
    "## 遍历列表\n",
    "\n",
    "使用`for`语句来遍历列表中的的每一个元素。"
   ]
  },
  {
   "cell_type": "code",
   "execution_count": null,
   "metadata": {
    "slideshow": {
     "slide_type": "-"
    }
   },
   "outputs": [],
   "source": [
    "for letter in letters:\n",
    "    print('{0:03d} --- {1}'.format(ord(letter), letter))"
   ]
  },
  {
   "cell_type": "markdown",
   "metadata": {
    "slideshow": {
     "slide_type": "slide"
    }
   },
   "source": [
    "## 错误与异常\n",
    "\n",
    "> 像硬币一样，任何事物都具有两重性或两面性。"
   ]
  },
  {
   "cell_type": "markdown",
   "metadata": {
    "slideshow": {
     "slide_type": "slide"
    }
   },
   "source": [
    "- 索引错误\n",
    "- 搜索错误\n",
    "- ..."
   ]
  },
  {
   "cell_type": "code",
   "execution_count": null,
   "metadata": {
    "slideshow": {
     "slide_type": "slide"
    }
   },
   "outputs": [],
   "source": [
    "print(digits[10])"
   ]
  },
  {
   "cell_type": "code",
   "execution_count": null,
   "metadata": {
    "slideshow": {
     "slide_type": "slide"
    }
   },
   "outputs": [],
   "source": [
    "# list remove method\n",
    "alist = [0, 1, 2, 3, 4, 2, 2]\n",
    "alist.remove(5)"
   ]
  }
 ],
 "metadata": {
  "celltoolbar": "Slideshow",
  "kernelspec": {
   "display_name": "Python 3",
   "language": "python",
   "name": "python3"
  },
  "language_info": {
   "codemirror_mode": {
    "name": "ipython",
    "version": 3
   },
   "file_extension": ".py",
   "mimetype": "text/x-python",
   "name": "python",
   "nbconvert_exporter": "python",
   "pygments_lexer": "ipython3",
   "version": "3.6.4"
  },
  "toc": {
   "base_numbering": 1,
   "nav_menu": {},
   "number_sections": true,
   "sideBar": true,
   "skip_h1_title": false,
   "title_cell": "Table of Contents",
   "title_sidebar": "Contents",
   "toc_cell": false,
   "toc_position": {
    "height": "calc(100% - 180px)",
    "left": "10px",
    "top": "150px",
    "width": "349px"
   },
   "toc_section_display": true,
   "toc_window_display": false
  }
 },
 "nbformat": 4,
 "nbformat_minor": 1
}
