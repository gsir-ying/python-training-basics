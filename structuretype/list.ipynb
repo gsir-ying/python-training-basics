{
 "cells": [
  {
   "cell_type": "markdown",
   "metadata": {
    "slideshow": {
     "slide_type": "slide"
    }
   },
   "source": [
    "# 基本类型-列表(list)\n",
    "\n",
    "列表（list）是异质、可变、可重复，有序的，无索引的序列。"
   ]
  },
  {
   "cell_type": "markdown",
   "metadata": {
    "slideshow": {
     "slide_type": "slide"
    }
   },
   "source": [
    "## 现实生活中的列表\n",
    "\n",
    "在生活中，常常用一些归纳箱、展示柜或货架之类的物件，用来存放各种各样的东西。\n",
    "\n",
    "<img src=\"assets/list_in_life.jpg\" style=\"zoom:30%\" />"
   ]
  },
  {
   "cell_type": "markdown",
   "metadata": {
    "slideshow": {
     "slide_type": "slide"
    }
   },
   "source": [
    "与归纳箱或展示柜的相关操作有如下：\n",
    "- 创建一个物件（购买）\n",
    "- 可以放不同类型的东西\n",
    "- 数一数里面有多少东西\n",
    "- 查看指定位置的东西\n",
    "- 往里面添加东西\n",
    "- 拿走东西\n",
    "- ..."
   ]
  },
  {
   "cell_type": "markdown",
   "metadata": {
    "slideshow": {
     "slide_type": "slide"
    }
   },
   "source": [
    "## 创建列表对象\n",
    "\n",
    "列表是一个有序的序列，是Python最常用的数据类型，可以包含0个或多个对象。\n",
    "- 使用`[]`"
   ]
  },
  {
   "cell_type": "markdown",
   "metadata": {
    "slideshow": {
     "slide_type": "slide"
    }
   },
   "source": [
    "使用`[]`包含0个或多个元素，每个元素都是一个对象，用逗号分隔。\n",
    "\n",
    "列表的元素可以重复的。"
   ]
  },
  {
   "cell_type": "code",
   "execution_count": 1,
   "metadata": {
    "slideshow": {
     "slide_type": "-"
    }
   },
   "outputs": [
    {
     "name": "stdout",
     "output_type": "stream",
     "text": [
      "[]\n",
      "[0, 1, 2, 3, 4, 5, 6, 7, 8, 9]\n",
      "['贵州茅台', '格力电器', '格力电器']\n"
     ]
    }
   ],
   "source": [
    "emptylist = []\n",
    "digits = [0, 1, 2, 3, 4, 5, 6, 7, 8, 9]\n",
    "stocks = ['贵州茅台', '格力电器', '格力电器']\n",
    "print(emptylist)\n",
    "print(digits)\n",
    "print(stocks)"
   ]
  },
  {
   "cell_type": "markdown",
   "metadata": {
    "slideshow": {
     "slide_type": "slide"
    }
   },
   "source": [
    "列表的元素并不要求是同一数据类型。"
   ]
  },
  {
   "cell_type": "code",
   "execution_count": 2,
   "metadata": {
    "slideshow": {
     "slide_type": "-"
    }
   },
   "outputs": [
    {
     "name": "stdout",
     "output_type": "stream",
     "text": [
      "[True, 10000000000000000000000000000000000000000000000000000000000000000000000000000000000000000000000000000, 3.1415926, (3+4j), 'Python']\n"
     ]
    }
   ],
   "source": [
    "datatypes = [True, 10**100, 3.1415926, 3+4j, 'Python']\n",
    "print(datatypes)"
   ]
  },
  {
   "cell_type": "markdown",
   "metadata": {
    "slideshow": {
     "slide_type": "slide"
    }
   },
   "source": [
    "列表的元素也可以是列表，也就是嵌套列表"
   ]
  },
  {
   "cell_type": "code",
   "execution_count": 3,
   "metadata": {
    "slideshow": {
     "slide_type": "-"
    }
   },
   "outputs": [
    {
     "name": "stdout",
     "output_type": "stream",
     "text": [
      "['nesting list', [0, 1, 2, 3, 4, 5, 6, 7, 8, 9], ['贵州茅台', '格力电器', '格力电器']]\n"
     ]
    }
   ],
   "source": [
    "nesting_list = ['nesting list', digits, stocks]\n",
    "print(nesting_list)"
   ]
  },
  {
   "cell_type": "markdown",
   "metadata": {
    "slideshow": {
     "slide_type": "slide"
    }
   },
   "source": [
    "## 自省\n",
    "\n",
    "> 吾每遇对象必自省，用变量而知其类乎？用其值而知属性乎？用其法而知方法乎？"
   ]
  },
  {
   "cell_type": "markdown",
   "metadata": {
    "slideshow": {
     "slide_type": "slide"
    }
   },
   "source": [
    "使用内置函数`type()`查看对象的类型"
   ]
  },
  {
   "cell_type": "code",
   "execution_count": 4,
   "metadata": {
    "slideshow": {
     "slide_type": "-"
    }
   },
   "outputs": [
    {
     "name": "stdout",
     "output_type": "stream",
     "text": [
      "<class 'list'> <class 'list'> <class 'list'> <class 'list'>\n"
     ]
    }
   ],
   "source": [
    "print(type([]), type(digits), type(datatypes), type(nesting_list))"
   ]
  },
  {
   "cell_type": "markdown",
   "metadata": {
    "slideshow": {
     "slide_type": "slide"
    }
   },
   "source": [
    "使用内置函数`id()`查看对象内存地址"
   ]
  },
  {
   "cell_type": "code",
   "execution_count": 5,
   "metadata": {
    "slideshow": {
     "slide_type": "-"
    }
   },
   "outputs": [
    {
     "name": "stdout",
     "output_type": "stream",
     "text": [
      "140109821939400 140109855968968\n",
      "140109855739784 140109821601160\n",
      "140109821600776 140109821601992\n"
     ]
    }
   ],
   "source": [
    "print(id(emptylist), id([]))\n",
    "print(id(digits), id([0, 1, 2, 3, 4, 5, 6, 7, 8, 9]))\n",
    "print(id(datatypes), id(nesting_list))    "
   ]
  },
  {
   "cell_type": "markdown",
   "metadata": {
    "slideshow": {
     "slide_type": "slide"
    }
   },
   "source": [
    "使用is操作符"
   ]
  },
  {
   "cell_type": "code",
   "execution_count": 6,
   "metadata": {
    "slideshow": {
     "slide_type": "-"
    }
   },
   "outputs": [
    {
     "name": "stdout",
     "output_type": "stream",
     "text": [
      "False\n",
      "True\n"
     ]
    }
   ],
   "source": [
    "emptylist2 = []\n",
    "print(emptylist2 is emptylist)\n",
    "emptylist2 = emptylist\n",
    "print(emptylist2 is emptylist)"
   ]
  },
  {
   "cell_type": "markdown",
   "metadata": {
    "slideshow": {
     "slide_type": "slide"
    }
   },
   "source": [
    "> 每个对象都有三个特性：类型、身份标识、值\n",
    "\n",
    "> 在Python中对象一旦创建，在其生命周期，类型和身份标识不能改变。\n",
    "\n",
    "> 值不可以改变称为不可变对象（immutable），可以改变称为可变对象（mutable）"
   ]
  },
  {
   "cell_type": "markdown",
   "metadata": {
    "slideshow": {
     "slide_type": "-"
    }
   },
   "source": [
    "列表是可变对象，也就是说列表的值是可以改变的。"
   ]
  },
  {
   "cell_type": "markdown",
   "metadata": {
    "slideshow": {
     "slide_type": "slide"
    }
   },
   "source": [
    "### 帮助\n",
    "\n",
    "- 使用内置函数`help()`函数\n",
    "\n",
    "- 可以使用IPython自省功能?或??"
   ]
  },
  {
   "cell_type": "code",
   "execution_count": 7,
   "metadata": {
    "slideshow": {
     "slide_type": "slide"
    }
   },
   "outputs": [
    {
     "name": "stdout",
     "output_type": "stream",
     "text": [
      "Help on class list in module builtins:\n",
      "\n",
      "class list(object)\n",
      " |  list() -> new empty list\n",
      " |  list(iterable) -> new list initialized from iterable's items\n",
      " |  \n",
      " |  Methods defined here:\n",
      " |  \n",
      " |  __add__(self, value, /)\n",
      " |      Return self+value.\n",
      " |  \n",
      " |  __contains__(self, key, /)\n",
      " |      Return key in self.\n",
      " |  \n",
      " |  __delitem__(self, key, /)\n",
      " |      Delete self[key].\n",
      " |  \n",
      " |  __eq__(self, value, /)\n",
      " |      Return self==value.\n",
      " |  \n",
      " |  __ge__(self, value, /)\n",
      " |      Return self>=value.\n",
      " |  \n",
      " |  __getattribute__(self, name, /)\n",
      " |      Return getattr(self, name).\n",
      " |  \n",
      " |  __getitem__(...)\n",
      " |      x.__getitem__(y) <==> x[y]\n",
      " |  \n",
      " |  __gt__(self, value, /)\n",
      " |      Return self>value.\n",
      " |  \n",
      " |  __iadd__(self, value, /)\n",
      " |      Implement self+=value.\n",
      " |  \n",
      " |  __imul__(self, value, /)\n",
      " |      Implement self*=value.\n",
      " |  \n",
      " |  __init__(self, /, *args, **kwargs)\n",
      " |      Initialize self.  See help(type(self)) for accurate signature.\n",
      " |  \n",
      " |  __iter__(self, /)\n",
      " |      Implement iter(self).\n",
      " |  \n",
      " |  __le__(self, value, /)\n",
      " |      Return self<=value.\n",
      " |  \n",
      " |  __len__(self, /)\n",
      " |      Return len(self).\n",
      " |  \n",
      " |  __lt__(self, value, /)\n",
      " |      Return self<value.\n",
      " |  \n",
      " |  __mul__(self, value, /)\n",
      " |      Return self*value.n\n",
      " |  \n",
      " |  __ne__(self, value, /)\n",
      " |      Return self!=value.\n",
      " |  \n",
      " |  __new__(*args, **kwargs) from builtins.type\n",
      " |      Create and return a new object.  See help(type) for accurate signature.\n",
      " |  \n",
      " |  __repr__(self, /)\n",
      " |      Return repr(self).\n",
      " |  \n",
      " |  __reversed__(...)\n",
      " |      L.__reversed__() -- return a reverse iterator over the list\n",
      " |  \n",
      " |  __rmul__(self, value, /)\n",
      " |      Return self*value.\n",
      " |  \n",
      " |  __setitem__(self, key, value, /)\n",
      " |      Set self[key] to value.\n",
      " |  \n",
      " |  __sizeof__(...)\n",
      " |      L.__sizeof__() -- size of L in memory, in bytes\n",
      " |  \n",
      " |  append(...)\n",
      " |      L.append(object) -> None -- append object to end\n",
      " |  \n",
      " |  clear(...)\n",
      " |      L.clear() -> None -- remove all items from L\n",
      " |  \n",
      " |  copy(...)\n",
      " |      L.copy() -> list -- a shallow copy of L\n",
      " |  \n",
      " |  count(...)\n",
      " |      L.count(value) -> integer -- return number of occurrences of value\n",
      " |  \n",
      " |  extend(...)\n",
      " |      L.extend(iterable) -> None -- extend list by appending elements from the iterable\n",
      " |  \n",
      " |  index(...)\n",
      " |      L.index(value, [start, [stop]]) -> integer -- return first index of value.\n",
      " |      Raises ValueError if the value is not present.\n",
      " |  \n",
      " |  insert(...)\n",
      " |      L.insert(index, object) -- insert object before index\n",
      " |  \n",
      " |  pop(...)\n",
      " |      L.pop([index]) -> item -- remove and return item at index (default last).\n",
      " |      Raises IndexError if list is empty or index is out of range.\n",
      " |  \n",
      " |  remove(...)\n",
      " |      L.remove(value) -> None -- remove first occurrence of value.\n",
      " |      Raises ValueError if the value is not present.\n",
      " |  \n",
      " |  reverse(...)\n",
      " |      L.reverse() -- reverse *IN PLACE*\n",
      " |  \n",
      " |  sort(...)\n",
      " |      L.sort(key=None, reverse=False) -> None -- stable sort *IN PLACE*\n",
      " |  \n",
      " |  ----------------------------------------------------------------------\n",
      " |  Data and other attributes defined here:\n",
      " |  \n",
      " |  __hash__ = None\n",
      "\n"
     ]
    }
   ],
   "source": [
    "# Try help(emptylist), help([])\n",
    "help(list)"
   ]
  },
  {
   "cell_type": "code",
   "execution_count": null,
   "metadata": {
    "slideshow": {
     "slide_type": "slide"
    }
   },
   "outputs": [],
   "source": [
    "emptylist?"
   ]
  },
  {
   "cell_type": "markdown",
   "metadata": {
    "slideshow": {
     "slide_type": "slide"
    }
   },
   "source": [
    "### 属性和方法\n",
    "\n",
    "- 使用`dir()`函数列出对象的属性和方法"
   ]
  },
  {
   "cell_type": "code",
   "execution_count": null,
   "metadata": {
    "slideshow": {
     "slide_type": "slide"
    }
   },
   "outputs": [],
   "source": [
    "dir(list)"
   ]
  },
  {
   "cell_type": "markdown",
   "metadata": {
    "slideshow": {
     "slide_type": "slide"
    }
   },
   "source": [
    "#### 算术操作\n",
    "\n",
    "|操作符 | 特殊方法    |  说明   |\n",
    "| :----:|:-------------| -------: |\n",
    "| `+`  | `__add__`    | 加法   |\n",
    "| `*`  | `__mul__`    | 乘法   |"
   ]
  },
  {
   "cell_type": "markdown",
   "metadata": {
    "slideshow": {
     "slide_type": "slide"
    }
   },
   "source": [
    "与字符串相似，列表的“加法”是列表的组合，“乘法” 号用于重复列表。"
   ]
  },
  {
   "cell_type": "code",
   "execution_count": 8,
   "metadata": {
    "slideshow": {
     "slide_type": "-"
    }
   },
   "outputs": [
    {
     "name": "stdout",
     "output_type": "stream",
     "text": [
      "[1, 2, 3, 4, 5, 6]\n"
     ]
    }
   ],
   "source": [
    "print([1, 2, 3] + [4, 5, 6])"
   ]
  },
  {
   "cell_type": "code",
   "execution_count": 9,
   "metadata": {
    "slideshow": {
     "slide_type": "-"
    }
   },
   "outputs": [
    {
     "name": "stdout",
     "output_type": "stream",
     "text": [
      "[0, 1, 2, 3, 4, 5, 6, 7, 8, 9, 0, 1, 2, 3, 4, 5, 6, 7, 8, 9, 0, 1, 2, 3, 4, 5, 6, 7, 8, 9]\n"
     ]
    }
   ],
   "source": [
    "print(digits * 3)"
   ]
  },
  {
   "cell_type": "markdown",
   "metadata": {
    "slideshow": {
     "slide_type": "slide"
    }
   },
   "source": [
    "#### 比较运算\n",
    "\n",
    "|操作符 | 特殊方法    |  说明   |\n",
    "| :----:|:-------------| -------: |\n",
    "| `<`  | `__lt__`    | 小于   |\n",
    "| `<=`  | `__le__`   | 小于等于   |\n",
    "| `>`  | `__gt__`    | 大于   |\n",
    "| `>=` | `__ge__`    | 大于等于   |\n",
    "| `==`  | `__eq__`   | 等于   |\n",
    "| `!=` | `__ne__`    | 不等于   |"
   ]
  },
  {
   "cell_type": "code",
   "execution_count": 10,
   "metadata": {
    "slideshow": {
     "slide_type": "slide"
    }
   },
   "outputs": [
    {
     "data": {
      "text/plain": [
       "False"
      ]
     },
     "execution_count": 10,
     "metadata": {},
     "output_type": "execute_result"
    }
   ],
   "source": [
    "[1, 2, 4, 3] == [1, 2, 3, 4]"
   ]
  },
  {
   "cell_type": "code",
   "execution_count": 11,
   "metadata": {
    "slideshow": {
     "slide_type": "-"
    }
   },
   "outputs": [
    {
     "data": {
      "text/plain": [
       "False"
      ]
     },
     "execution_count": 11,
     "metadata": {},
     "output_type": "execute_result"
    }
   ],
   "source": [
    "[1, 2, 3, 3] == [1, 2, 3, 4]"
   ]
  },
  {
   "cell_type": "markdown",
   "metadata": {
    "slideshow": {
     "slide_type": "slide"
    }
   },
   "source": [
    "#### 序列操作\n",
    "\n",
    "|操作符 | 特殊方法    |  说明   |\n",
    "| :----:|:-------------| -------: |\n",
    "|`len()` | `__len__`   | 返回序列长度  |\n",
    "|`s[k]`  | `__getitem__` | 返回元素  |\n",
    "|`s[k]=x`| `__setitem__` | 更改元素  |\n",
    "|`del s[k]`| `__delitem__` | 删除元素  |"
   ]
  },
  {
   "cell_type": "markdown",
   "metadata": {
    "slideshow": {
     "slide_type": "slide"
    }
   },
   "source": [
    "与字符串类似，列表也是序列，也有类似切片的操作。\n",
    "\n",
    "与字符串不同的是，列表的每个元素可以是不同数据类型，此外列表是可变对象，也就是说列表的元素可以更改，可以删除。"
   ]
  },
  {
   "cell_type": "markdown",
   "metadata": {
    "slideshow": {
     "slide_type": "slide"
    }
   },
   "source": [
    "例如，对于列表`datatypes = [True, 10**100, 3.1415926, 3+4j, 'Python']`，其元素如下图所示：\n",
    "![列表的序列](assets/listindex.png)"
   ]
  },
  {
   "cell_type": "markdown",
   "metadata": {
    "slideshow": {
     "slide_type": "slide"
    }
   },
   "source": [
    "使用`len`函数获得列表的长度"
   ]
  },
  {
   "cell_type": "code",
   "execution_count": 12,
   "metadata": {
    "slideshow": {
     "slide_type": "-"
    }
   },
   "outputs": [
    {
     "name": "stdout",
     "output_type": "stream",
     "text": [
      "0 10 5 3\n"
     ]
    }
   ],
   "source": [
    "print(len(emptylist), len(digits), len(datatypes), len(nesting_list))"
   ]
  },
  {
   "cell_type": "markdown",
   "metadata": {
    "slideshow": {
     "slide_type": "slide"
    }
   },
   "source": [
    "使用切片操作访问列表元素"
   ]
  },
  {
   "cell_type": "code",
   "execution_count": 13,
   "metadata": {
    "slideshow": {
     "slide_type": "-"
    }
   },
   "outputs": [
    {
     "name": "stdout",
     "output_type": "stream",
     "text": [
      "0 1 9 9\n"
     ]
    }
   ],
   "source": [
    "print(digits[0], digits[1], digits[9], digits[-1])"
   ]
  },
  {
   "cell_type": "markdown",
   "metadata": {
    "slideshow": {
     "slide_type": "slide"
    }
   },
   "source": [
    "对于列表来说，仍然存在索引溢出问题："
   ]
  },
  {
   "cell_type": "code",
   "execution_count": 14,
   "metadata": {
    "slideshow": {
     "slide_type": "-"
    }
   },
   "outputs": [
    {
     "ename": "IndexError",
     "evalue": "list index out of range",
     "output_type": "error",
     "traceback": [
      "\u001b[0;31m---------------------------------------------------------------------------\u001b[0m",
      "\u001b[0;31mIndexError\u001b[0m                                Traceback (most recent call last)",
      "\u001b[0;32m<ipython-input-14-853dafa5e5b4>\u001b[0m in \u001b[0;36m<module>\u001b[0;34m()\u001b[0m\n\u001b[0;32m----> 1\u001b[0;31m \u001b[0mprint\u001b[0m\u001b[0;34m(\u001b[0m\u001b[0mdigits\u001b[0m\u001b[0;34m[\u001b[0m\u001b[0;36m10\u001b[0m\u001b[0;34m]\u001b[0m\u001b[0;34m)\u001b[0m\u001b[0;34m\u001b[0m\u001b[0m\n\u001b[0m",
      "\u001b[0;31mIndexError\u001b[0m: list index out of range"
     ]
    }
   ],
   "source": [
    "print(digits[10])"
   ]
  },
  {
   "cell_type": "code",
   "execution_count": 15,
   "metadata": {
    "slideshow": {
     "slide_type": "slide"
    }
   },
   "outputs": [
    {
     "name": "stdout",
     "output_type": "stream",
     "text": [
      "[2, 3, 4] [2, 3, 4, 5, 6, 7, 8] [2, 3, 4, 5, 6, 7, 8, 9]\n"
     ]
    }
   ],
   "source": [
    "print(digits[2:5], digits[2:-1], digits[2:])"
   ]
  },
  {
   "cell_type": "code",
   "execution_count": 16,
   "metadata": {
    "slideshow": {
     "slide_type": "-"
    }
   },
   "outputs": [
    {
     "name": "stdout",
     "output_type": "stream",
     "text": [
      "[2, 4] [2, 4, 6, 8] [2, 4, 6, 8]\n",
      "[9, 8, 7, 6, 5, 4, 3, 2, 1, 0]\n"
     ]
    }
   ],
   "source": [
    "print(digits[2:5:2], digits[2:-1:2], digits[2::2])\n",
    "print(digits[::-1])"
   ]
  },
  {
   "cell_type": "markdown",
   "metadata": {
    "slideshow": {
     "slide_type": "slide"
    }
   },
   "source": [
    "列表元素可以更改和删除"
   ]
  },
  {
   "cell_type": "code",
   "execution_count": 17,
   "metadata": {
    "slideshow": {
     "slide_type": "-"
    }
   },
   "outputs": [
    {
     "name": "stdout",
     "output_type": "stream",
     "text": [
      "[0, 1, 2, 3, 4, 'Changed', 6, 7, 8, 9]\n"
     ]
    }
   ],
   "source": [
    "digits = [0, 1, 2, 3, 4, 5, 6, 7, 8, 9]\n",
    "digits[5] = 'Changed'\n",
    "print(digits)"
   ]
  },
  {
   "cell_type": "code",
   "execution_count": 18,
   "metadata": {
    "slideshow": {
     "slide_type": "-"
    }
   },
   "outputs": [
    {
     "name": "stdout",
     "output_type": "stream",
     "text": [
      "[0, 1, 2, 3, 4, 6, 7, 8, 9]\n"
     ]
    }
   ],
   "source": [
    "del digits[5]\n",
    "print(digits)"
   ]
  },
  {
   "cell_type": "markdown",
   "metadata": {
    "slideshow": {
     "slide_type": "slide"
    }
   },
   "source": [
    "#### 成员运算符\n",
    "\n",
    "|操作符 | 特殊方法    |  说明   |\n",
    "| :----:|:-------------| -------: |\n",
    "|`in` | `__contains__`   | 成员 |"
   ]
  },
  {
   "cell_type": "code",
   "execution_count": 19,
   "metadata": {
    "slideshow": {
     "slide_type": "-"
    }
   },
   "outputs": [
    {
     "name": "stdout",
     "output_type": "stream",
     "text": [
      "True\n",
      "True\n"
     ]
    }
   ],
   "source": [
    "print(True in datatypes)\n",
    "print(3+4j in datatypes)"
   ]
  },
  {
   "cell_type": "markdown",
   "metadata": {
    "slideshow": {
     "slide_type": "slide"
    }
   },
   "source": [
    "#### 常用方法\n"
   ]
  },
  {
   "cell_type": "markdown",
   "metadata": {
    "slideshow": {
     "slide_type": "-"
    }
   },
   "source": [
    "##### 列表处理\n",
    "\n",
    "|方法         |  说明      |\n",
    "|:--------------:|-------------: |\n",
    "|`L.append`     | 添加新的对象 |\n",
    "|`L.insert()`    | 添加新的对象 |\n",
    "|`L.extend()`   | 添加合并列表 |\n",
    "|`L.pop()`     | 移除列表一个元素 |\n",
    "|`L.remove()`    | 删除指定匹配的元素 |\n",
    "|`L.clear()`    | 清除列表元素 |\n",
    "|`L.copy()`     | 返回列表的一个浅拷贝|"
   ]
  },
  {
   "cell_type": "markdown",
   "metadata": {
    "slideshow": {
     "slide_type": "slide"
    }
   },
   "source": [
    "##### 搜索和排序\n",
    "\n",
    "\n",
    "|方法         |  说明      |\n",
    "|:--------------:|-------------: |\n",
    "|`L.index()`    | 查找指定匹配元素的索引值 |\n",
    "|`L.count()`    | 统计某个元素次数 |\n",
    "|`L.reverse()`   | 倒序 |\n",
    "|`L.sort()()`   | 排序 |"
   ]
  },
  {
   "cell_type": "markdown",
   "metadata": {
    "slideshow": {
     "slide_type": "slide"
    }
   },
   "source": [
    "## 操作和方法示例"
   ]
  },
  {
   "cell_type": "markdown",
   "metadata": {
    "slideshow": {
     "slide_type": "slide"
    }
   },
   "source": [
    "添加新元素\n",
    "```\n",
    "    L.append(object) -> None -- append object to end\n",
    "```    "
   ]
  },
  {
   "cell_type": "code",
   "execution_count": 20,
   "metadata": {
    "slideshow": {
     "slide_type": "-"
    }
   },
   "outputs": [
    {
     "name": "stdout",
     "output_type": "stream",
     "text": [
      "[0]\n",
      "[0, 'Hello World']\n"
     ]
    }
   ],
   "source": [
    "# list append method\n",
    "alist = []\n",
    "alist.append(0)\n",
    "print(alist)\n",
    "alist.append('Hello World')\n",
    "print(alist)"
   ]
  },
  {
   "cell_type": "markdown",
   "metadata": {
    "slideshow": {
     "slide_type": "skip"
    }
   },
   "source": [
    "在指定索引位置前插入插入新元素\n",
    "```\n",
    "    L.insert(index, object) -- insert object before index\n",
    "```"
   ]
  },
  {
   "cell_type": "code",
   "execution_count": null,
   "metadata": {
    "slideshow": {
     "slide_type": "skip"
    }
   },
   "outputs": [],
   "source": [
    "# list insert method\n",
    "alist = [0, 1, 2, 3, 4]\n",
    "alist.insert(3, 'value1 index 3')\n",
    "print(alist)\n",
    "alist.insert(3, 'value2 index 3')\n",
    "print(alist)"
   ]
  },
  {
   "cell_type": "markdown",
   "metadata": {
    "slideshow": {
     "slide_type": "slide"
    }
   },
   "source": [
    "在列表尾部增加多个元素\n",
    "```\n",
    "    L.extend(iterable) -> None -- extend list by appending elements from the iterable\n",
    "```    "
   ]
  },
  {
   "cell_type": "code",
   "execution_count": 21,
   "metadata": {
    "slideshow": {
     "slide_type": "-"
    }
   },
   "outputs": [
    {
     "name": "stdout",
     "output_type": "stream",
     "text": [
      "[0, 1, 2, 3, 4, 5, 6, 7, 8, 9]\n"
     ]
    }
   ],
   "source": [
    "# list extend method\n",
    "alist = [0, 1, 2, 3, 4]\n",
    "blist = [5, 6, 7, 8, 9]\n",
    "alist.extend(blist)\n",
    "print(alist)"
   ]
  },
  {
   "cell_type": "markdown",
   "metadata": {
    "slideshow": {
     "slide_type": "slide"
    }
   },
   "source": [
    "移除列表中的一个元素，并且返回该元素的值，默认最后一个元素。\n",
    "```\n",
    "    L.pop([index]) -> item -- remove and return item at index (default last).\n",
    "    Raises IndexError if list is empty or index is out of range.\n",
    "```"
   ]
  },
  {
   "cell_type": "code",
   "execution_count": 22,
   "metadata": {
    "slideshow": {
     "slide_type": "-"
    }
   },
   "outputs": [
    {
     "name": "stdout",
     "output_type": "stream",
     "text": [
      "4 [0, 1, 2, 3]\n",
      "2 [0, 1, 3, 4]\n"
     ]
    }
   ],
   "source": [
    "# list pop method\n",
    "alist = [0, 1, 2, 3, 4]\n",
    "var = alist.pop()\n",
    "print(var, alist)\n",
    "alist = [0, 1, 2, 3, 4]\n",
    "var = alist.pop(2)\n",
    "print(var, alist)"
   ]
  },
  {
   "cell_type": "markdown",
   "metadata": {
    "slideshow": {
     "slide_type": "slide"
    }
   },
   "source": [
    "注意：如果索引超出列表长度，会出现索引溢出异常。"
   ]
  },
  {
   "cell_type": "code",
   "execution_count": 23,
   "metadata": {
    "slideshow": {
     "slide_type": "-"
    }
   },
   "outputs": [
    {
     "ename": "IndexError",
     "evalue": "pop index out of range",
     "output_type": "error",
     "traceback": [
      "\u001b[0;31m---------------------------------------------------------------------------\u001b[0m",
      "\u001b[0;31mIndexError\u001b[0m                                Traceback (most recent call last)",
      "\u001b[0;32m<ipython-input-23-710f07067a03>\u001b[0m in \u001b[0;36m<module>\u001b[0;34m()\u001b[0m\n\u001b[1;32m      1\u001b[0m \u001b[0;31m# list pop method\u001b[0m\u001b[0;34m\u001b[0m\u001b[0;34m\u001b[0m\u001b[0m\n\u001b[1;32m      2\u001b[0m \u001b[0malist\u001b[0m \u001b[0;34m=\u001b[0m \u001b[0;34m[\u001b[0m\u001b[0;36m0\u001b[0m\u001b[0;34m,\u001b[0m \u001b[0;36m1\u001b[0m\u001b[0;34m,\u001b[0m \u001b[0;36m2\u001b[0m\u001b[0;34m,\u001b[0m \u001b[0;36m3\u001b[0m\u001b[0;34m,\u001b[0m \u001b[0;36m4\u001b[0m\u001b[0;34m]\u001b[0m\u001b[0;34m\u001b[0m\u001b[0m\n\u001b[0;32m----> 3\u001b[0;31m \u001b[0mvar\u001b[0m \u001b[0;34m=\u001b[0m \u001b[0malist\u001b[0m\u001b[0;34m.\u001b[0m\u001b[0mpop\u001b[0m\u001b[0;34m(\u001b[0m\u001b[0;36m5\u001b[0m\u001b[0;34m)\u001b[0m\u001b[0;34m\u001b[0m\u001b[0m\n\u001b[0m\u001b[1;32m      4\u001b[0m \u001b[0mprint\u001b[0m\u001b[0;34m(\u001b[0m\u001b[0mvar\u001b[0m\u001b[0;34m,\u001b[0m \u001b[0malist\u001b[0m\u001b[0;34m)\u001b[0m\u001b[0;34m\u001b[0m\u001b[0m\n",
      "\u001b[0;31mIndexError\u001b[0m: pop index out of range"
     ]
    }
   ],
   "source": [
    "# list pop method\n",
    "alist = [0, 1, 2, 3, 4]\n",
    "var = alist.pop(5)\n",
    "print(var, alist)"
   ]
  },
  {
   "cell_type": "markdown",
   "metadata": {
    "slideshow": {
     "slide_type": "slide"
    }
   },
   "source": [
    "删除列表中某个指定值的第一个匹配项，如果该值不存在则会抛出异常\n",
    "```\n",
    "    L.remove(value) -> None -- remove first occurrence of value.\n",
    "    Raises ValueError if the value is not present.\n",
    "```"
   ]
  },
  {
   "cell_type": "code",
   "execution_count": null,
   "metadata": {
    "slideshow": {
     "slide_type": "-"
    }
   },
   "outputs": [],
   "source": [
    "# list remove method\n",
    "alist = [0, 1, 2, 3, 4, 2, 'Hello']\n",
    "alist.remove('Hello')\n",
    "print(alist)"
   ]
  },
  {
   "cell_type": "code",
   "execution_count": null,
   "metadata": {
    "slideshow": {
     "slide_type": "slide"
    }
   },
   "outputs": [],
   "source": [
    "# list remove method\n",
    "alist = [0, 1, 2, 3, 4, 2, 2]\n",
    "alist.remove(5)\n",
    "print(alist)"
   ]
  },
  {
   "cell_type": "markdown",
   "metadata": {
    "slideshow": {
     "slide_type": "slide"
    }
   },
   "source": [
    "清除列表所有元素\n",
    "```\n",
    "    L.clear() -> None -- remove all items from L\n",
    "```    "
   ]
  },
  {
   "cell_type": "code",
   "execution_count": 24,
   "metadata": {
    "slideshow": {
     "slide_type": "-"
    }
   },
   "outputs": [
    {
     "name": "stdout",
     "output_type": "stream",
     "text": [
      "[]\n"
     ]
    }
   ],
   "source": [
    "# list clear method\n",
    "alist = [0, 1, 2, 3, 4, 2, 2]\n",
    "alist.clear()\n",
    "print(alist)"
   ]
  },
  {
   "cell_type": "markdown",
   "metadata": {
    "slideshow": {
     "slide_type": "slide"
    }
   },
   "source": [
    "\n",
    "```\n",
    "    L.copy() -> list -- a shallow copy of L\n",
    "```    "
   ]
  },
  {
   "cell_type": "code",
   "execution_count": null,
   "metadata": {
    "slideshow": {
     "slide_type": "-"
    }
   },
   "outputs": [],
   "source": [
    "# list copy method\n",
    "alist = [0, 1, 2, 3, 4, 2, 2]\n",
    "blist = alist.copy()\n",
    "print(id(alist), id(blist))\n",
    "print(alist, blist)\n",
    "\n",
    "alist[0] = 2 ** 16\n",
    "alist.pop()\n",
    "print(alist, blist)"
   ]
  },
  {
   "cell_type": "markdown",
   "metadata": {
    "slideshow": {
     "slide_type": "slide"
    }
   },
   "source": [
    "在列表中搜索指定值，如果失败抛出异常。\n",
    "```\n",
    "    L.index(value, [start, [stop]]) -> integer -- return first index of value.\n",
    "    Raises ValueError if the value is not present.\n",
    "```    "
   ]
  },
  {
   "cell_type": "code",
   "execution_count": 25,
   "metadata": {
    "slideshow": {
     "slide_type": "-"
    }
   },
   "outputs": [
    {
     "name": "stdout",
     "output_type": "stream",
     "text": [
      "2 [0, 1, 2, 3, 4, 2, 2]\n",
      "5 [0, 1, 2, 3, 4, 2, 2]\n"
     ]
    }
   ],
   "source": [
    "# list index method\n",
    "alist = [0, 1, 2, 3, 4, 2, 2]\n",
    "xindex = alist.index(2)\n",
    "print(xindex, alist)\n",
    "xindex = alist.index(2, xindex+1)\n",
    "print(xindex, alist)"
   ]
  },
  {
   "cell_type": "code",
   "execution_count": null,
   "metadata": {
    "slideshow": {
     "slide_type": "slide"
    }
   },
   "outputs": [],
   "source": [
    "# list index method\n",
    "alist = [0, 1, 2, 3, 4, 2, 2]\n",
    "xindex = alist.index(5)\n",
    "print(xindex, alist)"
   ]
  },
  {
   "cell_type": "markdown",
   "metadata": {
    "slideshow": {
     "slide_type": "slide"
    }
   },
   "source": [
    "对列表中指定值统计次数\n",
    "```\n",
    "    L.count(value) -> integer -- return number of occurrences of value\n",
    "```"
   ]
  },
  {
   "cell_type": "code",
   "execution_count": 26,
   "metadata": {
    "slideshow": {
     "slide_type": "-"
    }
   },
   "outputs": [
    {
     "name": "stdout",
     "output_type": "stream",
     "text": [
      "3 [0, 1, 2, 3, 4, 2, 2]\n"
     ]
    }
   ],
   "source": [
    "# list count method\n",
    "alist = [0, 1, 2, 3, 4, 2, 2]\n",
    "num = alist.count(2)\n",
    "print(num, alist)"
   ]
  },
  {
   "cell_type": "markdown",
   "metadata": {
    "slideshow": {
     "slide_type": "slide"
    }
   },
   "source": [
    "列表排序\n",
    "```\n",
    "    L.sort(key=None, reverse=False) -> None -- stable sort *IN PLACE*\n",
    "```    "
   ]
  },
  {
   "cell_type": "code",
   "execution_count": 27,
   "metadata": {
    "slideshow": {
     "slide_type": "-"
    }
   },
   "outputs": [
    {
     "name": "stdout",
     "output_type": "stream",
     "text": [
      "[0, 1, 5, 3, 4]\n",
      "[0, 1, 3, 4, 5]\n",
      "[5, 4, 3, 1, 0]\n"
     ]
    }
   ],
   "source": [
    "# list sort method\n",
    "alist = [0, 1, 5, 3, 4]\n",
    "print(alist)\n",
    "alist.sort()\n",
    "print(alist)\n",
    "alist.sort(reverse=True)\n",
    "print(alist)"
   ]
  },
  {
   "cell_type": "markdown",
   "metadata": {
    "slideshow": {
     "slide_type": "slide"
    }
   },
   "source": [
    "对列表进行逆序操作\n",
    "```\n",
    "    L.reverse() -- reverse *IN PLACE*\n",
    "```    "
   ]
  },
  {
   "cell_type": "code",
   "execution_count": 28,
   "metadata": {
    "slideshow": {
     "slide_type": "-"
    }
   },
   "outputs": [
    {
     "name": "stdout",
     "output_type": "stream",
     "text": [
      "[0, 1, 5, 3, 4]\n",
      "[4, 3, 5, 1, 0]\n"
     ]
    }
   ],
   "source": [
    "# list sort method\n",
    "alist = [0, 1, 5, 3, 4]\n",
    "print(alist)\n",
    "alist.reverse()\n",
    "print(alist)"
   ]
  },
  {
   "cell_type": "markdown",
   "metadata": {
    "slideshow": {
     "slide_type": "slide"
    }
   },
   "source": [
    "## 转换\n",
    "\n",
    "- 使用内置`list`类构造对象"
   ]
  },
  {
   "cell_type": "code",
   "execution_count": 29,
   "metadata": {
    "slideshow": {
     "slide_type": "-"
    }
   },
   "outputs": [
    {
     "name": "stdout",
     "output_type": "stream",
     "text": [
      "[]\n"
     ]
    }
   ],
   "source": [
    "emptylist = list()\n",
    "print(emptylist)"
   ]
  },
  {
   "cell_type": "code",
   "execution_count": 30,
   "metadata": {
    "slideshow": {
     "slide_type": "-"
    }
   },
   "outputs": [
    {
     "name": "stdout",
     "output_type": "stream",
     "text": [
      "['a', 'b', 'c', 'd', 'e', 'f', 'g', 'h', 'i', 'j', 'k', 'l', 'm', 'n', 'o', 'p', 'q', 'r', 's', 't', 'u', 'v', 'w', 'x', 'y', 'z']\n"
     ]
    }
   ],
   "source": [
    "letters = list('abcdefghijklmnopqrstuvwxyz')\n",
    "print(letters)"
   ]
  },
  {
   "cell_type": "markdown",
   "metadata": {
    "slideshow": {
     "slide_type": "slide"
    }
   },
   "source": [
    "## 遍历列表\n",
    "\n",
    "使用`for`语句来遍历列表中的的每一个元素。"
   ]
  },
  {
   "cell_type": "code",
   "execution_count": 31,
   "metadata": {
    "slideshow": {
     "slide_type": "-"
    }
   },
   "outputs": [
    {
     "name": "stdout",
     "output_type": "stream",
     "text": [
      "097 --- a\n",
      "098 --- b\n",
      "099 --- c\n",
      "100 --- d\n",
      "101 --- e\n",
      "102 --- f\n",
      "103 --- g\n",
      "104 --- h\n",
      "105 --- i\n",
      "106 --- j\n",
      "107 --- k\n",
      "108 --- l\n",
      "109 --- m\n",
      "110 --- n\n",
      "111 --- o\n",
      "112 --- p\n",
      "113 --- q\n",
      "114 --- r\n",
      "115 --- s\n",
      "116 --- t\n",
      "117 --- u\n",
      "118 --- v\n",
      "119 --- w\n",
      "120 --- x\n",
      "121 --- y\n",
      "122 --- z\n"
     ]
    }
   ],
   "source": [
    "for letter in letters:\n",
    "    print('{0:03d} --- {1}'.format(ord(letter), letter))"
   ]
  },
  {
   "cell_type": "markdown",
   "metadata": {
    "slideshow": {
     "slide_type": "slide"
    }
   },
   "source": [
    "## 错误与异常\n",
    "\n",
    "> 像硬币一样，任何事物都具有两重性或两面性。"
   ]
  },
  {
   "cell_type": "markdown",
   "metadata": {
    "slideshow": {
     "slide_type": "slide"
    }
   },
   "source": [
    "- 索引错误\n",
    "- 搜索错误\n",
    "- ..."
   ]
  },
  {
   "cell_type": "code",
   "execution_count": null,
   "metadata": {
    "slideshow": {
     "slide_type": "slide"
    }
   },
   "outputs": [],
   "source": [
    "print(digits[10])"
   ]
  },
  {
   "cell_type": "code",
   "execution_count": null,
   "metadata": {
    "slideshow": {
     "slide_type": "slide"
    }
   },
   "outputs": [],
   "source": [
    "# list remove method\n",
    "alist = [0, 1, 2, 3, 4, 2, 2]\n",
    "alist.remove(5)"
   ]
  }
 ],
 "metadata": {
  "celltoolbar": "Slideshow",
  "kernelspec": {
   "display_name": "Python 3",
   "language": "python",
   "name": "python3"
  },
  "language_info": {
   "codemirror_mode": {
    "name": "ipython",
    "version": 3
   },
   "file_extension": ".py",
   "mimetype": "text/x-python",
   "name": "python",
   "nbconvert_exporter": "python",
   "pygments_lexer": "ipython3",
   "version": "3.6.4"
  },
  "toc": {
   "base_numbering": 1,
   "nav_menu": {},
   "number_sections": true,
   "sideBar": true,
   "skip_h1_title": false,
   "title_cell": "Table of Contents",
   "title_sidebar": "Contents",
   "toc_cell": false,
   "toc_position": {
    "height": "calc(100% - 180px)",
    "left": "10px",
    "top": "150px",
    "width": "349px"
   },
   "toc_section_display": true,
   "toc_window_display": false
  }
 },
 "nbformat": 4,
 "nbformat_minor": 1
}
