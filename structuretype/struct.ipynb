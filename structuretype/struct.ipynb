{
 "cells": [
  {
   "cell_type": "markdown",
   "metadata": {
    "slideshow": {
     "slide_type": "slide"
    }
   },
   "source": [
    "# 基本数据结构类型\n",
    "\n",
    "> 算法 + 数据结构  = 程序"
   ]
  },
  {
   "cell_type": "markdown",
   "metadata": {
    "slideshow": {
     "slide_type": "slide"
    }
   },
   "source": [
    "## 一处好戏的三种领导力\n",
    "\n",
    "1. 独裁者的丛林法则\n",
    "2. 利己主义者的物品交换体系\n",
    "3. 梦想主义者的“新社会”\n",
    "\n",
    "<img style=\"float;\" src=\"assets/yichuhaoxi.png\" width=\"60%\">"
   ]
  },
  {
   "cell_type": "markdown",
   "metadata": {
    "slideshow": {
     "slide_type": "slide"
    }
   },
   "source": [
    "## 基本数据\n",
    "\n",
    "- 整数（int）\n",
    "- 布尔数（bool）\n",
    "- 浮点数（float）\n",
    "- 复数（complex）\n",
    "- 字符串（str）\n",
    "- 空（NoneType）"
   ]
  },
  {
   "cell_type": "markdown",
   "metadata": {
    "slideshow": {
     "slide_type": "slide"
    }
   },
   "source": [
    "## 数据集\n",
    "\n",
    "- 同质或异质（Homogeneous，inhomogeneous），数据类型一样或不一样\n",
    "- 可变或不可变（mutable， immutable）\n",
    "- 独一或重复（unique，duplicated），元素独一或可重复\n",
    "- 有序或无序（ordered， unordered），元素有序或无序\n",
    "- 索引或无索引（indexing， indexless），元素有索引或无索引"
   ]
  },
  {
   "cell_type": "markdown",
   "metadata": {
    "slideshow": {
     "slide_type": "slide"
    }
   },
   "source": [
    "| 结构      | 同质 | 可变 | 重复 |  有序  | 索引 |\n",
    "|------------:|-----:|-----:|-----:|-----:|-----:|\n",
    "|列表（list） | 否   |  是 | 是   | 是 |  否  |\n",
    "|元组（tuple）| 否   |  否 | 是   | 是 |  否  |\n",
    "|集合（set）  | 否   |  是 | 否   | 否 |  否  |\n",
    "|字典（dict） | 否   |  是 | 是   | 否 |  是  |"
   ]
  },
  {
   "cell_type": "code",
   "execution_count": 2,
   "metadata": {
    "slideshow": {
     "slide_type": "slide"
    }
   },
   "outputs": [
    {
     "name": "stdout",
     "output_type": "stream",
     "text": [
      "结构0：('同质', '可变', '独一', '有序', '索引')\n",
      "结构1：('同质', '可变', '独一', '有序', '无索引')\n",
      "结构2：('同质', '可变', '独一', '无序', '索引')\n",
      "结构3：('同质', '可变', '独一', '无序', '无索引')\n",
      "结构4：('同质', '可变', '重复', '有序', '索引')\n",
      "结构5：('同质', '可变', '重复', '有序', '无索引')\n",
      "结构6：('同质', '可变', '重复', '无序', '索引')\n",
      "结构7：('同质', '可变', '重复', '无序', '无索引')\n",
      "结构8：('同质', '不可变', '独一', '有序', '索引')\n",
      "结构9：('同质', '不可变', '独一', '有序', '无索引')\n",
      "结构10：('同质', '不可变', '独一', '无序', '索引')\n",
      "结构11：('同质', '不可变', '独一', '无序', '无索引')\n",
      "结构12：('同质', '不可变', '重复', '有序', '索引')\n",
      "结构13：('同质', '不可变', '重复', '有序', '无索引')\n",
      "结构14：('同质', '不可变', '重复', '无序', '索引')\n",
      "结构15：('同质', '不可变', '重复', '无序', '无索引')\n",
      "结构16：('异质', '可变', '独一', '有序', '索引')\n",
      "结构17：('异质', '可变', '独一', '有序', '无索引')\n",
      "结构18：('异质', '可变', '独一', '无序', '索引')\n",
      "结构19：('异质', '可变', '独一', '无序', '无索引')\n",
      "结构20：('异质', '可变', '重复', '有序', '索引')\n",
      "结构21：('异质', '可变', '重复', '有序', '无索引')\n",
      "结构22：('异质', '可变', '重复', '无序', '索引')\n",
      "结构23：('异质', '可变', '重复', '无序', '无索引')\n",
      "结构24：('异质', '不可变', '独一', '有序', '索引')\n",
      "结构25：('异质', '不可变', '独一', '有序', '无索引')\n",
      "结构26：('异质', '不可变', '独一', '无序', '索引')\n",
      "结构27：('异质', '不可变', '独一', '无序', '无索引')\n",
      "结构28：('异质', '不可变', '重复', '有序', '索引')\n",
      "结构29：('异质', '不可变', '重复', '有序', '无索引')\n",
      "结构30：('异质', '不可变', '重复', '无序', '索引')\n",
      "结构31：('异质', '不可变', '重复', '无序', '无索引')\n"
     ]
    }
   ],
   "source": [
    "import itertools\n",
    "\n",
    "a1 = ['同质', '异质']\n",
    "a2 = ['可变', '不可变']\n",
    "a3 = ['独一', '重复']      \n",
    "a4 = ['有序', '无序']\n",
    "a5 = ['索引', '无索引']\n",
    "for i, xa in enumerate(itertools.product(a1, a2, a3, a4, a5)):\n",
    "    print('结构{}：{}'.format(i, xa))"
   ]
  },
  {
   "cell_type": "markdown",
   "metadata": {
    "slideshow": {
     "slide_type": "slide"
    }
   },
   "source": [
    "## 培训内容\n",
    "\n",
    "- [列表（list）](list.ipynb)\n",
    "- [元组（tuple）](tuple.ipynb)\n",
    "- [集合（set）](set.ipynb)\n",
    "- [字典（dict）](dict.ipynb)"
   ]
  }
 ],
 "metadata": {
  "celltoolbar": "Slideshow",
  "kernelspec": {
   "display_name": "Python 3",
   "language": "python",
   "name": "python3"
  },
  "language_info": {
   "codemirror_mode": {
    "name": "ipython",
    "version": 3
   },
   "file_extension": ".py",
   "mimetype": "text/x-python",
   "name": "python",
   "nbconvert_exporter": "python",
   "pygments_lexer": "ipython3",
   "version": "3.6.4"
  },
  "toc": {
   "base_numbering": 1,
   "nav_menu": {},
   "number_sections": true,
   "sideBar": true,
   "skip_h1_title": false,
   "title_cell": "Table of Contents",
   "title_sidebar": "Contents",
   "toc_cell": false,
   "toc_position": {},
   "toc_section_display": true,
   "toc_window_display": false
  }
 },
 "nbformat": 4,
 "nbformat_minor": 2
}
