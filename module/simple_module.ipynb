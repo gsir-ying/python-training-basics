{
 "cells": [
  {
   "cell_type": "markdown",
   "metadata": {
    "slideshow": {
     "slide_type": "slide"
    }
   },
   "source": [
    "# 模块和包\n",
    "\n",
    "<img src=\"assets/ModulePackage.jpg\" width=\"50%\">"
   ]
  },
  {
   "cell_type": "markdown",
   "metadata": {
    "slideshow": {
     "slide_type": "slide"
    }
   },
   "source": [
    "## Python中的模块与包\n",
    "\n",
    "在Python中，最基本也是最小的可执行单元就是一行语句。Python代码组织还是采用扁平模式，\n",
    "- 语句\n",
    "- 模块\n",
    "- 包"
   ]
  },
  {
   "cell_type": "markdown",
   "metadata": {
    "slideshow": {
     "slide_type": "-"
    }
   },
   "source": [
    "在Python中，一个模块就是一个文件；一个软件包就是一个目录，包含多个文件。软件包可以多层，也就是有多层目录。"
   ]
  },
  {
   "cell_type": "markdown",
   "metadata": {
    "slideshow": {
     "slide_type": "slide"
    }
   },
   "source": [
    "根据软件库来源和提供方的不同，软件库可以划分为：\n",
    "- 标准库\n",
    "- 第三方库\n",
    "- 自定义库"
   ]
  },
  {
   "cell_type": "markdown",
   "metadata": {
    "slideshow": {
     "slide_type": "slide"
    }
   },
   "source": [
    "### 导入模块\n",
    "\n",
    "为了使用它们，需要用用`import`导入模块："
   ]
  },
  {
   "cell_type": "code",
   "execution_count": null,
   "metadata": {
    "slideshow": {
     "slide_type": "-"
    }
   },
   "outputs": [],
   "source": [
    "import math\n",
    "import random"
   ]
  },
  {
   "cell_type": "code",
   "execution_count": null,
   "metadata": {
    "slideshow": {
     "slide_type": "slide"
    }
   },
   "outputs": [],
   "source": [
    "type(math), type(random)"
   ]
  },
  {
   "cell_type": "code",
   "execution_count": null,
   "metadata": {
    "slideshow": {
     "slide_type": "-"
    }
   },
   "outputs": [],
   "source": [
    "print(math.__file__)"
   ]
  },
  {
   "cell_type": "markdown",
   "metadata": {
    "slideshow": {
     "slide_type": "slide"
    }
   },
   "source": [
    "### 访问模块中内容\n",
    "\n",
    "使用`.`来访问模块中的变量，函数、类"
   ]
  },
  {
   "cell_type": "code",
   "execution_count": null,
   "metadata": {
    "slideshow": {
     "slide_type": "-"
    }
   },
   "outputs": [],
   "source": [
    "math.pi"
   ]
  },
  {
   "cell_type": "code",
   "execution_count": null,
   "metadata": {
    "slideshow": {
     "slide_type": "-"
    }
   },
   "outputs": [],
   "source": [
    "random.randint(0, 100)"
   ]
  },
  {
   "cell_type": "markdown",
   "metadata": {
    "slideshow": {
     "slide_type": "slide"
    }
   },
   "source": [
    "### 模块导入\n",
    "\n",
    "模块和包有很多，如果出现重名，那么加载的模块会是哪一个呢？Python导入模块时会依赖一个路径列表（`sys.path`），Python就是根据这个列表中的路径去搜索要加载的模块。"
   ]
  },
  {
   "cell_type": "code",
   "execution_count": 3,
   "metadata": {
    "slideshow": {
     "slide_type": "-"
    }
   },
   "outputs": [
    {
     "name": "stdout",
     "output_type": "stream",
     "text": [
      "['', '/opt/anaconda3/lib/python36.zip', '/opt/anaconda3/lib/python3.6', '/opt/anaconda3/lib/python3.6/lib-dynload', '/home/whwang/.local/lib/python3.6/site-packages', '/home/whwang/.local/lib/python3.6/site-packages/tdxdownload-0.1.0-py3.6.egg', '/home/whwang/.local/lib/python3.6/site-packages/tdxreader-0.1.0-py3.6.egg', '/home/whwang/.local/lib/python3.6/site-packages/tdxfetch-0.1.0-py3.6.egg', '/opt/anaconda3/lib/python3.6/site-packages', '/opt/anaconda3/lib/python3.6/site-packages/Mako-1.0.7-py3.6.egg', '/opt/anaconda3/lib/python3.6/site-packages/pdfminer.six-20170720-py3.6.egg', '/opt/anaconda3/lib/python3.6/site-packages/IPython/extensions', '/home/whwang/.ipython']\n"
     ]
    }
   ],
   "source": [
    "import sys\n",
    "print(sys.path)"
   ]
  },
  {
   "cell_type": "markdown",
   "metadata": {
    "slideshow": {
     "slide_type": "slide"
    }
   },
   "source": [
    "在`sys.path`中目录顺序很重要，Python通过遍历这个列表来寻找请求的模块。"
   ]
  },
  {
   "cell_type": "markdown",
   "metadata": {
    "slideshow": {
     "slide_type": "-"
    }
   },
   "source": [
    "> `sys.path`是一个列表，可以进行添加或删除。"
   ]
  },
  {
   "cell_type": "markdown",
   "metadata": {
    "slideshow": {
     "slide_type": "slide"
    }
   },
   "source": [
    "还可以通过修改环境变量`PYTHONPATH`，改变搜索路径。"
   ]
  },
  {
   "cell_type": "markdown",
   "metadata": {
    "slideshow": {
     "slide_type": "slide"
    }
   },
   "source": [
    "总体而言，模块的搜索顺序如下：\n",
    "1. 当前目录\n",
    "2. Python安装目录\n",
    "3. 第三方库`site-packages`目录。"
   ]
  },
  {
   "cell_type": "markdown",
   "metadata": {
    "slideshow": {
     "slide_type": "slide"
    }
   },
   "source": [
    "## 自己写模块(module)\n",
    "\n",
    "文件就是模块，编写一个Python代码，并用“.py”后缀名进行保存。"
   ]
  },
  {
   "cell_type": "markdown",
   "metadata": {
    "slideshow": {
     "slide_type": "-"
    }
   },
   "source": [
    "模块名字应该尽量用简短全小写的名字，还是一句老话，做到望文生义不容易。"
   ]
  },
  {
   "cell_type": "markdown",
   "metadata": {
    "slideshow": {
     "slide_type": "slide"
    }
   },
   "source": [
    "层次分解通常也会采用“高内聚低耦合”的思想原则：\n",
    "- 内聚，描述模块内各个元素彼此结合的紧密程度，高内聚就是一个模块内各个元素彼此结合的紧密程度高。\n",
    "- 耦合，不同模块之间互连程度的度量，低耦合是指模块尽可能独立完成某特定功能。\n",
    "也就是说，一个模块尽量做到代码相关性强、功能独立。"
   ]
  },
  {
   "cell_type": "markdown",
   "metadata": {
    "slideshow": {
     "slide_type": "slide"
    }
   },
   "source": [
    "### 创建模块\n",
    "\n",
    "下面假定来创建自己的一个模块，假定模块包括一些常量、函数和类。"
   ]
  },
  {
   "cell_type": "code",
   "execution_count": 4,
   "metadata": {
    "slideshow": {
     "slide_type": "slide"
    }
   },
   "outputs": [
    {
     "name": "stdout",
     "output_type": "stream",
     "text": [
      "Writing simplemodule.py\n"
     ]
    }
   ],
   "source": [
    "%%writefile simplemodule.py\n",
    "#!/usr/bin/env python\n",
    "# -*- coding: utf-8 -*-\n",
    "\"\"\"简单模块\n",
    "\n",
    "包括:\n",
    "  - 函数、类、变量\n",
    "\"\"\"\n",
    "__author__ = 'Wang Weihua'\n",
    "\n",
    "hello = ['Hi', '您好']\n",
    "\n",
    "def sayhello(name):\n",
    "    \"\"\"Say hello to a person\"\"\"\n",
    "    print('Hi, {}'.format(name))\n",
    "\n",
    "    \n",
    "class SimpleClass():\n",
    "    pass"
   ]
  },
  {
   "cell_type": "markdown",
   "metadata": {
    "slideshow": {
     "slide_type": "slide"
    }
   },
   "source": [
    "使用import命令导入模块，语法为：\n",
    "```\n",
    "import module_name\n",
    "import module_name as qualname\n",
    "```"
   ]
  },
  {
   "cell_type": "code",
   "execution_count": 5,
   "metadata": {
    "slideshow": {
     "slide_type": "-"
    }
   },
   "outputs": [],
   "source": [
    "import simplemodule\n",
    "import simplemodule as sm"
   ]
  },
  {
   "cell_type": "markdown",
   "metadata": {
    "slideshow": {
     "slide_type": "slide"
    }
   },
   "source": [
    "### 自省和帮助\n",
    "\n",
    "使用内置函数`type()`查看对象的类型"
   ]
  },
  {
   "cell_type": "code",
   "execution_count": null,
   "metadata": {
    "slideshow": {
     "slide_type": "-"
    }
   },
   "outputs": [],
   "source": [
    "print(type(simplemodule), type(sm))"
   ]
  },
  {
   "cell_type": "markdown",
   "metadata": {
    "slideshow": {
     "slide_type": "slide"
    }
   },
   "source": [
    "模块是可变对象，也就是说模块的值是可以改变的。"
   ]
  },
  {
   "cell_type": "code",
   "execution_count": 7,
   "metadata": {
    "slideshow": {
     "slide_type": "-"
    }
   },
   "outputs": [],
   "source": [
    "sm.new = 'new'"
   ]
  },
  {
   "cell_type": "markdown",
   "metadata": {
    "slideshow": {
     "slide_type": "slide"
    }
   },
   "source": [
    "使用内置函数`help()`函数，或者使用IPython自省功能`?`或`??`获得帮助。"
   ]
  },
  {
   "cell_type": "code",
   "execution_count": 8,
   "metadata": {
    "slideshow": {
     "slide_type": "slide"
    }
   },
   "outputs": [
    {
     "name": "stdout",
     "output_type": "stream",
     "text": [
      "Help on module simplemodule:\n",
      "\n",
      "NAME\n",
      "    simplemodule - 简单模块\n",
      "\n",
      "DESCRIPTION\n",
      "    包括:\n",
      "      - 函数、类、变量\n",
      "\n",
      "CLASSES\n",
      "    builtins.object\n",
      "        SimpleClass\n",
      "    \n",
      "    class SimpleClass(builtins.object)\n",
      "     |  Data descriptors defined here:\n",
      "     |  \n",
      "     |  __dict__\n",
      "     |      dictionary for instance variables (if defined)\n",
      "     |  \n",
      "     |  __weakref__\n",
      "     |      list of weak references to the object (if defined)\n",
      "\n",
      "FUNCTIONS\n",
      "    sayhello(name)\n",
      "        Say hello to a person\n",
      "\n",
      "DATA\n",
      "    hello = ['Hi', '您好']\n",
      "    new = 'new'\n",
      "\n",
      "AUTHOR\n",
      "    Wang Weihua\n",
      "\n",
      "FILE\n",
      "    /home/whwang/training/python-training-basics/module/simplemodule.py\n",
      "\n",
      "\n"
     ]
    }
   ],
   "source": [
    "help(sm)"
   ]
  },
  {
   "cell_type": "markdown",
   "metadata": {
    "slideshow": {
     "slide_type": "slide"
    }
   },
   "source": [
    "一些魔术属性：\n",
    "- `__author__`, 作者\n",
    "- `__doc__`, 文档字符串\n",
    "- `__file__`, 模块文件路径\n",
    "- `__name__`, 模块名字"
   ]
  },
  {
   "cell_type": "markdown",
   "metadata": {
    "slideshow": {
     "slide_type": "slide"
    }
   },
   "source": [
    "### 程序与模块\n",
    "\n",
    "一个程序代码文件可以是程序文件，也可以是模块文件。当用Python运行文件时就是主程序，在程序文件使用`import` 命令导入时，就是模块。"
   ]
  },
  {
   "cell_type": "markdown",
   "metadata": {
    "slideshow": {
     "slide_type": "slide"
    }
   },
   "source": [
    "我们注意到，代码文件的特殊变量`__name__`在两种场景下其值并不同：\n",
    "- 使用Python运行文件时，也就是说为主程序时其值被设置为`__main__`。\n",
    "- 使用`import` 命令导入模块时， 其值为文件名。"
   ]
  },
  {
   "cell_type": "code",
   "execution_count": null,
   "metadata": {
    "slideshow": {
     "slide_type": "slide"
    }
   },
   "outputs": [],
   "source": [
    "print(__name__)"
   ]
  },
  {
   "cell_type": "markdown",
   "metadata": {
    "slideshow": {
     "slide_type": "-"
    }
   },
   "source": [
    "基于此特性，重写刚才的代码文件"
   ]
  },
  {
   "cell_type": "code",
   "execution_count": null,
   "metadata": {
    "slideshow": {
     "slide_type": "slide"
    }
   },
   "outputs": [],
   "source": [
    "%%writefile simplemodule2.py\n",
    "#!/usr/bin/env python\n",
    "# -*- coding: utf-8 -*-\n",
    "\"\"\"My Simple Module\n",
    "\n",
    "This exports:\n",
    "  - all simple functions and class.\n",
    "  - sm.sayhello is either posixpath or ntpath\n",
    "  - sm.SimpleClass is either 'posix' or 'nt'\n",
    "\n",
    "Programs that import and use 'sm' name \n",
    "\"\"\"\n",
    "__author__ = 'Wu Yang'\n",
    "\n",
    "hello = ['Hi', '您好']\n",
    "\n",
    "def sayhello(name):\n",
    "    \"\"\"Say hello to a person\"\"\"\n",
    "    print('Hi, {}'.format(name))\n",
    "\n",
    "    \n",
    "class SimpleClass():\n",
    "    pass\n",
    "\n",
    "print(__name__)\n",
    "if __name__ == '__main__':\n",
    "    for x in hello:\n",
    "        print(x)\n",
    "        \n",
    "    sayhello('老王')"
   ]
  },
  {
   "cell_type": "markdown",
   "metadata": {
    "slideshow": {
     "slide_type": "slide"
    }
   },
   "source": [
    "在命令行下运行程序"
   ]
  },
  {
   "cell_type": "code",
   "execution_count": null,
   "metadata": {
    "slideshow": {
     "slide_type": "-"
    }
   },
   "outputs": [],
   "source": [
    "%run simplemodule2.py"
   ]
  },
  {
   "cell_type": "markdown",
   "metadata": {
    "slideshow": {
     "slide_type": "slide"
    }
   },
   "source": [
    "使用`import`导入模块"
   ]
  },
  {
   "cell_type": "code",
   "execution_count": null,
   "metadata": {
    "slideshow": {
     "slide_type": "-"
    }
   },
   "outputs": [],
   "source": [
    "import simplemodule2 as sm2"
   ]
  },
  {
   "cell_type": "code",
   "execution_count": null,
   "metadata": {
    "slideshow": {
     "slide_type": "-"
    }
   },
   "outputs": [],
   "source": [
    "print(sm2.__name__)"
   ]
  },
  {
   "cell_type": "markdown",
   "metadata": {
    "slideshow": {
     "slide_type": "slide"
    }
   },
   "source": [
    "注意，多次导入模块时，解释器并没有运行两次，也就是模块不会重复的导入。这样可以节省内存和计算资源。"
   ]
  },
  {
   "cell_type": "markdown",
   "metadata": {
    "slideshow": {
     "slide_type": "slide"
    }
   },
   "source": [
    "在开发调试时，经常需要重新导入，可以使用`importlib.reload`实现重复导入。"
   ]
  },
  {
   "cell_type": "code",
   "execution_count": null,
   "metadata": {
    "slideshow": {
     "slide_type": "-"
    }
   },
   "outputs": [],
   "source": [
    "import importlib\n",
    "\n",
    "importlib.reload(simplemodule)"
   ]
  },
  {
   "cell_type": "markdown",
   "metadata": {
    "slideshow": {
     "slide_type": "slide"
    }
   },
   "source": [
    "## 包（package）\n",
    "\n",
    "Python的包是模块的集合，是更高一级的封装。在Python中，文件是模块，目录就是包。包可以嵌套包，就像文件目录一样，"
   ]
  },
  {
   "cell_type": "markdown",
   "metadata": {
    "slideshow": {
     "slide_type": "slide"
    }
   },
   "source": [
    "### 创建包对象\n",
    "\n",
    "包就是一个目录。与目录不同的是，包中必须包含一个`__init__.py`文件。包是模块的集合，通常会有多个模块或子包。不过我们知道，一个目录可以没有文件。也就是说，从理论上说，一个包可以没有模块也行。不过，那要问一下，为啥不用模块呢？"
   ]
  },
  {
   "cell_type": "markdown",
   "metadata": {
    "slideshow": {
     "slide_type": "slide"
    }
   },
   "source": [
    "下面创建一个最简单的包，只包含`__init__.py`，而且里面啥都没有。"
   ]
  },
  {
   "cell_type": "code",
   "execution_count": null,
   "metadata": {
    "slideshow": {
     "slide_type": "-"
    }
   },
   "outputs": [],
   "source": [
    "%mkdir simpkg\n",
    "!touch simpkg/__init__.py"
   ]
  },
  {
   "cell_type": "code",
   "execution_count": null,
   "metadata": {
    "slideshow": {
     "slide_type": "slide"
    }
   },
   "outputs": [],
   "source": [
    "!tree simpkg"
   ]
  },
  {
   "cell_type": "markdown",
   "metadata": {
    "slideshow": {
     "slide_type": "slide"
    }
   },
   "source": [
    "使用`import`命令导入，语法包括：\n",
    "```\n",
    "import dir1\n",
    "import dir1.dir2.module\n",
    "from dir1.dir2 import module\n",
    "```"
   ]
  },
  {
   "cell_type": "code",
   "execution_count": null,
   "metadata": {
    "slideshow": {
     "slide_type": "-"
    }
   },
   "outputs": [],
   "source": [
    "import simpkg\n",
    "import simpkg as sm"
   ]
  },
  {
   "cell_type": "markdown",
   "metadata": {
    "slideshow": {
     "slide_type": "slide"
    }
   },
   "source": [
    "### 自省和帮助\n",
    "\n",
    "使用内置函数`type()`查看对象的类型"
   ]
  },
  {
   "cell_type": "code",
   "execution_count": null,
   "metadata": {
    "slideshow": {
     "slide_type": "-"
    }
   },
   "outputs": [],
   "source": [
    "print(type(simpkg), type(sm), type(np))"
   ]
  },
  {
   "cell_type": "markdown",
   "metadata": {
    "slideshow": {
     "slide_type": "slide"
    }
   },
   "source": [
    "下面在`__init__.py`添加一些内容，再添加一个新的模块，以及一个子包。"
   ]
  },
  {
   "cell_type": "code",
   "execution_count": null,
   "metadata": {
    "slideshow": {
     "slide_type": "slide"
    }
   },
   "outputs": [],
   "source": [
    "%%writefile simpkg/__init__.py\n",
    "#!/usr/bin/env python\n",
    "# -*- coding: utf-8 -*-\n",
    "\"\"\"My Simple Package\n",
    "\n",
    "simple package include a module and a subpackage\n",
    "\"\"\"\n",
    "__author__ = 'Wang Weihua <whwang@isciencehub.com>'\n",
    "__status__  = \"production\"\n",
    "__version__ = \"0.0.1.1\"\n",
    "__date__    = \"24 July 2018\"\n",
    "\n",
    "hello = ['Hi', '您好']\n",
    "\n",
    "def sayhello(name):\n",
    "    \"\"\"Say hello to a person\"\"\"\n",
    "    print('Hi, {}'.format(name))\n",
    "\n",
    "    \n",
    "class SimpleClass():\n",
    "    pass"
   ]
  },
  {
   "cell_type": "code",
   "execution_count": null,
   "metadata": {
    "slideshow": {
     "slide_type": "slide"
    }
   },
   "outputs": [],
   "source": [
    "%%writefile simpkg/multilang.py\n",
    "#!/usr/bin/env python\n",
    "# -*- coding: utf-8 -*-\n",
    "def loveyou():\n",
    "    \"\"\"say love in multi language\"\"\"\n",
    "    print('我爱你')    \n",
    "    print('I Love You')\n",
    "    print('私は爱する')             # 日本：\n",
    "    print('나는 너를 사랑한다')     # 韩国\n",
    "    print('Я люблю вас')   # 俄罗斯\n",
    "    print(\"Je t'aime\")              # 法国\n",
    "    print('Ich liebe dich')         # 德国\n",
    "    print('∑ας αγαπώ')       # 希腊\n",
    "    print('Te amo')                 # 西班牙\n",
    "    print('Ik houd van u')          # 荷兰"
   ]
  },
  {
   "cell_type": "code",
   "execution_count": null,
   "metadata": {
    "slideshow": {
     "slide_type": "slide"
    }
   },
   "outputs": [],
   "source": [
    "%mkdir simpkg/fibo\n",
    "!touch simpkg/fibo/__init__.py"
   ]
  },
  {
   "cell_type": "code",
   "execution_count": null,
   "metadata": {
    "slideshow": {
     "slide_type": "slide"
    }
   },
   "outputs": [],
   "source": [
    "%%writefile simpkg/fibo/fibo.py\n",
    "\"\"\"Fibonacci numbers module\n",
    "\"\"\"\n",
    "\n",
    "def fibo_gen(n):\n",
    "    \"\"\"Return Fibonacci series uup to n\"\"\"\n",
    "    result = []\n",
    "    a, b = 0, 1\n",
    "    while b < n:\n",
    "        result.append(b)\n",
    "        a, b = b, a+b\n",
    "    \n",
    "    return result\n",
    "\n",
    "def fibo_print(n):\n",
    "    \"\"\"Print a Fibonacci series\"\"\"\n",
    "    print(fibo_gen(n))"
   ]
  },
  {
   "cell_type": "markdown",
   "metadata": {
    "slideshow": {
     "slide_type": "slide"
    }
   },
   "source": [
    "使用`tree`命令列出包的内容"
   ]
  },
  {
   "cell_type": "code",
   "execution_count": null,
   "metadata": {
    "slideshow": {
     "slide_type": "-"
    }
   },
   "outputs": [],
   "source": [
    "!tree simpkg"
   ]
  },
  {
   "cell_type": "markdown",
   "metadata": {
    "slideshow": {
     "slide_type": "slide"
    }
   },
   "source": [
    "使用`import`导入需要的软件包"
   ]
  },
  {
   "cell_type": "code",
   "execution_count": null,
   "metadata": {
    "slideshow": {
     "slide_type": "-"
    }
   },
   "outputs": [],
   "source": [
    "importlib.reload(sm)\n",
    "import simpkg.multilang as mlang\n",
    "from simpkg.fibo import fibo"
   ]
  },
  {
   "cell_type": "code",
   "execution_count": null,
   "metadata": {
    "slideshow": {
     "slide_type": "slide"
    }
   },
   "outputs": [],
   "source": [
    "help(sm)"
   ]
  },
  {
   "cell_type": "code",
   "execution_count": null,
   "metadata": {
    "slideshow": {
     "slide_type": "slide"
    }
   },
   "outputs": [],
   "source": [
    "sm.sayhello('老王')\n",
    "sm.fibo.fibo.fibo_print(5)\n",
    "sm.multilang.loveyou()"
   ]
  },
  {
   "cell_type": "markdown",
   "metadata": {
    "slideshow": {
     "slide_type": "slide"
    }
   },
   "source": [
    "## 问题与异常\n",
    "\n",
    "如果导入的模块不存在或者没有安装，会引起异常`ImportError`"
   ]
  },
  {
   "cell_type": "code",
   "execution_count": null,
   "metadata": {
    "slideshow": {
     "slide_type": "-"
    }
   },
   "outputs": [],
   "source": [
    "import nomodule"
   ]
  },
  {
   "cell_type": "markdown",
   "metadata": {
    "slideshow": {
     "slide_type": "slide"
    }
   },
   "source": [
    "如果出现异常，检查模块名是否输入错误，异或没有安装。有时会存在多个功能类似的模块，可以使用`try..except`方法导入：\n",
    "```\n",
    "try:\n",
    "    import A\n",
    "except ImportError as e:\n",
    "    import B\n",
    "```    "
   ]
  }
 ],
 "metadata": {
  "celltoolbar": "Slideshow",
  "kernelspec": {
   "display_name": "Python 3",
   "language": "python",
   "name": "python3"
  },
  "language_info": {
   "codemirror_mode": {
    "name": "ipython",
    "version": 3
   },
   "file_extension": ".py",
   "mimetype": "text/x-python",
   "name": "python",
   "nbconvert_exporter": "python",
   "pygments_lexer": "ipython3",
   "version": "3.6.4"
  },
  "toc": {
   "base_numbering": 1,
   "nav_menu": {},
   "number_sections": true,
   "sideBar": true,
   "skip_h1_title": false,
   "title_cell": "Table of Contents",
   "title_sidebar": "Contents",
   "toc_cell": false,
   "toc_position": {
    "height": "calc(100% - 180px)",
    "left": "10px",
    "top": "150px",
    "width": "253px"
   },
   "toc_section_display": true,
   "toc_window_display": false
  }
 },
 "nbformat": 4,
 "nbformat_minor": 1
}
