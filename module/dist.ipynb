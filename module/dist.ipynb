{
 "cells": [
  {
   "cell_type": "markdown",
   "metadata": {
    "slideshow": {
     "slide_type": "slide"
    }
   },
   "source": [
    "# 分发与打包\n",
    "\n",
    "- 分发\n",
    "- 脚手架"
   ]
  },
  {
   "cell_type": "markdown",
   "metadata": {
    "slideshow": {
     "slide_type": "slide"
    }
   },
   "source": [
    "如上所述，介绍了如何安装软件包以及如何使用软件包。总有那么一天，你会觉得自己写的也不错，是时候分发自己的作品。"
   ]
  },
  {
   "cell_type": "markdown",
   "metadata": {
    "slideshow": {
     "slide_type": "slide"
    }
   },
   "source": [
    "最初的时代，大家都是把自己的代码压缩打包，然后发送互联网上。不过，Python提供了相应的工具，让打包分发变得容易，同时也让其他人在安装使用时不会遇到太多麻烦。"
   ]
  },
  {
   "cell_type": "markdown",
   "metadata": {
    "slideshow": {
     "slide_type": "slide"
    }
   },
   "source": [
    "## 分发\n",
    "\n",
    "Python的分发打包工具众多，发展历史也很复杂。不过目前为止，`setuptools`是主要选择，当然还有一些其他选择，如pbr等。"
   ]
  },
  {
   "cell_type": "markdown",
   "metadata": {
    "slideshow": {
     "slide_type": "-"
    }
   },
   "source": [
    "正如源码安装一节所讲，为了打包分发自己的软件，重要的就是编写一个`setup.py`文件。"
   ]
  },
  {
   "cell_type": "markdown",
   "metadata": {
    "slideshow": {
     "slide_type": "slide"
    }
   },
   "source": [
    "首先创建项目目录\n",
    "\n",
    "```\n",
    "$ mkdir projname\n",
    "```"
   ]
  },
  {
   "cell_type": "code",
   "execution_count": 1,
   "metadata": {
    "slideshow": {
     "slide_type": "-"
    }
   },
   "outputs": [],
   "source": [
    "%mkdir myproj"
   ]
  },
  {
   "cell_type": "markdown",
   "metadata": {
    "slideshow": {
     "slide_type": "slide"
    }
   },
   "source": [
    "然后创建代码目录，并编写代码文件\n"
   ]
  },
  {
   "cell_type": "code",
   "execution_count": 2,
   "metadata": {
    "slideshow": {
     "slide_type": "-"
    }
   },
   "outputs": [],
   "source": [
    "%mkdir myproj/simpkg"
   ]
  },
  {
   "cell_type": "code",
   "execution_count": 4,
   "metadata": {
    "slideshow": {
     "slide_type": "slide"
    }
   },
   "outputs": [
    {
     "name": "stdout",
     "output_type": "stream",
     "text": [
      "Writing myproj/simpkg/__init__.py\n"
     ]
    }
   ],
   "source": [
    "%%writefile myproj/simpkg/__init__.py\n",
    "#!/usr/bin/env python\n",
    "# -*- coding: utf-8 -*-\n",
    "\"\"\"My Simple Package\n",
    "\n",
    "simple package include a module and a subpackage\n",
    "\"\"\"\n",
    "__author__ = 'Wu Yang'\n",
    "\n",
    "hello = ['Hi', '您好']\n",
    "\n",
    "def sayhello(name):\n",
    "    \"\"\"Say hello to a person\"\"\"\n",
    "    print('Hi, {}'.format(name))\n",
    "\n",
    "    \n",
    "class SimpleClass():\n",
    "    pass"
   ]
  },
  {
   "cell_type": "code",
   "execution_count": 5,
   "metadata": {
    "slideshow": {
     "slide_type": "slide"
    }
   },
   "outputs": [
    {
     "name": "stdout",
     "output_type": "stream",
     "text": [
      "Writing myproj/simpkg/multilang.py\n"
     ]
    }
   ],
   "source": [
    "%%writefile myproj/simpkg/multilang.py\n",
    "#!/usr/bin/env python\n",
    "# -*- coding: utf-8 -*-\n",
    "def loveyou():\n",
    "    \"\"\"say love in multi language\"\"\"\n",
    "    print('我爱你')    \n",
    "    print('I Love You')\n",
    "    print('私は爱する')             # 日本：\n",
    "    print('나는 너를 사랑한다')     # 韩国\n",
    "    print('Я люблю вас')   # 俄罗斯\n",
    "    print(\"Je t'aime\")              # 法国\n",
    "    print('Ich liebe dich')         # 德国\n",
    "    print('∑ας αγαπώ')       # 希腊\n",
    "    print('Te amo')                 # 西班牙\n",
    "    print('Ik houd van u')          # 荷兰"
   ]
  },
  {
   "cell_type": "markdown",
   "metadata": {
    "slideshow": {
     "slide_type": "slide"
    }
   },
   "source": [
    "在项目目录中添加`setup.py`"
   ]
  },
  {
   "cell_type": "code",
   "execution_count": 7,
   "metadata": {
    "slideshow": {
     "slide_type": "slide"
    }
   },
   "outputs": [
    {
     "name": "stdout",
     "output_type": "stream",
     "text": [
      "Overwriting myproj/setup.py\n"
     ]
    }
   ],
   "source": [
    "%%writefile myproj/setup.py\n",
    "from setuptools import setup\n",
    "\n",
    "setup (\n",
    "    name = \"simpkg\" ,\n",
    "    version = \"0.1 \" ,\n",
    "    description = \"Package simpkg\" ,\n",
    "    author = \"Wang Weihua\" ,\n",
    "    license = \"MIT\" ,\n",
    "    packages = ['simpkg']\n",
    ")"
   ]
  },
  {
   "cell_type": "markdown",
   "metadata": {
    "slideshow": {
     "slide_type": "slide"
    }
   },
   "source": [
    "切换到项目文件夹下，可以运行命令：\n",
    "- `python setup.py sdist`  \n",
    "生成类似bee-0.0.1.tar.gz，支持pip\n",
    "- `python setup.py build`  \n",
    "编译\n",
    "- `python setup.py bdist_wininst`  \n",
    "Windows exe\n",
    "- `python setup.py bdist_rpm`  \n",
    "rpm"
   ]
  },
  {
   "cell_type": "code",
   "execution_count": 8,
   "metadata": {},
   "outputs": [
    {
     "name": "stdout",
     "output_type": "stream",
     "text": [
      "/home/whwang/training/python-basics/chap11/myproj\n"
     ]
    },
    {
     "data": {
      "text/plain": [
       "'/home/whwang/training/python-basics/chap11/myproj'"
      ]
     },
     "execution_count": 8,
     "metadata": {},
     "output_type": "execute_result"
    }
   ],
   "source": [
    "%cd myproj\n",
    "%pwd"
   ]
  },
  {
   "cell_type": "code",
   "execution_count": 9,
   "metadata": {
    "slideshow": {
     "slide_type": "slide"
    }
   },
   "outputs": [
    {
     "name": "stdout",
     "output_type": "stream",
     "text": [
      "/opt/anaconda3/lib/python3.6/site-packages/setuptools/dist.py:397: UserWarning: Normalizing '0.1 ' to '0.1'\n",
      "  normalized_version,\n",
      "running sdist\n",
      "running egg_info\n",
      "creating simpkg.egg-info\n",
      "writing simpkg.egg-info/PKG-INFO\n",
      "writing dependency_links to simpkg.egg-info/dependency_links.txt\n",
      "writing top-level names to simpkg.egg-info/top_level.txt\n",
      "writing manifest file 'simpkg.egg-info/SOURCES.txt'\n",
      "reading manifest file 'simpkg.egg-info/SOURCES.txt'\n",
      "writing manifest file 'simpkg.egg-info/SOURCES.txt'\n",
      "warning: sdist: standard file not found: should have one of README, README.rst, README.txt, README.md\n",
      "\n",
      "running check\n",
      "warning: check: missing required meta-data: url\n",
      "\n",
      "warning: check: missing meta-data: if 'author' supplied, 'author_email' must be supplied too\n",
      "\n",
      "creating simpkg-0.1\n",
      "creating simpkg-0.1/simpkg\n",
      "creating simpkg-0.1/simpkg.egg-info\n",
      "copying files to simpkg-0.1...\n",
      "copying setup.py -> simpkg-0.1\n",
      "copying simpkg/__init__.py -> simpkg-0.1/simpkg\n",
      "copying simpkg/multilang.py -> simpkg-0.1/simpkg\n",
      "copying simpkg.egg-info/PKG-INFO -> simpkg-0.1/simpkg.egg-info\n",
      "copying simpkg.egg-info/SOURCES.txt -> simpkg-0.1/simpkg.egg-info\n",
      "copying simpkg.egg-info/dependency_links.txt -> simpkg-0.1/simpkg.egg-info\n",
      "copying simpkg.egg-info/top_level.txt -> simpkg-0.1/simpkg.egg-info\n",
      "Writing simpkg-0.1/setup.cfg\n",
      "creating dist\n",
      "Creating tar archive\n",
      "removing 'simpkg-0.1' (and everything under it)\n"
     ]
    }
   ],
   "source": [
    "!python setup.py sdist"
   ]
  },
  {
   "cell_type": "code",
   "execution_count": 10,
   "metadata": {
    "slideshow": {
     "slide_type": "slide"
    }
   },
   "outputs": [
    {
     "name": "stdout",
     "output_type": "stream",
     "text": [
      "/opt/anaconda3/lib/python3.6/site-packages/setuptools/dist.py:397: UserWarning: Normalizing '0.1 ' to '0.1'\n",
      "  normalized_version,\n",
      "running build\n",
      "running build_py\n",
      "creating build\n",
      "creating build/lib\n",
      "creating build/lib/simpkg\n",
      "copying simpkg/__init__.py -> build/lib/simpkg\n",
      "copying simpkg/multilang.py -> build/lib/simpkg\n"
     ]
    }
   ],
   "source": [
    "!python setup.py build"
   ]
  },
  {
   "cell_type": "code",
   "execution_count": null,
   "metadata": {
    "slideshow": {
     "slide_type": "slide"
    }
   },
   "outputs": [],
   "source": [
    "# \n",
    "# !python setup.py bdist_wininst"
   ]
  },
  {
   "cell_type": "code",
   "execution_count": 11,
   "metadata": {
    "slideshow": {
     "slide_type": "slide"
    }
   },
   "outputs": [
    {
     "name": "stdout",
     "output_type": "stream",
     "text": [
      "/opt/anaconda3/lib/python3.6/site-packages/setuptools/dist.py:397: UserWarning: Normalizing '0.1 ' to '0.1'\n",
      "  normalized_version,\n",
      "running bdist_rpm\n",
      "running egg_info\n",
      "writing simpkg.egg-info/PKG-INFO\n",
      "writing dependency_links to simpkg.egg-info/dependency_links.txt\n",
      "writing top-level names to simpkg.egg-info/top_level.txt\n",
      "reading manifest file 'simpkg.egg-info/SOURCES.txt'\n",
      "writing manifest file 'simpkg.egg-info/SOURCES.txt'\n",
      "creating build/bdist.linux-x86_64\n",
      "creating build/bdist.linux-x86_64/rpm\n",
      "creating build/bdist.linux-x86_64/rpm/SOURCES\n",
      "creating build/bdist.linux-x86_64/rpm/SPECS\n",
      "creating build/bdist.linux-x86_64/rpm/BUILD\n",
      "creating build/bdist.linux-x86_64/rpm/RPMS\n",
      "creating build/bdist.linux-x86_64/rpm/SRPMS\n",
      "writing 'build/bdist.linux-x86_64/rpm/SPECS/simpkg.spec'\n",
      "running sdist\n",
      "warning: sdist: standard file not found: should have one of README, README.rst, README.txt, README.md\n",
      "\n",
      "running check\n",
      "warning: check: missing required meta-data: url\n",
      "\n",
      "warning: check: missing meta-data: if 'author' supplied, 'author_email' must be supplied too\n",
      "\n",
      "creating simpkg-0.1\n",
      "creating simpkg-0.1/simpkg\n",
      "creating simpkg-0.1/simpkg.egg-info\n",
      "copying files to simpkg-0.1...\n",
      "copying setup.py -> simpkg-0.1\n",
      "copying simpkg/__init__.py -> simpkg-0.1/simpkg\n",
      "copying simpkg/multilang.py -> simpkg-0.1/simpkg\n",
      "copying simpkg.egg-info/PKG-INFO -> simpkg-0.1/simpkg.egg-info\n",
      "copying simpkg.egg-info/SOURCES.txt -> simpkg-0.1/simpkg.egg-info\n",
      "copying simpkg.egg-info/dependency_links.txt -> simpkg-0.1/simpkg.egg-info\n",
      "copying simpkg.egg-info/top_level.txt -> simpkg-0.1/simpkg.egg-info\n",
      "Writing simpkg-0.1/setup.cfg\n",
      "Creating tar archive\n",
      "removing 'simpkg-0.1' (and everything under it)\n",
      "copying dist/simpkg-0.1.tar.gz -> build/bdist.linux-x86_64/rpm/SOURCES\n",
      "building RPMs\n",
      "rpmbuild -ba --define __python python3 --define _topdir /home/whwang/training/python-basics/chap11/myproj/build/bdist.linux-x86_64/rpm --clean build/bdist.linux-x86_64/rpm/SPECS/simpkg.spec\n",
      "执行(%prep): /bin/sh -e /var/tmp/rpm-tmp.j1IYdw\n",
      "+ umask 022\n",
      "+ cd /home/whwang/training/python-basics/chap11/myproj/build/bdist.linux-x86_64/rpm/BUILD\n",
      "+ cd /home/whwang/training/python-basics/chap11/myproj/build/bdist.linux-x86_64/rpm/BUILD\n",
      "+ rm -rf simpkg-0.1\n",
      "+ /usr/bin/gzip -dc /home/whwang/training/python-basics/chap11/myproj/build/bdist.linux-x86_64/rpm/SOURCES/simpkg-0.1.tar.gz\n",
      "+ /usr/bin/tar -xvvf -\n",
      "drwxr-xr-x whwang/whwang     0 2018-07-23 17:05 simpkg-0.1/\n",
      "drwxr-xr-x whwang/whwang     0 2018-07-23 17:05 simpkg-0.1/simpkg.egg-info/\n",
      "-rw-r--r-- whwang/whwang     1 2018-07-23 17:05 simpkg-0.1/simpkg.egg-info/dependency_links.txt\n",
      "-rw-r--r-- whwang/whwang     7 2018-07-23 17:05 simpkg-0.1/simpkg.egg-info/top_level.txt\n",
      "-rw-r--r-- whwang/whwang   167 2018-07-23 17:05 simpkg-0.1/simpkg.egg-info/SOURCES.txt\n",
      "-rw-r--r-- whwang/whwang   185 2018-07-23 17:05 simpkg-0.1/simpkg.egg-info/PKG-INFO\n",
      "drwxr-xr-x whwang/whwang     0 2018-07-23 17:05 simpkg-0.1/simpkg/\n",
      "-rw-r--r-- whwang/whwang   291 2018-07-23 17:03 simpkg-0.1/simpkg/__init__.py\n",
      "-rw-r--r-- whwang/whwang   532 2018-07-23 17:03 simpkg-0.1/simpkg/multilang.py\n",
      "-rw-r--r-- whwang/whwang   185 2018-07-23 17:05 simpkg-0.1/PKG-INFO\n",
      "-rw-r--r-- whwang/whwang   198 2018-07-23 17:04 simpkg-0.1/setup.py\n",
      "-rw-r--r-- whwang/whwang    38 2018-07-23 17:05 simpkg-0.1/setup.cfg\n",
      "+ STATUS=0\n",
      "+ '[' 0 -ne 0 ']'\n",
      "+ cd simpkg-0.1\n",
      "+ /usr/bin/chmod -Rf a+rX,u+w,g-w,o-w .\n",
      "+ exit 0\n",
      "执行(%build): /bin/sh -e /var/tmp/rpm-tmp.kvYgoI\n",
      "+ umask 022\n",
      "+ cd /home/whwang/training/python-basics/chap11/myproj/build/bdist.linux-x86_64/rpm/BUILD\n",
      "+ cd simpkg-0.1\n",
      "+ python3 setup.py build\n",
      "/opt/anaconda3/lib/python3.6/site-packages/setuptools/dist.py:397: UserWarning: Normalizing '0.1 ' to '0.1'\n",
      "  normalized_version,\n",
      "running build\n",
      "running build_py\n",
      "creating build\n",
      "creating build/lib\n",
      "creating build/lib/simpkg\n",
      "copying simpkg/__init__.py -> build/lib/simpkg\n",
      "copying simpkg/multilang.py -> build/lib/simpkg\n",
      "+ exit 0\n",
      "执行(%install): /bin/sh -e /var/tmp/rpm-tmp.ySK6rV\n",
      "+ umask 022\n",
      "+ cd /home/whwang/training/python-basics/chap11/myproj/build/bdist.linux-x86_64/rpm/BUILD\n",
      "+ '[' /home/whwang/training/python-basics/chap11/myproj/build/bdist.linux-x86_64/rpm/BUILDROOT/simpkg-0.1-1.x86_64 '!=' / ']'\n",
      "+ rm -rf /home/whwang/training/python-basics/chap11/myproj/build/bdist.linux-x86_64/rpm/BUILDROOT/simpkg-0.1-1.x86_64\n",
      "++ dirname /home/whwang/training/python-basics/chap11/myproj/build/bdist.linux-x86_64/rpm/BUILDROOT/simpkg-0.1-1.x86_64\n",
      "+ mkdir -p /home/whwang/training/python-basics/chap11/myproj/build/bdist.linux-x86_64/rpm/BUILDROOT\n",
      "+ mkdir /home/whwang/training/python-basics/chap11/myproj/build/bdist.linux-x86_64/rpm/BUILDROOT/simpkg-0.1-1.x86_64\n",
      "+ cd simpkg-0.1\n",
      "+ python3 setup.py install --single-version-externally-managed -O1 --root=/home/whwang/training/python-basics/chap11/myproj/build/bdist.linux-x86_64/rpm/BUILDROOT/simpkg-0.1-1.x86_64 --record=INSTALLED_FILES\n",
      "/opt/anaconda3/lib/python3.6/site-packages/setuptools/dist.py:397: UserWarning: Normalizing '0.1 ' to '0.1'\n",
      "  normalized_version,\n",
      "running install\n",
      "running build\n",
      "running build_py\n",
      "running install_lib\n",
      "creating /home/whwang/training/python-basics/chap11/myproj/build/bdist.linux-x86_64/rpm/BUILDROOT/simpkg-0.1-1.x86_64/opt\n",
      "creating /home/whwang/training/python-basics/chap11/myproj/build/bdist.linux-x86_64/rpm/BUILDROOT/simpkg-0.1-1.x86_64/opt/anaconda3\n",
      "creating /home/whwang/training/python-basics/chap11/myproj/build/bdist.linux-x86_64/rpm/BUILDROOT/simpkg-0.1-1.x86_64/opt/anaconda3/lib\n",
      "creating /home/whwang/training/python-basics/chap11/myproj/build/bdist.linux-x86_64/rpm/BUILDROOT/simpkg-0.1-1.x86_64/opt/anaconda3/lib/python3.6\n",
      "creating /home/whwang/training/python-basics/chap11/myproj/build/bdist.linux-x86_64/rpm/BUILDROOT/simpkg-0.1-1.x86_64/opt/anaconda3/lib/python3.6/site-packages\n",
      "creating /home/whwang/training/python-basics/chap11/myproj/build/bdist.linux-x86_64/rpm/BUILDROOT/simpkg-0.1-1.x86_64/opt/anaconda3/lib/python3.6/site-packages/simpkg\n",
      "copying build/lib/simpkg/__init__.py -> /home/whwang/training/python-basics/chap11/myproj/build/bdist.linux-x86_64/rpm/BUILDROOT/simpkg-0.1-1.x86_64/opt/anaconda3/lib/python3.6/site-packages/simpkg\n",
      "copying build/lib/simpkg/multilang.py -> /home/whwang/training/python-basics/chap11/myproj/build/bdist.linux-x86_64/rpm/BUILDROOT/simpkg-0.1-1.x86_64/opt/anaconda3/lib/python3.6/site-packages/simpkg\n",
      "byte-compiling /home/whwang/training/python-basics/chap11/myproj/build/bdist.linux-x86_64/rpm/BUILDROOT/simpkg-0.1-1.x86_64/opt/anaconda3/lib/python3.6/site-packages/simpkg/__init__.py to __init__.cpython-36.pyc\n",
      "byte-compiling /home/whwang/training/python-basics/chap11/myproj/build/bdist.linux-x86_64/rpm/BUILDROOT/simpkg-0.1-1.x86_64/opt/anaconda3/lib/python3.6/site-packages/simpkg/multilang.py to multilang.cpython-36.pyc\n",
      "writing byte-compilation script '/tmp/tmp743fqmar.py'\n",
      "/opt/anaconda3/bin/python3 /tmp/tmp743fqmar.py\n",
      "removing /tmp/tmp743fqmar.py\n",
      "running install_egg_info\n",
      "running egg_info\n",
      "writing simpkg.egg-info/PKG-INFO\n",
      "writing dependency_links to simpkg.egg-info/dependency_links.txt\n",
      "writing top-level names to simpkg.egg-info/top_level.txt\n",
      "reading manifest file 'simpkg.egg-info/SOURCES.txt'\n",
      "writing manifest file 'simpkg.egg-info/SOURCES.txt'\n",
      "Copying simpkg.egg-info to /home/whwang/training/python-basics/chap11/myproj/build/bdist.linux-x86_64/rpm/BUILDROOT/simpkg-0.1-1.x86_64/opt/anaconda3/lib/python3.6/site-packages/simpkg-0.1-py3.6.egg-info\n",
      "running install_scripts\n",
      "writing list of installed files to 'INSTALLED_FILES'\n",
      "+ /usr/lib/rpm/find-debuginfo.sh --strict-build-id -m --run-dwz --dwz-low-mem-die-limit 10000000 --dwz-max-die-limit 110000000 /home/whwang/training/python-basics/chap11/myproj/build/bdist.linux-x86_64/rpm/BUILD/simpkg-0.1\n",
      "/usr/lib/rpm/sepdebugcrcfix: Updated 0 CRC32s, 0 CRC32s did match.\n",
      "+ /usr/lib/rpm/check-buildroot\n",
      "+ /usr/lib/rpm/redhat/brp-compress\n",
      "+ /usr/lib/rpm/redhat/brp-strip-static-archive /usr/bin/strip\n",
      "+ /usr/lib/rpm/brp-python-bytecompile python3 1\n",
      "+ /usr/lib/rpm/redhat/brp-python-hardlink\n",
      "+ /usr/lib/rpm/redhat/brp-java-repack-jars\n",
      "处理文件：simpkg-0.1-1.noarch\n",
      "Provides: simpkg = 0.1-1\n",
      "Requires(rpmlib): rpmlib(CompressedFileNames) <= 3.0.4-1 rpmlib(FileDigests) <= 4.6.0-1 rpmlib(PayloadFilesHavePrefix) <= 4.0-1\n",
      "检查未打包文件：/usr/lib/rpm/check-files /home/whwang/training/python-basics/chap11/myproj/build/bdist.linux-x86_64/rpm/BUILDROOT/simpkg-0.1-1.x86_64\n",
      "写道:/home/whwang/training/python-basics/chap11/myproj/build/bdist.linux-x86_64/rpm/SRPMS/simpkg-0.1-1.src.rpm\n",
      "写道:/home/whwang/training/python-basics/chap11/myproj/build/bdist.linux-x86_64/rpm/RPMS/noarch/simpkg-0.1-1.noarch.rpm\n",
      "执行(%clean): /bin/sh -e /var/tmp/rpm-tmp.mni1GC\n"
     ]
    },
    {
     "name": "stdout",
     "output_type": "stream",
     "text": [
      "+ umask 022\r\n",
      "+ cd /home/whwang/training/python-basics/chap11/myproj/build/bdist.linux-x86_64/rpm/BUILD\r\n",
      "+ cd simpkg-0.1\r\n",
      "+ rm -rf /home/whwang/training/python-basics/chap11/myproj/build/bdist.linux-x86_64/rpm/BUILDROOT/simpkg-0.1-1.x86_64\r\n",
      "+ exit 0\r\n",
      "执行(--clean): /bin/sh -e /var/tmp/rpm-tmp.Cp9H7Q\r\n",
      "+ umask 022\r\n",
      "+ cd /home/whwang/training/python-basics/chap11/myproj/build/bdist.linux-x86_64/rpm/BUILD\r\n",
      "+ rm -rf simpkg-0.1\r\n",
      "+ exit 0\r\n",
      "moving build/bdist.linux-x86_64/rpm/SRPMS/simpkg-0.1-1.src.rpm -> dist\r\n",
      "moving build/bdist.linux-x86_64/rpm/RPMS/noarch/simpkg-0.1-1.noarch.rpm -> dist\r\n"
     ]
    }
   ],
   "source": [
    "!python setup.py bdist_rpm"
   ]
  },
  {
   "cell_type": "code",
   "execution_count": 12,
   "metadata": {
    "slideshow": {
     "slide_type": "slide"
    }
   },
   "outputs": [
    {
     "name": "stdout",
     "output_type": "stream",
     "text": [
      ".\r\n",
      "├── build\r\n",
      "│   ├── bdist.linux-x86_64\r\n",
      "│   │   └── rpm\r\n",
      "│   │       ├── BUILD\r\n",
      "│   │       ├── BUILDROOT\r\n",
      "│   │       ├── RPMS\r\n",
      "│   │       │   └── noarch\r\n",
      "│   │       ├── SOURCES\r\n",
      "│   │       │   └── simpkg-0.1.tar.gz\r\n",
      "│   │       ├── SPECS\r\n",
      "│   │       │   └── simpkg.spec\r\n",
      "│   │       └── SRPMS\r\n",
      "│   └── lib\r\n",
      "│       └── simpkg\r\n",
      "│           ├── __init__.py\r\n",
      "│           └── multilang.py\r\n",
      "├── dist\r\n",
      "│   ├── simpkg-0.1-1.noarch.rpm\r\n",
      "│   ├── simpkg-0.1-1.src.rpm\r\n",
      "│   └── simpkg-0.1.tar.gz\r\n",
      "├── setup.py\r\n",
      "├── simpkg\r\n",
      "│   ├── __init__.py\r\n",
      "│   └── multilang.py\r\n",
      "└── simpkg.egg-info\r\n",
      "    ├── dependency_links.txt\r\n",
      "    ├── PKG-INFO\r\n",
      "    ├── SOURCES.txt\r\n",
      "    └── top_level.txt\r\n",
      "\r\n",
      "15 directories, 14 files\r\n"
     ]
    }
   ],
   "source": [
    "!tree ."
   ]
  },
  {
   "cell_type": "markdown",
   "metadata": {
    "slideshow": {
     "slide_type": "slide"
    }
   },
   "source": [
    "然后，就可以使用源码安装方法进行安装。"
   ]
  },
  {
   "cell_type": "markdown",
   "metadata": {
    "slideshow": {
     "slide_type": "slide"
    }
   },
   "source": [
    "## 脚手架"
   ]
  },
  {
   "cell_type": "markdown",
   "metadata": {
    "slideshow": {
     "slide_type": "slide"
    }
   },
   "source": [
    "一个软件常见的开发过程包括：\n",
    "- 需求分析\n",
    "- 设计分析\n",
    "- 编码和调试\n",
    "- 测试与联调\n",
    "- 程序提交\n",
    "- 软件维护\n",
    "- 升级与报废"
   ]
  },
  {
   "cell_type": "markdown",
   "metadata": {
    "slideshow": {
     "slide_type": "slide"
    }
   },
   "source": [
    "在软件开发过程，逐渐形成自己的开发套路，也就是一开始就按照开发的过程来搭建自己项目架构，在开发过程逐渐完善。"
   ]
  },
  {
   "cell_type": "markdown",
   "metadata": {
    "slideshow": {
     "slide_type": "slide"
    }
   },
   "source": [
    "快捷实现这一过程的工具，也常称为脚手架程序。这里介绍Python中的一个脚手架工具[cookiecutter](https://github.com/audreyr/cookiecutter/)"
   ]
  },
  {
   "cell_type": "markdown",
   "metadata": {
    "slideshow": {
     "slide_type": "slide"
    }
   },
   "source": [
    "### 安装cookiecutter\n",
    "\n",
    "使用pip安装  \n",
    "```pip install cookiecutter\n",
    "```"
   ]
  },
  {
   "cell_type": "code",
   "execution_count": 14,
   "metadata": {
    "slideshow": {
     "slide_type": "-"
    }
   },
   "outputs": [
    {
     "name": "stdout",
     "output_type": "stream",
     "text": [
      "Usage: cookiecutter [OPTIONS] TEMPLATE [EXTRA_CONTEXT]...\r\n",
      "\r\n",
      "  Create a project from a Cookiecutter project template (TEMPLATE).\r\n",
      "\r\n",
      "  Cookiecutter is free and open source software, developed and managed by\r\n",
      "  volunteers. If you would like to help out or fund the project, please get\r\n",
      "  in touch at https://github.com/audreyr/cookiecutter.\r\n",
      "\r\n",
      "Options:\r\n",
      "  -V, --version              Show the version and exit.\r\n",
      "  --no-input                 Do not prompt for parameters and only use\r\n",
      "                             cookiecutter.json file content\r\n",
      "  -c, --checkout TEXT        branch, tag or commit to checkout after git clone\r\n",
      "  -v, --verbose              Print debug information\r\n",
      "  --replay                   Do not prompt for parameters and only use\r\n",
      "                             information entered previously\r\n",
      "  -f, --overwrite-if-exists  Overwrite the contents of the output directory if\r\n",
      "                             it already exists\r\n",
      "  -o, --output-dir PATH      Where to output the generated project dir into\r\n",
      "  --config-file PATH         User configuration file\r\n",
      "  --default-config           Do not load a config file. Use the defaults\r\n",
      "                             instead\r\n",
      "  --debug-file PATH          File to be used as a stream for DEBUG logging\r\n",
      "  -h, --help                 Show this message and exit.\r\n"
     ]
    }
   ],
   "source": [
    "!cookiecutter -h"
   ]
  },
  {
   "cell_type": "markdown",
   "metadata": {
    "slideshow": {
     "slide_type": "slide"
    }
   },
   "source": [
    "### 使用cookiecutter创建项目\n",
    "\n",
    "```\n",
    "$ cookiecutter https://github.com/audreyr/cookiecutter-pypackage.git\n",
    "Cloning into 'cookiecutter-pypackage'...\n",
    "remote: Counting objects: 183, done.\n",
    "remote: Compressing objects: 100% (100/100), done.\n",
    "remote: Total 183 (delta 87), reused 161 (delta 70)\n",
    "Receiving objects: 100% (183/183), 29.36 KiB | 0 bytes/s, done.\n",
    "Resolving deltas: 100% (87/87), done.\n",
    "Checking connectivity... done\n",
    "full_name (default is \"Audrey Roy\")? Daniel Greenfeld\n",
    "project_name (default is \"your project\")? cheese\n",
    "... snip for brevity\n",
    "```"
   ]
  },
  {
   "cell_type": "code",
   "execution_count": 15,
   "metadata": {},
   "outputs": [
    {
     "name": "stdout",
     "output_type": "stream",
     "text": [
      "^C\r\n",
      "\r\n",
      "Aborted!\r\n"
     ]
    }
   ],
   "source": [
    "!cookiecutter https://github.com/audreyr/cookiecutter-pypackage.git"
   ]
  },
  {
   "cell_type": "code",
   "execution_count": null,
   "metadata": {},
   "outputs": [],
   "source": []
  },
  {
   "cell_type": "markdown",
   "metadata": {
    "slideshow": {
     "slide_type": "slide"
    }
   },
   "source": [
    "### 项目架构\n",
    "\n",
    "使用`tree`列出项目：\n",
    "```\n",
    "$ tree cheese\n",
    "```"
   ]
  },
  {
   "cell_type": "code",
   "execution_count": null,
   "metadata": {},
   "outputs": [],
   "source": []
  }
 ],
 "metadata": {
  "celltoolbar": "Slideshow",
  "kernelspec": {
   "display_name": "Python 3",
   "language": "python",
   "name": "python3"
  },
  "language_info": {
   "codemirror_mode": {
    "name": "ipython",
    "version": 3
   },
   "file_extension": ".py",
   "mimetype": "text/x-python",
   "name": "python",
   "nbconvert_exporter": "python",
   "pygments_lexer": "ipython3",
   "version": "3.6.4"
  },
  "toc": {
   "base_numbering": 1,
   "nav_menu": {},
   "number_sections": true,
   "sideBar": true,
   "skip_h1_title": false,
   "title_cell": "Table of Contents",
   "title_sidebar": "Contents",
   "toc_cell": false,
   "toc_position": {},
   "toc_section_display": true,
   "toc_window_display": false
  }
 },
 "nbformat": 4,
 "nbformat_minor": 1
}
