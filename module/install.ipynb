{
 "cells": [
  {
   "cell_type": "markdown",
   "metadata": {
    "slideshow": {
     "slide_type": "slide"
    }
   },
   "source": [
    "# 安装软件包\n",
    "\n",
    "> 不要重复造轮子(Stop Trying to Reinvent the Wheel)"
   ]
  },
  {
   "cell_type": "markdown",
   "metadata": {
    "slideshow": {
     "slide_type": "slide"
    }
   },
   "source": [
    "在Python软件开发中，除了Python系统自带的标准库外，大部分情况下还需要其它功能的第三方库。在使用`import`导入第三方库前，需要安装它们。通常安装方法包括：\n",
    "- 使用`pip`安装\n",
    "- 使用源码安装"
   ]
  },
  {
   "cell_type": "markdown",
   "metadata": {
    "slideshow": {
     "slide_type": "slide"
    }
   },
   "source": [
    "## 使用`pip`安装\n",
    "\n",
    "随着Python的高速发展，涌现了众多优秀的第三方库和软件。[PyPi（Python Package Index）](https://pypi.org/)是Python语言开发的软件包的仓库，截止目前已收集发布大约100多万个Python软件。"
   ]
  },
  {
   "cell_type": "markdown",
   "metadata": {
    "slideshow": {
     "slide_type": "slide"
    }
   },
   "source": [
    "`pip`软件是Python软件包安装工具，用来安装，升级以及删除软件包，缺省是从PyPi仓库安装包，不过对于中国用户，常常需要使用镜像，理由你懂的。"
   ]
  },
  {
   "cell_type": "markdown",
   "metadata": {
    "slideshow": {
     "slide_type": "slide"
    }
   },
   "source": [
    "**使用PyPi国内镜像（清华大学）**\n",
    "\n",
    "- Linux操作系统   \n",
    "新建或修改`~/.pip/pip.conf`，添加内容：\n",
    "```\n",
    "[global]\n",
    "index-url = https://pypi.tuna.tsinghua.edu.cn/simple\n",
    "```\n",
    "- Windows操作系统  \n",
    "在用户主目录下新建文件`C:\\Users\\xxx\\pip\\pip.ini`，添加内容\n",
    "```\n",
    "[global]\n",
    "index-url = https://pypi.tuna.tsinghua.edu.cn/simple\n",
    "```"
   ]
  },
  {
   "cell_type": "markdown",
   "metadata": {
    "slideshow": {
     "slide_type": "slide"
    }
   },
   "source": [
    "### 检查和更新`pip`\n",
    "\n",
    "使用`anaconda`套件安装Python环境，通常已经安装`pip`。使用如下命令查看`pip`是否安装以及安装版本：\n",
    "```\n",
    "pip --version\n",
    "```"
   ]
  },
  {
   "cell_type": "code",
   "execution_count": 1,
   "metadata": {
    "slideshow": {
     "slide_type": "-"
    }
   },
   "outputs": [
    {
     "name": "stdout",
     "output_type": "stream",
     "text": [
      "pip 10.0.1 from /opt/anaconda3/lib/python3.6/site-packages/pip (python 3.6)\r\n"
     ]
    }
   ],
   "source": [
    "!pip --version"
   ]
  },
  {
   "cell_type": "markdown",
   "metadata": {
    "slideshow": {
     "slide_type": "slide"
    }
   },
   "source": [
    "缺省安装的`pip`版本可能比较旧，可以自己进行更新升级:\n",
    "- Linux或Mac操作系统\n",
    "```\n",
    "pip install -U pip\n",
    "```\n",
    "- Linux或Mac操作系统\n",
    "```\n",
    "python -m pip install -U pip\n",
    "```"
   ]
  },
  {
   "cell_type": "markdown",
   "metadata": {
    "slideshow": {
     "slide_type": "slide"
    }
   },
   "source": [
    "### pip概述\n",
    "\n",
    "`pip`命令的使用语法如下：\n",
    "```\n",
    "pip <command> [options]\n",
    "```"
   ]
  },
  {
   "cell_type": "markdown",
   "metadata": {
    "slideshow": {
     "slide_type": "slide"
    }
   },
   "source": [
    "可以通过帮助文档，了解`pip`程序命令和参数的详细说明：\n",
    "```\n",
    "pip --help\n",
    "```"
   ]
  },
  {
   "cell_type": "code",
   "execution_count": 3,
   "metadata": {
    "slideshow": {
     "slide_type": "slide"
    }
   },
   "outputs": [
    {
     "name": "stdout",
     "output_type": "stream",
     "text": [
      "\r\n",
      "Usage:   \r\n",
      "  pip <command> [options]\r\n",
      "\r\n",
      "Commands:\r\n",
      "  install                     Install packages.\r\n",
      "  download                    Download packages.\r\n",
      "  uninstall                   Uninstall packages.\r\n",
      "  freeze                      Output installed packages in requirements format.\r\n",
      "  list                        List installed packages.\r\n",
      "  show                        Show information about installed packages.\r\n",
      "  check                       Verify installed packages have compatible dependencies.\r\n",
      "  config                      Manage local and global configuration.\r\n",
      "  search                      Search PyPI for packages.\r\n",
      "  wheel                       Build wheels from your requirements.\r\n",
      "  hash                        Compute hashes of package archives.\r\n",
      "  completion                  A helper command used for command completion.\r\n",
      "  help                        Show help for commands.\r\n",
      "\r\n",
      "General Options:\r\n",
      "  -h, --help                  Show help.\r\n",
      "  --isolated                  Run pip in an isolated mode, ignoring\r\n",
      "                              environment variables and user configuration.\r\n",
      "  -v, --verbose               Give more output. Option is additive, and can be\r\n",
      "                              used up to 3 times.\r\n",
      "  -V, --version               Show version and exit.\r\n",
      "  -q, --quiet                 Give less output. Option is additive, and can be\r\n",
      "                              used up to 3 times (corresponding to WARNING,\r\n",
      "                              ERROR, and CRITICAL logging levels).\r\n",
      "  --log <path>                Path to a verbose appending log.\r\n",
      "  --proxy <proxy>             Specify a proxy in the form\r\n",
      "                              [user:passwd@]proxy.server:port.\r\n",
      "  --retries <retries>         Maximum number of retries each connection should\r\n",
      "                              attempt (default 5 times).\r\n",
      "  --timeout <sec>             Set the socket timeout (default 15 seconds).\r\n",
      "  --exists-action <action>    Default action when a path already exists:\r\n",
      "                              (s)witch, (i)gnore, (w)ipe, (b)ackup, (a)bort).\r\n",
      "  --trusted-host <hostname>   Mark this host as trusted, even though it does\r\n",
      "                              not have valid or any HTTPS.\r\n",
      "  --cert <path>               Path to alternate CA bundle.\r\n",
      "  --client-cert <path>        Path to SSL client certificate, a single file\r\n",
      "                              containing the private key and the certificate\r\n",
      "                              in PEM format.\r\n",
      "  --cache-dir <dir>           Store the cache data in <dir>.\r\n",
      "  --no-cache-dir              Disable the cache.\r\n",
      "  --disable-pip-version-check\r\n",
      "                              Don't periodically check PyPI to determine\r\n",
      "                              whether a new version of pip is available for\r\n",
      "                              download. Implied with --no-index.\r\n",
      "  --no-color                  Suppress colored output\r\n"
     ]
    }
   ],
   "source": [
    "!pip --help"
   ]
  },
  {
   "cell_type": "markdown",
   "metadata": {
    "slideshow": {
     "slide_type": "slide"
    }
   },
   "source": [
    "pip常用子命令如下所示：\n",
    "\n",
    "| 子命令  | 说明 |\n",
    "|:-------:|:-------|\n",
    "|`install` | 安装软件包|\n",
    "|`download` |   |\n",
    "|`uninstall` |卸载软件包 |\n",
    "|`freeze` | 导出依赖文件列表 |\n",
    "|`list` | 查看已安装软件包 |\n",
    "|`show` | 显示软件包的详细安装信息（文件及路径） |\n",
    "|`check` |                       Verify installed packages have compatible dependencies. |\n",
    "|`config` |                      Manage local and global configuration. |\n",
    "|`search` | 搜索PyPi仓库的软件包 |\n",
    "|`wheel` |                       Build wheels from your requirements. |\n",
    "|`hash` |                        Compute hashes of package archives. |\n",
    "|`completion` |                  A helper command used for command completion. |\n",
    "|`help` |       |"
   ]
  },
  {
   "cell_type": "markdown",
   "metadata": {
    "slideshow": {
     "slide_type": "slide"
    }
   },
   "source": [
    "### `pip install`安装软件包\n",
    "\n",
    "使用`pip install`安装软件包，这里假定要安装的软件包是`packagename`。"
   ]
  },
  {
   "cell_type": "markdown",
   "metadata": {
    "slideshow": {
     "slide_type": "slide"
    }
   },
   "source": [
    "从缺省PyPi仓库安装指定软件包的当前版本\n",
    "```\n",
    "$ pip install packagename\n",
    "```\n",
    "\n",
    "使用`==, >=, <=, >, <`操作符，安装指定版本号的软件包：\n",
    "```\n",
    "$ pip install packagename==1.0.4     # 指定版本号\n",
    "pip install packagename>=1,<2       # 指定版本范围\n",
    "$ pip install packagename>=1.0.4     # 指定最小版本\n",
    "```"
   ]
  },
  {
   "cell_type": "markdown",
   "metadata": {
    "slideshow": {
     "slide_type": "slide"
    }
   },
   "source": [
    "更新已安装软件包：\n",
    "```\n",
    "pip install --upgrade packagename\n",
    "```"
   ]
  },
  {
   "cell_type": "markdown",
   "metadata": {
    "slideshow": {
     "slide_type": "slide"
    }
   },
   "source": [
    "安装指定软件到当前用户主目录中，可以避免软件包在系统层面安装导致混乱。\n",
    "```\n",
    "pip install --user SomeProject\n",
    "```"
   ]
  },
  {
   "cell_type": "markdown",
   "metadata": {
    "slideshow": {
     "slide_type": "slide"
    }
   },
   "source": [
    "根据`requirements.txt`，安装软件包：\n",
    "```\n",
    "pip install -r requirements.txt\n",
    "```"
   ]
  },
  {
   "cell_type": "markdown",
   "metadata": {
    "slideshow": {
     "slide_type": "slide"
    }
   },
   "source": [
    "从其它仓库安装指定软件包：\n",
    "```\n",
    "pip install --index-url http://my.package.repo/simple/ SomeProject\n",
    "```"
   ]
  },
  {
   "cell_type": "markdown",
   "metadata": {
    "slideshow": {
     "slide_type": "slide"
    }
   },
   "source": [
    "从软件仓库直接进行安装：\n",
    "```\n",
    "pip install -e git+https://git.repo/some_pkg.git#egg=SomeProject          # from git\n",
    "pip install -e git+https://git.repo/some_pkg.git@feature#egg=SomeProject    # from a branch\n",
    "```"
   ]
  },
  {
   "cell_type": "markdown",
   "metadata": {
    "slideshow": {
     "slide_type": "slide"
    }
   },
   "source": [
    "安装Wheel文件。\n",
    "```\n",
    "pip install  packagename.wheel\n",
    "```"
   ]
  },
  {
   "cell_type": "code",
   "execution_count": 10,
   "metadata": {},
   "outputs": [
    {
     "name": "stdout",
     "output_type": "stream",
     "text": [
      "\r\n",
      "Usage:   \r\n",
      "  pip install [options] <requirement specifier> [package-index-options] ...\r\n",
      "  pip install [options] -r <requirements file> [package-index-options] ...\r\n",
      "  pip install [options] [-e] <vcs project url> ...\r\n",
      "  pip install [options] [-e] <local project path> ...\r\n",
      "  pip install [options] <archive url/path> ...\r\n",
      "\r\n",
      "Description:\r\n",
      "  Install packages from:\r\n",
      "  \r\n",
      "  - PyPI (and other indexes) using requirement specifiers.\r\n",
      "  - VCS project urls.\r\n",
      "  - Local project directories.\r\n",
      "  - Local or remote source archives.\r\n",
      "  \r\n",
      "  pip also supports installing from \"requirements files\", which provide\r\n",
      "  an easy way to specify a whole environment to be installed.\r\n",
      "\r\n",
      "Install Options:\r\n",
      "  -r, --requirement <file>    Install from the given requirements file. This\r\n",
      "                              option can be used multiple times.\r\n",
      "  -c, --constraint <file>     Constrain versions using the given constraints\r\n",
      "                              file. This option can be used multiple times.\r\n",
      "  --no-deps                   Don't install package dependencies.\r\n",
      "  --pre                       Include pre-release and development versions. By\r\n",
      "                              default, pip only finds stable versions.\r\n",
      "  -e, --editable <path/url>   Install a project in editable mode (i.e.\r\n",
      "                              setuptools \"develop mode\") from a local project\r\n",
      "                              path or a VCS url.\r\n",
      "  -t, --target <dir>          Install packages into <dir>. By default this\r\n",
      "                              will not replace existing files/folders in\r\n",
      "                              <dir>. Use --upgrade to replace existing\r\n",
      "                              packages in <dir> with new versions.\r\n",
      "  --user                      Install to the Python user install directory for\r\n",
      "                              your platform. Typically ~/.local/, or\r\n",
      "                              %APPDATA%\\Python on Windows. (See the Python\r\n",
      "                              documentation for site.USER_BASE for full\r\n",
      "                              details.)\r\n",
      "  --root <dir>                Install everything relative to this alternate\r\n",
      "                              root directory.\r\n",
      "  --prefix <dir>              Installation prefix where lib, bin and other\r\n",
      "                              top-level folders are placed\r\n",
      "  -b, --build <dir>           Directory to unpack packages into and build in.\r\n",
      "                              Note that an initial build still takes place in\r\n",
      "                              a temporary directory. The location of temporary\r\n",
      "                              directories can be controlled by setting the\r\n",
      "                              TMPDIR environment variable (TEMP on Windows)\r\n",
      "                              appropriately. When passed, build directories\r\n",
      "                              are not cleaned in case of failures.\r\n",
      "  --src <dir>                 Directory to check out editable projects into.\r\n",
      "                              The default in a virtualenv is \"<venv\r\n",
      "                              path>/src\". The default for global installs is\r\n",
      "                              \"<current dir>/src\".\r\n",
      "  -U, --upgrade               Upgrade all specified packages to the newest\r\n",
      "                              available version. The handling of dependencies\r\n",
      "                              depends on the upgrade-strategy used.\r\n",
      "  --upgrade-strategy <upgrade_strategy>\r\n",
      "                              Determines how dependency upgrading should be\r\n",
      "                              handled [default: only-if-needed]. \"eager\" -\r\n",
      "                              dependencies are upgraded regardless of whether\r\n",
      "                              the currently installed version satisfies the\r\n",
      "                              requirements of the upgraded package(s). \"only-\r\n",
      "                              if-needed\" -  are upgraded only when they do not\r\n",
      "                              satisfy the requirements of the upgraded\r\n",
      "                              package(s).\r\n",
      "  --force-reinstall           Reinstall all packages even if they are already\r\n",
      "                              up-to-date.\r\n",
      "  -I, --ignore-installed      Ignore the installed packages (reinstalling\r\n",
      "                              instead).\r\n",
      "  --ignore-requires-python    Ignore the Requires-Python information.\r\n",
      "  --no-build-isolation        Disable isolation when building a modern source\r\n",
      "                              distribution. Build dependencies specified by\r\n",
      "                              PEP 518 must be already installed if this option\r\n",
      "                              is used.\r\n",
      "  --install-option <options>  Extra arguments to be supplied to the setup.py\r\n",
      "                              install command (use like --install-option=\"--\r\n",
      "                              install-scripts=/usr/local/bin\"). Use multiple\r\n",
      "                              --install-option options to pass multiple\r\n",
      "                              options to setup.py install. If you are using an\r\n",
      "                              option with a directory path, be sure to use\r\n",
      "                              absolute path.\r\n",
      "  --global-option <options>   Extra global options to be supplied to the\r\n",
      "                              setup.py call before the install command.\r\n",
      "  --compile                   Compile Python source files to bytecode\r\n",
      "  --no-compile                Do not compile Python source files to bytecode\r\n",
      "  --no-warn-script-location   Do not warn when installing scripts outside PATH\r\n",
      "  --no-warn-conflicts         Do not warn about broken dependencies\r\n",
      "  --no-binary <format_control>\r\n",
      "                              Do not use binary packages. Can be supplied\r\n",
      "                              multiple times, and each time adds to the\r\n",
      "                              existing value. Accepts either :all: to disable\r\n",
      "                              all binary packages, :none: to empty the set, or\r\n",
      "                              one or more package names with commas between\r\n",
      "                              them. Note that some packages are tricky to\r\n",
      "                              compile and may fail to install when this option\r\n",
      "                              is used on them.\r\n",
      "  --only-binary <format_control>\r\n",
      "                              Do not use source packages. Can be supplied\r\n",
      "                              multiple times, and each time adds to the\r\n",
      "                              existing value. Accepts either :all: to disable\r\n",
      "                              all source packages, :none: to empty the set, or\r\n",
      "                              one or more package names with commas between\r\n",
      "                              them. Packages without binary distributions will\r\n",
      "                              fail to install when this option is used on\r\n",
      "                              them.\r\n",
      "  --no-clean                  Don't clean up build directories).\r\n",
      "  --require-hashes            Require a hash to check each requirement\r\n",
      "                              against, for repeatable installs. This option is\r\n",
      "                              implied when any package in a requirements file\r\n",
      "                              has a --hash option.\r\n",
      "  --progress-bar <progress_bar>\r\n",
      "                              Specify type of progress to be displayed\r\n",
      "                              [off|on|ascii|pretty|emoji] (default: on)\r\n",
      "\r\n",
      "Package Index Options:\r\n",
      "  -i, --index-url <url>       Base URL of Python Package Index (default\r\n",
      "                              https://pypi.org/simple). This should point to a\r\n",
      "                              repository compliant with PEP 503 (the simple\r\n",
      "                              repository API) or a local directory laid out in\r\n",
      "                              the same format.\r\n",
      "  --extra-index-url <url>     Extra URLs of package indexes to use in addition\r\n",
      "                              to --index-url. Should follow the same rules as\r\n",
      "                              --index-url.\r\n",
      "  --no-index                  Ignore package index (only looking at --find-\r\n",
      "                              links URLs instead).\r\n",
      "  -f, --find-links <url>      If a url or path to an html file, then parse for\r\n",
      "                              links to archives. If a local path or file://\r\n",
      "                              url that's a directory, then look for archives\r\n",
      "                              in the directory listing.\r\n",
      "  --process-dependency-links  Enable the processing of dependency links.\r\n",
      "\r\n",
      "General Options:\r\n",
      "  -h, --help                  Show help.\r\n",
      "  --isolated                  Run pip in an isolated mode, ignoring\r\n",
      "                              environment variables and user configuration.\r\n",
      "  -v, --verbose               Give more output. Option is additive, and can be\r\n",
      "                              used up to 3 times.\r\n",
      "  -V, --version               Show version and exit.\r\n",
      "  -q, --quiet                 Give less output. Option is additive, and can be\r\n",
      "                              used up to 3 times (corresponding to WARNING,\r\n",
      "                              ERROR, and CRITICAL logging levels).\r\n",
      "  --log <path>                Path to a verbose appending log.\r\n",
      "  --proxy <proxy>             Specify a proxy in the form\r\n",
      "                              [user:passwd@]proxy.server:port.\r\n",
      "  --retries <retries>         Maximum number of retries each connection should\r\n",
      "                              attempt (default 5 times).\r\n",
      "  --timeout <sec>             Set the socket timeout (default 15 seconds).\r\n",
      "  --exists-action <action>    Default action when a path already exists:\r\n",
      "                              (s)witch, (i)gnore, (w)ipe, (b)ackup, (a)bort).\r\n",
      "  --trusted-host <hostname>   Mark this host as trusted, even though it does\r\n",
      "                              not have valid or any HTTPS.\r\n",
      "  --cert <path>               Path to alternate CA bundle.\r\n",
      "  --client-cert <path>        Path to SSL client certificate, a single file\r\n",
      "                              containing the private key and the certificate\r\n",
      "                              in PEM format.\r\n",
      "  --cache-dir <dir>           Store the cache data in <dir>.\r\n",
      "  --no-cache-dir              Disable the cache.\r\n",
      "  --disable-pip-version-check\r\n",
      "                              Don't periodically check PyPI to determine\r\n",
      "                              whether a new version of pip is available for\r\n",
      "                              download. Implied with --no-index.\r\n",
      "  --no-color                  Suppress colored output\r\n"
     ]
    }
   ],
   "source": [
    "!pip install -h"
   ]
  },
  {
   "cell_type": "markdown",
   "metadata": {
    "slideshow": {
     "slide_type": "slide"
    }
   },
   "source": [
    "### `pip download`下载软件包"
   ]
  },
  {
   "cell_type": "code",
   "execution_count": 20,
   "metadata": {
    "slideshow": {
     "slide_type": "slide"
    }
   },
   "outputs": [
    {
     "name": "stdout",
     "output_type": "stream",
     "text": [
      "\r\n",
      "Usage:   \r\n",
      "  pip download [options] <requirement specifier> [package-index-options] ...\r\n",
      "  pip download [options] -r <requirements file> [package-index-options] ...\r\n",
      "  pip download [options] <vcs project url> ...\r\n",
      "  pip download [options] <local project path> ...\r\n",
      "  pip download [options] <archive url/path> ...\r\n",
      "\r\n",
      "Description:\r\n",
      "  Download packages from:\r\n",
      "  \r\n",
      "  - PyPI (and other indexes) using requirement specifiers.\r\n",
      "  - VCS project urls.\r\n",
      "  - Local project directories.\r\n",
      "  - Local or remote source archives.\r\n",
      "  \r\n",
      "  pip also supports downloading from \"requirements files\", which provide\r\n",
      "  an easy way to specify a whole environment to be downloaded.\r\n",
      "\r\n",
      "Download Options:\r\n",
      "  -c, --constraint <file>     Constrain versions using the given constraints\r\n",
      "                              file. This option can be used multiple times.\r\n",
      "  -r, --requirement <file>    Install from the given requirements file. This\r\n",
      "                              option can be used multiple times.\r\n",
      "  -b, --build <dir>           Directory to unpack packages into and build in.\r\n",
      "                              Note that an initial build still takes place in\r\n",
      "                              a temporary directory. The location of temporary\r\n",
      "                              directories can be controlled by setting the\r\n",
      "                              TMPDIR environment variable (TEMP on Windows)\r\n",
      "                              appropriately. When passed, build directories\r\n",
      "                              are not cleaned in case of failures.\r\n",
      "  --no-deps                   Don't install package dependencies.\r\n",
      "  --global-option <options>   Extra global options to be supplied to the\r\n",
      "                              setup.py call before the install command.\r\n",
      "  --no-binary <format_control>\r\n",
      "                              Do not use binary packages. Can be supplied\r\n",
      "                              multiple times, and each time adds to the\r\n",
      "                              existing value. Accepts either :all: to disable\r\n",
      "                              all binary packages, :none: to empty the set, or\r\n",
      "                              one or more package names with commas between\r\n",
      "                              them. Note that some packages are tricky to\r\n",
      "                              compile and may fail to install when this option\r\n",
      "                              is used on them.\r\n",
      "  --only-binary <format_control>\r\n",
      "                              Do not use source packages. Can be supplied\r\n",
      "                              multiple times, and each time adds to the\r\n",
      "                              existing value. Accepts either :all: to disable\r\n",
      "                              all source packages, :none: to empty the set, or\r\n",
      "                              one or more package names with commas between\r\n",
      "                              them. Packages without binary distributions will\r\n",
      "                              fail to install when this option is used on\r\n",
      "                              them.\r\n",
      "  --src <dir>                 Directory to check out editable projects into.\r\n",
      "                              The default in a virtualenv is \"<venv\r\n",
      "                              path>/src\". The default for global installs is\r\n",
      "                              \"<current dir>/src\".\r\n",
      "  --pre                       Include pre-release and development versions. By\r\n",
      "                              default, pip only finds stable versions.\r\n",
      "  --no-clean                  Don't clean up build directories).\r\n",
      "  --require-hashes            Require a hash to check each requirement\r\n",
      "                              against, for repeatable installs. This option is\r\n",
      "                              implied when any package in a requirements file\r\n",
      "                              has a --hash option.\r\n",
      "  --progress-bar <progress_bar>\r\n",
      "                              Specify type of progress to be displayed\r\n",
      "                              [off|on|ascii|pretty|emoji] (default: on)\r\n",
      "  --no-build-isolation        Disable isolation when building a modern source\r\n",
      "                              distribution. Build dependencies specified by\r\n",
      "                              PEP 518 must be already installed if this option\r\n",
      "                              is used.\r\n",
      "  -d, --dest <dir>            Download packages into <dir>.\r\n",
      "  --platform <platform>       Only download wheels compatible with <platform>.\r\n",
      "                              Defaults to the platform of the running system.\r\n",
      "  --python-version <python_version>\r\n",
      "                              Only download wheels compatible with Python\r\n",
      "                              interpreter version <version>. If not specified,\r\n",
      "                              then the current system interpreter minor\r\n",
      "                              version is used. A major version (e.g. '2') can\r\n",
      "                              be specified to match all minor revs of that\r\n",
      "                              major version.  A minor version (e.g. '34') can\r\n",
      "                              also be specified.\r\n",
      "  --implementation <implementation>\r\n",
      "                              Only download wheels compatible with Python\r\n",
      "                              implementation <implementation>, e.g. 'pp',\r\n",
      "                              'jy', 'cp',  or 'ip'. If not specified, then the\r\n",
      "                              current interpreter implementation is used.  Use\r\n",
      "                              'py' to force implementation-agnostic wheels.\r\n",
      "  --abi <abi>                 Only download wheels compatible with Python abi\r\n",
      "                              <abi>, e.g. 'pypy_41'.  If not specified, then\r\n",
      "                              the current interpreter abi tag is used.\r\n",
      "                              Generally you will need to specify\r\n",
      "                              --implementation, --platform, and --python-\r\n",
      "                              version when using this option.\r\n",
      "\r\n",
      "Package Index Options:\r\n",
      "  -i, --index-url <url>       Base URL of Python Package Index (default\r\n",
      "                              https://pypi.org/simple). This should point to a\r\n",
      "                              repository compliant with PEP 503 (the simple\r\n",
      "                              repository API) or a local directory laid out in\r\n",
      "                              the same format.\r\n",
      "  --extra-index-url <url>     Extra URLs of package indexes to use in addition\r\n",
      "                              to --index-url. Should follow the same rules as\r\n",
      "                              --index-url.\r\n",
      "  --no-index                  Ignore package index (only looking at --find-\r\n",
      "                              links URLs instead).\r\n",
      "  -f, --find-links <url>      If a url or path to an html file, then parse for\r\n",
      "                              links to archives. If a local path or file://\r\n",
      "                              url that's a directory, then look for archives\r\n",
      "                              in the directory listing.\r\n",
      "  --process-dependency-links  Enable the processing of dependency links.\r\n",
      "\r\n",
      "General Options:\r\n",
      "  -h, --help                  Show help.\r\n",
      "  --isolated                  Run pip in an isolated mode, ignoring\r\n",
      "                              environment variables and user configuration.\r\n",
      "  -v, --verbose               Give more output. Option is additive, and can be\r\n",
      "                              used up to 3 times.\r\n",
      "  -V, --version               Show version and exit.\r\n",
      "  -q, --quiet                 Give less output. Option is additive, and can be\r\n",
      "                              used up to 3 times (corresponding to WARNING,\r\n",
      "                              ERROR, and CRITICAL logging levels).\r\n",
      "  --log <path>                Path to a verbose appending log.\r\n",
      "  --proxy <proxy>             Specify a proxy in the form\r\n",
      "                              [user:passwd@]proxy.server:port.\r\n",
      "  --retries <retries>         Maximum number of retries each connection should\r\n",
      "                              attempt (default 5 times).\r\n",
      "  --timeout <sec>             Set the socket timeout (default 15 seconds).\r\n",
      "  --exists-action <action>    Default action when a path already exists:\r\n",
      "                              (s)witch, (i)gnore, (w)ipe, (b)ackup, (a)bort).\r\n",
      "  --trusted-host <hostname>   Mark this host as trusted, even though it does\r\n",
      "                              not have valid or any HTTPS.\r\n",
      "  --cert <path>               Path to alternate CA bundle.\r\n",
      "  --client-cert <path>        Path to SSL client certificate, a single file\r\n",
      "                              containing the private key and the certificate\r\n",
      "                              in PEM format.\r\n",
      "  --cache-dir <dir>           Store the cache data in <dir>.\r\n",
      "  --no-cache-dir              Disable the cache.\r\n",
      "  --disable-pip-version-check\r\n",
      "                              Don't periodically check PyPI to determine\r\n",
      "                              whether a new version of pip is available for\r\n",
      "                              download. Implied with --no-index.\r\n",
      "  --no-color                  Suppress colored output\r\n"
     ]
    }
   ],
   "source": [
    "!pip download -h"
   ]
  },
  {
   "cell_type": "markdown",
   "metadata": {
    "slideshow": {
     "slide_type": "slide"
    }
   },
   "source": [
    "### `pip uninstall`卸载软件包\n",
    "\n",
    "可以轻松卸载指定软件包\n",
    "```\n",
    "pip uninstall packagename\n",
    "```"
   ]
  },
  {
   "cell_type": "markdown",
   "metadata": {
    "slideshow": {
     "slide_type": "slide"
    }
   },
   "source": [
    "也可以根据`requirements.txt`文件软件包\n",
    "```\n",
    "pip uninstall -r requirements.txt\n",
    "```"
   ]
  },
  {
   "cell_type": "code",
   "execution_count": 16,
   "metadata": {
    "slideshow": {
     "slide_type": "slide"
    }
   },
   "outputs": [
    {
     "name": "stdout",
     "output_type": "stream",
     "text": [
      "\r\n",
      "Usage:   \r\n",
      "  pip uninstall [options] <package> ...\r\n",
      "  pip uninstall [options] -r <requirements file> ...\r\n",
      "\r\n",
      "Description:\r\n",
      "  Uninstall packages.\r\n",
      "  \r\n",
      "  pip is able to uninstall most installed packages. Known exceptions are:\r\n",
      "  \r\n",
      "  - Pure distutils packages installed with ``python setup.py install``, which\r\n",
      "    leave behind no metadata to determine what files were installed.\r\n",
      "  - Script wrappers installed by ``python setup.py develop``.\r\n",
      "\r\n",
      "Uninstall Options:\r\n",
      "  -r, --requirement <file>    Uninstall all the packages listed in the given\r\n",
      "                              requirements file.  This option can be used\r\n",
      "                              multiple times.\r\n",
      "  -y, --yes                   Don't ask for confirmation of uninstall\r\n",
      "                              deletions.\r\n",
      "\r\n",
      "General Options:\r\n",
      "  -h, --help                  Show help.\r\n",
      "  --isolated                  Run pip in an isolated mode, ignoring\r\n",
      "                              environment variables and user configuration.\r\n",
      "  -v, --verbose               Give more output. Option is additive, and can be\r\n",
      "                              used up to 3 times.\r\n",
      "  -V, --version               Show version and exit.\r\n",
      "  -q, --quiet                 Give less output. Option is additive, and can be\r\n",
      "                              used up to 3 times (corresponding to WARNING,\r\n",
      "                              ERROR, and CRITICAL logging levels).\r\n",
      "  --log <path>                Path to a verbose appending log.\r\n",
      "  --proxy <proxy>             Specify a proxy in the form\r\n",
      "                              [user:passwd@]proxy.server:port.\r\n",
      "  --retries <retries>         Maximum number of retries each connection should\r\n",
      "                              attempt (default 5 times).\r\n",
      "  --timeout <sec>             Set the socket timeout (default 15 seconds).\r\n",
      "  --exists-action <action>    Default action when a path already exists:\r\n",
      "                              (s)witch, (i)gnore, (w)ipe, (b)ackup, (a)bort).\r\n",
      "  --trusted-host <hostname>   Mark this host as trusted, even though it does\r\n",
      "                              not have valid or any HTTPS.\r\n",
      "  --cert <path>               Path to alternate CA bundle.\r\n",
      "  --client-cert <path>        Path to SSL client certificate, a single file\r\n",
      "                              containing the private key and the certificate\r\n",
      "                              in PEM format.\r\n",
      "  --cache-dir <dir>           Store the cache data in <dir>.\r\n",
      "  --no-cache-dir              Disable the cache.\r\n",
      "  --disable-pip-version-check\r\n",
      "                              Don't periodically check PyPI to determine\r\n",
      "                              whether a new version of pip is available for\r\n",
      "                              download. Implied with --no-index.\r\n",
      "  --no-color                  Suppress colored output\r\n"
     ]
    }
   ],
   "source": [
    "!pip uninstall -h"
   ]
  },
  {
   "cell_type": "markdown",
   "metadata": {},
   "source": [
    "### `pip freeze`导出依赖文件列表\n",
    "\n",
    "```\n",
    "pip freeze > requirements.txt\n",
    "```"
   ]
  },
  {
   "cell_type": "code",
   "execution_count": 18,
   "metadata": {},
   "outputs": [],
   "source": [
    "!pip freeze > requirements.txt"
   ]
  },
  {
   "cell_type": "code",
   "execution_count": 19,
   "metadata": {},
   "outputs": [
    {
     "name": "stdout",
     "output_type": "stream",
     "text": [
      "alabaster==0.7.10\r\n",
      "alembic==0.9.7\r\n",
      "anaconda-client==1.6.9\r\n",
      "anaconda-navigator==1.7.0\r\n",
      "anaconda-project==0.8.2\r\n",
      "asn1crypto==0.24.0\r\n",
      "astroid==1.6.1\r\n",
      "astropy==2.0.3\r\n",
      "attrs==17.4.0\r\n",
      "Babel==2.5.3\r\n",
      "backports.shutil-get-terminal-size==1.0.0\r\n",
      "beautifulsoup4==4.6.0\r\n",
      "bitarray==0.8.1\r\n",
      "bkcharts==0.2\r\n",
      "blaze==0.11.3\r\n",
      "bleach==2.1.3\r\n",
      "bokeh==0.12.13\r\n",
      "boto==2.48.0\r\n",
      "Bottleneck==1.2.1\r\n",
      "certifi==2018.1.18\r\n",
      "cffi==1.11.4\r\n",
      "chardet==3.0.4\r\n",
      "click==6.7\r\n",
      "cloudpickle==0.5.2\r\n",
      "clyent==1.2.2\r\n",
      "cntk==2.3.1\r\n",
      "colorama==0.3.9\r\n",
      "conda==4.4.10\r\n",
      "conda-build==3.4.1\r\n",
      "conda-verify==2.0.0\r\n",
      "contextlib2==0.5.5\r\n",
      "cryptography==2.1.4\r\n",
      "cycler==0.10.0\r\n",
      "Cython==0.27.3\r\n",
      "cytoolz==0.9.0\r\n",
      "dask==0.16.1\r\n",
      "datashape==0.5.4\r\n",
      "decorator==4.2.1\r\n",
      "distributed==1.20.2\r\n",
      "docutils==0.14\r\n",
      "entrypoints==0.2.3\r\n",
      "et-xmlfile==1.0.1\r\n",
      "fastcache==1.0.2\r\n",
      "filelock==2.0.13\r\n",
      "Flask==0.12.2\r\n",
      "Flask-Cors==3.0.3\r\n",
      "gevent==1.2.2\r\n",
      "glob2==0.6\r\n",
      "gmpy2==2.0.8\r\n",
      "googletrans==2.2.0\r\n",
      "graphviz==0.8.2\r\n",
      "greenlet==0.4.12\r\n",
      "h5py==2.7.1\r\n",
      "heapdict==1.0.0\r\n",
      "html5lib==1.0.1\r\n",
      "idna==2.6\r\n",
      "imageio==2.2.0\r\n",
      "imagesize==0.7.1\r\n",
      "ipykernel==4.8.2\r\n",
      "ipython==6.2.1\r\n",
      "ipython-genutils==0.2.0\r\n",
      "ipywidgets==7.1.1\r\n",
      "isort==4.2.15\r\n",
      "itsdangerous==0.24\r\n",
      "jdcal==1.3\r\n",
      "jedi==0.11.1\r\n",
      "Jinja2==2.10\r\n",
      "jsonschema==2.6.0\r\n",
      "jupyter==1.0.0\r\n",
      "jupyter-client==5.2.3\r\n",
      "jupyter-console==5.2.0\r\n",
      "jupyter-contrib-core==0.3.3\r\n",
      "jupyter-contrib-nbextensions==0.5.0\r\n",
      "jupyter-core==4.4.0\r\n",
      "jupyter-highlight-selected-word==0.1.1\r\n",
      "jupyter-latex-envs==1.4.4\r\n",
      "jupyter-nbextensions-configurator==0.4.0\r\n",
      "jupyterhub==0.8.1\r\n",
      "jupyterlab==0.31.5\r\n",
      "jupyterlab-launcher==0.10.2\r\n",
      "Keras==2.1.5\r\n",
      "lazy-object-proxy==1.3.1\r\n",
      "llvmlite==0.21.0\r\n",
      "locket==0.2.0\r\n",
      "lxml==4.1.1\r\n",
      "Mako==1.0.7\r\n",
      "MarkupSafe==1.0\r\n",
      "matplotlib==2.1.2\r\n",
      "mccabe==0.6.1\r\n",
      "mistune==0.8.3\r\n",
      "mock==2.0.0\r\n",
      "mpmath==1.0.0\r\n",
      "msgpack-python==0.5.1\r\n",
      "multipledispatch==0.4.9\r\n",
      "navigator-updater==0.1.0\r\n",
      "nbconvert==5.3.1\r\n",
      "nbformat==4.4.0\r\n",
      "networkx==2.1\r\n",
      "nltk==3.2.5\r\n",
      "nose==1.3.7\r\n",
      "notebook==5.4.1\r\n",
      "numba==0.36.2\r\n",
      "numexpr==2.6.4\r\n",
      "numpy==1.14.0\r\n",
      "numpydoc==0.7.0\r\n",
      "odo==0.5.1\r\n",
      "olefile==0.45.1\r\n",
      "openpyxl==2.4.10\r\n",
      "packaging==16.8\r\n",
      "pamela==0.3.0\r\n",
      "pandas==0.22.0\r\n",
      "pandocfilters==1.4.2\r\n",
      "parso==0.1.1\r\n",
      "partd==0.3.8\r\n",
      "path.py==10.5\r\n",
      "pathlib2==2.3.0\r\n",
      "patsy==0.5.0\r\n",
      "pbr==3.1.1\r\n",
      "pdf2image==0.1.11\r\n",
      "pdfminer.six==20170720\r\n",
      "pep8==1.7.1\r\n",
      "pexpect==4.4.0\r\n",
      "pickleshare==0.7.4\r\n",
      "Pillow==5.0.0\r\n",
      "pkginfo==1.4.1\r\n",
      "pluggy==0.6.0\r\n",
      "ply==3.10\r\n",
      "prompt-toolkit==1.0.15\r\n",
      "protobuf==3.5.1\r\n",
      "psutil==5.4.3\r\n",
      "ptyprocess==0.5.2\r\n",
      "py==1.5.2\r\n",
      "pycodestyle==2.3.1\r\n",
      "pycosat==0.6.3\r\n",
      "pycparser==2.18\r\n",
      "pycrypto==2.6.1\r\n",
      "pycryptodome==3.6.1\r\n",
      "pycurl==7.43.0.1\r\n",
      "pyflakes==1.6.0\r\n",
      "Pygments==2.2.0\r\n",
      "pylint==1.8.2\r\n",
      "pymssql==2.1.3\r\n",
      "PyMuPDF==1.13.8\r\n",
      "pyodbc==4.0.22\r\n",
      "pyOpenSSL==17.5.0\r\n",
      "pyparsing==2.2.0\r\n",
      "PyPDF2==1.26.0\r\n",
      "PySocks==1.6.7\r\n",
      "pytdx==1.65\r\n",
      "pytest==3.3.2\r\n",
      "python-dateutil==2.7.2\r\n",
      "python-editor==1.0.3\r\n",
      "python-oauth2==1.0.1\r\n",
      "pytz==2017.3\r\n",
      "PyWavelets==0.5.2\r\n",
      "PyYAML==3.12\r\n",
      "pyzmq==17.0.0\r\n",
      "QtAwesome==0.4.4\r\n",
      "qtconsole==4.3.1\r\n",
      "QtPy==1.3.1\r\n",
      "requests==2.18.4\r\n",
      "rise==5.2.0\r\n",
      "rope==0.10.7\r\n",
      "ruamel-yaml==0.15.35\r\n",
      "scikit-image==0.13.1\r\n",
      "scikit-learn==0.19.1\r\n",
      "scipy==1.0.0\r\n",
      "seaborn==0.8.1\r\n",
      "Send2Trash==1.5.0\r\n",
      "simplegeneric==0.8.1\r\n",
      "singledispatch==3.4.0.3\r\n",
      "six==1.11.0\r\n",
      "snowballstemmer==1.2.1\r\n",
      "sortedcollections==0.5.3\r\n",
      "sortedcontainers==1.5.9\r\n",
      "Sphinx==1.6.6\r\n",
      "sphinxcontrib-websupport==1.0.1\r\n",
      "spyder==3.2.6\r\n",
      "SQLAlchemy==1.2.1\r\n",
      "statsmodels==0.8.0\r\n",
      "sympy==1.1.1\r\n",
      "TA-Lib==0.4.17\r\n",
      "tables==3.4.2\r\n",
      "tblib==1.3.2\r\n",
      "tensorflow==1.1.0\r\n",
      "terminado==0.8.1\r\n",
      "testpath==0.3.1\r\n",
      "toolz==0.9.0\r\n",
      "tornado==5.0.1\r\n",
      "traitlets==4.3.2\r\n",
      "tushare==1.1.6\r\n",
      "typing==3.6.2\r\n",
      "unicodecsv==0.14.1\r\n",
      "urllib3==1.22\r\n",
      "wcwidth==0.1.7\r\n",
      "webencodings==0.5.1\r\n",
      "Werkzeug==0.14.1\r\n",
      "widgetsnbextension==3.1.0\r\n",
      "wrapt==1.10.11\r\n",
      "xlrd==1.1.0\r\n",
      "XlsxWriter==1.0.2\r\n",
      "xlwt==1.3.0\r\n",
      "zict==0.1.3\r\n"
     ]
    }
   ],
   "source": [
    "%cat requirements.txt"
   ]
  },
  {
   "cell_type": "markdown",
   "metadata": {
    "slideshow": {
     "slide_type": "slide"
    }
   },
   "source": [
    "### `pip list`列出已安装软件包\n",
    "\n",
    "- 列出所有已安装软件包\n",
    "```\n",
    "pip list\n",
    "```\n",
    "\n",
    "- 列出可升级软件包\n",
    "```\n",
    "pip list --outdated\n",
    "```"
   ]
  },
  {
   "cell_type": "code",
   "execution_count": 4,
   "metadata": {
    "slideshow": {
     "slide_type": "slide"
    }
   },
   "outputs": [
    {
     "name": "stdout",
     "output_type": "stream",
     "text": [
      "Package                            Version  \r\n",
      "---------------------------------- ---------\r\n",
      "alabaster                          0.7.10   \r\n",
      "alembic                            0.9.7    \r\n",
      "anaconda-client                    1.6.9    \r\n",
      "anaconda-navigator                 1.7.0    \r\n",
      "anaconda-project                   0.8.2    \r\n",
      "asn1crypto                         0.24.0   \r\n",
      "astroid                            1.6.1    \r\n",
      "astropy                            2.0.3    \r\n",
      "attrs                              17.4.0   \r\n",
      "Babel                              2.5.3    \r\n",
      "backports.shutil-get-terminal-size 1.0.0    \r\n",
      "beautifulsoup4                     4.6.0    \r\n",
      "bitarray                           0.8.1    \r\n",
      "bkcharts                           0.2      \r\n",
      "blaze                              0.11.3   \r\n",
      "bleach                             2.1.3    \r\n",
      "bokeh                              0.12.13  \r\n",
      "boto                               2.48.0   \r\n",
      "Bottleneck                         1.2.1    \r\n",
      "certifi                            2018.1.18\r\n",
      "cffi                               1.11.4   \r\n",
      "chardet                            3.0.4    \r\n",
      "click                              6.7      \r\n",
      "cloudpickle                        0.5.2    \r\n",
      "clyent                             1.2.2    \r\n",
      "cntk                               2.3.1    \r\n",
      "colorama                           0.3.9    \r\n",
      "conda                              4.4.10   \r\n",
      "conda-build                        3.4.1    \r\n",
      "conda-verify                       2.0.0    \r\n",
      "contextlib2                        0.5.5    \r\n",
      "cryptography                       2.1.4    \r\n",
      "cycler                             0.10.0   \r\n",
      "Cython                             0.27.3   \r\n",
      "cytoolz                            0.9.0    \r\n",
      "dask                               0.16.1   \r\n",
      "datashape                          0.5.4    \r\n",
      "decorator                          4.2.1    \r\n",
      "distributed                        1.20.2   \r\n",
      "docutils                           0.14     \r\n",
      "entrypoints                        0.2.3    \r\n",
      "et-xmlfile                         1.0.1    \r\n",
      "fastcache                          1.0.2    \r\n",
      "filelock                           2.0.13   \r\n",
      "Flask                              0.12.2   \r\n",
      "Flask-Cors                         3.0.3    \r\n",
      "gevent                             1.2.2    \r\n",
      "glob2                              0.6      \r\n",
      "gmpy2                              2.0.8    \r\n",
      "googletrans                        2.2.0    \r\n",
      "graphviz                           0.8.2    \r\n",
      "greenlet                           0.4.12   \r\n",
      "h5py                               2.7.1    \r\n",
      "heapdict                           1.0.0    \r\n",
      "html5lib                           1.0.1    \r\n",
      "idna                               2.6      \r\n",
      "imageio                            2.2.0    \r\n",
      "imagesize                          0.7.1    \r\n",
      "ipykernel                          4.8.2    \r\n",
      "ipython                            6.2.1    \r\n",
      "ipython-genutils                   0.2.0    \r\n",
      "ipywidgets                         7.1.1    \r\n",
      "isort                              4.2.15   \r\n",
      "itsdangerous                       0.24     \r\n",
      "jdcal                              1.3      \r\n",
      "jedi                               0.11.1   \r\n",
      "Jinja2                             2.10     \r\n",
      "jsonschema                         2.6.0    \r\n",
      "jupyter                            1.0.0    \r\n",
      "jupyter-client                     5.2.3    \r\n",
      "jupyter-console                    5.2.0    \r\n",
      "jupyter-contrib-core               0.3.3    \r\n",
      "jupyter-contrib-nbextensions       0.5.0    \r\n",
      "jupyter-core                       4.4.0    \r\n",
      "jupyter-highlight-selected-word    0.1.1    \r\n",
      "jupyter-latex-envs                 1.4.4    \r\n",
      "jupyter-nbextensions-configurator  0.4.0    \r\n",
      "jupyterhub                         0.8.1    \r\n",
      "jupyterlab                         0.31.5   \r\n",
      "jupyterlab-launcher                0.10.2   \r\n",
      "Keras                              2.1.5    \r\n",
      "lazy-object-proxy                  1.3.1    \r\n",
      "llvmlite                           0.21.0   \r\n",
      "locket                             0.2.0    \r\n",
      "lxml                               4.1.1    \r\n",
      "Mako                               1.0.7    \r\n",
      "MarkupSafe                         1.0      \r\n",
      "matplotlib                         2.1.2    \r\n",
      "mccabe                             0.6.1    \r\n",
      "mistune                            0.8.3    \r\n",
      "mock                               2.0.0    \r\n",
      "mpmath                             1.0.0    \r\n",
      "msgpack-python                     0.5.1    \r\n",
      "multipledispatch                   0.4.9    \r\n",
      "navigator-updater                  0.1.0    \r\n",
      "nbconvert                          5.3.1    \r\n",
      "nbformat                           4.4.0    \r\n",
      "networkx                           2.1      \r\n",
      "nltk                               3.2.5    \r\n",
      "nose                               1.3.7    \r\n",
      "notebook                           5.4.1    \r\n",
      "numba                              0.36.2   \r\n",
      "numexpr                            2.6.4    \r\n",
      "numpy                              1.14.0   \r\n",
      "numpydoc                           0.7.0    \r\n",
      "odo                                0.5.1    \r\n",
      "olefile                            0.45.1   \r\n",
      "openpyxl                           2.4.10   \r\n",
      "packaging                          16.8     \r\n",
      "pamela                             0.3.0    \r\n",
      "pandas                             0.22.0   \r\n",
      "pandocfilters                      1.4.2    \r\n",
      "parso                              0.1.1    \r\n",
      "partd                              0.3.8    \r\n",
      "path.py                            10.5     \r\n",
      "pathlib2                           2.3.0    \r\n",
      "patsy                              0.5.0    \r\n",
      "pbr                                3.1.1    \r\n",
      "pdf2image                          0.1.11   \r\n",
      "pdfminer.six                       20170720 \r\n",
      "pep8                               1.7.1    \r\n",
      "pexpect                            4.4.0    \r\n",
      "pickleshare                        0.7.4    \r\n",
      "Pillow                             5.0.0    \r\n",
      "pip                                10.0.1   \r\n",
      "pkginfo                            1.4.1    \r\n",
      "pluggy                             0.6.0    \r\n",
      "ply                                3.10     \r\n",
      "prompt-toolkit                     1.0.15   \r\n",
      "protobuf                           3.5.1    \r\n",
      "psutil                             5.4.3    \r\n",
      "ptyprocess                         0.5.2    \r\n",
      "py                                 1.5.2    \r\n",
      "pycodestyle                        2.3.1    \r\n",
      "pycosat                            0.6.3    \r\n",
      "pycparser                          2.18     \r\n",
      "pycrypto                           2.6.1    \r\n",
      "pycryptodome                       3.6.1    \r\n",
      "pycurl                             7.43.0.1 \r\n",
      "pyflakes                           1.6.0    \r\n",
      "Pygments                           2.2.0    \r\n",
      "pylint                             1.8.2    \r\n",
      "pymssql                            2.1.3    \r\n",
      "PyMuPDF                            1.13.8   \r\n",
      "pyodbc                             4.0.22   \r\n",
      "pyOpenSSL                          17.5.0   \r\n",
      "pyparsing                          2.2.0    \r\n",
      "PyPDF2                             1.26.0   \r\n",
      "PySocks                            1.6.7    \r\n",
      "pytdx                              1.65     \r\n",
      "pytest                             3.3.2    \r\n",
      "python-dateutil                    2.7.2    \r\n",
      "python-editor                      1.0.3    \r\n",
      "python-oauth2                      1.0.1    \r\n",
      "pytz                               2017.3   \r\n",
      "PyWavelets                         0.5.2    \r\n",
      "PyYAML                             3.12     \r\n",
      "pyzmq                              17.0.0   \r\n",
      "QtAwesome                          0.4.4    \r\n",
      "qtconsole                          4.3.1    \r\n",
      "QtPy                               1.3.1    \r\n",
      "requests                           2.18.4   \r\n",
      "rise                               5.2.0    \r\n",
      "rope                               0.10.7   \r\n",
      "ruamel-yaml                        0.15.35  \r\n",
      "scikit-image                       0.13.1   \r\n",
      "scikit-learn                       0.19.1   \r\n",
      "scipy                              1.0.0    \r\n",
      "seaborn                            0.8.1    \r\n",
      "Send2Trash                         1.5.0    \r\n",
      "setuptools                         39.0.1   \r\n",
      "simplegeneric                      0.8.1    \r\n",
      "singledispatch                     3.4.0.3  \r\n",
      "six                                1.11.0   \r\n",
      "snowballstemmer                    1.2.1    \r\n",
      "sortedcollections                  0.5.3    \r\n",
      "sortedcontainers                   1.5.9    \r\n",
      "Sphinx                             1.6.6    \r\n",
      "sphinxcontrib-websupport           1.0.1    \r\n",
      "spyder                             3.2.6    \r\n",
      "SQLAlchemy                         1.2.1    \r\n",
      "statsmodels                        0.8.0    \r\n",
      "sympy                              1.1.1    \r\n",
      "TA-Lib                             0.4.17   \r\n",
      "tables                             3.4.2    \r\n",
      "tblib                              1.3.2    \r\n",
      "tensorflow                         1.1.0    \r\n",
      "terminado                          0.8.1    \r\n",
      "testpath                           0.3.1    \r\n",
      "toolz                              0.9.0    \r\n",
      "tornado                            5.0.1    \r\n",
      "traitlets                          4.3.2    \r\n",
      "tushare                            1.1.6    \r\n",
      "typing                             3.6.2    \r\n",
      "unicodecsv                         0.14.1   \r\n",
      "urllib3                            1.22     \r\n",
      "wcwidth                            0.1.7    \r\n",
      "webencodings                       0.5.1    \r\n",
      "Werkzeug                           0.14.1   \r\n",
      "wheel                              0.30.0   \r\n",
      "widgetsnbextension                 3.1.0    \r\n",
      "wrapt                              1.10.11  \r\n",
      "xlrd                               1.1.0    \r\n",
      "XlsxWriter                         1.0.2    \r\n",
      "xlwt                               1.3.0    \r\n",
      "zict                               0.1.3    \r\n"
     ]
    }
   ],
   "source": [
    "!pip list"
   ]
  },
  {
   "cell_type": "code",
   "execution_count": 7,
   "metadata": {
    "slideshow": {
     "slide_type": "slide"
    }
   },
   "outputs": [
    {
     "name": "stdout",
     "output_type": "stream",
     "text": [
      "Package                         Version   Latest    Type \r\n",
      "------------------------------- --------- --------- -----\r\n",
      "alabaster                       0.7.10    0.7.11    wheel\r\n",
      "alembic                         0.9.7     1.0.0     wheel\r\n",
      "astroid                         1.6.1     2.0.1     wheel\r\n",
      "astropy                         2.0.3     3.0.3     wheel\r\n",
      "attrs                           17.4.0    18.1.0    wheel\r\n",
      "Babel                           2.5.3     2.6.0     wheel\r\n",
      "bitarray                        0.8.1     0.8.3     sdist\r\n",
      "bokeh                           0.12.13   0.13.0    sdist\r\n",
      "boto                            2.48.0    2.49.0    wheel\r\n",
      "certifi                         2018.1.18 2018.4.16 wheel\r\n",
      "cffi                            1.11.4    1.11.5    wheel\r\n",
      "cloudpickle                     0.5.2     0.5.3     wheel\r\n",
      "cntk                            2.3.1     2.5.1     wheel\r\n",
      "cryptography                    2.1.4     2.3       wheel\r\n",
      "Cython                          0.27.3    0.28.4    wheel\r\n",
      "cytoolz                         0.9.0     0.9.0.1   sdist\r\n",
      "dask                            0.16.1    0.18.1    wheel\r\n",
      "decorator                       4.2.1     4.3.0     wheel\r\n",
      "distributed                     1.20.2    1.22.0    wheel\r\n",
      "filelock                        2.0.13    3.0.4     sdist\r\n",
      "Flask                           0.12.2    1.0.2     wheel\r\n",
      "Flask-Cors                      3.0.3     3.0.6     wheel\r\n",
      "gevent                          1.2.2     1.3.5     wheel\r\n",
      "googletrans                     2.2.0     2.3.0     sdist\r\n",
      "graphviz                        0.8.2     0.8.4     wheel\r\n",
      "greenlet                        0.4.12    0.4.14    wheel\r\n",
      "h5py                            2.7.1     2.8.0     wheel\r\n",
      "idna                            2.6       2.7       wheel\r\n",
      "imageio                         2.2.0     2.3.0     wheel\r\n",
      "imagesize                       0.7.1     1.0.0     wheel\r\n",
      "ipython                         6.2.1     6.4.0     wheel\r\n",
      "ipywidgets                      7.1.1     7.3.0     wheel\r\n",
      "isort                           4.2.15    4.3.4     wheel\r\n",
      "jdcal                           1.3       1.4       wheel\r\n",
      "jedi                            0.11.1    0.12.1    wheel\r\n",
      "jupyter-highlight-selected-word 0.1.1     0.2.0     wheel\r\n",
      "jupyterhub                      0.8.1     0.9.1     wheel\r\n",
      "jupyterlab                      0.31.5    0.32.1    wheel\r\n",
      "jupyterlab-launcher             0.10.2    0.11.2    wheel\r\n",
      "Keras                           2.1.5     2.2.0     wheel\r\n",
      "llvmlite                        0.21.0    0.24.0    wheel\r\n",
      "lxml                            4.1.1     4.2.3     wheel\r\n",
      "matplotlib                      2.1.2     2.2.2     wheel\r\n",
      "msgpack-python                  0.5.1     0.5.6     sdist\r\n",
      "multipledispatch                0.4.9     0.5.0     wheel\r\n",
      "nltk                            3.2.5     3.3.0     sdist\r\n",
      "notebook                        5.4.1     5.6.0     wheel\r\n",
      "numba                           0.36.2    0.39.0    wheel\r\n",
      "numexpr                         2.6.4     2.6.6     wheel\r\n",
      "numpy                           1.14.0    1.14.5    wheel\r\n",
      "numpydoc                        0.7.0     0.8.0     sdist\r\n",
      "openpyxl                        2.4.10    2.5.4     sdist\r\n",
      "packaging                       16.8      17.1      wheel\r\n",
      "pandas                          0.22.0    0.23.3    wheel\r\n",
      "parso                           0.1.1     0.3.1     wheel\r\n",
      "path.py                         10.5      11.0.1    wheel\r\n",
      "pathlib2                        2.3.0     2.3.2     wheel\r\n",
      "pbr                             3.1.1     4.1.1     wheel\r\n",
      "pdf2image                       0.1.11    0.1.14    sdist\r\n",
      "pexpect                         4.4.0     4.6.0     wheel\r\n",
      "Pillow                          5.0.0     5.2.0     wheel\r\n",
      "pkginfo                         1.4.1     1.4.2     wheel\r\n",
      "ply                             3.10      3.11      wheel\r\n",
      "prompt-toolkit                  1.0.15    2.0.3     wheel\r\n",
      "protobuf                        3.5.1     3.6.0     wheel\r\n",
      "psutil                          5.4.3     5.4.6     sdist\r\n",
      "ptyprocess                      0.5.2     0.6.0     wheel\r\n",
      "py                              1.5.2     1.5.4     wheel\r\n",
      "pycodestyle                     2.3.1     2.4.0     wheel\r\n",
      "pycryptodome                    3.6.1     3.6.4     wheel\r\n",
      "pycurl                          7.43.0.1  7.43.0.2  sdist\r\n",
      "pyflakes                        1.6.0     2.0.0     wheel\r\n",
      "pylint                          1.8.2     2.0.0     wheel\r\n",
      "PyMuPDF                         1.13.8    1.13.14   wheel\r\n",
      "pyodbc                          4.0.22    4.0.23    sdist\r\n",
      "pyOpenSSL                       17.5.0    18.0.0    wheel\r\n",
      "PySocks                         1.6.7     1.6.8     sdist\r\n",
      "pytdx                           1.65      1.67      sdist\r\n",
      "pytest                          3.3.2     3.6.3     wheel\r\n",
      "python-dateutil                 2.7.2     2.7.3     wheel\r\n",
      "python-oauth2                   1.0.1     1.1.0     sdist\r\n",
      "pytz                            2017.3    2018.5    wheel\r\n",
      "PyYAML                          3.12      3.13      sdist\r\n",
      "pyzmq                           17.0.0    17.1.0    wheel\r\n",
      "QtPy                            1.3.1     1.4.2     wheel\r\n",
      "requests                        2.18.4    2.19.1    wheel\r\n",
      "rise                            5.2.0     5.3.0     wheel\r\n",
      "ruamel-yaml                     0.15.35   0.15.42   wheel\r\n",
      "scikit-image                    0.13.1    0.14.0    wheel\r\n",
      "scikit-learn                    0.19.1    0.19.2    wheel\r\n",
      "scipy                           1.0.0     1.1.0     wheel\r\n",
      "seaborn                         0.8.1     0.9.0     wheel\r\n",
      "setuptools                      39.0.1    40.0.0    wheel\r\n",
      "sortedcollections               0.5.3     1.0.1     wheel\r\n",
      "sortedcontainers                1.5.9     2.0.4     wheel\r\n",
      "Sphinx                          1.6.6     1.7.6     wheel\r\n",
      "sphinxcontrib-websupport        1.0.1     1.1.0     wheel\r\n",
      "spyder                          3.2.6     3.3.0     wheel\r\n",
      "SQLAlchemy                      1.2.1     1.2.10    sdist\r\n",
      "statsmodels                     0.8.0     0.9.0     wheel\r\n",
      "sympy                           1.1.1     1.2       sdist\r\n",
      "tables                          3.4.2     3.4.4     wheel\r\n",
      "tensorflow                      1.1.0     1.9.0     wheel\r\n",
      "tornado                         5.0.1     5.1       sdist\r\n",
      "tushare                         1.1.6     1.2.4     sdist\r\n",
      "typing                          3.6.2     3.6.4     wheel\r\n",
      "urllib3                         1.22      1.23      wheel\r\n",
      "wheel                           0.30.0    0.31.1    wheel\r\n",
      "widgetsnbextension              3.1.0     3.3.0     wheel\r\n",
      "XlsxWriter                      1.0.2     1.0.5     wheel\r\n"
     ]
    }
   ],
   "source": [
    "!pip list --outdated"
   ]
  },
  {
   "cell_type": "code",
   "execution_count": 8,
   "metadata": {
    "slideshow": {
     "slide_type": "slide"
    }
   },
   "outputs": [],
   "source": [
    "!pip list --user"
   ]
  },
  {
   "cell_type": "code",
   "execution_count": 12,
   "metadata": {
    "scrolled": true,
    "slideshow": {
     "slide_type": "slide"
    }
   },
   "outputs": [
    {
     "name": "stdout",
     "output_type": "stream",
     "text": [
      "\r\n",
      "Usage:   \r\n",
      "  pip list [options]\r\n",
      "\r\n",
      "Description:\r\n",
      "  List installed packages, including editables.\r\n",
      "  \r\n",
      "  Packages are listed in a case-insensitive sorted order.\r\n",
      "\r\n",
      "List Options:\r\n",
      "  -o, --outdated              List outdated packages\r\n",
      "  -u, --uptodate              List uptodate packages\r\n",
      "  -e, --editable              List editable projects.\r\n",
      "  -l, --local                 If in a virtualenv that has global access, do\r\n",
      "                              not list globally-installed packages.\r\n",
      "  --user                      Only output packages installed in user-site.\r\n",
      "  --pre                       Include pre-release and development versions. By\r\n",
      "                              default, pip only finds stable versions.\r\n",
      "  --format <list_format>      Select the output format among: columns\r\n",
      "                              (default), freeze, json, or legacy.\r\n",
      "  --not-required              List packages that are not dependencies of\r\n",
      "                              installed packages.\r\n",
      "  --exclude-editable          Exclude editable package from output.\r\n",
      "  --include-editable          Include editable package from output.\r\n",
      "\r\n",
      "Package Index Options:\r\n",
      "  -i, --index-url <url>       Base URL of Python Package Index (default\r\n",
      "                              https://pypi.org/simple). This should point to a\r\n",
      "                              repository compliant with PEP 503 (the simple\r\n",
      "                              repository API) or a local directory laid out in\r\n",
      "                              the same format.\r\n",
      "  --extra-index-url <url>     Extra URLs of package indexes to use in addition\r\n",
      "                              to --index-url. Should follow the same rules as\r\n",
      "                              --index-url.\r\n",
      "  --no-index                  Ignore package index (only looking at --find-\r\n",
      "                              links URLs instead).\r\n",
      "  -f, --find-links <url>      If a url or path to an html file, then parse for\r\n",
      "                              links to archives. If a local path or file://\r\n",
      "                              url that's a directory, then look for archives\r\n",
      "                              in the directory listing.\r\n",
      "  --process-dependency-links  Enable the processing of dependency links.\r\n",
      "\r\n",
      "General Options:\r\n",
      "  -h, --help                  Show help.\r\n",
      "  --isolated                  Run pip in an isolated mode, ignoring\r\n",
      "                              environment variables and user configuration.\r\n",
      "  -v, --verbose               Give more output. Option is additive, and can be\r\n",
      "                              used up to 3 times.\r\n",
      "  -V, --version               Show version and exit.\r\n",
      "  -q, --quiet                 Give less output. Option is additive, and can be\r\n",
      "                              used up to 3 times (corresponding to WARNING,\r\n",
      "                              ERROR, and CRITICAL logging levels).\r\n",
      "  --log <path>                Path to a verbose appending log.\r\n",
      "  --proxy <proxy>             Specify a proxy in the form\r\n",
      "                              [user:passwd@]proxy.server:port.\r\n",
      "  --retries <retries>         Maximum number of retries each connection should\r\n",
      "                              attempt (default 5 times).\r\n",
      "  --timeout <sec>             Set the socket timeout (default 15 seconds).\r\n",
      "  --exists-action <action>    Default action when a path already exists:\r\n",
      "                              (s)witch, (i)gnore, (w)ipe, (b)ackup, (a)bort).\r\n",
      "  --trusted-host <hostname>   Mark this host as trusted, even though it does\r\n",
      "                              not have valid or any HTTPS.\r\n",
      "  --cert <path>               Path to alternate CA bundle.\r\n",
      "  --client-cert <path>        Path to SSL client certificate, a single file\r\n",
      "                              containing the private key and the certificate\r\n",
      "                              in PEM format.\r\n",
      "  --cache-dir <dir>           Store the cache data in <dir>.\r\n",
      "  --no-cache-dir              Disable the cache.\r\n",
      "  --disable-pip-version-check\r\n",
      "                              Don't periodically check PyPI to determine\r\n",
      "                              whether a new version of pip is available for\r\n",
      "                              download. Implied with --no-index.\r\n",
      "  --no-color                  Suppress colored output\r\n"
     ]
    }
   ],
   "source": [
    "!pip list -h"
   ]
  },
  {
   "cell_type": "markdown",
   "metadata": {},
   "source": [
    "### `pip show`显示软件包的详细安装信息\n",
    "\n"
   ]
  },
  {
   "cell_type": "code",
   "execution_count": 15,
   "metadata": {},
   "outputs": [
    {
     "name": "stdout",
     "output_type": "stream",
     "text": [
      "Name: numpy\r\n",
      "Version: 1.14.0\r\n",
      "Summary: NumPy: array processing for numbers, strings, records, and objects.\r\n",
      "Home-page: http://www.numpy.org\r\n",
      "Author: NumPy Developers\r\n",
      "Author-email: numpy-discussion@python.org\r\n",
      "License: BSD\r\n",
      "Location: /opt/anaconda3/lib/python3.6/site-packages\r\n",
      "Requires: \r\n",
      "Required-by: tensorflow, tables, TA-Lib, seaborn, PyWavelets, patsy, pandas, odo, numexpr, numba, matplotlib, Keras, h5py, datashape, cntk, Bottleneck, bokeh, bkcharts, astropy\r\n",
      "Files:\r\n",
      "Cannot locate installed-files.txt\r\n"
     ]
    }
   ],
   "source": [
    "!pip show -f numpy"
   ]
  },
  {
   "cell_type": "code",
   "execution_count": 13,
   "metadata": {},
   "outputs": [
    {
     "name": "stdout",
     "output_type": "stream",
     "text": [
      "\r\n",
      "Usage:   \r\n",
      "  pip show [options] <package> ...\r\n",
      "\r\n",
      "Description:\r\n",
      "  Show information about one or more installed packages.\r\n",
      "\r\n",
      "Show Options:\r\n",
      "  -f, --files                 Show the full list of installed files for each\r\n",
      "                              package.\r\n",
      "\r\n",
      "General Options:\r\n",
      "  -h, --help                  Show help.\r\n",
      "  --isolated                  Run pip in an isolated mode, ignoring\r\n",
      "                              environment variables and user configuration.\r\n",
      "  -v, --verbose               Give more output. Option is additive, and can be\r\n",
      "                              used up to 3 times.\r\n",
      "  -V, --version               Show version and exit.\r\n",
      "  -q, --quiet                 Give less output. Option is additive, and can be\r\n",
      "                              used up to 3 times (corresponding to WARNING,\r\n",
      "                              ERROR, and CRITICAL logging levels).\r\n",
      "  --log <path>                Path to a verbose appending log.\r\n",
      "  --proxy <proxy>             Specify a proxy in the form\r\n",
      "                              [user:passwd@]proxy.server:port.\r\n",
      "  --retries <retries>         Maximum number of retries each connection should\r\n",
      "                              attempt (default 5 times).\r\n",
      "  --timeout <sec>             Set the socket timeout (default 15 seconds).\r\n",
      "  --exists-action <action>    Default action when a path already exists:\r\n",
      "                              (s)witch, (i)gnore, (w)ipe, (b)ackup, (a)bort).\r\n",
      "  --trusted-host <hostname>   Mark this host as trusted, even though it does\r\n",
      "                              not have valid or any HTTPS.\r\n",
      "  --cert <path>               Path to alternate CA bundle.\r\n",
      "  --client-cert <path>        Path to SSL client certificate, a single file\r\n",
      "                              containing the private key and the certificate\r\n",
      "                              in PEM format.\r\n",
      "  --cache-dir <dir>           Store the cache data in <dir>.\r\n",
      "  --no-cache-dir              Disable the cache.\r\n",
      "  --disable-pip-version-check\r\n",
      "                              Don't periodically check PyPI to determine\r\n",
      "                              whether a new version of pip is available for\r\n",
      "                              download. Implied with --no-index.\r\n",
      "  --no-color                  Suppress colored output\r\n"
     ]
    }
   ],
   "source": [
    "!pip show -h"
   ]
  },
  {
   "cell_type": "markdown",
   "metadata": {},
   "source": [
    "### `pip search`搜索软件包\n",
    "\n",
    "从PyPi仓库搜索指定软件包：\n",
    "```\n",
    "pip search packagename\n",
    "```"
   ]
  },
  {
   "cell_type": "code",
   "execution_count": 17,
   "metadata": {},
   "outputs": [
    {
     "name": "stdout",
     "output_type": "stream",
     "text": [
      "numpy (1.14.5)                        - NumPy: array processing for numbers,\r\n",
      "                                        strings, records, and objects.\r\n",
      "  INSTALLED: 1.14.0\r\n",
      "  LATEST:    1.14.5\r\n",
      "numpy-sugar (1.2.5)                   - Missing NumPy functionalities\r\n",
      "numpy-turtle (0.1)                    - Turtle graphics with NumPy\r\n",
      "p4a-numpy (1.13.3.post2)              - numpy recipe for python-for-android\r\n",
      "numpy-quaternion (2018.7.5.21.55.13)  - Add built-in support for quaternions\r\n",
      "                                        to numpy\r\n",
      "mapchete-numpy (0.1)                  - Mapchete NumPy read/write extension\r\n",
      "msgpack-numpy (0.4.3.1)               - Numpy data serialization using msgpack\r\n",
      "numpy-mkl (1.10.2)                    - NumPy: array processing for numbers,\r\n",
      "                                        strings, records, and objects.\r\n",
      "ccv-numpy (0.0.1)                     - Wrapper module for ccv using numpy\r\n",
      "                                        arrays interface\r\n",
      "django-numpy (1.0.1)                  - Application for Django projects that\r\n",
      "                                        adds some utilities and integration\r\n",
      "                                        tools with Numpy.\r\n",
      "BSON-NumPy (0.1)                      - Module for converting directly from\r\n",
      "                                        BSON to NumPy ndarrays and vice versa\r\n",
      "dicom-numpy (0.1.2)                   - Extract image data into a 3D numpy\r\n",
      "                                        array from a set of DICOM files.\r\n",
      "dl-with-numpy (0.0.3)                 - Simple deep learning with numpy\r\n",
      "numpy-indexed (0.3.5)                 - This package contains functionality\r\n",
      "                                        for indexed operations on numpy\r\n",
      "                                        ndarrays, providing efficient\r\n",
      "                                        vectorized functionality such as\r\n",
      "                                        grouping and set operations.\r\n",
      "intel-numpy (1.14.3)                  - NumPy wheels built while linking\r\n",
      "                                        against Intel(R) MKL library, upto\r\n",
      "                                        AVX512 instruction-set supported.\r\n",
      "django-numpy-json-encoder (0.1.3)     - Django JSON encoder with numpy\r\n",
      "                                        support.\r\n",
      "numpy-stl (2.7.0)                     - Library to make reading, writing and\r\n",
      "                                        modifying both binary and ascii STL\r\n",
      "                                        files easy.\r\n",
      "hypothesis-numpy (2.0.0)              - Adds support for generating datetime\r\n",
      "                                        to Hypothesis\r\n",
      "npplus (0.9.8)                        - Enhancements to Numpy\r\n",
      "o243kgmvs924mtvd034mg (0.01)          - NumPy Testing\r\n",
      "bohrium (0.9.0.post179)               - Bohrium NumPy\r\n",
      "np (1.0.2)                            - np = numpy++: numpy with added\r\n",
      "                                        convenience functionality\r\n",
      "wrapnumpy3 (0.0.3)                    - Wrapper of Numpy in Python3.\r\n",
      "oldnumeric (1.0.4)                    - The oldnumeric numpy package\r\n",
      "jumpy (0.2.3)                         - Numpy and nd4j interop\r\n",
      "maskedarray (0.1)                     - NumPy Masked Array\r\n",
      "ndarray (0.8)                         - Tools for numpy ndarray\r\n",
      "wendelin.core (0.12)                  - Out-of-core NumPy arrays\r\n",
      "PyUblas (2017.1)                      - Seamless Numpy-UBlas interoperability\r\n",
      "root_numpy (4.7.3)                    - The interface between ROOT and NumPy\r\n",
      "sampyl-mcmc (0.3)                     - MCMC Samplers in Python & Numpy\r\n",
      "snuggs (1.4.2)                        - Snuggs are s-expressions for Numpy\r\n",
      "somber (2.0.1)                        - Self-Organizing Maps in Numpy\r\n",
      "sompy (0.1.1)                         - Numpy based SOM Library\r\n",
      "spartan (0.06)                        - Distributed Numpy-like arrays.\r\n",
      "sqlite3ndarray (0.3.1)                - sqlite3 helpers for numpy ndarrays\r\n",
      "sym2num (0.1.dev1)                    - Sympy to numpy code generator.\r\n",
      "npdoc (1.0.1)                         - In-notebook NumPy man pages\r\n",
      "npstreams (1.5.2)                     - Streaming operations on NumPy arrays\r\n",
      "ntype (0.0.1)                         - Type Handler using NumPy\r\n",
      "numm (0.3)                            - numpy-based multimedia library\r\n",
      "numpy_ringbuffer (0.2.1)              - Ring buffer implementation for numpy\r\n",
      "numpythia (0.3.3)                     - The interface between PYTHIA and NumPy\r\n",
      "opt-einsum (2.0.0)                    - Optimizing numpys einsum function\r\n",
      "permanent (1.1.1)                     - Calculates the permanent of a Numpy\r\n",
      "                                        matrix\r\n",
      "pstar (0.1.6)                         - pstar: numpy for arbitrary data\r\n",
      "pyjet (1.2.0)                         - The interface between FastJet and\r\n",
      "                                        NumPy\r\n",
      "gnuplotlib (0.20)                     - Gnuplot-based plotting for numpy\r\n",
      "gsn_numpy_util (0.1.0)                - Toolbox for working with Numpy arrays.\r\n",
      "gumpy (0.0.1)                         - GPU-accelerated NumPy API\r\n",
      "homog (0.1.12)                        - Utilities for Homogeneous Coordinates\r\n",
      "                                        with Numpy\r\n",
      "multipolyfit (0.0.1)                  - Multivariate Polynomial fitting with\r\n",
      "                                        NumPy\r\n",
      "Mydia (1.0.3)                         - Read videos as numpy arrays\r\n",
      "dynarray (0.1.3)                      - Dynamically growable numpy arrays.\r\n",
      "fastfunc (0.1.5)                      - Fast numpy ufunc operations\r\n",
      "fastjet (0.0.3)                       - The interface between FastJet and\r\n",
      "                                        NumPy\r\n",
      "axarray (0.1.1)                       - numpy array with labeled axes\r\n",
      "blocked-matrix-utils (1.0.0)          - NumPy wrappers for blocked matrices\r\n",
      "unyt (1.0.4)                          - A package for handling numpy arrays\r\n",
      "                                        with units\r\n",
      "WKB-Raster (0.6)                      - Read WKB rasters to Numpy arrays.\r\n",
      "xcy-Zscore (0.0.5)                    - A small tool of Zscore based on numpy\r\n",
      "zmqnumpy (0.1)                        - numpy array over zmq sockets\r\n",
      "pyrr (0.9.2)                          - 3D mathematical functions using NumPy\r\n",
      "pySLALIB (1.0.4)                      - f2py and numpy based wrappers for\r\n",
      "                                        SLALIB\r\n",
      "pyspharm (1.0.8)                      - spherical harmonic transforms for\r\n",
      "                                        python/numpy\r\n",
      "SharedArray (3.0.0)                   - Share numpy arrays between processes\r\n",
      "sortednp (0.2.0)                      - Merge and intersect sorted numpy\r\n",
      "                                        arrays.\r\n",
      "spacegrids (1.9)                      - numpy array with grids and associated\r\n",
      "                                        operations\r\n",
      "stft (0.5.2)                          - Short Time Fourier transform for\r\n",
      "                                        NumPy.\r\n",
      "stsci.numdisplay (1.6)                - Package for displaying numpy arrays in\r\n",
      "                                        DS9\r\n",
      "np2d (0.1.1)                          - Common 2-D NumPy operations.\r\n",
      "npcb (0.0.1)                          - Copy NumPy arrays via the clipboard\r\n",
      "nphelper (0.0.5)                      - nphelper - convenient numpy helper\r\n",
      "                                        functions\r\n",
      "numexpr (2.6.6)                       - Fast numerical expression evaluator\r\n",
      "                                        for NumPy\r\n",
      "  INSTALLED: 2.6.4\r\n",
      "  LATEST:    2.6.6\r\n",
      "numexpr3 (3.0.1a1)                    - Fast numerical expression evaluator\r\n",
      "                                        for NumPy\r\n",
      "numphy (0.0.2)                        - Physics objects backed by NumPy and/or\r\n",
      "                                        TensorFlow.\r\n",
      "numpy_display (1.2.0)                 - Formats numpy matrices in an IPython\r\n",
      "                                        Notebook\r\n",
      "numpysane (0.15)                      - more-reasonable core functionality for\r\n",
      "                                        numpy\r\n",
      "numpyx (0.3.0)                        - Utility functions for numpy, written\r\n",
      "                                        in cython\r\n",
      "pynetcdf (0.7)                        - Standalone Scientific.IO.NetCDF\r\n",
      "                                        (2.4.11) built for NumPy\r\n",
      "hdrpy (0.3.2)                         - HDR histogram implementation based on\r\n",
      "                                        numpy\r\n",
      "learnnn (0.1.0)                       - A Pure Numpy Deep Learning Framework\r\n",
      "multihist (0.5.4)                     - Convenience wrappers around numpy\r\n",
      "                                        histograms\r\n",
      "multipletau (0.1.9)                   - A multiple-tau algorithm for\r\n",
      "                                        Python/NumPy.\r\n",
      "NamedMatrix (0.95dev)                 - NamedMatrix, a numpy matrix wrapper\r\n",
      "                                        class.\r\n",
      "ncreduce (0.2)                        - Fast reduce operations for numpy\r\n",
      "                                        arrays\r\n",
      "ndarray-listener (1.1.2)              - Implementation of the Observer pattern\r\n",
      "                                        for NumPy arrays\r\n",
      "geog (0.0.2)                          - Numpy-based vectorized geospatial\r\n",
      "                                        functions\r\n",
      "afnumpy (1.3)                         - A GPU-ready drop-in replacement for\r\n",
      "                                        numpy\r\n",
      "autograd (1.2)                        - Efficiently computes derivatives of\r\n",
      "                                        numpy code.\r\n",
      "cluster-flag (0.1.2)                  - Generate country flags with numpy and\r\n",
      "                                        pandas\r\n",
      "cyminmax (0.1.1)                      - A minmax implementation in Cython for\r\n",
      "                                        use with NumPy\r\n",
      "decimalpy (0.101)                     - decimalpy - A Decimal based version of\r\n",
      "                                        numpy\r\n",
      "diskarray (0.1.7)                     - A resizable and readable numpy array\r\n",
      "                                        on disk\r\n",
      "uproot (2.9.6)                        - ROOT I/O in pure Python and Numpy.\r\n",
      "pyscience11 (0.5)                     - C++11 wrapper for NumPy, SciPy and\r\n",
      "                                        Matplotlib\r\n",
      "PySoundCard (0.5.2)                   - An audio library based on PortAudio,\r\n",
      "                                        CFFI and NumPy\r\n",
      "PySoundFile (0.9.0.post1)             - An audio library based on libsndfile,\r\n",
      "                                        CFFI and NumPy\r\n",
      "pytensor (0.1.0)                      - A deep learning framework using pure\r\n",
      "                                        numpy\r\n",
      "quantities (0.12.2)                   - Support for physical quantities with\r\n",
      "                                        units, based on numpy\r\n"
     ]
    }
   ],
   "source": [
    "!pip search numpy"
   ]
  },
  {
   "cell_type": "markdown",
   "metadata": {
    "slideshow": {
     "slide_type": "slide"
    }
   },
   "source": [
    "## 源码安装\n",
    "\n",
    "大多Python第三方库都是开源的，都可以在git等仓库找到源码文件。尽管有源码，但通常都用`pip`进行安装即可。极个别情况有些库或包只提供源码；或者需要用最新的开发源码亦或需要适当修改。这就需要进行源码安装。"
   ]
  },
  {
   "cell_type": "markdown",
   "metadata": {
    "slideshow": {
     "slide_type": "slide"
    }
   },
   "source": [
    "下载的源码文件通常都是压缩包形式。首先需要解压软件包，然后切换到解压目录，通常会有一个`setup.py`文件。在命令行中执行如下命令进行安装：\n",
    "```\n",
    "python setup.py install\n",
    "```\n",
    "如果正常即可顺利安装毕。"
   ]
  },
  {
   "cell_type": "markdown",
   "metadata": {
    "slideshow": {
     "slide_type": "slide"
    }
   },
   "source": [
    "## 第三方库选择\n",
    "\n",
    "Python标准库是稳定、可靠和安全的，而且模块文档化程度很高，用户群也比较庞大。相对来说，遇到的问题会比较少，如果有也早有高手解决了。"
   ]
  },
  {
   "cell_type": "markdown",
   "metadata": {
    "slideshow": {
     "slide_type": "-"
    }
   },
   "source": [
    "选择第三方库则要慎之又慎，要谨记可能带来的风险。如前所讲，“选择即命运”。"
   ]
  },
  {
   "cell_type": "markdown",
   "metadata": {
    "slideshow": {
     "slide_type": "slide"
    }
   },
   "source": [
    "第三方库选择的几条原则：\n",
    "- 支持Python3。\n",
    "- 开发维护活跃，看看版本信息，用户人群。\n",
    "- 与操作系统发行版打包在一起"
   ]
  },
  {
   "cell_type": "markdown",
   "metadata": {
    "slideshow": {
     "slide_type": "slide"
    }
   },
   "source": [
    "> 最重要，能够满足当前需求。"
   ]
  }
 ],
 "metadata": {
  "celltoolbar": "Slideshow",
  "kernelspec": {
   "display_name": "Python 3",
   "language": "python",
   "name": "python3"
  },
  "language_info": {
   "codemirror_mode": {
    "name": "ipython",
    "version": 3
   },
   "file_extension": ".py",
   "mimetype": "text/x-python",
   "name": "python",
   "nbconvert_exporter": "python",
   "pygments_lexer": "ipython3",
   "version": "3.6.4"
  },
  "toc": {
   "base_numbering": 1,
   "nav_menu": {},
   "number_sections": true,
   "sideBar": true,
   "skip_h1_title": false,
   "title_cell": "Table of Contents",
   "title_sidebar": "Contents",
   "toc_cell": false,
   "toc_position": {
    "height": "calc(100% - 180px)",
    "left": "10px",
    "top": "150px",
    "width": "384px"
   },
   "toc_section_display": true,
   "toc_window_display": false
  }
 },
 "nbformat": 4,
 "nbformat_minor": 1
}
