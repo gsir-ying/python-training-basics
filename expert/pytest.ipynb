{
 "cells": [
  {
   "cell_type": "markdown",
   "metadata": {
    "slideshow": {
     "slide_type": "slide"
    }
   },
   "source": [
    "#  pytest使用说明\n",
    "\n",
    "[pytest](https://docs.pytest.org/en/latest/)是一个成熟的全功能Python测试工具，用来帮助编写更好的程序。"
   ]
  },
  {
   "cell_type": "markdown",
   "metadata": {
    "slideshow": {
     "slide_type": "slide"
    }
   },
   "source": [
    "使用`pytest`测试框架可以轻松编写小型测试，也可以扩展以支持应用程序和库的复杂功能测试。"
   ]
  },
  {
   "cell_type": "markdown",
   "metadata": {
    "slideshow": {
     "slide_type": "slide"
    }
   },
   "source": [
    "## 安装\n",
    "\n",
    "可以使用pip安装`pytest`：\n",
    "```\n",
    "pip install -U pytest\n",
    "```"
   ]
  },
  {
   "cell_type": "markdown",
   "metadata": {
    "slideshow": {
     "slide_type": "fragment"
    }
   },
   "source": [
    "检查安装情况："
   ]
  },
  {
   "cell_type": "code",
   "execution_count": 137,
   "metadata": {
    "slideshow": {
     "slide_type": "-"
    }
   },
   "outputs": [
    {
     "name": "stdout",
     "output_type": "stream",
     "text": [
      "This is pytest version 3.3.2, imported from /opt/anaconda3/lib/python3.6/site-packages/pytest.py\r\n",
      "setuptools registered plugins:\r\n",
      "  pytest-metadata-1.7.0 at /opt/anaconda3/lib/python3.6/site-packages/pytest_metadata/plugin.py\r\n",
      "  pytest-html-1.19.0 at /opt/anaconda3/lib/python3.6/site-packages/pytest_html/plugin.py\r\n"
     ]
    }
   ],
   "source": [
    "!pytest --version"
   ]
  },
  {
   "cell_type": "markdown",
   "metadata": {
    "slideshow": {
     "slide_type": "slide"
    }
   },
   "source": [
    "## 自省\n",
    "\n",
    "要使用，需要导入pytest模块"
   ]
  },
  {
   "cell_type": "code",
   "execution_count": 138,
   "metadata": {
    "slideshow": {
     "slide_type": "-"
    }
   },
   "outputs": [],
   "source": [
    "import pytest"
   ]
  },
  {
   "cell_type": "markdown",
   "metadata": {
    "slideshow": {
     "slide_type": "slide"
    }
   },
   "source": [
    "使用内置函数`help()`与`dir()`查看使用帮助"
   ]
  },
  {
   "cell_type": "code",
   "execution_count": 139,
   "metadata": {
    "slideshow": {
     "slide_type": "slide"
    }
   },
   "outputs": [
    {
     "name": "stdout",
     "output_type": "stream",
     "text": [
      "Help on module pytest:\n",
      "\n",
      "NAME\n",
      "    pytest - pytest: unit and functional testing with Python.\n",
      "\n",
      "SUBMODULES\n",
      "    collect\n",
      "\n",
      "CLASSES\n",
      "    _pytest.main.FSCollector(_pytest.main.Collector)\n",
      "        _pytest.main.File\n",
      "            _pytest.python.Module(_pytest.main.File, _pytest.python.PyCollector)\n",
      "        _pytest.main.Session\n",
      "    _pytest.main.Node(builtins.object)\n",
      "        _pytest.main.Collector\n",
      "        _pytest.main.Item\n",
      "            _pytest.python.Function(_pytest.python.FunctionMixin, _pytest.main.Item, _pytest.compat.FuncargnamesCompatAttr)\n",
      "    _pytest.python.FunctionMixin(_pytest.python.PyobjMixin)\n",
      "        _pytest.python.Function(_pytest.python.FunctionMixin, _pytest.main.Item, _pytest.compat.FuncargnamesCompatAttr)\n",
      "        _pytest.python.Generator(_pytest.python.FunctionMixin, _pytest.python.PyCollector)\n",
      "    _pytest.python.PyCollector(_pytest.python.PyobjMixin, _pytest.main.Collector)\n",
      "        _pytest.python.Class\n",
      "        _pytest.python.Generator(_pytest.python.FunctionMixin, _pytest.python.PyCollector)\n",
      "        _pytest.python.Instance\n",
      "    builtins.Exception(builtins.BaseException)\n",
      "        _pytest.config.UsageError\n",
      "    builtins.object\n",
      "        _pytest.config.cmdline\n",
      "    \n",
      "    class Class(PyCollector)\n",
      "     |  Collector for test methods.\n",
      "     |  \n",
      "     |  Method resolution order:\n",
      "     |      Class\n",
      "     |      PyCollector\n",
      "     |      PyobjMixin\n",
      "     |      PyobjContext\n",
      "     |      _pytest.main.Collector\n",
      "     |      _pytest.main.Node\n",
      "     |      builtins.object\n",
      "     |  \n",
      "     |  Methods defined here:\n",
      "     |  \n",
      "     |  collect(self)\n",
      "     |      returns a list of children (items and collectors)\n",
      "     |      for this collection node.\n",
      "     |  \n",
      "     |  setup(self)\n",
      "     |  \n",
      "     |  ----------------------------------------------------------------------\n",
      "     |  Methods inherited from PyCollector:\n",
      "     |  \n",
      "     |  classnamefilter(self, name)\n",
      "     |  \n",
      "     |  funcnamefilter(self, name)\n",
      "     |  \n",
      "     |  isnosetest(self, obj)\n",
      "     |      Look for the __test__ attribute, which is applied by the\n",
      "     |      @nose.tools.istest decorator\n",
      "     |  \n",
      "     |  istestclass(self, obj, name)\n",
      "     |  \n",
      "     |  istestfunction(self, obj, name)\n",
      "     |  \n",
      "     |  makeitem(self, name, obj)\n",
      "     |  \n",
      "     |  ----------------------------------------------------------------------\n",
      "     |  Methods inherited from PyobjMixin:\n",
      "     |  \n",
      "     |  getmodpath(self, stopatmodule=True, includemodule=False)\n",
      "     |      return python path relative to the containing module.\n",
      "     |  \n",
      "     |  reportinfo(self)\n",
      "     |  \n",
      "     |  ----------------------------------------------------------------------\n",
      "     |  Data descriptors inherited from PyobjMixin:\n",
      "     |  \n",
      "     |  obj\n",
      "     |      underlying python object\n",
      "     |  \n",
      "     |  ----------------------------------------------------------------------\n",
      "     |  Data descriptors inherited from PyobjContext:\n",
      "     |  \n",
      "     |  __dict__\n",
      "     |      dictionary for instance variables (if defined)\n",
      "     |  \n",
      "     |  __weakref__\n",
      "     |      list of weak references to the object (if defined)\n",
      "     |  \n",
      "     |  cls\n",
      "     |      python class object this node was collected from (can be None).\n",
      "     |  \n",
      "     |  instance\n",
      "     |      python instance object this node was collected from (can be None).\n",
      "     |  \n",
      "     |  module\n",
      "     |      python module object this node was collected from (can be None).\n",
      "     |  \n",
      "     |  ----------------------------------------------------------------------\n",
      "     |  Methods inherited from _pytest.main.Collector:\n",
      "     |  \n",
      "     |  repr_failure(self, excinfo)\n",
      "     |      represent a collection failure.\n",
      "     |  \n",
      "     |  ----------------------------------------------------------------------\n",
      "     |  Data and other attributes inherited from _pytest.main.Collector:\n",
      "     |  \n",
      "     |  CollectError = <class '_pytest.main.Collector.CollectError'>\n",
      "     |      an error during collection, contains a custom message.\n",
      "     |  \n",
      "     |  ----------------------------------------------------------------------\n",
      "     |  Methods inherited from _pytest.main.Node:\n",
      "     |  \n",
      "     |  Class = <_pytest.main._CompatProperty object>\n",
      "     |  File = <_pytest.main._CompatProperty object>\n",
      "     |  Function = <_pytest.main._CompatProperty object>\n",
      "     |  Instance = <_pytest.main._CompatProperty object>\n",
      "     |  Item = <_pytest.main._CompatProperty object>\n",
      "     |  Module = <_pytest.main._CompatProperty object>\n",
      "     |  __hash__(self)\n",
      "     |      Return hash(self).\n",
      "     |  \n",
      "     |  __init__(self, name, parent=None, config=None, session=None)\n",
      "     |      Initialize self.  See help(type(self)) for accurate signature.\n",
      "     |  \n",
      "     |  __repr__(self)\n",
      "     |      Return repr(self).\n",
      "     |  \n",
      "     |  add_marker(self, marker)\n",
      "     |      dynamically add a marker object to the node.\n",
      "     |      \n",
      "     |      ``marker`` can be a string or pytest.mark.* instance.\n",
      "     |  \n",
      "     |  addfinalizer(self, fin)\n",
      "     |      register a function to be called when this node is finalized.\n",
      "     |      \n",
      "     |      This method can only be called when this node is active\n",
      "     |      in a setup chain, for example during self.setup().\n",
      "     |  \n",
      "     |  get_marker(self, name)\n",
      "     |      get a marker object from this node or None if\n",
      "     |      the node doesn't have a marker with that name.\n",
      "     |  \n",
      "     |  getparent(self, cls)\n",
      "     |      get the next parent node (including ourself)\n",
      "     |      which is an instance of the given class\n",
      "     |  \n",
      "     |  listchain(self)\n",
      "     |      return list of all parent collectors up to self,\n",
      "     |      starting from root of collection tree.\n",
      "     |  \n",
      "     |  listextrakeywords(self)\n",
      "     |      Return a set of all extra keywords in self and any parents.\n",
      "     |  \n",
      "     |  listnames(self)\n",
      "     |  \n",
      "     |  teardown(self)\n",
      "     |  \n",
      "     |  warn(self, code, message)\n",
      "     |      generate a warning with the given code and message for this\n",
      "     |      item.\n",
      "     |  \n",
      "     |  ----------------------------------------------------------------------\n",
      "     |  Data descriptors inherited from _pytest.main.Node:\n",
      "     |  \n",
      "     |  ihook\n",
      "     |      fspath sensitive hook proxy used to call pytest hooks\n",
      "     |  \n",
      "     |  nodeid\n",
      "     |      a ::-separated string denoting its collection tree address.\n",
      "    \n",
      "    class Collector(Node)\n",
      "     |  Collector instances create children through collect()\n",
      "     |  and thus iteratively build a tree.\n",
      "     |  \n",
      "     |  Method resolution order:\n",
      "     |      Collector\n",
      "     |      Node\n",
      "     |      builtins.object\n",
      "     |  \n",
      "     |  Methods defined here:\n",
      "     |  \n",
      "     |  collect(self)\n",
      "     |      returns a list of children (items and collectors)\n",
      "     |      for this collection node.\n",
      "     |  \n",
      "     |  repr_failure(self, excinfo)\n",
      "     |      represent a collection failure.\n",
      "     |  \n",
      "     |  ----------------------------------------------------------------------\n",
      "     |  Data and other attributes defined here:\n",
      "     |  \n",
      "     |  CollectError = <class '_pytest.main.Collector.CollectError'>\n",
      "     |      an error during collection, contains a custom message.\n",
      "     |  \n",
      "     |  ----------------------------------------------------------------------\n",
      "     |  Methods inherited from Node:\n",
      "     |  \n",
      "     |  Class = <_pytest.main._CompatProperty object>\n",
      "     |  File = <_pytest.main._CompatProperty object>\n",
      "     |  Function = <_pytest.main._CompatProperty object>\n",
      "     |  Instance = <_pytest.main._CompatProperty object>\n",
      "     |  Item = <_pytest.main._CompatProperty object>\n",
      "     |  Module = <_pytest.main._CompatProperty object>\n",
      "     |  __hash__(self)\n",
      "     |      Return hash(self).\n",
      "     |  \n",
      "     |  __init__(self, name, parent=None, config=None, session=None)\n",
      "     |      Initialize self.  See help(type(self)) for accurate signature.\n",
      "     |  \n",
      "     |  __repr__(self)\n",
      "     |      Return repr(self).\n",
      "     |  \n",
      "     |  add_marker(self, marker)\n",
      "     |      dynamically add a marker object to the node.\n",
      "     |      \n",
      "     |      ``marker`` can be a string or pytest.mark.* instance.\n",
      "     |  \n",
      "     |  addfinalizer(self, fin)\n",
      "     |      register a function to be called when this node is finalized.\n",
      "     |      \n",
      "     |      This method can only be called when this node is active\n",
      "     |      in a setup chain, for example during self.setup().\n",
      "     |  \n",
      "     |  get_marker(self, name)\n",
      "     |      get a marker object from this node or None if\n",
      "     |      the node doesn't have a marker with that name.\n",
      "     |  \n",
      "     |  getparent(self, cls)\n",
      "     |      get the next parent node (including ourself)\n",
      "     |      which is an instance of the given class\n",
      "     |  \n",
      "     |  listchain(self)\n",
      "     |      return list of all parent collectors up to self,\n",
      "     |      starting from root of collection tree.\n",
      "     |  \n",
      "     |  listextrakeywords(self)\n",
      "     |      Return a set of all extra keywords in self and any parents.\n",
      "     |  \n",
      "     |  listnames(self)\n",
      "     |  \n",
      "     |  setup(self)\n",
      "     |  \n",
      "     |  teardown(self)\n",
      "     |  \n",
      "     |  warn(self, code, message)\n",
      "     |      generate a warning with the given code and message for this\n",
      "     |      item.\n",
      "     |  \n",
      "     |  ----------------------------------------------------------------------\n",
      "     |  Data descriptors inherited from Node:\n",
      "     |  \n",
      "     |  __dict__\n",
      "     |      dictionary for instance variables (if defined)\n",
      "     |  \n",
      "     |  __weakref__\n",
      "     |      list of weak references to the object (if defined)\n",
      "     |  \n",
      "     |  ihook\n",
      "     |      fspath sensitive hook proxy used to call pytest hooks\n",
      "     |  \n",
      "     |  nodeid\n",
      "     |      a ::-separated string denoting its collection tree address.\n",
      "    \n",
      "    class File(FSCollector)\n",
      "     |  base class for collecting tests from a file.\n",
      "     |  \n",
      "     |  Method resolution order:\n",
      "     |      File\n",
      "     |      FSCollector\n",
      "     |      Collector\n",
      "     |      Node\n",
      "     |      builtins.object\n",
      "     |  \n",
      "     |  Methods inherited from FSCollector:\n",
      "     |  \n",
      "     |  __init__(self, fspath, parent=None, config=None, session=None)\n",
      "     |      Initialize self.  See help(type(self)) for accurate signature.\n",
      "     |  \n",
      "     |  ----------------------------------------------------------------------\n",
      "     |  Methods inherited from Collector:\n",
      "     |  \n",
      "     |  collect(self)\n",
      "     |      returns a list of children (items and collectors)\n",
      "     |      for this collection node.\n",
      "     |  \n",
      "     |  repr_failure(self, excinfo)\n",
      "     |      represent a collection failure.\n",
      "     |  \n",
      "     |  ----------------------------------------------------------------------\n",
      "     |  Data and other attributes inherited from Collector:\n",
      "     |  \n",
      "     |  CollectError = <class '_pytest.main.Collector.CollectError'>\n",
      "     |      an error during collection, contains a custom message.\n",
      "     |  \n",
      "     |  ----------------------------------------------------------------------\n",
      "     |  Methods inherited from Node:\n",
      "     |  \n",
      "     |  Class = <_pytest.main._CompatProperty object>\n",
      "     |  File = <_pytest.main._CompatProperty object>\n",
      "     |  Function = <_pytest.main._CompatProperty object>\n",
      "     |  Instance = <_pytest.main._CompatProperty object>\n",
      "     |  Item = <_pytest.main._CompatProperty object>\n",
      "     |  Module = <_pytest.main._CompatProperty object>\n",
      "     |  __hash__(self)\n",
      "     |      Return hash(self).\n",
      "     |  \n",
      "     |  __repr__(self)\n",
      "     |      Return repr(self).\n",
      "     |  \n",
      "     |  add_marker(self, marker)\n",
      "     |      dynamically add a marker object to the node.\n",
      "     |      \n",
      "     |      ``marker`` can be a string or pytest.mark.* instance.\n",
      "     |  \n",
      "     |  addfinalizer(self, fin)\n",
      "     |      register a function to be called when this node is finalized.\n",
      "     |      \n",
      "     |      This method can only be called when this node is active\n",
      "     |      in a setup chain, for example during self.setup().\n",
      "     |  \n",
      "     |  get_marker(self, name)\n",
      "     |      get a marker object from this node or None if\n",
      "     |      the node doesn't have a marker with that name.\n",
      "     |  \n",
      "     |  getparent(self, cls)\n",
      "     |      get the next parent node (including ourself)\n",
      "     |      which is an instance of the given class\n",
      "     |  \n",
      "     |  listchain(self)\n",
      "     |      return list of all parent collectors up to self,\n",
      "     |      starting from root of collection tree.\n",
      "     |  \n",
      "     |  listextrakeywords(self)\n",
      "     |      Return a set of all extra keywords in self and any parents.\n",
      "     |  \n",
      "     |  listnames(self)\n",
      "     |  \n",
      "     |  setup(self)\n",
      "     |  \n",
      "     |  teardown(self)\n",
      "     |  \n",
      "     |  warn(self, code, message)\n",
      "     |      generate a warning with the given code and message for this\n",
      "     |      item.\n",
      "     |  \n",
      "     |  ----------------------------------------------------------------------\n",
      "     |  Data descriptors inherited from Node:\n",
      "     |  \n",
      "     |  __dict__\n",
      "     |      dictionary for instance variables (if defined)\n",
      "     |  \n",
      "     |  __weakref__\n",
      "     |      list of weak references to the object (if defined)\n",
      "     |  \n",
      "     |  ihook\n",
      "     |      fspath sensitive hook proxy used to call pytest hooks\n",
      "     |  \n",
      "     |  nodeid\n",
      "     |      a ::-separated string denoting its collection tree address.\n",
      "    \n",
      "    class Function(FunctionMixin, _pytest.main.Item, _pytest.compat.FuncargnamesCompatAttr)\n",
      "     |  a Function Item is responsible for setting up and executing a\n",
      "     |  Python test function.\n",
      "     |  \n",
      "     |  Method resolution order:\n",
      "     |      Function\n",
      "     |      FunctionMixin\n",
      "     |      PyobjMixin\n",
      "     |      PyobjContext\n",
      "     |      _pytest.main.Item\n",
      "     |      _pytest.main.Node\n",
      "     |      _pytest.compat.FuncargnamesCompatAttr\n",
      "     |      builtins.object\n",
      "     |  \n",
      "     |  Methods defined here:\n",
      "     |  \n",
      "     |  __init__(self, name, parent, args=None, config=None, callspec=None, callobj=<object object at 0x7fd10078a140>, keywords=None, session=None, fixtureinfo=None, originalname=None)\n",
      "     |      Initialize self.  See help(type(self)) for accurate signature.\n",
      "     |  \n",
      "     |  runtest(self)\n",
      "     |      execute the underlying test function.\n",
      "     |  \n",
      "     |  setup(self)\n",
      "     |      perform setup for this test function.\n",
      "     |  \n",
      "     |  ----------------------------------------------------------------------\n",
      "     |  Data descriptors defined here:\n",
      "     |  \n",
      "     |  function\n",
      "     |      underlying python 'function' object\n",
      "     |  \n",
      "     |  ----------------------------------------------------------------------\n",
      "     |  Methods inherited from FunctionMixin:\n",
      "     |  \n",
      "     |  repr_failure(self, excinfo, outerr=None)\n",
      "     |  \n",
      "     |  ----------------------------------------------------------------------\n",
      "     |  Methods inherited from PyobjMixin:\n",
      "     |  \n",
      "     |  getmodpath(self, stopatmodule=True, includemodule=False)\n",
      "     |      return python path relative to the containing module.\n",
      "     |  \n",
      "     |  reportinfo(self)\n",
      "     |  \n",
      "     |  ----------------------------------------------------------------------\n",
      "     |  Data descriptors inherited from PyobjMixin:\n",
      "     |  \n",
      "     |  obj\n",
      "     |      underlying python object\n",
      "     |  \n",
      "     |  ----------------------------------------------------------------------\n",
      "     |  Data descriptors inherited from PyobjContext:\n",
      "     |  \n",
      "     |  __dict__\n",
      "     |      dictionary for instance variables (if defined)\n",
      "     |  \n",
      "     |  __weakref__\n",
      "     |      list of weak references to the object (if defined)\n",
      "     |  \n",
      "     |  cls\n",
      "     |      python class object this node was collected from (can be None).\n",
      "     |  \n",
      "     |  instance\n",
      "     |      python instance object this node was collected from (can be None).\n",
      "     |  \n",
      "     |  module\n",
      "     |      python module object this node was collected from (can be None).\n",
      "     |  \n",
      "     |  ----------------------------------------------------------------------\n",
      "     |  Methods inherited from _pytest.main.Item:\n",
      "     |  \n",
      "     |  add_report_section(self, when, key, content)\n",
      "     |      Adds a new report section, similar to what's done internally to add stdout and\n",
      "     |      stderr captured output::\n",
      "     |      \n",
      "     |          item.add_report_section(\"call\", \"stdout\", \"report section contents\")\n",
      "     |      \n",
      "     |      :param str when:\n",
      "     |          One of the possible capture states, ``\"setup\"``, ``\"call\"``, ``\"teardown\"``.\n",
      "     |      :param str key:\n",
      "     |          Name of the section, can be customized at will. Pytest uses ``\"stdout\"`` and\n",
      "     |          ``\"stderr\"`` internally.\n",
      "     |      \n",
      "     |      :param str content:\n",
      "     |          The full contents as a string.\n",
      "     |  \n",
      "     |  ----------------------------------------------------------------------\n",
      "     |  Data descriptors inherited from _pytest.main.Item:\n",
      "     |  \n",
      "     |  location\n",
      "     |  \n",
      "     |  ----------------------------------------------------------------------\n",
      "     |  Data and other attributes inherited from _pytest.main.Item:\n",
      "     |  \n",
      "     |  nextitem = None\n",
      "     |  \n",
      "     |  ----------------------------------------------------------------------\n",
      "     |  Methods inherited from _pytest.main.Node:\n",
      "     |  \n",
      "     |  Class = <_pytest.main._CompatProperty object>\n",
      "     |  File = <_pytest.main._CompatProperty object>\n",
      "     |  Function = <_pytest.main._CompatProperty object>\n",
      "     |  Instance = <_pytest.main._CompatProperty object>\n",
      "     |  Item = <_pytest.main._CompatProperty object>\n",
      "     |  Module = <_pytest.main._CompatProperty object>\n",
      "     |  __hash__(self)\n",
      "     |      Return hash(self).\n",
      "     |  \n",
      "     |  __repr__(self)\n",
      "     |      Return repr(self).\n",
      "     |  \n",
      "     |  add_marker(self, marker)\n",
      "     |      dynamically add a marker object to the node.\n",
      "     |      \n",
      "     |      ``marker`` can be a string or pytest.mark.* instance.\n",
      "     |  \n",
      "     |  addfinalizer(self, fin)\n",
      "     |      register a function to be called when this node is finalized.\n",
      "     |      \n",
      "     |      This method can only be called when this node is active\n",
      "     |      in a setup chain, for example during self.setup().\n",
      "     |  \n",
      "     |  get_marker(self, name)\n",
      "     |      get a marker object from this node or None if\n",
      "     |      the node doesn't have a marker with that name.\n",
      "     |  \n",
      "     |  getparent(self, cls)\n",
      "     |      get the next parent node (including ourself)\n",
      "     |      which is an instance of the given class\n",
      "     |  \n",
      "     |  listchain(self)\n",
      "     |      return list of all parent collectors up to self,\n",
      "     |      starting from root of collection tree.\n",
      "     |  \n",
      "     |  listextrakeywords(self)\n",
      "     |      Return a set of all extra keywords in self and any parents.\n",
      "     |  \n",
      "     |  listnames(self)\n",
      "     |  \n",
      "     |  teardown(self)\n",
      "     |  \n",
      "     |  warn(self, code, message)\n",
      "     |      generate a warning with the given code and message for this\n",
      "     |      item.\n",
      "     |  \n",
      "     |  ----------------------------------------------------------------------\n",
      "     |  Data descriptors inherited from _pytest.main.Node:\n",
      "     |  \n",
      "     |  ihook\n",
      "     |      fspath sensitive hook proxy used to call pytest hooks\n",
      "     |  \n",
      "     |  nodeid\n",
      "     |      a ::-separated string denoting its collection tree address.\n",
      "     |  \n",
      "     |  ----------------------------------------------------------------------\n",
      "     |  Data descriptors inherited from _pytest.compat.FuncargnamesCompatAttr:\n",
      "     |  \n",
      "     |  funcargnames\n",
      "     |      alias attribute for ``fixturenames`` for pre-2.3 compatibility\n",
      "    \n",
      "    class Generator(FunctionMixin, PyCollector)\n",
      "     |  mixin for the code common to Function and Generator.\n",
      "     |  \n",
      "     |  Method resolution order:\n",
      "     |      Generator\n",
      "     |      FunctionMixin\n",
      "     |      PyCollector\n",
      "     |      PyobjMixin\n",
      "     |      PyobjContext\n",
      "     |      _pytest.main.Collector\n",
      "     |      _pytest.main.Node\n",
      "     |      builtins.object\n",
      "     |  \n",
      "     |  Methods defined here:\n",
      "     |  \n",
      "     |  collect(self)\n",
      "     |      returns a list of children (items and collectors)\n",
      "     |      for this collection node.\n",
      "     |  \n",
      "     |  getcallargs(self, obj)\n",
      "     |  \n",
      "     |  ----------------------------------------------------------------------\n",
      "     |  Methods inherited from FunctionMixin:\n",
      "     |  \n",
      "     |  repr_failure(self, excinfo, outerr=None)\n",
      "     |  \n",
      "     |  setup(self)\n",
      "     |      perform setup for this test function.\n",
      "     |  \n",
      "     |  ----------------------------------------------------------------------\n",
      "     |  Methods inherited from PyCollector:\n",
      "     |  \n",
      "     |  classnamefilter(self, name)\n",
      "     |  \n",
      "     |  funcnamefilter(self, name)\n",
      "     |  \n",
      "     |  isnosetest(self, obj)\n",
      "     |      Look for the __test__ attribute, which is applied by the\n",
      "     |      @nose.tools.istest decorator\n",
      "     |  \n",
      "     |  istestclass(self, obj, name)\n",
      "     |  \n",
      "     |  istestfunction(self, obj, name)\n",
      "     |  \n",
      "     |  makeitem(self, name, obj)\n",
      "     |  \n",
      "     |  ----------------------------------------------------------------------\n",
      "     |  Methods inherited from PyobjMixin:\n",
      "     |  \n",
      "     |  getmodpath(self, stopatmodule=True, includemodule=False)\n",
      "     |      return python path relative to the containing module.\n",
      "     |  \n",
      "     |  reportinfo(self)\n",
      "     |  \n",
      "     |  ----------------------------------------------------------------------\n",
      "     |  Data descriptors inherited from PyobjMixin:\n",
      "     |  \n",
      "     |  obj\n",
      "     |      underlying python object\n",
      "     |  \n",
      "     |  ----------------------------------------------------------------------\n",
      "     |  Data descriptors inherited from PyobjContext:\n",
      "     |  \n",
      "     |  __dict__\n",
      "     |      dictionary for instance variables (if defined)\n",
      "     |  \n",
      "     |  __weakref__\n",
      "     |      list of weak references to the object (if defined)\n",
      "     |  \n",
      "     |  cls\n",
      "     |      python class object this node was collected from (can be None).\n",
      "     |  \n",
      "     |  instance\n",
      "     |      python instance object this node was collected from (can be None).\n",
      "     |  \n",
      "     |  module\n",
      "     |      python module object this node was collected from (can be None).\n",
      "     |  \n",
      "     |  ----------------------------------------------------------------------\n",
      "     |  Data and other attributes inherited from _pytest.main.Collector:\n",
      "     |  \n",
      "     |  CollectError = <class '_pytest.main.Collector.CollectError'>\n",
      "     |      an error during collection, contains a custom message.\n",
      "     |  \n",
      "     |  ----------------------------------------------------------------------\n",
      "     |  Methods inherited from _pytest.main.Node:\n",
      "     |  \n",
      "     |  Class = <_pytest.main._CompatProperty object>\n",
      "     |  File = <_pytest.main._CompatProperty object>\n",
      "     |  Function = <_pytest.main._CompatProperty object>\n",
      "     |  Instance = <_pytest.main._CompatProperty object>\n",
      "     |  Item = <_pytest.main._CompatProperty object>\n",
      "     |  Module = <_pytest.main._CompatProperty object>\n",
      "     |  __hash__(self)\n",
      "     |      Return hash(self).\n",
      "     |  \n",
      "     |  __init__(self, name, parent=None, config=None, session=None)\n",
      "     |      Initialize self.  See help(type(self)) for accurate signature.\n",
      "     |  \n",
      "     |  __repr__(self)\n",
      "     |      Return repr(self).\n",
      "     |  \n",
      "     |  add_marker(self, marker)\n",
      "     |      dynamically add a marker object to the node.\n",
      "     |      \n",
      "     |      ``marker`` can be a string or pytest.mark.* instance.\n",
      "     |  \n",
      "     |  addfinalizer(self, fin)\n",
      "     |      register a function to be called when this node is finalized.\n",
      "     |      \n",
      "     |      This method can only be called when this node is active\n",
      "     |      in a setup chain, for example during self.setup().\n",
      "     |  \n",
      "     |  get_marker(self, name)\n",
      "     |      get a marker object from this node or None if\n",
      "     |      the node doesn't have a marker with that name.\n",
      "     |  \n",
      "     |  getparent(self, cls)\n",
      "     |      get the next parent node (including ourself)\n",
      "     |      which is an instance of the given class\n",
      "     |  \n",
      "     |  listchain(self)\n",
      "     |      return list of all parent collectors up to self,\n",
      "     |      starting from root of collection tree.\n",
      "     |  \n",
      "     |  listextrakeywords(self)\n",
      "     |      Return a set of all extra keywords in self and any parents.\n",
      "     |  \n",
      "     |  listnames(self)\n",
      "     |  \n",
      "     |  teardown(self)\n",
      "     |  \n",
      "     |  warn(self, code, message)\n",
      "     |      generate a warning with the given code and message for this\n",
      "     |      item.\n",
      "     |  \n",
      "     |  ----------------------------------------------------------------------\n",
      "     |  Data descriptors inherited from _pytest.main.Node:\n",
      "     |  \n",
      "     |  ihook\n",
      "     |      fspath sensitive hook proxy used to call pytest hooks\n",
      "     |  \n",
      "     |  nodeid\n",
      "     |      a ::-separated string denoting its collection tree address.\n",
      "    \n",
      "    class Instance(PyCollector)\n",
      "     |  Collector instances create children through collect()\n",
      "     |  and thus iteratively build a tree.\n",
      "     |  \n",
      "     |  Method resolution order:\n",
      "     |      Instance\n",
      "     |      PyCollector\n",
      "     |      PyobjMixin\n",
      "     |      PyobjContext\n",
      "     |      _pytest.main.Collector\n",
      "     |      _pytest.main.Node\n",
      "     |      builtins.object\n",
      "     |  \n",
      "     |  Methods defined here:\n",
      "     |  \n",
      "     |  collect(self)\n",
      "     |      returns a list of children (items and collectors)\n",
      "     |      for this collection node.\n",
      "     |  \n",
      "     |  newinstance(self)\n",
      "     |  \n",
      "     |  ----------------------------------------------------------------------\n",
      "     |  Methods inherited from PyCollector:\n",
      "     |  \n",
      "     |  classnamefilter(self, name)\n",
      "     |  \n",
      "     |  funcnamefilter(self, name)\n",
      "     |  \n",
      "     |  isnosetest(self, obj)\n",
      "     |      Look for the __test__ attribute, which is applied by the\n",
      "     |      @nose.tools.istest decorator\n",
      "     |  \n",
      "     |  istestclass(self, obj, name)\n",
      "     |  \n",
      "     |  istestfunction(self, obj, name)\n",
      "     |  \n",
      "     |  makeitem(self, name, obj)\n",
      "     |  \n",
      "     |  ----------------------------------------------------------------------\n",
      "     |  Methods inherited from PyobjMixin:\n",
      "     |  \n",
      "     |  getmodpath(self, stopatmodule=True, includemodule=False)\n",
      "     |      return python path relative to the containing module.\n",
      "     |  \n",
      "     |  reportinfo(self)\n",
      "     |  \n",
      "     |  ----------------------------------------------------------------------\n",
      "     |  Data descriptors inherited from PyobjMixin:\n",
      "     |  \n",
      "     |  obj\n",
      "     |      underlying python object\n",
      "     |  \n",
      "     |  ----------------------------------------------------------------------\n",
      "     |  Data descriptors inherited from PyobjContext:\n",
      "     |  \n",
      "     |  __dict__\n",
      "     |      dictionary for instance variables (if defined)\n",
      "     |  \n",
      "     |  __weakref__\n",
      "     |      list of weak references to the object (if defined)\n",
      "     |  \n",
      "     |  cls\n",
      "     |      python class object this node was collected from (can be None).\n",
      "     |  \n",
      "     |  instance\n",
      "     |      python instance object this node was collected from (can be None).\n",
      "     |  \n",
      "     |  module\n",
      "     |      python module object this node was collected from (can be None).\n",
      "     |  \n",
      "     |  ----------------------------------------------------------------------\n",
      "     |  Methods inherited from _pytest.main.Collector:\n",
      "     |  \n",
      "     |  repr_failure(self, excinfo)\n",
      "     |      represent a collection failure.\n",
      "     |  \n",
      "     |  ----------------------------------------------------------------------\n",
      "     |  Data and other attributes inherited from _pytest.main.Collector:\n",
      "     |  \n",
      "     |  CollectError = <class '_pytest.main.Collector.CollectError'>\n",
      "     |      an error during collection, contains a custom message.\n",
      "     |  \n",
      "     |  ----------------------------------------------------------------------\n",
      "     |  Methods inherited from _pytest.main.Node:\n",
      "     |  \n",
      "     |  Class = <_pytest.main._CompatProperty object>\n",
      "     |  File = <_pytest.main._CompatProperty object>\n",
      "     |  Function = <_pytest.main._CompatProperty object>\n",
      "     |  Instance = <_pytest.main._CompatProperty object>\n",
      "     |  Item = <_pytest.main._CompatProperty object>\n",
      "     |  Module = <_pytest.main._CompatProperty object>\n",
      "     |  __hash__(self)\n",
      "     |      Return hash(self).\n",
      "     |  \n",
      "     |  __init__(self, name, parent=None, config=None, session=None)\n",
      "     |      Initialize self.  See help(type(self)) for accurate signature.\n",
      "     |  \n",
      "     |  __repr__(self)\n",
      "     |      Return repr(self).\n",
      "     |  \n",
      "     |  add_marker(self, marker)\n",
      "     |      dynamically add a marker object to the node.\n",
      "     |      \n",
      "     |      ``marker`` can be a string or pytest.mark.* instance.\n",
      "     |  \n",
      "     |  addfinalizer(self, fin)\n",
      "     |      register a function to be called when this node is finalized.\n",
      "     |      \n",
      "     |      This method can only be called when this node is active\n",
      "     |      in a setup chain, for example during self.setup().\n",
      "     |  \n",
      "     |  get_marker(self, name)\n",
      "     |      get a marker object from this node or None if\n",
      "     |      the node doesn't have a marker with that name.\n",
      "     |  \n",
      "     |  getparent(self, cls)\n",
      "     |      get the next parent node (including ourself)\n",
      "     |      which is an instance of the given class\n",
      "     |  \n",
      "     |  listchain(self)\n",
      "     |      return list of all parent collectors up to self,\n",
      "     |      starting from root of collection tree.\n",
      "     |  \n",
      "     |  listextrakeywords(self)\n",
      "     |      Return a set of all extra keywords in self and any parents.\n",
      "     |  \n",
      "     |  listnames(self)\n",
      "     |  \n",
      "     |  setup(self)\n",
      "     |  \n",
      "     |  teardown(self)\n",
      "     |  \n",
      "     |  warn(self, code, message)\n",
      "     |      generate a warning with the given code and message for this\n",
      "     |      item.\n",
      "     |  \n",
      "     |  ----------------------------------------------------------------------\n",
      "     |  Data descriptors inherited from _pytest.main.Node:\n",
      "     |  \n",
      "     |  ihook\n",
      "     |      fspath sensitive hook proxy used to call pytest hooks\n",
      "     |  \n",
      "     |  nodeid\n",
      "     |      a ::-separated string denoting its collection tree address.\n",
      "    \n",
      "    class Item(Node)\n",
      "     |  a basic test invocation item. Note that for a single function\n",
      "     |  there might be multiple test invocation items.\n",
      "     |  \n",
      "     |  Method resolution order:\n",
      "     |      Item\n",
      "     |      Node\n",
      "     |      builtins.object\n",
      "     |  \n",
      "     |  Methods defined here:\n",
      "     |  \n",
      "     |  __init__(self, name, parent=None, config=None, session=None)\n",
      "     |      Initialize self.  See help(type(self)) for accurate signature.\n",
      "     |  \n",
      "     |  add_report_section(self, when, key, content)\n",
      "     |      Adds a new report section, similar to what's done internally to add stdout and\n",
      "     |      stderr captured output::\n",
      "     |      \n",
      "     |          item.add_report_section(\"call\", \"stdout\", \"report section contents\")\n",
      "     |      \n",
      "     |      :param str when:\n",
      "     |          One of the possible capture states, ``\"setup\"``, ``\"call\"``, ``\"teardown\"``.\n",
      "     |      :param str key:\n",
      "     |          Name of the section, can be customized at will. Pytest uses ``\"stdout\"`` and\n",
      "     |          ``\"stderr\"`` internally.\n",
      "     |      \n",
      "     |      :param str content:\n",
      "     |          The full contents as a string.\n",
      "     |  \n",
      "     |  reportinfo(self)\n",
      "     |  \n",
      "     |  ----------------------------------------------------------------------\n",
      "     |  Data descriptors defined here:\n",
      "     |  \n",
      "     |  location\n",
      "     |  \n",
      "     |  ----------------------------------------------------------------------\n",
      "     |  Data and other attributes defined here:\n",
      "     |  \n",
      "     |  nextitem = None\n",
      "     |  \n",
      "     |  ----------------------------------------------------------------------\n",
      "     |  Methods inherited from Node:\n",
      "     |  \n",
      "     |  Class = <_pytest.main._CompatProperty object>\n",
      "     |  File = <_pytest.main._CompatProperty object>\n",
      "     |  Function = <_pytest.main._CompatProperty object>\n",
      "     |  Instance = <_pytest.main._CompatProperty object>\n",
      "     |  Item = <_pytest.main._CompatProperty object>\n",
      "     |  Module = <_pytest.main._CompatProperty object>\n",
      "     |  __hash__(self)\n",
      "     |      Return hash(self).\n",
      "     |  \n",
      "     |  __repr__(self)\n",
      "     |      Return repr(self).\n",
      "     |  \n",
      "     |  add_marker(self, marker)\n",
      "     |      dynamically add a marker object to the node.\n",
      "     |      \n",
      "     |      ``marker`` can be a string or pytest.mark.* instance.\n",
      "     |  \n",
      "     |  addfinalizer(self, fin)\n",
      "     |      register a function to be called when this node is finalized.\n",
      "     |      \n",
      "     |      This method can only be called when this node is active\n",
      "     |      in a setup chain, for example during self.setup().\n",
      "     |  \n",
      "     |  get_marker(self, name)\n",
      "     |      get a marker object from this node or None if\n",
      "     |      the node doesn't have a marker with that name.\n",
      "     |  \n",
      "     |  getparent(self, cls)\n",
      "     |      get the next parent node (including ourself)\n",
      "     |      which is an instance of the given class\n",
      "     |  \n",
      "     |  listchain(self)\n",
      "     |      return list of all parent collectors up to self,\n",
      "     |      starting from root of collection tree.\n",
      "     |  \n",
      "     |  listextrakeywords(self)\n",
      "     |      Return a set of all extra keywords in self and any parents.\n",
      "     |  \n",
      "     |  listnames(self)\n",
      "     |  \n",
      "     |  repr_failure = _repr_failure_py(self, excinfo, style=None)\n",
      "     |  \n",
      "     |  setup(self)\n",
      "     |  \n",
      "     |  teardown(self)\n",
      "     |  \n",
      "     |  warn(self, code, message)\n",
      "     |      generate a warning with the given code and message for this\n",
      "     |      item.\n",
      "     |  \n",
      "     |  ----------------------------------------------------------------------\n",
      "     |  Data descriptors inherited from Node:\n",
      "     |  \n",
      "     |  __dict__\n",
      "     |      dictionary for instance variables (if defined)\n",
      "     |  \n",
      "     |  __weakref__\n",
      "     |      list of weak references to the object (if defined)\n",
      "     |  \n",
      "     |  ihook\n",
      "     |      fspath sensitive hook proxy used to call pytest hooks\n",
      "     |  \n",
      "     |  nodeid\n",
      "     |      a ::-separated string denoting its collection tree address.\n",
      "    \n",
      "    class Module(_pytest.main.File, PyCollector)\n",
      "     |  Collector for test classes and functions.\n",
      "     |  \n",
      "     |  Method resolution order:\n",
      "     |      Module\n",
      "     |      _pytest.main.File\n",
      "     |      _pytest.main.FSCollector\n",
      "     |      PyCollector\n",
      "     |      PyobjMixin\n",
      "     |      PyobjContext\n",
      "     |      _pytest.main.Collector\n",
      "     |      _pytest.main.Node\n",
      "     |      builtins.object\n",
      "     |  \n",
      "     |  Methods defined here:\n",
      "     |  \n",
      "     |  collect(self)\n",
      "     |      returns a list of children (items and collectors)\n",
      "     |      for this collection node.\n",
      "     |  \n",
      "     |  setup(self)\n",
      "     |  \n",
      "     |  ----------------------------------------------------------------------\n",
      "     |  Methods inherited from _pytest.main.FSCollector:\n",
      "     |  \n",
      "     |  __init__(self, fspath, parent=None, config=None, session=None)\n",
      "     |      Initialize self.  See help(type(self)) for accurate signature.\n",
      "     |  \n",
      "     |  ----------------------------------------------------------------------\n",
      "     |  Methods inherited from PyCollector:\n",
      "     |  \n",
      "     |  classnamefilter(self, name)\n",
      "     |  \n",
      "     |  funcnamefilter(self, name)\n",
      "     |  \n",
      "     |  isnosetest(self, obj)\n",
      "     |      Look for the __test__ attribute, which is applied by the\n",
      "     |      @nose.tools.istest decorator\n",
      "     |  \n",
      "     |  istestclass(self, obj, name)\n",
      "     |  \n",
      "     |  istestfunction(self, obj, name)\n",
      "     |  \n",
      "     |  makeitem(self, name, obj)\n",
      "     |  \n",
      "     |  ----------------------------------------------------------------------\n",
      "     |  Methods inherited from PyobjMixin:\n",
      "     |  \n",
      "     |  getmodpath(self, stopatmodule=True, includemodule=False)\n",
      "     |      return python path relative to the containing module.\n",
      "     |  \n",
      "     |  reportinfo(self)\n",
      "     |  \n",
      "     |  ----------------------------------------------------------------------\n",
      "     |  Data descriptors inherited from PyobjMixin:\n",
      "     |  \n",
      "     |  obj\n",
      "     |      underlying python object\n",
      "     |  \n",
      "     |  ----------------------------------------------------------------------\n",
      "     |  Data descriptors inherited from PyobjContext:\n",
      "     |  \n",
      "     |  __dict__\n",
      "     |      dictionary for instance variables (if defined)\n",
      "     |  \n",
      "     |  __weakref__\n",
      "     |      list of weak references to the object (if defined)\n",
      "     |  \n",
      "     |  cls\n",
      "     |      python class object this node was collected from (can be None).\n",
      "     |  \n",
      "     |  instance\n",
      "     |      python instance object this node was collected from (can be None).\n",
      "     |  \n",
      "     |  module\n",
      "     |      python module object this node was collected from (can be None).\n",
      "     |  \n",
      "     |  ----------------------------------------------------------------------\n",
      "     |  Methods inherited from _pytest.main.Collector:\n",
      "     |  \n",
      "     |  repr_failure(self, excinfo)\n",
      "     |      represent a collection failure.\n",
      "     |  \n",
      "     |  ----------------------------------------------------------------------\n",
      "     |  Data and other attributes inherited from _pytest.main.Collector:\n",
      "     |  \n",
      "     |  CollectError = <class '_pytest.main.Collector.CollectError'>\n",
      "     |      an error during collection, contains a custom message.\n",
      "     |  \n",
      "     |  ----------------------------------------------------------------------\n",
      "     |  Methods inherited from _pytest.main.Node:\n",
      "     |  \n",
      "     |  Class = <_pytest.main._CompatProperty object>\n",
      "     |  File = <_pytest.main._CompatProperty object>\n",
      "     |  Function = <_pytest.main._CompatProperty object>\n",
      "     |  Instance = <_pytest.main._CompatProperty object>\n",
      "     |  Item = <_pytest.main._CompatProperty object>\n",
      "     |  Module = <_pytest.main._CompatProperty object>\n",
      "     |  __hash__(self)\n",
      "     |      Return hash(self).\n",
      "     |  \n",
      "     |  __repr__(self)\n",
      "     |      Return repr(self).\n",
      "     |  \n",
      "     |  add_marker(self, marker)\n",
      "     |      dynamically add a marker object to the node.\n",
      "     |      \n",
      "     |      ``marker`` can be a string or pytest.mark.* instance.\n",
      "     |  \n",
      "     |  addfinalizer(self, fin)\n",
      "     |      register a function to be called when this node is finalized.\n",
      "     |      \n",
      "     |      This method can only be called when this node is active\n",
      "     |      in a setup chain, for example during self.setup().\n",
      "     |  \n",
      "     |  get_marker(self, name)\n",
      "     |      get a marker object from this node or None if\n",
      "     |      the node doesn't have a marker with that name.\n",
      "     |  \n",
      "     |  getparent(self, cls)\n",
      "     |      get the next parent node (including ourself)\n",
      "     |      which is an instance of the given class\n",
      "     |  \n",
      "     |  listchain(self)\n",
      "     |      return list of all parent collectors up to self,\n",
      "     |      starting from root of collection tree.\n",
      "     |  \n",
      "     |  listextrakeywords(self)\n",
      "     |      Return a set of all extra keywords in self and any parents.\n",
      "     |  \n",
      "     |  listnames(self)\n",
      "     |  \n",
      "     |  teardown(self)\n",
      "     |  \n",
      "     |  warn(self, code, message)\n",
      "     |      generate a warning with the given code and message for this\n",
      "     |      item.\n",
      "     |  \n",
      "     |  ----------------------------------------------------------------------\n",
      "     |  Data descriptors inherited from _pytest.main.Node:\n",
      "     |  \n",
      "     |  ihook\n",
      "     |      fspath sensitive hook proxy used to call pytest hooks\n",
      "     |  \n",
      "     |  nodeid\n",
      "     |      a ::-separated string denoting its collection tree address.\n",
      "    \n",
      "    class Session(FSCollector)\n",
      "     |  Collector instances create children through collect()\n",
      "     |  and thus iteratively build a tree.\n",
      "     |  \n",
      "     |  Method resolution order:\n",
      "     |      Session\n",
      "     |      FSCollector\n",
      "     |      Collector\n",
      "     |      Node\n",
      "     |      builtins.object\n",
      "     |  \n",
      "     |  Methods defined here:\n",
      "     |  \n",
      "     |  __init__(self, config)\n",
      "     |      Initialize self.  See help(type(self)) for accurate signature.\n",
      "     |  \n",
      "     |  collect(self)\n",
      "     |      returns a list of children (items and collectors)\n",
      "     |      for this collection node.\n",
      "     |  \n",
      "     |  genitems(self, node)\n",
      "     |  \n",
      "     |  gethookproxy(self, fspath)\n",
      "     |  \n",
      "     |  isinitpath(self, path)\n",
      "     |  \n",
      "     |  matchnodes(self, matching, names)\n",
      "     |  \n",
      "     |  perform_collect(self, args=None, genitems=True)\n",
      "     |  \n",
      "     |  pytest_collectreport = pytest_runtest_logreport(self, report)\n",
      "     |  \n",
      "     |  pytest_collectstart(self)\n",
      "     |  \n",
      "     |  pytest_runtest_logreport(self, report)\n",
      "     |  \n",
      "     |  ----------------------------------------------------------------------\n",
      "     |  Data and other attributes defined here:\n",
      "     |  \n",
      "     |  Failed = <class '_pytest.main.Failed'>\n",
      "     |      signals an stop as failed test run.\n",
      "     |  \n",
      "     |  Interrupted = <class 'Interrupted'>\n",
      "     |      signals an interrupted test run.\n",
      "     |  \n",
      "     |  ----------------------------------------------------------------------\n",
      "     |  Methods inherited from Collector:\n",
      "     |  \n",
      "     |  repr_failure(self, excinfo)\n",
      "     |      represent a collection failure.\n",
      "     |  \n",
      "     |  ----------------------------------------------------------------------\n",
      "     |  Data and other attributes inherited from Collector:\n",
      "     |  \n",
      "     |  CollectError = <class '_pytest.main.Collector.CollectError'>\n",
      "     |      an error during collection, contains a custom message.\n",
      "     |  \n",
      "     |  ----------------------------------------------------------------------\n",
      "     |  Methods inherited from Node:\n",
      "     |  \n",
      "     |  Class = <_pytest.main._CompatProperty object>\n",
      "     |  File = <_pytest.main._CompatProperty object>\n",
      "     |  Function = <_pytest.main._CompatProperty object>\n",
      "     |  Instance = <_pytest.main._CompatProperty object>\n",
      "     |  Item = <_pytest.main._CompatProperty object>\n",
      "     |  Module = <_pytest.main._CompatProperty object>\n",
      "     |  __hash__(self)\n",
      "     |      Return hash(self).\n",
      "     |  \n",
      "     |  __repr__(self)\n",
      "     |      Return repr(self).\n",
      "     |  \n",
      "     |  add_marker(self, marker)\n",
      "     |      dynamically add a marker object to the node.\n",
      "     |      \n",
      "     |      ``marker`` can be a string or pytest.mark.* instance.\n",
      "     |  \n",
      "     |  addfinalizer(self, fin)\n",
      "     |      register a function to be called when this node is finalized.\n",
      "     |      \n",
      "     |      This method can only be called when this node is active\n",
      "     |      in a setup chain, for example during self.setup().\n",
      "     |  \n",
      "     |  get_marker(self, name)\n",
      "     |      get a marker object from this node or None if\n",
      "     |      the node doesn't have a marker with that name.\n",
      "     |  \n",
      "     |  getparent(self, cls)\n",
      "     |      get the next parent node (including ourself)\n",
      "     |      which is an instance of the given class\n",
      "     |  \n",
      "     |  listchain(self)\n",
      "     |      return list of all parent collectors up to self,\n",
      "     |      starting from root of collection tree.\n",
      "     |  \n",
      "     |  listextrakeywords(self)\n",
      "     |      Return a set of all extra keywords in self and any parents.\n",
      "     |  \n",
      "     |  listnames(self)\n",
      "     |  \n",
      "     |  setup(self)\n",
      "     |  \n",
      "     |  teardown(self)\n",
      "     |  \n",
      "     |  warn(self, code, message)\n",
      "     |      generate a warning with the given code and message for this\n",
      "     |      item.\n",
      "     |  \n",
      "     |  ----------------------------------------------------------------------\n",
      "     |  Data descriptors inherited from Node:\n",
      "     |  \n",
      "     |  __dict__\n",
      "     |      dictionary for instance variables (if defined)\n",
      "     |  \n",
      "     |  __weakref__\n",
      "     |      list of weak references to the object (if defined)\n",
      "     |  \n",
      "     |  ihook\n",
      "     |      fspath sensitive hook proxy used to call pytest hooks\n",
      "     |  \n",
      "     |  nodeid\n",
      "     |      a ::-separated string denoting its collection tree address.\n",
      "    \n",
      "    class UsageError(builtins.Exception)\n",
      "     |  error in pytest usage or invocation\n",
      "     |  \n",
      "     |  Method resolution order:\n",
      "     |      UsageError\n",
      "     |      builtins.Exception\n",
      "     |      builtins.BaseException\n",
      "     |      builtins.object\n",
      "     |  \n",
      "     |  Data descriptors defined here:\n",
      "     |  \n",
      "     |  __weakref__\n",
      "     |      list of weak references to the object (if defined)\n",
      "     |  \n",
      "     |  ----------------------------------------------------------------------\n",
      "     |  Methods inherited from builtins.Exception:\n",
      "     |  \n",
      "     |  __init__(self, /, *args, **kwargs)\n",
      "     |      Initialize self.  See help(type(self)) for accurate signature.\n",
      "     |  \n",
      "     |  __new__(*args, **kwargs) from builtins.type\n",
      "     |      Create and return a new object.  See help(type) for accurate signature.\n",
      "     |  \n",
      "     |  ----------------------------------------------------------------------\n",
      "     |  Methods inherited from builtins.BaseException:\n",
      "     |  \n",
      "     |  __delattr__(self, name, /)\n",
      "     |      Implement delattr(self, name).\n",
      "     |  \n",
      "     |  __getattribute__(self, name, /)\n",
      "     |      Return getattr(self, name).\n",
      "     |  \n",
      "     |  __reduce__(...)\n",
      "     |      helper for pickle\n",
      "     |  \n",
      "     |  __repr__(self, /)\n",
      "     |      Return repr(self).\n",
      "     |  \n",
      "     |  __setattr__(self, name, value, /)\n",
      "     |      Implement setattr(self, name, value).\n",
      "     |  \n",
      "     |  __setstate__(...)\n",
      "     |  \n",
      "     |  __str__(self, /)\n",
      "     |      Return str(self).\n",
      "     |  \n",
      "     |  with_traceback(...)\n",
      "     |      Exception.with_traceback(tb) --\n",
      "     |      set self.__traceback__ to tb and return self.\n",
      "     |  \n",
      "     |  ----------------------------------------------------------------------\n",
      "     |  Data descriptors inherited from builtins.BaseException:\n",
      "     |  \n",
      "     |  __cause__\n",
      "     |      exception cause\n",
      "     |  \n",
      "     |  __context__\n",
      "     |      exception context\n",
      "     |  \n",
      "     |  __dict__\n",
      "     |  \n",
      "     |  __suppress_context__\n",
      "     |  \n",
      "     |  __traceback__\n",
      "     |  \n",
      "     |  args\n",
      "    \n",
      "    class cmdline(builtins.object)\n",
      "     |  Static methods defined here:\n",
      "     |  \n",
      "     |  main(args=None, plugins=None)\n",
      "     |      return exit code, after performing an in-process test run.\n",
      "     |      \n",
      "     |      :arg args: list of command line arguments.\n",
      "     |      \n",
      "     |      :arg plugins: list of plugin objects to be auto-registered during\n",
      "     |                    initialization.\n",
      "     |  \n",
      "     |  ----------------------------------------------------------------------\n",
      "     |  Data descriptors defined here:\n",
      "     |  \n",
      "     |  __dict__\n",
      "     |      dictionary for instance variables (if defined)\n",
      "     |  \n",
      "     |  __weakref__\n",
      "     |      list of weak references to the object (if defined)\n",
      "\n",
      "FUNCTIONS\n",
      "    _fillfuncargs = fillfixtures(function)\n",
      "        fill missing funcargs for a test function.\n",
      "    \n",
      "    approx(expected, rel=None, abs=None, nan_ok=False)\n",
      "        Assert that two numbers (or two sets of numbers) are equal to each other\n",
      "        within some tolerance.\n",
      "        \n",
      "        Due to the `intricacies of floating-point arithmetic`__, numbers that we\n",
      "        would intuitively expect to be equal are not always so::\n",
      "        \n",
      "            >>> 0.1 + 0.2 == 0.3\n",
      "            False\n",
      "        \n",
      "        __ https://docs.python.org/3/tutorial/floatingpoint.html\n",
      "        \n",
      "        This problem is commonly encountered when writing tests, e.g. when making\n",
      "        sure that floating-point values are what you expect them to be.  One way to\n",
      "        deal with this problem is to assert that two floating-point numbers are\n",
      "        equal to within some appropriate tolerance::\n",
      "        \n",
      "            >>> abs((0.1 + 0.2) - 0.3) < 1e-6\n",
      "            True\n",
      "        \n",
      "        However, comparisons like this are tedious to write and difficult to\n",
      "        understand.  Furthermore, absolute comparisons like the one above are\n",
      "        usually discouraged because there's no tolerance that works well for all\n",
      "        situations.  ``1e-6`` is good for numbers around ``1``, but too small for\n",
      "        very big numbers and too big for very small ones.  It's better to express\n",
      "        the tolerance as a fraction of the expected value, but relative comparisons\n",
      "        like that are even more difficult to write correctly and concisely.\n",
      "        \n",
      "        The ``approx`` class performs floating-point comparisons using a syntax\n",
      "        that's as intuitive as possible::\n",
      "        \n",
      "            >>> from pytest import approx\n",
      "            >>> 0.1 + 0.2 == approx(0.3)\n",
      "            True\n",
      "        \n",
      "        The same syntax also works for sequences of numbers::\n",
      "        \n",
      "            >>> (0.1 + 0.2, 0.2 + 0.4) == approx((0.3, 0.6))\n",
      "            True\n",
      "        \n",
      "        Dictionary *values*::\n",
      "        \n",
      "            >>> {'a': 0.1 + 0.2, 'b': 0.2 + 0.4} == approx({'a': 0.3, 'b': 0.6})\n",
      "            True\n",
      "        \n",
      "        And ``numpy`` arrays::\n",
      "        \n",
      "            >>> import numpy as np                                                          # doctest: +SKIP\n",
      "            >>> np.array([0.1, 0.2]) + np.array([0.2, 0.4]) == approx(np.array([0.3, 0.6])) # doctest: +SKIP\n",
      "            True\n",
      "        \n",
      "        By default, ``approx`` considers numbers within a relative tolerance of\n",
      "        ``1e-6`` (i.e. one part in a million) of its expected value to be equal.\n",
      "        This treatment would lead to surprising results if the expected value was\n",
      "        ``0.0``, because nothing but ``0.0`` itself is relatively close to ``0.0``.\n",
      "        To handle this case less surprisingly, ``approx`` also considers numbers\n",
      "        within an absolute tolerance of ``1e-12`` of its expected value to be\n",
      "        equal.  Infinity and NaN are special cases.  Infinity is only considered\n",
      "        equal to itself, regardless of the relative tolerance.  NaN is not\n",
      "        considered equal to anything by default, but you can make it be equal to\n",
      "        itself by setting the ``nan_ok`` argument to True.  (This is meant to\n",
      "        facilitate comparing arrays that use NaN to mean \"no data\".)\n",
      "        \n",
      "        Both the relative and absolute tolerances can be changed by passing\n",
      "        arguments to the ``approx`` constructor::\n",
      "        \n",
      "            >>> 1.0001 == approx(1)\n",
      "            False\n",
      "            >>> 1.0001 == approx(1, rel=1e-3)\n",
      "            True\n",
      "            >>> 1.0001 == approx(1, abs=1e-3)\n",
      "            True\n",
      "        \n",
      "        If you specify ``abs`` but not ``rel``, the comparison will not consider\n",
      "        the relative tolerance at all.  In other words, two numbers that are within\n",
      "        the default relative tolerance of ``1e-6`` will still be considered unequal\n",
      "        if they exceed the specified absolute tolerance.  If you specify both\n",
      "        ``abs`` and ``rel``, the numbers will be considered equal if either\n",
      "        tolerance is met::\n",
      "        \n",
      "            >>> 1 + 1e-8 == approx(1)\n",
      "            True\n",
      "            >>> 1 + 1e-8 == approx(1, abs=1e-12)\n",
      "            False\n",
      "            >>> 1 + 1e-8 == approx(1, rel=1e-6, abs=1e-12)\n",
      "            True\n",
      "        \n",
      "        If you're thinking about using ``approx``, then you might want to know how\n",
      "        it compares to other good ways of comparing floating-point numbers.  All of\n",
      "        these algorithms are based on relative and absolute tolerances and should\n",
      "        agree for the most part, but they do have meaningful differences:\n",
      "        \n",
      "        - ``math.isclose(a, b, rel_tol=1e-9, abs_tol=0.0)``:  True if the relative\n",
      "          tolerance is met w.r.t. either ``a`` or ``b`` or if the absolute\n",
      "          tolerance is met.  Because the relative tolerance is calculated w.r.t.\n",
      "          both ``a`` and ``b``, this test is symmetric (i.e.  neither ``a`` nor\n",
      "          ``b`` is a \"reference value\").  You have to specify an absolute tolerance\n",
      "          if you want to compare to ``0.0`` because there is no tolerance by\n",
      "          default.  Only available in python>=3.5.  `More information...`__\n",
      "        \n",
      "          __ https://docs.python.org/3/library/math.html#math.isclose\n",
      "        \n",
      "        - ``numpy.isclose(a, b, rtol=1e-5, atol=1e-8)``: True if the difference\n",
      "          between ``a`` and ``b`` is less that the sum of the relative tolerance\n",
      "          w.r.t. ``b`` and the absolute tolerance.  Because the relative tolerance\n",
      "          is only calculated w.r.t. ``b``, this test is asymmetric and you can\n",
      "          think of ``b`` as the reference value.  Support for comparing sequences\n",
      "          is provided by ``numpy.allclose``.  `More information...`__\n",
      "        \n",
      "          __ http://docs.scipy.org/doc/numpy-1.10.0/reference/generated/numpy.isclose.html\n",
      "        \n",
      "        - ``unittest.TestCase.assertAlmostEqual(a, b)``: True if ``a`` and ``b``\n",
      "          are within an absolute tolerance of ``1e-7``.  No relative tolerance is\n",
      "          considered and the absolute tolerance cannot be changed, so this function\n",
      "          is not appropriate for very large or very small numbers.  Also, it's only\n",
      "          available in subclasses of ``unittest.TestCase`` and it's ugly because it\n",
      "          doesn't follow PEP8.  `More information...`__\n",
      "        \n",
      "          __ https://docs.python.org/3/library/unittest.html#unittest.TestCase.assertAlmostEqual\n",
      "        \n",
      "        - ``a == pytest.approx(b, rel=1e-6, abs=1e-12)``: True if the relative\n",
      "          tolerance is met w.r.t. ``b`` or if the absolute tolerance is met.\n",
      "          Because the relative tolerance is only calculated w.r.t. ``b``, this test\n",
      "          is asymmetric and you can think of ``b`` as the reference value.  In the\n",
      "          special case that you explicitly specify an absolute tolerance but not a\n",
      "          relative tolerance, only the absolute tolerance is considered.\n",
      "        \n",
      "        .. warning::\n",
      "        \n",
      "           .. versionchanged:: 3.2\n",
      "        \n",
      "           In order to avoid inconsistent behavior, ``TypeError`` is\n",
      "           raised for ``>``, ``>=``, ``<`` and ``<=`` comparisons.\n",
      "           The example below illustrates the problem::\n",
      "        \n",
      "               assert approx(0.1) > 0.1 + 1e-10  # calls approx(0.1).__gt__(0.1 + 1e-10)\n",
      "               assert 0.1 + 1e-10 > approx(0.1)  # calls approx(0.1).__lt__(0.1 + 1e-10)\n",
      "        \n",
      "           In the second example one expects ``approx(0.1).__le__(0.1 + 1e-10)``\n",
      "           to be called. But instead, ``approx(0.1).__lt__(0.1 + 1e-10)`` is used to\n",
      "           comparison. This is because the call hierarchy of rich comparisons\n",
      "           follows a fixed behavior. `More information...`__\n",
      "        \n",
      "           __ https://docs.python.org/3/reference/datamodel.html#object.__ge__\n",
      "    \n",
      "    deprecated_call(func=None, *args, **kwargs)\n",
      "        context manager that can be used to ensure a block of code triggers a\n",
      "        ``DeprecationWarning`` or ``PendingDeprecationWarning``::\n",
      "        \n",
      "            >>> import warnings\n",
      "            >>> def api_call_v2():\n",
      "            ...     warnings.warn('use v3 of this api', DeprecationWarning)\n",
      "            ...     return 200\n",
      "        \n",
      "            >>> with deprecated_call():\n",
      "            ...    assert api_call_v2() == 200\n",
      "        \n",
      "        ``deprecated_call`` can also be used by passing a function and ``*args`` and ``*kwargs``,\n",
      "        in which case it will ensure calling ``func(*args, **kwargs)`` produces one of the warnings\n",
      "        types above.\n",
      "    \n",
      "    exit(msg)\n",
      "        exit testing process as if KeyboardInterrupt was triggered.\n",
      "    \n",
      "    fail(msg='', pytrace=True)\n",
      "        explicitly fail an currently-executing test with the given Message.\n",
      "        \n",
      "        :arg pytrace: if false the msg represents the full failure information\n",
      "                      and no python traceback will be reported.\n",
      "    \n",
      "    fixture(scope='function', params=None, autouse=False, ids=None, name=None)\n",
      "        (return a) decorator to mark a fixture factory function.\n",
      "        \n",
      "        This decorator can be used (with or without parameters) to define a\n",
      "        fixture function.  The name of the fixture function can later be\n",
      "        referenced to cause its invocation ahead of running tests: test\n",
      "        modules or classes can use the pytest.mark.usefixtures(fixturename)\n",
      "        marker.  Test functions can directly use fixture names as input\n",
      "        arguments in which case the fixture instance returned from the fixture\n",
      "        function will be injected.\n",
      "        \n",
      "        :arg scope: the scope for which this fixture is shared, one of\n",
      "                    \"function\" (default), \"class\", \"module\" or \"session\".\n",
      "        \n",
      "        :arg params: an optional list of parameters which will cause multiple\n",
      "                    invocations of the fixture function and all of the tests\n",
      "                    using it.\n",
      "        \n",
      "        :arg autouse: if True, the fixture func is activated for all tests that\n",
      "                    can see it.  If False (the default) then an explicit\n",
      "                    reference is needed to activate the fixture.\n",
      "        \n",
      "        :arg ids: list of string ids each corresponding to the params\n",
      "                    so that they are part of the test id. If no ids are provided\n",
      "                    they will be generated automatically from the params.\n",
      "        \n",
      "        :arg name: the name of the fixture. This defaults to the name of the\n",
      "                    decorated function. If a fixture is used in the same module in\n",
      "                    which it is defined, the function name of the fixture will be\n",
      "                    shadowed by the function arg that requests the fixture; one way\n",
      "                    to resolve this is to name the decorated function\n",
      "                    ``fixture_<fixturename>`` and then use\n",
      "                    ``@pytest.fixture(name='<fixturename>')``.\n",
      "        \n",
      "        Fixtures can optionally provide their values to test functions using a ``yield`` statement,\n",
      "        instead of ``return``. In this case, the code block after the ``yield`` statement is executed\n",
      "        as teardown code regardless of the test outcome. A fixture function must yield exactly once.\n",
      "    \n",
      "    freeze_includes()\n",
      "        Returns a list of module names used by py.test that should be\n",
      "        included by cx_freeze.\n",
      "    \n",
      "    importorskip(modname, minversion=None)\n",
      "        return imported module if it has at least \"minversion\" as its\n",
      "        __version__ attribute.  If no minversion is specified the a skip\n",
      "        is only triggered if the module can not be imported.\n",
      "    \n",
      "    main(args=None, plugins=None)\n",
      "        return exit code, after performing an in-process test run.\n",
      "        \n",
      "        :arg args: list of command line arguments.\n",
      "        \n",
      "        :arg plugins: list of plugin objects to be auto-registered during\n",
      "                      initialization.\n",
      "    \n",
      "    param(*values, **kw)\n",
      "    \n",
      "    raises(expected_exception, *args, **kwargs)\n",
      "        Assert that a code block/function call raises ``expected_exception``\n",
      "        and raise a failure exception otherwise.\n",
      "        \n",
      "        This helper produces a ``ExceptionInfo()`` object (see below).\n",
      "        \n",
      "        You may use this function as a context manager::\n",
      "        \n",
      "            >>> with raises(ZeroDivisionError):\n",
      "            ...    1/0\n",
      "        \n",
      "        .. versionchanged:: 2.10\n",
      "        \n",
      "        In the context manager form you may use the keyword argument\n",
      "        ``message`` to specify a custom failure message::\n",
      "        \n",
      "            >>> with raises(ZeroDivisionError, message=\"Expecting ZeroDivisionError\"):\n",
      "            ...    pass\n",
      "            Traceback (most recent call last):\n",
      "              ...\n",
      "            Failed: Expecting ZeroDivisionError\n",
      "        \n",
      "        .. note::\n",
      "        \n",
      "           When using ``pytest.raises`` as a context manager, it's worthwhile to\n",
      "           note that normal context manager rules apply and that the exception\n",
      "           raised *must* be the final line in the scope of the context manager.\n",
      "           Lines of code after that, within the scope of the context manager will\n",
      "           not be executed. For example::\n",
      "        \n",
      "               >>> value = 15\n",
      "               >>> with raises(ValueError) as exc_info:\n",
      "               ...     if value > 10:\n",
      "               ...         raise ValueError(\"value must be <= 10\")\n",
      "               ...     assert exc_info.type == ValueError  # this will not execute\n",
      "        \n",
      "           Instead, the following approach must be taken (note the difference in\n",
      "           scope)::\n",
      "        \n",
      "               >>> with raises(ValueError) as exc_info:\n",
      "               ...     if value > 10:\n",
      "               ...         raise ValueError(\"value must be <= 10\")\n",
      "               ...\n",
      "               >>> assert exc_info.type == ValueError\n",
      "        \n",
      "        \n",
      "        Since version ``3.1`` you can use the keyword argument ``match`` to assert that the\n",
      "        exception matches a text or regex::\n",
      "        \n",
      "            >>> with raises(ValueError, match='must be 0 or None'):\n",
      "            ...     raise ValueError(\"value must be 0 or None\")\n",
      "        \n",
      "            >>> with raises(ValueError, match=r'must be \\d+$'):\n",
      "            ...     raise ValueError(\"value must be 42\")\n",
      "        \n",
      "        **Legacy forms**\n",
      "        \n",
      "        The forms below are fully supported but are discouraged for new code because the\n",
      "        context manager form is regarded as more readable and less error-prone.\n",
      "        \n",
      "        It is possible to specify a callable by passing a to-be-called lambda::\n",
      "        \n",
      "            >>> raises(ZeroDivisionError, lambda: 1/0)\n",
      "            <ExceptionInfo ...>\n",
      "        \n",
      "        or you can specify an arbitrary callable with arguments::\n",
      "        \n",
      "            >>> def f(x): return 1/x\n",
      "            ...\n",
      "            >>> raises(ZeroDivisionError, f, 0)\n",
      "            <ExceptionInfo ...>\n",
      "            >>> raises(ZeroDivisionError, f, x=0)\n",
      "            <ExceptionInfo ...>\n",
      "        \n",
      "        It is also possible to pass a string to be evaluated at runtime::\n",
      "        \n",
      "            >>> raises(ZeroDivisionError, \"f(0)\")\n",
      "            <ExceptionInfo ...>\n",
      "        \n",
      "        The string will be evaluated using the same ``locals()`` and ``globals()``\n",
      "        at the moment of the ``raises`` call.\n",
      "        \n",
      "        .. autoclass:: _pytest._code.ExceptionInfo\n",
      "            :members:\n",
      "        \n",
      "        .. note::\n",
      "            Similar to caught exception objects in Python, explicitly clearing\n",
      "            local references to returned ``ExceptionInfo`` objects can\n",
      "            help the Python interpreter speed up its garbage collection.\n",
      "        \n",
      "            Clearing those references breaks a reference cycle\n",
      "            (``ExceptionInfo`` --> caught exception --> frame stack raising\n",
      "            the exception --> current frame stack --> local variables -->\n",
      "            ``ExceptionInfo``) which makes Python keep all objects referenced\n",
      "            from that cycle (including all local variables in the current\n",
      "            frame) alive until the next cyclic garbage collection run. See the\n",
      "            official Python ``try`` statement documentation for more detailed\n",
      "            information.\n",
      "    \n",
      "    register_assert_rewrite(*names)\n",
      "        Register one or more module names to be rewritten on import.\n",
      "        \n",
      "        This function will make sure that this module or all modules inside\n",
      "        the package will get their assert statements rewritten.\n",
      "        Thus you should make sure to call this before the module is\n",
      "        actually imported, usually in your __init__.py if you are a plugin\n",
      "        using a package.\n",
      "        \n",
      "        :raise TypeError: if the given module names are not strings.\n",
      "    \n",
      "    set_trace() method of builtins.type instance\n",
      "        invoke PDB set_trace debugging, dropping any IO capturing.\n",
      "    \n",
      "    skip(msg='', **kwargs)\n",
      "        skip an executing test with the given message.  Note: it's usually\n",
      "        better to use the pytest.mark.skipif marker to declare a test to be\n",
      "        skipped under certain conditions like mismatching platforms or\n",
      "        dependencies.  See the pytest_skipping plugin for details.\n",
      "        \n",
      "        :kwarg bool allow_module_level: allows this function to be called at\n",
      "            module level, skipping the rest of the module. Default to False.\n",
      "    \n",
      "    warns(expected_warning, *args, **kwargs)\n",
      "        Assert that code raises a particular class of warning.\n",
      "        \n",
      "        Specifically, the input @expected_warning can be a warning class or\n",
      "        tuple of warning classes, and the code must return that warning\n",
      "        (if a single class) or one of those warnings (if a tuple).\n",
      "        \n",
      "        This helper produces a list of ``warnings.WarningMessage`` objects,\n",
      "        one for each warning raised.\n",
      "        \n",
      "        This function can be used as a context manager, or any of the other ways\n",
      "        ``pytest.raises`` can be used::\n",
      "        \n",
      "            >>> with warns(RuntimeWarning):\n",
      "            ...    warnings.warn(\"my warning\", RuntimeWarning)\n",
      "        \n",
      "        In the context manager form you may use the keyword argument ``match`` to assert\n",
      "        that the exception matches a text or regex::\n",
      "        \n",
      "            >>> with warns(UserWarning, match='must be 0 or None'):\n",
      "            ...     warnings.warn(\"value must be 0 or None\", UserWarning)\n",
      "        \n",
      "            >>> with warns(UserWarning, match=r'must be \\d+$'):\n",
      "            ...     warnings.warn(\"value must be 42\", UserWarning)\n",
      "        \n",
      "            >>> with warns(UserWarning, match=r'must be \\d+$'):\n",
      "            ...     warnings.warn(\"this is not here\", UserWarning)\n",
      "            Traceback (most recent call last):\n",
      "              ...\n",
      "            Failed: DID NOT WARN. No warnings of type ...UserWarning... was emitted...\n",
      "    \n",
      "    xfail(reason='')\n",
      "        xfail an executing test or setup functions with the given reason.\n",
      "    \n",
      "    yield_fixture(scope='function', params=None, autouse=False, ids=None, name=None)\n",
      "        (return a) decorator to mark a yield-fixture factory function.\n",
      "        \n",
      "        .. deprecated:: 3.0\n",
      "            Use :py:func:`pytest.fixture` directly instead.\n",
      "\n",
      "DATA\n",
      "    __all__ = ['main', 'UsageError', 'cmdline', 'hookspec', 'hookimpl', '_...\n",
      "    hookimpl = <pluggy.HookimplMarker object>\n",
      "    hookspec = <pluggy.HookspecMarker object>\n",
      "    mark = <_pytest.mark.MarkGenerator object>\n",
      "\n",
      "VERSION\n",
      "    3.3.2\n",
      "\n",
      "FILE\n",
      "    /opt/anaconda3/lib/python3.6/site-packages/pytest.py\n",
      "\n",
      "\n"
     ]
    }
   ],
   "source": [
    "help(pytest)"
   ]
  },
  {
   "cell_type": "code",
   "execution_count": 32,
   "metadata": {
    "slideshow": {
     "slide_type": "slide"
    }
   },
   "outputs": [
    {
     "data": {
      "text/plain": [
       "['Class',\n",
       " 'Collector',\n",
       " 'File',\n",
       " 'Function',\n",
       " 'Generator',\n",
       " 'Instance',\n",
       " 'Item',\n",
       " 'Module',\n",
       " 'Session',\n",
       " 'UsageError',\n",
       " '__all__',\n",
       " '__builtins__',\n",
       " '__cached__',\n",
       " '__doc__',\n",
       " '__file__',\n",
       " '__loader__',\n",
       " '__name__',\n",
       " '__package__',\n",
       " '__pytestPDB',\n",
       " '__spec__',\n",
       " '__version__',\n",
       " '_fillfuncargs',\n",
       " '_setup_collect_fakemodule',\n",
       " 'approx',\n",
       " 'cmdline',\n",
       " 'collect',\n",
       " 'deprecated_call',\n",
       " 'exit',\n",
       " 'fail',\n",
       " 'fixture',\n",
       " 'freeze_includes',\n",
       " 'hookimpl',\n",
       " 'hookspec',\n",
       " 'importorskip',\n",
       " 'main',\n",
       " 'mark',\n",
       " 'param',\n",
       " 'raises',\n",
       " 'register_assert_rewrite',\n",
       " 'set_trace',\n",
       " 'skip',\n",
       " 'warns',\n",
       " 'xfail',\n",
       " 'yield_fixture']"
      ]
     },
     "execution_count": 32,
     "metadata": {},
     "output_type": "execute_result"
    }
   ],
   "source": [
    "dir(pytest)"
   ]
  },
  {
   "cell_type": "markdown",
   "metadata": {
    "slideshow": {
     "slide_type": "slide"
    }
   },
   "source": [
    "## 快速运行"
   ]
  },
  {
   "cell_type": "markdown",
   "metadata": {
    "slideshow": {
     "slide_type": "slide"
    }
   },
   "source": [
    "### 简单示例\n",
    "\n",
    "同样编写测试用例来测试函数：\n",
    "```\n",
    "def multiply(a, b):\n",
    "    \"\"\"return a * b\n",
    "    \"\"\"\n",
    "    return a * b\n",
    "```    "
   ]
  },
  {
   "cell_type": "markdown",
   "metadata": {
    "slideshow": {
     "slide_type": "slide"
    }
   },
   "source": [
    "创建一个`tests`目录，放置测试用例文件"
   ]
  },
  {
   "cell_type": "code",
   "execution_count": 140,
   "metadata": {
    "slideshow": {
     "slide_type": "-"
    }
   },
   "outputs": [],
   "source": [
    "%mkdir tests"
   ]
  },
  {
   "cell_type": "markdown",
   "metadata": {
    "slideshow": {
     "slide_type": "slide"
    }
   },
   "source": [
    "编写测试用例文件，为了方便在测试文件中定义`multiply()`函数。"
   ]
  },
  {
   "cell_type": "code",
   "execution_count": 141,
   "metadata": {
    "slideshow": {
     "slide_type": "slide"
    }
   },
   "outputs": [
    {
     "name": "stdout",
     "output_type": "stream",
     "text": [
      "Writing tests/test_multiply.py\n"
     ]
    }
   ],
   "source": [
    "%%writefile tests/test_multiply.py\n",
    "#!/usr/bin/env python\n",
    "# -*- coding: utf-8 -*-\n",
    "\n",
    "\n",
    "def multiply(a, b):\n",
    "    \"\"\"return a * b\n",
    "    \"\"\"\n",
    "    return a * b\n",
    "\n",
    "\n",
    "def test_multiply_3_3():\n",
    "    print('multiply_3_3...')\n",
    "    assert multiply(3, 3) == 9\n",
    "\n",
    "def test_multiply_a_3():\n",
    "    print('multiply_a_3...')\n",
    "    assert multiply('x', 3) == 'xxx'\n",
    "\n",
    "def test_multiply_list_3():\n",
    "    print('multiply_list_3...')\n",
    "    res = multiply(['a', 'b'], 3)\n",
    "    assert res == ['a', 'b', 'a', 'b', 'a', 'b']\n"
   ]
  },
  {
   "cell_type": "markdown",
   "metadata": {
    "slideshow": {
     "slide_type": "slide"
    }
   },
   "source": [
    "在pytest的测试用例中，不再使用unittest中稍显麻烦的断言语句，而是使用python语言自带的assert断言语句。如果没有用到pytest的功能函数，与平常的python程序没有任何区别。"
   ]
  },
  {
   "cell_type": "markdown",
   "metadata": {
    "slideshow": {
     "slide_type": "slide"
    }
   },
   "source": [
    "使用pytest来运行测试文件："
   ]
  },
  {
   "cell_type": "code",
   "execution_count": 143,
   "metadata": {
    "slideshow": {
     "slide_type": "-"
    }
   },
   "outputs": [
    {
     "name": "stdout",
     "output_type": "stream",
     "text": [
      "\u001b[1m============================= test session starts ==============================\u001b[0m\r\n",
      "platform linux -- Python 3.6.4, pytest-3.3.2, py-1.5.2, pluggy-0.6.0 -- /opt/anaconda3/bin/python\r\n",
      "cachedir: .cache\r\n",
      "metadata: {'Python': '3.6.4', 'Platform': 'Linux-3.10.0-693.21.1.el7.x86_64-x86_64-with-centos-7.4.1708-Core', 'Packages': {'pytest': '3.3.2', 'py': '1.5.2', 'pluggy': '0.6.0'}, 'Plugins': {'metadata': '1.7.0', 'html': '1.19.0'}}\r\n",
      "rootdir: /home/whwang/training/python-expert/testing, inifile:\r\n",
      "plugins: metadata-1.7.0, html-1.19.0\r\n",
      "\u001b[1m\r",
      "collecting 0 items                                                             \u001b[0m\u001b[1m\r",
      "collecting 3 items                                                             \u001b[0m\u001b[1m\r",
      "collected 3 items                                                              \u001b[0m\r\n",
      "\r\n",
      "tests/test_multiply.py::test_multiply_3_3 \u001b[32mPASSED\u001b[0m\u001b[36m                         [ 33%]\u001b[0m\r\n",
      "tests/test_multiply.py::test_multiply_a_3 \u001b[32mPASSED\u001b[0m\u001b[36m                         [ 66%]\u001b[0m\r\n",
      "tests/test_multiply.py::test_multiply_list_3 \u001b[32mPASSED\u001b[0m\u001b[36m                      [100%]\u001b[0m\r\n",
      "\r\n",
      "\u001b[32m\u001b[1m=========================== 3 passed in 0.01 seconds ===========================\u001b[0m\r\n"
     ]
    }
   ],
   "source": [
    "!pytest -v tests/test_multiply.py"
   ]
  },
  {
   "cell_type": "markdown",
   "metadata": {
    "slideshow": {
     "slide_type": "slide"
    }
   },
   "source": [
    "### 调用pytest模块\n",
    "\n",
    "在运行Python时，可以插入pytest模块\n",
    "```\n",
    "python -m pytest [...]\n",
    "```\n",
    "等价于：\n",
    "```\n",
    "pytest [...]\n",
    "```"
   ]
  },
  {
   "cell_type": "markdown",
   "metadata": {
    "slideshow": {
     "slide_type": "slide"
    }
   },
   "source": [
    "`pytest`使用语法如下：\n",
    "```sh\n",
    "pytest [options] [file_or_dir] [file_or_dir] [...]\n",
    "```\n",
    "位置参数：测试文件或测试目录\n",
    "\n",
    "常用选项有：\n",
    "- `-k EXPRESSION`：执行指定用例。\n",
    "- `-s`：显示测试代码的输出，如需输出html结果最好不用。\n",
    "- `-v, --verbose `：显示详细信息。\n",
    "- `-q, --quiet`：不显示详细信息。\n",
    "- `--html=path`：输出测试结果到html文件。\n",
    "- `-x, --exitfirst`：首次失败后停止执行。\n",
    "- `--maxfail=num`：失败指定次数后停止执行。\n",
    "- `-h, --help`：命令行和配置文件帮助。"
   ]
  },
  {
   "cell_type": "code",
   "execution_count": 71,
   "metadata": {
    "slideshow": {
     "slide_type": "slide"
    }
   },
   "outputs": [
    {
     "name": "stdout",
     "output_type": "stream",
     "text": [
      "usage: pytest [options] [file_or_dir] [file_or_dir] [...]\r\n",
      "\r\n",
      "positional arguments:\r\n",
      "  file_or_dir\r\n",
      "\r\n",
      "general:\r\n",
      "  -k EXPRESSION         only run tests which match the given substring\r\n",
      "                        expression. An expression is a python evaluatable\r\n",
      "                        expression where all names are substring-matched\r\n",
      "                        against test names and their parent classes. Example:\r\n",
      "                        -k 'test_method or test_other' matches all test\r\n",
      "                        functions and classes whose name contains\r\n",
      "                        'test_method' or 'test_other', while -k 'not\r\n",
      "                        test_method' matches those that don't contain\r\n",
      "                        'test_method' in their names. Additionally keywords\r\n",
      "                        are matched to classes and functions containing extra\r\n",
      "                        names in their 'extra_keyword_matches' set, as well as\r\n",
      "                        functions which have names assigned directly to them.\r\n",
      "  -m MARKEXPR           only run tests matching given mark expression.\r\n",
      "                        example: -m 'mark1 and not mark2'.\r\n",
      "  --markers             show markers (builtin, plugin and per-project ones).\r\n",
      "  -x, --exitfirst       exit instantly on first error or failed test.\r\n",
      "  --maxfail=num         exit after first num failures or errors.\r\n",
      "  --strict              marks not registered in configuration file raise\r\n",
      "                        errors.\r\n",
      "  -c file               load configuration from `file` instead of trying to\r\n",
      "                        locate one of the implicit configuration files.\r\n",
      "  --continue-on-collection-errors\r\n",
      "                        Force test execution even if collection errors occur.\r\n",
      "  --fixtures, --funcargs\r\n",
      "                        show available fixtures, sorted by plugin appearance\r\n",
      "  --fixtures-per-test   show fixtures per test\r\n",
      "  --import-mode={prepend,append}\r\n",
      "                        prepend/append to sys.path when importing test\r\n",
      "                        modules, default is to prepend.\r\n",
      "  --pdb                 start the interactive Python debugger on errors.\r\n",
      "  --pdbcls=modulename:classname\r\n",
      "                        start a custom interactive Python debugger on errors.\r\n",
      "                        For example:\r\n",
      "                        --pdbcls=IPython.terminal.debugger:TerminalPdb\r\n",
      "  --capture=method      per-test capturing method: one of fd|sys|no.\r\n",
      "  -s                    shortcut for --capture=no.\r\n",
      "  --runxfail            run tests even if they are marked xfail\r\n",
      "  --lf, --last-failed   rerun only the tests that failed at the last run (or\r\n",
      "                        all if none failed)\r\n",
      "  --ff, --failed-first  run all tests but run the last failures first. This\r\n",
      "                        may re-order tests and thus lead to repeated fixture\r\n",
      "                        setup/teardown\r\n",
      "  --cache-show          show cache contents, don't perform collection or tests\r\n",
      "  --cache-clear         remove all cache contents at start of test run.\r\n",
      "\r\n",
      "reporting:\r\n",
      "  -v, --verbose         increase verbosity.\r\n",
      "  -q, --quiet           decrease verbosity.\r\n",
      "  -r chars              show extra test summary info as specified by chars\r\n",
      "                        (f)ailed, (E)error, (s)skipped, (x)failed, (X)passed,\r\n",
      "                        (p)passed, (P)passed with output, (a)all except pP.\r\n",
      "                        Warnings are displayed at all times except when\r\n",
      "                        --disable-warnings is set\r\n",
      "  --disable-warnings, --disable-pytest-warnings\r\n",
      "                        disable warnings summary\r\n",
      "  -l, --showlocals      show locals in tracebacks (disabled by default).\r\n",
      "  --tb=style            traceback print mode (auto/long/short/line/native/no).\r\n",
      "  --full-trace          don't cut any tracebacks (default is to cut).\r\n",
      "  --color=color         color terminal output (yes/no/auto).\r\n",
      "  --durations=N         show N slowest setup/test durations (N=0 for all).\r\n",
      "  --pastebin=mode       send failed|all info to bpaste.net pastebin service.\r\n",
      "  --junit-xml=path      create junit-xml style report file at given path.\r\n",
      "  --junit-prefix=str    prepend prefix to classnames in junit-xml output\r\n",
      "  --result-log=path     DEPRECATED path for machine-readable result log.\r\n",
      "\r\n",
      "collection:\r\n",
      "  --collect-only        only collect tests, don't execute them.\r\n",
      "  --pyargs              try to interpret all arguments as python packages.\r\n",
      "  --ignore=path         ignore path during collection (multi-allowed).\r\n",
      "  --confcutdir=dir      only load conftest.py's relative to specified dir.\r\n",
      "  --noconftest          Don't load any conftest.py files.\r\n",
      "  --keep-duplicates     Keep duplicate tests.\r\n",
      "  --collect-in-virtualenv\r\n",
      "                        Don't ignore tests in a local virtualenv directory\r\n",
      "  --doctest-modules     run doctests in all .py modules\r\n",
      "  --doctest-report={none,cdiff,ndiff,udiff,only_first_failure}\r\n",
      "                        choose another output format for diffs on doctest\r\n",
      "                        failure\r\n",
      "  --doctest-glob=pat    doctests file matching pattern, default: test*.txt\r\n",
      "  --doctest-ignore-import-errors\r\n",
      "                        ignore doctest ImportErrors\r\n",
      "\r\n",
      "test session debugging and configuration:\r\n",
      "  --basetemp=dir        base temporary directory for this test run.\r\n",
      "  --version             display pytest lib version and import information.\r\n",
      "  -h, --help            show help message and configuration info\r\n",
      "  -p name               early-load given plugin (multi-allowed). To avoid\r\n",
      "                        loading of plugins, use the `no:` prefix, e.g.\r\n",
      "                        `no:doctest`.\r\n",
      "  --trace-config        trace considerations of conftest.py files.\r\n",
      "  --debug               store internal tracing debug information in\r\n",
      "                        'pytestdebug.log'.\r\n",
      "  -o [OVERRIDE_INI [OVERRIDE_INI ...]], --override-ini=[OVERRIDE_INI [OVERRIDE_INI ...]]\r\n",
      "                        override config option with option=value style, e.g.\r\n",
      "                        `-o xfail_strict=True`.\r\n",
      "  --assert=MODE         Control assertion debugging tools. 'plain' performs no\r\n",
      "                        assertion debugging. 'rewrite' (the default) rewrites\r\n",
      "                        assert statements in test modules on import to provide\r\n",
      "                        assert expression information.\r\n",
      "  --setup-only          only setup fixtures, do not execute tests.\r\n",
      "  --setup-show          show setup of fixtures while executing tests.\r\n",
      "  --setup-plan          show what fixtures and tests would be executed but\r\n",
      "                        don't execute anything.\r\n",
      "\r\n",
      "pytest-warnings:\r\n",
      "  -W PYTHONWARNINGS, --pythonwarnings=PYTHONWARNINGS\r\n",
      "                        set which warnings to report, see -W option of python\r\n",
      "                        itself.\r\n",
      "\r\n",
      "logging:\r\n",
      "  --no-print-logs       disable printing caught logs on failed tests.\r\n",
      "  --log-level=LOG_LEVEL\r\n",
      "                        logging level used by the logging module\r\n",
      "  --log-format=LOG_FORMAT\r\n",
      "                        log format as used by the logging module.\r\n",
      "  --log-date-format=LOG_DATE_FORMAT\r\n",
      "                        log date format as used by the logging module.\r\n",
      "  --log-cli-level=LOG_CLI_LEVEL\r\n",
      "                        cli logging level.\r\n",
      "  --log-cli-format=LOG_CLI_FORMAT\r\n",
      "                        log format as used by the logging module.\r\n",
      "  --log-cli-date-format=LOG_CLI_DATE_FORMAT\r\n",
      "                        log date format as used by the logging module.\r\n",
      "  --log-file=LOG_FILE   path to a file when logging will be written to.\r\n",
      "  --log-file-level=LOG_FILE_LEVEL\r\n",
      "                        log file logging level.\r\n",
      "  --log-file-format=LOG_FILE_FORMAT\r\n",
      "                        log format as used by the logging module.\r\n",
      "  --log-file-date-format=LOG_FILE_DATE_FORMAT\r\n",
      "                        log date format as used by the logging module.\r\n",
      "\r\n",
      "\r\n",
      "[pytest] ini-options in the first pytest.ini|tox.ini|setup.cfg file found:\r\n",
      "\r\n",
      "  markers (linelist)       markers for test functions\r\n",
      "  norecursedirs (args)     directory patterns to avoid for recursion\r\n",
      "  testpaths (args)         directories to search for tests when no files or dire\r\n",
      "  console_output_style (string) console output: classic or with additional progr\r\n",
      "  usefixtures (args)       list of default fixtures to be used with this project\r\n",
      "  python_files (args)      glob-style file patterns for Python test module disco\r\n",
      "  python_classes (args)    prefixes or glob names for Python test class discover\r\n",
      "  python_functions (args)  prefixes or glob names for Python test function and m\r\n",
      "  xfail_strict (bool)      default for the strict parameter of xfail markers whe\r\n",
      "  junit_suite_name (string) Test suite name for JUnit report\r\n",
      "  doctest_optionflags (args) option flags for doctests\r\n",
      "  doctest_encoding (string) encoding used for doctest files\r\n",
      "  cache_dir (string)       cache directory path.\r\n",
      "  filterwarnings (linelist) Each line specifies a pattern for warnings.filterwar\r\n",
      "  log_print (bool)         default value for --no-print-logs\r\n",
      "  log_level (string)       default value for --log-level\r\n",
      "  log_format (string)      default value for --log-format\r\n",
      "  log_date_format (string) default value for --log-date-format\r\n",
      "  log_cli_level (string)   default value for --log-cli-level\r\n",
      "  log_cli_format (string)  default value for --log-cli-format\r\n",
      "  log_cli_date_format (string) default value for --log-cli-date-format\r\n",
      "  log_file (string)        default value for --log-file\r\n",
      "  log_file_level (string)  default value for --log-file-level\r\n",
      "  log_file_format (string) default value for --log-file-format\r\n",
      "  log_file_date_format (string) default value for --log-file-date-format\r\n",
      "  addopts (args)           extra command line options\r\n",
      "  minversion (string)      minimally required pytest version\r\n",
      "\r\n",
      "environment variables:\r\n",
      "  PYTEST_ADDOPTS           extra command line options\r\n",
      "  PYTEST_PLUGINS           comma-separated plugins to load during startup\r\n",
      "  PYTEST_DEBUG             set to enable debug tracing of pytest's internals\r\n",
      "\r\n",
      "\r\n",
      "to see available markers type: pytest --markers\r\n",
      "to see available fixtures type: pytest --fixtures\r\n",
      "(shown according to specified file_or_dir or current dir if not specified)\r\n"
     ]
    }
   ],
   "source": [
    "!pytest -h"
   ]
  },
  {
   "cell_type": "markdown",
   "metadata": {
    "slideshow": {
     "slide_type": "slide"
    }
   },
   "source": [
    "执行路径中用例：\n",
    "```sh\n",
    "pytest tests\n",
    "```"
   ]
  },
  {
   "cell_type": "code",
   "execution_count": 144,
   "metadata": {
    "slideshow": {
     "slide_type": "slide"
    }
   },
   "outputs": [
    {
     "name": "stdout",
     "output_type": "stream",
     "text": [
      "\u001b[1m============================= test session starts ==============================\u001b[0m\n",
      "platform linux -- Python 3.6.4, pytest-3.3.2, py-1.5.2, pluggy-0.6.0\n",
      "rootdir: /home/whwang/training/python-expert/testing, inifile:\n",
      "plugins: metadata-1.7.0, html-1.19.0\n",
      "collected 3 items                                                              \u001b[0m\u001b[1m\n",
      "\n",
      "tests/test_multiply.py ...\u001b[36m                                               [100%]\u001b[0m\n",
      "\n",
      "\u001b[32m\u001b[1m=========================== 3 passed in 0.01 seconds ===========================\u001b[0m\n"
     ]
    }
   ],
   "source": [
    "!pytest tests"
   ]
  },
  {
   "cell_type": "markdown",
   "metadata": {
    "slideshow": {
     "slide_type": "slide"
    }
   },
   "source": [
    "执行模块中的用例：\n",
    "```sh\n",
    "pytest tests/test_multiply.py\n",
    "```"
   ]
  },
  {
   "cell_type": "code",
   "execution_count": 145,
   "metadata": {
    "slideshow": {
     "slide_type": "-"
    }
   },
   "outputs": [
    {
     "name": "stdout",
     "output_type": "stream",
     "text": [
      "\u001b[1m============================= test session starts ==============================\u001b[0m\r\n",
      "platform linux -- Python 3.6.4, pytest-3.3.2, py-1.5.2, pluggy-0.6.0\r\n",
      "rootdir: /home/whwang/training/python-expert/testing, inifile:\r\n",
      "plugins: metadata-1.7.0, html-1.19.0\r\n",
      "\u001b[1m\r",
      "collecting 0 items                                                             \u001b[0m\u001b[1m\r",
      "collecting 3 items                                                             \u001b[0m\u001b[1m\r",
      "collected 3 items                                                              \u001b[0m\r\n",
      "\r\n",
      "tests/test_multiply.py ...\u001b[36m                                               [100%]\u001b[0m\r\n",
      "\r\n",
      "\u001b[32m\u001b[1m=========================== 3 passed in 0.01 seconds ===========================\u001b[0m\r\n"
     ]
    }
   ],
   "source": [
    "!pytest tests/test_multiply.py"
   ]
  },
  {
   "cell_type": "markdown",
   "metadata": {
    "slideshow": {
     "slide_type": "slide"
    }
   },
   "source": [
    "执行模块中指定测试用例：\n",
    "```\n",
    "pytest tests/test_multiply.py::test_function\n",
    "pytest tests/test_multiply.py::TestClas::test_method\n",
    "```"
   ]
  },
  {
   "cell_type": "code",
   "execution_count": 146,
   "metadata": {
    "slideshow": {
     "slide_type": "-"
    }
   },
   "outputs": [
    {
     "name": "stdout",
     "output_type": "stream",
     "text": [
      "\u001b[1m============================= test session starts ==============================\u001b[0m\r\n",
      "platform linux -- Python 3.6.4, pytest-3.3.2, py-1.5.2, pluggy-0.6.0\r\n",
      "rootdir: /home/whwang/training/python-expert/testing, inifile:\r\n",
      "plugins: metadata-1.7.0, html-1.19.0\r\n",
      "\u001b[1m\r",
      "collecting 1 item                                                              \u001b[0m\u001b[1m\r",
      "collected 1 item                                                               \u001b[0m\r\n",
      "\r\n",
      "tests/test_multiply.py .\u001b[36m                                                 [100%]\u001b[0m\r\n",
      "\r\n",
      "\u001b[32m\u001b[1m=========================== 1 passed in 0.00 seconds ===========================\u001b[0m\r\n"
     ]
    }
   ],
   "source": [
    "!pytest tests/test_multiply.py::test_multiply_3_3        "
   ]
  },
  {
   "cell_type": "markdown",
   "metadata": {
    "slideshow": {
     "slide_type": "slide"
    }
   },
   "source": [
    "### 测试用例文件命名\n",
    "\n",
    "pytest会搜索并运行当前目录机器子目录的所有测试文件。测试文件命名符合如下规范：\n",
    "```\n",
    "test_*.py\n",
    "\n",
    "*_test.py\n",
    "```"
   ]
  },
  {
   "cell_type": "markdown",
   "metadata": {
    "slideshow": {
     "slide_type": "slide"
    }
   },
   "source": [
    "### 分组测试\n",
    "\n",
    "当有多个测试用例时，通常会按照类或模块，进行分组测试。下面用一个类实现多个测试用例。"
   ]
  },
  {
   "cell_type": "code",
   "execution_count": 147,
   "metadata": {
    "slideshow": {
     "slide_type": "slide"
    }
   },
   "outputs": [
    {
     "name": "stdout",
     "output_type": "stream",
     "text": [
      "Writing tests/test_class.py\n"
     ]
    }
   ],
   "source": [
    "%%writefile tests/test_class.py\n",
    "class TestClass(object):\n",
    "    def test_one(self):\n",
    "        x = \"this\"\n",
    "        assert 'h' in x\n",
    "\n",
    "    def test_two(self):\n",
    "        x = \"hello\"\n",
    "        assert hasattr(x, 'check')"
   ]
  },
  {
   "cell_type": "markdown",
   "metadata": {},
   "source": [
    "测试类以Test开头，并且不能带有 `__init__`方法"
   ]
  },
  {
   "cell_type": "code",
   "execution_count": 148,
   "metadata": {
    "slideshow": {
     "slide_type": "slide"
    }
   },
   "outputs": [
    {
     "name": "stdout",
     "output_type": "stream",
     "text": [
      "\u001b[1m============================= test session starts ==============================\u001b[0m\n",
      "platform linux -- Python 3.6.4, pytest-3.3.2, py-1.5.2, pluggy-0.6.0\n",
      "rootdir: /home/whwang/training/python-expert/testing, inifile:\n",
      "plugins: metadata-1.7.0, html-1.19.0\n",
      "collected 2 items                                                              \u001b[0m\u001b[1m\n",
      "\n",
      "tests/test_class.py .F\u001b[36m                                                   [100%]\u001b[0m\n",
      "\n",
      "=================================== FAILURES ===================================\n",
      "\u001b[31m\u001b[1m______________________________ TestClass.test_two ______________________________\u001b[0m\n",
      "\n",
      "self = <test_class.TestClass object at 0x7ff5cac87438>\n",
      "\n",
      "\u001b[1m    def test_two(self):\u001b[0m\n",
      "\u001b[1m        x = \"hello\"\u001b[0m\n",
      "\u001b[1m>       assert hasattr(x, 'check')\u001b[0m\n",
      "\u001b[1m\u001b[31mE       AssertionError: assert False\u001b[0m\n",
      "\u001b[1m\u001b[31mE        +  where False = hasattr('hello', 'check')\u001b[0m\n",
      "\n",
      "\u001b[1m\u001b[31mtests/test_class.py\u001b[0m:8: AssertionError\n",
      "\u001b[31m\u001b[1m====================== 1 failed, 1 passed in 0.03 seconds ======================\u001b[0m\n"
     ]
    }
   ],
   "source": [
    "!pytest tests/test_class.py"
   ]
  },
  {
   "cell_type": "code",
   "execution_count": 149,
   "metadata": {
    "slideshow": {
     "slide_type": "slide"
    }
   },
   "outputs": [
    {
     "name": "stdout",
     "output_type": "stream",
     "text": [
      "\u001b[1m============================= test session starts ==============================\u001b[0m\r\n",
      "platform linux -- Python 3.6.4, pytest-3.3.2, py-1.5.2, pluggy-0.6.0\r\n",
      "rootdir: /home/whwang/training/python-expert/testing, inifile:\r\n",
      "plugins: metadata-1.7.0, html-1.19.0\r\n",
      "\u001b[1m\r",
      "collecting 1 item                                                              \u001b[0m\u001b[1m\r",
      "collected 1 item                                                               \u001b[0m\r\n",
      "\r\n",
      "tests/test_class.py .\u001b[36m                                                    [100%]\u001b[0m\r\n",
      "\r\n",
      "\u001b[32m\u001b[1m=========================== 1 passed in 0.01 seconds ===========================\u001b[0m\r\n"
     ]
    }
   ],
   "source": [
    "!pytest tests/test_class.py::TestClass::test_one"
   ]
  },
  {
   "cell_type": "markdown",
   "metadata": {
    "slideshow": {
     "slide_type": "slide"
    }
   },
   "source": [
    "## 断言\n",
    "\n",
    "`pytest`可以使用Python自带的断言语句`assert`来验证测试预期值。"
   ]
  },
  {
   "cell_type": "markdown",
   "metadata": {
    "slideshow": {
     "slide_type": "slide"
    }
   },
   "source": [
    "### 预期结果断言\n",
    "\n",
    "使用assert语句来判断预期结果是否实际结果一致。"
   ]
  },
  {
   "cell_type": "code",
   "execution_count": 150,
   "metadata": {
    "slideshow": {
     "slide_type": "slide"
    }
   },
   "outputs": [
    {
     "name": "stdout",
     "output_type": "stream",
     "text": [
      "Writing tests/test_sample.py\n"
     ]
    }
   ],
   "source": [
    "%%writefile tests/test_sample.py\n",
    "def func(x):\n",
    "    return x + 1\n",
    "\n",
    "def test_answer01():\n",
    "    assert func(3) == 4\n",
    "\n",
    "def test_answer02():\n",
    "    assert func(3) != 4    "
   ]
  },
  {
   "cell_type": "code",
   "execution_count": 151,
   "metadata": {
    "slideshow": {
     "slide_type": "slide"
    }
   },
   "outputs": [
    {
     "name": "stdout",
     "output_type": "stream",
     "text": [
      "\u001b[1m============================= test session starts ==============================\u001b[0m\n",
      "platform linux -- Python 3.6.4, pytest-3.3.2, py-1.5.2, pluggy-0.6.0\n",
      "rootdir: /home/whwang/training/python-expert/testing, inifile:\n",
      "plugins: metadata-1.7.0, html-1.19.0\n",
      "collected 2 items                                                              \u001b[0m\u001b[1m\n",
      "\n",
      "tests/test_sample.py .F\u001b[36m                                                  [100%]\u001b[0m\n",
      "\n",
      "=================================== FAILURES ===================================\n",
      "\u001b[31m\u001b[1m________________________________ test_answer02 _________________________________\u001b[0m\n",
      "\n",
      "\u001b[1m    def test_answer02():\u001b[0m\n",
      "\u001b[1m>       assert func(3) != 4\u001b[0m\n",
      "\u001b[1m\u001b[31mE       assert 4 != 4\u001b[0m\n",
      "\u001b[1m\u001b[31mE        +  where 4 = func(3)\u001b[0m\n",
      "\n",
      "\u001b[1m\u001b[31mtests/test_sample.py\u001b[0m:8: AssertionError\n",
      "\u001b[31m\u001b[1m====================== 1 failed, 1 passed in 0.02 seconds ======================\u001b[0m\n"
     ]
    }
   ],
   "source": [
    "!pytest tests/test_sample.py"
   ]
  },
  {
   "cell_type": "markdown",
   "metadata": {
    "slideshow": {
     "slide_type": "slide"
    }
   },
   "source": [
    "测试不通过的话，会引发`AssertionError`错误，可以使用如下断言语句来改变输出：\n",
    "```\n",
    "\n",
    "```"
   ]
  },
  {
   "cell_type": "code",
   "execution_count": 152,
   "metadata": {
    "slideshow": {
     "slide_type": "slide"
    }
   },
   "outputs": [
    {
     "name": "stdout",
     "output_type": "stream",
     "text": [
      "Overwriting tests/test_sample.py\n"
     ]
    }
   ],
   "source": [
    "%%writefile tests/test_sample.py\n",
    "def func(x):\n",
    "    return x + 1\n",
    "\n",
    "def test_answer01():\n",
    "    assert func(3) == 4\n",
    "\n",
    "def test_answer02():\n",
    "    assert func(3) != 4, \"返回输入+1\"    "
   ]
  },
  {
   "cell_type": "code",
   "execution_count": 153,
   "metadata": {
    "slideshow": {
     "slide_type": "slide"
    }
   },
   "outputs": [
    {
     "name": "stdout",
     "output_type": "stream",
     "text": [
      "\u001b[1m============================= test session starts ==============================\u001b[0m\n",
      "platform linux -- Python 3.6.4, pytest-3.3.2, py-1.5.2, pluggy-0.6.0\n",
      "rootdir: /home/whwang/training/python-expert/testing, inifile:\n",
      "plugins: metadata-1.7.0, html-1.19.0\n",
      "collected 2 items                                                              \u001b[0m\u001b[1m\n",
      "\n",
      "tests/test_sample.py .F\u001b[36m                                                  [100%]\u001b[0m\n",
      "\n",
      "=================================== FAILURES ===================================\n",
      "\u001b[31m\u001b[1m________________________________ test_answer02 _________________________________\u001b[0m\n",
      "\n",
      "\u001b[1m    def test_answer02():\u001b[0m\n",
      "\u001b[1m>       assert func(3) != 4, \"返回输入+1\"\u001b[0m\n",
      "\u001b[1m\u001b[31mE       AssertionError: 返回输入+1\u001b[0m\n",
      "\u001b[1m\u001b[31mE       assert 4 != 4\u001b[0m\n",
      "\u001b[1m\u001b[31mE        +  where 4 = func(3)\u001b[0m\n",
      "\n",
      "\u001b[1m\u001b[31mtests/test_sample.py\u001b[0m:8: AssertionError\n",
      "\u001b[31m\u001b[1m====================== 1 failed, 1 passed in 0.02 seconds ======================\u001b[0m\n"
     ]
    }
   ],
   "source": [
    "!pytest tests/test_sample.py"
   ]
  },
  {
   "cell_type": "markdown",
   "metadata": {
    "slideshow": {
     "slide_type": "slide"
    }
   },
   "source": [
    "### 预期异常的断言\n",
    "\n",
    "某些代码会抛出指定异常，使用`pytest.raises`可以支持异常断言。"
   ]
  },
  {
   "cell_type": "code",
   "execution_count": 156,
   "metadata": {
    "slideshow": {
     "slide_type": "slide"
    }
   },
   "outputs": [
    {
     "name": "stdout",
     "output_type": "stream",
     "text": [
      "Overwriting tests/test_sysexit.py\n"
     ]
    }
   ],
   "source": [
    "%%writefile tests/test_sysexit.py\n",
    "import pytest\n",
    "\n",
    "def f():\n",
    "    raise SystemExit(1)\n",
    "\n",
    "    \n",
    "def test_zero_division():\n",
    "    with pytest.raises(ZeroDivisionError):\n",
    "        1 / 1\n",
    "        \n",
    "        \n",
    "def test_system_exit():\n",
    "    with pytest.raises(SystemExit):\n",
    "        f()"
   ]
  },
  {
   "cell_type": "code",
   "execution_count": 157,
   "metadata": {
    "slideshow": {
     "slide_type": "slide"
    }
   },
   "outputs": [
    {
     "name": "stdout",
     "output_type": "stream",
     "text": [
      "\u001b[1m============================= test session starts ==============================\u001b[0m\n",
      "platform linux -- Python 3.6.4, pytest-3.3.2, py-1.5.2, pluggy-0.6.0\n",
      "rootdir: /home/whwang/training/python-expert/testing, inifile:\n",
      "plugins: metadata-1.7.0, html-1.19.0\n",
      "collected 2 items                                                              \u001b[0m\u001b[1m\n",
      "\n",
      "tests/test_sysexit.py F.\u001b[36m                                                 [100%]\u001b[0m\n",
      "\n",
      "=================================== FAILURES ===================================\n",
      "\u001b[31m\u001b[1m______________________________ test_zero_division ______________________________\u001b[0m\n",
      "\n",
      "\u001b[1m    def test_zero_division():\u001b[0m\n",
      "\u001b[1m        with pytest.raises(ZeroDivisionError):\u001b[0m\n",
      "\u001b[1m>           1 / 1\u001b[0m\n",
      "\u001b[1m\u001b[31mE           Failed: DID NOT RAISE <class 'ZeroDivisionError'>\u001b[0m\n",
      "\n",
      "\u001b[1m\u001b[31mtests/test_sysexit.py\u001b[0m:9: Failed\n",
      "\u001b[31m\u001b[1m====================== 1 failed, 1 passed in 0.03 seconds ======================\u001b[0m\n"
     ]
    }
   ],
   "source": [
    "!pytest tests/test_sysexit.py"
   ]
  },
  {
   "cell_type": "markdown",
   "metadata": {
    "slideshow": {
     "slide_type": "slide"
    }
   },
   "source": [
    "### 浮点数比较断言\n",
    "\n",
    "使用pytest内置函数`approx`来实现浮点数结果的断言：\n",
    "```\n",
    "approx(expected, rel=None, abs=None, nan_ok=False)\n",
    "```"
   ]
  },
  {
   "cell_type": "markdown",
   "metadata": {
    "slideshow": {
     "slide_type": "slide"
    }
   },
   "source": [
    "由于浮点数有限字节，导致浮点数比较存在一些问题："
   ]
  },
  {
   "cell_type": "code",
   "execution_count": 158,
   "metadata": {
    "slideshow": {
     "slide_type": "-"
    }
   },
   "outputs": [
    {
     "data": {
      "text/plain": [
       "False"
      ]
     },
     "execution_count": 158,
     "metadata": {},
     "output_type": "execute_result"
    }
   ],
   "source": [
    "0.1 + 0.2 == 0.3"
   ]
  },
  {
   "cell_type": "code",
   "execution_count": 159,
   "metadata": {
    "slideshow": {
     "slide_type": "-"
    }
   },
   "outputs": [
    {
     "name": "stdout",
     "output_type": "stream",
     "text": [
      "2.220446049250313e-16\n"
     ]
    },
    {
     "data": {
      "text/plain": [
       "True"
      ]
     },
     "execution_count": 159,
     "metadata": {},
     "output_type": "execute_result"
    }
   ],
   "source": [
    "import sys\n",
    "print(sys.float_info.epsilon)\n",
    "abs((0.1 + 0.2) - 0.3) < sys.float_info.epsilon"
   ]
  },
  {
   "cell_type": "markdown",
   "metadata": {
    "slideshow": {
     "slide_type": "slide"
    }
   },
   "source": [
    "使用`pytest.approx`可以简化浮点数结果的断言判断。"
   ]
  },
  {
   "cell_type": "code",
   "execution_count": 160,
   "metadata": {
    "slideshow": {
     "slide_type": "-"
    }
   },
   "outputs": [
    {
     "data": {
      "text/plain": [
       "True"
      ]
     },
     "execution_count": 160,
     "metadata": {},
     "output_type": "execute_result"
    }
   ],
   "source": [
    "# use pytest approx \n",
    "0.1 + 0.2 == pytest.approx(0.3)"
   ]
  },
  {
   "cell_type": "code",
   "execution_count": 161,
   "metadata": {
    "slideshow": {
     "slide_type": "slide"
    }
   },
   "outputs": [
    {
     "data": {
      "text/plain": [
       "True"
      ]
     },
     "execution_count": 161,
     "metadata": {},
     "output_type": "execute_result"
    }
   ],
   "source": [
    "# 支持序列中的数字\n",
    "(0.1 + 0.2, 0.2 + 0.4) == pytest.approx((0.3, 0.6))"
   ]
  },
  {
   "cell_type": "code",
   "execution_count": 162,
   "metadata": {
    "slideshow": {
     "slide_type": "-"
    }
   },
   "outputs": [
    {
     "data": {
      "text/plain": [
       "True"
      ]
     },
     "execution_count": 162,
     "metadata": {},
     "output_type": "execute_result"
    }
   ],
   "source": [
    "# 支持字典\n",
    "{'a': 0.1 + 0.2, 'b': 0.2 + 0.4} == pytest.approx({'a': 0.3, 'b': 0.6})"
   ]
  },
  {
   "cell_type": "code",
   "execution_count": 163,
   "metadata": {
    "slideshow": {
     "slide_type": "slide"
    }
   },
   "outputs": [
    {
     "data": {
      "text/plain": [
       "True"
      ]
     },
     "execution_count": 163,
     "metadata": {},
     "output_type": "execute_result"
    }
   ],
   "source": [
    "# 支持numpy\n",
    "import numpy as np                                                          \n",
    "np.array([0.1, 0.2]) + np.array([0.2, 0.4]) == pytest.approx(np.array([0.3, 0.6])) "
   ]
  },
  {
   "cell_type": "markdown",
   "metadata": {
    "slideshow": {
     "slide_type": "slide"
    }
   },
   "source": [
    "## 测试夹具\n",
    "\n",
    "与传统单元测试（setUp/tearDown）相比， 在pytest中的测试夹具具有如下特点：\n",
    "- 独立的显式命名，可按照测试的用途来激活，如函数（functions）、模块（modules）、类（classes）或整个项目（project）\n",
    "- 按照模块方式实现测试夹具，每个测试夹具名字会触发一个函数，其中可以调用其它fixture函数。\n",
    "- 范围从单元测试到功能测试，还可以传入参数，可以复用。"
   ]
  },
  {
   "cell_type": "markdown",
   "metadata": {
    "slideshow": {
     "slide_type": "slide"
    }
   },
   "source": [
    "### 使用函数参数调用测试夹具\n",
    "\n",
    "在pytest中，使用`pytest.fixture`装饰器实现测试夹具(fixture)。在编写测试用例时，传入测试夹具名称。那么传入的参数就是测试夹具函数的返回值。"
   ]
  },
  {
   "cell_type": "code",
   "execution_count": 164,
   "metadata": {
    "slideshow": {
     "slide_type": "slide"
    }
   },
   "outputs": [
    {
     "name": "stdout",
     "output_type": "stream",
     "text": [
      "Writing tests/test_fixture_basic.py\n"
     ]
    }
   ],
   "source": [
    "%%writefile tests/test_fixture_basic.py\n",
    "import pytest\n",
    "\n",
    "\n",
    "@pytest.fixture()\n",
    "def fixturename():\n",
    "    print('\\nbefore each test')\n",
    "    return True\n",
    "\n",
    "\n",
    "def test_fun01(fixturename):\n",
    "    print('test function 01', fixturename)\n",
    "    assert fixturename\n",
    "\n",
    "    \n",
    "def test_fun02(fixturename):\n",
    "    print('test function 02', fixturename)\n",
    "    assert not fixturename    "
   ]
  },
  {
   "cell_type": "code",
   "execution_count": 165,
   "metadata": {
    "slideshow": {
     "slide_type": "slide"
    }
   },
   "outputs": [
    {
     "name": "stdout",
     "output_type": "stream",
     "text": [
      "\u001b[1m============================= test session starts ==============================\u001b[0m\r\n",
      "platform linux -- Python 3.6.4, pytest-3.3.2, py-1.5.2, pluggy-0.6.0 -- /opt/anaconda3/bin/python\r\n",
      "cachedir: .cache\r\n",
      "metadata: {'Python': '3.6.4', 'Platform': 'Linux-3.10.0-693.21.1.el7.x86_64-x86_64-with-centos-7.4.1708-Core', 'Packages': {'pytest': '3.3.2', 'py': '1.5.2', 'pluggy': '0.6.0'}, 'Plugins': {'metadata': '1.7.0', 'html': '1.19.0'}}\r\n",
      "rootdir: /home/whwang/training/python-expert/testing, inifile:\r\n",
      "plugins: metadata-1.7.0, html-1.19.0\r\n",
      "\u001b[1m\r",
      "collecting 0 items                                                             \u001b[0m\u001b[1m\r",
      "collecting 2 items                                                             \u001b[0m\u001b[1m\r",
      "collected 2 items                                                              \u001b[0m\r\n",
      "\r\n",
      "tests/test_fixture_basic.py::test_fun01 \r\n",
      "before each test\r\n",
      "test function 01 True\r\n",
      "\u001b[32mPASSED\u001b[0m\u001b[36m                           [ 50%]\u001b[0m\r\n",
      "tests/test_fixture_basic.py::test_fun02 \r\n",
      "before each test\r\n",
      "test function 02 True\r\n",
      "\u001b[31mFAILED\u001b[0m\u001b[36m                           [100%]\u001b[0m\r\n",
      "\r\n",
      "=================================== FAILURES ===================================\r\n",
      "\u001b[31m\u001b[1m__________________________________ test_fun02 __________________________________\u001b[0m\r\n",
      "\r\n",
      "fixturename = True\r\n",
      "\r\n",
      "\u001b[1m    def test_fun02(fixturename):\u001b[0m\r\n",
      "\u001b[1m        print('test function 02', fixturename)\u001b[0m\r\n",
      "\u001b[1m>       assert not fixturename\u001b[0m\r\n",
      "\u001b[1m\u001b[31mE       assert not True\u001b[0m\r\n",
      "\r\n",
      "\u001b[1m\u001b[31mtests/test_fixture_basic.py\u001b[0m:17: AssertionError\r\n",
      "\u001b[31m\u001b[1m====================== 1 failed, 1 passed in 0.02 seconds ======================\u001b[0m\r\n"
     ]
    }
   ],
   "source": [
    "!pytest -v -s tests/test_fixture_basic.py"
   ]
  },
  {
   "cell_type": "markdown",
   "metadata": {
    "slideshow": {
     "slide_type": "slide"
    }
   },
   "source": [
    "### 使用装饰器调用\n",
    "\n",
    "使用`pytest.mark.usefixtures()`装饰器来调用测试夹具。"
   ]
  },
  {
   "cell_type": "code",
   "execution_count": 166,
   "metadata": {
    "slideshow": {
     "slide_type": "slide"
    }
   },
   "outputs": [
    {
     "name": "stdout",
     "output_type": "stream",
     "text": [
      "Writing tests/test_fixture_decorator.py\n"
     ]
    }
   ],
   "source": [
    "%%writefile tests/test_fixture_decorator.py\n",
    "import pytest\n",
    "\n",
    "\n",
    "@pytest.fixture()\n",
    "def before():\n",
    "    print('\\nbefore each test')\n",
    "\n",
    "    \n",
    "@pytest.mark.usefixtures(\"before\")\n",
    "def test_func01():\n",
    "    print('test function 01')\n",
    "\n",
    "    \n",
    "@pytest.mark.usefixtures(\"before\")\n",
    "def test_func02():\n",
    "    print('test function 02')\n",
    "\n",
    "    \n",
    "class TestClass01:\n",
    "    @pytest.mark.usefixtures(\"before\")\n",
    "    def test_method_01(self):\n",
    "        print('test method 01')\n",
    "\n",
    "    @pytest.mark.usefixtures(\"before\")\n",
    "    def test_method_02(self):\n",
    "        print('test method 02')\n",
    "\n",
    "        \n",
    "@pytest.mark.usefixtures(\"before\")\n",
    "class TestClass02:\n",
    "    def test_method03(self):\n",
    "        print('test method 03')\n",
    "\n",
    "    def test_method04(self):\n",
    "        print('test method 04')"
   ]
  },
  {
   "cell_type": "code",
   "execution_count": 167,
   "metadata": {
    "slideshow": {
     "slide_type": "slide"
    }
   },
   "outputs": [
    {
     "name": "stdout",
     "output_type": "stream",
     "text": [
      "\u001b[1m============================= test session starts ==============================\u001b[0m\r\n",
      "platform linux -- Python 3.6.4, pytest-3.3.2, py-1.5.2, pluggy-0.6.0 -- /opt/anaconda3/bin/python\r\n",
      "cachedir: .cache\r\n",
      "metadata: {'Python': '3.6.4', 'Platform': 'Linux-3.10.0-693.21.1.el7.x86_64-x86_64-with-centos-7.4.1708-Core', 'Packages': {'pytest': '3.3.2', 'py': '1.5.2', 'pluggy': '0.6.0'}, 'Plugins': {'metadata': '1.7.0', 'html': '1.19.0'}}\r\n",
      "rootdir: /home/whwang/training/python-expert/testing, inifile:\r\n",
      "plugins: metadata-1.7.0, html-1.19.0\r\n",
      "\u001b[1m\r",
      "collecting 0 items                                                             \u001b[0m\u001b[1m\r",
      "collecting 2 items                                                             \u001b[0m\u001b[1m\r",
      "collecting 2 items                                                             \u001b[0m\u001b[1m\r",
      "collecting 4 items                                                             \u001b[0m\u001b[1m\r",
      "collecting 4 items                                                             \u001b[0m\u001b[1m\r",
      "collecting 6 items                                                             \u001b[0m\u001b[1m\r",
      "collected 6 items                                                              \u001b[0m\r\n",
      "\r\n",
      "tests/test_fixture_decorator.py::test_func01 \r\n",
      "before each test\r\n",
      "test function 01\r\n",
      "\u001b[32mPASSED\u001b[0m\u001b[36m                      [ 16%]\u001b[0m\r\n",
      "tests/test_fixture_decorator.py::test_func02 \r\n",
      "before each test\r\n",
      "test function 02\r\n",
      "\u001b[32mPASSED\u001b[0m\u001b[36m                      [ 33%]\u001b[0m\r\n",
      "tests/test_fixture_decorator.py::TestClass01::test_method_01 \r\n",
      "before each test\r\n",
      "test method 01\r\n",
      "\u001b[32mPASSED\u001b[0m\u001b[36m      [ 50%]\u001b[0m\r\n",
      "tests/test_fixture_decorator.py::TestClass01::test_method_02 \r\n",
      "before each test\r\n",
      "test method 02\r\n",
      "\u001b[32mPASSED\u001b[0m\u001b[36m      [ 66%]\u001b[0m\r\n",
      "tests/test_fixture_decorator.py::TestClass02::test_method03 \r\n",
      "before each test\r\n",
      "test method 03\r\n",
      "\u001b[32mPASSED\u001b[0m\u001b[36m       [ 83%]\u001b[0m\r\n",
      "tests/test_fixture_decorator.py::TestClass02::test_method04 \r\n",
      "before each test\r\n",
      "test method 04\r\n",
      "\u001b[32mPASSED\u001b[0m\u001b[36m       [100%]\u001b[0m\r\n",
      "\r\n",
      "\u001b[32m\u001b[1m=========================== 6 passed in 0.01 seconds ===========================\u001b[0m\r\n"
     ]
    }
   ],
   "source": [
    "!pytest -v -s tests/test_fixture_decorator.py"
   ]
  },
  {
   "cell_type": "markdown",
   "metadata": {
    "slideshow": {
     "slide_type": "slide"
    }
   },
   "source": [
    "### 测试夹具的范围（scope）\n",
    "\n",
    "测试夹具装饰器`pytest.fixture`的语法：\n",
    "```\n",
    "fixture(scope='function', params=None, autouse=False, ids=None, name=None)\n",
    "```\n",
    "其中，范围`scope`有如下选择：\n",
    "- `function`：每个test都运行，默认值\n",
    "- `class`：每个class的所有test只运行一次\n",
    "- `module`：每个module的所有test只运行一次\n",
    "- `session`：每个session只运行一次"
   ]
  },
  {
   "cell_type": "code",
   "execution_count": 168,
   "metadata": {
    "slideshow": {
     "slide_type": "slide"
    }
   },
   "outputs": [
    {
     "name": "stdout",
     "output_type": "stream",
     "text": [
      "Writing tests/test_fixture_scope.py\n"
     ]
    }
   ],
   "source": [
    "%%writefile tests/test_fixture_scope.py\n",
    "import datetime\n",
    "import pytest\n",
    "\n",
    "\n",
    "@pytest.fixture(scope='session')\n",
    "def fixture_session():\n",
    "    print('\\nbefore session')\n",
    "    return 'session'\n",
    "\n",
    "\n",
    "@pytest.fixture(scope='module')\n",
    "def fixture_module():\n",
    "    print('\\nbefore module')\n",
    "    return 'module'\n",
    "\n",
    "\n",
    "@pytest.fixture()\n",
    "def fixture_function():\n",
    "    print('\\nbefore each test', datetime.datetime.utcnow())\n",
    "    return 'function'\n",
    "\n",
    "\n",
    "def test_fun01(fixture_session, fixture_module, fixture_function):\n",
    "    print('test function 01')\n",
    "    assert fixture_session == 'session'\n",
    "\n",
    "    \n",
    "def test_fun02(fixture_session, fixture_module, fixture_function):\n",
    "    print('test function 02')\n",
    "    assert fixture_session == 'session'"
   ]
  },
  {
   "cell_type": "code",
   "execution_count": 169,
   "metadata": {
    "slideshow": {
     "slide_type": "slide"
    }
   },
   "outputs": [
    {
     "name": "stdout",
     "output_type": "stream",
     "text": [
      "\u001b[1m============================= test session starts ==============================\u001b[0m\r\n",
      "platform linux -- Python 3.6.4, pytest-3.3.2, py-1.5.2, pluggy-0.6.0 -- /opt/anaconda3/bin/python\r\n",
      "cachedir: .cache\r\n",
      "metadata: {'Python': '3.6.4', 'Platform': 'Linux-3.10.0-693.21.1.el7.x86_64-x86_64-with-centos-7.4.1708-Core', 'Packages': {'pytest': '3.3.2', 'py': '1.5.2', 'pluggy': '0.6.0'}, 'Plugins': {'metadata': '1.7.0', 'html': '1.19.0'}}\r\n",
      "rootdir: /home/whwang/training/python-expert/testing, inifile:\r\n",
      "plugins: metadata-1.7.0, html-1.19.0\r\n",
      "\u001b[1m\r",
      "collecting 0 items                                                             \u001b[0m\u001b[1m\r",
      "collecting 2 items                                                             \u001b[0m\u001b[1m\r",
      "collected 2 items                                                              \u001b[0m\r\n",
      "\r\n",
      "tests/test_fixture_scope.py::test_fun01 \r\n",
      "before session\r\n",
      "\r\n",
      "before module\r\n",
      "\r\n",
      "before each test 2018-08-21 09:45:30.406012\r\n",
      "test function 01\r\n",
      "\u001b[32mPASSED\u001b[0m\u001b[36m                           [ 50%]\u001b[0m\r\n",
      "tests/test_fixture_scope.py::test_fun02 \r\n",
      "before each test 2018-08-21 09:45:30.407049\r\n",
      "test function 02\r\n",
      "\u001b[32mPASSED\u001b[0m\u001b[36m                           [100%]\u001b[0m\r\n",
      "\r\n",
      "\u001b[32m\u001b[1m=========================== 2 passed in 0.01 seconds ===========================\u001b[0m\r\n"
     ]
    }
   ],
   "source": [
    "!pytest  -v -s tests/test_fixture_scope.py"
   ]
  },
  {
   "cell_type": "markdown",
   "metadata": {
    "slideshow": {
     "slide_type": "slide"
    }
   },
   "source": [
    "### 带参数的测试夹具\n",
    "\n",
    "- 测试夹具可以带参数，可以把参数赋值给params，默认是None。\n",
    "\n",
    "- 对于param里面的每个值，fixture都会去调用执行一次，就像执行for循环一样把params里的值遍历一次。"
   ]
  },
  {
   "cell_type": "code",
   "execution_count": 170,
   "metadata": {
    "slideshow": {
     "slide_type": "slide"
    }
   },
   "outputs": [
    {
     "name": "stdout",
     "output_type": "stream",
     "text": [
      "Writing tests/test_fixture_param.py\n"
     ]
    }
   ],
   "source": [
    "%%writefile tests/test_fixture_param.py\n",
    "import pytest\n",
    "\n",
    "\n",
    "@pytest.fixture(params=[1, 2, 3])\n",
    "def test_data(request):\n",
    "    return request.param\n",
    "\n",
    "\n",
    "def test_not_2(test_data):\n",
    "    print('test_data: %s' % test_data)\n",
    "    assert test_data != 2"
   ]
  },
  {
   "cell_type": "code",
   "execution_count": 171,
   "metadata": {
    "slideshow": {
     "slide_type": "slide"
    }
   },
   "outputs": [
    {
     "name": "stdout",
     "output_type": "stream",
     "text": [
      "\u001b[1m============================= test session starts ==============================\u001b[0m\r\n",
      "platform linux -- Python 3.6.4, pytest-3.3.2, py-1.5.2, pluggy-0.6.0 -- /opt/anaconda3/bin/python\r\n",
      "cachedir: .cache\r\n",
      "metadata: {'Python': '3.6.4', 'Platform': 'Linux-3.10.0-693.21.1.el7.x86_64-x86_64-with-centos-7.4.1708-Core', 'Packages': {'pytest': '3.3.2', 'py': '1.5.2', 'pluggy': '0.6.0'}, 'Plugins': {'metadata': '1.7.0', 'html': '1.19.0'}}\r\n",
      "rootdir: /home/whwang/training/python-expert/testing, inifile:\r\n",
      "plugins: metadata-1.7.0, html-1.19.0\r\n",
      "\u001b[1m\r",
      "collecting 0 items                                                             \u001b[0m\u001b[1m\r",
      "collecting 3 items                                                             \u001b[0m\u001b[1m\r",
      "collected 3 items                                                              \u001b[0m\r\n",
      "\r\n",
      "tests/test_fixture_param.py::test_not_2[1] test_data: 1\r\n",
      "\u001b[32mPASSED\u001b[0m\u001b[36m                        [ 33%]\u001b[0m\r\n",
      "tests/test_fixture_param.py::test_not_2[2] test_data: 2\r\n",
      "\u001b[31mFAILED\u001b[0m\u001b[36m                        [ 66%]\u001b[0m\r\n",
      "tests/test_fixture_param.py::test_not_2[3] test_data: 3\r\n",
      "\u001b[32mPASSED\u001b[0m\u001b[36m                        [100%]\u001b[0m\r\n",
      "\r\n",
      "=================================== FAILURES ===================================\r\n",
      "\u001b[31m\u001b[1m________________________________ test_not_2[2] _________________________________\u001b[0m\r\n",
      "\r\n",
      "test_data = 2\r\n",
      "\r\n",
      "\u001b[1m    def test_not_2(test_data):\u001b[0m\r\n",
      "\u001b[1m        print('test_data: %s' % test_data)\u001b[0m\r\n",
      "\u001b[1m>       assert test_data != 2\u001b[0m\r\n",
      "\u001b[1m\u001b[31mE       assert 2 != 2\u001b[0m\r\n",
      "\r\n",
      "\u001b[1m\u001b[31mtests/test_fixture_param.py\u001b[0m:11: AssertionError\r\n",
      "\u001b[31m\u001b[1m====================== 1 failed, 2 passed in 0.03 seconds ======================\u001b[0m\r\n"
     ]
    }
   ],
   "source": [
    "!pytest -v -s tests/test_fixture_param.py"
   ]
  },
  {
   "cell_type": "markdown",
   "metadata": {
    "slideshow": {
     "slide_type": "slide"
    }
   },
   "source": [
    "### 测试夹具的tearDown实现\n",
    "\n",
    "测试夹具包括准备时创建，结束后销毁两部分。在pytest中，通过使用`yield`语句替换`return`语句来实现。"
   ]
  },
  {
   "cell_type": "code",
   "execution_count": 173,
   "metadata": {
    "slideshow": {
     "slide_type": "slide"
    }
   },
   "outputs": [
    {
     "name": "stdout",
     "output_type": "stream",
     "text": [
      "Writing tests/test_fixture_teardown.py\n"
     ]
    }
   ],
   "source": [
    "%%writefile tests/test_fixture_teardown.py\n",
    "import pytest\n",
    "\n",
    "\n",
    "@pytest.fixture()\n",
    "def fixturename():\n",
    "    print('\\nbefore each test')\n",
    "    fixturename = True\n",
    "    yield fixturename\n",
    "    print('\\nend each test')\n",
    "    \n",
    "\n",
    "\n",
    "def test_fun01(fixturename):\n",
    "    print('test function 01')\n",
    "    assert fixturename\n",
    "\n",
    "    \n",
    "def test_fun02(fixturename):\n",
    "    print('test function 02')\n",
    "    assert not fixturename    "
   ]
  },
  {
   "cell_type": "code",
   "execution_count": 174,
   "metadata": {
    "slideshow": {
     "slide_type": "slide"
    }
   },
   "outputs": [
    {
     "name": "stdout",
     "output_type": "stream",
     "text": [
      "\u001b[1m============================= test session starts ==============================\u001b[0m\n",
      "platform linux -- Python 3.6.4, pytest-3.3.2, py-1.5.2, pluggy-0.6.0 -- /opt/anaconda3/bin/python\n",
      "cachedir: .cache\n",
      "metadata: {'Python': '3.6.4', 'Platform': 'Linux-3.10.0-693.21.1.el7.x86_64-x86_64-with-centos-7.4.1708-Core', 'Packages': {'pytest': '3.3.2', 'py': '1.5.2', 'pluggy': '0.6.0'}, 'Plugins': {'metadata': '1.7.0', 'html': '1.19.0'}}\n",
      "rootdir: /home/whwang/training/python-expert/testing, inifile:\n",
      "plugins: metadata-1.7.0, html-1.19.0\n",
      "collected 2 items                                                              \u001b[0m\u001b[1m\n",
      "\n",
      "tests/test_fixture_teardown.py::test_fun01 \n",
      "before each test\n",
      "test function 01\n",
      "\u001b[32mPASSED\u001b[0m\u001b[36m                        [ 50%]\u001b[0m\n",
      "end each test\n",
      "\n",
      "tests/test_fixture_teardown.py::test_fun02 \n",
      "before each test\n",
      "test function 02\n",
      "\u001b[31mFAILED\u001b[0m\u001b[36m                        [100%]\u001b[0m\n",
      "end each test\n",
      "\n",
      "\n",
      "=================================== FAILURES ===================================\n",
      "\u001b[31m\u001b[1m__________________________________ test_fun02 __________________________________\u001b[0m\n",
      "\n",
      "fixturename = True\n",
      "\n",
      "\u001b[1m    def test_fun02(fixturename):\u001b[0m\n",
      "\u001b[1m        print('test function 02')\u001b[0m\n",
      "\u001b[1m>       assert not fixturename\u001b[0m\n",
      "\u001b[1m\u001b[31mE       assert not True\u001b[0m\n",
      "\n",
      "\u001b[1m\u001b[31mtests/test_fixture_teardown.py\u001b[0m:20: AssertionError\n",
      "\u001b[31m\u001b[1m====================== 1 failed, 1 passed in 0.02 seconds ======================\u001b[0m\n"
     ]
    }
   ],
   "source": [
    "!pytest -v -s tests/test_fixture_teardown.py"
   ]
  },
  {
   "cell_type": "markdown",
   "metadata": {
    "slideshow": {
     "slide_type": "slide"
    }
   },
   "source": [
    "## pytest命令更多使用方法"
   ]
  },
  {
   "cell_type": "markdown",
   "metadata": {
    "slideshow": {
     "slide_type": "slide"
    }
   },
   "source": [
    "### 失败时调用PDB (Python Debugger)：\n",
    "\n",
    "Python带有一个内置的Python调试器称为PDB。pytest可以在命令行选项指定调用：\n",
    "```sh\n",
    "pytest --pdb\n",
    "```"
   ]
  },
  {
   "cell_type": "markdown",
   "metadata": {
    "slideshow": {
     "slide_type": "slide"
    }
   },
   "source": [
    "### 分析测试执行时间\n",
    "\n",
    "可以列出最慢的测试执行时间：\n",
    "```\n",
    "pytest --durations=10\n",
    "```"
   ]
  },
  {
   "cell_type": "markdown",
   "metadata": {
    "slideshow": {
     "slide_type": "slide"
    }
   },
   "source": [
    "###  创建JUnitXML格式文件\n",
    "\n",
    "创建Jenkins或其他持续集成服务支持的结果文件：\n",
    "```\n",
    "pytest --junitxml=path\n",
    "```"
   ]
  },
  {
   "cell_type": "markdown",
   "metadata": {
    "slideshow": {
     "slide_type": "slide"
    }
   },
   "source": [
    "### 禁止插件\n",
    "\n",
    "可以禁止某些插件运行。例如禁止doctest插件：\n",
    "```sh\n",
    "pytest -p no:doctest\n",
    "```"
   ]
  },
  {
   "cell_type": "markdown",
   "metadata": {
    "slideshow": {
     "slide_type": "slide"
    }
   },
   "source": [
    "## 综合应用\n",
    "\n",
    "先创建一个模块，包括函数与类等定义。"
   ]
  },
  {
   "cell_type": "code",
   "execution_count": 175,
   "metadata": {
    "slideshow": {
     "slide_type": "slide"
    }
   },
   "outputs": [
    {
     "name": "stdout",
     "output_type": "stream",
     "text": [
      "Writing tests/sampmodule.py\n"
     ]
    }
   ],
   "source": [
    "%%writefile tests/sampmodule.py\n",
    "#!/usr/bin/env python\n",
    "# -*- coding: utf-8 -*-\n",
    "\n",
    "\n",
    "def multiply(a, b):\n",
    "    \"\"\"return a * b\n",
    "    \"\"\"\n",
    "    return a * b\n",
    "\n",
    "\n",
    "def raises_error(*args, **kwds):\n",
    "    raise ValueError('Invalid value: ' + str(args) + str(kwds))\n",
    "    \n",
    "    \n",
    "class Dog():\n",
    "    \"\"\"class for Dog\"\"\"\n",
    "    kind = 'canine'\n",
    "\n",
    "    def __init__(self, name):\n",
    "        self.name = name\n",
    "        self.tricks = []\n",
    "\n",
    "    def add_trick(self, trick):\n",
    "        \"\"\"add a trick\"\"\"\n",
    "        self.tricks.append(trick)    "
   ]
  },
  {
   "cell_type": "code",
   "execution_count": 183,
   "metadata": {
    "slideshow": {
     "slide_type": "slide"
    }
   },
   "outputs": [
    {
     "name": "stdout",
     "output_type": "stream",
     "text": [
      "Overwriting tests/test_sampmodule.py\n"
     ]
    }
   ],
   "source": [
    "%%writefile tests/test_sampmodule.py\n",
    "#!/usr/bin/env python\n",
    "# -*- coding: utf-8 -*-\n",
    "import pytest\n",
    "from sampmodule import multiply, raises_error, Dog \n",
    "\n",
    "\n",
    "def test_multiply_3_3():\n",
    "    assert multiply(3, 3) == 9\n",
    "\n",
    "    \n",
    "def test_multiply_x_3():\n",
    "    assert multiply('x', 3) == 'xxx'\n",
    "\n",
    "    \n",
    "def test_multiply_list_3():\n",
    "    res = multiply(['a', 'b'], 3)\n",
    "    assert res == ['a', 'b', 'a', 'b', 'a', 'b']\n",
    "\n",
    "        \n",
    "def test_assert_raises():\n",
    "    with pytest.raises(ValueError):\n",
    "        raises_error('a', b='c')\n",
    "\n",
    "                     \n",
    "@pytest.fixture()\n",
    "def twodog():\n",
    "    fido = Dog('Fido')\n",
    "    buddy = Dog('Buddy')\n",
    "    return fido, buddy\n",
    "\n",
    "                     \n",
    "class TestDog(object):\n",
    "    \"\"\"test case of function multiply\"\"\"\n",
    "    def test_name(self, twodog):\n",
    "        fido, buddy = twodog\n",
    "        assert fido.name == 'Fido'\n",
    "        assert fido.tricks == []\n",
    "\n",
    "    def test_add_trick(self, twodog):\n",
    "        fido, buddy = twodog\n",
    "        fido.add_trick('roll over')\n",
    "        assert 'roll over' in fido.tricks\n",
    "\n",
    "    def test_add_trick_02(self, twodog):\n",
    "        fido, buddy = twodog\n",
    "        fido.add_trick('play dead')\n",
    "        buddy.add_trick('play dead')\n",
    "        assert 'roll over' in fido.tricks\n",
    "        assert 'play dead' in fido.tricks\n",
    "        assert 'play dead' in buddy.tricks\n"
   ]
  },
  {
   "cell_type": "code",
   "execution_count": 184,
   "metadata": {},
   "outputs": [
    {
     "name": "stdout",
     "output_type": "stream",
     "text": [
      "\u001b[1m============================= test session starts ==============================\u001b[0m\n",
      "platform linux -- Python 3.6.4, pytest-3.3.2, py-1.5.2, pluggy-0.6.0 -- /opt/anaconda3/bin/python\n",
      "cachedir: .cache\n",
      "metadata: {'Python': '3.6.4', 'Platform': 'Linux-3.10.0-693.21.1.el7.x86_64-x86_64-with-centos-7.4.1708-Core', 'Packages': {'pytest': '3.3.2', 'py': '1.5.2', 'pluggy': '0.6.0'}, 'Plugins': {'metadata': '1.7.0', 'html': '1.19.0'}}\n",
      "rootdir: /home/whwang/training/python-expert/testing, inifile:\n",
      "plugins: metadata-1.7.0, html-1.19.0\n",
      "collected 7 items                                                              \u001b[0m\u001b[1m\n",
      "\n",
      "tests/test_sampmodule.py::test_multiply_3_3 \u001b[32mPASSED\u001b[0m\u001b[36m                       [ 14%]\u001b[0m\n",
      "tests/test_sampmodule.py::test_multiply_x_3 \u001b[32mPASSED\u001b[0m\u001b[36m                       [ 28%]\u001b[0m\n",
      "tests/test_sampmodule.py::test_multiply_list_3 \u001b[32mPASSED\u001b[0m\u001b[36m                    [ 42%]\u001b[0m\n",
      "tests/test_sampmodule.py::test_assert_raises \u001b[32mPASSED\u001b[0m\u001b[36m                      [ 57%]\u001b[0m\n",
      "tests/test_sampmodule.py::TestDog::test_name \u001b[32mPASSED\u001b[0m\u001b[36m                      [ 71%]\u001b[0m\n",
      "tests/test_sampmodule.py::TestDog::test_add_trick \u001b[32mPASSED\u001b[0m\u001b[36m                 [ 85%]\u001b[0m\n",
      "tests/test_sampmodule.py::TestDog::test_add_trick_02 \u001b[31mFAILED\u001b[0m\u001b[36m              [100%]\u001b[0m\n",
      "\n",
      "=================================== FAILURES ===================================\n",
      "\u001b[31m\u001b[1m__________________________ TestDog.test_add_trick_02 ___________________________\u001b[0m\n",
      "\n",
      "self = <test_sampmodule.TestDog object at 0x7fa4a1292630>\n",
      "twodog = (<sampmodule.Dog object at 0x7fa4a12922b0>, <sampmodule.Dog object at 0x7fa4a1292ac8>)\n",
      "\n",
      "\u001b[1m    def test_add_trick_02(self, twodog):\u001b[0m\n",
      "\u001b[1m        fido, buddy = twodog\u001b[0m\n",
      "\u001b[1m        fido.add_trick('play dead')\u001b[0m\n",
      "\u001b[1m        buddy.add_trick('play dead')\u001b[0m\n",
      "\u001b[1m>       assert 'roll over' in fido.tricks\u001b[0m\n",
      "\u001b[1m\u001b[31mE       AssertionError: assert 'roll over' in ['play dead']\u001b[0m\n",
      "\u001b[1m\u001b[31mE        +  where ['play dead'] = <sampmodule.Dog object at 0x7fa4a12922b0>.tricks\u001b[0m\n",
      "\n",
      "\u001b[1m\u001b[31mtests/test_sampmodule.py\u001b[0m:48: AssertionError\n",
      "\u001b[31m\u001b[1m====================== 1 failed, 6 passed in 0.05 seconds ======================\u001b[0m\n"
     ]
    }
   ],
   "source": [
    "!pytest -v -s tests/test_sampmodule.py"
   ]
  },
  {
   "cell_type": "markdown",
   "metadata": {},
   "source": [
    "###  创建JUnitXML格式文件\n",
    "\n",
    "创建Jenkins或其他持续集成服务支持的结果文件：\n",
    "```\n",
    "pytest --junitxml=path\n",
    "```"
   ]
  },
  {
   "cell_type": "code",
   "execution_count": 185,
   "metadata": {},
   "outputs": [
    {
     "name": "stdout",
     "output_type": "stream",
     "text": [
      "\u001b[1m============================= test session starts ==============================\u001b[0m\n",
      "platform linux -- Python 3.6.4, pytest-3.3.2, py-1.5.2, pluggy-0.6.0 -- /opt/anaconda3/bin/python\n",
      "cachedir: .cache\n",
      "metadata: {'Python': '3.6.4', 'Platform': 'Linux-3.10.0-693.21.1.el7.x86_64-x86_64-with-centos-7.4.1708-Core', 'Packages': {'pytest': '3.3.2', 'py': '1.5.2', 'pluggy': '0.6.0'}, 'Plugins': {'metadata': '1.7.0', 'html': '1.19.0'}}\n",
      "rootdir: /home/whwang/training/python-expert/testing, inifile:\n",
      "plugins: metadata-1.7.0, html-1.19.0\n",
      "collected 7 items                                                              \u001b[0m\u001b[1m\n",
      "\n",
      "tests/test_sampmodule.py::test_multiply_3_3 \u001b[32mPASSED\u001b[0m\u001b[36m                       [ 14%]\u001b[0m\n",
      "tests/test_sampmodule.py::test_multiply_x_3 \u001b[32mPASSED\u001b[0m\u001b[36m                       [ 28%]\u001b[0m\n",
      "tests/test_sampmodule.py::test_multiply_list_3 \u001b[32mPASSED\u001b[0m\u001b[36m                    [ 42%]\u001b[0m\n",
      "tests/test_sampmodule.py::test_assert_raises \u001b[32mPASSED\u001b[0m\u001b[36m                      [ 57%]\u001b[0m\n",
      "tests/test_sampmodule.py::TestDog::test_name \u001b[32mPASSED\u001b[0m\u001b[36m                      [ 71%]\u001b[0m\n",
      "tests/test_sampmodule.py::TestDog::test_add_trick \u001b[32mPASSED\u001b[0m\u001b[36m                 [ 85%]\u001b[0m\n",
      "tests/test_sampmodule.py::TestDog::test_add_trick_02 \u001b[31mFAILED\u001b[0m\u001b[36m              [100%]\u001b[0m\n",
      "\n",
      "--- generated xml file: /home/whwang/training/python-expert/testing/test.xml ---\n",
      "=================================== FAILURES ===================================\n",
      "\u001b[31m\u001b[1m__________________________ TestDog.test_add_trick_02 ___________________________\u001b[0m\n",
      "\n",
      "self = <test_sampmodule.TestDog object at 0x7fcaa567edd8>\n",
      "twodog = (<sampmodule.Dog object at 0x7fcaa5615048>, <sampmodule.Dog object at 0x7fcaa5615080>)\n",
      "\n",
      "\u001b[1m    def test_add_trick_02(self, twodog):\u001b[0m\n",
      "\u001b[1m        fido, buddy = twodog\u001b[0m\n",
      "\u001b[1m        fido.add_trick('play dead')\u001b[0m\n",
      "\u001b[1m        buddy.add_trick('play dead')\u001b[0m\n",
      "\u001b[1m>       assert 'roll over' in fido.tricks\u001b[0m\n",
      "\u001b[1m\u001b[31mE       AssertionError: assert 'roll over' in ['play dead']\u001b[0m\n",
      "\u001b[1m\u001b[31mE        +  where ['play dead'] = <sampmodule.Dog object at 0x7fcaa5615048>.tricks\u001b[0m\n",
      "\n",
      "\u001b[1m\u001b[31mtests/test_sampmodule.py\u001b[0m:48: AssertionError\n",
      "\u001b[31m\u001b[1m====================== 1 failed, 6 passed in 0.04 seconds ======================\u001b[0m\n"
     ]
    }
   ],
   "source": [
    "!pytest -v -s tests/test_sampmodule.py --junitxml=test.xml"
   ]
  },
  {
   "cell_type": "code",
   "execution_count": 186,
   "metadata": {},
   "outputs": [
    {
     "name": "stdout",
     "output_type": "stream",
     "text": [
      "<?xml version=\"1.0\" encoding=\"utf-8\"?><testsuite errors=\"0\" failures=\"1\" name=\"pytest\" skips=\"0\" tests=\"7\" time=\"0.040\"><testcase classname=\"tests.test_sampmodule\" file=\"tests/test_sampmodule.py\" line=\"6\" name=\"test_multiply_3_3\" time=\"0.0010111331939697266\"></testcase><testcase classname=\"tests.test_sampmodule\" file=\"tests/test_sampmodule.py\" line=\"10\" name=\"test_multiply_x_3\" time=\"0.000347137451171875\"></testcase><testcase classname=\"tests.test_sampmodule\" file=\"tests/test_sampmodule.py\" line=\"14\" name=\"test_multiply_list_3\" time=\"0.0003542900085449219\"></testcase><testcase classname=\"tests.test_sampmodule\" file=\"tests/test_sampmodule.py\" line=\"19\" name=\"test_assert_raises\" time=\"0.0003936290740966797\"></testcase><testcase classname=\"tests.test_sampmodule.TestDog\" file=\"tests/test_sampmodule.py\" line=\"33\" name=\"test_name\" time=\"0.0004813671112060547\"></testcase><testcase classname=\"tests.test_sampmodule.TestDog\" file=\"tests/test_sampmodule.py\" line=\"38\" name=\"test_add_trick\" time=\"0.0004038810729980469\"></testcase><testcase classname=\"tests.test_sampmodule.TestDog\" file=\"tests/test_sampmodule.py\" line=\"43\" name=\"test_add_trick_02\" time=\"0.0017437934875488281\"><failure message=\"AssertionError: assert &apos;roll over&apos; in [&apos;play dead&apos;]\r\n",
      " +  where [&apos;play dead&apos;] = &lt;sampmodule.Dog object at 0x7fcaa5615048&gt;.tricks\">self = &lt;test_sampmodule.TestDog object at 0x7fcaa567edd8&gt;\r\n",
      "twodog = (&lt;sampmodule.Dog object at 0x7fcaa5615048&gt;, &lt;sampmodule.Dog object at 0x7fcaa5615080&gt;)\r\n",
      "\r\n",
      "    def test_add_trick_02(self, twodog):\r\n",
      "        fido, buddy = twodog\r\n",
      "        fido.add_trick(&apos;play dead&apos;)\r\n",
      "        buddy.add_trick(&apos;play dead&apos;)\r\n",
      "&gt;       assert &apos;roll over&apos; in fido.tricks\r\n",
      "E       AssertionError: assert &apos;roll over&apos; in [&apos;play dead&apos;]\r\n",
      "E        +  where [&apos;play dead&apos;] = &lt;sampmodule.Dog object at 0x7fcaa5615048&gt;.tricks\r\n",
      "\r\n",
      "tests/test_sampmodule.py:48: AssertionError</failure></testcase></testsuite>"
     ]
    }
   ],
   "source": [
    "%cat test.xml"
   ]
  },
  {
   "cell_type": "markdown",
   "metadata": {},
   "source": [
    "### 生成Html格式的测试报告\n",
    "\n",
    "需要安装插件\n",
    "```\n",
    "pip install pytest-html\n",
    "```"
   ]
  },
  {
   "cell_type": "code",
   "execution_count": 187,
   "metadata": {},
   "outputs": [
    {
     "name": "stdout",
     "output_type": "stream",
     "text": [
      "\u001b[1m============================= test session starts ==============================\u001b[0m\n",
      "platform linux -- Python 3.6.4, pytest-3.3.2, py-1.5.2, pluggy-0.6.0 -- /opt/anaconda3/bin/python\n",
      "cachedir: .cache\n",
      "metadata: {'Python': '3.6.4', 'Platform': 'Linux-3.10.0-693.21.1.el7.x86_64-x86_64-with-centos-7.4.1708-Core', 'Packages': {'pytest': '3.3.2', 'py': '1.5.2', 'pluggy': '0.6.0'}, 'Plugins': {'metadata': '1.7.0', 'html': '1.19.0'}}\n",
      "rootdir: /home/whwang/training/python-expert/testing, inifile:\n",
      "plugins: metadata-1.7.0, html-1.19.0\n",
      "collected 7 items                                                              \u001b[0m\u001b[1m\n",
      "\n",
      "tests/test_sampmodule.py::test_multiply_3_3 \u001b[32mPASSED\u001b[0m\u001b[36m                       [ 14%]\u001b[0m\n",
      "tests/test_sampmodule.py::test_multiply_x_3 \u001b[32mPASSED\u001b[0m\u001b[36m                       [ 28%]\u001b[0m\n",
      "tests/test_sampmodule.py::test_multiply_list_3 \u001b[32mPASSED\u001b[0m\u001b[36m                    [ 42%]\u001b[0m\n",
      "tests/test_sampmodule.py::test_assert_raises \u001b[32mPASSED\u001b[0m\u001b[36m                      [ 57%]\u001b[0m\n",
      "tests/test_sampmodule.py::TestDog::test_name \u001b[32mPASSED\u001b[0m\u001b[36m                      [ 71%]\u001b[0m\n",
      "tests/test_sampmodule.py::TestDog::test_add_trick \u001b[32mPASSED\u001b[0m\u001b[36m                 [ 85%]\u001b[0m\n",
      "tests/test_sampmodule.py::TestDog::test_add_trick_02 \u001b[31mFAILED\u001b[0m\u001b[36m              [100%]\u001b[0m\n",
      "\n",
      " generated html file: /home/whwang/training/python-expert/testing/test_sampmodule.html \n",
      "=================================== FAILURES ===================================\n",
      "\u001b[31m\u001b[1m__________________________ TestDog.test_add_trick_02 ___________________________\u001b[0m\n",
      "\n",
      "self = <test_sampmodule.TestDog object at 0x7f664efc3668>\n",
      "twodog = (<sampmodule.Dog object at 0x7f664efc3ac8>, <sampmodule.Dog object at 0x7f664efc3b00>)\n",
      "\n",
      "\u001b[1m    def test_add_trick_02(self, twodog):\u001b[0m\n",
      "\u001b[1m        fido, buddy = twodog\u001b[0m\n",
      "\u001b[1m        fido.add_trick('play dead')\u001b[0m\n",
      "\u001b[1m        buddy.add_trick('play dead')\u001b[0m\n",
      "\u001b[1m>       assert 'roll over' in fido.tricks\u001b[0m\n",
      "\u001b[1m\u001b[31mE       AssertionError: assert 'roll over' in ['play dead']\u001b[0m\n",
      "\u001b[1m\u001b[31mE        +  where ['play dead'] = <sampmodule.Dog object at 0x7f664efc3ac8>.tricks\u001b[0m\n",
      "\n",
      "\u001b[1m\u001b[31mtests/test_sampmodule.py\u001b[0m:48: AssertionError\n",
      "\u001b[31m\u001b[1m====================== 1 failed, 6 passed in 0.04 seconds ======================\u001b[0m\n"
     ]
    }
   ],
   "source": [
    "!pytest -v -s tests/test_sampmodule.py --html=test_sampmodule.html"
   ]
  },
  {
   "cell_type": "markdown",
   "metadata": {
    "slideshow": {
     "slide_type": "slide"
    }
   },
   "source": [
    "## 小结\n",
    "\n",
    "使用pytest可以快捷地编写测试用例，运行测试用例。pytest的功能很强大，还需要不断积累经验不断提高。"
   ]
  }
 ],
 "metadata": {
  "celltoolbar": "Slideshow",
  "kernelspec": {
   "display_name": "Python 3",
   "language": "python",
   "name": "python3"
  },
  "language_info": {
   "codemirror_mode": {
    "name": "ipython",
    "version": 3
   },
   "file_extension": ".py",
   "mimetype": "text/x-python",
   "name": "python",
   "nbconvert_exporter": "python",
   "pygments_lexer": "ipython3",
   "version": "3.6.4"
  },
  "toc": {
   "base_numbering": 1,
   "nav_menu": {},
   "number_sections": true,
   "sideBar": true,
   "skip_h1_title": false,
   "title_cell": "Table of Contents",
   "title_sidebar": "Contents",
   "toc_cell": false,
   "toc_position": {
    "height": "calc(100% - 180px)",
    "left": "10px",
    "top": "150px",
    "width": "184px"
   },
   "toc_section_display": true,
   "toc_window_display": false
  }
 },
 "nbformat": 4,
 "nbformat_minor": 2
}
