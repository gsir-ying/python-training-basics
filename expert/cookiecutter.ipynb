{
 "cells": [
  {
   "cell_type": "markdown",
   "metadata": {
    "slideshow": {
     "slide_type": "slide"
    }
   },
   "source": [
    "# Python项目开发脚手架\n",
    "\n",
    "一个Python项目的开发过程会涉及到多个方面，例如：\n",
    "- 计算应环境（云计算）\n",
    "- 版本管理（git）\n",
    "- Python环境（pipenv虚拟环境）\n",
    "- 集成开发环境（PyCharm）\n",
    "- 编码风格（Pep8，flake8）\n",
    "- 调试（pdb）\n",
    "- 测试（pytest）\n",
    "- 性能（cProfile）\n",
    "- 扩展（cython）\n",
    "- 文档（sphinx）"
   ]
  },
  {
   "cell_type": "markdown",
   "metadata": {
    "slideshow": {
     "slide_type": "slide"
    }
   },
   "source": [
    "随着个人编写水平的提高或团队极限开发，可能还会用到更多技能。随着项目开发日益增多，每个人或团队会形成相对固化的开发过程以及应用工具。这时使用脚手架工具，可以高效地创建出强大的应用程序。"
   ]
  },
  {
   "cell_type": "markdown",
   "metadata": {
    "slideshow": {
     "slide_type": "slide"
    }
   },
   "source": [
    "[cookiecutter](https://github.com/audreyr/cookiecutter)是使用Python编写的一个项目开发脚手架工具，支持大多数开发语言，例如Python、C、 C++、Java、LaTex、JS等。"
   ]
  },
  {
   "cell_type": "markdown",
   "metadata": {
    "slideshow": {
     "slide_type": "-"
    }
   },
   "source": [
    "本章节通过介绍cookiecutter工具，结合一个Python项目的开发过程，来融汇贯通各个章节内容。"
   ]
  },
  {
   "cell_type": "markdown",
   "metadata": {
    "slideshow": {
     "slide_type": "slide"
    }
   },
   "source": [
    "## 安装\n",
    "\n",
    "使用pip安装  \n",
    "```pip install cookiecutter\n",
    "```"
   ]
  },
  {
   "cell_type": "markdown",
   "metadata": {
    "slideshow": {
     "slide_type": "slide"
    }
   },
   "source": [
    "检查安装情况："
   ]
  },
  {
   "cell_type": "code",
   "execution_count": 1,
   "metadata": {
    "slideshow": {
     "slide_type": "-"
    }
   },
   "outputs": [
    {
     "name": "stdout",
     "output_type": "stream",
     "text": [
      "Usage: cookiecutter [OPTIONS] TEMPLATE [EXTRA_CONTEXT]...\r\n",
      "\r\n",
      "  Create a project from a Cookiecutter project template (TEMPLATE).\r\n",
      "\r\n",
      "  Cookiecutter is free and open source software, developed and managed by\r\n",
      "  volunteers. If you would like to help out or fund the project, please get\r\n",
      "  in touch at https://github.com/audreyr/cookiecutter.\r\n",
      "\r\n",
      "Options:\r\n",
      "  -V, --version              Show the version and exit.\r\n",
      "  --no-input                 Do not prompt for parameters and only use\r\n",
      "                             cookiecutter.json file content\r\n",
      "  -c, --checkout TEXT        branch, tag or commit to checkout after git clone\r\n",
      "  -v, --verbose              Print debug information\r\n",
      "  --replay                   Do not prompt for parameters and only use\r\n",
      "                             information entered previously\r\n",
      "  -f, --overwrite-if-exists  Overwrite the contents of the output directory if\r\n",
      "                             it already exists\r\n",
      "  -o, --output-dir PATH      Where to output the generated project dir into\r\n",
      "  --config-file PATH         User configuration file\r\n",
      "  --default-config           Do not load a config file. Use the defaults\r\n",
      "                             instead\r\n",
      "  --debug-file PATH          File to be used as a stream for DEBUG logging\r\n",
      "  -h, --help                 Show this message and exit.\r\n"
     ]
    }
   ],
   "source": [
    "!cookiecutter -h"
   ]
  },
  {
   "cell_type": "markdown",
   "metadata": {
    "slideshow": {
     "slide_type": "slide"
    }
   },
   "source": [
    "## 创建项目\n",
    "\n",
    "cookiecutter安装完毕后，就可以使用项目模板来创建项目。"
   ]
  },
  {
   "cell_type": "markdown",
   "metadata": {
    "slideshow": {
     "slide_type": "slide"
    }
   },
   "source": [
    "对于Python项目开发，有很多脚手架项目模板。`cookiecutter`项目团队自身维护了三个项目框架：\n",
    "- `cookecutter-pypackage`，Python包项目模板\n",
    "- `cookecutter-django`，Django项目模板\n",
    "- `cookecutter-pytest-plugin`，pytest插件项目迷你模板"
   ]
  },
  {
   "cell_type": "markdown",
   "metadata": {
    "slideshow": {
     "slide_type": "-"
    }
   },
   "source": [
    "实际上，每个团队或个人都可以定制项目模板。"
   ]
  },
  {
   "cell_type": "markdown",
   "metadata": {
    "slideshow": {
     "slide_type": "slide"
    }
   },
   "source": [
    "### 克隆Python项目模板到本地目录\n",
    "\n",
    "使用`git`可能项目到本地目录：\n",
    "```\n",
    "git clone https://github.com/audreyr/cookiecutter-pypackage.git\n",
    "```"
   ]
  },
  {
   "cell_type": "markdown",
   "metadata": {
    "slideshow": {
     "slide_type": "slide"
    }
   },
   "source": [
    "在执行`cookiecutter`命令时，指定模板目录，即可创建一个Python项目:\n",
    "```sh\n",
    "cookiecutter /path/cookiecutter-pypackage\n",
    "```"
   ]
  },
  {
   "cell_type": "markdown",
   "metadata": {
    "slideshow": {
     "slide_type": "slide"
    }
   },
   "source": [
    "通常把脚手架项目模板存放到用户主目录下`~/.cookiecutters/`："
   ]
  },
  {
   "cell_type": "code",
   "execution_count": 4,
   "metadata": {
    "slideshow": {
     "slide_type": "-"
    }
   },
   "outputs": [
    {
     "name": "stdout",
     "output_type": "stream",
     "text": [
      "cookiecutter-isciencehub  cookiecutter-pypackage\r\n"
     ]
    }
   ],
   "source": [
    "!ls ~/.cookiecutters"
   ]
  },
  {
   "cell_type": "markdown",
   "metadata": {
    "slideshow": {
     "slide_type": "slide"
    }
   },
   "source": [
    "这样的话，在创建Python项目时，给出模板名字即可：\n",
    "```\n",
    "cookiecutter cookiecutter-pypackage\n",
    "```"
   ]
  },
  {
   "cell_type": "markdown",
   "metadata": {
    "slideshow": {
     "slide_type": "slide"
    }
   },
   "source": [
    "### 使用git仓库的项目模板\n",
    "\n",
    "使用`cookiecutter`创建项目时，也可以用git仓库的URL来指定项目模板，例如：\n",
    "```\n",
    "cookiecutter https://github.com/audreyr/cookiecutter-pypackage.git\n",
    "```"
   ]
  },
  {
   "cell_type": "markdown",
   "metadata": {
    "slideshow": {
     "slide_type": "slide"
    }
   },
   "source": [
    "实际上，还是会从git仓库克隆项目模板到特定目录`~/.cookiecutters/`，然后再来创建项目。"
   ]
  },
  {
   "cell_type": "markdown",
   "metadata": {
    "slideshow": {
     "slide_type": "slide"
    }
   },
   "source": [
    "### 项目创建用法\n",
    "\n",
    "使用`cookiecutter cookiecutter-pypackage` 创建项目时，有提示如下操作"
   ]
  },
  {
   "cell_type": "markdown",
   "metadata": {
    "slideshow": {
     "slide_type": "slide"
    }
   },
   "source": [
    "**用户全名**\n",
    "\n",
    "```\n",
    "full_name [Audrey Roy Greenfeld]:\n",
    "```"
   ]
  },
  {
   "cell_type": "markdown",
   "metadata": {
    "slideshow": {
     "slide_type": "-"
    }
   },
   "source": [
    "**用户邮箱**\n",
    "\n",
    "```\n",
    "email [audreyr@example.com]:\n",
    "```"
   ]
  },
  {
   "cell_type": "markdown",
   "metadata": {
    "slideshow": {
     "slide_type": "-"
    }
   },
   "source": [
    "**github用户名**\n",
    "\n",
    "```\n",
    "github_username [audreyr]:\n",
    "```"
   ]
  },
  {
   "cell_type": "markdown",
   "metadata": {
    "slideshow": {
     "slide_type": "slide"
    }
   },
   "source": [
    "**项目名**\n",
    "\n",
    "```\n",
    "project_name [Python Boilerplate]:\n",
    "```"
   ]
  },
  {
   "cell_type": "markdown",
   "metadata": {
    "slideshow": {
     "slide_type": "-"
    }
   },
   "source": [
    "**项目简称**\n",
    "\n",
    "```\n",
    "project_slug [python_boilerplate]:\n",
    "```"
   ]
  },
  {
   "cell_type": "markdown",
   "metadata": {
    "slideshow": {
     "slide_type": "-"
    }
   },
   "source": [
    "**项目简介**\n",
    "\n",
    "```\n",
    "project_short_description [Python Boilerplate contains all the boilerplate you need to create a Python package.]:\n",
    "```"
   ]
  },
  {
   "cell_type": "markdown",
   "metadata": {
    "slideshow": {
     "slide_type": "slide"
    }
   },
   "source": [
    "**pypi 用户**\n",
    "\n",
    "```\n",
    "pypi_username [audreyr]:\n",
    "```"
   ]
  },
  {
   "cell_type": "markdown",
   "metadata": {
    "slideshow": {
     "slide_type": "-"
    }
   },
   "source": [
    "**项目初始版本**\n",
    "\n",
    "```\n",
    "version [0.1.0]:\n",
    "```"
   ]
  },
  {
   "cell_type": "markdown",
   "metadata": {
    "slideshow": {
     "slide_type": "slide"
    }
   },
   "source": [
    "**单元测试pytest**\n",
    "\n",
    "```\n",
    "use_pytest [n]:\n",
    "```"
   ]
  },
  {
   "cell_type": "markdown",
   "metadata": {
    "slideshow": {
     "slide_type": "-"
    }
   },
   "source": [
    "**travis集成部署**\n",
    "\n",
    "```\n",
    "use_pypi_deployment_with_travis [y]:\n",
    "```"
   ]
  },
  {
   "cell_type": "markdown",
   "metadata": {
    "slideshow": {
     "slide_type": "-"
    }
   },
   "source": [
    "**pyup**\n",
    "\n",
    "```\n",
    "add_pyup_badge [n]:\n",
    "```"
   ]
  },
  {
   "cell_type": "markdown",
   "metadata": {
    "slideshow": {
     "slide_type": "slide"
    }
   },
   "source": [
    "**命令行接口**\n",
    "\n",
    "```\n",
    "Select command_line_interface:\n",
    "1 - Click\n",
    "2 - No command-line interface\n",
    "Choose from 1, 2 [1]:```"
   ]
  },
  {
   "cell_type": "markdown",
   "metadata": {
    "slideshow": {
     "slide_type": "-"
    }
   },
   "source": [
    "**创建用户文件**\n",
    "\n",
    "```\n",
    "create_author_file [y]: n\n",
    "```"
   ]
  },
  {
   "cell_type": "markdown",
   "metadata": {
    "slideshow": {
     "slide_type": "slide"
    }
   },
   "source": [
    "**代码版权**\n",
    "\n",
    "```\n",
    "Select open_source_license:\n",
    "1 - MIT license\n",
    "2 - BSD license\n",
    "3 - ISC license\n",
    "4 - Apache Software License 2.0\n",
    "5 - GNU General Public License v3\n",
    "6 - Not open source\n",
    "Choose from 1, 2, 3, 4, 5, 6 [1]:\n",
    "```"
   ]
  },
  {
   "cell_type": "markdown",
   "metadata": {
    "slideshow": {
     "slide_type": "slide"
    }
   },
   "source": [
    "### 项目框架\n",
    "\n",
    "项目创建完毕后，目录架构如下所示：\n",
    "\n",
    "```\n",
    "python_boilerplate\n",
    "├── CONTRIBUTING.rst\n",
    "├── docs\n",
    "│   ├── conf.py\n",
    "│   ├── contributing.rst\n",
    "│   ├── history.rst\n",
    "│   ├── index.rst\n",
    "│   ├── installation.rst\n",
    "│   ├── make.bat\n",
    "│   ├── Makefile\n",
    "│   ├── readme.rst\n",
    "│   └── usage.rst\n",
    "├── HISTORY.rst\n",
    "├── LICENSE\n",
    "├── Makefile\n",
    "├── MANIFEST.in\n",
    "├── python_boilerplate\n",
    "│   ├── __init__.py\n",
    "│   └── python_boilerplate.py\n",
    "├── README.rst\n",
    "├── requirements_dev.txt\n",
    "├── setup.cfg\n",
    "├── setup.py\n",
    "├── tests\n",
    "│   ├── __init__.py\n",
    "│   └── test_python_boilerplate.py\n",
    "└── tox.ini\n",
    "\n",
    "3 directories, 23 files\n",
    "```"
   ]
  },
  {
   "cell_type": "markdown",
   "metadata": {
    "slideshow": {
     "slide_type": "slide"
    }
   },
   "source": [
    "其中：\n",
    "- `python_boilerplate`为源代码所在目录\n",
    "- `tests`为测试代码所在目录\n",
    "- `docs`为文档所在目录"
   ]
  },
  {
   "cell_type": "markdown",
   "metadata": {
    "slideshow": {
     "slide_type": "slide"
    }
   },
   "source": [
    "## 定制项目模板\n",
    "\n",
    "对脚手架`cookiecutter`来说，目前有很多Python项目模板可供使用，例如`cookiecutter-pypackage`。在模板基础上进行简单修改，就可以快捷创建符合自己习惯的Python项目。"
   ]
  },
  {
   "cell_type": "markdown",
   "metadata": {
    "slideshow": {
     "slide_type": "slide"
    }
   },
   "source": [
    "### `cookiecutter.json`\n",
    "\n",
    "在模板`cookiecutter-pypackage`目录中，有一个`cookiecutter.json`文件，是JSON格式，包含的信息创建项目时提示及缺省值。"
   ]
  },
  {
   "cell_type": "markdown",
   "metadata": {
    "slideshow": {
     "slide_type": "slide"
    }
   },
   "source": [
    "```json\n",
    "{\n",
    "  \"full_name\": \"Audrey Roy Greenfeld\",\n",
    "  \"email\": \"audreyr@example.com\",\n",
    "  \"github_username\": \"audreyr\",\n",
    "  \"project_name\": \"Python Boilerplate\",\n",
    "  \"project_slug\": \"{{ cookiecutter.project_name.lower().replace(' ', '_').replace('-', '_') }}\",\n",
    "  \"project_short_description\": \"Python Boilerplate contains all the boilerplate you need to create a Python package.\",\n",
    "  \"pypi_username\": \"{{ cookiecutter.github_username }}\",\n",
    "  \"version\": \"0.1.0\",\n",
    "  \"use_pytest\": \"n\",\n",
    "  \"use_pypi_deployment_with_travis\": \"y\",\n",
    "  \"add_pyup_badge\": \"n\",\n",
    "  \"command_line_interface\": [\"Click\", \"No command-line interface\"],\n",
    "  \"create_author_file\": \"y\",\n",
    "  \"open_source_license\": [\"MIT license\", \"BSD license\", \"ISC license\", \"Apache Software License 2.0\", \"GNU General Public License v3\", \"Not open source\"]\n",
    "}\n",
    "```"
   ]
  },
  {
   "cell_type": "markdown",
   "metadata": {
    "slideshow": {
     "slide_type": "slide"
    }
   },
   "source": [
    "可以进行修改，符合自己需求："
   ]
  },
  {
   "cell_type": "code",
   "execution_count": 17,
   "metadata": {
    "slideshow": {
     "slide_type": "-"
    }
   },
   "outputs": [
    {
     "name": "stdout",
     "output_type": "stream",
     "text": [
      "Overwriting cookiecutter.json\n"
     ]
    }
   ],
   "source": [
    "%%writefile cookiecutter.json\n",
    "{\n",
    "  \"full_name\": \"Wang Weihua\",\n",
    "  \"email\": \"whwang@isciencehub.com\",\n",
    "  \"github_username\": \"whwang\",\n",
    "  \"project_name\": \"Python Package\",\n",
    "  \"project_slug\": \"{{ cookiecutter.project_name.lower().replace(' ', '_').replace('-', '_') }}\",\n",
    "  \"project_short_description\": \"Create a Python package.\",\n",
    "  \"pypi_username\": \"{{ cookiecutter.github_username }}\",\n",
    "  \"version\": \"0.1.0\",\n",
    "  \"use_pytest\": \"y\",\n",
    "  \"use_pypi_deployment_with_travis\": \"y\",\n",
    "  \"add_pyup_badge\": \"n\",\n",
    "  \"command_line_interface\": [\"No command-line interface\", \"Click\"],\n",
    "  \"create_author_file\": \"n\",\n",
    "  \"open_source_license\": [\"Not open source\", \"MIT license\", \"BSD license\", \"ISC license\", \"Apache Software License 2.0\", \"GNU General Public License v3\"]\n",
    "}\n"
   ]
  },
  {
   "cell_type": "markdown",
   "metadata": {
    "slideshow": {
     "slide_type": "slide"
    }
   },
   "source": [
    "可以把自己定制的项目模板上传到github或其它git仓库，作为团队或个人使用的项目模板。"
   ]
  },
  {
   "cell_type": "markdown",
   "metadata": {
    "slideshow": {
     "slide_type": "slide"
    }
   },
   "source": [
    "## 项目示例\n",
    "\n",
    "下面我们将通过一个简单的项目来演示Python软件开发过程。"
   ]
  },
  {
   "cell_type": "markdown",
   "metadata": {
    "slideshow": {
     "slide_type": "slide"
    }
   },
   "source": [
    "### 创建项目\n",
    "\n",
    "使用`cookiecutter`创建一个项目。\n",
    "```\n",
    "cookiecutter cookiecutter-pypackage\n",
    "```"
   ]
  },
  {
   "cell_type": "markdown",
   "metadata": {
    "slideshow": {
     "slide_type": "slide"
    }
   },
   "source": [
    "```\n",
    "$ cookiecutter cookiecutter-pypackage\n",
    "full_name [Wang Weihua]:\n",
    "email [whwang@isciencehub.com]:\n",
    "github_username [wangweihua]:\n",
    "project_name [Python Package]: A Simple Python Package\n",
    "project_slug [a_simple_python_package]: foobar\n",
    "project_short_description [Create a Python package.]: A simple python package for cookiecutter\n",
    "pypi_username [wangweihua]:\n",
    "version [0.1.0]:\n",
    "use_pytest [y]:\n",
    "use_pypi_deployment_with_travis [y]:\n",
    "add_pyup_badge [n]:\n",
    "Select command_line_interface:\n",
    "1 - No command-line interface\n",
    "2 - Click\n",
    "Choose from 1, 2 [1]:\n",
    "create_author_file [n]:\n",
    "Select open_source_license:\n",
    "1 - Not open source\n",
    "2 - MIT license\n",
    "3 - BSD license\n",
    "4 - ISC license\n",
    "5 - Apache Software License 2.0\n",
    "6 - GNU General Public License v3\n",
    "Choose from 1, 2, 3, 4, 5, 6 [1]:\n",
    "```"
   ]
  },
  {
   "cell_type": "markdown",
   "metadata": {
    "slideshow": {
     "slide_type": "slide"
    }
   },
   "source": [
    "### 创建git仓库\n",
    "\n",
    "使用git来进行版本控制管理。"
   ]
  },
  {
   "cell_type": "markdown",
   "metadata": {
    "slideshow": {
     "slide_type": "slide"
    }
   },
   "source": [
    "首先在`github`创建仓库`foobar`，作为项目的远程仓库。"
   ]
  },
  {
   "cell_type": "markdown",
   "metadata": {
    "slideshow": {
     "slide_type": "slide"
    }
   },
   "source": [
    "切换到项目目录\n",
    "```\n",
    "cd foobar\n",
    "```"
   ]
  },
  {
   "cell_type": "markdown",
   "metadata": {
    "slideshow": {
     "slide_type": "-"
    }
   },
   "source": [
    "创建仓库，并添加文件，然后提交：\n",
    "```\n",
    "git init \n",
    "git add .\n",
    "git commit -m \"Initial skeleton.\"\n",
    "```"
   ]
  },
  {
   "cell_type": "markdown",
   "metadata": {
    "slideshow": {
     "slide_type": "slide"
    }
   },
   "source": [
    "添加github服务器的远程仓库，并推送到远程仓库：\n",
    "```sh\n",
    "git remote add origin https://github.com/wangweihua/foobar.git\n",
    "git push -u origin master\n",
    "```"
   ]
  },
  {
   "cell_type": "markdown",
   "metadata": {
    "slideshow": {
     "slide_type": "slide"
    }
   },
   "source": [
    "### 创建虚拟环境\n",
    "\n",
    "`cookiecutter-pypackage`项目可以使用`virtualenv`作为虚拟环境管理工具。"
   ]
  },
  {
   "cell_type": "markdown",
   "metadata": {},
   "source": [
    "#### 使用`virtualenv`创建虚拟环境"
   ]
  },
  {
   "cell_type": "markdown",
   "metadata": {
    "slideshow": {
     "slide_type": "slide"
    }
   },
   "source": [
    "使用`virtualenv`创建虚拟环境\n",
    "```\n",
    "virtualenv ~/.virtualenvs/foobar\n",
    "```"
   ]
  },
  {
   "cell_type": "markdown",
   "metadata": {
    "slideshow": {
     "slide_type": "-"
    }
   },
   "source": [
    "激活虚拟环境：\n",
    "```\n",
    "source ~/.virtualenvs/foobar/bin/activate\n",
    "```"
   ]
  },
  {
   "cell_type": "markdown",
   "metadata": {
    "slideshow": {
     "slide_type": "slide"
    }
   },
   "source": [
    "然后安装软件开发所需要的模块：\n",
    "```\n",
    "pip install -r requirements_dev.txt\n",
    "```"
   ]
  },
  {
   "cell_type": "markdown",
   "metadata": {
    "slideshow": {
     "slide_type": "slide"
    }
   },
   "source": [
    "#### 使用`pipenv`创建虚拟环境\n",
    "\n",
    "可以使用`pipenv`工具来创建虚拟环境。\n",
    "```\n",
    "pipenv install --pypi-mirror https://pypi.tuna.tsinghua.edu.cn/simple\n",
    "```"
   ]
  },
  {
   "cell_type": "markdown",
   "metadata": {
    "slideshow": {
     "slide_type": "-"
    }
   },
   "source": [
    "会创建两个文件：\n",
    "```\n",
    "Pipfile\n",
    "Pipfile.lock\n",
    "```"
   ]
  },
  {
   "cell_type": "markdown",
   "metadata": {
    "slideshow": {
     "slide_type": "slide"
    }
   },
   "source": [
    "安装开发环境模块：\n",
    "```\n",
    "pipenv install --dev -r requirements_dev.txt\n",
    "```"
   ]
  },
  {
   "cell_type": "markdown",
   "metadata": {
    "slideshow": {
     "slide_type": "slide"
    }
   },
   "source": [
    "把pipenv的管理文件添加到仓库，并提交。\n",
    "```\n",
    "git add Pipfile Pipfile.lock\n",
    "git ci -m \"add virtualenv with pipenv\"\n",
    "```"
   ]
  },
  {
   "cell_type": "markdown",
   "metadata": {
    "slideshow": {
     "slide_type": "slide"
    }
   },
   "source": [
    "### 使用PyCharm环境\n",
    "\n",
    "使用PyCharm开发环境来创建foobar项目。"
   ]
  },
  {
   "cell_type": "markdown",
   "metadata": {
    "slideshow": {
     "slide_type": "-"
    }
   },
   "source": [
    "设置项目解释器，更改为Pipenv虚拟环境。"
   ]
  },
  {
   "cell_type": "markdown",
   "metadata": {
    "slideshow": {
     "slide_type": "slide"
    }
   },
   "source": [
    "需要注意的是PyCharm环境创建项目后，会创建`.idea`目录。是否在`.gitignore`文件中添加该目录，还存在不同意见，视乎个人情况决定。"
   ]
  },
  {
   "cell_type": "markdown",
   "metadata": {
    "slideshow": {
     "slide_type": "slide"
    }
   },
   "source": [
    "### 编写代码\n",
    "\n",
    "然后开始编写`foobar.py`文件。"
   ]
  },
  {
   "cell_type": "code",
   "execution_count": 15,
   "metadata": {
    "slideshow": {
     "slide_type": "slide"
    }
   },
   "outputs": [
    {
     "name": "stdout",
     "output_type": "stream",
     "text": [
      "Overwriting foobar.py\n"
     ]
    }
   ],
   "source": [
    "%%writefile foobar.py\n",
    "#!/usr/bin/env python\n",
    "# -*- coding: utf-8 -*-\n",
    "\n",
    "\n",
    "def multiply(a, b):\n",
    "    \"\"\"return a * b\n",
    "    \"\"\"\n",
    "    return a * b\n",
    "    \n",
    "    \n",
    "class Dog(object):\n",
    "    \"\"\"class for Dog\"\"\"\n",
    "    kind = 'canine'\n",
    "\n",
    "    def __init__(self, name):\n",
    "        self.name = name\n",
    "        self.tricks = []\n",
    "\n",
    "    def add_trick(self, trick):\n",
    "        \"\"\"add a trick\"\"\"\n",
    "        self.tricks.append(trick)    "
   ]
  },
  {
   "cell_type": "markdown",
   "metadata": {
    "slideshow": {
     "slide_type": "slide"
    }
   },
   "source": [
    "### 编码风格\n",
    "\n",
    "检查代码编程风格，支持Pep8标准。"
   ]
  },
  {
   "cell_type": "markdown",
   "metadata": {
    "slideshow": {
     "slide_type": "slide"
    }
   },
   "source": [
    "使用PyCharm的代码检查功能，检查右边框是否有警告错误"
   ]
  },
  {
   "cell_type": "markdown",
   "metadata": {
    "slideshow": {
     "slide_type": "-"
    }
   },
   "source": [
    "使用项目的Makefile文件，运行：\n",
    "```\n",
    "make lint\n",
    "```"
   ]
  },
  {
   "cell_type": "markdown",
   "metadata": {
    "slideshow": {
     "slide_type": "slide"
    }
   },
   "source": [
    "### 调试\n",
    "\n",
    "如果代码出现问题，使用PyCharm的调试功能进行调试。"
   ]
  },
  {
   "cell_type": "markdown",
   "metadata": {
    "slideshow": {
     "slide_type": "slide"
    }
   },
   "source": [
    "### 测试\n",
    "\n",
    "tests目录下面存放的是测试代码，在`test_foobr.py`文件中，编写如下代码"
   ]
  },
  {
   "cell_type": "markdown",
   "metadata": {},
   "source": [
    "```\n",
    "#!/usr/bin/env python\n",
    "# -*- coding: utf-8 -*-\n",
    "\"\"\"Tests for `foobar` package.\"\"\"\n",
    "import pytest\n",
    "from foobar.foobar import multiply, Dog\n",
    "\n",
    "\n",
    "def test_multiply_3_3():\n",
    "    assert multiply(3, 3) == 9\n",
    "\n",
    "\n",
    "def test_multiply_x_3():\n",
    "    assert multiply('x', 3) == 'xxx'\n",
    "\n",
    "\n",
    "def test_multiply_list_3():\n",
    "    res = multiply(['a', 'b'], 3)\n",
    "    assert res == ['a', 'b', 'a', 'b', 'a', 'b']\n",
    "\n",
    "\n",
    "@pytest.fixture()\n",
    "def twodog():\n",
    "    fido = Dog('Fido')\n",
    "    buddy = Dog('Buddy')\n",
    "    return fido, buddy\n",
    "\n",
    "\n",
    "class TestDog(object):\n",
    "    \"\"\"test case of function multiply\"\"\"\n",
    "\n",
    "    def test_name(self, twodog):\n",
    "        fido, buddy = twodog\n",
    "        assert fido.name == 'Fido'\n",
    "        assert fido.tricks == []\n",
    "\n",
    "    def test_add_trick(self, twodog):\n",
    "        fido, buddy = twodog\n",
    "        fido.add_trick('roll over')\n",
    "        assert 'roll over' in fido.tricks\n",
    "\n",
    "    def test_add_trick_02(self, twodog):\n",
    "        fido, buddy = twodog\n",
    "        fido.add_trick('play dead')\n",
    "        buddy.add_trick('play dead')\n",
    "        assert 'roll over' in fido.tricks\n",
    "        assert 'play dead' in fido.tricks\n",
    "        assert 'play dead' in buddy.tricks\n",
    "```"
   ]
  },
  {
   "cell_type": "markdown",
   "metadata": {
    "slideshow": {
     "slide_type": "slide"
    }
   },
   "source": [
    "使用快捷键`Ctrl+Shift+F10`运行测试代码，查看测试结果。"
   ]
  },
  {
   "cell_type": "markdown",
   "metadata": {
    "slideshow": {
     "slide_type": "slide"
    }
   },
   "source": [
    "使用如下方式运行测试：\n",
    "```\n",
    "make test\n",
    "```\n",
    "\n",
    "```\n",
    "python setup.py test\n",
    "```"
   ]
  },
  {
   "cell_type": "markdown",
   "metadata": {
    "slideshow": {
     "slide_type": "slide"
    }
   },
   "source": [
    "### 优化\n",
    "\n",
    "使用`cProfile`编写测试脚本。"
   ]
  },
  {
   "cell_type": "markdown",
   "metadata": {
    "slideshow": {
     "slide_type": "slide"
    }
   },
   "source": [
    "### 扩展\n",
    "\n",
    "使用`Cython`编写脚本转换，创建二进制模块。"
   ]
  },
  {
   "cell_type": "markdown",
   "metadata": {
    "slideshow": {
     "slide_type": "slide"
    }
   },
   "source": [
    "### 文档\n",
    "\n",
    "使用sphinx来管理文档。"
   ]
  },
  {
   "cell_type": "markdown",
   "metadata": {
    "slideshow": {
     "slide_type": "slide"
    }
   },
   "source": [
    "### 打包与上传\n",
    "\n",
    "程序编写完毕后，可以打包：\n",
    "```\n",
    "python setup.py sdist\n",
    "python setup.py bdist_wheel\n",
    "```"
   ]
  },
  {
   "cell_type": "markdown",
   "metadata": {
    "slideshow": {
     "slide_type": "-"
    }
   },
   "source": [
    "或者使用\n",
    "```\n",
    "make dist\n",
    "```"
   ]
  },
  {
   "cell_type": "markdown",
   "metadata": {
    "slideshow": {
     "slide_type": "slide"
    }
   },
   "source": [
    "会创建如下文件：\n",
    "```\n",
    "$ tree dist\n",
    "dist\n",
    "├── foobar-0.1.0-py2.py3-none-any.whl\n",
    "└── foobar-0.1.0.tar.gz\n",
    "```"
   ]
  },
  {
   "cell_type": "markdown",
   "metadata": {
    "slideshow": {
     "slide_type": "slide"
    }
   },
   "source": [
    "自己编写的程序或模块可以打包上传到PyPi网站，需要实现在PyPi网站注册用户名。\n",
    "```\n",
    "make release\n",
    "```"
   ]
  },
  {
   "cell_type": "markdown",
   "metadata": {
    "slideshow": {
     "slide_type": "-"
    }
   },
   "source": [
    "打包上传实际上使用了`twine`包发布工具。"
   ]
  },
  {
   "cell_type": "markdown",
   "metadata": {
    "slideshow": {
     "slide_type": "-"
    }
   },
   "source": [
    "需要注意的是，上传的包不能与PyPi的包重名。"
   ]
  },
  {
   "cell_type": "markdown",
   "metadata": {
    "slideshow": {
     "slide_type": "slide"
    }
   },
   "source": [
    "## 小结\n",
    "\n",
    "Python项目开发多了，可以进一步定制项目模块。"
   ]
  }
 ],
 "metadata": {
  "celltoolbar": "Slideshow",
  "kernelspec": {
   "display_name": "Python 3",
   "language": "python",
   "name": "python3"
  },
  "language_info": {
   "codemirror_mode": {
    "name": "ipython",
    "version": 3
   },
   "file_extension": ".py",
   "mimetype": "text/x-python",
   "name": "python",
   "nbconvert_exporter": "python",
   "pygments_lexer": "ipython3",
   "version": "3.6.4"
  },
  "toc": {
   "base_numbering": 1,
   "nav_menu": {},
   "number_sections": true,
   "sideBar": true,
   "skip_h1_title": false,
   "title_cell": "Table of Contents",
   "title_sidebar": "Contents",
   "toc_cell": false,
   "toc_position": {
    "height": "calc(100% - 180px)",
    "left": "10px",
    "top": "150px",
    "width": "165px"
   },
   "toc_section_display": true,
   "toc_window_display": false
  }
 },
 "nbformat": 4,
 "nbformat_minor": 2
}
