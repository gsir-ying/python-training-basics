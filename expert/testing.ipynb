{
 "cells": [
  {
   "cell_type": "markdown",
   "metadata": {
    "slideshow": {
     "slide_type": "slide"
    }
   },
   "source": [
    "# Python测试\n",
    "\n",
    "**王伟华**"
   ]
  },
  {
   "cell_type": "markdown",
   "metadata": {
    "slideshow": {
     "slide_type": "slide"
    }
   },
   "source": [
    "可能大家都听过华家三兄弟的故事。华佗医术高超，名扬四海，治好了很多癌症患者，世人对其医术赞叹不已。华佗却感叹说，“其实我的两位哥哥医术更高！”\n",
    "\n",
    "华佗大哥超凡入圣，常常在肺癌和肺炎都尚未发生，患者才咳嗽了几声时，就已经察觉到问题，控制病情的发展，断了这咳嗽的根，使之连变成肺炎的机会都没有。\n",
    "\n",
    "华佗二哥医术精良，常常在肺癌还处在肺炎阶段就已经做出了确切的诊断，知道这个普通的肺炎存在着演变成肺癌的可能性，并在病情恶化之前予以治愈。"
   ]
  },
  {
   "cell_type": "markdown",
   "metadata": {
    "slideshow": {
     "slide_type": "slide"
    }
   },
   "source": [
    "人非圣贤孰能无过，人类编写的软件自然也会犯错。然而在编程开发中会有高下之分，也会有华家三兄弟类似的三种境界：\n",
    "- 如华佗一样，在软件出现故障后，能调试分析，定位故障，并解决问题；\n",
    "- 如华家二哥一样，在软件发布之前，进行软件测试，预防软件出错；\n",
    "- 如华家大哥一样，对系统理解深刻，对语言洞察秋毫，能编写安全代码，避免软件错误。"
   ]
  },
  {
   "cell_type": "markdown",
   "metadata": {
    "slideshow": {
     "slide_type": "slide"
    }
   },
   "source": [
    "在软件开发中，三种情况实际上常常交缠在一起，需要兼具这三种能力。在前面章节介绍过软件调试，在本章则会介绍软件测试。至于软件开发的最高境界，则需要不断学习，随着经验提高，安全编码水平逐渐提升，是软件程序员需要终其一生去努力追求。"
   ]
  },
  {
   "cell_type": "markdown",
   "metadata": {
    "slideshow": {
     "slide_type": "slide"
    }
   },
   "source": [
    "## 软件测试的分类\n",
    "\n",
    "软件测试的根本目的是减少和避免软件错误。软件错误包括语法错误、运行错误和语义错误，软件测试主要解决的是语义错误及其引发的运行错误。软件测试的概念名词众多，实际上都是从不同的角度对软件测试描述而已。这里通过介绍软件测试的分类，来了解这些软件测试名词。"
   ]
  },
  {
   "cell_type": "markdown",
   "metadata": {
    "slideshow": {
     "slide_type": "slide"
    }
   },
   "source": [
    "### 从软件项目流程来划分\n",
    "\n",
    "一个软件项目流程简单可以划分为：\n",
    "- 需求分析\n",
    "- 设计分析\n",
    "- 编码和调试\n",
    "- 测试与联调\n",
    "- 程序提交\n",
    "- 软件维护\n",
    "- 升级与报废"
   ]
  },
  {
   "cell_type": "markdown",
   "metadata": {
    "slideshow": {
     "slide_type": "slide"
    }
   },
   "source": [
    "其中的测试与联调阶段，按照从小模块到大系统的测试可以划分为：\n",
    "- 单元测试，对程序中的函数、类或具有独立功能代码段进行测试的过程。\n",
    "- 集成测试，对单元模块组成的系统或子系统进行测试。重点是检查模块之间的接口是否正确。\n",
    "- 系统测试，对整个软件产品进行测试，验证软件系统是否满足需求规格。\n",
    "- 验收测试，交付客户之前的最后一个测试阶段，向客户展示软件系统已经满足用户要求，已经准备就绪"
   ]
  },
  {
   "cell_type": "markdown",
   "metadata": {
    "slideshow": {
     "slide_type": "slide"
    }
   },
   "source": [
    "### 从功能与性能来划分\n",
    "\n",
    "软件具有不同的功能，还具有一定的性能。相应的测试可以分为：\n",
    "- 功能测试，检查功能是否符合用户的需求\n",
    "- 性能测试，对软件系统各项指标进行测试，通常包括时间性能（CPU），空间性能（内存）。"
   ]
  },
  {
   "cell_type": "markdown",
   "metadata": {
    "slideshow": {
     "slide_type": "slide"
    }
   },
   "source": [
    "### 从软件代码介入程度来划分\n",
    "\n",
    "根据软件代码介入程度或者可见程度，可以分为：\n",
    "- 黑盒测试，把被测软件当做黑盒子，只关心软件的输入与输出。\n",
    "- 白盒测试，要测试分析软件中的源代码、逻辑结构和程序执行结果。\n",
    "- 灰盒测试，介于二者之间的一种测试。"
   ]
  },
  {
   "cell_type": "markdown",
   "metadata": {
    "slideshow": {
     "slide_type": "slide"
    }
   },
   "source": [
    "### 从自动化程度来划分\n",
    "\n",
    "根据软件测试工作的自动化程度，软件测试可以划分为：\n",
    "- 手工测试，依赖测试人员手工操作去执行测试用例，查看返回结果。\n",
    "- 自动化测试，使用自动化测试工具，变手工为自动化操作。"
   ]
  },
  {
   "cell_type": "markdown",
   "metadata": {
    "slideshow": {
     "slide_type": "slide"
    }
   },
   "source": [
    "## 分层的自动化测试\n",
    "\n",
    "软件开发自上而下可以分为：\n",
    "- 用户界面（UI），面向用户，用户能够看得到的程序，很多是图形界面；\n",
    "- 服务(Service），模块级别的接口与服务\n",
    "- 单元（Unit），软件的基本单元，例如函数、类等。\n",
    "\n",
    "对应的软件测试也可以划分为：用户界面的测试、服务层的测试、单元测试。"
   ]
  },
  {
   "cell_type": "markdown",
   "metadata": {
    "slideshow": {
     "slide_type": "slide"
    }
   },
   "source": [
    "测试金字塔的理念就是:\n",
    "- 低级别的单元测试要多些，大约可站70%-80%；\n",
    "- 用户界面非常容易改变，UI测试要少些，大约可站%5-10%；\n",
    "- 服务层面测试则居中，约站20%。"
   ]
  },
  {
   "cell_type": "markdown",
   "metadata": {
    "slideshow": {
     "slide_type": "slide"
    }
   },
   "source": [
    "![测试金字塔](assets/testing_pyramid.jpg)"
   ]
  },
  {
   "cell_type": "markdown",
   "metadata": {
    "slideshow": {
     "slide_type": "slide"
    }
   },
   "source": [
    "## 自动化测试框架工具\n",
    "\n",
    "Python中的自动化测试框架有很多，常用的单元测试框架工具包括如下：\n",
    "- doctest\n",
    "- unittest\n",
    "- pytest\n",
    "- nose"
   ]
  },
  {
   "cell_type": "markdown",
   "metadata": {
    "slideshow": {
     "slide_type": "slide"
    }
   },
   "source": [
    "UI层面，特别是WEB开发常用的测试框架工具包括：\n",
    "- UFT\n",
    "- Selenium"
   ]
  },
  {
   "cell_type": "markdown",
   "metadata": {
    "slideshow": {
     "slide_type": "slide"
    }
   },
   "source": [
    "**为什么要使用单元测试框架呢？**\n",
    "\n",
    "在单元测试中，需要对程序中的基本功能单元，如函数、类或类的方法，进行逐一测试。通常对每个函数都需要编写一个或多个测试用例；那么对于一个程序来说，就会有很多测试用例，可能上百上千。"
   ]
  },
  {
   "cell_type": "markdown",
   "metadata": {
    "slideshow": {
     "slide_type": "slide"
    }
   },
   "source": [
    "当测试用例多到一定程度，就需要考虑测试用例的规范与组织。单元测试框架应当具备如下功能：\n",
    "- 让编写测试用例更为简单。测试用例通常需要将实际结果与预期结果进行比较，称为断言。一个测试框架会提供丰富的断言方法，简化测试用例编写；\n",
    "- 让组织管理测试用例更快捷。提高测试用例的可扩展与可维护性，不论测试用例多少均能轻松应对；\n",
    "- 让运行测试自动化。测试失败应提示失败原因，测试完毕应该提供丰富的测试总结。"
   ]
  },
  {
   "cell_type": "markdown",
   "metadata": {
    "slideshow": {
     "slide_type": "slide"
    }
   },
   "source": [
    "本章节主要介绍如下测试工具：\n",
    "- [doctest](doctest.ipynb)\n",
    "- [unittest](unittest.ipynb)\n",
    "- [pytest](pytest.ipynb)\n",
    "- [pycharm测试](pycharm_test.ipynb)"
   ]
  },
  {
   "cell_type": "markdown",
   "metadata": {
    "slideshow": {
     "slide_type": "slide"
    }
   },
   "source": [
    "## 持续集成工具\n",
    "\n",
    "在互联网软件的高速开发，使得形成了持续集成的开发实践。也就是把软件开发的过程，从代码的提交、单元测试、构建、系统测试到部署发布完全实现自动化。"
   ]
  },
  {
   "cell_type": "markdown",
   "metadata": {
    "slideshow": {
     "slide_type": "slide"
    }
   },
   "source": [
    "在持续集成有如下优势好处：\n",
    "- 减少风险\n",
    "- 减少重复次数\n",
    "- 可部署软件（Anywhere，Anytime）\n",
    "- 增项项目的可见性\n",
    "- 建立团队对开发产品的信心"
   ]
  },
  {
   "cell_type": "markdown",
   "metadata": {
    "slideshow": {
     "slide_type": "slide"
    }
   },
   "source": [
    "[Jenkins](https://jenkins.io/) 是一个开源项目，提供了一种易于使用的持续集成系统。"
   ]
  },
  {
   "cell_type": "markdown",
   "metadata": {
    "slideshow": {
     "slide_type": "slide"
    }
   },
   "source": [
    "## 编码与测试的辩证关系\n",
    "\n",
    "当前国内评价一个程序员价值，还是依赖程序员的产出，也就是编码的工作量。测试的目的是为了减少编码中的错误，减少调试除错以及维护的时间，通过提高软件质量而提高开发效率。"
   ]
  },
  {
   "cell_type": "markdown",
   "metadata": {
    "slideshow": {
     "slide_type": "slide"
    }
   },
   "source": [
    "从长远看，写好测试时会提高开发效率的；从短期看，测试有时候多花费时间。有时候出活，抢时间是第一位的，那么就不要为测试而测试。对这个问题要辩证地看待，仁者见仁智者见智。"
   ]
  },
  {
   "cell_type": "markdown",
   "metadata": {
    "slideshow": {
     "slide_type": "slide"
    }
   },
   "source": [
    "## 小结\n",
    "\n",
    "Python测试框架层出不穷，要学会保持定力，学一个精通即可。"
   ]
  }
 ],
 "metadata": {
  "celltoolbar": "Slideshow",
  "kernelspec": {
   "display_name": "Python 3",
   "language": "python",
   "name": "python3"
  },
  "language_info": {
   "codemirror_mode": {
    "name": "ipython",
    "version": 3
   },
   "file_extension": ".py",
   "mimetype": "text/x-python",
   "name": "python",
   "nbconvert_exporter": "python",
   "pygments_lexer": "ipython3",
   "version": "3.6.4"
  },
  "toc": {
   "base_numbering": 1,
   "nav_menu": {},
   "number_sections": true,
   "sideBar": true,
   "skip_h1_title": false,
   "title_cell": "Table of Contents",
   "title_sidebar": "Contents",
   "toc_cell": false,
   "toc_position": {},
   "toc_section_display": true,
   "toc_window_display": false
  }
 },
 "nbformat": 4,
 "nbformat_minor": 2
}
