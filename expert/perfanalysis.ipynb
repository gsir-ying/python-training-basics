{
 "cells": [
  {
   "cell_type": "markdown",
   "metadata": {
    "slideshow": {
     "slide_type": "slide"
    }
   },
   "source": [
    "# Python性能分析\n",
    "\n",
    "> 过早优化是万恶之源（Don’t Cut Yourself: Code Optimization as a Double-Edged Sword.）   \n",
    "> 高德纳(Donald Knuth）"
   ]
  },
  {
   "cell_type": "markdown",
   "metadata": {
    "slideshow": {
     "slide_type": "slide"
    }
   },
   "source": [
    "总所周知，奥运会有个著名口号“更快更高更强（Swifter, Higher, Stronger）”，意思是跑得更快、跳得更高、扔得更远。在百米赛跑中，无数运动员为了提高百分之一秒而不断努力奋斗。计算机的最显著特性就是一个“快”字，然而为了把程序运行的更快，或者消耗更少的内存，仍然有无数程序员在努力，新技术新程序层出不穷。"
   ]
  },
  {
   "cell_type": "markdown",
   "metadata": {
    "slideshow": {
     "slide_type": "slide"
    }
   },
   "source": [
    "衡量一个程序性能的重要指标包括：\n",
    "- 运行速度；\n",
    "- 消耗内存。"
   ]
  },
  {
   "cell_type": "markdown",
   "metadata": {
    "slideshow": {
     "slide_type": "slide"
    }
   },
   "source": [
    "作为程序员，写出一个运行的更快与消耗内存更小的程序，傲视群雄，飘飘然，自会油然生出一种天下英雄谁敌手的感觉。就此打住！须知评价一个程序优劣的还有很多标准：\n",
    "- 首要标准是正确。如果优化之后跑的很快，结果不正确，那有何意义？\n",
    "- 随着经济发展，人时远比机时要贵得多，计算机可以24小时运行。如果花了几天时间，让程序从1分钟加速到30秒，未必更有意义。有时候买更贵的计算机是最好的解决方法。\n",
    "- 为了优化，过多使用新技术与过多防范，使得程序复杂性提高，可阅读性下降，最终导致企业运维难度增加、企业成本增加、故障除错难度增加，综合考虑并不划算。"
   ]
  },
  {
   "cell_type": "markdown",
   "metadata": {
    "slideshow": {
     "slide_type": "slide"
    }
   },
   "source": [
    "尽管代码优化有诸多好处，但并不意味着必须进行优化，过早优化可能会适得其反，费时费力不讨好，好心办坏事。"
   ]
  },
  {
   "cell_type": "markdown",
   "metadata": {
    "slideshow": {
     "slide_type": "slide"
    }
   },
   "source": [
    "实际上，大多数情况下，在正确的时候做正确的事情都不会错。那么代码优化何时做怎么做呢？"
   ]
  },
  {
   "cell_type": "markdown",
   "metadata": {
    "slideshow": {
     "slide_type": "slide"
    }
   },
   "source": [
    "首要的是在代码正确工作之前不要做。高德纳提出“过早优化是万恶之源”的主要原因就是，让正确的程序更快，要比让快速的程序正确更容易。"
   ]
  },
  {
   "cell_type": "markdown",
   "metadata": {
    "slideshow": {
     "slide_type": "slide"
    }
   },
   "source": [
    "其次搞清楚是否要优化以及要优化什么？程序运行的慢或者消耗更多内存，是否会导致故障增多、实际生产效率降低，工作人员需要较多等待时间。如果需要优化，要明确优化内容与目的，是加快速度，减少CPU使用率，还是降低内存消耗？"
   ]
  },
  {
   "cell_type": "markdown",
   "metadata": {
    "slideshow": {
     "slide_type": "slide"
    }
   },
   "source": [
    "使用性能分析工具，分析性能优化的瓶颈在哪里。根据程序各个模块对性能影响进行排序，首先解决影响最大的计算模块，然后在处理较小的模块。"
   ]
  },
  {
   "cell_type": "markdown",
   "metadata": {
    "slideshow": {
     "slide_type": "slide"
    }
   },
   "source": [
    "将更多努力与时间花在性能优化关键部位，会事半功倍，钱要花在刀刃上。"
   ]
  },
  {
   "cell_type": "markdown",
   "metadata": {
    "slideshow": {
     "slide_type": "slide"
    }
   },
   "source": [
    "最后，必须承认性能优化不是万能的，也无法优化一切，甚至无法同时优化两个问题，例如速度加快了，资源利用会增加；提高了存储利用率，可能导致计算变慢。需要权衡优化目标，甚至学会接收现实。"
   ]
  },
  {
   "cell_type": "markdown",
   "metadata": {
    "slideshow": {
     "slide_type": "slide"
    }
   },
   "source": [
    "本节介绍常用的Python性能分析工具\n",
    "- `timeit`\n",
    "- `cProfile`\n",
    "- `line_profiler`\n",
    "- `memory_profiler`"
   ]
  },
  {
   "cell_type": "markdown",
   "metadata": {
    "slideshow": {
     "slide_type": "slide"
    }
   },
   "source": [
    "## `timeit`\n",
    "\n",
    "用于调查分析程序代码性能问题的一个常用工具是`timeit`模块，大家已经使用过多次。`timeit`可用于对一小段代码进行计时，也可用于对两个或多个特定函数或方法进行性能比较。"
   ]
  },
  {
   "cell_type": "markdown",
   "metadata": {
    "slideshow": {
     "slide_type": "-"
    }
   },
   "source": [
    "实际上，Jupyter notebook已经提供了模式命令来实现计时功能。"
   ]
  },
  {
   "cell_type": "markdown",
   "metadata": {
    "slideshow": {
     "slide_type": "slide"
    }
   },
   "source": [
    "例如使用元组和列表都可以存储元素，以及访问元素，下面使用`timeit`魔术命令来比对一下"
   ]
  },
  {
   "cell_type": "code",
   "execution_count": 1,
   "metadata": {
    "slideshow": {
     "slide_type": "-"
    }
   },
   "outputs": [
    {
     "name": "stdout",
     "output_type": "stream",
     "text": [
      "320 ns ± 3.63 ns per loop (mean ± std. dev. of 7 runs, 1000000 loops each)\n"
     ]
    }
   ],
   "source": [
    "%%timeit\n",
    "colors = ('red', 'yellow', 'green', 'blue', 'black')\n",
    "x = colors[0] + colors[1] + colors[2] + colors[3] + colors[4]"
   ]
  },
  {
   "cell_type": "code",
   "execution_count": 2,
   "metadata": {
    "slideshow": {
     "slide_type": "-"
    }
   },
   "outputs": [
    {
     "name": "stdout",
     "output_type": "stream",
     "text": [
      "367 ns ± 2.88 ns per loop (mean ± std. dev. of 7 runs, 1000000 loops each)\n"
     ]
    }
   ],
   "source": [
    "%%timeit\n",
    "colors = ['red', 'yellow', 'green', 'blue', 'black']\n",
    "x = colors[0] + colors[1] + colors[2] + colors[3] + colors[4]"
   ]
  },
  {
   "cell_type": "markdown",
   "metadata": {
    "slideshow": {
     "slide_type": "slide"
    }
   },
   "source": [
    "可以看出，只需要只读序列时，使用元组要比使用列表稍快一些。"
   ]
  },
  {
   "cell_type": "markdown",
   "metadata": {
    "slideshow": {
     "slide_type": "slide"
    }
   },
   "source": [
    "## `cProfile`\n",
    "\n",
    "Python还提供了`cProfile`工具，可以对程序进行性能分析。与`timeit`模块不同，`cProfile`精确地列出程序中哪些函数或方法被调用，以及每个调用耗费的时间，基于此可以便利地发现性能瓶颈所在。"
   ]
  },
  {
   "cell_type": "markdown",
   "metadata": {
    "slideshow": {
     "slide_type": "slide"
    }
   },
   "source": [
    "### 简单示例\n",
    "\n",
    "下面创建一个简单示例，包括三个函数，运行速度有快有慢。"
   ]
  },
  {
   "cell_type": "code",
   "execution_count": 52,
   "metadata": {
    "slideshow": {
     "slide_type": "slide"
    }
   },
   "outputs": [
    {
     "name": "stdout",
     "output_type": "stream",
     "text": [
      "Writing perfdemo01.py\n"
     ]
    }
   ],
   "source": [
    "%%writefile perfdemo01.py\n",
    "#!/usr/bin/env python\n",
    "# -*- coding: utf-8 -*-\n",
    "import time\n",
    "\n",
    "\n",
    "def afunc():\n",
    "    print('function A')\n",
    "\n",
    "\n",
    "def bfunc():\n",
    "    time.sleep(1)\n",
    "    print('function B')\n",
    "\n",
    "\n",
    "def cfunc():\n",
    "    time.sleep(3)\n",
    "    print('function C')\n",
    "\n",
    "    \n",
    "def main():\n",
    "    for _ in range(10):\n",
    "        afunc()\n",
    "    for _ in range(3):\n",
    "        bfunc()\n",
    "    cfunc()\n",
    "\n",
    "    \n",
    "if __name__ == '__main__':\n",
    "    main()"
   ]
  },
  {
   "cell_type": "markdown",
   "metadata": {
    "slideshow": {
     "slide_type": "slide"
    }
   },
   "source": [
    "下面使用`cProfile`模块来对该程序进行分析："
   ]
  },
  {
   "cell_type": "code",
   "execution_count": 53,
   "metadata": {
    "slideshow": {
     "slide_type": "-"
    }
   },
   "outputs": [
    {
     "name": "stdout",
     "output_type": "stream",
     "text": [
      "function A\n",
      "function A\n",
      "function A\n",
      "function A\n",
      "function A\n",
      "function A\n",
      "function A\n",
      "function A\n",
      "function A\n",
      "function A\n",
      "function A\n",
      "function A\n",
      "function A\n",
      "function A\n",
      "function A\n",
      "function A\n",
      "function A\n",
      "function A\n",
      "function A\n",
      "function A\n",
      "function A\n",
      "function A\n",
      "function A\n",
      "function A\n",
      "function A\n",
      "function A\n",
      "function A\n",
      "function A\n",
      "function A\n",
      "function A\n",
      "function A\n",
      "function A\n",
      "function A\n",
      "function A\n",
      "function A\n",
      "function A\n",
      "function A\n",
      "function A\n",
      "function A\n",
      "function A\n",
      "function A\n",
      "function A\n",
      "function A\n",
      "function A\n",
      "function A\n",
      "function A\n",
      "function A\n",
      "function A\n",
      "function A\n",
      "function A\n",
      "function A\n",
      "function A\n",
      "function A\n",
      "function A\n",
      "function A\n",
      "function A\n",
      "function A\n",
      "function A\n",
      "function A\n",
      "function A\n",
      "function A\n",
      "function A\n",
      "function A\n",
      "function A\n",
      "function A\n",
      "function A\n",
      "function A\n",
      "function A\n",
      "function A\n",
      "function A\n",
      "function A\n",
      "function A\n",
      "function A\n",
      "function A\n",
      "function A\n",
      "function A\n",
      "function A\n",
      "function A\n",
      "function A\n",
      "function A\n",
      "function A\n",
      "function A\n",
      "function A\n",
      "function A\n",
      "function A\n",
      "function A\n",
      "function A\n",
      "function A\n",
      "function A\n",
      "function A\n",
      "function A\n",
      "function A\n",
      "function A\n",
      "function A\n",
      "function A\n",
      "function A\n",
      "function A\n",
      "function A\n",
      "function A\n",
      "function A\n",
      "function B\n",
      "function B\n",
      "function B\n",
      "function B\n",
      "function B\n",
      "function C\n",
      "         3034 function calls in 8.017 seconds\n",
      "\n",
      "   Ordered by: standard name\n",
      "\n",
      "   ncalls  tottime  percall  cumtime  percall filename:lineno(function)\n",
      "        1    0.000    0.000    8.017    8.017 <string>:1(<module>)\n",
      "      219    0.001    0.000    0.006    0.000 iostream.py:195(schedule)\n",
      "      212    0.000    0.000    0.001    0.000 iostream.py:300(_is_master_process)\n",
      "      212    0.000    0.000    0.000    0.000 iostream.py:313(_schedule_flush)\n",
      "      212    0.001    0.000    0.008    0.000 iostream.py:366(write)\n",
      "      219    0.000    0.000    0.000    0.000 iostream.py:93(_event_pipe)\n",
      "        5    0.000    0.000    5.006    1.001 perfdemo01.py:10(bfunc)\n",
      "        1    0.000    0.000    3.003    3.003 perfdemo01.py:15(cfunc)\n",
      "        1    0.000    0.000    8.017    8.017 perfdemo01.py:20(main)\n",
      "      100    0.000    0.000    0.008    0.000 perfdemo01.py:6(afunc)\n",
      "      219    0.003    0.000    0.003    0.000 socket.py:333(send)\n",
      "      219    0.000    0.000    0.001    0.000 threading.py:1062(_wait_for_tstate_lock)\n",
      "      219    0.001    0.000    0.002    0.000 threading.py:1104(is_alive)\n",
      "      219    0.000    0.000    0.000    0.000 threading.py:506(is_set)\n",
      "        1    0.000    0.000    8.017    8.017 {built-in method builtins.exec}\n",
      "      212    0.000    0.000    0.000    0.000 {built-in method builtins.isinstance}\n",
      "      106    0.001    0.000    0.009    0.000 {built-in method builtins.print}\n",
      "      212    0.000    0.000    0.000    0.000 {built-in method posix.getpid}\n",
      "        6    8.008    1.335    8.008    1.335 {built-in method time.sleep}\n",
      "      219    0.000    0.000    0.000    0.000 {method 'acquire' of '_thread.lock' objects}\n",
      "      219    0.000    0.000    0.000    0.000 {method 'append' of 'collections.deque' objects}\n",
      "        1    0.000    0.000    0.000    0.000 {method 'disable' of '_lsprof.Profiler' objects}\n",
      "\n",
      "\n"
     ]
    }
   ],
   "source": [
    "import cProfile\n",
    "import perfdemo01\n",
    "\n",
    "cProfile.run('perfdemo01.main()')"
   ]
  },
  {
   "cell_type": "markdown",
   "metadata": {
    "slideshow": {
     "slide_type": "slide"
    }
   },
   "source": [
    "`cProfile`模块会对分析结果进行排序，并输出分析结果，其中每个字段分别为：\n",
    "- `ncalls`，函数总的调用次数；\n",
    "- `tottime`，函数内部（不包括子函数）的占用时间\n",
    "- `percall`，平均调用时间`tottime/ncalls`\n",
    "- `cumtime`，函数（包括子函数）占用时间\n",
    "- `percall`，平均调用时间`cumtime/ncalls`\n",
    "- `filename:lineno(function)`，文件：行号（函数）"
   ]
  },
  {
   "cell_type": "markdown",
   "metadata": {
    "slideshow": {
     "slide_type": "slide"
    }
   },
   "source": [
    "从上结果可知:\n",
    "- 模块总共花了8.016秒；\n",
    "- `afunc`函数花费了0.002秒；\n",
    "- `bfunc`函数花费了5.006秒；\n",
    "- `cfunc`函数花费了3.004秒；\n",
    "- `time.sleep()`函数花费了8.008秒."
   ]
  },
  {
   "cell_type": "markdown",
   "metadata": {
    "slideshow": {
     "slide_type": "slide"
    }
   },
   "source": [
    "在使用Python运行`perfdemo01.py`时，可以在命令行加载`cProfile`模块。"
   ]
  },
  {
   "cell_type": "code",
   "execution_count": 54,
   "metadata": {
    "slideshow": {
     "slide_type": "slide"
    }
   },
   "outputs": [
    {
     "name": "stdout",
     "output_type": "stream",
     "text": [
      "function A\n",
      "function A\n",
      "function A\n",
      "function A\n",
      "function A\n",
      "function A\n",
      "function A\n",
      "function A\n",
      "function A\n",
      "function A\n",
      "function B\n",
      "function B\n",
      "function B\n",
      "function C\n",
      "         36 function calls in 6.006 seconds\n",
      "\n",
      "   Ordered by: standard name\n",
      "\n",
      "   ncalls  tottime  percall  cumtime  percall filename:lineno(function)\n",
      "        3    0.000    0.000    3.003    1.001 perfdemo01.py:10(bfunc)\n",
      "        1    0.000    0.000    3.003    3.003 perfdemo01.py:15(cfunc)\n",
      "        1    0.000    0.000    6.006    6.006 perfdemo01.py:20(main)\n",
      "        1    0.000    0.000    6.006    6.006 perfdemo01.py:3(<module>)\n",
      "       10    0.000    0.000    0.000    0.000 perfdemo01.py:6(afunc)\n",
      "        1    0.000    0.000    6.006    6.006 {built-in method builtins.exec}\n",
      "       14    0.000    0.000    0.000    0.000 {built-in method builtins.print}\n",
      "        4    6.006    1.502    6.006    1.502 {built-in method time.sleep}\n",
      "        1    0.000    0.000    0.000    0.000 {method 'disable' of '_lsprof.Profiler' objects}\n",
      "\n",
      "\n"
     ]
    }
   ],
   "source": [
    "!python -m cProfile perfdemo01.py"
   ]
  },
  {
   "cell_type": "markdown",
   "metadata": {
    "slideshow": {
     "slide_type": "slide"
    }
   },
   "source": [
    "运行是还可以使用如下选项：\n",
    "- `-o <profile>`，指定概要分析结果输出文件；\n",
    "- `-s cumulative`，对函数累计耗时进行排序。"
   ]
  },
  {
   "cell_type": "code",
   "execution_count": 55,
   "metadata": {
    "slideshow": {
     "slide_type": "slide"
    }
   },
   "outputs": [
    {
     "name": "stdout",
     "output_type": "stream",
     "text": [
      "function A\n",
      "function A\n",
      "function A\n",
      "function A\n",
      "function A\n",
      "function A\n",
      "function A\n",
      "function A\n",
      "function A\n",
      "function A\n",
      "function B\n",
      "function B\n",
      "function B\n",
      "function C\n"
     ]
    }
   ],
   "source": [
    "!python -m cProfile -o perfdemo01.cprof -s cumulative perfdemo01.py"
   ]
  },
  {
   "cell_type": "markdown",
   "metadata": {
    "slideshow": {
     "slide_type": "slide"
    }
   },
   "source": [
    "### 使用`pstats`模块分析cProfile的概要分析结果\n",
    "\n",
    "`cProfile`输出的概要分析文件可以使用`pstats`模块来定制输出。"
   ]
  },
  {
   "cell_type": "markdown",
   "metadata": {
    "slideshow": {
     "slide_type": "slide"
    }
   },
   "source": [
    "首先导入模块，并创建`pstats.Stats`对象："
   ]
  },
  {
   "cell_type": "code",
   "execution_count": 56,
   "metadata": {
    "slideshow": {
     "slide_type": "-"
    }
   },
   "outputs": [],
   "source": [
    "import pstats\n",
    "p = pstats.Stats('perfdemo01.cprof')"
   ]
  },
  {
   "cell_type": "markdown",
   "metadata": {
    "slideshow": {
     "slide_type": "slide"
    }
   },
   "source": [
    "使用`sort_stats()`方法进行排序，可以指定如下参数：\n",
    "- `ncalls`, 总调用次数\n",
    "- `cumulative`，函数运行总时间\n",
    "- `file`，文件名\n",
    "- `module`，模块名\n",
    "- `line`，行号\n",
    "- `name`，函数名\n",
    "- `nfl`，`Name/file/line`\n",
    "- `stdname`，标准函数名\n",
    "- `time`，函数内部运行时间（不包括子函数）"
   ]
  },
  {
   "cell_type": "markdown",
   "metadata": {
    "slideshow": {
     "slide_type": "slide"
    }
   },
   "source": [
    "输出统计分析报表："
   ]
  },
  {
   "cell_type": "code",
   "execution_count": 57,
   "metadata": {
    "slideshow": {
     "slide_type": "-"
    }
   },
   "outputs": [
    {
     "name": "stdout",
     "output_type": "stream",
     "text": [
      "Wed Aug 22 18:46:03 2018    perfdemo01.cprof\n",
      "\n",
      "         36 function calls in 6.007 seconds\n",
      "\n",
      "   Ordered by: cumulative time\n",
      "\n",
      "   ncalls  tottime  percall  cumtime  percall filename:lineno(function)\n",
      "        1    0.000    0.000    6.007    6.007 {built-in method builtins.exec}\n",
      "        1    0.000    0.000    6.007    6.007 perfdemo01.py:3(<module>)\n",
      "        1    0.000    0.000    6.007    6.007 perfdemo01.py:20(main)\n",
      "        4    6.006    1.502    6.006    1.502 {built-in method time.sleep}\n",
      "        3    0.000    0.000    3.003    1.001 perfdemo01.py:10(bfunc)\n",
      "        1    0.000    0.000    3.003    3.003 perfdemo01.py:15(cfunc)\n",
      "       14    0.000    0.000    0.000    0.000 {built-in method builtins.print}\n",
      "       10    0.000    0.000    0.000    0.000 perfdemo01.py:6(afunc)\n",
      "        1    0.000    0.000    0.000    0.000 {method 'disable' of '_lsprof.Profiler' objects}\n",
      "\n",
      "\n"
     ]
    },
    {
     "data": {
      "text/plain": [
       "<pstats.Stats at 0x7f2af8fb6978>"
      ]
     },
     "execution_count": 57,
     "metadata": {},
     "output_type": "execute_result"
    }
   ],
   "source": [
    "p.sort_stats(\"cumulative\")\n",
    "p.print_stats()"
   ]
  },
  {
   "cell_type": "markdown",
   "metadata": {
    "slideshow": {
     "slide_type": "slide"
    }
   },
   "source": [
    "还有两个方法，可以列出函数调用情况："
   ]
  },
  {
   "cell_type": "code",
   "execution_count": 58,
   "metadata": {
    "slideshow": {
     "slide_type": "-"
    }
   },
   "outputs": [
    {
     "name": "stdout",
     "output_type": "stream",
     "text": [
      "   Ordered by: cumulative time\n",
      "\n",
      "Function                                          was called by...\n",
      "                                                      ncalls  tottime  cumtime\n",
      "{built-in method builtins.exec}                   <- \n",
      "perfdemo01.py:3(<module>)                         <-       1    0.000    6.007  {built-in method builtins.exec}\n",
      "perfdemo01.py:20(main)                            <-       1    0.000    6.007  perfdemo01.py:3(<module>)\n",
      "{built-in method time.sleep}                      <-       3    3.003    3.003  perfdemo01.py:10(bfunc)\n",
      "                                                           1    3.003    3.003  perfdemo01.py:15(cfunc)\n",
      "perfdemo01.py:10(bfunc)                           <-       3    0.000    3.003  perfdemo01.py:20(main)\n",
      "perfdemo01.py:15(cfunc)                           <-       1    0.000    3.003  perfdemo01.py:20(main)\n",
      "{built-in method builtins.print}                  <-      10    0.000    0.000  perfdemo01.py:6(afunc)\n",
      "                                                           3    0.000    0.000  perfdemo01.py:10(bfunc)\n",
      "                                                           1    0.000    0.000  perfdemo01.py:15(cfunc)\n",
      "perfdemo01.py:6(afunc)                            <-      10    0.000    0.000  perfdemo01.py:20(main)\n",
      "{method 'disable' of '_lsprof.Profiler' objects}  <- \n",
      "\n",
      "\n"
     ]
    },
    {
     "data": {
      "text/plain": [
       "<pstats.Stats at 0x7f2af8fb6978>"
      ]
     },
     "execution_count": 58,
     "metadata": {},
     "output_type": "execute_result"
    }
   ],
   "source": [
    "p.print_callers()"
   ]
  },
  {
   "cell_type": "code",
   "execution_count": 27,
   "metadata": {
    "slideshow": {
     "slide_type": "slide"
    }
   },
   "outputs": [
    {
     "name": "stdout",
     "output_type": "stream",
     "text": [
      "   Ordered by: cumulative time\n",
      "\n",
      "Function                                          called...\n",
      "                                                      ncalls  tottime  cumtime\n",
      "{built-in method builtins.exec}                   ->       1    0.000    6.006  perfdemo01.py:3(<module>)\n",
      "perfdemo01.py:3(<module>)                         ->       1    0.000    6.006  perfdemo01.py:20(main)\n",
      "perfdemo01.py:20(main)                            ->      10    0.000    0.000  perfdemo01.py:6(afunc)\n",
      "                                                           3    0.000    3.003  perfdemo01.py:10(bfunc)\n",
      "                                                           1    0.000    3.003  perfdemo01.py:15(cfunc)\n",
      "{built-in method time.sleep}                      -> \n",
      "perfdemo01.py:10(bfunc)                           ->       3    0.000    0.000  {built-in method builtins.print}\n",
      "                                                           3    3.003    3.003  {built-in method time.sleep}\n",
      "perfdemo01.py:15(cfunc)                           ->       1    0.000    0.000  {built-in method builtins.print}\n",
      "                                                           1    3.003    3.003  {built-in method time.sleep}\n",
      "{built-in method builtins.print}                  -> \n",
      "perfdemo01.py:6(afunc)                            ->      10    0.000    0.000  {built-in method builtins.print}\n",
      "{method 'disable' of '_lsprof.Profiler' objects}  -> \n",
      "\n",
      "\n"
     ]
    },
    {
     "data": {
      "text/plain": [
       "<pstats.Stats at 0x7f2af8b50400>"
      ]
     },
     "execution_count": 27,
     "metadata": {},
     "output_type": "execute_result"
    }
   ],
   "source": [
    "p.print_callees()"
   ]
  },
  {
   "cell_type": "markdown",
   "metadata": {
    "slideshow": {
     "slide_type": "slide"
    }
   },
   "source": [
    "### 生成性能分析可视化图形\n",
    "\n",
    "`cProfile`输出的概要分析文件，可以转换为可视化图形文件，步骤包括：\n",
    "- 使用`gprof2dot`程序，把概要分析文件转换为`dot`脚本文件；\n",
    "- 使用`Graphivz`软件将`dot`脚本文件生成图像文件。"
   ]
  },
  {
   "cell_type": "markdown",
   "metadata": {
    "slideshow": {
     "slide_type": "slide"
    }
   },
   "source": [
    "#### 安装`gprof2dot`\n",
    "\n",
    "使用pip安装\n",
    "```\n",
    "pip install gprof2dot\n",
    "```"
   ]
  },
  {
   "cell_type": "markdown",
   "metadata": {
    "slideshow": {
     "slide_type": "slide"
    }
   },
   "source": [
    "验证安装情况"
   ]
  },
  {
   "cell_type": "code",
   "execution_count": 28,
   "metadata": {
    "slideshow": {
     "slide_type": "-"
    }
   },
   "outputs": [
    {
     "name": "stdout",
     "output_type": "stream",
     "text": [
      "Usage: \n",
      "\tgprof2dot [options] [file] ...\n",
      "\n",
      "Options:\n",
      "  -h, --help            show this help message and exit\n",
      "  -o FILE, --output=FILE\n",
      "                        output filename [stdout]\n",
      "  -n PERCENTAGE, --node-thres=PERCENTAGE\n",
      "                        eliminate nodes below this threshold [default: 0.5]\n",
      "  -e PERCENTAGE, --edge-thres=PERCENTAGE\n",
      "                        eliminate edges below this threshold [default: 0.1]\n",
      "  -f FORMAT, --format=FORMAT\n",
      "                        profile format: axe, callgrind, hprof, json, oprofile,\n",
      "                        perf, prof, pstats, sleepy, sysprof or xperf [default:\n",
      "                        prof]\n",
      "  --total=TOTALMETHOD   preferred method of calculating total time: callratios\n",
      "                        or callstacks (currently affects only perf format)\n",
      "                        [default: callratios]\n",
      "  -c THEME, --colormap=THEME\n",
      "                        color map: color, pink, gray, bw, or print [default:\n",
      "                        color]\n",
      "  -s, --strip           strip function parameters, template parameters, and\n",
      "                        const modifiers from demangled C++ function names\n",
      "  --colour-nodes-by-selftime\n",
      "                        colour nodes by self time, rather than by total time\n",
      "                        (sum of self and descendants)\n",
      "  -w, --wrap            wrap function names\n",
      "  --show-samples        show function samples\n",
      "  -z ROOT, --root=ROOT  prune call graph to show only descendants of specified\n",
      "                        root function\n",
      "  -l LEAF, --leaf=LEAF  prune call graph to show only ancestors of specified\n",
      "                        leaf function\n",
      "  --depth=DEPTH         prune call graph to show only descendants or ancestors\n",
      "                        until specified depth\n",
      "  --skew=THEME_SKEW     skew the colorization curve.  Values < 1.0 give more\n",
      "                        variety to lower percentages.  Values > 1.0 give less\n",
      "                        variety to lower percentages\n",
      "  -p FILTER_PATHS, --path=FILTER_PATHS\n",
      "                        Filter all modules not in a specified path\n"
     ]
    }
   ],
   "source": [
    "!gprof2dot -h"
   ]
  },
  {
   "cell_type": "markdown",
   "metadata": {
    "slideshow": {
     "slide_type": "slide"
    }
   },
   "source": [
    "#### 安装`Graphivz`\n",
    "\n",
    "在linux系统下，使用系统命令安装：\n",
    "```\n",
    "apt-get install graphivz\n",
    "yum install graphivz\n",
    "```"
   ]
  },
  {
   "cell_type": "markdown",
   "metadata": {
    "slideshow": {
     "slide_type": "slide"
    }
   },
   "source": [
    "在Windows系统，需要到[Graphviz官网](https://graphviz.gitlab.io/)下载，如当前稳定版本为：\n",
    "```\n",
    "graphviz-2.38.msi\n",
    "```\n",
    "\n",
    "下载完毕安装即可。"
   ]
  },
  {
   "cell_type": "markdown",
   "metadata": {
    "slideshow": {
     "slide_type": "slide"
    }
   },
   "source": [
    "安装完毕可以验证安装情况"
   ]
  },
  {
   "cell_type": "code",
   "execution_count": 61,
   "metadata": {
    "slideshow": {
     "slide_type": "-"
    }
   },
   "outputs": [
    {
     "name": "stdout",
     "output_type": "stream",
     "text": [
      "dot - graphviz version 2.30.1 (20180420.1509)\r\n"
     ]
    }
   ],
   "source": [
    "!dot -V"
   ]
  },
  {
   "cell_type": "markdown",
   "metadata": {
    "slideshow": {
     "slide_type": "slide"
    }
   },
   "source": [
    "#### 可视化概要分析文件\n",
    "\n",
    "按照前述两个步骤，创建概要分析图形文件："
   ]
  },
  {
   "cell_type": "code",
   "execution_count": 59,
   "metadata": {
    "slideshow": {
     "slide_type": "-"
    }
   },
   "outputs": [],
   "source": [
    "!gprof2dot -f pstats perfdemo01.cprof > perfdemo01.dot"
   ]
  },
  {
   "cell_type": "code",
   "execution_count": 60,
   "metadata": {
    "slideshow": {
     "slide_type": "-"
    }
   },
   "outputs": [],
   "source": [
    "!dot -Tpng perfdemo01.dot -o perfdemo01.png"
   ]
  },
  {
   "cell_type": "markdown",
   "metadata": {
    "slideshow": {
     "slide_type": "slide"
    }
   },
   "source": [
    "结果如下图所示\n",
    "![Python程序性能概要分析](perfdemo01.png)"
   ]
  },
  {
   "cell_type": "markdown",
   "metadata": {
    "slideshow": {
     "slide_type": "slide"
    }
   },
   "source": [
    "使用`cProfile`模块以及可视化工具，可以轻松列出程序中的函数调用以及耗时分析，可以快速获得程序性能瓶颈，借以获得性能优化努力方向。"
   ]
  },
  {
   "cell_type": "markdown",
   "metadata": {
    "slideshow": {
     "slide_type": "slide"
    }
   },
   "source": [
    "##  `line_profiler`\n",
    "\n",
    "使用`cProfile`模块，可以定位出程序的性能瓶颈，可能是某函数。而`line_profiler`是逐行代码分析工具，可以对指定函数进行逐行分析。"
   ]
  },
  {
   "cell_type": "markdown",
   "metadata": {
    "slideshow": {
     "slide_type": "slide"
    }
   },
   "source": [
    "### 安装\n",
    "\n",
    "使用`line_profiler`模块，需要先进行安装。"
   ]
  },
  {
   "cell_type": "markdown",
   "metadata": {
    "slideshow": {
     "slide_type": "slide"
    }
   },
   "source": [
    "在Linux系统下使用pip安装：\n",
    "```\n",
    "pip install line_profiler\n",
    "```"
   ]
  },
  {
   "cell_type": "markdown",
   "metadata": {
    "slideshow": {
     "slide_type": "slide"
    }
   },
   "source": [
    "在Windowns系统下，使用pip安装可能会失败，因为需要使用VC编译器。不过可以如下网址\n",
    "<https://www.lfd.uci.edu/~gohlke/pythonlibs/#line_profiler>下载指定版本的wheel包\n",
    "    \n",
    "下载完后使用pip安装，例如：\n",
    "```\n",
    "pip install line_profiler‑2.1.2‑cp36‑cp36m‑win_amd64.whl\n",
    "```"
   ]
  },
  {
   "cell_type": "markdown",
   "metadata": {
    "slideshow": {
     "slide_type": "slide"
    }
   },
   "source": [
    "使用如下命令检查安装情况"
   ]
  },
  {
   "cell_type": "code",
   "execution_count": 62,
   "metadata": {
    "slideshow": {
     "slide_type": "-"
    }
   },
   "outputs": [
    {
     "name": "stdout",
     "output_type": "stream",
     "text": [
      "Usage: kernprof [-s setupfile] [-o output_file_path] scriptfile [arg] ...\r\n",
      "\r\n",
      "Options:\r\n",
      "  --version             show program's version number and exit\r\n",
      "  -h, --help            show this help message and exit\r\n",
      "  -l, --line-by-line    Use the line-by-line profiler from the line_profiler\r\n",
      "                        module instead of Profile. Implies --builtin.\r\n",
      "  -b, --builtin         Put 'profile' in the builtins. Use 'profile.enable()'\r\n",
      "                        and 'profile.disable()' in your code to turn it on and\r\n",
      "                        off, or '@profile' to decorate a single function, or\r\n",
      "                        'with profile:' to profile a single section of code.\r\n",
      "  -o OUTFILE, --outfile=OUTFILE\r\n",
      "                        Save stats to <outfile>\r\n",
      "  -s SETUP, --setup=SETUP\r\n",
      "                        Code to execute before the code to profile\r\n",
      "  -v, --view            View the results of the profile in addition to saving\r\n",
      "                        it.\r\n"
     ]
    }
   ],
   "source": [
    "!kernprof -h"
   ]
  },
  {
   "cell_type": "markdown",
   "metadata": {
    "slideshow": {
     "slide_type": "slide"
    }
   },
   "source": [
    "### 快速使用\n",
    "\n",
    "使用`line_profile`需要在分析函数上添加装饰器`@profile`。"
   ]
  },
  {
   "cell_type": "code",
   "execution_count": 63,
   "metadata": {},
   "outputs": [
    {
     "name": "stdout",
     "output_type": "stream",
     "text": [
      "Writing perfdemo02.py\n"
     ]
    }
   ],
   "source": [
    "%%writefile perfdemo02.py\n",
    "#!/usr/bin/env python\n",
    "# -*- coding: utf-8 -*-\n",
    "import time\n",
    "\n",
    "\n",
    "def afunc():\n",
    "    print('function A')\n",
    "\n",
    "\n",
    "def bfunc():\n",
    "    time.sleep(1)\n",
    "    print('function B')\n",
    "\n",
    "def cfunc():\n",
    "    time.sleep(3)\n",
    "    print('function C')\n",
    "\n",
    "    \n",
    "@profile   \n",
    "def main():\n",
    "    for _ in range(10):\n",
    "        afunc()\n",
    "    for _ in range(3):\n",
    "        bfunc()\n",
    "    cfunc()\n",
    "\n",
    "    \n",
    "if __name__ == '__main__':\n",
    "    main()"
   ]
  },
  {
   "cell_type": "markdown",
   "metadata": {
    "slideshow": {
     "slide_type": "slide"
    }
   },
   "source": [
    "使用kernprof命令执行Python代码文件，会创建lprof文件。"
   ]
  },
  {
   "cell_type": "code",
   "execution_count": 64,
   "metadata": {
    "slideshow": {
     "slide_type": "-"
    }
   },
   "outputs": [
    {
     "name": "stdout",
     "output_type": "stream",
     "text": [
      "function A\n",
      "function A\n",
      "function A\n",
      "function A\n",
      "function A\n",
      "function A\n",
      "function A\n",
      "function A\n",
      "function A\n",
      "function A\n",
      "function B\n",
      "function B\n",
      "function B\n",
      "function C\n",
      "Wrote profile results to perfdemo02.py.lprof\n"
     ]
    }
   ],
   "source": [
    "!kernprof -l perfdemo02.py"
   ]
  },
  {
   "cell_type": "markdown",
   "metadata": {
    "slideshow": {
     "slide_type": "slide"
    }
   },
   "source": [
    "得到lprof文件后，使用如下命令来查看："
   ]
  },
  {
   "cell_type": "code",
   "execution_count": 65,
   "metadata": {
    "slideshow": {
     "slide_type": "-"
    }
   },
   "outputs": [
    {
     "name": "stdout",
     "output_type": "stream",
     "text": [
      "Timer unit: 1e-06 s\r\n",
      "\r\n",
      "Total time: 6.00644 s\r\n",
      "File: perfdemo02.py\r\n",
      "Function: main at line 19\r\n",
      "\r\n",
      "Line #      Hits         Time  Per Hit   % Time  Line Contents\r\n",
      "==============================================================\r\n",
      "    19                                           @profile   \r\n",
      "    20                                           def main():\r\n",
      "    21        11         12.0      1.1      0.0      for _ in range(10):\r\n",
      "    22        10         61.0      6.1      0.0          afunc()\r\n",
      "    23         4         11.0      2.8      0.0      for _ in range(3):\r\n",
      "    24         3    3003255.0 1001085.0     50.0          bfunc()\r\n",
      "    25         1    3003106.0 3003106.0     50.0      cfunc()\r\n",
      "\r\n"
     ]
    }
   ],
   "source": [
    "!python -m line_profiler perfdemo02.py.lprof"
   ]
  },
  {
   "cell_type": "markdown",
   "metadata": {
    "slideshow": {
     "slide_type": "slide"
    }
   },
   "source": [
    "其中各项数据含义如下：\n",
    "- `Line`， 代码行\n",
    "- `Hits`，执行次数\n",
    "- `Time:`，占用总时间\n",
    "- `Per Hit`，每次执行时间\n",
    "- `Time`， 时间占比\n",
    "- `Line Contents`，代码语句"
   ]
  },
  {
   "cell_type": "markdown",
   "metadata": {
    "slideshow": {
     "slide_type": "slide"
    }
   },
   "source": [
    "## `memory_profiler`\n",
    "\n",
    "使用`memory_profiler`用来测量内存的使用情况。"
   ]
  },
  {
   "cell_type": "markdown",
   "metadata": {
    "slideshow": {
     "slide_type": "slide"
    }
   },
   "source": [
    "### 安装\n",
    "\n",
    "使用pip安装\n",
    "```\n",
    "# 依赖psutil模块\n",
    "pip install psutil\n",
    "pip install memory_profiler\n",
    "```"
   ]
  },
  {
   "cell_type": "markdown",
   "metadata": {
    "slideshow": {
     "slide_type": "slide"
    }
   },
   "source": [
    "### 快速使用\n",
    "\n",
    "同样，需要在程序的函数中使用装饰器`@profile`"
   ]
  },
  {
   "cell_type": "code",
   "execution_count": 66,
   "metadata": {
    "slideshow": {
     "slide_type": "slide"
    }
   },
   "outputs": [
    {
     "name": "stdout",
     "output_type": "stream",
     "text": [
      "Writing perfdemo03.py\n"
     ]
    }
   ],
   "source": [
    "%%writefile perfdemo03.py\n",
    "#!/usr/bin/env python\n",
    "# -*- coding: utf-8 -*-\n",
    "import time\n",
    "\n",
    "\n",
    "def afunc():\n",
    "    print('function A')\n",
    "\n",
    "\n",
    "def bfunc():\n",
    "    time.sleep(1)\n",
    "    print('function B')\n",
    "\n",
    "def cfunc():\n",
    "    time.sleep(3)\n",
    "    print('function C')\n",
    "\n",
    "    \n",
    "@profile\n",
    "def main():\n",
    "    for _ in range(10):\n",
    "        afunc()\n",
    "    for _ in range(3):\n",
    "        bfunc()\n",
    "    cfunc()\n",
    "\n",
    "    \n",
    "if __name__ == '__main__':\n",
    "    main()"
   ]
  },
  {
   "cell_type": "markdown",
   "metadata": {
    "slideshow": {
     "slide_type": "slide"
    }
   },
   "source": [
    "运行命令如下："
   ]
  },
  {
   "cell_type": "code",
   "execution_count": 67,
   "metadata": {
    "slideshow": {
     "slide_type": "slide"
    }
   },
   "outputs": [
    {
     "name": "stdout",
     "output_type": "stream",
     "text": [
      "function A\n",
      "function A\n",
      "function A\n",
      "function A\n",
      "function A\n",
      "function A\n",
      "function A\n",
      "function A\n",
      "function A\n",
      "function A\n",
      "function B\n",
      "function B\n",
      "function B\n",
      "function C\n",
      "Filename: perfdemo03.py\n",
      "\n",
      "Line #    Mem usage    Increment   Line Contents\n",
      "================================================\n",
      "    19   43.270 MiB   43.270 MiB   @profile\n",
      "    20                             def main():\n",
      "    21   43.270 MiB    0.000 MiB       for _ in range(10):\n",
      "    22   43.270 MiB    0.000 MiB           afunc()\n",
      "    23   43.270 MiB    0.000 MiB       for _ in range(3):\n",
      "    24   43.270 MiB    0.000 MiB           bfunc()\n",
      "    25   43.270 MiB    0.000 MiB       cfunc()\n",
      "\n",
      "\n"
     ]
    }
   ],
   "source": [
    "!python -m memory_profiler perfdemo03.py"
   ]
  },
  {
   "cell_type": "markdown",
   "metadata": {
    "slideshow": {
     "slide_type": "slide"
    }
   },
   "source": [
    "其中各项含义为：\n",
    "- `Line`， 代码行\n",
    "- `Mem Usage`, 内存占用情况\n",
    "- `Increment`, 代码执行后新增内存\n",
    "- `Line Contents`，代码语句"
   ]
  },
  {
   "cell_type": "markdown",
   "metadata": {
    "slideshow": {
     "slide_type": "slide"
    }
   },
   "source": [
    "模块提供了`mprof`工具程序来可视化显示内存使用，依赖matplotlib库。"
   ]
  },
  {
   "cell_type": "markdown",
   "metadata": {
    "slideshow": {
     "slide_type": "slide"
    }
   },
   "source": [
    "使用使用如下命令生成统计文件："
   ]
  },
  {
   "cell_type": "code",
   "execution_count": 70,
   "metadata": {
    "slideshow": {
     "slide_type": "slide"
    }
   },
   "outputs": [
    {
     "name": "stdout",
     "output_type": "stream",
     "text": [
      "mprof: Sampling memory every 0.1s\n",
      "running as a Python program...\n",
      "function A\n",
      "function A\n",
      "function A\n",
      "function A\n",
      "function A\n",
      "function A\n",
      "function A\n",
      "function A\n",
      "function A\n",
      "function A\n",
      "function B\n",
      "function B\n",
      "function B\n",
      "function C\n"
     ]
    }
   ],
   "source": [
    "!mprof run -o perfdemo03_memory.dat perfdemo03.py"
   ]
  },
  {
   "cell_type": "markdown",
   "metadata": {
    "slideshow": {
     "slide_type": "slide"
    }
   },
   "source": [
    "然后使用如下命令，来生成统计文件图像："
   ]
  },
  {
   "cell_type": "code",
   "execution_count": 73,
   "metadata": {
    "slideshow": {
     "slide_type": "-"
    }
   },
   "outputs": [],
   "source": [
    "!mprof plot -o perfdemo03_memory.png perfdemo03_memory.dat "
   ]
  },
  {
   "cell_type": "markdown",
   "metadata": {
    "slideshow": {
     "slide_type": "slide"
    }
   },
   "source": [
    "内存使用结果如下所示：\n",
    "![内存使用](perfdemo03_memory.png)"
   ]
  },
  {
   "cell_type": "markdown",
   "metadata": {
    "slideshow": {
     "slide_type": "slide"
    }
   },
   "source": [
    "## 小结\n",
    "\n",
    "本章节对Python程序的性能分析工具进行了介绍，在工作中`cProfile`以及可视化工具会比较常用。"
   ]
  },
  {
   "cell_type": "markdown",
   "metadata": {
    "slideshow": {
     "slide_type": "slide"
    }
   },
   "source": [
    "再次提醒，过早优化是万恶之源。"
   ]
  }
 ],
 "metadata": {
  "celltoolbar": "Slideshow",
  "kernelspec": {
   "display_name": "Python 3",
   "language": "python",
   "name": "python3"
  },
  "language_info": {
   "codemirror_mode": {
    "name": "ipython",
    "version": 3
   },
   "file_extension": ".py",
   "mimetype": "text/x-python",
   "name": "python",
   "nbconvert_exporter": "python",
   "pygments_lexer": "ipython3",
   "version": "3.6.4"
  },
  "toc": {
   "base_numbering": 1,
   "nav_menu": {},
   "number_sections": true,
   "sideBar": true,
   "skip_h1_title": false,
   "title_cell": "Table of Contents",
   "title_sidebar": "Contents",
   "toc_cell": false,
   "toc_position": {},
   "toc_section_display": true,
   "toc_window_display": true
  }
 },
 "nbformat": 4,
 "nbformat_minor": 2
}
