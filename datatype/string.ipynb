{
 "cells": [
  {
   "cell_type": "markdown",
   "metadata": {
    "slideshow": {
     "slide_type": "slide"
    }
   },
   "source": [
    "# 基本类型-字符串对象(str)\n",
    "\n",
    "- 现实场景\n",
    "- 计算机中的字符串\n",
    "    - 创建对象\n",
    "    - 自省\n",
    "    - 操作与方法\n",
    "- 应用与练习"
   ]
  },
  {
   "cell_type": "markdown",
   "metadata": {
    "slideshow": {
     "slide_type": "slide"
    }
   },
   "source": [
    "## 现实场景\n",
    "\n",
    "![到此一游](assets/realwordstring.gif)"
   ]
  },
  {
   "cell_type": "markdown",
   "metadata": {
    "slideshow": {
     "slide_type": "slide"
    }
   },
   "source": [
    "## 创建字符串对象\n",
    "\n",
    "字面字符串有三种定义方法：\n",
    "- 单引号(`'`)\n",
    "- 双引号(`\"`)\n",
    "- 三引号(`'''`或`\"\"\"`)"
   ]
  },
  {
   "cell_type": "markdown",
   "metadata": {
    "slideshow": {
     "slide_type": "slide"
    }
   },
   "source": [
    "使用单引号来定义字符串变量"
   ]
  },
  {
   "cell_type": "code",
   "execution_count": 1,
   "metadata": {
    "slideshow": {
     "slide_type": "-"
    }
   },
   "outputs": [
    {
     "name": "stdout",
     "output_type": "stream",
     "text": [
      "spam eggs\n"
     ]
    }
   ],
   "source": [
    "s1 = 'spam eggs'\n",
    "print(s1)"
   ]
  },
  {
   "cell_type": "markdown",
   "metadata": {
    "slideshow": {
     "slide_type": "slide"
    }
   },
   "source": [
    "也许会有人问，如何表示包含单引号的字符串？可以使用双引号定义："
   ]
  },
  {
   "cell_type": "code",
   "execution_count": 2,
   "metadata": {
    "slideshow": {
     "slide_type": "-"
    }
   },
   "outputs": [
    {
     "name": "stdout",
     "output_type": "stream",
     "text": [
      "I doesn't like it\n"
     ]
    }
   ],
   "source": [
    "s2 = \"I doesn't like it\"\n",
    "print(s2)"
   ]
  },
  {
   "cell_type": "markdown",
   "metadata": {
    "slideshow": {
     "slide_type": "slide"
    }
   },
   "source": [
    "对于包含双引号的字符串，可以使用单引号定义："
   ]
  },
  {
   "cell_type": "code",
   "execution_count": 3,
   "metadata": {
    "slideshow": {
     "slide_type": "-"
    }
   },
   "outputs": [
    {
     "name": "stdout",
     "output_type": "stream",
     "text": [
      "\"Yes, Sir\", he said\n"
     ]
    }
   ],
   "source": [
    "s3 = '\"Yes, Sir\", he said'\n",
    "print(s3)"
   ]
  },
  {
   "cell_type": "markdown",
   "metadata": {
    "slideshow": {
     "slide_type": "slide"
    }
   },
   "source": [
    "有人又问，如果字符串中包含单引号和双引号，如何办呢？可以使用三引号定义"
   ]
  },
  {
   "cell_type": "code",
   "execution_count": 4,
   "metadata": {
    "slideshow": {
     "slide_type": "-"
    }
   },
   "outputs": [
    {
     "name": "stdout",
     "output_type": "stream",
     "text": [
      " \"It isn't true\", she said.\n"
     ]
    }
   ],
   "source": [
    "s4 = ''' \"It isn't true\", she said.'''\n",
    "print(s4)"
   ]
  },
  {
   "cell_type": "markdown",
   "metadata": {
    "slideshow": {
     "slide_type": "slide"
    }
   },
   "source": [
    "三引号最大的优势是方便输入多行字符串"
   ]
  },
  {
   "cell_type": "code",
   "execution_count": 5,
   "metadata": {
    "slideshow": {
     "slide_type": "-"
    }
   },
   "outputs": [],
   "source": [
    "s5 = \"\"\"\n",
    "The Zen of Python, by Tim Peters\n",
    "\n",
    "Beautiful is better than ugly.\n",
    "Explicit is better than implicit.\n",
    "Simple is better than complex.\n",
    "Complex is better than complicated.\n",
    "Flat is better than nested.\n",
    "Sparse is better than dense.\n",
    "Readability counts.\n",
    "Special cases aren't special enough to break the rules.\n",
    "Although practicality beats purity.\n",
    "Errors should never pass silently.\n",
    "Unless explicitly silenced.\n",
    "In the face of ambiguity, refuse the temptation to guess.\n",
    "There should be one-- and preferably only one --obvious way to do it.\n",
    "Although that way may not be obvious at first unless you're Dutch.\n",
    "Now is better than never.\n",
    "Although never is often better than *right* now.\n",
    "If the implementation is hard to explain, it's a bad idea.\n",
    "If the implementation is easy to explain, it may be a good idea.\n",
    "Namespaces are one honking great idea -- let's do more of those!\n",
    "\"\"\""
   ]
  },
  {
   "cell_type": "code",
   "execution_count": 6,
   "metadata": {
    "slideshow": {
     "slide_type": "slide"
    }
   },
   "outputs": [
    {
     "name": "stdout",
     "output_type": "stream",
     "text": [
      "\n",
      "The Zen of Python, by Tim Peters\n",
      "\n",
      "Beautiful is better than ugly.\n",
      "Explicit is better than implicit.\n",
      "Simple is better than complex.\n",
      "Complex is better than complicated.\n",
      "Flat is better than nested.\n",
      "Sparse is better than dense.\n",
      "Readability counts.\n",
      "Special cases aren't special enough to break the rules.\n",
      "Although practicality beats purity.\n",
      "Errors should never pass silently.\n",
      "Unless explicitly silenced.\n",
      "In the face of ambiguity, refuse the temptation to guess.\n",
      "There should be one-- and preferably only one --obvious way to do it.\n",
      "Although that way may not be obvious at first unless you're Dutch.\n",
      "Now is better than never.\n",
      "Although never is often better than *right* now.\n",
      "If the implementation is hard to explain, it's a bad idea.\n",
      "If the implementation is easy to explain, it may be a good idea.\n",
      "Namespaces are one honking great idea -- let's do more of those!\n",
      "\n"
     ]
    }
   ],
   "source": [
    "print(s5)"
   ]
  },
  {
   "cell_type": "code",
   "execution_count": 7,
   "metadata": {
    "slideshow": {
     "slide_type": "slide"
    }
   },
   "outputs": [
    {
     "name": "stdout",
     "output_type": "stream",
     "text": [
      "\n",
      "Usage: thingy [OPTIONS]\n",
      "     -h                        Display this usage message\n",
      "     -H hostname               Hostname to connect to\n",
      "\n"
     ]
    }
   ],
   "source": [
    "s6 = \"\"\"\n",
    "Usage: thingy [OPTIONS]\n",
    "     -h                        Display this usage message\n",
    "     -H hostname               Hostname to connect to\n",
    "\"\"\"\n",
    "print(s6)"
   ]
  },
  {
   "cell_type": "markdown",
   "metadata": {
    "slideshow": {
     "slide_type": "slide"
    }
   },
   "source": [
    "很多编码规范要求一行长度有限，故当行特别长是会用续行符\n",
    "\n",
    "在行尾时的`\\`表示续行符"
   ]
  },
  {
   "cell_type": "code",
   "execution_count": 8,
   "metadata": {
    "slideshow": {
     "slide_type": "-"
    }
   },
   "outputs": [
    {
     "data": {
      "text/plain": [
       "'long line part1 long line part2 long line part3'"
      ]
     },
     "execution_count": 8,
     "metadata": {},
     "output_type": "execute_result"
    }
   ],
   "source": [
    "s7 = 'long line part1 \\\n",
    "long line part2 \\\n",
    "long line part3'\n",
    "s7"
   ]
  },
  {
   "cell_type": "markdown",
   "metadata": {
    "slideshow": {
     "slide_type": "slide"
    }
   },
   "source": [
    "另外一种解决方案"
   ]
  },
  {
   "cell_type": "code",
   "execution_count": 9,
   "metadata": {
    "slideshow": {
     "slide_type": "-"
    }
   },
   "outputs": [
    {
     "data": {
      "text/plain": [
       "'long line part1 long line part2 long line part3'"
      ]
     },
     "execution_count": 9,
     "metadata": {},
     "output_type": "execute_result"
    }
   ],
   "source": [
    "s8 = ('long line part1 '\n",
    "      'long line part2 '\n",
    "      'long line part3')\n",
    "s8"
   ]
  },
  {
   "cell_type": "markdown",
   "metadata": {
    "slideshow": {
     "slide_type": "slide"
    }
   },
   "source": [
    "**转义符**\n",
    "\n",
    "如果在字符中包含特殊字符时，可以用反斜杠(`\\`)转义字符。\n",
    "\n",
    "| 转义字符   |     含义   |\n",
    "|:------------|:--------------|\n",
    "|`\\newline`  | 忽略换行     |\n",
    "|`\\\\`      | 反斜杠（`\\`）  |\n",
    "|`\\'`      | 单引号（`'`）  |\n",
    "|`\\\"`      | 双引号（`\"`）  |\n",
    "|`\\a`      | 响铃       |\n",
    "|`\\b`      | 退格(Backspace) |\n",
    "|`\\e`      |转义   |\n",
    "|`\\000`    | 空   |\n",
    "|`\\n`      | 换行  |\n",
    "|`\\v`      | 垂直制表符 |\n",
    "|`\\t`      | 水平制表符 |\n",
    "|`\\r`      | 回车符 |\n",
    "|`\\f`      | 换页 |"
   ]
  },
  {
   "cell_type": "markdown",
   "metadata": {
    "slideshow": {
     "slide_type": "slide"
    }
   },
   "source": [
    "在单引号的字符串中使用引号，还可以使用转义符号 \\\\ 完成。"
   ]
  },
  {
   "cell_type": "code",
   "execution_count": 10,
   "metadata": {
    "slideshow": {
     "slide_type": "-"
    }
   },
   "outputs": [
    {
     "data": {
      "text/plain": [
       "\"doesn't\""
      ]
     },
     "execution_count": 10,
     "metadata": {},
     "output_type": "execute_result"
    }
   ],
   "source": [
    "s9 = 'doesn\\'t'\n",
    "s9"
   ]
  },
  {
   "cell_type": "code",
   "execution_count": 11,
   "metadata": {
    "slideshow": {
     "slide_type": "slide"
    }
   },
   "outputs": [
    {
     "name": "stdout",
     "output_type": "stream",
     "text": [
      "\\,',\",\u0007,2xx\b\\e\u0000\n",
      "\u000b",
      "\t\r",
      "\f",
      "\n"
     ]
    },
    {
     "data": {
      "text/plain": [
       "'\\\\,\\',\",\\x07,2xx\\x08\\\\e\\x00\\n\\x0b\\t\\r\\x0c'"
      ]
     },
     "execution_count": 11,
     "metadata": {},
     "output_type": "execute_result"
    }
   ],
   "source": [
    "s10 = '\\\\,\\',\\\",\\a,2xx\\b\\e\\000\\n\\v\\t\\r\\f'\n",
    "print(s10)\n",
    "s10"
   ]
  },
  {
   "cell_type": "markdown",
   "metadata": {
    "slideshow": {
     "slide_type": "slide"
    }
   },
   "source": [
    "如果字符串中转义符号太多，嫌输入麻烦，可以使用原始字符串`r`或`R`："
   ]
  },
  {
   "cell_type": "code",
   "execution_count": 12,
   "metadata": {
    "slideshow": {
     "slide_type": "slide"
    }
   },
   "outputs": [
    {
     "name": "stdout",
     "output_type": "stream",
     "text": [
      "C:\\Windows\\System32 C:\\Windows\\System32\n"
     ]
    },
    {
     "data": {
      "text/plain": [
       "('C:\\\\Windows\\\\System32', 'C:\\\\Windows\\\\System32')"
      ]
     },
     "execution_count": 12,
     "metadata": {},
     "output_type": "execute_result"
    }
   ],
   "source": [
    "s11a = 'C:\\\\Windows\\\\System32'\n",
    "s11b = r'C:\\Windows\\System32'\n",
    "print(s11a, s11b)\n",
    "s11a, s11b"
   ]
  },
  {
   "cell_type": "markdown",
   "metadata": {
    "slideshow": {
     "slide_type": "slide"
    }
   },
   "source": [
    "## 自省\n",
    "\n",
    "> 吾每遇对象必自省，用变量而知其类乎？用其值而知属性乎？用其法而知方法乎？"
   ]
  },
  {
   "cell_type": "markdown",
   "metadata": {
    "slideshow": {
     "slide_type": "slide"
    }
   },
   "source": [
    "使用内置函数`type()`查看对象的类型"
   ]
  },
  {
   "cell_type": "code",
   "execution_count": 13,
   "metadata": {
    "slideshow": {
     "slide_type": "-"
    }
   },
   "outputs": [
    {
     "name": "stdout",
     "output_type": "stream",
     "text": [
      "<class 'str'> <class 'str'> <class 'str'> <class 'str'>\n"
     ]
    }
   ],
   "source": [
    "print(type('spam eggs'), type(s1), type(s2), type(s3))"
   ]
  },
  {
   "cell_type": "markdown",
   "metadata": {
    "slideshow": {
     "slide_type": "slide"
    }
   },
   "source": [
    "使用内置函数`id()`查看对象内存地址"
   ]
  },
  {
   "cell_type": "code",
   "execution_count": 14,
   "metadata": {
    "slideshow": {
     "slide_type": "-"
    }
   },
   "outputs": [
    {
     "name": "stdout",
     "output_type": "stream",
     "text": [
      "140689913303472 140689913370864\n"
     ]
    }
   ],
   "source": [
    "print(id(s1), id('spam eggs'))"
   ]
  },
  {
   "cell_type": "markdown",
   "metadata": {
    "slideshow": {
     "slide_type": "slide"
    }
   },
   "source": [
    "### 帮助\n",
    "\n",
    "- 使用内置函数`help()`\n",
    "\n",
    "- 可以使用IPython自省功能?或??"
   ]
  },
  {
   "cell_type": "code",
   "execution_count": 16,
   "metadata": {
    "slideshow": {
     "slide_type": "slide"
    }
   },
   "outputs": [
    {
     "name": "stdout",
     "output_type": "stream",
     "text": [
      "Help on class str in module builtins:\n",
      "\n",
      "class str(object)\n",
      " |  str(object='') -> str\n",
      " |  str(bytes_or_buffer[, encoding[, errors]]) -> str\n",
      " |  \n",
      " |  Create a new string object from the given object. If encoding or\n",
      " |  errors is specified, then the object must expose a data buffer\n",
      " |  that will be decoded using the given encoding and error handler.\n",
      " |  Otherwise, returns the result of object.__str__() (if defined)\n",
      " |  or repr(object).\n",
      " |  encoding defaults to sys.getdefaultencoding().\n",
      " |  errors defaults to 'strict'.\n",
      " |  \n",
      " |  Methods defined here:\n",
      " |  \n",
      " |  __add__(self, value, /)\n",
      " |      Return self+value.\n",
      " |  \n",
      " |  __contains__(self, key, /)\n",
      " |      Return key in self.\n",
      " |  \n",
      " |  __eq__(self, value, /)\n",
      " |      Return self==value.\n",
      " |  \n",
      " |  __format__(...)\n",
      " |      S.__format__(format_spec) -> str\n",
      " |      \n",
      " |      Return a formatted version of S as described by format_spec.\n",
      " |  \n",
      " |  __ge__(self, value, /)\n",
      " |      Return self>=value.\n",
      " |  \n",
      " |  __getattribute__(self, name, /)\n",
      " |      Return getattr(self, name).\n",
      " |  \n",
      " |  __getitem__(self, key, /)\n",
      " |      Return self[key].\n",
      " |  \n",
      " |  __getnewargs__(...)\n",
      " |  \n",
      " |  __gt__(self, value, /)\n",
      " |      Return self>value.\n",
      " |  \n",
      " |  __hash__(self, /)\n",
      " |      Return hash(self).\n",
      " |  \n",
      " |  __iter__(self, /)\n",
      " |      Implement iter(self).\n",
      " |  \n",
      " |  __le__(self, value, /)\n",
      " |      Return self<=value.\n",
      " |  \n",
      " |  __len__(self, /)\n",
      " |      Return len(self).\n",
      " |  \n",
      " |  __lt__(self, value, /)\n",
      " |      Return self<value.\n",
      " |  \n",
      " |  __mod__(self, value, /)\n",
      " |      Return self%value.\n",
      " |  \n",
      " |  __mul__(self, value, /)\n",
      " |      Return self*value.n\n",
      " |  \n",
      " |  __ne__(self, value, /)\n",
      " |      Return self!=value.\n",
      " |  \n",
      " |  __new__(*args, **kwargs) from builtins.type\n",
      " |      Create and return a new object.  See help(type) for accurate signature.\n",
      " |  \n",
      " |  __repr__(self, /)\n",
      " |      Return repr(self).\n",
      " |  \n",
      " |  __rmod__(self, value, /)\n",
      " |      Return value%self.\n",
      " |  \n",
      " |  __rmul__(self, value, /)\n",
      " |      Return self*value.\n",
      " |  \n",
      " |  __sizeof__(...)\n",
      " |      S.__sizeof__() -> size of S in memory, in bytes\n",
      " |  \n",
      " |  __str__(self, /)\n",
      " |      Return str(self).\n",
      " |  \n",
      " |  capitalize(...)\n",
      " |      S.capitalize() -> str\n",
      " |      \n",
      " |      Return a capitalized version of S, i.e. make the first character\n",
      " |      have upper case and the rest lower case.\n",
      " |  \n",
      " |  casefold(...)\n",
      " |      S.casefold() -> str\n",
      " |      \n",
      " |      Return a version of S suitable for caseless comparisons.\n",
      " |  \n",
      " |  center(...)\n",
      " |      S.center(width[, fillchar]) -> str\n",
      " |      \n",
      " |      Return S centered in a string of length width. Padding is\n",
      " |      done using the specified fill character (default is a space)\n",
      " |  \n",
      " |  count(...)\n",
      " |      S.count(sub[, start[, end]]) -> int\n",
      " |      \n",
      " |      Return the number of non-overlapping occurrences of substring sub in\n",
      " |      string S[start:end].  Optional arguments start and end are\n",
      " |      interpreted as in slice notation.\n",
      " |  \n",
      " |  encode(...)\n",
      " |      S.encode(encoding='utf-8', errors='strict') -> bytes\n",
      " |      \n",
      " |      Encode S using the codec registered for encoding. Default encoding\n",
      " |      is 'utf-8'. errors may be given to set a different error\n",
      " |      handling scheme. Default is 'strict' meaning that encoding errors raise\n",
      " |      a UnicodeEncodeError. Other possible values are 'ignore', 'replace' and\n",
      " |      'xmlcharrefreplace' as well as any other name registered with\n",
      " |      codecs.register_error that can handle UnicodeEncodeErrors.\n",
      " |  \n",
      " |  endswith(...)\n",
      " |      S.endswith(suffix[, start[, end]]) -> bool\n",
      " |      \n",
      " |      Return True if S ends with the specified suffix, False otherwise.\n",
      " |      With optional start, test S beginning at that position.\n",
      " |      With optional end, stop comparing S at that position.\n",
      " |      suffix can also be a tuple of strings to try.\n",
      " |  \n",
      " |  expandtabs(...)\n",
      " |      S.expandtabs(tabsize=8) -> str\n",
      " |      \n",
      " |      Return a copy of S where all tab characters are expanded using spaces.\n",
      " |      If tabsize is not given, a tab size of 8 characters is assumed.\n",
      " |  \n",
      " |  find(...)\n",
      " |      S.find(sub[, start[, end]]) -> int\n",
      " |      \n",
      " |      Return the lowest index in S where substring sub is found,\n",
      " |      such that sub is contained within S[start:end].  Optional\n",
      " |      arguments start and end are interpreted as in slice notation.\n",
      " |      \n",
      " |      Return -1 on failure.\n",
      " |  \n",
      " |  format(...)\n",
      " |      S.format(*args, **kwargs) -> str\n",
      " |      \n",
      " |      Return a formatted version of S, using substitutions from args and kwargs.\n",
      " |      The substitutions are identified by braces ('{' and '}').\n",
      " |  \n",
      " |  format_map(...)\n",
      " |      S.format_map(mapping) -> str\n",
      " |      \n",
      " |      Return a formatted version of S, using substitutions from mapping.\n",
      " |      The substitutions are identified by braces ('{' and '}').\n",
      " |  \n",
      " |  index(...)\n",
      " |      S.index(sub[, start[, end]]) -> int\n",
      " |      \n",
      " |      Return the lowest index in S where substring sub is found, \n",
      " |      such that sub is contained within S[start:end].  Optional\n",
      " |      arguments start and end are interpreted as in slice notation.\n",
      " |      \n",
      " |      Raises ValueError when the substring is not found.\n",
      " |  \n",
      " |  isalnum(...)\n",
      " |      S.isalnum() -> bool\n",
      " |      \n",
      " |      Return True if all characters in S are alphanumeric\n",
      " |      and there is at least one character in S, False otherwise.\n",
      " |  \n",
      " |  isalpha(...)\n",
      " |      S.isalpha() -> bool\n",
      " |      \n",
      " |      Return True if all characters in S are alphabetic\n",
      " |      and there is at least one character in S, False otherwise.\n",
      " |  \n",
      " |  isdecimal(...)\n",
      " |      S.isdecimal() -> bool\n",
      " |      \n",
      " |      Return True if there are only decimal characters in S,\n",
      " |      False otherwise.\n",
      " |  \n",
      " |  isdigit(...)\n",
      " |      S.isdigit() -> bool\n",
      " |      \n",
      " |      Return True if all characters in S are digits\n",
      " |      and there is at least one character in S, False otherwise.\n",
      " |  \n",
      " |  isidentifier(...)\n",
      " |      S.isidentifier() -> bool\n",
      " |      \n",
      " |      Return True if S is a valid identifier according\n",
      " |      to the language definition.\n",
      " |      \n",
      " |      Use keyword.iskeyword() to test for reserved identifiers\n",
      " |      such as \"def\" and \"class\".\n",
      " |  \n",
      " |  islower(...)\n",
      " |      S.islower() -> bool\n",
      " |      \n",
      " |      Return True if all cased characters in S are lowercase and there is\n",
      " |      at least one cased character in S, False otherwise.\n",
      " |  \n",
      " |  isnumeric(...)\n",
      " |      S.isnumeric() -> bool\n",
      " |      \n",
      " |      Return True if there are only numeric characters in S,\n",
      " |      False otherwise.\n",
      " |  \n",
      " |  isprintable(...)\n",
      " |      S.isprintable() -> bool\n",
      " |      \n",
      " |      Return True if all characters in S are considered\n",
      " |      printable in repr() or S is empty, False otherwise.\n",
      " |  \n",
      " |  isspace(...)\n",
      " |      S.isspace() -> bool\n",
      " |      \n",
      " |      Return True if all characters in S are whitespace\n",
      " |      and there is at least one character in S, False otherwise.\n",
      " |  \n",
      " |  istitle(...)\n",
      " |      S.istitle() -> bool\n",
      " |      \n",
      " |      Return True if S is a titlecased string and there is at least one\n",
      " |      character in S, i.e. upper- and titlecase characters may only\n",
      " |      follow uncased characters and lowercase characters only cased ones.\n",
      " |      Return False otherwise.\n",
      " |  \n",
      " |  isupper(...)\n",
      " |      S.isupper() -> bool\n",
      " |      \n",
      " |      Return True if all cased characters in S are uppercase and there is\n",
      " |      at least one cased character in S, False otherwise.\n",
      " |  \n",
      " |  join(...)\n",
      " |      S.join(iterable) -> str\n",
      " |      \n",
      " |      Return a string which is the concatenation of the strings in the\n",
      " |      iterable.  The separator between elements is S.\n",
      " |  \n",
      " |  ljust(...)\n",
      " |      S.ljust(width[, fillchar]) -> str\n",
      " |      \n",
      " |      Return S left-justified in a Unicode string of length width. Padding is\n",
      " |      done using the specified fill character (default is a space).\n",
      " |  \n",
      " |  lower(...)\n",
      " |      S.lower() -> str\n",
      " |      \n",
      " |      Return a copy of the string S converted to lowercase.\n",
      " |  \n",
      " |  lstrip(...)\n",
      " |      S.lstrip([chars]) -> str\n",
      " |      \n",
      " |      Return a copy of the string S with leading whitespace removed.\n",
      " |      If chars is given and not None, remove characters in chars instead.\n",
      " |  \n",
      " |  partition(...)\n",
      " |      S.partition(sep) -> (head, sep, tail)\n",
      " |      \n",
      " |      Search for the separator sep in S, and return the part before it,\n",
      " |      the separator itself, and the part after it.  If the separator is not\n",
      " |      found, return S and two empty strings.\n",
      " |  \n",
      " |  replace(...)\n",
      " |      S.replace(old, new[, count]) -> str\n",
      " |      \n",
      " |      Return a copy of S with all occurrences of substring\n",
      " |      old replaced by new.  If the optional argument count is\n",
      " |      given, only the first count occurrences are replaced.\n",
      " |  \n",
      " |  rfind(...)\n",
      " |      S.rfind(sub[, start[, end]]) -> int\n",
      " |      \n",
      " |      Return the highest index in S where substring sub is found,\n",
      " |      such that sub is contained within S[start:end].  Optional\n",
      " |      arguments start and end are interpreted as in slice notation.\n",
      " |      \n",
      " |      Return -1 on failure.\n",
      " |  \n",
      " |  rindex(...)\n",
      " |      S.rindex(sub[, start[, end]]) -> int\n",
      " |      \n",
      " |      Return the highest index in S where substring sub is found,\n",
      " |      such that sub is contained within S[start:end].  Optional\n",
      " |      arguments start and end are interpreted as in slice notation.\n",
      " |      \n",
      " |      Raises ValueError when the substring is not found.\n",
      " |  \n",
      " |  rjust(...)\n",
      " |      S.rjust(width[, fillchar]) -> str\n",
      " |      \n",
      " |      Return S right-justified in a string of length width. Padding is\n",
      " |      done using the specified fill character (default is a space).\n",
      " |  \n",
      " |  rpartition(...)\n",
      " |      S.rpartition(sep) -> (head, sep, tail)\n",
      " |      \n",
      " |      Search for the separator sep in S, starting at the end of S, and return\n",
      " |      the part before it, the separator itself, and the part after it.  If the\n",
      " |      separator is not found, return two empty strings and S.\n",
      " |  \n",
      " |  rsplit(...)\n",
      " |      S.rsplit(sep=None, maxsplit=-1) -> list of strings\n",
      " |      \n",
      " |      Return a list of the words in S, using sep as the\n",
      " |      delimiter string, starting at the end of the string and\n",
      " |      working to the front.  If maxsplit is given, at most maxsplit\n",
      " |      splits are done. If sep is not specified, any whitespace string\n",
      " |      is a separator.\n",
      " |  \n",
      " |  rstrip(...)\n",
      " |      S.rstrip([chars]) -> str\n",
      " |      \n",
      " |      Return a copy of the string S with trailing whitespace removed.\n",
      " |      If chars is given and not None, remove characters in chars instead.\n",
      " |  \n",
      " |  split(...)\n",
      " |      S.split(sep=None, maxsplit=-1) -> list of strings\n",
      " |      \n",
      " |      Return a list of the words in S, using sep as the\n",
      " |      delimiter string.  If maxsplit is given, at most maxsplit\n",
      " |      splits are done. If sep is not specified or is None, any\n",
      " |      whitespace string is a separator and empty strings are\n",
      " |      removed from the result.\n",
      " |  \n",
      " |  splitlines(...)\n",
      " |      S.splitlines([keepends]) -> list of strings\n",
      " |      \n",
      " |      Return a list of the lines in S, breaking at line boundaries.\n",
      " |      Line breaks are not included in the resulting list unless keepends\n",
      " |      is given and true.\n",
      " |  \n",
      " |  startswith(...)\n",
      " |      S.startswith(prefix[, start[, end]]) -> bool\n",
      " |      \n",
      " |      Return True if S starts with the specified prefix, False otherwise.\n",
      " |      With optional start, test S beginning at that position.\n",
      " |      With optional end, stop comparing S at that position.\n",
      " |      prefix can also be a tuple of strings to try.\n",
      " |  \n",
      " |  strip(...)\n",
      " |      S.strip([chars]) -> str\n",
      " |      \n",
      " |      Return a copy of the string S with leading and trailing\n",
      " |      whitespace removed.\n",
      " |      If chars is given and not None, remove characters in chars instead.\n",
      " |  \n",
      " |  swapcase(...)\n",
      " |      S.swapcase() -> str\n",
      " |      \n",
      " |      Return a copy of S with uppercase characters converted to lowercase\n",
      " |      and vice versa.\n",
      " |  \n",
      " |  title(...)\n",
      " |      S.title() -> str\n",
      " |      \n",
      " |      Return a titlecased version of S, i.e. words start with title case\n",
      " |      characters, all remaining cased characters have lower case.\n",
      " |  \n",
      " |  translate(...)\n",
      " |      S.translate(table) -> str\n",
      " |      \n",
      " |      Return a copy of the string S in which each character has been mapped\n",
      " |      through the given translation table. The table must implement\n",
      " |      lookup/indexing via __getitem__, for instance a dictionary or list,\n",
      " |      mapping Unicode ordinals to Unicode ordinals, strings, or None. If\n",
      " |      this operation raises LookupError, the character is left untouched.\n",
      " |      Characters mapped to None are deleted.\n",
      " |  \n",
      " |  upper(...)\n",
      " |      S.upper() -> str\n",
      " |      \n",
      " |      Return a copy of S converted to uppercase.\n",
      " |  \n",
      " |  zfill(...)\n",
      " |      S.zfill(width) -> str\n",
      " |      \n",
      " |      Pad a numeric string S with zeros on the left, to fill a field\n",
      " |      of the specified width. The string S is never truncated.\n",
      " |  \n",
      " |  ----------------------------------------------------------------------\n",
      " |  Static methods defined here:\n",
      " |  \n",
      " |  maketrans(x, y=None, z=None, /)\n",
      " |      Return a translation table usable for str.translate().\n",
      " |      \n",
      " |      If there is only one argument, it must be a dictionary mapping Unicode\n",
      " |      ordinals (integers) or characters to Unicode ordinals, strings or None.\n",
      " |      Character keys will be then converted to ordinals.\n",
      " |      If there are two arguments, they must be strings of equal length, and\n",
      " |      in the resulting dictionary, each character in x will be mapped to the\n",
      " |      character at the same position in y. If there is a third argument, it\n",
      " |      must be a string, whose characters will be mapped to None in the result.\n",
      "\n"
     ]
    }
   ],
   "source": [
    "# Trye help(str), help('sss') or help(s1)\n",
    "help(str)"
   ]
  },
  {
   "cell_type": "code",
   "execution_count": 17,
   "metadata": {
    "slideshow": {
     "slide_type": "slide"
    }
   },
   "outputs": [],
   "source": [
    "# Try str?, s1? or s1??\n",
    "s1?"
   ]
  },
  {
   "cell_type": "markdown",
   "metadata": {
    "slideshow": {
     "slide_type": "slide"
    }
   },
   "source": [
    "### 属性和方法\n",
    "\n",
    "- 使用`dir()`函数列出对象的属性和方法"
   ]
  },
  {
   "cell_type": "code",
   "execution_count": 18,
   "metadata": {
    "slideshow": {
     "slide_type": "slide"
    }
   },
   "outputs": [
    {
     "data": {
      "text/plain": [
       "['__add__',\n",
       " '__class__',\n",
       " '__contains__',\n",
       " '__delattr__',\n",
       " '__dir__',\n",
       " '__doc__',\n",
       " '__eq__',\n",
       " '__format__',\n",
       " '__ge__',\n",
       " '__getattribute__',\n",
       " '__getitem__',\n",
       " '__getnewargs__',\n",
       " '__gt__',\n",
       " '__hash__',\n",
       " '__init__',\n",
       " '__init_subclass__',\n",
       " '__iter__',\n",
       " '__le__',\n",
       " '__len__',\n",
       " '__lt__',\n",
       " '__mod__',\n",
       " '__mul__',\n",
       " '__ne__',\n",
       " '__new__',\n",
       " '__reduce__',\n",
       " '__reduce_ex__',\n",
       " '__repr__',\n",
       " '__rmod__',\n",
       " '__rmul__',\n",
       " '__setattr__',\n",
       " '__sizeof__',\n",
       " '__str__',\n",
       " '__subclasshook__',\n",
       " 'capitalize',\n",
       " 'casefold',\n",
       " 'center',\n",
       " 'count',\n",
       " 'encode',\n",
       " 'endswith',\n",
       " 'expandtabs',\n",
       " 'find',\n",
       " 'format',\n",
       " 'format_map',\n",
       " 'index',\n",
       " 'isalnum',\n",
       " 'isalpha',\n",
       " 'isdecimal',\n",
       " 'isdigit',\n",
       " 'isidentifier',\n",
       " 'islower',\n",
       " 'isnumeric',\n",
       " 'isprintable',\n",
       " 'isspace',\n",
       " 'istitle',\n",
       " 'isupper',\n",
       " 'join',\n",
       " 'ljust',\n",
       " 'lower',\n",
       " 'lstrip',\n",
       " 'maketrans',\n",
       " 'partition',\n",
       " 'replace',\n",
       " 'rfind',\n",
       " 'rindex',\n",
       " 'rjust',\n",
       " 'rpartition',\n",
       " 'rsplit',\n",
       " 'rstrip',\n",
       " 'split',\n",
       " 'splitlines',\n",
       " 'startswith',\n",
       " 'strip',\n",
       " 'swapcase',\n",
       " 'title',\n",
       " 'translate',\n",
       " 'upper',\n",
       " 'zfill']"
      ]
     },
     "execution_count": 18,
     "metadata": {},
     "output_type": "execute_result"
    }
   ],
   "source": [
    "dir(s1)"
   ]
  },
  {
   "cell_type": "markdown",
   "metadata": {
    "slideshow": {
     "slide_type": "slide"
    }
   },
   "source": [
    "#### 算术操作\n",
    "\n",
    "|操作符 | 特殊方法    |  说明   |\n",
    "| :----:|:-------------| -------: |\n",
    "| `+`  | `__add__`    | 加法   |\n",
    "| `*`  | `__mul__`    | 乘法   |"
   ]
  },
  {
   "cell_type": "code",
   "execution_count": 19,
   "metadata": {
    "slideshow": {
     "slide_type": "slide"
    }
   },
   "outputs": [
    {
     "data": {
      "text/plain": [
       "'I love Python'"
      ]
     },
     "execution_count": 19,
     "metadata": {},
     "output_type": "execute_result"
    }
   ],
   "source": [
    "'I love ' + 'Python'"
   ]
  },
  {
   "cell_type": "code",
   "execution_count": 20,
   "metadata": {
    "slideshow": {
     "slide_type": "-"
    }
   },
   "outputs": [
    {
     "name": "stdout",
     "output_type": "stream",
     "text": [
      "I love Python\n",
      "I love Python\n",
      "I love Python\n",
      "\n"
     ]
    }
   ],
   "source": [
    "print('I love Python\\n' * 3)"
   ]
  },
  {
   "cell_type": "markdown",
   "metadata": {
    "slideshow": {
     "slide_type": "slide"
    }
   },
   "source": [
    "#### 比较运算\n",
    "\n",
    "|操作符 | 特殊方法    |  说明   |\n",
    "| :----:|:-------------| -------: |\n",
    "| `<`  | `__lt__`    | 小于   |\n",
    "| `<=`  | `__le__`   | 小于等于   |\n",
    "| `>`  | `__gt__`    | 大于   |\n",
    "| `>=` | `__ge__`    | 大于等于   |\n",
    "| `==`  | `__eq__`   | 等于   |\n",
    "| `!=` | `__ne__`    | 不等于   |"
   ]
  },
  {
   "cell_type": "code",
   "execution_count": 21,
   "metadata": {
    "slideshow": {
     "slide_type": "slide"
    }
   },
   "outputs": [
    {
     "name": "stdout",
     "output_type": "stream",
     "text": [
      "True True True\n",
      "True True True\n"
     ]
    }
   ],
   "source": [
    "print('a' < 'b', '' < 'a', 'A' < 'a')\n",
    "print('aa' < 'ab', 'abc' < 'abca', 'aA' < 'aa')"
   ]
  },
  {
   "cell_type": "code",
   "execution_count": 22,
   "metadata": {
    "slideshow": {
     "slide_type": "-"
    }
   },
   "outputs": [
    {
     "name": "stdout",
     "output_type": "stream",
     "text": [
      "True False False\n",
      "False True\n"
     ]
    }
   ],
   "source": [
    "print('abc' == 'abc', 'Abc' == 'abc', ' ' == '')\n",
    "print('abc' != 'abc', 'Abc' != 'abc')"
   ]
  },
  {
   "cell_type": "markdown",
   "metadata": {
    "slideshow": {
     "slide_type": "slide"
    }
   },
   "source": [
    "#### 序列操作\n",
    "\n",
    "|操作符 | 特殊方法    |  说明   |\n",
    "| :----:|:-------------| -------: |\n",
    "|`len()` | `__len__`   | 获得字符串长度  |\n",
    "|`s[k]`  | `__getitem__` | 返回序列内容  |"
   ]
  },
  {
   "cell_type": "markdown",
   "metadata": {
    "slideshow": {
     "slide_type": "slide"
    }
   },
   "source": [
    "字符串是个序列（Sequence）\n",
    "\n",
    "![字符串序列](assets/positive_and_negative_indices_of_strings.png)"
   ]
  },
  {
   "cell_type": "code",
   "execution_count": 25,
   "metadata": {
    "slideshow": {
     "slide_type": "slide"
    }
   },
   "outputs": [
    {
     "name": "stdout",
     "output_type": "stream",
     "text": [
      "11\n",
      "10\n"
     ]
    }
   ],
   "source": [
    "s = 'Hello World'\n",
    "print(len(s))\n",
    "print(len('0123456789'))"
   ]
  },
  {
   "cell_type": "markdown",
   "metadata": {
    "slideshow": {
     "slide_type": "slide"
    }
   },
   "source": [
    "**序列的分片**\n",
    "\n",
    "```\n",
    "seq[start]\n",
    "seq[start:end]\n",
    "seq[start:end:step]\n",
    "```"
   ]
  },
  {
   "cell_type": "code",
   "execution_count": 26,
   "metadata": {
    "slideshow": {
     "slide_type": "-"
    }
   },
   "outputs": [
    {
     "name": "stdout",
     "output_type": "stream",
     "text": [
      "H   W d\n",
      "d W H\n"
     ]
    }
   ],
   "source": [
    "print(s[0], s[5], s[6], s[10])\n",
    "print(s[-1], s[-5], s[-11])"
   ]
  },
  {
   "cell_type": "code",
   "execution_count": 2,
   "metadata": {
    "slideshow": {
     "slide_type": "slide"
    }
   },
   "outputs": [],
   "source": [
    "# IndexError: index out of range\n",
    "# print(s[11])"
   ]
  },
  {
   "cell_type": "code",
   "execution_count": 28,
   "metadata": {
    "slideshow": {
     "slide_type": "slide"
    }
   },
   "outputs": [
    {
     "name": "stdout",
     "output_type": "stream",
     "text": [
      "234 23456789 2345678 23456789\n",
      "24 2468 2468 258\n"
     ]
    }
   ],
   "source": [
    "s = '0123456789'\n",
    "print(s[2:5], s[2:10], s[2:-1], s[2:])\n",
    "print(s[2:5:2], s[2:10:2], s[2:-1:2], s[2::3])"
   ]
  },
  {
   "cell_type": "code",
   "execution_count": 29,
   "metadata": {
    "slideshow": {
     "slide_type": "-"
    }
   },
   "outputs": [
    {
     "name": "stdout",
     "output_type": "stream",
     "text": [
      "9876543210\n"
     ]
    }
   ],
   "source": [
    "s = '0123456789'\n",
    "print(s[::-1])"
   ]
  },
  {
   "cell_type": "markdown",
   "metadata": {
    "slideshow": {
     "slide_type": "slide"
    }
   },
   "source": [
    "> 每个对象都有三个特性：类型、身份标识、值\n",
    "\n",
    "> 在Python中对象一旦创建，在其生命周期，类型和身份标识不能改变。\n",
    "\n",
    "> 值不可以改变称为不可变对象（immutable），可以改变称为可变对象（mutable）"
   ]
  },
  {
   "cell_type": "markdown",
   "metadata": {
    "slideshow": {
     "slide_type": "-"
    }
   },
   "source": [
    "Python字符串对象是不可变对象（immutable）。字符串对象的值就是其本身，为一串字符。不能更改字符串中的内容。"
   ]
  },
  {
   "cell_type": "code",
   "execution_count": 30,
   "metadata": {
    "slideshow": {
     "slide_type": "slide"
    }
   },
   "outputs": [
    {
     "ename": "TypeError",
     "evalue": "'str' object does not support item assignment",
     "output_type": "error",
     "traceback": [
      "\u001b[0;31m---------------------------------------------------------------------------\u001b[0m",
      "\u001b[0;31mTypeError\u001b[0m                                 Traceback (most recent call last)",
      "\u001b[0;32m<ipython-input-30-1a52a667fa78>\u001b[0m in \u001b[0;36m<module>\u001b[0;34m()\u001b[0m\n\u001b[1;32m      1\u001b[0m \u001b[0;31m# 更改字符串值会报错\u001b[0m\u001b[0;34m\u001b[0m\u001b[0;34m\u001b[0m\u001b[0m\n\u001b[1;32m      2\u001b[0m \u001b[0ms\u001b[0m \u001b[0;34m=\u001b[0m \u001b[0;34m'Hello World'\u001b[0m\u001b[0;34m\u001b[0m\u001b[0m\n\u001b[0;32m----> 3\u001b[0;31m \u001b[0ms\u001b[0m\u001b[0;34m[\u001b[0m\u001b[0;36m0\u001b[0m\u001b[0;34m]\u001b[0m \u001b[0;34m=\u001b[0m \u001b[0;34m'x'\u001b[0m\u001b[0;34m\u001b[0m\u001b[0m\n\u001b[0m",
      "\u001b[0;31mTypeError\u001b[0m: 'str' object does not support item assignment"
     ]
    }
   ],
   "source": [
    "# 更改字符串值会报错\n",
    "s = 'Hello World'\n",
    "s[0] = 'x'"
   ]
  },
  {
   "cell_type": "code",
   "execution_count": 31,
   "metadata": {
    "slideshow": {
     "slide_type": "slide"
    }
   },
   "outputs": [
    {
     "name": "stdout",
     "output_type": "stream",
     "text": [
      "140689912797872 140689912797872\n"
     ]
    }
   ],
   "source": [
    "print(id(s), id(s[:]))"
   ]
  },
  {
   "cell_type": "code",
   "execution_count": 32,
   "metadata": {
    "slideshow": {
     "slide_type": "-"
    }
   },
   "outputs": [
    {
     "name": "stdout",
     "output_type": "stream",
     "text": [
      "140689912797872 140689912798000\n"
     ]
    }
   ],
   "source": [
    "print(id(s), id(s[::-1]))"
   ]
  },
  {
   "cell_type": "code",
   "execution_count": 33,
   "metadata": {
    "slideshow": {
     "slide_type": "slide"
    }
   },
   "outputs": [
    {
     "name": "stdout",
     "output_type": "stream",
     "text": [
      "Hello World HelloPython\n",
      "140689912390128 140689912390704\n"
     ]
    }
   ],
   "source": [
    "s = 'Hello World'\n",
    "ts = s[:5] + 'Python'\n",
    "print(s, ts)\n",
    "print(id(s), id(ts))"
   ]
  },
  {
   "cell_type": "code",
   "execution_count": 34,
   "metadata": {
    "slideshow": {
     "slide_type": "slide"
    }
   },
   "outputs": [],
   "source": [
    "s = 'Hello World'\n",
    "s2 = s[:]\n",
    "s3 = s[:6] + 'Python'\n",
    "s4 = s[::-1]"
   ]
  },
  {
   "cell_type": "markdown",
   "metadata": {
    "slideshow": {
     "slide_type": "-"
    }
   },
   "source": [
    "![可视化字符串对象](assets/visual_str01.png)"
   ]
  },
  {
   "cell_type": "markdown",
   "metadata": {
    "slideshow": {
     "slide_type": "slide"
    }
   },
   "source": [
    "#### 成员运算符\n",
    "\n",
    "|操作符 | 特殊方法    |  说明   |\n",
    "| :----:|:-------------| -------: |\n",
    "|`in` | `__contains__`   | 成员 |"
   ]
  },
  {
   "cell_type": "code",
   "execution_count": 441,
   "metadata": {
    "slideshow": {
     "slide_type": "-"
    }
   },
   "outputs": [
    {
     "name": "stdout",
     "output_type": "stream",
     "text": [
      "True True False\n"
     ]
    }
   ],
   "source": [
    "s = '0123456789'\n",
    "print('0' in s, '123' in s, '245' in s)"
   ]
  },
  {
   "cell_type": "markdown",
   "metadata": {
    "slideshow": {
     "slide_type": "skip"
    }
   },
   "source": [
    "#### 字符串操作与方法"
   ]
  },
  {
   "cell_type": "markdown",
   "metadata": {
    "slideshow": {
     "slide_type": "slide"
    }
   },
   "source": [
    "##### 字符串中字符大小写的变换\n",
    "\n",
    "|方法         |  说明      |\n",
    "|:--------------:|-------------: |\n",
    "|`s.lower()`    | 转换字符为小写 |\n",
    "|`s.upper()`    | 转换字符为大写 |\n",
    "|`s.swapcase()`  | 大小写互换 |\n",
    "|`s.capitalize()`| 首字母大写 |\n",
    "|`s.title()`    | 对字符串标题化 |"
   ]
  },
  {
   "cell_type": "markdown",
   "metadata": {
    "slideshow": {
     "slide_type": "slide"
    }
   },
   "source": [
    "##### 字符串在输出时的对齐\n",
    "\n",
    "\n",
    "|方法         |  说明      |\n",
    "|:--------------:|-------------: |\n",
    "|`s.ljust()`     | 左对齐 |\n",
    "|`s.rjust()`     | 右对齐 |\n",
    "|`s.center()`     |居中 |\n",
    "|`s.zfill()`     | 右对齐，用0补齐 |"
   ]
  },
  {
   "cell_type": "markdown",
   "metadata": {
    "slideshow": {
     "slide_type": "slide"
    }
   },
   "source": [
    "##### 字符串中的搜索\n",
    "\n",
    "|方法         |  说明      |\n",
    "|:--------------:|-------------: |\n",
    "|`s.find()`     | 搜索字符串 |\n",
    "|`s.rfind()`    | 从右边搜索字符串 |\n",
    "|`s.index()`    | 搜索字符串 |\n",
    "|`s.rindex()`    | 从右边搜索字符串 |\n",
    "|`s.count()`    | 计算子字符串出现次数 |"
   ]
  },
  {
   "cell_type": "markdown",
   "metadata": {
    "slideshow": {
     "slide_type": "slide"
    }
   },
   "source": [
    "##### 字符串中的替换\n",
    "\n",
    "|方法         |  说明      |\n",
    "|:--------------:|-------------: |\n",
    "|`s.strip()`    | 去除首尾字符 |\n",
    "|`s.lstrip()`    | 去除首字符 |\n",
    "|`s.rstrip()`    | 去除尾字符 |\n",
    "|`s.replace()`   | 替换字符串  |\n",
    "|`s.expandtabs()` | 替换Tab符  |"
   ]
  },
  {
   "cell_type": "markdown",
   "metadata": {
    "slideshow": {
     "slide_type": "slide"
    }
   },
   "source": [
    "##### 字符串分割和合并\n",
    "\n",
    "|方法         |  说明      |\n",
    "|:--------------:|-------------: |\n",
    "|`s.split()`    | 拆分字符串 |\n",
    "|`s.rsplit()`    | 从右拆分字符串 |\n",
    "|`s.splitlines()` | 拆分行 |\n",
    "|`s.partition()` |  分割字符串 |\n",
    "|`s.rpartition()` | 从右分割字符串 |\n",
    "|`s.join()`    | 连接序列 |"
   ]
  },
  {
   "cell_type": "markdown",
   "metadata": {
    "slideshow": {
     "slide_type": "slide"
    }
   },
   "source": [
    "##### 字符串的测试方法\n",
    "\n",
    "\n",
    "|方法         |  说明      |\n",
    "|:--------------:|-------------: |\n",
    "|`s.startswith()`| 检查字符串开头 |\n",
    "|`s.endswith()`  | 检查字符串结尾 |\n",
    "|`s.isalpha()`  | 检查是否全是字母 |\n",
    "|`s.isdigit()`  | 检查是否全是数字 |\n",
    "|`s.isalnum()`  | 检查是否全是字母和数字 |\n",
    "|`s.isspace()`  | 检查是否全是空白字符|\n",
    "|`s.ispritable()`  | 检查是否全是可打印字符|\n",
    "|`s.islower()`  | 检查字符是否全是小写 |\n",
    "|`s.isupper()`  | 检查字符全是大写 |\n",
    "|`s.istitle()`  | 检查是否是标题 |"
   ]
  },
  {
   "cell_type": "markdown",
   "metadata": {
    "slideshow": {
     "slide_type": "slide"
    }
   },
   "source": [
    "#### 字符串的mapping\n",
    "\n",
    "|方法         |  说明      |\n",
    "|:--------------:|-------------: |\n",
    "|`s.maketrans()`    | |\n",
    "|`s.translate()`    | |"
   ]
  },
  {
   "cell_type": "markdown",
   "metadata": {
    "slideshow": {
     "slide_type": "slide"
    }
   },
   "source": [
    "##### 字符串编码和解码\n",
    "\n",
    "|方法         |  说明      |\n",
    "|:--------------:|-------------: |\n",
    "|`s.encode()`    | |\n",
    "|`s.decode()`    | |"
   ]
  },
  {
   "cell_type": "markdown",
   "metadata": {
    "slideshow": {
     "slide_type": "slide"
    }
   },
   "source": [
    "## 操作和方法示例"
   ]
  },
  {
   "cell_type": "code",
   "execution_count": 442,
   "metadata": {
    "slideshow": {
     "slide_type": "slide"
    }
   },
   "outputs": [
    {
     "name": "stdout",
     "output_type": "stream",
     "text": [
      "32 0\n"
     ]
    }
   ],
   "source": [
    "# string __len__ method\n",
    "s = \"this is string example....wow!!!\"\n",
    "print(len(s), len(''))"
   ]
  },
  {
   "cell_type": "code",
   "execution_count": 443,
   "metadata": {
    "slideshow": {
     "slide_type": "slide"
    }
   },
   "outputs": [
    {
     "name": "stdout",
     "output_type": "stream",
     "text": [
      "y\n",
      "x\n"
     ]
    }
   ],
   "source": [
    "# string max\n",
    "s = \"this is a string example....really!!!\"\n",
    "print(max(s))\n",
    "\n",
    "s = \"this is a string example....wow!!!\"\n",
    "print(max(s))"
   ]
  },
  {
   "cell_type": "code",
   "execution_count": 445,
   "metadata": {
    "slideshow": {
     "slide_type": "slide"
    }
   },
   "outputs": [
    {
     "name": "stdout",
     "output_type": "stream",
     "text": [
      ".\n",
      "A\n"
     ]
    }
   ],
   "source": [
    "# String Min Method\n",
    "s = \"www.tutorialspoint.com\"\n",
    "print(min(s))\n",
    "\n",
    "s = \"TUTORIALSPOINT\"\n",
    "print(min(s))"
   ]
  },
  {
   "cell_type": "markdown",
   "metadata": {
    "slideshow": {
     "slide_type": "slide"
    }
   },
   "source": [
    "转换字符为小写\n",
    "```\n",
    "    S.lower() -> str\n",
    "    \n",
    "    Return a copy of the string S converted to lowercase.\n",
    "```"
   ]
  },
  {
   "cell_type": "code",
   "execution_count": 446,
   "metadata": {
    "slideshow": {
     "slide_type": "-"
    }
   },
   "outputs": [
    {
     "name": "stdout",
     "output_type": "stream",
     "text": [
      "this is string example....wow!!!\n"
     ]
    }
   ],
   "source": [
    "# String Lower Method\n",
    "s = \"THIS IS STRING EXAMPLE....WOW!!!\"\n",
    "print(s.lower())"
   ]
  },
  {
   "cell_type": "markdown",
   "metadata": {
    "slideshow": {
     "slide_type": "slide"
    }
   },
   "source": [
    "转换字符为大写\n",
    "```\n",
    "    S.upper() -> str\n",
    "    \n",
    "    Return a copy of S converted to uppercase.\n",
    "```    "
   ]
  },
  {
   "cell_type": "code",
   "execution_count": 447,
   "metadata": {
    "slideshow": {
     "slide_type": "-"
    }
   },
   "outputs": [
    {
     "name": "stdout",
     "output_type": "stream",
     "text": [
      "THIS IS STRING EXAMPLE....WOW!!!\n"
     ]
    }
   ],
   "source": [
    "# String Upper Method\n",
    "s = \"this is string example....wow!!!\"\n",
    "print(s.upper())"
   ]
  },
  {
   "cell_type": "markdown",
   "metadata": {
    "slideshow": {
     "slide_type": "slide"
    }
   },
   "source": [
    "大小写互换\n",
    "```\n",
    "    S.swapcase() -> str\n",
    "    \n",
    "    Return a copy of S with uppercase characters converted to lowercase\n",
    "    and vice versa.\n",
    "```"
   ]
  },
  {
   "cell_type": "code",
   "execution_count": 449,
   "metadata": {
    "slideshow": {
     "slide_type": "-"
    }
   },
   "outputs": [
    {
     "name": "stdout",
     "output_type": "stream",
     "text": [
      "THIS IS STRING EXAMPLE....WOW!!!\n",
      "tHIS iS sTRING eXAMPLE....wow!!!\n"
     ]
    }
   ],
   "source": [
    "# String Swapcase Method\n",
    "s = \"this is string example....wow!!!\"\n",
    "print(s.swapcase())\n",
    "\n",
    "s = \"This Is String Example....WOW!!!\"\n",
    "print(s.swapcase())"
   ]
  },
  {
   "cell_type": "markdown",
   "metadata": {
    "slideshow": {
     "slide_type": "slide"
    }
   },
   "source": [
    "首字母大写\n",
    "```\n",
    "    S.capitalize() -> str\n",
    "    \n",
    "    Return a capitalized version of S, i.e. make the first character\n",
    "    have upper case and the rest lower case.\n",
    "```    "
   ]
  },
  {
   "cell_type": "code",
   "execution_count": 451,
   "metadata": {
    "slideshow": {
     "slide_type": "-"
    }
   },
   "outputs": [
    {
     "name": "stdout",
     "output_type": "stream",
     "text": [
      "This is string example....wow!!!\n"
     ]
    }
   ],
   "source": [
    "# string captalize method\n",
    "s = \"this is string example....wow!!!\"\n",
    "print(s.capitalize())"
   ]
  },
  {
   "cell_type": "markdown",
   "metadata": {
    "slideshow": {
     "slide_type": "slide"
    }
   },
   "source": [
    "字符串标题化\n",
    "```\n",
    "    S.title() -> str\n",
    "    \n",
    "    Return a titlecased version of S, i.e. words start with title case\n",
    "    characters, all remaining cased characters have lower case.\n",
    "```    "
   ]
  },
  {
   "cell_type": "code",
   "execution_count": 452,
   "metadata": {
    "slideshow": {
     "slide_type": "-"
    }
   },
   "outputs": [
    {
     "name": "stdout",
     "output_type": "stream",
     "text": [
      "This Is String Example....Wow!!!\n"
     ]
    }
   ],
   "source": [
    "# String Title Method\n",
    "s = \"this is string example....wow!!!\"\n",
    "print(s.title())"
   ]
  },
  {
   "cell_type": "markdown",
   "metadata": {
    "slideshow": {
     "slide_type": "slide"
    }
   },
   "source": [
    "返回指定长度(`width`)字符串，原字符串左对齐，不足部分用空格或指定字符补齐 \n",
    "\n",
    "```\n",
    "    S.ljust(width[, fillchar]) -> str\n",
    "    \n",
    "    Return S left-justified in a Unicode string of length width. Padding is\n",
    "    done using the specified fill character (default is a space).\n",
    "```"
   ]
  },
  {
   "cell_type": "code",
   "execution_count": 455,
   "metadata": {
    "slideshow": {
     "slide_type": "-"
    }
   },
   "outputs": [
    {
     "name": "stdout",
     "output_type": "stream",
     "text": [
      "this is string example....wow!!!                  \n",
      "this is string example....wow!!!##################\n"
     ]
    }
   ],
   "source": [
    "# String Ljust Method\n",
    "s = \"this is string example....wow!!!\"\n",
    "print(s.ljust(50))\n",
    "print(s.ljust(50, '#'))"
   ]
  },
  {
   "cell_type": "markdown",
   "metadata": {
    "slideshow": {
     "slide_type": "slide"
    }
   },
   "source": [
    "返回指定长度字符串，原字符串右对齐，不足部分用空格或指定字符补齐\n",
    "\n",
    "```\n",
    "    S.rjust(width[, fillchar]) -> str\n",
    "    \n",
    "    Return S right-justified in a string of length width. Padding is\n",
    "    done using the specified fill character (default is a space).\n",
    "```    "
   ]
  },
  {
   "cell_type": "code",
   "execution_count": 456,
   "metadata": {
    "slideshow": {
     "slide_type": "-"
    }
   },
   "outputs": [
    {
     "name": "stdout",
     "output_type": "stream",
     "text": [
      "                  this is string example....wow!!!\n",
      "##################this is string example....wow!!!\n"
     ]
    }
   ],
   "source": [
    "# String Rjust Method\n",
    "s = \"this is string example....wow!!!\"\n",
    "print(s.rjust(50))\n",
    "print(s.rjust(50, '#'))"
   ]
  },
  {
   "cell_type": "markdown",
   "metadata": {
    "slideshow": {
     "slide_type": "slide"
    }
   },
   "source": [
    "返回指定长度字符串，原字符串居中\n",
    "```\n",
    "    S.center(width[, fillchar]) -> str\n",
    "    \n",
    "    Return S centered in a string of length width. Padding is\n",
    "    done using the specified fill character (default is a space)\n",
    "```"
   ]
  },
  {
   "cell_type": "code",
   "execution_count": 457,
   "metadata": {
    "slideshow": {
     "slide_type": "-"
    }
   },
   "outputs": [
    {
     "name": "stdout",
     "output_type": "stream",
     "text": [
      "         this is string example....wow!!!         \n",
      "#########this is string example....wow!!!#########\n"
     ]
    }
   ],
   "source": [
    "# String Center Method\n",
    "s = \"this is string example....wow!!!\"\n",
    "print(s.center(50))\n",
    "print(s.center(50, '#'))"
   ]
  },
  {
   "cell_type": "markdown",
   "metadata": {
    "slideshow": {
     "slide_type": "slide"
    }
   },
   "source": [
    "返回指定长度字符串，原字符串右对齐，不足部分用0补齐\n",
    "```\n",
    "    S.zfill(width) -> str\n",
    "    \n",
    "    Pad a numeric string S with zeros on the left, to fill a field\n",
    "    of the specified width. The string S is never truncated.\n",
    "```"
   ]
  },
  {
   "cell_type": "code",
   "execution_count": 458,
   "metadata": {
    "slideshow": {
     "slide_type": "-"
    }
   },
   "outputs": [
    {
     "name": "stdout",
     "output_type": "stream",
     "text": [
      "00000000000000000000000000000003.1415926\n",
      "000000000000000000000000000000000000000003.1415926\n"
     ]
    }
   ],
   "source": [
    "# String Zfill Method\n",
    "s = \"3.1415926\"\n",
    "print(s.zfill(40))\n",
    "print(s.zfill(50))"
   ]
  },
  {
   "cell_type": "markdown",
   "metadata": {
    "slideshow": {
     "slide_type": "slide"
    }
   },
   "source": [
    "搜索字符串是否包含指定子字符串，可以指定搜索范围，成功返回开始的索引值，否则返回-1\n",
    "```\n",
    "    S.find(sub[, start[, end]]) -> int\n",
    "```    "
   ]
  },
  {
   "cell_type": "code",
   "execution_count": 460,
   "metadata": {},
   "outputs": [
    {
     "name": "stdout",
     "output_type": "stream",
     "text": [
      "17\n",
      "17\n",
      "-1\n"
     ]
    }
   ],
   "source": [
    "# string find method\n",
    "s1 = 'this is a string example...wow!!!'\n",
    "s2 = 'exam'\n",
    "print(s1.find(s2))\n",
    "print(s1.find(s2, 10))\n",
    "print(s1.find(s2, 40))"
   ]
  },
  {
   "cell_type": "markdown",
   "metadata": {
    "slideshow": {
     "slide_type": "slide"
    }
   },
   "source": [
    "与`s.find()`方法类似，只是从右边开始查找\n",
    "```\n",
    "    S.rfind(sub[, start[, end]]) -> int\n",
    "```"
   ]
  },
  {
   "cell_type": "code",
   "execution_count": 465,
   "metadata": {
    "slideshow": {
     "slide_type": "-"
    }
   },
   "outputs": [
    {
     "name": "stdout",
     "output_type": "stream",
     "text": [
      "41\n",
      "-1\n",
      "24\n"
     ]
    }
   ],
   "source": [
    "# String Rfind Method\n",
    "s1 = \"This is really a string example..another example\"\n",
    "s2 = \"exam\"\n",
    "\n",
    "print(s1.rfind(s2))\n",
    "print(s1.rfind(s2, 0, 10))\n",
    "print(s1.rfind(s2, 10, 30))"
   ]
  },
  {
   "cell_type": "markdown",
   "metadata": {
    "slideshow": {
     "slide_type": "slide"
    }
   },
   "source": [
    "与`s.find()`方法类似，只不过失败时报一个异常`ValueError`。\n",
    "```\n",
    "    S.index(sub[, start[, end]]) -> int\n",
    "```"
   ]
  },
  {
   "cell_type": "code",
   "execution_count": 466,
   "metadata": {
    "slideshow": {
     "slide_type": "-"
    }
   },
   "outputs": [
    {
     "name": "stdout",
     "output_type": "stream",
     "text": [
      "17\n",
      "17\n"
     ]
    },
    {
     "ename": "ValueError",
     "evalue": "substring not found",
     "output_type": "error",
     "traceback": [
      "\u001b[0;31m---------------------------------------------------------------------------\u001b[0m",
      "\u001b[0;31mValueError\u001b[0m                                Traceback (most recent call last)",
      "\u001b[0;32m<ipython-input-466-c832124b0ace>\u001b[0m in \u001b[0;36m<module>\u001b[0;34m()\u001b[0m\n\u001b[1;32m      4\u001b[0m \u001b[0mprint\u001b[0m\u001b[0;34m(\u001b[0m\u001b[0ms1\u001b[0m\u001b[0;34m.\u001b[0m\u001b[0mindex\u001b[0m\u001b[0;34m(\u001b[0m\u001b[0ms2\u001b[0m\u001b[0;34m)\u001b[0m\u001b[0;34m)\u001b[0m\u001b[0;34m\u001b[0m\u001b[0m\n\u001b[1;32m      5\u001b[0m \u001b[0mprint\u001b[0m\u001b[0;34m(\u001b[0m\u001b[0ms1\u001b[0m\u001b[0;34m.\u001b[0m\u001b[0mindex\u001b[0m\u001b[0;34m(\u001b[0m\u001b[0ms2\u001b[0m\u001b[0;34m,\u001b[0m \u001b[0;36m10\u001b[0m\u001b[0;34m)\u001b[0m\u001b[0;34m)\u001b[0m\u001b[0;34m\u001b[0m\u001b[0m\n\u001b[0;32m----> 6\u001b[0;31m \u001b[0mprint\u001b[0m\u001b[0;34m(\u001b[0m\u001b[0ms1\u001b[0m\u001b[0;34m.\u001b[0m\u001b[0mindex\u001b[0m\u001b[0;34m(\u001b[0m\u001b[0ms2\u001b[0m\u001b[0;34m,\u001b[0m \u001b[0;36m40\u001b[0m\u001b[0;34m)\u001b[0m\u001b[0;34m)\u001b[0m\u001b[0;34m\u001b[0m\u001b[0m\n\u001b[0m",
      "\u001b[0;31mValueError\u001b[0m: substring not found"
     ]
    }
   ],
   "source": [
    "# string index method\n",
    "s1 = 'this is a string example...wow!!!'\n",
    "s2 = 'exam'\n",
    "print(s1.index(s2))\n",
    "print(s1.index(s2, 10))\n",
    "print(s1.index(s2, 40))"
   ]
  },
  {
   "cell_type": "markdown",
   "metadata": {
    "slideshow": {
     "slide_type": "slide"
    }
   },
   "source": [
    "与`s.index()`方法类似，只是从右边开始搜索。\n",
    "```\n",
    "    S.rindex(sub[, start[, end]]) -> int\n",
    "```"
   ]
  },
  {
   "cell_type": "code",
   "execution_count": 467,
   "metadata": {
    "slideshow": {
     "slide_type": "-"
    }
   },
   "outputs": [
    {
     "name": "stdout",
     "output_type": "stream",
     "text": [
      "5\n"
     ]
    },
    {
     "ename": "ValueError",
     "evalue": "substring not found",
     "output_type": "error",
     "traceback": [
      "\u001b[0;31m---------------------------------------------------------------------------\u001b[0m",
      "\u001b[0;31mValueError\u001b[0m                                Traceback (most recent call last)",
      "\u001b[0;32m<ipython-input-467-7cb26002e1bd>\u001b[0m in \u001b[0;36m<module>\u001b[0;34m()\u001b[0m\n\u001b[1;32m      3\u001b[0m \u001b[0ms2\u001b[0m \u001b[0;34m=\u001b[0m \u001b[0;34m\"is\"\u001b[0m\u001b[0;34m\u001b[0m\u001b[0m\n\u001b[1;32m      4\u001b[0m \u001b[0mprint\u001b[0m\u001b[0;34m(\u001b[0m\u001b[0ms1\u001b[0m\u001b[0;34m.\u001b[0m\u001b[0mrindex\u001b[0m\u001b[0;34m(\u001b[0m\u001b[0ms2\u001b[0m\u001b[0;34m)\u001b[0m\u001b[0;34m)\u001b[0m\u001b[0;34m\u001b[0m\u001b[0m\n\u001b[0;32m----> 5\u001b[0;31m \u001b[0mprint\u001b[0m\u001b[0;34m(\u001b[0m\u001b[0ms1\u001b[0m\u001b[0;34m.\u001b[0m\u001b[0mrindex\u001b[0m\u001b[0;34m(\u001b[0m\u001b[0ms2\u001b[0m\u001b[0;34m,\u001b[0m \u001b[0;36m10\u001b[0m\u001b[0;34m)\u001b[0m\u001b[0;34m)\u001b[0m\u001b[0;34m\u001b[0m\u001b[0m\n\u001b[0m",
      "\u001b[0;31mValueError\u001b[0m: substring not found"
     ]
    }
   ],
   "source": [
    "# String Rindex Method\n",
    "s1 = \"this is really a string example....wow!!!\"\n",
    "s2 = \"is\"\n",
    "print(s1.rindex(s2))\n",
    "print(s1.rindex(s2, 10))"
   ]
  },
  {
   "cell_type": "markdown",
   "metadata": {
    "slideshow": {
     "slide_type": "slide"
    }
   },
   "source": [
    "计算子字符串出现次数，可以指定搜索范围。\n",
    "```\n",
    "    S.count(sub[, start[, end]]) -> int\n",
    "```"
   ]
  },
  {
   "cell_type": "code",
   "execution_count": 468,
   "metadata": {
    "slideshow": {
     "slide_type": "-"
    }
   },
   "outputs": [
    {
     "name": "stdout",
     "output_type": "stream",
     "text": [
      "1\n",
      "2\n",
      "2\n"
     ]
    }
   ],
   "source": [
    "# string count method\n",
    "s = \"this is string example....another example!!!\"\n",
    "print(s.count('no'))\n",
    "print(s.count('is'))\n",
    "print (s.count('exam', 10, 40))"
   ]
  },
  {
   "cell_type": "markdown",
   "metadata": {
    "slideshow": {
     "slide_type": "slide"
    }
   },
   "source": [
    "删除字符串前后的空格，也可以指定字符\n",
    "```\n",
    "   S.strip([chars]) -> str\n",
    "    \n",
    "    Return a copy of the string S with leading and trailing\n",
    "    whitespace removed.\n",
    "    If chars is given and not None, remove characters in chars instead.\n",
    "```"
   ]
  },
  {
   "cell_type": "code",
   "execution_count": 471,
   "metadata": {
    "slideshow": {
     "slide_type": "slide"
    }
   },
   "outputs": [
    {
     "name": "stdout",
     "output_type": "stream",
     "text": [
      "this is string example....wow!!!\n",
      "this is string example....wow!!!\n"
     ]
    }
   ],
   "source": [
    "# String Strip Method\n",
    "s = \"    this is string example....wow!!!   \"\n",
    "print(s.strip())\n",
    "\n",
    "s = \"*****this is string example....wow!!!*****\"\n",
    "print(s.strip('*'))"
   ]
  },
  {
   "cell_type": "markdown",
   "metadata": {
    "slideshow": {
     "slide_type": "slide"
    }
   },
   "source": [
    "与`s.strip`类似，只是截断后面\n",
    "```\n",
    "    S.rstrip([chars]) -> str\n",
    "    \n",
    "    Return a copy of the string S with trailing whitespace removed.\n",
    "    If chars is given and not None, remove characters in chars instead.\n",
    "```"
   ]
  },
  {
   "cell_type": "code",
   "execution_count": 472,
   "metadata": {
    "slideshow": {
     "slide_type": "-"
    }
   },
   "outputs": [
    {
     "name": "stdout",
     "output_type": "stream",
     "text": [
      "     this is string example....wow!!!\n",
      "*****this is string example....wow\n"
     ]
    }
   ],
   "source": [
    "# String Rstrip Method\n",
    "s = \"     this is string example....wow!!!     \"\n",
    "print(s.rstrip())\n",
    "\n",
    "s = \"*****this is string example....wow!!!*****\"\n",
    "print(s.rstrip('*!'))"
   ]
  },
  {
   "cell_type": "markdown",
   "metadata": {
    "slideshow": {
     "slide_type": "slide"
    }
   },
   "source": [
    "与`s.strip`类似，只是截断前面\n",
    "```\n",
    "    S.lstrip([chars]) -> str\n",
    "    \n",
    "    Return a copy of the string S with leading whitespace removed.\n",
    "    If chars is given and not None, remove characters in chars instead.\n",
    "```"
   ]
  },
  {
   "cell_type": "code",
   "execution_count": 473,
   "metadata": {
    "slideshow": {
     "slide_type": "-"
    }
   },
   "outputs": [
    {
     "name": "stdout",
     "output_type": "stream",
     "text": [
      "this is string example....wow!!!\n",
      "this is string example....wow!!!*****\n"
     ]
    }
   ],
   "source": [
    "# String Lstrip Method\n",
    "s = \"     this is string example....wow!!!\"\n",
    "print(s.lstrip())\n",
    "\n",
    "s = \"*****this is string example....wow!!!*****\"\n",
    "print(s.lstrip('*'))"
   ]
  },
  {
   "cell_type": "markdown",
   "metadata": {
    "slideshow": {
     "slide_type": "slide"
    }
   },
   "source": [
    "替换指定子字符串，可以指定替换次数。\n",
    "```\n",
    "    S.replace(old, new[, count]) -> str\n",
    "    \n",
    "    Return a copy of S with all occurrences of substring\n",
    "    old replaced by new.  If the optional argument count is\n",
    "    given, only the first count occurrences are replaced.\n",
    "```"
   ]
  },
  {
   "cell_type": "code",
   "execution_count": 474,
   "metadata": {
    "slideshow": {
     "slide_type": "-"
    }
   },
   "outputs": [
    {
     "name": "stdout",
     "output_type": "stream",
     "text": [
      "thwas was string example....wow!!! thwas was really string\n",
      "thwas was string example....wow!!! thwas is really string\n"
     ]
    }
   ],
   "source": [
    "# String Replace Method\n",
    "s = \"this is string example....wow!!! this is really string\"\n",
    "print(s.replace(\"is\", \"was\"))\n",
    "print(s.replace(\"is\", \"was\", 3))"
   ]
  },
  {
   "cell_type": "markdown",
   "metadata": {
    "slideshow": {
     "slide_type": "slide"
    }
   },
   "source": [
    "把字符串的Tab字符替换为空格，默认空格数是8个\n",
    "```\n",
    "    S.expandtabs(tabsize=8) -> str\n",
    "    \n",
    "    Return a copy of S where all tab characters are expanded using spaces.\n",
    "    If tabsize is not given, a tab size of 8 characters is assumed.\n",
    "```"
   ]
  },
  {
   "cell_type": "code",
   "execution_count": 475,
   "metadata": {
    "slideshow": {
     "slide_type": "-"
    }
   },
   "outputs": [
    {
     "name": "stdout",
     "output_type": "stream",
     "text": [
      "this is\tstring example\twow!!!\n",
      "this is string example  wow!!!\n",
      "this is         string example  wow!!!\n"
     ]
    }
   ],
   "source": [
    "# string expandtabs method\n",
    "s = 'this is\\tstring example\\twow!!!'\n",
    "print(s)\n",
    "print(s.expandtabs())\n",
    "print(s.expandtabs(16))"
   ]
  },
  {
   "cell_type": "markdown",
   "metadata": {
    "slideshow": {
     "slide_type": "slide"
    }
   },
   "source": [
    "通过指定分隔符对字符串进行拆分，返回分割后的字符串列表（见后续章节）。可指定拆分最大数。\n",
    "```\n",
    "    S.split(sep=None, maxsplit=-1) -> list of strings\n",
    "```    "
   ]
  },
  {
   "cell_type": "code",
   "execution_count": 478,
   "metadata": {
    "slideshow": {
     "slide_type": "-"
    }
   },
   "outputs": [
    {
     "name": "stdout",
     "output_type": "stream",
     "text": [
      "['this', 'is', 'string', 'example....wow!!!']\n",
      "['this is string example....', 'o', '!!!']\n",
      "['300302', '10.0', '12.0']\n"
     ]
    }
   ],
   "source": [
    "# String Split Method\n",
    "s = \"this is string example....wow!!!\"\n",
    "print(s.split())\n",
    "print(s.split('w'))\n",
    "s = \"300302,10.0,12.0\"\n",
    "print(s.split(','))"
   ]
  },
  {
   "cell_type": "markdown",
   "metadata": {
    "slideshow": {
     "slide_type": "slide"
    }
   },
   "source": [
    "与`s.split()`类似，只是从右边开始拆分\n",
    "```\n",
    "    S.rsplit(sep=None, maxsplit=-1) -> list of strings\n",
    "```"
   ]
  },
  {
   "cell_type": "code",
   "execution_count": 479,
   "metadata": {
    "slideshow": {
     "slide_type": "-"
    }
   },
   "outputs": [
    {
     "name": "stdout",
     "output_type": "stream",
     "text": [
      "['this', 'is', 'string', 'example....wow!!!']\n",
      "['this is string example....', 'o', '!!!']\n",
      "['this is str', 'ng example....wow!!!']\n"
     ]
    }
   ],
   "source": [
    "# String Rsplit Method\n",
    "s = \"this is string example....wow!!!\"\n",
    "print(s.rsplit())\n",
    "print(s.rsplit('w'))\n",
    "print(s.rsplit('i', 1))"
   ]
  },
  {
   "cell_type": "markdown",
   "metadata": {
    "slideshow": {
     "slide_type": "slide"
    }
   },
   "source": [
    "返回字符串的所有行，可以指定最大行数目。\n",
    "```\n",
    "    S.splitlines([keepends]) -> list of strings\n",
    "```    "
   ]
  },
  {
   "cell_type": "code",
   "execution_count": 480,
   "metadata": {
    "slideshow": {
     "slide_type": "-"
    }
   },
   "outputs": [
    {
     "name": "stdout",
     "output_type": "stream",
     "text": [
      "this is \n",
      "string example....\n",
      "wow!!!\n",
      "['this is ', 'string example....', 'wow!!!']\n"
     ]
    }
   ],
   "source": [
    "# String Splitlines Method\n",
    "s = \"this is \\nstring example....\\nwow!!!\"\n",
    "print(s)\n",
    "print(s.splitlines())"
   ]
  },
  {
   "cell_type": "markdown",
   "metadata": {
    "slideshow": {
     "slide_type": "slide"
    }
   },
   "source": [
    "根据指定的分隔符将字符串进行分割，返回一个3元的元组（参见后续章节）\n",
    "```\n",
    "    S.partition(sep) -> (head, sep, tail)\n",
    "    \n",
    "    Search for the separator sep in S, and return the part before it,\n",
    "    the separator itself, and the part after it.  If the separator is not\n",
    "    found, return S and two empty strings.\n",
    "```"
   ]
  },
  {
   "cell_type": "code",
   "execution_count": 482,
   "metadata": {
    "slideshow": {
     "slide_type": "-"
    }
   },
   "outputs": [
    {
     "name": "stdout",
     "output_type": "stream",
     "text": [
      "('zipfile', '.', 'tar.gz')\n",
      "('zipfile.tar.gz', '', '')\n",
      "('https', '://', 'isciencehub.com/')\n"
     ]
    }
   ],
   "source": [
    "# String Partition Method\n",
    "s = 'zipfile.tar.gz'\n",
    "print(s.partition('.'))\n",
    "print(s.partition('-'))\n",
    "s = 'https://isciencehub.com/'\n",
    "print(s.partition('://'))"
   ]
  },
  {
   "cell_type": "markdown",
   "metadata": {
    "slideshow": {
     "slide_type": "slide"
    }
   },
   "source": [
    "与`s.partition()`类似，只是从右边开始\n",
    "```\n",
    "    S.rpartition(sep) -> (head, sep, tail)\n",
    "```    "
   ]
  },
  {
   "cell_type": "code",
   "execution_count": 309,
   "metadata": {
    "slideshow": {
     "slide_type": "-"
    }
   },
   "outputs": [
    {
     "name": "stdout",
     "output_type": "stream",
     "text": [
      "('zipfile.tar', '.', 'gz')\n",
      "('', '', 'zipfile.tar.gz')\n",
      "('https', '://', 'isciencehub.com/')\n"
     ]
    }
   ],
   "source": [
    "# String Partition Method\n",
    "s = 'zipfile.tar.gz'\n",
    "print(s.rpartition('.'))\n",
    "print(s.rpartition('-'))\n",
    "s = 'https://isciencehub.com/'\n",
    "print(s.rpartition('://'))"
   ]
  },
  {
   "cell_type": "markdown",
   "metadata": {
    "slideshow": {
     "slide_type": "slide"
    }
   },
   "source": [
    "把字符串作为分隔符，将序列中的所有元素(字符串表示)合并为新字符串\n",
    "```\n",
    "    S.join(iterable) -> str\n",
    "    \n",
    "    Return a string which is the concatenation of the strings in the\n",
    "    iterable.  The separator between elements is S.\n",
    "```    "
   ]
  },
  {
   "cell_type": "code",
   "execution_count": 313,
   "metadata": {
    "slideshow": {
     "slide_type": "-"
    }
   },
   "outputs": [
    {
     "name": "stdout",
     "output_type": "stream",
     "text": [
      "I Love Python\n",
      "I-Love-Python\n"
     ]
    }
   ],
   "source": [
    "# String Join Method\n",
    "seq = ('I', 'Love', 'Python')\n",
    "print(' '.join(seq))\n",
    "print('-'.join(seq))"
   ]
  },
  {
   "cell_type": "markdown",
   "metadata": {
    "slideshow": {
     "slide_type": "slide"
    }
   },
   "source": [
    "检查字符串开头是否是指定字符串，可以用元组指定多个字符串\n",
    "```\n",
    "    S.startswith(prefix[, start[, end]]) -> bool\n",
    "    \n",
    "    Return True if S starts with the specified prefix, False otherwise.\n",
    "    With optional start, test S beginning at that position.\n",
    "    With optional end, stop comparing S at that position.\n",
    "    prefix can also be a tuple of strings to try.\n",
    "```"
   ]
  },
  {
   "cell_type": "code",
   "execution_count": 483,
   "metadata": {
    "slideshow": {
     "slide_type": "-"
    }
   },
   "outputs": [
    {
     "name": "stdout",
     "output_type": "stream",
     "text": [
      "True\n",
      "False\n",
      "True\n"
     ]
    }
   ],
   "source": [
    "# string startswith\n",
    "s = \"x-file\"\n",
    "print(s.startswith('x-'))\n",
    "print(s.startswith('z-'))\n",
    "print(s.startswith(('x-', 'z-')))"
   ]
  },
  {
   "cell_type": "markdown",
   "metadata": {
    "slideshow": {
     "slide_type": "slide"
    }
   },
   "source": [
    "与`s.startswith`类似，只是检查字符串结尾\n",
    "```\n",
    "    S.endswith(suffix[, start[, end]]) -> bool\n",
    "    \n",
    "    Return True if S ends with the specified suffix, False otherwise.\n",
    "    With optional start, test S beginning at that position.\n",
    "    With optional end, stop comparing S at that position.\n",
    "    suffix can also be a tuple of strings to try.\n",
    "```    "
   ]
  },
  {
   "cell_type": "code",
   "execution_count": 484,
   "metadata": {
    "slideshow": {
     "slide_type": "-"
    }
   },
   "outputs": [
    {
     "name": "stdout",
     "output_type": "stream",
     "text": [
      "True\n",
      "True\n"
     ]
    }
   ],
   "source": [
    "# string endswith method\n",
    "s = 'images.jpg'\n",
    "suffix = 'jpg'\n",
    "print(s.endswith(suffix))\n",
    "suffix = ('png', 'jpeg', 'jpg')\n",
    "print(s.endswith(suffix))"
   ]
  },
  {
   "cell_type": "markdown",
   "metadata": {
    "slideshow": {
     "slide_type": "slide"
    }
   },
   "source": [
    "检查字符串是否全是字母\n",
    "```\n",
    "    S.isalpha() -> bool\n",
    "    \n",
    "    Return True if all characters in S are alphabetic\n",
    "    and there is at least one character in S, False otherwise.\n",
    "```    "
   ]
  },
  {
   "cell_type": "code",
   "execution_count": 485,
   "metadata": {
    "slideshow": {
     "slide_type": "-"
    }
   },
   "outputs": [
    {
     "name": "stdout",
     "output_type": "stream",
     "text": [
      "True\n",
      "False\n"
     ]
    }
   ],
   "source": [
    "# string isalpha method\n",
    "s = \"this\"\n",
    "print(s.isalpha())\n",
    "\n",
    "s = \"this is string example....wow!!!\"\n",
    "print(s.isalpha())"
   ]
  },
  {
   "cell_type": "markdown",
   "metadata": {
    "slideshow": {
     "slide_type": "slide"
    }
   },
   "source": [
    "检查字符串的字符全是数字\n",
    "```\n",
    "    S.isnumeric() -> bool\n",
    "    \n",
    "    Return True if there are only numeric characters in S,\n",
    "    False otherwise.\n",
    "```"
   ]
  },
  {
   "cell_type": "code",
   "execution_count": 328,
   "metadata": {
    "slideshow": {
     "slide_type": "-"
    }
   },
   "outputs": [
    {
     "name": "stdout",
     "output_type": "stream",
     "text": [
      "False\n",
      "True\n"
     ]
    }
   ],
   "source": [
    "# String Isnumeric Method\n",
    "s = \"this2016\"  \n",
    "print(s.isnumeric())\n",
    "\n",
    "s = \"23443434\"\n",
    "print(s.isnumeric())"
   ]
  },
  {
   "cell_type": "markdown",
   "metadata": {
    "slideshow": {
     "slide_type": "slide"
    }
   },
   "source": [
    "检查字符串的字符全是数字\n",
    "```\n",
    "    S.isdigit() -> bool\n",
    "    \n",
    "    Return True if all characters in S are digits\n",
    "    and there is at least one character in S, False otherwise.\n",
    "```"
   ]
  },
  {
   "cell_type": "code",
   "execution_count": 330,
   "metadata": {
    "slideshow": {
     "slide_type": "-"
    }
   },
   "outputs": [
    {
     "name": "stdout",
     "output_type": "stream",
     "text": [
      "True\n",
      "False\n"
     ]
    }
   ],
   "source": [
    "# String Isdigit Method\n",
    "s = \"123456\";  # Only digit in this string\n",
    "print(s.isdigit())\n",
    "\n",
    "s = \"this is string example....wow!!!\"\n",
    "print(s.isdigit())"
   ]
  },
  {
   "cell_type": "markdown",
   "metadata": {
    "slideshow": {
     "slide_type": "slide"
    }
   },
   "source": [
    "检查字符串的字符全是数字\n",
    "```\n",
    "    S.isdecimal() -> bool\n",
    "    \n",
    "    Return True if there are only decimal characters in S,\n",
    "    False otherwise.\n",
    "```"
   ]
  },
  {
   "cell_type": "code",
   "execution_count": 332,
   "metadata": {
    "slideshow": {
     "slide_type": "-"
    }
   },
   "outputs": [
    {
     "name": "stdout",
     "output_type": "stream",
     "text": [
      "False\n",
      "True\n"
     ]
    }
   ],
   "source": [
    "# string isdecimal method\n",
    "s = \"this2016\"\n",
    "print(s.isdecimal())\n",
    "\n",
    "s = \"23443434\"\n",
    "print(s.isdecimal())"
   ]
  },
  {
   "cell_type": "markdown",
   "metadata": {
    "slideshow": {
     "slide_type": "slide"
    }
   },
   "source": [
    "数字检查区别\n",
    "\n",
    "|  数字     |  `s.numeric` | `s.isdigit` | `s.isdecimal` |\n",
    "|:-----------:|:----------:|:--------------:|:-------------:|\n",
    "| Unicode数字|  True    | True     | True  |       \n",
    "| 汉字数字  | True     |  False   | False  |               \n",
    "| 罗马数字  |      |    |   |\n",
    "| 全角数字 |      |    |   |                                   \n",
    "| byte数字 |      |    |   |                                   \n"
   ]
  },
  {
   "cell_type": "code",
   "execution_count": 342,
   "metadata": {
    "slideshow": {
     "slide_type": "slide"
    }
   },
   "outputs": [
    {
     "name": "stdout",
     "output_type": "stream",
     "text": [
      "True True True\n",
      "True False False\n",
      "True False False\n"
     ]
    }
   ],
   "source": [
    "s = \"123\"\n",
    "print(s.isnumeric(), s.isdigit(), s.isdecimal())\n",
    "s = \"四五\"\n",
    "print(s.isnumeric(), s.isdigit(), s.isdecimal())\n",
    "s = \"Ⅳ\"\n",
    "print(s.isnumeric(), s.isdigit(), s.isdecimal())"
   ]
  },
  {
   "cell_type": "markdown",
   "metadata": {
    "slideshow": {
     "slide_type": "slide"
    }
   },
   "source": [
    "检查字符串是否数字和字母组成\n",
    "```\n",
    "    S.isalnum() -> bool\n",
    "    \n",
    "    Return True if all characters in S are alphanumeric\n",
    "    and there is at least one character in S, False otherwise.\n",
    "```"
   ]
  },
  {
   "cell_type": "code",
   "execution_count": 486,
   "metadata": {
    "slideshow": {
     "slide_type": "-"
    }
   },
   "outputs": [
    {
     "name": "stdout",
     "output_type": "stream",
     "text": [
      "True\n",
      "False\n"
     ]
    }
   ],
   "source": [
    "# String Isalnum Method\n",
    "s = \"this2016\"  # No space in this string\n",
    "print(s.isalnum())\n",
    "\n",
    "s = \"this is string example....wow!!!\"\n",
    "print(s.isalnum())"
   ]
  },
  {
   "cell_type": "markdown",
   "metadata": {
    "slideshow": {
     "slide_type": "slide"
    }
   },
   "source": [
    "检查字符串全部是空格符\n",
    "```\n",
    "    S.isspace() -> bool\n",
    "    \n",
    "    Return True if all characters in S are whitespace\n",
    "    and there is at least one character in S, False otherwise.\n",
    "```"
   ]
  },
  {
   "cell_type": "code",
   "execution_count": 487,
   "metadata": {
    "slideshow": {
     "slide_type": "-"
    }
   },
   "outputs": [
    {
     "name": "stdout",
     "output_type": "stream",
     "text": [
      "True\n",
      "False\n"
     ]
    }
   ],
   "source": [
    "# string isspace method\n",
    "print(' \\t\\v\\n'.isspace())\n",
    "\n",
    "print('word x'.isspace())"
   ]
  },
  {
   "cell_type": "markdown",
   "metadata": {
    "slideshow": {
     "slide_type": "slide"
    }
   },
   "source": [
    "判断字符串的所有字符都是可打印字符或字符串为空\n",
    "```\n",
    "    S.isprintable() -> bool\n",
    "    \n",
    "    Return True if all characters in S are considered\n",
    "    printable in repr() or S is empty, False otherwise.\n",
    "```"
   ]
  },
  {
   "cell_type": "code",
   "execution_count": 488,
   "metadata": {
    "slideshow": {
     "slide_type": "-"
    }
   },
   "outputs": [
    {
     "name": "stdout",
     "output_type": "stream",
     "text": [
      "False\n",
      "True\n"
     ]
    }
   ],
   "source": [
    "# string isprintable method\n",
    "print(' \\t\\v\\n'.isprintable())\n",
    "\n",
    "print('word x  '.isprintable())"
   ]
  },
  {
   "cell_type": "markdown",
   "metadata": {
    "slideshow": {
     "slide_type": "slide"
    }
   },
   "source": [
    "检查字符串全部是小写字符\n",
    "```\n",
    "    S.islower() -> bool\n",
    "    \n",
    "    Return True if all cased characters in S are lowercase and there is\n",
    "    at least one cased character in S, False otherwise.\n",
    "```"
   ]
  },
  {
   "cell_type": "code",
   "execution_count": 489,
   "metadata": {
    "slideshow": {
     "slide_type": "-"
    }
   },
   "outputs": [
    {
     "name": "stdout",
     "output_type": "stream",
     "text": [
      "True\n",
      "False\n"
     ]
    }
   ],
   "source": [
    "# string islower method\n",
    "print(\"word string example\\twow!!!\".islower())\n",
    "\n",
    "print(\"Word String example\\twow!!!\".islower())"
   ]
  },
  {
   "cell_type": "markdown",
   "metadata": {
    "slideshow": {
     "slide_type": "slide"
    }
   },
   "source": [
    "检查字符串全部是大写字符\n",
    "```\n",
    "    S.isupper() -> bool\n",
    "    \n",
    "    Return True if all cased characters in S are uppercase and there is\n",
    "    at least one cased character in S, False otherwise.\n",
    "```"
   ]
  },
  {
   "cell_type": "code",
   "execution_count": 362,
   "metadata": {
    "slideshow": {
     "slide_type": "-"
    }
   },
   "outputs": [
    {
     "name": "stdout",
     "output_type": "stream",
     "text": [
      "True\n",
      "False\n"
     ]
    }
   ],
   "source": [
    "# String Isupper Method\n",
    "print(\"BIG STRING\\tWOW!!!\".isupper())\n",
    "\n",
    "print(\"Big string\\tWOW!!!\".isupper())"
   ]
  },
  {
   "cell_type": "markdown",
   "metadata": {
    "slideshow": {
     "slide_type": "slide"
    }
   },
   "source": [
    "检查字符串是否是标题型字符串\n",
    "```\n",
    "    S.istitle() -> bool\n",
    "```"
   ]
  },
  {
   "cell_type": "code",
   "execution_count": 367,
   "metadata": {
    "slideshow": {
     "slide_type": "-"
    }
   },
   "outputs": [
    {
     "name": "stdout",
     "output_type": "stream",
     "text": [
      "True\n",
      "False\n"
     ]
    }
   ],
   "source": [
    "# string istitle method\n",
    "print(\"This Is A Title!\".istitle())\n",
    "\n",
    "print(\"This is not a title!\".istitle())"
   ]
  },
  {
   "cell_type": "markdown",
   "metadata": {
    "slideshow": {
     "slide_type": "slide"
    }
   },
   "source": [
    "## 字符串格式化\n",
    "\n",
    "- printf类型格式化\n",
    "- `str.format`方法格式化\n",
    "- `f-string`格式化"
   ]
  },
  {
   "cell_type": "markdown",
   "metadata": {
    "slideshow": {
     "slide_type": "slide"
    }
   },
   "source": [
    "### `printf`格式化方法\n",
    "\n",
    "在Python中，可以使用C语言风格的字符串格式化方法，用`%`操作符来实现。在`%`操作符后跟格式化字符串，即类似`%?`的形式，称为格式转换符，也是占位符。字符串格式化的语法就是将值进行转换并在占位符处进行替换。"
   ]
  },
  {
   "cell_type": "markdown",
   "metadata": {
    "slideshow": {
     "slide_type": "slide"
    }
   },
   "source": [
    "如果只有一个占位符`%?`，那么对应的值必须是单个的非元组对象；"
   ]
  },
  {
   "cell_type": "code",
   "execution_count": 638,
   "metadata": {
    "slideshow": {
     "slide_type": "-"
    }
   },
   "outputs": [
    {
     "name": "stdout",
     "output_type": "stream",
     "text": [
      "Hello Python\n"
     ]
    }
   ],
   "source": [
    "print('Hello %s' % ('Python'))"
   ]
  },
  {
   "cell_type": "code",
   "execution_count": 639,
   "metadata": {
    "slideshow": {
     "slide_type": "-"
    }
   },
   "outputs": [
    {
     "name": "stdout",
     "output_type": "stream",
     "text": [
      "Hello Python\n"
     ]
    }
   ],
   "source": [
    "print('Hello %s' % ('Python',))"
   ]
  },
  {
   "cell_type": "markdown",
   "metadata": {
    "slideshow": {
     "slide_type": "slide"
    }
   },
   "source": [
    "字符串中有多个占位符，那么值必须是元组形式，而且要一一对应。如果数目不匹配，就会抛出TypeError异常。"
   ]
  },
  {
   "cell_type": "code",
   "execution_count": 640,
   "metadata": {
    "slideshow": {
     "slide_type": "-"
    }
   },
   "outputs": [
    {
     "name": "stdout",
     "output_type": "stream",
     "text": [
      "我是老王,学历是博士，已婚\n"
     ]
    }
   ],
   "source": [
    "print('我是%s,学历是%s，%s' % ('老王', '博士', '已婚'))"
   ]
  },
  {
   "cell_type": "code",
   "execution_count": 641,
   "metadata": {
    "slideshow": {
     "slide_type": "slide"
    }
   },
   "outputs": [
    {
     "ename": "TypeError",
     "evalue": "not enough arguments for format string",
     "output_type": "error",
     "traceback": [
      "\u001b[0;31m---------------------------------------------------------------------------\u001b[0m",
      "\u001b[0;31mTypeError\u001b[0m                                 Traceback (most recent call last)",
      "\u001b[0;32m<ipython-input-641-8886ad2e5ac3>\u001b[0m in \u001b[0;36m<module>\u001b[0;34m()\u001b[0m\n\u001b[0;32m----> 1\u001b[0;31m \u001b[0mprint\u001b[0m\u001b[0;34m(\u001b[0m\u001b[0;34m'我是%s,学历是%s，%s'\u001b[0m \u001b[0;34m%\u001b[0m \u001b[0;34m(\u001b[0m\u001b[0;34m'老王'\u001b[0m\u001b[0;34m,\u001b[0m \u001b[0;34m'博士'\u001b[0m\u001b[0;34m)\u001b[0m\u001b[0;34m)\u001b[0m\u001b[0;34m\u001b[0m\u001b[0m\n\u001b[0m",
      "\u001b[0;31mTypeError\u001b[0m: not enough arguments for format string"
     ]
    }
   ],
   "source": [
    "print('我是%s,学历是%s，%s' % ('老王', '博士'))"
   ]
  },
  {
   "cell_type": "code",
   "execution_count": 642,
   "metadata": {
    "slideshow": {
     "slide_type": "-"
    }
   },
   "outputs": [
    {
     "ename": "TypeError",
     "evalue": "not all arguments converted during string formatting",
     "output_type": "error",
     "traceback": [
      "\u001b[0;31m---------------------------------------------------------------------------\u001b[0m",
      "\u001b[0;31mTypeError\u001b[0m                                 Traceback (most recent call last)",
      "\u001b[0;32m<ipython-input-642-b7c0502ffb10>\u001b[0m in \u001b[0;36m<module>\u001b[0;34m()\u001b[0m\n\u001b[0;32m----> 1\u001b[0;31m \u001b[0mprint\u001b[0m\u001b[0;34m(\u001b[0m\u001b[0;34m'我是%s,学历是%s，%s'\u001b[0m \u001b[0;34m%\u001b[0m \u001b[0;34m(\u001b[0m\u001b[0;34m'老王'\u001b[0m\u001b[0;34m,\u001b[0m \u001b[0;34m'博士'\u001b[0m\u001b[0;34m,\u001b[0m \u001b[0;34m'已婚'\u001b[0m\u001b[0;34m,\u001b[0m \u001b[0;34m'已婚'\u001b[0m\u001b[0;34m)\u001b[0m\u001b[0;34m)\u001b[0m\u001b[0;34m\u001b[0m\u001b[0m\n\u001b[0m",
      "\u001b[0;31mTypeError\u001b[0m: not all arguments converted during string formatting"
     ]
    }
   ],
   "source": [
    "print('我是%s,学历是%s，%s' % ('老王', '博士', '已婚', '已婚'))"
   ]
  },
  {
   "cell_type": "markdown",
   "metadata": {
    "slideshow": {
     "slide_type": "slide"
    }
   },
   "source": [
    "占位符，也就是格式转换符，支持替换多种类型数据：\n",
    "\n",
    "|占位符 | 描述 |\n",
    "| :----:|:------------- |\n",
    "| `%d`  | 有符号整数      |\n",
    "| `%i`  | 有符号整数      |\n",
    "| `%o`  | 有符号8进制整数     |\n",
    "| `%x`  | 有符号16进制整数（小写）      |\n",
    "| `%X`  | 有符号16进制整数（大写）      |\n",
    "| `%e`  | 浮点数（小写）       |\n",
    "| `%E`  | 浮点数（大写）       |\n",
    "| `%g`  | 浮点数，科学记数法（小写）      |\n",
    "| `%G`  | 浮点数，科学记数法（小写）      |\n",
    "| `%c`  | 单个字符 |    \n",
    "| `%r`  | 字符串（`repr()`）     |\n",
    "| `%s`  | 字符串（`str()`）     |\n",
    "| `%a`  | 字符串（`ascii()`）    |\n",
    "| `%a`  | 字符串（`ascii()`）    |\n",
    "| `%p`  | 用十六进制数格式化变量的地址     |"
   ]
  },
  {
   "cell_type": "code",
   "execution_count": 645,
   "metadata": {
    "slideshow": {
     "slide_type": "slide"
    }
   },
   "outputs": [
    {
     "name": "stdout",
     "output_type": "stream",
     "text": [
      "int format: 16, 16, 377, ff, FF\n",
      "float format: 3.141593e+00, 3.141593E+00, 3.141593, 3.141593, 3.14159, 3.14159\n"
     ]
    }
   ],
   "source": [
    "print('int format: %d, %i, %o, %x, %X' % (16, 16, 0o377, 0xff, 0xff))\n",
    "pi = 3.1415926535\n",
    "print('float format: %e, %E, %f, %F, %g, %G' % (pi, pi, pi, pi, pi, pi))"
   ]
  },
  {
   "cell_type": "code",
   "execution_count": 646,
   "metadata": {
    "slideshow": {
     "slide_type": "-"
    }
   },
   "outputs": [
    {
     "name": "stdout",
     "output_type": "stream",
     "text": [
      "str format: H, 'Hello', Hello, 'Hello'\n"
     ]
    }
   ],
   "source": [
    "s = 'Hello'\n",
    "print('str format: %c, %r, %s, %a' % (s[0], s, s, s))"
   ]
  },
  {
   "cell_type": "markdown",
   "metadata": {
    "slideshow": {
     "slide_type": "slide"
    }
   },
   "source": [
    "如果对应的值与格式化字符不匹配，会进行格式转换，然而这非常容易报错"
   ]
  },
  {
   "cell_type": "code",
   "execution_count": 649,
   "metadata": {
    "scrolled": true,
    "slideshow": {
     "slide_type": "-"
    }
   },
   "outputs": [
    {
     "name": "stdout",
     "output_type": "stream",
     "text": [
      "3, 3.141593\n"
     ]
    },
    {
     "ename": "TypeError",
     "evalue": "%d format: a number is required, not str",
     "output_type": "error",
     "traceback": [
      "\u001b[0;31m---------------------------------------------------------------------------\u001b[0m",
      "\u001b[0;31mTypeError\u001b[0m                                 Traceback (most recent call last)",
      "\u001b[0;32m<ipython-input-649-0a4758315b3b>\u001b[0m in \u001b[0;36m<module>\u001b[0;34m()\u001b[0m\n\u001b[1;32m      1\u001b[0m \u001b[0mprint\u001b[0m\u001b[0;34m(\u001b[0m\u001b[0;34m'%d, %f'\u001b[0m \u001b[0;34m%\u001b[0m \u001b[0;34m(\u001b[0m\u001b[0mpi\u001b[0m\u001b[0;34m,\u001b[0m \u001b[0mpi\u001b[0m\u001b[0;34m)\u001b[0m\u001b[0;34m)\u001b[0m\u001b[0;34m\u001b[0m\u001b[0m\n\u001b[0;32m----> 2\u001b[0;31m \u001b[0mprint\u001b[0m\u001b[0;34m(\u001b[0m\u001b[0;34m'%d, %f, %d'\u001b[0m \u001b[0;34m%\u001b[0m \u001b[0;34m(\u001b[0m\u001b[0mpi\u001b[0m\u001b[0;34m,\u001b[0m \u001b[0mpi\u001b[0m\u001b[0;34m,\u001b[0m \u001b[0;34m'123'\u001b[0m\u001b[0;34m)\u001b[0m\u001b[0;34m)\u001b[0m\u001b[0;34m\u001b[0m\u001b[0m\n\u001b[0m",
      "\u001b[0;31mTypeError\u001b[0m: %d format: a number is required, not str"
     ]
    }
   ],
   "source": [
    "print('%d, %f' % (pi, pi))\n",
    "print('%d, %f, %d' % (pi, pi, '123'))"
   ]
  },
  {
   "cell_type": "markdown",
   "metadata": {
    "slideshow": {
     "slide_type": "slide"
    }
   },
   "source": [
    "格式化操作符还有辅助指令：\n",
    "\n",
    "|符号 | 功能 |\n",
    "| :----:|:------------- |\n",
    "|`*`| 定义宽度或者小数点精度 |\n",
    "|`-`| 用做左对齐  |\n",
    "|`+`| 在正数前面显示加号( + )  |\n",
    "|`<sp>`| 在正数前面显示空格  |\n",
    "|`#` | 显示进制数标示  |\n",
    "|`0`| 数字前面填充'0' |\n",
    "|`%`| '%%'输出一个单一的'%' |\n",
    "|`(var)`| 映射变量(字典参数) |\n",
    "|`m.n.`| `m`是显示的最小总宽度, `n`是小数点后的位数|"
   ]
  },
  {
   "cell_type": "code",
   "execution_count": 652,
   "metadata": {
    "slideshow": {
     "slide_type": "slide"
    }
   },
   "outputs": [
    {
     "name": "stdout",
     "output_type": "stream",
     "text": [
      "Flag *:            12345,     3.141593e+00\n",
      "Flag -: -12345          , -3.141593e+00   \n",
      "Flag +:           +12345,    +3.141593e+00\n",
      "Flag space:            12345,     3.141593e+00\n",
      "Flag #: 0o377, 0xff, 0XFF\n",
      "Flag 0: 0000000000012345, 00003.141593e+00\n",
      "Flag m.n:         00012345,   3.14159265e+00\n"
     ]
    }
   ],
   "source": [
    "num = 12345\n",
    "pi = 3.1415926535\n",
    "print('Flag *: %16d, %16e' % (num, pi))\n",
    "print('Flag -: %-16d, %-16e' % (-num, -pi))\n",
    "print('Flag +: %+16d, %+16e' % (num, pi))\n",
    "print('Flag space: % 16d, % 16e' % (num, pi))\n",
    "print('Flag #: %#o, %#x, %#X' % (0o377, 0xff, 0xff))\n",
    "print('Flag 0: %016d, %016e' % (num, pi))\n",
    "print('Flag m.n: %16.8d, %16.8e' % (num, pi))"
   ]
  },
  {
   "cell_type": "code",
   "execution_count": 653,
   "metadata": {
    "slideshow": {
     "slide_type": "slide"
    }
   },
   "outputs": [
    {
     "name": "stdout",
     "output_type": "stream",
     "text": [
      "%,            12345,     3.141593e+00\n",
      "Flag (var): Python has 003 quote types.\n"
     ]
    }
   ],
   "source": [
    "print('%%, %16d, %16e' % (num, pi))\n",
    "d1 = {'language': 'Python', 'number': 3}\n",
    "print('Flag (var): %(language)s has %(number)03d quote types.' % (d1))"
   ]
  },
  {
   "cell_type": "markdown",
   "metadata": {
    "slideshow": {
     "slide_type": "slide"
    }
   },
   "source": [
    "### `str.format()`方法\n",
    "\n",
    "`printf`方法进行字符串格式化非常容易出错。\n",
    "\n",
    "在Python中，可以使用字符串的方法`str.format()`来实现字符串的格式化"
   ]
  },
  {
   "cell_type": "markdown",
   "metadata": {
    "slideshow": {
     "slide_type": "slide"
    }
   },
   "source": [
    "对于`str.format()`格式化方法，其占位符形式为`{0}`、`{1}`,把传入的参数进行适当格式化，然后替换对应的占位符，最后返回一个新的字符串。"
   ]
  },
  {
   "cell_type": "code",
   "execution_count": 654,
   "metadata": {
    "slideshow": {
     "slide_type": "slide"
    }
   },
   "outputs": [
    {
     "name": "stdout",
     "output_type": "stream",
     "text": [
      "Hello Python\n"
     ]
    }
   ],
   "source": [
    "print('Hello {0}'.format('Python'))"
   ]
  },
  {
   "cell_type": "markdown",
   "metadata": {
    "slideshow": {
     "slide_type": "slide"
    }
   },
   "source": [
    "字符串中有多个占位符，那么值必须是元组形式。参数多了不影响，少了参数就会抛出索引异常IndexError。"
   ]
  },
  {
   "cell_type": "code",
   "execution_count": 655,
   "metadata": {
    "slideshow": {
     "slide_type": "-"
    }
   },
   "outputs": [
    {
     "name": "stdout",
     "output_type": "stream",
     "text": [
      "我是老王,学历是博士，已婚\n"
     ]
    }
   ],
   "source": [
    "print('我是{0},学历是{1}，{2}'.format('老王', '博士', '已婚'))"
   ]
  },
  {
   "cell_type": "code",
   "execution_count": 656,
   "metadata": {
    "slideshow": {
     "slide_type": "-"
    }
   },
   "outputs": [
    {
     "name": "stdout",
     "output_type": "stream",
     "text": [
      "我是老王,学历是博士，已婚\n"
     ]
    }
   ],
   "source": [
    "print('我是{2},学历是{0}，{1}'.format('博士', '已婚', '老王'))"
   ]
  },
  {
   "cell_type": "code",
   "execution_count": 657,
   "metadata": {
    "slideshow": {
     "slide_type": "slide"
    }
   },
   "outputs": [
    {
     "name": "stdout",
     "output_type": "stream",
     "text": [
      "我是老王,学历是博士，已婚\n"
     ]
    }
   ],
   "source": [
    "print('我是{0},学历是{1}，{2}'.format('老王', '博士', '已婚', '多参数'))"
   ]
  },
  {
   "cell_type": "code",
   "execution_count": 658,
   "metadata": {
    "slideshow": {
     "slide_type": "slide"
    }
   },
   "outputs": [
    {
     "ename": "IndexError",
     "evalue": "tuple index out of range",
     "output_type": "error",
     "traceback": [
      "\u001b[0;31m---------------------------------------------------------------------------\u001b[0m",
      "\u001b[0;31mIndexError\u001b[0m                                Traceback (most recent call last)",
      "\u001b[0;32m<ipython-input-658-41f16d8985a3>\u001b[0m in \u001b[0;36m<module>\u001b[0;34m()\u001b[0m\n\u001b[0;32m----> 1\u001b[0;31m \u001b[0mprint\u001b[0m\u001b[0;34m(\u001b[0m\u001b[0;34m'我是{0},学历是{1}，{2}'\u001b[0m\u001b[0;34m.\u001b[0m\u001b[0mformat\u001b[0m\u001b[0;34m(\u001b[0m\u001b[0;34m'老王'\u001b[0m\u001b[0;34m,\u001b[0m \u001b[0;34m'博士'\u001b[0m\u001b[0;34m)\u001b[0m\u001b[0;34m)\u001b[0m\u001b[0;34m\u001b[0m\u001b[0m\n\u001b[0m",
      "\u001b[0;31mIndexError\u001b[0m: tuple index out of range"
     ]
    }
   ],
   "source": [
    "print('我是{0},学历是{1}，{2}'.format('老王', '博士'))"
   ]
  },
  {
   "cell_type": "markdown",
   "metadata": {
    "slideshow": {
     "slide_type": "slide"
    }
   },
   "source": [
    "对于整数、浮点数、字符串，可以使用辅助指令，实现更多格式化。语法约定：\n",
    "```\n",
    ":[[fill]align][sign][#][0][width][grouping_option][.precision][type]\n",
    "```\n",
    "- `fill`，填充字符，任意字符\n",
    "- `align`，对齐字符，`\"<\" | \">\" | \"=\" | \"^\"`；\n",
    "- `sign`，符号，` \"+\" | \"-\" | \" \"`\n",
    "- `width`，宽度，数字\n",
    "- `precision`，精度，数字\n",
    "- `type`，类型，`b,c,d,e,E,f,F,g,G,n,o,s,x,X,%`，参见上节介绍"
   ]
  },
  {
   "cell_type": "code",
   "execution_count": 660,
   "metadata": {
    "slideshow": {
     "slide_type": "slide"
    }
   },
   "outputs": [
    {
     "name": "stdout",
     "output_type": "stream",
     "text": [
      "Format type: 12345, 3.141593\n",
      "Format width:            12345,         3.141593\n",
      "Format precision:            12345,       3.14159265\n",
      "Format precision: 0b11111111, 0o377, 0xff, 0XFF\n"
     ]
    }
   ],
   "source": [
    "num = 12345\n",
    "pi = 3.1415926535\n",
    "print('Format type: {0:d}, {1:f}'.format(num, pi))\n",
    "print('Format width: {0:16d}, {1:16f}'.format(num, pi))\n",
    "print('Format precision: {0:16d}, {1:16.8f}'.format(num, pi))\n",
    "print('Format precision: {0:#b}, {1:#o}, {2:#x}, {2:#X}'.format(0o377, 0o377, 0xff))"
   ]
  },
  {
   "cell_type": "code",
   "execution_count": 573,
   "metadata": {
    "slideshow": {
     "slide_type": "slide"
    }
   },
   "outputs": [
    {
     "name": "stdout",
     "output_type": "stream",
     "text": [
      "Format sign:           +12345, +3.141593\n",
      "Format sign:           -12345, -3.141593\n",
      "Format align: 12345           , 3.141593        \n",
      "Format align:            12345,         3.141593\n",
      "Format align:      12345      ,     3.141593    \n"
     ]
    }
   ],
   "source": [
    "print('Format sign: {0:+16d}, {1:+6f}'.format(num, pi))\n",
    "print('Format sign: {0:-16d}, {1:-6f}'.format(-num, -pi))\n",
    "print('Format align: {0:<16d}, {1:<16f}'.format(num, pi))\n",
    "print('Format align: {0:>16d}, {1:>16f}'.format(num, pi))\n",
    "print('Format align: {0:^16d}, {1:^16f}'.format(num, pi))"
   ]
  },
  {
   "cell_type": "code",
   "execution_count": 592,
   "metadata": {
    "slideshow": {
     "slide_type": "slide"
    }
   },
   "outputs": [
    {
     "name": "stdout",
     "output_type": "stream",
     "text": [
      "Format fill: 0000000000012345, 000000003.141593\n",
      "Format fill: 1234500000000000, 3.14159300000000\n",
      "Format fill: ###########12345, ########3.141593\n",
      "Format fill: 12345###########, 3.141593########\n",
      "Format fill: #####12345######, ####3.141593####\n"
     ]
    }
   ],
   "source": [
    "print('Format fill: {0:016d}, {1:016f}'.format(num, pi))\n",
    "print('Format fill: {0:0<16d}, {1:0<16f}'.format(num, pi))\n",
    "print('Format fill: {0:#>16d}, {1:#>16f}'.format(num, pi))\n",
    "print('Format fill: {0:#<16d}, {1:#<16f}'.format(num, pi))\n",
    "print('Format fill: {0:#^16d}, {1:#^16f}'.format(num, pi))"
   ]
  },
  {
   "cell_type": "markdown",
   "metadata": {
    "slideshow": {
     "slide_type": "slide"
    }
   },
   "source": [
    "参数除了按照位置传入外，还可以按照名字来传入："
   ]
  },
  {
   "cell_type": "code",
   "execution_count": 661,
   "metadata": {
    "slideshow": {
     "slide_type": "-"
    }
   },
   "outputs": [
    {
     "name": "stdout",
     "output_type": "stream",
     "text": [
      "当前坐标：37.24N, -115.81W\n"
     ]
    }
   ],
   "source": [
    "print('当前坐标：{latitude}, {longitude}'.format(longitude='-115.81W', latitude='37.24N'))"
   ]
  },
  {
   "cell_type": "code",
   "execution_count": 662,
   "metadata": {
    "slideshow": {
     "slide_type": "-"
    }
   },
   "outputs": [
    {
     "name": "stdout",
     "output_type": "stream",
     "text": [
      "当前坐标：37.24N, -115.81W\n"
     ]
    }
   ],
   "source": [
    "coord = {'latitude': '37.24N', 'longitude': '-115.81W'}\n",
    "print('当前坐标：{latitude}, {longitude}'.format(**coord))"
   ]
  },
  {
   "cell_type": "markdown",
   "metadata": {
    "slideshow": {
     "slide_type": "slide"
    }
   },
   "source": [
    "### f-string\n",
    "\n",
    "从Python3.6开始，新增了`f-string`字符串格式化方法。"
   ]
  },
  {
   "cell_type": "markdown",
   "metadata": {
    "slideshow": {
     "slide_type": "-"
    }
   },
   "source": [
    "f-string 的语法非常简单,即把格式化字符串的占位符`{expr}`，当作python代码求值替换。"
   ]
  },
  {
   "cell_type": "code",
   "execution_count": 663,
   "metadata": {
    "slideshow": {
     "slide_type": "slide"
    }
   },
   "outputs": [
    {
     "name": "stdout",
     "output_type": "stream",
     "text": [
      "a + b is HelloPython\n"
     ]
    }
   ],
   "source": [
    "a = 'Hello'\n",
    "b = 'Python'\n",
    "print(f'a + b is {a + b}')"
   ]
  },
  {
   "cell_type": "code",
   "execution_count": 664,
   "metadata": {
    "slideshow": {
     "slide_type": "-"
    }
   },
   "outputs": [
    {
     "name": "stdout",
     "output_type": "stream",
     "text": [
      "我是{name},学历是{education}\n"
     ]
    }
   ],
   "source": [
    "name = '老王'\n",
    "education = '博士'\n",
    "print('我是{name},学历是{education}')"
   ]
  },
  {
   "cell_type": "markdown",
   "metadata": {
    "slideshow": {
     "slide_type": "slide"
    }
   },
   "source": [
    "## 转换\n",
    "\n",
    "- 使用内置`str`类构造对象"
   ]
  },
  {
   "cell_type": "markdown",
   "metadata": {
    "slideshow": {
     "slide_type": "slide"
    }
   },
   "source": [
    "如果不指定参数，返回空字符串；传入对象，则返回对象的字符串表示。\n",
    "```\n",
    "str(object='') -> str\n",
    "str(bytes_or_buffer[, encoding[, errors]]) -> str\n",
    "```"
   ]
  },
  {
   "cell_type": "code",
   "execution_count": 666,
   "metadata": {
    "slideshow": {
     "slide_type": "-"
    }
   },
   "outputs": [
    {
     "name": "stdout",
     "output_type": "stream",
     "text": [
      "\n",
      "True\n",
      "1024\n",
      "3.1416926\n"
     ]
    }
   ],
   "source": [
    "print(str())\n",
    "print(str(True))\n",
    "print(str(1024))\n",
    "print(str(3.1416926))"
   ]
  },
  {
   "cell_type": "markdown",
   "metadata": {
    "slideshow": {
     "slide_type": "slide"
    }
   },
   "source": [
    "调用`str(obj)`时，该对象对应有`__str__`特殊方法:\n",
    "\n",
    "|操作符 | 特殊方法    |  说明   |\n",
    "| :----:|:-------------| -------: |\n",
    "| `str()`  | `__str__`    | 返回字符串表示   |"
   ]
  },
  {
   "cell_type": "code",
   "execution_count": 667,
   "metadata": {
    "slideshow": {
     "slide_type": "-"
    }
   },
   "outputs": [
    {
     "data": {
      "text/plain": [
       "('(3+4j)', '(3+4j)')"
      ]
     },
     "execution_count": 667,
     "metadata": {},
     "output_type": "execute_result"
    }
   ],
   "source": [
    "z = 3+4j\n",
    "str(z), z.__str__()"
   ]
  },
  {
   "cell_type": "markdown",
   "metadata": {
    "slideshow": {
     "slide_type": "slide"
    }
   },
   "source": [
    "## 与现实世界的差异\n",
    "\n",
    "- 字符串编码\n",
    "- Python字符串"
   ]
  },
  {
   "cell_type": "markdown",
   "metadata": {
    "slideshow": {
     "slide_type": "slide"
    }
   },
   "source": [
    "### 字符串编码\n",
    "\n",
    "在现实世界中，一个字符串最小单位是一个字符。在活字印刷术中，就是一个字块。中国的汉字数量并没有准确数字，大约将近有十万个。也就是在印刷术中，就需要十万个字块。"
   ]
  },
  {
   "cell_type": "markdown",
   "metadata": {
    "slideshow": {
     "slide_type": "slide"
    }
   },
   "source": [
    "计算机中内部数据存储最小单位是位（bit），也就是0或1。八个位构成一个字节（byte），也是计算机中数据处理的基本单位。\n",
    "\n",
    "在计算机中，数字使用位与字节来表示的。字节数不同表示的数字范围就不同。例如1个字节能表示的最大整数是`255(0b11111111)`，2个字节能表示的最大整数是`65535(0b1111111111111111)`，4个字节能表示的最大整数是`4294967295(0b11111111111111111111111111111111)`。"
   ]
  },
  {
   "cell_type": "markdown",
   "metadata": {
    "slideshow": {
     "slide_type": "slide"
    }
   },
   "source": [
    "而对于文本，计算机需要事先进行编码。编码实际上就是做一个映射表，规定整数对应字符。由于是美国人最先发明的计算机，所以最早只编码美国人常用的128个字符，也就是大小写英文字母、数字和一些符号。这个编码表也成为ASCII编码（American Standard Code for Information Interchange，美国信息交换标准代码）。"
   ]
  },
  {
   "cell_type": "markdown",
   "metadata": {
    "slideshow": {
     "slide_type": "slide"
    }
   },
   "source": [
    "在[ASCII](https://baike.baidu.com/item/ASCII/309296)表中，从0到127分别代表不同的字符。例如0表示空字符(NUL)，48表示字符'1'，65表示`A`等。"
   ]
  },
  {
   "cell_type": "code",
   "execution_count": 668,
   "metadata": {
    "collapsed": true,
    "slideshow": {
     "slide_type": "-"
    }
   },
   "outputs": [
    {
     "name": "stdout",
     "output_type": "stream",
     "text": [
      "0 0b0 \u0000\n",
      "1 0b1 \u0001\n",
      "2 0b10 \u0002\n",
      "3 0b11 \u0003\n",
      "4 0b100 \u0004\n",
      "5 0b101 \u0005\n",
      "6 0b110 \u0006\n",
      "7 0b111 \u0007\n",
      "8 0b1000 \b\n",
      "9 0b1001 \t\n",
      "10 0b1010 \n",
      "\n",
      "11 0b1011 \u000b",
      "\n",
      "12 0b1100 \f",
      "\n",
      "13 0b1101 \r\n",
      "14 0b1110 \u000e\n",
      "15 0b1111 \u000f\n",
      "16 0b10000 \u0010\n",
      "17 0b10001 \u0011\n",
      "18 0b10010 \u0012\n",
      "19 0b10011 \u0013\n",
      "20 0b10100 \u0014\n",
      "21 0b10101 \u0015\n",
      "22 0b10110 \u0016\n",
      "23 0b10111 \u0017\n",
      "24 0b11000 \u0018\n",
      "25 0b11001 \u0019\n",
      "26 0b11010 \u001a\n",
      "27 0b11011 \u001b\n",
      "28 0b11100 \u001c",
      "\n",
      "29 0b11101 \u001d",
      "\n",
      "30 0b11110 \u001e",
      "\n",
      "31 0b11111 \u001f\n",
      "32 0b100000  \n",
      "33 0b100001 !\n",
      "34 0b100010 \"\n",
      "35 0b100011 #\n",
      "36 0b100100 $\n",
      "37 0b100101 %\n",
      "38 0b100110 &\n",
      "39 0b100111 '\n",
      "40 0b101000 (\n",
      "41 0b101001 )\n",
      "42 0b101010 *\n",
      "43 0b101011 +\n",
      "44 0b101100 ,\n",
      "45 0b101101 -\n",
      "46 0b101110 .\n",
      "47 0b101111 /\n",
      "48 0b110000 0\n",
      "49 0b110001 1\n",
      "50 0b110010 2\n",
      "51 0b110011 3\n",
      "52 0b110100 4\n",
      "53 0b110101 5\n",
      "54 0b110110 6\n",
      "55 0b110111 7\n",
      "56 0b111000 8\n",
      "57 0b111001 9\n",
      "58 0b111010 :\n",
      "59 0b111011 ;\n",
      "60 0b111100 <\n",
      "61 0b111101 =\n",
      "62 0b111110 >\n",
      "63 0b111111 ?\n",
      "64 0b1000000 @\n",
      "65 0b1000001 A\n",
      "66 0b1000010 B\n",
      "67 0b1000011 C\n",
      "68 0b1000100 D\n",
      "69 0b1000101 E\n",
      "70 0b1000110 F\n",
      "71 0b1000111 G\n",
      "72 0b1001000 H\n",
      "73 0b1001001 I\n",
      "74 0b1001010 J\n",
      "75 0b1001011 K\n",
      "76 0b1001100 L\n",
      "77 0b1001101 M\n",
      "78 0b1001110 N\n",
      "79 0b1001111 O\n",
      "80 0b1010000 P\n",
      "81 0b1010001 Q\n",
      "82 0b1010010 R\n",
      "83 0b1010011 S\n",
      "84 0b1010100 T\n",
      "85 0b1010101 U\n",
      "86 0b1010110 V\n",
      "87 0b1010111 W\n",
      "88 0b1011000 X\n",
      "89 0b1011001 Y\n",
      "90 0b1011010 Z\n",
      "91 0b1011011 [\n",
      "92 0b1011100 \\\n",
      "93 0b1011101 ]\n",
      "94 0b1011110 ^\n",
      "95 0b1011111 _\n",
      "96 0b1100000 `\n",
      "97 0b1100001 a\n",
      "98 0b1100010 b\n",
      "99 0b1100011 c\n",
      "100 0b1100100 d\n",
      "101 0b1100101 e\n",
      "102 0b1100110 f\n",
      "103 0b1100111 g\n",
      "104 0b1101000 h\n",
      "105 0b1101001 i\n",
      "106 0b1101010 j\n",
      "107 0b1101011 k\n",
      "108 0b1101100 l\n",
      "109 0b1101101 m\n",
      "110 0b1101110 n\n",
      "111 0b1101111 o\n",
      "112 0b1110000 p\n",
      "113 0b1110001 q\n",
      "114 0b1110010 r\n",
      "115 0b1110011 s\n",
      "116 0b1110100 t\n",
      "117 0b1110101 u\n",
      "118 0b1110110 v\n",
      "119 0b1110111 w\n",
      "120 0b1111000 x\n",
      "121 0b1111001 y\n",
      "122 0b1111010 z\n",
      "123 0b1111011 {\n",
      "124 0b1111100 |\n",
      "125 0b1111101 }\n",
      "126 0b1111110 ~\n",
      "127 0b1111111 \n"
     ]
    }
   ],
   "source": [
    "for i in range(128):\n",
    "    print(i, bin(i), chr(i))"
   ]
  },
  {
   "cell_type": "markdown",
   "metadata": {
    "slideshow": {
     "slide_type": "slide"
    }
   },
   "source": [
    "显然用美国标准ASCII编码是无法容纳中国的汉字，所以中国制定了GB2312、GBK、[GB18030编码](https://baike.baidu.com/item/gb18030)，包含了中文字符。相应的，各个国家都有自己的编码标准。如果是多语言混合的文本，映射表不同，显示结果就有所不同，可能就会出现乱码。，"
   ]
  },
  {
   "cell_type": "markdown",
   "metadata": {
    "slideshow": {
     "slide_type": "slide"
    }
   },
   "source": [
    "为此，提出了Unicode编码。顾名思义，Unicode就是地球统一的编码，也就是万国码。为每种语言中的每个字符设定了统一并且唯一的二进制编码，以满足跨语言、跨平台进行文本转换、处理的要求。Unicode可以用两个字节表示，也可以用4个字节表示。"
   ]
  },
  {
   "cell_type": "markdown",
   "metadata": {
    "slideshow": {
     "slide_type": "slide"
    }
   },
   "source": [
    "这又出现了新的问题，当文本只有英文时，使用Unicode编码有些浪费存储空间。所以又提出了UTF-8编码，也就是“可变长编码”。UTF-8编码会根据字符的不同，编码成1-6个字节。常用的英文字母编码成1个字节。汉字通常是3个字节，很生僻的字符可能会编码成更多字节。"
   ]
  },
  {
   "cell_type": "markdown",
   "metadata": {
    "slideshow": {
     "slide_type": "slide"
    }
   },
   "source": [
    "| 字符 | ASCII编码   |  Unicode编码   | UTF-8 |\n",
    "|:----:|:-------------| -------: | -------: |\n",
    "| `A`  | `0b01000001`    | `0b0000000001000001`  | `0b01000001`  |\n",
    "| `中`  | 无  | `0b01001110 00101101`  | `0b111001001011100010101101`  |"
   ]
  },
  {
   "cell_type": "markdown",
   "metadata": {
    "slideshow": {
     "slide_type": "-"
    }
   },
   "source": [
    "从上可知，ASCII编码实际上时UTF-8编码的一部分。大量支持ASCII编码的软件仍然可以在UTF-8编码下进行工作。"
   ]
  },
  {
   "cell_type": "markdown",
   "metadata": {
    "slideshow": {
     "slide_type": "slide"
    }
   },
   "source": [
    "Python推荐源码文件使用utf-8编码。在源码文件中，通常添加一行\n",
    "```\n",
    "# -*- coding: utf-8 -*-  \n",
    "```"
   ]
  },
  {
   "cell_type": "code",
   "execution_count": 669,
   "metadata": {
    "slideshow": {
     "slide_type": "-"
    }
   },
   "outputs": [
    {
     "name": "stdout",
     "output_type": "stream",
     "text": [
      "Writing helloutf8.py\n"
     ]
    }
   ],
   "source": [
    "%%writefile helloutf8.py\n",
    "#!/usr/bin/env python\n",
    "# -*- coding: utf-8 -*-  \n",
    "print('Hello')\n",
    "print('您好')"
   ]
  },
  {
   "cell_type": "code",
   "execution_count": 670,
   "metadata": {
    "slideshow": {
     "slide_type": "slide"
    }
   },
   "outputs": [
    {
     "name": "stdout",
     "output_type": "stream",
     "text": [
      "Hello\n",
      "您好\n"
     ]
    }
   ],
   "source": [
    "%run helloutf8.py"
   ]
  },
  {
   "cell_type": "markdown",
   "metadata": {
    "slideshow": {
     "slide_type": "slide"
    }
   },
   "source": [
    "### 字符串编码与解码\n",
    "\n",
    "在Python2中，普通字符串ASCII编码；Unicode字符串是在字符串前面加上前缀`u`。"
   ]
  },
  {
   "cell_type": "code",
   "execution_count": 674,
   "metadata": {
    "slideshow": {
     "slide_type": "-"
    }
   },
   "outputs": [
    {
     "name": "stdout",
     "output_type": "stream",
     "text": [
      "<type 'str'>\n",
      "<type 'unicode'>\n"
     ]
    }
   ],
   "source": [
    "%%python2\n",
    "print type('ASCII')\n",
    "print type(u'ASCII')"
   ]
  },
  {
   "cell_type": "markdown",
   "metadata": {
    "slideshow": {
     "slide_type": "slide"
    }
   },
   "source": [
    "在Python3中，字符串都是以Unicode编码，字符串支持多语言。"
   ]
  },
  {
   "cell_type": "code",
   "execution_count": 672,
   "metadata": {
    "slideshow": {
     "slide_type": "slide"
    }
   },
   "outputs": [
    {
     "name": "stdout",
     "output_type": "stream",
     "text": [
      "<class 'str'> Hello\n",
      "<class 'str'> 您好\n",
      "안녕하세요\n",
      "Привет\n",
      "こんにちは\n"
     ]
    }
   ],
   "source": [
    "print(type('Hello'), 'Hello')\n",
    "print(type('您好'), '您好')\n",
    "print('안녕하세요')\n",
    "print('Привет')\n",
    "print('こんにちは')"
   ]
  },
  {
   "cell_type": "markdown",
   "metadata": {
    "slideshow": {
     "slide_type": "slide"
    }
   },
   "source": [
    "对于单个字符的编码，可以使用内置函数`ord()`获取字符的整数表示，内置函数`chr()`则把编码转换为对应的字符"
   ]
  },
  {
   "cell_type": "code",
   "execution_count": 618,
   "metadata": {
    "slideshow": {
     "slide_type": "-"
    }
   },
   "outputs": [
    {
     "name": "stdout",
     "output_type": "stream",
     "text": [
      "0b1000001 0b100111000101101 0b11000001010011\n"
     ]
    }
   ],
   "source": [
    "print(bin(ord('A')), bin(ord('中')), bin(ord('こ')))"
   ]
  },
  {
   "cell_type": "code",
   "execution_count": 675,
   "metadata": {
    "slideshow": {
     "slide_type": "-"
    }
   },
   "outputs": [
    {
     "name": "stdout",
     "output_type": "stream",
     "text": [
      "A 中 こ\n"
     ]
    }
   ],
   "source": [
    "print(chr(65), chr(20013), chr(12371))"
   ]
  },
  {
   "cell_type": "markdown",
   "metadata": {
    "slideshow": {
     "slide_type": "slide"
    }
   },
   "source": [
    "> Unicode编码不一定包含所有字符。"
   ]
  },
  {
   "cell_type": "markdown",
   "metadata": {
    "slideshow": {
     "slide_type": "slide"
    }
   },
   "source": [
    "Python3中的字符串是Unicode字符串，有时候需要将其转换为二进制数据流，也就是`bytes`类型。可以使用`S.encode()`方法实现。\n",
    "```\n",
    "S.encode(encoding='utf-8', errors='strict') -> bytes\n",
    "```"
   ]
  },
  {
   "cell_type": "code",
   "execution_count": 676,
   "metadata": {
    "slideshow": {
     "slide_type": "-"
    }
   },
   "outputs": [
    {
     "data": {
      "text/plain": [
       "(bytes, b'ASCII')"
      ]
     },
     "execution_count": 676,
     "metadata": {},
     "output_type": "execute_result"
    }
   ],
   "source": [
    "s = 'ASCII'\n",
    "b = s.encode(encoding='utf-8')\n",
    "type(b), b"
   ]
  },
  {
   "cell_type": "markdown",
   "metadata": {
    "slideshow": {
     "slide_type": "slide"
    }
   },
   "source": [
    "如果字符串是中文，编码成'utf-8'，一个中文字符会占用3个字节。"
   ]
  },
  {
   "cell_type": "code",
   "execution_count": 678,
   "metadata": {
    "slideshow": {
     "slide_type": "-"
    }
   },
   "outputs": [
    {
     "data": {
      "text/plain": [
       "(bytes, b'\\xe6\\x82\\xa8\\xe5\\xa5\\xbd', 6, 2)"
      ]
     },
     "execution_count": 678,
     "metadata": {},
     "output_type": "execute_result"
    }
   ],
   "source": [
    "s = '您好'\n",
    "b = s.encode(encoding='utf-8')\n",
    "type(b), b, len(b), len(s)"
   ]
  },
  {
   "cell_type": "markdown",
   "metadata": {
    "slideshow": {
     "slide_type": "slide"
    }
   },
   "source": [
    "如果要把二进制数据流转换为Unicode字符串，需要使用`decode`方法\n",
    "```\n",
    "decode(encoding='utf-8', errors='strict')\n",
    "```"
   ]
  },
  {
   "cell_type": "code",
   "execution_count": 679,
   "metadata": {
    "slideshow": {
     "slide_type": "-"
    }
   },
   "outputs": [
    {
     "name": "stdout",
     "output_type": "stream",
     "text": [
      "<class 'bytes'> <class 'str'> 您好\n"
     ]
    }
   ],
   "source": [
    "s_str = b.decode(encoding='utf-8')\n",
    "print(type(b), type(s_str), s_str)"
   ]
  },
  {
   "cell_type": "code",
   "execution_count": 680,
   "metadata": {
    "slideshow": {
     "slide_type": "slide"
    }
   },
   "outputs": [
    {
     "name": "stdout",
     "output_type": "stream",
     "text": [
      "<class 'str'> Python-中文\n",
      "<class 'bytes'> b'Python-\\xe4\\xb8\\xad\\xe6\\x96\\x87'\n",
      "Python-中文\n"
     ]
    }
   ],
   "source": [
    "# 完整示例\n",
    "s = 'Python-中文'\n",
    "print(type(s), s)\n",
    "b = s.encode('utf-8')\n",
    "print(type(b), b)\n",
    "print(b.decode('utf-8'))"
   ]
  },
  {
   "cell_type": "markdown",
   "metadata": {
    "slideshow": {
     "slide_type": "slide"
    }
   },
   "source": [
    "### 内存与硬盘中的字符串\n",
    "\n",
    "在计算机内存中，统一使用Unicode编码来进行文本处理。\n",
    "\n",
    "当需要保存到硬盘时，会保存为ASCII、UTF-8或GB2312等编码。反之，从硬盘读取这些编码的文件时，会对文本解码为Unicode编码。Python推荐使用UTF-8编码来保存源码文件。\n",
    "\n",
    "在需要通过网络传输时，也需要进行数据的编码与解码。"
   ]
  },
  {
   "cell_type": "markdown",
   "metadata": {
    "slideshow": {
     "slide_type": "slide"
    }
   },
   "source": [
    "## 错误与异常\n",
    "\n",
    "> 像硬币一样，任何事物都具有两重性或两面性。"
   ]
  },
  {
   "cell_type": "markdown",
   "metadata": {
    "slideshow": {
     "slide_type": "-"
    }
   },
   "source": [
    "- 索引错误\n",
    "- 搜索错误\n",
    "- 匹配错误\n",
    "- ..."
   ]
  },
  {
   "cell_type": "markdown",
   "metadata": {
    "slideshow": {
     "slide_type": "slide"
    }
   },
   "source": [
    "## 性能\n",
    "\n",
    "- 内存\n",
    "- cpu"
   ]
  },
  {
   "cell_type": "markdown",
   "metadata": {
    "slideshow": {
     "slide_type": "slide"
    }
   },
   "source": [
    "使用sys模块的`getsizeof`函数可以获得对象分配内存大小："
   ]
  },
  {
   "cell_type": "code",
   "execution_count": 388,
   "metadata": {
    "slideshow": {
     "slide_type": "-"
    }
   },
   "outputs": [
    {
     "data": {
      "text/plain": [
       "(90, 60, 906)"
      ]
     },
     "execution_count": 388,
     "metadata": {},
     "output_type": "execute_result"
    }
   ],
   "source": [
    "import sys\n",
    "\n",
    "sys.getsizeof(s1), sys.getsizeof(s2), sys.getsizeof(s5)"
   ]
  },
  {
   "cell_type": "markdown",
   "metadata": {
    "slideshow": {
     "slide_type": "slide"
    }
   },
   "source": [
    "使用魔术命令%timeit"
   ]
  },
  {
   "cell_type": "code",
   "execution_count": 182,
   "metadata": {
    "slideshow": {
     "slide_type": "-"
    }
   },
   "outputs": [
    {
     "name": "stdout",
     "output_type": "stream",
     "text": [
      "11.6 ns ± 0.13 ns per loop (mean ± std. dev. of 7 runs, 100000000 loops each)\n"
     ]
    }
   ],
   "source": [
    "%timeit s = '0123456789'"
   ]
  },
  {
   "cell_type": "code",
   "execution_count": 184,
   "metadata": {
    "slideshow": {
     "slide_type": "-"
    }
   },
   "outputs": [
    {
     "name": "stdout",
     "output_type": "stream",
     "text": [
      "151 ns ± 1.62 ns per loop (mean ± std. dev. of 7 runs, 10000000 loops each)\n"
     ]
    }
   ],
   "source": [
    "%timeit s.find('79')"
   ]
  }
 ],
 "metadata": {
  "celltoolbar": "Slideshow",
  "kernelspec": {
   "display_name": "Python 3",
   "language": "python",
   "name": "python3"
  },
  "language_info": {
   "codemirror_mode": {
    "name": "ipython",
    "version": 3
   },
   "file_extension": ".py",
   "mimetype": "text/x-python",
   "name": "python",
   "nbconvert_exporter": "python",
   "pygments_lexer": "ipython3",
   "version": "3.6.4"
  },
  "toc": {
   "base_numbering": 1,
   "nav_menu": {},
   "number_sections": true,
   "sideBar": true,
   "skip_h1_title": false,
   "title_cell": "Table of Contents",
   "title_sidebar": "Contents",
   "toc_cell": false,
   "toc_position": {
    "height": "calc(100% - 180px)",
    "left": "10px",
    "top": "150px",
    "width": "275px"
   },
   "toc_section_display": true,
   "toc_window_display": false
  }
 },
 "nbformat": 4,
 "nbformat_minor": 1
}
