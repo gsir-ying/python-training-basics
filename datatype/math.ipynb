{
 "cells": [
  {
   "cell_type": "markdown",
   "metadata": {
    "slideshow": {
     "slide_type": "slide"
    }
   },
   "source": [
    "# 数学运算\n",
    "\n",
    "- 内置数学函数\n",
    "- math库\n",
    "- cmath库"
   ]
  },
  {
   "cell_type": "markdown",
   "metadata": {
    "slideshow": {
     "slide_type": "slide"
    }
   },
   "source": [
    "## 内置数学函数\n",
    "\n",
    "- `abs`\n",
    "- `divmod`\n",
    "- `pow`\n",
    "- `round`"
   ]
  },
  {
   "cell_type": "markdown",
   "metadata": {
    "slideshow": {
     "slide_type": "slide"
    }
   },
   "source": [
    "## math模块\n",
    "\n",
    "尽管已经有了算数运算，然而要想稍微高级的数学计算还不够。不过Python标准库还是提供了基本数学计算。\n",
    "\n",
    "首先要导入`math`模块"
   ]
  },
  {
   "cell_type": "code",
   "execution_count": 30,
   "metadata": {
    "slideshow": {
     "slide_type": "-"
    }
   },
   "outputs": [],
   "source": [
    "import math"
   ]
  },
  {
   "cell_type": "markdown",
   "metadata": {
    "slideshow": {
     "slide_type": "slide"
    }
   },
   "source": [
    "#### 数学常数\n",
    "\n",
    "`math`模块提供了常见的数学常数：\n",
    "- `math.e`: 自然对数$e$\n",
    "- `math.pi`: 圆周率$\\pi$\n",
    "- `math.tau`: $2\\pi$\n",
    "- `math.inf`: 无穷大\n",
    "- `math.nan`: 非数字"
   ]
  },
  {
   "cell_type": "code",
   "execution_count": 35,
   "metadata": {
    "slideshow": {
     "slide_type": "slide"
    }
   },
   "outputs": [
    {
     "name": "stdout",
     "output_type": "stream",
     "text": [
      "2.718281828459045 3.141592653589793 6.283185307179586\n",
      "inf nan\n"
     ]
    }
   ],
   "source": [
    "print(math.e, math.pi, math.tau)\n",
    "print(math.inf, math.nan)"
   ]
  },
  {
   "cell_type": "markdown",
   "metadata": {
    "slideshow": {
     "slide_type": "slide"
    }
   },
   "source": [
    "#### 函数列表\n",
    "\n",
    "- 基本运算\n",
    "- 角度转换\n",
    "- 指数函数\n",
    "- 幂函数\n",
    "- 三角函数\n",
    "- 双曲函数\n",
    "- 误差及伽马函数\n",
    "- 临近整数的浮点运算\n",
    "- 浮点数操作函数\n",
    "- 分类及比较"
   ]
  },
  {
   "cell_type": "markdown",
   "metadata": {
    "slideshow": {
     "slide_type": "slide"
    }
   },
   "source": [
    "#### 基本运算\n",
    "\n",
    "| 函数       |    说明  |\n",
    "| :----------- |:------------|\n",
    "|`math.fabs`  |  计算浮点值的绝对值 |\n",
    "|`math.fmod`  |  计算浮点除法运算的余数 |"
   ]
  },
  {
   "cell_type": "markdown",
   "metadata": {
    "slideshow": {
     "slide_type": "slide"
    }
   },
   "source": [
    "#### 指数函数\n",
    "\n",
    "| 函数       |    说明  |\n",
    "| :----------- |:------------:|\n",
    "|`math.exp`   | 计算e的给定幂 |\n",
    "|`math.expm1`  | 计算e的给定幂减一 |\n",
    "|`math.log`   | 计算自然对数（底为e）|\n",
    "|`math.log10`  | 计算常用对数 （底为10）|\n",
    "|`math.log2`  | 计算底为2的对数| \n",
    "|`math.log1p`  | 计算给定数加1的自然对数（底为e） |"
   ]
  },
  {
   "cell_type": "markdown",
   "metadata": {
    "slideshow": {
     "slide_type": "slide"
    }
   },
   "source": [
    "#### 幂函数\n",
    "\n",
    "| 函数       |    说明  |\n",
    "| :----------- |:------------:|\n",
    "|`math.pow` | 计算一个数的给定次幂 （$x^y$） |\n",
    "|`math.sqrt` | 计算平方根 （$\\sqrt{x}$） |\n",
    "|`math.hypot(x, y)` | 计算两个给定数平方和的平方根$\\sqrt{x^2 + y^2}$  |"
   ]
  },
  {
   "cell_type": "markdown",
   "metadata": {},
   "source": [
    "#### 角度转换函数\n",
    "\n",
    "| 函数       |    说明  |\n",
    "| :----------- |:------------|\n",
    "|`math.degrees(x)` | 弧度转换为角度   |\n",
    "|`math.radians(x)` | 角度转换为弧度   |"
   ]
  },
  {
   "cell_type": "markdown",
   "metadata": {
    "slideshow": {
     "slide_type": "slide"
    }
   },
   "source": [
    "#### 三角函数\n",
    "\n",
    "| 函数       |    说明  |\n",
    "| :----------- |:------------|\n",
    "|`math.sin(x)`  | 计算正弦   |\n",
    "|`math.cos(x)`  | 计算余弦   |\n",
    "|`math.tan(x)`  | 计算正切   |\n",
    "|`math.asin(x)` | 计算反正弦   |\n",
    "|`math.acos(x)` | 计算反余弦   |\n",
    "|`math.atan(x)` | 计算反正切   |\n",
    "|`math.atan2(y, x)` | 返回`atan(y/x)`  |"
   ]
  },
  {
   "cell_type": "markdown",
   "metadata": {
    "slideshow": {
     "slide_type": "slide"
    }
   },
   "source": [
    "#### 双曲函数\n",
    "\n",
    "| 函数       |    说明  |\n",
    "| :----------- |:------------|\n",
    "|`math.sinh(x)`  | 计算双曲正弦   |\n",
    "|`math.cosh(x)`  | 计算双曲余弦   |\n",
    "|`math.tanh(x)`  | 计算双曲正切   |\n",
    "|`math.asinh(x)` | 计算反双曲正弦   |\n",
    "|`math.acosh(x)` | 计算反双曲余弦  |\n",
    "|`math.atanh(x)` | 计算反双曲正切 |"
   ]
  },
  {
   "cell_type": "markdown",
   "metadata": {
    "slideshow": {
     "slide_type": "slide"
    }
   },
   "source": [
    "#### 误差及伽马函数\n",
    "\n",
    "| 函数       |    说明  |\n",
    "| :----------- |:------------|\n",
    "|`math.erf(x)`    | 计算误差函数 |\n",
    "|`math.erfc(x)`   | 计算补误差函数    |\n",
    "|`math.tgamma(x)` | 计算伽马函数   |\n",
    "|`math.lgamma(x)` | 计算伽马函数的自然对数（底为e）    |\n"
   ]
  },
  {
   "cell_type": "markdown",
   "metadata": {},
   "source": [
    "#### 临近整数的浮点运算\n",
    "\n",
    "| 函数       |    说明  |\n",
    "| :----------- |:------------|\n",
    "|`math.ceil`  |  计算不小于给定值的最小整数 |\n",
    "|`math.floor` | 计算不大于给定值的最大整数 |\n",
    "|`math.trunc` | 取整到绝对值不大于给定值的最接近整数 |"
   ]
  },
  {
   "cell_type": "markdown",
   "metadata": {
    "slideshow": {
     "slide_type": "slide"
    }
   },
   "source": [
    "#### 浮点数操作\n",
    "\n",
    "| 函数       |    说明  |\n",
    "| :----------- |:------------|\n",
    "|`math.frexp` | 将数拆分成有效数字和2的幂次 |\n",
    "|`math.ldexp` | 将数乘以 2 的幂 |\n",
    "|`math.modf` | 把一个数拆分成整数和小数部分 |\n",
    "|`math.copysign` | 从一个给定值的绝对值和另一个给定值的符号产生值 |"
   ]
  },
  {
   "cell_type": "markdown",
   "metadata": {},
   "source": [
    "#### 分类及比较\n",
    "\n",
    "| 函数       |    说明  |\n",
    "| :----------- |:------------|\n",
    "|`math.isfinite` | 检查给定数是否具有有限值 |\n",
    "|`math.isinf`   | 检查给定数是否是无穷大  |\n",
    "|`math.isnan`   | 检查给定数是否是NaN  |\n",
    "|`math.isclose`  | 检查浮点数之差是否在规定范围 |"
   ]
  },
  {
   "cell_type": "markdown",
   "metadata": {
    "slideshow": {
     "slide_type": "slide"
    }
   },
   "source": [
    "#### 其它函数\n",
    "\n",
    "\n",
    "| 函数       |    说明  |\n",
    "| :----------- |:------------|\n",
    "|`math.factorial(x)` | 返回 $x!$ |\n",
    "|`math.fsum`   | 计算浮点数值的总和，避免丢失精度 |\n",
    "|`math.gcd`   | 计算两数的最大公约数 |"
   ]
  },
  {
   "cell_type": "markdown",
   "metadata": {
    "slideshow": {
     "slide_type": "slide"
    }
   },
   "source": [
    "### math函数示例"
   ]
  },
  {
   "cell_type": "code",
   "execution_count": 50,
   "metadata": {
    "slideshow": {
     "slide_type": "-"
    }
   },
   "outputs": [
    {
     "name": "stdout",
     "output_type": "stream",
     "text": [
      "3.141592653589793 -3.141592653589793\n",
      "0.0 6.283185307179586\n",
      "1.5707963267948966 -1.5707963267948966\n"
     ]
    }
   ],
   "source": [
    "# Number Radian Method\n",
    "print(math.radians(180), math.radians(-180))\n",
    "print(math.radians(0), math.radians(360))\n",
    "print(math.radians(90), math.radians(-90))"
   ]
  },
  {
   "cell_type": "code",
   "execution_count": 52,
   "metadata": {
    "slideshow": {
     "slide_type": "slide"
    }
   },
   "outputs": [
    {
     "name": "stdout",
     "output_type": "stream",
     "text": [
      "171.88733853924697 -171.88733853924697\n",
      "0.0 180.0\n",
      "90.0 45.0\n"
     ]
    }
   ],
   "source": [
    "# Number Degrees\n",
    "print(math.degrees(3), math.degrees(-3))\n",
    "print(math.degrees(0), math.degrees(math.pi))\n",
    "print(math.degrees(math.pi/2), math.degrees(math.pi/4))"
   ]
  },
  {
   "cell_type": "code",
   "execution_count": 54,
   "metadata": {
    "slideshow": {
     "slide_type": "slide"
    }
   },
   "outputs": [
    {
     "name": "stdout",
     "output_type": "stream",
     "text": [
      "-0.1425465430742778 0.1425465430742778\n",
      "0.0 -1.2246467991473532e-16\n",
      "1.633123935319537e+16 0.9999999999999999\n"
     ]
    }
   ],
   "source": [
    "# Tan Method\n",
    "print(math.tan(3), math.tan(-3))\n",
    "print(math.tan(0), math.tan(math.pi))\n",
    "print(math.tan(math.pi/2), math.tan(math.pi/4))"
   ]
  },
  {
   "cell_type": "code",
   "execution_count": 55,
   "metadata": {
    "slideshow": {
     "slide_type": "slide"
    }
   },
   "outputs": [
    {
     "name": "stdout",
     "output_type": "stream",
     "text": [
      "0.1411200080598672 -0.1411200080598672\n",
      "0.0 1.2246467991473532e-16\n",
      "1.0 0.7071067811865475\n"
     ]
    }
   ],
   "source": [
    "# Math Sin Function\n",
    "print(math.sin(3), math.sin(-3))\n",
    "print(math.sin(0), math.sin(math.pi))\n",
    "print(math.sin(math.pi/2), math.sin(math.pi/4))"
   ]
  },
  {
   "cell_type": "code",
   "execution_count": 56,
   "metadata": {
    "slideshow": {
     "slide_type": "slide"
    }
   },
   "outputs": [
    {
     "name": "stdout",
     "output_type": "stream",
     "text": [
      "3.605551275463989\n",
      "4.242640687119285\n",
      "2.0\n"
     ]
    }
   ],
   "source": [
    "# Math Hypot Funcition\n",
    "print(math.hypot(3, 2))\n",
    "print(math.hypot(-3, 3))\n",
    "print(math.hypot(0, 2))"
   ]
  },
  {
   "cell_type": "code",
   "execution_count": 57,
   "metadata": {
    "slideshow": {
     "slide_type": "slide"
    }
   },
   "outputs": [
    {
     "name": "stdout",
     "output_type": "stream",
     "text": [
      "-0.9899924966004454 -0.9899924966004454\n",
      "1.0 -1.0\n",
      "6.123233995736766e-17 0.7071067811865476\n"
     ]
    }
   ],
   "source": [
    "# Math Cos Function\n",
    "print(math.cos(3), math.cos(-3))\n",
    "print(math.cos(0), math.cos(math.pi))\n",
    "print(math.cos(math.pi/2), math.cos(math.pi/4))"
   ]
  },
  {
   "cell_type": "code",
   "execution_count": 59,
   "metadata": {
    "slideshow": {
     "slide_type": "slide"
    }
   },
   "outputs": [
    {
     "name": "stdout",
     "output_type": "stream",
     "text": [
      "-2.356194490192345 0.7853981633974483\n",
      "0.7853981633974483 -0.7853981633974483\n",
      "0.4636476090008061\n"
     ]
    }
   ],
   "source": [
    "# math Atan2 Function\n",
    "print(math.atan2(-0.50, -0.50), math.atan2(0.50, 0.50))\n",
    "print(math.atan2(5, 5), math.atan2(-10, 10))\n",
    "print(math.atan2(10, 20))"
   ]
  },
  {
   "cell_type": "code",
   "execution_count": 60,
   "metadata": {
    "slideshow": {
     "slide_type": "slide"
    }
   },
   "outputs": [
    {
     "name": "stdout",
     "output_type": "stream",
     "text": [
      "0.5693131911006619 0.0\n",
      "1.4711276743037347 -0.7853981633974483 0.7853981633974483\n"
     ]
    }
   ],
   "source": [
    "# Math Atan Function\n",
    "print(math.atan(0.64), math.atan(0))\n",
    "print(math.atan(10), math.atan(-1), math.atan(1))"
   ]
  },
  {
   "cell_type": "code",
   "execution_count": 62,
   "metadata": {
    "slideshow": {
     "slide_type": "slide"
    }
   },
   "outputs": [
    {
     "name": "stdout",
     "output_type": "stream",
     "text": [
      "0.694498265626556 0.0\n",
      "-1.5707963267948966 1.5707963267948966\n"
     ]
    }
   ],
   "source": [
    "# Math Asin Function\n",
    "print(math.asin(0.64), math.asin(0))\n",
    "print(math.asin(-1), math.asin(1))"
   ]
  },
  {
   "cell_type": "code",
   "execution_count": 64,
   "metadata": {
    "slideshow": {
     "slide_type": "slide"
    }
   },
   "outputs": [
    {
     "name": "stdout",
     "output_type": "stream",
     "text": [
      "0.8762980611683406 1.5707963267948966\n",
      "3.141592653589793 0.0\n"
     ]
    }
   ],
   "source": [
    "# Math Acos Function\n",
    "print(math.acos(0.64), math.acos(0))\n",
    "print(math.acos(-1), math.acos(1))"
   ]
  },
  {
   "cell_type": "code",
   "execution_count": 65,
   "metadata": {
    "slideshow": {
     "slide_type": "slide"
    }
   },
   "outputs": [
    {
     "name": "stdout",
     "output_type": "stream",
     "text": [
      "10.0 2.6457513110645907\n",
      "1.7724538509055159\n"
     ]
    }
   ],
   "source": [
    "# Math Sqrt Method\n",
    "print(math.sqrt(100), math.sqrt(7))\n",
    "print(math.sqrt(math.pi))"
   ]
  },
  {
   "cell_type": "code",
   "execution_count": 67,
   "metadata": {
    "slideshow": {
     "slide_type": "slide"
    }
   },
   "outputs": [
    {
     "name": "stdout",
     "output_type": "stream",
     "text": [
      "70 56.7\n",
      "80.26 100.0 100.00006\n",
      "-100.0\n"
     ]
    }
   ],
   "source": [
    "# Round Method\n",
    "print(round(70.23456), round(56.659,1))\n",
    "print(round(80.264, 2), round(100.000056, 3), round(100.000056, 5))\n",
    "print(round(-100.000056, 3))"
   ]
  },
  {
   "cell_type": "code",
   "execution_count": 69,
   "metadata": {
    "slideshow": {
     "slide_type": "slide"
    }
   },
   "outputs": [
    {
     "name": "stdout",
     "output_type": "stream",
     "text": [
      "10000.0 0.0001\n",
      "16.0 1.0\n"
     ]
    }
   ],
   "source": [
    "# Math Pow Method\n",
    "print(math.pow(100, 2), math.pow(100, -2))\n",
    "print(math.pow(2, 4), math.pow(3, 0))"
   ]
  },
  {
   "cell_type": "code",
   "execution_count": 70,
   "metadata": {
    "slideshow": {
     "slide_type": "slide"
    }
   },
   "outputs": [
    {
     "name": "stdout",
     "output_type": "stream",
     "text": [
      "(0.12000000000000455, 100.0) (0.7199999999999989, 100.0)\n",
      "(0.0, 119.0) (0.14159265358979312, 3.0)\n"
     ]
    }
   ],
   "source": [
    "# Math Modf Method\n",
    "print(math.modf(100.12), math.modf(100.72))\n",
    "print(math.modf(119), math.modf(math.pi))"
   ]
  },
  {
   "cell_type": "code",
   "execution_count": 71,
   "metadata": {
    "slideshow": {
     "slide_type": "slide"
    }
   },
   "outputs": [
    {
     "name": "stdout",
     "output_type": "stream",
     "text": [
      "80\n",
      "-20\n",
      "-80\n",
      "-400\n"
     ]
    }
   ],
   "source": [
    "# Min Method\n",
    "print(min(80, 100, 1000))\n",
    "print(min(-20, 100, 400))\n",
    "print(min(-80, -20, -10))\n",
    "print(min(0, 100, -400))"
   ]
  },
  {
   "cell_type": "code",
   "execution_count": 72,
   "metadata": {
    "slideshow": {
     "slide_type": "slide"
    }
   },
   "outputs": [
    {
     "name": "stdout",
     "output_type": "stream",
     "text": [
      "1000 400\n",
      "-10 100\n"
     ]
    }
   ],
   "source": [
    "# Max Method\n",
    "print(max(80, 100, 1000), max(-20, 100, 400))\n",
    "print(max(-80, -20, -10), max(0, 100, -400))"
   ]
  },
  {
   "cell_type": "code",
   "execution_count": 73,
   "metadata": {
    "slideshow": {
     "slide_type": "slide"
    }
   },
   "outputs": [
    {
     "name": "stdout",
     "output_type": "stream",
     "text": [
      "2.0005208409361854 2.003115717099806\n",
      "2.075546961392531 0.4971498726941338\n"
     ]
    }
   ],
   "source": [
    "# Math Log10 Method\n",
    "print(math.log10(100.12), math.log10(100.72))\n",
    "print(math.log10(119), math.log10(math.pi))"
   ]
  },
  {
   "cell_type": "code",
   "execution_count": 74,
   "metadata": {
    "slideshow": {
     "slide_type": "slide"
    }
   },
   "outputs": [
    {
     "name": "stdout",
     "output_type": "stream",
     "text": [
      "4.6063694665635735 4.612344389736092 1.1447298858494002\n"
     ]
    }
   ],
   "source": [
    "# Math Log Method\n",
    "print(math.log(100.12), math.log(100.72), math.log(math.pi))"
   ]
  },
  {
   "cell_type": "code",
   "execution_count": 75,
   "metadata": {
    "slideshow": {
     "slide_type": "slide"
    }
   },
   "outputs": [
    {
     "name": "stdout",
     "output_type": "stream",
     "text": [
      "-46 100 100 3\n"
     ]
    }
   ],
   "source": [
    "# Math floor method\n",
    "print(math.floor(-45.17), math.floor(100.12), math.floor(100.72), math.floor(math.pi))"
   ]
  },
  {
   "cell_type": "code",
   "execution_count": 76,
   "metadata": {
    "slideshow": {
     "slide_type": "slide"
    }
   },
   "outputs": [
    {
     "name": "stdout",
     "output_type": "stream",
     "text": [
      "45.17 100.12 100.72 3.141592653589793\n"
     ]
    }
   ],
   "source": [
    "# Math Fabs Method\n",
    "print(math.fabs(-45.17), math.fabs(100.12), math.fabs(100.72), math.fabs(math.pi))"
   ]
  },
  {
   "cell_type": "code",
   "execution_count": 77,
   "metadata": {
    "slideshow": {
     "slide_type": "slide"
    }
   },
   "outputs": [
    {
     "name": "stdout",
     "output_type": "stream",
     "text": [
      "2.4150062132629406e-20 3.0308436140742566e+43 5.522557130248187e+43 23.140692632779267\n"
     ]
    }
   ],
   "source": [
    "# Math Exp Method\n",
    "print(math.exp(-45.17), math.exp(100.12), math.exp(100.72), math.exp(math.pi))"
   ]
  },
  {
   "cell_type": "code",
   "execution_count": 78,
   "metadata": {
    "slideshow": {
     "slide_type": "slide"
    }
   },
   "outputs": [
    {
     "name": "stdout",
     "output_type": "stream",
     "text": [
      "-45 101 101 4\n"
     ]
    }
   ],
   "source": [
    "# Math Ceil Method\n",
    "print(math.ceil(-45.17), math.ceil(100.12), math.ceil(100.72), math.ceil(math.pi))"
   ]
  },
  {
   "cell_type": "code",
   "execution_count": 79,
   "metadata": {
    "slideshow": {
     "slide_type": "slide"
    }
   },
   "outputs": [
    {
     "name": "stdout",
     "output_type": "stream",
     "text": [
      "45 100.12\n"
     ]
    }
   ],
   "source": [
    "# Abs Method\n",
    "print(abs(-45), abs(100.12))"
   ]
  },
  {
   "cell_type": "markdown",
   "metadata": {
    "slideshow": {
     "slide_type": "slide"
    }
   },
   "source": [
    "## cmath\n",
    "\n",
    "math库是不支持复数的，对于复数运算，需要导入cmath库"
   ]
  },
  {
   "cell_type": "code",
   "execution_count": 36,
   "metadata": {
    "slideshow": {
     "slide_type": "-"
    }
   },
   "outputs": [],
   "source": [
    "import cmath"
   ]
  },
  {
   "cell_type": "markdown",
   "metadata": {
    "slideshow": {
     "slide_type": "slide"
    }
   },
   "source": [
    "#### 数学常数\n",
    "\n",
    "`cmath`模块提供了常见的数学常数：\n",
    "- `cmath.e`: 自然对数$e$\n",
    "- `cmath.pi`: 圆周率$\\pi$\n",
    "- `cmath.tau`: $2\\pi$\n",
    "- `cmath.inf`: 无穷大\n",
    "- `cmath.infj`: 无穷大(complex)\n",
    "- `cmath.nan`: 非数字\n",
    "- `cmath.nanj`: 非数字(complex)"
   ]
  },
  {
   "cell_type": "code",
   "execution_count": 40,
   "metadata": {
    "slideshow": {
     "slide_type": "slide"
    }
   },
   "outputs": [
    {
     "name": "stdout",
     "output_type": "stream",
     "text": [
      "2.718281828459045 3.141592653589793 6.283185307179586\n",
      "inf nan\n",
      "infj nanj\n"
     ]
    }
   ],
   "source": [
    "print(cmath.e, cmath.pi, cmath.tau)\n",
    "print(cmath.inf, cmath.nan)\n",
    "print(cmath.infj, cmath.nanj)"
   ]
  },
  {
   "cell_type": "code",
   "execution_count": 41,
   "metadata": {
    "slideshow": {
     "slide_type": "-"
    }
   },
   "outputs": [
    {
     "name": "stdout",
     "output_type": "stream",
     "text": [
      "<class 'float'> <class 'complex'>\n"
     ]
    }
   ],
   "source": [
    "print(type(cmath.inf), type(cmath.infj))"
   ]
  },
  {
   "cell_type": "markdown",
   "metadata": {
    "slideshow": {
     "slide_type": "slide"
    }
   },
   "source": [
    "#### 函数列表\n",
    "\n",
    "cmath模块提供了math模块中大多数三角函数、对数函数的复数版本。"
   ]
  },
  {
   "cell_type": "markdown",
   "metadata": {
    "slideshow": {
     "slide_type": "slide"
    }
   },
   "source": [
    "#### 指数函数\n",
    "\n",
    "| 函数       |    说明  |\n",
    "| :----------- |:------------:|\n",
    "|`cmath.exp`   | 计算e的给定幂 |\n",
    "|`cmath.log`   | 计算自然对数（底为e）|\n",
    "|`cmath.log10`  | 计算常用对数 （底为10）|"
   ]
  },
  {
   "cell_type": "markdown",
   "metadata": {
    "slideshow": {
     "slide_type": "slide"
    }
   },
   "source": [
    "#### 幂函数\n",
    "\n",
    "| 函数       |    说明  |\n",
    "| :----------- |:------------:|\n",
    "|`cmath.sqrt` | 计算平方根 （$\\sqrt{x}$） |"
   ]
  },
  {
   "cell_type": "markdown",
   "metadata": {
    "slideshow": {
     "slide_type": "slide"
    }
   },
   "source": [
    "#### 三角函数\n",
    "\n",
    "| 函数       |    说明  |\n",
    "| :----------- |:------------|\n",
    "|`cmath.sin(x)`  | 计算正弦   |\n",
    "|`cmath.cos(x)`  | 计算余弦   |\n",
    "|`cmath.tan(x)`  | 计算正切   |\n",
    "|`cmath.asin(x)` | 计算反正弦   |\n",
    "|`cmath.acos(x)` | 计算反余弦   |\n",
    "|`cmath.atan(x)` | 计算反正切   |"
   ]
  },
  {
   "cell_type": "markdown",
   "metadata": {
    "slideshow": {
     "slide_type": "slide"
    }
   },
   "source": [
    "#### 双曲函数\n",
    "\n",
    "| 函数       |    说明  |\n",
    "| :----------- |:------------|\n",
    "|`math.sinh(x)`  | 计算双曲正弦   |\n",
    "|`math.cosh(x)`  | 计算双曲余弦   |\n",
    "|`math.tanh(x)`  | 计算双曲正切   |\n",
    "|`math.asinh(x)` | 计算反双曲正弦   |\n",
    "|`math.acosh(x)` | 计算反双曲余弦  |\n",
    "|`math.atanh(x)` | 计算反双曲正切 |"
   ]
  },
  {
   "cell_type": "markdown",
   "metadata": {
    "slideshow": {
     "slide_type": "slide"
    }
   },
   "source": [
    "#### 分类及比较\n",
    "\n",
    "| 函数       |    说明  |\n",
    "| :----------- |:------------|\n",
    "|`cmath.isfinite` | 检查给定数是否具有有限值 |\n",
    "|`cmath.isinf`   | 检查给定数是否是无穷大  |\n",
    "|`cmath.isnan`   | 检查给定数是否是NaN  |\n",
    "|`cmath.isclose`  | 检查两数之差是否在规定范围 |"
   ]
  },
  {
   "cell_type": "markdown",
   "metadata": {
    "slideshow": {
     "slide_type": "slide"
    }
   },
   "source": [
    "#### 复数特定函数\n",
    "\n",
    "| 函数       |    说明  |\n",
    "| :----------- |:------------|\n",
    "|`cmath.phase` | 就是复数的相位(辐角) |\n",
    "|`cmath.polar` | 计算复数的模和相位 |\n",
    "|`cmath.rect` | 用模和相位构建复数对象 |"
   ]
  },
  {
   "cell_type": "markdown",
   "metadata": {
    "slideshow": {
     "slide_type": "slide"
    }
   },
   "source": [
    "## 数学函数示例"
   ]
  },
  {
   "cell_type": "code",
   "execution_count": 42,
   "metadata": {
    "slideshow": {
     "slide_type": "slide"
    }
   },
   "outputs": [
    {
     "data": {
      "text/plain": [
       "0.7071067811865475"
      ]
     },
     "execution_count": 42,
     "metadata": {},
     "output_type": "execute_result"
    }
   ],
   "source": [
    "math.sin(math.pi / 4.0)"
   ]
  },
  {
   "cell_type": "code",
   "execution_count": 43,
   "metadata": {
    "slideshow": {
     "slide_type": "-"
    }
   },
   "outputs": [
    {
     "data": {
      "text/plain": [
       "0.7071067811865476"
      ]
     },
     "execution_count": 43,
     "metadata": {},
     "output_type": "execute_result"
    }
   ],
   "source": [
    "math.cos(math.pi / 4.0)"
   ]
  }
 ],
 "metadata": {
  "celltoolbar": "Slideshow",
  "kernelspec": {
   "display_name": "Python 3",
   "language": "python",
   "name": "python3"
  },
  "language_info": {
   "codemirror_mode": {
    "name": "ipython",
    "version": 3
   },
   "file_extension": ".py",
   "mimetype": "text/x-python",
   "name": "python",
   "nbconvert_exporter": "python",
   "pygments_lexer": "ipython3",
   "version": "3.6.4"
  },
  "toc": {
   "base_numbering": 1,
   "nav_menu": {},
   "number_sections": true,
   "sideBar": true,
   "skip_h1_title": false,
   "title_cell": "Table of Contents",
   "title_sidebar": "Contents",
   "toc_cell": false,
   "toc_position": {
    "height": "calc(100% - 180px)",
    "left": "10px",
    "top": "150px",
    "width": "253px"
   },
   "toc_section_display": true,
   "toc_window_display": false
  }
 },
 "nbformat": 4,
 "nbformat_minor": 1
}
