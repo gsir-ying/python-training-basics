{
 "cells": [
  {
   "cell_type": "markdown",
   "metadata": {
    "slideshow": {
     "slide_type": "slide"
    }
   },
   "source": [
    "# 差旅报销\n",
    "\n",
    "- 住宿费实报实销\n",
    "- 火车费用实报实销\n",
    "- 交通补贴每日80或打车费实报实销\n",
    "- 饭贴每日100或者饭费实报实销"
   ]
  },
  {
   "cell_type": "markdown",
   "metadata": {
    "slideshow": {
     "slide_type": "slide"
    }
   },
   "source": [
    "## 20190121-北京出差\n",
    "\n",
    "参加国家天文台2019年青促会活动"
   ]
  },
  {
   "cell_type": "code",
   "execution_count": 1,
   "metadata": {
    "slideshow": {
     "slide_type": "slide"
    }
   },
   "outputs": [],
   "source": [
    "# 国家天文台\n",
    "meeting_place = '国家天文台'\n",
    "# 日期\n",
    "departdate = '20190121'\n",
    "returndate = '20190122'"
   ]
  },
  {
   "cell_type": "code",
   "execution_count": 2,
   "metadata": {
    "slideshow": {
     "slide_type": "-"
    }
   },
   "outputs": [],
   "source": [
    "# 住宿费：490.0; 500.0\n",
    "hotel_fee = 490 + 500\n",
    "# 火车费： 553.0, 553.3\n",
    "train_fee = 553.0 + 553.3\n",
    "# 打车费：17.0， 51.0， 15.0，127.0\n",
    "taxi_fee = 17.0 + 51.0 + 15.0 +127.0\n",
    "# 饭费：22.0， 23.0, 32.0, 33\n",
    "meal_fee = 22.0 + 23.0 + 32.0 + 33"
   ]
  },
  {
   "cell_type": "code",
   "execution_count": 3,
   "metadata": {
    "slideshow": {
     "slide_type": "slide"
    }
   },
   "outputs": [
    {
     "name": "stdout",
     "output_type": "stream",
     "text": [
      "住宿费： 990\n",
      "交通费： 1106.3\n",
      "交通费补贴： 210.0\n",
      "餐费补贴： 200\n"
     ]
    }
   ],
   "source": [
    "days = 2\n",
    "print('住宿费：', hotel_fee)\n",
    "print('交通费：', train_fee) \n",
    "if taxi_fee < days * 80:\n",
    "    print('交通费补贴：', days * 80)\n",
    "else:\n",
    "    print('交通费补贴：', taxi_fee)\n",
    "\n",
    "if meal_fee < days * 100:\n",
    "    print('餐费补贴：', days * 100)\n",
    "else:\n",
    "    print('餐费补贴：', meal_fee)    "
   ]
  },
  {
   "cell_type": "markdown",
   "metadata": {
    "slideshow": {
     "slide_type": "slide"
    }
   },
   "source": [
    "## 进一步任务\n",
    "\n",
    "- 多次差旅，如何进一步简化（使用数据结构与函数）？ \n",
    "- 能否自动填写报销单（爬虫）？\n",
    "- 能否自动打印报销单（爬虫）？\n",
    "- 能否绘制1年差旅情况（matplotlib）？\n",
    "- 能否分析活动规律（数据分析）？\n",
    "- 能否预测来年差旅预算（机器学习）？"
   ]
  }
 ],
 "metadata": {
  "celltoolbar": "Slideshow",
  "kernelspec": {
   "display_name": "Python 3",
   "language": "python",
   "name": "python3"
  },
  "language_info": {
   "codemirror_mode": {
    "name": "ipython",
    "version": 3
   },
   "file_extension": ".py",
   "mimetype": "text/x-python",
   "name": "python",
   "nbconvert_exporter": "python",
   "pygments_lexer": "ipython3",
   "version": "3.6.4"
  },
  "toc": {
   "base_numbering": 1,
   "nav_menu": {},
   "number_sections": true,
   "sideBar": true,
   "skip_h1_title": false,
   "title_cell": "Table of Contents",
   "title_sidebar": "Contents",
   "toc_cell": false,
   "toc_position": {},
   "toc_section_display": true,
   "toc_window_display": false
  }
 },
 "nbformat": 4,
 "nbformat_minor": 2
}
