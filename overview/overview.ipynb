{
 "cells": [
  {
   "cell_type": "markdown",
   "metadata": {
    "collapsed": true,
    "slideshow": {
     "slide_type": "slide"
    }
   },
   "source": [
    "# 概述\n",
    "\n",
    "* 为什么选择Python？\n",
    "\n",
    "* 如何学习Python？\n",
    "\n",
    "* 简要介绍Python环境构建过程\n",
    "\n",
    "* 开始运行Python的第一个示例。"
   ]
  },
  {
   "cell_type": "markdown",
   "metadata": {
    "slideshow": {
     "slide_type": "slide"
    }
   },
   "source": [
    "## 为什么选择Python？\n",
    "\n",
    "- 自计算机发明后世界上出现的计算机编程语言超过2500种。"
   ]
  },
  {
   "cell_type": "markdown",
   "metadata": {
    "slideshow": {
     "slide_type": "slide"
    }
   },
   "source": [
    "### Guido其人其事\n",
    "\n",
    "1989年圣诞节期间，时年33岁的程序猿[吉多·范罗苏姆(Guido van Rossum)](https://www.python.org/~guido/)尚未婚配，为了打发无聊假期，开始编写Python语言。Python语言就此诞生！\n",
    "\n",
    "![Python语言创始人](assets/GuidovanRossum.jpg 'Guido van Rossum')"
   ]
  },
  {
   "cell_type": "markdown",
   "metadata": {
    "slideshow": {
     "slide_type": "slide"
    }
   },
   "source": [
    "### Python的优缺点\n",
    "\n",
    "Python优缺点见仁见智，你眼中的优点在别人眼中也许是缺点:\n",
    "- 简单易学（simple and easy-to-learn）\n",
    "- 功能强大（powerful）\n",
    "- 高效能\n",
    "- 可移植\n",
    "- 开源\n",
    "- 运行速度慢\n",
    "- 代码不加密"
   ]
  },
  {
   "cell_type": "markdown",
   "metadata": {
    "slideshow": {
     "slide_type": "skip"
    }
   },
   "source": [
    "#### 简单易学（simple and easy-to-learn）\n",
    "\n",
    "随着计算机应用的快速发展，比尔盖茨的愿景---每张桌子上都有一台计算机---似乎已经成为现实。有计算机自然需要编程，也许将来编程会象读写能力一样成为人们必备技能。Python语言设计目标包括简单易学，甚至有个愿景，人人都是Python程序员；像老头乐一样，遇到小问题自己就用Python解决，痒了自己挠蛮好。"
   ]
  },
  {
   "cell_type": "markdown",
   "metadata": {
    "slideshow": {
     "slide_type": "skip"
    }
   },
   "source": [
    "Python设计优雅，易读易写。Python设计原则之一，是用一种方法且最好只有一种方法来做一件事，即唯一胜于显然。Python在设计上坚持了清晰划一风格，有意设计了限制性很强语法，都保证了Python代码的友好和一致。此外，Python程序接近于伪代码，读代码如同读英语一般。Python的伪代码特质也使得能够专注于解决问题而非语言本身。"
   ]
  },
  {
   "cell_type": "markdown",
   "metadata": {
    "slideshow": {
     "slide_type": "skip"
    }
   },
   "source": [
    "Python语言很适合作为用户首个学习的计算机语言。\n",
    "\n",
    "> 人人都是程序员（[Everybody a Programmer](http://legacy.python.org/doc/essays/ppt/acm-cp4e/sld003.htm)）"
   ]
  },
  {
   "cell_type": "markdown",
   "metadata": {
    "slideshow": {
     "slide_type": "skip"
    }
   },
   "source": [
    "#### 功能强大（powerful）\n",
    "\n",
    "* 支持动态类型。在运行过程中随时跟踪对象的种类，不需要代码中声明。自动内存管理自动进行对象分配和垃圾回收，替代用户做内存管理。\n",
    "\n",
    "* 面向对象。类支持多态、操作符重载和多重继承等高级概念。在Python语言中，万物皆对象。\n",
    "\n",
    "* 交互式解释型语言。不需要编译即可运行，在开发程序时可以不断试错，查看和检测程序内容。\n",
    "\n",
    "* Python支持多种范式编程，包括过程、面向对象、函数式编程。\n",
    "\n",
    "* Python内置常用高级数据类型，同时包括众多预编译的标准库。\n",
    "\n",
    "* 易于扩展。类似“胶水”语言，和其它语言混搭便利，容易使用C、Fortran等语言编写的库文件。"
   ]
  },
  {
   "cell_type": "markdown",
   "metadata": {
    "slideshow": {
     "slide_type": "skip"
    }
   },
   "source": [
    "#### 高效能\n",
    "\n",
    "- 与C、C＋＋和Java等编译语言相比，Python代码量往往比它们少2-10倍。这也就意味着维护工作也大大减少。\n",
    "\n",
    "- 同时Python程序还是解释性语言，无需编译及连接等步骤，进一步提高编程效能。\n",
    "\n",
    "- 随着计算机硬件的快速发展，人力费用已经远贵于硬件。社会的高速发展，也使得开发时间远急于CPU时间。\n",
    "\n",
    "- Python设计更注重可读性和一致性，其软件质量也会大有提高，减少了维护成本，意味着效能的提高。"
   ]
  },
  {
   "cell_type": "markdown",
   "metadata": {
    "slideshow": {
     "slide_type": "skip"
    }
   },
   "source": [
    "#### 可移植\n",
    "\n",
    "Pyhton语言的开源本质，使得绝大多数Python程序不做任何改变，就可在所有主流计算机平台上运行。例如，从个人计算机到超级计算机，甚至移动平台，如：  \n",
    "\n",
    "- Linux 和UNIX 系统。 \n",
    "- 微软Windows 。 \n",
    "- Mac OS （包括OS X 和Classic ）。 \n",
    "- BeOS 、OS/2 、VMS 和QNX 。 \n",
    "- 实时操作系统，例如，VxWorks 。 \n",
    "- Cray超级计算机和IBM 大型机。 \n",
    "- iOS、android等移动平台。 "
   ]
  },
  {
   "cell_type": "markdown",
   "metadata": {
    "slideshow": {
     "slide_type": "skip"
    }
   },
   "source": [
    "#### 开源\n",
    "\n",
    "Python是自由开源软件之一，易于使用，Python的在线社区提供的支持响应也相当快。Python使用自然是免费的。\n",
    "\n",
    "经过百度事件，我们需要改变意识，开源举双手赞成，免费却未必佳。"
   ]
  },
  {
   "cell_type": "markdown",
   "metadata": {
    "slideshow": {
     "slide_type": "skip"
    }
   },
   "source": [
    "#### 运行速度慢\n",
    "\n",
    "首先必须承认，与C语言等编译语言相比，Python运行速度确实慢。\n",
    "\n",
    "对于计算机程序，评价快慢优劣的标准应当是需求是否足够。在现实生活中，应用程序归根结底是要解决问题。通常最大需求是尽快编写程序把问题解决掉，显然Python更快。其次，大多应用程序对速度要求并不高，0.001秒和0.1秒的差异人类感觉并不明显，而且随着计算机产业发展，人力资源会比硬件资源越来越贵，使用性能更优硬件满足需求即可。再次，现在有很多Python高性能或集群模块推出，此外英特尔公司也推出[Intel® Distribution for Python](https://software.intel.com/en-us/python-distribution)，性能也会逐步提高。\n",
    "\n",
    "如果需求仍不满足怎么办，自然是换掉Python语言，须知客户需求第一！"
   ]
  },
  {
   "cell_type": "markdown",
   "metadata": {
    "slideshow": {
     "slide_type": "skip"
    }
   },
   "source": [
    "#### 代码不加密\n",
    "\n",
    "必须承认，发布Python程序，就意味着源代码公开。\n",
    "\n",
    "随着互联网模式的快速发展，可以通过网站提供服务，在此情况是不需要提供源代码的。\n",
    "\n",
    "开阔视野，放眼未来，也许开源才是生存之道。"
   ]
  },
  {
   "cell_type": "markdown",
   "metadata": {
    "slideshow": {
     "slide_type": "slide"
    }
   },
   "source": [
    "### 发展态势\n",
    "\n",
    "自有计算机以后，世界上已发明许多编程语言。[TIOBE开发语言排行榜](http://www.tiobe.com/tiobe_index?page=index)使用搜索引擎等对大约200多个开发语言进行统计排名，借此反映某个编程语言的热门程度。可以看出排在Python前面的都是编译语言。"
   ]
  },
  {
   "cell_type": "markdown",
   "metadata": {
    "slideshow": {
     "slide_type": "slide"
    }
   },
   "source": [
    "![TIOBE开发语言排行榜](assets/tiobe_Jan2019.png)"
   ]
  },
  {
   "cell_type": "markdown",
   "metadata": {
    "slideshow": {
     "slide_type": "slide"
    }
   },
   "source": [
    "### 应用范围\n",
    "\n",
    "- Web开发、网络爬虫\n",
    "- 数据分析、人工智能\n",
    "- 自动运维开发\n",
    "- 自动化测试\n",
    "- 云计算\n",
    "- 量化交易\n",
    "- 科学计算\n",
    "- 树莓派智能设备"
   ]
  },
  {
   "cell_type": "markdown",
   "metadata": {
    "slideshow": {
     "slide_type": "skip"
    }
   },
   "source": [
    "## 如何学习Python？\n",
    "\n",
    "\n",
    "感谢您选择继续学习Python！正确的决定是成功的一半！剩余的一半就是要执行，要坚持！"
   ]
  },
  {
   "cell_type": "markdown",
   "metadata": {
    "slideshow": {
     "slide_type": "skip"
    }
   },
   "source": [
    "### 方法\n",
    "\n",
    "编程语言学习有三个境界：\n",
    "\n",
    "> 明白同行所说之概念，看懂同行所写之代码，此第一境也；比葫芦画瓢模仿出代码，量变引质变，终山寨变正品，此第二境也；能悟道而传之，能授业解人惑，此第三境也。"
   ]
  },
  {
   "cell_type": "markdown",
   "metadata": {
    "slideshow": {
     "slide_type": "skip"
    }
   },
   "source": [
    "对应的三个阶段：\n",
    "\n",
    "- 第一阶段，买书或培训，开始了解基本语法和概念，看的懂简单代码，运行示例程序也能够获得结果。\n",
    "\n",
    "- 第二阶段，仿照简单示例开始编写代码，出现错误会调试代码，最终完成代码；随着编写代码越来越多，经验越来越丰富，能够画草图设计，再据设计编写代码。编写的软件能够真正有用。\n",
    "\n",
    "- 第三阶段，能够知其然知其所以然，记记笔记，写点博客。可以解决别人编程出现的问题，且解释的头头是道。"
   ]
  },
  {
   "cell_type": "markdown",
   "metadata": {
    "slideshow": {
     "slide_type": "skip"
    }
   },
   "source": [
    "为了达到Python语言学习的最高境界，就得要求读者：\n",
    "\n",
    "* 多看多练；\n",
    "* 多编多试；\n",
    "* 多写多思。"
   ]
  },
  {
   "cell_type": "markdown",
   "metadata": {
    "slideshow": {
     "slide_type": "skip"
    }
   },
   "source": [
    "在国内Python网络社区，不知哪位高人编写了Python八荣八耻，这里借花奉于读者：   \n",
    "\n",
    "> 以动手实践为荣 , 以只看不练为耻。    \n",
    "> 以打印日志为荣 , 以单步跟踪为耻。    \n",
    "> 以空格缩进为荣 , 以制表缩进为耻。    \n",
    "> 以单元测试为荣 , 以人工测试为耻。      \n",
    "> 以模块复用为荣 , 以复制粘贴为耻。    \n",
    "> 以多态应用为荣 , 以分支判断为耻。    \n",
    "> 以Pythonic为荣 , 以冗余拖沓为耻。    \n",
    "> 以总结分享为荣 , 以不求甚解为耻。 "
   ]
  },
  {
   "cell_type": "markdown",
   "metadata": {
    "slideshow": {
     "slide_type": "skip"
    }
   },
   "source": [
    "以动手实践为荣 , 以只看不练为耻。或许对所有编程语言甚至语言类学习来说，都是不言而喻的。动手敲一下，运行一下，错了改正一下，才能对语言细节有更深了解。"
   ]
  },
  {
   "cell_type": "markdown",
   "metadata": {
    "slideshow": {
     "slide_type": "skip"
    }
   },
   "source": [
    "### 手段\n",
    "\n",
    "* 书籍教材\n",
    "\n",
    "* 网络教程\n",
    "\n",
    "* 培训\n",
    "\n",
    "* 自省和帮助"
   ]
  },
  {
   "cell_type": "markdown",
   "metadata": {
    "slideshow": {
     "slide_type": "slide"
    }
   },
   "source": [
    "#### 自省和帮助\n",
    "\n",
    "在生活中，自省即自我反省，是德行修养的一种方法。“曾子曰：吾日三省吾身，为人谋而不忠乎？与朋友交而不信乎？传而不习乎？”，语出《论语.学而》。\n",
    "\n",
    "在计算机编程中，自省是指检查某些事物以确定它是什么、它知道什么以及它能做什么。自省向程序员提供了极大的灵活性和控制力。"
   ]
  },
  {
   "cell_type": "markdown",
   "metadata": {
    "slideshow": {
     "slide_type": "slide"
    }
   },
   "source": [
    "Python尤为重视文档，使用强大的帮助实现自描述。与其他语言不同，利用Python语言的自省和帮助进行学习有点特别但却可行，特别是英语好更会事半功倍。\n",
    "\n",
    "对于计算机语言类书籍，发表之日也许就意味着落伍过时；对于网络教程，总有意犹未尽之感；对于培训，时间毕竟有限，入门阶段较好，但后续阶段总不能快速支持。与这些学习手段相比，自省和帮助总能在读者需要时提供帮助，给出的信息总是最新最全最真，故欲更深刻理解Python，自省和帮助则是最直接最有效的手段。"
   ]
  },
  {
   "cell_type": "markdown",
   "metadata": {
    "slideshow": {
     "slide_type": "slide"
    }
   },
   "source": [
    "在后续章节将使用自省和帮助的方法，让读者学会和理解Python之妙。也期望在今后的工作中，能够继续使用自省来学习。这里东施效颦，自编几句Python学习的自省语录，贻笑大方：\n",
    "\n",
    "> 吾每遇对象必自省，用变量而知其类乎？用其值而知属性乎？用其法而知方法乎？"
   ]
  },
  {
   "cell_type": "markdown",
   "metadata": {
    "slideshow": {
     "slide_type": "slide"
    }
   },
   "source": [
    "## Python环境搭建"
   ]
  },
  {
   "cell_type": "markdown",
   "metadata": {
    "slideshow": {
     "slide_type": "slide"
    }
   },
   "source": [
    "### 选择Python解释器\n",
    "\n",
    "执行Python代码至少需要一个Python解释器，可以使用各种语言实现Python解释器。目前，存在如下实现：\n",
    "\n",
    "* CPython。使用C语言实现Python解释器，也是使用最广的Python解释器。\n",
    "\n",
    "* [Jython](http://www.jython.org/)。使用Java语言实现的Python解释器，运行在Java平台，可以把Python代码编译成Java字节码执行。\n",
    "\n",
    "* [IronPython](http://ironpython.net/)。使用`C#`实现的Python解释器，运行在`.net`平台上，可以把Python代码编译成`.net`字节码执行。\n",
    "\n",
    "* [PyPy](http://pypy.org/)。使用Python实现的Python解释器，提供了JIT编译器和沙盒功能，运行速度会比CPython快。\n",
    "\n",
    "本书所有代码都是基于CPython下执行。"
   ]
  },
  {
   "cell_type": "markdown",
   "metadata": {
    "slideshow": {
     "slide_type": "slide"
    }
   },
   "source": [
    "### 搭建Python环境\n",
    "\n",
    "对于Linux或MacOs操作系统，缺省应该已经安装了Python（2.X版本）；在Windows系统，也许还需要下载和安装自己心仪的Python。由于Python的快速发展，各种用途的第三方软件包越来越多，用户一般通过安装一个Python软件包套件，搭建适合自己Python环境。\n",
    "- [Anaconda](https://www.continuum.io/)\n",
    "- [Canopy](https://www.enthought.com/product/canopy/)\n",
    "- [WinPython](http://winpython.github.io/)\n",
    "\n",
    "对于科学计算用户，推荐安装Anaconda Python套件。"
   ]
  },
  {
   "cell_type": "markdown",
   "metadata": {
    "collapsed": true,
    "slideshow": {
     "slide_type": "skip"
    }
   },
   "source": [
    "#### Anaconda Python套件概述\n",
    "\n",
    "[Anaconda Python套件](https://www.continuum.io)是一个基于强大Python的开源分析平台，易于安装、发现直观、分析快捷、协作简单，人人皆可使用。\n",
    "\n",
    "- 开放源码  \n",
    "Anaconda Python团队始终秉持开源思想，保持分发版本始终免费。\n",
    "- 功能强大\n",
    "Anaconda Python套件包括300多个开源软件包，包含了通用工具、数据可视化和数据分析的大部分软件包，安装一次即可获得。\n",
    "- 安全可靠\n",
    "Anaconda Python套件的开源软件包，都经过测试确认，降低使用风险。\n",
    "- 跨平台  \n",
    "Anaconda可以用于Windows、Linux和Mac Os平台。\n",
    "- 跨版本  \n",
    "Anaconda同时支持Python2和Python3版本。\n",
    "- 分离式安装  \n",
    "Anaconda可以安装到一个单独目录，不会与现有安装冲突；可以不需要超级用户权限，即一般用户也可以安装专用于自己的Python版本。"
   ]
  },
  {
   "cell_type": "markdown",
   "metadata": {
    "slideshow": {
     "slide_type": "skip"
    }
   },
   "source": [
    "#### 安装过程\n",
    "\n",
    "Anaconda Python套件支持Windows、Linux和Mac Os平台，同时支持32位和64位操作系统。为了安装Anaconda Python套件，首先从[Anaconda Python官网](https://www.continuum.io/downloads)下载指定系统指定Python版本（2.X或3.X）的安装程序。\n",
    "\n",
    "> 实际工作是到[清华大学镜像站](https://mirrors.tuna.tsinghua.edu.cn/help/anaconda/)的[下载安装包](https://mirrors.tuna.tsinghua.edu.cn/anaconda/archive/)"
   ]
  },
  {
   "cell_type": "markdown",
   "metadata": {
    "slideshow": {
     "slide_type": "skip"
    }
   },
   "source": [
    "##### Windows操作系统\n",
    "\n",
    "从[Anaconda Python官网](https://www.continuum.io/downloads#_windows)下载Python3 Windows64位系统安装程序(`Anaconda3-5.2.0-Windows-x86_64.exe`, 2018年5月期间)。\n",
    "\n",
    "双击安装程序文件，并按照提示进行操作，即可顺利安装。"
   ]
  },
  {
   "cell_type": "markdown",
   "metadata": {
    "slideshow": {
     "slide_type": "skip"
    }
   },
   "source": [
    "##### linux操作系统\n",
    "\n",
    "从[Anaconda Python官网](https://www.continuum.io/downloads#_unix)下载Python3 Linux64位系统安装程序(`Anaconda3-5.2.0-Linux-x86_64.sh`, 2018年5月期间)。\n",
    "\n",
    "在终端提示符下，切换到安装程序文件所在目录，键入如下命令：\n",
    "```shell\n",
    "$ bash Anaconda3-5.2.0-Linux-x86_64.sh\n",
    "```\n",
    "按照提示进行，即可安装。\n"
   ]
  },
  {
   "cell_type": "markdown",
   "metadata": {
    "slideshow": {
     "slide_type": "skip"
    }
   },
   "source": [
    "##### Mac Os操作系统\n",
    "\n",
    "从[Anaconda Python官网](https://www.continuum.io/downloads#_macosx)下载Python3 Mac Os X64位系统安装程序(`Anaconda3-5.2.0-MacOSX-x86_64.pkg`, 2018年5月期间)。\n",
    "\n",
    "双击下载的安装程序文件，并按照提示进行操作，即可顺利安装。"
   ]
  },
  {
   "cell_type": "markdown",
   "metadata": {
    "slideshow": {
     "slide_type": "slide"
    }
   },
   "source": [
    "## 开始使用Python"
   ]
  },
  {
   "cell_type": "markdown",
   "metadata": {
    "slideshow": {
     "slide_type": "-"
    }
   },
   "source": [
    "### 启动Python解释器\n",
    "\n",
    "- 在Windows操作系统下，打开命令提示符（即cmd.exe），然后键入如下命令:\n",
    "```shell\n",
    "E:\\learnPython> python\n",
    "```\n",
    "\n",
    "- 在Linux操作系统下，打开Shell终端，然后键入如下命令:\n",
    "```shell\n",
    "$ python\n",
    "```\n",
    "\n",
    "注：后续章节遇到类似情况，统一用命令终端来指代不同系统的终端程序。另外，后续操作演示主要以Linux操作系统为例，其它系统的演示应该大致相同。如因操作系统导致的结果不同，会尽量提示。"
   ]
  },
  {
   "cell_type": "markdown",
   "metadata": {
    "slideshow": {
     "slide_type": "slide"
    }
   },
   "source": [
    "Python解释器启动后，出现如下内容：\n",
    "```\n",
    "Python 3.6.4 |Anaconda, Inc.| (default, Jan 16 2018, 18:10:19) \n",
    "[GCC 7.2.0] on linux\n",
    "Type \"help\", \"copyright\", \"credits\" or \"license\" for more information.\n",
    ">>> \n",
    "```"
   ]
  },
  {
   "cell_type": "markdown",
   "metadata": {
    "slideshow": {
     "slide_type": "slide"
    }
   },
   "source": [
    "Python解释器启动后，进入交互模式，等待用户的输入与操作。\n",
    "\n",
    "交互模式的**主提示符**为三个大于号:`>>>`。"
   ]
  },
  {
   "cell_type": "markdown",
   "metadata": {
    "slideshow": {
     "slide_type": "slide"
    }
   },
   "source": [
    "此外，还列出了解释器版本号和提示帮助等信息：  \n",
    "\n",
    "* 第一行显示Python版本号（本例为：Python 3.6.4），及其它信息（不同安装版本会有所不同）。\n",
    "\n",
    "* 第二行显示Python编译所用的编译器及操作系统、编译器（本例为：Linux操作系统，GCC编译）。\n",
    "\n",
    "* 第三行提示，使用如下命令获得更多信息：\n",
    "\n",
    "    - **credits**，列出Python的致谢信息；\n",
    "    - **copyright**，列出Python的版权变化信息；\n",
    "    - **license**，列出Python的授权方式及其演变。\n",
    "    - **help**命令，最重要的帮助语句；    "
   ]
  },
  {
   "cell_type": "markdown",
   "metadata": {
    "slideshow": {
     "slide_type": "slide"
    }
   },
   "source": [
    "在提示符下输入语句，Python解释器会执行并给出结果；完毕后再列出提示符，继续等待用户输入下一条语句。"
   ]
  },
  {
   "cell_type": "markdown",
   "metadata": {
    "slideshow": {
     "slide_type": "slide"
    }
   },
   "source": [
    "##### 退出程序\n",
    "\n",
    "> 退出Python解释器，返回命令终端，输入`exit()`或按下`Ctrl-D`即可：\n",
    "\n",
    "```\n",
    ">>> exit()\n",
    "```"
   ]
  },
  {
   "cell_type": "markdown",
   "metadata": {
    "slideshow": {
     "slide_type": "skip"
    }
   },
   "source": [
    "#### 致谢（credits）\n",
    "\n",
    "在Python提示符下，键入命令：\n",
    "```python\n",
    ">>> credits()\n",
    "    Thanks to CWI, CNRI, BeOpen.com, Zope Corporation and a cast of thousands\n",
    "    for supporting Python development.  See www.python.org for more information.\n",
    "```\n",
    "\n",
    "可见Python的发展与Guido的工作经历有着密切的关联（见第节）。滴水之恩，当以涌泉相报！对Python发展的每一份帮助，啥都不说了，都在程序里了。这就是程序猿的情怀！"
   ]
  },
  {
   "cell_type": "code",
   "execution_count": null,
   "metadata": {
    "slideshow": {
     "slide_type": "skip"
    }
   },
   "outputs": [],
   "source": [
    " credits()"
   ]
  },
  {
   "cell_type": "markdown",
   "metadata": {
    "slideshow": {
     "slide_type": "skip"
    }
   },
   "source": [
    "#### 版权（copyright）\n",
    "\n",
    "在Python提示符下，键入命令：\n",
    "```python\n",
    ">>> copyright()\n",
    "Copyright (c) 2001-2017 Python Software Foundation.\n",
    "All Rights Reserved.\n",
    "\n",
    "Copyright (c) 2000 BeOpen.com.\n",
    "All Rights Reserved.\n",
    "\n",
    "Copyright (c) 1995-2001 Corporation for National Research Initiatives.\n",
    "All Rights Reserved.\n",
    "\n",
    "Copyright (c) 1991-1995 Stichting Mathematisch Centrum, Amsterdam.\n",
    "All Rights Reserved.\n",
    "```\n",
    "会列出Python版权的变化。从中亦可看出Python与Guido的发展历程，从2001年开始，Python版权属于Python软件基金会。"
   ]
  },
  {
   "cell_type": "code",
   "execution_count": null,
   "metadata": {
    "slideshow": {
     "slide_type": "skip"
    }
   },
   "outputs": [],
   "source": [
    " copyright()"
   ]
  },
  {
   "cell_type": "markdown",
   "metadata": {
    "slideshow": {
     "slide_type": "skip"
    }
   },
   "source": [
    "#### 授权（license） \n",
    "\n",
    "在Python提示符下，键入命令：\n",
    "```python\n",
    ">>> license()\n",
    "......\n",
    "    Release         Derived     Year        Owner       GPL-\n",
    "                    from                                compatible?\n",
    "\n",
    "    0.9.0 thru 1.2              1991-1995   CWI         yes\n",
    "    1.3 thru 1.5.2  1.2         1995-1999   CNRI        yes\n",
    "    1.6             1.5.2       2000        CNRI        no\n",
    "    2.0             1.6         2000        BeOpen.com  no\n",
    "    1.6.1           1.6         2001        CNRI        yes\n",
    "    2.1             2.0+1.6.1   2001        PSF         no\n",
    "    2.0.1           2.0+1.6.1   2001        PSF         yes\n",
    "    2.1.1           2.1+2.0.1   2001        PSF         yes\n",
    "    2.1.2           2.1.1       2002        PSF         yes\n",
    "    2.1.3           2.1.2       2002        PSF         yes\n",
    "    2.2 and above   2.1.1       2001-now    PSF         yes\n",
    "......\n",
    "```\n",
    "会列出Python版本历史及授权方式的演变。从上表可见，除了2000年短暂的创业期间外，Python始终坚持开源精神。Python是纯粹的自由软件，源代码及其解释器遵循GPL协议。"
   ]
  },
  {
   "cell_type": "code",
   "execution_count": null,
   "metadata": {
    "scrolled": true,
    "slideshow": {
     "slide_type": "skip"
    }
   },
   "outputs": [],
   "source": [
    "license()"
   ]
  },
  {
   "cell_type": "markdown",
   "metadata": {
    "slideshow": {
     "slide_type": "skip"
    }
   },
   "source": [
    "#### 帮助（help）\n",
    "\n",
    "Python的帮助功能强大，在Python提示符下，键入命令：\n",
    "```python\n",
    ">>> help()\n",
    "\n",
    "Welcome to Python 3.5's help utility!\n",
    "\n",
    "If this is your first time using Python, you should definitely check out\n",
    "the tutorial on the Internet at http://docs.python.org/3.5/tutorial/.\n",
    "\n",
    "Enter the name of any module, keyword, or topic to get help on writing\n",
    "Python programs and using Python modules.  To quit this help utility and\n",
    "return to the interpreter, just type \"quit\".\n",
    "\n",
    "To get a list of available modules, keywords, symbols, or topics, type\n",
    "\"modules\", \"keywords\", \"symbols\", or \"topics\".  Each module also comes\n",
    "with a one-line summary of what it does; to list the modules whose name\n",
    "or summary contain a given string such as \"spam\", type \"modules spam\".\n",
    "\n",
    "help> \n",
    "```"
   ]
  },
  {
   "cell_type": "markdown",
   "metadata": {
    "slideshow": {
     "slide_type": "skip"
    }
   },
   "source": [
    "注意：前面提到**>>>**是Python交互模式的主提示符，**主**意味着还有**次**。执行`help()`后，见到提示符**help>**就是次级提示符，也就说已经切换到了帮助交互模式下，需要按照帮助语境而非Python语境执行语句或命令了。按下回车又切换回Python交互模式。"
   ]
  },
  {
   "cell_type": "markdown",
   "metadata": {
    "slideshow": {
     "slide_type": "skip"
    }
   },
   "source": [
    "`help()`是重要的Python内置帮助函数，在后续章节还有`help()`使用介绍。"
   ]
  },
  {
   "cell_type": "code",
   "execution_count": null,
   "metadata": {
    "slideshow": {
     "slide_type": "skip"
    }
   },
   "outputs": [],
   "source": [
    "help()"
   ]
  },
  {
   "cell_type": "markdown",
   "metadata": {
    "slideshow": {
     "slide_type": "slide"
    }
   },
   "source": [
    "### 第一个Python程序\n",
    "\n",
    "Python运行有两种方式：第一是在交互模式下逐行输入和运行；第二是使用脚本文件运行。"
   ]
  },
  {
   "cell_type": "markdown",
   "metadata": {
    "slideshow": {
     "slide_type": "slide"
    }
   },
   "source": [
    "#### 交互式Python程序\n",
    "\n",
    "在提示符后，键入你的Python第一条语句，按回车键：\n",
    "```python\n",
    ">>> print('Hello, Python!')\n",
    "Hello, Python!\n",
    ">>>\n",
    "```"
   ]
  },
  {
   "cell_type": "code",
   "execution_count": null,
   "metadata": {
    "slideshow": {
     "slide_type": "slide"
    }
   },
   "outputs": [],
   "source": [
    "print('Hello, Python!')"
   ]
  },
  {
   "cell_type": "markdown",
   "metadata": {
    "slideshow": {
     "slide_type": "-"
    }
   },
   "source": [
    "“我来了，Python！”，大声喊出来吧！恭喜，人生中Python第一条程序语句。"
   ]
  },
  {
   "cell_type": "markdown",
   "metadata": {
    "slideshow": {
     "slide_type": "slide"
    }
   },
   "source": [
    "#### Python脚本程序\n",
    "\n",
    "在Python交互模式下，用户逐行输入和执行Python语句。而很多情况是用户把写好的Python脚本文件当做程序来执行，类似Linux的Shell脚本或者Windows的批处理文件。"
   ]
  },
  {
   "cell_type": "markdown",
   "metadata": {
    "slideshow": {
     "slide_type": "-"
    }
   },
   "source": [
    "把上节输入的语句存放到一个文本文件，命名为`hello.py`:\n",
    "```python\n",
    "print('Hello, Python!')\n",
    "```"
   ]
  },
  {
   "cell_type": "code",
   "execution_count": 1,
   "metadata": {
    "slideshow": {
     "slide_type": "slide"
    }
   },
   "outputs": [
    {
     "name": "stdout",
     "output_type": "stream",
     "text": [
      "Writing hello.py\n"
     ]
    }
   ],
   "source": [
    "%%writefile hello.py\n",
    "print('Hello, Python!')"
   ]
  },
  {
   "cell_type": "markdown",
   "metadata": {
    "slideshow": {
     "slide_type": "-"
    }
   },
   "source": [
    "可以用Python解释器来运行脚本文件，在命令终端上，键入如下命令：\n",
    "```shell\n",
    "$ python hello.py\n",
    "Hello, Python!\n",
    "```"
   ]
  },
  {
   "cell_type": "markdown",
   "metadata": {
    "slideshow": {
     "slide_type": "-"
    }
   },
   "source": [
    "再次恭喜，第一个Python脚本文件！"
   ]
  },
  {
   "cell_type": "markdown",
   "metadata": {
    "slideshow": {
     "slide_type": "slide"
    }
   },
   "source": [
    "更进一步，可以把Python脚本文件绑定到Python解释器，这样就可以把脚本文件当做应用程序执行。在不同操作系统下，操作略有不同。"
   ]
  },
  {
   "cell_type": "markdown",
   "metadata": {
    "slideshow": {
     "slide_type": "slide"
    }
   },
   "source": [
    "通常在脚本文件的开头添加Shebang语句，如下：\n",
    "```\n",
    "#!/usr/bin/env python\n",
    "```\n",
    "\n",
    "这样当执行脚本时，就会把文件名及其参数一起作为参数传给Shebang语句指定的解释程序去执行。"
   ]
  },
  {
   "cell_type": "code",
   "execution_count": 2,
   "metadata": {
    "slideshow": {
     "slide_type": "-"
    }
   },
   "outputs": [
    {
     "name": "stdout",
     "output_type": "stream",
     "text": [
      "Overwriting hello.py\n"
     ]
    }
   ],
   "source": [
    "%%writefile hello.py\n",
    "#!/usr/bin/env python\n",
    "\n",
    "print('Hello, Python!')"
   ]
  },
  {
   "cell_type": "markdown",
   "metadata": {
    "slideshow": {
     "slide_type": "slide"
    }
   },
   "source": [
    "在Linux系统下，使用`chmod`语句指定执行模式和权限：\n",
    "```shell\n",
    "$ chmod +x hellopython.py\n",
    "```\n",
    "\n",
    "以后就可以把脚本文件当应用程序直接执行：\n",
    "```sh\n",
    "$ ./hello.py\n",
    "Hello, Python!\n",
    "```"
   ]
  },
  {
   "cell_type": "markdown",
   "metadata": {
    "slideshow": {
     "slide_type": "slide"
    }
   },
   "source": [
    "在Windows系统中没有类似执行模式，可以把`.py`文件关联到相应的`python`程序；然后双击该脚本文件，即可当做应用程序来运行。"
   ]
  },
  {
   "cell_type": "markdown",
   "metadata": {
    "slideshow": {
     "slide_type": "slide"
    }
   },
   "source": [
    "在Python中，`#`开头的语句是注释行。也就是说，python解释器看到注释行都会跳过去，并不执行。利用注释行，可以在程序中再增加一些辅助信息，如文件编码格式以及版权信息。最终完整程序如下所示："
   ]
  },
  {
   "cell_type": "code",
   "execution_count": 3,
   "metadata": {
    "slideshow": {
     "slide_type": "-"
    }
   },
   "outputs": [
    {
     "name": "stdout",
     "output_type": "stream",
     "text": [
      "Overwriting hello.py\n"
     ]
    }
   ],
   "source": [
    "%%writefile hello.py\n",
    "#!/usr/bin/env python\n",
    "# -*- coding: utf-8 -*-\n",
    "# Copyright (c) 2018--2023, Wang Weihua.\n",
    "# All rights reserved.\n",
    "\n",
    "print('Hello, Python!')"
   ]
  },
  {
   "cell_type": "markdown",
   "metadata": {
    "slideshow": {
     "slide_type": "slide"
    }
   },
   "source": [
    "## 小结\n",
    "\n",
    "本章探讨如下内容：\n",
    "- 了解Python的前世今生，设计哲学和初心，希望大家会选择Python，\n",
    "- 了解学习Python的方法，自省是一种重要的方法。\n",
    "- 使用Anaconda搭建Python环境。\n",
    "- 开始运行Python，了解两种运行方式，能够编写第一个程序。"
   ]
  }
 ],
 "metadata": {
  "celltoolbar": "Slideshow",
  "kernelspec": {
   "display_name": "Python 3",
   "language": "python",
   "name": "python3"
  },
  "language_info": {
   "codemirror_mode": {
    "name": "ipython",
    "version": 3
   },
   "file_extension": ".py",
   "mimetype": "text/x-python",
   "name": "python",
   "nbconvert_exporter": "python",
   "pygments_lexer": "ipython3",
   "version": "3.6.4"
  },
  "toc": {
   "base_numbering": 1,
   "nav_menu": {},
   "number_sections": true,
   "sideBar": true,
   "skip_h1_title": false,
   "title_cell": "Table of Contents",
   "title_sidebar": "Contents",
   "toc_cell": false,
   "toc_position": {
    "height": "calc(100% - 180px)",
    "left": "10px",
    "top": "150px",
    "width": "349px"
   },
   "toc_section_display": true,
   "toc_window_display": false
  }
 },
 "nbformat": 4,
 "nbformat_minor": 1
}
