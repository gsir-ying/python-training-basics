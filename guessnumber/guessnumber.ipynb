{
 "cells": [
  {
   "cell_type": "markdown",
   "metadata": {
    "slideshow": {
     "slide_type": "slide"
    }
   },
   "source": [
    "# 猜数字游戏\n",
    "\n",
    "猜一个1到100之内数字，看看猜几次能猜中。\n",
    "\n",
    "先编写好程序，再添加声音。"
   ]
  },
  {
   "cell_type": "markdown",
   "metadata": {
    "slideshow": {
     "slide_type": "slide"
    }
   },
   "source": [
    "## 程序\n",
    "\n",
    "### 第一步\n",
    "\n",
    "先产生一个1到100之内的数字。"
   ]
  },
  {
   "cell_type": "code",
   "execution_count": null,
   "metadata": {
    "slideshow": {
     "slide_type": "-"
    }
   },
   "outputs": [],
   "source": [
    "import random\n",
    "\n",
    "number = random.randint(1, 100)\n",
    "number"
   ]
  },
  {
   "cell_type": "markdown",
   "metadata": {
    "slideshow": {
     "slide_type": "slide"
    }
   },
   "source": [
    "### 第二步\n",
    "\n",
    "提示用户猜一个数字"
   ]
  },
  {
   "cell_type": "code",
   "execution_count": null,
   "metadata": {
    "slideshow": {
     "slide_type": "-"
    }
   },
   "outputs": [],
   "source": [
    "guess = input('猜一个数字：')\n",
    "guess"
   ]
  },
  {
   "cell_type": "markdown",
   "metadata": {
    "slideshow": {
     "slide_type": "slide"
    }
   },
   "source": [
    "需要把它转换为整数："
   ]
  },
  {
   "cell_type": "code",
   "execution_count": null,
   "metadata": {
    "slideshow": {
     "slide_type": "-"
    }
   },
   "outputs": [],
   "source": [
    "guess = int(guess)\n",
    "guess"
   ]
  },
  {
   "cell_type": "markdown",
   "metadata": {
    "slideshow": {
     "slide_type": "slide"
    }
   },
   "source": [
    "### 判断整数\n",
    "\n",
    "判断整数猜的是否准确？"
   ]
  },
  {
   "cell_type": "code",
   "execution_count": null,
   "metadata": {
    "slideshow": {
     "slide_type": "-"
    }
   },
   "outputs": [],
   "source": [
    "if guess == number:\n",
    "    print('猜对了', number)\n",
    "elif guess > number:\n",
    "    print('猜大了')\n",
    "else:\n",
    "    print('猜小了')    "
   ]
  },
  {
   "cell_type": "markdown",
   "metadata": {
    "slideshow": {
     "slide_type": "slide"
    }
   },
   "source": [
    "### 反复地猜\n",
    "\n",
    "如果猜不中的话，还得继续猜。这里限定最多猜9次。"
   ]
  },
  {
   "cell_type": "code",
   "execution_count": null,
   "metadata": {
    "slideshow": {
     "slide_type": "-"
    }
   },
   "outputs": [],
   "source": [
    "for i in range(9):\n",
    "    guess = input('猜一个数字：')\n",
    "    guess = int(guess)\n",
    "    if guess == number:\n",
    "        print('猜对了', number)\n",
    "        break\n",
    "    elif guess > number:\n",
    "        print('猜大了')\n",
    "    else:\n",
    "        print('猜小了')   "
   ]
  },
  {
   "cell_type": "markdown",
   "metadata": {
    "slideshow": {
     "slide_type": "slide"
    }
   },
   "source": [
    "### 最后总结发言"
   ]
  },
  {
   "cell_type": "code",
   "execution_count": null,
   "metadata": {
    "slideshow": {
     "slide_type": "-"
    }
   },
   "outputs": [],
   "source": [
    "if guess == number:\n",
    "    print('您太厉害了！猜了', i+1, '次')        \n",
    "else:\n",
    "    print('您需要努力啊')            \n",
    "    print('要猜的数字是', number)  "
   ]
  },
  {
   "cell_type": "markdown",
   "metadata": {
    "slideshow": {
     "slide_type": "slide"
    }
   },
   "source": [
    "### 合在一起"
   ]
  },
  {
   "cell_type": "code",
   "execution_count": null,
   "metadata": {
    "slideshow": {
     "slide_type": "-"
    }
   },
   "outputs": [],
   "source": [
    "def guess_number():\n",
    "    \"\"\"猜数字游戏\"\"\"\n",
    "    name = input(\"请问阁下尊姓大名？\")\n",
    "    print('您好！', name)\n",
    "    print('欢迎来到猜数字游戏，数字范围在1到100之间')\n",
    "\n",
    "    number = random.randint(1, 100)\n",
    "    for i in range(8):\n",
    "        guess = input('猜一个数字：')\n",
    "        guess = int(guess)\n",
    "        if guess == number:\n",
    "            break\n",
    "        elif guess > number:\n",
    "            print('猜大了')\n",
    "        else:\n",
    "            print('猜小了')       \n",
    "\n",
    "    if guess == number:\n",
    "        print('您太厉害了！猜了', i+1, '次')        \n",
    "    else:\n",
    "        print('您还需要加油啊')            \n",
    "        print('要猜的数字是', number)             "
   ]
  },
  {
   "cell_type": "code",
   "execution_count": null,
   "metadata": {
    "slideshow": {
     "slide_type": "slide"
    }
   },
   "outputs": [],
   "source": [
    "guess_number()"
   ]
  },
  {
   "cell_type": "markdown",
   "metadata": {
    "slideshow": {
     "slide_type": "slide"
    }
   },
   "source": [
    "## 完整的程序\n",
    "\n",
    "使用百度语音来玩猜数字游戏。"
   ]
  }
 ],
 "metadata": {
  "celltoolbar": "Slideshow",
  "kernelspec": {
   "display_name": "Python 3",
   "language": "python",
   "name": "python3"
  },
  "language_info": {
   "codemirror_mode": {
    "name": "ipython",
    "version": 3
   },
   "file_extension": ".py",
   "mimetype": "text/x-python",
   "name": "python",
   "nbconvert_exporter": "python",
   "pygments_lexer": "ipython3",
   "version": "3.6.4"
  },
  "toc": {
   "base_numbering": 1,
   "nav_menu": {},
   "number_sections": true,
   "sideBar": true,
   "skip_h1_title": false,
   "title_cell": "Table of Contents",
   "title_sidebar": "Contents",
   "toc_cell": false,
   "toc_position": {},
   "toc_section_display": true,
   "toc_window_display": false
  }
 },
 "nbformat": 4,
 "nbformat_minor": 2
}
