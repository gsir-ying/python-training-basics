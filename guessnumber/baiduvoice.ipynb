{
 "cells": [
  {
   "cell_type": "markdown",
   "metadata": {},
   "source": [
    "# 语音控制\n",
    "\n",
    "- 文本到语音\n",
    "- 语音播放"
   ]
  },
  {
   "cell_type": "markdown",
   "metadata": {
    "slideshow": {
     "slide_type": "slide"
    }
   },
   "source": [
    "## 使用 simpleaudio播放wav文件\n",
    "\n",
    "<https://simpleaudio.readthedocs.io/en/latest/tutorial.html>\n",
    "\n",
    "使用pip安装：\n",
    "```sh\n",
    "pip install simpleaudio\n",
    "```"
   ]
  },
  {
   "cell_type": "code",
   "execution_count": null,
   "metadata": {
    "slideshow": {
     "slide_type": "-"
    }
   },
   "outputs": [],
   "source": [
    "import simpleaudio as sa"
   ]
  },
  {
   "cell_type": "markdown",
   "metadata": {
    "slideshow": {
     "slide_type": "slide"
    }
   },
   "source": [
    "从一个wav文件中创建`WaveObject`对象："
   ]
  },
  {
   "cell_type": "code",
   "execution_count": null,
   "metadata": {
    "slideshow": {
     "slide_type": "-"
    }
   },
   "outputs": [],
   "source": [
    "wavfile = 'audio.wav'\n",
    "wave_obj = sa.WaveObject.from_wave_file(wavfile)"
   ]
  },
  {
   "cell_type": "markdown",
   "metadata": {
    "slideshow": {
     "slide_type": "slide"
    }
   },
   "source": [
    "调用`play()`返回一个`PlayObject `对象"
   ]
  },
  {
   "cell_type": "code",
   "execution_count": null,
   "metadata": {
    "slideshow": {
     "slide_type": "slide"
    }
   },
   "outputs": [],
   "source": [
    "play_obj = wave_obj.play()"
   ]
  },
  {
   "cell_type": "markdown",
   "metadata": {
    "slideshow": {
     "slide_type": "slide"
    }
   },
   "source": [
    "等待结束"
   ]
  },
  {
   "cell_type": "code",
   "execution_count": null,
   "metadata": {
    "slideshow": {
     "slide_type": "-"
    }
   },
   "outputs": [],
   "source": [
    "play_obj.wait_done()"
   ]
  },
  {
   "cell_type": "code",
   "execution_count": null,
   "metadata": {
    "slideshow": {
     "slide_type": "slide"
    }
   },
   "outputs": [],
   "source": [
    "使用定义函数："
   ]
  },
  {
   "cell_type": "code",
   "execution_count": null,
   "metadata": {
    "slideshow": {
     "slide_type": "-"
    }
   },
   "outputs": [],
   "source": [
    "import simpleaudio as sa\n",
    "\n",
    "def playwavfile(wavfile):\n",
    "    \"使用simpleaudio播放wav文件\"\n",
    "    wave_obj = sa.WaveObject.from_wave_file(wavfile)\n",
    "    play_obj = wave_obj.play()\n",
    "    play_obj.wait_done()    "
   ]
  },
  {
   "cell_type": "code",
   "execution_count": null,
   "metadata": {
    "slideshow": {
     "slide_type": "slide"
    }
   },
   "outputs": [],
   "source": [
    "playwavfile(wavfile)"
   ]
  },
  {
   "cell_type": "markdown",
   "metadata": {
    "slideshow": {
     "slide_type": "slide"
    }
   },
   "source": [
    "## 文本到语音\n",
    "\n",
    "语音识别与语音合成中，只有百度是免费的。"
   ]
  },
  {
   "cell_type": "markdown",
   "metadata": {
    "slideshow": {
     "slide_type": "slide"
    }
   },
   "source": [
    "### 注册并登录百度语音\n",
    "\n",
    "<https://cloud.baidu.com/>\n",
    "\n",
    "选择【人工智能】 =》【百度语音 】 ，然后创建新应用。"
   ]
  },
  {
   "cell_type": "markdown",
   "metadata": {
    "slideshow": {
     "slide_type": "slide"
    }
   },
   "source": [
    "### 获得用户Key\n",
    "\n",
    "- AppID\n",
    "- API Key\n",
    "- Secret Key"
   ]
  },
  {
   "cell_type": "markdown",
   "metadata": {
    "slideshow": {
     "slide_type": "slide"
    }
   },
   "source": [
    "### 安装Python SDK客户\n",
    "\n",
    "```\n",
    "pip install baidu-aip\n",
    "```"
   ]
  },
  {
   "cell_type": "markdown",
   "metadata": {
    "slideshow": {
     "slide_type": "slide"
    }
   },
   "source": [
    "### 语音合成\n",
    "\n",
    "新建AipSpeech\n",
    "\n",
    "AipSpeech是语音合成的Python SDK客户端，为使用语音合成的开发人员提供了一系列的交互方法。"
   ]
  },
  {
   "cell_type": "markdown",
   "metadata": {
    "slideshow": {
     "slide_type": "slide"
    }
   },
   "source": [
    "```\n",
    "from aip import AipSpeech\n",
    "\n",
    "\"\"\" 你的 APPID AK SK \"\"\"\n",
    "APP_ID = '你的 App ID'\n",
    "API_KEY = '你的 Api Key'\n",
    "SECRET_KEY = '你的 Secret Key'\n",
    "\n",
    "client = AipSpeech(APP_ID, API_KEY, SECRET_KEY)\n",
    "```"
   ]
  },
  {
   "cell_type": "markdown",
   "metadata": {
    "slideshow": {
     "slide_type": "slide"
    }
   },
   "source": [
    "请求说明\n",
    "合成文本长度必须小于1024字节，如果本文长度较长，可以采用多次请求的方式。文本长度不可超过限制\n",
    "举例，要把一段文字合成为语音文件："
   ]
  },
  {
   "cell_type": "markdown",
   "metadata": {
    "slideshow": {
     "slide_type": "-"
    }
   },
   "source": [
    "```python\n",
    "result  = client.synthesis('你好百度', 'zh', 1, {\n",
    "    'vol': 5,\n",
    "})\n",
    "\n",
    "# 识别正确返回语音二进制 错误则返回dict 参照下面错误码\n",
    "if not isinstance(result, dict):\n",
    "    with open('auido.mp3', 'wb') as f:\n",
    "        f.write(result)\n",
    "```        "
   ]
  },
  {
   "cell_type": "markdown",
   "metadata": {
    "slideshow": {
     "slide_type": "slide"
    }
   },
   "source": [
    "## 使用类来实现百度语音\n",
    "\n",
    "- per 发音人选择  \n",
    "0为女声，1为男声，3为情感合成-度逍遥，4为情感合成-度丫丫，默认为普通女"
   ]
  },
  {
   "cell_type": "code",
   "execution_count": null,
   "metadata": {},
   "outputs": [],
   "source": [
    "from aip import AipSpeech\n",
    "\n",
    "\n",
    "class BaiduAiVoice():\n",
    "    \"\"\"百度语音\"\"\"\n",
    "    def __init__(self, aue=6, speed=5, vol=5, per='0'):\n",
    "        APP_ID = 'xxx'\n",
    "        API_KEY = 'xxxx'\n",
    "        SECRET_KEY = 'xxxx'\n",
    "        self.options = {'aue': aue, 'vol': vol, 'spd': speed, 'per': per}\n",
    "        self.wavfile = 'baidu_audio.wav'\n",
    "        self.client = AipSpeech(APP_ID, API_KEY, SECRET_KEY)    \n",
    "        \n",
    "    def speak(self, text):\n",
    "        \"\"\"文本播放\"\"\"\n",
    "        wavfile = self.__synthesis(text, self.wavfile)\n",
    "        if wavfile is not None:\n",
    "            playwavfile(wavfile)\n",
    "            \n",
    "    def print(self, *args, sep=' ', end='\\n'):\n",
    "        \"\"\"显示并播放文本\"\"\"\n",
    "        print(*args, sep=sep, end=end)\n",
    "        text = sep.join([str(arg) for arg in args])\n",
    "        self.speak(text)\n",
    "            \n",
    "    def input(self, text):\n",
    "        \"\"\"输入并播放\"\"\"\n",
    "        self.speak(text)\n",
    "        return input(text)\n",
    "        \n",
    "    def __synthesis(self, text, voicefile, lang='zh'):\n",
    "        \"\"\"语音合成\"\"\"\n",
    "        result = self.client.synthesis(text, lang=lang, options=self.options)\n",
    "        if not isinstance(result, dict):\n",
    "            with open(voicefile, 'wb') as fh:\n",
    "                fh.write(result)\n",
    "            return voicefile\n",
    "        else:\n",
    "            return None    "
   ]
  },
  {
   "cell_type": "code",
   "execution_count": null,
   "metadata": {
    "slideshow": {
     "slide_type": "slide"
    }
   },
   "outputs": [],
   "source": [
    "xiaobai = BaiduAiVoice()\n",
    "xiaobai.speak('欢迎来到猜数字游戏')    "
   ]
  }
 ],
 "metadata": {
  "celltoolbar": "Slideshow",
  "kernelspec": {
   "display_name": "Python 3",
   "language": "python",
   "name": "python3"
  },
  "language_info": {
   "codemirror_mode": {
    "name": "ipython",
    "version": 3
   },
   "file_extension": ".py",
   "mimetype": "text/x-python",
   "name": "python",
   "nbconvert_exporter": "python",
   "pygments_lexer": "ipython3",
   "version": "3.6.4"
  },
  "toc": {
   "base_numbering": 1,
   "nav_menu": {},
   "number_sections": true,
   "sideBar": true,
   "skip_h1_title": false,
   "title_cell": "Table of Contents",
   "title_sidebar": "Contents",
   "toc_cell": false,
   "toc_position": {},
   "toc_section_display": true,
   "toc_window_display": false
  }
 },
 "nbformat": 4,
 "nbformat_minor": 2
}
