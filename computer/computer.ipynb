{
 "cells": [
  {
   "cell_type": "markdown",
   "metadata": {
    "collapsed": true,
    "slideshow": {
     "slide_type": "slide"
    }
   },
   "source": [
    "# 计算机世界\n",
    "\n",
    "- 计算机的历史\n",
    "- 计算机组成\n",
    "- 计算机的运行"
   ]
  },
  {
   "cell_type": "markdown",
   "metadata": {
    "slideshow": {
     "slide_type": "slide"
    }
   },
   "source": [
    "## 计算机的前世今生\n",
    "\n",
    "算盘 | 阿塔纳索夫-贝瑞计算机\n",
    "- | - \n",
    "![alt](assets/chinese_abacus.jpeg) | ![alt](assets/Atanasoff-Berry_Computer_at_Durhum_Center.jpg)"
   ]
  },
  {
   "cell_type": "markdown",
   "metadata": {
    "slideshow": {
     "slide_type": "slide"
    }
   },
   "source": [
    "![超级计算机](assets/supercomputer.jpeg)"
   ]
  },
  {
   "cell_type": "markdown",
   "metadata": {
    "slideshow": {
     "slide_type": "slide"
    }
   },
   "source": [
    "尽管计算机功能特点众多，但归根结底的特点就是计算的快。例如，中国的“神威·太湖之光”运算速度达到每秒运算一千万亿次。普通的计算机运行速度也能达到10亿次。"
   ]
  },
  {
   "cell_type": "markdown",
   "metadata": {
    "slideshow": {
     "slide_type": "-"
    }
   },
   "source": [
    "> 天下武功，唯快不破\n",
    "\n",
    "> 量变引起质变"
   ]
  },
  {
   "cell_type": "markdown",
   "metadata": {
    "slideshow": {
     "slide_type": "slide"
    }
   },
   "source": [
    "## 计算机组成"
   ]
  },
  {
   "cell_type": "markdown",
   "metadata": {
    "slideshow": {
     "slide_type": "slide"
    }
   },
   "source": [
    "### 硬件系统\n",
    "\n",
    "<img style=\"float;\" src=\"assets/Personal_computer.png\" width=\"40%\">"
   ]
  },
  {
   "cell_type": "markdown",
   "metadata": {
    "slideshow": {
     "slide_type": "slide"
    }
   },
   "source": [
    "计算机首先是一台机器设备，是由很多部件组成的。拿个人计算机来说，其主要结构有：\n",
    "1. 显示屏\n",
    "2. 主板\n",
    "3. 中央处理器（微处理器）\n",
    "4. 存储器\n",
    "5. 适配器（如声卡、网卡）\n",
    "6. 电源供应器\n",
    "7. 软驱、光驱、U盘\n",
    "8. 硬盘\n",
    "9. 键盘 \n",
    "10. 鼠标"
   ]
  },
  {
   "cell_type": "markdown",
   "metadata": {
    "slideshow": {
     "slide_type": "slide"
    }
   },
   "source": [
    "### 软件系统\n"
   ]
  },
  {
   "cell_type": "markdown",
   "metadata": {
    "slideshow": {
     "slide_type": "-"
    }
   },
   "source": [
    "#### 操作系统（Operation System）\n",
    "\n",
    "计算机是一台机器设备，对于普通人来说，要与这些设备打交道实在太难了。幸运的是，人们开发了操作系统。操作系统是管理计算机硬件与软件资源的计算机程序，是计算机系统的内核与基石。"
   ]
  },
  {
   "cell_type": "markdown",
   "metadata": {
    "slideshow": {
     "slide_type": "slide"
    }
   },
   "source": [
    "操作系统会处理如管理与配置内存、决定系统资源供需的优先次序、控制输入与输出设备、操作网络与管理文件系统等基本事务。操作系统也提供一个让用户与系统交互的操作界面。\n",
    "\n",
    "说白了，有了操作系统，大家不用直接和硬件打交道了。"
   ]
  },
  {
   "cell_type": "markdown",
   "metadata": {
    "slideshow": {
     "slide_type": "slide"
    }
   },
   "source": [
    "计算机形态各异，计算机操作系统也非常多样。大家常常用到的操作系统有：\n",
    "- 类Unix系统，如Ubuntu、CentOS等\n",
    "- Windows系统，如Windows 7,Windows 10等\n",
    "- Mac OS系统，苹果的Mac Os X系统\n",
    "- 移动系统，如iOS、Android系统\n",
    "- 嵌入式操作系统，如VxWorks等\n",
    "- 大型机系统"
   ]
  },
  {
   "cell_type": "markdown",
   "metadata": {
    "slideshow": {
     "slide_type": "slide"
    }
   },
   "source": [
    "#### 系统软件与应用软件\n",
    "\n",
    "除了操作系统外，人们开发更多的系统软件。系统软件是指控制和协调计算机及外部设备,支持应用软件开发和运行的系统。"
   ]
  },
  {
   "cell_type": "markdown",
   "metadata": {
    "slideshow": {
     "slide_type": "-"
    }
   },
   "source": [
    " 应用软件（application software）是用户可以使用的各种程序设计语言，以及用各种程序设计语言编制的应用程序的集合，分为应用软件包和用户程序。"
   ]
  },
  {
   "cell_type": "markdown",
   "metadata": {
    "slideshow": {
     "slide_type": "slide"
    }
   },
   "source": [
    "## 计算机的运行\n",
    "\n",
    "计算机设备部件众多，下面围绕CPU、内存、硬盘这些核心设备来了解一下计算机的运行。"
   ]
  },
  {
   "cell_type": "markdown",
   "metadata": {
    "slideshow": {
     "slide_type": "slide"
    }
   },
   "source": [
    "### 内存与CPU\n",
    "\n",
    "内存是计算机的临时存储设备。内存条主要有大小和速度的概念，例如内存大小为2GB，DDR4内存比DDR3的要快。\n",
    "<figure>\n",
    "    <img style=\"float: left\" src=\"assets/memory_bank.jpg\" width=\"45%\">\n",
    "    <img style=\"float: right\" src=\"assets/memory_cupboard.jpg\" width=\"45%\">\n",
    "</figure>    "
   ]
  },
  {
   "cell_type": "markdown",
   "metadata": {
    "slideshow": {
     "slide_type": "slide"
    }
   },
   "source": [
    "对于内存来说，最小的格子就是一个字节（Byte），一个字节包括8个位（bit）。内存条为2GB，也就是说有`2*1024*1024*1024`个1字节的小格子。\n",
    "\n",
    "储物柜自然是用来存放各种各样的物品，为了存取方便，通常需要给储物柜进行编号，在计算机中会使用二进制进行编号。例如`0x100000`就是编号为`1024*1024`的柜子。\n",
    "\n",
    "由于物品有大有小，形态各异，所以内存储物柜的格子可以动态变化。例如，要存储的数据大小为8个字节，那么编号`0x100000`的柜子就占据了从`1024*1024`到`1024*1024+8`编号的格子。"
   ]
  },
  {
   "cell_type": "markdown",
   "metadata": {
    "slideshow": {
     "slide_type": "slide"
    }
   },
   "source": [
    "中央处理器（CPU）是计算机的心脏，方方的、硬硬的，背面光滑平整、腹部有蜈蚣多的腿脚。地球人似乎都知道CPU。\n",
    "\n",
    "CPU | 打铁\n",
    "- | - \n",
    "![alt](assets/cpu_intel.jpg) | ![alt](assets/cpu_datie.jpg)"
   ]
  },
  {
   "cell_type": "markdown",
   "metadata": {
    "slideshow": {
     "slide_type": "slide"
    }
   },
   "source": [
    "大家对CPU已经司空见惯，也晓得CPU是一个高大上的产品，偌大世界，也就那么几家公司能够制造。但对CPU的功能，可以简而化之，用一句话来说明：\n",
    "> **Processors = Instruction Fetch/Decode/Execute Engine  \n",
    "> 《奔腾4大全》"
   ]
  },
  {
   "cell_type": "markdown",
   "metadata": {
    "slideshow": {
     "slide_type": "-"
    }
   },
   "source": [
    "简单来说，CPU就是一个从内存中读取指令（Fetch），然后解码（Decode）和执行（Execute）的引擎。"
   ]
  },
  {
   "cell_type": "markdown",
   "metadata": {
    "slideshow": {
     "slide_type": "slide"
    }
   },
   "source": [
    "### 内存与硬盘\n",
    "\n",
    "内存的速度很快，但是容量通常在GB量级，而且一旦断电数据就全部丢失。为此计算机系统需要硬盘这样的永久存储设备。硬盘的容量很大，可以达到TB量级。\n",
    "\n",
    "程序通常存储在硬盘上，当运行程序时，会把硬盘上的程序加载到内存中，然后再由CPU进行运行。\n",
    "\n",
    "内存快而小，临时存储；硬盘大而慢，永久存储。二者与CPU一道共同完成程序的运行。"
   ]
  },
  {
   "cell_type": "markdown",
   "metadata": {
    "slideshow": {
     "slide_type": "slide"
    }
   },
   "source": [
    "内存 | 硬盘\n",
    "- | - \n",
    "![alt](assets/memory_bank.jpg) | ![alt](assets/harddisk.jpg)"
   ]
  },
  {
   "cell_type": "markdown",
   "metadata": {
    "slideshow": {
     "slide_type": "slide"
    }
   },
   "source": [
    "### 程序运行流\n",
    "\n",
    "<img style=\"float;\" src=\"assets/cpu_memory_harddisk_flow.jpg\" width=\"60%\">"
   ]
  },
  {
   "cell_type": "markdown",
   "metadata": {
    "slideshow": {
     "slide_type": "slide"
    }
   },
   "source": [
    "很不幸的是，计算机的CPU、内存、硬盘等设备运行时都使用二进制方式，也就是机器语言，不太适合人脑记忆和工作。但幸运的是，人们又发明了各种各样的高级编程语言，可以把人们相对容易理解的编程语句翻译为机器语句，从而实现了人们与机器之间的交流。\n",
    "\n",
    "高级编程语言有Java、C、C++、Python等。掌握了其中一门编程语言，就可以实现与计算机的交流，使用计算机完成各种各样神奇的事情。"
   ]
  },
  {
   "cell_type": "markdown",
   "metadata": {
    "slideshow": {
     "slide_type": "slide"
    }
   },
   "source": [
    "## 小结\n",
    "\n",
    "计算机系统非常庞大繁杂，学习编程无法也不需要全部掌握每个环节的细节。使用编程语言开发语句，并不需要知道最终运行的机器语言语句是什么，但是能够了解其中的过程环节，会对编程有所帮助。"
   ]
  },
  {
   "cell_type": "markdown",
   "metadata": {
    "slideshow": {
     "slide_type": "-"
    }
   },
   "source": [
    "了解一些CPU、内存、硬盘等设备的基本概念，以及编程语句与其关系，无益是有所帮助的。这也是在张银奎在《格蠹汇编》中说道，程序员也要“硬”起来的意思吧。"
   ]
  }
 ],
 "metadata": {
  "celltoolbar": "Slideshow",
  "kernelspec": {
   "display_name": "Python 3",
   "language": "python",
   "name": "python3"
  },
  "language_info": {
   "codemirror_mode": {
    "name": "ipython",
    "version": 3
   },
   "file_extension": ".py",
   "mimetype": "text/x-python",
   "name": "python",
   "nbconvert_exporter": "python",
   "pygments_lexer": "ipython3",
   "version": "3.6.4"
  },
  "toc": {
   "base_numbering": 1,
   "nav_menu": {},
   "number_sections": true,
   "sideBar": true,
   "skip_h1_title": false,
   "title_cell": "Table of Contents",
   "title_sidebar": "Contents",
   "toc_cell": false,
   "toc_position": {},
   "toc_section_display": true,
   "toc_window_display": false
  }
 },
 "nbformat": 4,
 "nbformat_minor": 1
}
