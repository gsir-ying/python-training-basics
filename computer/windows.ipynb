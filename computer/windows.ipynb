{
 "cells": [
  {
   "cell_type": "markdown",
   "metadata": {
    "slideshow": {
     "slide_type": "slide"
    }
   },
   "source": [
    "# Windows系统\n",
    "\n",
    "Windows操作系统包括Windowx XP,Windows 7, Windows 10以及服务器版。版本众多，不过大家应该都比较熟悉。本节对Python培训可能会用到的内容会多介绍，其它大多一笔带过。"
   ]
  },
  {
   "cell_type": "markdown",
   "metadata": {
    "slideshow": {
     "slide_type": "slide"
    }
   },
   "source": [
    "## 简介\n",
    "\n",
    "Windows操作系统是微软提供的操作系统，大家都在骂它，大家都在用它。"
   ]
  },
  {
   "cell_type": "markdown",
   "metadata": {
    "slideshow": {
     "slide_type": "slide"
    }
   },
   "source": [
    "## 安装\n",
    "\n",
    "还是老话，懒得安装。最好用现成的。"
   ]
  },
  {
   "cell_type": "markdown",
   "metadata": {
    "slideshow": {
     "slide_type": "slide"
    }
   },
   "source": [
    "## 文件与目录\n",
    "\n",
    "Windows的文件与目录结构也为树状结构。分为盘符，路径，文件。例如Python程序的全路径：\n",
    "```\n",
    "C:\\Anaconda3\\python.exe\n",
    "```"
   ]
  },
  {
   "cell_type": "markdown",
   "metadata": {
    "slideshow": {
     "slide_type": "slide"
    }
   },
   "source": [
    "Windows的操作与Linux还是有不少差别，可以用`MINGW`，就可以使用类似Linux的命令。"
   ]
  },
  {
   "cell_type": "markdown",
   "metadata": {
    "slideshow": {
     "slide_type": "slide"
    }
   },
   "source": [
    "### 目录常用操作\n",
    "\n",
    "- `dir`: 列出目录\n",
    "- `mkdir`：创建新目录\n",
    "- `rmdir`：删除空目录\n",
    "- `copy`: 复制文件或目录\n",
    "- `move`: 移除文件或目录"
   ]
  },
  {
   "cell_type": "markdown",
   "metadata": {
    "slideshow": {
     "slide_type": "slide"
    }
   },
   "source": [
    "## 用户管理\n",
    "\n",
    "Windows是所见即所得的开发理念，用户管理都有图形程序来帮助实现。"
   ]
  },
  {
   "cell_type": "markdown",
   "metadata": {
    "slideshow": {
     "slide_type": "slide"
    }
   },
   "source": [
    "## 软件安装\n",
    "\n",
    "下载程序并运行，然后一路点击下去即可。"
   ]
  },
  {
   "cell_type": "markdown",
   "metadata": {
    "slideshow": {
     "slide_type": "slide"
    }
   },
   "source": [
    "## 常用应用软件\n",
    "\n",
    "自己要有一个常用软件库。"
   ]
  },
  {
   "cell_type": "markdown",
   "metadata": {
    "slideshow": {
     "slide_type": "slide"
    }
   },
   "source": [
    "## 系统管理\n",
    "\n",
    "除了SQL Server外，很少用Windows作为服务器系统。"
   ]
  },
  {
   "cell_type": "markdown",
   "metadata": {
    "slideshow": {
     "slide_type": "slide"
    }
   },
   "source": [
    "## 小结\n",
    "\n",
    "多做笔记。"
   ]
  }
 ],
 "metadata": {
  "celltoolbar": "Slideshow",
  "kernelspec": {
   "display_name": "Python 3",
   "language": "python",
   "name": "python3"
  },
  "language_info": {
   "codemirror_mode": {
    "name": "ipython",
    "version": 3
   },
   "file_extension": ".py",
   "mimetype": "text/x-python",
   "name": "python",
   "nbconvert_exporter": "python",
   "pygments_lexer": "ipython3",
   "version": "3.6.4"
  },
  "toc": {
   "base_numbering": 1,
   "nav_menu": {},
   "number_sections": true,
   "sideBar": true,
   "skip_h1_title": false,
   "title_cell": "Table of Contents",
   "title_sidebar": "Contents",
   "toc_cell": false,
   "toc_position": {},
   "toc_section_display": true,
   "toc_window_display": false
  }
 },
 "nbformat": 4,
 "nbformat_minor": 2
}
