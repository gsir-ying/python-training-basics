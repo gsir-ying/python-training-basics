{
 "cells": [
  {
   "cell_type": "markdown",
   "metadata": {
    "slideshow": {
     "slide_type": "slide"
    }
   },
   "source": [
    "# Linux操作系统\n",
    "\n",
    "Linux是一类操作系统，操作系统是个庞大的系统，本节只是列出操作系统需要了解的功能，而不是去详细介绍功能细节。"
   ]
  },
  {
   "cell_type": "markdown",
   "metadata": {
    "slideshow": {
     "slide_type": "slide"
    }
   },
   "source": [
    "## 简介 \n",
    "\n",
    "Linux内核最初只是由芬兰人李纳斯·托瓦兹（Linus Torvalds）在上学时出于个人爱好而编写的。现在的Linux系统已经是包括内核、系统软件和应用软件的庞大系统。"
   ]
  },
  {
   "cell_type": "markdown",
   "metadata": {
    "slideshow": {
     "slide_type": "slide"
    }
   },
   "source": [
    "Linux的发行版就是Linux内核与应用软件的一个软件套装。知名的发行版有：Ubuntu、RedHat、CentOS、Debian、SuSE等。"
   ]
  },
  {
   "cell_type": "markdown",
   "metadata": {
    "slideshow": {
     "slide_type": "slide"
    }
   },
   "source": [
    "## 安装\n",
    "\n",
    "学习一个操作系统，首先要有这样的操作系统，并且去不断地使用。常常要安装一个系统：\n",
    "- 可以使用光盘、U盘在裸机上安装Linux操作系统\n",
    "- 可以在Windows系统上安装Vmware虚拟机，在使用ISO文件安装"
   ]
  },
  {
   "cell_type": "markdown",
   "metadata": {
    "slideshow": {
     "slide_type": "slide"
    }
   },
   "source": [
    "不过在云计算发展的今天，建议大家去申请一台云服务器，会快速安装所期望的操作系统。"
   ]
  },
  {
   "cell_type": "markdown",
   "metadata": {
    "slideshow": {
     "slide_type": "slide"
    }
   },
   "source": [
    "## 文件与目录\n",
    "\n",
    "linux的文件与目录结构为树状结构，也可以理解为层级结构。最顶层的目录为根目录`/`。"
   ]
  },
  {
   "cell_type": "markdown",
   "metadata": {
    "slideshow": {
     "slide_type": "slide"
    }
   },
   "source": [
    "### Linux系统目录架构\n",
    "\n",
    "不同Linux系统，目标的架构会略微有所不同。\n",
    "\n",
    "![linux系统目录架构](assets/linux_tree_directory.png)"
   ]
  },
  {
   "cell_type": "markdown",
   "metadata": {
    "slideshow": {
     "slide_type": "slide"
    }
   },
   "source": [
    "其中目录如下所示：\n",
    "- `/bin`： 放着最经常使用的命令。\n",
    "- `/boot`：存放启动Linux时使用的一些核心文件。\n",
    "- `/dev`： 存放Linux的外部设备，在Linux中用访问文件的方式来访问设备。\n",
    "- `/etc`：存放系统管理所需要的配置文件和子目录。\n",
    "- `/home`： 用户的主目录，每个用户都有一个自己的目录。\n",
    "- `/lib`：存放系统最基本的动态连接共享库。\n",
    "- `/mnt`：临时挂载的其他文件系统，例如光驱或U盘。\n",
    "- `/proc`：虚拟目录，是系统内存的映射，我们可以通过直接访问这个目录来获取系统信息。\n",
    "- `/root`：系统管理员的用户主目录。\n",
    "- `/sbin`：存放的是系统管理员使用的系统管理程序。\n",
    "- `/sys`：该目录安装了一个文件系统 sysfs。\n",
    "- `/tmp`：存放一些临时文件。\n",
    "- `/usr`：存放用户的很多应用程序和文件。\n",
    "    - `/usr/bin`：系统用户使用的应用程序。\n",
    "    - `/usr/sbin`：超级用户使用的高级管理程序。\n",
    "    - `/usr/src`：存放内核源代码。\n",
    "- `/var`：存放不断扩充着的东西，例如各种日志文件。"
   ]
  },
  {
   "cell_type": "markdown",
   "metadata": {
    "slideshow": {
     "slide_type": "slide"
    }
   },
   "source": [
    "使用`ls`命令，列出系统目录架构"
   ]
  },
  {
   "cell_type": "code",
   "execution_count": 1,
   "metadata": {
    "slideshow": {
     "slide_type": "-"
    }
   },
   "outputs": [
    {
     "name": "stdout",
     "output_type": "stream",
     "text": [
      "bin   dev   jupyterhub_cookie_secret  lib64\t  mnt\troot  srv  usr\r\n",
      "boot  etc   jupyterhub.sqlite\t      lost+found  opt\trun   sys  var\r\n",
      "data  home  lib\t\t\t      media\t  proc\tsbin  tmp\r\n"
     ]
    }
   ],
   "source": [
    "!ls /"
   ]
  },
  {
   "cell_type": "markdown",
   "metadata": {
    "slideshow": {
     "slide_type": "slide"
    }
   },
   "source": [
    "### 目录常用操作\n",
    "\n",
    "- `ls`: 列出目录\n",
    "- `cd`：切换目录\n",
    "- `pwd`：显示当前目录\n",
    "- `mkdir`：创建新目录\n",
    "- `rmdir`：删除空目录\n",
    "- `cp`: 复制文件或目录\n",
    "- `rm`: 移除文件或目录"
   ]
  },
  {
   "cell_type": "markdown",
   "metadata": {
    "slideshow": {
     "slide_type": "slide"
    }
   },
   "source": [
    "### 文件内容查看\n",
    "\n",
    "- `cat`：显示文件内容，从第一行开始。\n",
    "- `tac`： 显示文件内容，从最后一行开始。\n",
    "- `more`： 按页显示文件内容\n",
    "- `head`： 显示头几行\n",
    "- `tail`： 显示最后几行"
   ]
  },
  {
   "cell_type": "markdown",
   "metadata": {
    "slideshow": {
     "slide_type": "slide"
    }
   },
   "source": [
    "### 创建文件\n",
    "\n",
    "- `touch`: 创建一个空文件"
   ]
  },
  {
   "cell_type": "markdown",
   "metadata": {
    "slideshow": {
     "slide_type": "slide"
    }
   },
   "source": [
    "## 用户管理\n",
    "\n",
    "Linux系统是一个多用户多任务的分时操作系统。必须有一个账号，才能登陆并使用系统。每个账户都有：\n",
    "- 用户名\n",
    "- 密码\n",
    "- 主目录\n",
    "- 用户组"
   ]
  },
  {
   "cell_type": "markdown",
   "metadata": {
    "slideshow": {
     "slide_type": "slide"
    }
   },
   "source": [
    "### 用户账号的添加、删除与修改\n",
    "\n",
    "使用系统管理员，使用如下命令：\n",
    "- `useradd`: 添加新的用户账号\n",
    "- `userdel`：删除帐号\n",
    "- `usermod`: 修改帐号\n",
    "- `passwd`: 用户口令的管理"
   ]
  },
  {
   "cell_type": "markdown",
   "metadata": {
    "slideshow": {
     "slide_type": "slide"
    }
   },
   "source": [
    "### 用户组管理\n",
    "\n",
    "每个用户都会有一个或多个用户组，用户组的管理涉及用户组的添加、删除和修改。\n",
    "- `groupadd`：增加一个新的用户组。\n",
    "- `groupdel`： 删除一个已有的用户组\n",
    "- `groupmod`： 修改用户组属性"
   ]
  },
  {
   "cell_type": "markdown",
   "metadata": {
    "slideshow": {
     "slide_type": "slide"
    }
   },
   "source": [
    "### 用户密码\n",
    "\n",
    "使用`passwd`命令，可以更改用户自己的密码\n",
    "- `passwd`: 用户口令的管理"
   ]
  },
  {
   "cell_type": "markdown",
   "metadata": {
    "slideshow": {
     "slide_type": "slide"
    }
   },
   "source": [
    "### 文件与用户权限\n",
    "\n",
    "Linux系统是多用户系统，不同的用户拥有不同的权限。对于同一文件或目录，linux设置了不同的权限。"
   ]
  },
  {
   "cell_type": "markdown",
   "metadata": {
    "slideshow": {
     "slide_type": "slide"
    }
   },
   "source": [
    "使用`ls -l`列出一个文件或目录的属性及权限设置"
   ]
  },
  {
   "cell_type": "code",
   "execution_count": 9,
   "metadata": {
    "slideshow": {
     "slide_type": "-"
    }
   },
   "outputs": [
    {
     "name": "stdout",
     "output_type": "stream",
     "text": [
      "总用量 212\r\n",
      "dr-xr-xr-x.   2 root root 45056 8月   9 11:34 bin\r\n",
      "drwxr-xr-x.   2 root root  4096 11月  5 2016 etc\r\n",
      "drwxr-xr-x.   2 root root  4096 11月  5 2016 games\r\n",
      "drwxr-xr-x.  39 root root  4096 6月  16 16:56 include\r\n",
      "dr-xr-xr-x.  43 root root 12288 3月  31 14:14 lib\r\n",
      "dr-xr-xr-x. 141 root root 90112 6月  16 16:56 lib64\r\n",
      "drwxr-xr-x.  42 root root 12288 4月   6 17:33 libexec\r\n",
      "drwxr-xr-x.  14 root root  4096 3月  31 14:51 local\r\n",
      "dr-xr-xr-x.   2 root root 20480 6月  16 16:56 sbin\r\n",
      "drwxr-xr-x. 229 root root 12288 6月  16 16:56 share\r\n",
      "drwxr-xr-x.   4 root root  4096 6月  11 2017 src\r\n",
      "lrwxrwxrwx.   1 root root    10 6月  11 2017 tmp -> ../var/tmp\r\n"
     ]
    }
   ],
   "source": [
    "!ls -l /usr"
   ]
  },
  {
   "cell_type": "markdown",
   "metadata": {
    "slideshow": {
     "slide_type": "slide"
    }
   },
   "source": [
    "在示例中，`/usr/bin`文件的第一个属性为`d`，表示是一个目录文件。在Linux系统中，有如下字符：\n",
    "- `d`, 目录\n",
    "- `-`, 文件；\n",
    "- `l`, 链接文档(link file)；\n",
    "- `b`, 设备文件，可供储存的接口设备；\n",
    "- `c`, 设备文件，串行端口设备，例如键盘、鼠标。"
   ]
  },
  {
   "cell_type": "markdown",
   "metadata": {
    "slideshow": {
     "slide_type": "slide"
    }
   },
   "source": [
    "文件或目录的权限分为层次：用户、用户组、其它；级别：可读（r），可写（w），可执行（x）。\n",
    "![Linux文件权限](assets/linux_rwx.png)"
   ]
  },
  {
   "cell_type": "markdown",
   "metadata": {
    "slideshow": {
     "slide_type": "slide"
    }
   },
   "source": [
    "### 文件属性更改\n",
    "\n",
    "有如下命令可以更改文件属性：\n",
    "- `chgrp`： 更改文件属组\n",
    "- `chown`： 更改文件属主\n",
    "- `chmod`： 更改文件权限属性"
   ]
  },
  {
   "cell_type": "markdown",
   "metadata": {
    "slideshow": {
     "slide_type": "slide"
    }
   },
   "source": [
    "## 软件包安装\n",
    "\n",
    "Linux操作系统常常需要安装用户所需软件。由于CentOS等操作系统是基于RPM包管理，而Ubuntu等系统是使用DEB包管理的。为此对于这两类系统，会使用不同的软件包管理工具：\n",
    "- `yum`\n",
    "- `apt-get`"
   ]
  },
  {
   "cell_type": "markdown",
   "metadata": {
    "slideshow": {
     "slide_type": "slide"
    }
   },
   "source": [
    "这两个工具都具有类似的功能：\n",
    "- 安装指定的软件\n",
    "- 更新指定的软件\n",
    "- 删除软件包\n",
    "- 查找软件包"
   ]
  },
  {
   "cell_type": "markdown",
   "metadata": {
    "slideshow": {
     "slide_type": "slide"
    }
   },
   "source": [
    "### `yum`使用示例"
   ]
  },
  {
   "cell_type": "markdown",
   "metadata": {
    "slideshow": {
     "slide_type": "slide"
    }
   },
   "source": [
    "### `apt-get`使用示例\n"
   ]
  },
  {
   "cell_type": "markdown",
   "metadata": {
    "slideshow": {
     "slide_type": "slide"
    }
   },
   "source": [
    "## 常用应用软件"
   ]
  },
  {
   "cell_type": "markdown",
   "metadata": {
    "slideshow": {
     "slide_type": "slide"
    }
   },
   "source": [
    "### 网络应用\n",
    "\n",
    "- 网页浏览: firefox \n",
    "- 联络聊天     \n",
    "- 邮件客户端\n",
    "- 下载工具\n"
   ]
  },
  {
   "cell_type": "markdown",
   "metadata": {
    "slideshow": {
     "slide_type": "slide"
    }
   },
   "source": [
    "### 文件管理与查看\n",
    "\n",
    "- 压缩解压缩软件\n",
    "    - tar\n",
    "- pdf阅读\n",
    "    - acrobat reader\n",
    "- 文本编辑\n",
    "    - vim\n",
    "    - emacs "
   ]
  },
  {
   "cell_type": "markdown",
   "metadata": {
    "slideshow": {
     "slide_type": "slide"
    }
   },
   "source": [
    "### 字典\n",
    "\n"
   ]
  },
  {
   "cell_type": "markdown",
   "metadata": {
    "slideshow": {
     "slide_type": "slide"
    }
   },
   "source": [
    "### 音视频播放"
   ]
  },
  {
   "cell_type": "markdown",
   "metadata": {
    "slideshow": {
     "slide_type": "slide"
    }
   },
   "source": [
    "### 编程开发\n",
    "\n",
    "- python\n",
    "    - anaconda"
   ]
  },
  {
   "cell_type": "markdown",
   "metadata": {
    "slideshow": {
     "slide_type": "slide"
    }
   },
   "source": [
    "## 系统管理"
   ]
  },
  {
   "cell_type": "markdown",
   "metadata": {
    "slideshow": {
     "slide_type": "slide"
    }
   },
   "source": [
    "### 系统进程查看与管理\n",
    "\n",
    "进程简单来说就是系统中正在执行的一个程序或命令，每个进程都是一个运行的实体，都有自己的地址空间，并占用一定的系统资源。有如下命令可以查看与管理：\n",
    "- `ps`：查看系统进程\n",
    "- `top`：查看系统健康状态\n",
    "- `pstree`：查看进程树\n",
    "- `kill`：杀掉进程"
   ]
  },
  {
   "cell_type": "markdown",
   "metadata": {
    "slideshow": {
     "slide_type": "slide"
    }
   },
   "source": [
    "### 常见系统服务器\n",
    "\n",
    "- SSH服务器\n",
    "    - sshd\n",
    "- vnc服务器\n",
    "    - vncserver\n",
    "- ftp服务器\n",
    "- git托管服务器\n",
    "- 数据库服务器\n",
    "    - mysql\n",
    "    - postsql\n",
    "- WEB服务器\n",
    "    - nginx"
   ]
  },
  {
   "cell_type": "markdown",
   "metadata": {
    "slideshow": {
     "slide_type": "slide"
    }
   },
   "source": [
    "## 小结\n",
    "\n",
    "Linux操作系统还是比较庞大，很难一下子学完整。遇到问题再去查看，多做笔记，慢慢积累吧。"
   ]
  }
 ],
 "metadata": {
  "celltoolbar": "Slideshow",
  "kernelspec": {
   "display_name": "Python 3",
   "language": "python",
   "name": "python3"
  },
  "language_info": {
   "codemirror_mode": {
    "name": "ipython",
    "version": 3
   },
   "file_extension": ".py",
   "mimetype": "text/x-python",
   "name": "python",
   "nbconvert_exporter": "python",
   "pygments_lexer": "ipython3",
   "version": "3.6.4"
  },
  "toc": {
   "base_numbering": 1,
   "nav_menu": {},
   "number_sections": true,
   "sideBar": true,
   "skip_h1_title": false,
   "title_cell": "Table of Contents",
   "title_sidebar": "Contents",
   "toc_cell": false,
   "toc_position": {},
   "toc_section_display": true,
   "toc_window_display": false
  }
 },
 "nbformat": 4,
 "nbformat_minor": 2
}
