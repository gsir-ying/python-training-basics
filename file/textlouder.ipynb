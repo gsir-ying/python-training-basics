{
 "cells": [
  {
   "cell_type": "markdown",
   "metadata": {
    "slideshow": {
     "slide_type": "slide"
    }
   },
   "source": [
    "# 课文朗读者\n",
    "\n",
    "\n",
    "```\n",
    "大声读出来\n",
    "```"
   ]
  },
  {
   "cell_type": "markdown",
   "metadata": {
    "slideshow": {
     "slide_type": "slide"
    }
   },
   "source": [
    "## Science述评"
   ]
  },
  {
   "cell_type": "code",
   "execution_count": 3,
   "metadata": {
    "slideshow": {
     "slide_type": "-"
    }
   },
   "outputs": [
    {
     "name": "stdout",
     "output_type": "stream",
     "text": [
      "Overwriting science_blackhole.txt\n"
     ]
    }
   ],
   "source": [
    "%%writefile science_blackhole.txt\n",
    "Science述评：准周期震荡—黑洞自旋测量的新手段\n",
    "\n",
    "中科院青促会 谢富国\n",
    "（中科院上海天文台）\n",
    "\n",
    "评述论文：A loud quasi-periodic oscillation after a star is disrupted by a massive black hole (Science 11 Jan 2019: Vol 363, Issue 6423)\n",
    "\n",
    "这个工作发现了一个新类别的黑洞吸积系统（大质量黑洞通过潮汐力瓦解恒星）中的吸积盘的准周期的震荡现象。\n",
    "\n",
    "宇宙中的黑洞有大有小。小的只有10个太阳质量大小，称为恒星级质量黑洞，最近引力波探测到的黑洞均为这类黑洞；大的有106-1010太阳质量大小，称为超大质量黑洞，一般均生活在星系的中央“C位”。黑洞是个几乎完美的“隐者”，一般很难被发现。例如，银河系内可能存在108个恒星质量的黑洞[1]，但是我们到目前为止只发现了不到50个。这些黑洞是怎么暴露出来的呢？它们都是在它们“进餐”的过程中发现的。由于引力很强，黑洞可以不断吸引其周边的气体落入黑洞内部。该过程就是黑洞的进餐活动。黑洞通过进餐能够不断长大。这些被吸引的气体由于存在旋转运动（有角动量），所以往往会形成一个旋转的“吸积盘”。气体不断下落（吸积）时，将把引力能转化为气体的热能，并产生大量的辐射，也能够把一部分物质抛射出来，形成喷流或者风。"
   ]
  },
  {
   "cell_type": "markdown",
   "metadata": {
    "slideshow": {
     "slide_type": "slide"
    }
   },
   "source": [
    "## 程序过程\n",
    "\n",
    "- 获取文件名\n",
    "- 打开文件\n",
    "- 分段与分句\n",
    "- 使用百度函数朗读句子"
   ]
  },
  {
   "cell_type": "markdown",
   "metadata": {
    "slideshow": {
     "slide_type": "slide"
    }
   },
   "source": [
    "## 提示\n",
    "\n",
    "- 字符串的`split`\n",
    "- 正则表达式的`split`"
   ]
  },
  {
   "cell_type": "code",
   "execution_count": 9,
   "metadata": {
    "slideshow": {
     "slide_type": "slide"
    }
   },
   "outputs": [],
   "source": [
    "text = \"\"\"Science述评：准周期震荡—黑洞自旋测量的新手段\n",
    "\n",
    "中科院青促会 谢富国\n",
    "（中科院上海天文台）\n",
    "\n",
    "评述论文：A loud quasi-periodic oscillation after a star is disrupted by a massive black hole (Science 11 Jan 2019: Vol 363, Issue 6423)\n",
    "\n",
    "这个工作发现了一个新类别的黑洞吸积系统（大质量黑洞通过潮汐力瓦解恒星）中的吸积盘的准周期的震荡现象。\n",
    "\n",
    "宇宙中的黑洞有大有小。小的只有10个太阳质量大小，称为恒星级质量黑洞，最近引力波探测到的黑洞均为这类黑洞；大的有106-1010太阳质量大小，称为超大质量黑洞，一般均生活在星系的中央“C位”。黑洞是个几乎完美的“隐者”，一般很难被发现。例如，银河系内可能存在108个恒星质量的黑洞[1]，但是我们到目前为止只发现了不到50个。这些黑洞是怎么暴露出来的呢？它们都是在它们“进餐”的过程中发现的。由于引力很强，黑洞可以不断吸引其周边的气体落入黑洞内部。该过程就是黑洞的进餐活动。黑洞通过进餐能够不断长大。这些被吸引的气体由于存在旋转运动（有角动量），所以往往会形成一个旋转的“吸积盘”。气体不断下落（吸积）时，将把引力能转化为气体的热能，并产生大量的辐射，也能够把一部分物质抛射出来，形成喷流或者风。\"\"\""
   ]
  },
  {
   "cell_type": "code",
   "execution_count": 10,
   "metadata": {
    "slideshow": {
     "slide_type": "slide"
    }
   },
   "outputs": [
    {
     "data": {
      "text/plain": [
       "['Science述评：准周期震荡—黑洞自旋测量的新手段',\n",
       " '',\n",
       " '中科院青促会 谢富国',\n",
       " '（中科院上海天文台）',\n",
       " '',\n",
       " '评述论文：A loud quasi-periodic oscillation after a star is disrupted by a massive black hole (Science 11 Jan 2019: Vol 363, Issue 6423)',\n",
       " '',\n",
       " '这个工作发现了一个新类别的黑洞吸积系统（大质量黑洞通过潮汐力瓦解恒星）中的吸积盘的准周期的震荡现象。',\n",
       " '',\n",
       " '宇宙中的黑洞有大有小。小的只有10个太阳质量大小，称为恒星级质量黑洞，最近引力波探测到的黑洞均为这类黑洞；大的有106-1010太阳质量大小，称为超大质量黑洞，一般均生活在星系的中央“C位”。黑洞是个几乎完美的“隐者”，一般很难被发现。例如，银河系内可能存在108个恒星质量的黑洞[1]，但是我们到目前为止只发现了不到50个。这些黑洞是怎么暴露出来的呢？它们都是在它们“进餐”的过程中发现的。由于引力很强，黑洞可以不断吸引其周边的气体落入黑洞内部。该过程就是黑洞的进餐活动。黑洞通过进餐能够不断长大。这些被吸引的气体由于存在旋转运动（有角动量），所以往往会形成一个旋转的“吸积盘”。气体不断下落（吸积）时，将把引力能转化为气体的热能，并产生大量的辐射，也能够把一部分物质抛射出来，形成喷流或者风。']"
      ]
     },
     "execution_count": 10,
     "metadata": {},
     "output_type": "execute_result"
    }
   ],
   "source": [
    "text.split('\\n')"
   ]
  },
  {
   "cell_type": "code",
   "execution_count": 11,
   "metadata": {},
   "outputs": [],
   "source": [
    "import re"
   ]
  },
  {
   "cell_type": "code",
   "execution_count": 12,
   "metadata": {},
   "outputs": [
    {
     "data": {
      "text/plain": [
       "['Science述评：准周期震荡—黑洞自旋测量的新手段',\n",
       " '中科院青促会 谢富国\\n（中科院上海天文台）',\n",
       " '评述论文：A loud quasi-periodic oscillation after a star is disrupted by a massive black hole (Science 11 Jan 2019: Vol 363, Issue 6423)',\n",
       " '这个工作发现了一个新类别的黑洞吸积系统（大质量黑洞通过潮汐力瓦解恒星）中的吸积盘的准周期的震荡现象。',\n",
       " '宇宙中的黑洞有大有小。小的只有10个太阳质量大小，称为恒星级质量黑洞，最近引力波探测到的黑洞均为这类黑洞；大的有106-1010太阳质量大小，称为超大质量黑洞，一般均生活在星系的中央“C位”。黑洞是个几乎完美的“隐者”，一般很难被发现。例如，银河系内可能存在108个恒星质量的黑洞[1]，但是我们到目前为止只发现了不到50个。这些黑洞是怎么暴露出来的呢？它们都是在它们“进餐”的过程中发现的。由于引力很强，黑洞可以不断吸引其周边的气体落入黑洞内部。该过程就是黑洞的进餐活动。黑洞通过进餐能够不断长大。这些被吸引的气体由于存在旋转运动（有角动量），所以往往会形成一个旋转的“吸积盘”。气体不断下落（吸积）时，将把引力能转化为气体的热能，并产生大量的辐射，也能够把一部分物质抛射出来，形成喷流或者风。']"
      ]
     },
     "execution_count": 12,
     "metadata": {},
     "output_type": "execute_result"
    }
   ],
   "source": [
    "re.split('\\n\\n', text)"
   ]
  },
  {
   "cell_type": "code",
   "execution_count": 13,
   "metadata": {},
   "outputs": [
    {
     "data": {
      "text/plain": [
       "'宇宙中的黑洞有大有小。小的只有10个太阳质量大小，称为恒星级质量黑洞，最近引力波探测到的黑洞均为这类黑洞；大的有106-1010太阳质量大小，称为超大质量黑洞，一般均生活在星系的中央“C位”。黑洞是个几乎完美的“隐者”，一般很难被发现。例如，银河系内可能存在108个恒星质量的黑洞[1]，但是我们到目前为止只发现了不到50个。这些黑洞是怎么暴露出来的呢？它们都是在它们“进餐”的过程中发现的。由于引力很强，黑洞可以不断吸引其周边的气体落入黑洞内部。该过程就是黑洞的进餐活动。黑洞通过进餐能够不断长大。这些被吸引的气体由于存在旋转运动（有角动量），所以往往会形成一个旋转的“吸积盘”。气体不断下落（吸积）时，将把引力能转化为气体的热能，并产生大量的辐射，也能够把一部分物质抛射出来，形成喷流或者风。'"
      ]
     },
     "execution_count": 13,
     "metadata": {},
     "output_type": "execute_result"
    }
   ],
   "source": [
    "para = re.split('\\n\\n', text)[4]\n",
    "para"
   ]
  },
  {
   "cell_type": "code",
   "execution_count": 16,
   "metadata": {
    "slideshow": {
     "slide_type": "slide"
    }
   },
   "outputs": [
    {
     "data": {
      "text/plain": [
       "['宇宙中的黑洞有大有小',\n",
       " '小的只有10个太阳质量大小，称为恒星级质量黑洞，最近引力波探测到的黑洞均为这类黑洞；大的有106-1010太阳质量大小，称为超大质量黑洞，一般均生活在星系的中央“C位”',\n",
       " '黑洞是个几乎完美的“隐者”，一般很难被发现',\n",
       " '例如，银河系内可能存在108个恒星质量的黑洞[1]，但是我们到目前为止只发现了不到50个',\n",
       " '这些黑洞是怎么暴露出来的呢',\n",
       " '它们都是在它们“进餐”的过程中发现的',\n",
       " '由于引力很强，黑洞可以不断吸引其周边的气体落入黑洞内部',\n",
       " '该过程就是黑洞的进餐活动',\n",
       " '黑洞通过进餐能够不断长大',\n",
       " '这些被吸引的气体由于存在旋转运动（有角动量），所以往往会形成一个旋转的“吸积盘”',\n",
       " '气体不断下落（吸积）时，将把引力能转化为气体的热能，并产生大量的辐射，也能够把一部分物质抛射出来，形成喷流或者风',\n",
       " '']"
      ]
     },
     "execution_count": 16,
     "metadata": {},
     "output_type": "execute_result"
    }
   ],
   "source": [
    "re.split('[。？?]', para)"
   ]
  }
 ],
 "metadata": {
  "celltoolbar": "Slideshow",
  "kernelspec": {
   "display_name": "Python 3",
   "language": "python",
   "name": "python3"
  },
  "language_info": {
   "codemirror_mode": {
    "name": "ipython",
    "version": 3
   },
   "file_extension": ".py",
   "mimetype": "text/x-python",
   "name": "python",
   "nbconvert_exporter": "python",
   "pygments_lexer": "ipython3",
   "version": "3.6.4"
  },
  "toc": {
   "base_numbering": 1,
   "nav_menu": {},
   "number_sections": true,
   "sideBar": true,
   "skip_h1_title": false,
   "title_cell": "Table of Contents",
   "title_sidebar": "Contents",
   "toc_cell": false,
   "toc_position": {},
   "toc_section_display": true,
   "toc_window_display": false
  }
 },
 "nbformat": 4,
 "nbformat_minor": 2
}
