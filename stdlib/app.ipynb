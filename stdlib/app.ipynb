{
 "cells": [
  {
   "cell_type": "markdown",
   "metadata": {
    "slideshow": {
     "slide_type": "slide"
    }
   },
   "source": [
    "# 一个程序\n",
    "\n"
   ]
  },
  {
   "cell_type": "markdown",
   "metadata": {
    "slideshow": {
     "slide_type": "slide"
    }
   },
   "source": [
    "一个命令行程序，通常有少量的定位参数和较多的可选参数。"
   ]
  },
  {
   "cell_type": "markdown",
   "metadata": {
    "slideshow": {
     "slide_type": "slide"
    }
   },
   "source": [
    "## argparse\n",
    "\n",
    "[`argparse`库]()是Python标准库，用来解析命令行解析，是编写友好命令行程序的重要工具之一。"
   ]
  },
  {
   "cell_type": "markdown",
   "metadata": {
    "slideshow": {
     "slide_type": "slide"
    }
   },
   "source": [
    "使用`argparse`解析命令行参数的主要步骤：\n",
    "1. 创建`ArgumentParser()`对象\n",
    "2. 调用`add_argument()`方法添加预期参数\n",
    "3. 使用`parse_args()`解析用户输入命令行参数"
   ]
  },
  {
   "cell_type": "markdown",
   "metadata": {
    "slideshow": {
     "slide_type": "slide"
    }
   },
   "source": [
    "###  命令参数\n",
    "\n",
    "一个命令行程序，通常有：\n",
    "- 位置参数（positional arguments）\n",
    "- 可选参数（optional arguments），也称为选项，有点像函数中的关键字参数，在Linux系统程序的选项通常用如下方式：\n",
    "    - 短参数，`-h`，通常用的频率稍高些\n",
    "    - 长参数，`--help`，通常用的频率稍低些"
   ]
  },
  {
   "cell_type": "markdown",
   "metadata": {
    "slideshow": {
     "slide_type": "slide"
    }
   },
   "source": [
    "调用`add_argument()`，有关键字参数：\n",
    "- `action`\n",
    "- `dest`\n",
    "- `default`"
   ]
  },
  {
   "cell_type": "code",
   "execution_count": null,
   "metadata": {
    "slideshow": {
     "slide_type": "slide"
    }
   },
   "outputs": [],
   "source": [
    "%%writefile demo01.py\n",
    "#!/usr/bin/env python\n",
    "# -*- coding: utf-8 -*-\n",
    "\"\"\"argparse demo\"\"\"\n",
    "import argparse\n",
    "\n",
    "parser = argparse.ArgumentParser()\n",
    "parser.add_argument('inpfile', help=\"位置参数\")\n",
    "parser.add_argument('-c', '--longc', action='store', dest='number', type=int)\n",
    "args = parser.parse_args()\n",
    "\n",
    "print(args)"
   ]
  },
  {
   "cell_type": "markdown",
   "metadata": {
    "slideshow": {
     "slide_type": "slide"
    }
   },
   "source": [
    "运行程序，查看程序帮助信息"
   ]
  },
  {
   "cell_type": "code",
   "execution_count": null,
   "metadata": {
    "slideshow": {
     "slide_type": "-"
    }
   },
   "outputs": [],
   "source": [
    "!python demo01.py --help"
   ]
  },
  {
   "cell_type": "markdown",
   "metadata": {
    "slideshow": {
     "slide_type": "slide"
    }
   },
   "source": [
    "运行程序，查看结果。"
   ]
  },
  {
   "cell_type": "code",
   "execution_count": null,
   "metadata": {
    "slideshow": {
     "slide_type": "-"
    }
   },
   "outputs": [],
   "source": [
    "!python demo01.py xxx.txt"
   ]
  },
  {
   "cell_type": "markdown",
   "metadata": {
    "slideshow": {
     "slide_type": "slide"
    }
   },
   "source": [
    "定义函数"
   ]
  },
  {
   "cell_type": "code",
   "execution_count": null,
   "metadata": {
    "slideshow": {
     "slide_type": "-"
    }
   },
   "outputs": [],
   "source": [
    "import argparse\n",
    "\n",
    "def parse_command_line():\n",
    "    \"\"\"解析命令行\"\"\"\n",
    "    parser = argparse.ArgumentParser()\n",
    "    parser.add_argument('inpfile', help=\"位置参数\")\n",
    "    parser.add_argument('-c', '--longc', action='store', dest='number', type=int)\n",
    "    args = parser.parse_args()\n",
    "    res = {\n",
    "        'inpfile': args.inpfile,\n",
    "        'number': args.number\n",
    "    }"
   ]
  },
  {
   "cell_type": "markdown",
   "metadata": {
    "slideshow": {
     "slide_type": "slide"
    }
   },
   "source": [
    "## logging\n",
    "\n",
    "[`logging`](https://docs.python.org/3/library/logging.html)是Python的标准库，是一个日志记录工具。"
   ]
  },
  {
   "cell_type": "markdown",
   "metadata": {
    "slideshow": {
     "slide_type": "slide"
    }
   },
   "source": [
    "### 计算机中的日志记录\n",
    "\n",
    "在程序中记录日志有两个目的：\n",
    "- 故障定位（Troubleshooting）\n",
    "- 运行状态显示"
   ]
  },
  {
   "cell_type": "markdown",
   "metadata": {
    "slideshow": {
     "slide_type": "slide"
    }
   },
   "source": [
    "对于程序运行状态，需要记录的包括：\n",
    "- 时间\n",
    "- 位置\n",
    "- 关键事项\n",
    "- 重要结果"
   ]
  },
  {
   "cell_type": "markdown",
   "metadata": {
    "slideshow": {
     "slide_type": "slide"
    }
   },
   "source": [
    "### 简单打印\n",
    "\n",
    "`logging`库包括如下函数，可以打印日志信息：\n",
    "- `critical(msg, *args, **kwargs)`\n",
    "- `debug()`\n",
    "- `error()`\n",
    "- `exception()`\n",
    "- `fatal = critical()`\n",
    "- `info()`\n",
    "- `warn()`\n",
    "- `warning()`"
   ]
  },
  {
   "cell_type": "code",
   "execution_count": null,
   "metadata": {
    "slideshow": {
     "slide_type": "slide"
    }
   },
   "outputs": [],
   "source": [
    "import logging\n",
    "\n",
    "logging.debug('debug message')     # check the result\n",
    "logging.info('info message')       # check the result\n",
    "logging.warning('warning message')\n",
    "# logging.warn('deprecated message')\n",
    "logging.error('error message')\n",
    "logging.fatal('fatal message')\n",
    "logging.critical('critical message')\n",
    "logging.exception('exception message')       # check the result"
   ]
  },
  {
   "cell_type": "markdown",
   "metadata": {
    "slideshow": {
     "slide_type": "slide"
    }
   },
   "source": [
    "### 简单配置\n",
    "\n",
    "缺省情况下，`logging`模块输出日志到屏幕，只显示输出`WARNING`及其以上级别，日志也具有指定格式。可以使用`logging.basicConfig()`进行修改配置。`logging.basicConfig()`的语法是：\n",
    "```\n",
    "basicConfig(**kwargs)\n",
    "```"
   ]
  },
  {
   "cell_type": "markdown",
   "metadata": {
    "slideshow": {
     "slide_type": "slide"
    }
   },
   "source": [
    "支持的主要关键字参数包括：\n",
    "- `filename`，指定日志输出文件；\n",
    "- `filemode`，指定日志输出文件打开模式，缺省是添加`a`.\n",
    "- `format`，指定格式字符串\n",
    "- `datefmt`，指定日期时间格式\n",
    "- `level`，设置级别\n",
    "- `stream`，指定输出流"
   ]
  },
  {
   "cell_type": "code",
   "execution_count": null,
   "metadata": {
    "slideshow": {
     "slide_type": "slide"
    }
   },
   "outputs": [],
   "source": [
    "%%writefile demo02.py\n",
    "#!/usr/bin/env python\n",
    "# -*- coding: utf-8 -*-\n",
    "\"\"\"logging demo\"\"\"\n",
    "import logging\n",
    "\n",
    "# Set the logging config\n",
    "level = logging.DEBUG\n",
    "logfile = 'logging_demo02.log'\n",
    "logfmt = '%(asctime)s:%(module)s:%(levelname)s:%(message)s'\n",
    "datefmt = '%Y-%m-%dT%Hh%Mm%Ss'\n",
    "logging.basicConfig(filename=logfile, level=level, format=logfmt, datefmt=datefmt)\n",
    "\n",
    "logging.debug('debug message')     # check the result\n",
    "logging.info('info message')       # check the result\n",
    "logging.warning('warning message')\n",
    "logging.error('error message')\n",
    "logging.critical('critical message')"
   ]
  },
  {
   "cell_type": "markdown",
   "metadata": {
    "slideshow": {
     "slide_type": "slide"
    }
   },
   "source": [
    "运行示例程序，并检查结果："
   ]
  },
  {
   "cell_type": "code",
   "execution_count": null,
   "metadata": {
    "slideshow": {
     "slide_type": "-"
    }
   },
   "outputs": [],
   "source": [
    "!python demo02.py"
   ]
  },
  {
   "cell_type": "code",
   "execution_count": null,
   "metadata": {
    "slideshow": {
     "slide_type": "slide"
    }
   },
   "outputs": [],
   "source": [
    "%cat logging_demo02.log"
   ]
  },
  {
   "cell_type": "markdown",
   "metadata": {
    "slideshow": {
     "slide_type": "slide"
    }
   },
   "source": [
    "定义函数"
   ]
  },
  {
   "cell_type": "code",
   "execution_count": null,
   "metadata": {
    "slideshow": {
     "slide_type": "-"
    }
   },
   "outputs": [],
   "source": [
    "import logging\n",
    "\n",
    "\n",
    "def init_logger(logfile=None, level=logging.INFO):\n",
    "    \"\"\"配置日志\"\"\"\n",
    "    logfmt = '%(asctime)s:%(module)s:%(levelname)s:%(message)s'\n",
    "    datefmt = '%Y-%m-%dT%Hh%Mm%Ss'\n",
    "    logging.basicConfig(filename=logfile, level=level, format=logfmt, datefmt=datefmt)"
   ]
  }
 ],
 "metadata": {
  "celltoolbar": "Slideshow",
  "kernelspec": {
   "display_name": "Python 3",
   "language": "python",
   "name": "python3"
  },
  "language_info": {
   "codemirror_mode": {
    "name": "ipython",
    "version": 3
   },
   "file_extension": ".py",
   "mimetype": "text/x-python",
   "name": "python",
   "nbconvert_exporter": "python",
   "pygments_lexer": "ipython3",
   "version": "3.6.4"
  },
  "toc": {
   "base_numbering": 1,
   "nav_menu": {},
   "number_sections": true,
   "sideBar": true,
   "skip_h1_title": false,
   "title_cell": "Table of Contents",
   "title_sidebar": "Contents",
   "toc_cell": false,
   "toc_position": {
    "height": "calc(100% - 180px)",
    "left": "10px",
    "top": "150px",
    "width": "210px"
   },
   "toc_section_display": true,
   "toc_window_display": true
  }
 },
 "nbformat": 4,
 "nbformat_minor": 2
}
