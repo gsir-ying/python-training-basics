{
 "cells": [
  {
   "cell_type": "markdown",
   "metadata": {},
   "source": [
    "# Requests 3.0\n",
    "\n",
    "Requests 3.0新特性计划 ：\n",
    "1. 原生async/await支持，让大规模并发成为可能。\n",
    "2. Python 3+ 的类型注释，配合mypy可以进行静态代码分析，并更容易地与Pycharm一类的工具集成。\n",
    "3. 去除陈旧Python版本的支持。\n",
    "4. 为陈旧Python版本的用户发布一个长期支持版2.0。\n",
    "5. 如果可能，支持HTTP/2.0。"
   ]
  }
 ],
 "metadata": {
  "kernelspec": {
   "display_name": "Python 3",
   "language": "python",
   "name": "python3"
  },
  "language_info": {
   "codemirror_mode": {
    "name": "ipython",
    "version": 3
   },
   "file_extension": ".py",
   "mimetype": "text/x-python",
   "name": "python",
   "nbconvert_exporter": "python",
   "pygments_lexer": "ipython3",
   "version": "3.6.3"
  }
 },
 "nbformat": 4,
 "nbformat_minor": 2
}
