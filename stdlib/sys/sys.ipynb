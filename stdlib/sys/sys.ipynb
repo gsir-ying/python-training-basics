{
 "cells": [
  {
   "cell_type": "markdown",
   "metadata": {
    "slideshow": {
     "slide_type": "slide"
    }
   },
   "source": [
    "# sys\n",
    "\n",
    "`sys`是Python的一个标准库，提供Python解释器相关变量与方法。`sys`指的是Python系统不是操作系统。"
   ]
  },
  {
   "cell_type": "markdown",
   "metadata": {
    "slideshow": {
     "slide_type": "slide"
    }
   },
   "source": [
    "## 现实世界的Python系统\n",
    "\n",
    "Python有多个实现，支持多个操作系统，分为Python2与Python3版本。"
   ]
  },
  {
   "cell_type": "markdown",
   "metadata": {
    "slideshow": {
     "slide_type": "slide"
    }
   },
   "source": [
    "## 创建对象\n",
    "\n",
    "使用`import`命令导入模块`sys`."
   ]
  },
  {
   "cell_type": "code",
   "execution_count": 46,
   "metadata": {
    "slideshow": {
     "slide_type": "-"
    }
   },
   "outputs": [],
   "source": [
    "import sys"
   ]
  },
  {
   "cell_type": "markdown",
   "metadata": {
    "slideshow": {
     "slide_type": "slide"
    }
   },
   "source": [
    "## 自省\n",
    "\n",
    "使用自省方法查看`sys`模块对象."
   ]
  },
  {
   "cell_type": "markdown",
   "metadata": {
    "slideshow": {
     "slide_type": "slide"
    }
   },
   "source": [
    "使用`type()`函数及`pympler`查看对象类型及内存大小。"
   ]
  },
  {
   "cell_type": "code",
   "execution_count": 47,
   "metadata": {
    "slideshow": {
     "slide_type": "-"
    }
   },
   "outputs": [
    {
     "name": "stdout",
     "output_type": "stream",
     "text": [
      "<class 'module'>\n"
     ]
    }
   ],
   "source": [
    "from pympler import asizeof\n",
    "\n",
    "print(type(sys))\n",
    "# print(asizeof.asizeof(sys))"
   ]
  },
  {
   "cell_type": "markdown",
   "metadata": {
    "slideshow": {
     "slide_type": "slide"
    }
   },
   "source": [
    "使用`help()`查看模块帮助信息。"
   ]
  },
  {
   "cell_type": "code",
   "execution_count": 48,
   "metadata": {
    "slideshow": {
     "slide_type": "slide"
    }
   },
   "outputs": [
    {
     "name": "stdout",
     "output_type": "stream",
     "text": [
      "Help on built-in module sys:\n",
      "\n",
      "NAME\n",
      "    sys\n",
      "\n",
      "MODULE REFERENCE\n",
      "    https://docs.python.org/3.6/library/sys\n",
      "    \n",
      "    The following documentation is automatically generated from the Python\n",
      "    source files.  It may be incomplete, incorrect or include features that\n",
      "    are considered implementation detail and may vary between Python\n",
      "    implementations.  When in doubt, consult the module reference at the\n",
      "    location listed above.\n",
      "\n",
      "DESCRIPTION\n",
      "    This module provides access to some objects used or maintained by the\n",
      "    interpreter and to functions that interact strongly with the interpreter.\n",
      "    \n",
      "    Dynamic objects:\n",
      "    \n",
      "    argv -- command line arguments; argv[0] is the script pathname if known\n",
      "    path -- module search path; path[0] is the script directory, else ''\n",
      "    modules -- dictionary of loaded modules\n",
      "    \n",
      "    displayhook -- called to show results in an interactive session\n",
      "    excepthook -- called to handle any uncaught exception other than SystemExit\n",
      "      To customize printing in an interactive session or to install a custom\n",
      "      top-level exception handler, assign other functions to replace these.\n",
      "    \n",
      "    stdin -- standard input file object; used by input()\n",
      "    stdout -- standard output file object; used by print()\n",
      "    stderr -- standard error object; used for error messages\n",
      "      By assigning other file objects (or objects that behave like files)\n",
      "      to these, it is possible to redirect all of the interpreter's I/O.\n",
      "    \n",
      "    last_type -- type of last uncaught exception\n",
      "    last_value -- value of last uncaught exception\n",
      "    last_traceback -- traceback of last uncaught exception\n",
      "      These three are only available in an interactive session after a\n",
      "      traceback has been printed.\n",
      "    \n",
      "    Static objects:\n",
      "    \n",
      "    builtin_module_names -- tuple of module names built into this interpreter\n",
      "    copyright -- copyright notice pertaining to this interpreter\n",
      "    exec_prefix -- prefix used to find the machine-specific Python library\n",
      "    executable -- absolute path of the executable binary of the Python interpreter\n",
      "    float_info -- a struct sequence with information about the float implementation.\n",
      "    float_repr_style -- string indicating the style of repr() output for floats\n",
      "    hash_info -- a struct sequence with information about the hash algorithm.\n",
      "    hexversion -- version information encoded as a single integer\n",
      "    implementation -- Python implementation information.\n",
      "    int_info -- a struct sequence with information about the int implementation.\n",
      "    maxsize -- the largest supported length of containers.\n",
      "    maxunicode -- the value of the largest Unicode code point\n",
      "    platform -- platform identifier\n",
      "    prefix -- prefix used to find the Python library\n",
      "    thread_info -- a struct sequence with information about the thread implementation.\n",
      "    version -- the version of this interpreter as a string\n",
      "    version_info -- version information as a named tuple\n",
      "    __stdin__ -- the original stdin; don't touch!\n",
      "    __stdout__ -- the original stdout; don't touch!\n",
      "    __stderr__ -- the original stderr; don't touch!\n",
      "    __displayhook__ -- the original displayhook; don't touch!\n",
      "    __excepthook__ -- the original excepthook; don't touch!\n",
      "    \n",
      "    Functions:\n",
      "    \n",
      "    displayhook() -- print an object to the screen, and save it in builtins._\n",
      "    excepthook() -- print an exception and its traceback to sys.stderr\n",
      "    exc_info() -- return thread-safe information about the current exception\n",
      "    exit() -- exit the interpreter by raising SystemExit\n",
      "    getdlopenflags() -- returns flags to be used for dlopen() calls\n",
      "    getprofile() -- get the global profiling function\n",
      "    getrefcount() -- return the reference count for an object (plus one :-)\n",
      "    getrecursionlimit() -- return the max recursion depth for the interpreter\n",
      "    getsizeof() -- return the size of an object in bytes\n",
      "    gettrace() -- get the global debug tracing function\n",
      "    setcheckinterval() -- control how often the interpreter checks for events\n",
      "    setdlopenflags() -- set the flags to be used for dlopen() calls\n",
      "    setprofile() -- set the global profiling function\n",
      "    setrecursionlimit() -- set the max recursion depth for the interpreter\n",
      "    settrace() -- set the global debug tracing function\n",
      "\n",
      "FUNCTIONS\n",
      "    __displayhook__ = displayhook(...)\n",
      "        displayhook(object) -> None\n",
      "        \n",
      "        Print an object to sys.stdout and also save it in builtins._\n",
      "    \n",
      "    __excepthook__ = excepthook(...)\n",
      "        excepthook(exctype, value, traceback) -> None\n",
      "        \n",
      "        Handle an exception by displaying it with a traceback on sys.stderr.\n",
      "    \n",
      "    call_tracing(...)\n",
      "        call_tracing(func, args) -> object\n",
      "        \n",
      "        Call func(*args), while tracing is enabled.  The tracing state is\n",
      "        saved, and restored afterwards.  This is intended to be called from\n",
      "        a debugger from a checkpoint, to recursively debug some other code.\n",
      "    \n",
      "    callstats(...)\n",
      "        callstats() -> tuple of integers\n",
      "        \n",
      "        Return a tuple of function call statistics, if CALL_PROFILE was defined\n",
      "        when Python was built.  Otherwise, return None.\n",
      "        \n",
      "        When enabled, this function returns detailed, implementation-specific\n",
      "        details about the number of function calls executed. The return value is\n",
      "        a 11-tuple where the entries in the tuple are counts of:\n",
      "        0. all function calls\n",
      "        1. calls to PyFunction_Type objects\n",
      "        2. PyFunction calls that do not create an argument tuple\n",
      "        3. PyFunction calls that do not create an argument tuple\n",
      "           and bypass PyEval_EvalCodeEx()\n",
      "        4. PyMethod calls\n",
      "        5. PyMethod calls on bound methods\n",
      "        6. PyType calls\n",
      "        7. PyCFunction calls\n",
      "        8. generator calls\n",
      "        9. All other calls\n",
      "        10. Number of stack pops performed by call_function()\n",
      "    \n",
      "    exc_info(...)\n",
      "        exc_info() -> (type, value, traceback)\n",
      "        \n",
      "        Return information about the most recent exception caught by an except\n",
      "        clause in the current stack frame or in an older stack frame.\n",
      "    \n",
      "    exit(...)\n",
      "        exit([status])\n",
      "        \n",
      "        Exit the interpreter by raising SystemExit(status).\n",
      "        If the status is omitted or None, it defaults to zero (i.e., success).\n",
      "        If the status is an integer, it will be used as the system exit status.\n",
      "        If it is another kind of object, it will be printed and the system\n",
      "        exit status will be one (i.e., failure).\n",
      "    \n",
      "    get_asyncgen_hooks(...)\n",
      "        get_asyncgen_hooks()\n",
      "        \n",
      "        Return a namedtuple of installed asynchronous generators hooks (firstiter, finalizer).\n",
      "    \n",
      "    get_coroutine_wrapper(...)\n",
      "        get_coroutine_wrapper()\n",
      "        \n",
      "        Return the wrapper for coroutine objects set by sys.set_coroutine_wrapper.\n",
      "    \n",
      "    getallocatedblocks(...)\n",
      "        getallocatedblocks() -> integer\n",
      "        \n",
      "        Return the number of memory blocks currently allocated, regardless of their\n",
      "        size.\n",
      "    \n",
      "    getcheckinterval(...)\n",
      "        getcheckinterval() -> current check interval; see setcheckinterval().\n",
      "    \n",
      "    getdefaultencoding(...)\n",
      "        getdefaultencoding() -> string\n",
      "        \n",
      "        Return the current default string encoding used by the Unicode \n",
      "        implementation.\n",
      "    \n",
      "    getdlopenflags(...)\n",
      "        getdlopenflags() -> int\n",
      "        \n",
      "        Return the current value of the flags that are used for dlopen calls.\n",
      "        The flag constants are defined in the os module.\n",
      "    \n",
      "    getfilesystemencodeerrors(...)\n",
      "        getfilesystemencodeerrors() -> string\n",
      "        \n",
      "        Return the error mode used to convert Unicode filenames in\n",
      "        operating system filenames.\n",
      "    \n",
      "    getfilesystemencoding(...)\n",
      "        getfilesystemencoding() -> string\n",
      "        \n",
      "        Return the encoding used to convert Unicode filenames in\n",
      "        operating system filenames.\n",
      "    \n",
      "    getprofile(...)\n",
      "        getprofile()\n",
      "        \n",
      "        Return the profiling function set with sys.setprofile.\n",
      "        See the profiler chapter in the library manual.\n",
      "    \n",
      "    getrecursionlimit(...)\n",
      "        getrecursionlimit()\n",
      "        \n",
      "        Return the current value of the recursion limit, the maximum depth\n",
      "        of the Python interpreter stack.  This limit prevents infinite\n",
      "        recursion from causing an overflow of the C stack and crashing Python.\n",
      "    \n",
      "    getrefcount(...)\n",
      "        getrefcount(object) -> integer\n",
      "        \n",
      "        Return the reference count of object.  The count returned is generally\n",
      "        one higher than you might expect, because it includes the (temporary)\n",
      "        reference as an argument to getrefcount().\n",
      "    \n",
      "    getsizeof(...)\n",
      "        getsizeof(object, default) -> int\n",
      "        \n",
      "        Return the size of object in bytes.\n",
      "    \n",
      "    getswitchinterval(...)\n",
      "        getswitchinterval() -> current thread switch interval; see setswitchinterval().\n",
      "    \n",
      "    gettrace(...)\n",
      "        gettrace()\n",
      "        \n",
      "        Return the global debug tracing function set with sys.settrace.\n",
      "        See the debugger chapter in the library manual.\n",
      "    \n",
      "    intern(...)\n",
      "        intern(string) -> string\n",
      "        \n",
      "        ``Intern'' the given string.  This enters the string in the (global)\n",
      "        table of interned strings whose purpose is to speed up dictionary lookups.\n",
      "        Return the string itself or the previously interned string object with the\n",
      "        same value.\n",
      "    \n",
      "    is_finalizing(...)\n",
      "        is_finalizing()\n",
      "        Return True if Python is exiting.\n",
      "    \n",
      "    set_asyncgen_hooks(...)\n",
      "        set_asyncgen_hooks(*, firstiter=None, finalizer=None)\n",
      "        \n",
      "        Set a finalizer for async generators objects.\n",
      "    \n",
      "    set_coroutine_wrapper(...)\n",
      "        set_coroutine_wrapper(wrapper)\n",
      "        \n",
      "        Set a wrapper for coroutine objects.\n",
      "    \n",
      "    setcheckinterval(...)\n",
      "        setcheckinterval(n)\n",
      "        \n",
      "        Tell the Python interpreter to check for asynchronous events every\n",
      "        n instructions.  This also affects how often thread switches occur.\n",
      "    \n",
      "    setdlopenflags(...)\n",
      "        setdlopenflags(n) -> None\n",
      "        \n",
      "        Set the flags used by the interpreter for dlopen calls, such as when the\n",
      "        interpreter loads extension modules.  Among other things, this will enable\n",
      "        a lazy resolving of symbols when importing a module, if called as\n",
      "        sys.setdlopenflags(0).  To share symbols across extension modules, call as\n",
      "        sys.setdlopenflags(os.RTLD_GLOBAL).  Symbolic names for the flag modules\n",
      "        can be found in the os module (RTLD_xxx constants, e.g. os.RTLD_LAZY).\n",
      "    \n",
      "    setprofile(...)\n",
      "        setprofile(function)\n",
      "        \n",
      "        Set the profiling function.  It will be called on each function call\n",
      "        and return.  See the profiler chapter in the library manual.\n",
      "    \n",
      "    setrecursionlimit(...)\n",
      "        setrecursionlimit(n)\n",
      "        \n",
      "        Set the maximum depth of the Python interpreter stack to n.  This\n",
      "        limit prevents infinite recursion from causing an overflow of the C\n",
      "        stack and crashing Python.  The highest possible limit is platform-\n",
      "        dependent.\n",
      "    \n",
      "    setswitchinterval(...)\n",
      "        setswitchinterval(n)\n",
      "        \n",
      "        Set the ideal thread switching delay inside the Python interpreter\n",
      "        The actual frequency of switching threads can be lower if the\n",
      "        interpreter executes long sequences of uninterruptible code\n",
      "        (this is implementation-specific and workload-dependent).\n",
      "        \n",
      "        The parameter must represent the desired switching delay in seconds\n",
      "        A typical value is 0.005 (5 milliseconds).\n",
      "    \n",
      "    settrace(...)\n",
      "        settrace(function)\n",
      "        \n",
      "        Set the global debug tracing function.  It will be called on each\n",
      "        function call.  See the debugger chapter in the library manual.\n",
      "\n",
      "DATA\n",
      "    __stderr__ = <_io.TextIOWrapper name='<stderr>' mode='w' encoding='UTF...\n",
      "    __stdin__ = <_io.TextIOWrapper name='<stdin>' mode='r' encoding='UTF-8...\n",
      "    __stdout__ = <_io.TextIOWrapper name='<stdout>' mode='w' encoding='UTF...\n",
      "    abiflags = 'm'\n",
      "    api_version = 1013\n",
      "    argv = ['/opt/anaconda3/lib/python3.6/site-packages/ipykernel_launcher...\n",
      "    base_exec_prefix = '/opt/anaconda3'\n",
      "    base_prefix = '/opt/anaconda3'\n",
      "    builtin_module_names = ('_ast', '_codecs', '_collections', '_functools...\n",
      "    byteorder = 'little'\n",
      "    copyright = 'Copyright (c) 2001-2017 Python Software Foundati...ematis...\n",
      "    displayhook = <ipykernel.displayhook.ZMQShellDisplayHook object>\n",
      "    dont_write_bytecode = False\n",
      "    exec_prefix = '/opt/anaconda3'\n",
      "    executable = '/opt/anaconda3/bin/python'\n",
      "    flags = sys.flags(debug=0, inspect=0, interactive=0, opt...ing=0, quie...\n",
      "    float_info = sys.float_info(max=1.7976931348623157e+308, max_...epsilo...\n",
      "    float_repr_style = 'short'\n",
      "    hash_info = sys.hash_info(width=64, modulus=2305843009213693...iphash2...\n",
      "    hexversion = 50726128\n",
      "    implementation = namespace(_multiarch='x86_64-linux-gnu', cache_t...in...\n",
      "    int_info = sys.int_info(bits_per_digit=30, sizeof_digit=4)\n",
      "    last_value = TypeError(\"'LazyConfigValue' object is not callable\",)\n",
      "    maxsize = 9223372036854775807\n",
      "    maxunicode = 1114111\n",
      "    meta_path = [<class '_frozen_importlib.BuiltinImporter'>, <class '_fro...\n",
      "    modules = {'IPython': <module 'IPython' from '/opt/anaconda3/lib/pytho...\n",
      "    path = ['', '/opt/anaconda3/lib/python36.zip', '/opt/anaconda3/lib/pyt...\n",
      "    path_hooks = [<class 'zipimport.zipimporter'>, <function FileFinder.pa...\n",
      "    path_importer_cache = {'/home/whwang/.ipython': FileFinder('/home/whwa...\n",
      "    platform = 'linux'\n",
      "    prefix = '/opt/anaconda3'\n",
      "    ps1 = 'In : '\n",
      "    ps2 = '...: '\n",
      "    ps3 = 'Out: '\n",
      "    stderr = <ipykernel.iostream.OutStream object>\n",
      "    stdin = <_io.TextIOWrapper name='<stdin>' mode='r' encoding='UTF-8'>\n",
      "    stdout = <ipykernel.iostream.OutStream object>\n",
      "    thread_info = sys.thread_info(name='pthread', lock='semaphore', versio...\n",
      "    version = '3.6.4 |Anaconda, Inc.| (default, Jan 16 2018, 18:10:19) \\n[...\n",
      "    version_info = sys.version_info(major=3, minor=6, micro=4, releaseleve...\n",
      "    warnoptions = []\n",
      "\n",
      "FILE\n",
      "    (built-in)\n",
      "\n",
      "\n"
     ]
    }
   ],
   "source": [
    "help(sys)"
   ]
  },
  {
   "cell_type": "markdown",
   "metadata": {
    "slideshow": {
     "slide_type": "slide"
    }
   },
   "source": [
    "使用`dir()`函数列出模块成员属性。"
   ]
  },
  {
   "cell_type": "code",
   "execution_count": 22,
   "metadata": {
    "slideshow": {
     "slide_type": "slide"
    }
   },
   "outputs": [
    {
     "name": "stdout",
     "output_type": "stream",
     "text": [
      "['__displayhook__', '__doc__', '__excepthook__', '__interactivehook__', '__loader__', '__name__', '__package__', '__spec__', '__stderr__', '__stdin__', '__stdout__', '_clear_type_cache', '_current_frames', '_debugmallocstats', '_getframe', '_git', '_home', '_xoptions', 'abiflags', 'api_version', 'argv', 'base_exec_prefix', 'base_prefix', 'builtin_module_names', 'byteorder', 'call_tracing', 'callstats', 'copyright', 'displayhook', 'dont_write_bytecode', 'exc_info', 'excepthook', 'exec_prefix', 'executable', 'exit', 'flags', 'float_info', 'float_repr_style', 'get_asyncgen_hooks', 'get_coroutine_wrapper', 'getallocatedblocks', 'getcheckinterval', 'getdefaultencoding', 'getdlopenflags', 'getfilesystemencodeerrors', 'getfilesystemencoding', 'getprofile', 'getrecursionlimit', 'getrefcount', 'getsizeof', 'getswitchinterval', 'gettrace', 'hash_info', 'hexversion', 'implementation', 'int_info', 'intern', 'is_finalizing', 'last_traceback', 'last_type', 'last_value', 'maxsize', 'maxunicode', 'meta_path', 'modules', 'path', 'path_hooks', 'path_importer_cache', 'platform', 'prefix', 'ps1', 'ps2', 'ps3', 'set_asyncgen_hooks', 'set_coroutine_wrapper', 'setcheckinterval', 'setdlopenflags', 'setprofile', 'setrecursionlimit', 'setswitchinterval', 'settrace', 'stderr', 'stdin', 'stdout', 'thread_info', 'version', 'version_info', 'warnoptions']\n"
     ]
    }
   ],
   "source": [
    "print(dir(sys))"
   ]
  },
  {
   "cell_type": "markdown",
   "metadata": {
    "slideshow": {
     "slide_type": "slide"
    }
   },
   "source": [
    "## 常用示例"
   ]
  },
  {
   "cell_type": "markdown",
   "metadata": {
    "slideshow": {
     "slide_type": "slide"
    }
   },
   "source": [
    "### 编译器信息\n",
    "\n",
    "`sys`提供一些常数和方法，可以查看Python编译器编译信息。"
   ]
  },
  {
   "cell_type": "code",
   "execution_count": 55,
   "metadata": {
    "slideshow": {
     "slide_type": "slide"
    }
   },
   "outputs": [
    {
     "name": "stdout",
     "output_type": "stream",
     "text": [
      "sys.version      = '3.6.4 |Anaconda, Inc.| (default, Jan 16 2018, 18:10:19) \\n[GCC 7.2.0]'\n",
      "sys.version_info = sys.version_info(major=3, minor=6, micro=4, releaselevel='final', serial=0)\n",
      "sys.hexversion   = 0x30604f0\n",
      "sys.api_version  = 1013\n"
     ]
    }
   ],
   "source": [
    "# 版本信息\n",
    "print('sys.version      =', repr(sys.version))\n",
    "print('sys.version_info =', sys.version_info)\n",
    "print('sys.hexversion   =', hex(sys.hexversion))\n",
    "print('sys.api_version  =', sys.api_version)"
   ]
  },
  {
   "cell_type": "code",
   "execution_count": 56,
   "metadata": {
    "slideshow": {
     "slide_type": "-"
    }
   },
   "outputs": [
    {
     "name": "stdout",
     "output_type": "stream",
     "text": [
      "('sys.version      =', \"'2.7.5 (default, Aug  4 2017, 00:39:18) \\\\n[GCC 4.8.5 20150623 (Red Hat 4.8.5-16)]'\")\n",
      "('sys.version_info =', sys.version_info(major=2, minor=7, micro=5, releaselevel='final', serial=0))\n",
      "('sys.hexversion   =', '0x20705f0')\n",
      "('sys.api_version  =', 1013)\n"
     ]
    }
   ],
   "source": [
    "%%python2\n",
    "import sys\n",
    "print('sys.version      =', repr(sys.version))\n",
    "print('sys.version_info =', sys.version_info)\n",
    "print('sys.hexversion   =', hex(sys.hexversion))\n",
    "print('sys.api_version  =', sys.api_version)"
   ]
  },
  {
   "cell_type": "code",
   "execution_count": 50,
   "metadata": {
    "slideshow": {
     "slide_type": "slide"
    }
   },
   "outputs": [
    {
     "name": "stdout",
     "output_type": "stream",
     "text": [
      "sys.flags(debug=0, inspect=0, interactive=0, optimize=0, dont_write_bytecode=0, no_user_site=0, no_site=0, ignore_environment=0, verbose=0, bytes_warning=0, quiet=0, hash_randomization=1, isolated=0)\n"
     ]
    }
   ],
   "source": [
    "# Python运行时选项\n",
    "print(sys.flags)"
   ]
  },
  {
   "cell_type": "code",
   "execution_count": 52,
   "metadata": {
    "slideshow": {
     "slide_type": "slide"
    }
   },
   "outputs": [
    {
     "name": "stdout",
     "output_type": "stream",
     "text": [
      "缺省编码     : utf-8\n",
      "文件系统编码: utf-8\n"
     ]
    }
   ],
   "source": [
    "# Unicode编码\n",
    "print('缺省编码     :', sys.getdefaultencoding())\n",
    "print('文件系统编码:', sys.getfilesystemencoding())"
   ]
  },
  {
   "cell_type": "code",
   "execution_count": 54,
   "metadata": {
    "slideshow": {
     "slide_type": "-"
    }
   },
   "outputs": [
    {
     "name": "stdout",
     "output_type": "stream",
     "text": [
      "ascii\n",
      "UTF-8\n"
     ]
    }
   ],
   "source": [
    "%%python2\n",
    "import sys\n",
    "print(sys.getdefaultencoding())\n",
    "print(sys.getfilesystemencoding())"
   ]
  },
  {
   "cell_type": "code",
   "execution_count": 58,
   "metadata": {
    "slideshow": {
     "slide_type": "slide"
    }
   },
   "outputs": [
    {
     "name": "stdout",
     "output_type": "stream",
     "text": [
      "In : \n",
      "...: \n",
      "Out: \n"
     ]
    }
   ],
   "source": [
    "# 交互提示符\n",
    "print(sys.ps1)\n",
    "print(sys.ps2)\n",
    "print(sys.ps3)"
   ]
  },
  {
   "cell_type": "code",
   "execution_count": 60,
   "metadata": {
    "slideshow": {
     "slide_type": "slide"
    }
   },
   "outputs": [
    {
     "name": "stdout",
     "output_type": "stream",
     "text": [
      "Python解释器: /opt/anaconda3/bin/python\n",
      "安装路径: /opt/anaconda3\n"
     ]
    }
   ],
   "source": [
    "# Python解释器位置\n",
    "print('Python解释器:', sys.executable)\n",
    "print('安装路径:', sys.prefix )"
   ]
  },
  {
   "cell_type": "code",
   "execution_count": 62,
   "metadata": {
    "slideshow": {
     "slide_type": "-"
    }
   },
   "outputs": [
    {
     "name": "stdout",
     "output_type": "stream",
     "text": [
      "/usr/bin/python2\n",
      "/usr\n"
     ]
    }
   ],
   "source": [
    "%%python2\n",
    "import sys\n",
    "print(sys.executable)\n",
    "print(sys.prefix )"
   ]
  },
  {
   "cell_type": "markdown",
   "metadata": {
    "slideshow": {
     "slide_type": "slide"
    }
   },
   "source": [
    "### 运行时信息\n",
    "\n",
    "`sys`提供一些常数和方法，可以查看Python运行时信息。"
   ]
  },
  {
   "cell_type": "code",
   "execution_count": 63,
   "metadata": {
    "slideshow": {
     "slide_type": "slide"
    }
   },
   "outputs": [
    {
     "name": "stdout",
     "output_type": "stream",
     "text": [
      "程序命令行参数: ['/opt/anaconda3/lib/python3.6/site-packages/ipykernel_launcher.py', '-f', '/home/whwang/.local/share/jupyter/runtime/kernel-2c4d5e65-877b-45db-8111-86906b1cf5e5.json']\n"
     ]
    }
   ],
   "source": [
    "# 程序命令行\n",
    "print('程序命令行参数:', sys.argv)"
   ]
  },
  {
   "cell_type": "code",
   "execution_count": 64,
   "metadata": {
    "slideshow": {
     "slide_type": "slide"
    }
   },
   "outputs": [
    {
     "data": {
      "text/plain": [
       "(<_io.TextIOWrapper name='<stdin>' mode='r' encoding='UTF-8'>,\n",
       " <ipykernel.iostream.OutStream at 0x7efd79147b00>,\n",
       " <ipykernel.iostream.OutStream at 0x7efd791477b8>)"
      ]
     },
     "execution_count": 64,
     "metadata": {},
     "output_type": "execute_result"
    }
   ],
   "source": [
    "# 标准输入、输出、错误\n",
    "sys.stdin, sys.stdout, sys.stderr"
   ]
  },
  {
   "cell_type": "markdown",
   "metadata": {
    "slideshow": {
     "slide_type": "slide"
    }
   },
   "source": [
    "### 模块和导入信息\n",
    "\n",
    "`sys`提供常数和方法，用于访问模块以及导入情况。"
   ]
  },
  {
   "cell_type": "code",
   "execution_count": 65,
   "metadata": {
    "slideshow": {
     "slide_type": "slide"
    }
   },
   "outputs": [
    {
     "name": "stdout",
     "output_type": "stream",
     "text": [
      "['IPython', 'IPython.core', 'IPython.core.alias', 'IPython.core.application', 'IPython.core.autocall', 'IPython.core.builtin_trap', 'IPython.core.compilerop', 'IPython.core.completer', 'IPython.core.completerlib', 'IPython.core.crashhandler', 'IPython.core.debugger', 'IPython.core.display', 'IPython.core.display_trap', 'IPython.core.displayhook', 'IPython.core.displaypub', 'IPython.core.error', 'IPython.core.events', 'IPython.core.excolors', 'IPython.core.extensions', 'IPython.core.formatters', 'IPython.core.getipython', 'IPython.core.history', 'IPython.core.hooks', 'IPython.core.inputsplitter', 'IPython.core.inputtransformer', 'IPython.core.interactiveshell', 'IPython.core.latex_symbols', 'IPython.core.logger', 'IPython.core.macro', 'IPython.core.magic', 'IPython.core.magic_arguments', 'IPython.core.magics', 'IPython.core.magics.auto', 'IPython.core.magics.basic', 'IPython.core.magics.code', 'IPython.core.magics.config', 'IPython.core.magics.display', 'IPython.core.magics.execution', 'IPython.core.magics.extension', 'IPython.core.magics.history', 'IPython.core.magics.logging', 'IPython.core.magics.namespace', 'IPython.core.magics.osm', 'IPython.core.magics.pylab', 'IPython.core.magics.script', 'IPython.core.oinspect', 'IPython.core.page', 'IPython.core.payload', 'IPython.core.payloadpage', 'IPython.core.prefilter', 'IPython.core.profiledir', 'IPython.core.pylabtools', 'IPython.core.release', 'IPython.core.shellapp', 'IPython.core.splitinput', 'IPython.core.ultratb', 'IPython.core.usage', 'IPython.display', 'IPython.extensions', 'IPython.extensions.storemagic', 'IPython.lib', 'IPython.lib.backgroundjobs', 'IPython.lib.clipboard', 'IPython.lib.display', 'IPython.lib.pretty', 'IPython.lib.security', 'IPython.paths', 'IPython.terminal', 'IPython.terminal.debugger', 'IPython.terminal.embed', 'IPython.terminal.interactiveshell', 'IPython.terminal.ipapp', 'IPython.terminal.magics', 'IPython.terminal.prompts', 'IPython.terminal.pt_inputhooks', 'IPython.terminal.ptutils', 'IPython.terminal.shortcuts', 'IPython.testing', 'IPython.testing.skipdoctest', 'IPython.utils', 'IPython.utils.PyColorize', 'IPython.utils._process_common', 'IPython.utils._process_posix', 'IPython.utils._sysinfo', 'IPython.utils.capture', 'IPython.utils.colorable', 'IPython.utils.coloransi', 'IPython.utils.contexts', 'IPython.utils.data', 'IPython.utils.decorators', 'IPython.utils.dir2', 'IPython.utils.encoding', 'IPython.utils.frame', 'IPython.utils.generics', 'IPython.utils.importstring', 'IPython.utils.io', 'IPython.utils.ipstruct', 'IPython.utils.module_paths', 'IPython.utils.openpy', 'IPython.utils.path', 'IPython.utils.process', 'IPython.utils.py3compat', 'IPython.utils.sentinel', 'IPython.utils.strdispatch', 'IPython.utils.sysinfo', 'IPython.utils.syspathcontext', 'IPython.utils.tempdir', 'IPython.utils.terminal', 'IPython.utils.text', 'IPython.utils.timing', 'IPython.utils.tokenize2', 'IPython.utils.tokenutil', 'IPython.utils.wildcard', 'PIL', 'PIL.Image', 'PIL.ImageMode', 'PIL._binary', 'PIL._imaging', 'PIL._util', 'PIL.version', '__future__', '__main__', '__mp_main__', '_ast', '_asyncio', '_bisect', '_blake2', '_bootlocale', '_bz2', '_codecs', '_collections', '_collections_abc', '_compat_pickle', '_compression', '_csv', '_ctypes', '_curses', '_cython_0_27_3', '_datetime', '_decimal', '_frozen_importlib', '_frozen_importlib_external', '_functools', '_hashlib', '_heapq', '_imp', '_io', '_json', '_locale', '_lsprof', '_lzma', '_multiprocessing', '_opcode', '_operator', '_pickle', '_posixsubprocess', '_random', '_sha3', '_signal', '_sitebuiltins', '_socket', '_sqlite3', '_sre', '_ssl', '_stat', '_string', '_strptime', '_struct', '_sysconfigdata_m_linux_x86_64-linux-gnu', '_testcapi', '_thread', '_warnings', '_weakref', '_weakrefset', 'abc', 'argparse', 'array', 'ast', 'asyncio', 'asyncio.base_events', 'asyncio.base_futures', 'asyncio.base_subprocess', 'asyncio.base_tasks', 'asyncio.compat', 'asyncio.constants', 'asyncio.coroutines', 'asyncio.events', 'asyncio.futures', 'asyncio.locks', 'asyncio.log', 'asyncio.protocols', 'asyncio.queues', 'asyncio.selector_events', 'asyncio.sslproto', 'asyncio.streams', 'asyncio.subprocess', 'asyncio.tasks', 'asyncio.transports', 'asyncio.unix_events', 'atexit', 'babel', 'babel._compat', 'babel.core', 'babel.dates', 'babel.localedata', 'babel.localtime', 'babel.localtime._unix', 'babel.messages', 'babel.messages.catalog', 'babel.messages.mofile', 'babel.messages.plurals', 'babel.messages.pofile', 'babel.plural', 'babel.util', 'base64', 'bdb', 'binascii', 'bisect', 'builtins', 'bz2', 'cProfile', 'calendar', 'cffi', 'cffi.api', 'cffi.error', 'cffi.lock', 'cffi.model', 'cgi', 'cmd', 'code', 'codecs', 'codeop', 'collections', 'collections.abc', 'colorama', 'colorama.ansi', 'colorama.ansitowin32', 'colorama.initialise', 'colorama.win32', 'colorama.winterm', 'concurrent', 'concurrent.futures', 'concurrent.futures._base', 'concurrent.futures.process', 'concurrent.futures.thread', 'configparser', 'contextlib', 'copy', 'copyreg', 'csv', 'ctypes', 'ctypes._endian', 'ctypes.util', 'curses', 'cython_runtime', 'datetime', 'dateutil', 'dateutil._common', 'dateutil._version', 'dateutil.parser', 'dateutil.parser._parser', 'dateutil.parser.isoparser', 'dateutil.relativedelta', 'dateutil.tz', 'dateutil.tz._common', 'dateutil.tz._factories', 'dateutil.tz.tz', 'decimal', 'decorator', 'difflib', 'dis', 'distutils', 'distutils.version', 'docutils', 'docutils._compat', 'docutils.core', 'docutils.frontend', 'docutils.io', 'docutils.languages', 'docutils.nodes', 'docutils.parsers', 'docutils.parsers.rst', 'docutils.parsers.rst.directives', 'docutils.parsers.rst.directives.admonitions', 'docutils.parsers.rst.directives.body', 'docutils.parsers.rst.directives.html', 'docutils.parsers.rst.directives.images', 'docutils.parsers.rst.directives.misc', 'docutils.parsers.rst.directives.tables', 'docutils.parsers.rst.languages', 'docutils.parsers.rst.languages.en', 'docutils.parsers.rst.roles', 'docutils.parsers.rst.states', 'docutils.parsers.rst.tableparser', 'docutils.readers', 'docutils.readers.doctree', 'docutils.readers.standalone', 'docutils.statemachine', 'docutils.transforms', 'docutils.transforms.components', 'docutils.transforms.frontmatter', 'docutils.transforms.misc', 'docutils.transforms.parts', 'docutils.transforms.references', 'docutils.transforms.universal', 'docutils.utils', 'docutils.utils.code_analyzer', 'docutils.utils.error_reporting', 'docutils.utils.punctuation_chars', 'docutils.utils.roman', 'docutils.utils.smartquotes', 'docutils.utils.urischemes', 'docutils.writers', 'email', 'email._encoded_words', 'email._parseaddr', 'email._policybase', 'email.base64mime', 'email.charset', 'email.encoders', 'email.errors', 'email.feedparser', 'email.header', 'email.iterators', 'email.message', 'email.parser', 'email.quoprimime', 'email.utils', 'encodings', 'encodings.aliases', 'encodings.latin_1', 'encodings.unicode_internal', 'encodings.utf_8', 'enum', 'errno', 'faulthandler', 'fcntl', 'filecmp', 'fnmatch', 'functools', 'gc', 'genericpath', 'getopt', 'getpass', 'gettext', 'glob', 'grp', 'hashlib', 'heapq', 'hmac', 'html', 'html.entities', 'http', 'http.client', 'imp', 'importlib', 'importlib._bootstrap', 'importlib._bootstrap_external', 'importlib.abc', 'importlib.machinery', 'importlib.util', 'inspect', 'io', 'ipaddress', 'ipykernel', 'ipykernel._version', 'ipykernel.codeutil', 'ipykernel.comm', 'ipykernel.comm.comm', 'ipykernel.comm.manager', 'ipykernel.connect', 'ipykernel.datapub', 'ipykernel.displayhook', 'ipykernel.heartbeat', 'ipykernel.iostream', 'ipykernel.ipkernel', 'ipykernel.jsonutil', 'ipykernel.kernelapp', 'ipykernel.kernelbase', 'ipykernel.parentpoller', 'ipykernel.pickleutil', 'ipykernel.serialize', 'ipykernel.zmqshell', 'ipython_genutils', 'ipython_genutils._version', 'ipython_genutils.encoding', 'ipython_genutils.importstring', 'ipython_genutils.path', 'ipython_genutils.py3compat', 'ipython_genutils.text', 'ipywidgets', 'ipywidgets._version', 'ipywidgets.widgets', 'ipywidgets.widgets.docutils', 'ipywidgets.widgets.domwidget', 'ipywidgets.widgets.interaction', 'ipywidgets.widgets.trait_types', 'ipywidgets.widgets.valuewidget', 'ipywidgets.widgets.widget', 'ipywidgets.widgets.widget_bool', 'ipywidgets.widgets.widget_box', 'ipywidgets.widgets.widget_button', 'ipywidgets.widgets.widget_color', 'ipywidgets.widgets.widget_controller', 'ipywidgets.widgets.widget_core', 'ipywidgets.widgets.widget_date', 'ipywidgets.widgets.widget_description', 'ipywidgets.widgets.widget_float', 'ipywidgets.widgets.widget_image', 'ipywidgets.widgets.widget_int', 'ipywidgets.widgets.widget_layout', 'ipywidgets.widgets.widget_link', 'ipywidgets.widgets.widget_output', 'ipywidgets.widgets.widget_selection', 'ipywidgets.widgets.widget_selectioncontainer', 'ipywidgets.widgets.widget_string', 'ipywidgets.widgets.widget_style', 'itertools', 'jedi', 'jedi._compatibility', 'jedi.api', 'jedi.api.classes', 'jedi.api.completion', 'jedi.api.helpers', 'jedi.api.interpreter', 'jedi.api.keywords', 'jedi.cache', 'jedi.common', 'jedi.common.context', 'jedi.debug', 'jedi.evaluate', 'jedi.evaluate.analysis', 'jedi.evaluate.arguments', 'jedi.evaluate.base_context', 'jedi.evaluate.cache', 'jedi.evaluate.compiled', 'jedi.evaluate.compiled.fake', 'jedi.evaluate.compiled.getattr_static', 'jedi.evaluate.compiled.mixed', 'jedi.evaluate.context', 'jedi.evaluate.context.function', 'jedi.evaluate.context.instance', 'jedi.evaluate.context.iterable', 'jedi.evaluate.context.klass', 'jedi.evaluate.context.module', 'jedi.evaluate.docstrings', 'jedi.evaluate.filters', 'jedi.evaluate.finder', 'jedi.evaluate.flow_analysis', 'jedi.evaluate.helpers', 'jedi.evaluate.imports', 'jedi.evaluate.lazy_context', 'jedi.evaluate.param', 'jedi.evaluate.parser_cache', 'jedi.evaluate.pep0484', 'jedi.evaluate.project', 'jedi.evaluate.recursion', 'jedi.evaluate.site', 'jedi.evaluate.syntax_tree', 'jedi.evaluate.sys_path', 'jedi.evaluate.usages', 'jedi.evaluate.utils', 'jedi.parser_utils', 'jedi.settings', 'jinja2', 'jinja2._compat', 'jinja2.asyncfilters', 'jinja2.asyncsupport', 'jinja2.bccache', 'jinja2.compiler', 'jinja2.defaults', 'jinja2.environment', 'jinja2.exceptions', 'jinja2.filters', 'jinja2.idtracking', 'jinja2.lexer', 'jinja2.loaders', 'jinja2.nodes', 'jinja2.optimizer', 'jinja2.parser', 'jinja2.runtime', 'jinja2.sandbox', 'jinja2.tests', 'jinja2.utils', 'jinja2.visitor', 'json', 'json.decoder', 'json.encoder', 'json.scanner', 'jupyter_client', 'jupyter_client._version', 'jupyter_client.adapter', 'jupyter_client.blocking', 'jupyter_client.blocking.channels', 'jupyter_client.blocking.client', 'jupyter_client.channels', 'jupyter_client.channelsabc', 'jupyter_client.client', 'jupyter_client.clientabc', 'jupyter_client.connect', 'jupyter_client.jsonutil', 'jupyter_client.kernelspec', 'jupyter_client.launcher', 'jupyter_client.localinterfaces', 'jupyter_client.manager', 'jupyter_client.managerabc', 'jupyter_client.multikernelmanager', 'jupyter_client.session', 'jupyter_core', 'jupyter_core.paths', 'jupyter_core.version', 'keyword', 'linecache', 'locale', 'logging', 'logging.handlers', 'lzma', 'markupsafe', 'markupsafe._compat', 'markupsafe._speedups', 'marshal', 'math', 'mimetypes', 'mpl_toolkits', 'multiprocessing', 'multiprocessing.connection', 'multiprocessing.context', 'multiprocessing.process', 'multiprocessing.reduction', 'multiprocessing.util', 'ntpath', 'numbers', 'numpydoc', 'numpydoc.docscrape', 'numpydoc.docscrape_sphinx', 'numpydoc.numpydoc', 'opcode', 'operator', 'optparse', 'os', 'os.path', 'parso', 'parso._compatibility', 'parso.cache', 'parso.grammar', 'parso.normalizer', 'parso.parser', 'parso.pgen2', 'parso.pgen2.grammar', 'parso.pgen2.parse', 'parso.pgen2.pgen', 'parso.python', 'parso.python.diff', 'parso.python.errors', 'parso.python.fstring', 'parso.python.parser', 'parso.python.pep8', 'parso.python.prefix', 'parso.python.token', 'parso.python.tokenize', 'parso.python.tree', 'parso.tree', 'parso.utils', 'pathlib', 'pdb', 'pexpect', 'pexpect.exceptions', 'pexpect.expect', 'pexpect.pty_spawn', 'pexpect.run', 'pexpect.spawnbase', 'pexpect.utils', 'pickle', 'pickleshare', 'pkg_resources', 'pkg_resources._vendor', 'pkg_resources._vendor.packaging.__about__', 'pkg_resources._vendor.six', 'pkg_resources._vendor.six.moves', 'pkg_resources.extern', 'pkg_resources.extern.appdirs', 'pkg_resources.extern.packaging', 'pkg_resources.extern.packaging._compat', 'pkg_resources.extern.packaging._structures', 'pkg_resources.extern.packaging.markers', 'pkg_resources.extern.packaging.requirements', 'pkg_resources.extern.packaging.specifiers', 'pkg_resources.extern.packaging.version', 'pkg_resources.extern.pyparsing', 'pkg_resources.extern.six', 'pkg_resources.extern.six.moves', 'pkg_resources.extern.six.moves.urllib', 'pkg_resources.py31compat', 'pkgutil', 'platform', 'plistlib', 'posix', 'posixpath', 'pprint', 'profile', 'prompt_toolkit', 'prompt_toolkit.application', 'prompt_toolkit.auto_suggest', 'prompt_toolkit.buffer', 'prompt_toolkit.buffer_mapping', 'prompt_toolkit.cache', 'prompt_toolkit.clipboard', 'prompt_toolkit.clipboard.base', 'prompt_toolkit.clipboard.in_memory', 'prompt_toolkit.completion', 'prompt_toolkit.document', 'prompt_toolkit.enums', 'prompt_toolkit.eventloop', 'prompt_toolkit.eventloop.base', 'prompt_toolkit.eventloop.callbacks', 'prompt_toolkit.filters', 'prompt_toolkit.filters.base', 'prompt_toolkit.filters.cli', 'prompt_toolkit.filters.types', 'prompt_toolkit.filters.utils', 'prompt_toolkit.history', 'prompt_toolkit.input', 'prompt_toolkit.interface', 'prompt_toolkit.key_binding', 'prompt_toolkit.key_binding.bindings', 'prompt_toolkit.key_binding.bindings.basic', 'prompt_toolkit.key_binding.bindings.completion', 'prompt_toolkit.key_binding.bindings.emacs', 'prompt_toolkit.key_binding.bindings.named_commands', 'prompt_toolkit.key_binding.bindings.scroll', 'prompt_toolkit.key_binding.bindings.vi', 'prompt_toolkit.key_binding.defaults', 'prompt_toolkit.key_binding.digraphs', 'prompt_toolkit.key_binding.input_processor', 'prompt_toolkit.key_binding.manager', 'prompt_toolkit.key_binding.registry', 'prompt_toolkit.key_binding.vi_state', 'prompt_toolkit.keys', 'prompt_toolkit.layout', 'prompt_toolkit.layout.containers', 'prompt_toolkit.layout.controls', 'prompt_toolkit.layout.dimension', 'prompt_toolkit.layout.lexers', 'prompt_toolkit.layout.margins', 'prompt_toolkit.layout.menus', 'prompt_toolkit.layout.mouse_handlers', 'prompt_toolkit.layout.processors', 'prompt_toolkit.layout.prompt', 'prompt_toolkit.layout.screen', 'prompt_toolkit.layout.toolbars', 'prompt_toolkit.layout.utils', 'prompt_toolkit.mouse_events', 'prompt_toolkit.output', 'prompt_toolkit.reactive', 'prompt_toolkit.renderer', 'prompt_toolkit.search_state', 'prompt_toolkit.selection', 'prompt_toolkit.shortcuts', 'prompt_toolkit.styles', 'prompt_toolkit.styles.base', 'prompt_toolkit.styles.defaults', 'prompt_toolkit.styles.from_dict', 'prompt_toolkit.styles.from_pygments', 'prompt_toolkit.styles.utils', 'prompt_toolkit.terminal', 'prompt_toolkit.terminal.vt100_input', 'prompt_toolkit.terminal.vt100_output', 'prompt_toolkit.token', 'prompt_toolkit.utils', 'prompt_toolkit.validation', 'pstats', 'pty', 'ptyprocess', 'ptyprocess.ptyprocess', 'ptyprocess.util', 'pwd', 'pydoc', 'pydoc_data', 'pydoc_data.topics', 'pyexpat', 'pyexpat.errors', 'pyexpat.model', 'pygments', 'pygments.filter', 'pygments.filters', 'pygments.formatter', 'pygments.formatters', 'pygments.formatters._mapping', 'pygments.formatters.html', 'pygments.lexer', 'pygments.lexers', 'pygments.lexers._mapping', 'pygments.lexers.python', 'pygments.modeline', 'pygments.plugin', 'pygments.regexopt', 'pygments.style', 'pygments.styles', 'pygments.styles.default', 'pygments.token', 'pygments.unistring', 'pygments.util', 'pympler', 'pympler.asizeof', 'pytz', 'pytz.exceptions', 'pytz.lazy', 'pytz.tzfile', 'pytz.tzinfo', 'queue', 'quopri', 'random', 're', 'reprlib', 'resource', 'runpy', 'select', 'selectors', 'shlex', 'shutil', 'signal', 'simplegeneric', 'site', 'six', 'six.moves', 'six.moves.urllib', 'six.moves.urllib.parse', 'socket', 'sphinx', 'sphinx.addnodes', 'sphinx.application', 'sphinx.config', 'sphinx.deprecation', 'sphinx.directives', 'sphinx.directives.code', 'sphinx.directives.other', 'sphinx.directives.patches', 'sphinx.domains', 'sphinx.domains.c', 'sphinx.domains.python', 'sphinx.domains.std', 'sphinx.environment', 'sphinx.environment.adapters', 'sphinx.environment.adapters.indexentries', 'sphinx.environment.adapters.toctree', 'sphinx.errors', 'sphinx.events', 'sphinx.extension', 'sphinx.io', 'sphinx.jinja2glue', 'sphinx.locale', 'sphinx.registry', 'sphinx.roles', 'sphinx.transforms', 'sphinx.transforms.compact_bullet_list', 'sphinx.transforms.i18n', 'sphinx.util', 'sphinx.util.console', 'sphinx.util.docfields', 'sphinx.util.docutils', 'sphinx.util.fileutil', 'sphinx.util.i18n', 'sphinx.util.jsonimpl', 'sphinx.util.logging', 'sphinx.util.matching', 'sphinx.util.nodes', 'sphinx.util.osutil', 'sphinx.util.parallel', 'sphinx.util.pycompat', 'sphinx.util.smartypants', 'sphinx.util.tags', 'sphinx.util.websupport', 'sphinx.versioning', 'sphinxcontrib', 'sphinxcontrib.websupport', 'sphinxcontrib.websupport.core', 'sphinxcontrib.websupport.errors', 'sphinxcontrib.websupport.search', 'sphinxcontrib.websupport.storage', 'sphinxcontrib.websupport.utils', 'sphinxcontrib.websupport.version', 'sqlite3', 'sqlite3.dbapi2', 'sre_compile', 'sre_constants', 'sre_parse', 'ssl', 'stat', 'storemagic', 'string', 'struct', 'subprocess', 'sys', 'sysconfig', 'tempfile', 'termios', 'textwrap', 'threading', 'time', 'timeit', 'token', 'tokenize', 'tornado', 'tornado.concurrent', 'tornado.escape', 'tornado.gen', 'tornado.ioloop', 'tornado.log', 'tornado.platform', 'tornado.platform.asyncio', 'tornado.platform.auto', 'tornado.platform.common', 'tornado.platform.interface', 'tornado.platform.posix', 'tornado.speedups', 'tornado.stack_context', 'tornado.util', 'traceback', 'traitlets', 'traitlets._version', 'traitlets.config', 'traitlets.config.application', 'traitlets.config.configurable', 'traitlets.config.loader', 'traitlets.log', 'traitlets.traitlets', 'traitlets.utils', 'traitlets.utils.bunch', 'traitlets.utils.getargspec', 'traitlets.utils.importstring', 'traitlets.utils.sentinel', 'tty', 'types', 'typing', 'typing.io', 'typing.re', 'unicodedata', 'urllib', 'urllib.error', 'urllib.parse', 'urllib.request', 'urllib.response', 'uu', 'uuid', 'warnings', 'wcwidth', 'wcwidth.table_wide', 'wcwidth.table_zero', 'wcwidth.wcwidth', 'weakref', 'xml', 'xml.parsers', 'xml.parsers.expat', 'xml.parsers.expat.errors', 'xml.parsers.expat.model', 'zipfile', 'zipimport', 'zlib', 'zmq', 'zmq.backend', 'zmq.backend.cython', 'zmq.backend.cython._device', 'zmq.backend.cython._poll', 'zmq.backend.cython._version', 'zmq.backend.cython.constants', 'zmq.backend.cython.context', 'zmq.backend.cython.error', 'zmq.backend.cython.message', 'zmq.backend.cython.socket', 'zmq.backend.cython.utils', 'zmq.backend.select', 'zmq.error', 'zmq.eventloop', 'zmq.eventloop.ioloop', 'zmq.eventloop.zmqstream', 'zmq.sugar', 'zmq.sugar.attrsettr', 'zmq.sugar.constants', 'zmq.sugar.context', 'zmq.sugar.frame', 'zmq.sugar.poll', 'zmq.sugar.socket', 'zmq.sugar.stopwatch', 'zmq.sugar.tracker', 'zmq.sugar.version', 'zmq.utils', 'zmq.utils.constant_names', 'zmq.utils.jsonapi', 'zmq.utils.strtypes']\n"
     ]
    }
   ],
   "source": [
    "# 已导入模块\n",
    "names = sorted(sys.modules.keys())\n",
    "print(names)"
   ]
  },
  {
   "cell_type": "code",
   "execution_count": 20,
   "metadata": {
    "slideshow": {
     "slide_type": "slide"
    }
   },
   "outputs": [
    {
     "name": "stdout",
     "output_type": "stream",
     "text": [
      "['_ast', '_codecs', '_collections', '_functools', '_imp', '_io', '_locale', '_operator', '_signal', '_sre', '_stat', '_string', '_symtable', '_thread', '_tracemalloc', '_warnings', '_weakref', 'atexit', 'builtins', 'errno', 'faulthandler', 'gc', 'itertools', 'marshal', 'posix', 'pwd', 'sys', 'time', 'xxsubtype', 'zipimport']\n"
     ]
    }
   ],
   "source": [
    "# 内置模块\n",
    "names = sorted(sys.builtin_module_names)\n",
    "print(names)"
   ]
  },
  {
   "cell_type": "code",
   "execution_count": 66,
   "metadata": {
    "slideshow": {
     "slide_type": "slide"
    }
   },
   "outputs": [
    {
     "name": "stdout",
     "output_type": "stream",
     "text": [
      "\n",
      "/opt/anaconda3/lib/python36.zip\n",
      "/opt/anaconda3/lib/python3.6\n",
      "/opt/anaconda3/lib/python3.6/lib-dynload\n",
      "/home/whwang/.local/lib/python3.6/site-packages\n",
      "/opt/anaconda3/lib/python3.6/site-packages\n",
      "/opt/anaconda3/lib/python3.6/site-packages/Mako-1.0.7-py3.6.egg\n",
      "/opt/anaconda3/lib/python3.6/site-packages/pdfminer.six-20170720-py3.6.egg\n",
      "/opt/anaconda3/lib/python3.6/site-packages/IPython/extensions\n",
      "/home/whwang/.ipython\n"
     ]
    }
   ],
   "source": [
    "# 导入路径\n",
    "for d in sys.path:\n",
    "    print(d)"
   ]
  },
  {
   "cell_type": "markdown",
   "metadata": {
    "slideshow": {
     "slide_type": "slide"
    }
   },
   "source": [
    "### 内存管理与限制信息\n",
    "\n",
    "`sys`提供常数和方法，用于查看对象内存情况以及一些数据限制。"
   ]
  },
  {
   "cell_type": "code",
   "execution_count": 67,
   "metadata": {
    "slideshow": {
     "slide_type": "slide"
    }
   },
   "outputs": [
    {
     "name": "stdout",
     "output_type": "stream",
     "text": [
      "2 2 5754 2\n"
     ]
    }
   ],
   "source": [
    "a = []\n",
    "b = []\n",
    "c = 1\n",
    "d = 10**100\n",
    "print(sys.getrefcount(a), sys.getrefcount(b), sys.getrefcount(c), sys.getrefcount(d))"
   ]
  },
  {
   "cell_type": "code",
   "execution_count": 68,
   "metadata": {
    "slideshow": {
     "slide_type": "slide"
    }
   },
   "outputs": [
    {
     "data": {
      "text/plain": [
       "(28, 80)"
      ]
     },
     "execution_count": 68,
     "metadata": {},
     "output_type": "execute_result"
    }
   ],
   "source": [
    "# 对象内存大小\n",
    "sys.getsizeof(1), sys.getsizeof(sys)"
   ]
  },
  {
   "cell_type": "code",
   "execution_count": 69,
   "metadata": {
    "slideshow": {
     "slide_type": "slide"
    }
   },
   "outputs": [
    {
     "name": "stdout",
     "output_type": "stream",
     "text": [
      "3000\n"
     ]
    }
   ],
   "source": [
    "# 递归深度限制\n",
    "print(sys.getrecursionlimit())"
   ]
  },
  {
   "cell_type": "code",
   "execution_count": 70,
   "metadata": {
    "slideshow": {
     "slide_type": "slide"
    }
   },
   "outputs": [
    {
     "name": "stdout",
     "output_type": "stream",
     "text": [
      "maxsize   : 9223372036854775807\n",
      "maxunicode: 1114111\n"
     ]
    }
   ],
   "source": [
    "# 数据限制\n",
    "# 列表、字典、字符串等数据最大数目\n",
    "print('maxsize   :', sys.maxsize)\n",
    "# Unicode最大值\n",
    "print('maxunicode:', sys.maxunicode)"
   ]
  },
  {
   "cell_type": "code",
   "execution_count": 39,
   "metadata": {
    "slideshow": {
     "slide_type": "slide"
    }
   },
   "outputs": [
    {
     "name": "stdout",
     "output_type": "stream",
     "text": [
      "sys.float_info(max=1.7976931348623157e+308, max_exp=1024, max_10_exp=308, min=2.2250738585072014e-308, min_exp=-1021, min_10_exp=-307, dig=15, mant_dig=53, epsilon=2.220446049250313e-16, radix=2, rounds=1)\n"
     ]
    }
   ],
   "source": [
    "# 浮点数限制信息\n",
    "print(sys.float_info)"
   ]
  },
  {
   "cell_type": "code",
   "execution_count": 41,
   "metadata": {
    "slideshow": {
     "slide_type": "slide"
    }
   },
   "outputs": [
    {
     "name": "stdout",
     "output_type": "stream",
     "text": [
      "sys.int_info(bits_per_digit=30, sizeof_digit=4)\n"
     ]
    }
   ],
   "source": [
    "# 整数限制信息\n",
    "print(sys.int_info)"
   ]
  },
  {
   "cell_type": "code",
   "execution_count": 72,
   "metadata": {
    "slideshow": {
     "slide_type": "slide"
    }
   },
   "outputs": [
    {
     "name": "stdout",
     "output_type": "stream",
     "text": [
      "little\n"
     ]
    }
   ],
   "source": [
    "# 字节顺序\n",
    "print(sys.byteorder)"
   ]
  },
  {
   "cell_type": "code",
   "execution_count": 77,
   "metadata": {
    "slideshow": {
     "slide_type": "-"
    }
   },
   "outputs": [
    {
     "data": {
      "text/plain": [
       "'0b1000000000000000'"
      ]
     },
     "execution_count": 77,
     "metadata": {},
     "output_type": "execute_result"
    }
   ],
   "source": [
    "\"\"\"\n",
    "'0b10000000, 00000000'\n",
    "'0b00000000, 10000000'\n",
    "\"\"\"\n",
    "bin(2**15)"
   ]
  },
  {
   "cell_type": "markdown",
   "metadata": {
    "slideshow": {
     "slide_type": "slide"
    }
   },
   "source": [
    "## 参考说明"
   ]
  }
 ],
 "metadata": {
  "celltoolbar": "Slideshow",
  "kernelspec": {
   "display_name": "Python 3",
   "language": "python",
   "name": "python3"
  },
  "language_info": {
   "codemirror_mode": {
    "name": "ipython",
    "version": 3
   },
   "file_extension": ".py",
   "mimetype": "text/x-python",
   "name": "python",
   "nbconvert_exporter": "python",
   "pygments_lexer": "ipython3",
   "version": "3.6.4"
  },
  "toc": {
   "base_numbering": 1,
   "nav_menu": {},
   "number_sections": true,
   "sideBar": true,
   "skip_h1_title": false,
   "title_cell": "Table of Contents",
   "title_sidebar": "Contents",
   "toc_cell": false,
   "toc_position": {},
   "toc_section_display": true,
   "toc_window_display": false
  }
 },
 "nbformat": 4,
 "nbformat_minor": 2
}
