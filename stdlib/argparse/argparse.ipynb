{
 "cells": [
  {
   "cell_type": "markdown",
   "metadata": {
    "slideshow": {
     "slide_type": "slide"
    }
   },
   "source": [
    "# argparse\n",
    "\n",
    "[`argparse`库]()是Python标准库，用来解析命令行解析，是编写友好命令行程序的重要工具之一。"
   ]
  },
  {
   "cell_type": "markdown",
   "metadata": {
    "slideshow": {
     "slide_type": "slide"
    }
   },
   "source": [
    "## 现实世界的命令\n",
    "\n",
    "> 一刀切，指比喻不考虑特殊情况，采用一种方式处理问题。"
   ]
  },
  {
   "cell_type": "markdown",
   "metadata": {
    "slideshow": {
     "slide_type": "slide"
    }
   },
   "source": [
    "## 计算机中的程序\n",
    "\n",
    "大家常常期望一个程序功能强大，使用要灵活方便，尽管很多时候是有些自相矛盾的。"
   ]
  },
  {
   "cell_type": "markdown",
   "metadata": {
    "slideshow": {
     "slide_type": "slide"
    }
   },
   "source": [
    "一个程序总归是有一定的功能，人们用程序来完成任务。通常运行程序都需要一些输入，处理完后还会有一些输出。功能多且强大，意味着面临的情况多种多样，就需要很多输入。要实现灵活方便，就需要对输入进行分析。"
   ]
  },
  {
   "cell_type": "markdown",
   "metadata": {
    "slideshow": {
     "slide_type": "slide"
    }
   },
   "source": [
    "假设有很多人会用这个程序，而且又会经常使用该程序。那么，通过分析对程序使用情况进行分析统计，对输入进行如下归类：\n",
    "1. 程序必要，用户不得更改；\n",
    "2. 不同运行环境会有所不同，确定后基本不变；\n",
    "3. 每次运行都有所不同，变化特别频繁；\n",
    "4. 变化频率介于二者之间；"
   ]
  },
  {
   "cell_type": "markdown",
   "metadata": {
    "slideshow": {
     "slide_type": "slide"
    }
   },
   "source": [
    "对于第一种情况，程序不能让用户更改。这些输入数据通常以文件的形式，在程序指定位置存储。例如在程序的当前目录下。"
   ]
  },
  {
   "cell_type": "markdown",
   "metadata": {
    "slideshow": {
     "slide_type": "slide"
    }
   },
   "source": [
    "对于第二种情况，提供可修改的配置文件。在程序第一次安装时进行配置保存即可。"
   ]
  },
  {
   "cell_type": "markdown",
   "metadata": {
    "slideshow": {
     "slide_type": "-"
    }
   },
   "source": [
    "对于第三种情况，在启动程序时，通过命令行传入即可。"
   ]
  },
  {
   "cell_type": "markdown",
   "metadata": {
    "slideshow": {
     "slide_type": "-"
    }
   },
   "source": [
    "对于第四种情况，在配置文件中进行配置，同时还可以通过命令行传入，后者会覆盖前者。"
   ]
  },
  {
   "cell_type": "markdown",
   "metadata": {
    "slideshow": {
     "slide_type": "slide"
    }
   },
   "source": [
    "本节主要介绍如何用`argparse`处理程序的命令行输出，结合后续配置文件读写`configparser`可以是实现程序的各种输入。"
   ]
  },
  {
   "cell_type": "markdown",
   "metadata": {
    "slideshow": {
     "slide_type": "slide"
    }
   },
   "source": [
    "### `sys.argv`\n",
    "\n",
    "在介绍`argparse`之前，需要介绍一下`sys.argv`。当使用Python在命令运行程序时，在命令行输入的程序名及其参数会存储在`sys.argv`中。该值是一个列表。"
   ]
  },
  {
   "cell_type": "code",
   "execution_count": 1,
   "metadata": {
    "slideshow": {
     "slide_type": "-"
    }
   },
   "outputs": [
    {
     "name": "stdout",
     "output_type": "stream",
     "text": [
      "<class 'list'>\n"
     ]
    }
   ],
   "source": [
    "import sys\n",
    "\n",
    "print(type(sys.argv))"
   ]
  },
  {
   "cell_type": "markdown",
   "metadata": {
    "slideshow": {
     "slide_type": "slide"
    }
   },
   "source": [
    "可以查看一下Jupyter Notebook中运行的kernel启动情况："
   ]
  },
  {
   "cell_type": "code",
   "execution_count": 2,
   "metadata": {
    "slideshow": {
     "slide_type": "-"
    }
   },
   "outputs": [
    {
     "data": {
      "text/plain": [
       "['/opt/anaconda3/lib/python3.6/site-packages/ipykernel_launcher.py',\n",
       " '-f',\n",
       " '/home/whwang/.local/share/jupyter/runtime/kernel-04e162e9-3a8a-4839-82a0-5db7ca8a578b.json']"
      ]
     },
     "execution_count": 2,
     "metadata": {},
     "output_type": "execute_result"
    }
   ],
   "source": [
    "sys.argv"
   ]
  },
  {
   "cell_type": "markdown",
   "metadata": {
    "slideshow": {
     "slide_type": "slide"
    }
   },
   "source": [
    "下面编写一个打印命令行参数的程序"
   ]
  },
  {
   "cell_type": "code",
   "execution_count": 3,
   "metadata": {},
   "outputs": [
    {
     "name": "stdout",
     "output_type": "stream",
     "text": [
      "Writing demo01.py\n"
     ]
    }
   ],
   "source": [
    "%%writefile demo01.py\n",
    "#!/usr/bin/env python\n",
    "# -*- coding: utf-8 -*-\n",
    "\"\"\"sys.argv demo\"\"\"\n",
    "import sys\n",
    "\n",
    "print(sys.argv)\n",
    "for index, arg in enumerate(sys.argv):\n",
    "    print(index, arg)"
   ]
  },
  {
   "cell_type": "code",
   "execution_count": 4,
   "metadata": {
    "slideshow": {
     "slide_type": "slide"
    }
   },
   "outputs": [
    {
     "name": "stdout",
     "output_type": "stream",
     "text": [
      "['demo01.py', 'arg1', 'arg2', 'arg3']\r\n",
      "0 demo01.py\r\n",
      "1 arg1\r\n",
      "2 arg2\r\n",
      "3 arg3\r\n"
     ]
    }
   ],
   "source": [
    "!python demo01.py arg1 arg2 arg3"
   ]
  },
  {
   "cell_type": "code",
   "execution_count": 5,
   "metadata": {
    "slideshow": {
     "slide_type": "slide"
    }
   },
   "outputs": [
    {
     "name": "stdout",
     "output_type": "stream",
     "text": [
      "['demo01.py', 'arg1', 'arg2', '=', 'x', 'arg3', '=', '4']\r\n",
      "0 demo01.py\r\n",
      "1 arg1\r\n",
      "2 arg2\r\n",
      "3 =\r\n",
      "4 x\r\n",
      "5 arg3\r\n",
      "6 =\r\n",
      "7 4\r\n"
     ]
    }
   ],
   "source": [
    "!python demo01.py arg1 arg2 = 'x' arg3 = 4"
   ]
  },
  {
   "cell_type": "markdown",
   "metadata": {
    "slideshow": {
     "slide_type": "slide"
    }
   },
   "source": [
    "如上所示，直接使用`sys.argv`来分析获得输入，那可麻烦得很，而且很容易出错。不过，幸好有`argparse`库。"
   ]
  },
  {
   "cell_type": "markdown",
   "metadata": {},
   "source": [
    "##  创建对象\n",
    "\n",
    "使用`import`命令导入模块"
   ]
  },
  {
   "cell_type": "code",
   "execution_count": 105,
   "metadata": {},
   "outputs": [],
   "source": [
    "import argparse"
   ]
  },
  {
   "cell_type": "markdown",
   "metadata": {
    "slideshow": {
     "slide_type": "slide"
    }
   },
   "source": [
    "## 自省\n",
    "\n",
    "使用自省方法查看`argparse`模块使用。"
   ]
  },
  {
   "cell_type": "markdown",
   "metadata": {
    "slideshow": {
     "slide_type": "-"
    }
   },
   "source": [
    "使用`type()`函数及`pympler`查看对象类型及内存大小。"
   ]
  },
  {
   "cell_type": "code",
   "execution_count": 106,
   "metadata": {},
   "outputs": [
    {
     "name": "stdout",
     "output_type": "stream",
     "text": [
      "<class 'module'> 39264\n"
     ]
    }
   ],
   "source": [
    "from pympler import asizeof\n",
    "\n",
    "print(type(argparse), asizeof.asizeof(argparse))"
   ]
  },
  {
   "cell_type": "markdown",
   "metadata": {
    "slideshow": {
     "slide_type": "slide"
    }
   },
   "source": [
    "使用内置函数`help()`与`dir()`了解`argparse`模块内容。"
   ]
  },
  {
   "cell_type": "code",
   "execution_count": 7,
   "metadata": {
    "slideshow": {
     "slide_type": "slide"
    }
   },
   "outputs": [
    {
     "name": "stdout",
     "output_type": "stream",
     "text": [
      "Help on module argparse:\n",
      "\n",
      "NAME\n",
      "    argparse - Command-line parsing library\n",
      "\n",
      "MODULE REFERENCE\n",
      "    https://docs.python.org/3.6/library/argparse\n",
      "    \n",
      "    The following documentation is automatically generated from the Python\n",
      "    source files.  It may be incomplete, incorrect or include features that\n",
      "    are considered implementation detail and may vary between Python\n",
      "    implementations.  When in doubt, consult the module reference at the\n",
      "    location listed above.\n",
      "\n",
      "DESCRIPTION\n",
      "    This module is an optparse-inspired command-line parsing library that:\n",
      "    \n",
      "        - handles both optional and positional arguments\n",
      "        - produces highly informative usage messages\n",
      "        - supports parsers that dispatch to sub-parsers\n",
      "    \n",
      "    The following is a simple usage example that sums integers from the\n",
      "    command-line and writes the result to a file::\n",
      "    \n",
      "        parser = argparse.ArgumentParser(\n",
      "            description='sum the integers at the command line')\n",
      "        parser.add_argument(\n",
      "            'integers', metavar='int', nargs='+', type=int,\n",
      "            help='an integer to be summed')\n",
      "        parser.add_argument(\n",
      "            '--log', default=sys.stdout, type=argparse.FileType('w'),\n",
      "            help='the file where the sum should be written')\n",
      "        args = parser.parse_args()\n",
      "        args.log.write('%s' % sum(args.integers))\n",
      "        args.log.close()\n",
      "    \n",
      "    The module contains the following public classes:\n",
      "    \n",
      "        - ArgumentParser -- The main entry point for command-line parsing. As the\n",
      "            example above shows, the add_argument() method is used to populate\n",
      "            the parser with actions for optional and positional arguments. Then\n",
      "            the parse_args() method is invoked to convert the args at the\n",
      "            command-line into an object with attributes.\n",
      "    \n",
      "        - ArgumentError -- The exception raised by ArgumentParser objects when\n",
      "            there are errors with the parser's actions. Errors raised while\n",
      "            parsing the command-line are caught by ArgumentParser and emitted\n",
      "            as command-line messages.\n",
      "    \n",
      "        - FileType -- A factory for defining types of files to be created. As the\n",
      "            example above shows, instances of FileType are typically passed as\n",
      "            the type= argument of add_argument() calls.\n",
      "    \n",
      "        - Action -- The base class for parser actions. Typically actions are\n",
      "            selected by passing strings like 'store_true' or 'append_const' to\n",
      "            the action= argument of add_argument(). However, for greater\n",
      "            customization of ArgumentParser actions, subclasses of Action may\n",
      "            be defined and passed as the action= argument.\n",
      "    \n",
      "        - HelpFormatter, RawDescriptionHelpFormatter, RawTextHelpFormatter,\n",
      "            ArgumentDefaultsHelpFormatter -- Formatter classes which\n",
      "            may be passed as the formatter_class= argument to the\n",
      "            ArgumentParser constructor. HelpFormatter is the default,\n",
      "            RawDescriptionHelpFormatter and RawTextHelpFormatter tell the parser\n",
      "            not to change the formatting for help text, and\n",
      "            ArgumentDefaultsHelpFormatter adds information about argument defaults\n",
      "            to the help.\n",
      "    \n",
      "    All other classes in this module are considered implementation details.\n",
      "    (Also note that HelpFormatter and RawDescriptionHelpFormatter are only\n",
      "    considered public as object names -- the API of the formatter objects is\n",
      "    still considered an implementation detail.)\n",
      "\n",
      "CLASSES\n",
      "    _ActionsContainer(builtins.object)\n",
      "        ArgumentParser(_AttributeHolder, _ActionsContainer)\n",
      "    _AttributeHolder(builtins.object)\n",
      "        Action\n",
      "        ArgumentParser(_AttributeHolder, _ActionsContainer)\n",
      "        Namespace\n",
      "    builtins.Exception(builtins.BaseException)\n",
      "        ArgumentError\n",
      "        ArgumentTypeError\n",
      "    builtins.object\n",
      "        FileType\n",
      "        HelpFormatter\n",
      "            ArgumentDefaultsHelpFormatter\n",
      "            MetavarTypeHelpFormatter\n",
      "            RawDescriptionHelpFormatter\n",
      "                RawTextHelpFormatter\n",
      "    \n",
      "    class Action(_AttributeHolder)\n",
      "     |  Information about how to convert command line strings to Python objects.\n",
      "     |  \n",
      "     |  Action objects are used by an ArgumentParser to represent the information\n",
      "     |  needed to parse a single argument from one or more strings from the\n",
      "     |  command line. The keyword arguments to the Action constructor are also\n",
      "     |  all attributes of Action instances.\n",
      "     |  \n",
      "     |  Keyword Arguments:\n",
      "     |  \n",
      "     |      - option_strings -- A list of command-line option strings which\n",
      "     |          should be associated with this action.\n",
      "     |  \n",
      "     |      - dest -- The name of the attribute to hold the created object(s)\n",
      "     |  \n",
      "     |      - nargs -- The number of command-line arguments that should be\n",
      "     |          consumed. By default, one argument will be consumed and a single\n",
      "     |          value will be produced.  Other values include:\n",
      "     |              - N (an integer) consumes N arguments (and produces a list)\n",
      "     |              - '?' consumes zero or one arguments\n",
      "     |              - '*' consumes zero or more arguments (and produces a list)\n",
      "     |              - '+' consumes one or more arguments (and produces a list)\n",
      "     |          Note that the difference between the default and nargs=1 is that\n",
      "     |          with the default, a single value will be produced, while with\n",
      "     |          nargs=1, a list containing a single value will be produced.\n",
      "     |  \n",
      "     |      - const -- The value to be produced if the option is specified and the\n",
      "     |          option uses an action that takes no values.\n",
      "     |  \n",
      "     |      - default -- The value to be produced if the option is not specified.\n",
      "     |  \n",
      "     |      - type -- A callable that accepts a single string argument, and\n",
      "     |          returns the converted value.  The standard Python types str, int,\n",
      "     |          float, and complex are useful examples of such callables.  If None,\n",
      "     |          str is used.\n",
      "     |  \n",
      "     |      - choices -- A container of values that should be allowed. If not None,\n",
      "     |          after a command-line argument has been converted to the appropriate\n",
      "     |          type, an exception will be raised if it is not a member of this\n",
      "     |          collection.\n",
      "     |  \n",
      "     |      - required -- True if the action must always be specified at the\n",
      "     |          command line. This is only meaningful for optional command-line\n",
      "     |          arguments.\n",
      "     |  \n",
      "     |      - help -- The help string describing the argument.\n",
      "     |  \n",
      "     |      - metavar -- The name to be used for the option's argument with the\n",
      "     |          help string. If None, the 'dest' value will be used as the name.\n",
      "     |  \n",
      "     |  Method resolution order:\n",
      "     |      Action\n",
      "     |      _AttributeHolder\n",
      "     |      builtins.object\n",
      "     |  \n",
      "     |  Methods defined here:\n",
      "     |  \n",
      "     |  __call__(self, parser, namespace, values, option_string=None)\n",
      "     |      Call self as a function.\n",
      "     |  \n",
      "     |  __init__(self, option_strings, dest, nargs=None, const=None, default=None, type=None, choices=None, required=False, help=None, metavar=None)\n",
      "     |      Initialize self.  See help(type(self)) for accurate signature.\n",
      "     |  \n",
      "     |  ----------------------------------------------------------------------\n",
      "     |  Methods inherited from _AttributeHolder:\n",
      "     |  \n",
      "     |  __repr__(self)\n",
      "     |      Return repr(self).\n",
      "     |  \n",
      "     |  ----------------------------------------------------------------------\n",
      "     |  Data descriptors inherited from _AttributeHolder:\n",
      "     |  \n",
      "     |  __dict__\n",
      "     |      dictionary for instance variables (if defined)\n",
      "     |  \n",
      "     |  __weakref__\n",
      "     |      list of weak references to the object (if defined)\n",
      "    \n",
      "    class ArgumentDefaultsHelpFormatter(HelpFormatter)\n",
      "     |  Help message formatter which adds default values to argument help.\n",
      "     |  \n",
      "     |  Only the name of this class is considered a public API. All the methods\n",
      "     |  provided by the class are considered an implementation detail.\n",
      "     |  \n",
      "     |  Method resolution order:\n",
      "     |      ArgumentDefaultsHelpFormatter\n",
      "     |      HelpFormatter\n",
      "     |      builtins.object\n",
      "     |  \n",
      "     |  Methods inherited from HelpFormatter:\n",
      "     |  \n",
      "     |  __init__(self, prog, indent_increment=2, max_help_position=24, width=None)\n",
      "     |      Initialize self.  See help(type(self)) for accurate signature.\n",
      "     |  \n",
      "     |  add_argument(self, action)\n",
      "     |  \n",
      "     |  add_arguments(self, actions)\n",
      "     |  \n",
      "     |  add_text(self, text)\n",
      "     |  \n",
      "     |  add_usage(self, usage, actions, groups, prefix=None)\n",
      "     |  \n",
      "     |  end_section(self)\n",
      "     |  \n",
      "     |  format_help(self)\n",
      "     |      # =======================\n",
      "     |      # Help-formatting methods\n",
      "     |      # =======================\n",
      "     |  \n",
      "     |  start_section(self, heading)\n",
      "     |      # ========================\n",
      "     |      # Message building methods\n",
      "     |      # ========================\n",
      "     |  \n",
      "     |  ----------------------------------------------------------------------\n",
      "     |  Data descriptors inherited from HelpFormatter:\n",
      "     |  \n",
      "     |  __dict__\n",
      "     |      dictionary for instance variables (if defined)\n",
      "     |  \n",
      "     |  __weakref__\n",
      "     |      list of weak references to the object (if defined)\n",
      "    \n",
      "    class ArgumentError(builtins.Exception)\n",
      "     |  An error from creating or using an argument (optional or positional).\n",
      "     |  \n",
      "     |  The string value of this exception is the message, augmented with\n",
      "     |  information about the argument that caused it.\n",
      "     |  \n",
      "     |  Method resolution order:\n",
      "     |      ArgumentError\n",
      "     |      builtins.Exception\n",
      "     |      builtins.BaseException\n",
      "     |      builtins.object\n",
      "     |  \n",
      "     |  Methods defined here:\n",
      "     |  \n",
      "     |  __init__(self, argument, message)\n",
      "     |      Initialize self.  See help(type(self)) for accurate signature.\n",
      "     |  \n",
      "     |  __str__(self)\n",
      "     |      Return str(self).\n",
      "     |  \n",
      "     |  ----------------------------------------------------------------------\n",
      "     |  Data descriptors defined here:\n",
      "     |  \n",
      "     |  __weakref__\n",
      "     |      list of weak references to the object (if defined)\n",
      "     |  \n",
      "     |  ----------------------------------------------------------------------\n",
      "     |  Methods inherited from builtins.Exception:\n",
      "     |  \n",
      "     |  __new__(*args, **kwargs) from builtins.type\n",
      "     |      Create and return a new object.  See help(type) for accurate signature.\n",
      "     |  \n",
      "     |  ----------------------------------------------------------------------\n",
      "     |  Methods inherited from builtins.BaseException:\n",
      "     |  \n",
      "     |  __delattr__(self, name, /)\n",
      "     |      Implement delattr(self, name).\n",
      "     |  \n",
      "     |  __getattribute__(self, name, /)\n",
      "     |      Return getattr(self, name).\n",
      "     |  \n",
      "     |  __reduce__(...)\n",
      "     |      helper for pickle\n",
      "     |  \n",
      "     |  __repr__(self, /)\n",
      "     |      Return repr(self).\n",
      "     |  \n",
      "     |  __setattr__(self, name, value, /)\n",
      "     |      Implement setattr(self, name, value).\n",
      "     |  \n",
      "     |  __setstate__(...)\n",
      "     |  \n",
      "     |  with_traceback(...)\n",
      "     |      Exception.with_traceback(tb) --\n",
      "     |      set self.__traceback__ to tb and return self.\n",
      "     |  \n",
      "     |  ----------------------------------------------------------------------\n",
      "     |  Data descriptors inherited from builtins.BaseException:\n",
      "     |  \n",
      "     |  __cause__\n",
      "     |      exception cause\n",
      "     |  \n",
      "     |  __context__\n",
      "     |      exception context\n",
      "     |  \n",
      "     |  __dict__\n",
      "     |  \n",
      "     |  __suppress_context__\n",
      "     |  \n",
      "     |  __traceback__\n",
      "     |  \n",
      "     |  args\n",
      "    \n",
      "    class ArgumentParser(_AttributeHolder, _ActionsContainer)\n",
      "     |  Object for parsing command line strings into Python objects.\n",
      "     |  \n",
      "     |  Keyword Arguments:\n",
      "     |      - prog -- The name of the program (default: sys.argv[0])\n",
      "     |      - usage -- A usage message (default: auto-generated from arguments)\n",
      "     |      - description -- A description of what the program does\n",
      "     |      - epilog -- Text following the argument descriptions\n",
      "     |      - parents -- Parsers whose arguments should be copied into this one\n",
      "     |      - formatter_class -- HelpFormatter class for printing help messages\n",
      "     |      - prefix_chars -- Characters that prefix optional arguments\n",
      "     |      - fromfile_prefix_chars -- Characters that prefix files containing\n",
      "     |          additional arguments\n",
      "     |      - argument_default -- The default value for all arguments\n",
      "     |      - conflict_handler -- String indicating how to handle conflicts\n",
      "     |      - add_help -- Add a -h/-help option\n",
      "     |      - allow_abbrev -- Allow long options to be abbreviated unambiguously\n",
      "     |  \n",
      "     |  Method resolution order:\n",
      "     |      ArgumentParser\n",
      "     |      _AttributeHolder\n",
      "     |      _ActionsContainer\n",
      "     |      builtins.object\n",
      "     |  \n",
      "     |  Methods defined here:\n",
      "     |  \n",
      "     |  __init__(self, prog=None, usage=None, description=None, epilog=None, parents=[], formatter_class=<class 'argparse.HelpFormatter'>, prefix_chars='-', fromfile_prefix_chars=None, argument_default=None, conflict_handler='error', add_help=True, allow_abbrev=True)\n",
      "     |      Initialize self.  See help(type(self)) for accurate signature.\n",
      "     |  \n",
      "     |  add_subparsers(self, **kwargs)\n",
      "     |      # ==================================\n",
      "     |      # Optional/Positional adding methods\n",
      "     |      # ==================================\n",
      "     |  \n",
      "     |  convert_arg_line_to_args(self, arg_line)\n",
      "     |  \n",
      "     |  error(self, message)\n",
      "     |      error(message: string)\n",
      "     |      \n",
      "     |      Prints a usage message incorporating the message to stderr and\n",
      "     |      exits.\n",
      "     |      \n",
      "     |      If you override this in a subclass, it should not return -- it\n",
      "     |      should either exit or raise an exception.\n",
      "     |  \n",
      "     |  exit(self, status=0, message=None)\n",
      "     |      # ===============\n",
      "     |      # Exiting methods\n",
      "     |      # ===============\n",
      "     |  \n",
      "     |  format_help(self)\n",
      "     |  \n",
      "     |  format_usage(self)\n",
      "     |      # =======================\n",
      "     |      # Help-formatting methods\n",
      "     |      # =======================\n",
      "     |  \n",
      "     |  parse_args(self, args=None, namespace=None)\n",
      "     |      # =====================================\n",
      "     |      # Command line argument parsing methods\n",
      "     |      # =====================================\n",
      "     |  \n",
      "     |  parse_known_args(self, args=None, namespace=None)\n",
      "     |  \n",
      "     |  print_help(self, file=None)\n",
      "     |  \n",
      "     |  print_usage(self, file=None)\n",
      "     |      # =====================\n",
      "     |      # Help-printing methods\n",
      "     |      # =====================\n",
      "     |  \n",
      "     |  ----------------------------------------------------------------------\n",
      "     |  Methods inherited from _AttributeHolder:\n",
      "     |  \n",
      "     |  __repr__(self)\n",
      "     |      Return repr(self).\n",
      "     |  \n",
      "     |  ----------------------------------------------------------------------\n",
      "     |  Data descriptors inherited from _AttributeHolder:\n",
      "     |  \n",
      "     |  __dict__\n",
      "     |      dictionary for instance variables (if defined)\n",
      "     |  \n",
      "     |  __weakref__\n",
      "     |      list of weak references to the object (if defined)\n",
      "     |  \n",
      "     |  ----------------------------------------------------------------------\n",
      "     |  Methods inherited from _ActionsContainer:\n",
      "     |  \n",
      "     |  add_argument(self, *args, **kwargs)\n",
      "     |      add_argument(dest, ..., name=value, ...)\n",
      "     |      add_argument(option_string, option_string, ..., name=value, ...)\n",
      "     |  \n",
      "     |  add_argument_group(self, *args, **kwargs)\n",
      "     |  \n",
      "     |  add_mutually_exclusive_group(self, **kwargs)\n",
      "     |  \n",
      "     |  get_default(self, dest)\n",
      "     |  \n",
      "     |  register(self, registry_name, value, object)\n",
      "     |      # ====================\n",
      "     |      # Registration methods\n",
      "     |      # ====================\n",
      "     |  \n",
      "     |  set_defaults(self, **kwargs)\n",
      "     |      # ==================================\n",
      "     |      # Namespace default accessor methods\n",
      "     |      # ==================================\n",
      "    \n",
      "    class ArgumentTypeError(builtins.Exception)\n",
      "     |  An error from trying to convert a command line string to a type.\n",
      "     |  \n",
      "     |  Method resolution order:\n",
      "     |      ArgumentTypeError\n",
      "     |      builtins.Exception\n",
      "     |      builtins.BaseException\n",
      "     |      builtins.object\n",
      "     |  \n",
      "     |  Data descriptors defined here:\n",
      "     |  \n",
      "     |  __weakref__\n",
      "     |      list of weak references to the object (if defined)\n",
      "     |  \n",
      "     |  ----------------------------------------------------------------------\n",
      "     |  Methods inherited from builtins.Exception:\n",
      "     |  \n",
      "     |  __init__(self, /, *args, **kwargs)\n",
      "     |      Initialize self.  See help(type(self)) for accurate signature.\n",
      "     |  \n",
      "     |  __new__(*args, **kwargs) from builtins.type\n",
      "     |      Create and return a new object.  See help(type) for accurate signature.\n",
      "     |  \n",
      "     |  ----------------------------------------------------------------------\n",
      "     |  Methods inherited from builtins.BaseException:\n",
      "     |  \n",
      "     |  __delattr__(self, name, /)\n",
      "     |      Implement delattr(self, name).\n",
      "     |  \n",
      "     |  __getattribute__(self, name, /)\n",
      "     |      Return getattr(self, name).\n",
      "     |  \n",
      "     |  __reduce__(...)\n",
      "     |      helper for pickle\n",
      "     |  \n",
      "     |  __repr__(self, /)\n",
      "     |      Return repr(self).\n",
      "     |  \n",
      "     |  __setattr__(self, name, value, /)\n",
      "     |      Implement setattr(self, name, value).\n",
      "     |  \n",
      "     |  __setstate__(...)\n",
      "     |  \n",
      "     |  __str__(self, /)\n",
      "     |      Return str(self).\n",
      "     |  \n",
      "     |  with_traceback(...)\n",
      "     |      Exception.with_traceback(tb) --\n",
      "     |      set self.__traceback__ to tb and return self.\n",
      "     |  \n",
      "     |  ----------------------------------------------------------------------\n",
      "     |  Data descriptors inherited from builtins.BaseException:\n",
      "     |  \n",
      "     |  __cause__\n",
      "     |      exception cause\n",
      "     |  \n",
      "     |  __context__\n",
      "     |      exception context\n",
      "     |  \n",
      "     |  __dict__\n",
      "     |  \n",
      "     |  __suppress_context__\n",
      "     |  \n",
      "     |  __traceback__\n",
      "     |  \n",
      "     |  args\n",
      "    \n",
      "    class FileType(builtins.object)\n",
      "     |  Factory for creating file object types\n",
      "     |  \n",
      "     |  Instances of FileType are typically passed as type= arguments to the\n",
      "     |  ArgumentParser add_argument() method.\n",
      "     |  \n",
      "     |  Keyword Arguments:\n",
      "     |      - mode -- A string indicating how the file is to be opened. Accepts the\n",
      "     |          same values as the builtin open() function.\n",
      "     |      - bufsize -- The file's desired buffer size. Accepts the same values as\n",
      "     |          the builtin open() function.\n",
      "     |      - encoding -- The file's encoding. Accepts the same values as the\n",
      "     |          builtin open() function.\n",
      "     |      - errors -- A string indicating how encoding and decoding errors are to\n",
      "     |          be handled. Accepts the same value as the builtin open() function.\n",
      "     |  \n",
      "     |  Methods defined here:\n",
      "     |  \n",
      "     |  __call__(self, string)\n",
      "     |      Call self as a function.\n",
      "     |  \n",
      "     |  __init__(self, mode='r', bufsize=-1, encoding=None, errors=None)\n",
      "     |      Initialize self.  See help(type(self)) for accurate signature.\n",
      "     |  \n",
      "     |  __repr__(self)\n",
      "     |      Return repr(self).\n",
      "     |  \n",
      "     |  ----------------------------------------------------------------------\n",
      "     |  Data descriptors defined here:\n",
      "     |  \n",
      "     |  __dict__\n",
      "     |      dictionary for instance variables (if defined)\n",
      "     |  \n",
      "     |  __weakref__\n",
      "     |      list of weak references to the object (if defined)\n",
      "    \n",
      "    class HelpFormatter(builtins.object)\n",
      "     |  Formatter for generating usage messages and argument help strings.\n",
      "     |  \n",
      "     |  Only the name of this class is considered a public API. All the methods\n",
      "     |  provided by the class are considered an implementation detail.\n",
      "     |  \n",
      "     |  Methods defined here:\n",
      "     |  \n",
      "     |  __init__(self, prog, indent_increment=2, max_help_position=24, width=None)\n",
      "     |      Initialize self.  See help(type(self)) for accurate signature.\n",
      "     |  \n",
      "     |  add_argument(self, action)\n",
      "     |  \n",
      "     |  add_arguments(self, actions)\n",
      "     |  \n",
      "     |  add_text(self, text)\n",
      "     |  \n",
      "     |  add_usage(self, usage, actions, groups, prefix=None)\n",
      "     |  \n",
      "     |  end_section(self)\n",
      "     |  \n",
      "     |  format_help(self)\n",
      "     |      # =======================\n",
      "     |      # Help-formatting methods\n",
      "     |      # =======================\n",
      "     |  \n",
      "     |  start_section(self, heading)\n",
      "     |      # ========================\n",
      "     |      # Message building methods\n",
      "     |      # ========================\n",
      "     |  \n",
      "     |  ----------------------------------------------------------------------\n",
      "     |  Data descriptors defined here:\n",
      "     |  \n",
      "     |  __dict__\n",
      "     |      dictionary for instance variables (if defined)\n",
      "     |  \n",
      "     |  __weakref__\n",
      "     |      list of weak references to the object (if defined)\n",
      "    \n",
      "    class MetavarTypeHelpFormatter(HelpFormatter)\n",
      "     |  Help message formatter which uses the argument 'type' as the default\n",
      "     |  metavar value (instead of the argument 'dest')\n",
      "     |  \n",
      "     |  Only the name of this class is considered a public API. All the methods\n",
      "     |  provided by the class are considered an implementation detail.\n",
      "     |  \n",
      "     |  Method resolution order:\n",
      "     |      MetavarTypeHelpFormatter\n",
      "     |      HelpFormatter\n",
      "     |      builtins.object\n",
      "     |  \n",
      "     |  Methods inherited from HelpFormatter:\n",
      "     |  \n",
      "     |  __init__(self, prog, indent_increment=2, max_help_position=24, width=None)\n",
      "     |      Initialize self.  See help(type(self)) for accurate signature.\n",
      "     |  \n",
      "     |  add_argument(self, action)\n",
      "     |  \n",
      "     |  add_arguments(self, actions)\n",
      "     |  \n",
      "     |  add_text(self, text)\n",
      "     |  \n",
      "     |  add_usage(self, usage, actions, groups, prefix=None)\n",
      "     |  \n",
      "     |  end_section(self)\n",
      "     |  \n",
      "     |  format_help(self)\n",
      "     |      # =======================\n",
      "     |      # Help-formatting methods\n",
      "     |      # =======================\n",
      "     |  \n",
      "     |  start_section(self, heading)\n",
      "     |      # ========================\n",
      "     |      # Message building methods\n",
      "     |      # ========================\n",
      "     |  \n",
      "     |  ----------------------------------------------------------------------\n",
      "     |  Data descriptors inherited from HelpFormatter:\n",
      "     |  \n",
      "     |  __dict__\n",
      "     |      dictionary for instance variables (if defined)\n",
      "     |  \n",
      "     |  __weakref__\n",
      "     |      list of weak references to the object (if defined)\n",
      "    \n",
      "    class Namespace(_AttributeHolder)\n",
      "     |  Simple object for storing attributes.\n",
      "     |  \n",
      "     |  Implements equality by attribute names and values, and provides a simple\n",
      "     |  string representation.\n",
      "     |  \n",
      "     |  Method resolution order:\n",
      "     |      Namespace\n",
      "     |      _AttributeHolder\n",
      "     |      builtins.object\n",
      "     |  \n",
      "     |  Methods defined here:\n",
      "     |  \n",
      "     |  __contains__(self, key)\n",
      "     |  \n",
      "     |  __eq__(self, other)\n",
      "     |      Return self==value.\n",
      "     |  \n",
      "     |  __init__(self, **kwargs)\n",
      "     |      Initialize self.  See help(type(self)) for accurate signature.\n",
      "     |  \n",
      "     |  ----------------------------------------------------------------------\n",
      "     |  Data and other attributes defined here:\n",
      "     |  \n",
      "     |  __hash__ = None\n",
      "     |  \n",
      "     |  ----------------------------------------------------------------------\n",
      "     |  Methods inherited from _AttributeHolder:\n",
      "     |  \n",
      "     |  __repr__(self)\n",
      "     |      Return repr(self).\n",
      "     |  \n",
      "     |  ----------------------------------------------------------------------\n",
      "     |  Data descriptors inherited from _AttributeHolder:\n",
      "     |  \n",
      "     |  __dict__\n",
      "     |      dictionary for instance variables (if defined)\n",
      "     |  \n",
      "     |  __weakref__\n",
      "     |      list of weak references to the object (if defined)\n",
      "    \n",
      "    class RawDescriptionHelpFormatter(HelpFormatter)\n",
      "     |  Help message formatter which retains any formatting in descriptions.\n",
      "     |  \n",
      "     |  Only the name of this class is considered a public API. All the methods\n",
      "     |  provided by the class are considered an implementation detail.\n",
      "     |  \n",
      "     |  Method resolution order:\n",
      "     |      RawDescriptionHelpFormatter\n",
      "     |      HelpFormatter\n",
      "     |      builtins.object\n",
      "     |  \n",
      "     |  Methods inherited from HelpFormatter:\n",
      "     |  \n",
      "     |  __init__(self, prog, indent_increment=2, max_help_position=24, width=None)\n",
      "     |      Initialize self.  See help(type(self)) for accurate signature.\n",
      "     |  \n",
      "     |  add_argument(self, action)\n",
      "     |  \n",
      "     |  add_arguments(self, actions)\n",
      "     |  \n",
      "     |  add_text(self, text)\n",
      "     |  \n",
      "     |  add_usage(self, usage, actions, groups, prefix=None)\n",
      "     |  \n",
      "     |  end_section(self)\n",
      "     |  \n",
      "     |  format_help(self)\n",
      "     |      # =======================\n",
      "     |      # Help-formatting methods\n",
      "     |      # =======================\n",
      "     |  \n",
      "     |  start_section(self, heading)\n",
      "     |      # ========================\n",
      "     |      # Message building methods\n",
      "     |      # ========================\n",
      "     |  \n",
      "     |  ----------------------------------------------------------------------\n",
      "     |  Data descriptors inherited from HelpFormatter:\n",
      "     |  \n",
      "     |  __dict__\n",
      "     |      dictionary for instance variables (if defined)\n",
      "     |  \n",
      "     |  __weakref__\n",
      "     |      list of weak references to the object (if defined)\n",
      "    \n",
      "    class RawTextHelpFormatter(RawDescriptionHelpFormatter)\n",
      "     |  Help message formatter which retains formatting of all help text.\n",
      "     |  \n",
      "     |  Only the name of this class is considered a public API. All the methods\n",
      "     |  provided by the class are considered an implementation detail.\n",
      "     |  \n",
      "     |  Method resolution order:\n",
      "     |      RawTextHelpFormatter\n",
      "     |      RawDescriptionHelpFormatter\n",
      "     |      HelpFormatter\n",
      "     |      builtins.object\n",
      "     |  \n",
      "     |  Methods inherited from HelpFormatter:\n",
      "     |  \n",
      "     |  __init__(self, prog, indent_increment=2, max_help_position=24, width=None)\n",
      "     |      Initialize self.  See help(type(self)) for accurate signature.\n",
      "     |  \n",
      "     |  add_argument(self, action)\n",
      "     |  \n",
      "     |  add_arguments(self, actions)\n",
      "     |  \n",
      "     |  add_text(self, text)\n",
      "     |  \n",
      "     |  add_usage(self, usage, actions, groups, prefix=None)\n",
      "     |  \n",
      "     |  end_section(self)\n",
      "     |  \n",
      "     |  format_help(self)\n",
      "     |      # =======================\n",
      "     |      # Help-formatting methods\n",
      "     |      # =======================\n",
      "     |  \n",
      "     |  start_section(self, heading)\n",
      "     |      # ========================\n",
      "     |      # Message building methods\n",
      "     |      # ========================\n",
      "     |  \n",
      "     |  ----------------------------------------------------------------------\n",
      "     |  Data descriptors inherited from HelpFormatter:\n",
      "     |  \n",
      "     |  __dict__\n",
      "     |      dictionary for instance variables (if defined)\n",
      "     |  \n",
      "     |  __weakref__\n",
      "     |      list of weak references to the object (if defined)\n",
      "\n",
      "DATA\n",
      "    ONE_OR_MORE = '+'\n",
      "    OPTIONAL = '?'\n",
      "    PARSER = 'A...'\n",
      "    REMAINDER = '...'\n",
      "    SUPPRESS = '==SUPPRESS=='\n",
      "    ZERO_OR_MORE = '*'\n",
      "    __all__ = ['ArgumentParser', 'ArgumentError', 'ArgumentTypeError', 'Fi...\n",
      "\n",
      "VERSION\n",
      "    1.1\n",
      "\n",
      "FILE\n",
      "    /opt/anaconda3/lib/python3.6/argparse.py\n",
      "\n",
      "\n"
     ]
    }
   ],
   "source": [
    "help(argparse)"
   ]
  },
  {
   "cell_type": "code",
   "execution_count": 107,
   "metadata": {
    "slideshow": {
     "slide_type": "slide"
    }
   },
   "outputs": [
    {
     "name": "stdout",
     "output_type": "stream",
     "text": [
      "['Action', 'ArgumentDefaultsHelpFormatter', 'ArgumentError', 'ArgumentParser', 'ArgumentTypeError', 'FileType', 'HelpFormatter', 'MetavarTypeHelpFormatter', 'Namespace', 'ONE_OR_MORE', 'OPTIONAL', 'PARSER', 'REMAINDER', 'RawDescriptionHelpFormatter', 'RawTextHelpFormatter', 'SUPPRESS', 'ZERO_OR_MORE', '_', '_ActionsContainer', '_AppendAction', '_AppendConstAction', '_ArgumentGroup', '_AttributeHolder', '_CountAction', '_HelpAction', '_MutuallyExclusiveGroup', '_StoreAction', '_StoreConstAction', '_StoreFalseAction', '_StoreTrueAction', '_SubParsersAction', '_UNRECOGNIZED_ARGS_ATTR', '_VersionAction', '__all__', '__builtins__', '__cached__', '__doc__', '__file__', '__loader__', '__name__', '__package__', '__spec__', '__version__', '_collections', '_copy', '_ensure_value', '_get_action_name', '_os', '_re', '_sys', '_textwrap', 'ngettext']\n"
     ]
    }
   ],
   "source": [
    "print(dir(argparse))"
   ]
  },
  {
   "cell_type": "markdown",
   "metadata": {},
   "source": [
    "### 模块中的类"
   ]
  },
  {
   "cell_type": "markdown",
   "metadata": {
    "slideshow": {
     "slide_type": "slide"
    }
   },
   "source": [
    "在`argparse`模块中有常用的公共类：\n",
    "- ArgumentParser， 参数解析器"
   ]
  },
  {
   "cell_type": "markdown",
   "metadata": {
    "slideshow": {
     "slide_type": "slide"
    }
   },
   "source": [
    "使用`argparse`解析命令行参数的主要步骤：\n",
    "1. 创建`ArgumentParser()`对象\n",
    "2. 调用`add_argument()`方法添加预期参数\n",
    "3. 使用`parse_args()`解析用户输入命令行参数"
   ]
  },
  {
   "cell_type": "markdown",
   "metadata": {
    "slideshow": {
     "slide_type": "slide"
    }
   },
   "source": [
    "下面创建一个`ArgumentParser()`对象，并使用自省方法查看使用。"
   ]
  },
  {
   "cell_type": "code",
   "execution_count": 10,
   "metadata": {
    "slideshow": {
     "slide_type": "-"
    }
   },
   "outputs": [],
   "source": [
    "parser = argparse.ArgumentParser()"
   ]
  },
  {
   "cell_type": "code",
   "execution_count": 11,
   "metadata": {
    "slideshow": {
     "slide_type": "-"
    }
   },
   "outputs": [
    {
     "name": "stdout",
     "output_type": "stream",
     "text": [
      "<class 'argparse.ArgumentParser'>\n"
     ]
    }
   ],
   "source": [
    "print(type(parser))"
   ]
  },
  {
   "cell_type": "markdown",
   "metadata": {
    "slideshow": {
     "slide_type": "slide"
    }
   },
   "source": [
    "使用`help()`与`dir()`函数查看parser的说明，属性与方法。"
   ]
  },
  {
   "cell_type": "code",
   "execution_count": 12,
   "metadata": {
    "slideshow": {
     "slide_type": "slide"
    }
   },
   "outputs": [
    {
     "name": "stdout",
     "output_type": "stream",
     "text": [
      "Help on ArgumentParser in module argparse object:\n",
      "\n",
      "class ArgumentParser(_AttributeHolder, _ActionsContainer)\n",
      " |  Object for parsing command line strings into Python objects.\n",
      " |  \n",
      " |  Keyword Arguments:\n",
      " |      - prog -- The name of the program (default: sys.argv[0])\n",
      " |      - usage -- A usage message (default: auto-generated from arguments)\n",
      " |      - description -- A description of what the program does\n",
      " |      - epilog -- Text following the argument descriptions\n",
      " |      - parents -- Parsers whose arguments should be copied into this one\n",
      " |      - formatter_class -- HelpFormatter class for printing help messages\n",
      " |      - prefix_chars -- Characters that prefix optional arguments\n",
      " |      - fromfile_prefix_chars -- Characters that prefix files containing\n",
      " |          additional arguments\n",
      " |      - argument_default -- The default value for all arguments\n",
      " |      - conflict_handler -- String indicating how to handle conflicts\n",
      " |      - add_help -- Add a -h/-help option\n",
      " |      - allow_abbrev -- Allow long options to be abbreviated unambiguously\n",
      " |  \n",
      " |  Method resolution order:\n",
      " |      ArgumentParser\n",
      " |      _AttributeHolder\n",
      " |      _ActionsContainer\n",
      " |      builtins.object\n",
      " |  \n",
      " |  Methods defined here:\n",
      " |  \n",
      " |  __init__(self, prog=None, usage=None, description=None, epilog=None, parents=[], formatter_class=<class 'argparse.HelpFormatter'>, prefix_chars='-', fromfile_prefix_chars=None, argument_default=None, conflict_handler='error', add_help=True, allow_abbrev=True)\n",
      " |      Initialize self.  See help(type(self)) for accurate signature.\n",
      " |  \n",
      " |  add_subparsers(self, **kwargs)\n",
      " |      # ==================================\n",
      " |      # Optional/Positional adding methods\n",
      " |      # ==================================\n",
      " |  \n",
      " |  convert_arg_line_to_args(self, arg_line)\n",
      " |  \n",
      " |  error(self, message)\n",
      " |      error(message: string)\n",
      " |      \n",
      " |      Prints a usage message incorporating the message to stderr and\n",
      " |      exits.\n",
      " |      \n",
      " |      If you override this in a subclass, it should not return -- it\n",
      " |      should either exit or raise an exception.\n",
      " |  \n",
      " |  exit(self, status=0, message=None)\n",
      " |      # ===============\n",
      " |      # Exiting methods\n",
      " |      # ===============\n",
      " |  \n",
      " |  format_help(self)\n",
      " |  \n",
      " |  format_usage(self)\n",
      " |      # =======================\n",
      " |      # Help-formatting methods\n",
      " |      # =======================\n",
      " |  \n",
      " |  parse_args(self, args=None, namespace=None)\n",
      " |      # =====================================\n",
      " |      # Command line argument parsing methods\n",
      " |      # =====================================\n",
      " |  \n",
      " |  parse_known_args(self, args=None, namespace=None)\n",
      " |  \n",
      " |  print_help(self, file=None)\n",
      " |  \n",
      " |  print_usage(self, file=None)\n",
      " |      # =====================\n",
      " |      # Help-printing methods\n",
      " |      # =====================\n",
      " |  \n",
      " |  ----------------------------------------------------------------------\n",
      " |  Methods inherited from _AttributeHolder:\n",
      " |  \n",
      " |  __repr__(self)\n",
      " |      Return repr(self).\n",
      " |  \n",
      " |  ----------------------------------------------------------------------\n",
      " |  Data descriptors inherited from _AttributeHolder:\n",
      " |  \n",
      " |  __dict__\n",
      " |      dictionary for instance variables (if defined)\n",
      " |  \n",
      " |  __weakref__\n",
      " |      list of weak references to the object (if defined)\n",
      " |  \n",
      " |  ----------------------------------------------------------------------\n",
      " |  Methods inherited from _ActionsContainer:\n",
      " |  \n",
      " |  add_argument(self, *args, **kwargs)\n",
      " |      add_argument(dest, ..., name=value, ...)\n",
      " |      add_argument(option_string, option_string, ..., name=value, ...)\n",
      " |  \n",
      " |  add_argument_group(self, *args, **kwargs)\n",
      " |  \n",
      " |  add_mutually_exclusive_group(self, **kwargs)\n",
      " |  \n",
      " |  get_default(self, dest)\n",
      " |  \n",
      " |  register(self, registry_name, value, object)\n",
      " |      # ====================\n",
      " |      # Registration methods\n",
      " |      # ====================\n",
      " |  \n",
      " |  set_defaults(self, **kwargs)\n",
      " |      # ==================================\n",
      " |      # Namespace default accessor methods\n",
      " |      # ==================================\n",
      "\n"
     ]
    }
   ],
   "source": [
    "help(parser)"
   ]
  },
  {
   "cell_type": "markdown",
   "metadata": {
    "slideshow": {
     "slide_type": "slide"
    }
   },
   "source": [
    "方法`add_argument`的使用语法:\n",
    "```\n",
    "ArgumentParser.add_argument(name or flags...\n",
    "    [, action][, nargs][, const][, default][, type]\n",
    "    [, choices][, required][, help][, metavar][, dest])\n",
    "```"
   ]
  },
  {
   "cell_type": "code",
   "execution_count": 13,
   "metadata": {
    "slideshow": {
     "slide_type": "-"
    }
   },
   "outputs": [
    {
     "name": "stdout",
     "output_type": "stream",
     "text": [
      "Help on method add_argument in module argparse:\n",
      "\n",
      "add_argument(*args, **kwargs) method of argparse.ArgumentParser instance\n",
      "    add_argument(dest, ..., name=value, ...)\n",
      "    add_argument(option_string, option_string, ..., name=value, ...)\n",
      "\n"
     ]
    }
   ],
   "source": [
    "help(parser.add_argument)"
   ]
  },
  {
   "cell_type": "markdown",
   "metadata": {
    "slideshow": {
     "slide_type": "slide"
    }
   },
   "source": [
    "不定位置参数说明如下：\n",
    "- `name`，位置参数名: \n",
    "- `flags`，可选参数标识，短选项、长选项"
   ]
  },
  {
   "cell_type": "markdown",
   "metadata": {
    "slideshow": {
     "slide_type": "slide"
    }
   },
   "source": [
    "主要关键字参数：\n",
    "- `dest`: 在返回`ArgumentParser.parse_args`方法返回对象中，对应参数的属性名。\n",
    "- `default`: 在命令行中没有指定参数时，参数的默认值。\n",
    "- `action`: 在命令行中指定参数时，要执行的操作，即如何读取参数。\n",
    "- `type`: 用来指定参数的数据类型，默认读取参数都是字符串。\n",
    "- `help`: 参数说明\n",
    "- `metavar`: 在使用帮助信息中参数的名称\n",
    "- `choices`: 参数的可选值列表\n",
    "- `nargs`: 从命令中读取参数值的数目。\n",
    "- `const`: action或nargs所使用的一个常量值\n",
    "- `required`: 参数是否必须，对可选参数来说默认值为False。"
   ]
  },
  {
   "cell_type": "markdown",
   "metadata": {
    "slideshow": {
     "slide_type": "slide"
    }
   },
   "source": [
    "`action`关键字参数对应的值包括：\n",
    "- `store`，缺省值,存储参数值\n",
    "- `store_const`,存`const`指定的值\n",
    "- `store_true`，存为`True`\n",
    "- `store_false`，存为`False`\n",
    "- `append`，参数值添加到列表\n",
    "- `append_const`，添加`const`指定的值到列表中\n",
    "- `count`，存储参数出现次数\n",
    "- `version`，打印版本信息"
   ]
  },
  {
   "cell_type": "markdown",
   "metadata": {
    "slideshow": {
     "slide_type": "slide"
    }
   },
   "source": [
    "方法`parse_args()`会返回解析结果，是`argparse.Namespace`对象，可以使用`.`来访问对象的属性。语法是：\n",
    "```\n",
    "parse_args(args=None, namespace=None)\n",
    "```\n",
    "参数包括：\n",
    "- `args`，缺省是`sys.argv`\n",
    "- `namespace`,用于存放参数的对象。缺省是空的`Namespace`对象。"
   ]
  },
  {
   "cell_type": "code",
   "execution_count": 14,
   "metadata": {
    "slideshow": {
     "slide_type": "slide"
    }
   },
   "outputs": [
    {
     "name": "stdout",
     "output_type": "stream",
     "text": [
      "Help on method parse_args in module argparse:\n",
      "\n",
      "parse_args(args=None, namespace=None) method of argparse.ArgumentParser instance\n",
      "    # =====================================\n",
      "    # Command line argument parsing methods\n",
      "    # =====================================\n",
      "\n"
     ]
    }
   ],
   "source": [
    "help(parser.parse_args)"
   ]
  },
  {
   "cell_type": "markdown",
   "metadata": {
    "slideshow": {
     "slide_type": "slide"
    }
   },
   "source": [
    "## 快速应用"
   ]
  },
  {
   "cell_type": "markdown",
   "metadata": {
    "slideshow": {
     "slide_type": "slide"
    }
   },
   "source": [
    "### 无参数\n",
    "\n",
    "下面给出一个没有参数的命令行解析示例。"
   ]
  },
  {
   "cell_type": "code",
   "execution_count": 15,
   "metadata": {
    "slideshow": {
     "slide_type": "slide"
    }
   },
   "outputs": [
    {
     "name": "stdout",
     "output_type": "stream",
     "text": [
      "Writing demo02.py\n"
     ]
    }
   ],
   "source": [
    "%%writefile demo02.py\n",
    "#!/usr/bin/env python\n",
    "# -*- coding: utf-8 -*-\n",
    "\"\"\"argparse demo\"\"\"\n",
    "import argparse\n",
    "\n",
    "parser = argparse.ArgumentParser()\n",
    "args = parser.parse_args()\n",
    "\n",
    "print(args)"
   ]
  },
  {
   "cell_type": "markdown",
   "metadata": {
    "slideshow": {
     "slide_type": "slide"
    }
   },
   "source": [
    "运行示例，查看结果"
   ]
  },
  {
   "cell_type": "code",
   "execution_count": 16,
   "metadata": {
    "slideshow": {
     "slide_type": "-"
    }
   },
   "outputs": [
    {
     "name": "stdout",
     "output_type": "stream",
     "text": [
      "Namespace()\r\n"
     ]
    }
   ],
   "source": [
    "!python demo02.py"
   ]
  },
  {
   "cell_type": "markdown",
   "metadata": {
    "slideshow": {
     "slide_type": "slide"
    }
   },
   "source": [
    "不要着急，试一试帮助"
   ]
  },
  {
   "cell_type": "code",
   "execution_count": 19,
   "metadata": {
    "slideshow": {
     "slide_type": "-"
    }
   },
   "outputs": [
    {
     "name": "stdout",
     "output_type": "stream",
     "text": [
      "usage: demo02.py [-h]\r\n",
      "\r\n",
      "optional arguments:\r\n",
      "  -h, --help  show this help message and exit\r\n"
     ]
    }
   ],
   "source": [
    "!python demo02.py -h"
   ]
  },
  {
   "cell_type": "markdown",
   "metadata": {
    "slideshow": {
     "slide_type": "slide"
    }
   },
   "source": [
    "输入一些错误情况"
   ]
  },
  {
   "cell_type": "code",
   "execution_count": 20,
   "metadata": {
    "slideshow": {
     "slide_type": "-"
    }
   },
   "outputs": [
    {
     "name": "stdout",
     "output_type": "stream",
     "text": [
      "usage: demo02.py [-h]\r\n",
      "demo02.py: error: unrecognized arguments: wronginput -w\r\n"
     ]
    }
   ],
   "source": [
    "!python demo02.py wronginput -w"
   ]
  },
  {
   "cell_type": "markdown",
   "metadata": {
    "slideshow": {
     "slide_type": "slide"
    }
   },
   "source": [
    "由上可知，`argparse`模块缺省提供了如下功能：\n",
    "- `--help`或`-h`的帮助选项，以及帮助说明；\n",
    "- 对于错误输入会给出提示"
   ]
  },
  {
   "cell_type": "markdown",
   "metadata": {
    "slideshow": {
     "slide_type": "slide"
    }
   },
   "source": [
    "### 位置参数\n",
    "\n",
    "前面讲过，程序的一些输入参数必须输入。对此种情况，可以使用位置参数（positional arguments）。"
   ]
  },
  {
   "cell_type": "code",
   "execution_count": 31,
   "metadata": {
    "slideshow": {
     "slide_type": "slide"
    }
   },
   "outputs": [
    {
     "name": "stdout",
     "output_type": "stream",
     "text": [
      "Overwriting demo03.py\n"
     ]
    }
   ],
   "source": [
    "%%writefile demo03.py\n",
    "#!/usr/bin/env python\n",
    "# -*- coding: utf-8 -*-\n",
    "\"\"\"argparse demo\"\"\"\n",
    "import argparse\n",
    "\n",
    "parser = argparse.ArgumentParser()\n",
    "parser.add_argument('posarg1')\n",
    "parser.add_argument('posarg2', help=\"位置参数2\", type=float)\n",
    "parser.add_argument('posarg3', help=\"位置参数3\", type=int)\n",
    "args = parser.parse_args()\n",
    "\n",
    "print(args)"
   ]
  },
  {
   "cell_type": "markdown",
   "metadata": {
    "slideshow": {
     "slide_type": "slide"
    }
   },
   "source": [
    "其中使用了关键字：\n",
    "- `help`，会在说明帮助中显示\n",
    "- `type`，指定参数值类型。如果不正确会报错误"
   ]
  },
  {
   "cell_type": "markdown",
   "metadata": {
    "slideshow": {
     "slide_type": "slide"
    }
   },
   "source": [
    "查看程序的帮助信息"
   ]
  },
  {
   "cell_type": "code",
   "execution_count": 30,
   "metadata": {
    "slideshow": {
     "slide_type": "-"
    }
   },
   "outputs": [
    {
     "name": "stdout",
     "output_type": "stream",
     "text": [
      "Traceback (most recent call last):\r\n",
      "  File \"demo03.py\", line 7, in <module>\r\n",
      "    parser.add_argument('posarg1', dest='p1')\r\n",
      "  File \"/opt/anaconda3/lib/python3.6/argparse.py\", line 1315, in add_argument\r\n",
      "    raise ValueError('dest supplied twice for positional argument')\r\n",
      "ValueError: dest supplied twice for positional argument\r\n"
     ]
    }
   ],
   "source": [
    "!python demo03.py -h"
   ]
  },
  {
   "cell_type": "markdown",
   "metadata": {
    "slideshow": {
     "slide_type": "slide"
    }
   },
   "source": [
    "运行程序，并查看结果"
   ]
  },
  {
   "cell_type": "code",
   "execution_count": 34,
   "metadata": {
    "slideshow": {
     "slide_type": "-"
    }
   },
   "outputs": [
    {
     "name": "stdout",
     "output_type": "stream",
     "text": [
      "Namespace(posarg1='xyz', posarg2=3.1415, posarg3=128)\r\n"
     ]
    }
   ],
   "source": [
    "!python demo03.py xyz 3.1415 128"
   ]
  },
  {
   "cell_type": "markdown",
   "metadata": {
    "slideshow": {
     "slide_type": "slide"
    }
   },
   "source": [
    "试一试错误输入"
   ]
  },
  {
   "cell_type": "code",
   "execution_count": 35,
   "metadata": {
    "slideshow": {
     "slide_type": "-"
    }
   },
   "outputs": [
    {
     "name": "stdout",
     "output_type": "stream",
     "text": [
      "usage: demo03.py [-h] posarg1 posarg2 posarg3\r\n",
      "demo03.py: error: argument posarg2: invalid float value: 'str'\r\n"
     ]
    }
   ],
   "source": [
    "!python demo03.py 128 str xyz"
   ]
  },
  {
   "cell_type": "markdown",
   "metadata": {
    "slideshow": {
     "slide_type": "slide"
    }
   },
   "source": [
    "### 可选参数\n",
    "\n",
    "可选参数（optional arguments），也称为选项，有点像函数中的关键字参数，在Linux系统程序的选项通常用如下方式：\n",
    "- 短参数，`-h`，通常用的频率稍高些\n",
    "- 长参数，`--help`，通常用的频率稍低些"
   ]
  },
  {
   "cell_type": "markdown",
   "metadata": {
    "slideshow": {
     "slide_type": "slide"
    }
   },
   "source": [
    "选项后面可以指定值，也可以不指定。"
   ]
  },
  {
   "cell_type": "markdown",
   "metadata": {
    "slideshow": {
     "slide_type": "slide"
    }
   },
   "source": [
    "下面创建包括短参数和长参数的程序示例"
   ]
  },
  {
   "cell_type": "code",
   "execution_count": 46,
   "metadata": {
    "slideshow": {
     "slide_type": "slide"
    }
   },
   "outputs": [
    {
     "name": "stdout",
     "output_type": "stream",
     "text": [
      "Overwriting demo04.py\n"
     ]
    }
   ],
   "source": [
    "%%writefile demo04.py\n",
    "#!/usr/bin/env python\n",
    "# -*- coding: utf-8 -*-\n",
    "\"\"\"argparse demo\"\"\"\n",
    "import argparse\n",
    "\n",
    "parser = argparse.ArgumentParser()\n",
    "parser.add_argument('-a', action=\"store_true\", default=False)\n",
    "parser.add_argument('-b', action=\"store\", dest=\"b\")\n",
    "parser.add_argument('-c', action=\"store\", dest=\"number\", type=int)\n",
    "parser.add_argument('--witharg', action=\"store\", default='default d')\n",
    "args = parser.parse_args()\n",
    "print(args)"
   ]
  },
  {
   "cell_type": "markdown",
   "metadata": {
    "slideshow": {
     "slide_type": "slide"
    }
   },
   "source": [
    "在调用`add_argument()`，使用了关键字参数：\n",
    "- `action`\n",
    "- `dest`\n",
    "- `default`"
   ]
  },
  {
   "cell_type": "markdown",
   "metadata": {
    "slideshow": {
     "slide_type": "slide"
    }
   },
   "source": [
    "在命令行中，指定每个选项"
   ]
  },
  {
   "cell_type": "code",
   "execution_count": 47,
   "metadata": {
    "slideshow": {
     "slide_type": "-"
    }
   },
   "outputs": [
    {
     "name": "stdout",
     "output_type": "stream",
     "text": [
      "Namespace(a=True, b='val', number=2, witharg='xyz')\r\n"
     ]
    }
   ],
   "source": [
    "!python demo04.py -a -bval -c 2 --witharg xyz"
   ]
  },
  {
   "cell_type": "markdown",
   "metadata": {
    "slideshow": {
     "slide_type": "slide"
    }
   },
   "source": [
    "再比较一下，不指定选项的结果。"
   ]
  },
  {
   "cell_type": "code",
   "execution_count": 48,
   "metadata": {
    "slideshow": {
     "slide_type": "-"
    }
   },
   "outputs": [
    {
     "name": "stdout",
     "output_type": "stream",
     "text": [
      "Namespace(a=False, b=None, number=None, witharg='default d')\r\n"
     ]
    }
   ],
   "source": [
    "!python demo04.py"
   ]
  },
  {
   "cell_type": "markdown",
   "metadata": {
    "slideshow": {
     "slide_type": "slide"
    }
   },
   "source": [
    "可以看出，如果在命令行中不指定选项，则选项参数为`None`。可以使用`default`设置缺省值。"
   ]
  },
  {
   "cell_type": "markdown",
   "metadata": {
    "slideshow": {
     "slide_type": "slide"
    }
   },
   "source": [
    "也可以像帮助选项那样，同时提供短参数和长参数。"
   ]
  },
  {
   "cell_type": "code",
   "execution_count": 55,
   "metadata": {
    "slideshow": {
     "slide_type": "slide"
    }
   },
   "outputs": [
    {
     "name": "stdout",
     "output_type": "stream",
     "text": [
      "Overwriting demo05.py\n"
     ]
    }
   ],
   "source": [
    "%%writefile demo05.py\n",
    "#!/usr/bin/env python\n",
    "# -*- coding: utf-8 -*-\n",
    "\"\"\"argparse demo\"\"\"\n",
    "import argparse\n",
    "\n",
    "parser = argparse.ArgumentParser()\n",
    "parser.add_argument('-a', '--longa', action='store_true', default=False)\n",
    "parser.add_argument('-b', '--longb', action='store', dest='longb')\n",
    "parser.add_argument('-c', '--longc', action='store', dest='number', type=int)\n",
    "args = parser.parse_args()\n",
    "print(args)"
   ]
  },
  {
   "cell_type": "markdown",
   "metadata": {
    "slideshow": {
     "slide_type": "slide"
    }
   },
   "source": [
    "运行程序，查看程序帮助信息"
   ]
  },
  {
   "cell_type": "code",
   "execution_count": 54,
   "metadata": {
    "slideshow": {
     "slide_type": "-"
    }
   },
   "outputs": [
    {
     "name": "stdout",
     "output_type": "stream",
     "text": [
      "usage: demo05.py [-h] [-a] [-b LONGB] [-c NUMBER]\r\n",
      "\r\n",
      "optional arguments:\r\n",
      "  -h, --help            show this help message and exit\r\n",
      "  -a, --longa\r\n",
      "  -b LONGB, -longb LONGB\r\n",
      "  -c NUMBER, --longc NUMBER\r\n"
     ]
    }
   ],
   "source": [
    "!python demo05.py --help"
   ]
  },
  {
   "cell_type": "markdown",
   "metadata": {
    "slideshow": {
     "slide_type": "slide"
    }
   },
   "source": [
    "指定选项或不指定选项，运行程序，比较运行结果。"
   ]
  },
  {
   "cell_type": "code",
   "execution_count": 56,
   "metadata": {
    "slideshow": {
     "slide_type": "-"
    }
   },
   "outputs": [
    {
     "name": "stdout",
     "output_type": "stream",
     "text": [
      "Namespace(longa=False, longb=None, number=None)\r\n"
     ]
    }
   ],
   "source": [
    "!python demo05.py"
   ]
  },
  {
   "cell_type": "code",
   "execution_count": 57,
   "metadata": {
    "slideshow": {
     "slide_type": "-"
    }
   },
   "outputs": [
    {
     "name": "stdout",
     "output_type": "stream",
     "text": [
      "Namespace(longa=True, longb='123', number=123)\r\n"
     ]
    }
   ],
   "source": [
    "!python demo05.py --longa -b 123 -c=123"
   ]
  },
  {
   "cell_type": "markdown",
   "metadata": {
    "slideshow": {
     "slide_type": "slide"
    }
   },
   "source": [
    "### 参数混搭\n",
    "\n",
    "一个命令行程序，通常有少量的定位参数和较多的可选参数。"
   ]
  },
  {
   "cell_type": "code",
   "execution_count": 60,
   "metadata": {
    "slideshow": {
     "slide_type": "slide"
    }
   },
   "outputs": [
    {
     "name": "stdout",
     "output_type": "stream",
     "text": [
      "Overwriting demo06.py\n"
     ]
    }
   ],
   "source": [
    "%%writefile demo06.py\n",
    "#!/usr/bin/env python\n",
    "# -*- coding: utf-8 -*-\n",
    "\"\"\"argparse demo\"\"\"\n",
    "import argparse\n",
    "\n",
    "parser = argparse.ArgumentParser()\n",
    "parser.add_argument('-a', '--longa', action='store_true', default=False)\n",
    "parser.add_argument('-b', '-longb', action='store', dest='longb')\n",
    "parser.add_argument('-c', '--longc', action='store', dest='number', type=int)\n",
    "parser.add_argument('inpfile')\n",
    "args = parser.parse_args()\n",
    "print(args)"
   ]
  },
  {
   "cell_type": "markdown",
   "metadata": {
    "slideshow": {
     "slide_type": "slide"
    }
   },
   "source": [
    "运行程序，查看帮助信息"
   ]
  },
  {
   "cell_type": "code",
   "execution_count": 61,
   "metadata": {
    "slideshow": {
     "slide_type": "-"
    }
   },
   "outputs": [
    {
     "name": "stdout",
     "output_type": "stream",
     "text": [
      "usage: demo06.py [-h] [-a] [-b LONGB] [-c NUMBER] inpfile\r\n",
      "\r\n",
      "positional arguments:\r\n",
      "  inpfile\r\n",
      "\r\n",
      "optional arguments:\r\n",
      "  -h, --help            show this help message and exit\r\n",
      "  -a, --longa\r\n",
      "  -b LONGB, -longb LONGB\r\n",
      "  -c NUMBER, --longc NUMBER\r\n"
     ]
    }
   ],
   "source": [
    "!python demo06.py -h"
   ]
  },
  {
   "cell_type": "markdown",
   "metadata": {
    "slideshow": {
     "slide_type": "slide"
    }
   },
   "source": [
    "运行程序，查看结果。"
   ]
  },
  {
   "cell_type": "code",
   "execution_count": 108,
   "metadata": {
    "slideshow": {
     "slide_type": "-"
    }
   },
   "outputs": [
    {
     "name": "stdout",
     "output_type": "stream",
     "text": [
      "python: can't open file 'demo06.py': [Errno 2] No such file or directory\r\n"
     ]
    }
   ],
   "source": [
    "!python demo06.py xxx.txt"
   ]
  },
  {
   "cell_type": "markdown",
   "metadata": {},
   "source": [
    "## 更多说明"
   ]
  },
  {
   "cell_type": "markdown",
   "metadata": {
    "slideshow": {
     "slide_type": "slide"
    }
   },
   "source": [
    "### `add_argument()`用法"
   ]
  },
  {
   "cell_type": "markdown",
   "metadata": {
    "slideshow": {
     "slide_type": "slide"
    }
   },
   "source": [
    "#### `action`的使用\n",
    "\n",
    "回顾一下，`action`关键字参数作用是对指定参数进行读取处理，并存到`dest`指定的属性中。`action`关键字参数对应的值有多个下面分别介绍。"
   ]
  },
  {
   "cell_type": "markdown",
   "metadata": {
    "slideshow": {
     "slide_type": "slide"
    }
   },
   "source": [
    "缺省值为`store`，把参数指定的值存储到命名空间（Namespace）中。"
   ]
  },
  {
   "cell_type": "code",
   "execution_count": 66,
   "metadata": {
    "slideshow": {
     "slide_type": "-"
    }
   },
   "outputs": [
    {
     "data": {
      "text/plain": [
       "Namespace(foo='1')"
      ]
     },
     "execution_count": 66,
     "metadata": {},
     "output_type": "execute_result"
    }
   ],
   "source": [
    "parser = argparse.ArgumentParser()\n",
    "parser.add_argument('--foo')\n",
    "argv = '--foo 1'.split()\n",
    "parser.parse_args(argv)"
   ]
  },
  {
   "cell_type": "markdown",
   "metadata": {
    "slideshow": {
     "slide_type": "slide"
    }
   },
   "source": [
    "当指定为`store_const`值时，会存储`const`参数传入值。"
   ]
  },
  {
   "cell_type": "code",
   "execution_count": 71,
   "metadata": {
    "slideshow": {
     "slide_type": "-"
    }
   },
   "outputs": [
    {
     "data": {
      "text/plain": [
       "Namespace(foo=42)"
      ]
     },
     "execution_count": 71,
     "metadata": {},
     "output_type": "execute_result"
    }
   ],
   "source": [
    "parser = argparse.ArgumentParser()\n",
    "parser.add_argument('--foo', action='store_const', const=42)\n",
    "argv = '--foo'.split()\n",
    "parser.parse_args(argv)"
   ]
  },
  {
   "cell_type": "markdown",
   "metadata": {
    "slideshow": {
     "slide_type": "slide"
    }
   },
   "source": [
    "当指定为`store_true`或`store_false`值时，会存储`True`或`False`值。"
   ]
  },
  {
   "cell_type": "code",
   "execution_count": 72,
   "metadata": {
    "slideshow": {
     "slide_type": "-"
    }
   },
   "outputs": [
    {
     "data": {
      "text/plain": [
       "Namespace(bar=False, baz=True, foo=True)"
      ]
     },
     "execution_count": 72,
     "metadata": {},
     "output_type": "execute_result"
    }
   ],
   "source": [
    "parser = argparse.ArgumentParser()\n",
    "parser.add_argument('--foo', action='store_true')\n",
    "parser.add_argument('--bar', action='store_false')\n",
    "parser.add_argument('--baz', action='store_false')\n",
    "parser.parse_args('--foo --bar'.split())"
   ]
  },
  {
   "cell_type": "markdown",
   "metadata": {
    "slideshow": {
     "slide_type": "slide"
    }
   },
   "source": [
    "当指定为`append`值时，会把指定的参数添加到列表中，并存到命名空间中去。"
   ]
  },
  {
   "cell_type": "code",
   "execution_count": 73,
   "metadata": {
    "slideshow": {
     "slide_type": "-"
    }
   },
   "outputs": [
    {
     "data": {
      "text/plain": [
       "Namespace(foo=['1', '2'])"
      ]
     },
     "execution_count": 73,
     "metadata": {},
     "output_type": "execute_result"
    }
   ],
   "source": [
    "parser = argparse.ArgumentParser()\n",
    "parser.add_argument('--foo', action='append')\n",
    "parser.parse_args('--foo 1 --foo 2'.split())"
   ]
  },
  {
   "cell_type": "markdown",
   "metadata": {
    "slideshow": {
     "slide_type": "slide"
    }
   },
   "source": [
    "当指定为`append_const`值时，会把`const`传入值添加到列表，并存到`dest`指的属性中。"
   ]
  },
  {
   "cell_type": "code",
   "execution_count": 74,
   "metadata": {
    "slideshow": {
     "slide_type": "-"
    }
   },
   "outputs": [
    {
     "data": {
      "text/plain": [
       "Namespace(types=[<class 'str'>, <class 'int'>])"
      ]
     },
     "execution_count": 74,
     "metadata": {},
     "output_type": "execute_result"
    }
   ],
   "source": [
    "parser = argparse.ArgumentParser()\n",
    "parser.add_argument('--str', dest='types', action='append_const', const=str)\n",
    "parser.add_argument('--int', dest='types', action='append_const', const=int)\n",
    "parser.parse_args('--str --int'.split())"
   ]
  },
  {
   "cell_type": "markdown",
   "metadata": {
    "slideshow": {
     "slide_type": "slide"
    }
   },
   "source": [
    "当指定为`count`值时，会对输入参数进行计数，并把结果存储。"
   ]
  },
  {
   "cell_type": "code",
   "execution_count": 75,
   "metadata": {
    "slideshow": {
     "slide_type": "-"
    }
   },
   "outputs": [
    {
     "data": {
      "text/plain": [
       "Namespace(verbose=3)"
      ]
     },
     "execution_count": 75,
     "metadata": {},
     "output_type": "execute_result"
    }
   ],
   "source": [
    "parser = argparse.ArgumentParser()\n",
    "parser.add_argument('--verbose', '-v', action='count')\n",
    "parser.parse_args(['-vvv'])"
   ]
  },
  {
   "cell_type": "markdown",
   "metadata": {
    "slideshow": {
     "slide_type": "slide"
    }
   },
   "source": [
    "当指定为`version`值，会把`version`传入值打印出来，并退出程序。"
   ]
  },
  {
   "cell_type": "code",
   "execution_count": 76,
   "metadata": {
    "slideshow": {
     "slide_type": "-"
    }
   },
   "outputs": [
    {
     "name": "stdout",
     "output_type": "stream",
     "text": [
      "Writing demo07.py\n"
     ]
    }
   ],
   "source": [
    "%%writefile demo07.py\n",
    "#!/usr/bin/env python\n",
    "# -*- coding: utf-8 -*-\n",
    "\"\"\"argparse demo\"\"\"\n",
    "import argparse\n",
    "\n",
    "\n",
    "__version__ = '0.1.1'\n",
    "\n",
    "parser = argparse.ArgumentParser()\n",
    "parser.add_argument('-v', '--version', action='version', version=__version__)\n",
    "args = parser.parse_args()"
   ]
  },
  {
   "cell_type": "markdown",
   "metadata": {
    "slideshow": {
     "slide_type": "slide"
    }
   },
   "source": [
    "运行程序，检查帮助信息。"
   ]
  },
  {
   "cell_type": "code",
   "execution_count": 77,
   "metadata": {
    "slideshow": {
     "slide_type": "-"
    }
   },
   "outputs": [
    {
     "name": "stdout",
     "output_type": "stream",
     "text": [
      "usage: demo07.py [-h] [-v]\r\n",
      "\r\n",
      "optional arguments:\r\n",
      "  -h, --help     show this help message and exit\r\n",
      "  -v, --version  show program's version number and exit\r\n"
     ]
    }
   ],
   "source": [
    "!python demo07.py -h"
   ]
  },
  {
   "cell_type": "markdown",
   "metadata": {
    "slideshow": {
     "slide_type": "slide"
    }
   },
   "source": [
    "运行程序，查看版本信息。"
   ]
  },
  {
   "cell_type": "code",
   "execution_count": 78,
   "metadata": {
    "slideshow": {
     "slide_type": "-"
    }
   },
   "outputs": [
    {
     "name": "stdout",
     "output_type": "stream",
     "text": [
      "0.1.1\r\n"
     ]
    }
   ],
   "source": [
    "!python demo07.py -v"
   ]
  },
  {
   "cell_type": "markdown",
   "metadata": {
    "slideshow": {
     "slide_type": "slide"
    }
   },
   "source": [
    "#### `nargs`\n",
    "\n",
    "可以使用关键参数`nargs`来指定选项值的数量，有如下可选值：  \n",
    "\n",
    "| Value  |  说明|\n",
    "|:-------|:------|\n",
    "|N\t| N个选项 |\n",
    "|?\t| 零个或1个选项值 |\n",
    "|*\t| 零个或任意多个选项值 |\n",
    "|+\t| 1个或任意多个选项 |"
   ]
  },
  {
   "cell_type": "markdown",
   "metadata": {
    "slideshow": {
     "slide_type": "slide"
    }
   },
   "source": [
    "当指定为具体数字时，选项值数目必须匹配。"
   ]
  },
  {
   "cell_type": "code",
   "execution_count": 80,
   "metadata": {
    "slideshow": {
     "slide_type": "-"
    }
   },
   "outputs": [
    {
     "data": {
      "text/plain": [
       "Namespace(bar=['c'], foo=['a', 'b', 'c'])"
      ]
     },
     "execution_count": 80,
     "metadata": {},
     "output_type": "execute_result"
    }
   ],
   "source": [
    "parser = argparse.ArgumentParser()\n",
    "parser.add_argument('--foo', nargs=3)\n",
    "parser.add_argument('bar', nargs=1)\n",
    "argv = 'c --foo a b c'.split()\n",
    "parser.parse_args(argv)"
   ]
  },
  {
   "cell_type": "markdown",
   "metadata": {
    "slideshow": {
     "slide_type": "slide"
    }
   },
   "source": [
    "当指定为`?`时，表示要么指定一个选项值要么没有。"
   ]
  },
  {
   "cell_type": "code",
   "execution_count": 86,
   "metadata": {
    "slideshow": {
     "slide_type": "-"
    }
   },
   "outputs": [
    {
     "data": {
      "text/plain": [
       "Namespace(bar='XX', foo='a')"
      ]
     },
     "execution_count": 86,
     "metadata": {},
     "output_type": "execute_result"
    }
   ],
   "source": [
    "parser = argparse.ArgumentParser()\n",
    "parser.add_argument('--foo', nargs='?', const='c', default='d')\n",
    "parser.add_argument('bar', nargs='?', default='d')\n",
    "argv = 'XX --foo a'.split()\n",
    "parser.parse_args(argv)"
   ]
  },
  {
   "cell_type": "markdown",
   "metadata": {
    "slideshow": {
     "slide_type": "slide"
    }
   },
   "source": [
    "当指定为`*`时，选项值数目可以是0，可以是1个，也可以任意多个。"
   ]
  },
  {
   "cell_type": "code",
   "execution_count": 89,
   "metadata": {
    "slideshow": {
     "slide_type": "-"
    }
   },
   "outputs": [
    {
     "data": {
      "text/plain": [
       "Namespace(bar=['1', '2', 'x', 'y'], baz=['a', 'b'], foo=[])"
      ]
     },
     "execution_count": 89,
     "metadata": {},
     "output_type": "execute_result"
    }
   ],
   "source": [
    "parser = argparse.ArgumentParser()\n",
    "parser.add_argument('--foo', nargs='*')\n",
    "parser.add_argument('--bar', nargs='*')\n",
    "parser.add_argument('baz', nargs='*')\n",
    "argv = 'a b --foo --bar 1 2 x y'.split()\n",
    "parser.parse_args(argv)"
   ]
  },
  {
   "cell_type": "markdown",
   "metadata": {
    "slideshow": {
     "slide_type": "slide"
    }
   },
   "source": [
    "当指定为`+`时，表示选项要指定任意多个选项值，至少有一个。如果没有指定选项值会出错退出。"
   ]
  },
  {
   "cell_type": "code",
   "execution_count": 92,
   "metadata": {
    "slideshow": {
     "slide_type": "-"
    }
   },
   "outputs": [
    {
     "name": "stdout",
     "output_type": "stream",
     "text": [
      "Namespace(foo=['a'])\n",
      "Namespace(foo=['a', 'b', 'c'])\n"
     ]
    },
    {
     "name": "stderr",
     "output_type": "stream",
     "text": [
      "usage: ipykernel_launcher.py [-h] foo [foo ...]\n",
      "ipykernel_launcher.py: error: the following arguments are required: foo\n"
     ]
    },
    {
     "ename": "SystemExit",
     "evalue": "2",
     "output_type": "error",
     "traceback": [
      "An exception has occurred, use %tb to see the full traceback.\n",
      "\u001b[0;31mSystemExit\u001b[0m\u001b[0;31m:\u001b[0m 2\n"
     ]
    },
    {
     "name": "stderr",
     "output_type": "stream",
     "text": [
      "/opt/anaconda3/lib/python3.6/site-packages/IPython/core/interactiveshell.py:2918: UserWarning: To exit: use 'exit', 'quit', or Ctrl-D.\n",
      "  warn(\"To exit: use 'exit', 'quit', or Ctrl-D.\", stacklevel=1)\n"
     ]
    }
   ],
   "source": [
    "parser = argparse.ArgumentParser()\n",
    "parser.add_argument('foo', nargs='+')\n",
    "argv = 'a'.split()\n",
    "print(parser.parse_args(argv))\n",
    "argv = 'a b c'.split()\n",
    "print(parser.parse_args(argv))\n",
    "argv = ''.split()\n",
    "parser.parse_args(argv)"
   ]
  },
  {
   "cell_type": "markdown",
   "metadata": {
    "slideshow": {
     "slide_type": "slide"
    }
   },
   "source": [
    "#### `type`\n",
    "\n",
    "`type`用来指定参数的数据类型，默认读取参数都是字符串。"
   ]
  },
  {
   "cell_type": "code",
   "execution_count": 93,
   "metadata": {
    "slideshow": {
     "slide_type": "-"
    }
   },
   "outputs": [
    {
     "data": {
      "text/plain": [
       "Namespace(bar=2.0, file=<_io.TextIOWrapper name='demo01.py' mode='r' encoding='UTF-8'>, foo=1)"
      ]
     },
     "execution_count": 93,
     "metadata": {},
     "output_type": "execute_result"
    }
   ],
   "source": [
    "parser = argparse.ArgumentParser()\n",
    "parser.add_argument('--foo', type=int)\n",
    "parser.add_argument('--bar', type=float)\n",
    "parser.add_argument('--file', type=open)\n",
    "argv = '--foo 1 --bar 2 --file demo01.py'.split()\n",
    "parser.parse_args(argv)"
   ]
  },
  {
   "cell_type": "markdown",
   "metadata": {
    "slideshow": {
     "slide_type": "slide"
    }
   },
   "source": [
    "#### `choices`\n",
    "\n",
    "`choices`指定一个列表，参数值必须该列表中取值，否则会出错。"
   ]
  },
  {
   "cell_type": "code",
   "execution_count": 94,
   "metadata": {
    "slideshow": {
     "slide_type": "-"
    }
   },
   "outputs": [
    {
     "name": "stdout",
     "output_type": "stream",
     "text": [
      "Namespace(msglev='debug')\n"
     ]
    },
    {
     "name": "stderr",
     "output_type": "stream",
     "text": [
      "usage: ipykernel_launcher.py [-h] [-m {debug,info,warning,error,critical}]\n",
      "ipykernel_launcher.py: error: argument -m/--msglev: invalid choice: 'x' (choose from 'debug', 'info', 'warning', 'error', 'critical')\n"
     ]
    },
    {
     "ename": "SystemExit",
     "evalue": "2",
     "output_type": "error",
     "traceback": [
      "An exception has occurred, use %tb to see the full traceback.\n",
      "\u001b[0;31mSystemExit\u001b[0m\u001b[0;31m:\u001b[0m 2\n"
     ]
    },
    {
     "name": "stderr",
     "output_type": "stream",
     "text": [
      "/opt/anaconda3/lib/python3.6/site-packages/IPython/core/interactiveshell.py:2918: UserWarning: To exit: use 'exit', 'quit', or Ctrl-D.\n",
      "  warn(\"To exit: use 'exit', 'quit', or Ctrl-D.\", stacklevel=1)\n"
     ]
    }
   ],
   "source": [
    "parser = argparse.ArgumentParser()\n",
    "msgnames = ['debug', 'info', 'warning', 'error', 'critical']\n",
    "parser.add_argument('-m', '--msglev', choices=msgnames)\n",
    "argv = '-m debug'.split()\n",
    "print(parser.parse_args(argv))\n",
    "argv = '-m x'.split()\n",
    "print(parser.parse_args(argv))"
   ]
  },
  {
   "cell_type": "markdown",
   "metadata": {
    "slideshow": {
     "slide_type": "slide"
    }
   },
   "source": [
    "### 更多`ArgumentParser`用法\n",
    "\n",
    "要进行命令行解析，首先需要创建`ArgumentParser()`对象。在创建`ArgumentParser()`对象，可以使用关键字参数，来进行更多定制。"
   ]
  },
  {
   "cell_type": "markdown",
   "metadata": {
    "slideshow": {
     "slide_type": "slide"
    }
   },
   "source": [
    "关键词参数包括：\n",
    "- `prog`：程序名，缺省值是`sys.argv[0]`。\n",
    "- `usage`：程序使用说明，缺省是自行创建。\n",
    "- `description`： 在帮助前信息添加程序描述。\n",
    "- `epilog`： 在帮助信息后显示内容\n",
    "- `parents`： `ArgumentParser`对象列表。\n",
    "- `formatter_class`： 帮助信息输出格式类。\n",
    "- `prefix_chars`： 选项前缀，默认值是`-`。\n",
    "- `fromfile_prefix_chars`： 前缀字符，放在文件名前，缺省是`None`。\n",
    "- `argument_default`： 选项缺省值全局设置。\n",
    "- `conflict_handler`： 冲突解决策略。\n",
    "- `add_help`： 是否增加选项`-h/--help`，缺省是`True`\n",
    "- `allow_abbrev`： Allows l"
   ]
  },
  {
   "cell_type": "markdown",
   "metadata": {
    "slideshow": {
     "slide_type": "slide"
    }
   },
   "source": [
    "####  `description` 与`epilog`\n",
    "\n",
    "使用`description` 与`epilog`在帮助信息中增加内容。"
   ]
  },
  {
   "cell_type": "code",
   "execution_count": 95,
   "metadata": {},
   "outputs": [
    {
     "name": "stdout",
     "output_type": "stream",
     "text": [
      "Writing demo08.py\n"
     ]
    }
   ],
   "source": [
    "%%writefile demo08.py\n",
    "#!/usr/bin/env python\n",
    "# -*- coding: utf-8 -*-\n",
    "\"\"\"argparse demo\"\"\"\n",
    "import argparse\n",
    "\n",
    "\n",
    "__version__ = '0.1.1'\n",
    "\n",
    "description = \"程序用来演示version的用法\"\n",
    "epilog = \"程序还不错吧\"\n",
    "\n",
    "parser = argparse.ArgumentParser(description=description, epilog=epilog)\n",
    "parser.add_argument('-v', '--version', action='version', version=__version__)\n",
    "args = parser.parse_args()"
   ]
  },
  {
   "cell_type": "markdown",
   "metadata": {
    "slideshow": {
     "slide_type": "slide"
    }
   },
   "source": [
    "运行程序，比较与`demo07.py`的帮助信息差异"
   ]
  },
  {
   "cell_type": "code",
   "execution_count": 96,
   "metadata": {
    "slideshow": {
     "slide_type": "-"
    }
   },
   "outputs": [
    {
     "name": "stdout",
     "output_type": "stream",
     "text": [
      "usage: demo08.py [-h] [-v]\r\n",
      "\r\n",
      "程序用来演示version的用法\r\n",
      "\r\n",
      "optional arguments:\r\n",
      "  -h, --help     show this help message and exit\r\n",
      "  -v, --version  show program's version number and exit\r\n",
      "\r\n",
      "程序还不错吧\r\n"
     ]
    }
   ],
   "source": [
    "!python demo08.py -h"
   ]
  },
  {
   "cell_type": "markdown",
   "metadata": {
    "slideshow": {
     "slide_type": "slide"
    }
   },
   "source": [
    "#### `prefix_chars`\n",
    "\n",
    "在Windows系统下，DOS命令的参数选项前缀不是`-`，而是使用`/`。故可以指定`prefix_chars='/'`来实现Dos风格的命令。"
   ]
  },
  {
   "cell_type": "code",
   "execution_count": 97,
   "metadata": {},
   "outputs": [
    {
     "name": "stdout",
     "output_type": "stream",
     "text": [
      "Writing demo09.py\n"
     ]
    }
   ],
   "source": [
    "%%writefile demo09.py\n",
    "#!/usr/bin/env python\n",
    "# -*- coding: utf-8 -*-\n",
    "\"\"\"argparse demo\"\"\"\n",
    "import argparse\n",
    "\n",
    "\n",
    "__version__ = '0.1.1'\n",
    "\n",
    "parser = argparse.ArgumentParser(prefix_chars='/')\n",
    "parser.add_argument('/s', action='store_true', default=False)\n",
    "parser.add_argument('/f', action='store')\n",
    "args = parser.parse_args()\n",
    "print(args)"
   ]
  },
  {
   "cell_type": "markdown",
   "metadata": {
    "slideshow": {
     "slide_type": "slide"
    }
   },
   "source": [
    "运行程序，查看帮助信息。"
   ]
  },
  {
   "cell_type": "code",
   "execution_count": 98,
   "metadata": {
    "slideshow": {
     "slide_type": "-"
    }
   },
   "outputs": [
    {
     "name": "stdout",
     "output_type": "stream",
     "text": [
      "usage: demo09.py [/h] [/s] [/f F]\r\n",
      "\r\n",
      "optional arguments:\r\n",
      "  /h, //help  show this help message and exit\r\n",
      "  /s\r\n",
      "  /f F\r\n"
     ]
    }
   ],
   "source": [
    "!python demo09.py /h"
   ]
  },
  {
   "cell_type": "markdown",
   "metadata": {
    "slideshow": {
     "slide_type": "slide"
    }
   },
   "source": [
    "运行程序，查看参数解析结果。"
   ]
  },
  {
   "cell_type": "code",
   "execution_count": 99,
   "metadata": {
    "slideshow": {
     "slide_type": "-"
    }
   },
   "outputs": [
    {
     "name": "stdout",
     "output_type": "stream",
     "text": [
      "Namespace(f=None, s=False)\r\n"
     ]
    }
   ],
   "source": [
    "!python demo09.py"
   ]
  },
  {
   "cell_type": "markdown",
   "metadata": {
    "slideshow": {
     "slide_type": "slide"
    }
   },
   "source": [
    "## 实战应用"
   ]
  },
  {
   "cell_type": "markdown",
   "metadata": {
    "slideshow": {
     "slide_type": "slide"
    }
   },
   "source": [
    "### 应用示例1\n",
    "\n",
    "传入多个整数（至少有一个），使用`--method`指定计算方法，缺省是求和。"
   ]
  },
  {
   "cell_type": "code",
   "execution_count": 101,
   "metadata": {
    "slideshow": {
     "slide_type": "slide"
    }
   },
   "outputs": [
    {
     "name": "stdout",
     "output_type": "stream",
     "text": [
      "Overwriting calc.py\n"
     ]
    }
   ],
   "source": [
    "%%writefile calc.py\n",
    "#!/usr/bin/env python\n",
    "# -*- coding: utf-8 -*-\n",
    "\"\"\"argparse demo\"\"\"\n",
    "import argparse\n",
    "\n",
    "\n",
    "__version__ = '1.0.0'\n",
    "\n",
    "def main():\n",
    "    \"\"\"main entry\"\"\"\n",
    "    description = \"对多个整数进行累计运算\"\n",
    "    parser = argparse.ArgumentParser(description=description)\n",
    "    parser.add_argument('integers', metavar='N', type=int, nargs='+',\n",
    "                        help='an integer for the accumulator')\n",
    "    parser.add_argument('--method', choices=['sum', 'min', 'max'], default='sum',\n",
    "                        help='a math method for accumulator')\n",
    "    parser.add_argument('-v', '--version', action='version', version=__version__)\n",
    "    args = parser.parse_args()\n",
    "\n",
    "    result = None\n",
    "    if args.method == 'sum':\n",
    "        result = sum(args.integers)\n",
    "    elif args.method == 'max':\n",
    "        result = max(args.integers)\n",
    "    elif args.method == 'min':\n",
    "        result = min(args.integers)\n",
    "\n",
    "    print(result)\n",
    "    \n",
    "if __name__ == '__main__':\n",
    "    main()"
   ]
  },
  {
   "cell_type": "markdown",
   "metadata": {
    "slideshow": {
     "slide_type": "slide"
    }
   },
   "source": [
    "运行程序，检查帮助信息"
   ]
  },
  {
   "cell_type": "code",
   "execution_count": 102,
   "metadata": {
    "slideshow": {
     "slide_type": "-"
    }
   },
   "outputs": [
    {
     "name": "stdout",
     "output_type": "stream",
     "text": [
      "usage: calc.py [-h] [--method {sum,min,max}] [-v] N [N ...]\r\n",
      "\r\n",
      "对多个整数进行累计运算\r\n",
      "\r\n",
      "positional arguments:\r\n",
      "  N                     an integer for the accumulator\r\n",
      "\r\n",
      "optional arguments:\r\n",
      "  -h, --help            show this help message and exit\r\n",
      "  --method {sum,min,max}\r\n",
      "                        a math method for accumulator\r\n",
      "  -v, --version         show program's version number and exit\r\n"
     ]
    }
   ],
   "source": [
    "!python calc.py -h"
   ]
  },
  {
   "cell_type": "markdown",
   "metadata": {
    "slideshow": {
     "slide_type": "slide"
    }
   },
   "source": [
    "运行程序，查看结果。"
   ]
  },
  {
   "cell_type": "code",
   "execution_count": 103,
   "metadata": {
    "slideshow": {
     "slide_type": "-"
    }
   },
   "outputs": [
    {
     "name": "stdout",
     "output_type": "stream",
     "text": [
      "6\r\n"
     ]
    }
   ],
   "source": [
    "!python calc.py 1 2 3"
   ]
  },
  {
   "cell_type": "code",
   "execution_count": 104,
   "metadata": {
    "slideshow": {
     "slide_type": "-"
    }
   },
   "outputs": [
    {
     "name": "stdout",
     "output_type": "stream",
     "text": [
      "3\r\n"
     ]
    }
   ],
   "source": [
    "!python calc.py --method  max 1 2 3"
   ]
  },
  {
   "cell_type": "markdown",
   "metadata": {},
   "source": [
    "### 应用示例2\n",
    "\n"
   ]
  }
 ],
 "metadata": {
  "celltoolbar": "Slideshow",
  "kernelspec": {
   "display_name": "Python 3",
   "language": "python",
   "name": "python3"
  },
  "language_info": {
   "codemirror_mode": {
    "name": "ipython",
    "version": 3
   },
   "file_extension": ".py",
   "mimetype": "text/x-python",
   "name": "python",
   "nbconvert_exporter": "python",
   "pygments_lexer": "ipython3",
   "version": "3.6.4"
  },
  "toc": {
   "base_numbering": 1,
   "nav_menu": {},
   "number_sections": true,
   "sideBar": true,
   "skip_h1_title": false,
   "title_cell": "Table of Contents",
   "title_sidebar": "Contents",
   "toc_cell": false,
   "toc_position": {
    "height": "calc(100% - 180px)",
    "left": "10px",
    "top": "150px",
    "width": "210px"
   },
   "toc_section_display": true,
   "toc_window_display": true
  }
 },
 "nbformat": 4,
 "nbformat_minor": 2
}
