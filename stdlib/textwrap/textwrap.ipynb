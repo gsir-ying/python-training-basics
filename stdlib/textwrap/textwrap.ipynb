{
 "cells": [
  {
   "cell_type": "markdown",
   "metadata": {},
   "source": [
    "# textwrap"
   ]
  },
  {
   "cell_type": "code",
   "execution_count": 1,
   "metadata": {},
   "outputs": [],
   "source": [
    "import textwrap\n",
    "\n",
    "# Provide some sample text\n",
    "sample_text = '''\n",
    "\n",
    " The textwrap module can be used to format text for output in situations\n",
    " where pretty-printing is desired.  It offers programmatic functionality similar\n",
    " to the paragraph wrapping or filling features found in many text editors.\n",
    "\n",
    "'''"
   ]
  },
  {
   "cell_type": "code",
   "execution_count": 2,
   "metadata": {},
   "outputs": [
    {
     "name": "stdout",
     "output_type": "stream",
     "text": [
      "No dedent:\n",
      "\n",
      "   The textwrap module can be used to format text for output in\n",
      "situations  where pretty-printing is desired.  It offers programmatic\n",
      "functionality similar  to the paragraph wrapping or filling features\n",
      "found in many text editors.\n"
     ]
    }
   ],
   "source": [
    "print('No dedent:\\n')\n",
    "print(textwrap.fill(sample_text))"
   ]
  },
  {
   "cell_type": "code",
   "execution_count": 3,
   "metadata": {},
   "outputs": [
    {
     "name": "stdout",
     "output_type": "stream",
     "text": [
      "Dedented:\n",
      "\n",
      "The textwrap module can be used to format text for output in situations\n",
      "where pretty-printing is desired.  It offers programmatic functionality similar\n",
      "to the paragraph wrapping or filling features found in many text editors.\n"
     ]
    }
   ],
   "source": [
    "dedented_text = textwrap.dedent(sample_text).strip()\n",
    "print('Dedented:\\n')\n",
    "\n",
    "print(dedented_text)"
   ]
  },
  {
   "cell_type": "code",
   "execution_count": 4,
   "metadata": {},
   "outputs": [
    {
     "name": "stdout",
     "output_type": "stream",
     "text": [
      "\n",
      "20 Columns:\n",
      "\n",
      "The textwrap module\n",
      "can be used to\n",
      "format text for\n",
      "output in situations\n",
      "where pretty-\n",
      "printing is desired.\n",
      "It offers\n",
      "programmatic\n",
      "functionality\n",
      "similar to the\n",
      "paragraph wrapping\n",
      "or filling features\n",
      "found in many text\n",
      "editors.\n",
      "\n",
      "60 Columns:\n",
      "\n",
      "The textwrap module can be used to format text for output in\n",
      "situations where pretty-printing is desired.  It offers\n",
      "programmatic functionality similar to the paragraph wrapping\n",
      "or filling features found in many text editors.\n",
      "\n",
      "80 Columns:\n",
      "\n",
      "The textwrap module can be used to format text for output in situations where\n",
      "pretty-printing is desired.  It offers programmatic functionality similar to the\n",
      "paragraph wrapping or filling features found in many text editors.\n"
     ]
    }
   ],
   "source": [
    "# Format the output with a few different max line width values\n",
    "for width in [ 20, 60, 80 ]:\n",
    "    print()\n",
    "    print('%d Columns:\\n' % width)\n",
    "    print(textwrap.fill(dedented_text, width=width))"
   ]
  },
  {
   "cell_type": "code",
   "execution_count": 5,
   "metadata": {},
   "outputs": [
    {
     "name": "stdout",
     "output_type": "stream",
     "text": [
      "\n",
      "Hanging indent:\n",
      "\n",
      "The textwrap module can be used to format text for output in\n",
      "    situations where pretty-printing is desired.  It offers\n",
      "    programmatic functionality similar to the paragraph wrapping or\n",
      "    filling features found in many text editors.\n"
     ]
    }
   ],
   "source": [
    "# Demonstrate how to produce a hanging indent\n",
    "print('\\nHanging indent:\\n')\n",
    "print(textwrap.fill(dedented_text, initial_indent='', subsequent_indent='    '))"
   ]
  },
  {
   "cell_type": "code",
   "execution_count": null,
   "metadata": {},
   "outputs": [],
   "source": []
  }
 ],
 "metadata": {
  "kernelspec": {
   "display_name": "Python 3",
   "language": "python",
   "name": "python3"
  },
  "language_info": {
   "codemirror_mode": {
    "name": "ipython",
    "version": 3
   },
   "file_extension": ".py",
   "mimetype": "text/x-python",
   "name": "python",
   "nbconvert_exporter": "python",
   "pygments_lexer": "ipython3",
   "version": "3.6.4"
  },
  "toc": {
   "base_numbering": 1,
   "nav_menu": {},
   "number_sections": true,
   "sideBar": true,
   "skip_h1_title": false,
   "title_cell": "Table of Contents",
   "title_sidebar": "Contents",
   "toc_cell": false,
   "toc_position": {},
   "toc_section_display": true,
   "toc_window_display": false
  }
 },
 "nbformat": 4,
 "nbformat_minor": 2
}
