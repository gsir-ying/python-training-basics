{
 "cells": [
  {
   "cell_type": "markdown",
   "metadata": {
    "slideshow": {
     "slide_type": "slide"
    }
   },
   "source": [
    "# logging\n",
    "\n",
    "[`logging`](https://docs.python.org/3/library/logging.html)是Python的标准库，是一个日志记录工具。"
   ]
  },
  {
   "cell_type": "markdown",
   "metadata": {
    "slideshow": {
     "slide_type": "slide"
    }
   },
   "source": [
    "## 现实世界的日志记录\n",
    "\n",
    "> 起居注是东亚地区史书的一种形式，为编年体，也就是一种以历史事件发生的时间为顺序，来编撰、记述历史的一种方式。起居注的特色在于，它是由专门的史官起居舍人对于皇帝每日的行为和言论按时记录的史书。"
   ]
  },
  {
   "cell_type": "markdown",
   "metadata": {
    "slideshow": {
     "slide_type": "slide"
    }
   },
   "source": [
    "> ”古之人君，左史记事，右史记言，所以防过失，而示后王。记注之职，其来尙矣。”  \n",
    "> 顾炎武《日知录》"
   ]
  },
  {
   "cell_type": "markdown",
   "metadata": {
    "slideshow": {
     "slide_type": "slide"
    }
   },
   "source": [
    "## 计算机中的日志记录\n",
    "\n",
    "在程序中记录日志有两个目的：\n",
    "- 故障定位（Troubleshooting）\n",
    "- 运行状态显示"
   ]
  },
  {
   "cell_type": "markdown",
   "metadata": {
    "slideshow": {
     "slide_type": "slide"
    }
   },
   "source": [
    "如何能快捷定位故障，可以通过日志记录关键要素：\n",
    "- 接口调用  \n",
    "对于外部系统、重要模块、重要方法的接口接口，记录输入以及输出结果。如果出问题，可以快速判断输入是否正确，结果是否正确。\n",
    "- 状态变化  \n",
    "对程序中重要的状态信息及其变化记录下来，方便故障重现，推断程序运行过程\n",
    "- 异常  \n",
    "对于业务异常，都要记录下来\n",
    "- 预期之外  \n",
    "按照设计，在预期之外出现的情况，可以记录下来。"
   ]
  },
  {
   "cell_type": "markdown",
   "metadata": {
    "slideshow": {
     "slide_type": "slide"
    }
   },
   "source": [
    "对于程序运行状态，需要记录的包括：\n",
    "- 时间\n",
    "- 位置\n",
    "- 关键事项\n",
    "- 重要结果"
   ]
  },
  {
   "cell_type": "markdown",
   "metadata": {},
   "source": [
    "## 创造对象\n",
    "\n",
    "使用`import`导入`logging`包。"
   ]
  },
  {
   "cell_type": "code",
   "execution_count": 1,
   "metadata": {
    "slideshow": {
     "slide_type": "-"
    }
   },
   "outputs": [],
   "source": [
    "import logging"
   ]
  },
  {
   "cell_type": "markdown",
   "metadata": {
    "slideshow": {
     "slide_type": "slide"
    }
   },
   "source": [
    "## 自省\n",
    "\n",
    "使用自省方法查看`logging`模块信息。"
   ]
  },
  {
   "cell_type": "markdown",
   "metadata": {
    "slideshow": {
     "slide_type": "slide"
    }
   },
   "source": [
    "使用`type()`函数及`pympler`查看对象类型及内存大小。"
   ]
  },
  {
   "cell_type": "code",
   "execution_count": 60,
   "metadata": {
    "slideshow": {
     "slide_type": "-"
    }
   },
   "outputs": [
    {
     "name": "stdout",
     "output_type": "stream",
     "text": [
      "<class 'module'>\n"
     ]
    }
   ],
   "source": [
    "from pympler import asizeof\n",
    "\n",
    "print(type(logging))\n",
    "# print(asizeof.asizeof(logging))"
   ]
  },
  {
   "cell_type": "markdown",
   "metadata": {
    "slideshow": {
     "slide_type": "slide"
    }
   },
   "source": [
    "使用内置函数`help()`查看`logging`模块使用说明。"
   ]
  },
  {
   "cell_type": "code",
   "execution_count": 61,
   "metadata": {
    "slideshow": {
     "slide_type": "slide"
    }
   },
   "outputs": [
    {
     "name": "stdout",
     "output_type": "stream",
     "text": [
      "Help on package logging:\n",
      "\n",
      "NAME\n",
      "    logging\n",
      "\n",
      "MODULE REFERENCE\n",
      "    https://docs.python.org/3.6/library/logging\n",
      "    \n",
      "    The following documentation is automatically generated from the Python\n",
      "    source files.  It may be incomplete, incorrect or include features that\n",
      "    are considered implementation detail and may vary between Python\n",
      "    implementations.  When in doubt, consult the module reference at the\n",
      "    location listed above.\n",
      "\n",
      "DESCRIPTION\n",
      "    Logging package for Python. Based on PEP 282 and comments thereto in\n",
      "    comp.lang.python.\n",
      "    \n",
      "    Copyright (C) 2001-2016 Vinay Sajip. All Rights Reserved.\n",
      "    \n",
      "    To use, simply 'import logging' and log away!\n",
      "\n",
      "PACKAGE CONTENTS\n",
      "    config\n",
      "    handlers\n",
      "\n",
      "CLASSES\n",
      "    builtins.object\n",
      "        BufferingFormatter\n",
      "        Filter\n",
      "        Formatter\n",
      "        LogRecord\n",
      "        LoggerAdapter\n",
      "    Filterer(builtins.object)\n",
      "        Handler\n",
      "            NullHandler\n",
      "            StreamHandler\n",
      "                FileHandler\n",
      "        Logger\n",
      "    \n",
      "    class BufferingFormatter(builtins.object)\n",
      "     |  A formatter suitable for formatting a number of records.\n",
      "     |  \n",
      "     |  Methods defined here:\n",
      "     |  \n",
      "     |  __init__(self, linefmt=None)\n",
      "     |      Optionally specify a formatter which will be used to format each\n",
      "     |      individual record.\n",
      "     |  \n",
      "     |  format(self, records)\n",
      "     |      Format the specified records and return the result as a string.\n",
      "     |  \n",
      "     |  formatFooter(self, records)\n",
      "     |      Return the footer string for the specified records.\n",
      "     |  \n",
      "     |  formatHeader(self, records)\n",
      "     |      Return the header string for the specified records.\n",
      "     |  \n",
      "     |  ----------------------------------------------------------------------\n",
      "     |  Data descriptors defined here:\n",
      "     |  \n",
      "     |  __dict__\n",
      "     |      dictionary for instance variables (if defined)\n",
      "     |  \n",
      "     |  __weakref__\n",
      "     |      list of weak references to the object (if defined)\n",
      "    \n",
      "    class FileHandler(StreamHandler)\n",
      "     |  A handler class which writes formatted logging records to disk files.\n",
      "     |  \n",
      "     |  Method resolution order:\n",
      "     |      FileHandler\n",
      "     |      StreamHandler\n",
      "     |      Handler\n",
      "     |      Filterer\n",
      "     |      builtins.object\n",
      "     |  \n",
      "     |  Methods defined here:\n",
      "     |  \n",
      "     |  __init__(self, filename, mode='a', encoding=None, delay=False)\n",
      "     |      Open the specified file and use it as the stream for logging.\n",
      "     |  \n",
      "     |  __repr__(self)\n",
      "     |      Return repr(self).\n",
      "     |  \n",
      "     |  close(self)\n",
      "     |      Closes the stream.\n",
      "     |  \n",
      "     |  emit(self, record)\n",
      "     |      Emit a record.\n",
      "     |      \n",
      "     |      If the stream was not opened because 'delay' was specified in the\n",
      "     |      constructor, open it before calling the superclass's emit.\n",
      "     |  \n",
      "     |  ----------------------------------------------------------------------\n",
      "     |  Methods inherited from StreamHandler:\n",
      "     |  \n",
      "     |  flush(self)\n",
      "     |      Flushes the stream.\n",
      "     |  \n",
      "     |  ----------------------------------------------------------------------\n",
      "     |  Data and other attributes inherited from StreamHandler:\n",
      "     |  \n",
      "     |  terminator = '\\n'\n",
      "     |  \n",
      "     |  ----------------------------------------------------------------------\n",
      "     |  Methods inherited from Handler:\n",
      "     |  \n",
      "     |  acquire(self)\n",
      "     |      Acquire the I/O thread lock.\n",
      "     |  \n",
      "     |  createLock(self)\n",
      "     |      Acquire a thread lock for serializing access to the underlying I/O.\n",
      "     |  \n",
      "     |  format(self, record)\n",
      "     |      Format the specified record.\n",
      "     |      \n",
      "     |      If a formatter is set, use it. Otherwise, use the default formatter\n",
      "     |      for the module.\n",
      "     |  \n",
      "     |  get_name(self)\n",
      "     |  \n",
      "     |  handle(self, record)\n",
      "     |      Conditionally emit the specified logging record.\n",
      "     |      \n",
      "     |      Emission depends on filters which may have been added to the handler.\n",
      "     |      Wrap the actual emission of the record with acquisition/release of\n",
      "     |      the I/O thread lock. Returns whether the filter passed the record for\n",
      "     |      emission.\n",
      "     |  \n",
      "     |  handleError(self, record)\n",
      "     |      Handle errors which occur during an emit() call.\n",
      "     |      \n",
      "     |      This method should be called from handlers when an exception is\n",
      "     |      encountered during an emit() call. If raiseExceptions is false,\n",
      "     |      exceptions get silently ignored. This is what is mostly wanted\n",
      "     |      for a logging system - most users will not care about errors in\n",
      "     |      the logging system, they are more interested in application errors.\n",
      "     |      You could, however, replace this with a custom handler if you wish.\n",
      "     |      The record which was being processed is passed in to this method.\n",
      "     |  \n",
      "     |  release(self)\n",
      "     |      Release the I/O thread lock.\n",
      "     |  \n",
      "     |  setFormatter(self, fmt)\n",
      "     |      Set the formatter for this handler.\n",
      "     |  \n",
      "     |  setLevel(self, level)\n",
      "     |      Set the logging level of this handler.  level must be an int or a str.\n",
      "     |  \n",
      "     |  set_name(self, name)\n",
      "     |  \n",
      "     |  ----------------------------------------------------------------------\n",
      "     |  Data descriptors inherited from Handler:\n",
      "     |  \n",
      "     |  name\n",
      "     |  \n",
      "     |  ----------------------------------------------------------------------\n",
      "     |  Methods inherited from Filterer:\n",
      "     |  \n",
      "     |  addFilter(self, filter)\n",
      "     |      Add the specified filter to this handler.\n",
      "     |  \n",
      "     |  filter(self, record)\n",
      "     |      Determine if a record is loggable by consulting all the filters.\n",
      "     |      \n",
      "     |      The default is to allow the record to be logged; any filter can veto\n",
      "     |      this and the record is then dropped. Returns a zero value if a record\n",
      "     |      is to be dropped, else non-zero.\n",
      "     |      \n",
      "     |      .. versionchanged:: 3.2\n",
      "     |      \n",
      "     |         Allow filters to be just callables.\n",
      "     |  \n",
      "     |  removeFilter(self, filter)\n",
      "     |      Remove the specified filter from this handler.\n",
      "     |  \n",
      "     |  ----------------------------------------------------------------------\n",
      "     |  Data descriptors inherited from Filterer:\n",
      "     |  \n",
      "     |  __dict__\n",
      "     |      dictionary for instance variables (if defined)\n",
      "     |  \n",
      "     |  __weakref__\n",
      "     |      list of weak references to the object (if defined)\n",
      "    \n",
      "    class Filter(builtins.object)\n",
      "     |  Filter instances are used to perform arbitrary filtering of LogRecords.\n",
      "     |  \n",
      "     |  Loggers and Handlers can optionally use Filter instances to filter\n",
      "     |  records as desired. The base filter class only allows events which are\n",
      "     |  below a certain point in the logger hierarchy. For example, a filter\n",
      "     |  initialized with \"A.B\" will allow events logged by loggers \"A.B\",\n",
      "     |  \"A.B.C\", \"A.B.C.D\", \"A.B.D\" etc. but not \"A.BB\", \"B.A.B\" etc. If\n",
      "     |  initialized with the empty string, all events are passed.\n",
      "     |  \n",
      "     |  Methods defined here:\n",
      "     |  \n",
      "     |  __init__(self, name='')\n",
      "     |      Initialize a filter.\n",
      "     |      \n",
      "     |      Initialize with the name of the logger which, together with its\n",
      "     |      children, will have its events allowed through the filter. If no\n",
      "     |      name is specified, allow every event.\n",
      "     |  \n",
      "     |  filter(self, record)\n",
      "     |      Determine if the specified record is to be logged.\n",
      "     |      \n",
      "     |      Is the specified record to be logged? Returns 0 for no, nonzero for\n",
      "     |      yes. If deemed appropriate, the record may be modified in-place.\n",
      "     |  \n",
      "     |  ----------------------------------------------------------------------\n",
      "     |  Data descriptors defined here:\n",
      "     |  \n",
      "     |  __dict__\n",
      "     |      dictionary for instance variables (if defined)\n",
      "     |  \n",
      "     |  __weakref__\n",
      "     |      list of weak references to the object (if defined)\n",
      "    \n",
      "    class Formatter(builtins.object)\n",
      "     |  Formatter instances are used to convert a LogRecord to text.\n",
      "     |  \n",
      "     |  Formatters need to know how a LogRecord is constructed. They are\n",
      "     |  responsible for converting a LogRecord to (usually) a string which can\n",
      "     |  be interpreted by either a human or an external system. The base Formatter\n",
      "     |  allows a formatting string to be specified. If none is supplied, the\n",
      "     |  default value of \"%s(message)\" is used.\n",
      "     |  \n",
      "     |  The Formatter can be initialized with a format string which makes use of\n",
      "     |  knowledge of the LogRecord attributes - e.g. the default value mentioned\n",
      "     |  above makes use of the fact that the user's message and arguments are pre-\n",
      "     |  formatted into a LogRecord's message attribute. Currently, the useful\n",
      "     |  attributes in a LogRecord are described by:\n",
      "     |  \n",
      "     |  %(name)s            Name of the logger (logging channel)\n",
      "     |  %(levelno)s         Numeric logging level for the message (DEBUG, INFO,\n",
      "     |                      WARNING, ERROR, CRITICAL)\n",
      "     |  %(levelname)s       Text logging level for the message (\"DEBUG\", \"INFO\",\n",
      "     |                      \"WARNING\", \"ERROR\", \"CRITICAL\")\n",
      "     |  %(pathname)s        Full pathname of the source file where the logging\n",
      "     |                      call was issued (if available)\n",
      "     |  %(filename)s        Filename portion of pathname\n",
      "     |  %(module)s          Module (name portion of filename)\n",
      "     |  %(lineno)d          Source line number where the logging call was issued\n",
      "     |                      (if available)\n",
      "     |  %(funcName)s        Function name\n",
      "     |  %(created)f         Time when the LogRecord was created (time.time()\n",
      "     |                      return value)\n",
      "     |  %(asctime)s         Textual time when the LogRecord was created\n",
      "     |  %(msecs)d           Millisecond portion of the creation time\n",
      "     |  %(relativeCreated)d Time in milliseconds when the LogRecord was created,\n",
      "     |                      relative to the time the logging module was loaded\n",
      "     |                      (typically at application startup time)\n",
      "     |  %(thread)d          Thread ID (if available)\n",
      "     |  %(threadName)s      Thread name (if available)\n",
      "     |  %(process)d         Process ID (if available)\n",
      "     |  %(message)s         The result of record.getMessage(), computed just as\n",
      "     |                      the record is emitted\n",
      "     |  \n",
      "     |  Methods defined here:\n",
      "     |  \n",
      "     |  __init__(self, fmt=None, datefmt=None, style='%')\n",
      "     |      Initialize the formatter with specified format strings.\n",
      "     |      \n",
      "     |      Initialize the formatter either with the specified format string, or a\n",
      "     |      default as described above. Allow for specialized date formatting with\n",
      "     |      the optional datefmt argument (if omitted, you get the ISO8601 format).\n",
      "     |      \n",
      "     |      Use a style parameter of '%', '{' or '$' to specify that you want to\n",
      "     |      use one of %-formatting, :meth:`str.format` (``{}``) formatting or\n",
      "     |      :class:`string.Template` formatting in your format string.\n",
      "     |      \n",
      "     |      .. versionchanged:: 3.2\n",
      "     |         Added the ``style`` parameter.\n",
      "     |  \n",
      "     |  converter = localtime(...)\n",
      "     |      localtime([seconds]) -> (tm_year,tm_mon,tm_mday,tm_hour,tm_min,\n",
      "     |                                tm_sec,tm_wday,tm_yday,tm_isdst)\n",
      "     |      \n",
      "     |      Convert seconds since the Epoch to a time tuple expressing local time.\n",
      "     |      When 'seconds' is not passed in, convert the current time instead.\n",
      "     |  \n",
      "     |  format(self, record)\n",
      "     |      Format the specified record as text.\n",
      "     |      \n",
      "     |      The record's attribute dictionary is used as the operand to a\n",
      "     |      string formatting operation which yields the returned string.\n",
      "     |      Before formatting the dictionary, a couple of preparatory steps\n",
      "     |      are carried out. The message attribute of the record is computed\n",
      "     |      using LogRecord.getMessage(). If the formatting string uses the\n",
      "     |      time (as determined by a call to usesTime(), formatTime() is\n",
      "     |      called to format the event time. If there is exception information,\n",
      "     |      it is formatted using formatException() and appended to the message.\n",
      "     |  \n",
      "     |  formatException(self, ei)\n",
      "     |      Format and return the specified exception information as a string.\n",
      "     |      \n",
      "     |      This default implementation just uses\n",
      "     |      traceback.print_exception()\n",
      "     |  \n",
      "     |  formatMessage(self, record)\n",
      "     |  \n",
      "     |  formatStack(self, stack_info)\n",
      "     |      This method is provided as an extension point for specialized\n",
      "     |      formatting of stack information.\n",
      "     |      \n",
      "     |      The input data is a string as returned from a call to\n",
      "     |      :func:`traceback.print_stack`, but with the last trailing newline\n",
      "     |      removed.\n",
      "     |      \n",
      "     |      The base implementation just returns the value passed in.\n",
      "     |  \n",
      "     |  formatTime(self, record, datefmt=None)\n",
      "     |      Return the creation time of the specified LogRecord as formatted text.\n",
      "     |      \n",
      "     |      This method should be called from format() by a formatter which\n",
      "     |      wants to make use of a formatted time. This method can be overridden\n",
      "     |      in formatters to provide for any specific requirement, but the\n",
      "     |      basic behaviour is as follows: if datefmt (a string) is specified,\n",
      "     |      it is used with time.strftime() to format the creation time of the\n",
      "     |      record. Otherwise, the ISO8601 format is used. The resulting\n",
      "     |      string is returned. This function uses a user-configurable function\n",
      "     |      to convert the creation time to a tuple. By default, time.localtime()\n",
      "     |      is used; to change this for a particular formatter instance, set the\n",
      "     |      'converter' attribute to a function with the same signature as\n",
      "     |      time.localtime() or time.gmtime(). To change it for all formatters,\n",
      "     |      for example if you want all logging times to be shown in GMT,\n",
      "     |      set the 'converter' attribute in the Formatter class.\n",
      "     |  \n",
      "     |  usesTime(self)\n",
      "     |      Check if the format uses the creation time of the record.\n",
      "     |  \n",
      "     |  ----------------------------------------------------------------------\n",
      "     |  Data descriptors defined here:\n",
      "     |  \n",
      "     |  __dict__\n",
      "     |      dictionary for instance variables (if defined)\n",
      "     |  \n",
      "     |  __weakref__\n",
      "     |      list of weak references to the object (if defined)\n",
      "     |  \n",
      "     |  ----------------------------------------------------------------------\n",
      "     |  Data and other attributes defined here:\n",
      "     |  \n",
      "     |  default_msec_format = '%s,%03d'\n",
      "     |  \n",
      "     |  default_time_format = '%Y-%m-%d %H:%M:%S'\n",
      "    \n",
      "    class Handler(Filterer)\n",
      "     |  Handler instances dispatch logging events to specific destinations.\n",
      "     |  \n",
      "     |  The base handler class. Acts as a placeholder which defines the Handler\n",
      "     |  interface. Handlers can optionally use Formatter instances to format\n",
      "     |  records as desired. By default, no formatter is specified; in this case,\n",
      "     |  the 'raw' message as determined by record.message is logged.\n",
      "     |  \n",
      "     |  Method resolution order:\n",
      "     |      Handler\n",
      "     |      Filterer\n",
      "     |      builtins.object\n",
      "     |  \n",
      "     |  Methods defined here:\n",
      "     |  \n",
      "     |  __init__(self, level=0)\n",
      "     |      Initializes the instance - basically setting the formatter to None\n",
      "     |      and the filter list to empty.\n",
      "     |  \n",
      "     |  __repr__(self)\n",
      "     |      Return repr(self).\n",
      "     |  \n",
      "     |  acquire(self)\n",
      "     |      Acquire the I/O thread lock.\n",
      "     |  \n",
      "     |  close(self)\n",
      "     |      Tidy up any resources used by the handler.\n",
      "     |      \n",
      "     |      This version removes the handler from an internal map of handlers,\n",
      "     |      _handlers, which is used for handler lookup by name. Subclasses\n",
      "     |      should ensure that this gets called from overridden close()\n",
      "     |      methods.\n",
      "     |  \n",
      "     |  createLock(self)\n",
      "     |      Acquire a thread lock for serializing access to the underlying I/O.\n",
      "     |  \n",
      "     |  emit(self, record)\n",
      "     |      Do whatever it takes to actually log the specified logging record.\n",
      "     |      \n",
      "     |      This version is intended to be implemented by subclasses and so\n",
      "     |      raises a NotImplementedError.\n",
      "     |  \n",
      "     |  flush(self)\n",
      "     |      Ensure all logging output has been flushed.\n",
      "     |      \n",
      "     |      This version does nothing and is intended to be implemented by\n",
      "     |      subclasses.\n",
      "     |  \n",
      "     |  format(self, record)\n",
      "     |      Format the specified record.\n",
      "     |      \n",
      "     |      If a formatter is set, use it. Otherwise, use the default formatter\n",
      "     |      for the module.\n",
      "     |  \n",
      "     |  get_name(self)\n",
      "     |  \n",
      "     |  handle(self, record)\n",
      "     |      Conditionally emit the specified logging record.\n",
      "     |      \n",
      "     |      Emission depends on filters which may have been added to the handler.\n",
      "     |      Wrap the actual emission of the record with acquisition/release of\n",
      "     |      the I/O thread lock. Returns whether the filter passed the record for\n",
      "     |      emission.\n",
      "     |  \n",
      "     |  handleError(self, record)\n",
      "     |      Handle errors which occur during an emit() call.\n",
      "     |      \n",
      "     |      This method should be called from handlers when an exception is\n",
      "     |      encountered during an emit() call. If raiseExceptions is false,\n",
      "     |      exceptions get silently ignored. This is what is mostly wanted\n",
      "     |      for a logging system - most users will not care about errors in\n",
      "     |      the logging system, they are more interested in application errors.\n",
      "     |      You could, however, replace this with a custom handler if you wish.\n",
      "     |      The record which was being processed is passed in to this method.\n",
      "     |  \n",
      "     |  release(self)\n",
      "     |      Release the I/O thread lock.\n",
      "     |  \n",
      "     |  setFormatter(self, fmt)\n",
      "     |      Set the formatter for this handler.\n",
      "     |  \n",
      "     |  setLevel(self, level)\n",
      "     |      Set the logging level of this handler.  level must be an int or a str.\n",
      "     |  \n",
      "     |  set_name(self, name)\n",
      "     |  \n",
      "     |  ----------------------------------------------------------------------\n",
      "     |  Data descriptors defined here:\n",
      "     |  \n",
      "     |  name\n",
      "     |  \n",
      "     |  ----------------------------------------------------------------------\n",
      "     |  Methods inherited from Filterer:\n",
      "     |  \n",
      "     |  addFilter(self, filter)\n",
      "     |      Add the specified filter to this handler.\n",
      "     |  \n",
      "     |  filter(self, record)\n",
      "     |      Determine if a record is loggable by consulting all the filters.\n",
      "     |      \n",
      "     |      The default is to allow the record to be logged; any filter can veto\n",
      "     |      this and the record is then dropped. Returns a zero value if a record\n",
      "     |      is to be dropped, else non-zero.\n",
      "     |      \n",
      "     |      .. versionchanged:: 3.2\n",
      "     |      \n",
      "     |         Allow filters to be just callables.\n",
      "     |  \n",
      "     |  removeFilter(self, filter)\n",
      "     |      Remove the specified filter from this handler.\n",
      "     |  \n",
      "     |  ----------------------------------------------------------------------\n",
      "     |  Data descriptors inherited from Filterer:\n",
      "     |  \n",
      "     |  __dict__\n",
      "     |      dictionary for instance variables (if defined)\n",
      "     |  \n",
      "     |  __weakref__\n",
      "     |      list of weak references to the object (if defined)\n",
      "    \n",
      "    class LogRecord(builtins.object)\n",
      "     |  A LogRecord instance represents an event being logged.\n",
      "     |  \n",
      "     |  LogRecord instances are created every time something is logged. They\n",
      "     |  contain all the information pertinent to the event being logged. The\n",
      "     |  main information passed in is in msg and args, which are combined\n",
      "     |  using str(msg) % args to create the message field of the record. The\n",
      "     |  record also includes information such as when the record was created,\n",
      "     |  the source line where the logging call was made, and any exception\n",
      "     |  information to be logged.\n",
      "     |  \n",
      "     |  Methods defined here:\n",
      "     |  \n",
      "     |  __init__(self, name, level, pathname, lineno, msg, args, exc_info, func=None, sinfo=None, **kwargs)\n",
      "     |      Initialize a logging record with interesting information.\n",
      "     |  \n",
      "     |  __repr__ = __str__(self)\n",
      "     |  \n",
      "     |  __str__(self)\n",
      "     |      Return str(self).\n",
      "     |  \n",
      "     |  getMessage(self)\n",
      "     |      Return the message for this LogRecord.\n",
      "     |      \n",
      "     |      Return the message for this LogRecord after merging any user-supplied\n",
      "     |      arguments with the message.\n",
      "     |  \n",
      "     |  ----------------------------------------------------------------------\n",
      "     |  Data descriptors defined here:\n",
      "     |  \n",
      "     |  __dict__\n",
      "     |      dictionary for instance variables (if defined)\n",
      "     |  \n",
      "     |  __weakref__\n",
      "     |      list of weak references to the object (if defined)\n",
      "    \n",
      "    class Logger(Filterer)\n",
      "     |  Instances of the Logger class represent a single logging channel. A\n",
      "     |  \"logging channel\" indicates an area of an application. Exactly how an\n",
      "     |  \"area\" is defined is up to the application developer. Since an\n",
      "     |  application can have any number of areas, logging channels are identified\n",
      "     |  by a unique string. Application areas can be nested (e.g. an area\n",
      "     |  of \"input processing\" might include sub-areas \"read CSV files\", \"read\n",
      "     |  XLS files\" and \"read Gnumeric files\"). To cater for this natural nesting,\n",
      "     |  channel names are organized into a namespace hierarchy where levels are\n",
      "     |  separated by periods, much like the Java or Python package namespace. So\n",
      "     |  in the instance given above, channel names might be \"input\" for the upper\n",
      "     |  level, and \"input.csv\", \"input.xls\" and \"input.gnu\" for the sub-levels.\n",
      "     |  There is no arbitrary limit to the depth of nesting.\n",
      "     |  \n",
      "     |  Method resolution order:\n",
      "     |      Logger\n",
      "     |      Filterer\n",
      "     |      builtins.object\n",
      "     |  \n",
      "     |  Methods defined here:\n",
      "     |  \n",
      "     |  __init__(self, name, level=0)\n",
      "     |      Initialize the logger with a name and an optional level.\n",
      "     |  \n",
      "     |  __repr__(self)\n",
      "     |      Return repr(self).\n",
      "     |  \n",
      "     |  addHandler(self, hdlr)\n",
      "     |      Add the specified handler to this logger.\n",
      "     |  \n",
      "     |  callHandlers(self, record)\n",
      "     |      Pass a record to all relevant handlers.\n",
      "     |      \n",
      "     |      Loop through all handlers for this logger and its parents in the\n",
      "     |      logger hierarchy. If no handler was found, output a one-off error\n",
      "     |      message to sys.stderr. Stop searching up the hierarchy whenever a\n",
      "     |      logger with the \"propagate\" attribute set to zero is found - that\n",
      "     |      will be the last logger whose handlers are called.\n",
      "     |  \n",
      "     |  critical(self, msg, *args, **kwargs)\n",
      "     |      Log 'msg % args' with severity 'CRITICAL'.\n",
      "     |      \n",
      "     |      To pass exception information, use the keyword argument exc_info with\n",
      "     |      a true value, e.g.\n",
      "     |      \n",
      "     |      logger.critical(\"Houston, we have a %s\", \"major disaster\", exc_info=1)\n",
      "     |  \n",
      "     |  debug(self, msg, *args, **kwargs)\n",
      "     |      Log 'msg % args' with severity 'DEBUG'.\n",
      "     |      \n",
      "     |      To pass exception information, use the keyword argument exc_info with\n",
      "     |      a true value, e.g.\n",
      "     |      \n",
      "     |      logger.debug(\"Houston, we have a %s\", \"thorny problem\", exc_info=1)\n",
      "     |  \n",
      "     |  error(self, msg, *args, **kwargs)\n",
      "     |      Log 'msg % args' with severity 'ERROR'.\n",
      "     |      \n",
      "     |      To pass exception information, use the keyword argument exc_info with\n",
      "     |      a true value, e.g.\n",
      "     |      \n",
      "     |      logger.error(\"Houston, we have a %s\", \"major problem\", exc_info=1)\n",
      "     |  \n",
      "     |  exception(self, msg, *args, exc_info=True, **kwargs)\n",
      "     |      Convenience method for logging an ERROR with exception information.\n",
      "     |  \n",
      "     |  fatal = critical(self, msg, *args, **kwargs)\n",
      "     |  \n",
      "     |  findCaller(self, stack_info=False)\n",
      "     |      Find the stack frame of the caller so that we can note the source\n",
      "     |      file name, line number and function name.\n",
      "     |  \n",
      "     |  getChild(self, suffix)\n",
      "     |      Get a logger which is a descendant to this one.\n",
      "     |      \n",
      "     |      This is a convenience method, such that\n",
      "     |      \n",
      "     |      logging.getLogger('abc').getChild('def.ghi')\n",
      "     |      \n",
      "     |      is the same as\n",
      "     |      \n",
      "     |      logging.getLogger('abc.def.ghi')\n",
      "     |      \n",
      "     |      It's useful, for example, when the parent logger is named using\n",
      "     |      __name__ rather than a literal string.\n",
      "     |  \n",
      "     |  getEffectiveLevel(self)\n",
      "     |      Get the effective level for this logger.\n",
      "     |      \n",
      "     |      Loop through this logger and its parents in the logger hierarchy,\n",
      "     |      looking for a non-zero logging level. Return the first one found.\n",
      "     |  \n",
      "     |  handle(self, record)\n",
      "     |      Call the handlers for the specified record.\n",
      "     |      \n",
      "     |      This method is used for unpickled records received from a socket, as\n",
      "     |      well as those created locally. Logger-level filtering is applied.\n",
      "     |  \n",
      "     |  hasHandlers(self)\n",
      "     |      See if this logger has any handlers configured.\n",
      "     |      \n",
      "     |      Loop through all handlers for this logger and its parents in the\n",
      "     |      logger hierarchy. Return True if a handler was found, else False.\n",
      "     |      Stop searching up the hierarchy whenever a logger with the \"propagate\"\n",
      "     |      attribute set to zero is found - that will be the last logger which\n",
      "     |      is checked for the existence of handlers.\n",
      "     |  \n",
      "     |  info(self, msg, *args, **kwargs)\n",
      "     |      Log 'msg % args' with severity 'INFO'.\n",
      "     |      \n",
      "     |      To pass exception information, use the keyword argument exc_info with\n",
      "     |      a true value, e.g.\n",
      "     |      \n",
      "     |      logger.info(\"Houston, we have a %s\", \"interesting problem\", exc_info=1)\n",
      "     |  \n",
      "     |  isEnabledFor(self, level)\n",
      "     |      Is this logger enabled for level 'level'?\n",
      "     |  \n",
      "     |  log(self, level, msg, *args, **kwargs)\n",
      "     |      Log 'msg % args' with the integer severity 'level'.\n",
      "     |      \n",
      "     |      To pass exception information, use the keyword argument exc_info with\n",
      "     |      a true value, e.g.\n",
      "     |      \n",
      "     |      logger.log(level, \"We have a %s\", \"mysterious problem\", exc_info=1)\n",
      "     |  \n",
      "     |  makeRecord(self, name, level, fn, lno, msg, args, exc_info, func=None, extra=None, sinfo=None)\n",
      "     |      A factory method which can be overridden in subclasses to create\n",
      "     |      specialized LogRecords.\n",
      "     |  \n",
      "     |  removeHandler(self, hdlr)\n",
      "     |      Remove the specified handler from this logger.\n",
      "     |  \n",
      "     |  setLevel(self, level)\n",
      "     |      Set the logging level of this logger.  level must be an int or a str.\n",
      "     |  \n",
      "     |  warn(self, msg, *args, **kwargs)\n",
      "     |  \n",
      "     |  warning(self, msg, *args, **kwargs)\n",
      "     |      Log 'msg % args' with severity 'WARNING'.\n",
      "     |      \n",
      "     |      To pass exception information, use the keyword argument exc_info with\n",
      "     |      a true value, e.g.\n",
      "     |      \n",
      "     |      logger.warning(\"Houston, we have a %s\", \"bit of a problem\", exc_info=1)\n",
      "     |  \n",
      "     |  ----------------------------------------------------------------------\n",
      "     |  Data and other attributes defined here:\n",
      "     |  \n",
      "     |  manager = <logging.Manager object>\n",
      "     |  \n",
      "     |  root = <RootLogger root (WARNING)>\n",
      "     |  \n",
      "     |  ----------------------------------------------------------------------\n",
      "     |  Methods inherited from Filterer:\n",
      "     |  \n",
      "     |  addFilter(self, filter)\n",
      "     |      Add the specified filter to this handler.\n",
      "     |  \n",
      "     |  filter(self, record)\n",
      "     |      Determine if a record is loggable by consulting all the filters.\n",
      "     |      \n",
      "     |      The default is to allow the record to be logged; any filter can veto\n",
      "     |      this and the record is then dropped. Returns a zero value if a record\n",
      "     |      is to be dropped, else non-zero.\n",
      "     |      \n",
      "     |      .. versionchanged:: 3.2\n",
      "     |      \n",
      "     |         Allow filters to be just callables.\n",
      "     |  \n",
      "     |  removeFilter(self, filter)\n",
      "     |      Remove the specified filter from this handler.\n",
      "     |  \n",
      "     |  ----------------------------------------------------------------------\n",
      "     |  Data descriptors inherited from Filterer:\n",
      "     |  \n",
      "     |  __dict__\n",
      "     |      dictionary for instance variables (if defined)\n",
      "     |  \n",
      "     |  __weakref__\n",
      "     |      list of weak references to the object (if defined)\n",
      "    \n",
      "    class LoggerAdapter(builtins.object)\n",
      "     |  An adapter for loggers which makes it easier to specify contextual\n",
      "     |  information in logging output.\n",
      "     |  \n",
      "     |  Methods defined here:\n",
      "     |  \n",
      "     |  __init__(self, logger, extra)\n",
      "     |      Initialize the adapter with a logger and a dict-like object which\n",
      "     |      provides contextual information. This constructor signature allows\n",
      "     |      easy stacking of LoggerAdapters, if so desired.\n",
      "     |      \n",
      "     |      You can effectively pass keyword arguments as shown in the\n",
      "     |      following example:\n",
      "     |      \n",
      "     |      adapter = LoggerAdapter(someLogger, dict(p1=v1, p2=\"v2\"))\n",
      "     |  \n",
      "     |  __repr__(self)\n",
      "     |      Return repr(self).\n",
      "     |  \n",
      "     |  critical(self, msg, *args, **kwargs)\n",
      "     |      Delegate a critical call to the underlying logger.\n",
      "     |  \n",
      "     |  debug(self, msg, *args, **kwargs)\n",
      "     |      Delegate a debug call to the underlying logger.\n",
      "     |  \n",
      "     |  error(self, msg, *args, **kwargs)\n",
      "     |      Delegate an error call to the underlying logger.\n",
      "     |  \n",
      "     |  exception(self, msg, *args, exc_info=True, **kwargs)\n",
      "     |      Delegate an exception call to the underlying logger.\n",
      "     |  \n",
      "     |  getEffectiveLevel(self)\n",
      "     |      Get the effective level for the underlying logger.\n",
      "     |  \n",
      "     |  hasHandlers(self)\n",
      "     |      See if the underlying logger has any handlers.\n",
      "     |  \n",
      "     |  info(self, msg, *args, **kwargs)\n",
      "     |      Delegate an info call to the underlying logger.\n",
      "     |  \n",
      "     |  isEnabledFor(self, level)\n",
      "     |      Is this logger enabled for level 'level'?\n",
      "     |  \n",
      "     |  log(self, level, msg, *args, **kwargs)\n",
      "     |      Delegate a log call to the underlying logger, after adding\n",
      "     |      contextual information from this adapter instance.\n",
      "     |  \n",
      "     |  process(self, msg, kwargs)\n",
      "     |      Process the logging message and keyword arguments passed in to\n",
      "     |      a logging call to insert contextual information. You can either\n",
      "     |      manipulate the message itself, the keyword args or both. Return\n",
      "     |      the message and kwargs modified (or not) to suit your needs.\n",
      "     |      \n",
      "     |      Normally, you'll only need to override this one method in a\n",
      "     |      LoggerAdapter subclass for your specific needs.\n",
      "     |  \n",
      "     |  setLevel(self, level)\n",
      "     |      Set the specified level on the underlying logger.\n",
      "     |  \n",
      "     |  warn(self, msg, *args, **kwargs)\n",
      "     |  \n",
      "     |  warning(self, msg, *args, **kwargs)\n",
      "     |      Delegate a warning call to the underlying logger.\n",
      "     |  \n",
      "     |  ----------------------------------------------------------------------\n",
      "     |  Data descriptors defined here:\n",
      "     |  \n",
      "     |  __dict__\n",
      "     |      dictionary for instance variables (if defined)\n",
      "     |  \n",
      "     |  __weakref__\n",
      "     |      list of weak references to the object (if defined)\n",
      "     |  \n",
      "     |  manager\n",
      "     |  \n",
      "     |  name\n",
      "    \n",
      "    class NullHandler(Handler)\n",
      "     |  This handler does nothing. It's intended to be used to avoid the\n",
      "     |  \"No handlers could be found for logger XXX\" one-off warning. This is\n",
      "     |  important for library code, which may contain code to log events. If a user\n",
      "     |  of the library does not configure logging, the one-off warning might be\n",
      "     |  produced; to avoid this, the library developer simply needs to instantiate\n",
      "     |  a NullHandler and add it to the top-level logger of the library module or\n",
      "     |  package.\n",
      "     |  \n",
      "     |  Method resolution order:\n",
      "     |      NullHandler\n",
      "     |      Handler\n",
      "     |      Filterer\n",
      "     |      builtins.object\n",
      "     |  \n",
      "     |  Methods defined here:\n",
      "     |  \n",
      "     |  createLock(self)\n",
      "     |      Acquire a thread lock for serializing access to the underlying I/O.\n",
      "     |  \n",
      "     |  emit(self, record)\n",
      "     |      Stub.\n",
      "     |  \n",
      "     |  handle(self, record)\n",
      "     |      Stub.\n",
      "     |  \n",
      "     |  ----------------------------------------------------------------------\n",
      "     |  Methods inherited from Handler:\n",
      "     |  \n",
      "     |  __init__(self, level=0)\n",
      "     |      Initializes the instance - basically setting the formatter to None\n",
      "     |      and the filter list to empty.\n",
      "     |  \n",
      "     |  __repr__(self)\n",
      "     |      Return repr(self).\n",
      "     |  \n",
      "     |  acquire(self)\n",
      "     |      Acquire the I/O thread lock.\n",
      "     |  \n",
      "     |  close(self)\n",
      "     |      Tidy up any resources used by the handler.\n",
      "     |      \n",
      "     |      This version removes the handler from an internal map of handlers,\n",
      "     |      _handlers, which is used for handler lookup by name. Subclasses\n",
      "     |      should ensure that this gets called from overridden close()\n",
      "     |      methods.\n",
      "     |  \n",
      "     |  flush(self)\n",
      "     |      Ensure all logging output has been flushed.\n",
      "     |      \n",
      "     |      This version does nothing and is intended to be implemented by\n",
      "     |      subclasses.\n",
      "     |  \n",
      "     |  format(self, record)\n",
      "     |      Format the specified record.\n",
      "     |      \n",
      "     |      If a formatter is set, use it. Otherwise, use the default formatter\n",
      "     |      for the module.\n",
      "     |  \n",
      "     |  get_name(self)\n",
      "     |  \n",
      "     |  handleError(self, record)\n",
      "     |      Handle errors which occur during an emit() call.\n",
      "     |      \n",
      "     |      This method should be called from handlers when an exception is\n",
      "     |      encountered during an emit() call. If raiseExceptions is false,\n",
      "     |      exceptions get silently ignored. This is what is mostly wanted\n",
      "     |      for a logging system - most users will not care about errors in\n",
      "     |      the logging system, they are more interested in application errors.\n",
      "     |      You could, however, replace this with a custom handler if you wish.\n",
      "     |      The record which was being processed is passed in to this method.\n",
      "     |  \n",
      "     |  release(self)\n",
      "     |      Release the I/O thread lock.\n",
      "     |  \n",
      "     |  setFormatter(self, fmt)\n",
      "     |      Set the formatter for this handler.\n",
      "     |  \n",
      "     |  setLevel(self, level)\n",
      "     |      Set the logging level of this handler.  level must be an int or a str.\n",
      "     |  \n",
      "     |  set_name(self, name)\n",
      "     |  \n",
      "     |  ----------------------------------------------------------------------\n",
      "     |  Data descriptors inherited from Handler:\n",
      "     |  \n",
      "     |  name\n",
      "     |  \n",
      "     |  ----------------------------------------------------------------------\n",
      "     |  Methods inherited from Filterer:\n",
      "     |  \n",
      "     |  addFilter(self, filter)\n",
      "     |      Add the specified filter to this handler.\n",
      "     |  \n",
      "     |  filter(self, record)\n",
      "     |      Determine if a record is loggable by consulting all the filters.\n",
      "     |      \n",
      "     |      The default is to allow the record to be logged; any filter can veto\n",
      "     |      this and the record is then dropped. Returns a zero value if a record\n",
      "     |      is to be dropped, else non-zero.\n",
      "     |      \n",
      "     |      .. versionchanged:: 3.2\n",
      "     |      \n",
      "     |         Allow filters to be just callables.\n",
      "     |  \n",
      "     |  removeFilter(self, filter)\n",
      "     |      Remove the specified filter from this handler.\n",
      "     |  \n",
      "     |  ----------------------------------------------------------------------\n",
      "     |  Data descriptors inherited from Filterer:\n",
      "     |  \n",
      "     |  __dict__\n",
      "     |      dictionary for instance variables (if defined)\n",
      "     |  \n",
      "     |  __weakref__\n",
      "     |      list of weak references to the object (if defined)\n",
      "    \n",
      "    class StreamHandler(Handler)\n",
      "     |  A handler class which writes logging records, appropriately formatted,\n",
      "     |  to a stream. Note that this class does not close the stream, as\n",
      "     |  sys.stdout or sys.stderr may be used.\n",
      "     |  \n",
      "     |  Method resolution order:\n",
      "     |      StreamHandler\n",
      "     |      Handler\n",
      "     |      Filterer\n",
      "     |      builtins.object\n",
      "     |  \n",
      "     |  Methods defined here:\n",
      "     |  \n",
      "     |  __init__(self, stream=None)\n",
      "     |      Initialize the handler.\n",
      "     |      \n",
      "     |      If stream is not specified, sys.stderr is used.\n",
      "     |  \n",
      "     |  __repr__(self)\n",
      "     |      Return repr(self).\n",
      "     |  \n",
      "     |  emit(self, record)\n",
      "     |      Emit a record.\n",
      "     |      \n",
      "     |      If a formatter is specified, it is used to format the record.\n",
      "     |      The record is then written to the stream with a trailing newline.  If\n",
      "     |      exception information is present, it is formatted using\n",
      "     |      traceback.print_exception and appended to the stream.  If the stream\n",
      "     |      has an 'encoding' attribute, it is used to determine how to do the\n",
      "     |      output to the stream.\n",
      "     |  \n",
      "     |  flush(self)\n",
      "     |      Flushes the stream.\n",
      "     |  \n",
      "     |  ----------------------------------------------------------------------\n",
      "     |  Data and other attributes defined here:\n",
      "     |  \n",
      "     |  terminator = '\\n'\n",
      "     |  \n",
      "     |  ----------------------------------------------------------------------\n",
      "     |  Methods inherited from Handler:\n",
      "     |  \n",
      "     |  acquire(self)\n",
      "     |      Acquire the I/O thread lock.\n",
      "     |  \n",
      "     |  close(self)\n",
      "     |      Tidy up any resources used by the handler.\n",
      "     |      \n",
      "     |      This version removes the handler from an internal map of handlers,\n",
      "     |      _handlers, which is used for handler lookup by name. Subclasses\n",
      "     |      should ensure that this gets called from overridden close()\n",
      "     |      methods.\n",
      "     |  \n",
      "     |  createLock(self)\n",
      "     |      Acquire a thread lock for serializing access to the underlying I/O.\n",
      "     |  \n",
      "     |  format(self, record)\n",
      "     |      Format the specified record.\n",
      "     |      \n",
      "     |      If a formatter is set, use it. Otherwise, use the default formatter\n",
      "     |      for the module.\n",
      "     |  \n",
      "     |  get_name(self)\n",
      "     |  \n",
      "     |  handle(self, record)\n",
      "     |      Conditionally emit the specified logging record.\n",
      "     |      \n",
      "     |      Emission depends on filters which may have been added to the handler.\n",
      "     |      Wrap the actual emission of the record with acquisition/release of\n",
      "     |      the I/O thread lock. Returns whether the filter passed the record for\n",
      "     |      emission.\n",
      "     |  \n",
      "     |  handleError(self, record)\n",
      "     |      Handle errors which occur during an emit() call.\n",
      "     |      \n",
      "     |      This method should be called from handlers when an exception is\n",
      "     |      encountered during an emit() call. If raiseExceptions is false,\n",
      "     |      exceptions get silently ignored. This is what is mostly wanted\n",
      "     |      for a logging system - most users will not care about errors in\n",
      "     |      the logging system, they are more interested in application errors.\n",
      "     |      You could, however, replace this with a custom handler if you wish.\n",
      "     |      The record which was being processed is passed in to this method.\n",
      "     |  \n",
      "     |  release(self)\n",
      "     |      Release the I/O thread lock.\n",
      "     |  \n",
      "     |  setFormatter(self, fmt)\n",
      "     |      Set the formatter for this handler.\n",
      "     |  \n",
      "     |  setLevel(self, level)\n",
      "     |      Set the logging level of this handler.  level must be an int or a str.\n",
      "     |  \n",
      "     |  set_name(self, name)\n",
      "     |  \n",
      "     |  ----------------------------------------------------------------------\n",
      "     |  Data descriptors inherited from Handler:\n",
      "     |  \n",
      "     |  name\n",
      "     |  \n",
      "     |  ----------------------------------------------------------------------\n",
      "     |  Methods inherited from Filterer:\n",
      "     |  \n",
      "     |  addFilter(self, filter)\n",
      "     |      Add the specified filter to this handler.\n",
      "     |  \n",
      "     |  filter(self, record)\n",
      "     |      Determine if a record is loggable by consulting all the filters.\n",
      "     |      \n",
      "     |      The default is to allow the record to be logged; any filter can veto\n",
      "     |      this and the record is then dropped. Returns a zero value if a record\n",
      "     |      is to be dropped, else non-zero.\n",
      "     |      \n",
      "     |      .. versionchanged:: 3.2\n",
      "     |      \n",
      "     |         Allow filters to be just callables.\n",
      "     |  \n",
      "     |  removeFilter(self, filter)\n",
      "     |      Remove the specified filter from this handler.\n",
      "     |  \n",
      "     |  ----------------------------------------------------------------------\n",
      "     |  Data descriptors inherited from Filterer:\n",
      "     |  \n",
      "     |  __dict__\n",
      "     |      dictionary for instance variables (if defined)\n",
      "     |  \n",
      "     |  __weakref__\n",
      "     |      list of weak references to the object (if defined)\n",
      "\n",
      "FUNCTIONS\n",
      "    addLevelName(level, levelName)\n",
      "        Associate 'levelName' with 'level'.\n",
      "        \n",
      "        This is used when converting levels to text during message formatting.\n",
      "    \n",
      "    basicConfig(**kwargs)\n",
      "        Do basic configuration for the logging system.\n",
      "        \n",
      "        This function does nothing if the root logger already has handlers\n",
      "        configured. It is a convenience method intended for use by simple scripts\n",
      "        to do one-shot configuration of the logging package.\n",
      "        \n",
      "        The default behaviour is to create a StreamHandler which writes to\n",
      "        sys.stderr, set a formatter using the BASIC_FORMAT format string, and\n",
      "        add the handler to the root logger.\n",
      "        \n",
      "        A number of optional keyword arguments may be specified, which can alter\n",
      "        the default behaviour.\n",
      "        \n",
      "        filename  Specifies that a FileHandler be created, using the specified\n",
      "                  filename, rather than a StreamHandler.\n",
      "        filemode  Specifies the mode to open the file, if filename is specified\n",
      "                  (if filemode is unspecified, it defaults to 'a').\n",
      "        format    Use the specified format string for the handler.\n",
      "        datefmt   Use the specified date/time format.\n",
      "        style     If a format string is specified, use this to specify the\n",
      "                  type of format string (possible values '%', '{', '$', for\n",
      "                  %-formatting, :meth:`str.format` and :class:`string.Template`\n",
      "                  - defaults to '%').\n",
      "        level     Set the root logger level to the specified level.\n",
      "        stream    Use the specified stream to initialize the StreamHandler. Note\n",
      "                  that this argument is incompatible with 'filename' - if both\n",
      "                  are present, 'stream' is ignored.\n",
      "        handlers  If specified, this should be an iterable of already created\n",
      "                  handlers, which will be added to the root handler. Any handler\n",
      "                  in the list which does not have a formatter assigned will be\n",
      "                  assigned the formatter created in this function.\n",
      "        \n",
      "        Note that you could specify a stream created using open(filename, mode)\n",
      "        rather than passing the filename and mode in. However, it should be\n",
      "        remembered that StreamHandler does not close its stream (since it may be\n",
      "        using sys.stdout or sys.stderr), whereas FileHandler closes its stream\n",
      "        when the handler is closed.\n",
      "        \n",
      "        .. versionchanged:: 3.2\n",
      "           Added the ``style`` parameter.\n",
      "        \n",
      "        .. versionchanged:: 3.3\n",
      "           Added the ``handlers`` parameter. A ``ValueError`` is now thrown for\n",
      "           incompatible arguments (e.g. ``handlers`` specified together with\n",
      "           ``filename``/``filemode``, or ``filename``/``filemode`` specified\n",
      "           together with ``stream``, or ``handlers`` specified together with\n",
      "           ``stream``.\n",
      "    \n",
      "    captureWarnings(capture)\n",
      "        If capture is true, redirect all warnings to the logging package.\n",
      "        If capture is False, ensure that warnings are not redirected to logging\n",
      "        but to their original destinations.\n",
      "    \n",
      "    critical(msg, *args, **kwargs)\n",
      "        Log a message with severity 'CRITICAL' on the root logger. If the logger\n",
      "        has no handlers, call basicConfig() to add a console handler with a\n",
      "        pre-defined format.\n",
      "    \n",
      "    debug(msg, *args, **kwargs)\n",
      "        Log a message with severity 'DEBUG' on the root logger. If the logger has\n",
      "        no handlers, call basicConfig() to add a console handler with a pre-defined\n",
      "        format.\n",
      "    \n",
      "    disable(level)\n",
      "        Disable all logging calls of severity 'level' and below.\n",
      "    \n",
      "    error(msg, *args, **kwargs)\n",
      "        Log a message with severity 'ERROR' on the root logger. If the logger has\n",
      "        no handlers, call basicConfig() to add a console handler with a pre-defined\n",
      "        format.\n",
      "    \n",
      "    exception(msg, *args, exc_info=True, **kwargs)\n",
      "        Log a message with severity 'ERROR' on the root logger, with exception\n",
      "        information. If the logger has no handlers, basicConfig() is called to add\n",
      "        a console handler with a pre-defined format.\n",
      "    \n",
      "    fatal = critical(msg, *args, **kwargs)\n",
      "        Log a message with severity 'CRITICAL' on the root logger. If the logger\n",
      "        has no handlers, call basicConfig() to add a console handler with a\n",
      "        pre-defined format.\n",
      "    \n",
      "    getLevelName(level)\n",
      "        Return the textual representation of logging level 'level'.\n",
      "        \n",
      "        If the level is one of the predefined levels (CRITICAL, ERROR, WARNING,\n",
      "        INFO, DEBUG) then you get the corresponding string. If you have\n",
      "        associated levels with names using addLevelName then the name you have\n",
      "        associated with 'level' is returned.\n",
      "        \n",
      "        If a numeric value corresponding to one of the defined levels is passed\n",
      "        in, the corresponding string representation is returned.\n",
      "        \n",
      "        Otherwise, the string \"Level %s\" % level is returned.\n",
      "    \n",
      "    getLogRecordFactory()\n",
      "        Return the factory to be used when instantiating a log record.\n",
      "    \n",
      "    getLogger(name=None)\n",
      "        Return a logger with the specified name, creating it if necessary.\n",
      "        \n",
      "        If no name is specified, return the root logger.\n",
      "    \n",
      "    getLoggerClass()\n",
      "        Return the class to be used when instantiating a logger.\n",
      "    \n",
      "    info(msg, *args, **kwargs)\n",
      "        Log a message with severity 'INFO' on the root logger. If the logger has\n",
      "        no handlers, call basicConfig() to add a console handler with a pre-defined\n",
      "        format.\n",
      "    \n",
      "    log(level, msg, *args, **kwargs)\n",
      "        Log 'msg % args' with the integer severity 'level' on the root logger. If\n",
      "        the logger has no handlers, call basicConfig() to add a console handler\n",
      "        with a pre-defined format.\n",
      "    \n",
      "    makeLogRecord(dict)\n",
      "        Make a LogRecord whose attributes are defined by the specified dictionary,\n",
      "        This function is useful for converting a logging event received over\n",
      "        a socket connection (which is sent as a dictionary) into a LogRecord\n",
      "        instance.\n",
      "    \n",
      "    setLogRecordFactory(factory)\n",
      "        Set the factory to be used when instantiating a log record.\n",
      "        \n",
      "        :param factory: A callable which will be called to instantiate\n",
      "        a log record.\n",
      "    \n",
      "    setLoggerClass(klass)\n",
      "        Set the class to be used when instantiating a logger. The class should\n",
      "        define __init__() such that only a name argument is required, and the\n",
      "        __init__() should call Logger.__init__()\n",
      "    \n",
      "    shutdown(handlerList=[<weakref at 0x7f2b4896fef8; to '_StderrHandler' at 0x7f2b4896edd8>, <weakref at 0x7f2b492f8098; to 'StreamHandler' at 0x7f2b3f070d68>, <weakref at 0x7f2b3f033598; to 'StreamHandler' at 0x7f2b3f9f1940>, <weakref at 0x7f2b2eeea188; to 'StreamHandler' at 0x7f2b2eefbba8>, <weakref at 0x7f2b2ed84d68; to 'FileHandler' at 0x7f2b2ed862b0>, <weakref at 0x7f2b2ed84e08; to 'StreamHandler' at 0x7f2b2ed86470>])\n",
      "        Perform any cleanup actions in the logging system (e.g. flushing\n",
      "        buffers).\n",
      "        \n",
      "        Should be called at application exit.\n",
      "    \n",
      "    warn(msg, *args, **kwargs)\n",
      "    \n",
      "    warning(msg, *args, **kwargs)\n",
      "        Log a message with severity 'WARNING' on the root logger. If the logger has\n",
      "        no handlers, call basicConfig() to add a console handler with a pre-defined\n",
      "        format.\n",
      "\n",
      "DATA\n",
      "    BASIC_FORMAT = '%(levelname)s:%(name)s:%(message)s'\n",
      "    CRITICAL = 50\n",
      "    DEBUG = 10\n",
      "    ERROR = 40\n",
      "    FATAL = 50\n",
      "    INFO = 20\n",
      "    NOTSET = 0\n",
      "    WARN = 30\n",
      "    WARNING = 30\n",
      "    __all__ = ['BASIC_FORMAT', 'BufferingFormatter', 'CRITICAL', 'DEBUG', ...\n",
      "    __status__ = 'production'\n",
      "    lastResort = <_StderrHandler stderr (WARNING)>\n",
      "    raiseExceptions = True\n",
      "\n",
      "VERSION\n",
      "    0.5.1.2\n",
      "\n",
      "DATE\n",
      "    07 February 2010\n",
      "\n",
      "AUTHOR\n",
      "    Vinay Sajip <vinay_sajip@red-dove.com>\n",
      "\n",
      "FILE\n",
      "    /opt/anaconda3/lib/python3.6/logging/__init__.py\n",
      "\n",
      "\n"
     ]
    }
   ],
   "source": [
    "help(logging)"
   ]
  },
  {
   "cell_type": "markdown",
   "metadata": {
    "slideshow": {
     "slide_type": "slide"
    }
   },
   "source": [
    "使用内置函数`dir()`列出模块成员属性与方法。"
   ]
  },
  {
   "cell_type": "code",
   "execution_count": 63,
   "metadata": {
    "slideshow": {
     "slide_type": "slide"
    }
   },
   "outputs": [
    {
     "name": "stdout",
     "output_type": "stream",
     "text": [
      "['BASIC_FORMAT', 'BufferingFormatter', 'CRITICAL', 'DEBUG', 'ERROR', 'FATAL', 'FileHandler', 'Filter', 'Filterer', 'Formatter', 'Handler', 'INFO', 'LogRecord', 'Logger', 'LoggerAdapter', 'Manager', 'NOTSET', 'NullHandler', 'PercentStyle', 'PlaceHolder', 'RootLogger', 'StrFormatStyle', 'StreamHandler', 'StringTemplateStyle', 'Template', 'WARN', 'WARNING', '_STYLES', '_StderrHandler', '__all__', '__author__', '__builtins__', '__cached__', '__date__', '__doc__', '__file__', '__loader__', '__name__', '__package__', '__path__', '__spec__', '__status__', '__version__', '_acquireLock', '_addHandlerRef', '_checkLevel', '_defaultFormatter', '_defaultLastResort', '_handlerList', '_handlers', '_levelToName', '_lock', '_logRecordFactory', '_loggerClass', '_nameToLevel', '_releaseLock', '_removeHandlerRef', '_showwarning', '_srcfile', '_startTime', '_warnings_showwarning', 'addLevelName', 'atexit', 'basicConfig', 'captureWarnings', 'collections', 'critical', 'currentframe', 'debug', 'disable', 'error', 'exception', 'fatal', 'getLevelName', 'getLogRecordFactory', 'getLogger', 'getLoggerClass', 'handlers', 'info', 'io', 'lastResort', 'log', 'logMultiprocessing', 'logProcesses', 'logThreads', 'makeLogRecord', 'os', 'raiseExceptions', 'root', 'setLogRecordFactory', 'setLoggerClass', 'shutdown', 'sys', 'threading', 'time', 'traceback', 'warn', 'warning', 'warnings', 'weakref']\n"
     ]
    }
   ],
   "source": [
    "print(sorted(dir(logging)))"
   ]
  },
  {
   "cell_type": "markdown",
   "metadata": {
    "slideshow": {
     "slide_type": "slide"
    }
   },
   "source": [
    "## 简单打印\n",
    "\n",
    "`logging`库包括如下函数，可以打印日志信息：\n",
    "- `critical(msg, *args, **kwargs)`\n",
    "- `debug()`\n",
    "- `error()`\n",
    "- `exception()`\n",
    "- `fatal = critical()`\n",
    "- `info()`\n",
    "- `warn()`\n",
    "- `warning()`"
   ]
  },
  {
   "cell_type": "code",
   "execution_count": 7,
   "metadata": {
    "slideshow": {
     "slide_type": "slide"
    }
   },
   "outputs": [
    {
     "name": "stderr",
     "output_type": "stream",
     "text": [
      "WARNING:root:warning message\n",
      "ERROR:root:error message\n",
      "CRITICAL:root:fatal message\n",
      "CRITICAL:root:critical message\n",
      "ERROR:root:exception message\n",
      "NoneType: None\n"
     ]
    }
   ],
   "source": [
    "logging.debug('debug message')     # check the result\n",
    "logging.info('info message')       # check the result\n",
    "logging.warning('warning message')\n",
    "# logging.warn('deprecated message')\n",
    "logging.error('error message')\n",
    "logging.fatal('fatal message')\n",
    "logging.critical('critical message')\n",
    "logging.exception('exception message')       # check the result"
   ]
  },
  {
   "cell_type": "markdown",
   "metadata": {
    "slideshow": {
     "slide_type": "slide"
    }
   },
   "source": [
    "从结果可知，缺省情况`logging`模块会把日志打印到标准输出，也存在如下问题：\n",
    "- `logging.warn()`函数与`warning()`结果相同，不过已经废弃，不再推荐使用。\n",
    "- `logging.exception()`用在异常输出记录。"
   ]
  },
  {
   "cell_type": "markdown",
   "metadata": {
    "slideshow": {
     "slide_type": "slide"
    }
   },
   "source": [
    "与字符串格式化类似，`logging`的格式化输出也支持多种形式："
   ]
  },
  {
   "cell_type": "code",
   "execution_count": 16,
   "metadata": {
    "slideshow": {
     "slide_type": "-"
    }
   },
   "outputs": [
    {
     "name": "stderr",
     "output_type": "stream",
     "text": [
      "ERROR:root:name=老王; x=3.140000\n",
      "ERROR:root:name=老王; x=     3.14000!\n",
      "ERROR:root:name=老王; x=3.14\n"
     ]
    }
   ],
   "source": [
    "# 格式化输出\n",
    "name = '老王'\n",
    "x = 3.14\n",
    "logging.error('name=%s; x=%f' % (name, x))\n",
    "logging.error('name=%s; x=%12.5f!', name, x)\n",
    "logging.error('name={}; x={}'.format(name, x)) "
   ]
  },
  {
   "cell_type": "markdown",
   "metadata": {
    "slideshow": {
     "slide_type": "slide"
    }
   },
   "source": [
    "`logging`的格式化输出类似C语言方法，推荐使用Python新式格式化方法。"
   ]
  },
  {
   "cell_type": "markdown",
   "metadata": {
    "slideshow": {
     "slide_type": "slide"
    }
   },
   "source": [
    "### 日志级别\n",
    "\n",
    "由结果可知，`logging`模块是按照级别进行输出打印，并不一定会打印所有日志。`logging`库包括如下常数，也就是日志的级别。"
   ]
  },
  {
   "cell_type": "markdown",
   "metadata": {
    "slideshow": {
     "slide_type": "-"
    }
   },
   "source": [
    "|日志名（levelname）| 日志值 | 应用场景 |\n",
    "|:----------|:------|:--------|\n",
    "| NOTSET   | 0   |      |\n",
    "| DEBUG    | 10  |  用于调试问题 |\n",
    "| INFO    | 20  | 运行正常，状态显示 |\n",
    "| WARN    | 30  | 已废弃 |\n",
    "| WARNING  | 30  | 警告，发生意外，可能会出现问题 |\n",
    "| ERROR    | 40  | 错误，软件无法正常运行 |\n",
    "| CRITICAL  | 50  | 严重错误，软件不能再运行 |            \n",
    "| FATAL    | 50  | 与CRITICAL相同  |"
   ]
  },
  {
   "cell_type": "code",
   "execution_count": 17,
   "metadata": {
    "slideshow": {
     "slide_type": "slide"
    }
   },
   "outputs": [
    {
     "name": "stdout",
     "output_type": "stream",
     "text": [
      "0\n",
      "10\n",
      "20\n",
      "30\n",
      "40\n",
      "50\n"
     ]
    }
   ],
   "source": [
    "print(logging.NOTSET)\n",
    "print(logging.DEBUG)\n",
    "print(logging.INFO)\n",
    "print(logging.WARNING)\n",
    "print(logging.ERROR)\n",
    "print(logging.CRITICAL)"
   ]
  },
  {
   "cell_type": "markdown",
   "metadata": {
    "slideshow": {
     "slide_type": "slide"
    }
   },
   "source": [
    "使用`logging.getLevelName`可以获得指定级别对应的级别名字："
   ]
  },
  {
   "cell_type": "code",
   "execution_count": 19,
   "metadata": {
    "slideshow": {
     "slide_type": "-"
    }
   },
   "outputs": [
    {
     "name": "stdout",
     "output_type": "stream",
     "text": [
      "NOTSET\n",
      "DEBUG\n",
      "INFO\n",
      "WARNING\n",
      "ERROR\n",
      "CRITICAL\n",
      "Level 60\n"
     ]
    }
   ],
   "source": [
    "print(logging.getLevelName(logging.NOTSET))\n",
    "print(logging.getLevelName(logging.DEBUG))\n",
    "print(logging.getLevelName(logging.INFO))\n",
    "print(logging.getLevelName(logging.WARNING))\n",
    "print(logging.getLevelName(logging.ERROR))\n",
    "print(logging.getLevelName(logging.CRITICAL))\n",
    "print(logging.getLevelName(60))"
   ]
  },
  {
   "cell_type": "markdown",
   "metadata": {
    "slideshow": {
     "slide_type": "slide"
    }
   },
   "source": [
    "`logging.log()`函数是个通用函数，会根据指定级别进行日志输出。"
   ]
  },
  {
   "cell_type": "code",
   "execution_count": 20,
   "metadata": {
    "slideshow": {
     "slide_type": "slide"
    }
   },
   "outputs": [
    {
     "name": "stderr",
     "output_type": "stream",
     "text": [
      "WARNING:root:warning\n",
      "ERROR:root:error\n",
      "CRITICAL:root:critical\n",
      "Level 60:root:60\n"
     ]
    }
   ],
   "source": [
    "logging.log(logging.NOTSET, 'noteset')\n",
    "logging.log(logging.DEBUG, 'debug')\n",
    "logging.log(logging.INFO, 'info')\n",
    "logging.log(logging.WARNING, 'warning')\n",
    "logging.log(logging.ERROR, 'error')\n",
    "logging.log(logging.CRITICAL, 'critical')\n",
    "logging.log(60, '60')"
   ]
  },
  {
   "cell_type": "markdown",
   "metadata": {
    "slideshow": {
     "slide_type": "slide"
    }
   },
   "source": [
    "### 日志格式\n",
    "\n",
    "输出的日志也具有一定的格式，使用冒号进行分隔，缺省输出格式为：\n",
    "```\n",
    "%(levelname)s:%(name)s:%(message)s\n",
    "```"
   ]
  },
  {
   "cell_type": "code",
   "execution_count": 21,
   "metadata": {
    "slideshow": {
     "slide_type": "-"
    }
   },
   "outputs": [
    {
     "name": "stdout",
     "output_type": "stream",
     "text": [
      "%(levelname)s:%(name)s:%(message)s\n"
     ]
    }
   ],
   "source": [
    "print(logging.BASIC_FORMAT)"
   ]
  },
  {
   "cell_type": "markdown",
   "metadata": {
    "slideshow": {
     "slide_type": "slide"
    }
   },
   "source": [
    "`logging`库支持的格式包括如下：\n",
    "\n",
    "|格式     | 描述 |\n",
    "|:----------|:-------------|\n",
    "| `%(name)s` |  logger名字 |  \n",
    "| `%(levelno)s` | 日志级别的数值 |\n",
    "| `%(levelname)s` | 日志级别名称 |\n",
    "| `%(pathname)s` | 当前执行程序的路径 |\n",
    "| `%(filename)s` | 当前执行程序名称|\n",
    "| `%(module)s` | 模块名 |\n",
    "| `%(lineno)d` | 日志的当前行号 |\n",
    "| `%(funcName)s` | 日志的当前函数|\n",
    "| `%(created)f` | 记录创建时间 |\n",
    "| `%(asctime)s` | 日志的时间 |\n",
    "| `%(msecs)d` | 创建时间的毫秒 |\n",
    "| `%(thread)d` | 线程id |\n",
    "| `%(threadName)s` | 线程名称 |\n",
    "| `%(process)d` | 进程ID |\n",
    "| `%(message)s` |  日志信息 |"
   ]
  },
  {
   "cell_type": "markdown",
   "metadata": {
    "slideshow": {
     "slide_type": "slide"
    }
   },
   "source": [
    "### `异常日志`\n",
    "\n",
    "`logger.exception`与`ERROR`级别相同，但是会额外记录异常堆栈信息"
   ]
  },
  {
   "cell_type": "code",
   "execution_count": 22,
   "metadata": {
    "slideshow": {
     "slide_type": "slide"
    }
   },
   "outputs": [
    {
     "name": "stderr",
     "output_type": "stream",
     "text": [
      "ERROR:root:exception message:division by zero\n",
      "Traceback (most recent call last):\n",
      "  File \"<ipython-input-22-c1e49097753c>\", line 2, in <module>\n",
      "    1 / 0\n",
      "ZeroDivisionError: division by zero\n"
     ]
    }
   ],
   "source": [
    "try:\n",
    "    1 / 0\n",
    "except ZeroDivisionError as e:\n",
    "    logging.exception('exception message:{}'.format(e))"
   ]
  },
  {
   "cell_type": "markdown",
   "metadata": {
    "slideshow": {
     "slide_type": "slide"
    }
   },
   "source": [
    "## 简单配置\n",
    "\n",
    "缺省情况下，`logging`模块输出日志到屏幕，只显示输出`WARNING`及其以上级别，日志也具有指定格式。可以使用`logging.basicConfig()`进行修改配置。`logging.basicConfig()`的语法是：\n",
    "```\n",
    "basicConfig(**kwargs)\n",
    "```"
   ]
  },
  {
   "cell_type": "markdown",
   "metadata": {
    "slideshow": {
     "slide_type": "slide"
    }
   },
   "source": [
    "支持的主要关键字参数包括：\n",
    "- `filename`，指定日志输出文件；\n",
    "- `filemode`，指定日志输出文件打开模式，缺省是添加`a`.\n",
    "- `format`，指定格式字符串\n",
    "- `datefmt`，指定日期时间格式\n",
    "- `level`，设置级别\n",
    "- `stream`，指定输出流"
   ]
  },
  {
   "cell_type": "code",
   "execution_count": 23,
   "metadata": {
    "slideshow": {
     "slide_type": "slide"
    }
   },
   "outputs": [
    {
     "name": "stdout",
     "output_type": "stream",
     "text": [
      "Help on function basicConfig in module logging:\n",
      "\n",
      "basicConfig(**kwargs)\n",
      "    Do basic configuration for the logging system.\n",
      "    \n",
      "    This function does nothing if the root logger already has handlers\n",
      "    configured. It is a convenience method intended for use by simple scripts\n",
      "    to do one-shot configuration of the logging package.\n",
      "    \n",
      "    The default behaviour is to create a StreamHandler which writes to\n",
      "    sys.stderr, set a formatter using the BASIC_FORMAT format string, and\n",
      "    add the handler to the root logger.\n",
      "    \n",
      "    A number of optional keyword arguments may be specified, which can alter\n",
      "    the default behaviour.\n",
      "    \n",
      "    filename  Specifies that a FileHandler be created, using the specified\n",
      "              filename, rather than a StreamHandler.\n",
      "    filemode  Specifies the mode to open the file, if filename is specified\n",
      "              (if filemode is unspecified, it defaults to 'a').\n",
      "    format    Use the specified format string for the handler.\n",
      "    datefmt   Use the specified date/time format.\n",
      "    style     If a format string is specified, use this to specify the\n",
      "              type of format string (possible values '%', '{', '$', for\n",
      "              %-formatting, :meth:`str.format` and :class:`string.Template`\n",
      "              - defaults to '%').\n",
      "    level     Set the root logger level to the specified level.\n",
      "    stream    Use the specified stream to initialize the StreamHandler. Note\n",
      "              that this argument is incompatible with 'filename' - if both\n",
      "              are present, 'stream' is ignored.\n",
      "    handlers  If specified, this should be an iterable of already created\n",
      "              handlers, which will be added to the root handler. Any handler\n",
      "              in the list which does not have a formatter assigned will be\n",
      "              assigned the formatter created in this function.\n",
      "    \n",
      "    Note that you could specify a stream created using open(filename, mode)\n",
      "    rather than passing the filename and mode in. However, it should be\n",
      "    remembered that StreamHandler does not close its stream (since it may be\n",
      "    using sys.stdout or sys.stderr), whereas FileHandler closes its stream\n",
      "    when the handler is closed.\n",
      "    \n",
      "    .. versionchanged:: 3.2\n",
      "       Added the ``style`` parameter.\n",
      "    \n",
      "    .. versionchanged:: 3.3\n",
      "       Added the ``handlers`` parameter. A ``ValueError`` is now thrown for\n",
      "       incompatible arguments (e.g. ``handlers`` specified together with\n",
      "       ``filename``/``filemode``, or ``filename``/``filemode`` specified\n",
      "       together with ``stream``, or ``handlers`` specified together with\n",
      "       ``stream``.\n",
      "\n"
     ]
    }
   ],
   "source": [
    "help(logging.basicConfig)"
   ]
  },
  {
   "cell_type": "markdown",
   "metadata": {
    "slideshow": {
     "slide_type": "slide"
    }
   },
   "source": [
    "### 日志输出到指定文件\n",
    "\n",
    "使用`logging.basicConfig()`，并指定文件,然后把日志输出到文件。"
   ]
  },
  {
   "cell_type": "code",
   "execution_count": 24,
   "metadata": {
    "slideshow": {
     "slide_type": "slide"
    }
   },
   "outputs": [
    {
     "name": "stdout",
     "output_type": "stream",
     "text": [
      "Writing demo01.py\n"
     ]
    }
   ],
   "source": [
    "%%writefile demo01.py\n",
    "#!/usr/bin/env python\n",
    "# -*- coding: utf-8 -*-\n",
    "\"\"\"logging demo\"\"\"\n",
    "import logging\n",
    "\n",
    "logfile = 'logging_demo01.log'\n",
    "logging.basicConfig(filename=logfile)\n",
    "\n",
    "logging.debug('debug message')     # check the result\n",
    "logging.info('info message')       # check the result\n",
    "logging.warning('warning message')\n",
    "logging.error('error message')\n",
    "logging.critical('critical message')"
   ]
  },
  {
   "cell_type": "markdown",
   "metadata": {
    "slideshow": {
     "slide_type": "slide"
    }
   },
   "source": [
    "运行示例程序，并检查结果："
   ]
  },
  {
   "cell_type": "code",
   "execution_count": 25,
   "metadata": {
    "slideshow": {
     "slide_type": "-"
    }
   },
   "outputs": [],
   "source": [
    "!python demo01.py"
   ]
  },
  {
   "cell_type": "code",
   "execution_count": 26,
   "metadata": {
    "slideshow": {
     "slide_type": "-"
    }
   },
   "outputs": [
    {
     "name": "stdout",
     "output_type": "stream",
     "text": [
      "WARNING:root:warning message\r\n",
      "ERROR:root:error message\r\n",
      "CRITICAL:root:critical message\r\n"
     ]
    }
   ],
   "source": [
    "%cat logging_demo01.log"
   ]
  },
  {
   "cell_type": "markdown",
   "metadata": {
    "slideshow": {
     "slide_type": "slide"
    }
   },
   "source": [
    "### 指定日志级别\n",
    "\n",
    "使用`logging.basicConfig()`，指定日志级别为`logging.DEBUG`，则`DEBUG`及其以上级别都会显示输出。"
   ]
  },
  {
   "cell_type": "code",
   "execution_count": 27,
   "metadata": {
    "slideshow": {
     "slide_type": "slide"
    }
   },
   "outputs": [
    {
     "name": "stdout",
     "output_type": "stream",
     "text": [
      "Writing demo02.py\n"
     ]
    }
   ],
   "source": [
    "%%writefile demo02.py\n",
    "#!/usr/bin/env python\n",
    "# -*- coding: utf-8 -*-\n",
    "\"\"\"logging demo\"\"\"\n",
    "import logging\n",
    "\n",
    "logfile = 'logging_demo02.log'\n",
    "logging.basicConfig(filename=logfile, level=logging.DEBUG)\n",
    "\n",
    "logging.debug('debug message')     # check the result\n",
    "logging.info('info message')       # check the result\n",
    "logging.warning('warning message')\n",
    "logging.error('error message')\n",
    "logging.critical('critical message')"
   ]
  },
  {
   "cell_type": "markdown",
   "metadata": {
    "slideshow": {
     "slide_type": "slide"
    }
   },
   "source": [
    "运行示例程序，并检查结果："
   ]
  },
  {
   "cell_type": "code",
   "execution_count": 28,
   "metadata": {
    "slideshow": {
     "slide_type": "-"
    }
   },
   "outputs": [],
   "source": [
    "!python demo02.py"
   ]
  },
  {
   "cell_type": "code",
   "execution_count": 29,
   "metadata": {
    "slideshow": {
     "slide_type": "-"
    }
   },
   "outputs": [
    {
     "name": "stdout",
     "output_type": "stream",
     "text": [
      "DEBUG:root:debug message\r\n",
      "INFO:root:info message\r\n",
      "WARNING:root:warning message\r\n",
      "ERROR:root:error message\r\n",
      "CRITICAL:root:critical message\r\n"
     ]
    }
   ],
   "source": [
    "%cat logging_demo02.log"
   ]
  },
  {
   "cell_type": "markdown",
   "metadata": {
    "slideshow": {
     "slide_type": "slide"
    }
   },
   "source": [
    "### 指定日志格式\n",
    "\n",
    "`logging`缺省输出格式为：\n",
    "```\n",
    "%(levelname)s:%(name)s:%(message)s\n",
    "```"
   ]
  },
  {
   "cell_type": "markdown",
   "metadata": {
    "slideshow": {
     "slide_type": "-"
    }
   },
   "source": [
    "在`logging.basicConfig()`，可以指定指定日志格式：\n",
    "- 参数`format`，指定日志格式\n",
    "- 参数`datefmt`指定其中日期格式"
   ]
  },
  {
   "cell_type": "code",
   "execution_count": 30,
   "metadata": {
    "slideshow": {
     "slide_type": "slide"
    }
   },
   "outputs": [
    {
     "name": "stdout",
     "output_type": "stream",
     "text": [
      "Writing demo03.py\n"
     ]
    }
   ],
   "source": [
    "%%writefile demo03.py\n",
    "#!/usr/bin/env python\n",
    "# -*- coding: utf-8 -*-\n",
    "\"\"\"logging demo\"\"\"\n",
    "import logging\n",
    "\n",
    "logfmt = ('%(name)s:%(levelno)s:%(levelname)s:%(pathname)s:%(filename)s:%(module)s:'\n",
    "          '%(lineno)d:%(funcName)s:%(created)f:%(asctime)s:%(msecs)d:%(thread)d'\n",
    "          '%(threadName)s:%(process)d:%(message)s')\n",
    "logging.basicConfig(format=logfmt)\n",
    "logging.error('error message')"
   ]
  },
  {
   "cell_type": "markdown",
   "metadata": {
    "slideshow": {
     "slide_type": "slide"
    }
   },
   "source": [
    "运行示例程序，查看运行结果。"
   ]
  },
  {
   "cell_type": "code",
   "execution_count": 31,
   "metadata": {
    "slideshow": {
     "slide_type": "-"
    }
   },
   "outputs": [
    {
     "name": "stdout",
     "output_type": "stream",
     "text": [
      "root:40:ERROR:demo03.py:demo03.py:demo03:10:<module>:1532421458.608145:2018-07-24 16:37:38,608:608:139872265709376MainThread:15909:error message\r\n"
     ]
    }
   ],
   "source": [
    "!python demo03.py"
   ]
  },
  {
   "cell_type": "markdown",
   "metadata": {
    "slideshow": {
     "slide_type": "slide"
    }
   },
   "source": [
    "日志最好具有时间、位置等信息；日期可以使用ISO标准格式，参见datatime库。"
   ]
  },
  {
   "cell_type": "code",
   "execution_count": 32,
   "metadata": {
    "slideshow": {
     "slide_type": "slide"
    }
   },
   "outputs": [
    {
     "name": "stdout",
     "output_type": "stream",
     "text": [
      "Writing demo04.py\n"
     ]
    }
   ],
   "source": [
    "%%writefile demo04.py\n",
    "#!/usr/bin/env python\n",
    "# -*- coding: utf-8 -*-\n",
    "\"\"\"logging demo\"\"\"\n",
    "import logging\n",
    "\n",
    "# Set the logging config\n",
    "logfile = 'logging_demo04.log'\n",
    "logfmt = '%(asctime)s:%(module)s:%(levelname)s:%(message)s'\n",
    "datefmt = '%Y-%m-%dT%Hh%Mm%Ss'\n",
    "logging.basicConfig(filename=logfile, level=logging.DEBUG, format=logfmt, datefmt=datefmt)\n",
    "\n",
    "logging.debug('debug message')     # check the result\n",
    "logging.info('info message')       # check the result\n",
    "logging.warning('warning message')\n",
    "logging.error('error message')\n",
    "logging.critical('critical message')"
   ]
  },
  {
   "cell_type": "markdown",
   "metadata": {
    "slideshow": {
     "slide_type": "slide"
    }
   },
   "source": [
    "运行示例程序，并检查结果："
   ]
  },
  {
   "cell_type": "code",
   "execution_count": 33,
   "metadata": {
    "slideshow": {
     "slide_type": "-"
    }
   },
   "outputs": [],
   "source": [
    "!python demo04.py"
   ]
  },
  {
   "cell_type": "code",
   "execution_count": 34,
   "metadata": {
    "slideshow": {
     "slide_type": "-"
    }
   },
   "outputs": [
    {
     "name": "stdout",
     "output_type": "stream",
     "text": [
      "2018-07-24T16h41m31s:demo04:DEBUG:debug message\r\n",
      "2018-07-24T16h41m31s:demo04:INFO:info message\r\n",
      "2018-07-24T16h41m31s:demo04:WARNING:warning message\r\n",
      "2018-07-24T16h41m31s:demo04:ERROR:error message\r\n",
      "2018-07-24T16h41m31s:demo04:CRITICAL:critical message\r\n"
     ]
    }
   ],
   "source": [
    "%cat logging_demo04.log"
   ]
  },
  {
   "cell_type": "markdown",
   "metadata": {
    "slideshow": {
     "slide_type": "slide"
    }
   },
   "source": [
    "## 高级配置\n",
    "\n",
    "很多时候，需要把日志输出到文件，同时还可以在屏幕上显示。实际上`logging`支持更高级的配置办法。在实现高级配置前，需要理解如下概念：\n",
    "- `Logger`， 记录器\n",
    "- `Handler`， 处理器\n",
    "- `Formatter`，格式器\n",
    "- `Filter`，过滤器"
   ]
  },
  {
   "cell_type": "markdown",
   "metadata": {
    "slideshow": {
     "slide_type": "slide"
    }
   },
   "source": [
    "### `Logger`记录器\n",
    "\n",
    "`Logger`是一个树形层级结构，输出日志之前必须创建一个`Logger`实例，也就是创建一个记录器。默认情况会创建一个根（`root`）记录器。"
   ]
  },
  {
   "cell_type": "markdown",
   "metadata": {
    "slideshow": {
     "slide_type": "slide"
    }
   },
   "source": [
    "![记录器树](logging_tree.png)"
   ]
  },
  {
   "cell_type": "markdown",
   "metadata": {
    "slideshow": {
     "slide_type": "slide"
    }
   },
   "source": [
    "使用`logging.getLogger()`来创建记录器。语法是：\n",
    "```\n",
    "getLogger(name=None)\n",
    "```\n",
    "\n",
    "指定记录器名字，创建并返回一个记录器。如果记录器已经创建，则返回该记录器。不指定名字，则返回缺省的根记录器。"
   ]
  },
  {
   "cell_type": "code",
   "execution_count": 35,
   "metadata": {
    "slideshow": {
     "slide_type": "slide"
    }
   },
   "outputs": [
    {
     "name": "stdout",
     "output_type": "stream",
     "text": [
      "Help on function getLogger in module logging:\n",
      "\n",
      "getLogger(name=None)\n",
      "    Return a logger with the specified name, creating it if necessary.\n",
      "    \n",
      "    If no name is specified, return the root logger.\n",
      "\n"
     ]
    }
   ],
   "source": [
    "help(logging.getLogger)"
   ]
  },
  {
   "cell_type": "markdown",
   "metadata": {
    "slideshow": {
     "slide_type": "slide"
    }
   },
   "source": [
    "使用自省方法检查记录器"
   ]
  },
  {
   "cell_type": "code",
   "execution_count": 36,
   "metadata": {
    "slideshow": {
     "slide_type": "-"
    }
   },
   "outputs": [],
   "source": [
    "root = logging.getLogger()\n",
    "app = logging.getLogger('app')"
   ]
  },
  {
   "cell_type": "code",
   "execution_count": 37,
   "metadata": {
    "slideshow": {
     "slide_type": "-"
    }
   },
   "outputs": [
    {
     "name": "stdout",
     "output_type": "stream",
     "text": [
      "<class 'logging.RootLogger'> <class 'logging.Logger'>\n"
     ]
    }
   ],
   "source": [
    "print(type(root), type(app))"
   ]
  },
  {
   "cell_type": "markdown",
   "metadata": {
    "slideshow": {
     "slide_type": "slide"
    }
   },
   "source": [
    "使用帮助函数`help`查看二者差异。"
   ]
  },
  {
   "cell_type": "code",
   "execution_count": 38,
   "metadata": {
    "slideshow": {
     "slide_type": "-"
    }
   },
   "outputs": [
    {
     "data": {
      "text/plain": [
       "True"
      ]
     },
     "execution_count": 38,
     "metadata": {},
     "output_type": "execute_result"
    }
   ],
   "source": [
    "issubclass(logging.RootLogger, logging.Logger)"
   ]
  },
  {
   "cell_type": "markdown",
   "metadata": {
    "slideshow": {
     "slide_type": "slide"
    }
   },
   "source": [
    "创建Logger实例后，可以对每个实例进行不同的配置。可使用如下方法进行一些设置。\n",
    "- `logger.setLevel()`，设置日志级别\n",
    "- `logger.addHandler()`，为Logger实例增加一个处理器\n",
    "- `logger.removeHandler()`，为Logger实例删除一个处理器"
   ]
  },
  {
   "cell_type": "markdown",
   "metadata": {
    "slideshow": {
     "slide_type": "slide"
    }
   },
   "source": [
    "例如，设置不同的日志级别。"
   ]
  },
  {
   "cell_type": "code",
   "execution_count": 39,
   "metadata": {
    "slideshow": {
     "slide_type": "-"
    }
   },
   "outputs": [],
   "source": [
    "app.setLevel(logging.DEBUG)"
   ]
  },
  {
   "cell_type": "markdown",
   "metadata": {
    "slideshow": {
     "slide_type": "slide"
    }
   },
   "source": [
    "使用记录器，调用日志方法输出日志"
   ]
  },
  {
   "cell_type": "code",
   "execution_count": 40,
   "metadata": {
    "slideshow": {
     "slide_type": "-"
    }
   },
   "outputs": [
    {
     "name": "stderr",
     "output_type": "stream",
     "text": [
      "ERROR:root:root logger error\n",
      "DEBUG:app:app logger debug\n",
      "INFO:app:app logger info\n",
      "ERROR:app:app logger error\n"
     ]
    }
   ],
   "source": [
    "root.debug('root logger debug')\n",
    "root.info('root logger info')\n",
    "root.error('root logger error')\n",
    "app.debug('app logger debug')\n",
    "app.info('app logger info')\n",
    "app.error('app logger error')"
   ]
  },
  {
   "cell_type": "markdown",
   "metadata": {
    "slideshow": {
     "slide_type": "slide"
    }
   },
   "source": [
    "### 日志处理器\n",
    "\n",
    "日志处理器handler用来实现日志的处理，常用的有：\n",
    "- `StreamHandler`，使用标准输出或文件对象来记录日志\n",
    "- `FileHandler`，使用文件来记录日志；"
   ]
  },
  {
   "cell_type": "markdown",
   "metadata": {
    "slideshow": {
     "slide_type": "slide"
    }
   },
   "source": [
    "下面来创建两个日志处理器"
   ]
  },
  {
   "cell_type": "code",
   "execution_count": 41,
   "metadata": {
    "slideshow": {
     "slide_type": "-"
    }
   },
   "outputs": [],
   "source": [
    "fh = logging.FileHandler('filehandler.log')\n",
    "ch = logging.StreamHandler()"
   ]
  },
  {
   "cell_type": "markdown",
   "metadata": {
    "slideshow": {
     "slide_type": "slide"
    }
   },
   "source": [
    "使用自省方法查看处理器对象。"
   ]
  },
  {
   "cell_type": "code",
   "execution_count": 42,
   "metadata": {
    "slideshow": {
     "slide_type": "-"
    }
   },
   "outputs": [
    {
     "name": "stdout",
     "output_type": "stream",
     "text": [
      "<class 'logging.FileHandler'> <class 'logging.StreamHandler'>\n"
     ]
    }
   ],
   "source": [
    "print(type(fh), type(ch))"
   ]
  },
  {
   "cell_type": "code",
   "execution_count": 43,
   "metadata": {
    "slideshow": {
     "slide_type": "-"
    }
   },
   "outputs": [
    {
     "data": {
      "text/plain": [
       "True"
      ]
     },
     "execution_count": 43,
     "metadata": {},
     "output_type": "execute_result"
    }
   ],
   "source": [
    "issubclass(logging.FileHandler, logging.StreamHandler)"
   ]
  },
  {
   "cell_type": "markdown",
   "metadata": {
    "slideshow": {
     "slide_type": "slide"
    }
   },
   "source": [
    "日志处理器还可以设置日志级别，格式器，增加或删除过滤器。使用方法如下所示：\n",
    "- `ch.setLevel(logging.WARN)`，指定日志级别\n",
    "- `ch.setFormatter(formatter_name)`，设置格式化器formatter\n",
    "- `ch.addFilter(filter_name)`， 增加过滤器\n",
    "- `ch.removeFilter(filter_name)`， # 删除过滤器"
   ]
  },
  {
   "cell_type": "markdown",
   "metadata": {
    "slideshow": {
     "slide_type": "slide"
    }
   },
   "source": [
    "创建的日志处理器，可以添加到记录器中。一个记录器可以包含多个日志处理器。"
   ]
  },
  {
   "cell_type": "markdown",
   "metadata": {
    "slideshow": {
     "slide_type": "slide"
    }
   },
   "source": [
    "### 格式器\n",
    "\n",
    "使用`logging.Formatter`格式器设置日志信息最后的显示内容。与`logging.basicConfig`类似，需要传入日志格式化字符串和日期格式字符串。"
   ]
  },
  {
   "cell_type": "code",
   "execution_count": 44,
   "metadata": {
    "slideshow": {
     "slide_type": "slide"
    }
   },
   "outputs": [
    {
     "name": "stdout",
     "output_type": "stream",
     "text": [
      "Help on class Formatter in module logging:\n",
      "\n",
      "class Formatter(builtins.object)\n",
      " |  Formatter instances are used to convert a LogRecord to text.\n",
      " |  \n",
      " |  Formatters need to know how a LogRecord is constructed. They are\n",
      " |  responsible for converting a LogRecord to (usually) a string which can\n",
      " |  be interpreted by either a human or an external system. The base Formatter\n",
      " |  allows a formatting string to be specified. If none is supplied, the\n",
      " |  default value of \"%s(message)\" is used.\n",
      " |  \n",
      " |  The Formatter can be initialized with a format string which makes use of\n",
      " |  knowledge of the LogRecord attributes - e.g. the default value mentioned\n",
      " |  above makes use of the fact that the user's message and arguments are pre-\n",
      " |  formatted into a LogRecord's message attribute. Currently, the useful\n",
      " |  attributes in a LogRecord are described by:\n",
      " |  \n",
      " |  %(name)s            Name of the logger (logging channel)\n",
      " |  %(levelno)s         Numeric logging level for the message (DEBUG, INFO,\n",
      " |                      WARNING, ERROR, CRITICAL)\n",
      " |  %(levelname)s       Text logging level for the message (\"DEBUG\", \"INFO\",\n",
      " |                      \"WARNING\", \"ERROR\", \"CRITICAL\")\n",
      " |  %(pathname)s        Full pathname of the source file where the logging\n",
      " |                      call was issued (if available)\n",
      " |  %(filename)s        Filename portion of pathname\n",
      " |  %(module)s          Module (name portion of filename)\n",
      " |  %(lineno)d          Source line number where the logging call was issued\n",
      " |                      (if available)\n",
      " |  %(funcName)s        Function name\n",
      " |  %(created)f         Time when the LogRecord was created (time.time()\n",
      " |                      return value)\n",
      " |  %(asctime)s         Textual time when the LogRecord was created\n",
      " |  %(msecs)d           Millisecond portion of the creation time\n",
      " |  %(relativeCreated)d Time in milliseconds when the LogRecord was created,\n",
      " |                      relative to the time the logging module was loaded\n",
      " |                      (typically at application startup time)\n",
      " |  %(thread)d          Thread ID (if available)\n",
      " |  %(threadName)s      Thread name (if available)\n",
      " |  %(process)d         Process ID (if available)\n",
      " |  %(message)s         The result of record.getMessage(), computed just as\n",
      " |                      the record is emitted\n",
      " |  \n",
      " |  Methods defined here:\n",
      " |  \n",
      " |  __init__(self, fmt=None, datefmt=None, style='%')\n",
      " |      Initialize the formatter with specified format strings.\n",
      " |      \n",
      " |      Initialize the formatter either with the specified format string, or a\n",
      " |      default as described above. Allow for specialized date formatting with\n",
      " |      the optional datefmt argument (if omitted, you get the ISO8601 format).\n",
      " |      \n",
      " |      Use a style parameter of '%', '{' or '$' to specify that you want to\n",
      " |      use one of %-formatting, :meth:`str.format` (``{}``) formatting or\n",
      " |      :class:`string.Template` formatting in your format string.\n",
      " |      \n",
      " |      .. versionchanged:: 3.2\n",
      " |         Added the ``style`` parameter.\n",
      " |  \n",
      " |  converter = localtime(...)\n",
      " |      localtime([seconds]) -> (tm_year,tm_mon,tm_mday,tm_hour,tm_min,\n",
      " |                                tm_sec,tm_wday,tm_yday,tm_isdst)\n",
      " |      \n",
      " |      Convert seconds since the Epoch to a time tuple expressing local time.\n",
      " |      When 'seconds' is not passed in, convert the current time instead.\n",
      " |  \n",
      " |  format(self, record)\n",
      " |      Format the specified record as text.\n",
      " |      \n",
      " |      The record's attribute dictionary is used as the operand to a\n",
      " |      string formatting operation which yields the returned string.\n",
      " |      Before formatting the dictionary, a couple of preparatory steps\n",
      " |      are carried out. The message attribute of the record is computed\n",
      " |      using LogRecord.getMessage(). If the formatting string uses the\n",
      " |      time (as determined by a call to usesTime(), formatTime() is\n",
      " |      called to format the event time. If there is exception information,\n",
      " |      it is formatted using formatException() and appended to the message.\n",
      " |  \n",
      " |  formatException(self, ei)\n",
      " |      Format and return the specified exception information as a string.\n",
      " |      \n",
      " |      This default implementation just uses\n",
      " |      traceback.print_exception()\n",
      " |  \n",
      " |  formatMessage(self, record)\n",
      " |  \n",
      " |  formatStack(self, stack_info)\n",
      " |      This method is provided as an extension point for specialized\n",
      " |      formatting of stack information.\n",
      " |      \n",
      " |      The input data is a string as returned from a call to\n",
      " |      :func:`traceback.print_stack`, but with the last trailing newline\n",
      " |      removed.\n",
      " |      \n",
      " |      The base implementation just returns the value passed in.\n",
      " |  \n",
      " |  formatTime(self, record, datefmt=None)\n",
      " |      Return the creation time of the specified LogRecord as formatted text.\n",
      " |      \n",
      " |      This method should be called from format() by a formatter which\n",
      " |      wants to make use of a formatted time. This method can be overridden\n",
      " |      in formatters to provide for any specific requirement, but the\n",
      " |      basic behaviour is as follows: if datefmt (a string) is specified,\n",
      " |      it is used with time.strftime() to format the creation time of the\n",
      " |      record. Otherwise, the ISO8601 format is used. The resulting\n",
      " |      string is returned. This function uses a user-configurable function\n",
      " |      to convert the creation time to a tuple. By default, time.localtime()\n",
      " |      is used; to change this for a particular formatter instance, set the\n",
      " |      'converter' attribute to a function with the same signature as\n",
      " |      time.localtime() or time.gmtime(). To change it for all formatters,\n",
      " |      for example if you want all logging times to be shown in GMT,\n",
      " |      set the 'converter' attribute in the Formatter class.\n",
      " |  \n",
      " |  usesTime(self)\n",
      " |      Check if the format uses the creation time of the record.\n",
      " |  \n",
      " |  ----------------------------------------------------------------------\n",
      " |  Data descriptors defined here:\n",
      " |  \n",
      " |  __dict__\n",
      " |      dictionary for instance variables (if defined)\n",
      " |  \n",
      " |  __weakref__\n",
      " |      list of weak references to the object (if defined)\n",
      " |  \n",
      " |  ----------------------------------------------------------------------\n",
      " |  Data and other attributes defined here:\n",
      " |  \n",
      " |  default_msec_format = '%s,%03d'\n",
      " |  \n",
      " |  default_time_format = '%Y-%m-%d %H:%M:%S'\n",
      "\n"
     ]
    }
   ],
   "source": [
    "help(logging.Formatter)"
   ]
  },
  {
   "cell_type": "code",
   "execution_count": 45,
   "metadata": {
    "slideshow": {
     "slide_type": "slide"
    }
   },
   "outputs": [],
   "source": [
    "logfmt = '%(asctime)s:%(module)s:%(levelname)s:%(message)s'\n",
    "datefmt = '%Y-%m-%dT%Hh%Mm%Ss'\n",
    "afmt = logging.Formatter(logfmt, datefmt)"
   ]
  },
  {
   "cell_type": "markdown",
   "metadata": {
    "slideshow": {
     "slide_type": "slide"
    }
   },
   "source": [
    "使用自省方法查看格式器对象"
   ]
  },
  {
   "cell_type": "code",
   "execution_count": 46,
   "metadata": {
    "slideshow": {
     "slide_type": "-"
    }
   },
   "outputs": [
    {
     "name": "stdout",
     "output_type": "stream",
     "text": [
      "<class 'logging.Formatter'>\n"
     ]
    }
   ],
   "source": [
    "print(type(afmt))"
   ]
  },
  {
   "cell_type": "markdown",
   "metadata": {
    "slideshow": {
     "slide_type": "slide"
    }
   },
   "source": [
    "### 过滤器\n",
    "\n",
    "处理器和记录器会使用过滤器(Filters)来完成更复杂的过滤。使用`logging.Filter`创建过滤器。"
   ]
  },
  {
   "cell_type": "code",
   "execution_count": 47,
   "metadata": {},
   "outputs": [
    {
     "name": "stdout",
     "output_type": "stream",
     "text": [
      "Help on class Filter in module logging:\n",
      "\n",
      "class Filter(builtins.object)\n",
      " |  Filter instances are used to perform arbitrary filtering of LogRecords.\n",
      " |  \n",
      " |  Loggers and Handlers can optionally use Filter instances to filter\n",
      " |  records as desired. The base filter class only allows events which are\n",
      " |  below a certain point in the logger hierarchy. For example, a filter\n",
      " |  initialized with \"A.B\" will allow events logged by loggers \"A.B\",\n",
      " |  \"A.B.C\", \"A.B.C.D\", \"A.B.D\" etc. but not \"A.BB\", \"B.A.B\" etc. If\n",
      " |  initialized with the empty string, all events are passed.\n",
      " |  \n",
      " |  Methods defined here:\n",
      " |  \n",
      " |  __init__(self, name='')\n",
      " |      Initialize a filter.\n",
      " |      \n",
      " |      Initialize with the name of the logger which, together with its\n",
      " |      children, will have its events allowed through the filter. If no\n",
      " |      name is specified, allow every event.\n",
      " |  \n",
      " |  filter(self, record)\n",
      " |      Determine if the specified record is to be logged.\n",
      " |      \n",
      " |      Is the specified record to be logged? Returns 0 for no, nonzero for\n",
      " |      yes. If deemed appropriate, the record may be modified in-place.\n",
      " |  \n",
      " |  ----------------------------------------------------------------------\n",
      " |  Data descriptors defined here:\n",
      " |  \n",
      " |  __dict__\n",
      " |      dictionary for instance variables (if defined)\n",
      " |  \n",
      " |  __weakref__\n",
      " |      list of weak references to the object (if defined)\n",
      "\n"
     ]
    }
   ],
   "source": [
    "help(logging.Filter)"
   ]
  },
  {
   "cell_type": "markdown",
   "metadata": {
    "slideshow": {
     "slide_type": "slide"
    }
   },
   "source": [
    "### 应用示例\n",
    "\n",
    "下面的示例，会将日志同时输出到文件和屏幕。"
   ]
  },
  {
   "cell_type": "code",
   "execution_count": 48,
   "metadata": {},
   "outputs": [
    {
     "name": "stdout",
     "output_type": "stream",
     "text": [
      "Writing demo05.py\n"
     ]
    }
   ],
   "source": [
    "%%writefile demo05.py\n",
    "#!/usr/bin/env python\n",
    "# -*- coding: utf-8 -*-\n",
    "\"\"\"logging demo\"\"\"\n",
    "import logging\n",
    "\n",
    "# get the root logger\n",
    "logger = logging.getLogger()\n",
    "logger.setLevel(logging.DEBUG)\n",
    "\n",
    "# Create a StreamHandler object\n",
    "ch = logging.StreamHandler()\n",
    "# create a Formater object\n",
    "logfmt = '%(asctime)s:%(levelname)s:%(message)s'\n",
    "datefmt = '%Y-%m-%dT%Hh%Mm%Ss'\n",
    "formatter = logging.Formatter(logfmt, datefmt=datefmt)\n",
    "ch.setLevel(logging.INFO)\n",
    "ch.setFormatter(formatter)\n",
    "\n",
    "# create a FileHandler object\n",
    "logfile = 'logging_demo05.log'\n",
    "fh = logging.FileHandler(logfile)\n",
    "# create a Formater object\n",
    "logfmt = '%(asctime)s:%(module)s:%(lineno)d:%(levelname)s:%(message)s'\n",
    "datefmt = '%Y-%m-%dT%Hh%Mm%Ss'\n",
    "formatter = logging.Formatter(logfmt, datefmt=datefmt)\n",
    "fh.setLevel(logging.DEBUG)\n",
    "fh.setFormatter(formatter)\n",
    "\n",
    "# add handlers into logger\n",
    "logger.addHandler(ch)\n",
    "logger.addHandler(fh)\n",
    "\n",
    "logger.debug('logger debug')\n",
    "logger.info('logger info')\n",
    "logger.error('logger error')"
   ]
  },
  {
   "cell_type": "markdown",
   "metadata": {
    "slideshow": {
     "slide_type": "slide"
    }
   },
   "source": [
    "运行示例程序，检查结果文件"
   ]
  },
  {
   "cell_type": "code",
   "execution_count": 49,
   "metadata": {
    "slideshow": {
     "slide_type": "-"
    }
   },
   "outputs": [
    {
     "name": "stdout",
     "output_type": "stream",
     "text": [
      "2018-07-24T16h53m29s:INFO:logger info\r\n",
      "2018-07-24T16h53m29s:ERROR:logger error\r\n"
     ]
    }
   ],
   "source": [
    "!python demo05.py"
   ]
  },
  {
   "cell_type": "code",
   "execution_count": 50,
   "metadata": {
    "slideshow": {
     "slide_type": "slide"
    }
   },
   "outputs": [
    {
     "name": "stdout",
     "output_type": "stream",
     "text": [
      "2018-07-24T16h53m29s:demo05:33:DEBUG:logger debug\r\n",
      "2018-07-24T16h53m29s:demo05:34:INFO:logger info\r\n",
      "2018-07-24T16h53m29s:demo05:35:ERROR:logger error\r\n"
     ]
    }
   ],
   "source": [
    "%cat logging_demo05.log"
   ]
  },
  {
   "cell_type": "markdown",
   "metadata": {
    "slideshow": {
     "slide_type": "slide"
    }
   },
   "source": [
    "### 更多日志处理器\n",
    "\n",
    "`Logging`日志处理器还有很多：\n",
    "- `logging.handlers.RotatingFileHandler`,，与`FileHandler`类似，可以管理文件大小。\n",
    "- `logging.handlers.TimedRotatingFileHandler`，与`RotatingFileHandler`类似，根据时间间隔自动创建新的日志文件\n",
    "- `logging.handlers.SocketHandler`，使用TCP协议，将日志信息发送到网络。\n",
    "- `logging.handlers.DatagramHandler`， 使用UDP协议，将日志信息发送到网络。\n",
    "- `logging.handlers.SysLogHandler`，日志输出到syslog\n",
    "- `logging.handlers.NTEventLogHandler`，远程输出日志到Windows的事件日志 \n",
    "- `logging.handlers.SMTPHandler`，远程输出日志到邮件地址\n",
    "- `logging.handlers.MemoryHandler`，日志输出到内存中的制定buffer\n",
    "- `logging.handlers.HTTPHandler`，通过\"GET\"或\"POST\"远程输出到HTTP服务器"
   ]
  },
  {
   "cell_type": "code",
   "execution_count": 51,
   "metadata": {
    "slideshow": {
     "slide_type": "slide"
    }
   },
   "outputs": [
    {
     "data": {
      "text/plain": [
       "['BaseRotatingHandler',\n",
       " 'BufferingHandler',\n",
       " 'DatagramHandler',\n",
       " 'HTTPHandler',\n",
       " 'MemoryHandler',\n",
       " 'NTEventLogHandler',\n",
       " 'QueueHandler',\n",
       " 'RotatingFileHandler',\n",
       " 'SMTPHandler',\n",
       " 'SocketHandler',\n",
       " 'SysLogHandler',\n",
       " 'TimedRotatingFileHandler',\n",
       " 'WatchedFileHandler']"
      ]
     },
     "execution_count": 51,
     "metadata": {},
     "output_type": "execute_result"
    }
   ],
   "source": [
    "handlers = [handler for handler in dir(logging.handlers) if handler.endswith('Handler')]\n",
    "handlers"
   ]
  },
  {
   "cell_type": "markdown",
   "metadata": {
    "slideshow": {
     "slide_type": "slide"
    }
   },
   "source": [
    "## 实战示例\n",
    "\n",
    "下面给出实战程序。"
   ]
  },
  {
   "cell_type": "markdown",
   "metadata": {
    "slideshow": {
     "slide_type": "slide"
    }
   },
   "source": [
    "为了在更多程序中使用定制化日志，可以创建`mylogger`模块"
   ]
  },
  {
   "cell_type": "code",
   "execution_count": 52,
   "metadata": {},
   "outputs": [
    {
     "name": "stdout",
     "output_type": "stream",
     "text": [
      "Writing mylogger.py\n"
     ]
    }
   ],
   "source": [
    "%%writefile mylogger.py\n",
    "#!/usr/bin/env python\n",
    "# -*- coding: utf-8 -*-\n",
    "\"\"\"My Custom Logging Logger\"\"\"\n",
    "import logging\n",
    "\n",
    "def init_logging(ch_level=logging.WARNING, logfile=None, fh_level=logging.INFO):\n",
    "    \"\"\"init the root logger\"\"\"\n",
    "    # return the root logger\n",
    "    logger = logging.getLogger()\n",
    "    logger.setLevel(logging.DEBUG)\n",
    "\n",
    "    # remove the old handlers\n",
    "    for h in list(logger.handlers):\n",
    "        logger.removeHandler(h)\n",
    "\n",
    "    datefmt = '%Y-%m-%dT%Hh%Mm%Ss'\n",
    "    if ch_level is not None:\n",
    "        # create a Formater object\n",
    "        if ch_level == logging.DEBUG:\n",
    "            logfmt = '%(asctime)s:%(module)s:%(lineno)d:%(levelname)s:%(message)s'\n",
    "        else:\n",
    "            logfmt = '%(asctime)s:%(levelname)s:%(message)s'\n",
    "        formatter = logging.Formatter(logfmt, datefmt=datefmt)\n",
    "\n",
    "        # create a StreamHandler object\n",
    "        ch = logging.StreamHandler()\n",
    "        ch.setLevel(ch_level)\n",
    "        ch.setFormatter(formatter)\n",
    "        logger.addHandler(ch)\n",
    "\n",
    "    if logfile is not None:\n",
    "        # create a Formater object\n",
    "        logfmt = '%(asctime)s:%(module)s:%(lineno)d:%(levelname)s:%(message)s'\n",
    "        formatter = logging.Formatter(logfmt, datefmt=datefmt)\n",
    "        \n",
    "        # createa a FileHandler object\n",
    "        fh = logging.FileHandler(logfile)\n",
    "        fh.setLevel(fh_level)\n",
    "        fh.setFormatter(formatter)\n",
    "        logger.addHandler(fh)\n",
    "\n",
    "    return logger"
   ]
  },
  {
   "cell_type": "markdown",
   "metadata": {
    "slideshow": {
     "slide_type": "slide"
    }
   },
   "source": [
    "创建主程序"
   ]
  },
  {
   "cell_type": "code",
   "execution_count": 56,
   "metadata": {
    "slideshow": {
     "slide_type": "slide"
    }
   },
   "outputs": [
    {
     "name": "stdout",
     "output_type": "stream",
     "text": [
      "Overwriting demo06.py\n"
     ]
    }
   ],
   "source": [
    "%%writefile demo06.py\n",
    "#!/usr/bin/env python\n",
    "# -*- coding: utf-8 -*-\n",
    "\"\"\"logging demo\"\"\"\n",
    "import logging\n",
    "import mylogger\n",
    "\n",
    "\n",
    "def main():\n",
    "    ch_level = logging.DEBUG\n",
    "    logfile = 'logging_demo06.log'\n",
    "    fh_level = logging.INFO\n",
    "    mylogger.init_logging(ch_level, logfile, fh_level)\n",
    "\n",
    "    logging.debug('messages')\n",
    "    logging.info('messages')\n",
    "    logging.error('messages')\n",
    "\n",
    "if __name__ == '__main__':\n",
    "    main()"
   ]
  },
  {
   "cell_type": "code",
   "execution_count": 57,
   "metadata": {
    "slideshow": {
     "slide_type": "slide"
    }
   },
   "outputs": [
    {
     "name": "stdout",
     "output_type": "stream",
     "text": [
      "2018-07-24T16h59m50s:demo06:14:DEBUG:messages\r\n",
      "2018-07-24T16h59m50s:demo06:15:INFO:messages\r\n",
      "2018-07-24T16h59m50s:demo06:16:ERROR:messages\r\n"
     ]
    }
   ],
   "source": [
    "!python demo06.py"
   ]
  },
  {
   "cell_type": "code",
   "execution_count": 58,
   "metadata": {
    "slideshow": {
     "slide_type": "-"
    }
   },
   "outputs": [
    {
     "name": "stdout",
     "output_type": "stream",
     "text": [
      "2018-07-24T16h59m18s:demo06:14:DEBUG:messages\r\n",
      "2018-07-24T16h59m18s:demo06:15:INFO:messages\r\n",
      "2018-07-24T16h59m18s:demo06:16:ERROR:messages\r\n",
      "2018-07-24T16h59m50s:demo06:15:INFO:messages\r\n",
      "2018-07-24T16h59m50s:demo06:16:ERROR:messages\r\n"
     ]
    }
   ],
   "source": [
    "%cat logging_demo06.log"
   ]
  }
 ],
 "metadata": {
  "celltoolbar": "Slideshow",
  "kernelspec": {
   "display_name": "Python 3",
   "language": "python",
   "name": "python3"
  },
  "language_info": {
   "codemirror_mode": {
    "name": "ipython",
    "version": 3
   },
   "file_extension": ".py",
   "mimetype": "text/x-python",
   "name": "python",
   "nbconvert_exporter": "python",
   "pygments_lexer": "ipython3",
   "version": "3.6.4"
  },
  "toc": {
   "base_numbering": 1,
   "nav_menu": {},
   "number_sections": true,
   "sideBar": true,
   "skip_h1_title": false,
   "title_cell": "Table of Contents",
   "title_sidebar": "Contents",
   "toc_cell": false,
   "toc_position": {},
   "toc_section_display": true,
   "toc_window_display": true
  }
 },
 "nbformat": 4,
 "nbformat_minor": 2
}
