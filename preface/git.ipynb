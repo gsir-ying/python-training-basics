{
 "cells": [
  {
   "cell_type": "markdown",
   "metadata": {
    "slideshow": {
     "slide_type": "slide"
    }
   },
   "source": [
    "# 安装Git\n",
    "\n",
    "Git是一个分布式版本控制系统，是最先进的分布式版本控制系统。"
   ]
  },
  {
   "cell_type": "markdown",
   "metadata": {
    "slideshow": {
     "slide_type": "slide"
    }
   },
   "source": [
    "## 安装\n",
    "\n",
    "Git支持常用的Windows、Linux与Mac OS操作系统。"
   ]
  },
  {
   "cell_type": "markdown",
   "metadata": {
    "slideshow": {
     "slide_type": "slide"
    }
   },
   "source": [
    "### Linux系统\n",
    "\n",
    "\n",
    "在Ubuntu系统下使用`apt-get`安装：\n",
    "```sh\n",
    "sudo apt-get install git\n",
    "```\n",
    "\n",
    "在CentOS系统下使用`yum`来安装：\n",
    "```sh\n",
    "sudo yum install git\n",
    "```"
   ]
  },
  {
   "cell_type": "markdown",
   "metadata": {
    "slideshow": {
     "slide_type": "slide"
    }
   },
   "source": [
    "安装完毕，可以使用如下命令检查安装情况"
   ]
  },
  {
   "cell_type": "code",
   "execution_count": 1,
   "metadata": {
    "slideshow": {
     "slide_type": "-"
    }
   },
   "outputs": [
    {
     "name": "stdout",
     "output_type": "stream",
     "text": [
      "git version 1.8.3.1\r\n"
     ]
    }
   ],
   "source": [
    "!git --version"
   ]
  },
  {
   "cell_type": "markdown",
   "metadata": {
    "slideshow": {
     "slide_type": "slide"
    }
   },
   "source": [
    "### Windows系统\n",
    "\n",
    "在Windows系统上，需要从从[Git官网](https://gitforwindows.org/)下载符合自身系统的Git安装程序，按照默认参数一路安装即可。"
   ]
  },
  {
   "cell_type": "markdown",
   "metadata": {
    "slideshow": {
     "slide_type": "slide"
    }
   },
   "source": [
    "安装完成后，在开始菜单里找到【Git】->【Git Bash】，单击即可打开`git bash`终端。"
   ]
  },
  {
   "cell_type": "markdown",
   "metadata": {
    "slideshow": {
     "slide_type": "-"
    }
   },
   "source": [
    "同样，键入如下命令，检查安装情况：\n",
    "```\n",
    "$ git --version\n",
    "```"
   ]
  },
  {
   "cell_type": "markdown",
   "metadata": {
    "slideshow": {
     "slide_type": "slide"
    }
   },
   "source": [
    "![Git Bash](https://imgs.isciencehub.cn/python-basics/preface/gitbash.png)"
   ]
  },
  {
   "cell_type": "markdown",
   "metadata": {
    "slideshow": {
     "slide_type": "slide"
    }
   },
   "source": [
    "如果出现如上图所示场景，则说明git安装成功。\n",
    "\n",
    "> 右键单击`git bash`按钮，选择固定到任务栏。此后就可从任务栏快捷启动`git bash`。"
   ]
  },
  {
   "cell_type": "markdown",
   "metadata": {
    "slideshow": {
     "slide_type": "slide"
    }
   },
   "source": [
    "## 使用Github\n",
    "\n",
    "[github](https://github.com)是一个基于git的代码托管平台，付费用户可以建私人仓库，免费用户只能使用公共仓库，也就是代码要公开。"
   ]
  },
  {
   "cell_type": "markdown",
   "metadata": {
    "slideshow": {
     "slide_type": "-"
    }
   },
   "source": [
    "> 2018年6月，微软以75亿美元的价格收购GitHub。"
   ]
  },
  {
   "cell_type": "markdown",
   "metadata": {},
   "source": [
    "### 注册账户\n",
    "\n",
    "登录Github官网<https://github.com/>，选择`Sign up`按钮，开始注册账户\n",
    "![Github注册账户](https://imgs.isciencehub.cn/python-basics/preface/github_signup.png)"
   ]
  },
  {
   "cell_type": "markdown",
   "metadata": {},
   "source": [
    "### 创建仓库\n",
    "\n",
    "选择单击【Create a New Repository】，创建仓库，填写名称，开始创建。\n",
    "![Github创建仓库](https://imgs.isciencehub.cn/python-basics/preface/github_newrep.png)"
   ]
  },
  {
   "cell_type": "markdown",
   "metadata": {
    "slideshow": {
     "slide_type": "slide"
    }
   },
   "source": [
    "###  配置Github\n",
    "\n",
    "首先在本地创建ssh key：\n",
    "```\n",
    "ssh-keygen -t rsa -C \"<email>\"\n",
    "```\n",
    "\n",
    "用注册GitHub的时候绑定的邮箱账号替换<email>内容，之后会要求确认路径和输入密码，使用默认的一路回车就行。成功的话会在用户主目录下生成`.ssh`目录。找到里面的`id_rsa.pub`，复制里面内容，这就是所需要的密匙。"
   ]
  },
  {
   "cell_type": "markdown",
   "metadata": {
    "slideshow": {
     "slide_type": "slide"
    }
   },
   "source": [
    "然后登录到GitHub，然后选择【用户】=>【Settings】=>【SSH and GPG keys】=>【New SSH key】，添加密匙。\n",
    "![添加Github密钥](https://imgs.isciencehub.cn/python-basics/preface/github_ssh.png)"
   ]
  },
  {
   "cell_type": "markdown",
   "metadata": {
    "slideshow": {
     "slide_type": "slide"
    }
   },
   "source": [
    "为了验证是否成功，在git bash下输入：\n",
    "```\n",
    "$ ssh -T git@github.com\n",
    "```"
   ]
  },
  {
   "cell_type": "markdown",
   "metadata": {
    "slideshow": {
     "slide_type": "slide"
    }
   },
   "source": [
    "第一次会提示是否continue，输入yes就会看到：\n",
    "```\n",
    "You've successfully authenticated, but GitHub does not provide shell access.\n",
    "```\n",
    "表示可以成功连上github。"
   ]
  },
  {
   "cell_type": "markdown",
   "metadata": {
    "slideshow": {
     "slide_type": "slide"
    }
   },
   "source": [
    "## 使用Git\n",
    "\n",
    "使用Git获取与管理文件。"
   ]
  },
  {
   "cell_type": "markdown",
   "metadata": {
    "slideshow": {
     "slide_type": "slide"
    }
   },
   "source": [
    "### 设置Git\n",
    "\n",
    "设置username和email\n",
    "```\n",
    "git config --global user.name \"your name\"\n",
    "git config --global user.email \"your_email@youremail.com\"\n",
    "```"
   ]
  },
  {
   "cell_type": "markdown",
   "metadata": {
    "slideshow": {
     "slide_type": "slide"
    }
   },
   "source": [
    "### 检出仓库\n",
    "\n",
    "执行如下命令，创建远端服务器仓库的克隆版本：\n",
    "```\n",
    "git clone https://git.isciencehub.top/git/training/python-training-shao\n",
    "```\n",
    "\n",
    "> 需要托管服务器的户名和密码，同时对仓库具有可读权限。"
   ]
  },
  {
   "cell_type": "markdown",
   "metadata": {
    "slideshow": {
     "slide_type": "slide"
    }
   },
   "source": [
    "## 搭建自己的仓库"
   ]
  },
  {
   "cell_type": "markdown",
   "metadata": {
    "slideshow": {
     "slide_type": "slide"
    }
   },
   "source": [
    "### 创建新仓库\n",
    "\n",
    "创建新文件夹，打开，然后执行 \n",
    "```\n",
    "mkdir gitlearn\n",
    "cd gitlearn\n",
    "git init\n",
    "```\n",
    "以创建新的 git 仓库。"
   ]
  },
  {
   "cell_type": "markdown",
   "metadata": {
    "slideshow": {
     "slide_type": "slide"
    }
   },
   "source": [
    "### 添加和提交\n",
    "\n",
    "在工作目录，添加，修改文件后，使用如下命令添加更改：\n",
    "```\n",
    "git add <filename>\n",
    "git add *\n",
    "```\n",
    "\n",
    "再使用如下命令以实际提交改动：\n",
    "```\n",
    "git commit -m \"代码提交信息\"\n",
    "```"
   ]
  },
  {
   "cell_type": "markdown",
   "metadata": {
    "slideshow": {
     "slide_type": "slide"
    }
   },
   "source": [
    "### 连接远程服务器\n",
    "\n",
    "如果使用`git clone`从远程服务器克隆仓库，那么已经连接到远程服务器。\n",
    "\n",
    "如果是使用`git init`创建的仓库，可以使用如下命令添加：\n",
    "```\n",
    "git remote add origin https://github.com/<user>/<gitlearn.git>\n",
    "```"
   ]
  },
  {
   "cell_type": "markdown",
   "metadata": {
    "slideshow": {
     "slide_type": "slide"
    }
   },
   "source": [
    "### 推送改动\n",
    "\n",
    "如果本地仓库已经连接了远程服务器，执行如下命令将改动提交到远端仓库：\n",
    "```\n",
    "git push origin master\n",
    "```\n",
    "\n",
    "> 前提是具有远程服务器的可写权限。"
   ]
  },
  {
   "cell_type": "markdown",
   "metadata": {
    "slideshow": {
     "slide_type": "slide"
    }
   },
   "source": [
    "### 替换本地改动\n",
    "\n",
    "在练习时，如果更改了本地文件，可以使用如下命令替换掉本地改动：\n",
    "```\n",
    "git checkout -- <filename>\n",
    "```\n",
    "\n",
    "也可以使用如下命令，替换全部本地更改：\n",
    "```\n",
    "git checkout .\n",
    "```"
   ]
  },
  {
   "cell_type": "markdown",
   "metadata": {
    "slideshow": {
     "slide_type": "slide"
    }
   },
   "source": [
    "### 更新与合并\n",
    "\n",
    "从远程仓库获取最新的更改，同时合并到本地仓库，使用如下命令：\n",
    "```\n",
    "git pull\n",
    "```"
   ]
  },
  {
   "cell_type": "markdown",
   "metadata": {
    "slideshow": {
     "slide_type": "slide"
    }
   },
   "source": [
    "### 查看仓库状态\n",
    "\n",
    "使用如下命令查看本地仓库状态：\n",
    "```\n",
    "git status\n",
    "```"
   ]
  },
  {
   "cell_type": "markdown",
   "metadata": {
    "slideshow": {
     "slide_type": "slide"
    }
   },
   "source": [
    "### 查看仓库历史\n",
    "\n",
    "使用如下命令查看仓库提交历史：\n",
    "```\n",
    "git log\n",
    "```"
   ]
  },
  {
   "cell_type": "markdown",
   "metadata": {
    "slideshow": {
     "slide_type": "slide"
    }
   },
   "source": [
    "更多详情可参考Git教程或书籍。在Python高级教程中会再次介绍Git。"
   ]
  }
 ],
 "metadata": {
  "celltoolbar": "Slideshow",
  "kernelspec": {
   "display_name": "Python 3",
   "language": "python",
   "name": "python3"
  },
  "language_info": {
   "codemirror_mode": {
    "name": "ipython",
    "version": 3
   },
   "file_extension": ".py",
   "mimetype": "text/x-python",
   "name": "python",
   "nbconvert_exporter": "python",
   "pygments_lexer": "ipython3",
   "version": "3.6.4"
  },
  "toc": {
   "base_numbering": 1,
   "nav_menu": {},
   "number_sections": true,
   "sideBar": true,
   "skip_h1_title": false,
   "title_cell": "Table of Contents",
   "title_sidebar": "Contents",
   "toc_cell": false,
   "toc_position": {},
   "toc_section_display": true,
   "toc_window_display": false
  }
 },
 "nbformat": 4,
 "nbformat_minor": 2
}
