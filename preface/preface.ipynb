{
 "cells": [
  {
   "cell_type": "markdown",
   "metadata": {
    "slideshow": {
     "slide_type": "slide"
    }
   },
   "source": [
    "# 智汇共享科学---<https://isciencehub.cn>\n",
    "\n",
    "![logo](https://imgs.isciencehub.cn/logo.gif)"
   ]
  },
  {
   "cell_type": "code",
   "execution_count": 1,
   "metadata": {
    "slideshow": {
     "slide_type": "-"
    }
   },
   "outputs": [
    {
     "data": {
      "text/html": [
       "\n",
       "                <audio controls=\"controls\" >\n",
       "                    <source src=\"https://imgs.isciencehub.cn/python-basics/preface/APCHY.mp3\" type=\"audio/mpeg\" />\n",
       "                    Your browser does not support the audio element.\n",
       "                </audio>\n",
       "              "
      ],
      "text/plain": [
       "<IPython.lib.display.Audio object>"
      ]
     },
     "metadata": {},
     "output_type": "display_data"
    }
   ],
   "source": [
    "import IPython \n",
    "IPython.display.display(IPython.display.Audio(url=\"assets/APCHY.mp3\"))"
   ]
  },
  {
   "cell_type": "markdown",
   "metadata": {
    "slideshow": {
     "slide_type": "slide"
    }
   },
   "source": [
    "- 为什么要编程？\n",
    "- 如何为科研助力？\n",
    "- 如何学习编程？"
   ]
  },
  {
   "cell_type": "markdown",
   "metadata": {
    "slideshow": {
     "slide_type": "slide"
    }
   },
   "source": [
    "## 为什么要学编程？\n",
    "\n",
    "> 天下大势、浩浩荡荡、顺之者昌、逆之者亡。\n",
    "\n",
    "世界发展的一个大趋势\n",
    "- 数字化\n",
    "- 网络化\n",
    "- 智能化"
   ]
  },
  {
   "cell_type": "markdown",
   "metadata": {
    "slideshow": {
     "slide_type": "slide"
    }
   },
   "source": [
    "### 数字化（Digital）\n",
    "\n",
    "> 数字化就是将许多复杂多变的信息转变为可以度量的数字、数据，再以这些数字、数据建立起适当的数字化模型，把它们转变为一系列二进制代码，引入计算机内部，进行统一处理，这就是数字化的基本过程。\n",
    "\n",
    "> 硬件软件化；现实世界虚拟化；"
   ]
  },
  {
   "cell_type": "markdown",
   "metadata": {
    "slideshow": {
     "slide_type": "slide"
    }
   },
   "source": [
    "**数字化趋势案例**\n",
    "\n",
    "- 胶片相机---数码相机\n",
    "- 活字印刷---激光打印机\n",
    "- 随身听---iPod播放器 \n",
    "- ..."
   ]
  },
  {
   "cell_type": "markdown",
   "metadata": {
    "slideshow": {
     "slide_type": "slide"
    }
   },
   "source": [
    "### 网络化（互联网+）\n",
    "\n",
    "> 网络化是指利用通信技术和计算机技术，把分布在不同地点的计算机及各类电子终端设备互联起来，按照一定的网络协议相互通信，以达到所有用户都可以共享软件、硬件和数据资源的目的。\n",
    "\n",
    "> 无中心化；去空间化；"
   ]
  },
  {
   "cell_type": "markdown",
   "metadata": {
    "slideshow": {
     "slide_type": "slide"
    }
   },
   "source": [
    "**网络化趋势案例**\n",
    "\n",
    "- 百货商场---京东阿里\n",
    "- 售票店---12306票务\n",
    "- 饭店---饿了么\n",
    "- ..."
   ]
  },
  {
   "cell_type": "markdown",
   "metadata": {
    "slideshow": {
     "slide_type": "slide"
    }
   },
   "source": [
    "### 智能化（AI+）\n",
    "\n",
    "> 智能化是指由现代通信与信息技术、计算机网络技术、行业技术、智能控制技术汇集而成的针对某一个方面的应用。\n",
    "\n",
    "> 大数据；无人化；"
   ]
  },
  {
   "cell_type": "markdown",
   "metadata": {
    "slideshow": {
     "slide_type": "slide"
    }
   },
   "source": [
    "**智能化趋势案例**\n",
    "\n",
    "- 无人商场\n",
    "- 无人工厂\n",
    "- 无人驾驶\n",
    "- ..."
   ]
  },
  {
   "cell_type": "markdown",
   "metadata": {
    "slideshow": {
     "slide_type": "slide"
    }
   },
   "source": [
    "###  数字化、网络化、智能化的终极目的\n",
    "\n",
    "> 在任意地点、任意时间更好地做任何事情！\n",
    "\n",
    "> Do better anything anywhere anytime "
   ]
  },
  {
   "cell_type": "markdown",
   "metadata": {
    "slideshow": {
     "slide_type": "slide"
    }
   },
   "source": [
    "使用公式来描述一个革命性的服务：\n",
    "$$\n",
    "s(People, Space, Time)\n",
    "$$\n",
    "- 人群范围\n",
    "- 空间范围\n",
    "- 时间范围"
   ]
  },
  {
   "cell_type": "markdown",
   "metadata": {
    "slideshow": {
     "slide_type": "slide"
    }
   },
   "source": [
    "## 如何为科研助力\n",
    "\n",
    "> 如果到四五十岁，你还不能在睡觉时候也赚钱，你就活的太失败了！\n",
    "\n",
    "> 如果你没有找到一个当你睡觉时还在挣钱的方法, 你将一直工作到死！  \n",
    "\n",
    "> 巴菲特"
   ]
  },
  {
   "cell_type": "markdown",
   "metadata": {
    "slideshow": {
     "slide_type": "slide"
    }
   },
   "source": [
    "解决方法：\n",
    "- 建立系统\n",
    "- 寻找优秀人才，建立更优系统"
   ]
  },
  {
   "cell_type": "markdown",
   "metadata": {
    "slideshow": {
     "slide_type": "slide"
    }
   },
   "source": [
    "科学研究的几个阶段\n",
    "- 问题与idea\n",
    "- 调研与文献\n",
    "- 观测试验\n",
    "- 数据收集\n",
    "- 数据处理与分析\n",
    "- 文章与书籍"
   ]
  },
  {
   "cell_type": "markdown",
   "metadata": {
    "slideshow": {
     "slide_type": "slide"
    }
   },
   "source": [
    "个人搭建科研系统：\n",
    "- 人员无限（nobody）\n",
    "- 空间无限（anywhere）\n",
    "- 时间无限（anytime）"
   ]
  },
  {
   "cell_type": "markdown",
   "metadata": {
    "slideshow": {
     "slide_type": "slide"
    }
   },
   "source": [
    "以查阅文献为例\n",
    "- 手动搜索下载到自动（爬虫）\n",
    "- 全年监视 （网络化）\n",
    "- 文章匹配（智能化）\n",
    "- 文章自动翻译（智能化）"
   ]
  },
  {
   "cell_type": "markdown",
   "metadata": {
    "slideshow": {
     "slide_type": "slide"
    }
   },
   "source": [
    "以数据收集与分析为例\n",
    "- 手动下载到自动化（爬虫）\n",
    "- 全年监视 （网络化）\n",
    "- 数据处理和分析（数据分析、可视化与机器学习）"
   ]
  },
  {
   "cell_type": "markdown",
   "metadata": {
    "slideshow": {
     "slide_type": "slide"
    }
   },
   "source": [
    "如何搭建自己睡觉了也在科研的系统？\n",
    "- 自动化\n",
    "- 网络服务化\n",
    "- 智能化"
   ]
  },
  {
   "cell_type": "markdown",
   "metadata": {
    "slideshow": {
     "slide_type": "slide"
    }
   },
   "source": [
    "## 如何学习编程？\n",
    "\n",
    "![学习金字塔](assets/Edgar-Dale-Cone-of-Learning.png)"
   ]
  },
  {
   "cell_type": "markdown",
   "metadata": {
    "slideshow": {
     "slide_type": "slide"
    }
   },
   "source": [
    "### 方法\n",
    "\n",
    "编程语言学习有三个境界：\n",
    "\n",
    "> 明白同行所说之概念，看懂同行所写之代码，此第一境也；比葫芦画瓢模仿出代码，量变引质变，终山寨变正品，此第二境也；能悟道而传之，能授业解人惑，此第三境也。"
   ]
  },
  {
   "cell_type": "markdown",
   "metadata": {
    "slideshow": {
     "slide_type": "slide"
    }
   },
   "source": [
    "对应的三个阶段：\n",
    "\n",
    "- 第一阶段，买书或培训，开始了解基本语法和概念，看的懂简单代码，运行示例程序也能够获得结果。\n",
    "\n",
    "- 第二阶段，仿照简单示例开始编写代码，出现错误会调试代码，最终完成代码；随着编写代码越来越多，经验越来越丰富，能够画草图设计，再据设计编写代码。编写的软件能够真正有用。\n",
    "\n",
    "- 第三阶段，能够知其然知其所以然，记记笔记，写点博客。可以解决别人编程出现的问题，且解释的头头是道。"
   ]
  },
  {
   "cell_type": "markdown",
   "metadata": {
    "slideshow": {
     "slide_type": "slide"
    }
   },
   "source": [
    "简而言之\n",
    "- 多看多练；\n",
    "- 多编多试；\n",
    "- 多写多思。"
   ]
  },
  {
   "cell_type": "markdown",
   "metadata": {
    "slideshow": {
     "slide_type": "slide"
    }
   },
   "source": [
    "### 途径\n",
    "\n",
    "- 培训\n",
    "- 书籍教材\n",
    "- 网络教程"
   ]
  },
  {
   "cell_type": "markdown",
   "metadata": {
    "slideshow": {
     "slide_type": "slide"
    }
   },
   "source": [
    "#### 培训\n",
    "\n",
    "如果手头还比较宽松，参加培训是不错的选择。培训是集中时间学习，效率比较高。相对于自学而言，面对面的培训传递的信息量更大，讲解会更透彻，能够快速入门。\n",
    "\n",
    ">“Buy quality, cry once. Buy cheap, cry twice.”\n",
    "\n",
    "对于年轻人，花钱培训是投资。"
   ]
  },
  {
   "cell_type": "markdown",
   "metadata": {
    "slideshow": {
     "slide_type": "slide"
    }
   },
   "source": [
    "## 培训大纲\n",
    "\n",
    "1. Python基础\n",
    "2.  Python爬虫\n",
    "3.  数据分析入门\n",
    "4.  机器学习"
   ]
  },
  {
   "cell_type": "markdown",
   "metadata": {
    "slideshow": {
     "slide_type": "slide"
    }
   },
   "source": [
    "## 培训讲师\n",
    "\n",
    "> “正确的路线确定之后,干部就是决定的因素”---毛泽东\n",
    "\n",
    "培训成功的关键看老师"
   ]
  },
  {
   "cell_type": "markdown",
   "metadata": {
    "slideshow": {
     "slide_type": "slide"
    }
   },
   "source": [
    "### 段勇\n",
    "    \n",
    "- 大数据技术和应用专家\n",
    "- 前杭州数云联合创始人&CTO\n",
    "- 原华院数据数据挖掘总监\n",
    "- A+实验室(https://aicademy.org/)创始人"
   ]
  },
  {
   "cell_type": "markdown",
   "metadata": {
    "slideshow": {
     "slide_type": "slide"
    }
   },
   "source": [
    "### 周耀\n",
    "\n",
    "- 知名大学计算机专业，从事互联网软件开发11年\n",
    "- 现就职于知名在线教育企业。\n",
    "- 多年爬虫实战经验\n",
    "- 编程之星创始人"
   ]
  },
  {
   "cell_type": "markdown",
   "metadata": {
    "slideshow": {
     "slide_type": "slide"
    }
   },
   "source": [
    "### 王伟华\n",
    "\n",
    "- 郑州大学哲学爱好者协会第一任会长\n",
    "- 中科院天体物理博士，原上海天文台正研高工、硕士生导师\n",
    "- 荣获嫦娥三号任务突出贡献者、2014年上海市科学技术进步奖一等奖（第六位）\n",
    "- 前厦门宽投金融科技有限公司高级软件工程师和策略师\n",
    "- 智汇-共享科学创始人"
   ]
  }
 ],
 "metadata": {
  "celltoolbar": "Slideshow",
  "kernelspec": {
   "display_name": "Python 3",
   "language": "python",
   "name": "python3"
  },
  "language_info": {
   "codemirror_mode": {
    "name": "ipython",
    "version": 3
   },
   "file_extension": ".py",
   "mimetype": "text/x-python",
   "name": "python",
   "nbconvert_exporter": "python",
   "pygments_lexer": "ipython3",
   "version": "3.6.4"
  },
  "toc": {
   "base_numbering": 1,
   "nav_menu": {},
   "number_sections": true,
   "sideBar": true,
   "skip_h1_title": false,
   "title_cell": "Table of Contents",
   "title_sidebar": "Contents",
   "toc_cell": false,
   "toc_position": {},
   "toc_section_display": true,
   "toc_window_display": false
  }
 },
 "nbformat": 4,
 "nbformat_minor": 2
}
