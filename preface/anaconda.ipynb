{
 "cells": [
  {
   "cell_type": "markdown",
   "metadata": {
    "slideshow": {
     "slide_type": "slide"
    }
   },
   "source": [
    "# 安装anaconda\n",
    "\n",
    "[Anaconda Python套件](https://www.continuum.io)是一个基于强大Python的开源分析平台，易于安装、发现直观、分析快捷、协作简单，人人皆可使用。"
   ]
  },
  {
   "cell_type": "markdown",
   "metadata": {
    "slideshow": {
     "slide_type": "slide"
    }
   },
   "source": [
    "## 安装\n",
    "\n",
    "Anaconda可以安装在Windows、Linux和Mac Os操作系统平台。Anaconda同时支持Python2和Python3版本。故安装之前，确认自己的操作系统，确认操作系统位数。"
   ]
  },
  {
   "cell_type": "markdown",
   "metadata": {
    "slideshow": {
     "slide_type": "slide"
    }
   },
   "source": [
    "![我的操作系统](https://imgs.isciencehub.cn/python-basics/preface/operatingsystem.png)"
   ]
  },
  {
   "cell_type": "markdown",
   "metadata": {},
   "source": [
    "为了安装Anaconda Python套件，首先从[Anaconda Python官网](https://www.continuum.io/downloads)下载指定系统指定Python版本（2.X或3.X）的安装程序。"
   ]
  },
  {
   "cell_type": "markdown",
   "metadata": {
    "slideshow": {
     "slide_type": "slide"
    }
   },
   "source": [
    "在国内的话，最好从Python镜像站下载，例如[清华大学镜像站](https://mirrors.tuna.tsinghua.edu.cn/help/anaconda/)的[下载安装包](https://mirrors.tuna.tsinghua.edu.cn/anaconda/archive/)"
   ]
  },
  {
   "cell_type": "markdown",
   "metadata": {
    "slideshow": {
     "slide_type": "slide"
    }
   },
   "source": [
    "### Windows操作系统\n",
    "\n",
    "到[清华大学镜像站](https://mirrors.tuna.tsinghua.edu.cn/help/anaconda/)的[下载安装包](https://mirrors.tuna.tsinghua.edu.cn/anaconda/archive/)，下载Python3 Windows64位系统安装程序(`Anaconda3-5.3.1-Windows-x86_64.exe`, 2018年11月期间)。"
   ]
  },
  {
   "cell_type": "markdown",
   "metadata": {
    "slideshow": {
     "slide_type": "slide"
    }
   },
   "source": [
    "双击安装程序文件，并按照提示进行操作，即可顺利安装。\n",
    "\n",
    "推荐安装目录为`C:\\Anaconda3`"
   ]
  },
  {
   "cell_type": "markdown",
   "metadata": {
    "slideshow": {
     "slide_type": "slide"
    }
   },
   "source": [
    "安装完毕后，选择【开始】=>【Anaconda】=>【Anaconda Prompt】,进入Anaconda命令终端。\n",
    "\n",
    "在命令终端中，键入`python`，启动Python程序，键入：\n",
    "```\n",
    "1 + 1\n",
    "```"
   ]
  },
  {
   "cell_type": "markdown",
   "metadata": {
    "slideshow": {
     "slide_type": "slide"
    }
   },
   "source": [
    "![Anaconda Python](https://imgs.isciencehub.cn/python-basics/preface/anaconda_python.png)"
   ]
  },
  {
   "cell_type": "markdown",
   "metadata": {
    "slideshow": {
     "slide_type": "slide"
    }
   },
   "source": [
    "如果如上图所示，能正常返回2，说明anaconda安装正常。\n",
    "\n",
    "> 在任务栏上，选择Anaconda终端按钮，单击右键选择“固定到任务栏”。以后通过任务栏快捷启动Anaconda终端。"
   ]
  },
  {
   "cell_type": "markdown",
   "metadata": {
    "slideshow": {
     "slide_type": "slide"
    }
   },
   "source": [
    "### linux操作系统\n",
    "\n",
    "到[清华大学镜像站](https://mirrors.tuna.tsinghua.edu.cn/help/anaconda/)的[下载安装包](https://mirrors.tuna.tsinghua.edu.cn/anaconda/archive/)，下载64位Linux系统的Python3安装程序(`Anaconda3-5.3.1-Linux-x86_64.sh`, 2018年11月期间)。"
   ]
  },
  {
   "cell_type": "markdown",
   "metadata": {
    "slideshow": {
     "slide_type": "slide"
    }
   },
   "source": [
    "使用超级用户，在终端提示符下，切换到安装程序文件所在目录，键入如下命令：\n",
    "```shell\n",
    "$ bash Anaconda3-5.3.1-Linux-x86_64.sh\n",
    "```\n",
    "按照提示进行，即可安装。\n",
    "\n",
    "安装目录可设为`/opt/anaconda3`"
   ]
  },
  {
   "cell_type": "markdown",
   "metadata": {
    "slideshow": {
     "slide_type": "slide"
    }
   },
   "source": [
    "使用个人用户，在用户主目录下，修改初始化文件`.bashrc`文件，增加如下内容：\n",
    "```shell\n",
    "export PATH=\"/opt/anaconda3/bin:$PATH\"\n",
    "export PYTHONPATH='/opt/anaconda3/lib'\n",
    "```\n",
    "\n",
    "然后键入如下命令：\n",
    "```\n",
    "source .bashrc\n",
    "```"
   ]
  },
  {
   "cell_type": "markdown",
   "metadata": {
    "slideshow": {
     "slide_type": "slide"
    }
   },
   "source": [
    "同样，在命令终端下，键入`python`，运行Python程序，然后输入：\n",
    "```\n",
    "1 + 1\n",
    "```\n",
    "\n",
    "正常返回2，说明anaconda安装正常"
   ]
  },
  {
   "cell_type": "markdown",
   "metadata": {
    "slideshow": {
     "slide_type": "slide"
    }
   },
   "source": [
    "## Jupyter\n",
    "\n",
    "培训会使用Jupyter Notebook。在命令行终端下，键入：\n",
    "```\n",
    "jupyter notebook\n",
    "```\n",
    "\n",
    "会出现如下图所示的Jupyter工作环境。"
   ]
  },
  {
   "cell_type": "markdown",
   "metadata": {
    "slideshow": {
     "slide_type": "slide"
    }
   },
   "source": [
    "![jupyter notebook](https://imgs.isciencehub.cn/python-basics/preface/jupyter_notebook.png)"
   ]
  },
  {
   "cell_type": "markdown",
   "metadata": {
    "slideshow": {
     "slide_type": "slide"
    }
   },
   "source": [
    "### 安装Jupyter插件\n",
    "\n",
    "所以需要安装如下Jupyter插件：\n",
    "\n",
    "- [RISE](https://github.com/damianavila/RISE)\n",
    "- [jupyter_contrib_nbextensions](https://github.com/ipython-contrib/jupyter_contrib_nbextensions)\n",
    "- [jupyter_nbextensions_configurator](https://github.com/Jupyter-contrib/jupyter_nbextensions_configurator)"
   ]
  },
  {
   "cell_type": "markdown",
   "metadata": {
    "slideshow": {
     "slide_type": "slide"
    }
   },
   "source": [
    "#### RISE插件\n",
    "\n",
    "RISE是一个Jupyter Slideshow扩展插件：<https://github.com/damianavila/RISE>\n",
    "\n",
    "使用conda或pip安装:\n",
    "```sh\n",
    "conda install -c damianavila82 rise\n",
    "pip install -U RISE\n",
    "```\n",
    "\n",
    "安装JavaScript和CSS：\n",
    "```\n",
    "jupyter-nbextension install rise --py --sys-prefix\n",
    "```\n",
    "\n",
    "启用nbextension：\n",
    "```\n",
    "jupyter-nbextension enable rise --py --sys-prefix\n",
    "```"
   ]
  },
  {
   "cell_type": "markdown",
   "metadata": {
    "slideshow": {
     "slide_type": "slide"
    }
   },
   "source": [
    "#### jupyter_contrib_nbextensions\n",
    "\n",
    "使用conda或pip安装\n",
    "\n",
    "```sh\n",
    "conda install -c conda-forge jupyter_contrib_nbextensions\n",
    "pip install jupyter_contrib_nbextensions\n",
    "```\n",
    "\n",
    "安装JavaScript和CSS：\n",
    "```\n",
    "jupyter contrib nbextension install --sys-prefix\n",
    "```\n",
    "\n",
    "启用nbextension：\n",
    "```\n",
    "jupyter nbextension enable codefolding/main\n",
    "```"
   ]
  },
  {
   "cell_type": "markdown",
   "metadata": {
    "slideshow": {
     "slide_type": "slide"
    }
   },
   "source": [
    "#### jupyter_nbextensions_configurator\n",
    "\n",
    "使用conda或pip安装:\n",
    "```sh\n",
    "conda install -c conda-forge jupyter_nbextensions_configurator\n",
    "pip install jupyter_nbextensions_configurator\n",
    "```\n",
    "\n",
    "启用：\n",
    "```\n",
    "jupyter nbextensions_configurator enable --sys-prefix\n",
    "```"
   ]
  },
  {
   "cell_type": "markdown",
   "metadata": {
    "slideshow": {
     "slide_type": "slide"
    }
   },
   "source": [
    "#### 选择插件\n",
    "\n",
    "- Table of Contents (2)\n",
    "- Variable Inspector"
   ]
  }
 ],
 "metadata": {
  "celltoolbar": "Slideshow",
  "kernelspec": {
   "display_name": "Python 3",
   "language": "python",
   "name": "python3"
  },
  "language_info": {
   "codemirror_mode": {
    "name": "ipython",
    "version": 3
   },
   "file_extension": ".py",
   "mimetype": "text/x-python",
   "name": "python",
   "nbconvert_exporter": "python",
   "pygments_lexer": "ipython3",
   "version": "3.6.4"
  },
  "toc": {
   "base_numbering": 1,
   "nav_menu": {},
   "number_sections": true,
   "sideBar": true,
   "skip_h1_title": false,
   "title_cell": "Table of Contents",
   "title_sidebar": "Contents",
   "toc_cell": false,
   "toc_position": {},
   "toc_section_display": true,
   "toc_window_display": false
  }
 },
 "nbformat": 4,
 "nbformat_minor": 2
}
