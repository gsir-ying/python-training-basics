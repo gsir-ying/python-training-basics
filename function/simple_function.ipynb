{
 "cells": [
  {
   "cell_type": "markdown",
   "metadata": {
    "slideshow": {
     "slide_type": "slide"
    }
   },
   "source": [
    "# 函数基础（function）\n",
    "\n",
    "![函数](assets/Function_machine2.png)"
   ]
  },
  {
   "cell_type": "markdown",
   "metadata": {
    "slideshow": {
     "slide_type": "slide"
    }
   },
   "source": [
    "## 内置函数\n",
    "\n",
    "| 1  | 2 |  3 | 4 | 5  |\n",
    "|:------|:------|:------|:------|:------||\n",
    "| [`abs`](abs.ipynb) | [`all`](all.ipynb) | [`any`](any.ipynb) | [`ascii`](ascii.ipynb) | [`bin`](bin.ipynb) |\n",
    "| [`bool`](bool.ipynb) | [`bytearray`](bytearray.ipynb) | [`bytes`](bytes.ipynb) | [`callable`](callable.ipynb) | [`chr`](chr.ipynb) |\n",
    "| [`classmethod`](classmethod.ipynb) | [`compile`](compile.ipynb) | [`complex`](complex.ipynb) | [`delattr`](delattr.ipynb) | [`dict`](dict.ipynb) |\n",
    "| [`dir`](dir.ipynb) | [`divmod`](divmod.ipynb) | [`enumerate`](enumerate.ipynb) | [`eval`](eval.ipynb) | [`exec`](exec.ipynb) |\n",
    "| [`filter`](filter.ipynb) | [`float`](float.ipynb) | [`format`](format.ipynb) | [`frozenset`](frozenset.ipynb) | [`getattr`](getattr.ipynb) |\n",
    "| [`globals`](globals.ipynb) | [`hasattr`](hasattr.ipynb) | [`hash`](hash.ipynb) | [`help`](help.ipynb) | [`hex`](hex.ipynb) |\n",
    "| [`id`](id.ipynb) | [`input`](input.ipynb) | [`int`](int.ipynb) | [`isinstance`](isinstance.ipynb) | [`issubclass`](issubclass.ipynb) |\n",
    "| [`iter`](iter.ipynb) | [`len`](len.ipynb) | [`list`](list.ipynb) | [`locals`](locals.ipynb) | [`map`](map.ipynb) |\n",
    "| [`max`](max.ipynb) | [`memoryview`](memoryview.ipynb) | [`min`](min.ipynb) | [`next`](next.ipynb) | [`object`](object.ipynb) |\n",
    "| [`oct`](oct.ipynb) | [`open`](open.ipynb) | [`ord`](ord.ipynb) | [`pow`](pow.ipynb) | [`print`](print.ipynb) |\n",
    "| [`property`](property.ipynb) | [`range`](range.ipynb) | [`repr`](repr.ipynb) | [`reversed`](reversed.ipynb) | [`round`](round.ipynb) |\n",
    "| [`set`](set.ipynb) | [`setattr`](setattr.ipynb) | [`slice`](slice.ipynb) | [`sorted`](sorted.ipynb) | [`staticmethod`](staticmethod.ipynb) |\n",
    "| [`str`](str.ipynb) | [`sum`](sum.ipynb) | [`super`](super.ipynb) | [`tuple`](tuple.ipynb) | [`type`](type.ipynb) |\n",
    "| [`vars`](vars.ipynb) | [`zip`](zip.ipynb)|"
   ]
  },
  {
   "cell_type": "markdown",
   "metadata": {
    "slideshow": {
     "slide_type": "slide"
    }
   },
   "source": [
    "###  数学运算\n",
    "\n",
    "- [`abs`：计算绝对值](abs.ipynb)\n",
    "- [`divmod`：计算取商和余数](divmod.ipynb)\n",
    "- [`pow`：求幂](pow.ipynb)\n",
    "- [`round`：四舍五入](round.ipynb)\n"
   ]
  },
  {
   "cell_type": "markdown",
   "metadata": {
    "slideshow": {
     "slide_type": "slide"
    }
   },
   "source": [
    "### 进制转换\n",
    "\n",
    "- [`bin`：返回二进制](bin.ipynb)\n",
    "- [`hex`：返回十六进制](hex.ipynb)\n",
    "- [`oct`：返回八进制](oct.ipynb)"
   ]
  },
  {
   "cell_type": "markdown",
   "metadata": {
    "slideshow": {
     "slide_type": "slide"
    }
   },
   "source": [
    "### 字符转换\n",
    "\n",
    "- [`chr`：返回整数对应的字符](chr.ipynb)\n",
    "- [`ord`：返回字符对应的ASCII编码](ord.ipynb)"
   ]
  },
  {
   "cell_type": "markdown",
   "metadata": {
    "slideshow": {
     "slide_type": "slide"
    }
   },
   "source": [
    "### 数据类型\n",
    "\n",
    "- [`int`：整数](int.ipynb)\n",
    "- [`bool`：布尔数](bool.ipynb)\n",
    "- [`float`：浮点数](float.ipynb)\n",
    "- [`complex`：复数](complex.ipynb)\n",
    "- [`str`：字符串](str.ipynb)\n",
    "- [`list`：列表](list.ipynb)\n",
    "- [`tuple`：元组](tuple.ipynb)\n",
    "- [`dict`：字典](dict.ipynb)\n",
    "- [`set`：集合](set.ipynb)\n",
    "- [`object`：基类](object.ipynb)\n",
    "- [`bytearray`：byte数组](bytearray.ipynb)\n",
    "- [`bytes`：](bytes.ipynb)\n",
    "- [`frozenset`：固定集合](frozenset.ipynb)"
   ]
  },
  {
   "cell_type": "markdown",
   "metadata": {
    "slideshow": {
     "slide_type": "slide"
    }
   },
   "source": [
    "### 序列运算\n",
    "\n",
    "- [`len`：计算元素数](len.ipynb)\n",
    "- [`max`：计算最大值](max.ipynb)\n",
    "- [`min`：计算最小值](min.ipynb)\n",
    "- [`sum`：计算求和](sum.ipynb)\n",
    "- [`filter`：过滤序列](filter.ipynb)\n",
    "- [`zip`：并行遍历](zip.ipynb)\n",
    "- [`map`：序列遍历](map.ipynb)"
   ]
  },
  {
   "cell_type": "markdown",
   "metadata": {
    "slideshow": {
     "slide_type": "slide"
    }
   },
   "source": [
    "### 逻辑判断\n",
    "\n",
    "- [`all`](all.ipynb)\n",
    "- [`any`](any.ipynb)"
   ]
  },
  {
   "cell_type": "markdown",
   "metadata": {
    "slideshow": {
     "slide_type": "slide"
    }
   },
   "source": [
    "### 自省\n",
    "\n",
    "- [`callable`：检查对象是否可调用](callable.ipynb)\n",
    "- [`delattr`：删除对象的属性](delattr.ipynb)\n",
    "- [`dir`：列出对象的属性方法列表](dir.ipynb)\n",
    "- [`getattr`：获取对象的属性](getattr.ipynb)\n",
    "- [`globals`：返回描述当前全局符号表的字典](globals.ipynb)\n",
    "- [`hasattr`：判断对象是否包含指定特性](hasattr.ipynb)\n",
    "- [`id`：返回对象的唯一标识](id.ipynb)\n",
    "- [`isinstance`：判断对象是否是指定类的实例](isinstance.ipynb)\n",
    "- [`issubclass`：判断是否是子类](issubclass.ipynb)\n",
    "- [`locals`：返回当前的变量列表](locals.ipynb)\n",
    "- [`setattr`：设置对象的属性值](setattr.ipynb)\n",
    "- [`type`：返回对象的类型](type.ipynb)\n",
    "- [`vars`：返回对象的变量](vars.ipynb)"
   ]
  },
  {
   "cell_type": "markdown",
   "metadata": {
    "slideshow": {
     "slide_type": "slide"
    }
   },
   "source": [
    "### 输入输出操作\n",
    "\n",
    "- [`input`](input.ipynb)\n",
    "- [`print`](print.ipynb)"
   ]
  },
  {
   "cell_type": "markdown",
   "metadata": {
    "slideshow": {
     "slide_type": "slide"
    }
   },
   "source": [
    "### 文件操作\n",
    "\n",
    "- [`open`](open.ipynb)"
   ]
  },
  {
   "cell_type": "markdown",
   "metadata": {
    "slideshow": {
     "slide_type": "slide"
    }
   },
   "source": [
    "### 装饰器函数\n",
    "\n",
    "- [`classmethod`](classmethod.ipynb)\n",
    "- [`property`](property.ipynb)\n",
    "- [`staticmethod`](staticmethod.ipynb)"
   ]
  },
  {
   "cell_type": "markdown",
   "metadata": {
    "slideshow": {
     "slide_type": "slide"
    }
   },
   "source": [
    "### 代码运行\n",
    "\n",
    "- [`compile`](compile.ipynb)\n",
    "- [`eval`](eval.ipynb)\n",
    "- [`exec`](exec.ipynb)"
   ]
  },
  {
   "cell_type": "markdown",
   "metadata": {
    "slideshow": {
     "slide_type": "slide"
    }
   },
   "source": [
    "### 迭代子\n",
    "\n",
    "- [`enumerate`](enumerate.ipynb)\n",
    "- [`reversed`](reversed.ipynb)\n",
    "- [`range`](range.ipynb)\n",
    "- [`sorted`](sorted.ipynb)\n",
    "- [`iter`](iter.ipynb)\n",
    "- [`next`](next.ipynb)"
   ]
  },
  {
   "cell_type": "markdown",
   "metadata": {
    "slideshow": {
     "slide_type": "slide"
    }
   },
   "source": [
    "## 定义函数"
   ]
  },
  {
   "cell_type": "markdown",
   "metadata": {
    "slideshow": {
     "slide_type": "-"
    }
   },
   "source": [
    "### 语法\n",
    "\n",
    "定义函数的语法为：\n",
    "```\n",
    "def function_name(arguments):\n",
    "    statement(s)\n",
    "```                  "
   ]
  },
  {
   "cell_type": "code",
   "execution_count": 1,
   "metadata": {
    "slideshow": {
     "slide_type": "-"
    }
   },
   "outputs": [],
   "source": [
    "# 我爱你十国语言版\n",
    "def loveyou():\n",
    "    \"\"\"用十国语言说我爱你\n",
    "    \n",
    "    语言包括：中国、美国、日本、韩国、俄罗斯\n",
    "              法国、德国、希腊、西班牙、荷兰\n",
    "    \"\"\"\n",
    "    print('我爱你')    \n",
    "    print('I Love You')\n",
    "    print('私は爱する')             # 日本：\n",
    "    print('나는 너를 사랑한다')     # 韩国\n",
    "    print('Я люблю вас')   # 俄罗斯\n",
    "    print(\"Je t'aime\")              # 法国\n",
    "    print('Ich liebe dich')         # 德国\n",
    "    print('∑ας αγαπώ')       # 希腊\n",
    "    print('Te amo')                 # 西班牙\n",
    "    print('Ik houd van u')          # 荷兰"
   ]
  },
  {
   "cell_type": "code",
   "execution_count": 26,
   "metadata": {
    "slideshow": {
     "slide_type": "slide"
    }
   },
   "outputs": [
    {
     "name": "stdout",
     "output_type": "stream",
     "text": [
      "我爱你\n",
      "I Love You\n",
      "私は爱する\n",
      "나는 너를 사랑한다\n",
      "Я люблю вас\n",
      "Je t'aime\n",
      "Ich liebe dich\n",
      "∑ας αγαπώ\n",
      "Te amo\n",
      "Ik houd van u\n"
     ]
    }
   ],
   "source": [
    "# 用不同语言爱着你\n",
    "loveyou()"
   ]
  },
  {
   "cell_type": "markdown",
   "metadata": {
    "slideshow": {
     "slide_type": "slide"
    }
   },
   "source": [
    "### 文档字符串\n",
    "\n",
    "在函数体中，第一行语句可以是可选字符串文本，用来存放函数的说明文档，称为文档字符串（docstring）。"
   ]
  },
  {
   "cell_type": "code",
   "execution_count": 2,
   "metadata": {
    "slideshow": {
     "slide_type": "-"
    }
   },
   "outputs": [
    {
     "name": "stdout",
     "output_type": "stream",
     "text": [
      "用十国语言说我爱你\n",
      "    \n",
      "    语言包括：中国、美国、日本、韩国、俄罗斯\n",
      "              法国、德国、希腊、西班牙、荷兰\n",
      "    \n"
     ]
    }
   ],
   "source": [
    "print(loveyou.__doc__)"
   ]
  },
  {
   "cell_type": "markdown",
   "metadata": {
    "slideshow": {
     "slide_type": "slide"
    }
   },
   "source": [
    "### 自省\n",
    "\n",
    "> 吾每遇对象必自省，用变量而知其类乎？用其值而知属性乎？用其法而知方法乎？"
   ]
  },
  {
   "cell_type": "code",
   "execution_count": 31,
   "metadata": {
    "slideshow": {
     "slide_type": "-"
    }
   },
   "outputs": [
    {
     "name": "stdout",
     "output_type": "stream",
     "text": [
      "<class 'function'>\n"
     ]
    }
   ],
   "source": [
    "print(type(loveyou))"
   ]
  },
  {
   "cell_type": "markdown",
   "metadata": {
    "slideshow": {
     "slide_type": "slide"
    }
   },
   "source": [
    "使用内置函数`help()`"
   ]
  },
  {
   "cell_type": "code",
   "execution_count": 3,
   "metadata": {
    "slideshow": {
     "slide_type": "-"
    }
   },
   "outputs": [
    {
     "name": "stdout",
     "output_type": "stream",
     "text": [
      "Help on function loveyou in module __main__:\n",
      "\n",
      "loveyou()\n",
      "    用十国语言说我爱你\n",
      "    \n",
      "    语言包括：中国、美国、日本、韩国、俄罗斯\n",
      "              法国、德国、希腊、西班牙、荷兰\n",
      "\n"
     ]
    }
   ],
   "source": [
    "help(loveyou)"
   ]
  },
  {
   "cell_type": "markdown",
   "metadata": {
    "slideshow": {
     "slide_type": "slide"
    }
   },
   "source": [
    "使用自省功能?或??"
   ]
  },
  {
   "cell_type": "code",
   "execution_count": 5,
   "metadata": {
    "slideshow": {
     "slide_type": "-"
    }
   },
   "outputs": [],
   "source": [
    "loveyou??"
   ]
  },
  {
   "cell_type": "markdown",
   "metadata": {
    "slideshow": {
     "slide_type": "slide"
    }
   },
   "source": [
    "### 参数传递\n",
    "\n",
    "在定义函数时，名字后面圆括号所包括的是函数参数，也称为形式参数。在调用函数时，会传入实际参数来代替形式参数。\n",
    "\n",
    "Python函数的参数传入总是“传值调用”，即在函数体内实际是实参的拷贝值。不过，在Python中所有变量都是对象的引用，也就是说函数体内的参数引用的对象是同一个。"
   ]
  },
  {
   "cell_type": "markdown",
   "metadata": {
    "slideshow": {
     "slide_type": "slide"
    }
   },
   "source": [
    "对于不可变对象，当发生更改操作时，引用对象发生了变化，并不影响实参。"
   ]
  },
  {
   "cell_type": "code",
   "execution_count": 46,
   "metadata": {
    "slideshow": {
     "slide_type": "-"
    }
   },
   "outputs": [],
   "source": [
    "def change_parameter(obj):\n",
    "    \"\"\"change the immutable object passed\"\"\"\n",
    "    print('formal Parameter: ', type(obj), id(obj), obj)\n",
    "    obj = '老李'\n",
    "    print('formal Parameter: ', type(obj), id(obj), obj)    "
   ]
  },
  {
   "cell_type": "code",
   "execution_count": 47,
   "metadata": {
    "slideshow": {
     "slide_type": "slide"
    }
   },
   "outputs": [
    {
     "name": "stdout",
     "output_type": "stream",
     "text": [
      "real parameter:  <class 'str'> 139713977062656 老王\n",
      "formal Parameter:  <class 'str'> 139713977062656 老王\n",
      "formal Parameter:  <class 'str'> 139713977064152 老李\n",
      "after function call:  <class 'str'> 139713977062656 老王\n"
     ]
    }
   ],
   "source": [
    "var = '老王'\n",
    "print('real parameter: ', type(var), id(var), var)\n",
    "change_parameter(var)\n",
    "print('after function call: ', type(var), id(var), var)"
   ]
  },
  {
   "cell_type": "markdown",
   "metadata": {
    "slideshow": {
     "slide_type": "slide"
    }
   },
   "source": [
    "对于可变对象，如果在函数体内更改了可变对象的值，那么实参的值也就发生了变化。"
   ]
  },
  {
   "cell_type": "code",
   "execution_count": 49,
   "metadata": {
    "slideshow": {
     "slide_type": "-"
    }
   },
   "outputs": [],
   "source": [
    "def change_parameter2(obj):\n",
    "    \"\"\"change the mutable object passed\"\"\"\n",
    "    print('formal Parameter: ', type(obj), id(obj), obj)\n",
    "    obj.append(2)\n",
    "    print('formal Parameter: ', type(obj), id(obj), obj)    "
   ]
  },
  {
   "cell_type": "code",
   "execution_count": 50,
   "metadata": {
    "slideshow": {
     "slide_type": "slide"
    }
   },
   "outputs": [
    {
     "name": "stdout",
     "output_type": "stream",
     "text": [
      "real parameter:  <class 'list'> 139713977281416 ['老王']\n",
      "formal Parameter:  <class 'list'> 139713977281416 ['老王']\n",
      "formal Parameter:  <class 'list'> 139713977281416 ['老王', 2]\n",
      "after function call:  <class 'list'> 139713977281416 ['老王', 2]\n"
     ]
    }
   ],
   "source": [
    "var = ['老王']\n",
    "print('real parameter: ', type(var), id(var), var)\n",
    "change_parameter2(var)\n",
    "print('after function call: ', type(var), id(var), var)"
   ]
  },
  {
   "cell_type": "markdown",
   "metadata": {
    "slideshow": {
     "slide_type": "slide"
    }
   },
   "source": [
    "### `return`语句\n",
    "\n",
    "使用`return`语句退出函数，同时向调用者返回一个表达式。"
   ]
  },
  {
   "cell_type": "code",
   "execution_count": 51,
   "metadata": {
    "slideshow": {
     "slide_type": "slide"
    }
   },
   "outputs": [],
   "source": [
    "def add(value1, value2):\n",
    "    \"\"\"return a sum\"\"\"\n",
    "    return value1 + value2"
   ]
  },
  {
   "cell_type": "code",
   "execution_count": 52,
   "metadata": {
    "slideshow": {
     "slide_type": "-"
    }
   },
   "outputs": [
    {
     "name": "stdout",
     "output_type": "stream",
     "text": [
      "8 <class 'int'>\n"
     ]
    }
   ],
   "source": [
    "result = add(3, 5)\n",
    "print(result, type(result))"
   ]
  },
  {
   "cell_type": "markdown",
   "metadata": {
    "slideshow": {
     "slide_type": "slide"
    }
   },
   "source": [
    "如果在函数体最后没有`return`语句，缺省还是返回空对象`None`"
   ]
  },
  {
   "cell_type": "code",
   "execution_count": 55,
   "metadata": {
    "slideshow": {
     "slide_type": "slide"
    }
   },
   "outputs": [],
   "source": [
    "def add3(value1, value2):\n",
    "    \"\"\"no return statement\"\"\"\n",
    "    result = value1 + value2"
   ]
  },
  {
   "cell_type": "code",
   "execution_count": 56,
   "metadata": {
    "slideshow": {
     "slide_type": "-"
    }
   },
   "outputs": [
    {
     "name": "stdout",
     "output_type": "stream",
     "text": [
      "None <class 'NoneType'>\n"
     ]
    }
   ],
   "source": [
    "result = add3(3, 5)\n",
    "print(result, type(result))"
   ]
  },
  {
   "cell_type": "markdown",
   "metadata": {
    "slideshow": {
     "slide_type": "slide"
    }
   },
   "source": [
    "## 函数参数\n",
    "\n",
    "> 吃饭是为了活着，活着不是为了吃饭"
   ]
  },
  {
   "cell_type": "markdown",
   "metadata": {
    "slideshow": {
     "slide_type": "slide"
    }
   },
   "source": [
    "### 位置参数\n",
    "\n",
    "现在假定三菜分别是肉、鱼、蔬菜类。我们可以创建如下函数："
   ]
  },
  {
   "cell_type": "code",
   "execution_count": 58,
   "metadata": {
    "slideshow": {
     "slide_type": "slide"
    }
   },
   "outputs": [],
   "source": [
    "def order(meat, fish, vegetable, soup):\n",
    "    \"\"\"Order meal include meat, fish, vegetable and soup\"\"\"\n",
    "    print('meat: {0}'.format(meat))\n",
    "    print('fish: {0}'.format(fish))\n",
    "    print('vegetable: {0}'.format(vegetable))\n",
    "    print('soup: {0}'.format(soup))"
   ]
  },
  {
   "cell_type": "code",
   "execution_count": 59,
   "metadata": {
    "slideshow": {
     "slide_type": "slide"
    }
   },
   "outputs": [
    {
     "name": "stdout",
     "output_type": "stream",
     "text": [
      "meat: 小炒肉\n",
      "fish: 清蒸鱼\n",
      "vegetable: 蔬菜拼盘\n",
      "soup: 鸡蛋汤\n"
     ]
    }
   ],
   "source": [
    "meat, fish, vegetable, soup = '小炒肉', '清蒸鱼', '蔬菜拼盘', '鸡蛋汤'\n",
    "order(meat, fish, vegetable, soup)"
   ]
  },
  {
   "cell_type": "markdown",
   "metadata": {
    "slideshow": {
     "slide_type": "slide"
    }
   },
   "source": [
    "位置参数是必须传入的参数，在调用函数时数目和声明的要一样。否则就会引发`TypeError`错误。"
   ]
  },
  {
   "cell_type": "code",
   "execution_count": 60,
   "metadata": {
    "slideshow": {
     "slide_type": "slide"
    }
   },
   "outputs": [
    {
     "ename": "TypeError",
     "evalue": "order() missing 1 required positional argument: 'soup'",
     "output_type": "error",
     "traceback": [
      "\u001b[0;31m---------------------------------------------------------------------------\u001b[0m",
      "\u001b[0;31mTypeError\u001b[0m                                 Traceback (most recent call last)",
      "\u001b[0;32m<ipython-input-60-6435449b2258>\u001b[0m in \u001b[0;36m<module>\u001b[0;34m()\u001b[0m\n\u001b[0;32m----> 1\u001b[0;31m \u001b[0morder\u001b[0m\u001b[0;34m(\u001b[0m\u001b[0mmeat\u001b[0m\u001b[0;34m,\u001b[0m \u001b[0mfish\u001b[0m\u001b[0;34m,\u001b[0m \u001b[0mvegetable\u001b[0m\u001b[0;34m)\u001b[0m\u001b[0;34m\u001b[0m\u001b[0m\n\u001b[0m",
      "\u001b[0;31mTypeError\u001b[0m: order() missing 1 required positional argument: 'soup'"
     ]
    }
   ],
   "source": [
    "order(meat, fish, vegetable)"
   ]
  },
  {
   "cell_type": "markdown",
   "metadata": {
    "slideshow": {
     "slide_type": "slide"
    }
   },
   "source": [
    "位置参数还有一个弊端就是，必须清楚每个参数的含义。在调用函数时，位置次序必须一致，否则就会表错情会错意，得到完全不同的结果。这也是位置参数名字的由来。"
   ]
  },
  {
   "cell_type": "code",
   "execution_count": 62,
   "metadata": {
    "slideshow": {
     "slide_type": "-"
    }
   },
   "outputs": [
    {
     "name": "stdout",
     "output_type": "stream",
     "text": [
      "meat: 清蒸鱼\n",
      "fish: 小炒肉\n",
      "vegetable: 鸡蛋汤\n",
      "soup: 蔬菜拼盘\n"
     ]
    }
   ],
   "source": [
    "order(fish, meat, soup, vegetable)"
   ]
  },
  {
   "cell_type": "markdown",
   "metadata": {
    "collapsed": true,
    "slideshow": {
     "slide_type": "slide"
    }
   },
   "source": [
    "### 关键字参数\n",
    "\n",
    "为了避免位置参数的弊端，Python函数可以通过关键字参数(`keyword=value`)的形式来调用。每个关键字参数会有一个缺省值。这非常有用。例如，在大多情况下，我们都会点蔬菜拼盘和鸡蛋汤，如果每次调用函数都得输入该值，实在是有些麻烦。那么通过关键字参数可以轻松实现。"
   ]
  },
  {
   "cell_type": "code",
   "execution_count": 63,
   "metadata": {
    "slideshow": {
     "slide_type": "-"
    }
   },
   "outputs": [],
   "source": [
    "def order2(meat, fish, vegetable='蔬菜拼盘', soup='鸡蛋汤'):\n",
    "    \"\"\"Order meal include meat, fish, vegetable and soup\"\"\"\n",
    "    print('meat: {0}'.format(meat))\n",
    "    print('fish: {0}'.format(fish))\n",
    "    print('vegetable: {0}'.format(vegetable))\n",
    "    print('soup: {0}'.format(soup))"
   ]
  },
  {
   "cell_type": "markdown",
   "metadata": {
    "slideshow": {
     "slide_type": "slide"
    }
   },
   "source": [
    "关键字参数必须放在位置参数后面，否则就会引发语法错误"
   ]
  },
  {
   "cell_type": "code",
   "execution_count": 64,
   "metadata": {
    "slideshow": {
     "slide_type": "-"
    }
   },
   "outputs": [
    {
     "ename": "SyntaxError",
     "evalue": "non-default argument follows default argument (<ipython-input-64-9e6287152fc0>, line 1)",
     "output_type": "error",
     "traceback": [
      "\u001b[0;36m  File \u001b[0;32m\"<ipython-input-64-9e6287152fc0>\"\u001b[0;36m, line \u001b[0;32m1\u001b[0m\n\u001b[0;31m    def wrongorder2(meat, vegetable='蔬菜拼盘', fish, soup='鸡蛋汤'):\u001b[0m\n\u001b[0m                   ^\u001b[0m\n\u001b[0;31mSyntaxError\u001b[0m\u001b[0;31m:\u001b[0m non-default argument follows default argument\n"
     ]
    }
   ],
   "source": [
    "def wrongorder2(meat, vegetable='蔬菜拼盘', fish, soup='鸡蛋汤'):\n",
    "    \"\"\"Order meal include meat, fish, vegetable and soup\"\"\"\n",
    "    print('meat: {0}'.format(meat))\n",
    "    print('fish: {0}'.format(fish))\n",
    "    print('vegetable: {0}'.format(vegetable))\n",
    "    print('soup: {0}'.format(soup))"
   ]
  },
  {
   "cell_type": "markdown",
   "metadata": {
    "slideshow": {
     "slide_type": "slide"
    }
   },
   "source": [
    "函数定义完后，可以通过只给出位置参数调用："
   ]
  },
  {
   "cell_type": "code",
   "execution_count": 65,
   "metadata": {
    "slideshow": {
     "slide_type": "-"
    }
   },
   "outputs": [
    {
     "name": "stdout",
     "output_type": "stream",
     "text": [
      "meat: 鱼香肉丝\n",
      "fish: 剁椒鱼头\n",
      "vegetable: 蔬菜拼盘\n",
      "soup: 鸡蛋汤\n"
     ]
    }
   ],
   "source": [
    "meat, fish = '鱼香肉丝', '剁椒鱼头'\n",
    "order2(meat, fish)"
   ]
  },
  {
   "cell_type": "markdown",
   "metadata": {
    "slideshow": {
     "slide_type": "slide"
    }
   },
   "source": [
    "给出一些可选参数："
   ]
  },
  {
   "cell_type": "code",
   "execution_count": 66,
   "metadata": {
    "slideshow": {
     "slide_type": "-"
    }
   },
   "outputs": [
    {
     "name": "stdout",
     "output_type": "stream",
     "text": [
      "meat: 红烧肉\n",
      "fish: 鱼头汤\n",
      "vegetable: 炒菠菜\n",
      "soup: 鸡蛋汤\n"
     ]
    }
   ],
   "source": [
    "meat, fish, vegetable = '红烧肉', '鱼头汤', '炒菠菜'\n",
    "order2(meat, fish, vegetable)"
   ]
  },
  {
   "cell_type": "markdown",
   "metadata": {
    "slideshow": {
     "slide_type": "slide"
    }
   },
   "source": [
    "从示例可知，传递位置参数时数目和次序需要保持一致；关键字参数是可选的，不一定需要输入，但位置参数方法来传递关键字参数，次序仍然要保持一致。\n",
    "\n",
    "不过在函数调用时，要传递关键字参数，通常使用`keyword=value`的方式来传递，如此则顺序并不重要。"
   ]
  },
  {
   "cell_type": "code",
   "execution_count": 68,
   "metadata": {
    "slideshow": {
     "slide_type": "-"
    }
   },
   "outputs": [
    {
     "name": "stdout",
     "output_type": "stream",
     "text": [
      "meat: 红烧肉\n",
      "fish: 鱼头汤\n",
      "vegetable: 炒生菜\n",
      "soup: 酒酿圆子\n"
     ]
    }
   ],
   "source": [
    "meat, fish, vegetable, soup = '红烧肉', '鱼头汤', '炒生菜', '酒酿圆子'\n",
    "order2(meat, fish, soup=soup, vegetable=vegetable)"
   ]
  },
  {
   "cell_type": "markdown",
   "metadata": {
    "slideshow": {
     "slide_type": "slide"
    }
   },
   "source": [
    "为了充分利用关键字参数的优点，点菜函数可以定义为"
   ]
  },
  {
   "cell_type": "code",
   "execution_count": 70,
   "metadata": {
    "slideshow": {
     "slide_type": "-"
    }
   },
   "outputs": [],
   "source": [
    "def order3(meat='红烧肉', fish='剁椒鱼头', vegetable='蔬菜拼盘', soup='鸡蛋汤'):\n",
    "    \"\"\"Order meal include meat, fish, vegetable and soup\"\"\"\n",
    "    print('meat: {0}'.format(meat))\n",
    "    print('fish: {0}'.format(fish))\n",
    "    print('vegetable: {0}'.format(vegetable))\n",
    "    print('soup: {0}'.format(soup))"
   ]
  },
  {
   "cell_type": "code",
   "execution_count": 71,
   "metadata": {
    "slideshow": {
     "slide_type": "slide"
    }
   },
   "outputs": [
    {
     "name": "stdout",
     "output_type": "stream",
     "text": [
      "meat: 红烧肉\n",
      "fish: 剁椒鱼头\n",
      "vegetable: 蔬菜拼盘\n",
      "soup: 鸡蛋汤\n"
     ]
    }
   ],
   "source": [
    "order3()"
   ]
  },
  {
   "cell_type": "markdown",
   "metadata": {
    "slideshow": {
     "slide_type": "slide"
    }
   },
   "source": [
    "### 不定参数（`*args`）\n",
    "\n",
    "在有些情况，函数的位置参数不定。也就是说，事先不知道用户会传递多少个位置参数。在此场景可以使用关键字`*args`。这个有些类似C语言函数中的不定参数，例如：\n",
    "```C\n",
    "printf(string, ...)\n",
    "```"
   ]
  },
  {
   "cell_type": "code",
   "execution_count": 72,
   "metadata": {
    "slideshow": {
     "slide_type": "slide"
    }
   },
   "outputs": [],
   "source": [
    "def order4(meat, *args):\n",
    "    \"\"\"Order meal include meat, ...\"\"\"\n",
    "    print('meat: {0}'.format(meat))\n",
    "    for i, arg in enumerate(args):\n",
    "        print('menu {0}: {1}'.format(i+1, arg))"
   ]
  },
  {
   "cell_type": "code",
   "execution_count": 75,
   "metadata": {
    "slideshow": {
     "slide_type": "slide"
    }
   },
   "outputs": [
    {
     "name": "stdout",
     "output_type": "stream",
     "text": [
      "meat: 红烧肉\n",
      "meat: 红烧肉\n",
      "menu 1: 鲍鱼\n",
      "menu 2: 鱼翅\n",
      "menu 3: 鱼肚\n",
      "menu 4: 海参\n"
     ]
    }
   ],
   "source": [
    "meat= '红烧肉'\n",
    "order4(meat)\n",
    "\n",
    "order4(meat, '鲍鱼', '鱼翅', '鱼肚', '海参')"
   ]
  },
  {
   "cell_type": "markdown",
   "metadata": {
    "slideshow": {
     "slide_type": "slide"
    }
   },
   "source": [
    "### 不定关键字参数（`**kwargs`）\n",
    "\n",
    "`**kwargs`将不定长度的键值对，作为参数传递给一个函数。"
   ]
  },
  {
   "cell_type": "code",
   "execution_count": 78,
   "metadata": {
    "slideshow": {
     "slide_type": "-"
    }
   },
   "outputs": [],
   "source": [
    "def order5(meat, **kwargs):\n",
    "    \"\"\"Order meal include meat, ...\"\"\"\n",
    "    print('meat: {0}'.format(meat))\n",
    "    for key, value in kwargs.items():\n",
    "        print('menu {0}: {1}'.format(key, value))"
   ]
  },
  {
   "cell_type": "code",
   "execution_count": 79,
   "metadata": {
    "slideshow": {
     "slide_type": "slide"
    }
   },
   "outputs": [
    {
     "name": "stdout",
     "output_type": "stream",
     "text": [
      "meat: 红烧肉\n",
      "menu seafood: 鲍鱼\n",
      "menu fish: 剁椒鱼头\n",
      "menu vegetable: 炒菠菜\n",
      "menu soup: 鸡蛋汤\n"
     ]
    }
   ],
   "source": [
    "meat= '红烧肉'\n",
    "order5(meat, seafood='鲍鱼', fish='剁椒鱼头', vegetable='炒菠菜', soup='鸡蛋汤')"
   ]
  },
  {
   "cell_type": "markdown",
   "metadata": {
    "slideshow": {
     "slide_type": "slide"
    }
   },
   "source": [
    "### 多参数混搭\n",
    "\n",
    "如果需要混合使用位置参数、关键字参数、不定位置参数、不定关键字参数，其顺序应该是：\n",
    "```\n",
    "some_func(fargs, *args, fkeyvalues, **kwargs)\n",
    "```"
   ]
  },
  {
   "cell_type": "markdown",
   "metadata": {
    "slideshow": {
     "slide_type": "slide"
    }
   },
   "source": [
    "编写如下函数，打印各参数"
   ]
  },
  {
   "cell_type": "code",
   "execution_count": 80,
   "metadata": {
    "slideshow": {
     "slide_type": "slide"
    }
   },
   "outputs": [],
   "source": [
    "def print_args(arg1, *args, keyword1=\"123\", **kwargs):\n",
    "    \"\"\"print args\"\"\"\n",
    "    print(type(arg1), arg1)\n",
    "    print(type(args), args)\n",
    "    print(type(keyword1), keyword1)\n",
    "    print(type(kwargs), kwargs)    "
   ]
  },
  {
   "cell_type": "code",
   "execution_count": 81,
   "metadata": {
    "slideshow": {
     "slide_type": "-"
    }
   },
   "outputs": [
    {
     "name": "stdout",
     "output_type": "stream",
     "text": [
      "<class 'str'> arg1\n",
      "<class 'tuple'> ('args0', 'args1')\n",
      "<class 'str'> 123\n",
      "<class 'dict'> {'kwargs0': 'kwargs0', 'kwargs1': 'kwargs1'}\n"
     ]
    }
   ],
   "source": [
    "print_args('arg1', 'args0', 'args1', kwargs0='kwargs0', kwargs1='kwargs1')"
   ]
  },
  {
   "cell_type": "markdown",
   "metadata": {
    "slideshow": {
     "slide_type": "slide"
    }
   },
   "source": [
    "从示例可知，不定参数是元组类型，不定关键字参数是字典类型"
   ]
  },
  {
   "cell_type": "markdown",
   "metadata": {
    "slideshow": {
     "slide_type": "slide"
    }
   },
   "source": [
    "最后，我们重新实现点菜函数。"
   ]
  },
  {
   "cell_type": "code",
   "execution_count": 2,
   "metadata": {
    "slideshow": {
     "slide_type": "-"
    }
   },
   "outputs": [],
   "source": [
    "def order6(meat, *args, staple_food='米饭', soup='鸡蛋汤', **kwargs):\n",
    "    \"\"\"Order meal include meat, soup and the other\"\"\"\n",
    "    print('免费菜')\n",
    "    print('\\t荤菜: {0}'.format(meat))\n",
    "    print('\\t主食: {0}'.format(staple_food))\n",
    "    print('\\t汤: {0}'.format(soup))\n",
    "    if len(args) + len(kwargs) > 0:\n",
    "        print('付费菜')\n",
    "        for i, arg in enumerate(args):\n",
    "            print('\\t荤菜{0}: {1}'.format(i+1, arg))        \n",
    "        for key, value in kwargs.items():\n",
    "            print('\\t{0}: {1}'.format(key, value))"
   ]
  },
  {
   "cell_type": "code",
   "execution_count": 3,
   "metadata": {
    "slideshow": {
     "slide_type": "slide"
    }
   },
   "outputs": [
    {
     "name": "stdout",
     "output_type": "stream",
     "text": [
      "免费菜\n",
      "\t荤菜: 红烧肉\n",
      "\t主食: 米饭\n",
      "\t汤: 鸡蛋汤\n"
     ]
    }
   ],
   "source": [
    "order6('红烧肉')"
   ]
  },
  {
   "cell_type": "code",
   "execution_count": 4,
   "metadata": {
    "slideshow": {
     "slide_type": "-"
    }
   },
   "outputs": [
    {
     "name": "stdout",
     "output_type": "stream",
     "text": [
      "免费菜\n",
      "\t荤菜: 红烧肉\n",
      "\t主食: 米饭\n",
      "\t汤: 鸡蛋汤\n",
      "付费菜\n",
      "\t荤菜1: 大虾\n",
      "\tdrink: 茅台\n"
     ]
    }
   ],
   "source": [
    "order6('红烧肉', '大虾', drink='茅台')"
   ]
  }
 ],
 "metadata": {
  "celltoolbar": "Slideshow",
  "kernelspec": {
   "display_name": "Python 3",
   "language": "python",
   "name": "python3"
  },
  "language_info": {
   "codemirror_mode": {
    "name": "ipython",
    "version": 3
   },
   "file_extension": ".py",
   "mimetype": "text/x-python",
   "name": "python",
   "nbconvert_exporter": "python",
   "pygments_lexer": "ipython3",
   "version": "3.6.4"
  },
  "toc": {
   "base_numbering": 1,
   "nav_menu": {},
   "number_sections": true,
   "sideBar": true,
   "skip_h1_title": false,
   "title_cell": "Table of Contents",
   "title_sidebar": "Contents",
   "toc_cell": false,
   "toc_position": {
    "height": "calc(100% - 180px)",
    "left": "10px",
    "top": "150px",
    "width": "239px"
   },
   "toc_section_display": true,
   "toc_window_display": false
  }
 },
 "nbformat": 4,
 "nbformat_minor": 1
}
