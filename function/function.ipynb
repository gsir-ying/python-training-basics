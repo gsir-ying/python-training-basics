{
 "cells": [
  {
   "cell_type": "markdown",
   "metadata": {
    "slideshow": {
     "slide_type": "slide"
    }
   },
   "source": [
    "# 函数基础（function）\n",
    "\n",
    "![函数](assets/Function_machine2.png)"
   ]
  },
  {
   "cell_type": "markdown",
   "metadata": {
    "slideshow": {
     "slide_type": "slide"
    }
   },
   "source": [
    "## 定义函数"
   ]
  },
  {
   "cell_type": "markdown",
   "metadata": {
    "slideshow": {
     "slide_type": "-"
    }
   },
   "source": [
    "### 语法\n",
    "\n",
    "定义函数的语法为：\n",
    "```\n",
    "def function_name(arguments):\n",
    "    statement(s)\n",
    "```                  "
   ]
  },
  {
   "cell_type": "markdown",
   "metadata": {
    "slideshow": {
     "slide_type": "slide"
    }
   },
   "source": [
    "语法要素主要有：\n",
    "- 关键词`def`\n",
    "- 函数名与参数\n",
    "- 冒号`:`与缩进\n",
    "- 函数体语句"
   ]
  },
  {
   "cell_type": "markdown",
   "metadata": {
    "slideshow": {
     "slide_type": "slide"
    }
   },
   "source": [
    "容易忘的语法错误：\n",
    "- 忘记冒号\n",
    "- 缩进不一致"
   ]
  },
  {
   "cell_type": "markdown",
   "metadata": {
    "slideshow": {
     "slide_type": "slide"
    }
   },
   "source": [
    "需要注意的是，当定义一个函数时，缩进的语句块并没有执行。也就是说只要函数体语句没有语法错误，Python解释器并不会抛出任何异常。"
   ]
  },
  {
   "cell_type": "code",
   "execution_count": 22,
   "metadata": {
    "slideshow": {
     "slide_type": "-"
    }
   },
   "outputs": [],
   "source": [
    "def funcname():\n",
    "    x = 1 / 0      # ZeroDivisionError\n",
    "    unknown_var    # NameError"
   ]
  },
  {
   "cell_type": "markdown",
   "metadata": {
    "slideshow": {
     "slide_type": "slide"
    }
   },
   "source": [
    "不过，当开始调用函数时，就会开始执行代码块，就会引发错误。"
   ]
  },
  {
   "cell_type": "code",
   "execution_count": 23,
   "metadata": {
    "slideshow": {
     "slide_type": "-"
    }
   },
   "outputs": [
    {
     "ename": "ZeroDivisionError",
     "evalue": "division by zero",
     "output_type": "error",
     "traceback": [
      "\u001b[0;31m---------------------------------------------------------------------------\u001b[0m",
      "\u001b[0;31mZeroDivisionError\u001b[0m                         Traceback (most recent call last)",
      "\u001b[0;32m<ipython-input-23-06a1a7e0170e>\u001b[0m in \u001b[0;36m<module>\u001b[0;34m()\u001b[0m\n\u001b[0;32m----> 1\u001b[0;31m \u001b[0mfuncname\u001b[0m\u001b[0;34m(\u001b[0m\u001b[0;34m)\u001b[0m\u001b[0;34m\u001b[0m\u001b[0m\n\u001b[0m",
      "\u001b[0;32m<ipython-input-22-cb9b4f4fa642>\u001b[0m in \u001b[0;36mfuncname\u001b[0;34m()\u001b[0m\n\u001b[1;32m      1\u001b[0m \u001b[0;32mdef\u001b[0m \u001b[0mfuncname\u001b[0m\u001b[0;34m(\u001b[0m\u001b[0;34m)\u001b[0m\u001b[0;34m:\u001b[0m\u001b[0;34m\u001b[0m\u001b[0m\n\u001b[0;32m----> 2\u001b[0;31m     \u001b[0mx\u001b[0m \u001b[0;34m=\u001b[0m \u001b[0;36m1\u001b[0m \u001b[0;34m/\u001b[0m \u001b[0;36m0\u001b[0m      \u001b[0;31m# ZeroDivisionError\u001b[0m\u001b[0;34m\u001b[0m\u001b[0m\n\u001b[0m\u001b[1;32m      3\u001b[0m     \u001b[0munknown_var\u001b[0m    \u001b[0;31m# NameError\u001b[0m\u001b[0;34m\u001b[0m\u001b[0m\n",
      "\u001b[0;31mZeroDivisionError\u001b[0m: division by zero"
     ]
    }
   ],
   "source": [
    "funcname()"
   ]
  },
  {
   "cell_type": "markdown",
   "metadata": {
    "slideshow": {
     "slide_type": "slide"
    }
   },
   "source": [
    "函数必须先定义，然后才能调用。与定义变量一样，如果调用未定义函数，会引发`NameError`异常。"
   ]
  },
  {
   "cell_type": "code",
   "execution_count": 24,
   "metadata": {
    "slideshow": {
     "slide_type": "-"
    }
   },
   "outputs": [
    {
     "ename": "NameError",
     "evalue": "name 'unknown_function' is not defined",
     "output_type": "error",
     "traceback": [
      "\u001b[0;31m---------------------------------------------------------------------------\u001b[0m",
      "\u001b[0;31mNameError\u001b[0m                                 Traceback (most recent call last)",
      "\u001b[0;32m<ipython-input-24-469d137a7dd2>\u001b[0m in \u001b[0;36m<module>\u001b[0;34m()\u001b[0m\n\u001b[0;32m----> 1\u001b[0;31m \u001b[0munknown_function\u001b[0m\u001b[0;34m(\u001b[0m\u001b[0;34m)\u001b[0m\u001b[0;34m\u001b[0m\u001b[0m\n\u001b[0m",
      "\u001b[0;31mNameError\u001b[0m: name 'unknown_function' is not defined"
     ]
    }
   ],
   "source": [
    "unknown_function()"
   ]
  },
  {
   "cell_type": "markdown",
   "metadata": {
    "slideshow": {
     "slide_type": "slide"
    }
   },
   "source": [
    "### 爱如潮水\n",
    "\n",
    "> 台湾蔡省长:“用爱发电”\n",
    "\n",
    "> 老王：“用爱编程”\n",
    "\n",
    "\n",
    "尽管程序员整日面对着电脑，不善言辞，但同样也是爱如潮水且炽热。那么程序员的爱会如何编程呢？"
   ]
  },
  {
   "cell_type": "code",
   "execution_count": 25,
   "metadata": {
    "slideshow": {
     "slide_type": "slide"
    }
   },
   "outputs": [],
   "source": [
    "# 我爱你十国语言版\n",
    "def loveyou():\n",
    "    print('我爱你')    \n",
    "    print('I Love You')\n",
    "    print('私は爱する')             # 日本：\n",
    "    print('나는 너를 사랑한다')     # 韩国\n",
    "    print('Я люблю вас')   # 俄罗斯\n",
    "    print(\"Je t'aime\")              # 法国\n",
    "    print('Ich liebe dich')         # 德国\n",
    "    print('∑ας αγαπώ')       # 希腊\n",
    "    print('Te amo')                 # 西班牙\n",
    "    print('Ik houd van u')          # 荷兰"
   ]
  },
  {
   "cell_type": "code",
   "execution_count": 26,
   "metadata": {
    "slideshow": {
     "slide_type": "slide"
    }
   },
   "outputs": [
    {
     "name": "stdout",
     "output_type": "stream",
     "text": [
      "我爱你\n",
      "I Love You\n",
      "私は爱する\n",
      "나는 너를 사랑한다\n",
      "Я люблю вас\n",
      "Je t'aime\n",
      "Ich liebe dich\n",
      "∑ας αγαπώ\n",
      "Te amo\n",
      "Ik houd van u\n"
     ]
    }
   ],
   "source": [
    "# 用不同语言爱着你\n",
    "loveyou()"
   ]
  },
  {
   "cell_type": "code",
   "execution_count": 29,
   "metadata": {
    "slideshow": {
     "slide_type": "slide"
    }
   },
   "outputs": [
    {
     "name": "stdout",
     "output_type": "stream",
     "text": [
      "我爱你\n",
      "I Love You\n",
      "私は爱する\n",
      "나는 너를 사랑한다\n",
      "Я люблю вас\n",
      "Je t'aime\n",
      "Ich liebe dich\n",
      "∑ας αγαπώ\n",
      "Te amo\n",
      "Ik houd van u\n",
      "我爱你\n",
      "I Love You\n",
      "私は爱する\n",
      "나는 너를 사랑한다\n",
      "Я люблю вас\n",
      "Je t'aime\n",
      "Ich liebe dich\n",
      "∑ας αγαπώ\n",
      "Te amo\n",
      "Ik houd van u\n",
      "我爱你\n",
      "I Love You\n",
      "私は爱する\n",
      "나는 너를 사랑한다\n",
      "Я люблю вас\n",
      "Je t'aime\n",
      "Ich liebe dich\n",
      "∑ας αγαπώ\n",
      "Te amo\n",
      "Ik houd van u\n"
     ]
    }
   ],
   "source": [
    "# 如果加上一个期限，我希望是一万年。\n",
    "for _ in range(3):\n",
    "    loveyou()"
   ]
  },
  {
   "cell_type": "markdown",
   "metadata": {
    "slideshow": {
     "slide_type": "slide"
    }
   },
   "source": [
    "### 自省\n",
    "\n",
    "> 吾每遇对象必自省，用变量而知其类乎？用其值而知属性乎？用其法而知方法乎？"
   ]
  },
  {
   "cell_type": "markdown",
   "metadata": {
    "slideshow": {
     "slide_type": "slide"
    }
   },
   "source": [
    "使用内置函数`type()`查看对象的类型"
   ]
  },
  {
   "cell_type": "code",
   "execution_count": 31,
   "metadata": {
    "slideshow": {
     "slide_type": "-"
    }
   },
   "outputs": [
    {
     "name": "stdout",
     "output_type": "stream",
     "text": [
      "<class 'function'>\n"
     ]
    }
   ],
   "source": [
    "print(type(loveyou))"
   ]
  },
  {
   "cell_type": "markdown",
   "metadata": {
    "slideshow": {
     "slide_type": "slide"
    }
   },
   "source": [
    "使用内置函数`id()`查看对象内存地址"
   ]
  },
  {
   "cell_type": "code",
   "execution_count": 32,
   "metadata": {
    "slideshow": {
     "slide_type": "-"
    }
   },
   "outputs": [
    {
     "data": {
      "text/plain": [
       "139713977464352"
      ]
     },
     "execution_count": 32,
     "metadata": {},
     "output_type": "execute_result"
    }
   ],
   "source": [
    "id(loveyou)"
   ]
  },
  {
   "cell_type": "markdown",
   "metadata": {
    "slideshow": {
     "slide_type": "slide"
    }
   },
   "source": [
    "使用内置函数`callable()`检查对象是否可以调用"
   ]
  },
  {
   "cell_type": "code",
   "execution_count": 33,
   "metadata": {
    "slideshow": {
     "slide_type": "-"
    }
   },
   "outputs": [
    {
     "data": {
      "text/plain": [
       "True"
      ]
     },
     "execution_count": 33,
     "metadata": {},
     "output_type": "execute_result"
    }
   ],
   "source": [
    "callable(loveyou)"
   ]
  },
  {
   "cell_type": "markdown",
   "metadata": {
    "slideshow": {
     "slide_type": "slide"
    }
   },
   "source": [
    "使用内置函数`help()`"
   ]
  },
  {
   "cell_type": "code",
   "execution_count": 34,
   "metadata": {
    "slideshow": {
     "slide_type": "-"
    }
   },
   "outputs": [
    {
     "name": "stdout",
     "output_type": "stream",
     "text": [
      "Help on function loveyou in module __main__:\n",
      "\n",
      "loveyou()\n",
      "    # 我爱你十国语言版\n",
      "\n"
     ]
    }
   ],
   "source": [
    "help(loveyou)"
   ]
  },
  {
   "cell_type": "markdown",
   "metadata": {
    "slideshow": {
     "slide_type": "slide"
    }
   },
   "source": [
    "使用自省功能?或??"
   ]
  },
  {
   "cell_type": "code",
   "execution_count": 35,
   "metadata": {
    "slideshow": {
     "slide_type": "-"
    }
   },
   "outputs": [],
   "source": [
    "loveyou?"
   ]
  },
  {
   "cell_type": "code",
   "execution_count": 36,
   "metadata": {
    "slideshow": {
     "slide_type": "slide"
    }
   },
   "outputs": [],
   "source": [
    "loveyou??"
   ]
  },
  {
   "cell_type": "markdown",
   "metadata": {
    "slideshow": {
     "slide_type": "slide"
    }
   },
   "source": [
    "使用`dir()`函数列出对象的属性和方法"
   ]
  },
  {
   "cell_type": "code",
   "execution_count": 37,
   "metadata": {
    "slideshow": {
     "slide_type": "-"
    }
   },
   "outputs": [
    {
     "data": {
      "text/plain": [
       "['__annotations__',\n",
       " '__call__',\n",
       " '__class__',\n",
       " '__closure__',\n",
       " '__code__',\n",
       " '__defaults__',\n",
       " '__delattr__',\n",
       " '__dict__',\n",
       " '__dir__',\n",
       " '__doc__',\n",
       " '__eq__',\n",
       " '__format__',\n",
       " '__ge__',\n",
       " '__get__',\n",
       " '__getattribute__',\n",
       " '__globals__',\n",
       " '__gt__',\n",
       " '__hash__',\n",
       " '__init__',\n",
       " '__init_subclass__',\n",
       " '__kwdefaults__',\n",
       " '__le__',\n",
       " '__lt__',\n",
       " '__module__',\n",
       " '__name__',\n",
       " '__ne__',\n",
       " '__new__',\n",
       " '__qualname__',\n",
       " '__reduce__',\n",
       " '__reduce_ex__',\n",
       " '__repr__',\n",
       " '__setattr__',\n",
       " '__sizeof__',\n",
       " '__str__',\n",
       " '__subclasshook__']"
      ]
     },
     "execution_count": 37,
     "metadata": {},
     "output_type": "execute_result"
    }
   ],
   "source": [
    "dir(loveyou)"
   ]
  },
  {
   "cell_type": "markdown",
   "metadata": {
    "slideshow": {
     "slide_type": "slide"
    }
   },
   "source": [
    "可以查看一下`loveyou`对象的一些属性"
   ]
  },
  {
   "cell_type": "code",
   "execution_count": 38,
   "metadata": {
    "slideshow": {
     "slide_type": "-"
    }
   },
   "outputs": [
    {
     "name": "stdout",
     "output_type": "stream",
     "text": [
      "loveyou\n",
      "None\n",
      "<code object loveyou at 0x7f11b1ff8030, file \"<ipython-input-25-5e5f128488c8>\", line 2>\n",
      "<function loveyou at 0x7f11b1ff3620>\n",
      "<function loveyou at 0x7f11b1ff3620>\n"
     ]
    }
   ],
   "source": [
    "print(loveyou.__name__)\n",
    "print(loveyou.__doc__)\n",
    "print(loveyou.__code__)\n",
    "print(str(loveyou))\n",
    "print(repr(loveyou))"
   ]
  },
  {
   "cell_type": "markdown",
   "metadata": {
    "slideshow": {
     "slide_type": "slide"
    }
   },
   "source": [
    "使用魔术命令`%timeit`了解运行状况"
   ]
  },
  {
   "cell_type": "code",
   "execution_count": null,
   "metadata": {
    "slideshow": {
     "slide_type": "-"
    }
   },
   "outputs": [],
   "source": [
    "%timeit loveyou()"
   ]
  },
  {
   "cell_type": "markdown",
   "metadata": {
    "slideshow": {
     "slide_type": "slide"
    }
   },
   "source": [
    "### 文档字符串\n",
    "\n",
    "在函数体中，第一行语句可以是可选字符串文本，用来存放函数的说明文档，称为文档字符串（docstring）。"
   ]
  },
  {
   "cell_type": "code",
   "execution_count": 40,
   "metadata": {
    "slideshow": {
     "slide_type": "slide"
    }
   },
   "outputs": [],
   "source": [
    "def loveyou2():\n",
    "    \"\"\"用十国语言说我爱你\n",
    "    \n",
    "    语言包括：中国、美国、日本、韩国、俄罗斯\n",
    "              法国、德国、希腊、西班牙、荷兰\n",
    "    \"\"\"\n",
    "    print('我爱你')    \n",
    "    print('I Love You')\n",
    "    print('私は爱する')             # 日本：\n",
    "    print('나는 너를 사랑한다')     # 韩国\n",
    "    print('Я люблю вас')   # 俄罗斯\n",
    "    print(\"Je t'aime\")              # 法国\n",
    "    print('Ich liebe dich')         # 德国\n",
    "    print('∑ας αγαπώ')       # 希腊\n",
    "    print('Te amo')                 # 西班牙\n",
    "    print('Ik houd van u')          # 荷兰"
   ]
  },
  {
   "cell_type": "markdown",
   "metadata": {
    "slideshow": {
     "slide_type": "slide"
    }
   },
   "source": [
    "函数对象的属性`__doc__`存放了文档字符串的内容。"
   ]
  },
  {
   "cell_type": "code",
   "execution_count": 41,
   "metadata": {
    "slideshow": {
     "slide_type": "-"
    }
   },
   "outputs": [
    {
     "name": "stdout",
     "output_type": "stream",
     "text": [
      "用十国语言说我爱你\n",
      "    \n",
      "    语言包括：中国、美国、日本、韩国、俄罗斯\n",
      "              法国、德国、希腊、西班牙、荷兰\n",
      "    \n"
     ]
    }
   ],
   "source": [
    "print(loveyou2.__doc__)"
   ]
  },
  {
   "cell_type": "code",
   "execution_count": 42,
   "metadata": {
    "slideshow": {
     "slide_type": "slide"
    }
   },
   "outputs": [
    {
     "name": "stdout",
     "output_type": "stream",
     "text": [
      "Help on function loveyou2 in module __main__:\n",
      "\n",
      "loveyou2()\n",
      "    用十国语言说我爱你\n",
      "    \n",
      "    语言包括：中国、美国、日本、韩国、俄罗斯\n",
      "              法国、德国、希腊、西班牙、荷兰\n",
      "\n"
     ]
    }
   ],
   "source": [
    "help(loveyou2)"
   ]
  },
  {
   "cell_type": "markdown",
   "metadata": {
    "slideshow": {
     "slide_type": "slide"
    }
   },
   "source": [
    "### 参数传递\n",
    "\n",
    "在定义函数时，名字后面圆括号所包括的是函数参数，也称为形式参数。在调用函数时，会传入实际参数来代替形式参数。\n",
    "\n",
    "Python函数的参数传入总是“传值调用”，即在函数体内实际是实参的拷贝值。不过，在Python中所有变量都是对象的引用，也就是说函数体内的参数引用的对象是同一个。"
   ]
  },
  {
   "cell_type": "code",
   "execution_count": 44,
   "metadata": {
    "slideshow": {
     "slide_type": "slide"
    }
   },
   "outputs": [],
   "source": [
    "def pass_parameter(arg):\n",
    "    \"\"\"the parameter passed\"\"\"\n",
    "    print('formal parameter: ', type(arg), id(arg), arg)"
   ]
  },
  {
   "cell_type": "code",
   "execution_count": 45,
   "metadata": {
    "slideshow": {
     "slide_type": "-"
    }
   },
   "outputs": [
    {
     "name": "stdout",
     "output_type": "stream",
     "text": [
      "real parameter:  <class 'str'> 139714212690472 老王\n",
      "formal parameter:  <class 'str'> 139714212690472 老王\n",
      "after function call:  <class 'str'> 139714212690472 老王\n"
     ]
    }
   ],
   "source": [
    "var = '老王'\n",
    "print('real parameter: ', type(var), id(var), var)\n",
    "pass_parameter(var)\n",
    "print('after function call: ', type(var), id(var), var)"
   ]
  },
  {
   "cell_type": "markdown",
   "metadata": {
    "slideshow": {
     "slide_type": "slide"
    }
   },
   "source": [
    "> 每个对象都有三个特性：类型、身份标识、值。\n",
    "\n",
    "根据其值是否可改变，对象分为：不可变对象（immutable）与可变对象（mutable）。\n",
    "\n",
    "在函数体内可能会对传入的对象进行处理操作，对不可变对象或可变对象引起的结果会有所不同。"
   ]
  },
  {
   "cell_type": "markdown",
   "metadata": {
    "slideshow": {
     "slide_type": "slide"
    }
   },
   "source": [
    "对于不可变对象，当发生更改操作时，引用对象发生了变化，并不影响实参。"
   ]
  },
  {
   "cell_type": "code",
   "execution_count": 46,
   "metadata": {
    "slideshow": {
     "slide_type": "-"
    }
   },
   "outputs": [],
   "source": [
    "def change_parameter(obj):\n",
    "    \"\"\"change the immutable object passed\"\"\"\n",
    "    print('formal Parameter: ', type(obj), id(obj), obj)\n",
    "    obj = '老李'\n",
    "    print('formal Parameter: ', type(obj), id(obj), obj)    "
   ]
  },
  {
   "cell_type": "code",
   "execution_count": 47,
   "metadata": {
    "slideshow": {
     "slide_type": "slide"
    }
   },
   "outputs": [
    {
     "name": "stdout",
     "output_type": "stream",
     "text": [
      "real parameter:  <class 'str'> 139713977062656 老王\n",
      "formal Parameter:  <class 'str'> 139713977062656 老王\n",
      "formal Parameter:  <class 'str'> 139713977064152 老李\n",
      "after function call:  <class 'str'> 139713977062656 老王\n"
     ]
    }
   ],
   "source": [
    "var = '老王'\n",
    "print('real parameter: ', type(var), id(var), var)\n",
    "change_parameter(var)\n",
    "print('after function call: ', type(var), id(var), var)"
   ]
  },
  {
   "cell_type": "markdown",
   "metadata": {
    "slideshow": {
     "slide_type": "slide"
    }
   },
   "source": [
    "对于可变对象，如果在函数体内更改了可变对象的值，那么实参的值也就发生了变化。"
   ]
  },
  {
   "cell_type": "code",
   "execution_count": 49,
   "metadata": {
    "slideshow": {
     "slide_type": "-"
    }
   },
   "outputs": [],
   "source": [
    "def change_parameter2(obj):\n",
    "    \"\"\"change the mutable object passed\"\"\"\n",
    "    print('formal Parameter: ', type(obj), id(obj), obj)\n",
    "    obj.append(2)\n",
    "    print('formal Parameter: ', type(obj), id(obj), obj)    "
   ]
  },
  {
   "cell_type": "code",
   "execution_count": 50,
   "metadata": {
    "slideshow": {
     "slide_type": "slide"
    }
   },
   "outputs": [
    {
     "name": "stdout",
     "output_type": "stream",
     "text": [
      "real parameter:  <class 'list'> 139713977281416 ['老王']\n",
      "formal Parameter:  <class 'list'> 139713977281416 ['老王']\n",
      "formal Parameter:  <class 'list'> 139713977281416 ['老王', 2]\n",
      "after function call:  <class 'list'> 139713977281416 ['老王', 2]\n"
     ]
    }
   ],
   "source": [
    "var = ['老王']\n",
    "print('real parameter: ', type(var), id(var), var)\n",
    "change_parameter2(var)\n",
    "print('after function call: ', type(var), id(var), var)"
   ]
  },
  {
   "cell_type": "markdown",
   "metadata": {
    "slideshow": {
     "slide_type": "slide"
    }
   },
   "source": [
    "### `return`语句\n",
    "\n",
    "使用`return`语句退出函数，同时向调用者返回一个表达式。"
   ]
  },
  {
   "cell_type": "code",
   "execution_count": 51,
   "metadata": {
    "slideshow": {
     "slide_type": "slide"
    }
   },
   "outputs": [],
   "source": [
    "def add(value1, value2):\n",
    "    \"\"\"return a sum\"\"\"\n",
    "    return value1 + value2"
   ]
  },
  {
   "cell_type": "code",
   "execution_count": 52,
   "metadata": {
    "slideshow": {
     "slide_type": "-"
    }
   },
   "outputs": [
    {
     "name": "stdout",
     "output_type": "stream",
     "text": [
      "8 <class 'int'>\n"
     ]
    }
   ],
   "source": [
    "result = add(3, 5)\n",
    "print(result, type(result))"
   ]
  },
  {
   "cell_type": "markdown",
   "metadata": {
    "slideshow": {
     "slide_type": "slide"
    }
   },
   "source": [
    "如果`return`语句不指定参数，则返回一个空对象`None`。"
   ]
  },
  {
   "cell_type": "code",
   "execution_count": 53,
   "metadata": {
    "slideshow": {
     "slide_type": "slide"
    }
   },
   "outputs": [],
   "source": [
    "def add2(value1, value2):\n",
    "    \"\"\"return a None\"\"\"\n",
    "    result = value1 + value2\n",
    "    return "
   ]
  },
  {
   "cell_type": "code",
   "execution_count": 54,
   "metadata": {
    "slideshow": {
     "slide_type": "-"
    }
   },
   "outputs": [
    {
     "name": "stdout",
     "output_type": "stream",
     "text": [
      "None <class 'NoneType'>\n"
     ]
    }
   ],
   "source": [
    "result = add2(3, 5)\n",
    "print(result, type(result))"
   ]
  },
  {
   "cell_type": "markdown",
   "metadata": {
    "slideshow": {
     "slide_type": "slide"
    }
   },
   "source": [
    "如果在函数体最后没有`return`语句，缺省还是返回空对象`None`"
   ]
  },
  {
   "cell_type": "code",
   "execution_count": 55,
   "metadata": {
    "slideshow": {
     "slide_type": "slide"
    }
   },
   "outputs": [],
   "source": [
    "def add3(value1, value2):\n",
    "    \"\"\"no return statement\"\"\"\n",
    "    result = value1 + value2"
   ]
  },
  {
   "cell_type": "code",
   "execution_count": 56,
   "metadata": {
    "slideshow": {
     "slide_type": "-"
    }
   },
   "outputs": [
    {
     "name": "stdout",
     "output_type": "stream",
     "text": [
      "None <class 'NoneType'>\n"
     ]
    }
   ],
   "source": [
    "result = add3(3, 5)\n",
    "print(result, type(result))"
   ]
  },
  {
   "cell_type": "markdown",
   "metadata": {
    "slideshow": {
     "slide_type": "slide"
    }
   },
   "source": [
    "## 函数参数\n",
    "\n",
    "> 吃饭是为了活着，活着不是为了吃饭"
   ]
  },
  {
   "cell_type": "markdown",
   "metadata": {
    "slideshow": {
     "slide_type": "slide"
    }
   },
   "source": [
    "假如人活80岁，一生吃饭次数大约为86400次，恰好是1天的总秒数。要吃饭的就得点菜，想想一辈子要为吃饭费86400次脑子，就有些头痛。还好大家是学编程的，那我们就用点菜来讲解函数。"
   ]
  },
  {
   "cell_type": "code",
   "execution_count": 57,
   "metadata": {
    "slideshow": {
     "slide_type": "-"
    }
   },
   "outputs": [
    {
     "name": "stdout",
     "output_type": "stream",
     "text": [
      "86400\n"
     ]
    }
   ],
   "source": [
    "dayoflife = 80 * 360\n",
    "mealtimes = dayoflife * 3\n",
    "print(mealtimes)"
   ]
  },
  {
   "cell_type": "markdown",
   "metadata": {
    "slideshow": {
     "slide_type": "slide"
    }
   },
   "source": [
    "### 位置参数\n",
    "\n",
    "现在假定三菜分别是肉、鱼、蔬菜类。我们可以创建如下函数："
   ]
  },
  {
   "cell_type": "code",
   "execution_count": 58,
   "metadata": {
    "slideshow": {
     "slide_type": "slide"
    }
   },
   "outputs": [],
   "source": [
    "def order(meat, fish, vegetable, soup):\n",
    "    \"\"\"Order meal include meat, fish, vegetable and soup\"\"\"\n",
    "    print('meat: {0}'.format(meat))\n",
    "    print('fish: {0}'.format(fish))\n",
    "    print('vegetable: {0}'.format(vegetable))\n",
    "    print('soup: {0}'.format(soup))"
   ]
  },
  {
   "cell_type": "code",
   "execution_count": 59,
   "metadata": {
    "slideshow": {
     "slide_type": "slide"
    }
   },
   "outputs": [
    {
     "name": "stdout",
     "output_type": "stream",
     "text": [
      "meat: 小炒肉\n",
      "fish: 清蒸鱼\n",
      "vegetable: 蔬菜拼盘\n",
      "soup: 鸡蛋汤\n"
     ]
    }
   ],
   "source": [
    "meat, fish, vegetable, soup = '小炒肉', '清蒸鱼', '蔬菜拼盘', '鸡蛋汤'\n",
    "order(meat, fish, vegetable, soup)"
   ]
  },
  {
   "cell_type": "markdown",
   "metadata": {
    "slideshow": {
     "slide_type": "slide"
    }
   },
   "source": [
    "位置参数是必须传入的参数，在调用函数时数目和声明的要一样。否则就会引发`TypeError`错误。"
   ]
  },
  {
   "cell_type": "code",
   "execution_count": 60,
   "metadata": {
    "slideshow": {
     "slide_type": "slide"
    }
   },
   "outputs": [
    {
     "ename": "TypeError",
     "evalue": "order() missing 1 required positional argument: 'soup'",
     "output_type": "error",
     "traceback": [
      "\u001b[0;31m---------------------------------------------------------------------------\u001b[0m",
      "\u001b[0;31mTypeError\u001b[0m                                 Traceback (most recent call last)",
      "\u001b[0;32m<ipython-input-60-6435449b2258>\u001b[0m in \u001b[0;36m<module>\u001b[0;34m()\u001b[0m\n\u001b[0;32m----> 1\u001b[0;31m \u001b[0morder\u001b[0m\u001b[0;34m(\u001b[0m\u001b[0mmeat\u001b[0m\u001b[0;34m,\u001b[0m \u001b[0mfish\u001b[0m\u001b[0;34m,\u001b[0m \u001b[0mvegetable\u001b[0m\u001b[0;34m)\u001b[0m\u001b[0;34m\u001b[0m\u001b[0m\n\u001b[0m",
      "\u001b[0;31mTypeError\u001b[0m: order() missing 1 required positional argument: 'soup'"
     ]
    }
   ],
   "source": [
    "order(meat, fish, vegetable)"
   ]
  },
  {
   "cell_type": "code",
   "execution_count": 61,
   "metadata": {
    "slideshow": {
     "slide_type": "-"
    }
   },
   "outputs": [
    {
     "ename": "TypeError",
     "evalue": "order() takes 4 positional arguments but 5 were given",
     "output_type": "error",
     "traceback": [
      "\u001b[0;31m---------------------------------------------------------------------------\u001b[0m",
      "\u001b[0;31mTypeError\u001b[0m                                 Traceback (most recent call last)",
      "\u001b[0;32m<ipython-input-61-46c13618565c>\u001b[0m in \u001b[0;36m<module>\u001b[0;34m()\u001b[0m\n\u001b[1;32m      1\u001b[0m \u001b[0mbeverage\u001b[0m \u001b[0;34m=\u001b[0m \u001b[0;34m'beer'\u001b[0m\u001b[0;34m\u001b[0m\u001b[0m\n\u001b[0;32m----> 2\u001b[0;31m \u001b[0morder\u001b[0m\u001b[0;34m(\u001b[0m\u001b[0mmeat\u001b[0m\u001b[0;34m,\u001b[0m \u001b[0mfish\u001b[0m\u001b[0;34m,\u001b[0m \u001b[0mvegetable\u001b[0m\u001b[0;34m,\u001b[0m \u001b[0msoup\u001b[0m\u001b[0;34m,\u001b[0m \u001b[0mbeverage\u001b[0m\u001b[0;34m)\u001b[0m\u001b[0;34m\u001b[0m\u001b[0m\n\u001b[0m",
      "\u001b[0;31mTypeError\u001b[0m: order() takes 4 positional arguments but 5 were given"
     ]
    }
   ],
   "source": [
    "beverage = 'beer'\n",
    "order(meat, fish, vegetable, soup, beverage)"
   ]
  },
  {
   "cell_type": "markdown",
   "metadata": {
    "slideshow": {
     "slide_type": "slide"
    }
   },
   "source": [
    "位置参数还有一个弊端就是，必须清楚每个参数的含义。在调用函数时，位置次序必须一致，否则就会表错情会错意，得到完全不同的结果。这也是位置参数名字的由来。"
   ]
  },
  {
   "cell_type": "code",
   "execution_count": 62,
   "metadata": {
    "slideshow": {
     "slide_type": "-"
    }
   },
   "outputs": [
    {
     "name": "stdout",
     "output_type": "stream",
     "text": [
      "meat: 清蒸鱼\n",
      "fish: 小炒肉\n",
      "vegetable: 鸡蛋汤\n",
      "soup: 蔬菜拼盘\n"
     ]
    }
   ],
   "source": [
    "order(fish, meat, soup, vegetable)"
   ]
  },
  {
   "cell_type": "markdown",
   "metadata": {
    "collapsed": true,
    "slideshow": {
     "slide_type": "slide"
    }
   },
   "source": [
    "### 关键字参数\n",
    "\n",
    "为了避免位置参数的弊端，Python函数可以通过关键字参数(`keyword=value`)的形式来调用。每个关键字参数会有一个缺省值。这非常有用。例如，在大多情况下，我们都会点蔬菜拼盘和鸡蛋汤，如果每次调用函数都得输入该值，实在是有些麻烦。那么通过关键字参数可以轻松实现。"
   ]
  },
  {
   "cell_type": "code",
   "execution_count": 63,
   "metadata": {
    "slideshow": {
     "slide_type": "-"
    }
   },
   "outputs": [],
   "source": [
    "def order2(meat, fish, vegetable='蔬菜拼盘', soup='鸡蛋汤'):\n",
    "    \"\"\"Order meal include meat, fish, vegetable and soup\"\"\"\n",
    "    print('meat: {0}'.format(meat))\n",
    "    print('fish: {0}'.format(fish))\n",
    "    print('vegetable: {0}'.format(vegetable))\n",
    "    print('soup: {0}'.format(soup))"
   ]
  },
  {
   "cell_type": "markdown",
   "metadata": {
    "slideshow": {
     "slide_type": "slide"
    }
   },
   "source": [
    "关键字参数必须放在位置参数后面，否则就会引发语法错误"
   ]
  },
  {
   "cell_type": "code",
   "execution_count": 64,
   "metadata": {
    "slideshow": {
     "slide_type": "-"
    }
   },
   "outputs": [
    {
     "ename": "SyntaxError",
     "evalue": "non-default argument follows default argument (<ipython-input-64-9e6287152fc0>, line 1)",
     "output_type": "error",
     "traceback": [
      "\u001b[0;36m  File \u001b[0;32m\"<ipython-input-64-9e6287152fc0>\"\u001b[0;36m, line \u001b[0;32m1\u001b[0m\n\u001b[0;31m    def wrongorder2(meat, vegetable='蔬菜拼盘', fish, soup='鸡蛋汤'):\u001b[0m\n\u001b[0m                   ^\u001b[0m\n\u001b[0;31mSyntaxError\u001b[0m\u001b[0;31m:\u001b[0m non-default argument follows default argument\n"
     ]
    }
   ],
   "source": [
    "def wrongorder2(meat, vegetable='蔬菜拼盘', fish, soup='鸡蛋汤'):\n",
    "    \"\"\"Order meal include meat, fish, vegetable and soup\"\"\"\n",
    "    print('meat: {0}'.format(meat))\n",
    "    print('fish: {0}'.format(fish))\n",
    "    print('vegetable: {0}'.format(vegetable))\n",
    "    print('soup: {0}'.format(soup))"
   ]
  },
  {
   "cell_type": "markdown",
   "metadata": {
    "slideshow": {
     "slide_type": "slide"
    }
   },
   "source": [
    "函数定义完后，可以通过多种方法调用"
   ]
  },
  {
   "cell_type": "markdown",
   "metadata": {
    "slideshow": {
     "slide_type": "slide"
    }
   },
   "source": [
    "只给出位置参数"
   ]
  },
  {
   "cell_type": "code",
   "execution_count": 65,
   "metadata": {
    "slideshow": {
     "slide_type": "-"
    }
   },
   "outputs": [
    {
     "name": "stdout",
     "output_type": "stream",
     "text": [
      "meat: 鱼香肉丝\n",
      "fish: 剁椒鱼头\n",
      "vegetable: 蔬菜拼盘\n",
      "soup: 鸡蛋汤\n"
     ]
    }
   ],
   "source": [
    "meat, fish = '鱼香肉丝', '剁椒鱼头'\n",
    "order2(meat, fish)"
   ]
  },
  {
   "cell_type": "markdown",
   "metadata": {
    "slideshow": {
     "slide_type": "slide"
    }
   },
   "source": [
    "给出一些可选参数"
   ]
  },
  {
   "cell_type": "code",
   "execution_count": 66,
   "metadata": {
    "slideshow": {
     "slide_type": "-"
    }
   },
   "outputs": [
    {
     "name": "stdout",
     "output_type": "stream",
     "text": [
      "meat: 红烧肉\n",
      "fish: 鱼头汤\n",
      "vegetable: 炒菠菜\n",
      "soup: 鸡蛋汤\n"
     ]
    }
   ],
   "source": [
    "meat, fish, vegetable = '红烧肉', '鱼头汤', '炒菠菜'\n",
    "order2(meat, fish, vegetable)"
   ]
  },
  {
   "cell_type": "markdown",
   "metadata": {
    "slideshow": {
     "slide_type": "slide"
    }
   },
   "source": [
    "给出全部参数"
   ]
  },
  {
   "cell_type": "code",
   "execution_count": 67,
   "metadata": {
    "scrolled": true,
    "slideshow": {
     "slide_type": "-"
    }
   },
   "outputs": [
    {
     "name": "stdout",
     "output_type": "stream",
     "text": [
      "meat: 红烧肉\n",
      "fish: 鱼头汤\n",
      "vegetable: 炒生菜\n",
      "soup: 鸡蛋汤\n"
     ]
    }
   ],
   "source": [
    "meat, fish, vegetable, soup = '红烧肉', '鱼头汤', '炒生菜', '酒酿圆子'\n",
    "order2(meat, fish, vegetable)"
   ]
  },
  {
   "cell_type": "markdown",
   "metadata": {
    "slideshow": {
     "slide_type": "slide"
    }
   },
   "source": [
    "从示例可知，传递位置参数时数目和次序需要保持一致；关键字参数是可选的，不一定需要输入，但位置参数方法来传递关键字参数，次序仍然要保持一致。\n",
    "\n",
    "不过在函数调用时，要传递关键字参数，通常使用`keyword=value`的方式来传递，如此则顺序并不重要。"
   ]
  },
  {
   "cell_type": "code",
   "execution_count": 68,
   "metadata": {
    "slideshow": {
     "slide_type": "-"
    }
   },
   "outputs": [
    {
     "name": "stdout",
     "output_type": "stream",
     "text": [
      "meat: 红烧肉\n",
      "fish: 鱼头汤\n",
      "vegetable: 炒生菜\n",
      "soup: 酒酿圆子\n"
     ]
    }
   ],
   "source": [
    "meat, fish, vegetable, soup = '红烧肉', '鱼头汤', '炒生菜', '酒酿圆子'\n",
    "order2(meat, fish, soup=soup, vegetable=vegetable)"
   ]
  },
  {
   "cell_type": "markdown",
   "metadata": {
    "slideshow": {
     "slide_type": "slide"
    }
   },
   "source": [
    "注意，关键字参数也不能重复输入，否则会语法错误。"
   ]
  },
  {
   "cell_type": "code",
   "execution_count": 69,
   "metadata": {
    "slideshow": {
     "slide_type": "-"
    }
   },
   "outputs": [
    {
     "ename": "SyntaxError",
     "evalue": "keyword argument repeated (<ipython-input-69-8bc5e050bc01>, line 3)",
     "output_type": "error",
     "traceback": [
      "\u001b[0;36m  File \u001b[0;32m\"<ipython-input-69-8bc5e050bc01>\"\u001b[0;36m, line \u001b[0;32m3\u001b[0m\n\u001b[0;31m    order2(meat, fish, soup=soup, vegetable=vegetable, soup=soup2)\u001b[0m\n\u001b[0m                                                      ^\u001b[0m\n\u001b[0;31mSyntaxError\u001b[0m\u001b[0;31m:\u001b[0m keyword argument repeated\n"
     ]
    }
   ],
   "source": [
    "meat, fish, vegetable, soup = '红烧肉', '鱼头汤', '炒生菜', '酒酿圆子'\n",
    "soup2 = '罗宋汤'\n",
    "order2(meat, fish, soup=soup, vegetable=vegetable, soup=soup2)"
   ]
  },
  {
   "cell_type": "markdown",
   "metadata": {
    "slideshow": {
     "slide_type": "slide"
    }
   },
   "source": [
    "为了充分利用关键字参数的优点，点菜函数可以定义为"
   ]
  },
  {
   "cell_type": "code",
   "execution_count": 70,
   "metadata": {
    "slideshow": {
     "slide_type": "slide"
    }
   },
   "outputs": [],
   "source": [
    "def order3(meat='红烧肉', fish='剁椒鱼头', vegetable='蔬菜拼盘', soup='鸡蛋汤'):\n",
    "    \"\"\"Order meal include meat, fish, vegetable and soup\"\"\"\n",
    "    print('meat: {0}'.format(meat))\n",
    "    print('fish: {0}'.format(fish))\n",
    "    print('vegetable: {0}'.format(vegetable))\n",
    "    print('soup: {0}'.format(soup))"
   ]
  },
  {
   "cell_type": "code",
   "execution_count": 71,
   "metadata": {
    "slideshow": {
     "slide_type": "slide"
    }
   },
   "outputs": [
    {
     "name": "stdout",
     "output_type": "stream",
     "text": [
      "meat: 红烧肉\n",
      "fish: 剁椒鱼头\n",
      "vegetable: 蔬菜拼盘\n",
      "soup: 鸡蛋汤\n"
     ]
    }
   ],
   "source": [
    "order3()"
   ]
  },
  {
   "cell_type": "markdown",
   "metadata": {
    "slideshow": {
     "slide_type": "slide"
    }
   },
   "source": [
    "### 不定参数（`*args`）\n",
    "\n",
    "在有些情况，函数的位置参数不定。也就是说，事先不知道用户会传递多少个位置参数。在此场景可以使用关键字`*args`。这个有些类似C语言函数中的不定参数，例如：\n",
    "```C\n",
    "printf(string, ...)\n",
    "```"
   ]
  },
  {
   "cell_type": "markdown",
   "metadata": {
    "slideshow": {
     "slide_type": "slide"
    }
   },
   "source": [
    "仍然以点菜为例，随着经济发展，有些人想腐败一些，就把点菜函数改了。需求更改为必须有一个荤菜，其它不限，可多可少。"
   ]
  },
  {
   "cell_type": "code",
   "execution_count": 72,
   "metadata": {
    "slideshow": {
     "slide_type": "slide"
    }
   },
   "outputs": [],
   "source": [
    "def order4(meat, *args):\n",
    "    \"\"\"Order meal include meat, ...\"\"\"\n",
    "    print('meat: {0}'.format(meat))\n",
    "    for i, arg in enumerate(args):\n",
    "        print('menu {0}: {1}'.format(i+1, arg))"
   ]
  },
  {
   "cell_type": "code",
   "execution_count": 75,
   "metadata": {
    "slideshow": {
     "slide_type": "slide"
    }
   },
   "outputs": [
    {
     "name": "stdout",
     "output_type": "stream",
     "text": [
      "meat: 红烧肉\n",
      "meat: 红烧肉\n",
      "menu 1: 鲍鱼\n",
      "menu 2: 鱼翅\n",
      "menu 3: 鱼肚\n",
      "menu 4: 海参\n"
     ]
    }
   ],
   "source": [
    "meat= '红烧肉'\n",
    "order4(meat)\n",
    "\n",
    "order4(meat, '鲍鱼', '鱼翅', '鱼肚', '海参')"
   ]
  },
  {
   "cell_type": "markdown",
   "metadata": {
    "slideshow": {
     "slide_type": "-"
    }
   },
   "source": [
    "有了不定参数，想吃啥就吃啥。不过，不要公款。"
   ]
  },
  {
   "cell_type": "markdown",
   "metadata": {
    "slideshow": {
     "slide_type": "slide"
    }
   },
   "source": [
    "### 不定关键字参数（`**kwargs`）\n",
    "\n",
    "`**kwargs`将不定长度的键值对，作为参数传递给一个函数。"
   ]
  },
  {
   "cell_type": "code",
   "execution_count": 78,
   "metadata": {
    "slideshow": {
     "slide_type": "-"
    }
   },
   "outputs": [],
   "source": [
    "def order5(meat, **kwargs):\n",
    "    \"\"\"Order meal include meat, ...\"\"\"\n",
    "    print('meat: {0}'.format(meat))\n",
    "    for key, value in kwargs.items():\n",
    "        print('menu {0}: {1}'.format(key, value))"
   ]
  },
  {
   "cell_type": "code",
   "execution_count": 79,
   "metadata": {
    "slideshow": {
     "slide_type": "slide"
    }
   },
   "outputs": [
    {
     "name": "stdout",
     "output_type": "stream",
     "text": [
      "meat: 红烧肉\n",
      "menu seafood: 鲍鱼\n",
      "menu fish: 剁椒鱼头\n",
      "menu vegetable: 炒菠菜\n",
      "menu soup: 鸡蛋汤\n"
     ]
    }
   ],
   "source": [
    "meat= '红烧肉'\n",
    "order5(meat, seafood='鲍鱼', fish='剁椒鱼头', vegetable='炒菠菜', soup='鸡蛋汤')"
   ]
  },
  {
   "cell_type": "markdown",
   "metadata": {
    "slideshow": {
     "slide_type": "slide"
    }
   },
   "source": [
    "### 多参数混搭\n",
    "\n",
    "如果需要混合使用位置参数、关键字参数、不定位置参数、不定关键字参数，其顺序应该是：\n",
    "```\n",
    "some_func(fargs, *args, fkeyvalues, **kwargs)\n",
    "```"
   ]
  },
  {
   "cell_type": "markdown",
   "metadata": {
    "slideshow": {
     "slide_type": "slide"
    }
   },
   "source": [
    "编写如下函数，打印各参数"
   ]
  },
  {
   "cell_type": "code",
   "execution_count": 80,
   "metadata": {
    "slideshow": {
     "slide_type": "slide"
    }
   },
   "outputs": [],
   "source": [
    "def print_args(arg1, *args, keyword1=\"123\", **kwargs):\n",
    "    \"\"\"print args\"\"\"\n",
    "    print(type(arg1), arg1)\n",
    "    print(type(args), args)\n",
    "    print(type(keyword1), keyword1)\n",
    "    print(type(kwargs), kwargs)    "
   ]
  },
  {
   "cell_type": "code",
   "execution_count": 81,
   "metadata": {
    "slideshow": {
     "slide_type": "-"
    }
   },
   "outputs": [
    {
     "name": "stdout",
     "output_type": "stream",
     "text": [
      "<class 'str'> arg1\n",
      "<class 'tuple'> ('args0', 'args1')\n",
      "<class 'str'> 123\n",
      "<class 'dict'> {'kwargs0': 'kwargs0', 'kwargs1': 'kwargs1'}\n"
     ]
    }
   ],
   "source": [
    "print_args('arg1', 'args0', 'args1', kwargs0='kwargs0', kwargs1='kwargs1')"
   ]
  },
  {
   "cell_type": "markdown",
   "metadata": {
    "slideshow": {
     "slide_type": "slide"
    }
   },
   "source": [
    "从示例可知，不定参数是元组类型，不定关键字参数是字典类型"
   ]
  },
  {
   "cell_type": "markdown",
   "metadata": {
    "slideshow": {
     "slide_type": "slide"
    }
   },
   "source": [
    "最后，我们重新实现点菜函数。"
   ]
  },
  {
   "cell_type": "code",
   "execution_count": 2,
   "metadata": {
    "slideshow": {
     "slide_type": "-"
    }
   },
   "outputs": [],
   "source": [
    "def order6(meat, *args, staple_food='米饭', soup='鸡蛋汤', **kwargs):\n",
    "    \"\"\"Order meal include meat, soup and the other\"\"\"\n",
    "    print('免费菜')\n",
    "    print('\\t荤菜: {0}'.format(meat))\n",
    "    print('\\t主食: {0}'.format(staple_food))\n",
    "    print('\\t汤: {0}'.format(soup))\n",
    "    if len(args) + len(kwargs) > 0:\n",
    "        print('付费菜')\n",
    "        for i, arg in enumerate(args):\n",
    "            print('\\t荤菜{0}: {1}'.format(i+1, arg))        \n",
    "        for key, value in kwargs.items():\n",
    "            print('\\t{0}: {1}'.format(key, value))"
   ]
  },
  {
   "cell_type": "code",
   "execution_count": 3,
   "metadata": {
    "slideshow": {
     "slide_type": "slide"
    }
   },
   "outputs": [
    {
     "name": "stdout",
     "output_type": "stream",
     "text": [
      "免费菜\n",
      "\t荤菜: 红烧肉\n",
      "\t主食: 米饭\n",
      "\t汤: 鸡蛋汤\n"
     ]
    }
   ],
   "source": [
    "order6('红烧肉')"
   ]
  },
  {
   "cell_type": "code",
   "execution_count": 4,
   "metadata": {
    "slideshow": {
     "slide_type": "-"
    }
   },
   "outputs": [
    {
     "name": "stdout",
     "output_type": "stream",
     "text": [
      "免费菜\n",
      "\t荤菜: 红烧肉\n",
      "\t主食: 米饭\n",
      "\t汤: 鸡蛋汤\n",
      "付费菜\n",
      "\t荤菜1: 大虾\n",
      "\tdrink: 茅台\n"
     ]
    }
   ],
   "source": [
    "order6('红烧肉', '大虾', drink='茅台')"
   ]
  },
  {
   "cell_type": "markdown",
   "metadata": {
    "slideshow": {
     "slide_type": "slide"
    }
   },
   "source": [
    "介绍自省模块`inspect`中的两个函数`signature()`与'getfullargspec()'，可以得到函数对象的参数信息。"
   ]
  },
  {
   "cell_type": "code",
   "execution_count": 11,
   "metadata": {
    "slideshow": {
     "slide_type": "-"
    }
   },
   "outputs": [
    {
     "name": "stdout",
     "output_type": "stream",
     "text": [
      "FullArgSpec(args=['meat'], varargs='args', varkw='kwargs', defaults=None, kwonlyargs=['staple_food', 'soup'], kwonlydefaults={'staple_food': '米饭', 'soup': '鸡蛋汤'}, annotations={})\n",
      "(meat, *args, staple_food='米饭', soup='鸡蛋汤', **kwargs)\n"
     ]
    }
   ],
   "source": [
    "import inspect\n",
    "\n",
    "print(inspect.getfullargspec(order6))\n",
    "\n",
    "print(inspect.signature(order6))"
   ]
  },
  {
   "cell_type": "markdown",
   "metadata": {
    "slideshow": {
     "slide_type": "slide"
    }
   },
   "source": [
    "## 递归函数\n",
    "\n",
    "在定义一个函数时，常常会调用一些系统函数；函数定义后，又会在其它地方调用这个函数。而递归函数则是在函数体内再调用自身，与知名的衔尾蛇（蛇吞尾）有点相像。"
   ]
  },
  {
   "cell_type": "markdown",
   "metadata": {
    "slideshow": {
     "slide_type": "slide"
    }
   },
   "source": [
    "衔尾蛇图像最早出现于埃及，象征着永恒、轮回、无穷大、循环。\n",
    "\n",
    "![蛇吞尾](assets/Uroborus.jpg)"
   ]
  },
  {
   "cell_type": "markdown",
   "metadata": {
    "slideshow": {
     "slide_type": "slide"
    }
   },
   "source": [
    "递归（recursion）有无穷尽循环的意思。下面定义一个最简单的递归函数"
   ]
  },
  {
   "cell_type": "code",
   "execution_count": 15,
   "metadata": {
    "slideshow": {
     "slide_type": "-"
    }
   },
   "outputs": [],
   "source": [
    "def recursion():\n",
    "    print('recursion...')\n",
    "    return recursion()"
   ]
  },
  {
   "cell_type": "markdown",
   "metadata": {
    "slideshow": {
     "slide_type": "slide"
    }
   },
   "source": [
    "然后调用这个递归函数。显而易见，除了不停地打印递归信息外，并没有干什么正事。然而，最终这个程序会引起`RecursionError`异常。Python在每次调用函数时，都会分配一些内存，在太多的函数调用后发生，空间不够，引起递归异常，显示错误信息为“最大递归深度超出”。"
   ]
  },
  {
   "cell_type": "code",
   "execution_count": 49,
   "metadata": {},
   "outputs": [
    {
     "name": "stdout",
     "output_type": "stream",
     "text": [
      "recursion\n",
      "recursion\n",
      "recursion\n",
      "recursion\n",
      "recursion\n",
      "recursion\n",
      "recursion\n",
      "recursion\n",
      "recursion\n",
      "recursion\n",
      "recursion\n",
      "recursion\n",
      "recursion\n",
      "recursion\n",
      "recursion\n",
      "recursion\n",
      "recursion\n",
      "recursion\n",
      "recursion\n",
      "recursion\n",
      "recursion\n",
      "recursion\n",
      "recursion\n",
      "recursion\n",
      "recursion\n",
      "recursion\n",
      "recursion\n",
      "recursion\n",
      "recursion\n",
      "recursion\n",
      "recursion\n",
      "recursion\n",
      "recursion\n",
      "recursion\n",
      "recursion\n",
      "recursion\n",
      "recursion\n",
      "recursion\n",
      "recursion\n",
      "recursion\n",
      "recursion\n",
      "recursion\n",
      "recursion\n",
      "recursion\n",
      "recursion\n",
      "recursion\n",
      "recursion\n",
      "recursion\n",
      "recursion\n",
      "recursion\n",
      "recursion\n",
      "recursion\n",
      "recursion\n",
      "recursion\n",
      "recursion\n",
      "recursion\n",
      "recursion\n",
      "recursion\n",
      "recursion\n",
      "recursion\n",
      "recursion\n",
      "recursion\n",
      "recursion\n",
      "recursion\n",
      "recursion\n",
      "recursion\n",
      "recursion\n",
      "recursion\n",
      "recursion\n",
      "recursion\n",
      "recursion\n",
      "recursion\n",
      "recursion\n",
      "recursion\n",
      "recursion\n",
      "recursion\n",
      "recursion\n",
      "recursion\n",
      "recursion\n",
      "recursion\n",
      "recursion\n",
      "recursion\n",
      "recursion\n",
      "recursion\n",
      "recursion\n",
      "recursion\n",
      "recursion\n",
      "recursion\n",
      "recursion\n",
      "recursion\n",
      "recursion\n",
      "recursion\n",
      "recursion\n",
      "recursion\n",
      "recursion\n",
      "recursion\n",
      "recursion\n",
      "recursion\n",
      "recursion\n",
      "recursion\n",
      "recursion\n",
      "recursion\n",
      "recursion\n",
      "recursion\n",
      "recursion\n",
      "recursion\n",
      "recursion\n",
      "recursion\n",
      "recursion\n",
      "recursion\n",
      "recursion\n",
      "recursion\n",
      "recursion\n",
      "recursion\n",
      "recursion\n",
      "recursion\n",
      "recursion\n",
      "recursion\n",
      "recursion\n",
      "recursion\n",
      "recursion\n",
      "recursion\n",
      "recursion\n",
      "recursion\n",
      "recursion\n",
      "recursion\n",
      "recursion\n",
      "recursion\n",
      "recursion\n",
      "recursion\n",
      "recursion\n",
      "recursion\n",
      "recursion\n",
      "recursion\n",
      "recursion\n",
      "recursion\n",
      "recursion\n",
      "recursion\n",
      "recursion\n",
      "recursion\n",
      "recursion\n",
      "recursion\n",
      "recursion\n",
      "recursion\n",
      "recursion\n",
      "recursion\n",
      "recursion\n",
      "recursion\n",
      "recursion\n",
      "recursion\n",
      "recursion\n",
      "recursion\n",
      "recursion\n",
      "recursion\n",
      "recursion\n",
      "recursion\n",
      "recursion\n",
      "recursion\n",
      "recursion\n",
      "recursion\n",
      "recursion\n",
      "recursion\n",
      "recursion\n",
      "recursion\n",
      "recursion\n",
      "recursion\n",
      "recursion\n",
      "recursion\n",
      "recursion\n",
      "recursion\n",
      "recursion\n",
      "recursion\n",
      "recursion\n",
      "recursion\n",
      "recursion\n",
      "recursion\n",
      "recursion\n",
      "recursion\n",
      "recursion\n",
      "recursion\n",
      "recursion\n",
      "recursion\n",
      "recursion\n",
      "recursion\n",
      "recursion\n",
      "recursion\n",
      "recursion\n",
      "recursion\n",
      "recursion\n",
      "recursion\n",
      "recursion\n",
      "recursion\n",
      "recursion\n",
      "recursion\n",
      "recursion\n",
      "recursion\n",
      "recursion\n",
      "recursion\n",
      "recursion\n",
      "recursion\n",
      "recursion\n",
      "recursion\n",
      "recursion\n",
      "recursion\n",
      "recursion\n",
      "recursion\n",
      "recursion\n",
      "recursion\n",
      "recursion\n",
      "recursion\n",
      "recursion\n",
      "recursion\n",
      "recursion\n",
      "recursion\n",
      "recursion\n",
      "recursion\n",
      "recursion\n",
      "recursion\n",
      "recursion\n",
      "recursion\n",
      "recursion\n",
      "recursion\n",
      "recursion\n",
      "recursion\n",
      "recursion\n",
      "recursion\n",
      "recursion\n",
      "recursion\n",
      "recursion\n",
      "recursion\n",
      "recursion\n",
      "recursion\n",
      "recursion\n",
      "recursion\n",
      "recursion\n",
      "recursion\n",
      "recursion\n",
      "recursion\n",
      "recursion\n",
      "recursion\n",
      "recursion\n",
      "recursion\n",
      "recursion\n",
      "recursion\n",
      "recursion\n",
      "recursion\n",
      "recursion\n",
      "recursion\n",
      "recursion\n",
      "recursion\n",
      "recursion\n",
      "recursion\n",
      "recursion\n",
      "recursion\n",
      "recursion\n",
      "recursion\n",
      "recursion\n",
      "recursion\n",
      "recursion\n",
      "recursion\n",
      "recursion\n",
      "recursion\n",
      "recursion\n",
      "recursion\n",
      "recursion\n",
      "recursion\n",
      "recursion\n",
      "recursion\n",
      "recursion\n",
      "recursion\n",
      "recursion\n",
      "recursion\n",
      "recursion\n",
      "recursion\n",
      "recursion\n",
      "recursion\n",
      "recursion\n",
      "recursion\n",
      "recursion\n",
      "recursion\n",
      "recursion\n",
      "recursion\n",
      "recursion\n",
      "recursion\n",
      "recursion\n",
      "recursion\n",
      "recursion\n",
      "recursion\n",
      "recursion\n",
      "recursion\n",
      "recursion\n",
      "recursion\n",
      "recursion\n",
      "recursion\n",
      "recursion\n",
      "recursion\n",
      "recursion\n",
      "recursion\n",
      "recursion\n",
      "recursion\n",
      "recursion\n",
      "recursion\n",
      "recursion\n",
      "recursion\n",
      "recursion\n",
      "recursion\n",
      "recursion\n",
      "recursion\n",
      "recursion\n",
      "recursion\n",
      "recursion\n",
      "recursion\n",
      "recursion\n",
      "recursion\n",
      "recursion\n",
      "recursion\n",
      "recursion\n",
      "recursion\n",
      "recursion\n",
      "recursion\n",
      "recursion\n",
      "recursion\n",
      "recursion\n",
      "recursion\n",
      "recursion\n",
      "recursion\n",
      "recursion\n",
      "recursion\n",
      "recursion\n",
      "recursion\n",
      "recursion\n",
      "recursion\n",
      "recursion\n",
      "recursion\n",
      "recursion\n",
      "recursion\n",
      "recursion\n",
      "recursion\n",
      "recursion\n",
      "recursion\n",
      "recursion\n",
      "recursion\n",
      "recursion\n",
      "recursion\n",
      "recursion\n",
      "recursion\n",
      "recursion\n",
      "recursion\n",
      "recursion\n",
      "recursion\n",
      "recursion\n",
      "recursion\n",
      "recursion\n",
      "recursion\n",
      "recursion\n",
      "recursion\n",
      "recursion\n",
      "recursion\n",
      "recursion\n",
      "recursion\n",
      "recursion\n",
      "recursion\n",
      "recursion\n",
      "recursion\n",
      "recursion\n",
      "recursion\n",
      "recursion\n",
      "recursion\n",
      "recursion\n",
      "recursion\n",
      "recursion\n",
      "recursion\n",
      "recursion\n",
      "recursion\n",
      "recursion\n",
      "recursion\n",
      "recursion\n",
      "recursion\n",
      "recursion\n",
      "recursion\n",
      "recursion\n",
      "recursion\n",
      "recursion\n",
      "recursion\n",
      "recursion\n",
      "recursion\n",
      "recursion\n",
      "recursion\n",
      "recursion\n",
      "recursion\n",
      "recursion\n",
      "recursion\n",
      "recursion\n",
      "recursion\n",
      "recursion\n",
      "recursion\n",
      "recursion\n",
      "recursion\n",
      "recursion\n",
      "recursion\n",
      "recursion\n",
      "recursion\n",
      "recursion\n",
      "recursion\n",
      "recursion\n",
      "recursion\n",
      "recursion\n",
      "recursion\n",
      "recursion\n",
      "recursion\n",
      "recursion\n",
      "recursion\n",
      "recursion\n",
      "recursion\n",
      "recursion\n",
      "recursion\n",
      "recursion\n",
      "recursion\n",
      "recursion\n",
      "recursion\n",
      "recursion\n",
      "recursion\n",
      "recursion\n",
      "recursion\n",
      "recursion\n",
      "recursion\n",
      "recursion\n",
      "recursion\n",
      "recursion\n",
      "recursion\n",
      "recursion\n",
      "recursion\n",
      "recursion\n",
      "recursion\n",
      "recursion\n",
      "recursion\n",
      "recursion\n",
      "recursion\n",
      "recursion\n",
      "recursion\n",
      "recursion\n",
      "recursion\n",
      "recursion\n",
      "recursion\n",
      "recursion\n",
      "recursion\n",
      "recursion\n",
      "recursion\n",
      "recursion\n",
      "recursion\n",
      "recursion\n",
      "recursion\n",
      "recursion\n",
      "recursion\n",
      "recursion\n",
      "recursion\n",
      "recursion\n",
      "recursion\n",
      "recursion\n",
      "recursion\n",
      "recursion\n",
      "recursion\n",
      "recursion\n",
      "recursion\n",
      "recursion\n",
      "recursion\n",
      "recursion\n",
      "recursion\n",
      "recursion\n",
      "recursion\n",
      "recursion\n",
      "recursion\n",
      "recursion\n",
      "recursion\n",
      "recursion\n",
      "recursion\n",
      "recursion\n",
      "recursion\n",
      "recursion\n",
      "recursion\n",
      "recursion\n",
      "recursion\n",
      "recursion\n",
      "recursion\n",
      "recursion\n",
      "recursion\n",
      "recursion\n",
      "recursion\n",
      "recursion\n",
      "recursion\n",
      "recursion\n",
      "recursion\n",
      "recursion\n",
      "recursion\n",
      "recursion\n",
      "recursion\n",
      "recursion\n",
      "recursion\n",
      "recursion\n",
      "recursion\n",
      "recursion\n",
      "recursion\n",
      "recursion\n",
      "recursion\n",
      "recursion\n",
      "recursion\n",
      "recursion\n",
      "recursion\n",
      "recursion\n",
      "recursion\n",
      "recursion\n",
      "recursion\n",
      "recursion\n",
      "recursion\n",
      "recursion\n",
      "recursion\n",
      "recursion\n",
      "recursion\n",
      "recursion\n",
      "recursion\n",
      "recursion\n",
      "recursion\n",
      "recursion\n",
      "recursion\n",
      "recursion\n",
      "recursion\n",
      "recursion\n",
      "recursion\n",
      "recursion\n",
      "recursion\n",
      "recursion\n",
      "recursion\n",
      "recursion\n",
      "recursion\n",
      "recursion\n",
      "recursion\n",
      "recursion\n",
      "recursion\n",
      "recursion\n",
      "recursion\n",
      "recursion\n",
      "recursion\n",
      "recursion\n",
      "recursion\n",
      "recursion\n",
      "recursion\n",
      "recursion\n",
      "recursion\n",
      "recursion\n",
      "recursion\n",
      "recursion\n",
      "recursion\n",
      "recursion\n",
      "recursion\n",
      "recursion\n",
      "recursion\n",
      "recursion\n",
      "recursion\n",
      "recursion\n",
      "recursion\n",
      "recursion\n",
      "recursion\n",
      "recursion\n",
      "recursion\n",
      "recursion\n",
      "recursion\n",
      "recursion\n",
      "recursion\n",
      "recursion\n",
      "recursion\n",
      "recursion\n",
      "recursion\n",
      "recursion\n",
      "recursion\n",
      "recursion\n",
      "recursion\n",
      "recursion\n",
      "recursion\n",
      "recursion\n",
      "recursion\n",
      "recursion\n",
      "recursion\n",
      "recursion\n",
      "recursion\n",
      "recursion\n",
      "recursion\n",
      "recursion\n",
      "recursion\n",
      "recursion\n",
      "recursion\n",
      "recursion\n",
      "recursion\n",
      "recursion\n",
      "recursion\n",
      "recursion\n",
      "recursion\n",
      "recursion\n",
      "recursion\n",
      "recursion\n",
      "recursion\n",
      "recursion\n",
      "recursion\n",
      "recursion\n",
      "recursion\n",
      "recursion\n",
      "recursion\n",
      "recursion\n",
      "recursion\n",
      "recursion\n",
      "recursion\n",
      "recursion\n",
      "recursion\n",
      "recursion\n",
      "recursion\n",
      "recursion\n",
      "recursion\n",
      "recursion\n",
      "recursion\n",
      "recursion\n",
      "recursion\n",
      "recursion\n",
      "recursion\n",
      "recursion\n",
      "recursion\n",
      "recursion\n",
      "recursion\n",
      "recursion\n",
      "recursion\n",
      "recursion\n",
      "recursion\n",
      "recursion\n",
      "recursion\n",
      "recursion\n",
      "recursion\n",
      "recursion\n",
      "recursion\n",
      "recursion\n",
      "recursion\n",
      "recursion\n",
      "recursion\n",
      "recursion\n",
      "recursion\n",
      "recursion\n",
      "recursion\n",
      "recursion\n",
      "recursion\n",
      "recursion\n",
      "recursion\n",
      "recursion\n",
      "recursion\n",
      "recursion\n",
      "recursion\n",
      "recursion\n",
      "recursion\n",
      "recursion\n",
      "recursion\n",
      "recursion\n",
      "recursion\n",
      "recursion\n",
      "recursion\n",
      "recursion\n",
      "recursion\n",
      "recursion\n",
      "recursion\n",
      "recursion\n",
      "recursion\n",
      "recursion\n",
      "recursion\n",
      "recursion\n",
      "recursion\n",
      "recursion\n",
      "recursion\n",
      "recursion\n",
      "recursion\n",
      "recursion\n",
      "recursion\n",
      "recursion\n",
      "recursion\n",
      "recursion\n",
      "recursion\n",
      "recursion\n",
      "recursion\n",
      "recursion\n",
      "recursion\n",
      "recursion\n",
      "recursion\n",
      "recursion\n",
      "recursion\n",
      "recursion\n",
      "recursion\n",
      "recursion\n",
      "recursion\n",
      "recursion\n",
      "recursion\n",
      "recursion\n",
      "recursion\n",
      "recursion\n",
      "recursion\n",
      "recursion\n",
      "recursion\n",
      "recursion\n",
      "recursion\n",
      "recursion\n",
      "recursion\n",
      "recursion\n",
      "recursion\n",
      "recursion\n",
      "recursion\n",
      "recursion\n",
      "recursion\n",
      "recursion\n",
      "recursion\n",
      "recursion\n",
      "recursion\n",
      "recursion\n",
      "recursion\n",
      "recursion\n",
      "recursion\n",
      "recursion\n",
      "recursion\n",
      "recursion\n",
      "recursion\n",
      "recursion\n",
      "recursion\n",
      "recursion\n",
      "recursion\n",
      "recursion\n",
      "recursion\n",
      "recursion\n",
      "recursion\n",
      "recursion\n",
      "recursion\n",
      "recursion\n",
      "recursion\n",
      "recursion\n",
      "recursion\n",
      "recursion\n",
      "recursion\n",
      "recursion\n",
      "recursion\n",
      "recursion\n",
      "recursion\n",
      "recursion\n",
      "recursion\n",
      "recursion\n",
      "recursion\n",
      "recursion\n",
      "recursion\n",
      "recursion\n",
      "recursion\n",
      "recursion\n",
      "recursion\n",
      "recursion\n",
      "recursion\n",
      "recursion\n",
      "recursion\n",
      "recursion\n",
      "recursion\n",
      "recursion\n",
      "recursion\n",
      "recursion\n",
      "recursion\n",
      "recursion\n",
      "recursion\n",
      "recursion\n",
      "recursion\n",
      "recursion\n",
      "recursion\n",
      "recursion\n",
      "recursion\n",
      "recursion\n",
      "recursion\n",
      "recursion\n",
      "recursion\n",
      "recursion\n",
      "recursion\n",
      "recursion\n",
      "recursion\n",
      "recursion\n",
      "recursion\n",
      "recursion\n",
      "recursion\n",
      "recursion\n",
      "recursion\n",
      "recursion\n",
      "recursion\n",
      "recursion\n",
      "recursion\n",
      "recursion\n",
      "recursion\n",
      "recursion\n",
      "recursion\n",
      "recursion\n",
      "recursion\n",
      "recursion\n",
      "recursion\n",
      "recursion\n",
      "recursion\n",
      "recursion\n",
      "recursion\n",
      "recursion\n",
      "recursion\n",
      "recursion\n",
      "recursion\n",
      "recursion\n",
      "recursion\n",
      "recursion\n",
      "recursion\n",
      "recursion\n",
      "recursion\n",
      "recursion\n",
      "recursion\n",
      "recursion\n",
      "recursion\n",
      "recursion\n",
      "recursion\n",
      "recursion\n",
      "recursion\n",
      "recursion\n",
      "recursion\n",
      "recursion\n",
      "recursion\n",
      "recursion\n",
      "recursion\n",
      "recursion\n",
      "recursion\n",
      "recursion\n",
      "recursion\n",
      "recursion\n",
      "recursion\n",
      "recursion\n",
      "recursion\n",
      "recursion\n",
      "recursion\n",
      "recursion\n",
      "recursion\n",
      "recursion\n",
      "recursion\n",
      "recursion\n",
      "recursion\n",
      "recursion\n",
      "recursion\n",
      "recursion\n",
      "recursion\n",
      "recursion\n",
      "recursion\n",
      "recursion\n",
      "recursion\n",
      "recursion\n",
      "recursion\n",
      "recursion\n",
      "recursion\n",
      "recursion\n",
      "recursion\n",
      "recursion\n",
      "recursion\n",
      "recursion\n",
      "recursion\n",
      "recursion\n",
      "recursion\n",
      "recursion\n",
      "recursion\n",
      "recursion\n",
      "recursion\n",
      "recursion\n",
      "recursion\n",
      "recursion\n",
      "recursion\n",
      "recursion\n",
      "recursion\n",
      "recursion\n",
      "recursion\n",
      "recursion\n",
      "recursion\n",
      "recursion\n",
      "recursion\n",
      "recursion\n",
      "recursion\n",
      "recursion\n",
      "recursion\n",
      "recursion\n",
      "recursion\n",
      "recursion\n",
      "recursion\n",
      "recursion\n",
      "recursion\n",
      "recursion\n",
      "recursion\n",
      "recursion\n",
      "recursion\n",
      "recursion\n",
      "recursion\n",
      "recursion\n",
      "recursion\n",
      "recursion\n",
      "recursion\n",
      "recursion\n",
      "recursion\n",
      "recursion\n",
      "recursion\n",
      "recursion\n",
      "recursion\n",
      "recursion\n",
      "recursion\n",
      "recursion\n",
      "recursion\n",
      "recursion\n",
      "recursion\n",
      "recursion\n",
      "recursion\n",
      "recursion\n",
      "recursion\n",
      "recursion\n",
      "recursion\n",
      "recursion\n",
      "recursion\n",
      "recursion\n",
      "recursion\n",
      "recursion\n",
      "recursion\n",
      "recursion\n",
      "recursion\n",
      "recursion\n",
      "recursion\n",
      "recursion\n",
      "recursion\n",
      "recursion\n",
      "recursion\n",
      "recursion\n",
      "recursion\n",
      "recursion\n",
      "recursion\n",
      "recursion\n",
      "recursion\n",
      "recursion\n",
      "recursion\n",
      "recursion\n",
      "recursion\n",
      "recursion\n",
      "recursion\n",
      "recursion\n",
      "recursion\n",
      "recursion\n",
      "recursion\n",
      "recursion\n",
      "recursion\n",
      "recursion\n",
      "recursion\n",
      "recursion\n",
      "recursion\n",
      "recursion\n",
      "recursion\n",
      "recursion\n",
      "recursion\n",
      "recursion\n",
      "recursion\n",
      "recursion\n",
      "recursion\n",
      "recursion\n",
      "recursion\n",
      "recursion\n",
      "recursion\n",
      "recursion\n",
      "recursion\n",
      "recursion\n",
      "recursion\n",
      "recursion\n",
      "recursion\n",
      "recursion\n",
      "recursion\n",
      "recursion\n",
      "recursion\n",
      "recursion\n",
      "recursion\n",
      "recursion\n",
      "recursion\n",
      "recursion\n",
      "recursion\n",
      "recursion\n",
      "recursion\n",
      "recursion\n",
      "recursion\n",
      "recursion\n",
      "recursion\n",
      "recursion\n",
      "recursion\n",
      "recursion\n",
      "recursion\n",
      "recursion\n",
      "recursion\n",
      "recursion\n",
      "recursion\n",
      "recursion\n",
      "recursion\n",
      "recursion\n",
      "recursion\n",
      "recursion\n",
      "recursion\n",
      "recursion\n",
      "recursion\n",
      "recursion\n",
      "recursion\n",
      "recursion\n",
      "recursion\n",
      "recursion\n",
      "recursion\n",
      "recursion\n",
      "recursion\n",
      "recursion\n",
      "recursion\n",
      "recursion\n",
      "recursion\n",
      "recursion\n",
      "recursion\n",
      "recursion\n",
      "recursion\n",
      "recursion\n",
      "recursion\n",
      "recursion\n",
      "recursion\n",
      "recursion\n",
      "recursion\n",
      "recursion\n",
      "recursion\n",
      "recursion\n",
      "recursion\n",
      "recursion\n",
      "recursion\n",
      "recursion\n",
      "recursion\n",
      "recursion\n",
      "recursion\n",
      "recursion\n",
      "recursion\n",
      "recursion\n",
      "recursion\n",
      "recursion\n",
      "recursion\n",
      "recursion\n",
      "recursion\n",
      "recursion\n",
      "recursion\n",
      "recursion\n",
      "recursion\n",
      "recursion\n",
      "recursion\n",
      "recursion\n",
      "recursion\n",
      "recursion\n",
      "recursion\n",
      "recursion\n",
      "recursion\n",
      "recursion\n",
      "recursion\n",
      "recursion\n",
      "recursion\n",
      "recursion\n",
      "recursion\n",
      "recursion\n",
      "recursion\n",
      "recursion\n",
      "recursion\n",
      "recursion\n",
      "recursion\n",
      "recursion\n",
      "recursion\n",
      "recursion\n",
      "recursion\n",
      "recursion\n",
      "recursion\n",
      "recursion\n",
      "recursion\n",
      "recursion\n",
      "recursion\n",
      "recursion\n",
      "recursion\n",
      "recursion\n",
      "recursion\n",
      "recursion\n",
      "recursion\n",
      "recursion\n",
      "recursion\n",
      "recursion\n",
      "recursion\n",
      "recursion\n",
      "recursion\n",
      "recursion\n",
      "recursion\n",
      "recursion\n",
      "recursion\n",
      "recursion\n",
      "recursion\n",
      "recursion\n",
      "recursion\n",
      "recursion\n",
      "recursion\n",
      "recursion\n",
      "recursion\n",
      "recursion\n",
      "recursion\n",
      "recursion\n",
      "recursion\n",
      "recursion\n",
      "recursion\n",
      "recursion\n",
      "recursion\n",
      "recursion\n",
      "recursion\n",
      "recursion\n",
      "recursion\n",
      "recursion\n",
      "recursion\n",
      "recursion\n",
      "recursion\n",
      "recursion\n",
      "recursion\n",
      "recursion\n",
      "recursion\n",
      "recursion\n",
      "recursion\n",
      "recursion\n",
      "recursion\n",
      "recursion\n",
      "recursion\n",
      "recursion\n",
      "recursion\n",
      "recursion\n",
      "recursion\n",
      "recursion\n",
      "recursion\n",
      "recursion\n",
      "recursion\n",
      "recursion\n",
      "recursion\n",
      "recursion\n",
      "recursion\n",
      "recursion\n",
      "recursion\n",
      "recursion\n",
      "recursion\n",
      "recursion\n",
      "recursion\n",
      "recursion\n",
      "recursion\n",
      "recursion\n",
      "recursion\n",
      "recursion\n",
      "recursion\n",
      "recursion\n",
      "recursion\n",
      "recursion\n",
      "recursion\n",
      "recursion\n",
      "recursion\n",
      "recursion\n",
      "recursion\n",
      "recursion\n",
      "recursion\n",
      "recursion\n",
      "recursion\n",
      "recursion\n",
      "recursion\n",
      "recursion\n",
      "recursion\n",
      "recursion\n",
      "recursion\n",
      "recursion\n",
      "recursion\n",
      "recursion\n",
      "recursion\n",
      "recursion\n",
      "recursion\n",
      "recursion\n",
      "recursion\n",
      "recursion\n",
      "recursion\n",
      "recursion\n",
      "recursion\n",
      "recursion\n",
      "recursion\n",
      "recursion\n",
      "recursion\n",
      "recursion\n",
      "recursion\n",
      "recursion\n",
      "recursion\n",
      "recursion\n",
      "recursion\n",
      "recursion\n",
      "recursion\n",
      "recursion\n",
      "recursion\n",
      "recursion\n",
      "recursion\n",
      "recursion\n",
      "recursion\n",
      "recursion\n",
      "recursion\n",
      "recursion\n",
      "recursion\n",
      "recursion\n",
      "recursion\n",
      "recursion\n",
      "recursion\n",
      "recursion\n",
      "recursion\n",
      "recursion\n",
      "recursion\n",
      "recursion\n",
      "recursion\n",
      "recursion\n",
      "recursion\n",
      "recursion\n",
      "recursion\n",
      "recursion\n",
      "recursion\n",
      "recursion\n",
      "recursion\n",
      "recursion\n",
      "recursion\n",
      "recursion\n",
      "recursion\n",
      "recursion\n",
      "recursion\n",
      "recursion\n",
      "recursion\n",
      "recursion\n",
      "recursion\n",
      "recursion\n",
      "recursion\n",
      "recursion\n",
      "recursion\n",
      "recursion\n",
      "recursion\n",
      "recursion\n",
      "recursion\n",
      "recursion\n",
      "recursion\n",
      "recursion\n",
      "recursion\n",
      "recursion\n",
      "recursion\n",
      "recursion\n",
      "recursion\n",
      "recursion\n",
      "recursion\n",
      "recursion\n",
      "recursion\n",
      "recursion\n",
      "recursion\n",
      "recursion\n",
      "recursion\n",
      "recursion\n",
      "recursion\n",
      "recursion\n",
      "recursion\n",
      "recursion\n",
      "recursion\n",
      "recursion\n",
      "recursion\n",
      "recursion\n",
      "recursion\n",
      "recursion\n",
      "recursion\n",
      "recursion\n",
      "recursion\n",
      "recursion\n",
      "recursion\n",
      "recursion\n",
      "recursion\n",
      "recursion\n",
      "recursion\n",
      "recursion\n",
      "recursion\n",
      "recursion\n",
      "recursion\n",
      "recursion\n",
      "recursion\n",
      "recursion\n",
      "recursion\n",
      "recursion\n",
      "recursion\n",
      "recursion\n",
      "recursion\n",
      "recursion\n",
      "recursion\n",
      "recursion\n",
      "recursion\n",
      "recursion\n",
      "recursion\n",
      "recursion\n",
      "recursion\n",
      "recursion\n",
      "recursion\n",
      "recursion\n",
      "recursion\n",
      "recursion\n",
      "recursion\n",
      "recursion\n",
      "recursion\n",
      "recursion\n",
      "recursion\n",
      "recursion\n",
      "recursion\n",
      "recursion\n",
      "recursion\n",
      "recursion\n",
      "recursion\n",
      "recursion\n",
      "recursion\n",
      "recursion\n",
      "recursion\n",
      "recursion\n",
      "recursion\n",
      "recursion\n",
      "recursion\n",
      "recursion\n",
      "recursion\n",
      "recursion\n",
      "recursion\n",
      "recursion\n",
      "recursion\n",
      "recursion\n",
      "recursion\n",
      "recursion\n",
      "recursion\n",
      "recursion\n",
      "recursion\n",
      "recursion\n",
      "recursion\n",
      "recursion\n",
      "recursion\n",
      "recursion\n",
      "recursion\n",
      "recursion\n",
      "recursion\n",
      "recursion\n",
      "recursion\n",
      "recursion\n",
      "recursion\n",
      "recursion\n",
      "recursion\n",
      "recursion\n",
      "recursion\n",
      "recursion\n",
      "recursion\n",
      "recursion\n",
      "recursion\n",
      "recursion\n",
      "recursion\n",
      "recursion\n",
      "recursion\n",
      "recursion\n",
      "recursion\n",
      "recursion\n",
      "recursion\n",
      "recursion\n",
      "recursion\n",
      "recursion\n",
      "recursion\n",
      "recursion\n",
      "recursion\n",
      "recursion\n",
      "recursion\n",
      "recursion\n",
      "recursion\n",
      "recursion\n",
      "recursion\n",
      "recursion\n",
      "recursion\n",
      "recursion\n",
      "recursion\n",
      "recursion\n",
      "recursion\n",
      "recursion\n",
      "recursion\n",
      "recursion\n",
      "recursion\n",
      "recursion\n",
      "recursion\n",
      "recursion\n",
      "recursion\n",
      "recursion\n",
      "recursion\n",
      "recursion\n",
      "recursion\n",
      "recursion\n",
      "recursion\n",
      "recursion\n",
      "recursion\n",
      "recursion\n",
      "recursion\n",
      "recursion\n",
      "recursion\n",
      "recursion\n",
      "recursion\n",
      "recursion\n",
      "recursion\n",
      "recursion\n",
      "recursion\n",
      "recursion\n",
      "recursion\n",
      "recursion\n",
      "recursion\n",
      "recursion\n",
      "recursion\n",
      "recursion\n",
      "recursion\n",
      "recursion\n",
      "recursion\n",
      "recursion\n",
      "recursion\n",
      "recursion\n",
      "recursion\n",
      "recursion\n",
      "recursion\n",
      "recursion\n",
      "recursion\n",
      "recursion\n",
      "recursion\n",
      "recursion\n",
      "recursion\n",
      "recursion\n",
      "recursion\n",
      "recursion\n",
      "recursion\n",
      "recursion\n",
      "recursion\n",
      "recursion\n",
      "recursion\n",
      "recursion\n",
      "recursion\n",
      "recursion\n",
      "recursion\n",
      "recursion\n",
      "recursion\n",
      "recursion\n",
      "recursion\n",
      "recursion\n",
      "recursion\n",
      "recursion\n",
      "recursion\n",
      "recursion\n",
      "recursion\n",
      "recursion\n",
      "recursion\n",
      "recursion\n",
      "recursion\n",
      "recursion\n",
      "recursion\n",
      "recursion\n",
      "recursion\n",
      "recursion\n",
      "recursion\n",
      "recursion\n",
      "recursion\n",
      "recursion\n",
      "recursion\n",
      "recursion\n",
      "recursion\n",
      "recursion\n",
      "recursion\n",
      "recursion\n",
      "recursion\n",
      "recursion\n",
      "recursion\n",
      "recursion\n",
      "recursion\n",
      "recursion\n",
      "recursion\n",
      "recursion\n",
      "recursion\n",
      "recursion\n",
      "recursion\n",
      "recursion\n",
      "recursion\n",
      "recursion\n",
      "recursion\n",
      "recursion\n",
      "recursion\n",
      "recursion\n",
      "recursion\n",
      "recursion\n",
      "recursion\n",
      "recursion\n",
      "recursion\n",
      "recursion\n",
      "recursion\n",
      "recursion\n",
      "recursion\n",
      "recursion\n",
      "recursion\n",
      "recursion\n",
      "recursion\n",
      "recursion\n",
      "recursion\n",
      "recursion\n",
      "recursion\n",
      "recursion\n",
      "recursion\n",
      "recursion\n",
      "recursion\n",
      "recursion\n",
      "recursion\n",
      "recursion\n",
      "recursion\n",
      "recursion\n",
      "recursion\n",
      "recursion\n",
      "recursion\n",
      "recursion\n",
      "recursion\n",
      "recursion\n",
      "recursion\n",
      "recursion\n",
      "recursion\n",
      "recursion\n",
      "recursion\n",
      "recursion\n",
      "recursion\n",
      "recursion\n",
      "recursion\n",
      "recursion\n",
      "recursion\n",
      "recursion\n",
      "recursion\n",
      "recursion\n",
      "recursion\n",
      "recursion\n",
      "recursion\n",
      "recursion\n",
      "recursion\n",
      "recursion\n",
      "recursion\n",
      "recursion\n",
      "recursion\n",
      "recursion\n",
      "recursion\n",
      "recursion\n",
      "recursion\n",
      "recursion\n",
      "recursion\n",
      "recursion\n",
      "recursion\n",
      "recursion\n",
      "recursion\n",
      "recursion\n",
      "recursion\n",
      "recursion\n",
      "recursion\n",
      "recursion\n",
      "recursion\n",
      "recursion\n",
      "recursion\n",
      "recursion\n",
      "recursion\n",
      "recursion\n",
      "recursion\n",
      "recursion\n",
      "recursion\n",
      "recursion\n",
      "recursion\n",
      "recursion\n",
      "recursion\n",
      "recursion\n",
      "recursion\n",
      "recursion\n",
      "recursion\n",
      "recursion\n",
      "recursion\n",
      "recursion\n",
      "recursion\n",
      "recursion\n",
      "recursion\n",
      "recursion\n",
      "recursion\n",
      "recursion\n",
      "recursion\n",
      "recursion\n",
      "recursion\n",
      "recursion\n",
      "recursion\n",
      "recursion\n",
      "recursion\n",
      "recursion\n",
      "recursion\n",
      "recursion\n",
      "recursion\n",
      "recursion\n",
      "recursion\n",
      "recursion\n",
      "recursion\n",
      "recursion\n",
      "recursion\n",
      "recursion\n",
      "recursion\n",
      "recursion\n",
      "recursion\n",
      "recursion\n",
      "recursion\n",
      "recursion\n",
      "recursion\n",
      "recursion\n",
      "recursion\n",
      "recursion\n",
      "recursion\n",
      "recursion\n",
      "recursion\n",
      "recursion\n",
      "recursion\n",
      "recursion\n",
      "recursion\n",
      "recursion\n",
      "recursion\n",
      "recursion\n",
      "recursion\n",
      "recursion\n",
      "recursion\n",
      "recursion\n",
      "recursion\n",
      "recursion\n",
      "recursion\n",
      "recursion\n",
      "recursion\n",
      "recursion\n",
      "recursion\n",
      "recursion\n",
      "recursion\n",
      "recursion\n",
      "recursion\n",
      "recursion\n",
      "recursion\n",
      "recursion\n",
      "recursion\n",
      "recursion\n",
      "recursion\n",
      "recursion\n",
      "recursion\n",
      "recursion\n",
      "recursion\n",
      "recursion\n",
      "recursion\n",
      "recursion\n",
      "recursion\n",
      "recursion\n",
      "recursion\n",
      "recursion\n",
      "recursion\n",
      "recursion\n",
      "recursion\n",
      "recursion\n",
      "recursion\n",
      "recursion\n",
      "recursion\n",
      "recursion\n",
      "recursion\n",
      "recursion\n",
      "recursion\n",
      "recursion\n",
      "recursion\n",
      "recursion\n",
      "recursion\n",
      "recursion\n",
      "recursion\n",
      "recursion\n",
      "recursion\n",
      "recursion\n",
      "recursion\n",
      "recursion\n",
      "recursion\n",
      "recursion\n",
      "recursion\n",
      "recursion\n",
      "recursion\n",
      "recursion\n",
      "recursion\n",
      "recursion\n",
      "recursion\n",
      "recursion\n",
      "recursion\n",
      "recursion\n",
      "recursion\n",
      "recursion\n",
      "recursion\n",
      "recursion\n",
      "recursion\n",
      "recursion\n",
      "recursion\n",
      "recursion\n",
      "recursion\n",
      "recursion\n",
      "recursion\n",
      "recursion\n",
      "recursion\n",
      "recursion\n",
      "recursion\n",
      "recursion\n",
      "recursion\n",
      "recursion\n",
      "recursion\n",
      "recursion\n",
      "recursion\n",
      "recursion\n",
      "recursion\n",
      "recursion\n",
      "recursion\n",
      "recursion\n",
      "recursion\n",
      "recursion\n",
      "recursion\n",
      "recursion\n",
      "recursion\n",
      "recursion\n",
      "recursion\n",
      "recursion\n",
      "recursion\n",
      "recursion\n",
      "recursion\n",
      "recursion\n",
      "recursion\n",
      "recursion\n",
      "recursion\n",
      "recursion\n",
      "recursion\n",
      "recursion\n",
      "recursion\n",
      "recursion\n",
      "recursion\n",
      "recursion\n",
      "recursion\n",
      "recursion\n",
      "recursion\n",
      "recursion\n",
      "recursion\n",
      "recursion\n",
      "recursion\n",
      "recursion\n",
      "recursion\n",
      "recursion\n",
      "recursion\n",
      "recursion\n",
      "recursion\n",
      "recursion\n",
      "recursion\n",
      "recursion\n",
      "recursion\n",
      "recursion\n",
      "recursion\n",
      "recursion\n",
      "recursion\n",
      "recursion\n",
      "recursion\n",
      "recursion\n",
      "recursion\n",
      "recursion\n",
      "recursion\n",
      "recursion\n",
      "recursion\n",
      "recursion\n",
      "recursion\n",
      "recursion\n",
      "recursion\n",
      "recursion\n",
      "recursion\n",
      "recursion\n",
      "recursion\n",
      "recursion\n",
      "recursion\n",
      "recursion\n",
      "recursion\n",
      "recursion\n",
      "recursion\n",
      "recursion\n",
      "recursion\n",
      "recursion\n",
      "recursion\n",
      "recursion\n",
      "recursion\n",
      "recursion\n",
      "recursion\n",
      "recursion\n",
      "recursion\n",
      "recursion\n",
      "recursion\n",
      "recursion\n",
      "recursion\n",
      "recursion\n",
      "recursion\n",
      "recursion\n",
      "recursion\n",
      "recursion\n",
      "recursion\n",
      "recursion\n",
      "recursion\n",
      "recursion\n",
      "recursion\n",
      "recursion\n",
      "recursion\n",
      "recursion\n"
     ]
    },
    {
     "name": "stdout",
     "output_type": "stream",
     "text": [
      "recursion\n",
      "recursion\n",
      "recursion\n",
      "recursion\n",
      "recursion\n",
      "recursion\n",
      "recursion\n",
      "recursion\n",
      "recursion\n",
      "recursion\n",
      "recursion\n",
      "recursion\n",
      "recursion\n",
      "recursion\n",
      "recursion\n",
      "recursion\n",
      "recursion\n",
      "recursion\n",
      "recursion\n",
      "recursion\n",
      "recursion\n",
      "recursion\n",
      "recursion\n",
      "recursion\n",
      "recursion\n",
      "recursion\n",
      "recursion\n",
      "recursion\n",
      "recursion\n",
      "recursion\n",
      "recursion\n",
      "recursion\n",
      "recursion\n",
      "recursion\n",
      "recursion\n",
      "recursion\n",
      "recursion\n",
      "recursion\n",
      "recursion\n",
      "recursion\n",
      "recursion\n",
      "recursion\n",
      "recursion\n",
      "recursion\n",
      "recursion\n",
      "recursion\n",
      "recursion\n",
      "recursion\n",
      "recursion\n",
      "recursion\n",
      "recursion\n",
      "recursion\n",
      "recursion\n",
      "recursion\n",
      "recursion\n",
      "recursion\n",
      "recursion\n",
      "recursion\n",
      "recursion\n",
      "recursion\n",
      "recursion\n",
      "recursion\n",
      "recursion\n",
      "recursion\n",
      "recursion\n",
      "recursion\n",
      "recursion\n",
      "recursion\n",
      "recursion\n",
      "recursion\n",
      "recursion\n",
      "recursion\n",
      "recursion\n",
      "recursion\n",
      "recursion\n",
      "recursion\n",
      "recursion\n",
      "recursion\n",
      "recursion\n",
      "recursion\n",
      "recursion\n",
      "recursion\n",
      "recursion\n",
      "recursion\n",
      "recursion\n",
      "recursion\n",
      "recursion\n",
      "recursion\n",
      "recursion\n",
      "recursion\n",
      "recursion\n",
      "recursion\n",
      "recursion\n",
      "recursion\n",
      "recursion\n",
      "recursion\n",
      "recursion\n",
      "recursion\n",
      "recursion\n",
      "recursion\n",
      "recursion\n",
      "recursion\n",
      "recursion\n",
      "recursion\n",
      "recursion\n",
      "recursion\n",
      "recursion\n",
      "recursion\n",
      "recursion\n",
      "recursion\n",
      "recursion\n",
      "recursion\n",
      "recursion\n",
      "recursion\n",
      "recursion\n",
      "recursion\n",
      "recursion\n",
      "recursion\n",
      "recursion\n",
      "recursion\n",
      "recursion\n",
      "recursion\n",
      "recursion\n",
      "recursion\n",
      "recursion\n",
      "recursion\n",
      "recursion\n",
      "recursion\n",
      "recursion\n",
      "recursion\n",
      "recursion\n",
      "recursion\n",
      "recursion\n",
      "recursion\n",
      "recursion\n",
      "recursion\n",
      "recursion\n",
      "recursion\n",
      "recursion\n",
      "recursion\n",
      "recursion\n",
      "recursion\n",
      "recursion\n",
      "recursion\n",
      "recursion\n",
      "recursion\n",
      "recursion\n",
      "recursion\n",
      "recursion\n",
      "recursion\n",
      "recursion\n",
      "recursion\n",
      "recursion\n",
      "recursion\n",
      "recursion\n",
      "recursion\n",
      "recursion\n",
      "recursion\n",
      "recursion\n",
      "recursion\n",
      "recursion\n",
      "recursion\n",
      "recursion\n",
      "recursion\n",
      "recursion\n",
      "recursion\n",
      "recursion\n",
      "recursion\n",
      "recursion\n",
      "recursion\n",
      "recursion\n",
      "recursion\n",
      "recursion\n",
      "recursion\n",
      "recursion\n",
      "recursion\n",
      "recursion\n",
      "recursion\n",
      "recursion\n",
      "recursion\n",
      "recursion\n",
      "recursion\n",
      "recursion\n",
      "recursion\n",
      "recursion\n",
      "recursion\n",
      "recursion\n",
      "recursion\n",
      "recursion\n",
      "recursion\n",
      "recursion\n",
      "recursion\n",
      "recursion\n",
      "recursion\n",
      "recursion\n",
      "recursion\n",
      "recursion\n",
      "recursion\n",
      "recursion\n",
      "recursion\n",
      "recursion\n",
      "recursion\n",
      "recursion\n",
      "recursion\n",
      "recursion\n",
      "recursion\n",
      "recursion\n",
      "recursion\n",
      "recursion\n",
      "recursion\n",
      "recursion\n",
      "recursion\n",
      "recursion\n",
      "recursion\n",
      "recursion\n",
      "recursion\n",
      "recursion\n",
      "recursion\n",
      "recursion\n",
      "recursion\n",
      "recursion\n",
      "recursion\n",
      "recursion\n",
      "recursion\n",
      "recursion\n",
      "recursion\n",
      "recursion\n",
      "recursion\n",
      "recursion\n",
      "recursion\n",
      "recursion\n",
      "recursion\n",
      "recursion\n",
      "recursion\n",
      "recursion\n",
      "recursion\n",
      "recursion\n",
      "recursion\n",
      "recursion\n",
      "recursion\n",
      "recursion\n",
      "recursion\n",
      "recursion\n",
      "recursion\n",
      "recursion\n",
      "recursion\n",
      "recursion\n",
      "recursion\n",
      "recursion\n",
      "recursion\n",
      "recursion\n",
      "recursion\n",
      "recursion\n",
      "recursion\n",
      "recursion\n",
      "recursion\n",
      "recursion\n",
      "recursion\n",
      "recursion\n",
      "recursion\n",
      "recursion\n",
      "recursion\n",
      "recursion\n",
      "recursion\n",
      "recursion\n",
      "recursion\n",
      "recursion\n",
      "recursion\n",
      "recursion\n",
      "recursion\n",
      "recursion\n",
      "recursion\n",
      "recursion\n",
      "recursion\n",
      "recursion\n",
      "recursion\n",
      "recursion\n",
      "recursion\n",
      "recursion\n",
      "recursion\n",
      "recursion\n",
      "recursion\n",
      "recursion\n",
      "recursion\n",
      "recursion\n",
      "recursion\n",
      "recursion\n",
      "recursion\n",
      "recursion\n",
      "recursion\n",
      "recursion\n",
      "recursion\n",
      "recursion\n",
      "recursion\n",
      "recursion\n",
      "recursion\n",
      "recursion\n",
      "recursion\n",
      "recursion\n",
      "recursion\n",
      "recursion\n",
      "recursion\n",
      "recursion\n",
      "recursion\n",
      "recursion\n",
      "recursion\n",
      "recursion\n",
      "recursion\n",
      "recursion\n",
      "recursion\n",
      "recursion\n",
      "recursion\n",
      "recursion\n",
      "recursion\n",
      "recursion\n",
      "recursion\n",
      "recursion\n",
      "recursion\n",
      "recursion\n",
      "recursion\n",
      "recursion\n",
      "recursion\n",
      "recursion\n",
      "recursion\n",
      "recursion\n",
      "recursion\n",
      "recursion\n",
      "recursion\n",
      "recursion\n",
      "recursion\n",
      "recursion\n",
      "recursion\n",
      "recursion\n",
      "recursion\n",
      "recursion\n",
      "recursion\n",
      "recursion\n",
      "recursion\n",
      "recursion\n",
      "recursion\n",
      "recursion\n",
      "recursion\n",
      "recursion\n",
      "recursion\n",
      "recursion\n",
      "recursion\n",
      "recursion\n",
      "recursion\n",
      "recursion\n",
      "recursion\n",
      "recursion\n",
      "recursion\n",
      "recursion\n",
      "recursion\n",
      "recursion\n",
      "recursion\n",
      "recursion\n",
      "recursion\n",
      "recursion\n",
      "recursion\n",
      "recursion\n",
      "recursion\n",
      "recursion\n",
      "recursion\n",
      "recursion\n",
      "recursion\n",
      "recursion\n",
      "recursion\n",
      "recursion\n",
      "recursion\n",
      "recursion\n",
      "recursion\n",
      "recursion\n",
      "recursion\n",
      "recursion\n",
      "recursion\n",
      "recursion\n",
      "recursion\n",
      "recursion\n",
      "recursion\n",
      "recursion\n",
      "recursion\n",
      "recursion\n",
      "recursion\n",
      "recursion\n",
      "recursion\n",
      "recursion\n",
      "recursion\n",
      "recursion\n",
      "recursion\n",
      "recursion\n",
      "recursion\n",
      "recursion\n",
      "recursion\n",
      "recursion\n",
      "recursion\n",
      "recursion\n",
      "recursion\n",
      "recursion\n",
      "recursion\n",
      "recursion\n",
      "recursion\n",
      "recursion\n",
      "recursion\n",
      "recursion\n",
      "recursion\n",
      "recursion\n",
      "recursion\n",
      "recursion\n",
      "recursion\n",
      "recursion\n",
      "recursion\n",
      "recursion\n",
      "recursion\n",
      "recursion\n",
      "recursion\n",
      "recursion\n",
      "recursion\n",
      "recursion\n",
      "recursion\n",
      "recursion\n",
      "recursion\n",
      "recursion\n",
      "recursion\n",
      "recursion\n",
      "recursion\n",
      "recursion\n",
      "recursion\n",
      "recursion\n",
      "recursion\n",
      "recursion\n",
      "recursion\n",
      "recursion\n",
      "recursion\n",
      "recursion\n",
      "recursion\n",
      "recursion\n",
      "recursion\n",
      "recursion\n",
      "recursion\n",
      "recursion\n",
      "recursion\n",
      "recursion\n",
      "recursion\n",
      "recursion\n",
      "recursion\n",
      "recursion\n",
      "recursion\n",
      "recursion\n",
      "recursion\n",
      "recursion\n",
      "recursion\n",
      "recursion\n",
      "recursion\n",
      "recursion\n",
      "recursion\n",
      "recursion\n",
      "recursion\n",
      "recursion\n",
      "recursion\n",
      "recursion\n",
      "recursion\n",
      "recursion\n",
      "recursion\n",
      "recursion\n",
      "recursion\n",
      "recursion\n",
      "recursion\n",
      "recursion\n",
      "recursion\n",
      "recursion\n",
      "recursion\n",
      "recursion\n",
      "recursion\n",
      "recursion\n",
      "recursion\n",
      "recursion\n",
      "recursion\n",
      "recursion\n",
      "recursion\n",
      "recursion\n",
      "recursion\n",
      "recursion\n",
      "recursion\n",
      "recursion\n",
      "recursion\n",
      "recursion\n",
      "recursion\n",
      "recursion\n",
      "recursion\n",
      "recursion\n",
      "recursion\n",
      "recursion\n",
      "recursion\n",
      "recursion\n",
      "recursion\n",
      "recursion\n",
      "recursion\n",
      "recursion\n",
      "recursion\n",
      "recursion\n",
      "recursion\n",
      "recursion\n",
      "recursion\n",
      "recursion\n",
      "recursion\n",
      "recursion\n",
      "recursion\n",
      "recursion\n",
      "recursion\n",
      "recursion\n",
      "recursion\n",
      "recursion\n",
      "recursion\n",
      "recursion\n",
      "recursion\n",
      "recursion\n",
      "recursion\n",
      "recursion\n",
      "recursion\n",
      "recursion\n",
      "recursion\n",
      "recursion\n",
      "recursion\n",
      "recursion\n",
      "recursion\n",
      "recursion\n",
      "recursion\n",
      "recursion\n",
      "recursion\n",
      "recursion\n",
      "recursion\n",
      "recursion\n",
      "recursion\n",
      "recursion\n",
      "recursion\n",
      "recursion\n",
      "recursion\n",
      "recursion\n",
      "recursion\n",
      "recursion\n",
      "recursion\n",
      "recursion\n",
      "recursion\n",
      "recursion\n",
      "recursion\n",
      "recursion\n",
      "recursion\n",
      "recursion\n",
      "recursion\n",
      "recursion\n",
      "recursion\n",
      "recursion\n",
      "recursion\n",
      "recursion\n",
      "recursion\n",
      "recursion\n",
      "recursion\n",
      "recursion\n",
      "recursion\n",
      "recursion\n",
      "recursion\n",
      "recursion\n",
      "recursion\n",
      "recursion\n",
      "recursion\n",
      "recursion\n",
      "recursion\n",
      "recursion\n",
      "recursion\n",
      "recursion\n",
      "recursion\n",
      "recursion\n",
      "recursion\n",
      "recursion\n",
      "recursion\n",
      "recursion\n",
      "recursion\n",
      "recursion\n",
      "recursion\n",
      "recursion\n",
      "recursion\n",
      "recursion\n",
      "recursion\n",
      "recursion\n",
      "recursion\n",
      "recursion\n",
      "recursion\n",
      "recursion\n",
      "recursion\n",
      "recursion\n",
      "recursion\n",
      "recursion\n",
      "recursion\n",
      "recursion\n",
      "recursion\n",
      "recursion\n",
      "recursion\n",
      "recursion\n",
      "recursion\n",
      "recursion\n",
      "recursion\n",
      "recursion\n",
      "recursion\n",
      "recursion\n",
      "recursion\n",
      "recursion\n",
      "recursion\n",
      "recursion\n",
      "recursion\n",
      "recursion\n",
      "recursion\n",
      "recursion\n",
      "recursion\n",
      "recursion\n",
      "recursion\n",
      "recursion\n",
      "recursion\n",
      "recursion\n",
      "recursion\n",
      "recursion\n",
      "recursion\n",
      "recursion\n",
      "recursion\n",
      "recursion\n",
      "recursion\n",
      "recursion\n",
      "recursion\n",
      "recursion\n",
      "recursion\n",
      "recursion\n",
      "recursion\n",
      "recursion\n",
      "recursion\n",
      "recursion\n",
      "recursion\n",
      "recursion\n",
      "recursion\n",
      "recursion\n",
      "recursion\n",
      "recursion\n",
      "recursion\n",
      "recursion\n",
      "recursion\n",
      "recursion\n",
      "recursion\n",
      "recursion\n",
      "recursion\n",
      "recursion\n",
      "recursion\n",
      "recursion\n",
      "recursion\n",
      "recursion\n",
      "recursion\n",
      "recursion\n",
      "recursion\n",
      "recursion\n",
      "recursion\n",
      "recursion\n",
      "recursion\n",
      "recursion\n",
      "recursion\n",
      "recursion\n",
      "recursion\n",
      "recursion\n",
      "recursion\n",
      "recursion\n",
      "recursion\n",
      "recursion\n",
      "recursion\n",
      "recursion\n",
      "recursion\n",
      "recursion\n",
      "recursion\n",
      "recursion\n",
      "recursion\n",
      "recursion\n",
      "recursion\n",
      "recursion\n",
      "recursion\n",
      "recursion\n",
      "recursion\n",
      "recursion\n",
      "recursion\n",
      "recursion\n",
      "recursion\n",
      "recursion\n",
      "recursion\n",
      "recursion\n",
      "recursion\n",
      "recursion\n",
      "recursion\n",
      "recursion\n",
      "recursion\n",
      "recursion\n",
      "recursion\n",
      "recursion\n",
      "recursion\n",
      "recursion\n",
      "recursion\n",
      "recursion\n",
      "recursion\n",
      "recursion\n",
      "recursion\n",
      "recursion\n",
      "recursion\n",
      "recursion\n",
      "recursion\n",
      "recursion\n",
      "recursion\n",
      "recursion\n",
      "recursion\n",
      "recursion\n",
      "recursion\n",
      "recursion\n",
      "recursion\n",
      "recursion\n",
      "recursion\n",
      "recursion\n",
      "recursion\n",
      "recursion\n",
      "recursion\n",
      "recursion\n",
      "recursion\n",
      "recursion\n",
      "recursion\n",
      "recursion\n",
      "recursion\n",
      "recursion\n",
      "recursion\n",
      "recursion\n",
      "recursion\n",
      "recursion\n",
      "recursion\n",
      "recursion\n",
      "recursion\n",
      "recursion\n",
      "recursion\n",
      "recursion\n",
      "recursion\n",
      "recursion\n",
      "recursion\n",
      "recursion\n",
      "recursion\n",
      "recursion\n",
      "recursion\n",
      "recursion\n",
      "recursion\n",
      "recursion\n",
      "recursion\n",
      "recursion\n",
      "recursion\n",
      "recursion\n",
      "recursion\n",
      "recursion\n",
      "recursion\n",
      "recursion\n",
      "recursion\n",
      "recursion\n",
      "recursion\n",
      "recursion\n",
      "recursion\n",
      "recursion\n",
      "recursion\n",
      "recursion\n",
      "recursion\n",
      "recursion\n",
      "recursion\n",
      "recursion\n",
      "recursion\n",
      "recursion\n",
      "recursion\n",
      "recursion\n",
      "recursion\n",
      "recursion\n",
      "recursion\n",
      "recursion\n",
      "recursion\n",
      "recursion\n",
      "recursion\n",
      "recursion\n",
      "recursion\n",
      "recursion\n",
      "recursion\n",
      "recursion\n",
      "recursion\n",
      "recursion\n",
      "recursion\n",
      "recursion\n",
      "recursion\n",
      "recursion\n",
      "recursion\n",
      "recursion\n",
      "recursion\n",
      "recursion\n",
      "recursion\n",
      "recursion\n",
      "recursion\n",
      "recursion\n",
      "recursion\n",
      "recursion\n",
      "recursion\n",
      "recursion\n",
      "recursion\n",
      "recursion\n",
      "recursion\n",
      "recursion\n",
      "recursion\n",
      "recursion\n",
      "recursion\n",
      "recursion\n",
      "recursion\n",
      "recursion\n",
      "recursion\n",
      "recursion\n",
      "recursion\n",
      "recursion\n",
      "recursion\n",
      "recursion\n",
      "recursion\n",
      "recursion\n",
      "recursion\n",
      "recursion\n",
      "recursion\n",
      "recursion\n",
      "recursion\n",
      "recursion\n",
      "recursion\n",
      "recursion\n",
      "recursion\n",
      "recursion\n",
      "recursion\n",
      "recursion\n",
      "recursion\n",
      "recursion\n",
      "recursion\n",
      "recursion\n",
      "recursion\n",
      "recursion\n",
      "recursion\n",
      "recursion\n",
      "recursion\n",
      "recursion\n",
      "recursion\n",
      "recursion\n",
      "recursion\n",
      "recursion\n",
      "recursion\n",
      "recursion\n",
      "recursion\n",
      "recursion\n",
      "recursion\n",
      "recursion\n",
      "recursion\n",
      "recursion\n",
      "recursion\n",
      "recursion\n",
      "recursion\n",
      "recursion\n",
      "recursion\n",
      "recursion\n",
      "recursion\n",
      "recursion\n",
      "recursion\n",
      "recursion\n",
      "recursion\n",
      "recursion\n",
      "recursion\n",
      "recursion\n",
      "recursion\n",
      "recursion\n",
      "recursion\n",
      "recursion\n",
      "recursion\n",
      "recursion\n",
      "recursion\n",
      "recursion\n",
      "recursion\n",
      "recursion\n",
      "recursion\n",
      "recursion\n",
      "recursion\n",
      "recursion\n",
      "recursion\n",
      "recursion\n",
      "recursion\n",
      "recursion\n",
      "recursion\n",
      "recursion\n",
      "recursion\n",
      "recursion\n",
      "recursion\n",
      "recursion\n",
      "recursion\n",
      "recursion\n",
      "recursion\n",
      "recursion\n",
      "recursion\n",
      "recursion\n",
      "recursion\n",
      "recursion\n",
      "recursion\n",
      "recursion\n",
      "recursion\n",
      "recursion\n",
      "recursion\n",
      "recursion\n",
      "recursion\n",
      "recursion\n",
      "recursion\n",
      "recursion\n",
      "recursion\n",
      "recursion\n",
      "recursion\n",
      "recursion\n",
      "recursion\n",
      "recursion\n",
      "recursion\n",
      "recursion\n",
      "recursion\n",
      "recursion\n",
      "recursion\n",
      "recursion\n",
      "recursion\n",
      "recursion\n",
      "recursion\n",
      "recursion\n",
      "recursion\n",
      "recursion\n",
      "recursion\n",
      "recursion\n",
      "recursion\n",
      "recursion\n",
      "recursion\n",
      "recursion\n",
      "recursion\n",
      "recursion\n",
      "recursion\n",
      "recursion\n",
      "recursion\n",
      "recursion\n",
      "recursion\n",
      "recursion\n",
      "recursion\n",
      "recursion\n",
      "recursion\n",
      "recursion\n",
      "recursion\n",
      "recursion\n",
      "recursion\n",
      "recursion\n",
      "recursion\n",
      "recursion\n",
      "recursion\n",
      "recursion\n",
      "recursion\n",
      "recursion\n",
      "recursion\n",
      "recursion\n",
      "recursion\n",
      "recursion\n",
      "recursion\n",
      "recursion\n",
      "recursion\n",
      "recursion\n",
      "recursion\n",
      "recursion\n",
      "recursion\n",
      "recursion\n",
      "recursion\n",
      "recursion\n",
      "recursion\n",
      "recursion\n",
      "recursion\n",
      "recursion\n",
      "recursion\n",
      "recursion\n",
      "recursion\n",
      "recursion\n",
      "recursion\n",
      "recursion\n",
      "recursion\n",
      "recursion\n",
      "recursion\n",
      "recursion\n",
      "recursion\n",
      "recursion\n",
      "recursion\n",
      "recursion\n",
      "recursion\n",
      "recursion\n",
      "recursion\n",
      "recursion\n",
      "recursion\n",
      "recursion\n",
      "recursion\n",
      "recursion\n",
      "recursion\n",
      "recursion\n",
      "recursion\n",
      "recursion\n",
      "recursion\n",
      "recursion\n",
      "recursion\n",
      "recursion\n",
      "recursion\n",
      "recursion\n",
      "recursion\n",
      "recursion\n",
      "recursion\n",
      "recursion\n",
      "recursion\n",
      "recursion\n",
      "recursion\n",
      "recursion\n",
      "recursion\n",
      "recursion\n",
      "recursion\n",
      "recursion\n",
      "recursion\n",
      "recursion\n",
      "recursion\n",
      "recursion\n",
      "recursion\n",
      "recursion\n",
      "recursion\n",
      "recursion\n",
      "recursion\n",
      "recursion\n",
      "recursion\n",
      "recursion\n",
      "recursion\n",
      "recursion\n",
      "recursion\n",
      "recursion\n",
      "recursion\n",
      "recursion\n",
      "recursion\n",
      "recursion\n",
      "recursion\n",
      "recursion\n",
      "recursion\n",
      "recursion\n",
      "recursion\n",
      "recursion\n",
      "recursion\n",
      "recursion\n",
      "recursion\n",
      "recursion\n",
      "recursion\n",
      "recursion\n",
      "recursion\n",
      "recursion\n",
      "recursion\n",
      "recursion\n",
      "recursion\n",
      "recursion\n",
      "recursion\n",
      "recursion\n",
      "recursion\n",
      "recursion\n",
      "recursion\n",
      "recursion\n",
      "recursion\n",
      "recursion\n",
      "recursion\n",
      "recursion\n",
      "recursion\n",
      "recursion\n",
      "recursion\n",
      "recursion\n",
      "recursion\n",
      "recursion\n",
      "recursion\n",
      "recursion\n",
      "recursion\n",
      "recursion\n",
      "recursion\n",
      "recursion\n",
      "recursion\n",
      "recursion\n",
      "recursion\n",
      "recursion\n",
      "recursion\n",
      "recursion\n",
      "recursion\n",
      "recursion\n",
      "recursion\n",
      "recursion\n",
      "recursion\n",
      "recursion\n",
      "recursion\n",
      "recursion\n",
      "recursion\n",
      "recursion\n",
      "recursion\n",
      "recursion\n",
      "recursion\n",
      "recursion\n",
      "recursion\n",
      "recursion\n",
      "recursion\n",
      "recursion\n",
      "recursion\n",
      "recursion\n",
      "recursion\n",
      "recursion\n",
      "recursion\n",
      "recursion\n",
      "recursion\n",
      "recursion\n",
      "recursion\n",
      "recursion\n",
      "recursion\n",
      "recursion\n",
      "recursion\n",
      "recursion\n",
      "recursion\n",
      "recursion\n",
      "recursion\n",
      "recursion\n",
      "recursion\n",
      "recursion\n",
      "recursion\n",
      "recursion\n",
      "recursion\n",
      "recursion\n",
      "recursion\n",
      "recursion\n",
      "recursion\n",
      "recursion\n",
      "recursion\n",
      "recursion\n",
      "recursion\n",
      "recursion\n",
      "recursion\n",
      "recursion\n",
      "recursion\n",
      "recursion\n",
      "recursion\n",
      "recursion\n",
      "recursion\n",
      "recursion\n",
      "recursion\n",
      "recursion\n",
      "recursion\n",
      "recursion\n",
      "recursion\n",
      "recursion\n",
      "recursion\n",
      "recursion\n",
      "recursion\n",
      "recursion\n",
      "recursion\n",
      "recursion\n",
      "recursion\n",
      "recursion\n",
      "recursion\n",
      "recursion\n",
      "recursion\n",
      "recursion\n",
      "recursion"
     ]
    },
    {
     "ename": "RecursionError",
     "evalue": "maximum recursion depth exceeded in comparison",
     "output_type": "error",
     "traceback": [
      "\u001b[0;31m---------------------------------------------------------------------------\u001b[0m",
      "\u001b[0;31mRecursionError\u001b[0m                            Traceback (most recent call last)",
      "\u001b[0;32m<ipython-input-49-c6e0f7eb0cde>\u001b[0m in \u001b[0;36m<module>\u001b[0;34m()\u001b[0m\n\u001b[0;32m----> 1\u001b[0;31m \u001b[0mrecursion\u001b[0m\u001b[0;34m(\u001b[0m\u001b[0;34m)\u001b[0m\u001b[0;34m\u001b[0m\u001b[0m\n\u001b[0m",
      "\u001b[0;32m<ipython-input-15-570afd31ee2e>\u001b[0m in \u001b[0;36mrecursion\u001b[0;34m()\u001b[0m\n\u001b[1;32m      1\u001b[0m \u001b[0;32mdef\u001b[0m \u001b[0mrecursion\u001b[0m\u001b[0;34m(\u001b[0m\u001b[0;34m)\u001b[0m\u001b[0;34m:\u001b[0m\u001b[0;34m\u001b[0m\u001b[0m\n\u001b[1;32m      2\u001b[0m     \u001b[0mprint\u001b[0m\u001b[0;34m(\u001b[0m\u001b[0;34m'recursion'\u001b[0m\u001b[0;34m)\u001b[0m\u001b[0;34m\u001b[0m\u001b[0m\n\u001b[0;32m----> 3\u001b[0;31m     \u001b[0;32mreturn\u001b[0m \u001b[0mrecursion\u001b[0m\u001b[0;34m(\u001b[0m\u001b[0;34m)\u001b[0m\u001b[0;34m\u001b[0m\u001b[0m\n\u001b[0m",
      "... last 1 frames repeated, from the frame below ...\n",
      "\u001b[0;32m<ipython-input-15-570afd31ee2e>\u001b[0m in \u001b[0;36mrecursion\u001b[0;34m()\u001b[0m\n\u001b[1;32m      1\u001b[0m \u001b[0;32mdef\u001b[0m \u001b[0mrecursion\u001b[0m\u001b[0;34m(\u001b[0m\u001b[0;34m)\u001b[0m\u001b[0;34m:\u001b[0m\u001b[0;34m\u001b[0m\u001b[0m\n\u001b[1;32m      2\u001b[0m     \u001b[0mprint\u001b[0m\u001b[0;34m(\u001b[0m\u001b[0;34m'recursion'\u001b[0m\u001b[0;34m)\u001b[0m\u001b[0;34m\u001b[0m\u001b[0m\n\u001b[0;32m----> 3\u001b[0;31m     \u001b[0;32mreturn\u001b[0m \u001b[0mrecursion\u001b[0m\u001b[0;34m(\u001b[0m\u001b[0;34m)\u001b[0m\u001b[0;34m\u001b[0m\u001b[0m\n\u001b[0m",
      "\u001b[0;31mRecursionError\u001b[0m: maximum recursion depth exceeded in comparison"
     ]
    }
   ],
   "source": [
    "recursion()"
   ]
  },
  {
   "cell_type": "markdown",
   "metadata": {
    "slideshow": {
     "slide_type": "slide"
    }
   },
   "source": [
    "我们称上述递归为无限递归（infinite recursion）。那么，要编写有用的递归函数，就要避免出现无限递归，也就是说递归要有办法停下来。"
   ]
  },
  {
   "cell_type": "markdown",
   "metadata": {},
   "source": [
    "用经典的递归函数案例来介绍Python的递归函数。求解阶乘的算法是，已知正整数`n`，计算乘积$n\\times(n-1)\\times(n-2)\\times\\cdots\\times1$。首先用常规方法实现阶乘："
   ]
  },
  {
   "cell_type": "code",
   "execution_count": 50,
   "metadata": {
    "slideshow": {
     "slide_type": "slide"
    }
   },
   "outputs": [],
   "source": [
    "def factorial(n):\n",
    "    \"\"\"return the factorial of a number\"\"\"\n",
    "    result = n\n",
    "    for i in range(1, n):\n",
    "        result *= i\n",
    "    return result"
   ]
  },
  {
   "cell_type": "code",
   "execution_count": 51,
   "metadata": {
    "slideshow": {
     "slide_type": "-"
    }
   },
   "outputs": [
    {
     "data": {
      "text/plain": [
       "120"
      ]
     },
     "execution_count": 51,
     "metadata": {},
     "output_type": "execute_result"
    }
   ],
   "source": [
    "factorial(5)"
   ]
  },
  {
   "cell_type": "markdown",
   "metadata": {
    "slideshow": {
     "slide_type": "slide"
    }
   },
   "source": [
    "然后用递归的方法实现。根据阶乘的定义可知，`n`的阶乘等于`n`乘以`n-1`的阶乘，`n-1`的阶乘又等于`n-1`乘以`n-2`的阶乘，如此循环下去。如果该递归函数是无限循环的话，那么就会失败。幸运的是，当整数`n`循环到整数`1`的时候，其结果为1，可以退出循环。"
   ]
  },
  {
   "cell_type": "code",
   "execution_count": 52,
   "metadata": {
    "slideshow": {
     "slide_type": "slide"
    }
   },
   "outputs": [],
   "source": [
    "def factorial2(n):\n",
    "    \"\"\"return a factorial of a number n with recursion\"\"\"\n",
    "    if n == 1:\n",
    "        print('recursion {} finished'.format(n))\n",
    "        return 1\n",
    "    else:\n",
    "        print('recursion {}'.format(n))\n",
    "        return n * factorial2(n-1)"
   ]
  },
  {
   "cell_type": "code",
   "execution_count": 53,
   "metadata": {
    "slideshow": {
     "slide_type": "slide"
    }
   },
   "outputs": [
    {
     "name": "stdout",
     "output_type": "stream",
     "text": [
      "recursion 5\n",
      "recursion 4\n",
      "recursion 3\n",
      "recursion 2\n",
      "recursion 1 finished\n"
     ]
    },
    {
     "data": {
      "text/plain": [
       "120"
      ]
     },
     "execution_count": 53,
     "metadata": {},
     "output_type": "execute_result"
    }
   ],
   "source": [
    "factorial2(5)"
   ]
  },
  {
   "cell_type": "markdown",
   "metadata": {
    "slideshow": {
     "slide_type": "slide"
    }
   },
   "source": [
    "递归函数基本上都可以用循环来替代，甚至使用循环效率更高效。那为什么还使用递归函数呢？使用递归函数，代码可读性更高，但前提是理解了递归函数的定义。"
   ]
  },
  {
   "cell_type": "markdown",
   "metadata": {
    "slideshow": {
     "slide_type": "slide"
    }
   },
   "source": [
    "## Lambda函数\n",
    "\n",
    "要定义一个函数，就得给函数起个名字。函数命名最基本原则是要望文生义，要想出一个长期好用的函数名，犹如给新生儿起名，并非一件轻而易举的事情。在一个团队，因此而争吵也在所难免。"
   ]
  },
  {
   "cell_type": "markdown",
   "metadata": {
    "slideshow": {
     "slide_type": "slide"
    }
   },
   "source": [
    "在有些场景，只需传入一个简单函数，并不需要显式地定义函数。Python提供了Lambda函数，又称为匿名函数。顾名思义，就是可以快捷简单地创建函数，而又不用为函数命名大费周章。"
   ]
  },
  {
   "cell_type": "markdown",
   "metadata": {
    "slideshow": {
     "slide_type": "slide"
    }
   },
   "source": [
    "Lambda函数的语法如下：\n",
    "```\n",
    "lambda arguments: expression\n",
    "```\n",
    "基本要素是：\n",
    "- 关键词`lambda`，而不是`def`\n",
    "- 参数是可选，如果多个参数，参数使用逗号分隔；\n",
    "- 表达式\n"
   ]
  },
  {
   "cell_type": "markdown",
   "metadata": {
    "slideshow": {
     "slide_type": "slide"
    }
   },
   "source": [
    "`lambda`函数的应用场景是快捷创建一个简单函数，故而也有一些限制。例如，不能包含分支（条件表达式例外）与循环，以及`return`或`yield`语句。否则就会引起语法错误。"
   ]
  },
  {
   "cell_type": "code",
   "execution_count": 54,
   "metadata": {
    "slideshow": {
     "slide_type": "slide"
    }
   },
   "outputs": [
    {
     "ename": "SyntaxError",
     "evalue": "invalid syntax (<ipython-input-54-23a9a0ee2b92>, line 1)",
     "output_type": "error",
     "traceback": [
      "\u001b[0;36m  File \u001b[0;32m\"<ipython-input-54-23a9a0ee2b92>\"\u001b[0;36m, line \u001b[0;32m1\u001b[0m\n\u001b[0;31m    lambda x: return x if x > 0 else abs(x)\u001b[0m\n\u001b[0m                   ^\u001b[0m\n\u001b[0;31mSyntaxError\u001b[0m\u001b[0;31m:\u001b[0m invalid syntax\n"
     ]
    }
   ],
   "source": [
    "lambda x: return x if x > 0 else abs(x) "
   ]
  },
  {
   "cell_type": "markdown",
   "metadata": {
    "slideshow": {
     "slide_type": "slide"
    }
   },
   "source": [
    "### 自省\n",
    "\n",
    "lambda表达式的结果是创建一个匿名函数，可以使用自省的方法来查看对象。"
   ]
  },
  {
   "cell_type": "code",
   "execution_count": 55,
   "metadata": {
    "slideshow": {
     "slide_type": "slide"
    }
   },
   "outputs": [],
   "source": [
    "f = lambda x: x if x > 0 else abs(x) "
   ]
  },
  {
   "cell_type": "code",
   "execution_count": 56,
   "metadata": {
    "slideshow": {
     "slide_type": "-"
    }
   },
   "outputs": [
    {
     "name": "stdout",
     "output_type": "stream",
     "text": [
      "<class 'function'>\n",
      "<function <lambda> at 0x7f46c37d2c80>\n"
     ]
    }
   ],
   "source": [
    "print(type(f))\n",
    "print(f)"
   ]
  },
  {
   "cell_type": "markdown",
   "metadata": {
    "slideshow": {
     "slide_type": "slide"
    }
   },
   "source": [
    "匿名函数也是函数，调用匿名函数会计算表达式并返回其结果。"
   ]
  },
  {
   "cell_type": "code",
   "execution_count": 57,
   "metadata": {
    "slideshow": {
     "slide_type": "-"
    }
   },
   "outputs": [
    {
     "name": "stdout",
     "output_type": "stream",
     "text": [
      "3.1314 3.1314\n"
     ]
    }
   ],
   "source": [
    "print(f(3.1314), f(-3.1314))"
   ]
  },
  {
   "cell_type": "markdown",
   "metadata": {
    "slideshow": {
     "slide_type": "slide"
    }
   },
   "source": [
    "## 函数定义常见问题"
   ]
  },
  {
   "cell_type": "markdown",
   "metadata": {
    "slideshow": {
     "slide_type": "slide"
    }
   },
   "source": [
    "### 关键字参数的默认值\n",
    "\n",
    "关键字参数的默认值如果使用可变对象，可能会有一些意想不到的问题。"
   ]
  }
 ],
 "metadata": {
  "celltoolbar": "Slideshow",
  "kernelspec": {
   "display_name": "Python 3",
   "language": "python",
   "name": "python3"
  },
  "language_info": {
   "codemirror_mode": {
    "name": "ipython",
    "version": 3
   },
   "file_extension": ".py",
   "mimetype": "text/x-python",
   "name": "python",
   "nbconvert_exporter": "python",
   "pygments_lexer": "ipython3",
   "version": "3.6.4"
  },
  "toc": {
   "base_numbering": 1,
   "nav_menu": {},
   "number_sections": true,
   "sideBar": true,
   "skip_h1_title": false,
   "title_cell": "Table of Contents",
   "title_sidebar": "Contents",
   "toc_cell": false,
   "toc_position": {
    "height": "calc(100% - 180px)",
    "left": "10px",
    "top": "150px",
    "width": "239px"
   },
   "toc_section_display": true,
   "toc_window_display": false
  }
 },
 "nbformat": 4,
 "nbformat_minor": 1
}
