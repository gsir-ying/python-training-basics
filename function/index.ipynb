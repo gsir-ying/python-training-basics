{
 "cells": [
  {
   "cell_type": "markdown",
   "metadata": {
    "slideshow": {
     "slide_type": "slide"
    }
   },
   "source": [
    "# 函数（function）\n",
    "\n",
    "**王伟华**"
   ]
  },
  {
   "cell_type": "markdown",
   "metadata": {
    "slideshow": {
     "slide_type": "slide"
    }
   },
   "source": [
    "## 培训目标\n",
    "\n",
    "- 学习Python函数定义，熟练掌握函数参数、函数调用等；\n",
    "- 整理Python内置函数，熟练掌握常用内置函数；\n",
    "- 学习函数式编程，熟练掌握装饰器；"
   ]
  },
  {
   "cell_type": "markdown",
   "metadata": {
    "slideshow": {
     "slide_type": "slide"
    }
   },
   "source": [
    "## 培训内容\n",
    "\n",
    "- [函数基础](function.ipynb)\n",
    "- [内置函数](../builtins/builtins_function.ipynb)\n",
    "- [函数式编程](functional_programming.ipynb)\n",
    "- [装饰器](decorator.ipynb)"
   ]
  },
  {
   "cell_type": "markdown",
   "metadata": {
    "slideshow": {
     "slide_type": "slide"
    }
   },
   "source": [
    "## [作业](homework.ipynb)\n",
    "\n",
    "- 练习：要求学员课堂或自习时完成，讲师需要讲解。\n",
    "\n",
    "- 面试：要求学员自习时完成，辅导员予以讲解。\n",
    "\n",
    "- 课后作业：要求学员课后或自习时完成，作业需要上传到自己的Github。辅导员需要了解学员作业状况。"
   ]
  }
 ],
 "metadata": {
  "celltoolbar": "Slideshow",
  "kernelspec": {
   "display_name": "Python 3",
   "language": "python",
   "name": "python3"
  },
  "language_info": {
   "codemirror_mode": {
    "name": "ipython",
    "version": 3
   },
   "file_extension": ".py",
   "mimetype": "text/x-python",
   "name": "python",
   "nbconvert_exporter": "python",
   "pygments_lexer": "ipython3",
   "version": "3.6.4"
  },
  "toc": {
   "base_numbering": 1,
   "nav_menu": {},
   "number_sections": true,
   "sideBar": true,
   "skip_h1_title": false,
   "title_cell": "Table of Contents",
   "title_sidebar": "Contents",
   "toc_cell": false,
   "toc_position": {},
   "toc_section_display": true,
   "toc_window_display": false
  }
 },
 "nbformat": 4,
 "nbformat_minor": 2
}
