{
 "cells": [
  {
   "cell_type": "markdown",
   "metadata": {
    "slideshow": {
     "slide_type": "slide"
    }
   },
   "source": [
    "# 猜数字游戏\n",
    "\n",
    "猜一个1到100之内数字，看看猜几次能猜中。\n",
    "\n",
    "先编写好程序，再添加声音。"
   ]
  },
  {
   "cell_type": "markdown",
   "metadata": {
    "slideshow": {
     "slide_type": "slide"
    }
   },
   "source": [
    "## 程序\n",
    "\n",
    "### 第一步\n",
    "\n",
    "先产生一个1到100之内的数字。"
   ]
  },
  {
   "cell_type": "code",
   "execution_count": null,
   "metadata": {
    "slideshow": {
     "slide_type": "-"
    }
   },
   "outputs": [],
   "source": [
    "import random\n",
    "\n",
    "number = random.randint(1, 100)\n",
    "number"
   ]
  },
  {
   "cell_type": "markdown",
   "metadata": {
    "slideshow": {
     "slide_type": "slide"
    }
   },
   "source": [
    "### 第二步\n",
    "\n",
    "提示用户猜一个数字"
   ]
  },
  {
   "cell_type": "code",
   "execution_count": null,
   "metadata": {
    "slideshow": {
     "slide_type": "-"
    }
   },
   "outputs": [],
   "source": [
    "guess = input('猜一个数字：')\n",
    "guess"
   ]
  },
  {
   "cell_type": "markdown",
   "metadata": {
    "slideshow": {
     "slide_type": "slide"
    }
   },
   "source": [
    "需要把它转换为整数："
   ]
  },
  {
   "cell_type": "code",
   "execution_count": null,
   "metadata": {
    "slideshow": {
     "slide_type": "-"
    }
   },
   "outputs": [],
   "source": [
    "guess = int(guess)\n",
    "guess"
   ]
  },
  {
   "cell_type": "markdown",
   "metadata": {
    "slideshow": {
     "slide_type": "slide"
    }
   },
   "source": [
    "### 判断整数\n",
    "\n",
    "判断整数猜的是否准确？"
   ]
  },
  {
   "cell_type": "code",
   "execution_count": null,
   "metadata": {
    "slideshow": {
     "slide_type": "-"
    }
   },
   "outputs": [],
   "source": [
    "if guess == number:\n",
    "    print('猜对了', number)\n",
    "elif guess > number:\n",
    "    print('猜大了')\n",
    "else:\n",
    "    print('猜小了')    "
   ]
  },
  {
   "cell_type": "markdown",
   "metadata": {
    "slideshow": {
     "slide_type": "slide"
    }
   },
   "source": [
    "### 反复地猜\n",
    "\n",
    "如果猜不中的话，还得继续猜。这里限定最多猜9次。"
   ]
  },
  {
   "cell_type": "code",
   "execution_count": null,
   "metadata": {
    "slideshow": {
     "slide_type": "-"
    }
   },
   "outputs": [],
   "source": [
    "for i in range(9):\n",
    "    guess = input('猜一个数字：')\n",
    "    guess = int(guess)\n",
    "    if guess == number:\n",
    "        print('猜对了', number)\n",
    "        break\n",
    "    elif guess > number:\n",
    "        print('猜大了')\n",
    "    else:\n",
    "        print('猜小了')   "
   ]
  },
  {
   "cell_type": "markdown",
   "metadata": {
    "slideshow": {
     "slide_type": "slide"
    }
   },
   "source": [
    "### 最后总结发言"
   ]
  },
  {
   "cell_type": "code",
   "execution_count": null,
   "metadata": {
    "slideshow": {
     "slide_type": "-"
    }
   },
   "outputs": [],
   "source": [
    "if guess == number:\n",
    "    print('您太厉害了！猜了', i+1, '次')        \n",
    "else:\n",
    "    print('您需要努力啊')            \n",
    "    print('要猜的数字是', number)  "
   ]
  },
  {
   "cell_type": "markdown",
   "metadata": {
    "slideshow": {
     "slide_type": "slide"
    }
   },
   "source": [
    "### 合在一起"
   ]
  },
  {
   "cell_type": "code",
   "execution_count": null,
   "metadata": {
    "slideshow": {
     "slide_type": "-"
    }
   },
   "outputs": [],
   "source": [
    "def guess_number():\n",
    "    \"\"\"猜数字游戏\"\"\"\n",
    "    name = input(\"请问阁下尊姓大名？\")\n",
    "    print('您好！', name)\n",
    "    print('欢迎来到猜数字游戏，数字范围在1到100之间')\n",
    "\n",
    "    number = random.randint(1, 100)\n",
    "    for i in range(8):\n",
    "        guess = input('猜一个数字：')\n",
    "        guess = int(guess)\n",
    "        if guess == number:\n",
    "            break\n",
    "        elif guess > number:\n",
    "            print('猜大了')\n",
    "        else:\n",
    "            print('猜小了')       \n",
    "\n",
    "    if guess == number:\n",
    "        print('您太厉害了！猜了', i+1, '次')        \n",
    "    else:\n",
    "        print('您还需要加油啊')            \n",
    "        print('要猜的数字是', number)             "
   ]
  },
  {
   "cell_type": "code",
   "execution_count": null,
   "metadata": {
    "slideshow": {
     "slide_type": "slide"
    }
   },
   "outputs": [],
   "source": [
    "guess_number()"
   ]
  },
  {
   "cell_type": "markdown",
   "metadata": {
    "slideshow": {
     "slide_type": "slide"
    }
   },
   "source": [
    "## 百度语音\n",
    "\n",
    "语音识别与语音合成中，只有百度是免费的。"
   ]
  },
  {
   "cell_type": "markdown",
   "metadata": {
    "slideshow": {
     "slide_type": "slide"
    }
   },
   "source": [
    "### 注册并登录\n",
    "\n",
    "<https://cloud.baidu.com/>\n",
    "\n",
    "选择【人工智能】 =》【百度语音 】 ，然后创建新应用。"
   ]
  },
  {
   "cell_type": "markdown",
   "metadata": {
    "slideshow": {
     "slide_type": "slide"
    }
   },
   "source": [
    "### 获得用户Key\n",
    "\n",
    "- AppID\n",
    "- API Key\n",
    "- Secret Key"
   ]
  },
  {
   "cell_type": "markdown",
   "metadata": {
    "slideshow": {
     "slide_type": "slide"
    }
   },
   "source": [
    "### 语音合成\n",
    "\n",
    "新建AipSpeech\n",
    "AipSpeech是语音合成的Python SDK客户端，为使用语音合成的开发人员提供了一系列的交互方法。\n",
    "\n",
    "参考如下代码新建一个AipSpeech："
   ]
  },
  {
   "cell_type": "markdown",
   "metadata": {
    "slideshow": {
     "slide_type": "slide"
    }
   },
   "source": [
    "```\n",
    "from aip import AipSpeech\n",
    "\n",
    "\"\"\" 你的 APPID AK SK \"\"\"\n",
    "APP_ID = '你的 App ID'\n",
    "API_KEY = '你的 Api Key'\n",
    "SECRET_KEY = '你的 Secret Key'\n",
    "\n",
    "client = AipSpeech(APP_ID, API_KEY, SECRET_KEY)\n",
    "```"
   ]
  },
  {
   "cell_type": "markdown",
   "metadata": {
    "slideshow": {
     "slide_type": "slide"
    }
   },
   "source": [
    "请求说明\n",
    "合成文本长度必须小于1024字节，如果本文长度较长，可以采用多次请求的方式。文本长度不可超过限制\n",
    "举例，要把一段文字合成为语音文件："
   ]
  },
  {
   "cell_type": "markdown",
   "metadata": {
    "slideshow": {
     "slide_type": "-"
    }
   },
   "source": [
    "```python\n",
    "result  = client.synthesis('你好百度', 'zh', 1, {\n",
    "    'vol': 5,\n",
    "})\n",
    "\n",
    "# 识别正确返回语音二进制 错误则返回dict 参照下面错误码\n",
    "if not isinstance(result, dict):\n",
    "    with open('auido.mp3', 'wb') as f:\n",
    "        f.write(result)\n",
    "```        "
   ]
  },
  {
   "cell_type": "code",
   "execution_count": null,
   "metadata": {
    "slideshow": {
     "slide_type": "slide"
    }
   },
   "outputs": [],
   "source": [
    "import simpleaudio as sa\n",
    "from aip import AipSpeech"
   ]
  },
  {
   "cell_type": "code",
   "execution_count": null,
   "metadata": {
    "slideshow": {
     "slide_type": "slide"
    }
   },
   "outputs": [],
   "source": [
    "def baidu_synthesis(text, wavfile, lang='zh'):\n",
    "    \"\"\"合成声音\"\"\"\n",
    "    # 新建AipSpeech\n",
    "    APP_ID = 'xxx'\n",
    "    API_KEY = 'xxxx'\n",
    "    SECRET_KEY = 'xxxx'\n",
    "    client = AipSpeech(APP_ID, API_KEY, SECRET_KEY)    \n",
    "    # 合成语音\n",
    "    options = {'aue': 6, 'vol': 5, 'spd': 5, 'per': '0'}\n",
    "    result = client.synthesis(text, lang=lang, options=options)\n",
    "    # 返回语音文件\n",
    "    if not isinstance(result, dict):\n",
    "        with open(wavfile, 'wb') as fh:\n",
    "            fh.write(result)\n",
    "        return wavfile    "
   ]
  },
  {
   "cell_type": "code",
   "execution_count": null,
   "metadata": {},
   "outputs": [],
   "source": [
    "wavfile = baidu_synthesis('猜猜数字吧', 'baiduvoice.wav')\n",
    "wavfile"
   ]
  },
  {
   "cell_type": "markdown",
   "metadata": {
    "slideshow": {
     "slide_type": "slide"
    }
   },
   "source": [
    "使用`simpleaudio`播放声音"
   ]
  },
  {
   "cell_type": "code",
   "execution_count": null,
   "metadata": {
    "slideshow": {
     "slide_type": "-"
    }
   },
   "outputs": [],
   "source": [
    "def _playwavfile(wavfile):\n",
    "    \"\"\"播放wav声音\"\"\"\n",
    "    if wavfile is not None:\n",
    "        wave_obj = sa.WaveObject.from_wave_file(wavfile)\n",
    "        play_obj = wave_obj.play()\n",
    "        play_obj.wait_done()"
   ]
  },
  {
   "cell_type": "code",
   "execution_count": null,
   "metadata": {
    "slideshow": {
     "slide_type": "slide"
    }
   },
   "outputs": [],
   "source": [
    "_playwavfile(wavfile)"
   ]
  },
  {
   "cell_type": "markdown",
   "metadata": {
    "slideshow": {
     "slide_type": "slide"
    }
   },
   "source": [
    "### 朗读文本"
   ]
  },
  {
   "cell_type": "code",
   "execution_count": null,
   "metadata": {
    "slideshow": {
     "slide_type": "-"
    }
   },
   "outputs": [],
   "source": [
    "def speak(*args, sep=' '):\n",
    "    \"\"\"朗读文本\"\"\"\n",
    "    # 获得文本\n",
    "    text = sep.join([str(arg) for arg in args])\n",
    "    voicefile = baidu_synthesis(text, 'baiduvoice.wav')\n",
    "    print(text)\n",
    "    _playwavfile(voicefile)"
   ]
  },
  {
   "cell_type": "markdown",
   "metadata": {
    "slideshow": {
     "slide_type": "slide"
    }
   },
   "source": [
    "### 语音输入"
   ]
  },
  {
   "cell_type": "code",
   "execution_count": null,
   "metadata": {
    "slideshow": {
     "slide_type": "-"
    }
   },
   "outputs": [],
   "source": [
    "def speak_input(text):\n",
    "    \"\"\"朗读并获得输入\"\"\"\n",
    "    # 新建AipSpeech\n",
    "    voicefile = baidu_synthesis(text, 'baiduvoice.wav')\n",
    "    _playwavfile(voicefile)\n",
    "    return input(text)"
   ]
  },
  {
   "cell_type": "markdown",
   "metadata": {
    "slideshow": {
     "slide_type": "slide"
    }
   },
   "source": [
    "## 完整的程序\n"
   ]
  },
  {
   "cell_type": "code",
   "execution_count": null,
   "metadata": {
    "slideshow": {
     "slide_type": "-"
    }
   },
   "outputs": [],
   "source": [
    "%%writefile guessnumber.py\n",
    "#!/usr/bin/env python\n",
    "# -*- coding: utf-8 -*-\n",
    "# Copyright (c) 2018--2023, Wang Weihua.\n",
    "# All rights reserved.\n",
    "import random\n",
    "import simpleaudio as sa\n",
    "from aip import AipSpeech\n",
    "\n",
    "    \n",
    "def baidu_synthesis(text, wavfile, lang='zh'):\n",
    "    \"\"\"合成声音\"\"\"\n",
    "    # 新建AipSpeech\n",
    "    APP_ID = 'xxx'\n",
    "    API_KEY = 'xxx'\n",
    "    SECRET_KEY = 'xxx'\n",
    "    client = AipSpeech(APP_ID, API_KEY, SECRET_KEY)    \n",
    "    # 合成语音\n",
    "    options = {'aue': 6, 'vol': 5, 'spd': 5, 'per': '0'}\n",
    "    result = client.synthesis(text, lang=lang, options=options)\n",
    "    # 返回语音文件\n",
    "    if not isinstance(result, dict):\n",
    "        with open(wavfile, 'wb') as fh:\n",
    "            fh.write(result)\n",
    "        return wavfile    \n",
    "\n",
    "\n",
    "def _playwavfile(wavfile):\n",
    "    \"\"\"播放wav声音\"\"\"\n",
    "    if wavfile is not None:\n",
    "        wave_obj = sa.WaveObject.from_wave_file(wavfile)\n",
    "        play_obj = wave_obj.play()\n",
    "        play_obj.wait_done()\n",
    "    \n",
    "    \n",
    "def speak(*args, sep=' '):\n",
    "    \"\"\"朗读文本\"\"\"\n",
    "    # 获得文本\n",
    "    text = sep.join([str(arg) for arg in args])\n",
    "    voicefile = baidu_synthesis(text, 'baiduvoice.wav')\n",
    "    print(text)\n",
    "    _playwavfile(voicefile)\n",
    "\n",
    "    \n",
    "def speak_input(text):\n",
    "    \"\"\"朗读并获得输入\"\"\"\n",
    "    # 新建AipSpeech\n",
    "    voicefile = baidu_synthesis(text, 'baiduvoice.wav')\n",
    "    _playwavfile(voicefile)\n",
    "    return input(text)\n",
    "    \n",
    "\n",
    "def guess_number():\n",
    "    \"\"\"猜数字游戏\"\"\"\n",
    "    name = speak_input(\"请问阁下尊姓大名？\")\n",
    "    speak('您好！', name)\n",
    "    speak('欢迎来到猜数字游戏，数字范围在1到100之间')\n",
    "\n",
    "    number = random.randint(1, 100)\n",
    "    for i in range(8):\n",
    "        guess = speak_input('猜一个数字：')\n",
    "        guess = int(guess)\n",
    "        if guess == number:\n",
    "            break\n",
    "        elif guess > number:\n",
    "            speak('猜大了')\n",
    "        else:\n",
    "            speak('猜小了')       \n",
    "\n",
    "    if guess == number:\n",
    "        speak('您太厉害了！猜了', i+1, '次')        \n",
    "    else:\n",
    "        speak('您还需要加油啊')            \n",
    "        speak('要猜的数字是', number)             \n",
    "        \n",
    "\n",
    "def main():\n",
    "    \"\"\"主函数\"\"\"\n",
    "    guess_number()\n",
    "    \n",
    "\n",
    "main()    \n"
   ]
  }
 ],
 "metadata": {
  "celltoolbar": "Slideshow",
  "kernelspec": {
   "display_name": "Python 3",
   "language": "python",
   "name": "python3"
  },
  "language_info": {
   "codemirror_mode": {
    "name": "ipython",
    "version": 3
   },
   "file_extension": ".py",
   "mimetype": "text/x-python",
   "name": "python",
   "nbconvert_exporter": "python",
   "pygments_lexer": "ipython3",
   "version": "3.6.4"
  },
  "toc": {
   "base_numbering": 1,
   "nav_menu": {},
   "number_sections": true,
   "sideBar": true,
   "skip_h1_title": false,
   "title_cell": "Table of Contents",
   "title_sidebar": "Contents",
   "toc_cell": false,
   "toc_position": {},
   "toc_section_display": true,
   "toc_window_display": false
  }
 },
 "nbformat": 4,
 "nbformat_minor": 2
}
