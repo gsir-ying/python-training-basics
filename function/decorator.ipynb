{
 "cells": [
  {
   "cell_type": "markdown",
   "metadata": {
    "slideshow": {
     "slide_type": "slide"
    }
   },
   "source": [
    "# 装饰器\n",
    "\n"
   ]
  },
  {
   "cell_type": "markdown",
   "metadata": {
    "slideshow": {
     "slide_type": "slide"
    }
   },
   "source": [
    "## 从debug版本说起\n",
    "\n",
    "大家也许经常听说，一个程序有release和debug版本。release是正式版，可执行文件较小，运行速度较快。debug版本是调试版本，可执行文件比较大，代码运行较慢，可以使用单步执行、跟踪等功能。除此之外，debug版本会打印更多信息。"
   ]
  },
  {
   "cell_type": "markdown",
   "metadata": {
    "slideshow": {
     "slide_type": "slide"
    }
   },
   "source": [
    "假定我们有一个非常简单的函数，返回两个参数的和。"
   ]
  },
  {
   "cell_type": "code",
   "execution_count": 1,
   "metadata": {
    "slideshow": {
     "slide_type": "-"
    }
   },
   "outputs": [],
   "source": [
    "def add(x, y):\n",
    "    \"\"\"return the sum of two argument\"\"\"\n",
    "    return x + y"
   ]
  },
  {
   "cell_type": "code",
   "execution_count": 2,
   "metadata": {
    "slideshow": {
     "slide_type": "slide"
    }
   },
   "outputs": [
    {
     "name": "stdout",
     "output_type": "stream",
     "text": [
      "3 3.0\n"
     ]
    },
    {
     "ename": "TypeError",
     "evalue": "must be str, not float",
     "output_type": "error",
     "traceback": [
      "\u001b[0;31m---------------------------------------------------------------------------\u001b[0m",
      "\u001b[0;31mTypeError\u001b[0m                                 Traceback (most recent call last)",
      "\u001b[0;32m<ipython-input-2-0487f4abdffe>\u001b[0m in \u001b[0;36m<module>\u001b[0;34m()\u001b[0m\n\u001b[1;32m      1\u001b[0m \u001b[0mprint\u001b[0m\u001b[0;34m(\u001b[0m\u001b[0madd\u001b[0m\u001b[0;34m(\u001b[0m\u001b[0;36m1\u001b[0m\u001b[0;34m,\u001b[0m \u001b[0;36m2\u001b[0m\u001b[0;34m)\u001b[0m\u001b[0;34m,\u001b[0m \u001b[0madd\u001b[0m\u001b[0;34m(\u001b[0m\u001b[0;36m1.0\u001b[0m\u001b[0;34m,\u001b[0m \u001b[0;36m2.0\u001b[0m\u001b[0;34m)\u001b[0m\u001b[0;34m)\u001b[0m\u001b[0;34m\u001b[0m\u001b[0m\n\u001b[0;32m----> 2\u001b[0;31m \u001b[0mprint\u001b[0m\u001b[0;34m(\u001b[0m\u001b[0madd\u001b[0m\u001b[0;34m(\u001b[0m\u001b[0;34m'1.0'\u001b[0m\u001b[0;34m,\u001b[0m \u001b[0;36m2.0\u001b[0m\u001b[0;34m)\u001b[0m\u001b[0;34m)\u001b[0m\u001b[0;34m\u001b[0m\u001b[0m\n\u001b[0m",
      "\u001b[0;32m<ipython-input-1-6d9a97cb6fec>\u001b[0m in \u001b[0;36madd\u001b[0;34m(x, y)\u001b[0m\n\u001b[1;32m      1\u001b[0m \u001b[0;32mdef\u001b[0m \u001b[0madd\u001b[0m\u001b[0;34m(\u001b[0m\u001b[0mx\u001b[0m\u001b[0;34m,\u001b[0m \u001b[0my\u001b[0m\u001b[0;34m)\u001b[0m\u001b[0;34m:\u001b[0m\u001b[0;34m\u001b[0m\u001b[0m\n\u001b[1;32m      2\u001b[0m     \u001b[0;34m\"\"\"return the sum of two argument\"\"\"\u001b[0m\u001b[0;34m\u001b[0m\u001b[0m\n\u001b[0;32m----> 3\u001b[0;31m     \u001b[0;32mreturn\u001b[0m \u001b[0mx\u001b[0m \u001b[0;34m+\u001b[0m \u001b[0my\u001b[0m\u001b[0;34m\u001b[0m\u001b[0m\n\u001b[0m",
      "\u001b[0;31mTypeError\u001b[0m: must be str, not float"
     ]
    }
   ],
   "source": [
    "print(add(1, 2), add(1.0, 2.0))\n",
    "print(add('1.0', 2.0))"
   ]
  },
  {
   "cell_type": "markdown",
   "metadata": {
    "slideshow": {
     "slide_type": "slide"
    }
   },
   "source": [
    "希望有一个debug版本，可以打印出函数输入及其参数，以及返回结果。可以利用Python中内置常量`__debug__`来轻松实现。运行Python时`__debug__`值为`True`，当使用选项`-O`会其值`False`。"
   ]
  },
  {
   "cell_type": "code",
   "execution_count": 5,
   "metadata": {
    "slideshow": {
     "slide_type": "slide"
    }
   },
   "outputs": [],
   "source": [
    "import time\n",
    "\n",
    "def add_debug(x, y):\n",
    "    \"\"\"the add debug function\"\"\"\n",
    "    if __debug__:\n",
    "        print(time.time(), 'add entry...')\n",
    "        print(time.time(), x, type(x))\n",
    "        print(time.time(), y, type(y))\n",
    "        \n",
    "    result = x + y\n",
    "    \n",
    "    if __debug__:\n",
    "        print(time.time(), result, type(result))\n",
    "        print(time.time(), 'add exit')\n",
    "        \n",
    "    return result"
   ]
  },
  {
   "cell_type": "code",
   "execution_count": 6,
   "metadata": {
    "slideshow": {
     "slide_type": "slide"
    }
   },
   "outputs": [
    {
     "name": "stdout",
     "output_type": "stream",
     "text": [
      "1547973372.8828862 add entry...\n",
      "1547973372.8829691 1 <class 'int'>\n",
      "1547973372.8830364 2 <class 'int'>\n",
      "1547973372.883088 3 <class 'int'>\n",
      "1547973372.8831465 add exit\n",
      "1547973372.8832366 add entry...\n",
      "1547973372.88333 1.0 <class 'float'>\n",
      "1547973372.8834662 2.0 <class 'float'>\n",
      "1547973372.8835337 3.0 <class 'float'>\n",
      "1547973372.8836014 add exit\n"
     ]
    },
    {
     "data": {
      "text/plain": [
       "3.0"
      ]
     },
     "execution_count": 6,
     "metadata": {},
     "output_type": "execute_result"
    }
   ],
   "source": [
    "add_debug(1, 2)\n",
    "add_debug(1.0, 2.0)"
   ]
  },
  {
   "cell_type": "code",
   "execution_count": 7,
   "metadata": {
    "slideshow": {
     "slide_type": "slide"
    }
   },
   "outputs": [
    {
     "name": "stdout",
     "output_type": "stream",
     "text": [
      "1547973374.1495414 add entry...\n",
      "1547973374.14966 1 <class 'int'>\n",
      "1547973374.1497345 x <class 'str'>\n"
     ]
    },
    {
     "ename": "TypeError",
     "evalue": "unsupported operand type(s) for +: 'int' and 'str'",
     "output_type": "error",
     "traceback": [
      "\u001b[0;31m---------------------------------------------------------------------------\u001b[0m",
      "\u001b[0;31mTypeError\u001b[0m                                 Traceback (most recent call last)",
      "\u001b[0;32m<ipython-input-7-94b8c730663a>\u001b[0m in \u001b[0;36m<module>\u001b[0;34m()\u001b[0m\n\u001b[0;32m----> 1\u001b[0;31m \u001b[0madd_debug\u001b[0m\u001b[0;34m(\u001b[0m\u001b[0;36m1\u001b[0m\u001b[0;34m,\u001b[0m \u001b[0;34m'x'\u001b[0m\u001b[0;34m)\u001b[0m\u001b[0;34m\u001b[0m\u001b[0m\n\u001b[0m",
      "\u001b[0;32m<ipython-input-5-947e9954857e>\u001b[0m in \u001b[0;36madd_debug\u001b[0;34m(x, y)\u001b[0m\n\u001b[1;32m      8\u001b[0m         \u001b[0mprint\u001b[0m\u001b[0;34m(\u001b[0m\u001b[0mtime\u001b[0m\u001b[0;34m.\u001b[0m\u001b[0mtime\u001b[0m\u001b[0;34m(\u001b[0m\u001b[0;34m)\u001b[0m\u001b[0;34m,\u001b[0m \u001b[0my\u001b[0m\u001b[0;34m,\u001b[0m \u001b[0mtype\u001b[0m\u001b[0;34m(\u001b[0m\u001b[0my\u001b[0m\u001b[0;34m)\u001b[0m\u001b[0;34m)\u001b[0m\u001b[0;34m\u001b[0m\u001b[0m\n\u001b[1;32m      9\u001b[0m \u001b[0;34m\u001b[0m\u001b[0m\n\u001b[0;32m---> 10\u001b[0;31m     \u001b[0mresult\u001b[0m \u001b[0;34m=\u001b[0m \u001b[0mx\u001b[0m \u001b[0;34m+\u001b[0m \u001b[0my\u001b[0m\u001b[0;34m\u001b[0m\u001b[0m\n\u001b[0m\u001b[1;32m     11\u001b[0m \u001b[0;34m\u001b[0m\u001b[0m\n\u001b[1;32m     12\u001b[0m     \u001b[0;32mif\u001b[0m \u001b[0m__debug__\u001b[0m\u001b[0;34m:\u001b[0m\u001b[0;34m\u001b[0m\u001b[0m\n",
      "\u001b[0;31mTypeError\u001b[0m: unsupported operand type(s) for +: 'int' and 'str'"
     ]
    }
   ],
   "source": [
    "add_debug(1, 'x')"
   ]
  },
  {
   "cell_type": "code",
   "execution_count": null,
   "metadata": {
    "slideshow": {
     "slide_type": "slide"
    }
   },
   "outputs": [],
   "source": [
    "%%writefile add_debug.py\n",
    "import time\n",
    "\n",
    "def add_debug(x, y):\n",
    "    \"\"\"the add debug function\"\"\"\n",
    "    if __debug__:\n",
    "        print(time.time(), 'add entry...')\n",
    "        print(time.time(), x, type(x))\n",
    "        print(time.time(), y, type(y))\n",
    "        \n",
    "    result = x + y\n",
    "    \n",
    "    if __debug__:\n",
    "        print(time.time(), result, type(result))\n",
    "        print(time.time(), 'add exit')\n",
    "        \n",
    "    return result\n",
    "\n",
    "add_debug(1, 2)\n",
    "add_debug(1.0, 2.0)\n",
    "add_debug(1.0, 'str')"
   ]
  },
  {
   "cell_type": "code",
   "execution_count": null,
   "metadata": {
    "slideshow": {
     "slide_type": "slide"
    }
   },
   "outputs": [],
   "source": [
    "!python add_debug.py"
   ]
  },
  {
   "cell_type": "code",
   "execution_count": null,
   "metadata": {
    "slideshow": {
     "slide_type": "slide"
    }
   },
   "outputs": [],
   "source": [
    "!python -O add_debug.py"
   ]
  },
  {
   "cell_type": "markdown",
   "metadata": {
    "slideshow": {
     "slide_type": "slide"
    }
   },
   "source": [
    "对于一个已知函数，有时需要增加一些新的功能，如这里示例所示要增加一些debug信息。当前这个方法显得很费事。不过，在Python中函数也是对象，也可以作为参数来传递，故可以通过传入已知函数名来实现debug功能。"
   ]
  },
  {
   "cell_type": "code",
   "execution_count": null,
   "metadata": {
    "slideshow": {
     "slide_type": "slide"
    }
   },
   "outputs": [],
   "source": [
    "import time\n",
    "\n",
    "def add_debug2(func, x, y):\n",
    "    \"\"\"the add debug function\"\"\"\n",
    "    if __debug__:\n",
    "        print(time.time(), 'function {} entry...'.format(func.__name__))\n",
    "        print(time.time(), x, type(x))\n",
    "        print(time.time(), y, type(y))\n",
    "        \n",
    "    result = func(x, y)\n",
    "    \n",
    "    if __debug__:\n",
    "        print(time.time(), result, type(result))\n",
    "        print(time.time(), 'function {} exit'.format(func.__name__))\n",
    "        \n",
    "    return result\n",
    "\n",
    "add_debug2(add, 1, 2)\n",
    "add_debug2(add, 1.0, 2.0)\n",
    "add_debug2(add, 1.0, 'str')"
   ]
  },
  {
   "cell_type": "markdown",
   "metadata": {
    "slideshow": {
     "slide_type": "slide"
    }
   },
   "source": [
    "尽管这里不用修改原定义的`add`函数，但是由于创建了新的函数，所有调用`add`函数的地方都需要更改。"
   ]
  },
  {
   "cell_type": "markdown",
   "metadata": {
    "slideshow": {
     "slide_type": "slide"
    }
   },
   "source": [
    "## 装饰器基础\n",
    "\n",
    "在Python函数中，可以传入函数参数，还可以定义函数并返回函数对象。下面进一步简化debug版函数。"
   ]
  },
  {
   "cell_type": "code",
   "execution_count": null,
   "metadata": {
    "slideshow": {
     "slide_type": "slide"
    }
   },
   "outputs": [],
   "source": [
    "import time\n",
    "\n",
    "def add_debug3(func):\n",
    "    \"\"\"the add debug function\"\"\"\n",
    "    def new_add(x, y):\n",
    "        \"\"\"a new add function\"\"\"\n",
    "        if __debug__:\n",
    "            print(time.time(), 'function {} entry...'.format(func.__name__))\n",
    "            print(time.time(), x, type(x))\n",
    "            print(time.time(), y, type(y))\n",
    "        \n",
    "        result = func(x, y)\n",
    "        \n",
    "        if __debug__:\n",
    "            print(time.time(), result, type(result))\n",
    "            print(time.time(), 'function {} exit'.format(func.__name__))\n",
    "        \n",
    "        return result\n",
    "    \n",
    "    return new_add"
   ]
  },
  {
   "cell_type": "markdown",
   "metadata": {
    "slideshow": {
     "slide_type": "slide"
    }
   },
   "source": [
    "然后，调用函数`add_debug3`，传入`add`函数对象，会返回新的函数对象。"
   ]
  },
  {
   "cell_type": "code",
   "execution_count": null,
   "metadata": {
    "slideshow": {
     "slide_type": "-"
    }
   },
   "outputs": [],
   "source": [
    "add2 = add_debug3(add)"
   ]
  },
  {
   "cell_type": "markdown",
   "metadata": {
    "slideshow": {
     "slide_type": "slide"
    }
   },
   "source": [
    "使用自省的方法，检查这两个函数的差异。"
   ]
  },
  {
   "cell_type": "code",
   "execution_count": null,
   "metadata": {},
   "outputs": [],
   "source": [
    "print(type(add), type(add2))\n",
    "print(add, add2)\n",
    "print(add.__doc__)\n",
    "print(add2.__doc__)"
   ]
  },
  {
   "cell_type": "markdown",
   "metadata": {
    "slideshow": {
     "slide_type": "slide"
    }
   },
   "source": [
    "可以看出返回的`add2`函数仍然是函数，只不过是`add_debug3`中的子函数。可以调用函数。"
   ]
  },
  {
   "cell_type": "code",
   "execution_count": null,
   "metadata": {
    "slideshow": {
     "slide_type": "-"
    }
   },
   "outputs": [],
   "source": [
    "print(add2(1, 2), add2(1.0, 2.0))"
   ]
  },
  {
   "cell_type": "code",
   "execution_count": null,
   "metadata": {
    "slideshow": {
     "slide_type": "slide"
    }
   },
   "outputs": [],
   "source": [
    "print(add2('1.0', 2.0))"
   ]
  },
  {
   "cell_type": "markdown",
   "metadata": {
    "slideshow": {
     "slide_type": "slide"
    }
   },
   "source": [
    "可以看出，除了函数名字不同外，其它参数调用完全一样。还可以更进一步！"
   ]
  },
  {
   "cell_type": "markdown",
   "metadata": {
    "slideshow": {
     "slide_type": "slide"
    }
   },
   "source": [
    "在Python中，函数名是一个变量，是指向一个函数对象。我们可以把`add`变量，指向add_debug3中的子函数。"
   ]
  },
  {
   "cell_type": "code",
   "execution_count": null,
   "metadata": {
    "slideshow": {
     "slide_type": "-"
    }
   },
   "outputs": [],
   "source": [
    "origin_add = add\n",
    "add = add_debug3(add)\n",
    "print(type(origin_add), type(add))\n",
    "print(origin_add, add)\n",
    "print(origin_add.__doc__)\n",
    "print(add.__doc__)"
   ]
  },
  {
   "cell_type": "markdown",
   "metadata": {
    "slideshow": {
     "slide_type": "slide"
    }
   },
   "source": [
    "经过这般处理，变量`add`已经是增加了debug功能的新函数了，不过过程还是很艰辛。辛运的是，Python提供了装饰器（Decorator）特性，可以简化上述功能实现。"
   ]
  },
  {
   "cell_type": "markdown",
   "metadata": {
    "slideshow": {
     "slide_type": "slide"
    }
   },
   "source": [
    "装饰器语法为：\n",
    "```\n",
    "@decorated_function\n",
    "def function_name(parameters):\n",
    "    suite\n",
    "```\n",
    "\n",
    "基本要素：\n",
    "- 用`@`引导一个装饰器函数\n",
    "- 其它不变。"
   ]
  },
  {
   "cell_type": "markdown",
   "metadata": {
    "slideshow": {
     "slide_type": "slide"
    }
   },
   "source": [
    "顾名思义，装饰器就是不用修改源代码，就能够为原对象增加新的功能。而装饰器函数的本质，就如同`add_debug3`类似，就是可以传入可调用对象，并且返回可调用对象的函数。而`@decorated_function`语法就相对于执行了如下语句：\n",
    "```\n",
    "function_name = decorated_function(function_name)\n",
    "```"
   ]
  },
  {
   "cell_type": "markdown",
   "metadata": {
    "slideshow": {
     "slide_type": "slide"
    }
   },
   "source": [
    "下面使用装饰器语法来重新定义`add`函数。首先定义装饰器函数，其中定义函数`inner(*args, **kwargs)`，以匹配任意调用函数。"
   ]
  },
  {
   "cell_type": "code",
   "execution_count": null,
   "metadata": {},
   "outputs": [],
   "source": [
    "import time\n",
    "\n",
    "def decorated_by_debug(func):\n",
    "    \"\"\"the decorated debugdebug function\"\"\"\n",
    "    def inner(*args, **kwargs):\n",
    "        \"\"\"a inner function in decorated_debug\"\"\"\n",
    "        if __debug__:\n",
    "            print(time.time(), 'function {} entry...'.format(func.__name__))\n",
    "            for arg in args:\n",
    "                print(time.time(), arg, type(arg))\n",
    "        \n",
    "        result = func(*args, **kwargs)\n",
    "        \n",
    "        if __debug__:\n",
    "            print(time.time(), result, type(result))\n",
    "            print(time.time(), 'function {} exit'.format(func.__name__))\n",
    "        \n",
    "        return result\n",
    "    \n",
    "    return inner"
   ]
  },
  {
   "cell_type": "markdown",
   "metadata": {
    "slideshow": {
     "slide_type": "slide"
    }
   },
   "source": [
    "然后使用装饰器来封装函数"
   ]
  },
  {
   "cell_type": "code",
   "execution_count": null,
   "metadata": {
    "slideshow": {
     "slide_type": "-"
    }
   },
   "outputs": [],
   "source": [
    "@decorated_by_debug\n",
    "def add(x, y):\n",
    "    \"\"\"return the sum of two argument\"\"\"\n",
    "    return x + y"
   ]
  },
  {
   "cell_type": "markdown",
   "metadata": {
    "slideshow": {
     "slide_type": "slide"
    }
   },
   "source": [
    "使用自省方法检查`add`函数对象。"
   ]
  },
  {
   "cell_type": "code",
   "execution_count": null,
   "metadata": {
    "slideshow": {
     "slide_type": "-"
    }
   },
   "outputs": [],
   "source": [
    "print(type(add), add)\n",
    "print(add.__doc__)"
   ]
  },
  {
   "cell_type": "code",
   "execution_count": null,
   "metadata": {
    "slideshow": {
     "slide_type": "slide"
    }
   },
   "outputs": [],
   "source": [
    "help(add)"
   ]
  },
  {
   "cell_type": "code",
   "execution_count": null,
   "metadata": {
    "slideshow": {
     "slide_type": "slide"
    }
   },
   "outputs": [],
   "source": [
    "print(add(1, 2), add(1.0, 2.0))"
   ]
  },
  {
   "cell_type": "markdown",
   "metadata": {
    "slideshow": {
     "slide_type": "slide"
    }
   },
   "source": [
    "如果不想用装饰器进行封装，只需要把`@`语句注释即可。"
   ]
  },
  {
   "cell_type": "markdown",
   "metadata": {
    "slideshow": {
     "slide_type": "slide"
    }
   },
   "source": [
    "## 深入装饰器\n",
    "\n"
   ]
  },
  {
   "cell_type": "markdown",
   "metadata": {
    "slideshow": {
     "slide_type": "-"
    }
   },
   "source": [
    "装饰器有很多种，除了函数的装饰器，也有类的装饰器。"
   ]
  }
 ],
 "metadata": {
  "celltoolbar": "Slideshow",
  "kernelspec": {
   "display_name": "Python 3",
   "language": "python",
   "name": "python3"
  },
  "language_info": {
   "codemirror_mode": {
    "name": "ipython",
    "version": 3
   },
   "file_extension": ".py",
   "mimetype": "text/x-python",
   "name": "python",
   "nbconvert_exporter": "python",
   "pygments_lexer": "ipython3",
   "version": "3.6.4"
  },
  "toc": {
   "base_numbering": 1,
   "nav_menu": {},
   "number_sections": true,
   "sideBar": true,
   "skip_h1_title": false,
   "title_cell": "Table of Contents",
   "title_sidebar": "Contents",
   "toc_cell": false,
   "toc_position": {},
   "toc_section_display": true,
   "toc_window_display": false
  }
 },
 "nbformat": 4,
 "nbformat_minor": 2
}
