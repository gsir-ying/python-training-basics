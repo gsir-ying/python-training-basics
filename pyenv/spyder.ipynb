{
 "cells": [
  {
   "cell_type": "markdown",
   "metadata": {
    "slideshow": {
     "slide_type": "slide"
    }
   },
   "source": [
    "# Spyder\n",
    "\n",
    "[Spyder](https://pythonhosted.org/spyder/)是一个简单易用、轻量级的集成开发环境，由WinPython的作者Pierre Raybaut开发。\n",
    "\n",
    "* 强大编辑器\n",
    "* 交互式命令终端\n",
    "* 在线帮助和文档查看\n",
    "* 内容查找\n",
    "* 文件浏览器\n",
    "* 历史日志"
   ]
  },
  {
   "cell_type": "markdown",
   "metadata": {
    "slideshow": {
     "slide_type": "slide"
    }
   },
   "source": [
    "## 启动和运行界面\n",
    "\n",
    "要启动Spyder，可在命令终端中启动：\n",
    "```sh\n",
    "$ spyder\n",
    "```\n",
    "对于安装anaconda的Windows系统，也可在开始菜单中找到spyder，单击即可。"
   ]
  },
  {
   "cell_type": "markdown",
   "metadata": {
    "slideshow": {
     "slide_type": "slide"
    }
   },
   "source": [
    "运行后的Spyder工作界面如下图所示：\n",
    "![Spyder工作界面](assets/spyder_screenshot.png \"\")"
   ]
  },
  {
   "cell_type": "markdown",
   "metadata": {
    "slideshow": {
     "slide_type": "slide"
    }
   },
   "source": [
    "在Spyder图形界面中，除了通常的标题、菜单栏、工具栏、状态栏外，主要是Spyder工作空间，包括：\n",
    "\n",
    "* 编辑器（Editor）：编辑代码\n",
    "* 控制终端（console）：运行的Python控制台\n",
    "* 变量浏览器（Variable Explorer）：显示查看Python控制台的变量列表\n",
    "* 对象查看器（Object Inspector）：查看对象的说明文档和源程序\n",
    "* 文件浏览器（File Explorer）：管理和浏览文件\n",
    "* 历史日志（History log）： Pyhton控制台运行的历史日志。"
   ]
  },
  {
   "cell_type": "markdown",
   "metadata": {
    "slideshow": {
     "slide_type": "slide"
    }
   },
   "source": [
    "Spyder的工作界面由多个停靠窗口部件组成，可以根据用户喜好定制。当多个窗口在一个区域时，将使用选项页的形式进行显示。例如在上图右上区域包括了多个选项页。使用菜单栏`view`->`panel`选项，选择窗口并进行位置布局；使用菜单栏`view`->`custom window layouts`中的命令，保存自己喜爱的工作界面，并进行切换。"
   ]
  },
  {
   "cell_type": "markdown",
   "metadata": {
    "slideshow": {
     "slide_type": "slide"
    }
   },
   "source": [
    "## 编辑代码\n",
    "\n",
    "在Spyder中新建或者打开Python脚本文件，在编辑器会打开一个对应的选项页，进行代码编辑。"
   ]
  },
  {
   "cell_type": "markdown",
   "metadata": {
    "slideshow": {
     "slide_type": "slide"
    }
   },
   "source": [
    "Spyder编辑器的主要功能包括：\n",
    "\n",
    "* 语法高亮（支持Python, C/C++,Fortran语言)\n",
    "* 强大的代码内省功能，实现：  \n",
    "    - 代码自动补全\n",
    "    - 自动提示\n",
    "    - 定义查找，根据变量名查找其对象的定义。\n",
    "* 错误警告提醒（实时代码分析，给出警告和错误提醒）    \n",
    "* 代码框架浏览，例如函数、类、条件判断语句。\n",
    "- 待办事项(TODO、FIXME XXX)。\n",
    "- 运行、调试等功能，见。"
   ]
  },
  {
   "cell_type": "markdown",
   "metadata": {
    "slideshow": {
     "slide_type": "slide"
    }
   },
   "source": [
    "下图给出在编辑器进行代码编辑的界面示例：\n",
    "![Spyder编辑器错误警告提醒示例](assets/spyderEditor01.png \"\")"
   ]
  },
  {
   "cell_type": "markdown",
   "metadata": {
    "slideshow": {
     "slide_type": "slide"
    }
   },
   "source": [
    "在示例中有一个错误警告提醒：\n",
    "\n",
    "* 警告：此例中为风格错误，PEP8风格规定函数间隔两个空行，该处只有一个空行；\n",
    "* 错误：此例中为语法错误，变量名非法使用关键词`del`。\n"
   ]
  },
  {
   "cell_type": "markdown",
   "metadata": {
    "slideshow": {
     "slide_type": "slide"
    }
   },
   "source": [
    "定义查找也是一种学习方法。按住`Ctrl`键，单击指定变量名、函数名、类名或模块名就会跳到该对象定义位置。如果是在其它文件定义，会打开该文件并定位。但如果不是以源代码的模块，则只会跳到该对象所加载的位置。"
   ]
  },
  {
   "cell_type": "markdown",
   "metadata": {
    "slideshow": {
     "slide_type": "slide"
    }
   },
   "source": [
    "例如在编辑如下代码时：\n",
    "```python\n",
    "import collections\n",
    "\n",
    "Person = collections.namedtuple('Person', 'name age, gender')\n",
    "\n",
    "bob = Person(name='Bob', age=30, gender='male')\n",
    "jane = Person(name='Jane', age=29, gender='female')\n",
    "\n",
    "for p in [bob, jane]:\n",
    "    print('{0} is {1} years old'.format(p.name, p.age))\n",
    "```\n",
    "按住`Ctrl`键，单击`namedtuple`，编辑器会打开该函数所在文件，并定位位置。如图所示："
   ]
  },
  {
   "cell_type": "markdown",
   "metadata": {
    "slideshow": {
     "slide_type": "slide"
    }
   },
   "source": [
    "![Spyder编辑器定义查找示例](assets/spyderEditor02.png \"\")"
   ]
  },
  {
   "cell_type": "markdown",
   "metadata": {
    "slideshow": {
     "slide_type": "slide"
    }
   },
   "source": [
    "## Python控制台\n",
    "\n",
    "编写Python脚本文件完毕，总要运行一下，看看是否结果是否正确。按`F5`键运行编辑器当前脚本程序。仅当第一次运行时，会弹出一个如图的运行配置对话框，在此可进行配置更改。后续如再需要更改，可以按`F6`键。"
   ]
  },
  {
   "cell_type": "markdown",
   "metadata": {
    "slideshow": {
     "slide_type": "slide"
    }
   },
   "source": [
    "运行配置对话框主要有如下参数设置选项：\n",
    "\n",
    "* 解释器：  \n",
    "    - `Execute in current Python or IPython intepreter`：  \n",
    "    在当前Python或IPython解释器中执行脚本程序，缺省选项。\n",
    "    - `Execute in a new decicated Python intepreter`：  \n",
    "    新开一个Python解释器，并执行脚本程序。\n",
    "    - `Execute in an external System terminal`：  \n",
    "    在外部系统命令终端中执行脚本程序。      "
   ]
  },
  {
   "cell_type": "markdown",
   "metadata": {
    "slideshow": {
     "slide_type": "slide"
    }
   },
   "source": [
    "* 通用设置  \n",
    "    - `Command line options`:  \n",
    "    可以指定运行的Python的命令行选项。\n",
    "    - `Working directory`:  \n",
    "    可以指定运行脚本文件的工作路径，缺省是脚本文件所在目录。    "
   ]
  },
  {
   "cell_type": "markdown",
   "metadata": {
    "slideshow": {
     "slide_type": "slide"
    }
   },
   "source": [
    "在缺省情况，是在当前Python或IPython解释器中运行Python脚本文件。Spyder包括Python和IPython命令控制台。通常建议使用IPython命令控制台，即在IPython交互界面工作。\n",
    "\n",
    "例如脚本文件`helloSpyder.py`编辑完毕后，按`F5`运行，实际上就是在IPython交互模式输入如下命令：\n",
    "```\n",
    "In [1]: runfile('E:/Python/helloSpyder.py', wdir='E:/Python')\n",
    "Hello, Spyder!\n",
    "```"
   ]
  },
  {
   "cell_type": "markdown",
   "metadata": {
    "slideshow": {
     "slide_type": "slide"
    }
   },
   "source": [
    "结果如图所示：\n",
    "\n",
    "![IPython控制台运行结果](assets/spyderIPythonConsole01.png \"\")"
   ]
  },
  {
   "cell_type": "markdown",
   "metadata": {
    "slideshow": {
     "slide_type": "slide"
    }
   },
   "source": [
    "在IPython命令控制台，可以做IPython允许的任何事情，例如输出图像等操作。参见第节。"
   ]
  },
  {
   "cell_type": "markdown",
   "metadata": {
    "slideshow": {
     "slide_type": "slide"
    }
   },
   "source": [
    "## 变量浏览器（Variable Explorer）\n",
    "\n",
    "运行脚本文件后，可以使用变量浏览器查看和分析器结果。例如脚本文件`showVariable.py`：\n",
    "```python\n",
    "googol = 10**100\n",
    "x = 31.456\n",
    "z = 1.0 + 1.0J\n",
    "s = 'This is a string'\n",
    "listdata = [1.0, 2.0, 3.0, 4.0, 5.0]\n",
    "dictdata = {'Computer': 'Python Nature', 'Chinese': 'Bai lu Yuan'}\n",
    "```"
   ]
  },
  {
   "cell_type": "markdown",
   "metadata": {
    "slideshow": {
     "slide_type": "slide"
    }
   },
   "source": [
    "在其中定义了整数、浮点数、复数、字符串、列表和字典等对象。运行完毕后，在变量浏览器中会显示这些对象的名字、类型、大小、值等信息。如下图所示：\n",
    ">![变量浏览器01](assets/spyderVariableExplorer01.png \"\")"
   ]
  },
  {
   "cell_type": "markdown",
   "metadata": {
    "slideshow": {
     "slide_type": "slide"
    }
   },
   "source": [
    "在变量编辑器界面可以对对变量进行各种操作，包括：\n",
    "\n",
    "* 数据编辑；\n",
    "* 导入导出，存为各类文件；\n",
    "* 可以大可多个数据编辑器，进行数据比较；\n",
    "* 数据可视化。"
   ]
  },
  {
   "cell_type": "markdown",
   "metadata": {
    "slideshow": {
     "slide_type": "slide"
    }
   },
   "source": [
    "例如，对上面例子中的列表对象，选择绘图操作，会给出如下结果：\n",
    ">![变量浏览器02](assets/spyderVariableExplorer02.png \"\")"
   ]
  },
  {
   "cell_type": "markdown",
   "metadata": {
    "slideshow": {
     "slide_type": "slide"
    }
   },
   "source": [
    "默认情况，变量浏览器会把IPython命令控制台一些对象过滤掉不显示IPython命令控制台的私有变量。单击变量浏览器工具栏的配置按钮（最后一个按钮），在菜单中取消`Exclude private references`，就会显示以`_`开头的对象。结果如图所示：\n",
    "\n",
    ">![变量浏览器03](assets/spyderVariableExplorer03.png \"\")"
   ]
  },
  {
   "cell_type": "markdown",
   "metadata": {
    "slideshow": {
     "slide_type": "slide"
    }
   },
   "source": [
    "变量浏览器目前支持的对象类型包括：\n",
    "\n",
    "* 内置对象，例如整数、浮点数、复数、列表、字典、元组、字符串等\n",
    "* 常用对象，例如日期时间、PIL/Pillow图片\n",
    "* 科学计算对象，例如numpy的数据结构对象（ndarray, matrix）、Pandas的数据结构对象（DataFrames等）\n"
   ]
  },
  {
   "cell_type": "markdown",
   "metadata": {
    "slideshow": {
     "slide_type": "slide"
    }
   },
   "source": [
    "## 对象查看器（Object Inspector）\n",
    "\n",
    "在Spyder中，仍然不要忘了使用自省和帮助！使用对象查看器，实现如下：\n",
    "\n",
    "* 可以快速访问任意Python对象（模块、类、函数等）的文档或源代码；\n",
    "* 文档可以以富文本方式显示为更漂亮的HTML页面；"
   ]
  },
  {
   "cell_type": "markdown",
   "metadata": {
    "slideshow": {
     "slide_type": "slide"
    }
   },
   "source": [
    "例如，在对象查看器显示`dict`的帮助，单击变量工具栏的配置按钮，在菜单中选择`Rich Text`选项：\n",
    "\n",
    "![变量浏览器02](assets/spyderObjectInspector01.png \"\")"
   ]
  },
  {
   "cell_type": "markdown",
   "metadata": {
    "slideshow": {
     "slide_type": "slide"
    }
   },
   "source": [
    "也可以选择其他模式，如普通文本、源代码模式。"
   ]
  },
  {
   "cell_type": "markdown",
   "metadata": {
    "slideshow": {
     "slide_type": "slide"
    }
   },
   "source": [
    "## 程序调试\n",
    "\n",
    "在Spyder中调试代码，需要用到如下模块：\n",
    "\n",
    "* pdb：Python标准库的Python调试器。\n",
    "* winpdb：pddb的图形前端，是一个外部包。按`F7`键会在编辑器当前脚本文件中运行winpdb。\n",
    "\n",
    "这里只简要介绍PDB调试方法。"
   ]
  },
  {
   "cell_type": "markdown",
   "metadata": {
    "slideshow": {
     "slide_type": "slide"
    }
   },
   "source": [
    "Spyder部分集成了Python调试器：\n",
    "\n",
    "* 在编辑器中设置断点：\n",
    "    - 断点设置有多种方式，从`Run`菜单中设置、使用快捷键`F12`，或者双击编辑器行号左边位置。\n",
    "    - 条件断点设置也有多种方法，从`Run`菜单中设置、使用快捷键`Shift+F12`，或者在编辑器行号左边位置按`Shift`再双击。\n",
    "\n",
    "* 当前帧（调试步骤）会高亮。\n",
    "* 在每个断点位置，可以使用变量浏览器查看。"
   ]
  },
  {
   "cell_type": "markdown",
   "metadata": {
    "slideshow": {
     "slide_type": "slide"
    }
   },
   "source": [
    "## 更多内容\n",
    "\n",
    "Spyder还包括其他一些窗口部件，用于实现更多功能：\n",
    "\n",
    "* 文本浏览器（File explorer）：是一个类似资源管理器的插件，实现对目录和文件的一些操作。\n",
    "* 历史日志(History log) 包含IPython或Python命令窗口的历史命令日志。\n",
    "* 在线帮助（Online help），自动生成已安装的Python模块的HTML文档。\n",
    "* 项目浏览器（Project Explorer），在Spyder中进行项目管理。\n",
    "* 文本查找（Find in file），可使用正则表达式，在多个文件进行文本内容查找。\n",
    "* （Profiler）\n",
    "* （static code analysis）"
   ]
  },
  {
   "cell_type": "markdown",
   "metadata": {
    "slideshow": {
     "slide_type": "slide"
    }
   },
   "source": [
    "最后，如果觉得Spyder窗口部件仍然很多，可以运行Spyder的light版：\n",
    "```sh\n",
    "$ spyder --light\n",
    "```\n",
    "对于安装anaconda的Windows系统，也可在开始菜单中找到`spyder (light)`，单击即可。"
   ]
  },
  {
   "cell_type": "markdown",
   "metadata": {
    "slideshow": {
     "slide_type": "slide"
    }
   },
   "source": [
    "Spyder的light版只包含IPython命令控制台和变量浏览器，如图所示。\n",
    "\n",
    "![Spyder light](assets/spyderLight.png \"\")"
   ]
  }
 ],
 "metadata": {
  "celltoolbar": "Slideshow",
  "kernelspec": {
   "display_name": "Python 3",
   "language": "python",
   "name": "python3"
  },
  "language_info": {
   "codemirror_mode": {
    "name": "ipython",
    "version": 3
   },
   "file_extension": ".py",
   "mimetype": "text/x-python",
   "name": "python",
   "nbconvert_exporter": "python",
   "pygments_lexer": "ipython3",
   "version": "3.6.4"
  },
  "toc": {
   "base_numbering": 1,
   "nav_menu": {},
   "number_sections": true,
   "sideBar": true,
   "skip_h1_title": false,
   "title_cell": "Table of Contents",
   "title_sidebar": "Contents",
   "toc_cell": false,
   "toc_position": {},
   "toc_section_display": true,
   "toc_window_display": false
  }
 },
 "nbformat": 4,
 "nbformat_minor": 1
}
