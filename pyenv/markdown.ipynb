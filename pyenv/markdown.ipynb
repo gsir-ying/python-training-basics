{
 "cells": [
  {
   "cell_type": "markdown",
   "metadata": {
    "slideshow": {
     "slide_type": "slide"
    }
   },
   "source": [
    "# Markdown\n",
    "\n",
    "[Markdown](http://daringfireball.net/projects/markdown/)是一种轻量级标记语言，创始人是约翰·格鲁伯（John Gruber），其目标是实现在Web上的易写易读；Markdown语法非常简洁，使得写作过程能更专注于内容；使用高效，通过键盘输入就可以嵌入$\\LaTeX$公式、链接、图片、音频视频等富文本，可以轻松导出HTML、PDF格式文件。Markdown目的不是要替代HTML，实际上是HTML一个小的子集，可以直接在文档中插入HTML内容。\n",
    "\n",
    "Markdown文件通常使用`.md`后缀，常被称为MD文件。利用一些命令行工具（如[Pandoc](http://pandoc.org/)，或[Gitbook](https://github.com/GitbookIO/gitbook)）可以把MD文件转换为HTML、PDF、Word等格式文档。"
   ]
  },
  {
   "cell_type": "markdown",
   "metadata": {
    "slideshow": {
     "slide_type": "slide"
    }
   },
   "source": [
    "## Markdown语法要素\n",
    "\n",
    "* 注释\n",
    "* 标题\n",
    "* 段落\n",
    "* 文本样式\n",
    "* 代码段\n",
    "* 表格\n",
    "* 数学公式\n",
    "* 超链接\n",
    "* 富文本"
   ]
  },
  {
   "cell_type": "markdown",
   "metadata": {
    "slideshow": {
     "slide_type": "slide"
    }
   },
   "source": [
    "## 注释\n",
    "\n",
    "对于大多编程语言，在某些代码附近，都可以添加用于提醒说明的注释语句。Markdown语法中没有专门的注释符，只能使用HTML语法：\n",
    "\n",
    "实际效果为（无显示）：\n",
    "<!-- 注释行，不会显示 -->"
   ]
  },
  {
   "cell_type": "markdown",
   "metadata": {
    "slideshow": {
     "slide_type": "slide"
    }
   },
   "source": [
    "### 标题（Headers）\n",
    "\n",
    "** atx风格 **  \n",
    "在文字前面加上`#`即可，几级标题就加上几个`#`，标题符合`#`闭合可选。"
   ]
  },
  {
   "cell_type": "markdown",
   "metadata": {
    "slideshow": {
     "slide_type": "-"
    }
   },
   "source": [
    "#  第1章 Header 1\n",
    "## Header 2\n",
    "### Header 3\n",
    "#### Header 4\n",
    "##### Header 5\n",
    "###### Header 6"
   ]
  },
  {
   "cell_type": "markdown",
   "metadata": {
    "slideshow": {
     "slide_type": "slide"
    }
   },
   "source": [
    "**Setext风格**  "
   ]
  },
  {
   "cell_type": "markdown",
   "metadata": {
    "slideshow": {
     "slide_type": "-"
    }
   },
   "source": [
    "Header 1\n",
    "========\n",
    "\n",
    "Header 2\n",
    "--------\n",
    "\n",
    "### Header 3\n",
    "#### Header 4\n",
    "##### Header 5\n",
    "###### Header 6\n"
   ]
  },
  {
   "cell_type": "markdown",
   "metadata": {
    "slideshow": {
     "slide_type": "slide"
    }
   },
   "source": [
    "## 段落（Paragraph）\n",
    "\n",
    "Markdown段落由一个或多个文本行组成，段落前后要有一个以上的空行。同一段落内的文本行如果只是回车，会自动串接起来，并没有换行。如果需要强制换行，必须在行尾增加2个以上的空格并回车。\n",
    "\n",
    "Paragraph 1 (no line break)：\n",
    "Text line 1；\n",
    "Text line 2.\n",
    "\n",
    "Paragraph 2 (line break)：  \n",
    "Text line 1；  \n",
    "Text line 2.  "
   ]
  },
  {
   "cell_type": "markdown",
   "metadata": {
    "slideshow": {
     "slide_type": "slide"
    }
   },
   "source": [
    "## 文本格式化\n",
    "\n",
    "文本格式化有如下："
   ]
  },
  {
   "cell_type": "markdown",
   "metadata": {
    "slideshow": {
     "slide_type": "slide"
    }
   },
   "source": [
    "### 样式 \n",
    "\n",
    "* 把文本内容用`*`或`_`号括起来，则文本显示为**斜体**：\n",
    "  - `*italic*`结果显示为：*italic*\n",
    "  - `_italic_`结果显示为：_italic_\n",
    "\n",
    "* 把文本内容用`**`或`__`号括起来，则文本显示为**强调**：\n",
    "  - `**bold**`结果显示为：**bold**\n",
    "  - `__bold__`结果显示为：__bold__"
   ]
  },
  {
   "cell_type": "markdown",
   "metadata": {
    "slideshow": {
     "slide_type": "slide"
    }
   },
   "source": [
    "* 把文本内容用`***`或`___`号括起来，则文本显示为***粗斜体***：\n",
    "  - `***bold italic***`结果显示为：***bold italic***\n",
    "  - `___bold italic___`结果显示为：___bold italic___    \n",
    "\n",
    "* 把文本内容用`~~`括起来，则文本显示为**删除线**：\n",
    "  - `~~strikethrough~~`结果显示为： ~~strikethrough~~"
   ]
  },
  {
   "cell_type": "markdown",
   "metadata": {
    "slideshow": {
     "slide_type": "slide"
    }
   },
   "source": [
    "### 列表 \n",
    "\n",
    "无序列表使用星号（`*`）、加号(`+`)或是减号(`-`)作为列表标记，例如：\n",
    "\n",
    "- Red\n",
    "    + Red 1\n",
    "    + Red 2\n",
    "        - Red 2.1\n",
    "- Green  \n",
    "  I love green.  \n",
    "- Blue\n",
    "    + Blue 1  \n",
    "     Blue sky and white cloud\n",
    "        "
   ]
  },
  {
   "cell_type": "markdown",
   "metadata": {
    "slideshow": {
     "slide_type": "slide"
    }
   },
   "source": [
    "### 列表 \n",
    "\n",
    "1. 数字  \n",
    "2. 字符串  \n",
    "3. 容器\n"
   ]
  },
  {
   "cell_type": "markdown",
   "metadata": {
    "slideshow": {
     "slide_type": "slide"
    }
   },
   "source": [
    "### 引用\n",
    "\n",
    "Markdown的文字引用使用email的类似方法，在对应内容前面加上符号`>`即可。引用内仍可用Markdown语法。例如源码为：\n",
    "\n",
    "> Python是动态的面向对象的高级语言，可以说：\n",
    "> > 万物皆对象"
   ]
  },
  {
   "cell_type": "markdown",
   "metadata": {
    "slideshow": {
     "slide_type": "slide"
    }
   },
   "source": [
    "> #### 标题列表也可引用\n",
    "> \n",
    "> * 无序列表；\n",
    "> * 有序列表.\n"
   ]
  },
  {
   "cell_type": "markdown",
   "metadata": {
    "slideshow": {
     "slide_type": "slide"
    }
   },
   "source": [
    "## 转义符号\n",
    "\n",
    "可以使用反斜线`\\`实现Markdown的元字符转义。Markdown的元字符包括：\n",
    "\n",
    "> \\\\   反斜线  \n",
    "> \\`   反引号  \n",
    "> \\*   星号  \n",
    "> \\_   下划线  \n",
    "> \\{\\}  大括号  \n",
    "> \\[\\]  中括号  \n",
    "> \\(\\)  小括号  \n",
    "> \\#   井号  \n",
    "> \\+   加号  \n",
    "> \\-   减号（连字符）  \n",
    "> \\.   句点  \n",
    "> \\!   感叹号  "
   ]
  },
  {
   "cell_type": "markdown",
   "metadata": {
    "slideshow": {
     "slide_type": "slide"
    }
   },
   "source": [
    "### 水平线\n",
    "\n",
    "水平线使用三个或更多的破折号`-`或星号`*`实现。\n",
    "\n",
    "---  \n",
    "\n",
    "***\n"
   ]
  },
  {
   "cell_type": "markdown",
   "metadata": {
    "slideshow": {
     "slide_type": "slide"
    }
   },
   "source": [
    "## 代码段\n",
    "\n",
    "在Markdown中，有时需要显示一段程序源码的原始样子，有如下方法可以实现：\n",
    "\n",
    "- 使用反引号单符号\\`，双符号\\`\\`，三符号\\`\\`\\` \n",
    "\n",
    "- 缩进4个空格或是1个制表符\n",
    "\n",
    "- 使用HTML标签`<pre>`"
   ]
  },
  {
   "cell_type": "markdown",
   "metadata": {
    "slideshow": {
     "slide_type": "slide"
    }
   },
   "source": [
    "如果要在行内标记一小段代码，可以使用单个反引号(\\`)把内容包括起来：\n",
    "    \n",
    "Use the `printf()` function."
   ]
  },
  {
   "cell_type": "markdown",
   "metadata": {
    "slideshow": {
     "slide_type": "slide"
    }
   },
   "source": [
    "如果代码已经包含反引号，可以使用多个反引号来包含该代码。\n",
    "\n",
    "``There is a literal backtick (`) here.``"
   ]
  },
  {
   "cell_type": "markdown",
   "metadata": {
    "slideshow": {
     "slide_type": "slide"
    }
   },
   "source": [
    "使用三个反引号来包含大段代码。\n",
    "```python\n",
    "def f(x):\n",
    "    \"\"\"a docstring\"\"\"\n",
    "    return x**2\n",
    "```\n"
   ]
  },
  {
   "cell_type": "markdown",
   "metadata": {
    "slideshow": {
     "slide_type": "slide"
    }
   },
   "source": [
    "在Jupyter Notebook中的Markdown，支持Github风格代码显示（指定语言实现高亮显示）。\n",
    "\n",
    "```sh\n",
    "$ jupyter notebook\n",
    "```"
   ]
  },
  {
   "cell_type": "markdown",
   "metadata": {
    "slideshow": {
     "slide_type": "slide"
    }
   },
   "source": [
    "```python\n",
    "print('Hello, Python')\n",
    "```"
   ]
  },
  {
   "cell_type": "markdown",
   "metadata": {
    "slideshow": {
     "slide_type": "slide"
    }
   },
   "source": [
    "```c\n",
    "for (i=0; i<n; i++) \n",
    "{\n",
    "    printf(\"hello %d\\n\", i);\n",
    "    x += 4;\n",
    "}\n",
    "``` "
   ]
  },
  {
   "cell_type": "markdown",
   "metadata": {
    "slideshow": {
     "slide_type": "slide"
    }
   },
   "source": [
    "## 表格\n",
    "\n",
    "在Markdown中编写表格，可以使用:\n",
    "* Markdown标记生成表格\n",
    "* 也可以使用HTML标签实现表格。"
   ]
  },
  {
   "cell_type": "markdown",
   "metadata": {
    "slideshow": {
     "slide_type": "slide"
    }
   },
   "source": [
    "| 对象      | 类      | 说明   |\n",
    "| :----------:|:-----| -------: |\n",
    "| 1024     | int     | 整数   |\n",
    "| 1.0      | float   | 浮点数   |\n",
    "| True     | bool    | 布尔数   |\n",
    "| 1.0+1.0J   | complex    | 复数   |\n",
    "| 'a string'  | str    | 字符串   |\n",
    "| [1, 2, 3]   | list    | 列表   |\n",
    "\n",
    "\n",
    "* `|colname|`表示列名\n",
    "* `| :--- |`表示居左， \n",
    "* `| :---: |`表示居中, \n",
    "* `| ---: |`表示居右。"
   ]
  },
  {
   "cell_type": "markdown",
   "metadata": {
    "slideshow": {
     "slide_type": "slide"
    }
   },
   "source": [
    "## $\\LaTeX{}$公式\n",
    "\n",
    "Markdown语法解析器包括[`MathJax`模块](https://www.mathjax.org/)，故可在Markdown中混入$\\LaTeX{}$公式。\n",
    "\n",
    "可以在行内插入数学表达式：\n",
    "\n",
    "爱因斯坦质能方程：$E = m c^2$。"
   ]
  },
  {
   "cell_type": "markdown",
   "metadata": {
    "slideshow": {
     "slide_type": "slide"
    }
   },
   "source": [
    "也可以单独一行给出数学公式：\n",
    "\n",
    "$$e^x=\\sum_{i=0}^\\infty \\frac{1}{i!}x^i$$"
   ]
  },
  {
   "cell_type": "markdown",
   "metadata": {
    "slideshow": {
     "slide_type": "slide"
    }
   },
   "source": [
    "## 超链接\n",
    "\n",
    "Markdown语法支持两类链接语法风格：  \n",
    "- 内联链接：  \n",
    "```\n",
    "[link text](URL \"Optional title\")\n",
    "```\n",
    "其中：1）方括号内为链接文本；2）小括号内为URL链接地址，以及标题文字（可选）。\n",
    "\n",
    "- 引用链接：  \n",
    "```\n",
    "[link text][id]\n",
    "```  \n",
    "其中：1）方括号内为链接文本；2）第二个方括内的`[id]`为链接地址的参考标识，其定义方式为：     \n",
    "\n",
    "```\n",
    "[id]: URL \"Optional title\"\n",
    "```"
   ]
  },
  {
   "cell_type": "markdown",
   "metadata": {
    "slideshow": {
     "slide_type": "slide"
    }
   },
   "source": [
    "** 内联链接示例 **\n",
    "\n",
    "> 更多内容参见[IPython官网](http://ipython.org \"ipython\")\n",
    "\n",
    "> 单击[IPython使用指南](IPythonCookbook.ipynb \"ipython cookbook\")，开始学习IPython。"
   ]
  },
  {
   "cell_type": "markdown",
   "metadata": {
    "slideshow": {
     "slide_type": "slide"
    }
   },
   "source": [
    "** 引用链接示例 **\n",
    "\n",
    "> 更多内容参见[IPython官网][ipythonHomepage]  \n",
    "> 单击[IPython使用指南](ipythonCookbook)，开始学习IPython。\n",
    "\n",
    "[ipythonHomepage]: http://ipython.org \"ipython\"\n",
    "[ipythonCookbook]: IPythonCookbook.ipynb \"ipython cookbook\""
   ]
  },
  {
   "cell_type": "markdown",
   "metadata": {
    "slideshow": {
     "slide_type": "slide"
    }
   },
   "source": [
    "** 自动链接 **\n",
    "\n",
    "Markdown提供了更为快捷的链接方式，用一对尖括号包括URL或Email地址，可以实现链接和Email地址的自动链接：\n",
    "\n",
    "- URL自动链接  \n",
    "更多内容参见<http://ipython.org>\n",
    "\n",
    "- Email地址自动链接  \n",
    "我的邮件地址：<whwang@shao.ac.cn>"
   ]
  },
  {
   "cell_type": "markdown",
   "metadata": {
    "slideshow": {
     "slide_type": "slide"
    }
   },
   "source": [
    "## 富文本\n",
    "\n",
    "Markdown语法中可以输入富文本:\n",
    "* 图像\n",
    "* 音频\n",
    "* 视频"
   ]
  },
  {
   "cell_type": "markdown",
   "metadata": {
    "slideshow": {
     "slide_type": "slide"
    }
   },
   "source": [
    "** 图像 **\n",
    "\n",
    "* 使用Markdown方法:\n",
    "    - 内联式(inline)\n",
    "    - 引用式两种方法。\n",
    "* 使用HTML方式"
   ]
  },
  {
   "cell_type": "markdown",
   "metadata": {
    "slideshow": {
     "slide_type": "slide"
    }
   },
   "source": [
    "```\n",
    "![Alt text](/path/picture.png \"Optional title\")\n",
    "```\n",
    "* 以惊叹号`!`起始；\n",
    "* 方括号内为图片的替代文字\n",
    "* 圆括号为图像文件路径，或网络地址；\n",
    "* 圆括号内可选择加入标题文字。\n",
    "\n",
    "![IPython标识](assets/ipython_logo.png \"IPython标题\")"
   ]
  },
  {
   "cell_type": "markdown",
   "metadata": {
    "slideshow": {
     "slide_type": "slide"
    }
   },
   "source": [
    "使用Markdown语法无法实现，并排插入多张图片或将插入图片居中显示，又或者是类似固定显示图片的宽度与高度。调用 HTML 语法就可以轻松搞定。"
   ]
  },
  {
   "cell_type": "markdown",
   "metadata": {
    "slideshow": {
     "slide_type": "slide"
    }
   },
   "source": [
    "<center>\n",
    "    <img src=\"assets/ipython_logo.png\">\n",
    "</center>"
   ]
  },
  {
   "cell_type": "markdown",
   "metadata": {
    "slideshow": {
     "slide_type": "slide"
    }
   },
   "source": [
    "固定图片宽度/高度：\n",
    "\n",
    "<center>\n",
    "    <img src=\"assets/ipython_logo.png\" title=\"Logo\" width=\"100\" />\n",
    "</center>"
   ]
  },
  {
   "cell_type": "markdown",
   "metadata": {
    "slideshow": {
     "slide_type": "slide"
    }
   },
   "source": [
    "<figure class=\"half\">\n",
    "    <img src=\"assets/ipython_logo.png\" width=\"100\">\n",
    "    <img src=\"assets/ipython_logo.png\" width=\"100\">\n",
    "</figure>"
   ]
  },
  {
   "cell_type": "markdown",
   "metadata": {
    "slideshow": {
     "slide_type": "slide"
    }
   },
   "source": [
    "** 音频和视频 **\n",
    "\n",
    "内嵌音频和视频，只能使用HTML5的`audio`和`video`标签。\n",
    "- 内嵌音频源码为：\n",
    "```html\n",
    "<audio controls src=\"assets/APCHY.mp3\" />\n",
    "```\n",
    "\n",
    "- 内嵌视频源码为：\n",
    "```html\n",
    "<video controls src=\"assets/animation.m4v\" />\n",
    "```"
   ]
  },
  {
   "cell_type": "markdown",
   "metadata": {
    "slideshow": {
     "slide_type": "slide"
    }
   },
   "source": [
    "<video controls src=\"assets/animation.m4v\" />"
   ]
  },
  {
   "cell_type": "markdown",
   "metadata": {
    "slideshow": {
     "slide_type": "slide"
    }
   },
   "source": [
    "<audio controls src=\"assets/APCHY.mp3\" />"
   ]
  },
  {
   "cell_type": "markdown",
   "metadata": {
    "slideshow": {
     "slide_type": "slide"
    }
   },
   "source": [
    "## 小结\n",
    "\n",
    "* 文本排版\n",
    "* 表格\n",
    "* 数学\n",
    "* 超链接\n",
    "* 富文本"
   ]
  }
 ],
 "metadata": {
  "celltoolbar": "Slideshow",
  "kernelspec": {
   "display_name": "Python 3",
   "language": "python",
   "name": "python3"
  },
  "language_info": {
   "codemirror_mode": {
    "name": "ipython",
    "version": 3
   },
   "file_extension": ".py",
   "mimetype": "text/x-python",
   "name": "python",
   "nbconvert_exporter": "python",
   "pygments_lexer": "ipython3",
   "version": "3.6.4"
  },
  "toc": {
   "base_numbering": 1,
   "nav_menu": {},
   "number_sections": true,
   "sideBar": true,
   "skip_h1_title": false,
   "title_cell": "Table of Contents",
   "title_sidebar": "Contents",
   "toc_cell": false,
   "toc_position": {},
   "toc_section_display": true,
   "toc_window_display": false
  }
 },
 "nbformat": 4,
 "nbformat_minor": 1
}
