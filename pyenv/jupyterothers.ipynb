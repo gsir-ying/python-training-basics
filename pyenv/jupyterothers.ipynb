{
 "cells": [
  {
   "cell_type": "markdown",
   "metadata": {
    "slideshow": {
     "slide_type": "slide"
    }
   },
   "source": [
    "# Jupyter 其他工具\n",
    "\n",
    "* Nbconvert"
   ]
  },
  {
   "cell_type": "markdown",
   "metadata": {
    "slideshow": {
     "slide_type": "slide"
    }
   },
   "source": [
    "使用nbconvert转换Jupyter Notebook为其它格式文件，实现如下目标：\n",
    "* 转换文档用于展示，例如PDF。\n",
    "* 转换为$\\LaTeX$格式用于学术出版，在文章或书籍中内嵌notebook。\n",
    "* 转换为HTML文件，通过网页实现内容共享。\n",
    "* 与那些工作不涉及notebook的人们协作。"
   ]
  },
  {
   "cell_type": "markdown",
   "metadata": {
    "slideshow": {
     "slide_type": "slide"
    }
   },
   "source": [
    "> 使用nbconvert需要安装[Pandoc](http://pandoc.org/)。"
   ]
  },
  {
   "cell_type": "markdown",
   "metadata": {
    "slideshow": {
     "slide_type": "slide"
    }
   },
   "source": [
    "当前nbconvert可转换格式包括：\n",
    "* HTML\n",
    "* $\\LaTeX$\n",
    "* markdown\n",
    "* notebook\n",
    "* pdf\n",
    "* python\n",
    "* rst\n",
    "* script\n",
    "* slides\n",
    "* custom"
   ]
  },
  {
   "cell_type": "markdown",
   "metadata": {
    "slideshow": {
     "slide_type": "slide"
    }
   },
   "source": [
    "## 转换为HTML文件\n",
    "\n",
    "nbconvert缺省输出为HTML格式，在命令终端输入：\n",
    "```sh\n",
    "$ jupyter nbconvert mynotebook.ipynb\n",
    "```\n",
    "会创建一个HTML文件`mynotebook.html`\n",
    "\n",
    "转换HTML文件时，支持不同的输出模板。使用`--template`选项指定模板，例如`basic`、`full`等。"
   ]
  },
  {
   "cell_type": "code",
   "execution_count": null,
   "metadata": {
    "collapsed": true,
    "slideshow": {
     "slide_type": "slide"
    }
   },
   "outputs": [],
   "source": [
    "# run nbconvert to convert a mynotebook.ipynb to mynotebook.html\n",
    "# !jupyter nbconvert data/mynotebook.ipynb"
   ]
  },
  {
   "cell_type": "markdown",
   "metadata": {
    "slideshow": {
     "slide_type": "slide"
    }
   },
   "source": [
    "## 转换$\\LaTeX$格式文档\n",
    "\n",
    "在命令终端输入：\n",
    "```sh\n",
    "$ jupyter nbconvert --to latex mynotebook.ipynb\n",
    "```\n",
    "会创建一个`article`类的TeX文件`mynotebook.tex`"
   ]
  },
  {
   "cell_type": "markdown",
   "metadata": {
    "slideshow": {
     "slide_type": "slide"
    }
   },
   "source": [
    "与HTML一样，$\\LaTeX$文件支持不同输出模板。使用`--template`选项指定模板，例如`article`、`report`等。\n",
    "\n",
    "可以自行修改tex模板文件，例如\n"
   ]
  },
  {
   "cell_type": "markdown",
   "metadata": {
    "slideshow": {
     "slide_type": "slide"
    }
   },
   "source": [
    "nbformat对中文支持不太友好，可以人工修改TeX文件，再运行生成pdf文件\n",
    "```sh\n",
    "$ xelatex chap01.tex\n",
    "```"
   ]
  },
  {
   "cell_type": "code",
   "execution_count": null,
   "metadata": {
    "collapsed": true,
    "slideshow": {
     "slide_type": "slide"
    }
   },
   "outputs": [],
   "source": [
    "# run nbconvert to convert a mynotebook.ipynb to mynotebook.html\n",
    "# !jupyter nbconvert --to latex data/mynotebook.ipynb"
   ]
  },
  {
   "cell_type": "markdown",
   "metadata": {
    "slideshow": {
     "slide_type": "slide"
    }
   },
   "source": [
    "## 转换PDF文档\n",
    "\n",
    "在命令终端输入：\n",
    "```sh\n",
    "$ jupyter nbconvert --to pdf mynotebook.ipynb\n",
    "```\n",
    "会创建一个PDF文档`mynotebook.pdf`。程序实际上先生成TeX文件，然后再编译为PDF文档。如果没有安装`\\LaTeX`环境，会无法创建PDF文件并报错。\n"
   ]
  },
  {
   "cell_type": "code",
   "execution_count": null,
   "metadata": {
    "collapsed": true,
    "slideshow": {
     "slide_type": "slide"
    }
   },
   "outputs": [],
   "source": [
    "# run nbconvert to convert a mynotebook.ipynb to mynotebook.html\n",
    "# !jupyter nbconvert --to pdf data/mynotebook.ipynb"
   ]
  },
  {
   "cell_type": "markdown",
   "metadata": {
    "slideshow": {
     "slide_type": "slide"
    }
   },
   "source": [
    "## 转换Markdown和RST文档\n",
    "\n",
    "转换Markdown文档：\n",
    "```sh\n",
    "$ jupyter nbconvert --to markdown mynotebook.ipynb\n",
    "```\n",
    "\n",
    "转换rst文档：\n",
    "```sh\n",
    "$ jupyter nbconvert --to rst mynotebook.ipynb\n",
    "```"
   ]
  },
  {
   "cell_type": "code",
   "execution_count": null,
   "metadata": {
    "collapsed": true,
    "slideshow": {
     "slide_type": "slide"
    }
   },
   "outputs": [],
   "source": [
    "# run nbconvert to convert a mynotebook.ipynb to mynotebook.md\n",
    "# !jupyter nbconvert --to markdown data/mynotebook.ipynb"
   ]
  },
  {
   "cell_type": "code",
   "execution_count": null,
   "metadata": {
    "collapsed": true,
    "slideshow": {
     "slide_type": "slide"
    }
   },
   "outputs": [],
   "source": [
    "# run nbconvert to convert a mynotebook.ipynb to mynotebook.rst\n",
    "# !jupyter nbconvert --to rst data/mynotebook.ipynb"
   ]
  },
  {
   "cell_type": "markdown",
   "metadata": {
    "slideshow": {
     "slide_type": "slide"
    }
   },
   "source": [
    "#### 转换为Python代码文件\n",
    "\n",
    "提取notebook中的Python源代码，输入：\n",
    "```sh\n",
    "$ jupyter nbconvert --to python mynotebook.ipynb\n",
    "```"
   ]
  },
  {
   "cell_type": "code",
   "execution_count": null,
   "metadata": {
    "collapsed": true,
    "slideshow": {
     "slide_type": "slide"
    }
   },
   "outputs": [],
   "source": [
    "# run nbconvert to convert a mynotebook.ipynb to mynotebook.py\n",
    "# !jupyter nbconvert --to python data/mynotebook.ipynb"
   ]
  },
  {
   "cell_type": "markdown",
   "metadata": {
    "slideshow": {
     "slide_type": "slide"
    }
   },
   "source": [
    "## 转换为script文档\n",
    "\n",
    "转换为指定内核的代码文档，在命令终端输入：\n",
    "```sh\n",
    "$ jupyter nbconvert --to script mynotebook.ipynb\n",
    "```\n",
    "\n",
    "对于Python内核，输出的仍然是Python代码文件内容一样。"
   ]
  },
  {
   "cell_type": "code",
   "execution_count": null,
   "metadata": {
    "collapsed": true,
    "slideshow": {
     "slide_type": "slide"
    }
   },
   "outputs": [],
   "source": [
    "# run nbconvert to convert a mynotebook.ipynb to script file\n",
    "# jupyter nbconvert --to script data/mynotebook.ipynb"
   ]
  },
  {
   "cell_type": "markdown",
   "metadata": {
    "slideshow": {
     "slide_type": "slide"
    }
   },
   "source": [
    "#### 转换notebook文档\n",
    "\n",
    "要实现不同版本notebook之间转换，输入：\n",
    "```sh\n",
    "$ jupyter nbconvert --to notebook --nbformat 4 mynotebook.ipynb\n",
    "```"
   ]
  }
 ],
 "metadata": {
  "celltoolbar": "Slideshow",
  "kernelspec": {
   "display_name": "Python 3",
   "language": "python",
   "name": "python3"
  },
  "language_info": {
   "codemirror_mode": {
    "name": "ipython",
    "version": 3
   },
   "file_extension": ".py",
   "mimetype": "text/x-python",
   "name": "python",
   "nbconvert_exporter": "python",
   "pygments_lexer": "ipython3",
   "version": "3.6.4"
  },
  "toc": {
   "base_numbering": 1,
   "nav_menu": {},
   "number_sections": true,
   "sideBar": true,
   "skip_h1_title": false,
   "title_cell": "Table of Contents",
   "title_sidebar": "Contents",
   "toc_cell": false,
   "toc_position": {},
   "toc_section_display": true,
   "toc_window_display": false
  }
 },
 "nbformat": 4,
 "nbformat_minor": 1
}
