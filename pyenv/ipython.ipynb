{
 "cells": [
  {
   "cell_type": "markdown",
   "metadata": {
    "slideshow": {
     "slide_type": "slide"
    }
   },
   "source": [
    "# IPython"
   ]
  },
  {
   "cell_type": "markdown",
   "metadata": {
    "slideshow": {
     "slide_type": "slide"
    }
   },
   "source": [
    "[IPython](http://ipython.org/)是一个增强的交互式Python，目标是提供一个用于交互计算的富架构系统，功能特点为：\n",
    "* 强大的交互shell；\n",
    "* Jupyter内核；\n",
    "* 使用GUI工具箱，支持交互数据可视化；\n",
    "* 易用、高性能的并行计算工具。"
   ]
  },
  {
   "cell_type": "markdown",
   "metadata": {
    "slideshow": {
     "slide_type": "slide"
    }
   },
   "source": [
    "IPython自身提供有命令式交互界面，同时也可作为Jupyter的Python内核。也就是说，在Jupyter Notebook的代码单元中操作与IPythong的交互操作基本相同，在IPython中运行的语句也可以在Jupyter Notebook代码单元中运行，反之亦然。\n",
    "\n",
    "IPython功能强大，内容繁多。本节仅围绕其高效能、交互式和并行计算的特点，简单介绍其最为常用的功能和语法。更多内容参见附录A的[IPython使用指南](IPythonCookbook.ipynb)。"
   ]
  },
  {
   "cell_type": "markdown",
   "metadata": {
    "slideshow": {
     "slide_type": "slide"
    }
   },
   "source": [
    "> 注：在Jupyter Notebook（Python内核）代码单元中的提示符与IPython交互界面提示符一样，输入语句相同则执行结果也相同；不同的是，在IPython环境下，按回车键即执行语句，而在Jupyter Notebook环境中则会使用`shift + enter`或`Alt+Enter`组合。为了简化，统一使用IPython语境来说明描述。也就是说，当提到“IPython提示符下输入语句”，如果是在Jupyter Notebook环境，则实际意思是在代码单元提示符下输入语句；当提到“按回车键执行”时，如果在Jupyter Notebook环境中，其实际意思是按`shift + enter`或其它执行来执行操作。如果二者有差别，会特别加以区别。"
   ]
  },
  {
   "cell_type": "markdown",
   "metadata": {
    "slideshow": {
     "slide_type": "slide"
    }
   },
   "source": [
    "## 纯的Python\n",
    "\n",
    "须明白，IPython首先是个纯的Python。也就是说，在IPython中能够执行任何Python语句。"
   ]
  },
  {
   "cell_type": "markdown",
   "metadata": {
    "slideshow": {
     "slide_type": "slide"
    }
   },
   "source": [
    "## 功能概述\n",
    "\n",
    "在IPython提示符中，输入命令`?`：\n",
    "```python\n",
    "In [4]: ?\n",
    "\n",
    "IPython -- An enhanced Interactive Python\n",
    "=========================================\n",
    "...\n",
    "```\n",
    "会列出IPython的简介及主要功能概述。而在Jupyter Notebook环境中，则会弹出`Jupyter Pager`列出相同内容"
   ]
  },
  {
   "cell_type": "code",
   "execution_count": 1,
   "metadata": {
    "slideshow": {
     "slide_type": "slide"
    }
   },
   "outputs": [],
   "source": [
    "?"
   ]
  },
  {
   "cell_type": "markdown",
   "metadata": {
    "slideshow": {
     "slide_type": "slide"
    }
   },
   "source": [
    "在IPython输入：\n",
    "```python\n",
    "In [4]: %quickref\n",
    "IPython -- An enhanced Interactive Python - Quick Reference Card\n",
    "================================================================\n",
    "...\n",
    "```\n",
    "会列出IPython的快速参考指南卡片。"
   ]
  },
  {
   "cell_type": "code",
   "execution_count": null,
   "metadata": {
    "slideshow": {
     "slide_type": "slide"
    }
   },
   "outputs": [],
   "source": [
    "%quickref"
   ]
  },
  {
   "cell_type": "markdown",
   "metadata": {
    "slideshow": {
     "slide_type": "slide"
    }
   },
   "source": [
    "IPython的优势是高效能、交互式，其主要功能有：\n",
    "* Tab键自动补全\n",
    "* 自省和帮助\n",
    "* 扩展SHELL\n",
    "* 魔术命令\n",
    "* 输入输出历史"
   ]
  },
  {
   "cell_type": "markdown",
   "metadata": {
    "slideshow": {
     "slide_type": "slide"
    }
   },
   "source": [
    "## Tab键自动补全"
   ]
  },
  {
   "cell_type": "markdown",
   "metadata": {
    "slideshow": {
     "slide_type": "slide"
    }
   },
   "source": [
    "\n",
    "\n",
    "输入命令、变量名或函数时，偶尔大脑也会卡壳一下。单击Tab建会帮助补全想要输入的内容或者列出可能的命令或变量列表供选择。例如想输入`isinstance`，输入`isi`时按下Tab键，会自动补全为`isinstance`：\n",
    "```python\n",
    "In [1]: isi<TAB>\n",
    "```"
   ]
  },
  {
   "cell_type": "markdown",
   "metadata": {
    "slideshow": {
     "slide_type": "slide"
    }
   },
   "source": [
    "> IPython的Tab键自动补全功能依赖readline模块，在Windows系统未安装readline模块时该功能会失效，参见附录Python套件安装。"
   ]
  },
  {
   "cell_type": "code",
   "execution_count": null,
   "metadata": {
    "slideshow": {
     "slide_type": "slide"
    }
   },
   "outputs": [],
   "source": [
    "# type isi<TAB>  below"
   ]
  },
  {
   "cell_type": "markdown",
   "metadata": {
    "slideshow": {
     "slide_type": "slide"
    }
   },
   "source": [
    "使用Tab键还可以进行动态对象提示。例如，先导入sys模块，输入`sys.<TAB>`（`<TAB>`表示按下Tab键），IPython会列出sys模块的方法和属性，然后等待继续输入：\n",
    "```python\n",
    "In [1]: import sys\n",
    "\n",
    "In [2]: sys.<TAB>\n",
    "sys.abiflags               sys.getcheckinterval       sys.path_importer_cache\n",
    "sys.api_version            sys.getdefaultencoding     sys.platform\n",
    "sys.argv                   sys.getdlopenflags         sys.prefix\n",
    "sys.base_exec_prefix       sys.getfilesystemencoding  sys.ps1\n",
    "sys.base_prefix            sys.getprofile             sys.ps2\n",
    "sys.builtin_module_names   sys.getrecursionlimit      sys.ps3\n",
    "sys.byteorder              sys.getrefcount            sys.set_coroutine_wrapper\n",
    "sys.call_tracing           sys.getsizeof              sys.setcheckinterval\n",
    "sys.callstats              sys.getswitchinterval      sys.setdlopenflags\n",
    "sys.copyright              sys.gettrace               sys.setprofile\n",
    "sys.displayhook            sys.hash_info              sys.setrecursionlimit\n",
    "sys.dont_write_bytecode    sys.hexversion             sys.setswitchinterval\n",
    "sys.exc_info               sys.implementation         sys.settrace\n",
    "sys.excepthook             sys.int_info               sys.stderr\n",
    "sys.exec_prefix            sys.intern                 sys.stdin\n",
    "sys.executable             sys.is_finalizing          sys.stdout\n",
    "sys.exit                   sys.maxsize                sys.thread_info\n",
    "sys.flags                  sys.maxunicode             sys.version\n",
    "sys.float_info             sys.meta_path              sys.version_info\n",
    "sys.float_repr_style       sys.modules                sys.warnoptions\n",
    "sys.get_coroutine_wrapper  sys.path                   \n",
    "sys.getallocatedblocks     sys.path_hooks             \n",
    "\n",
    "In [2]: sys.\n",
    "```"
   ]
  },
  {
   "cell_type": "code",
   "execution_count": null,
   "metadata": {
    "slideshow": {
     "slide_type": "slide"
    }
   },
   "outputs": [],
   "source": [
    "import sys\n",
    "# type sys.<TAB> below"
   ]
  },
  {
   "cell_type": "markdown",
   "metadata": {
    "slideshow": {
     "slide_type": "slide"
    }
   },
   "source": [
    "注意：在Python中，默认下划线`_`为前缀的变量为私有变量，以下划线`_`开头的属性和方法是私有的。故而Tab补全仅仅列出非下划线`_`开头的变量、属性或方法。\n",
    "\n",
    "如果需要强制列出IPython交互空间的私有变量，在按下Tab键前输入下划线`_`：\n",
    "```python\n",
    "In [12]: _<TAB>\n",
    "_                  __doc__            _i10               _i9\n",
    "_2                 __import__         _i11               _ih\n",
    "__                 __loader__         _i2                _ii\n",
    "__IPYTHON__        __name__           _i3                _iii\n",
    "__IPYTHON__active  __package__        _i4                _oh\n",
    "___                __spec__           _i5                _sh\n",
    "__build_class__    _dh                _i6                \n",
    "__builtin__        _i                 _i7                \n",
    "__debug__          _i1                _i8                \n",
    "\n",
    "```"
   ]
  },
  {
   "cell_type": "markdown",
   "metadata": {
    "slideshow": {
     "slide_type": "slide"
    }
   },
   "source": [
    "如果需要列出`sys`模块的私有属性和方法，键入如下：\n",
    "```python\n",
    "In [2]: sys._<TAB>\n",
    "sys.__displayhook__      sys.__package__          sys._current_frames\n",
    "sys.__doc__              sys.__plen               sys._debugmallocstats\n",
    "sys.__egginsert          sys.__spec__             sys._getframe\n",
    "sys.__excepthook__       sys.__stderr__           sys._home\n",
    "sys.__interactivehook__  sys.__stdin__            sys._mercurial\n",
    "sys.__loader__           sys.__stdout__           sys._xoptions\n",
    "sys.__name__             sys._clear_type_cache    \n",
    "```"
   ]
  },
  {
   "cell_type": "markdown",
   "metadata": {
    "slideshow": {
     "slide_type": "slide"
    }
   },
   "source": [
    "Tab键补全功能免去记忆之苦，输入更加便利，随着年纪增大，会越来越频繁地使用Tab键。不过，对于初学者，建议先不使用Tab键功能，多输入会记得牢Python的命令和函数，加快学习进度。\n",
    "\n",
    "Python哲学中没有真正的私有和隐藏，这就像是“大家都是成年人了”，你得对自己的行为负责。"
   ]
  },
  {
   "cell_type": "markdown",
   "metadata": {
    "slideshow": {
     "slide_type": "slide"
    }
   },
   "source": [
    "## 自省和帮助\n",
    "\n",
    "吾每遇对象必自省，用变量而知其类乎？用其值而知属性乎？用其法而知方法乎？\n",
    "\n",
    "在第一章讲到，自省和帮助是Python学习最直接有效的手段。在Python中，万物皆对象。每当遇到一个新类型的对象时，都可用自省和帮助来学习掌握。"
   ]
  },
  {
   "cell_type": "markdown",
   "metadata": {
    "collapsed": true,
    "slideshow": {
     "slide_type": "slide"
    }
   },
   "source": [
    "自省和帮助的手段很多，涉及到一些Python内置函数、IPython自省功能以及系统模块等：\n",
    "\n",
    "* Python内置函数`type()`  \n",
    "  用于查看对象的数据类型\n",
    "  \n",
    "* Python内置函数`help()`  \n",
    "  获得对象的使用说明，包括对象的功能用途、以及所有属性和方法的使用说明；\n",
    "  \n",
    "* Python函数`dir()`    \n",
    "  列出对象的所有属性和方法名字；\n",
    "\n",
    "* IPython自省功能`?`、`??`  \n",
    "  列出对象的有用信息，包括对象对应源代码；\n",
    "  \n",
    "* `sys`模块`getsizeof()`函数   \n",
    "  计算对象在系统中所占用内存大小；  "
   ]
  },
  {
   "cell_type": "markdown",
   "metadata": {
    "slideshow": {
     "slide_type": "slide"
    }
   },
   "source": [
    "### `type()`函数"
   ]
  },
  {
   "cell_type": "markdown",
   "metadata": {
    "slideshow": {
     "slide_type": "slide"
    }
   },
   "source": [
    "在Python中万物皆对象，`type()`函数用来查看对象是何种数据类型。`type()`函数输入为任意对象，返回对象的类型。例如：\n",
    "```python\n",
    "import collections\n",
    "\n",
    "print(\"Type of 1024 is \",  type(1024))\n",
    "print(\"Type of 1.0 is \",  type(1.0))\n",
    "print(\"Type of True is \",  type(True))\n",
    "print(\"Type of 1.0+1.0J is \",  type(1.0+1.0J))\n",
    "print(\"Type of 'a string' is \",  type('a string'))\n",
    "print(\"Type of [1.0, 2.0, 3.0] is \",  type([1.0, 2.0, 3.0]))\n",
    "print(\"Type of (1.0, 2.0, 3.0) is \",  type((1.0, 2.0, 3.0)))\n",
    "print(\"Type of {'Python':4, 'Java':1} is \",  type({'Python':4, 'Java':1}))\n",
    "print(\"Type of dir is \",  type(dir))\n",
    "print(\"Type of collections is \",  type(collections))\n",
    "```"
   ]
  },
  {
   "cell_type": "markdown",
   "metadata": {
    "slideshow": {
     "slide_type": "slide"
    }
   },
   "source": [
    "结果显示为：\n",
    "```\n",
    "Type of 1024 is  <class 'int'>\n",
    "Type of 1.0 is  <class 'float'>\n",
    "Type of True is  <class 'bool'>\n",
    "Type of 1.0+1.0J is  <class 'complex'>\n",
    "Type of 'a string' is  <class 'str'>\n",
    "Type of [1.0, 2.0, 3.0] is  <class 'list'>\n",
    "Type of (1.0, 2.0, 3.0) is  <class 'tuple'>\n",
    "Type of {'Python':4, 'Java':1} is  <class 'dict'>\n",
    "Type of dir is  <class 'builtin_function_or_method'>\n",
    "Type of collections is  <class 'module'>\n",
    "```"
   ]
  },
  {
   "cell_type": "code",
   "execution_count": null,
   "metadata": {
    "slideshow": {
     "slide_type": "slide"
    }
   },
   "outputs": [],
   "source": [
    "import collections\n",
    "\n",
    "print(\"Type of 1024 is \",  type(1024))\n",
    "print(\"Type of 1.0 is \",  type(1.0))\n",
    "print(\"Type of True is \",  type(True))\n",
    "print(\"Type of 1.0+1.0J is \",  type(1.0+1.0J))\n",
    "print(\"Type of 'a string' is \",  type('a string'))\n",
    "print(\"Type of [1.0, 2.0, 3.0] is \",  type([1.0, 2.0, 3.0]))\n",
    "print(\"Type of (1.0, 2.0, 3.0) is \",  type((1.0, 2.0, 3.0)))\n",
    "print(\"Type of {'Python':4, 'Java':1} is \",  type({'Python':4, 'Java':1}))\n",
    "print(\"Type of dir is \",  type(dir))\n",
    "print(\"Type of collections is \",  type(collections))"
   ]
  },
  {
   "cell_type": "markdown",
   "metadata": {
    "slideshow": {
     "slide_type": "slide"
    }
   },
   "source": [
    "### `dir()`函数"
   ]
  },
  {
   "cell_type": "markdown",
   "metadata": {
    "slideshow": {
     "slide_type": "slide"
    }
   },
   "source": [
    "对于一个对象，最想知道它有哪些属性，哪些方法，使用`dir()`函数能够返回指定对象的属性、方法列表。例如，对于一个字符串对象：\n",
    "```python\n",
    "dir('a string')\n",
    "```"
   ]
  },
  {
   "cell_type": "code",
   "execution_count": null,
   "metadata": {
    "slideshow": {
     "slide_type": "slide"
    }
   },
   "outputs": [],
   "source": [
    "dir('a string')"
   ]
  },
  {
   "cell_type": "markdown",
   "metadata": {
    "slideshow": {
     "slide_type": "slide"
    }
   },
   "source": [
    "如果不指定参数，则返回当前命名空间内的变量、方法和定义的类型列表。"
   ]
  },
  {
   "cell_type": "markdown",
   "metadata": {
    "slideshow": {
     "slide_type": "slide"
    }
   },
   "source": [
    "### `？和??`自省功能\n",
    "\n",
    "在Python中，万物皆对象，变量、函数、类、模块、命令都是对象。在对象前面或后面加上符号`?`，可以列出该对象的通用信息。IPython中的魔术函数也可以自省功能。"
   ]
  },
  {
   "cell_type": "markdown",
   "metadata": {
    "slideshow": {
     "slide_type": "slide"
    }
   },
   "source": [
    "例如，对于一个整数对象：\n",
    "```ipython\n",
    "In[1] a = 1\n",
    "In[1] ?a\n",
    "```"
   ]
  },
  {
   "cell_type": "code",
   "execution_count": null,
   "metadata": {
    "slideshow": {
     "slide_type": "slide"
    }
   },
   "outputs": [],
   "source": [
    "a = 1\n",
    "?a"
   ]
  },
  {
   "cell_type": "markdown",
   "metadata": {
    "slideshow": {
     "slide_type": "slide"
    }
   },
   "source": [
    "对于一个函数`abs`：\n",
    "\n",
    "```\n",
    "In[2] abs?\n",
    "```\n"
   ]
  },
  {
   "cell_type": "code",
   "execution_count": null,
   "metadata": {
    "slideshow": {
     "slide_type": "slide"
    }
   },
   "outputs": [],
   "source": [
    "abs?"
   ]
  },
  {
   "cell_type": "markdown",
   "metadata": {
    "slideshow": {
     "slide_type": "slide"
    }
   },
   "source": [
    "在对象前面或后面加上符号`??`，除了列出该对象的通用信息，还可以查看对象的源代码。"
   ]
  },
  {
   "cell_type": "markdown",
   "metadata": {
    "slideshow": {
     "slide_type": "slide"
    }
   },
   "source": [
    "例如，对于`collection`模块下的name：\n",
    "\n",
    "```ipython\n",
    "In[3] import collections\n",
    "In[4] collections.namedtuple??\n",
    "```\n"
   ]
  },
  {
   "cell_type": "code",
   "execution_count": null,
   "metadata": {
    "slideshow": {
     "slide_type": "slide"
    }
   },
   "outputs": [],
   "source": [
    "import collections"
   ]
  },
  {
   "cell_type": "code",
   "execution_count": null,
   "metadata": {
    "slideshow": {
     "slide_type": "slide"
    }
   },
   "outputs": [],
   "source": [
    "collections.namedtuple??"
   ]
  },
  {
   "cell_type": "markdown",
   "metadata": {
    "slideshow": {
     "slide_type": "slide"
    }
   },
   "source": [
    "## 运行系统shell"
   ]
  },
  {
   "cell_type": "markdown",
   "metadata": {
    "slideshow": {
     "slide_type": "slide"
    }
   },
   "source": [
    "IPython设计初衷之一就是增强与与系统的交互操作。在IPython中可以直接使用系统的shell（在Windows系统称为命令提示符`CMD`）。在IPython运行系统shell，只需在对应命令加上前缀`!`：\n",
    "```python\n",
    "!pwd\n",
    "```"
   ]
  },
  {
   "cell_type": "code",
   "execution_count": null,
   "metadata": {
    "slideshow": {
     "slide_type": "slide"
    }
   },
   "outputs": [],
   "source": [
    "!pwd"
   ]
  },
  {
   "cell_type": "markdown",
   "metadata": {
    "slideshow": {
     "slide_type": "slide"
    }
   },
   "source": [
    "运行结果为一个Python字符串列表。可以使用Python变量保存结果：\n",
    "```python\n",
    "s = !pwd\n",
    "print(s)\n",
    "```"
   ]
  },
  {
   "cell_type": "code",
   "execution_count": null,
   "metadata": {
    "slideshow": {
     "slide_type": "slide"
    }
   },
   "outputs": [],
   "source": [
    "# print the current directory name\n",
    "s = !pwd\n",
    "print(s)"
   ]
  },
  {
   "cell_type": "code",
   "execution_count": null,
   "metadata": {
    "slideshow": {
     "slide_type": "slide"
    }
   },
   "outputs": [],
   "source": [
    "# list directory contents\n",
    "s = !ls  \n",
    "print(s)"
   ]
  },
  {
   "cell_type": "markdown",
   "metadata": {
    "slideshow": {
     "slide_type": "slide"
    }
   },
   "source": [
    "如果是Windows系统，则需要使用`dir`命令。其他更多系统命令如下所示："
   ]
  },
  {
   "cell_type": "code",
   "execution_count": null,
   "metadata": {
    "slideshow": {
     "slide_type": "slide"
    }
   },
   "outputs": [],
   "source": [
    "# download \n",
    "# git clone "
   ]
  },
  {
   "cell_type": "code",
   "execution_count": null,
   "metadata": {
    "slideshow": {
     "slide_type": "slide"
    }
   },
   "outputs": [],
   "source": [
    "# 安装\n",
    "# !unzip facebook.zip"
   ]
  },
  {
   "cell_type": "markdown",
   "metadata": {
    "slideshow": {
     "slide_type": "slide"
    }
   },
   "source": [
    "在运行系统shell中，也可以使用使用python变量。对于单个变量，使用`$`语法，例如：\n",
    "```python\n",
    "for dn in ['dirname1', 'dirname2', 'dirname3']:\n",
    "    !mkdir $dn\n",
    "```    "
   ]
  },
  {
   "cell_type": "code",
   "execution_count": null,
   "metadata": {
    "slideshow": {
     "slide_type": "slide"
    }
   },
   "outputs": [],
   "source": [
    "for dn in ['dirname1', 'dirname2', 'dirname3']:\n",
    "    !mkdir $dn"
   ]
  },
  {
   "cell_type": "markdown",
   "metadata": {
    "slideshow": {
     "slide_type": "slide"
    }
   },
   "source": [
    "对于Python表达式，则使用`{}`，例如：\n",
    "```\n",
    "dns = ['dirname1', 'dirname2', 'dirname3']\n",
    "!rmdir {dns[0]} {dns[1]} {dns[2]}\n",
    "```"
   ]
  },
  {
   "cell_type": "code",
   "execution_count": null,
   "metadata": {
    "slideshow": {
     "slide_type": "slide"
    }
   },
   "outputs": [],
   "source": [
    "dns = ['dirname1', 'dirname2', 'dirname3']\n",
    "!rmdir {dns[0]} {dns[1]} {dns[2]}"
   ]
  },
  {
   "cell_type": "markdown",
   "metadata": {
    "slideshow": {
     "slide_type": "slide"
    }
   },
   "source": [
    "## 魔术函数\n",
    "\n",
    "IPython重要的特性就是內建了功能强大的魔术函数，它包括包括一组函数，用来控制IPython自身行为、以及系统类型的功能。键入如下命令：\n",
    "```ipython\n",
    "In[26] %magic\n",
    "\n",
    "IPython's 'magic' functions\n",
    "===========================\n",
    "\n",
    "The magic function system provides a series of functions which allow you to\n",
    "control the behavior of IPython itself, plus a lot of system-type\n",
    "features. There are two kinds of magics, line-oriented and cell-oriented.\n",
    "...\n",
    "```\n",
    "给出IPython魔术函数的介绍和使用说明。"
   ]
  },
  {
   "cell_type": "code",
   "execution_count": null,
   "metadata": {
    "slideshow": {
     "slide_type": "slide"
    }
   },
   "outputs": [],
   "source": [
    "# Demo: try to type command below\n",
    "%magic"
   ]
  },
  {
   "cell_type": "markdown",
   "metadata": {
    "slideshow": {
     "slide_type": "slide"
    }
   },
   "source": [
    "魔术函数包括两类：\n",
    "* 命令行魔术函数(line magics) \n",
    "命令行魔术函数以百分号`%`作为前缀，工作类似系统命令行的调用，只对单行起作用。当前内置命令行魔术函数如下所示：\n",
    "```\n",
    "%alias  %alias_magic  %autocall  %automagic  %autosave  %bookmark  %cat  %cd  %clear  %colors  %config  %connect_info  %cp  %debug  %dhist  %dirs  %doctest_mode  %ed  %edit  %env  %gui  %hist  %history  %install_default_config  %install_ext  %install_profiles  %killbgscripts  %ldir  %less  %lf  %lk  %ll  %load  %load_ext  %loadpy  %logoff  %logon  %logstart  %logstate  %logstop  %ls  %lsmagic  %lx  %macro  %magic  %man  %matplotlib  %mkdir  %more  %mv  %notebook  %page  %pastebin  %pdb  %pdef  %pdoc  %pfile  %pinfo  %pinfo2  %popd  %pprint  %precision  %profile  %prun  %psearch  %psource  %pushd  %pwd  %pycat  %pylab  %qtconsole  %quickref  %recall  %rehashx  %reload_ext  %rep  %rerun  %reset  %reset_selective  %rm  %rmdir  %run  %save  %sc  %set_env  %store  %sx  %system  %tb  %time  %timeit  %unalias  %unload_ext  %who  %who_ls  %whos  %xdel  %xmode\n",
    "```\n",
    "\n",
    "* 单元魔术函数（cell magics）  \n",
    "单元魔术函数使用两个百分号`%%`作为前缀，单元的第一行，对整个单元有效。主要是渲染ipython notebook页面效果以及执行某语言的代码\n",
    "\n",
    "当前内置单元魔术函数如下：\n",
    "```\n",
    "%%!  %%HTML  %%SVG  %%bash  %%capture  %%debug  %%file  %%html  %%javascript  %%latex  %%perl  %%prun  %%pypy  %%python  %%python2  %%python3  %%ruby  %%script  %%sh  %%svg  %%sx  %%system  %%time  %%timeit  %%writefile\n",
    "```"
   ]
  },
  {
   "cell_type": "markdown",
   "metadata": {
    "slideshow": {
     "slide_type": "slide"
    }
   },
   "source": [
    "调用魔术函数需要以百分号`%`开始，如果automagic状态为开（`on`），对命令行魔术命令可以不必输入`%`，如果automagic状态为关（`off`）则必须输入前缀。使用`%automagic`魔术函数更改Automagic状态。\n",
    "\n",
    "IPython缺省automagic状态为开，不过为了区分Python语句和魔术函数，建议保持使用前缀的习惯。"
   ]
  },
  {
   "cell_type": "markdown",
   "metadata": {
    "slideshow": {
     "slide_type": "slide"
    }
   },
   "source": [
    "使用魔术函数`%lsmagic`列出当前版本所有内置的命令行魔术函数和单元函数，同时也会给出`Automaigc`状态。\n",
    "```ipython\n",
    "In [32] %lsmagic\n",
    "```"
   ]
  },
  {
   "cell_type": "code",
   "execution_count": null,
   "metadata": {
    "slideshow": {
     "slide_type": "slide"
    }
   },
   "outputs": [],
   "source": [
    "# Demo: try to type command below\n",
    "%lsmagic"
   ]
  },
  {
   "cell_type": "markdown",
   "metadata": {
    "slideshow": {
     "slide_type": "slide"
    }
   },
   "source": [
    "魔术函数也可以使用`?`自省功能。例如查阅魔术函数`%automagic`：\n",
    "\n",
    "```ipython\n",
    "In[32] %automagic?\n",
    "```\n",
    "\n",
    "```ipython\n",
    "In[33] %automagic??\n",
    "```"
   ]
  },
  {
   "cell_type": "code",
   "execution_count": null,
   "metadata": {
    "slideshow": {
     "slide_type": "slide"
    }
   },
   "outputs": [],
   "source": [
    "# Demo: try to type command below\n",
    "%automagic?"
   ]
  },
  {
   "cell_type": "code",
   "execution_count": null,
   "metadata": {
    "slideshow": {
     "slide_type": "slide"
    }
   },
   "outputs": [],
   "source": [
    "# Demo: try to type command below\n",
    "%automagic??"
   ]
  },
  {
   "cell_type": "markdown",
   "metadata": {
    "slideshow": {
     "slide_type": "slide"
    }
   },
   "source": [
    "在IPython中使用魔术命令能够使IPython如虎添翼，变得更加高效能和强大。这里列出可能的使用：\n",
    "\n",
    "* 扩展SHELL\n",
    "\n",
    "* 运行Python程序\n",
    "\n",
    "* 目录书签系统\n",
    "\n",
    "* Python交互调试\n",
    "\n",
    "* 性能分析操作\n",
    "\n",
    "* 图形图像\n",
    "\n",
    "* 运行其它语言\n",
    "\n",
    "* 多媒体和富文本输出"
   ]
  },
  {
   "cell_type": "markdown",
   "metadata": {
    "slideshow": {
     "slide_type": "slide"
    }
   },
   "source": [
    "上述高效能操作，可参见附录IPython高效能操作。"
   ]
  },
  {
   "cell_type": "markdown",
   "metadata": {
    "slideshow": {
     "slide_type": "slide"
    }
   },
   "source": [
    "## 输入输出历史\n",
    "\n",
    "在IPython运行期间，交互输入的命令或语句及其执行结果会保留起来，分别保存到`In`和`Out`变量。例如运行如下：\n",
    "\n",
    "```python\n",
    "In [1]: 'Hello, IPython!'\n",
    "Out[1]: 'Hello, IPython!'\n",
    "\n",
    "In [2]: 1 + 1\n",
    "Out[2]: 2\n",
    "\n",
    "In [3]: 2.5 * 2.5\n",
    "Out[3]: 6.25\n",
    "\n",
    "In [4]: 3 / 2 == 1\n",
    "Out[4]: False\n",
    "\n",
    "In [5]: \n",
    "```\n",
    "在此提示符下，使用上下箭头可以轻松遍历先前的输入命令。"
   ]
  },
  {
   "cell_type": "markdown",
   "metadata": {
    "slideshow": {
     "slide_type": "slide"
    }
   },
   "source": [
    "使用`type`检查`In`和`Out`变量:\n",
    "```python\n",
    "In [5]: type(In)\n",
    "Out[5]: list\n",
    "\n",
    "In [6]: type(Out)\n",
    "Out[6]: dict\n",
    "```\n",
    "也就是说，输入语句存放使用列表（list）实现，执行结果存放使用字典实现（dict）。"
   ]
  },
  {
   "cell_type": "markdown",
   "metadata": {
    "slideshow": {
     "slide_type": "slide"
    }
   },
   "source": [
    "还可以通过访问特殊变量`_ih`来访问输入语句存放列表，实际上`_ih`和`In`指向的是同一列表：\n",
    "```python\n",
    "In [7]: _ih is In\n",
    "Out[7]: True\n",
    "```\n",
    "\n",
    "使用特殊变量`_i`、`_ii`和`_iii`来指向上一行、再上一行，再再上一行输入语句：\n",
    "```python\n",
    "In [7]: print(' In[-1]: {0}\\n In[-2]: {1}\\n In[-3]: {2}'.format(_i, _ii, _iii))\n",
    "Out[7]: \n",
    "```"
   ]
  },
  {
   "cell_type": "markdown",
   "metadata": {
    "slideshow": {
     "slide_type": "slide"
    }
   },
   "source": [
    "`Out`变量是字典对象，通过指定输入行数来访问对应的输出结果，例如`Out[6]`给出`In[6]`的运行结果。IPython还提供特殊变量`_dh`来访问运行结果，`_dh`其实是`Out`的值形成的列表。\n",
    "\n",
    "使用特殊变量`_`、`__`和`___`来指向上一行、再上一行，再再上一行语句的运行结果：\n",
    "```python\n",
    "In [7]: print(' _dh[-1]: {0}\\n _dh[-2]: {1}\\n _dh[-3]: {2}'.format(_, __, ___))\n",
    "Out[7]: \n",
    "```"
   ]
  },
  {
   "cell_type": "markdown",
   "metadata": {
    "slideshow": {
     "slide_type": "slide"
    }
   },
   "source": [
    "也可以使用魔术命令%history访问输入语句历史。参见附录。"
   ]
  }
 ],
 "metadata": {
  "celltoolbar": "Slideshow",
  "kernelspec": {
   "display_name": "Python 3",
   "language": "python",
   "name": "python3"
  },
  "language_info": {
   "codemirror_mode": {
    "name": "ipython",
    "version": 3
   },
   "file_extension": ".py",
   "mimetype": "text/x-python",
   "name": "python",
   "nbconvert_exporter": "python",
   "pygments_lexer": "ipython3",
   "version": "3.6.4"
  },
  "toc": {
   "base_numbering": 1,
   "nav_menu": {},
   "number_sections": true,
   "sideBar": true,
   "skip_h1_title": false,
   "title_cell": "Table of Contents",
   "title_sidebar": "Contents",
   "toc_cell": false,
   "toc_position": {},
   "toc_section_display": true,
   "toc_window_display": false
  }
 },
 "nbformat": 4,
 "nbformat_minor": 1
}
