{
 "cells": [
  {
   "cell_type": "markdown",
   "metadata": {
    "slideshow": {
     "slide_type": "slide"
    }
   },
   "source": [
    "# 环境与工具\n",
    "\n",
    "**王伟华**"
   ]
  },
  {
   "cell_type": "markdown",
   "metadata": {
    "slideshow": {
     "slide_type": "slide"
    }
   },
   "source": [
    "## 培训目标\n",
    "\n",
    "- 学习Python解释器；\n",
    "- 熟悉ipython交互工具；\n",
    "- 熟悉jupyter notebook工具；\n",
    "- 用markdown做笔记\n",
    "- ipython魔术命令"
   ]
  },
  {
   "cell_type": "markdown",
   "metadata": {
    "slideshow": {
     "slide_type": "slide"
    }
   },
   "source": [
    "## 培训内容\n",
    "\n",
    "- [环境概述](pyenv.ipynb)\n",
    "- [Jupyter Notebook](jupyternotebook.ipynb)\n",
    "- [Markdown](markdown.ipynb)\n",
    "- [IPython](ipython.ipynb)\n",
    "- [Jupyter其他工具](jupyterothers.ipynb)\n",
    "- [集成开发环境](spyder.ipynb)"
   ]
  },
  {
   "cell_type": "markdown",
   "metadata": {
    "slideshow": {
     "slide_type": "slide"
    }
   },
   "source": [
    "## [作业](homework.ipynb)\n",
    "\n",
    "- 练习：要求学员课堂或自习时完成，讲师需要讲解。\n",
    "\n",
    "- 面试：要求学员自习时完成，辅导员予以讲解。\n",
    "\n",
    "- 课后作业：要求学员课后或自习时完成，作业需要上传到自己的Github。辅导员需要了解学员作业状况。"
   ]
  }
 ],
 "metadata": {
  "celltoolbar": "Slideshow",
  "kernelspec": {
   "display_name": "Python 3",
   "language": "python",
   "name": "python3"
  },
  "language_info": {
   "codemirror_mode": {
    "name": "ipython",
    "version": 3
   },
   "file_extension": ".py",
   "mimetype": "text/x-python",
   "name": "python",
   "nbconvert_exporter": "python",
   "pygments_lexer": "ipython3",
   "version": "3.6.4"
  },
  "toc": {
   "base_numbering": 1,
   "nav_menu": {},
   "number_sections": true,
   "sideBar": true,
   "skip_h1_title": false,
   "title_cell": "Table of Contents",
   "title_sidebar": "Contents",
   "toc_cell": false,
   "toc_position": {},
   "toc_section_display": true,
   "toc_window_display": false
  }
 },
 "nbformat": 4,
 "nbformat_minor": 2
}
