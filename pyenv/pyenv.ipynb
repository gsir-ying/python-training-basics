{
 "cells": [
  {
   "cell_type": "markdown",
   "metadata": {
    "slideshow": {
     "slide_type": "slide"
    }
   },
   "source": [
    "# 环境与工具\n",
    "\n",
    "> “工欲善其事，必先利其器。  \n",
    "> -- 《论语_卫灵公》\n"
   ]
  },
  {
   "cell_type": "markdown",
   "metadata": {
    "slideshow": {
     "slide_type": "slide"
    }
   },
   "source": [
    "## Python\n",
    "\n",
    "Python有两种运行方式：\n",
    "- 交互式\n",
    "- 脚本式"
   ]
  },
  {
   "cell_type": "markdown",
   "metadata": {
    "slideshow": {
     "slide_type": "slide"
    }
   },
   "source": [
    "## ipython\n",
    "\n",
    "\n",
    "- python是交互式解释器\n",
    "\n",
    "- ipython是一个增强的交互式python。"
   ]
  },
  {
   "cell_type": "markdown",
   "metadata": {
    "slideshow": {
     "slide_type": "slide"
    }
   },
   "source": [
    "## Jupyter/IPython开发环境  \n",
    "\n",
    "Jupyter/IPython是一个基于Web技术的增强的交互式Python计算环境，可以实现如下工作：  \n",
    "- 在线编码和运行，可以输出绘图结果；\n",
    "- 文档记录，包括文本、公式、图片和音频视频。\n",
    "- 输出HTML、$\\LaTeX{}$、PDF等格式文档，方便共享交换。"
   ]
  },
  {
   "cell_type": "markdown",
   "metadata": {
    "slideshow": {
     "slide_type": "slide"
    }
   },
   "source": [
    "## 集成开发环境（Integrated Development Environment，IDE)  \n",
    "    \n",
    "- 暂时环境：Spyder是一个用于Python科学计算的集成开发环境；安装Ancando等套件时，缺省包括Spyder；简单够用。    \n",
    "-  终极环境：PyCharm"
   ]
  },
  {
   "cell_type": "markdown",
   "metadata": {
    "slideshow": {
     "slide_type": "slide"
    }
   },
   "source": [
    "## 小结\n",
    "\n",
    "- Jupyter/IPython\n",
    "- PyCharm\n",
    "- ipython\n",
    "- python"
   ]
  },
  {
   "cell_type": "markdown",
   "metadata": {
    "slideshow": {
     "slide_type": "-"
    }
   },
   "source": [
    "工具归根到底的目标还是提高效能。\n",
    "\n",
    "Python是最高效强大的语言，还要配以最高效能的工具！"
   ]
  },
  {
   "cell_type": "markdown",
   "metadata": {
    "slideshow": {
     "slide_type": "slide"
    }
   },
   "source": [
    "## 工具\n",
    "\n",
    "- [Jupyter Notebook](jupyternotebook.ipynb)\n",
    "- [Markdown](markdown.ipynb)\n",
    "- [IPython](ipython.ipynb)\n",
    "- [Spyder](spyder.ipynb)\n",
    "- pycharm"
   ]
  }
 ],
 "metadata": {
  "celltoolbar": "Slideshow",
  "kernelspec": {
   "display_name": "Python 3",
   "language": "python",
   "name": "python3"
  },
  "language_info": {
   "codemirror_mode": {
    "name": "ipython",
    "version": 3
   },
   "file_extension": ".py",
   "mimetype": "text/x-python",
   "name": "python",
   "nbconvert_exporter": "python",
   "pygments_lexer": "ipython3",
   "version": "3.6.4"
  },
  "toc": {
   "base_numbering": 1,
   "nav_menu": {},
   "number_sections": true,
   "sideBar": true,
   "skip_h1_title": false,
   "title_cell": "Table of Contents",
   "title_sidebar": "Contents",
   "toc_cell": false,
   "toc_position": {},
   "toc_section_display": true,
   "toc_window_display": false
  }
 },
 "nbformat": 4,
 "nbformat_minor": 1
}
