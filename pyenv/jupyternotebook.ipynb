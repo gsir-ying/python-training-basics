{
 "cells": [
  {
   "cell_type": "markdown",
   "metadata": {
    "slideshow": {
     "slide_type": "slide"
    }
   },
   "source": [
    "# Jupyter Notebook\n",
    "\n",
    "具有如下功能特征：\n",
    "\n",
    "* 语言可选。现在支持超过40种编程语言，包括数据科学中常用的Python、R、Julia和Scala等语言。\n",
    "\n",
    "* 共享笔记。可以使用email等多种方式与人共享。\n",
    "\n",
    "* 交互窗口。代码能够生成富文本输出，包括图像、视频、$\\LaTeX$、JavaScrip等。交互窗口用来实时操作和可视化数据。\n",
    "\n",
    "* 大数据集成。利用大数据工具，例如Python、R语言的Spark工具。"
   ]
  },
  {
   "cell_type": "markdown",
   "metadata": {
    "slideshow": {
     "slide_type": "slide"
    }
   },
   "source": [
    "## 启动Jupyter notebook服务器\n",
    "\n",
    "为了运行Jupyter notebook，需打开系统命令终端，并切换到自己的IPython工作目录（本书实例目录为`/home/whwang/pywork`），该目录存放先前下载的或后续将要创建的IPython notebook文件；然后键入命令：\n",
    "```shell\n",
    "[whwang@hpz840 Ipython]$ jupyter-notebook \n",
    "[W 08:57:33.144 NotebookApp] base_project_url is deprecated, use base_url\n",
    "[I 08:57:33.738 NotebookApp] Serving notebooks from local directory: /home/whwang/Ipython\n",
    "[I 08:57:33.738 NotebookApp] 0 active kernels \n",
    "[I 08:57:33.738 NotebookApp] The Jupyter Notebook is running at: https://[all ip addresses on your system]:9999/ipython/\n",
    "[I 08:57:33.738 NotebookApp] Use Control-C to stop this server and shut down all kernels (twice to skip confirmation).\n",
    "```"
   ]
  },
  {
   "cell_type": "markdown",
   "metadata": {
    "slideshow": {
     "slide_type": "slide"
    }
   },
   "source": [
    "正常情况下就会启动Jupyter服务器，同时自动打开一个缺省浏览器窗口，如图所示。\n",
    "\n",
    "![Jupyter应用面板](assets/ipynb_dashboard_tab_41.png)\n",
    "\n",
    "浏览器支持Firfox、Chrome、Safari、IE等浏览器。"
   ]
  },
  {
   "cell_type": "markdown",
   "metadata": {
    "slideshow": {
     "slide_type": "slide"
    }
   },
   "source": [
    "> 在命令终端，按`Ctrl-C`关闭Jupyter Notebook服务器：\n",
    "```shell\n",
    "[whwang@hpz840 Ipython]$ jupyter-notebook \n",
    "Shutdown this notebook server (y/[n])? y\n",
    "[C 08:57:44.706 NotebookApp] Shutdown confirmed\n",
    "[I 08:57:44.706 NotebookApp] Shutting down kernels\n",
    "```\n",
    "\n",
    "> 关闭过程，需要用户确认是否真的关闭Jupyter notebook服务器。按两次`Ctrl-C`会直接确认关闭。"
   ]
  },
  {
   "cell_type": "markdown",
   "metadata": {
    "slideshow": {
     "slide_type": "slide"
    }
   },
   "source": [
    "## Notebook应用面板\n",
    "\n",
    "Jupyter notebook服务器运行后，打开浏览器并输入链接地址，会进入notebook应用面板，如图所示。\n",
    "\n",
    "![Jupyter应用面板](assets/ipynb_dashboard_tab_41.png)"
   ]
  },
  {
   "cell_type": "markdown",
   "metadata": {
    "slideshow": {
     "slide_type": "slide"
    }
   },
   "source": [
    "应用面板作为Jupyter Notebook的主页，有三个选项卡（如所示），用来实现如下目的：\n",
    "\n",
    "* 文件（Files）选项卡。  \n",
    "显示、管理用户读写的文件系统；\n",
    "* 运行（Running）选项卡。  \n",
    "给出运行的内核和命令终端概述；\n",
    "* 集群（Clusters）选项卡。  \n",
    "给出并行集群概述。"
   ]
  },
  {
   "cell_type": "markdown",
   "metadata": {
    "slideshow": {
     "slide_type": "slide"
    }
   },
   "source": [
    "### 文件选项卡（Files）\n",
    "\n",
    "文件选项卡实现与文件系统的交互操作，单击“Files”选项卡，进入如图所示页面。\n",
    "\n",
    "![Jupyter应用面板](assets/ipynb_dashboard_filestab_41.png)\n"
   ]
  },
  {
   "cell_type": "markdown",
   "metadata": {
    "slideshow": {
     "slide_type": "slide"
    }
   },
   "source": [
    "在文件选项卡包括如下内容：  \n",
    "\n",
    "* 文件管理  \n",
    "  实现文件或目录的选取、复制、删除、命名等操作。\n",
    "* 文件上传  \n",
    "  从本地选取文件，上传到当前目录。\n",
    "* 状态刷新  \n",
    "  刷新文件目录信息。\n",
    "* 新建下拉菜单  \n",
    "  单击`New`下拉菜单，可以创建普通文本文件、目录、命令终端，Notebook文件。"
   ]
  },
  {
   "cell_type": "markdown",
   "metadata": {
    "slideshow": {
     "slide_type": "slide"
    }
   },
   "source": [
    "在Jupyter notebook最重要的工作就是创建Notebook文件，并在其中编写文档和代码。为此，在第节，专门介绍Notebook、文本文件和终端的使用。"
   ]
  },
  {
   "cell_type": "markdown",
   "metadata": {
    "slideshow": {
     "slide_type": "slide"
    }
   },
   "source": [
    "### 运行选项页（Running）\n",
    "\n",
    "运行选项卡用于列出、跟踪当前运行的Jupyter进程。单击“Running”选项卡，进入如图所示页面。\n",
    "![Jupyter应用面板](assets/ipynb_dashboard_runningtab_41.png)"
   ]
  },
  {
   "cell_type": "markdown",
   "metadata": {
    "slideshow": {
     "slide_type": "slide"
    }
   },
   "source": [
    "运行选项卡包括如下内容：\n",
    "\n",
    "1. 列出所有运行的notebook内核；\n",
    "2. 列出所有运行的命令终端（terminal）\n",
    "3. 刷新列表\n",
    "\n",
    "每个在运行notebook、命令终端后都跟有一个橘色`Shutdown`按钮。单击该按钮可以关闭对应内核。"
   ]
  },
  {
   "cell_type": "markdown",
   "metadata": {
    "slideshow": {
     "slide_type": "slide"
    }
   },
   "source": [
    "### 集群选项页\n",
    "\n",
    "集群选项卡给出IPython Parallel集群概述。必须安装IPython Parallel扩展才能使用该功能。单击“Clusters”选项卡，进入如图所示页面。\n",
    "\n",
    "![Jupyter应用面板](assets/ipynb_dashboard_clusterstab_41.png)"
   ]
  },
  {
   "cell_type": "markdown",
   "metadata": {
    "slideshow": {
     "slide_type": "slide"
    }
   },
   "source": [
    "## 笔记（Notebook）\n",
    "\n",
    "Jupyter Notebook支持多种语言，例如Python、Ruby等。创建一个Notebook文件，必须与一个语言内核关联。对于本文而言，Notebook文件关联的是IPython内核。\n",
    "\n",
    "一个notebook文件就是一个含有代码、文本和其它要素的交互式文档，使用JSON格式保存为纯文本文件，后缀通常为`.ipynb`。"
   ]
  },
  {
   "cell_type": "markdown",
   "metadata": {
    "slideshow": {
     "slide_type": "slide"
    }
   },
   "source": [
    "### Notebook用户界面\n",
    "\n",
    "当新建或打开一个Notebook文件时，浏览器会创建一个notebook用户界面标签页，如图所示。\n",
    "\n",
    "![notebook用户界面](assets/nbui-2.png)\n",
    "\n",
    "使用notebook用户界面可以实现notebook文档的交互编辑和运行。"
   ]
  },
  {
   "cell_type": "markdown",
   "metadata": {
    "slideshow": {
     "slide_type": "slide"
    }
   },
   "source": [
    "> 在notebook菜单栏上选择**`Help -> User Interface Tour`**，开始交互介绍notebook用户界面的简单功能。"
   ]
  },
  {
   "cell_type": "markdown",
   "metadata": {
    "slideshow": {
     "slide_type": "slide"
    }
   },
   "source": [
    "一个Notebook标签页面包括两部分内容："
   ]
  },
  {
   "cell_type": "markdown",
   "metadata": {
    "slideshow": {
     "slide_type": "slide"
    }
   },
   "source": [
    "#### 头部  \n",
    "\n",
    "Notebook标签页面的上面部分称为头部，架构和内容通常固定不变，包括如下：\n",
    "\n",
    "* 标题名，显示当前Notebook文件名字。单击标题名区域，可以执行重命名操作。\n",
    "* 菜单栏，包含各种Notebook操作命令。\n",
    "* 工具栏，包含重用Notebook操作命令。  \n"
   ]
  },
  {
   "cell_type": "markdown",
   "metadata": {
    "slideshow": {
     "slide_type": "slide"
    }
   },
   "source": [
    "#### 主体  \n",
    "\n",
    "Notebook标签页面的主体由一组单元组成。单元类别包括：\n",
    "\n",
    "* **Markdown单元** - 使用Markdown标记语言构建美观的格式化文本。Markdown单元有两种形式，一是Markdown源码输入形式，二是格式化转换后的形式。两种呈现行驶可以变换。\n",
    "\n",
    "* **代码单元(code)** - 用来输入计算机语言代码，目前Jupyter已经支持40多种语言。代码单元亦有两种形式，一是源码输入形式，二是代码执行形式，即代码执行后的结果显示。根据代码不同，执行结果的表达可能是简单值或字符串，也可能是图像、视频、甚至更为复杂的交互式图形程序。\n",
    "\n",
    "* **原始文本单元(Raw NBConvert)** - 用来输入原始格式文本。即不需要进行格式转换或代码执行。\n",
    "\n",
    "* **标题单元(Heading)** - Jupyter已不再使用，现在可以用Markdown语句替换。"
   ]
  },
  {
   "cell_type": "markdown",
   "metadata": {
    "slideshow": {
     "slide_type": "slide"
    }
   },
   "source": [
    "下图显示三个单元：\n",
    "\n",
    "![Notebook的三类单元](assets/notebook_body.png \"\")"
   ]
  },
  {
   "cell_type": "markdown",
   "metadata": {
    "slideshow": {
     "slide_type": "slide"
    }
   },
   "source": [
    "这是一个**Markdown**单元"
   ]
  },
  {
   "cell_type": "code",
   "execution_count": null,
   "metadata": {
    "slideshow": {
     "slide_type": "slide"
    }
   },
   "outputs": [],
   "source": [
    "s = 'This is a code cell'\n",
    "s"
   ]
  },
  {
   "cell_type": "raw",
   "metadata": {
    "slideshow": {
     "slide_type": "slide"
    }
   },
   "source": [
    "This is a **Raw NBConvertr** cell"
   ]
  },
  {
   "cell_type": "markdown",
   "metadata": {
    "slideshow": {
     "slide_type": "slide"
    }
   },
   "source": [
    "可以按任意顺序插入单元，也可以随时修改单元，以保持足够的灵活性来完成文档叙事。"
   ]
  },
  {
   "cell_type": "markdown",
   "metadata": {
    "slideshow": {
     "slide_type": "slide"
    }
   },
   "source": [
    "#### 多工作模式\n",
    "\n",
    "* **编辑模式（Edit mode）**会用绿色边框和编辑区的提示符来提示。在编辑模式下，可以象文本编辑器那样在单元中输入文本或语句。\n",
    "\n",
    "* **命令模式（Command mode）**会使用灰色边框来提示。在命令模式下，可以调整notebook结构、但单个单元的内容不能改变。更为重要的是，可以使用快捷键实现Notebook的高效操作。\n",
    "\n",
    "二种模式可以快速切换：\n",
    "\n",
    "* 按 `Enter` 键或者在单元编辑区单击鼠标，即可进入编辑模式。\n",
    "* 按 `Esc` 键或者在单元编辑外单击鼠标，即可进入命令模式。"
   ]
  },
  {
   "cell_type": "markdown",
   "metadata": {
    "slideshow": {
     "slide_type": "slide"
    }
   },
   "source": [
    "> ** 在命令模式，别往单元里敲字符，意想不到事情或许会发生 **"
   ]
  },
  {
   "cell_type": "markdown",
   "metadata": {
    "slideshow": {
     "slide_type": "slide"
    }
   },
   "source": [
    "##### 运行单元\n",
    "\n",
    "无论是在Markdown单元编写文本，还是在代码单元输入代码或IPython语句。编写完后，需要运行代码，查看运行结果，有如下方式：\n",
    "\n",
    "* 按`Shift-Enter`组合键，运行当前单元后，转到下一单元。\n",
    "* 按`Alt-Enter`组合键，运行当前单元后，转到新插入单元。\n",
    "* 按`Ctrl-Enter`组合键，运行当前单元后，进入命令模式。\n",
    "* 单击工具栏的<button class='btn btn-default btn-xs'><i class=\"icon-play fa fa-play\"></i></button>按钮，运行当前单元后，转到下一单元。"
   ]
  },
  {
   "cell_type": "markdown",
   "metadata": {
    "slideshow": {
     "slide_type": "slide"
    }
   },
   "source": [
    "对于Markdown单元，执行运行操作后，会显示最终结果。例如，Markdown单元的源码为：\n",
    "<pre>\n",
    "#### Markdown单元\n",
    "\n",
    "* 按`Shift-Enter`组合键，运行当前单元后，转到下一单元。\n",
    "* 按`Alt-Enter`组合键，运行当前单元后，转到新插入单元。\n",
    "* 按`Ctrl-Enter`组合键，运行当前单元后，进入命令模式。\n",
    "\n",
    "</pre>"
   ]
  },
  {
   "cell_type": "markdown",
   "metadata": {
    "slideshow": {
     "slide_type": "slide"
    }
   },
   "source": [
    "运行结果如图所示：\n",
    "\n",
    "![Markdown单元运行结果示例](assets/markdown_run.png \"\")"
   ]
  },
  {
   "cell_type": "markdown",
   "metadata": {
    "slideshow": {
     "slide_type": "slide"
    }
   },
   "source": [
    "对于代码单元，执行运行操作，会执行单元中的代码语句。在输出区域会显示最后一行表达式的结果。"
   ]
  },
  {
   "cell_type": "code",
   "execution_count": null,
   "metadata": {
    "slideshow": {
     "slide_type": "slide"
    }
   },
   "outputs": [],
   "source": [
    "googol = 10**100\n",
    "s = 'Hello, Ipython Notebook'"
   ]
  },
  {
   "cell_type": "code",
   "execution_count": null,
   "metadata": {
    "scrolled": true,
    "slideshow": {
     "slide_type": "slide"
    }
   },
   "outputs": [],
   "source": [
    "s"
   ]
  },
  {
   "cell_type": "markdown",
   "metadata": {
    "slideshow": {
     "slide_type": "slide"
    }
   },
   "source": [
    "标准输出（stdout）和标准错误输出（stderr）流也会在输出区域以文本显示。"
   ]
  },
  {
   "cell_type": "code",
   "execution_count": null,
   "metadata": {
    "slideshow": {
     "slide_type": "slide"
    }
   },
   "outputs": [],
   "source": [
    "print('Hello, IPython Notebook')"
   ]
  },
  {
   "cell_type": "markdown",
   "metadata": {
    "slideshow": {
     "slide_type": "slide"
    }
   },
   "source": [
    "如果要屏蔽输出，可在最后一行表达式后添加一个分号`;`"
   ]
  },
  {
   "cell_type": "code",
   "execution_count": null,
   "metadata": {
    "slideshow": {
     "slide_type": "slide"
    }
   },
   "outputs": [],
   "source": [
    "s;"
   ]
  },
  {
   "cell_type": "markdown",
   "metadata": {
    "slideshow": {
     "slide_type": "slide"
    }
   },
   "source": [
    "#### 快捷键和鼠标导航\n",
    "\n",
    "单击**`Help -> Keyboard Shortcuts`**可以给出notebook页面的快捷键。必须记住，Notebook用户界面由两种工作式，不同模式下使用不同的快捷键。"
   ]
  },
  {
   "cell_type": "markdown",
   "metadata": {
    "slideshow": {
     "slide_type": "slide"
    }
   },
   "source": [
    "当选定某单元后，工具栏工具按钮可实现如下操作：\n",
    "\n",
    "* 保存文件\n",
    "* 往后插入单元\n",
    "* 剪切所选单元\n",
    "* 拷贝所选单元\n",
    "* 往后粘贴单元\n",
    "* 向上移动所选单元\n",
    "* 向下移动所选单元\n"
   ]
  },
  {
   "cell_type": "markdown",
   "metadata": {
    "slideshow": {
     "slide_type": "slide"
    }
   },
   "source": [
    "#### 更多内容\n",
    "\n",
    "Notebook用户界面还有很多内容："
   ]
  },
  {
   "cell_type": "markdown",
   "metadata": {
    "slideshow": {
     "slide_type": "slide"
    }
   },
   "source": [
    "###### 异步输出\n",
    "\n",
    "在语言内核生成的输出结果会在显示区域异步显示。运行下面实例，随着程序运行，输出结果会不断出现，并不需要等到程序结束："
   ]
  },
  {
   "cell_type": "code",
   "execution_count": null,
   "metadata": {
    "slideshow": {
     "slide_type": "slide"
    }
   },
   "outputs": [],
   "source": [
    "import time, sys\n",
    "for i in range(8):\n",
    "    print(i)\n",
    "    time.sleep(0.5)"
   ]
  },
  {
   "cell_type": "markdown",
   "metadata": {
    "slideshow": {
     "slide_type": "slide"
    }
   },
   "source": [
    "###### 大型输出\n",
    "\n",
    "对于有大量输出的情况，可以收缩输出区域以美化显示。运行下面实例，单击或双击输出结果左边的活动区域，可以滚动显示："
   ]
  },
  {
   "cell_type": "code",
   "execution_count": null,
   "metadata": {
    "slideshow": {
     "slide_type": "slide"
    }
   },
   "outputs": [],
   "source": [
    " for i in range(64):\n",
    "    print(i)"
   ]
  },
  {
   "cell_type": "markdown",
   "metadata": {
    "slideshow": {
     "slide_type": "slide"
    }
   },
   "source": [
    "超出某个点，输出会自动滚动显示："
   ]
  },
  {
   "cell_type": "code",
   "execution_count": null,
   "metadata": {
    "slideshow": {
     "slide_type": "slide"
    }
   },
   "outputs": [],
   "source": [
    "for i in range(512):\n",
    "    print(2**i - 1)"
   ]
  },
  {
   "cell_type": "markdown",
   "metadata": {
    "slideshow": {
     "slide_type": "slide"
    }
   },
   "source": [
    "### 普通文本编辑\n",
    "\n",
    "除了编写复杂的notebook文档外，还可以使用内置文本编辑器编写纯文本文档。\n",
    "\n",
    "当打开一个非notebook文本文件或者在文件选项栏创建文本文件（** New -> Text File **）时，浏览器会打开一个新的标签页，即文本编辑页。如图所示。\n",
    "\n",
    "文本编辑页也有一个与notebook页面类似的头部，包含文本名和菜单栏。文本文件根据扩展名自动判断语法高亮，也可以通过菜单栏中的** Language **选项手工指定。\n",
    "\n",
    "![文本编辑页](assets/texteditor_42.png)"
   ]
  },
  {
   "cell_type": "markdown",
   "metadata": {
    "slideshow": {
     "slide_type": "slide"
    }
   },
   "source": [
    "### 命令终端\n",
    "\n",
    "如果Jupyter Notebook服务器运行的操作系统（例如Linux或Mac操作系统）支持PTY（伪终端），那么可以产生的交互式命令终端进程。如果操作系统（例如Windows系统）不支持，那么命令终端功能不会启用。\n",
    "\n",
    "在文件选项栏下，打开一个新的命令终端（** New -> Terminal **）时，浏览器会打开一个新的标签页，即命令终端页。"
   ]
  },
  {
   "cell_type": "markdown",
   "metadata": {
    "slideshow": {
     "slide_type": "slide"
    }
   },
   "source": [
    "在命令终端下，能够运行所有伪终端支持的程序。\n",
    "\n",
    "![命令终端页](assets/terminal_42.png)"
   ]
  },
  {
   "cell_type": "markdown",
   "metadata": {
    "slideshow": {
     "slide_type": "slide"
    }
   },
   "source": [
    "## 安全的Notebook服务器\n",
    "\n",
    "Jupyter Notebook允许用户在其运行的计算机上执行任意代码，安全度较低。故而Jupyter Notebook缺省只能在本地机运行，即缺省运行的服务器只监听本地网络端口(`127.0.0.1`)。"
   ]
  },
  {
   "cell_type": "markdown",
   "metadata": {
    "slideshow": {
     "slide_type": "slide"
    }
   },
   "source": [
    "为了方便通过互联网访问Jupyter Notebook，可以使用SSL协议，并设置密码来实现。参见Jupyter官网。"
   ]
  },
  {
   "cell_type": "markdown",
   "metadata": {
    "slideshow": {
     "slide_type": "slide"
    }
   },
   "source": [
    "使用HTTPS协议访问Jupyter Notebook和本地访问没有什么区别。只是登录时需要输入密码。另外在页面右上角多了个`Logout`的图标。\n",
    "\n",
    "如果大家仔细看本书示例，会发现我们就是此种情况。"
   ]
  },
  {
   "cell_type": "markdown",
   "metadata": {
    "slideshow": {
     "slide_type": "slide"
    }
   },
   "source": [
    "## 继续学习\n",
    "\n",
    "使用Jupyter notebook可以实现文件管理、也可以创建文本文件、打开命令终端，然而最重要的工作就是创建Notebook文件，在其中编写文档和代码。\n",
    "\n",
    "- [编写文档使用Markdown语法](markdown.ipynb)\n",
    "- [编写代码会用IPython知识](ipython.ipynb)"
   ]
  },
  {
   "cell_type": "markdown",
   "metadata": {
    "slideshow": {
     "slide_type": "slide"
    }
   },
   "source": [
    "## 更多内容\n",
    "\n",
    "Jupyter更多内容，推荐如下资料[Jupyter使用指南](https://www.packtpub.com/big-data-and-business-intelligence/jupyter-cookbook)"
   ]
  }
 ],
 "metadata": {
  "celltoolbar": "Slideshow",
  "kernelspec": {
   "display_name": "Python 3",
   "language": "python",
   "name": "python3"
  },
  "language_info": {
   "codemirror_mode": {
    "name": "ipython",
    "version": 3
   },
   "file_extension": ".py",
   "mimetype": "text/x-python",
   "name": "python",
   "nbconvert_exporter": "python",
   "pygments_lexer": "ipython3",
   "version": "3.6.4"
  },
  "toc": {
   "base_numbering": 1,
   "nav_menu": {},
   "number_sections": true,
   "sideBar": true,
   "skip_h1_title": false,
   "title_cell": "Table of Contents",
   "title_sidebar": "Contents",
   "toc_cell": false,
   "toc_position": {},
   "toc_section_display": true,
   "toc_window_display": true
  }
 },
 "nbformat": 4,
 "nbformat_minor": 1
}
