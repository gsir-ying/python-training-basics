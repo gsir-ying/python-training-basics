{
 "cells": [
  {
   "cell_type": "markdown",
   "metadata": {
    "slideshow": {
     "slide_type": "slide"
    }
   },
   "source": [
    "# 类（class）\n",
    "\n",
    "**王伟华**"
   ]
  },
  {
   "cell_type": "markdown",
   "metadata": {
    "slideshow": {
     "slide_type": "slide"
    }
   },
   "source": [
    "## 培训目标\n",
    "\n",
    "- 熟练掌握如何定义类，熟悉类的封装、继承和多态；\n",
    "- 了解元类以及类属性及实例属性\n",
    "- 熟悉类的各种方法，了解函数与方法的区别\n",
    "- 了解Python类继承关系"
   ]
  },
  {
   "cell_type": "markdown",
   "metadata": {
    "slideshow": {
     "slide_type": "slide"
    }
   },
   "source": [
    "## 培训内容\n",
    "\n",
    "- [面向对象介绍](intro.ipynb)\n",
    "- [类基础](class_basics.ipynb)\n",
    "- [更多面向对象](class_high.ipynb)\n",
    "- [面向对象设计模式](design.ipynb)"
   ]
  },
  {
   "cell_type": "markdown",
   "metadata": {
    "slideshow": {
     "slide_type": "slide"
    }
   },
   "source": [
    "## [作业](homework.ipynb)\n",
    "\n",
    "- 练习：要求学员课堂或自习时完成，讲师需要讲解。\n",
    "\n",
    "- 面试：要求学员自习时完成，辅导员予以讲解。\n",
    "\n",
    "- 课后作业：要求学员课后或自习时完成，作业需要上传到自己的Github。辅导员需要了解学员作业状况。"
   ]
  }
 ],
 "metadata": {
  "celltoolbar": "Slideshow",
  "kernelspec": {
   "display_name": "Python 3",
   "language": "python",
   "name": "python3"
  },
  "language_info": {
   "codemirror_mode": {
    "name": "ipython",
    "version": 3
   },
   "file_extension": ".py",
   "mimetype": "text/x-python",
   "name": "python",
   "nbconvert_exporter": "python",
   "pygments_lexer": "ipython3",
   "version": "3.6.4"
  },
  "toc": {
   "base_numbering": 1,
   "nav_menu": {},
   "number_sections": true,
   "sideBar": true,
   "skip_h1_title": false,
   "title_cell": "Table of Contents",
   "title_sidebar": "Contents",
   "toc_cell": false,
   "toc_position": {},
   "toc_section_display": true,
   "toc_window_display": false
  }
 },
 "nbformat": 4,
 "nbformat_minor": 2
}
