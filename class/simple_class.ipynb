{
 "cells": [
  {
   "cell_type": "markdown",
   "metadata": {
    "slideshow": {
     "slide_type": "slide"
    }
   },
   "source": [
    "# 类基础\n",
    "\n",
    "\n",
    "<img src=\"assets/class01.png\" width=\"60%\" >"
   ]
  },
  {
   "cell_type": "markdown",
   "metadata": {
    "slideshow": {
     "slide_type": "slide"
    }
   },
   "source": [
    "## 面向对象\n",
    "\n",
    "面向过程编程也称为结构化编程，其思想主要是将一个大的问题划分为几个小的问题，再将几个小的问题划分为更小的问题。小的问题可以用一个函数来实现，程序就是一系列函数的集合。因此，有人提出了一个著名的编程公式：\n",
    "```\n",
    "程序 = 数据结构 + 算法\n",
    "```"
   ]
  },
  {
   "cell_type": "markdown",
   "metadata": {
    "slideshow": {
     "slide_type": "slide"
    }
   },
   "source": [
    "面向对象编程（Object-Oriented Programming，OOP），是应用程序开发的一种新方法、新思想。在面向对象中，算法与数据结构当做一个整体，也就是一个对象。现实世界中很多事物，都可以抽象为具有一定的属性和操作的对象，这也更符合人的思维习惯。所以面向对象的编程公式就是：\n",
    "```\n",
    "对象 = 算法 + 数据结构\n",
    "程序 = 对象 + 对象 + ...\n",
    "```"
   ]
  },
  {
   "cell_type": "markdown",
   "metadata": {
    "slideshow": {
     "slide_type": "slide"
    }
   },
   "source": [
    "面向过程与面向对象二者并不是非此即彼的关系，而是相辅相成的关系。实际上，类中的方法可以理解为就是函数。要根据具体问题来决定使用函数还是类。"
   ]
  },
  {
   "cell_type": "markdown",
   "metadata": {
    "slideshow": {
     "slide_type": "-"
    }
   },
   "source": [
    "当程序规模不大时，面向过程的方法还会体现出一些优势。然而，要开发大型应用程序，还是需要考虑面向对象的方法。"
   ]
  },
  {
   "cell_type": "markdown",
   "metadata": {
    "slideshow": {
     "slide_type": "slide"
    }
   },
   "source": [
    "** 为什么面向对象 **\n",
    "\n",
    "> 通过面向对象的方法，更利于用人理解的方式对复杂系统进行分析、设计与编程。同时，面向对象能有效提高编程的效率，通过封装技术，消息机制可以像搭积木的一样快速开发出一个全新的系统。"
   ]
  },
  {
   "cell_type": "markdown",
   "metadata": {
    "slideshow": {
     "slide_type": "slide"
    }
   },
   "source": [
    "**对象**\n",
    "\n",
    "* 对象具有状态（即属性），一个对象用数据值来描述它的状态。\n",
    "* 对象还有操作（即方法），用于改变对象的状态，对象及其操作就是对象的行为。\n",
    "* 对象实现了数据和操作的结合，使数据和操作封装于对象的统一体中"
   ]
  },
  {
   "cell_type": "markdown",
   "metadata": {
    "slideshow": {
     "slide_type": "slide"
    }
   },
   "source": [
    "** 对象和类 **\n",
    "\n",
    "对象的抽象是类，类的实例是对象。\n",
    "\n",
    "* 使用类可以轻易地实例化千万个对象；\n",
    "* 同一类型的对象具有相同特性（数据元素）和行为（功能）；"
   ]
  },
  {
   "cell_type": "markdown",
   "metadata": {
    "slideshow": {
     "slide_type": "slide"
    }
   },
   "source": [
    "** 对象交互 **\n",
    "\n",
    "* 对象之间通过消息传递方式进行通信\n",
    "* 类定义了消息传递的协议\n",
    "* 消息包括接收对象的对象名和方法名\n",
    "* 其实很简单：object_name.method_name(arguments)"
   ]
  },
  {
   "cell_type": "markdown",
   "metadata": {
    "slideshow": {
     "slide_type": "slide"
    }
   },
   "source": [
    "## 内置类\n",
    "\n",
    "Python已经内置很多常用类：\n",
    "- 数据型\n",
    "    - 整数(int)、布尔数(bool)、浮点数(float)、复数(complex)\n",
    "- 组合型\n",
    "    - 字符串(str)、列表(list)、元组(tuple)、字典(dict)、集合(set)"
   ]
  },
  {
   "cell_type": "markdown",
   "metadata": {
    "slideshow": {
     "slide_type": "slide"
    }
   },
   "source": [
    "## 定义类\n",
    "\n",
    "```python\n",
    "class ClassName(base_classes):\n",
    "    suite\n",
    "```\n",
    "其中基本要素包括：\n",
    "- 关键词`class`\n",
    "- 类名\n",
    "- 可选的父类\n",
    "- 冒号`:`与缩进\n",
    "- 定义体"
   ]
  },
  {
   "cell_type": "markdown",
   "metadata": {
    "slideshow": {
     "slide_type": "slide"
    }
   },
   "source": [
    "按照PEP8规范，类名首字母大写，如果是多个单词要使用驼峰命名。"
   ]
  },
  {
   "cell_type": "markdown",
   "metadata": {
    "slideshow": {
     "slide_type": "slide"
    }
   },
   "source": [
    "### 准备工作\n",
    "\n",
    "在定义类之前，也就是解决问题之前需要做的事情有：\n",
    "- 面向对象分析（Object Oriented Analysis，OOA）  \n",
    "有哪些对象？对象有哪些属性和方法？\n",
    "\n",
    "- 面向对象设计（Object Oriented Design，OOD）  \n",
    "如何设计类及其属性和方法？"
   ]
  },
  {
   "cell_type": "markdown",
   "metadata": {
    "slideshow": {
     "slide_type": "slide"
    }
   },
   "source": [
    "### 最简单的类\n",
    "\n",
    "下面来定义一个最简单的类，没有特定的属性或方法。"
   ]
  },
  {
   "cell_type": "code",
   "execution_count": 1,
   "metadata": {
    "slideshow": {
     "slide_type": "-"
    }
   },
   "outputs": [],
   "source": [
    "class SimpleClass():\n",
    "    pass"
   ]
  },
  {
   "cell_type": "markdown",
   "metadata": {
    "slideshow": {
     "slide_type": "slide"
    }
   },
   "source": [
    "可以省略圆括号"
   ]
  },
  {
   "cell_type": "code",
   "execution_count": 2,
   "metadata": {
    "slideshow": {
     "slide_type": "-"
    }
   },
   "outputs": [],
   "source": [
    "class SimpleClass:\n",
    "    pass"
   ]
  },
  {
   "cell_type": "markdown",
   "metadata": {
    "slideshow": {
     "slide_type": "slide"
    }
   },
   "source": [
    "定义了`SimpleClass`类之后，就可以创建对象，如同调用函数一样："
   ]
  },
  {
   "cell_type": "code",
   "execution_count": 3,
   "metadata": {
    "slideshow": {
     "slide_type": "-"
    }
   },
   "outputs": [],
   "source": [
    "obj1 = SimpleClass()\n",
    "obj2 = SimpleClass()"
   ]
  },
  {
   "cell_type": "markdown",
   "metadata": {
    "slideshow": {
     "slide_type": "slide"
    }
   },
   "source": [
    "使用自省和帮助查看这些对象："
   ]
  },
  {
   "cell_type": "code",
   "execution_count": 4,
   "metadata": {
    "slideshow": {
     "slide_type": "-"
    }
   },
   "outputs": [
    {
     "name": "stdout",
     "output_type": "stream",
     "text": [
      "<class '__main__.SimpleClass'> <class '__main__.SimpleClass'>\n"
     ]
    }
   ],
   "source": [
    "print(type(obj1), type(obj2))"
   ]
  },
  {
   "cell_type": "markdown",
   "metadata": {
    "slideshow": {
     "slide_type": "slide"
    }
   },
   "source": [
    "### 魔术方法\n",
    "\n",
    "在Python类中，以两个下划线开头的方法称为“魔术方法”（Magic methods），以两个下划线开头的属性，称为“魔术属性”（Magic attribute）。\n",
    "- `__init__`，当创建一个实例时，调用的构造方法\n",
    "- `__doc__`，文档字符串，存放类的说明\n",
    "- `__dict__`，存放实例的特性\n",
    "- `__str__`，可以用`str()`得到对象的字符串，面向用户\n",
    "- `__repr__`，可以用`repr()`得到对象的字符串，面向程序员"
   ]
  },
  {
   "cell_type": "code",
   "execution_count": 5,
   "metadata": {
    "slideshow": {
     "slide_type": "slide"
    }
   },
   "outputs": [
    {
     "name": "stdout",
     "output_type": "stream",
     "text": [
      "None <class 'NoneType'>\n",
      "{} <class 'dict'>\n"
     ]
    }
   ],
   "source": [
    "print(obj1.__doc__, type(obj1.__doc__))\n",
    "print(obj1.__dict__, type(obj1.__dict__))"
   ]
  },
  {
   "cell_type": "code",
   "execution_count": 6,
   "metadata": {
    "slideshow": {
     "slide_type": "slide"
    }
   },
   "outputs": [
    {
     "name": "stdout",
     "output_type": "stream",
     "text": [
      "<__main__.SimpleClass object at 0x7fb4994f4cf8>\n"
     ]
    },
    {
     "data": {
      "text/plain": [
       "<__main__.SimpleClass at 0x7fb4994f4cf8>"
      ]
     },
     "execution_count": 6,
     "metadata": {},
     "output_type": "execute_result"
    }
   ],
   "source": [
    "print(obj1)\n",
    "obj1 "
   ]
  },
  {
   "cell_type": "code",
   "execution_count": 7,
   "metadata": {
    "slideshow": {
     "slide_type": "slide"
    }
   },
   "outputs": [
    {
     "data": {
      "text/plain": [
       "('<__main__.SimpleClass object at 0x7fb4994f4cf8>',\n",
       " '<__main__.SimpleClass object at 0x7fb4994f4cf8>')"
      ]
     },
     "execution_count": 7,
     "metadata": {},
     "output_type": "execute_result"
    }
   ],
   "source": [
    "str(obj1), repr(obj1)"
   ]
  },
  {
   "cell_type": "markdown",
   "metadata": {
    "slideshow": {
     "slide_type": "slide"
    }
   },
   "source": [
    "### 复杂一些的类\n",
    "\n",
    "下面定义稍微复杂一些，且就是现实生活中的类。环顾四周，尽管大家肥瘦美丑不尽相同，但可以抽象出人类，也就是说大家都是人类的实例。下面就以`Human`类的定义来演示。"
   ]
  },
  {
   "cell_type": "markdown",
   "metadata": {
    "slideshow": {
     "slide_type": "slide"
    }
   },
   "source": [
    "#### 分析和设计\n",
    "\n",
    "`Human`类的实例，也就是大家。可以分析和归纳人类具有哪些属性或行为。"
   ]
  },
  {
   "cell_type": "markdown",
   "metadata": {
    "slideshow": {
     "slide_type": "-"
    }
   },
   "source": [
    "每个人都有一些属性，例如名字、年龄，性别、身高等，考虑深远的话，还有身份证、国籍等。为了简化示例，这里假定`Human`属性只包括：姓名、性别、年龄。"
   ]
  },
  {
   "cell_type": "markdown",
   "metadata": {
    "slideshow": {
     "slide_type": "slide"
    }
   },
   "source": [
    "人的行为那就更多了。也为了简化示例，这里假定有两种行为：\n",
    "- 自我介绍，说出自己的名字；\n",
    "- 打招呼，向别人打招呼。"
   ]
  },
  {
   "cell_type": "markdown",
   "metadata": {
    "slideshow": {
     "slide_type": "slide"
    }
   },
   "source": [
    "#### 类的实现\n",
    "\n",
    "使用Python实现`Human`类，这里我们要重新实现魔术方法：\n",
    "- `__init__`\n",
    "- `__doc__`\n",
    "- `__str__`\n",
    "- `__repr__`"
   ]
  },
  {
   "cell_type": "markdown",
   "metadata": {
    "slideshow": {
     "slide_type": "-"
    }
   },
   "source": [
    "新定义2个方法（人的行为）：\n",
    "- `introduce_myself()`\n",
    "- `say_hello()`"
   ]
  },
  {
   "cell_type": "code",
   "execution_count": 8,
   "metadata": {
    "slideshow": {
     "slide_type": "slide"
    }
   },
   "outputs": [],
   "source": [
    "class Human():\n",
    "    \"\"\"\\\n",
    "    Human(name, age)  -> person\n",
    "    Human(name, age, gender='Male)  -> person\n",
    "\n",
    "    Create a person by a name and age\n",
    "    \n",
    "    >>> Human('David', 38)\n",
    "    Human('David', 38, 'Male')\n",
    "    \"\"\"\n",
    "    def __init__(self, name, age, gender='Male'):\n",
    "        self.name = name\n",
    "        self.age = age\n",
    "        self.gender = gender\n",
    "    \n",
    "    def introduce_myself(self):\n",
    "        \"\"\"introduce myself\"\"\"\n",
    "        print('我是{0}，今年{1}岁了'.format(self.name, self.age))\n",
    "    \n",
    "    def say_hello(self, other):\n",
    "        \"\"\"say hello to the other person\"\"\"\n",
    "        print('{0}，很高兴见到您'.format(other.name))\n",
    "    \n",
    "    def __repr__(self):\n",
    "        return 'Human({0.name!r}, {0.age!r}, {0.gender!r})'.format(self)\n",
    "    \n",
    "    def __str__(self):\n",
    "        return '{0.name!r}'.format(self)"
   ]
  },
  {
   "cell_type": "code",
   "execution_count": 9,
   "metadata": {
    "slideshow": {
     "slide_type": "slide"
    }
   },
   "outputs": [],
   "source": [
    "teacher = Human('老王', 42)\n",
    "wuyang = Human('吴杨', 22)\n",
    "student = Human('崔玉竹', 22, gender='Female')"
   ]
  },
  {
   "cell_type": "markdown",
   "metadata": {
    "slideshow": {
     "slide_type": "slide"
    }
   },
   "source": [
    "使用自省和帮助查看这些对象："
   ]
  },
  {
   "cell_type": "code",
   "execution_count": 10,
   "metadata": {
    "slideshow": {
     "slide_type": "-"
    }
   },
   "outputs": [
    {
     "name": "stdout",
     "output_type": "stream",
     "text": [
      "<class '__main__.Human'> <class '__main__.Human'> <class '__main__.Human'>\n"
     ]
    }
   ],
   "source": [
    "print(type(teacher), type(wuyang), type(student))"
   ]
  },
  {
   "cell_type": "code",
   "execution_count": 11,
   "metadata": {
    "slideshow": {
     "slide_type": "slide"
    }
   },
   "outputs": [
    {
     "name": "stdout",
     "output_type": "stream",
     "text": [
      "'老王'\n"
     ]
    },
    {
     "data": {
      "text/plain": [
       "Human('老王', 42, 'Male')"
      ]
     },
     "execution_count": 11,
     "metadata": {},
     "output_type": "execute_result"
    }
   ],
   "source": [
    "print(teacher)\n",
    "teacher"
   ]
  },
  {
   "cell_type": "code",
   "execution_count": 12,
   "metadata": {
    "slideshow": {
     "slide_type": "-"
    }
   },
   "outputs": [
    {
     "data": {
      "text/plain": [
       "(\"'老王'\", \"Human('老王', 42, 'Male')\")"
      ]
     },
     "execution_count": 12,
     "metadata": {},
     "output_type": "execute_result"
    }
   ],
   "source": [
    "str(teacher), repr(teacher)"
   ]
  },
  {
   "cell_type": "code",
   "execution_count": 13,
   "metadata": {
    "slideshow": {
     "slide_type": "slide"
    }
   },
   "outputs": [
    {
     "name": "stdout",
     "output_type": "stream",
     "text": [
      "    Human(name, age)  -> person\n",
      "    Human(name, age, gender='Male)  -> person\n",
      "\n",
      "    Create a person by a name and age\n",
      "    \n",
      "    >>> Human('David', 38)\n",
      "    Human('David', 38, 'Male')\n",
      "    \n"
     ]
    }
   ],
   "source": [
    "print(teacher.__doc__)"
   ]
  },
  {
   "cell_type": "code",
   "execution_count": 14,
   "metadata": {
    "slideshow": {
     "slide_type": "slide"
    }
   },
   "outputs": [
    {
     "name": "stdout",
     "output_type": "stream",
     "text": [
      "{'name': '老王', 'age': 42, 'gender': 'Male'}\n"
     ]
    }
   ],
   "source": [
    "print(teacher.__dict__)"
   ]
  },
  {
   "cell_type": "code",
   "execution_count": 15,
   "metadata": {
    "slideshow": {
     "slide_type": "slide"
    }
   },
   "outputs": [
    {
     "name": "stdout",
     "output_type": "stream",
     "text": [
      "Help on Human in module __main__ object:\n",
      "\n",
      "class Human(builtins.object)\n",
      " |  Human(name, age)  -> person\n",
      " |  Human(name, age, gender='Male)  -> person\n",
      " |  \n",
      " |  Create a person by a name and age\n",
      " |  \n",
      " |  >>> Human('David', 38)\n",
      " |  Human('David', 38, 'Male')\n",
      " |  \n",
      " |  Methods defined here:\n",
      " |  \n",
      " |  __init__(self, name, age, gender='Male')\n",
      " |      Initialize self.  See help(type(self)) for accurate signature.\n",
      " |  \n",
      " |  __repr__(self)\n",
      " |      Return repr(self).\n",
      " |  \n",
      " |  __str__(self)\n",
      " |      Return str(self).\n",
      " |  \n",
      " |  introduce_myself(self)\n",
      " |      introduce myself\n",
      " |  \n",
      " |  say_hello(self, other)\n",
      " |      say hello to the other person\n",
      " |  \n",
      " |  ----------------------------------------------------------------------\n",
      " |  Data descriptors defined here:\n",
      " |  \n",
      " |  __dict__\n",
      " |      dictionary for instance variables (if defined)\n",
      " |  \n",
      " |  __weakref__\n",
      " |      list of weak references to the object (if defined)\n",
      "\n"
     ]
    }
   ],
   "source": [
    "help(teacher)"
   ]
  },
  {
   "cell_type": "markdown",
   "metadata": {
    "slideshow": {
     "slide_type": "slide"
    }
   },
   "source": [
    "调用方法"
   ]
  },
  {
   "cell_type": "code",
   "execution_count": 17,
   "metadata": {
    "slideshow": {
     "slide_type": "-"
    }
   },
   "outputs": [
    {
     "name": "stdout",
     "output_type": "stream",
     "text": [
      "我是老王，今年42岁了\n",
      "我是吴杨，今年22岁了\n",
      "吴杨，很高兴见到您\n",
      "老王，很高兴见到您\n"
     ]
    },
    {
     "data": {
      "text/plain": [
       "Human('xxx', 42, 'Male')"
      ]
     },
     "execution_count": 17,
     "metadata": {},
     "output_type": "execute_result"
    }
   ],
   "source": [
    "teacher.introduce_myself()\n",
    "wuyang.introduce_myself()\n",
    "teacher.say_hello(wuyang)\n",
    "wuyang.say_hello(teacher)"
   ]
  },
  {
   "cell_type": "markdown",
   "metadata": {
    "slideshow": {
     "slide_type": "slide"
    }
   },
   "source": [
    "## 类的封装\n",
    "\n",
    "通过隐藏属性，封装提供了一个有效途径来保护数据。"
   ]
  },
  {
   "cell_type": "markdown",
   "metadata": {
    "slideshow": {
     "slide_type": "slide"
    }
   },
   "source": [
    "下面定义一个培训班的学生（Student）类，包括：\n",
    "- 属性：\n",
    "    - 名字\n",
    "    - 成绩\n",
    "- 方法\n",
    "    - 是否及格\n",
    "    - 打印成绩"
   ]
  },
  {
   "cell_type": "code",
   "execution_count": 19,
   "metadata": {
    "slideshow": {
     "slide_type": "slide"
    }
   },
   "outputs": [],
   "source": [
    "class Student():\n",
    "    \"\"\"Provide student class in python training\"\"\"\n",
    "    def __init__(self, name, score):\n",
    "        self.__name = name\n",
    "        self.__score = score\n",
    "    \n",
    "    def __is_pass(self):\n",
    "        return self.__score >= 60\n",
    "    \n",
    "    def print_score(self):\n",
    "        status = '及格' if self.__is_pass() else '不及格'\n",
    "        print('{0}: {1}, {2}'.format(self.__name, self.__score, status))    "
   ]
  },
  {
   "cell_type": "markdown",
   "metadata": {
    "slideshow": {
     "slide_type": "slide"
    }
   },
   "source": [
    "如果要保护这些内部属性，不想它们被外部访问，可以在属性名称前加上两个下划线`__`。在Python对象中，以`__`开头属性变成一个私有属性（private），以`__`开头的方法，会变成一个私有方法（private），只有内部可以访问。"
   ]
  },
  {
   "cell_type": "markdown",
   "metadata": {
    "slideshow": {
     "slide_type": "slide"
    }
   },
   "source": [
    "此时创建的对象，就不能访问私有属性，否则会引发`AtrributeError`异常。"
   ]
  },
  {
   "cell_type": "code",
   "execution_count": 20,
   "metadata": {
    "slideshow": {
     "slide_type": "-"
    }
   },
   "outputs": [
    {
     "name": "stdout",
     "output_type": "stream",
     "text": [
      "老王: 59, 不及格\n"
     ]
    },
    {
     "ename": "AttributeError",
     "evalue": "'Student' object has no attribute '__name'",
     "output_type": "error",
     "traceback": [
      "\u001b[0;31m---------------------------------------------------------------------------\u001b[0m",
      "\u001b[0;31mAttributeError\u001b[0m                            Traceback (most recent call last)",
      "\u001b[0;32m<ipython-input-20-89a99a03f397>\u001b[0m in \u001b[0;36m<module>\u001b[0;34m()\u001b[0m\n\u001b[1;32m      1\u001b[0m \u001b[0mstudent2\u001b[0m \u001b[0;34m=\u001b[0m \u001b[0mStudent\u001b[0m\u001b[0;34m(\u001b[0m\u001b[0;34m'老王'\u001b[0m\u001b[0;34m,\u001b[0m \u001b[0;36m59\u001b[0m\u001b[0;34m)\u001b[0m\u001b[0;34m\u001b[0m\u001b[0m\n\u001b[1;32m      2\u001b[0m \u001b[0mstudent2\u001b[0m\u001b[0;34m.\u001b[0m\u001b[0mprint_score\u001b[0m\u001b[0;34m(\u001b[0m\u001b[0;34m)\u001b[0m\u001b[0;34m\u001b[0m\u001b[0m\n\u001b[0;32m----> 3\u001b[0;31m \u001b[0mstudent2\u001b[0m\u001b[0;34m.\u001b[0m\u001b[0m__name\u001b[0m\u001b[0;34m\u001b[0m\u001b[0m\n\u001b[0m",
      "\u001b[0;31mAttributeError\u001b[0m: 'Student' object has no attribute '__name'"
     ]
    }
   ],
   "source": [
    "student2 = Student('老王', 59)\n",
    "student2.print_score()\n",
    "student2.__name"
   ]
  },
  {
   "cell_type": "code",
   "execution_count": 21,
   "metadata": {
    "slideshow": {
     "slide_type": "slide"
    }
   },
   "outputs": [
    {
     "ename": "AttributeError",
     "evalue": "'Student' object has no attribute '__is_pass'",
     "output_type": "error",
     "traceback": [
      "\u001b[0;31m---------------------------------------------------------------------------\u001b[0m",
      "\u001b[0;31mAttributeError\u001b[0m                            Traceback (most recent call last)",
      "\u001b[0;32m<ipython-input-21-37356f6d3690>\u001b[0m in \u001b[0;36m<module>\u001b[0;34m()\u001b[0m\n\u001b[0;32m----> 1\u001b[0;31m \u001b[0mstudent2\u001b[0m\u001b[0;34m.\u001b[0m\u001b[0m__is_pass\u001b[0m\u001b[0;34m(\u001b[0m\u001b[0;34m)\u001b[0m\u001b[0;34m\u001b[0m\u001b[0m\n\u001b[0m",
      "\u001b[0;31mAttributeError\u001b[0m: 'Student' object has no attribute '__is_pass'"
     ]
    }
   ],
   "source": [
    "student2.__is_pass()"
   ]
  },
  {
   "cell_type": "markdown",
   "metadata": {
    "slideshow": {
     "slide_type": "slide"
    }
   },
   "source": [
    "如此封装就保护了对象的数据，使得外部代码不能随意修改对象内部属性，代码也会更加健壮。但是需要提供访问内部数据的场景，可以通过增加对应的接口方法即可。"
   ]
  },
  {
   "cell_type": "code",
   "execution_count": 22,
   "metadata": {
    "slideshow": {
     "slide_type": "slide"
    }
   },
   "outputs": [],
   "source": [
    "class Student():\n",
    "    \"\"\"Provide student class in python training\"\"\"\n",
    "    def __init__(self, name, score):\n",
    "        self.__name = name\n",
    "        self.__score = score\n",
    "\n",
    "    def get_name(self):\n",
    "        return self.__name\n",
    "\n",
    "    def get_score(self):\n",
    "        return self.__score\n",
    "    \n",
    "    def __is_pass(self):\n",
    "        return self.__score >= 60\n",
    "    \n",
    "    def print_score(self):\n",
    "        status = '及格' if self.__is_pass() else '不及格'\n",
    "        print('{0}: {1}, {2}'.format(self.__name, self.__score, status))    "
   ]
  },
  {
   "cell_type": "code",
   "execution_count": 23,
   "metadata": {
    "slideshow": {
     "slide_type": "slide"
    }
   },
   "outputs": [
    {
     "name": "stdout",
     "output_type": "stream",
     "text": [
      "老王: 59, 不及格\n",
      "老王 59\n"
     ]
    }
   ],
   "source": [
    "student3 = Student('老王', 59)\n",
    "student3.print_score()\n",
    "print(student3.get_name(), student3.get_score())"
   ]
  },
  {
   "cell_type": "markdown",
   "metadata": {
    "slideshow": {
     "slide_type": "slide"
    }
   },
   "source": [
    "如果需要更改培训成绩，还可以增加对应的操作方法"
   ]
  },
  {
   "cell_type": "code",
   "execution_count": 24,
   "metadata": {
    "slideshow": {
     "slide_type": "slide"
    }
   },
   "outputs": [],
   "source": [
    "class Student():\n",
    "    \"\"\"Provide student class in python training\"\"\"\n",
    "    def __init__(self, name, score):\n",
    "        self.__name = name\n",
    "        self.__score = score\n",
    "\n",
    "    def get_name(self):\n",
    "        return self.__name\n",
    "\n",
    "    def get_score(self):\n",
    "        return self.__score\n",
    "\n",
    "    def set_score(self, score):\n",
    "        self.__score = score\n",
    "    \n",
    "    def __is_pass(self):\n",
    "        return self.__score >= 60\n",
    "    \n",
    "    def print_score(self):\n",
    "        status = '及格' if self.__is_pass() else '不及格'\n",
    "        print('{0}: {1}, {2}'.format(self.__name, self.__score, status))    "
   ]
  },
  {
   "cell_type": "code",
   "execution_count": 25,
   "metadata": {
    "slideshow": {
     "slide_type": "slide"
    }
   },
   "outputs": [
    {
     "name": "stdout",
     "output_type": "stream",
     "text": [
      "老王: 59, 不及格\n",
      "老王: 60, 及格\n"
     ]
    }
   ],
   "source": [
    "student4 = Student('老王', 59)\n",
    "student4.print_score()\n",
    "student4.set_score(60)\n",
    "student4.print_score()"
   ]
  },
  {
   "cell_type": "markdown",
   "metadata": {
    "slideshow": {
     "slide_type": "slide"
    }
   },
   "source": [
    "\n",
    "使用封装技术，可以控制存取对象的属性，提供“只读”、“只写”、“读写”等灵活的的操作方法。"
   ]
  }
 ],
 "metadata": {
  "celltoolbar": "Slideshow",
  "kernelspec": {
   "display_name": "Python 3",
   "language": "python",
   "name": "python3"
  },
  "language_info": {
   "codemirror_mode": {
    "name": "ipython",
    "version": 3
   },
   "file_extension": ".py",
   "mimetype": "text/x-python",
   "name": "python",
   "nbconvert_exporter": "python",
   "pygments_lexer": "ipython3",
   "version": "3.6.4"
  },
  "toc": {
   "base_numbering": 1,
   "nav_menu": {},
   "number_sections": true,
   "sideBar": true,
   "skip_h1_title": false,
   "title_cell": "Table of Contents",
   "title_sidebar": "Contents",
   "toc_cell": false,
   "toc_position": {
    "height": "calc(100% - 180px)",
    "left": "10px",
    "top": "150px",
    "width": "183px"
   },
   "toc_section_display": true,
   "toc_window_display": false
  }
 },
 "nbformat": 4,
 "nbformat_minor": 1
}
