{
 "cells": [
  {
   "cell_type": "markdown",
   "metadata": {
    "slideshow": {
     "slide_type": "slide"
    }
   },
   "source": [
    "# 更多面向对象"
   ]
  },
  {
   "cell_type": "markdown",
   "metadata": {
    "slideshow": {
     "slide_type": "slide"
    }
   },
   "source": [
    "## 元类\n",
    "\n",
    "在Python中，万物皆对象。截至目前，我们已经学习了数字、空类`NoneType`、字符串、列表、元组、字典、集合等内置类，还学会了定义函数以及定义类。有了类之后，就可以创建成千上万的对象，也就是类的实例。"
   ]
  },
  {
   "cell_type": "markdown",
   "metadata": {
    "slideshow": {
     "slide_type": "slide"
    }
   },
   "source": [
    "使用Python内置函数`type()`可以得到对象所属类。例如："
   ]
  },
  {
   "cell_type": "code",
   "execution_count": 89,
   "metadata": {
    "slideshow": {
     "slide_type": "-"
    }
   },
   "outputs": [
    {
     "data": {
      "text/plain": [
       "(bool, int, float, complex, str, NoneType)"
      ]
     },
     "execution_count": 89,
     "metadata": {},
     "output_type": "execute_result"
    }
   ],
   "source": [
    "type(True), type(1), type(1.), type(1j), type('1j'), type(None)"
   ]
  },
  {
   "cell_type": "code",
   "execution_count": 90,
   "metadata": {
    "slideshow": {
     "slide_type": "-"
    }
   },
   "outputs": [
    {
     "data": {
      "text/plain": [
       "(list, tuple, dict, set)"
      ]
     },
     "execution_count": 90,
     "metadata": {},
     "output_type": "execute_result"
    }
   ],
   "source": [
    "type([]), type(()), type({}), type(set())"
   ]
  },
  {
   "cell_type": "markdown",
   "metadata": {
    "slideshow": {
     "slide_type": "slide"
    }
   },
   "source": [
    "使用Python内置的异常类，创建异常实例，例如："
   ]
  },
  {
   "cell_type": "code",
   "execution_count": 92,
   "metadata": {
    "slideshow": {
     "slide_type": "-"
    }
   },
   "outputs": [
    {
     "data": {
      "text/plain": [
       "ValueError"
      ]
     },
     "execution_count": 92,
     "metadata": {},
     "output_type": "execute_result"
    }
   ],
   "source": [
    "error = ValueError('值错误')\n",
    "type(error)"
   ]
  },
  {
   "cell_type": "markdown",
   "metadata": {
    "slideshow": {
     "slide_type": "slide"
    }
   },
   "source": [
    "使用`def`语句自定义一个函数"
   ]
  },
  {
   "cell_type": "code",
   "execution_count": 93,
   "metadata": {
    "slideshow": {
     "slide_type": "-"
    }
   },
   "outputs": [],
   "source": [
    "def add(x, y):\n",
    "    \"\"\"return x + y\"\"\"\n",
    "    return x + y"
   ]
  },
  {
   "cell_type": "code",
   "execution_count": 94,
   "metadata": {
    "slideshow": {
     "slide_type": "-"
    }
   },
   "outputs": [
    {
     "data": {
      "text/plain": [
       "function"
      ]
     },
     "execution_count": 94,
     "metadata": {},
     "output_type": "execute_result"
    }
   ],
   "source": [
    "type(add)"
   ]
  },
  {
   "cell_type": "markdown",
   "metadata": {
    "slideshow": {
     "slide_type": "slide"
    }
   },
   "source": [
    "使用`class`语句自定义一个类并创建对应对象。"
   ]
  },
  {
   "cell_type": "code",
   "execution_count": 96,
   "metadata": {
    "slideshow": {
     "slide_type": "-"
    }
   },
   "outputs": [
    {
     "data": {
      "text/plain": [
       "__main__.SimpleClass"
      ]
     },
     "execution_count": 96,
     "metadata": {},
     "output_type": "execute_result"
    }
   ],
   "source": [
    "class SimpleClass():\n",
    "    pass\n",
    "\n",
    "obj = SimpleClass()\n",
    "type(obj)"
   ]
  },
  {
   "cell_type": "markdown",
   "metadata": {
    "slideshow": {
     "slide_type": "slide"
    }
   },
   "source": [
    "使用`import`导入模块，也是一个对象，详见后续章节"
   ]
  },
  {
   "cell_type": "code",
   "execution_count": 97,
   "metadata": {
    "slideshow": {
     "slide_type": "-"
    }
   },
   "outputs": [
    {
     "data": {
      "text/plain": [
       "module"
      ]
     },
     "execution_count": 97,
     "metadata": {},
     "output_type": "execute_result"
    }
   ],
   "source": [
    "import math\n",
    "\n",
    "type(math)"
   ]
  },
  {
   "cell_type": "markdown",
   "metadata": {
    "slideshow": {
     "slide_type": "slide"
    }
   },
   "source": [
    "> 万物皆对象，那这些对象的类也是对象吗？\n",
    "\n",
    "孺子可教也！在Python中的类也是一种对象。可以继续使用`type()`来获得这些类对象所属类。"
   ]
  },
  {
   "cell_type": "code",
   "execution_count": 98,
   "metadata": {
    "slideshow": {
     "slide_type": "slide"
    }
   },
   "outputs": [
    {
     "data": {
      "text/plain": [
       "(type, type, type, type, type, type)"
      ]
     },
     "execution_count": 98,
     "metadata": {},
     "output_type": "execute_result"
    }
   ],
   "source": [
    "type(type(True)), type(type(1)), type(type(1.)), type(type(1j)), type(type('1j')), type(type(None))"
   ]
  },
  {
   "cell_type": "code",
   "execution_count": 99,
   "metadata": {
    "slideshow": {
     "slide_type": "-"
    }
   },
   "outputs": [
    {
     "data": {
      "text/plain": [
       "(type, type, type, type)"
      ]
     },
     "execution_count": 99,
     "metadata": {},
     "output_type": "execute_result"
    }
   ],
   "source": [
    "type(type([])), type(type(())), type(type({})), type(type(set()))"
   ]
  },
  {
   "cell_type": "code",
   "execution_count": 101,
   "metadata": {
    "slideshow": {
     "slide_type": "-"
    }
   },
   "outputs": [
    {
     "data": {
      "text/plain": [
       "(type, type, type, type)"
      ]
     },
     "execution_count": 101,
     "metadata": {},
     "output_type": "execute_result"
    }
   ],
   "source": [
    "type(type(error)), type(type(add)), type(type(obj)), type(type(math))"
   ]
  },
  {
   "cell_type": "markdown",
   "metadata": {
    "slideshow": {
     "slide_type": "slide"
    }
   },
   "source": [
    "如果Python已经声明了类，也就是说类名就是对象。"
   ]
  },
  {
   "cell_type": "code",
   "execution_count": 102,
   "metadata": {
    "slideshow": {
     "slide_type": "slide"
    }
   },
   "outputs": [
    {
     "data": {
      "text/plain": [
       "(type, type, type, type, type)"
      ]
     },
     "execution_count": 102,
     "metadata": {},
     "output_type": "execute_result"
    }
   ],
   "source": [
    "type(bool), type(int), type(float), type(complex), type(str)"
   ]
  },
  {
   "cell_type": "code",
   "execution_count": 103,
   "metadata": {
    "slideshow": {
     "slide_type": "-"
    }
   },
   "outputs": [
    {
     "data": {
      "text/plain": [
       "(type, type, type, type)"
      ]
     },
     "execution_count": 103,
     "metadata": {},
     "output_type": "execute_result"
    }
   ],
   "source": [
    "type(list) , type(tuple), type(dict), type(set)"
   ]
  },
  {
   "cell_type": "code",
   "execution_count": 104,
   "metadata": {
    "slideshow": {
     "slide_type": "-"
    }
   },
   "outputs": [
    {
     "data": {
      "text/plain": [
       "(type, type)"
      ]
     },
     "execution_count": 104,
     "metadata": {},
     "output_type": "execute_result"
    }
   ],
   "source": [
    "type(ValueError), type(SimpleClass)"
   ]
  },
  {
   "cell_type": "markdown",
   "metadata": {
    "slideshow": {
     "slide_type": "slide"
    }
   },
   "source": [
    "也就是说，这些类都是类`type`的实例。\n",
    "\n",
    "万物皆对象，那这些类的类`type`也是对象吗？\n",
    "\n",
    "臭小子，不要再打破砂锅问到底了，我要念咒了！"
   ]
  },
  {
   "cell_type": "code",
   "execution_count": 105,
   "metadata": {
    "slideshow": {
     "slide_type": "-"
    }
   },
   "outputs": [
    {
     "data": {
      "text/plain": [
       "(type, type)"
      ]
     },
     "execution_count": 105,
     "metadata": {},
     "output_type": "execute_result"
    }
   ],
   "source": [
    "# 试一试\n",
    "type(type(type(1))), type(type)"
   ]
  },
  {
   "cell_type": "code",
   "execution_count": 106,
   "metadata": {
    "slideshow": {
     "slide_type": "-"
    }
   },
   "outputs": [
    {
     "data": {
      "text/plain": [
       "(type, type)"
      ]
     },
     "execution_count": 106,
     "metadata": {},
     "output_type": "execute_result"
    }
   ],
   "source": [
    "# 太狠了\n",
    "type(type(type(type(type(type(1)))))), type(type(type(type(type))))"
   ]
  },
  {
   "cell_type": "markdown",
   "metadata": {
    "slideshow": {
     "slide_type": "slide"
    }
   },
   "source": [
    "类是一个对象，负责生成其它类的类`type`称为**元类**。元的英文是希腊前缀`Meta`。在中文中，元的意思有头、首、始的意思，与之相关的词，元气、元始天尊。顾名思义，元类是万类之首，万类之始。"
   ]
  },
  {
   "cell_type": "markdown",
   "metadata": {
    "slideshow": {
     "slide_type": "slide"
    }
   },
   "source": [
    "使用帮助`help()`查看`type`，也可以看出`type`实际上是一个类，元类而已。"
   ]
  },
  {
   "cell_type": "code",
   "execution_count": 19,
   "metadata": {},
   "outputs": [
    {
     "name": "stdout",
     "output_type": "stream",
     "text": [
      "Help on class type in module builtins:\n",
      "\n",
      "class type(object)\n",
      " |  type(object_or_name, bases, dict)\n",
      " |  type(object) -> the object's type\n",
      " |  type(name, bases, dict) -> a new type\n",
      " |  \n",
      " |  Methods defined here:\n",
      " |  \n",
      " |  __call__(self, /, *args, **kwargs)\n",
      " |      Call self as a function.\n",
      " |  \n",
      " |  __delattr__(self, name, /)\n",
      " |      Implement delattr(self, name).\n",
      " |  \n",
      " |  __dir__(...)\n",
      " |      __dir__() -> list\n",
      " |      specialized __dir__ implementation for types\n",
      " |  \n",
      " |  __getattribute__(self, name, /)\n",
      " |      Return getattr(self, name).\n",
      " |  \n",
      " |  __init__(self, /, *args, **kwargs)\n",
      " |      Initialize self.  See help(type(self)) for accurate signature.\n",
      " |  \n",
      " |  __instancecheck__(...)\n",
      " |      __instancecheck__() -> bool\n",
      " |      check if an object is an instance\n",
      " |  \n",
      " |  __new__(*args, **kwargs)\n",
      " |      Create and return a new object.  See help(type) for accurate signature.\n",
      " |  \n",
      " |  __prepare__(...)\n",
      " |      __prepare__() -> dict\n",
      " |      used to create the namespace for the class statement\n",
      " |  \n",
      " |  __repr__(self, /)\n",
      " |      Return repr(self).\n",
      " |  \n",
      " |  __setattr__(self, name, value, /)\n",
      " |      Implement setattr(self, name, value).\n",
      " |  \n",
      " |  __sizeof__(...)\n",
      " |      __sizeof__() -> int\n",
      " |      return memory consumption of the type object\n",
      " |  \n",
      " |  __subclasscheck__(...)\n",
      " |      __subclasscheck__() -> bool\n",
      " |      check if a class is a subclass\n",
      " |  \n",
      " |  __subclasses__(...)\n",
      " |      __subclasses__() -> list of immediate subclasses\n",
      " |  \n",
      " |  mro(...)\n",
      " |      mro() -> list\n",
      " |      return a type's method resolution order\n",
      " |  \n",
      " |  ----------------------------------------------------------------------\n",
      " |  Data descriptors defined here:\n",
      " |  \n",
      " |  __abstractmethods__\n",
      " |  \n",
      " |  __dict__\n",
      " |  \n",
      " |  __text_signature__\n",
      " |  \n",
      " |  ----------------------------------------------------------------------\n",
      " |  Data and other attributes defined here:\n",
      " |  \n",
      " |  __base__ = <class 'object'>\n",
      " |      The most base type\n",
      " |  \n",
      " |  __bases__ = (<class 'object'>,)\n",
      " |  \n",
      " |  __basicsize__ = 864\n",
      " |  \n",
      " |  __dictoffset__ = 264\n",
      " |  \n",
      " |  __flags__ = 2148291584\n",
      " |  \n",
      " |  __itemsize__ = 40\n",
      " |  \n",
      " |  __mro__ = (<class 'type'>, <class 'object'>)\n",
      " |  \n",
      " |  __weakrefoffset__ = 368\n",
      "\n"
     ]
    }
   ],
   "source": [
    "help(type)"
   ]
  },
  {
   "cell_type": "markdown",
   "metadata": {
    "slideshow": {
     "slide_type": "slide"
    }
   },
   "source": [
    "`type`是类，而且是元类，也就是可用来创建一个对象（类）。不过通常会用`class`语句来创建类。实际上，使用`class`语句创建的普通类都是`type`的实例。"
   ]
  },
  {
   "cell_type": "markdown",
   "metadata": {
    "slideshow": {
     "slide_type": "slide"
    }
   },
   "source": [
    "## 类属性和对象属性\n",
    "\n",
    "类是对象的抽象、对象是类的实例。在定义类一节中，已经知道如何设置实例的属性和方法。现在我们知道类也是对象，意味着类也可以拥有属性。"
   ]
  },
  {
   "cell_type": "markdown",
   "metadata": {
    "slideshow": {
     "slide_type": "slide"
    }
   },
   "source": [
    "下面定义一个狗（`Dog`）类。每个狗的对象属性与方法包括：\n",
    "- `name`，名字\n",
    "- `tricks`，小把戏\n",
    "- `add_trick`，添加小把戏"
   ]
  },
  {
   "cell_type": "code",
   "execution_count": 107,
   "metadata": {
    "slideshow": {
     "slide_type": "slide"
    }
   },
   "outputs": [],
   "source": [
    "class Dog():\n",
    "    \"\"\"class for Dog\"\"\"\n",
    "    kind = 'canine'\n",
    "\n",
    "    def __init__(self, name):\n",
    "        self.name = name\n",
    "        self.tricks = []\n",
    "\n",
    "    def add_trick(self, trick):\n",
    "        \"\"\"add a trick\"\"\"\n",
    "        self.tricks.append(trick)"
   ]
  },
  {
   "cell_type": "markdown",
   "metadata": {
    "slideshow": {
     "slide_type": "slide"
    }
   },
   "source": [
    "除了对象属性和方法外，还添加了类属性`kind`，用于说明狗的种类。类的属性可以直接使用类名调用："
   ]
  },
  {
   "cell_type": "code",
   "execution_count": 108,
   "metadata": {
    "slideshow": {
     "slide_type": "-"
    }
   },
   "outputs": [
    {
     "data": {
      "text/plain": [
       "'canine'"
      ]
     },
     "execution_count": 108,
     "metadata": {},
     "output_type": "execute_result"
    }
   ],
   "source": [
    "Dog.kind"
   ]
  },
  {
   "cell_type": "markdown",
   "metadata": {
    "slideshow": {
     "slide_type": "slide"
    }
   },
   "source": [
    "创建类的对象后，也可以使用对象访问类的属性。"
   ]
  },
  {
   "cell_type": "code",
   "execution_count": 109,
   "metadata": {
    "slideshow": {
     "slide_type": "-"
    }
   },
   "outputs": [
    {
     "name": "stdout",
     "output_type": "stream",
     "text": [
      "canine\n",
      "canine\n"
     ]
    }
   ],
   "source": [
    "dog1 = Dog('Fido')\n",
    "dog2 = Dog('Buddy')\n",
    "dog1.add_trick('roll over')\n",
    "dog2.add_trick('play dead')\n",
    "print(dog1.kind)\n",
    "print(dog2.kind)"
   ]
  },
  {
   "cell_type": "markdown",
   "metadata": {
    "slideshow": {
     "slide_type": "slide"
    }
   },
   "source": [
    "不过这里要注意的是，`kind`并不是狗对象的属性。可以查看狗对象的`__dict__`列出实例属性："
   ]
  },
  {
   "cell_type": "code",
   "execution_count": 110,
   "metadata": {
    "slideshow": {
     "slide_type": "-"
    }
   },
   "outputs": [
    {
     "data": {
      "text/plain": [
       "{'name': 'Fido', 'tricks': ['roll over']}"
      ]
     },
     "execution_count": 110,
     "metadata": {},
     "output_type": "execute_result"
    }
   ],
   "source": [
    "dog1.__dict__"
   ]
  },
  {
   "cell_type": "markdown",
   "metadata": {
    "slideshow": {
     "slide_type": "slide"
    }
   },
   "source": [
    "那么为什么能够访问`dog1.kind`值呢？我们知道，如果实例中不存在指定名字的属性，会继续查找类的属性。必须明白实例属性和类属性是不同的。下面在实例对象中，添加一个同名属性`kind`。"
   ]
  },
  {
   "cell_type": "code",
   "execution_count": 111,
   "metadata": {
    "slideshow": {
     "slide_type": "-"
    }
   },
   "outputs": [],
   "source": [
    "dog1.kind = 'pet'"
   ]
  },
  {
   "cell_type": "markdown",
   "metadata": {
    "slideshow": {
     "slide_type": "slide"
    }
   },
   "source": [
    "可以查看实例属性和类属性的差异来"
   ]
  },
  {
   "cell_type": "code",
   "execution_count": 112,
   "metadata": {
    "slideshow": {
     "slide_type": "-"
    }
   },
   "outputs": [
    {
     "name": "stdout",
     "output_type": "stream",
     "text": [
      "pet canine\n",
      "{'name': 'Fido', 'tricks': ['roll over'], 'kind': 'pet'}\n"
     ]
    }
   ],
   "source": [
    "print(dog1.kind, Dog.kind)\n",
    "print(dog1.__dict__)"
   ]
  },
  {
   "cell_type": "markdown",
   "metadata": {
    "slideshow": {
     "slide_type": "slide"
    }
   },
   "source": [
    "> 注意，实例属性和类属性不要使用相同的名字。"
   ]
  },
  {
   "cell_type": "markdown",
   "metadata": {
    "slideshow": {
     "slide_type": "slide"
    }
   },
   "source": [
    "当使用内置函数`dir()`列出对象的属性时：\n",
    "- 对于模块对象，会列出模块的属性；\n",
    "- 对于类，会列出类及其父类的属性；\n",
    "- 对于其他对象，会列出自身属性，所属类及其父类的属性。"
   ]
  },
  {
   "cell_type": "code",
   "execution_count": 113,
   "metadata": {
    "slideshow": {
     "slide_type": "slide"
    }
   },
   "outputs": [
    {
     "name": "stdout",
     "output_type": "stream",
     "text": [
      "{'__eq__', '__sizeof__', '__delattr__', '__hash__', '__ne__', '__le__', '__dict__', '__reduce_ex__', '__weakref__', '__class__', '__repr__', '__init_subclass__', '__format__', 'add_trick', '__getattribute__', '__subclasshook__', '__reduce__', '__ge__', '__init__', '__gt__', '__lt__', '__setattr__', '__str__', 'kind', '__module__', '__dir__', '__new__', '__doc__'}\n",
      "{'tricks', 'name'}\n"
     ]
    }
   ],
   "source": [
    "dog_class_attributes = set(dir(Dog))\n",
    "dog_obj_attributes = set(dir(dog2)) - set(dir(Dog))\n",
    "print(dog_class_attributes)\n",
    "print(dog_obj_attributes)"
   ]
  },
  {
   "cell_type": "code",
   "execution_count": 114,
   "metadata": {
    "slideshow": {
     "slide_type": "slide"
    }
   },
   "outputs": [
    {
     "name": "stdout",
     "output_type": "stream",
     "text": [
      "{'__eq__', '__sizeof__', '__delattr__', '__hash__', '__ne__', '__name__', '__prepare__', '__le__', '__dict__', '__instancecheck__', '__mro__', 'mro', '__reduce_ex__', '__base__', '__class__', '__repr__', '__init_subclass__', '__format__', '__subclasses__', '__getattribute__', '__subclasshook__', '__basicsize__', '__reduce__', '__ge__', '__init__', '__gt__', '__itemsize__', '__flags__', '__bases__', '__lt__', '__text_signature__', '__dictoffset__', '__setattr__', '__subclasscheck__', '__abstractmethods__', '__str__', '__module__', '__weakrefoffset__', '__dir__', '__new__', '__doc__', '__qualname__', '__call__'}\n",
      "{'kind', '__weakref__', 'add_trick'}\n"
     ]
    }
   ],
   "source": [
    "dog_base_attributes = set(dir(type(Dog)))\n",
    "dog_class_attributes = set(dir(Dog)) - dog_base_attributes\n",
    "print(dog_base_attributes)\n",
    "print(dog_class_attributes)"
   ]
  },
  {
   "cell_type": "markdown",
   "metadata": {
    "slideshow": {
     "slide_type": "slide"
    }
   },
   "source": [
    "再次提醒注意，当使用`.`来获取对象属性时，是按照深度优先方法来查找的。再用一个类属性示例来说明。首先定义三个类。"
   ]
  },
  {
   "cell_type": "code",
   "execution_count": 115,
   "metadata": {
    "slideshow": {
     "slide_type": "slide"
    }
   },
   "outputs": [],
   "source": [
    "class A():\n",
    "    x = 1\n",
    "    \n",
    "class B(A):\n",
    "    pass\n",
    "    \n",
    "class C(A):\n",
    "    pass"
   ]
  },
  {
   "cell_type": "markdown",
   "metadata": {
    "slideshow": {
     "slide_type": "slide"
    }
   },
   "source": [
    "打印三个类的属性"
   ]
  },
  {
   "cell_type": "code",
   "execution_count": 116,
   "metadata": {
    "slideshow": {
     "slide_type": "-"
    }
   },
   "outputs": [
    {
     "name": "stdout",
     "output_type": "stream",
     "text": [
      "1 1 1\n"
     ]
    }
   ],
   "source": [
    "print(A.x, B.x, C.x)"
   ]
  },
  {
   "cell_type": "markdown",
   "metadata": {
    "slideshow": {
     "slide_type": "slide"
    }
   },
   "source": [
    "此时子类B与C的属性其实都来自父类。下面更改子类B的属性："
   ]
  },
  {
   "cell_type": "code",
   "execution_count": 118,
   "metadata": {
    "slideshow": {
     "slide_type": "-"
    }
   },
   "outputs": [
    {
     "name": "stdout",
     "output_type": "stream",
     "text": [
      "1 2 1\n"
     ]
    }
   ],
   "source": [
    "B.x = 2\n",
    "print(A.x, B.x, C.x)"
   ]
  },
  {
   "cell_type": "markdown",
   "metadata": {
    "slideshow": {
     "slide_type": "slide"
    }
   },
   "source": [
    "此时`B.x`访问的是子类B自身属性，子类`C.x`访问的仍然是父类的属性。然后更改父类的属性："
   ]
  },
  {
   "cell_type": "code",
   "execution_count": 119,
   "metadata": {
    "slideshow": {
     "slide_type": "-"
    }
   },
   "outputs": [
    {
     "name": "stdout",
     "output_type": "stream",
     "text": [
      "3 2 3\n"
     ]
    }
   ],
   "source": [
    "A.x = 3\n",
    "print(A.x, B.x, C.x)"
   ]
  },
  {
   "cell_type": "markdown",
   "metadata": {
    "slideshow": {
     "slide_type": "slide"
    }
   },
   "source": [
    "由于父类属性更改，所以`A.x, C.x`访问的仍然是父类的属性。`B.x`访问的是子类B自身属性，并没有任何改变。"
   ]
  },
  {
   "cell_type": "markdown",
   "metadata": {
    "slideshow": {
     "slide_type": "slide"
    }
   },
   "source": [
    "## 方法与装饰器"
   ]
  },
  {
   "cell_type": "markdown",
   "metadata": {
    "slideshow": {
     "slide_type": "slide"
    }
   },
   "source": [
    "### 函数与方法的区别\n",
    "\n",
    "类的方法（method）与函数（function）有很多共同点，都是对处理过程的封装，传入参数然后返回处理结果。"
   ]
  },
  {
   "cell_type": "markdown",
   "metadata": {
    "slideshow": {
     "slide_type": "slide"
    }
   },
   "source": [
    "不过二者还是有些不同的。函数定义完毕后，就可以进行调用："
   ]
  },
  {
   "cell_type": "code",
   "execution_count": 120,
   "metadata": {
    "slideshow": {
     "slide_type": "-"
    }
   },
   "outputs": [
    {
     "name": "stdout",
     "output_type": "stream",
     "text": [
      "<function add at 0x7f97542ec9d8>\n"
     ]
    },
    {
     "data": {
      "text/plain": [
       "3"
      ]
     },
     "execution_count": 120,
     "metadata": {},
     "output_type": "execute_result"
    }
   ],
   "source": [
    "print(add)\n",
    "add(1, 2)"
   ]
  },
  {
   "cell_type": "markdown",
   "metadata": {
    "slideshow": {
     "slide_type": "slide"
    }
   },
   "source": [
    "当使用类调用方法时，则会出错。"
   ]
  },
  {
   "cell_type": "code",
   "execution_count": 121,
   "metadata": {},
   "outputs": [
    {
     "name": "stdout",
     "output_type": "stream",
     "text": [
      "<function Dog.add_trick at 0x7f9754337378>\n"
     ]
    },
    {
     "ename": "TypeError",
     "evalue": "add_trick() missing 1 required positional argument: 'trick'",
     "output_type": "error",
     "traceback": [
      "\u001b[0;31m---------------------------------------------------------------------------\u001b[0m",
      "\u001b[0;31mTypeError\u001b[0m                                 Traceback (most recent call last)",
      "\u001b[0;32m<ipython-input-121-d1db2d9869f6>\u001b[0m in \u001b[0;36m<module>\u001b[0;34m()\u001b[0m\n\u001b[1;32m      1\u001b[0m \u001b[0mprint\u001b[0m\u001b[0;34m(\u001b[0m\u001b[0mDog\u001b[0m\u001b[0;34m.\u001b[0m\u001b[0madd_trick\u001b[0m\u001b[0;34m)\u001b[0m\u001b[0;34m\u001b[0m\u001b[0m\n\u001b[0;32m----> 2\u001b[0;31m \u001b[0mDog\u001b[0m\u001b[0;34m.\u001b[0m\u001b[0madd_trick\u001b[0m\u001b[0;34m(\u001b[0m\u001b[0;34m'roll over'\u001b[0m\u001b[0;34m)\u001b[0m\u001b[0;34m\u001b[0m\u001b[0m\n\u001b[0m",
      "\u001b[0;31mTypeError\u001b[0m: add_trick() missing 1 required positional argument: 'trick'"
     ]
    }
   ],
   "source": [
    "print(Dog.add_trick)\n",
    "Dog.add_trick('roll over')"
   ]
  },
  {
   "cell_type": "markdown",
   "metadata": {
    "slideshow": {
     "slide_type": "slide"
    }
   },
   "source": [
    "> 在Python2中，调用该方法，会引发`TypeError`，会报告调用了未绑定的错误信息。"
   ]
  },
  {
   "cell_type": "markdown",
   "metadata": {
    "slideshow": {
     "slide_type": "slide"
    }
   },
   "source": [
    "在Python3中，错误信息显示上需要传入一个位置参数，也就是传入一个类的实例。也就是说，必须把类的方法绑定到一个类的实例上，才可以正常工作。"
   ]
  },
  {
   "cell_type": "code",
   "execution_count": 122,
   "metadata": {
    "slideshow": {
     "slide_type": "-"
    }
   },
   "outputs": [
    {
     "name": "stdout",
     "output_type": "stream",
     "text": [
      "['roll over', 'roll over with class', 'roll over with object']\n"
     ]
    }
   ],
   "source": [
    "Dog.add_trick(dog1, 'roll over with class')\n",
    "dog1.add_trick('roll over with object')\n",
    "print(dog1.tricks)"
   ]
  },
  {
   "cell_type": "markdown",
   "metadata": {
    "slideshow": {
     "slide_type": "slide"
    }
   },
   "source": [
    "### `staticmethod`方法\n",
    "\n",
    "Python内置函数`staticmethod`，实际上是个装饰器。应用于类的方法，形成静态方法。"
   ]
  },
  {
   "cell_type": "code",
   "execution_count": 123,
   "metadata": {
    "slideshow": {
     "slide_type": "slide"
    }
   },
   "outputs": [],
   "source": [
    "class Dog():\n",
    "    \"\"\"class for Dog\"\"\"\n",
    "    kind = 'canine'\n",
    "\n",
    "    def __init__(self, name):\n",
    "        self.name = name\n",
    "        self.tricks = []\n",
    "\n",
    "    def add_trick(self, trick):\n",
    "        \"\"\"add a trick\"\"\"\n",
    "        self.tricks.append(trick)\n",
    "        \n",
    "    @staticmethod\n",
    "    def add(x, y):\n",
    "        return x + y"
   ]
  },
  {
   "cell_type": "markdown",
   "metadata": {
    "slideshow": {
     "slide_type": "slide"
    }
   },
   "source": [
    "对于静态方法，可以直接通过类名来调用"
   ]
  },
  {
   "cell_type": "code",
   "execution_count": 124,
   "metadata": {
    "slideshow": {
     "slide_type": "-"
    }
   },
   "outputs": [
    {
     "name": "stdout",
     "output_type": "stream",
     "text": [
      "<function Dog.add at 0x7f9754330a60>\n"
     ]
    },
    {
     "data": {
      "text/plain": [
       "5"
      ]
     },
     "execution_count": 124,
     "metadata": {},
     "output_type": "execute_result"
    }
   ],
   "source": [
    "print(Dog.add)\n",
    "Dog.add(2, 3)"
   ]
  },
  {
   "cell_type": "markdown",
   "metadata": {
    "slideshow": {
     "slide_type": "slide"
    }
   },
   "source": [
    "使用`@staticmethod`装饰器定义静态方法时，不需要接受`self`参数。使用静态方法有如下好处：\n",
    "- 静态方法不用绑定到实例化对象。\n",
    "- 代码可读性更高，静态方法不依赖与对象状态"
   ]
  },
  {
   "cell_type": "markdown",
   "metadata": {
    "slideshow": {
     "slide_type": "slide"
    }
   },
   "source": [
    "### `classmethod`方法\n",
    "\n",
    "使用内置装饰器`classmethod`，可以实现类方法，也就是直接绑定到类而非实例的方法。"
   ]
  },
  {
   "cell_type": "code",
   "execution_count": 125,
   "metadata": {
    "slideshow": {
     "slide_type": "slide"
    }
   },
   "outputs": [],
   "source": [
    "class Dog():\n",
    "    \"\"\"class for Dog\"\"\"\n",
    "    kind = 'canine'\n",
    "\n",
    "    @classmethod\n",
    "    def get_kind(cls):\n",
    "        return cls.kind\n",
    "    \n",
    "    def __init__(self, name):\n",
    "        self.name = name\n",
    "        self.tricks = []\n",
    "\n",
    "    def add_trick(self, trick):\n",
    "        \"\"\"add a trick\"\"\"\n",
    "        self.tricks.append(trick)\n",
    "        \n",
    "    @staticmethod\n",
    "    def add(x, y):\n",
    "        return x + y"
   ]
  },
  {
   "cell_type": "markdown",
   "metadata": {
    "slideshow": {
     "slide_type": "slide"
    }
   },
   "source": [
    "在使用`@classmethod`定义类方法时，第一个参数习惯使用`cls`表示类对象。类方法可以使用类名也可以通过实例来调用。"
   ]
  },
  {
   "cell_type": "code",
   "execution_count": 126,
   "metadata": {
    "slideshow": {
     "slide_type": "-"
    }
   },
   "outputs": [
    {
     "name": "stdout",
     "output_type": "stream",
     "text": [
      "canine\n",
      "canine\n",
      "canine\n"
     ]
    }
   ],
   "source": [
    "dog1 = Dog('Fido')\n",
    "dog2 = Dog('Buddy')\n",
    "print(Dog.get_kind())\n",
    "print(dog1.get_kind())\n",
    "print(dog2.get_kind())"
   ]
  },
  {
   "cell_type": "markdown",
   "metadata": {
    "slideshow": {
     "slide_type": "slide"
    }
   },
   "source": [
    "### `@property`装饰器\n",
    "\n",
    "前面章节介绍过使用类的封装技术来保护属性，定义属性为私有属性，然后创建读取或更改方法来实现属性的访问。Python中内置了装饰器`property`，可以轻松实现把方法变成属性调用。"
   ]
  },
  {
   "cell_type": "code",
   "execution_count": 127,
   "metadata": {},
   "outputs": [],
   "source": [
    "class Student():\n",
    "    \"\"\"Provide student class in python training\"\"\"\n",
    "    \n",
    "    def __init__(self, name, score):\n",
    "        self.__name = name\n",
    "        self.__score = score\n",
    "\n",
    "    @property\n",
    "    def name(self):\n",
    "        return self.__name\n",
    "\n",
    "    @property\n",
    "    def score(self):\n",
    "        return self.__score\n",
    "\n",
    "    @score.setter\n",
    "    def score(self, value):\n",
    "        if 0 <= value and value <= 100:\n",
    "            self.__score = value\n",
    "        else:\n",
    "            raise ValueError('score must be in [0, 100]')\n",
    "    \n",
    "    def __is_pass(self):\n",
    "        return self.__score >= 60\n",
    "    \n",
    "    def print_score(self):\n",
    "        status = '及格' if self.__is_pass() else '不及格'\n",
    "        print('{0}: {1}, {2}'.format(self.__name, self.__score, status))    "
   ]
  },
  {
   "cell_type": "markdown",
   "metadata": {
    "slideshow": {
     "slide_type": "slide"
    }
   },
   "source": [
    "定义只读属性，也就是定义`getter`方法的语法是：\n",
    "```\n",
    "    @property\n",
    "    def name(self):\n",
    "        return self.__name\n",
    "\n",
    "    @property\n",
    "    def score(self):\n",
    "        return self.__score\n",
    "```"
   ]
  },
  {
   "cell_type": "markdown",
   "metadata": {
    "slideshow": {
     "slide_type": "slide"
    }
   },
   "source": [
    "如果还需要定义可写属性，只需要定义`setter`方法即可：\n",
    "```\n",
    "    @score.setter\n",
    "    def score(self, value):\n",
    "        if 0 <= value and value <= 100:\n",
    "            self.__score = value\n",
    "        else:\n",
    "            raise ValueError('score must be in [0, 100]')\n",
    "```"
   ]
  },
  {
   "cell_type": "markdown",
   "metadata": {
    "slideshow": {
     "slide_type": "slide"
    }
   },
   "source": [
    "创建对象，即可以访问属性"
   ]
  },
  {
   "cell_type": "code",
   "execution_count": 128,
   "metadata": {
    "slideshow": {
     "slide_type": "-"
    }
   },
   "outputs": [
    {
     "name": "stdout",
     "output_type": "stream",
     "text": [
      "59\n",
      "Wu Yang: 59, 不及格\n",
      "60\n",
      "Wu Yang: 60, 及格\n"
     ]
    }
   ],
   "source": [
    "wuyang = Student('Wu Yang', 59)\n",
    "print(wuyang.score)\n",
    "wuyang.print_score()\n",
    "wuyang.score = 60\n",
    "print(wuyang.score)\n",
    "wuyang.print_score()"
   ]
  },
  {
   "cell_type": "markdown",
   "metadata": {
    "slideshow": {
     "slide_type": "slide"
    }
   },
   "source": [
    "### 抽象类与抽象方法\n",
    "\n",
    "使用内置模块`abc`来实现抽象类。抽象类也是一个类，但主要目的不是用来创建对象，而是用来定义接口，即在抽象类中定义一些方法与特性。然后，强制要求继承抽象类的子类实现这些方法和特性。基于此，任何继承自抽象类的类都具有指定的方法与特性。"
   ]
  },
  {
   "cell_type": "markdown",
   "metadata": {
    "slideshow": {
     "slide_type": "slide"
    }
   },
   "source": [
    "定义一个抽象类`FileBase`，包括两个抽象方法\n",
    "- `load`，从文件读取数据\n",
    "- `write`，把数据写入文件"
   ]
  },
  {
   "cell_type": "code",
   "execution_count": 129,
   "metadata": {
    "slideshow": {
     "slide_type": "-"
    }
   },
   "outputs": [],
   "source": [
    "import abc\n",
    "\n",
    "class FileBase(abc.ABC):\n",
    "    @abc.abstractmethod\n",
    "    def load(self, filename):\n",
    "        \"\"\"load data from the input file\"\"\"\n",
    "        \n",
    "    @abc.abstractmethod\n",
    "    def save(self, data, filename):\n",
    "        \"\"\"save the data into the file\"\"\""
   ]
  },
  {
   "cell_type": "markdown",
   "metadata": {
    "slideshow": {
     "slide_type": "slide"
    }
   },
   "source": [
    "其中装饰器`abc.abstractmethod`定义一个抽象方法，意思就是子类必须重新实现该方法，否则不能调用。"
   ]
  },
  {
   "cell_type": "markdown",
   "metadata": {
    "slideshow": {
     "slide_type": "slide"
    }
   },
   "source": [
    "也可以通过传入`metaclass`关键词阐述来定义："
   ]
  },
  {
   "cell_type": "code",
   "execution_count": 130,
   "metadata": {
    "slideshow": {
     "slide_type": "-"
    }
   },
   "outputs": [],
   "source": [
    "import abc\n",
    "\n",
    "class FileBase(metaclass=abc.ABCMeta):\n",
    "    @abc.abstractmethod\n",
    "    def load(self, filename):\n",
    "        \"\"\"load data from the input file\"\"\"\n",
    "        \n",
    "    @abc.abstractmethod\n",
    "    def save(self, data, filename):\n",
    "        \"\"\"save the data into the file\"\"\""
   ]
  },
  {
   "cell_type": "markdown",
   "metadata": {
    "slideshow": {
     "slide_type": "slide"
    }
   },
   "source": [
    "如果使用抽象类创建对象，会引起`TypeError`异常。"
   ]
  },
  {
   "cell_type": "code",
   "execution_count": 131,
   "metadata": {},
   "outputs": [
    {
     "ename": "TypeError",
     "evalue": "Can't instantiate abstract class FileBase with abstract methods load, save",
     "output_type": "error",
     "traceback": [
      "\u001b[0;31m---------------------------------------------------------------------------\u001b[0m",
      "\u001b[0;31mTypeError\u001b[0m                                 Traceback (most recent call last)",
      "\u001b[0;32m<ipython-input-131-40f0223e76c2>\u001b[0m in \u001b[0;36m<module>\u001b[0;34m()\u001b[0m\n\u001b[0;32m----> 1\u001b[0;31m \u001b[0mobj\u001b[0m \u001b[0;34m=\u001b[0m \u001b[0mFileBase\u001b[0m\u001b[0;34m(\u001b[0m\u001b[0;34m)\u001b[0m\u001b[0;34m\u001b[0m\u001b[0m\n\u001b[0m",
      "\u001b[0;31mTypeError\u001b[0m: Can't instantiate abstract class FileBase with abstract methods load, save"
     ]
    }
   ],
   "source": [
    "obj = FileBase()"
   ]
  },
  {
   "cell_type": "markdown",
   "metadata": {
    "slideshow": {
     "slide_type": "slide"
    }
   },
   "source": [
    "在子类中，只有完全实现了抽象方法与特性后，才能创建实例对象，否则仍然也会引起异常。"
   ]
  },
  {
   "cell_type": "code",
   "execution_count": 132,
   "metadata": {
    "slideshow": {
     "slide_type": "-"
    }
   },
   "outputs": [],
   "source": [
    "class CsvFileReader(FileBase):\n",
    "    def load(self, filename):\n",
    "        \"\"\"load data from the input file\"\"\"\n",
    "        print('implement csv load method')"
   ]
  },
  {
   "cell_type": "code",
   "execution_count": 133,
   "metadata": {
    "slideshow": {
     "slide_type": "slide"
    }
   },
   "outputs": [
    {
     "ename": "TypeError",
     "evalue": "Can't instantiate abstract class CsvFileReader with abstract methods save",
     "output_type": "error",
     "traceback": [
      "\u001b[0;31m---------------------------------------------------------------------------\u001b[0m",
      "\u001b[0;31mTypeError\u001b[0m                                 Traceback (most recent call last)",
      "\u001b[0;32m<ipython-input-133-ec46ad355f9d>\u001b[0m in \u001b[0;36m<module>\u001b[0;34m()\u001b[0m\n\u001b[0;32m----> 1\u001b[0;31m \u001b[0mcsv\u001b[0m \u001b[0;34m=\u001b[0m \u001b[0mCsvFileReader\u001b[0m\u001b[0;34m(\u001b[0m\u001b[0;34m)\u001b[0m\u001b[0;34m\u001b[0m\u001b[0m\n\u001b[0m",
      "\u001b[0;31mTypeError\u001b[0m: Can't instantiate abstract class CsvFileReader with abstract methods save"
     ]
    }
   ],
   "source": [
    "csv = CsvFileReader()"
   ]
  },
  {
   "cell_type": "markdown",
   "metadata": {
    "slideshow": {
     "slide_type": "slide"
    }
   },
   "source": [
    "下面完全实现子类"
   ]
  },
  {
   "cell_type": "code",
   "execution_count": 134,
   "metadata": {
    "slideshow": {
     "slide_type": "-"
    }
   },
   "outputs": [],
   "source": [
    "class CsvFileReader(FileBase):\n",
    "    def load(self, filename):\n",
    "        \"\"\"load data from the input file\"\"\"\n",
    "        print('implement csv load method')\n",
    "\n",
    "    def save(self, data, filename):\n",
    "        \"\"\"save the data into the file\"\"\"        \n",
    "        print('implement csv save method')       "
   ]
  },
  {
   "cell_type": "code",
   "execution_count": 135,
   "metadata": {
    "slideshow": {
     "slide_type": "slide"
    }
   },
   "outputs": [
    {
     "name": "stdout",
     "output_type": "stream",
     "text": [
      "implement csv load method\n",
      "implement csv save method\n"
     ]
    }
   ],
   "source": [
    "csv = CsvFileReader()\n",
    "csv.load('filename')\n",
    "csv.save('data', 'filename')"
   ]
  },
  {
   "cell_type": "markdown",
   "metadata": {
    "slideshow": {
     "slide_type": "slide"
    }
   },
   "source": [
    "可以在实现一个子类："
   ]
  },
  {
   "cell_type": "code",
   "execution_count": 136,
   "metadata": {
    "slideshow": {
     "slide_type": "-"
    }
   },
   "outputs": [],
   "source": [
    "class TabFileReader(FileBase):\n",
    "    def load(self, filename):\n",
    "        \"\"\"load data from the input file\"\"\"\n",
    "        print('implement tab load method')\n",
    "\n",
    "    def save(self, data, filename):\n",
    "        \"\"\"save the data into the file\"\"\"        \n",
    "        print('implement tab save method')      "
   ]
  },
  {
   "cell_type": "code",
   "execution_count": 137,
   "metadata": {
    "slideshow": {
     "slide_type": "slide"
    }
   },
   "outputs": [
    {
     "name": "stdout",
     "output_type": "stream",
     "text": [
      "implement tab load method\n",
      "implement tab save method\n"
     ]
    }
   ],
   "source": [
    "tab = TabFileReader()\n",
    "tab.load('filename')\n",
    "tab.save('data', 'filename')"
   ]
  },
  {
   "cell_type": "markdown",
   "metadata": {
    "slideshow": {
     "slide_type": "slide"
    }
   },
   "source": [
    "如上所述，所有继承抽象类的子类，会具有相同的方法或特性。"
   ]
  },
  {
   "cell_type": "markdown",
   "metadata": {
    "slideshow": {
     "slide_type": "slide"
    }
   },
   "source": [
    "## 魔术方法大全\n",
    "\n",
    "本节会列出更多的模式属性和方法。"
   ]
  },
  {
   "cell_type": "markdown",
   "metadata": {
    "slideshow": {
     "slide_type": "slide"
    }
   },
   "source": [
    "### 类的构造与初始化\n",
    "\n",
    "- `__init__`\n",
    "- `__new__`\n",
    "- `__del__`"
   ]
  },
  {
   "cell_type": "markdown",
   "metadata": {
    "slideshow": {
     "slide_type": "slide"
    }
   },
   "source": [
    "### 属性访问控制\n",
    "\n",
    "- `__getattr__`\n",
    "- `__setattr__`\n",
    "- `__delattr__`\n",
    "- `__getattribute__`"
   ]
  },
  {
   "cell_type": "markdown",
   "metadata": {
    "slideshow": {
     "slide_type": "slide"
    }
   },
   "source": [
    "### 自定义容器\n",
    "\n",
    "- `__len__`\n",
    "- `__getitem__`\n",
    "- `__setitem__`\n",
    "- `__delitem__`\n",
    "- `__iter__`\n",
    "- `__reversed__`\n",
    "- `__contains__`\n",
    "- `__missing__`"
   ]
  },
  {
   "cell_type": "markdown",
   "metadata": {
    "slideshow": {
     "slide_type": "slide"
    }
   },
   "source": [
    "### 自省\n",
    "\n",
    "- `__instancecheck__`\n",
    "- `__subclasscheck__`"
   ]
  },
  {
   "cell_type": "markdown",
   "metadata": {
    "slideshow": {
     "slide_type": "slide"
    }
   },
   "source": [
    "### 可调用对象\n",
    "\n",
    "- `__call__`"
   ]
  },
  {
   "cell_type": "markdown",
   "metadata": {
    "slideshow": {
     "slide_type": "slide"
    }
   },
   "source": [
    "### 上下文管理\n",
    "\n",
    "- `__enter__`\n",
    "- `__exit__`"
   ]
  },
  {
   "cell_type": "markdown",
   "metadata": {
    "slideshow": {
     "slide_type": "slide"
    }
   },
   "source": [
    "### 对象描述器\n",
    "\n",
    "- `__get__`\n",
    "- `__set__`\n",
    "- `__delete__`"
   ]
  },
  {
   "cell_type": "markdown",
   "metadata": {
    "slideshow": {
     "slide_type": "slide"
    }
   },
   "source": [
    "### 复制\n",
    "\n",
    "- `__copy__`\n",
    "- `__deepcopy__`"
   ]
  },
  {
   "cell_type": "markdown",
   "metadata": {
    "slideshow": {
     "slide_type": "slide"
    }
   },
   "source": [
    "### 算术运算\n",
    "\n",
    "- `__pos__`\n",
    "- `__neg__`\n",
    "- `__abs__`\n",
    "- `__invert__`\n",
    "- `__round__`\n",
    "- `__floor__`\n",
    "- `__ceil__`\n",
    "- `__trunc__`"
   ]
  },
  {
   "cell_type": "markdown",
   "metadata": {
    "slideshow": {
     "slide_type": "slide"
    }
   },
   "source": [
    "### 算术运算\n",
    "\n",
    "- `__add__`\n",
    "- `__sub__`\n",
    "- `__mul__`\n",
    "- `__floordiv__`\n",
    "- `__div__`\n",
    "- `__truediv__`\n",
    "- `__divmod__`\n",
    "- `__pow__`"
   ]
  },
  {
   "cell_type": "markdown",
   "metadata": {
    "slideshow": {
     "slide_type": "slide"
    }
   },
   "source": [
    "### 位操作\n",
    "\n",
    "- `__lshift__`\n",
    "- `__rshift__`\n",
    "- `__and__`\n",
    "- `__or__`\n",
    "- `__xor__`"
   ]
  },
  {
   "cell_type": "markdown",
   "metadata": {
    "slideshow": {
     "slide_type": "slide"
    }
   },
   "source": [
    "### 增量运算\n",
    "\n",
    "- `__iadd__`\n",
    "- `__isub__`\n",
    "- `__imul__`\n",
    "- `__ifloordiv__`\n",
    "- `__idiv__`\n",
    "- `__itruediv__`\n",
    "- `__idivmod__`\n",
    "- `__ipow__`\n",
    "- `__ilshift__`\n",
    "- `__irshift__`\n",
    "- `__iand__`\n",
    "- `__ior__`\n",
    "- `__ixor__`"
   ]
  },
  {
   "cell_type": "markdown",
   "metadata": {
    "slideshow": {
     "slide_type": "slide"
    }
   },
   "source": [
    "### 比较运算\n",
    "\n",
    "- `__gt__`\n",
    "- `__ge__`\n",
    "- `__lt__`\n",
    "- `__le__`\n",
    "- `__eq__`\n",
    "- `__ne__`"
   ]
  },
  {
   "cell_type": "markdown",
   "metadata": {
    "slideshow": {
     "slide_type": "slide"
    }
   },
   "source": [
    "### 类型转换\n",
    "\n",
    "- `__int__`\n",
    "- `__float__`\n",
    "- `__bool__`\n",
    "- `__complex__`\n",
    "- `__oct__`\n",
    "- `__hex__`\n",
    "- `__bin__`"
   ]
  }
 ],
 "metadata": {
  "celltoolbar": "Slideshow",
  "kernelspec": {
   "display_name": "Python 3",
   "language": "python",
   "name": "python3"
  },
  "language_info": {
   "codemirror_mode": {
    "name": "ipython",
    "version": 3
   },
   "file_extension": ".py",
   "mimetype": "text/x-python",
   "name": "python",
   "nbconvert_exporter": "python",
   "pygments_lexer": "ipython3",
   "version": "3.6.4"
  },
  "toc": {
   "base_numbering": 1,
   "nav_menu": {},
   "number_sections": true,
   "sideBar": true,
   "skip_h1_title": false,
   "title_cell": "Table of Contents",
   "title_sidebar": "Contents",
   "toc_cell": false,
   "toc_position": {},
   "toc_section_display": true,
   "toc_window_display": false
  }
 },
 "nbformat": 4,
 "nbformat_minor": 2
}
