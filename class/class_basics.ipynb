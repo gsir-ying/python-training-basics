{
 "cells": [
  {
   "cell_type": "markdown",
   "metadata": {
    "slideshow": {
     "slide_type": "slide"
    }
   },
   "source": [
    "# 类基础\n",
    "\n",
    "本章先介绍如何定义类，然后分别介绍面向对象编程的三大特征，封装、继承和多态。"
   ]
  },
  {
   "cell_type": "markdown",
   "metadata": {
    "slideshow": {
     "slide_type": "slide"
    }
   },
   "source": [
    "## 定义类\n",
    "\n",
    "Python内置了很多常用类，如整数、浮点数、字符串、列表、元组、字典、集合等。本节学习如何自定义类。"
   ]
  },
  {
   "cell_type": "markdown",
   "metadata": {
    "slideshow": {
     "slide_type": "slide"
    }
   },
   "source": [
    "自定义类的语法为：\n",
    "```python\n",
    "class ClassName(base_classes):\n",
    "    suite\n",
    "```\n",
    "其中基本要素包括：\n",
    "- 关键词`class`\n",
    "- 类名\n",
    "- 可选的父类\n",
    "- 冒号`:`与缩进\n",
    "- 定义体"
   ]
  },
  {
   "cell_type": "markdown",
   "metadata": {
    "slideshow": {
     "slide_type": "slide"
    }
   },
   "source": [
    "按照PEP8规范，类名首字母大写，如果是多个单词要使用驼峰命名。"
   ]
  },
  {
   "cell_type": "markdown",
   "metadata": {
    "slideshow": {
     "slide_type": "slide"
    }
   },
   "source": [
    "### 准备工作\n",
    "\n",
    "在定义类之前，也就是解决问题之前需要做的事情有：\n",
    "- 面向对象分析（Object Oriented Analysis，OOA）  \n",
    "有哪些对象？对象有哪些属性和方法？\n",
    "\n",
    "- 面向对象设计（Object Oriented Design，OOD）  \n",
    "如何设计类及其属性和方法？"
   ]
  },
  {
   "cell_type": "markdown",
   "metadata": {
    "slideshow": {
     "slide_type": "slide"
    }
   },
   "source": [
    "### 最简单的类\n",
    "\n",
    "下面来定义一个最简单的类，没有特定的属性或方法。"
   ]
  },
  {
   "cell_type": "code",
   "execution_count": 134,
   "metadata": {
    "slideshow": {
     "slide_type": "-"
    }
   },
   "outputs": [],
   "source": [
    "class SimpleClass():\n",
    "    pass"
   ]
  },
  {
   "cell_type": "markdown",
   "metadata": {
    "slideshow": {
     "slide_type": "slide"
    }
   },
   "source": [
    "可以省略圆括号"
   ]
  },
  {
   "cell_type": "code",
   "execution_count": 135,
   "metadata": {
    "slideshow": {
     "slide_type": "-"
    }
   },
   "outputs": [],
   "source": [
    "class SimpleClass:\n",
    "    pass"
   ]
  },
  {
   "cell_type": "markdown",
   "metadata": {
    "slideshow": {
     "slide_type": "slide"
    }
   },
   "source": [
    "定义了`SimpleClass`类之后，就可以创建对象，如同调用函数一样："
   ]
  },
  {
   "cell_type": "code",
   "execution_count": 136,
   "metadata": {
    "slideshow": {
     "slide_type": "-"
    }
   },
   "outputs": [],
   "source": [
    "obj1 = SimpleClass()\n",
    "obj2 = SimpleClass()"
   ]
  },
  {
   "cell_type": "markdown",
   "metadata": {
    "slideshow": {
     "slide_type": "slide"
    }
   },
   "source": [
    "使用自省和帮助查看这些对象："
   ]
  },
  {
   "cell_type": "code",
   "execution_count": 137,
   "metadata": {
    "slideshow": {
     "slide_type": "-"
    }
   },
   "outputs": [
    {
     "name": "stdout",
     "output_type": "stream",
     "text": [
      "<class '__main__.SimpleClass'> <class '__main__.SimpleClass'>\n"
     ]
    }
   ],
   "source": [
    "print(type(obj1), type(obj2))"
   ]
  },
  {
   "cell_type": "markdown",
   "metadata": {
    "slideshow": {
     "slide_type": "slide"
    }
   },
   "source": [
    "检查这两个对象在内存中的地址和大小。"
   ]
  },
  {
   "cell_type": "code",
   "execution_count": 138,
   "metadata": {
    "slideshow": {
     "slide_type": "-"
    }
   },
   "outputs": [
    {
     "name": "stdout",
     "output_type": "stream",
     "text": [
      "139733472207984 139733472207144\n",
      "56 56\n"
     ]
    }
   ],
   "source": [
    "import sys\n",
    "\n",
    "print(id(obj1), id(obj2))\n",
    "print(sys.getsizeof(obj1), sys.getsizeof(obj2))"
   ]
  },
  {
   "cell_type": "markdown",
   "metadata": {
    "slideshow": {
     "slide_type": "slide"
    }
   },
   "source": [
    "使用内置函数`help()`和`dir()`得到对象的属性与方法。"
   ]
  },
  {
   "cell_type": "code",
   "execution_count": 139,
   "metadata": {},
   "outputs": [
    {
     "name": "stdout",
     "output_type": "stream",
     "text": [
      "Help on class SimpleClass in module __main__:\n",
      "\n",
      "class SimpleClass(builtins.object)\n",
      " |  Data descriptors defined here:\n",
      " |  \n",
      " |  __dict__\n",
      " |      dictionary for instance variables (if defined)\n",
      " |  \n",
      " |  __weakref__\n",
      " |      list of weak references to the object (if defined)\n",
      "\n"
     ]
    }
   ],
   "source": [
    "# try help(obj1), help(obj2), help(SimpleClass)\n",
    "help(SimpleClass)"
   ]
  },
  {
   "cell_type": "code",
   "execution_count": 100,
   "metadata": {
    "slideshow": {
     "slide_type": "slide"
    }
   },
   "outputs": [
    {
     "data": {
      "text/plain": [
       "['__class__',\n",
       " '__delattr__',\n",
       " '__dict__',\n",
       " '__dir__',\n",
       " '__doc__',\n",
       " '__eq__',\n",
       " '__format__',\n",
       " '__ge__',\n",
       " '__getattribute__',\n",
       " '__gt__',\n",
       " '__hash__',\n",
       " '__init__',\n",
       " '__init_subclass__',\n",
       " '__le__',\n",
       " '__lt__',\n",
       " '__module__',\n",
       " '__ne__',\n",
       " '__new__',\n",
       " '__reduce__',\n",
       " '__reduce_ex__',\n",
       " '__repr__',\n",
       " '__setattr__',\n",
       " '__sizeof__',\n",
       " '__str__',\n",
       " '__subclasshook__',\n",
       " '__weakref__']"
      ]
     },
     "execution_count": 100,
     "metadata": {},
     "output_type": "execute_result"
    }
   ],
   "source": [
    "dir(SimpleClass)"
   ]
  },
  {
   "cell_type": "code",
   "execution_count": 140,
   "metadata": {
    "slideshow": {
     "slide_type": "slide"
    }
   },
   "outputs": [],
   "source": [
    "SimpleClass??"
   ]
  },
  {
   "cell_type": "markdown",
   "metadata": {
    "slideshow": {
     "slide_type": "slide"
    }
   },
   "source": [
    "### 魔术方法\n",
    "\n",
    "在Python类中，以两个下划线开头的方法称为“魔术方法”（Magic methods），以两个下划线开头的属性，称为“魔术属性”（Magic attribute）。\n",
    "- `__init__`，当创建一个实例时，调用的构造方法\n",
    "- `__doc__`，文档字符串，存放类的说明\n",
    "- `__dict__`，存放实例的特性\n",
    "- `__str__`，可以用`str()`得到对象的字符串，面向用户\n",
    "- `__repr__`，可以用`repr()`得到对象的字符串，面向程序员"
   ]
  },
  {
   "cell_type": "code",
   "execution_count": 142,
   "metadata": {
    "slideshow": {
     "slide_type": "slide"
    }
   },
   "outputs": [
    {
     "name": "stdout",
     "output_type": "stream",
     "text": [
      "None <class 'NoneType'>\n",
      "{} <class 'dict'>\n"
     ]
    }
   ],
   "source": [
    "print(obj1.__doc__, type(obj1.__doc__))\n",
    "print(obj1.__dict__, type(obj1.__dict__))"
   ]
  },
  {
   "cell_type": "code",
   "execution_count": 143,
   "metadata": {
    "slideshow": {
     "slide_type": "slide"
    }
   },
   "outputs": [
    {
     "name": "stdout",
     "output_type": "stream",
     "text": [
      "<__main__.SimpleClass object at 0x7f163bf96470>\n"
     ]
    },
    {
     "data": {
      "text/plain": [
       "<__main__.SimpleClass at 0x7f163bf96470>"
      ]
     },
     "execution_count": 143,
     "metadata": {},
     "output_type": "execute_result"
    }
   ],
   "source": [
    "print(obj1)\n",
    "obj1 "
   ]
  },
  {
   "cell_type": "code",
   "execution_count": 144,
   "metadata": {
    "slideshow": {
     "slide_type": "slide"
    }
   },
   "outputs": [
    {
     "data": {
      "text/plain": [
       "('<__main__.SimpleClass object at 0x7f163bf96470>',\n",
       " '<__main__.SimpleClass object at 0x7f163bf96470>')"
      ]
     },
     "execution_count": 144,
     "metadata": {},
     "output_type": "execute_result"
    }
   ],
   "source": [
    "str(obj1), repr(obj1)"
   ]
  },
  {
   "cell_type": "code",
   "execution_count": 145,
   "metadata": {
    "slideshow": {
     "slide_type": "slide"
    }
   },
   "outputs": [],
   "source": [
    "obj1.name = 'object 1'\n",
    "obj1.pi = 3.1415926\n",
    "obj1.abs = abs"
   ]
  },
  {
   "cell_type": "code",
   "execution_count": 147,
   "metadata": {
    "slideshow": {
     "slide_type": "-"
    }
   },
   "outputs": [
    {
     "data": {
      "text/plain": [
       "(3.14, 3.1415926)"
      ]
     },
     "execution_count": 147,
     "metadata": {},
     "output_type": "execute_result"
    }
   ],
   "source": [
    "obj1.abs(-3.14), obj1.pi"
   ]
  },
  {
   "cell_type": "code",
   "execution_count": 148,
   "metadata": {
    "slideshow": {
     "slide_type": "slide"
    }
   },
   "outputs": [
    {
     "data": {
      "text/plain": [
       "{'abs': <function abs>, 'name': 'object 1', 'pi': 3.1415926}"
      ]
     },
     "execution_count": 148,
     "metadata": {},
     "output_type": "execute_result"
    }
   ],
   "source": [
    "obj1.__dict__"
   ]
  },
  {
   "cell_type": "markdown",
   "metadata": {
    "slideshow": {
     "slide_type": "slide"
    }
   },
   "source": [
    "### 复杂一些的类\n",
    "\n",
    "下面定义稍微复杂一些，且就是现实生活中的类。环顾四周，尽管大家肥瘦美丑不尽相同，但可以抽象出人类，也就是说大家都是人类的实例。下面就以`Human`类的定义来演示。"
   ]
  },
  {
   "cell_type": "markdown",
   "metadata": {
    "slideshow": {
     "slide_type": "slide"
    }
   },
   "source": [
    "#### 分析和设计\n",
    "\n",
    "`Human`类的实例，也就是大家。可以分析和归纳人类具有哪些属性或行为。"
   ]
  },
  {
   "cell_type": "markdown",
   "metadata": {
    "slideshow": {
     "slide_type": "-"
    }
   },
   "source": [
    "每个人都有一些属性，例如名字、年龄，性别、身高等，考虑深远的话，还有身份证、国籍等。为了简化示例，这里假定`Human`属性只包括：姓名、性别、年龄。"
   ]
  },
  {
   "cell_type": "markdown",
   "metadata": {
    "slideshow": {
     "slide_type": "slide"
    }
   },
   "source": [
    "人的行为那就更多了。也为了简化示例，这里假定有两种行为：\n",
    "- 自我介绍，说出自己的名字；\n",
    "- 打招呼，向别人打招呼。"
   ]
  },
  {
   "cell_type": "markdown",
   "metadata": {
    "slideshow": {
     "slide_type": "slide"
    }
   },
   "source": [
    "#### 类的实现\n",
    "\n",
    "使用Python实现`Human`类，这里我们要重新实现魔术方法：\n",
    "- `__init__`\n",
    "- `__doc__`\n",
    "- `__str__`\n",
    "- `__repr__`"
   ]
  },
  {
   "cell_type": "markdown",
   "metadata": {
    "slideshow": {
     "slide_type": "-"
    }
   },
   "source": [
    "新定义2个方法（人的行为）：\n",
    "- `introduce_myself()`\n",
    "- `say_hello()`"
   ]
  },
  {
   "cell_type": "code",
   "execution_count": 178,
   "metadata": {
    "slideshow": {
     "slide_type": "slide"
    }
   },
   "outputs": [],
   "source": [
    "class Human():\n",
    "    \"\"\"\\\n",
    "    Human(name, age)  -> person\n",
    "    Human(name, age, gender='Male)  -> person\n",
    "\n",
    "    Create a person by a name and age\n",
    "    \n",
    "    >>> Human('David', 38)\n",
    "    Human('David', 38, 'Male')\n",
    "    \"\"\"\n",
    "    def __init__(self, name, age, gender='Male'):\n",
    "        self.name = name\n",
    "        self.age = age\n",
    "        self.gender = gender\n",
    "    \n",
    "    def introduce_myself(self):\n",
    "        \"\"\"introduce myself\"\"\"\n",
    "        print('我是{0}，今年{1}岁了'.format(self.name, self.age))\n",
    "    \n",
    "    def say_hello(self, other):\n",
    "        \"\"\"say hello to the other person\"\"\"\n",
    "        print('{0}，很高兴见到您'.format(other.name))\n",
    "    \n",
    "    def __repr__(self):\n",
    "        return 'Human({0.name!r}, {0.age!r}, {0.gender!r})'.format(self)\n",
    "    \n",
    "    def __str__(self):\n",
    "        return '{0.name!r}'.format(self)"
   ]
  },
  {
   "cell_type": "code",
   "execution_count": 176,
   "metadata": {
    "slideshow": {
     "slide_type": "slide"
    }
   },
   "outputs": [],
   "source": [
    "teacher = Human('老王', 42)\n",
    "wuyang = Human('吴杨', 22)\n",
    "student = Human('崔玉竹', 22, gender='Female')"
   ]
  },
  {
   "cell_type": "markdown",
   "metadata": {
    "slideshow": {
     "slide_type": "slide"
    }
   },
   "source": [
    "使用自省和帮助查看这些对象："
   ]
  },
  {
   "cell_type": "code",
   "execution_count": 151,
   "metadata": {
    "slideshow": {
     "slide_type": "-"
    }
   },
   "outputs": [
    {
     "name": "stdout",
     "output_type": "stream",
     "text": [
      "<class '__main__.Human'> <class '__main__.Human'> <class '__main__.Human'>\n"
     ]
    }
   ],
   "source": [
    "print(type(teacher), type(wuyang), type(student))"
   ]
  },
  {
   "cell_type": "code",
   "execution_count": 170,
   "metadata": {
    "slideshow": {
     "slide_type": "slide"
    }
   },
   "outputs": [
    {
     "name": "stdout",
     "output_type": "stream",
     "text": [
      "Hi '老王'\n"
     ]
    },
    {
     "data": {
      "text/plain": [
       "Human('老王', 42, 'Male')"
      ]
     },
     "execution_count": 170,
     "metadata": {},
     "output_type": "execute_result"
    }
   ],
   "source": [
    "print(teacher)\n",
    "teacher"
   ]
  },
  {
   "cell_type": "code",
   "execution_count": 159,
   "metadata": {
    "slideshow": {
     "slide_type": "-"
    }
   },
   "outputs": [
    {
     "data": {
      "text/plain": [
       "(\"'老王'\", \"Human('老王', 42, 'Male')\")"
      ]
     },
     "execution_count": 159,
     "metadata": {},
     "output_type": "execute_result"
    }
   ],
   "source": [
    "str(teacher), repr(teacher)"
   ]
  },
  {
   "cell_type": "code",
   "execution_count": 171,
   "metadata": {
    "slideshow": {
     "slide_type": "slide"
    }
   },
   "outputs": [
    {
     "name": "stdout",
     "output_type": "stream",
     "text": [
      "    Human(name, age)  -> person\n",
      "    Human(name, age, gender='Male)  -> person\n",
      "\n",
      "    Create a person by a name and age\n",
      "    \n",
      "    >>> Human('David', 38)\n",
      "    Human('David', 38, 'Male')\n",
      "    \n"
     ]
    }
   ],
   "source": [
    "print(teacher.__doc__)"
   ]
  },
  {
   "cell_type": "code",
   "execution_count": 172,
   "metadata": {
    "slideshow": {
     "slide_type": "slide"
    }
   },
   "outputs": [
    {
     "name": "stdout",
     "output_type": "stream",
     "text": [
      "{'name': '老王', 'age': 42, 'gender': 'Male'}\n"
     ]
    }
   ],
   "source": [
    "print(teacher.__dict__)"
   ]
  },
  {
   "cell_type": "code",
   "execution_count": 177,
   "metadata": {
    "slideshow": {
     "slide_type": "slide"
    }
   },
   "outputs": [
    {
     "name": "stdout",
     "output_type": "stream",
     "text": [
      "Help on Human in module __main__ object:\n",
      "\n",
      "class Human(builtins.object)\n",
      " |  Human(name, age)  -> person\n",
      " |  Human(name, age, gender='Male)  -> person\n",
      " |  \n",
      " |  Create a person by a name and age\n",
      " |  \n",
      " |  >>> Human('David', 38)\n",
      " |  Human('David', 38, 'Male')\n",
      " |  \n",
      " |  Methods defined here:\n",
      " |  \n",
      " |  __init__(self, name, age, gender='Male')\n",
      " |      Initialize self.  See help(type(self)) for accurate signature.\n",
      " |  \n",
      " |  __repr__(self)\n",
      " |      Return repr(self).\n",
      " |  \n",
      " |  __str__(self)\n",
      " |      Return str(self).\n",
      " |  \n",
      " |  introduce_myself(self)\n",
      " |      introduce myself\n",
      " |  \n",
      " |  say_hello(self, other)\n",
      " |      say hello to the other person\n",
      " |  \n",
      " |  ----------------------------------------------------------------------\n",
      " |  Data descriptors defined here:\n",
      " |  \n",
      " |  __dict__\n",
      " |      dictionary for instance variables (if defined)\n",
      " |  \n",
      " |  __weakref__\n",
      " |      list of weak references to the object (if defined)\n",
      "\n"
     ]
    }
   ],
   "source": [
    "help(teacher)"
   ]
  },
  {
   "cell_type": "code",
   "execution_count": 182,
   "metadata": {},
   "outputs": [
    {
     "data": {
      "text/plain": [
       "['__class__',\n",
       " '__delattr__',\n",
       " '__dict__',\n",
       " '__dir__',\n",
       " '__doc__',\n",
       " '__eq__',\n",
       " '__format__',\n",
       " '__ge__',\n",
       " '__getattribute__',\n",
       " '__gt__',\n",
       " '__hash__',\n",
       " '__init__',\n",
       " '__init_subclass__',\n",
       " '__le__',\n",
       " '__lt__',\n",
       " '__module__',\n",
       " '__ne__',\n",
       " '__new__',\n",
       " '__reduce__',\n",
       " '__reduce_ex__',\n",
       " '__repr__',\n",
       " '__setattr__',\n",
       " '__sizeof__',\n",
       " '__str__',\n",
       " '__subclasshook__',\n",
       " '__weakref__',\n",
       " 'age',\n",
       " 'gender',\n",
       " 'introduce_myself',\n",
       " 'name',\n",
       " 'say_hello']"
      ]
     },
     "execution_count": 182,
     "metadata": {},
     "output_type": "execute_result"
    }
   ],
   "source": [
    "dir(teacher)"
   ]
  },
  {
   "cell_type": "markdown",
   "metadata": {
    "slideshow": {
     "slide_type": "slide"
    }
   },
   "source": [
    "调用方法"
   ]
  },
  {
   "cell_type": "code",
   "execution_count": 184,
   "metadata": {
    "slideshow": {
     "slide_type": "-"
    }
   },
   "outputs": [
    {
     "name": "stdout",
     "output_type": "stream",
     "text": [
      "我是老王，今年42岁了\n",
      "我是吴杨，今年22岁了\n",
      "吴杨，很高兴见到您\n",
      "老王，很高兴见到您\n"
     ]
    }
   ],
   "source": [
    "teacher.introduce_myself()\n",
    "wuyang.introduce_myself()\n",
    "teacher.say_hello(wuyang)\n",
    "wuyang.say_hello(teacher)"
   ]
  },
  {
   "cell_type": "markdown",
   "metadata": {
    "slideshow": {
     "slide_type": "slide"
    }
   },
   "source": [
    "## 类的封装\n",
    "\n",
    "在定义类之前，需要明白一点，辛辛苦苦写出来的类是谁在用？或许有学员会说，目前为止都是我自己在用。也有人会说，是其它程序员在用。"
   ]
  },
  {
   "cell_type": "markdown",
   "metadata": {
    "slideshow": {
     "slide_type": "slide"
    }
   },
   "source": [
    "回顾一下，Python内置的列表、字典等类，是谁写的，又是谁在用呢？显然，编写类不是自娱自乐，而是提供给其它用户用的。就像手机开发和制造商，造出手机来是让千千万万用户用的。"
   ]
  },
  {
   "cell_type": "markdown",
   "metadata": {
    "slideshow": {
     "slide_type": "slide"
    }
   },
   "source": [
    "通常来说，开发者和用户所精通领域会有所不同。例如手机开发者可能是射频工程师、芯片工程师或其他专家，而用户则千差万别，可能是大学教授也可能是7岁孩童。"
   ]
  },
  {
   "cell_type": "markdown",
   "metadata": {
    "slideshow": {
     "slide_type": "slide"
    }
   },
   "source": [
    "那么一个专家是如何设计开发一个产品并展现给用户呢？那就是采用封装的技术。封装是面向对象编程的重要特征。"
   ]
  },
  {
   "cell_type": "markdown",
   "metadata": {
    "slideshow": {
     "slide_type": "slide"
    }
   },
   "source": [
    "封装就是将数据与具体操作的代码放在对象内部，用户无需了解具体实现细节。用户所能看到的只是公开的对外接口。比如手机，我们无需知道手机中的天线或芯片，知道如何拨打电话即可。"
   ]
  },
  {
   "cell_type": "markdown",
   "metadata": {
    "slideshow": {
     "slide_type": "slide"
    }
   },
   "source": [
    "从普通用户的角度出发，需要了解如何创建对象以及对象的接口应用上即可；从程序员的角度出发，则需要尽可能了解类的更多细节，体会如何创建一个类；最后，站在开发者的位置，则需要掌握封装技术。"
   ]
  },
  {
   "cell_type": "markdown",
   "metadata": {
    "slideshow": {
     "slide_type": "slide"
    }
   },
   "source": [
    "因此，多多学习Python内置、标准库和优秀第三方库，最终能够写出如Python内置类水平的类，就是程序员的追求。"
   ]
  },
  {
   "cell_type": "markdown",
   "metadata": {
    "slideshow": {
     "slide_type": "slide"
    }
   },
   "source": [
    "通过隐藏属性，封装提供了一个有效途径来保护数据。"
   ]
  },
  {
   "cell_type": "markdown",
   "metadata": {
    "slideshow": {
     "slide_type": "slide"
    }
   },
   "source": [
    "下面定义一个培训班的学生（Student）类，包括：\n",
    "- 属性：\n",
    "    - 名字\n",
    "    - 成绩\n",
    "- 方法\n",
    "    - 是否及格\n",
    "    - 打印成绩"
   ]
  },
  {
   "cell_type": "code",
   "execution_count": 290,
   "metadata": {
    "slideshow": {
     "slide_type": "slide"
    }
   },
   "outputs": [],
   "source": [
    "class Student():\n",
    "    \"\"\"Provide student class in python training\"\"\"\n",
    "    def __init__(self, name, score):\n",
    "        self.name = name\n",
    "        self.score = score\n",
    "    \n",
    "    def is_pass(self):\n",
    "        return self.score >= 60\n",
    "    \n",
    "    def print_score(self):\n",
    "        status = '及格' if self.is_pass() else '不及格'\n",
    "        print('{0}: {1}, {2}'.format(self.name, self.score, status))    "
   ]
  },
  {
   "cell_type": "markdown",
   "metadata": {
    "slideshow": {
     "slide_type": "slide"
    }
   },
   "source": [
    "可以创建对象，并进行相应的操作"
   ]
  },
  {
   "cell_type": "code",
   "execution_count": 291,
   "metadata": {
    "slideshow": {
     "slide_type": "-"
    }
   },
   "outputs": [
    {
     "name": "stdout",
     "output_type": "stream",
     "text": [
      "老王: 59, 不及格\n"
     ]
    }
   ],
   "source": [
    "student1 = Student('老王', 59)\n",
    "student1.print_score()"
   ]
  },
  {
   "cell_type": "markdown",
   "metadata": {
    "slideshow": {
     "slide_type": "slide"
    }
   },
   "source": [
    "这里有个问题，可以直接访问属性`name`和`score`，也就意味着可以更改它们。"
   ]
  },
  {
   "cell_type": "code",
   "execution_count": 292,
   "metadata": {
    "slideshow": {
     "slide_type": "-"
    }
   },
   "outputs": [
    {
     "name": "stdout",
     "output_type": "stream",
     "text": [
      "Wang Weihua: 60, 及格\n"
     ]
    }
   ],
   "source": [
    "student1.score = 60\n",
    "student1.name = 'Wang Weihua'\n",
    "student1.print_score()"
   ]
  },
  {
   "cell_type": "markdown",
   "metadata": {
    "slideshow": {
     "slide_type": "slide"
    }
   },
   "source": [
    "如果要保护这些内部属性，不想它们被外部访问，可以在属性名称前加上两个下划线`__`。在Python对象中，以`__`开头属性变成一个私有属性（private），以`__`开头的方法，会变成一个私有方法（private），只有内部可以访问。"
   ]
  },
  {
   "cell_type": "code",
   "execution_count": 293,
   "metadata": {
    "slideshow": {
     "slide_type": "slide"
    }
   },
   "outputs": [],
   "source": [
    "class Student():\n",
    "    \"\"\"Provide student class in python training\"\"\"\n",
    "    def __init__(self, name, score):\n",
    "        self.__name = name\n",
    "        self.__score = score\n",
    "    \n",
    "    def __is_pass(self):\n",
    "        return self.__score >= 60\n",
    "    \n",
    "    def print_score(self):\n",
    "        status = '及格' if self.__is_pass() else '不及格'\n",
    "        print('{0}: {1}, {2}'.format(self.__name, self.__score, status))    "
   ]
  },
  {
   "cell_type": "markdown",
   "metadata": {
    "slideshow": {
     "slide_type": "slide"
    }
   },
   "source": [
    "此时创建的对象，就不能访问私有属性，否则会引发`AtrributeError`异常。"
   ]
  },
  {
   "cell_type": "code",
   "execution_count": 294,
   "metadata": {
    "slideshow": {
     "slide_type": "-"
    }
   },
   "outputs": [
    {
     "name": "stdout",
     "output_type": "stream",
     "text": [
      "老王: 59, 不及格\n"
     ]
    },
    {
     "ename": "AttributeError",
     "evalue": "'Student' object has no attribute '__name'",
     "output_type": "error",
     "traceback": [
      "\u001b[0;31m---------------------------------------------------------------------------\u001b[0m",
      "\u001b[0;31mAttributeError\u001b[0m                            Traceback (most recent call last)",
      "\u001b[0;32m<ipython-input-294-89a99a03f397>\u001b[0m in \u001b[0;36m<module>\u001b[0;34m()\u001b[0m\n\u001b[1;32m      1\u001b[0m \u001b[0mstudent2\u001b[0m \u001b[0;34m=\u001b[0m \u001b[0mStudent\u001b[0m\u001b[0;34m(\u001b[0m\u001b[0;34m'老王'\u001b[0m\u001b[0;34m,\u001b[0m \u001b[0;36m59\u001b[0m\u001b[0;34m)\u001b[0m\u001b[0;34m\u001b[0m\u001b[0m\n\u001b[1;32m      2\u001b[0m \u001b[0mstudent2\u001b[0m\u001b[0;34m.\u001b[0m\u001b[0mprint_score\u001b[0m\u001b[0;34m(\u001b[0m\u001b[0;34m)\u001b[0m\u001b[0;34m\u001b[0m\u001b[0m\n\u001b[0;32m----> 3\u001b[0;31m \u001b[0mstudent2\u001b[0m\u001b[0;34m.\u001b[0m\u001b[0m__name\u001b[0m\u001b[0;34m\u001b[0m\u001b[0m\n\u001b[0m",
      "\u001b[0;31mAttributeError\u001b[0m: 'Student' object has no attribute '__name'"
     ]
    }
   ],
   "source": [
    "student2 = Student('老王', 59)\n",
    "student2.print_score()\n",
    "student2.__name"
   ]
  },
  {
   "cell_type": "code",
   "execution_count": 295,
   "metadata": {
    "slideshow": {
     "slide_type": "slide"
    }
   },
   "outputs": [
    {
     "ename": "AttributeError",
     "evalue": "'Student' object has no attribute '__is_pass'",
     "output_type": "error",
     "traceback": [
      "\u001b[0;31m---------------------------------------------------------------------------\u001b[0m",
      "\u001b[0;31mAttributeError\u001b[0m                            Traceback (most recent call last)",
      "\u001b[0;32m<ipython-input-295-37356f6d3690>\u001b[0m in \u001b[0;36m<module>\u001b[0;34m()\u001b[0m\n\u001b[0;32m----> 1\u001b[0;31m \u001b[0mstudent2\u001b[0m\u001b[0;34m.\u001b[0m\u001b[0m__is_pass\u001b[0m\u001b[0;34m(\u001b[0m\u001b[0;34m)\u001b[0m\u001b[0;34m\u001b[0m\u001b[0m\n\u001b[0m",
      "\u001b[0;31mAttributeError\u001b[0m: 'Student' object has no attribute '__is_pass'"
     ]
    }
   ],
   "source": [
    "student2.__is_pass()"
   ]
  },
  {
   "cell_type": "markdown",
   "metadata": {
    "slideshow": {
     "slide_type": "slide"
    }
   },
   "source": [
    "如此封装就保护了对象的数据，使得外部代码不能随意修改对象内部属性，代码也会更加健壮。但是需要提供访问内部数据的场景，可以通过增加对应的接口方法即可。"
   ]
  },
  {
   "cell_type": "code",
   "execution_count": 297,
   "metadata": {
    "slideshow": {
     "slide_type": "slide"
    }
   },
   "outputs": [],
   "source": [
    "class Student():\n",
    "    \"\"\"Provide student class in python training\"\"\"\n",
    "    def __init__(self, name, score):\n",
    "        self.__name = name\n",
    "        self.__score = score\n",
    "\n",
    "    def get_name(self):\n",
    "        return self.__name\n",
    "\n",
    "    def get_score(self):\n",
    "        return self.__score\n",
    "    \n",
    "    def __is_pass(self):\n",
    "        return self.__score >= 60\n",
    "    \n",
    "    def print_score(self):\n",
    "        status = '及格' if self.__is_pass() else '不及格'\n",
    "        print('{0}: {1}, {2}'.format(self.__name, self.__score, status))    "
   ]
  },
  {
   "cell_type": "code",
   "execution_count": 298,
   "metadata": {
    "slideshow": {
     "slide_type": "slide"
    }
   },
   "outputs": [
    {
     "name": "stdout",
     "output_type": "stream",
     "text": [
      "老王: 59, 不及格\n",
      "老王 59\n"
     ]
    }
   ],
   "source": [
    "student3 = Student('老王', 59)\n",
    "student3.print_score()\n",
    "print(student3.get_name(), student3.get_score())"
   ]
  },
  {
   "cell_type": "markdown",
   "metadata": {
    "slideshow": {
     "slide_type": "slide"
    }
   },
   "source": [
    "如果需要更改培训成绩，还可以增加对应的操作方法"
   ]
  },
  {
   "cell_type": "code",
   "execution_count": 299,
   "metadata": {
    "slideshow": {
     "slide_type": "slide"
    }
   },
   "outputs": [],
   "source": [
    "class Student():\n",
    "    \"\"\"Provide student class in python training\"\"\"\n",
    "    def __init__(self, name, score):\n",
    "        self.__name = name\n",
    "        self.__score = score\n",
    "\n",
    "    def get_name(self):\n",
    "        return self.__name\n",
    "\n",
    "    def get_score(self):\n",
    "        return self.__score\n",
    "\n",
    "    def set_score(self, score):\n",
    "        self.__score = score\n",
    "    \n",
    "    def __is_pass(self):\n",
    "        return self.__score >= 60\n",
    "    \n",
    "    def print_score(self):\n",
    "        status = '及格' if self.__is_pass() else '不及格'\n",
    "        print('{0}: {1}, {2}'.format(self.__name, self.__score, status))    "
   ]
  },
  {
   "cell_type": "code",
   "execution_count": 300,
   "metadata": {
    "slideshow": {
     "slide_type": "slide"
    }
   },
   "outputs": [
    {
     "name": "stdout",
     "output_type": "stream",
     "text": [
      "老王: 59, 不及格\n",
      "老王: 60, 及格\n"
     ]
    }
   ],
   "source": [
    "student4 = Student('老王', 59)\n",
    "student4.print_score()\n",
    "student4.set_score(60)\n",
    "student4.print_score()"
   ]
  },
  {
   "cell_type": "markdown",
   "metadata": {
    "slideshow": {
     "slide_type": "slide"
    }
   },
   "source": [
    "\n",
    "使用封装技术，可以控制存取对象的属性，提供“只读”、“只写”、“读写”等灵活的的操作方法。"
   ]
  },
  {
   "cell_type": "markdown",
   "metadata": {
    "slideshow": {
     "slide_type": "slide"
    }
   },
   "source": [
    "> 注意，在Python中，以双下划线`__`开头和结尾的变量，是特殊变量，例如`__debug__`等。对象中的特殊变量称为魔术属性或魔术方法。与私有变量不同，特殊变量可以直接访问。"
   ]
  },
  {
   "cell_type": "markdown",
   "metadata": {
    "slideshow": {
     "slide_type": "slide"
    }
   },
   "source": [
    "## 类的继承\n",
    "\n",
    "在现实世界中，经常会看到继承的案例，如一句老话“龙生龙凤生凤，老鼠的儿子会打洞”。也就是说，孩子具有父母的一些特征，继承了父亲或者母亲的某些特征。这是最常见也是最基本的一种继承关系。"
   ]
  },
  {
   "cell_type": "markdown",
   "metadata": {
    "slideshow": {
     "slide_type": "slide"
    }
   },
   "source": [
    "继承也是面向对象的重要特征，这种机制实现了代码的复用。一个父类提供了一些公用代码，其他类只需要继承父类即可获得这些代码功能。"
   ]
  },
  {
   "cell_type": "markdown",
   "metadata": {
    "slideshow": {
     "slide_type": "slide"
    }
   },
   "source": [
    "使用Python定义新类时，可以从现有的类继承，新定义的类称为子类（subclass），被继承的类称为父类、基类或超类（Base class, Super class）。继承最大的好处就是子类获得父类的全部属性和方法，除此之外，子类还能在此基础上进行改进、扩展，实现更多功能。"
   ]
  },
  {
   "cell_type": "markdown",
   "metadata": {
    "slideshow": {
     "slide_type": "slide"
    }
   },
   "source": [
    "### 定义子类"
   ]
  },
  {
   "cell_type": "markdown",
   "metadata": {
    "slideshow": {
     "slide_type": "slide"
    }
   },
   "source": [
    "为了简化示例，在这里重新定义`Human`类。"
   ]
  },
  {
   "cell_type": "code",
   "execution_count": 301,
   "metadata": {
    "slideshow": {
     "slide_type": "-"
    }
   },
   "outputs": [],
   "source": [
    "class Human():\n",
    "    \"\"\"\\\n",
    "    Human(name, age)  -> person\n",
    "    Human(name, age, gender='Male)  -> person\n",
    "\n",
    "    Create a person by a name and age\n",
    "    \n",
    "    >>> Human('David', 38)\n",
    "    Human('David', 38, 'Male')\n",
    "    \"\"\"\n",
    "    def __init__(self, name, age, gender='Male'):\n",
    "        self.__name = name\n",
    "        self.__age = age\n",
    "        self.__gender = gender\n",
    "\n",
    "    def get_name(self):\n",
    "        return self.__name\n",
    "\n",
    "    def get_age(self):\n",
    "        return self.__age\n",
    "\n",
    "    def get_gender(self):\n",
    "        return self.__gender\n",
    "    \n",
    "    def introduce_myself(self):\n",
    "        \"\"\"introduce myself\"\"\"\n",
    "        print('我是{0}，今年{1}岁了'.format(self.__name, self.__age))\n",
    "    \n",
    "    def say_hello(self, other):\n",
    "        \"\"\"say hello to the other person\"\"\"\n",
    "        print('{0}，很高兴见到您'.format(other.__name))"
   ]
  },
  {
   "cell_type": "markdown",
   "metadata": {
    "slideshow": {
     "slide_type": "slide"
    }
   },
   "source": [
    "重新定义学生类，使其继承父类`Human`，只需在`class`语句的括号中加入父类名即可。"
   ]
  },
  {
   "cell_type": "code",
   "execution_count": 305,
   "metadata": {
    "slideshow": {
     "slide_type": "-"
    }
   },
   "outputs": [],
   "source": [
    "class Student(Human):\n",
    "    \"\"\"Provide student class in python training\"\"\"\n",
    "    def __init__(self, name, age, score, gender='Male'):\n",
    "        Human.__init__(self, name, age, gender)\n",
    "        self.__score = score\n",
    "\n",
    "    def get_score(self):\n",
    "        return self.__score\n",
    "\n",
    "    def set_score(self, score):\n",
    "        self.__score = score\n",
    "    \n",
    "    def __is_pass(self):\n",
    "        return self.__score >= 60\n",
    "    \n",
    "    def print_score(self):\n",
    "        status = '及格' if self.__is_pass() else '不及格'\n",
    "        name = self.get_name()\n",
    "        # name = self.__name\n",
    "        print('{0}: {1}, {2}'.format(name, self.__score, status))    "
   ]
  },
  {
   "cell_type": "markdown",
   "metadata": {
    "slideshow": {
     "slide_type": "slide"
    }
   },
   "source": [
    "> 需要注意的是，类的私有属性只能类内访问，在子类中也无法访问。"
   ]
  },
  {
   "cell_type": "markdown",
   "metadata": {
    "slideshow": {
     "slide_type": "slide"
    }
   },
   "source": [
    "定义类完毕后，就可以创建对象："
   ]
  },
  {
   "cell_type": "code",
   "execution_count": 306,
   "metadata": {
    "slideshow": {
     "slide_type": "-"
    }
   },
   "outputs": [
    {
     "name": "stdout",
     "output_type": "stream",
     "text": [
      "老王: 59, 不及格\n",
      "老王: 60, 及格\n"
     ]
    }
   ],
   "source": [
    "student5 = Student('老王', 42, 59)\n",
    "student5.print_score()\n",
    "student5.set_score(60)\n",
    "student5.print_score()"
   ]
  },
  {
   "cell_type": "markdown",
   "metadata": {
    "slideshow": {
     "slide_type": "slide"
    }
   },
   "source": [
    "不同的是，新的对象还继承了父类的一些方法："
   ]
  },
  {
   "cell_type": "code",
   "execution_count": 307,
   "metadata": {
    "slideshow": {
     "slide_type": "-"
    }
   },
   "outputs": [
    {
     "name": "stdout",
     "output_type": "stream",
     "text": [
      "我是老王，今年42岁了\n",
      "我是Wu Yang，今年22岁了\n",
      "Wu Yang，很高兴见到您\n",
      "老王，很高兴见到您\n"
     ]
    }
   ],
   "source": [
    "wuyang = Student('Wu Yang', 22, 60)\n",
    "student5.introduce_myself()\n",
    "wuyang.introduce_myself()\n",
    "student5.say_hello(wuyang)\n",
    "wuyang.say_hello(student5)"
   ]
  },
  {
   "cell_type": "markdown",
   "metadata": {
    "slideshow": {
     "slide_type": "slide"
    }
   },
   "source": [
    "为了说明继承的好处，这里在定义一个老师(Teacher)类"
   ]
  },
  {
   "cell_type": "code",
   "execution_count": 308,
   "metadata": {
    "slideshow": {
     "slide_type": "slide"
    }
   },
   "outputs": [],
   "source": [
    "class Teacher(Human):\n",
    "    \"\"\"Provide teacher class in python training\"\"\"\n",
    "    def __init__(self, name, age, gender='Male'):\n",
    "        Human.__init__(self, name, age, gender)\n",
    "        self.__students = []\n",
    "        \n",
    "    def add_student(self, student):\n",
    "        self.__students.append(student)\n",
    "\n",
    "    def set_score(self, student, score):\n",
    "        student.set_score(score)\n",
    "    \n",
    "    def list_student_score(self):\n",
    "        for student in self.__students:\n",
    "            student.print_score()"
   ]
  },
  {
   "cell_type": "markdown",
   "metadata": {
    "slideshow": {
     "slide_type": "slide"
    }
   },
   "source": [
    "创建老师和学生的对象"
   ]
  },
  {
   "cell_type": "code",
   "execution_count": 309,
   "metadata": {
    "slideshow": {
     "slide_type": "slide"
    }
   },
   "outputs": [],
   "source": [
    "whwang = Teacher('老王', 42)\n",
    "wuyang = Student('Wu Yang', 22, 59)\n",
    "cuiyz = Student('Cui Yuzhu', 24, 80, 'Female') "
   ]
  },
  {
   "cell_type": "markdown",
   "metadata": {
    "slideshow": {
     "slide_type": "slide"
    }
   },
   "source": [
    "调用各自的方法"
   ]
  },
  {
   "cell_type": "code",
   "execution_count": 310,
   "metadata": {
    "slideshow": {
     "slide_type": "slide"
    }
   },
   "outputs": [],
   "source": [
    "whwang.set_score(wuyang, 90)\n",
    "whwang.set_score(cuiyz, 50)\n",
    "whwang.add_student(wuyang)\n",
    "whwang.add_student(cuiyz)"
   ]
  },
  {
   "cell_type": "code",
   "execution_count": 311,
   "metadata": {
    "slideshow": {
     "slide_type": "slide"
    }
   },
   "outputs": [
    {
     "name": "stdout",
     "output_type": "stream",
     "text": [
      "Wu Yang: 90, 及格\n",
      "Cui Yuzhu: 50, 不及格\n",
      "Wu Yang: 90, 及格\n",
      "Cui Yuzhu: 50, 不及格\n"
     ]
    }
   ],
   "source": [
    "whwang.list_student_score()\n",
    "wuyang.print_score()\n",
    "cuiyz.print_score()"
   ]
  },
  {
   "cell_type": "code",
   "execution_count": 312,
   "metadata": {
    "slideshow": {
     "slide_type": "-"
    }
   },
   "outputs": [
    {
     "name": "stdout",
     "output_type": "stream",
     "text": [
      "我是老王，今年42岁了\n",
      "Wu Yang，很高兴见到您\n",
      "Cui Yuzhu，很高兴见到您\n"
     ]
    }
   ],
   "source": [
    "whwang.introduce_myself()\n",
    "whwang.say_hello(wuyang)\n",
    "whwang.say_hello(cuiyz)"
   ]
  },
  {
   "cell_type": "markdown",
   "metadata": {
    "slideshow": {
     "slide_type": "slide"
    }
   },
   "source": [
    "可以看出，使用类的继承，使得代码具有良好的可重用性和扩展性。"
   ]
  },
  {
   "cell_type": "markdown",
   "metadata": {
    "slideshow": {
     "slide_type": "slide"
    }
   },
   "source": [
    "### 多继承\n",
    "\n",
    "多继承是指某个类继承自两个或多个类。多继承会存在一些问题，如某个调用的方法不在子类的话，很容易搞不清楚具体来自哪个父类。调用方法继承自哪里取决于父类定义的顺序。"
   ]
  },
  {
   "cell_type": "markdown",
   "metadata": {
    "slideshow": {
     "slide_type": "slide"
    }
   },
   "source": [
    "子类调用某个方法或属性的时候，核心原则有两点：\n",
    "- 首先在子类中查找，找不到的话就到从父类中查找\n",
    "- 根据父类定义顺序，按照深度优先方式查找。"
   ]
  },
  {
   "cell_type": "markdown",
   "metadata": {
    "slideshow": {
     "slide_type": "slide"
    }
   },
   "source": [
    "实际上，也不同太担心多继承问题。使用帮助文件查看`Student`对象"
   ]
  },
  {
   "cell_type": "code",
   "execution_count": 313,
   "metadata": {
    "slideshow": {
     "slide_type": "slide"
    }
   },
   "outputs": [
    {
     "name": "stdout",
     "output_type": "stream",
     "text": [
      "Help on Student in module __main__ object:\n",
      "\n",
      "class Student(Human)\n",
      " |  Provide student class in python training\n",
      " |  \n",
      " |  Method resolution order:\n",
      " |      Student\n",
      " |      Human\n",
      " |      builtins.object\n",
      " |  \n",
      " |  Methods defined here:\n",
      " |  \n",
      " |  __init__(self, name, age, score, gender='Male')\n",
      " |      Initialize self.  See help(type(self)) for accurate signature.\n",
      " |  \n",
      " |  get_score(self)\n",
      " |  \n",
      " |  print_score(self)\n",
      " |  \n",
      " |  set_score(self, score)\n",
      " |  \n",
      " |  ----------------------------------------------------------------------\n",
      " |  Methods inherited from Human:\n",
      " |  \n",
      " |  get_age(self)\n",
      " |  \n",
      " |  get_gender(self)\n",
      " |  \n",
      " |  get_name(self)\n",
      " |  \n",
      " |  introduce_myself(self)\n",
      " |      introduce myself\n",
      " |  \n",
      " |  say_hello(self, other)\n",
      " |      say hello to the other person\n",
      " |  \n",
      " |  ----------------------------------------------------------------------\n",
      " |  Data descriptors inherited from Human:\n",
      " |  \n",
      " |  __dict__\n",
      " |      dictionary for instance variables (if defined)\n",
      " |  \n",
      " |  __weakref__\n",
      " |      list of weak references to the object (if defined)\n",
      "\n"
     ]
    }
   ],
   "source": [
    "help(wuyang)"
   ]
  },
  {
   "cell_type": "markdown",
   "metadata": {
    "slideshow": {
     "slide_type": "slide"
    }
   },
   "source": [
    "可以发现解析次序为：\n",
    "```\n",
    " |  Method resolution order:\n",
    " |      Student\n",
    " |      Human\n",
    " |      builtins.object\n",
    "``` "
   ]
  },
  {
   "cell_type": "markdown",
   "metadata": {
    "slideshow": {
     "slide_type": "-"
    }
   },
   "source": [
    "实际上，在Python中缺省定义的类都会是内置`object`的子类。"
   ]
  },
  {
   "cell_type": "markdown",
   "metadata": {},
   "source": [
    "下面定义一些多继承的示例。"
   ]
  },
  {
   "cell_type": "code",
   "execution_count": 314,
   "metadata": {
    "slideshow": {
     "slide_type": "slide"
    }
   },
   "outputs": [],
   "source": [
    "class A(object):\n",
    "    def print_me(self):\n",
    "        print('from A')\n",
    "    def show_me(self):\n",
    "        print('from A')\n",
    "    pass\n",
    "\n",
    "class B(A):\n",
    "    def print_me(self):\n",
    "        print('from B')\n",
    "\n",
    "class C(A):\n",
    "    def print_me(self):\n",
    "        print('from C')\n",
    "\n",
    "class D(B, C):\n",
    "    pass\n",
    "\n",
    "class E(C, B):\n",
    "    pass"
   ]
  },
  {
   "cell_type": "code",
   "execution_count": 316,
   "metadata": {
    "slideshow": {
     "slide_type": "slide"
    }
   },
   "outputs": [
    {
     "name": "stdout",
     "output_type": "stream",
     "text": [
      "from B\n",
      "from C\n",
      "from A\n"
     ]
    }
   ],
   "source": [
    "d = D()\n",
    "d.print_me()\n",
    "\n",
    "e = E()\n",
    "e.print_me()\n",
    "e.show_me()"
   ]
  },
  {
   "cell_type": "markdown",
   "metadata": {
    "slideshow": {
     "slide_type": "slide"
    }
   },
   "source": [
    "> 尽量避免使用多继承"
   ]
  },
  {
   "cell_type": "markdown",
   "metadata": {
    "slideshow": {
     "slide_type": "slide"
    }
   },
   "source": [
    "### `super`函数\n",
    "\n",
    "上节讲到，在子类调用属性或方法时，会从子类中查找。如果与父类属性或方法同名，会优先使用子类成员。但有时需要强制调用父类成员，可以使用`super`函数。例如，可以使用`super`调用`__init()`方法。"
   ]
  },
  {
   "cell_type": "markdown",
   "metadata": {
    "slideshow": {
     "slide_type": "slide"
    }
   },
   "source": [
    "下面使用`super`函数重新定义`Teacher`和`Student`类"
   ]
  },
  {
   "cell_type": "code",
   "execution_count": 317,
   "metadata": {
    "slideshow": {
     "slide_type": "slide"
    }
   },
   "outputs": [],
   "source": [
    "class Teacher(Human):\n",
    "    \"\"\"Provide teacher class in python training\"\"\"\n",
    "    def __init__(self, name, age, gender='Male'):\n",
    "        super(Teacher, self).__init__(name, age, gender)\n",
    "        self.__students = []\n",
    "        \n",
    "    def add_student(self, student):\n",
    "        self.__students.append(student)\n",
    "\n",
    "    def set_score(self, student, score):\n",
    "        student.set_score(score)\n",
    "    \n",
    "    def list_student_score(self):\n",
    "        for student in self.__students:\n",
    "            student.print_score()"
   ]
  },
  {
   "cell_type": "code",
   "execution_count": 318,
   "metadata": {
    "slideshow": {
     "slide_type": "slide"
    }
   },
   "outputs": [],
   "source": [
    "class Student(Human):\n",
    "    \"\"\"Provide student class in python training\"\"\"\n",
    "    def __init__(self, name, age, score, gender='Male'):\n",
    "        super(Human, self).__init__(name, age, gender)\n",
    "        self.__score = score\n",
    "\n",
    "    def get_score(self):\n",
    "        return self.__score\n",
    "\n",
    "    def set_score(self, score):\n",
    "        self.__score = score\n",
    "    \n",
    "    def __is_pass(self):\n",
    "        return self.__score >= 60\n",
    "    \n",
    "    def print_score(self):\n",
    "        status = '及格' if self.__is_pass() else '不及格'\n",
    "        name = self.get_name()\n",
    "        print('{0}: {1}, {2}'.format(name, self.__score, status))    "
   ]
  },
  {
   "cell_type": "markdown",
   "metadata": {
    "slideshow": {
     "slide_type": "slide"
    }
   },
   "source": [
    "### 方法重写\n",
    "\n",
    "如果父类方法的功能不适合或不能满足需求，只要在子类中使用父类方法名，重新定义即可。"
   ]
  },
  {
   "cell_type": "code",
   "execution_count": 326,
   "metadata": {
    "slideshow": {
     "slide_type": "slide"
    }
   },
   "outputs": [],
   "source": [
    "class Student(Human):\n",
    "    \"\"\"Provide student class in python training\"\"\"\n",
    "    def __init__(self, name, age, score, gender='Male'):\n",
    "        super(Student, self).__init__(name, age, gender)\n",
    "        self.__score = score\n",
    "\n",
    "    def get_score(self):\n",
    "        return self.__score\n",
    "\n",
    "    def set_score(self, score):\n",
    "        self.__score = score\n",
    "    \n",
    "    def __is_pass(self):\n",
    "        return self.__score >= 60\n",
    "    \n",
    "    def say_hello(self, other):\n",
    "        \"\"\"say hello to the other person\"\"\"\n",
    "        name = other.get_name()\n",
    "        if isinstance(other, Teacher):\n",
    "            print('{0}老师，很高兴见到您'.format(name))\n",
    "        else:\n",
    "            print('{0}，很高兴见到您'.format(name))            \n",
    "        \n",
    "    def print_score(self):\n",
    "        status = '及格' if self.__is_pass() else '不及格'\n",
    "        name = self.get_name()\n",
    "        print('{0}: {1}, {2}'.format(name, self.__score, status))    "
   ]
  },
  {
   "cell_type": "code",
   "execution_count": 327,
   "metadata": {
    "slideshow": {
     "slide_type": "slide"
    }
   },
   "outputs": [],
   "source": [
    "whwang = Teacher('老王', 42)\n",
    "wuyang = Student('Wu Yang', 22, 59)\n",
    "cuiyz = Student('Cui Yuzhu', 24, 80, 'Female') "
   ]
  },
  {
   "cell_type": "code",
   "execution_count": 324,
   "metadata": {
    "slideshow": {
     "slide_type": "-"
    }
   },
   "outputs": [
    {
     "name": "stdout",
     "output_type": "stream",
     "text": [
      "老王老师，很高兴见到您\n",
      "Cui Yuzhu，很高兴见到您\n"
     ]
    }
   ],
   "source": [
    "wuyang.say_hello(whwang)\n",
    "wuyang.say_hello(cuiyz)"
   ]
  },
  {
   "cell_type": "code",
   "execution_count": 329,
   "metadata": {},
   "outputs": [
    {
     "data": {
      "text/plain": [
       "False"
      ]
     },
     "execution_count": 329,
     "metadata": {},
     "output_type": "execute_result"
    }
   ],
   "source": [
    "wuyang.say_hello is cuiyz.say_hello"
   ]
  },
  {
   "cell_type": "markdown",
   "metadata": {
    "slideshow": {
     "slide_type": "slide"
    }
   },
   "source": [
    "###  继承与复合\n",
    "\n",
    "* 复合：包含已有类的对象来产生新的类\n",
    "* 体现了has-a的关系\n",
    "* 防止滥用继承，而应该考虑多用复合"
   ]
  },
  {
   "cell_type": "code",
   "execution_count": 330,
   "metadata": {
    "slideshow": {
     "slide_type": "slide"
    }
   },
   "outputs": [],
   "source": [
    "class Engine:\n",
    "    def run(self):\n",
    "        print(\"running\")\n",
    "\n",
    "class Car1(Engine):\n",
    "    pass\n",
    "\n",
    "class Car2:\n",
    "    def __init__(self):\n",
    "        self.__engine = Engine()\n",
    "\n",
    "    def run(self):\n",
    "        self.__engine.run()"
   ]
  },
  {
   "cell_type": "code",
   "execution_count": 331,
   "metadata": {},
   "outputs": [
    {
     "name": "stdout",
     "output_type": "stream",
     "text": [
      "running\n",
      "running\n"
     ]
    }
   ],
   "source": [
    "car1 = Car1()\n",
    "car2 = Car2()\n",
    "\n",
    "car1.run()\n",
    "car2.run()\n"
   ]
  },
  {
   "cell_type": "markdown",
   "metadata": {
    "slideshow": {
     "slide_type": "slide"
    }
   },
   "source": [
    "## 类的多态\n",
    "\n",
    "* 多态：对象在运行时动态确定其状态\n",
    "* 必需使用继承，子类重写父类的方法\n",
    "* 继承是代码重用，而多态体现了接口重用\n",
    "* 本质上，多态意味着可以对不同的对象使用同样的操作，但它们可能会以多种形态呈现出结果"
   ]
  },
  {
   "cell_type": "code",
   "execution_count": 332,
   "metadata": {
    "slideshow": {
     "slide_type": "slide"
    }
   },
   "outputs": [],
   "source": [
    "%pycat canidae.py"
   ]
  },
  {
   "cell_type": "code",
   "execution_count": 334,
   "metadata": {
    "slideshow": {
     "slide_type": "slide"
    }
   },
   "outputs": [
    {
     "name": "stdout",
     "output_type": "stream",
     "text": [
      "dog run run run\n",
      "Fox running\n"
     ]
    }
   ],
   "source": [
    "%run canidae.py"
   ]
  },
  {
   "cell_type": "markdown",
   "metadata": {
    "collapsed": true,
    "slideshow": {
     "slide_type": "slide"
    }
   },
   "source": [
    "## 设计模式\n",
    "\n",
    "* 面向对象设计基本原则的总结\n",
    "    - S = 单一责任原则\n",
    "    - O = 开闭原则\n",
    "    - L = Liscov替换原则\n",
    "    - I = 接口隔离原则\n",
    "    - D = 依赖倒置原则\n",
    "* 设计模式(23)：\n",
    "    - 单件\n",
    "    - 工厂方法\n",
    "    - ..."
   ]
  }
 ],
 "metadata": {
  "celltoolbar": "Slideshow",
  "kernelspec": {
   "display_name": "Python 3",
   "language": "python",
   "name": "python3"
  },
  "language_info": {
   "codemirror_mode": {
    "name": "ipython",
    "version": 3
   },
   "file_extension": ".py",
   "mimetype": "text/x-python",
   "name": "python",
   "nbconvert_exporter": "python",
   "pygments_lexer": "ipython3",
   "version": "3.6.4"
  },
  "toc": {
   "base_numbering": 1,
   "nav_menu": {},
   "number_sections": true,
   "sideBar": true,
   "skip_h1_title": false,
   "title_cell": "Table of Contents",
   "title_sidebar": "Contents",
   "toc_cell": false,
   "toc_position": {
    "height": "calc(100% - 180px)",
    "left": "10px",
    "top": "150px",
    "width": "183px"
   },
   "toc_section_display": true,
   "toc_window_display": false
  }
 },
 "nbformat": 4,
 "nbformat_minor": 1
}
