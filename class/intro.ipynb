{
 "cells": [
  {
   "cell_type": "markdown",
   "metadata": {
    "slideshow": {
     "slide_type": "slide"
    }
   },
   "source": [
    "# 类的简介"
   ]
  },
  {
   "cell_type": "markdown",
   "metadata": {
    "slideshow": {
     "slide_type": "slide"
    }
   },
   "source": [
    "## 菜谱和厨师\n",
    "\n",
    "> 嘿 蛋炒饭 最简单也最困难  \n",
    "> 饭要粒粒分开 还要沾着蛋"
   ]
  },
  {
   "cell_type": "markdown",
   "metadata": {
    "slideshow": {
     "slide_type": "slide"
    }
   },
   "source": [
    "站在程序员的角度，如何快捷简单地做出一盘蛋炒饭呢？第一种办法就是创建一个做蛋炒饭的菜谱函数：\n",
    "```python\n",
    "def 蛋炒饭菜谱(鸡蛋, 米饭):\n",
    "    点火；\n",
    "    炒鸡蛋；\n",
    "    加米饭；\n",
    "    ...\n",
    "    出锅；\n",
    "    return 蛋炒饭    \n",
    "```"
   ]
  },
  {
   "cell_type": "markdown",
   "metadata": {
    "slideshow": {
     "slide_type": "slide"
    }
   },
   "source": [
    "一旦函数创建完毕，啥时候想吃蛋炒饭，只要调用蛋炒饭菜谱就行：\n",
    "```\n",
    "菜 = 蛋炒饭菜谱(草鸡蛋，东北米饭)\n",
    "```"
   ]
  },
  {
   "cell_type": "markdown",
   "metadata": {
    "slideshow": {
     "slide_type": "slide"
    }
   },
   "source": [
    "第二种方法是，创建一个厨师类：\n",
    "```python\n",
    "class 厨师():\n",
    "    def 炒蛋炒饭(鸡蛋，米饭)：\n",
    "        点火；\n",
    "        ...\n",
    "        return 蛋炒饭\n",
    "```"
   ]
  },
  {
   "cell_type": "markdown",
   "metadata": {
    "slideshow": {
     "slide_type": "slide"
    }
   },
   "source": [
    "一旦类创建完毕后，啥时候想吃蛋炒饭，只要创建一个厨师对象，然后调用方法即可：\n",
    "```\n",
    "老王 = 厨师()\n",
    "老王.炒蛋炒饭(草鸡蛋，东北米饭)\n",
    "```"
   ]
  },
  {
   "cell_type": "markdown",
   "metadata": {
    "slideshow": {
     "slide_type": "slide"
    }
   },
   "source": [
    "在Python中，函数方法可以理解为菜谱，面向对象方法可以理解为厨师。那么在解决具体问题时候，使用哪个方法更好呢？"
   ]
  },
  {
   "cell_type": "markdown",
   "metadata": {
    "slideshow": {
     "slide_type": "slide"
    }
   },
   "source": [
    "有人讲，从刚才的示例看，似乎用函数方法更佳。使用面向对象的方法时，代码多了不少。不过，在炒蛋炒饭时候，实际上我们还需要刀、锅、火等工具，如果把这些都作为参数传进去，显然就麻烦的多。而对于面向对象方法来说，这些工具可以作为一个厨师的属性封装起来，调用方法只需传入鸡蛋和米饭即可。"
   ]
  },
  {
   "cell_type": "markdown",
   "metadata": {
    "slideshow": {
     "slide_type": "slide"
    }
   },
   "source": [
    "**老祖宗的函数智慧**\n",
    "\n",
    "![老祖宗的函数智慧](assets/cakerecipe.jpg)"
   ]
  },
  {
   "cell_type": "markdown",
   "metadata": {
    "slideshow": {
     "slide_type": "slide"
    }
   },
   "source": [
    "**现代的面向对象智慧**\n",
    "\n",
    "![现代的面向对象智慧](assets/cookermachine.jpg)"
   ]
  },
  {
   "cell_type": "markdown",
   "metadata": {
    "slideshow": {
     "slide_type": "slide"
    }
   },
   "source": [
    "## 面向对象\n",
    "\n",
    "面向对象是计算机软件开发发展到一定程度的产物。"
   ]
  },
  {
   "cell_type": "markdown",
   "metadata": {
    "slideshow": {
     "slide_type": "slide"
    }
   },
   "source": [
    "![面向对象的发展](assets/class01.png)"
   ]
  },
  {
   "cell_type": "markdown",
   "metadata": {
    "slideshow": {
     "slide_type": "slide"
    }
   },
   "source": [
    "面向过程编程也称为结构化编程，其思想主要是将一个大的问题划分为几个小的问题，再将几个小的问题划分为更小的问题。小的问题可以用一个函数来实现，程序就是一系列函数的集合。因此，有人提出了一个著名的编程公式：\n",
    "```\n",
    "程序 = 数据结构 + 算法\n",
    "```"
   ]
  },
  {
   "cell_type": "markdown",
   "metadata": {
    "slideshow": {
     "slide_type": "slide"
    }
   },
   "source": [
    "面向对象编程（Object-Oriented Programming，OOP），是应用程序开发的一种新方法、新思想。在面向对象中，算法与数据结构当做一个整体，也就是一个对象。现实世界中很多事物，都可以抽象为具有一定的属性和操作的对象，这也更符合人的思维习惯。所以面向对象的编程公式就是：\n",
    "```\n",
    "对象 = 算法 + 数据结构\n",
    "程序 = 对象 + 对象 + ...\n",
    "```"
   ]
  },
  {
   "cell_type": "markdown",
   "metadata": {
    "slideshow": {
     "slide_type": "slide"
    }
   },
   "source": [
    "面向过程与面向对象二者并不是非此即彼的关系，而是相辅相成的关系。实际上，类中的方法可以理解为就是函数。要根据具体问题来决定使用函数还是类。"
   ]
  },
  {
   "cell_type": "markdown",
   "metadata": {
    "slideshow": {
     "slide_type": "-"
    }
   },
   "source": [
    "当程序规模不大时，面向过程的方法还会体现出一些优势。然而，要开发大型应用程序，还是需要考虑面向对象的方法。"
   ]
  },
  {
   "cell_type": "markdown",
   "metadata": {
    "slideshow": {
     "slide_type": "slide"
    }
   },
   "source": [
    "**什么是面向对象**\n",
    "\n",
    "> 一切事物皆对象，通过面向对象的方式，将现实世界的事物抽象成对象，现实世界中的关系抽象成类、继承，帮助人们实现对现实世界的抽象与数字建模。——百度百科"
   ]
  },
  {
   "cell_type": "markdown",
   "metadata": {
    "slideshow": {
     "slide_type": "slide"
    }
   },
   "source": [
    "** 为什么面向对象 **\n",
    "\n",
    "> 通过面向对象的方法，更利于用人理解的方式对复杂系统进行分析、设计与编程。同时，面向对象能有效提高编程的效率，通过封装技术，消息机制可以像搭积木的一样快速开发出一个全新的系统。"
   ]
  },
  {
   "cell_type": "markdown",
   "metadata": {
    "slideshow": {
     "slide_type": "slide"
    }
   },
   "source": [
    "**对象**\n",
    "\n",
    "* 对象具有状态（即属性），一个对象用数据值来描述它的状态。\n",
    "* 对象还有操作（即方法），用于改变对象的状态，对象及其操作就是对象的行为。\n",
    "* 对象实现了数据和操作的结合，使数据和操作封装于对象的统一体中"
   ]
  },
  {
   "cell_type": "markdown",
   "metadata": {
    "slideshow": {
     "slide_type": "slide"
    }
   },
   "source": [
    "** 对象和类 **\n",
    "\n",
    "对象的抽象是类，类的实例是对象。\n",
    "\n",
    "* 使用类可以轻易地实例化千万个对象；\n",
    "* 同一类型的对象具有相同特性（数据元素）和行为（功能）；"
   ]
  },
  {
   "cell_type": "markdown",
   "metadata": {
    "slideshow": {
     "slide_type": "slide"
    }
   },
   "source": [
    "** 对象交互 **\n",
    "\n",
    "* 对象之间通过消息传递方式进行通信\n",
    "* 类定义了消息传递的协议\n",
    "* 消息包括接收对象的对象名和方法名\n",
    "* 其实很简单：object_name.method_name(arguments)"
   ]
  },
  {
   "cell_type": "markdown",
   "metadata": {
    "slideshow": {
     "slide_type": "slide"
    }
   },
   "source": [
    "**万物皆对象**\n",
    "\n",
    "Python已经内置很多常用类：\n",
    "- 数据型\n",
    "    - 整数(int)、布尔数(bool)、浮点数(float)、复数(complex)\n",
    "- 组合型\n",
    "    - 字符串(str)、列表(list)、元组(tuple)、字典(dict)、集合(set)\n",
    "- 函数(function)"
   ]
  }
 ],
 "metadata": {
  "celltoolbar": "Slideshow",
  "kernelspec": {
   "display_name": "Python 3",
   "language": "python",
   "name": "python3"
  },
  "language_info": {
   "codemirror_mode": {
    "name": "ipython",
    "version": 3
   },
   "file_extension": ".py",
   "mimetype": "text/x-python",
   "name": "python",
   "nbconvert_exporter": "python",
   "pygments_lexer": "ipython3",
   "version": "3.6.4"
  },
  "toc": {
   "base_numbering": 1,
   "nav_menu": {},
   "number_sections": true,
   "sideBar": true,
   "skip_h1_title": false,
   "title_cell": "Table of Contents",
   "title_sidebar": "Contents",
   "toc_cell": false,
   "toc_position": {},
   "toc_section_display": true,
   "toc_window_display": false
  }
 },
 "nbformat": 4,
 "nbformat_minor": 1
}
