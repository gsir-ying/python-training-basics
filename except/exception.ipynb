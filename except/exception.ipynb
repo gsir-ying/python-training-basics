{
 "cells": [
  {
   "cell_type": "markdown",
   "metadata": {
    "slideshow": {
     "slide_type": "slide"
    }
   },
   "source": [
    "# 错误和异常处理\n",
    "\n",
    "不论是编程初学者，还是经验老到的专家，在Python编程时都会遇到出错信息。出了错就得除错，除错要比写程序难得多。有人统计，一个程序员花在代码除错的时间要远远大于编写代码。实际上，程序员熬夜的主要原因就是要代码除错。"
   ]
  },
  {
   "cell_type": "markdown",
   "metadata": {
    "slideshow": {
     "slide_type": "slide"
    }
   },
   "source": [
    "那么如何才能提高开发效率？首先，在写程序的时候尽量少写容易出错的代码；其次，在代码出错的时候能够认识出错信息，并尽快找到出错原因。当然还有其他一些办法，如在编写代码时使用静态分析工具、编写后进行单元测试，出错时使用调试工具等。归根结底，错误和异常处理的水平需要时间和经验的积累。"
   ]
  },
  {
   "cell_type": "markdown",
   "metadata": {
    "slideshow": {
     "slide_type": "slide"
    }
   },
   "source": [
    "> 像硬币一样，任何事物都具有两重性或两面性。  \n",
    "> 编程亦如此，除了掌握正确的使用方法，了解错误情况也是学习编程的重要一面。"
   ]
  },
  {
   "cell_type": "markdown",
   "metadata": {
    "slideshow": {
     "slide_type": "slide"
    }
   },
   "source": [
    "在很多书籍中，错误和异常处理通常与其它内容合为一章，或者躲在某个角落里。这里把错误和异常单独列为一章，是充分认识错误和异常处理的重要性。并且希望这一章能够随着大家的发展进步而不断扩展。\n",
    "\n",
    "不经历风雨怎能见彩虹，没有无数次的除错哪能领悟编程的真谛！"
   ]
  },
  {
   "cell_type": "markdown",
   "metadata": {
    "slideshow": {
     "slide_type": "slide"
    }
   },
   "source": [
    "本章主要介绍异常处理的主要内容：\n",
    "- 错误和异常\n",
    "- 抛出异常\n",
    "- 捕获异常"
   ]
  },
  {
   "cell_type": "markdown",
   "metadata": {
    "slideshow": {
     "slide_type": "slide"
    }
   },
   "source": [
    "## 错误和异常\n",
    "\n",
    "有两种错误，一种是编写代码时的错误，称之为语法错误，另外一种语法正确，在运行期检测到的错误，称之为异常。"
   ]
  },
  {
   "cell_type": "markdown",
   "metadata": {
    "slideshow": {
     "slide_type": "slide"
    }
   },
   "source": [
    "### 语法错误\n",
    "\n",
    "Python的语法错误是初学者经常碰到的。如下实例"
   ]
  },
  {
   "cell_type": "code",
   "execution_count": 2,
   "metadata": {
    "slideshow": {
     "slide_type": "-"
    }
   },
   "outputs": [
    {
     "ename": "SyntaxError",
     "evalue": "invalid syntax (<ipython-input-2-8a281da2a97a>, line 1)",
     "output_type": "error",
     "traceback": [
      "\u001b[0;36m  File \u001b[0;32m\"<ipython-input-2-8a281da2a97a>\"\u001b[0;36m, line \u001b[0;32m1\u001b[0m\n\u001b[0;31m    global = 10\u001b[0m\n\u001b[0m           ^\u001b[0m\n\u001b[0;31mSyntaxError\u001b[0m\u001b[0;31m:\u001b[0m invalid syntax\n"
     ]
    }
   ],
   "source": [
    "global = 10"
   ]
  },
  {
   "cell_type": "markdown",
   "metadata": {
    "slideshow": {
     "slide_type": "slide"
    }
   },
   "source": [
    "在该示例中，用户在变量命名时使用了Python关键词。语法分析器检测到该错误，会指出出错那行，并且在找到错误的位置标记一个小箭头。"
   ]
  },
  {
   "cell_type": "markdown",
   "metadata": {
    "slideshow": {
     "slide_type": "slide"
    }
   },
   "source": [
    "### 异常\n",
    "\n",
    "大部分情况下，Python程序的语法是正确的，在运行的时候遇到错误，就会引发异常。Python用异常对象（except object）来表示异常情况。如果异常对象未被处理或捕捉，Python解释器就会用回溯（Traceback）来终止运行。"
   ]
  },
  {
   "cell_type": "code",
   "execution_count": 3,
   "metadata": {
    "slideshow": {
     "slide_type": "slide"
    }
   },
   "outputs": [
    {
     "ename": "TypeError",
     "evalue": "must be str, not int",
     "output_type": "error",
     "traceback": [
      "\u001b[0;31m---------------------------------------------------------------------------\u001b[0m",
      "\u001b[0;31mTypeError\u001b[0m                                 Traceback (most recent call last)",
      "\u001b[0;32m<ipython-input-3-e9f6881424a6>\u001b[0m in \u001b[0;36m<module>\u001b[0;34m()\u001b[0m\n\u001b[1;32m      1\u001b[0m \u001b[0;32mfor\u001b[0m \u001b[0mitem\u001b[0m \u001b[0;32min\u001b[0m \u001b[0;34m[\u001b[0m\u001b[0;34m'red'\u001b[0m\u001b[0;34m,\u001b[0m \u001b[0;34m'green'\u001b[0m\u001b[0;34m,\u001b[0m \u001b[0;34m'yellow'\u001b[0m\u001b[0;34m]\u001b[0m\u001b[0;34m:\u001b[0m\u001b[0;34m\u001b[0m\u001b[0m\n\u001b[0;32m----> 2\u001b[0;31m     \u001b[0mprint\u001b[0m\u001b[0;34m(\u001b[0m\u001b[0mitem\u001b[0m \u001b[0;34m+\u001b[0m \u001b[0;36m1\u001b[0m\u001b[0;34m)\u001b[0m\u001b[0;34m\u001b[0m\u001b[0m\n\u001b[0m",
      "\u001b[0;31mTypeError\u001b[0m: must be str, not int"
     ]
    }
   ],
   "source": [
    "for item in ['red', 'green', 'yellow']:\n",
    "    print(item + 1)"
   ]
  },
  {
   "cell_type": "markdown",
   "metadata": {
    "slideshow": {
     "slide_type": "-"
    }
   },
   "source": [
    "在上面示例中，变量`item`是字符串类型，它不能与整数相加。遇到这个错误会引发`TypeError`异常。由于这里没有捕获或处理该异常，就以错误信息展现。错误信息的前面部分显示了异常发生的上下文，并以回溯的形式显示具体信息。其中用长箭头指出可能出错的行，以及错误信息`TypeError: must be str, not int`。"
   ]
  },
  {
   "cell_type": "markdown",
   "metadata": {
    "slideshow": {
     "slide_type": "slide"
    }
   },
   "source": [
    "### 内置异常类\n",
    "\n",
    "每个异常都是一个异常类的实例，也就是异常类的对象。在Python中已经内置一些异常类，大约有48个。"
   ]
  },
  {
   "cell_type": "code",
   "execution_count": 4,
   "metadata": {
    "slideshow": {
     "slide_type": "slide"
    }
   },
   "outputs": [
    {
     "name": "stdout",
     "output_type": "stream",
     "text": [
      "['ArithmeticError', 'AssertionError', 'AttributeError', 'BlockingIOError', 'BrokenPipeError', 'BufferError', 'ChildProcessError', 'ConnectionAbortedError', 'ConnectionError', 'ConnectionRefusedError', 'ConnectionResetError', 'EOFError', 'EnvironmentError', 'FileExistsError', 'FileNotFoundError', 'FloatingPointError', 'IOError', 'ImportError', 'IndentationError', 'IndexError', 'InterruptedError', 'IsADirectoryError', 'KeyError', 'LookupError', 'MemoryError', 'ModuleNotFoundError', 'NameError', 'NotADirectoryError', 'NotImplementedError', 'OSError', 'OverflowError', 'PermissionError', 'ProcessLookupError', 'RecursionError', 'ReferenceError', 'RuntimeError', 'SyntaxError', 'SystemError', 'TabError', 'TimeoutError', 'TypeError', 'UnboundLocalError', 'UnicodeDecodeError', 'UnicodeEncodeError', 'UnicodeError', 'UnicodeTranslateError', 'ValueError', 'ZeroDivisionError']\n",
      "48\n"
     ]
    }
   ],
   "source": [
    "exceptions = [item for item in dir(__builtin__) if item.endswith('Error')]\n",
    "print(exceptions)\n",
    "print(len(exceptions))"
   ]
  },
  {
   "cell_type": "markdown",
   "metadata": {
    "slideshow": {
     "slide_type": "slide"
    }
   },
   "source": [
    "下面列出一些常见的内置异常类以及对应的出错原因：\n",
    "\n",
    "| 异常类   | 出错原因  |\n",
    "|:----------:|-------------------:|\n",
    "|`AssertionError` |\t断言语句（assert）失败 |\n",
    "|`AttributeError` |\t尝试访问未知的对象属性 |\n",
    "|`EOFError` |\t用户输入文件末尾标志EOF |\n",
    "|`FloatingPointError` |\t浮点计算错误 |\n",
    "|`GeneratorExit` |\t`generator.close()`方法被调用的时候 |\n",
    "|`ImportError` |\t导入模块失败的时候 |\n",
    "|`IndexError` |\t索引超出序列的范围 |\n",
    "|`KeyError` |\t字典中查找一个不存在的关键字 |\n",
    "|`KeyboardInterrupt` |\t用户输入中断键 (Ctrl+c or delete). |\n",
    "|`MemoryError` |\t内存溢出 |\n",
    "|`NameError` |\t尝试访问一个未定义变量 |\n",
    "|`NotImplementedError` |\t尚未实现的方法 |\n",
    "|`OSError` |\t操作系统产生的异常 |\n",
    "|`OverflowError` |\t数值运算最大限制溢出 |\n",
    "|`ReferenceError` |\t弱引用（weak reference）试图访问一个已经被垃圾回收机制回收了的对象 |\n",
    "|`RuntimeError` |\t一般的运行时错误 |\n",
    "|`StopIteration` |\t迭代器没有更多的值 |\n",
    "|`SyntaxError` |\tPython的语法错误 |\n",
    "|`IndentationError` |\t缩进错误 |\n",
    "|`TabError` |\tTab和空格混合使用 |\n",
    "|`SystemError` |\tPython编译器系统错误 |\n",
    "|`SystemExit` |\tPython编译器进程被关闭 |\n",
    "|`TypeError` |\t不同类型间的无效操作 |\n",
    "|`UnboundLocalError` |\t访问一个未初始化的本地变量 |\n",
    "|`UnicodeError` |\tUnicode相关的错误 |\n",
    "|`UnicodeEncodeError` |\tUnicode编码时的错误 |\n",
    "|`UnicodeDecodeError` |\tUnicode解码时的错误 |\n",
    "|`UnicodeTranslateError` |\tUnicode转换时的错误 |\n",
    "|`ValueError` |\t传入参数类型不正确 |\n",
    "|`ZeroDivisionError` |\t除数为零 |"
   ]
  },
  {
   "cell_type": "markdown",
   "metadata": {
    "slideshow": {
     "slide_type": "slide"
    }
   },
   "source": [
    "## 抛出异常"
   ]
  },
  {
   "cell_type": "markdown",
   "metadata": {
    "slideshow": {
     "slide_type": "slide"
    }
   },
   "source": [
    "### 异常类和对象\n",
    "\n",
    "这些内置异常类可以创建一个实例，也就是一个异常。"
   ]
  },
  {
   "cell_type": "code",
   "execution_count": 5,
   "metadata": {
    "slideshow": {
     "slide_type": "-"
    }
   },
   "outputs": [],
   "source": [
    "err = ZeroDivisionError('零除错误')\n",
    "err2 = ZeroDivisionError('浮点数零除错误')"
   ]
  },
  {
   "cell_type": "markdown",
   "metadata": {
    "slideshow": {
     "slide_type": "slide"
    }
   },
   "source": [
    "可以使用自省方法进行了解"
   ]
  },
  {
   "cell_type": "code",
   "execution_count": 6,
   "metadata": {
    "slideshow": {
     "slide_type": "-"
    }
   },
   "outputs": [
    {
     "name": "stdout",
     "output_type": "stream",
     "text": [
      "<class 'ZeroDivisionError'> <class 'ZeroDivisionError'>\n",
      "False\n"
     ]
    }
   ],
   "source": [
    "print(type(err), type(err2))\n",
    "print(err is err2)"
   ]
  },
  {
   "cell_type": "markdown",
   "metadata": {
    "slideshow": {
     "slide_type": "slide"
    }
   },
   "source": [
    "### `raise`语句\n",
    "\n",
    "异常是一个异常类的实例。使用`raise`语句可以引发一个异常，也就是抛出指定异常。`raise`语句的语法是\n",
    "```\n",
    "raise exception\n",
    "```\n",
    "\n",
    "`raise`后面只有一个参数，该参数要么是一个异常对象，要么是异常类。"
   ]
  },
  {
   "cell_type": "code",
   "execution_count": 10,
   "metadata": {
    "slideshow": {
     "slide_type": "slide"
    }
   },
   "outputs": [
    {
     "ename": "ZeroDivisionError",
     "evalue": "",
     "output_type": "error",
     "traceback": [
      "\u001b[0;31m---------------------------------------------------------------------------\u001b[0m",
      "\u001b[0;31mZeroDivisionError\u001b[0m                         Traceback (most recent call last)",
      "\u001b[0;32m<ipython-input-10-1f5e0fc47f1a>\u001b[0m in \u001b[0;36m<module>\u001b[0;34m()\u001b[0m\n\u001b[1;32m      5\u001b[0m     \u001b[0;32mraise\u001b[0m \u001b[0merr2\u001b[0m\u001b[0;34m\u001b[0m\u001b[0m\n\u001b[1;32m      6\u001b[0m \u001b[0;32melse\u001b[0m\u001b[0;34m:\u001b[0m\u001b[0;34m\u001b[0m\u001b[0m\n\u001b[0;32m----> 7\u001b[0;31m     \u001b[0;32mraise\u001b[0m \u001b[0mZeroDivisionError\u001b[0m\u001b[0;34m\u001b[0m\u001b[0m\n\u001b[0m",
      "\u001b[0;31mZeroDivisionError\u001b[0m: "
     ]
    }
   ],
   "source": [
    "var = ''\n",
    "if isinstance(var, int):\n",
    "    raise err\n",
    "elif isinstance(var, float):\n",
    "    raise err2  \n",
    "else:\n",
    "    raise ZeroDivisionError"
   ]
  },
  {
   "cell_type": "markdown",
   "metadata": {
    "slideshow": {
     "slide_type": "slide"
    }
   },
   "source": [
    "## 捕获异常\n",
    "\n",
    "出了错怎么办？兵来将挡水来土掩，可以使用`try...except`语句块捕获异常，并进行相应处理。语法具体为：\n",
    "```\n",
    "try:\n",
    "    try suite\n",
    "except exception1 as var1:\n",
    "    except suite1\n",
    "except exception2 as var2:\n",
    "    except suite2\n",
    "finally:\n",
    "    finally suite\n",
    "```"
   ]
  },
  {
   "cell_type": "markdown",
   "metadata": {
    "slideshow": {
     "slide_type": "slide"
    }
   },
   "source": [
    "`try...except`语句块至少要包含一个`except`从句，`else`与`finally`从句都是可选的。"
   ]
  },
  {
   "cell_type": "markdown",
   "metadata": {
    "slideshow": {
     "slide_type": "slide"
    }
   },
   "source": [
    "Python是自上而下顺序执行代码，与流程控制的那些语句一样，`try...except`语句也会改变运行流程。具体步骤是：\n",
    "1. 执行`try`语句下的代码块；\n",
    "2. 如果没有引发异常，代码块执行完后，会跳过`except`子句；\n",
    "3. 如果引发异常，那么会跳过余下语句。开始对`except`语句指定的类型与所引发异常对象的类型进行比对。\n",
    "    - 如果符合则执行该`except`语句下的语句块；\n",
    "    - 如果引发异常与任何的`except`均不匹配，那么会把这个异常传递给上层。"
   ]
  },
  {
   "cell_type": "markdown",
   "metadata": {
    "slideshow": {
     "slide_type": "slide"
    }
   },
   "source": [
    "### 开始捕获异常\n",
    "\n",
    "在每一个`except`语句指定一个具体异常类。"
   ]
  },
  {
   "cell_type": "code",
   "execution_count": 11,
   "metadata": {
    "slideshow": {
     "slide_type": "slide"
    }
   },
   "outputs": [
    {
     "name": "stdout",
     "output_type": "stream",
     "text": [
      "item 0: a\n",
      "catch a ValueError exception\n",
      "This is always printed.\n",
      "item 1: 0\n",
      "catch a ZeroDivisionError exception\n",
      "This is always printed.\n",
      "item 2: 3.1314\n",
      "the reciprocal: 0.3333333333333333\n",
      "This is always printed.\n"
     ]
    }
   ],
   "source": [
    "alist = ['a', 0, 3.1314]\n",
    "for i, item in enumerate(alist):\n",
    "    try:\n",
    "        print('item {0}: {1}'.format(i, item))\n",
    "        result = 1 / int(item)\n",
    "        print('the reciprocal: {0}'.format(result))\n",
    "    except ZeroDivisionError:\n",
    "        print('catch a ZeroDivisionError exception')\n",
    "    except ValueError:\n",
    "        print('catch a ValueError exception')\n",
    "\n",
    "    print('This is always printed.')"
   ]
  },
  {
   "cell_type": "markdown",
   "metadata": {
    "slideshow": {
     "slide_type": "slide"
    }
   },
   "source": [
    "可以在一个`except`语句中指定多个异常类型，只需要把异常类型用元组括起来。"
   ]
  },
  {
   "cell_type": "code",
   "execution_count": 12,
   "metadata": {
    "slideshow": {
     "slide_type": "slide"
    }
   },
   "outputs": [
    {
     "name": "stdout",
     "output_type": "stream",
     "text": [
      "item 0: a\n",
      "catch a ZeroDivisionError or ValueError exception\n",
      "item 1: 0\n",
      "catch a ZeroDivisionError or ValueError exception\n",
      "item 2: 3.1314\n",
      "the reciprocal: 0.3333333333333333\n",
      "This is always printed.\n"
     ]
    }
   ],
   "source": [
    "alist = ['a', 0, 3.1314]\n",
    "for i, item in enumerate(alist):\n",
    "    try:\n",
    "        print('item {0}: {1}'.format(i, item))\n",
    "        result = 1 / int(item)\n",
    "        print('the reciprocal: {0}'.format(result))\n",
    "    except (ValueError, ZeroDivisionError):\n",
    "        print('catch a ZeroDivisionError or ValueError exception')\n",
    "print('This is always printed.')"
   ]
  },
  {
   "cell_type": "markdown",
   "metadata": {
    "slideshow": {
     "slide_type": "slide"
    }
   },
   "source": [
    "有时候，我们并不一定知道程序会抛出啥异常，可以在`except`指定内置异常类的父类`Exception`，这样就可以捕获所有内置异常类，也就是`Exception`的子类"
   ]
  },
  {
   "cell_type": "code",
   "execution_count": 74,
   "metadata": {
    "slideshow": {
     "slide_type": "-"
    }
   },
   "outputs": [
    {
     "name": "stdout",
     "output_type": "stream",
     "text": [
      "item 0: a\n",
      "catch a exception\n",
      "This is always printed.\n",
      "item 1: 0\n",
      "catch a exception\n",
      "This is always printed.\n",
      "item 2: 3.1314\n",
      "the reciprocal: 0.3333333333333333\n",
      "This is always printed.\n"
     ]
    }
   ],
   "source": [
    "alist = ['a', 0, 3.1314]\n",
    "for i, item in enumerate(alist):\n",
    "    try:\n",
    "        print('item {0}: {1}'.format(i, item))\n",
    "        result = 1 / int(item)\n",
    "        print('the reciprocal: {0}'.format(result))\n",
    "    except Exception:\n",
    "        print('catch a exception')\n",
    "    \n",
    "    print('This is always printed.')"
   ]
  },
  {
   "cell_type": "markdown",
   "metadata": {
    "slideshow": {
     "slide_type": "slide"
    }
   },
   "source": [
    "> 注意，使用`except Exception`的方法并非是好做法。尽管能够捕获所有异常，但是很容易掩盖了代码中的逻辑错误。"
   ]
  },
  {
   "cell_type": "markdown",
   "metadata": {
    "slideshow": {
     "slide_type": "slide"
    }
   },
   "source": [
    "在except语句甚至可以啥也不指定，在此情况下，会捕获所有异常。包括哪些继承自`BaseException`的异常。问题会更严重。"
   ]
  },
  {
   "cell_type": "code",
   "execution_count": 75,
   "metadata": {
    "slideshow": {
     "slide_type": "slide"
    }
   },
   "outputs": [
    {
     "name": "stdout",
     "output_type": "stream",
     "text": [
      "item 0: a\n",
      "catch a exception\n",
      "This is always printed.\n",
      "item 1: 0\n",
      "catch a exception\n",
      "This is always printed.\n",
      "item 2: 3.1314\n",
      "the reciprocal: 0.3333333333333333\n",
      "This is always printed.\n"
     ]
    }
   ],
   "source": [
    "alist = ['a', 0, 3.1314]\n",
    "for i, item in enumerate(alist):\n",
    "    try:\n",
    "        print('item {0}: {1}'.format(i, item))\n",
    "        result = 1 / int(item)\n",
    "        print('the reciprocal: {0}'.format(result))\n",
    "    except:\n",
    "        print('catch a exception')\n",
    "    print('This is always printed.')"
   ]
  },
  {
   "cell_type": "markdown",
   "metadata": {
    "slideshow": {
     "slide_type": "slide"
    }
   },
   "source": [
    "### 捕获异常对象\n",
    "\n",
    "在捕获到异常对象后，如果想要访问异常本身，可以使用`as`来指定变量来指向异常对象。"
   ]
  },
  {
   "cell_type": "code",
   "execution_count": 13,
   "metadata": {
    "slideshow": {
     "slide_type": "-"
    }
   },
   "outputs": [
    {
     "name": "stdout",
     "output_type": "stream",
     "text": [
      "item 0: a\n",
      "catch a exception <class 'ValueError'>: invalid literal for int() with base 10: 'a'\n",
      "item 1: 0\n",
      "catch a exception <class 'ZeroDivisionError'>: division by zero\n",
      "item 2: 3.1314\n",
      "the reciprocal: 0.3333333333333333\n",
      "This is always printed.\n"
     ]
    }
   ],
   "source": [
    "alist = ['a', 0, 3.1314]\n",
    "for i, item in enumerate(alist):\n",
    "    try:\n",
    "        print('item {0}: {1}'.format(i, item))\n",
    "        result = 1 / int(item)\n",
    "        print('the reciprocal: {0}'.format(result))\n",
    "    except ZeroDivisionError as e:\n",
    "        print('catch a exception {0}: {1}'.format(type(e), e))\n",
    "    except ValueError as e:\n",
    "        print('catch a exception {0}: {1}'.format(type(e), e))\n",
    "print('This is always printed.')"
   ]
  },
  {
   "cell_type": "markdown",
   "metadata": {
    "slideshow": {
     "slide_type": "slide"
    }
   },
   "source": [
    "也可以一个`except`语句指定多个异常类型"
   ]
  },
  {
   "cell_type": "code",
   "execution_count": 14,
   "metadata": {
    "slideshow": {
     "slide_type": "-"
    }
   },
   "outputs": [
    {
     "name": "stdout",
     "output_type": "stream",
     "text": [
      "item 0: a\n",
      "catch a exception <class 'ValueError'>: invalid literal for int() with base 10: 'a'\n",
      "item 1: 0\n",
      "catch a exception <class 'ZeroDivisionError'>: division by zero\n",
      "item 2: 3.1314\n",
      "the reciprocal: 0.3333333333333333\n",
      "This is always printed.\n"
     ]
    }
   ],
   "source": [
    "alist = ['a', 0, 3.1314]\n",
    "for i, item in enumerate(alist):\n",
    "    try:\n",
    "        print('item {0}: {1}'.format(i, item))\n",
    "        result = 1 / int(item)\n",
    "        print('the reciprocal: {0}'.format(result))\n",
    "    except (ValueError, ZeroDivisionError) as e:\n",
    "        print('catch a exception {0}: {1}'.format(type(e), e))\n",
    "print('This is always printed.')"
   ]
  },
  {
   "cell_type": "markdown",
   "metadata": {
    "slideshow": {
     "slide_type": "slide"
    }
   },
   "source": [
    "如果确实不知道程序会抛出什么样的异常，可以指定`Exception`，同时捕获异常对象本身，可以从中获取更多信息。"
   ]
  },
  {
   "cell_type": "code",
   "execution_count": 78,
   "metadata": {
    "slideshow": {
     "slide_type": "slide"
    }
   },
   "outputs": [
    {
     "name": "stdout",
     "output_type": "stream",
     "text": [
      "item 0: a\n",
      "catch a exception <class 'ValueError'>: invalid literal for int() with base 10: 'a'\n",
      "item 1: 0\n",
      "catch a exception <class 'ZeroDivisionError'>: division by zero\n",
      "item 2: 3.1314\n",
      "the reciprocal: 0.3333333333333333\n",
      "This is always printed.\n"
     ]
    }
   ],
   "source": [
    "alist = ['a', 0, 3.1314]\n",
    "for i, item in enumerate(alist):\n",
    "    try:\n",
    "        print('item {0}: {1}'.format(i, item))\n",
    "        result = 1 / int(item)\n",
    "        print('the reciprocal: {0}'.format(result))\n",
    "    except Exception as e:\n",
    "        print('catch a exception {0}: {1}'.format(type(e), e))\n",
    "print('This is always printed.')"
   ]
  },
  {
   "cell_type": "code",
   "execution_count": 79,
   "metadata": {
    "slideshow": {
     "slide_type": "slide"
    }
   },
   "outputs": [
    {
     "name": "stdout",
     "output_type": "stream",
     "text": [
      "item 0: a\n",
      "catch a exception <class 'ValueError'>: invalid literal for int() with base 10: 'a'\n"
     ]
    },
    {
     "ename": "ValueError",
     "evalue": "invalid literal for int() with base 10: 'a'",
     "output_type": "error",
     "traceback": [
      "\u001b[0;31m---------------------------------------------------------------------------\u001b[0m",
      "\u001b[0;31mValueError\u001b[0m                                Traceback (most recent call last)",
      "\u001b[0;32m<ipython-input-79-829c04ae3992>\u001b[0m in \u001b[0;36m<module>\u001b[0;34m()\u001b[0m\n\u001b[1;32m      3\u001b[0m     \u001b[0;32mtry\u001b[0m\u001b[0;34m:\u001b[0m\u001b[0;34m\u001b[0m\u001b[0m\n\u001b[1;32m      4\u001b[0m         \u001b[0mprint\u001b[0m\u001b[0;34m(\u001b[0m\u001b[0;34m'item {0}: {1}'\u001b[0m\u001b[0;34m.\u001b[0m\u001b[0mformat\u001b[0m\u001b[0;34m(\u001b[0m\u001b[0mi\u001b[0m\u001b[0;34m,\u001b[0m \u001b[0mitem\u001b[0m\u001b[0;34m)\u001b[0m\u001b[0;34m)\u001b[0m\u001b[0;34m\u001b[0m\u001b[0m\n\u001b[0;32m----> 5\u001b[0;31m         \u001b[0mresult\u001b[0m \u001b[0;34m=\u001b[0m \u001b[0;36m1\u001b[0m \u001b[0;34m/\u001b[0m \u001b[0mint\u001b[0m\u001b[0;34m(\u001b[0m\u001b[0mitem\u001b[0m\u001b[0;34m)\u001b[0m\u001b[0;34m\u001b[0m\u001b[0m\n\u001b[0m\u001b[1;32m      6\u001b[0m         \u001b[0mprint\u001b[0m\u001b[0;34m(\u001b[0m\u001b[0;34m'the reciprocal: {0}'\u001b[0m\u001b[0;34m.\u001b[0m\u001b[0mformat\u001b[0m\u001b[0;34m(\u001b[0m\u001b[0mresult\u001b[0m\u001b[0;34m)\u001b[0m\u001b[0;34m)\u001b[0m\u001b[0;34m\u001b[0m\u001b[0m\n\u001b[1;32m      7\u001b[0m     \u001b[0;32mexcept\u001b[0m \u001b[0mException\u001b[0m \u001b[0;32mas\u001b[0m \u001b[0me\u001b[0m\u001b[0;34m:\u001b[0m\u001b[0;34m\u001b[0m\u001b[0m\n",
      "\u001b[0;31mValueError\u001b[0m: invalid literal for int() with base 10: 'a'"
     ]
    }
   ],
   "source": [
    "alist = ['a', 0, 3.1314]\n",
    "for i, item in enumerate(alist):\n",
    "    try:\n",
    "        print('item {0}: {1}'.format(i, item))\n",
    "        result = 1 / int(item)\n",
    "        print('the reciprocal: {0}'.format(result))\n",
    "    except Exception as e:\n",
    "        print('catch a exception {0}: {1}'.format(type(e), e))\n",
    "        raise\n",
    "        \n",
    "    print('This is always printed.')"
   ]
  },
  {
   "cell_type": "markdown",
   "metadata": {
    "slideshow": {
     "slide_type": "slide"
    }
   },
   "source": [
    "### `finally`语句\n",
    "\n",
    "不管`try`语句是否发生异常，`finally`从句都会执行。这在打开文件出现异常时比较有用，可以使用该语句把文件关闭。"
   ]
  },
  {
   "cell_type": "code",
   "execution_count": 80,
   "metadata": {
    "slideshow": {
     "slide_type": "slide"
    }
   },
   "outputs": [
    {
     "name": "stdout",
     "output_type": "stream",
     "text": [
      "item 0: a\n",
      "catch a exception <class 'ValueError'>: invalid literal for int() with base 10: 'a'\n",
      "finally statements.\n",
      "item 1: 0\n",
      "catch a exception <class 'ZeroDivisionError'>: division by zero\n",
      "finally statements.\n",
      "item 2: 3.1314\n",
      "the reciprocal: 0.3333333333333333\n",
      "finally statements.\n",
      "This is always printed.\n"
     ]
    }
   ],
   "source": [
    "alist = ['a', 0, 3.1314]\n",
    "for i, item in enumerate(alist):\n",
    "    try:\n",
    "        print('item {0}: {1}'.format(i, item))\n",
    "        result = 1 / int(item)\n",
    "        print('the reciprocal: {0}'.format(result))\n",
    "    except Exception as e:\n",
    "        print('catch a exception {0}: {1}'.format(type(e), e))\n",
    "    finally:\n",
    "        print('finally statements.')        \n",
    "\n",
    "print('This is always printed.')"
   ]
  },
  {
   "cell_type": "markdown",
   "metadata": {
    "slideshow": {
     "slide_type": "skip"
    }
   },
   "source": [
    "### `else`从句\n",
    "\n",
    "如果没有引起异常时，偶尔会想要执行一些语句。可以使用`else`从句实现。\n",
    "\n",
    "`else`从句只在没有异常的情况下才会运行，而且只在`finally`从句前才执行。\n",
    "\n",
    "很少人会用到`else`从句，我也几乎没用到过。不过有这个语法，还是提一下。"
   ]
  },
  {
   "cell_type": "code",
   "execution_count": 81,
   "metadata": {
    "slideshow": {
     "slide_type": "skip"
    }
   },
   "outputs": [
    {
     "name": "stdout",
     "output_type": "stream",
     "text": [
      "item 0: a\n",
      "catch a exception <class 'ValueError'>: invalid literal for int() with base 10: 'a'\n",
      "finally statements.\n",
      "item 1: 0\n",
      "catch a exception <class 'ZeroDivisionError'>: division by zero\n",
      "finally statements.\n",
      "item 2: 3.1314\n",
      "else statements.\n",
      "finally statements.\n",
      "This is always printed.\n"
     ]
    }
   ],
   "source": [
    "alist = ['a', 0, 3.1314]\n",
    "for i, item in enumerate(alist):\n",
    "    try:\n",
    "        print('item {0}: {1}'.format(i, item))\n",
    "        result = 1 / int(item)\n",
    "    except Exception as e:\n",
    "        print('catch a exception {0}: {1}'.format(type(e), e))\n",
    "    else:\n",
    "        print('else statements.')        \n",
    "    finally:\n",
    "        print('finally statements.')        \n",
    "print('This is always printed.')"
   ]
  },
  {
   "cell_type": "markdown",
   "metadata": {
    "slideshow": {
     "slide_type": "slide"
    }
   },
   "source": [
    "## 自定义异常\n",
    "\n",
    "用户可以创建一个新的异常类，获得自定义异常。异常类继承自`Exception`类，可以直接继承，或者间接继承。"
   ]
  },
  {
   "cell_type": "markdown",
   "metadata": {
    "slideshow": {
     "slide_type": "slide"
    }
   },
   "source": [
    "## 小结\n",
    "\n",
    "学会记录自己的错误案例。参见[系统内置异常](../builtins/builtins_exception.ipynb)"
   ]
  }
 ],
 "metadata": {
  "celltoolbar": "Slideshow",
  "kernelspec": {
   "display_name": "Python 3",
   "language": "python",
   "name": "python3"
  },
  "language_info": {
   "codemirror_mode": {
    "name": "ipython",
    "version": 3
   },
   "file_extension": ".py",
   "mimetype": "text/x-python",
   "name": "python",
   "nbconvert_exporter": "python",
   "pygments_lexer": "ipython3",
   "version": "3.6.4"
  },
  "toc": {
   "base_numbering": 1,
   "nav_menu": {},
   "number_sections": true,
   "sideBar": true,
   "skip_h1_title": false,
   "title_cell": "Table of Contents",
   "title_sidebar": "Contents",
   "toc_cell": false,
   "toc_position": {
    "height": "calc(100% - 180px)",
    "left": "10px",
    "top": "150px",
    "width": "384px"
   },
   "toc_section_display": true,
   "toc_window_display": false
  }
 },
 "nbformat": 4,
 "nbformat_minor": 1
}
