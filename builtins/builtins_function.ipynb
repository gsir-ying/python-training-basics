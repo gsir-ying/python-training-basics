{
 "cells": [
  {
   "cell_type": "markdown",
   "metadata": {
    "slideshow": {
     "slide_type": "slide"
    }
   },
   "source": [
    "# 内置函数\n",
    "\n",
    "Python中已经内置一些函数，共有66多个。"
   ]
  },
  {
   "cell_type": "code",
   "execution_count": 87,
   "metadata": {
    "slideshow": {
     "slide_type": "slide"
    }
   },
   "outputs": [
    {
     "name": "stdout",
     "output_type": "stream",
     "text": [
      "67\n"
     ]
    }
   ],
   "source": [
    "import inspect\n",
    "\n",
    "# 内置函数\n",
    "functions = [name for name, element in inspect.getmembers(__builtins__) \n",
    "             if inspect.isbuiltin(element)]\n",
    "functions.remove('__build_class__')\n",
    "functions.remove('__import__')\n",
    "functions.append('input')\n",
    "functions.append('help')\n",
    "\n",
    "# 内置数据类\n",
    "datatypes = [name for name, element in inspect.getmembers(__builtins__) \n",
    "             if inspect.isclass(element) and not issubclass(element, BaseException)]\n",
    "datatypes.remove('__loader__')\n",
    "builtins_function = sorted(functions + datatypes)\n",
    "print(len(builtins_function))"
   ]
  },
  {
   "cell_type": "markdown",
   "metadata": {
    "slideshow": {
     "slide_type": "slide"
    }
   },
   "source": [
    "实际上,其中一些是内置的类，主要是大家一直这么叫，所以也只得这么叫下去。又一个路径选择效应。大家心中有数即可。这些内置类都是继承自`object`。"
   ]
  },
  {
   "cell_type": "code",
   "execution_count": 88,
   "metadata": {},
   "outputs": [
    {
     "name": "stdout",
     "output_type": "stream",
     "text": [
      "['abs', 'all', 'any', 'ascii', 'bin', 'callable', 'chr', 'compile', 'delattr', 'dir', 'divmod', 'eval', 'exec', 'format', 'getattr', 'globals', 'hasattr', 'hash', 'hex', 'id', 'isinstance', 'issubclass', 'iter', 'len', 'locals', 'max', 'min', 'next', 'oct', 'open', 'ord', 'pow', 'print', 'repr', 'round', 'setattr', 'sorted', 'sum', 'vars', 'input', 'help']\n"
     ]
    }
   ],
   "source": [
    "print(functions)"
   ]
  },
  {
   "cell_type": "code",
   "execution_count": 89,
   "metadata": {},
   "outputs": [
    {
     "name": "stdout",
     "output_type": "stream",
     "text": [
      "['bool', 'bytearray', 'bytes', 'classmethod', 'complex', 'dict', 'enumerate', 'filter', 'float', 'frozenset', 'int', 'list', 'map', 'memoryview', 'object', 'property', 'range', 'reversed', 'set', 'slice', 'staticmethod', 'str', 'super', 'tuple', 'type', 'zip']\n"
     ]
    }
   ],
   "source": [
    "print(datatypes)"
   ]
  },
  {
   "cell_type": "code",
   "execution_count": 6,
   "metadata": {
    "slideshow": {
     "slide_type": "slide"
    }
   },
   "outputs": [
    {
     "data": {
      "text/plain": [
       "['ArithmeticError',\n",
       " 'AssertionError',\n",
       " 'AttributeError',\n",
       " 'BaseException',\n",
       " 'BlockingIOError',\n",
       " 'BrokenPipeError',\n",
       " 'BufferError',\n",
       " 'BytesWarning',\n",
       " 'ChildProcessError',\n",
       " 'ConnectionAbortedError',\n",
       " 'ConnectionError',\n",
       " 'ConnectionRefusedError',\n",
       " 'ConnectionResetError',\n",
       " 'DeprecationWarning',\n",
       " 'EOFError',\n",
       " 'Ellipsis',\n",
       " 'EnvironmentError',\n",
       " 'Exception',\n",
       " 'False',\n",
       " 'FileExistsError',\n",
       " 'FileNotFoundError',\n",
       " 'FloatingPointError',\n",
       " 'FutureWarning',\n",
       " 'GeneratorExit',\n",
       " 'IOError',\n",
       " 'ImportError',\n",
       " 'ImportWarning',\n",
       " 'IndentationError',\n",
       " 'IndexError',\n",
       " 'InterruptedError',\n",
       " 'IsADirectoryError',\n",
       " 'KeyError',\n",
       " 'KeyboardInterrupt',\n",
       " 'LookupError',\n",
       " 'MemoryError',\n",
       " 'ModuleNotFoundError',\n",
       " 'NameError',\n",
       " 'None',\n",
       " 'NotADirectoryError',\n",
       " 'NotImplemented',\n",
       " 'NotImplementedError',\n",
       " 'OSError',\n",
       " 'OverflowError',\n",
       " 'PendingDeprecationWarning',\n",
       " 'PermissionError',\n",
       " 'ProcessLookupError',\n",
       " 'RecursionError',\n",
       " 'ReferenceError',\n",
       " 'ResourceWarning',\n",
       " 'RuntimeError',\n",
       " 'RuntimeWarning',\n",
       " 'StopAsyncIteration',\n",
       " 'StopIteration',\n",
       " 'SyntaxError',\n",
       " 'SyntaxWarning',\n",
       " 'SystemError',\n",
       " 'SystemExit',\n",
       " 'TabError',\n",
       " 'TimeoutError',\n",
       " 'True',\n",
       " 'TypeError',\n",
       " 'UnboundLocalError',\n",
       " 'UnicodeDecodeError',\n",
       " 'UnicodeEncodeError',\n",
       " 'UnicodeError',\n",
       " 'UnicodeTranslateError',\n",
       " 'UnicodeWarning',\n",
       " 'UserWarning',\n",
       " 'ValueError',\n",
       " 'Warning',\n",
       " 'ZeroDivisionError',\n",
       " '__IPYTHON__',\n",
       " '__build_class__',\n",
       " '__debug__',\n",
       " '__doc__',\n",
       " '__import__',\n",
       " '__loader__',\n",
       " '__name__',\n",
       " '__package__',\n",
       " '__spec__',\n",
       " 'abs',\n",
       " 'all',\n",
       " 'any',\n",
       " 'ascii',\n",
       " 'bin',\n",
       " 'bool',\n",
       " 'bytearray',\n",
       " 'bytes',\n",
       " 'callable',\n",
       " 'chr',\n",
       " 'classmethod',\n",
       " 'compile',\n",
       " 'complex',\n",
       " 'copyright',\n",
       " 'credits',\n",
       " 'delattr',\n",
       " 'dict',\n",
       " 'dir',\n",
       " 'display',\n",
       " 'divmod',\n",
       " 'enumerate',\n",
       " 'eval',\n",
       " 'exec',\n",
       " 'filter',\n",
       " 'float',\n",
       " 'format',\n",
       " 'frozenset',\n",
       " 'get_ipython',\n",
       " 'getattr',\n",
       " 'globals',\n",
       " 'hasattr',\n",
       " 'hash',\n",
       " 'help',\n",
       " 'hex',\n",
       " 'id',\n",
       " 'input',\n",
       " 'int',\n",
       " 'isinstance',\n",
       " 'issubclass',\n",
       " 'iter',\n",
       " 'len',\n",
       " 'license',\n",
       " 'list',\n",
       " 'locals',\n",
       " 'map',\n",
       " 'max',\n",
       " 'memoryview',\n",
       " 'min',\n",
       " 'next',\n",
       " 'object',\n",
       " 'oct',\n",
       " 'open',\n",
       " 'ord',\n",
       " 'pow',\n",
       " 'print',\n",
       " 'property',\n",
       " 'range',\n",
       " 'repr',\n",
       " 'reversed',\n",
       " 'round',\n",
       " 'set',\n",
       " 'setattr',\n",
       " 'slice',\n",
       " 'sorted',\n",
       " 'staticmethod',\n",
       " 'str',\n",
       " 'sum',\n",
       " 'super',\n",
       " 'tuple',\n",
       " 'type',\n",
       " 'vars',\n",
       " 'zip']"
      ]
     },
     "execution_count": 6,
     "metadata": {},
     "output_type": "execute_result"
    }
   ],
   "source": [
    "dir(__builtins__)"
   ]
  },
  {
   "cell_type": "markdown",
   "metadata": {
    "slideshow": {
     "slide_type": "-"
    }
   },
   "source": [
    "```\n",
    "bytearray\n",
    "bytes\n",
    "classmethod\n",
    "complex\n",
    "dict\n",
    "enumerate\n",
    "filter\n",
    "float\n",
    "frozenset\n",
    "int\n",
    "    bool\n",
    "list\n",
    "map\n",
    "memoryview\n",
    "property\n",
    "range\n",
    "reversed\n",
    "set\n",
    "slice\n",
    "staticmethod\n",
    "str\n",
    "super\n",
    "tuple\n",
    "type\n",
    "zip\n",
    "```        "
   ]
  },
  {
   "cell_type": "markdown",
   "metadata": {
    "slideshow": {
     "slide_type": "slide"
    }
   },
   "source": [
    "## 内置函数列表\n",
    "\n",
    "| 1  | 2 |  3 | 4 | 5  |\n",
    "|:------|:------|:------|:------|:------||\n",
    "| [`abs`](abs.ipynb) | [`all`](all.ipynb) | [`any`](any.ipynb) | [`ascii`](ascii.ipynb) | [`bin`](bin.ipynb) |\n",
    "| [`bool`](bool.ipynb) | [`bytearray`](bytearray.ipynb) | [`bytes`](bytes.ipynb) | [`callable`](callable.ipynb) | [`chr`](chr.ipynb) |\n",
    "| [`classmethod`](classmethod.ipynb) | [`compile`](compile.ipynb) | [`complex`](complex.ipynb) | [`delattr`](delattr.ipynb) | [`dict`](dict.ipynb) |\n",
    "| [`dir`](dir.ipynb) | [`divmod`](divmod.ipynb) | [`enumerate`](enumerate.ipynb) | [`eval`](eval.ipynb) | [`exec`](exec.ipynb) |\n",
    "| [`filter`](filter.ipynb) | [`float`](float.ipynb) | [`format`](format.ipynb) | [`frozenset`](frozenset.ipynb) | [`getattr`](getattr.ipynb) |\n",
    "| [`globals`](globals.ipynb) | [`hasattr`](hasattr.ipynb) | [`hash`](hash.ipynb) | [`help`](help.ipynb) | [`hex`](hex.ipynb) |\n",
    "| [`id`](id.ipynb) | [`input`](input.ipynb) | [`int`](int.ipynb) | [`isinstance`](isinstance.ipynb) | [`issubclass`](issubclass.ipynb) |\n",
    "| [`iter`](iter.ipynb) | [`len`](len.ipynb) | [`list`](list.ipynb) | [`locals`](locals.ipynb) | [`map`](map.ipynb) |\n",
    "| [`max`](max.ipynb) | [`memoryview`](memoryview.ipynb) | [`min`](min.ipynb) | [`next`](next.ipynb) | [`object`](object.ipynb) |\n",
    "| [`oct`](oct.ipynb) | [`open`](open.ipynb) | [`ord`](ord.ipynb) | [`pow`](pow.ipynb) | [`print`](print.ipynb) |\n",
    "| [`property`](property.ipynb) | [`range`](range.ipynb) | [`repr`](repr.ipynb) | [`reversed`](reversed.ipynb) | [`round`](round.ipynb) |\n",
    "| [`set`](set.ipynb) | [`setattr`](setattr.ipynb) | [`slice`](slice.ipynb) | [`sorted`](sorted.ipynb) | [`staticmethod`](staticmethod.ipynb) |\n",
    "| [`str`](str.ipynb) | [`sum`](sum.ipynb) | [`super`](super.ipynb) | [`tuple`](tuple.ipynb) | [`type`](type.ipynb) |\n",
    "| [`vars`](vars.ipynb) | [`zip`](zip.ipynb)|"
   ]
  },
  {
   "cell_type": "markdown",
   "metadata": {
    "slideshow": {
     "slide_type": "slide"
    }
   },
   "source": [
    "## 内置函数分类\n",
    "\n",
    "###  数学运算\n",
    "\n",
    "- [`abs`：计算绝对值](abs.ipynb)\n",
    "- [`copyright`](copyright.ipynb)\n",
    "- [`divmod`：计算取商和余数](divmod.ipynb)\n",
    "- [`pow`：求幂](pow.ipynb)\n",
    "- [`round`：四舍五入](round.ipynb)\n"
   ]
  },
  {
   "cell_type": "markdown",
   "metadata": {},
   "source": [
    "### 进制转换\n",
    "\n",
    "- [`bin`：返回二进制](bin.ipynb)\n",
    "- [`hex`：返回十六进制](hex.ipynb)\n",
    "- [`oct`：返回八进制](oct.ipynb)"
   ]
  },
  {
   "cell_type": "markdown",
   "metadata": {},
   "source": [
    "### 字符转换\n",
    "\n",
    "- [`chr`：返回整数对应的字符](chr.ipynb)\n",
    "- [`ord`：返回字符对应的ASCII编码](ord.ipynb)"
   ]
  },
  {
   "cell_type": "markdown",
   "metadata": {},
   "source": [
    "### 数据类型\n",
    "\n",
    "- [`int`：整数](int.ipynb)\n",
    "- [`bool`：布尔数](bool.ipynb)\n",
    "- [`float`：浮点数](float.ipynb)\n",
    "- [`complex`：复数](complex.ipynb)\n",
    "- [`str`：字符串](str.ipynb)\n",
    "- [`list`：列表](list.ipynb)\n",
    "- [`tuple`：元组](tuple.ipynb)\n",
    "- [`dict`：字典](dict.ipynb)\n",
    "- [`set`：集合](set.ipynb)\n",
    "- [`object`：基类](object.ipynb)\n",
    "- [`bytearray`：byte数组](bytearray.ipynb)\n",
    "- [`bytes`：](bytes.ipynb)\n",
    "- [`frozenset`：固定集合](frozenset.ipynb)"
   ]
  },
  {
   "cell_type": "markdown",
   "metadata": {},
   "source": [
    "### 序列运算\n",
    "\n",
    "- [`len`：计算元素数](len.ipynb)\n",
    "- [`max`：计算最大值](max.ipynb)\n",
    "- [`min`：计算最小值](min.ipynb)\n",
    "- [`sum`：计算求和](sum.ipynb)\n",
    "- [`filter`：过滤序列](filter.ipynb)\n",
    "- [`zip`：并行遍历](zip.ipynb)\n",
    "- [`map`：序列遍历](map.ipynb)\n"
   ]
  },
  {
   "cell_type": "markdown",
   "metadata": {},
   "source": [
    "### 逻辑判断\n",
    "\n",
    "- [`all`](all.ipynb)\n",
    "- [`any`](any.ipynb)"
   ]
  },
  {
   "cell_type": "markdown",
   "metadata": {},
   "source": [
    "### 自省\n",
    "\n",
    "- [`callable`：检查对象是否可调用](callable.ipynb)\n",
    "- [`delattr`：删除对象的属性](delattr.ipynb)\n",
    "- [`dir`：列出对象的属性方法列表](dir.ipynb)\n",
    "- [`getattr`：获取对象的属性](getattr.ipynb)\n",
    "- [`globals`：返回描述当前全局符号表的字典](globals.ipynb)\n",
    "- [`hasattr`：判断对象是否包含指定特性](hasattr.ipynb)\n",
    "- [`id`：返回对象的唯一标识](id.ipynb)\n",
    "- [`isinstance`：判断对象是否是指定类的实例](isinstance.ipynb)\n",
    "- [`issubclass`：判断是否是子类](issubclass.ipynb)\n",
    "- [`locals`：返回当前的变量列表](locals.ipynb)\n",
    "- [`setattr`：设置对象的属性值](setattr.ipynb)\n",
    "- [`type`：返回对象的类型](type.ipynb)\n",
    "- [`vars`：返回对象的变量](vars.ipynb)"
   ]
  },
  {
   "cell_type": "markdown",
   "metadata": {},
   "source": [
    "### 输入输出操作\n",
    "\n",
    "- [`input`](input.ipynb)\n",
    "- [`print`](print.ipynb)\n"
   ]
  },
  {
   "cell_type": "markdown",
   "metadata": {},
   "source": [
    "### 文件操作\n",
    "\n",
    "- [`open`](open.ipynb)\n"
   ]
  },
  {
   "cell_type": "markdown",
   "metadata": {},
   "source": [
    "### 装饰器函数\n",
    "\n",
    "- [`classmethod`](classmethod.ipynb)\n",
    "- [`property`](property.ipynb)\n",
    "- [`staticmethod`](staticmethod.ipynb)"
   ]
  },
  {
   "cell_type": "markdown",
   "metadata": {},
   "source": [
    "### 代码运行\n",
    "\n",
    "- [`compile`](compile.ipynb)\n",
    "- [`eval`](eval.ipynb)\n",
    "- [`exec`](exec.ipynb)\n"
   ]
  },
  {
   "cell_type": "markdown",
   "metadata": {},
   "source": [
    "### 迭代子\n",
    "\n",
    "- [`enumerate`](enumerate.ipynb)\n",
    "- [`reversed`](reversed.ipynb)\n",
    "- [`range`](range.ipynb)\n",
    "- [`sorted`](sorted.ipynb)\n",
    "- [`iter`](iter.ipynb)\n",
    "- [`next`](next.ipynb)\n"
   ]
  },
  {
   "cell_type": "markdown",
   "metadata": {},
   "source": [
    "### 输入输出操作\n",
    "\n"
   ]
  },
  {
   "cell_type": "markdown",
   "metadata": {},
   "source": [
    "### 帮助\n",
    "\n",
    "- [`hash`](hash.ipynb)\n",
    "- [`credits`](credits.ipynb)\n",
    "- [`license`](license.ipynb)\n"
   ]
  },
  {
   "cell_type": "markdown",
   "metadata": {},
   "source": [
    "### 其它\n",
    "\n",
    "- [`ascii`](ascii.ipynb)\n",
    "- [`display`](display.ipynb)\n",
    "- [`format`](format.ipynb)\n",
    "- [`get_ipython`](get_ipython.ipynb)\n",
    "- [`memoryview`](memoryview.ipynb)\n",
    "- [`repr`](repr.ipynb)\n",
    "- [`slice`](slice.ipynb)\n",
    "- [`super`](super.ipynb)"
   ]
  },
  {
   "cell_type": "code",
   "execution_count": 61,
   "metadata": {
    "slideshow": {
     "slide_type": "slide"
    }
   },
   "outputs": [],
   "source": [
    "def print_markdown_table(items, ncols=5):\n",
    "    \"\"\"return the markdown table body\"\"\"\n",
    "    template = '| [`{0}`]({0}.ipynb)'\n",
    "    template2 = '| [`{0}`]({0}.ipynb) |'\n",
    "    for i, item in enumerate(items):\n",
    "        if (i+1) % ncols != 0:\n",
    "            s = template.format(item)\n",
    "            print(s, end=' ')\n",
    "        else:\n",
    "            s = template2.format(item)\n",
    "            print(s)\n",
    "    if (i+1) % ncols != 0:\n",
    "        print('|')        "
   ]
  },
  {
   "cell_type": "code",
   "execution_count": 62,
   "metadata": {},
   "outputs": [],
   "source": [
    "def print_markdown_list(items):\n",
    "    \"\"\"return the markdown table body\"\"\"\n",
    "    template = '- [`{0}`]({0}.ipynb)'\n",
    "    for i, item in enumerate(items):\n",
    "        s = template.format(item)\n",
    "        print(s)"
   ]
  },
  {
   "cell_type": "code",
   "execution_count": 92,
   "metadata": {
    "slideshow": {
     "slide_type": "slide"
    }
   },
   "outputs": [
    {
     "name": "stdout",
     "output_type": "stream",
     "text": [
      "| [`abs`](abs.ipynb) | [`all`](all.ipynb) | [`any`](any.ipynb) | [`ascii`](ascii.ipynb) | [`bin`](bin.ipynb) |\n",
      "| [`bool`](bool.ipynb) | [`bytearray`](bytearray.ipynb) | [`bytes`](bytes.ipynb) | [`callable`](callable.ipynb) | [`chr`](chr.ipynb) |\n",
      "| [`classmethod`](classmethod.ipynb) | [`compile`](compile.ipynb) | [`complex`](complex.ipynb) | [`delattr`](delattr.ipynb) | [`dict`](dict.ipynb) |\n",
      "| [`dir`](dir.ipynb) | [`divmod`](divmod.ipynb) | [`enumerate`](enumerate.ipynb) | [`eval`](eval.ipynb) | [`exec`](exec.ipynb) |\n",
      "| [`filter`](filter.ipynb) | [`float`](float.ipynb) | [`format`](format.ipynb) | [`frozenset`](frozenset.ipynb) | [`getattr`](getattr.ipynb) |\n",
      "| [`globals`](globals.ipynb) | [`hasattr`](hasattr.ipynb) | [`hash`](hash.ipynb) | [`help`](help.ipynb) | [`hex`](hex.ipynb) |\n",
      "| [`id`](id.ipynb) | [`input`](input.ipynb) | [`int`](int.ipynb) | [`isinstance`](isinstance.ipynb) | [`issubclass`](issubclass.ipynb) |\n",
      "| [`iter`](iter.ipynb) | [`len`](len.ipynb) | [`list`](list.ipynb) | [`locals`](locals.ipynb) | [`map`](map.ipynb) |\n",
      "| [`max`](max.ipynb) | [`memoryview`](memoryview.ipynb) | [`min`](min.ipynb) | [`next`](next.ipynb) | [`object`](object.ipynb) |\n",
      "| [`oct`](oct.ipynb) | [`open`](open.ipynb) | [`ord`](ord.ipynb) | [`pow`](pow.ipynb) | [`print`](print.ipynb) |\n",
      "| [`property`](property.ipynb) | [`range`](range.ipynb) | [`repr`](repr.ipynb) | [`reversed`](reversed.ipynb) | [`round`](round.ipynb) |\n",
      "| [`set`](set.ipynb) | [`setattr`](setattr.ipynb) | [`slice`](slice.ipynb) | [`sorted`](sorted.ipynb) | [`staticmethod`](staticmethod.ipynb) |\n",
      "| [`str`](str.ipynb) | [`sum`](sum.ipynb) | [`super`](super.ipynb) | [`tuple`](tuple.ipynb) | [`type`](type.ipynb) |\n",
      "| [`vars`](vars.ipynb) | [`zip`](zip.ipynb) | [`__import__`](__import__.ipynb) |\n"
     ]
    }
   ],
   "source": [
    "# builtins_function.append('__import__')\n",
    "print_markdown_table(builtins_function, ncols=5)"
   ]
  },
  {
   "cell_type": "code",
   "execution_count": 86,
   "metadata": {},
   "outputs": [
    {
     "name": "stdout",
     "output_type": "stream",
     "text": [
      "- [`abs`](abs.ipynb)\n",
      "- [`all`](all.ipynb)\n",
      "- [`any`](any.ipynb)\n",
      "- [`ascii`](ascii.ipynb)\n",
      "- [`bin`](bin.ipynb)\n",
      "- [`bool`](bool.ipynb)\n",
      "- [`bytearray`](bytearray.ipynb)\n",
      "- [`bytes`](bytes.ipynb)\n",
      "- [`callable`](callable.ipynb)\n",
      "- [`chr`](chr.ipynb)\n",
      "- [`classmethod`](classmethod.ipynb)\n",
      "- [`compile`](compile.ipynb)\n",
      "- [`complex`](complex.ipynb)\n",
      "- [`delattr`](delattr.ipynb)\n",
      "- [`dict`](dict.ipynb)\n",
      "- [`dir`](dir.ipynb)\n",
      "- [`divmod`](divmod.ipynb)\n",
      "- [`enumerate`](enumerate.ipynb)\n",
      "- [`eval`](eval.ipynb)\n",
      "- [`exec`](exec.ipynb)\n",
      "- [`filter`](filter.ipynb)\n",
      "- [`float`](float.ipynb)\n",
      "- [`format`](format.ipynb)\n",
      "- [`frozenset`](frozenset.ipynb)\n",
      "- [`getattr`](getattr.ipynb)\n",
      "- [`globals`](globals.ipynb)\n",
      "- [`hasattr`](hasattr.ipynb)\n",
      "- [`hash`](hash.ipynb)\n",
      "- [`hex`](hex.ipynb)\n",
      "- [`id`](id.ipynb)\n",
      "- [`input`](input.ipynb)\n",
      "- [`int`](int.ipynb)\n",
      "- [`isinstance`](isinstance.ipynb)\n",
      "- [`issubclass`](issubclass.ipynb)\n",
      "- [`iter`](iter.ipynb)\n",
      "- [`len`](len.ipynb)\n",
      "- [`list`](list.ipynb)\n",
      "- [`locals`](locals.ipynb)\n",
      "- [`map`](map.ipynb)\n",
      "- [`max`](max.ipynb)\n",
      "- [`memoryview`](memoryview.ipynb)\n",
      "- [`min`](min.ipynb)\n",
      "- [`next`](next.ipynb)\n",
      "- [`object`](object.ipynb)\n",
      "- [`oct`](oct.ipynb)\n",
      "- [`open`](open.ipynb)\n",
      "- [`ord`](ord.ipynb)\n",
      "- [`pow`](pow.ipynb)\n",
      "- [`print`](print.ipynb)\n",
      "- [`property`](property.ipynb)\n",
      "- [`range`](range.ipynb)\n",
      "- [`repr`](repr.ipynb)\n",
      "- [`reversed`](reversed.ipynb)\n",
      "- [`round`](round.ipynb)\n",
      "- [`set`](set.ipynb)\n",
      "- [`setattr`](setattr.ipynb)\n",
      "- [`slice`](slice.ipynb)\n",
      "- [`sorted`](sorted.ipynb)\n",
      "- [`staticmethod`](staticmethod.ipynb)\n",
      "- [`str`](str.ipynb)\n",
      "- [`sum`](sum.ipynb)\n",
      "- [`super`](super.ipynb)\n",
      "- [`tuple`](tuple.ipynb)\n",
      "- [`type`](type.ipynb)\n",
      "- [`vars`](vars.ipynb)\n",
      "- [`zip`](zip.ipynb)\n"
     ]
    }
   ],
   "source": [
    "print_markdown_list(builtins_function)"
   ]
  },
  {
   "cell_type": "code",
   "execution_count": 83,
   "metadata": {},
   "outputs": [],
   "source": [
    "others = ['abs', 'dict', 'help', 'min', 'setattr', \n",
    "          'all', 'dir', 'hex', 'next', 'slice', \n",
    "          'any', 'divmod', 'id', 'object', 'sorted', \n",
    "          'ascii', 'enumerate', 'input', 'oct', 'staticmethod', \n",
    "          'bin', 'eval', 'int', 'open', 'str', \n",
    "          'bool', 'exec', 'isinstance', 'ord', 'sum', \n",
    "          'bytearray', 'filter', 'issubclass', 'pow', 'super', \n",
    "          'bytes', 'float', 'iter', 'print', 'tuple', \n",
    "          'callable', 'format', 'len', 'property', 'type', \n",
    "          'chr', 'frozenset', 'list', 'range', 'vars', \n",
    "          'classmethod', 'getattr', 'locals', 'repr', 'zip', \n",
    "          'compile', 'globals', 'map', 'reversed', '__import__', \n",
    "          'complex', 'hasattr', 'max', 'round', \n",
    "          'delattr', 'hash', 'memoryview', 'set']"
   ]
  },
  {
   "cell_type": "code",
   "execution_count": 85,
   "metadata": {},
   "outputs": [
    {
     "data": {
      "text/plain": [
       "{'__import__', 'help'}"
      ]
     },
     "execution_count": 85,
     "metadata": {},
     "output_type": "execute_result"
    }
   ],
   "source": [
    "set(others) ^ set(builtins_function)"
   ]
  }
 ],
 "metadata": {
  "celltoolbar": "Slideshow",
  "kernelspec": {
   "display_name": "Python 3",
   "language": "python",
   "name": "python3"
  },
  "language_info": {
   "codemirror_mode": {
    "name": "ipython",
    "version": 3
   },
   "file_extension": ".py",
   "mimetype": "text/x-python",
   "name": "python",
   "nbconvert_exporter": "python",
   "pygments_lexer": "ipython3",
   "version": "3.6.4"
  },
  "toc": {
   "base_numbering": 1,
   "nav_menu": {},
   "number_sections": true,
   "sideBar": true,
   "skip_h1_title": false,
   "title_cell": "Table of Contents",
   "title_sidebar": "Contents",
   "toc_cell": false,
   "toc_position": {},
   "toc_section_display": true,
   "toc_window_display": false
  }
 },
 "nbformat": 4,
 "nbformat_minor": 2
}
