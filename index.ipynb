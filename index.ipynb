{
 "cells": [
  {
   "cell_type": "markdown",
   "metadata": {
    "slideshow": {
     "slide_type": "slide"
    }
   },
   "source": [
    "# Python基础\n",
    "\n",
    "上海天文台Python培训---Python基础"
   ]
  },
  {
   "cell_type": "markdown",
   "metadata": {
    "slideshow": {
     "slide_type": "slide"
    }
   },
   "source": [
    "## 第1讲 构建Python环境\n",
    "\n",
    "- [前言](preface/index.ipynb)\n",
    "- [计算机系统](computer/index.ipynb)\n",
    "- [Python概述](overview/index.ipynb)\n",
    "- [Python环境与工具](pyenv/index.ipynb)"
   ]
  },
  {
   "cell_type": "markdown",
   "metadata": {
    "slideshow": {
     "slide_type": "slide"
    }
   },
   "source": [
    "## 第2讲 万物皆对象\n",
    "\n",
    "1. 介绍过程化与面向对象方法；\n",
    "2. 概述Python内置函数与内置数据类型；\n",
    "3. 表达式、变量与自省方法；\n",
    "4. Python中控制语句与缩进。\n",
    "\n",
    "- [万物皆对象](allobject/index.ipynb)"
   ]
  },
  {
   "cell_type": "markdown",
   "metadata": {
    "slideshow": {
     "slide_type": "slide"
    }
   },
   "source": [
    "## 第3讲 基本数据类型\n",
    "\n",
    "介绍Python基本数据类型及其使用：\n",
    "- 整数（int）、布尔数（bool）、浮点数（float）、复数（complex）；\n",
    "- 介绍Python基本数据类型字符串（str）及其使用。\n",
    "- 数学运算math库、随机库random；\n",
    "\n",
    "- [数值型数据类型](datatype/numberic.ipynb)\n",
    "- [字符串数据类型](datatype/string.ipynb) "
   ]
  },
  {
   "cell_type": "markdown",
   "metadata": {
    "slideshow": {
     "slide_type": "slide"
    }
   },
   "source": [
    "## 第4讲 基本结构类型\n",
    "\n",
    "1. 介绍Python基本数据类型列表、元组\n",
    "2. 介绍Python基本数据类型字典、集合。\n",
    "\n",
    "- [内置结构类型](structuretype/index.ipynb)"
   ]
  },
  {
   "cell_type": "markdown",
   "metadata": {
    "slideshow": {
     "slide_type": "slide"
    }
   },
   "source": [
    "## 第5讲 流程控制\n",
    "\n",
    "1. 介绍Python条件语句与循环语句；\n",
    "2. 介绍列表式推导方法。\n",
    "\n",
    "- [流程控制](flowcontrol/index.ipynb)"
   ]
  },
  {
   "cell_type": "markdown",
   "metadata": {
    "slideshow": {
     "slide_type": "slide"
    }
   },
   "source": [
    "## 第6讲  函数\n",
    "\n",
    "1. 介绍函数的定义和调用；\n",
    "2. 使用位置参数、关键字参数。\n",
    "3. 介绍函数式编程、掌握生成器。\n",
    "\n",
    "- [函数](function/index.ipynb)"
   ]
  },
  {
   "cell_type": "markdown",
   "metadata": {
    "slideshow": {
     "slide_type": "slide"
    }
   },
   "source": [
    "## 第7讲  类\n",
    "\n",
    "1. 通过实例介绍类的设计与定义，类的封装；了解类的属性和方法，以及私有属性和私有方法的差异。\n",
    "2. 介绍装饰器以及如何创建装饰器，探讨类的方法、静态方法。通过实例介绍类的继承和多态。\n",
    "\n",
    "- [类](class/index.ipynb)"
   ]
  },
  {
   "cell_type": "markdown",
   "metadata": {
    "slideshow": {
     "slide_type": "slide"
    }
   },
   "source": [
    "## 第8讲  异常\n",
    "\n",
    "介绍异常的概念，了解异常处理方法。通过实例学习捕获异常、异常传递和抛出异常方法。\n",
    "\n",
    "- [异常处理](except/index.ipynb)"
   ]
  },
  {
   "cell_type": "markdown",
   "metadata": {
    "slideshow": {
     "slide_type": "slide"
    }
   },
   "source": [
    "## 第9讲  文件操作\n",
    "\n",
    "介绍文本与二进制文件的读写。\n",
    "\n",
    "- [文件](file/index.ipynb)"
   ]
  },
  {
   "cell_type": "markdown",
   "metadata": {
    "slideshow": {
     "slide_type": "slide"
    }
   },
   "source": [
    "## 第10讲  模块和包\n",
    "\n",
    "1. 介绍Python模块的定义，静态引用以及动态引用，引用路径；介绍Python包的定义；\n",
    "2. 了解Python包的安装，卸载和制作。\n",
    "\n",
    "- [模块和包](module/index.ipynb)"
   ]
  },
  {
   "cell_type": "markdown",
   "metadata": {
    "slideshow": {
     "slide_type": "slide"
    }
   },
   "source": [
    "## 第11讲  标准库\n",
    "\n",
    "1. 概述Python标准库，简要介绍os、datetime、time等库；\n",
    "2. 重点介绍命令行程序相关的标准库argparse、configparser、logging库。\n",
    "\n",
    "- [标准库](builtinlib/index.ipynb)"
   ]
  },
  {
   "cell_type": "markdown",
   "metadata": {
    "slideshow": {
     "slide_type": "slide"
    }
   },
   "source": [
    "## 第12讲  脚手架与高级\n",
    "\n",
    "1. 使用cookiecutter创建Python项目。\n",
    "2. 介绍Pycharm集成开发环境。\n",
    "3. 介绍pdb调试库以及pycharm调试使用说明；\n",
    "4. 介绍Python测试工具unittest的使用说明；\n",
    "5. 课程总结及展望未来。"
   ]
  }
 ],
 "metadata": {
  "celltoolbar": "Slideshow",
  "kernelspec": {
   "display_name": "Python 3",
   "language": "python",
   "name": "python3"
  },
  "language_info": {
   "codemirror_mode": {
    "name": "ipython",
    "version": 3
   },
   "file_extension": ".py",
   "mimetype": "text/x-python",
   "name": "python",
   "nbconvert_exporter": "python",
   "pygments_lexer": "ipython3",
   "version": "3.6.4"
  },
  "toc": {
   "base_numbering": 1,
   "nav_menu": {},
   "number_sections": true,
   "sideBar": true,
   "skip_h1_title": false,
   "title_cell": "Table of Contents",
   "title_sidebar": "Contents",
   "toc_cell": false,
   "toc_position": {},
   "toc_section_display": true,
   "toc_window_display": false
  }
 },
 "nbformat": 4,
 "nbformat_minor": 2
}
